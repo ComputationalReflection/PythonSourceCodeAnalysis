{
 "cells": [
  {
   "cell_type": "markdown",
   "id": "ea78b212-ff32-40d1-92e1-9e09d847ae78",
   "metadata": {
    "pycharm": {
     "name": "#%% md\n"
    }
   },
   "source": [
    "# Programs\n",
    "\n",
    "Esta tabla contiene la información a nivel de programa. Es decir, contiene el porcentaje de clases definidas en el programa, el porcentaje de interfaces y el porcentaje de enumerados. También podemos encontrar otros dos campos que nos indican si el código está en el paquete por defecto o si hay código otros paquetes.  --> ABEL COMPLETAR <--"
   ]
  },
  {
   "cell_type": "markdown",
   "id": "b862cb2f-c1e0-4074-92c0-004dea379079",
   "metadata": {
    "pycharm": {
     "name": "#%% md\n"
    }
   },
   "source": [
    "## 1 - Obtencion de datos"
   ]
  },
  {
   "cell_type": "code",
   "id": "63793d9c-9473-44fa-bb1d-8e4b32fa1457",
   "metadata": {
    "pycharm": {
     "name": "#%%\n"
    },
    "tags": [],
    "ExecuteTime": {
     "end_time": "2024-07-03T11:24:46.755164Z",
     "start_time": "2024-07-03T11:24:44.665867Z"
    }
   },
   "source": [
    "import matplotlib.pyplot as plt\n",
    "from notebooks_utils import *\n",
    "\n",
    "full_table = get_data('programs')\n",
    "\n",
    "# Table name, features and target.\n",
    "TABLE_NAME = 'programs'\n",
    "TABLE_FEATURES = ['program__has_sub_dirs_with_code','program__has_packages','program__number_of_modules','program__number_of_sub_dirs_with_code','program__number_of_packages','program__class_defs_pct','program__function_defs_pct','program__enum_defs_pct','program__has_code_root_package','program__average_defs_per_module','program__expertise_level']\n",
    "TABLE_TARGET = 'program__expertise_level'\n",
    "\n",
    "# Load features and target.\n",
    "X, y = full_table[TABLE_FEATURES], full_table[[TABLE_TARGET]].iloc[:,0]\n",
    "\n",
    "# Print information about the loaded table.\n",
    "print(f'Features shape: {X.shape}')\n",
    "print(f'Target shape: {y.shape}')\n",
    "\n",
    "print(f'As we can see the downloaded data contains a total of {X.shape[0]} instances. Each of the instances corresponds to a program. For each program we have {X.shape[1]} attributes.')"
   ],
   "outputs": [
    {
     "name": "stdout",
     "output_type": "stream",
     "text": [
      "2024-07-03 13:24:46.750191 Data cache files found ...\n",
      "2024-07-03 13:24:46.751191 Data cache files successfully loaded!!\n",
      "Features shape: (1609, 11)\n",
      "Target shape: (1609,)\n",
      "As we can see the downloaded data contains a total of 1609 instances. Each of the instances corresponds to a program. For each program we have 11 attributes.\n"
     ]
    }
   ],
   "execution_count": 1
  },
  {
   "cell_type": "markdown",
   "id": "3ff70454-366f-4231-831d-723eeb63576b",
   "metadata": {},
   "source": "## 2 - Exploracion de datos"
  },
  {
   "cell_type": "code",
   "id": "9b526577-537d-44b0-951b-168278ce7a5c",
   "metadata": {
    "ExecuteTime": {
     "end_time": "2024-07-03T11:24:46.766526Z",
     "start_time": "2024-07-03T11:24:46.756170Z"
    }
   },
   "source": [
    "print(X.info())\n",
    "print('=============')\n",
    "print(y.info())"
   ],
   "outputs": [
    {
     "name": "stdout",
     "output_type": "stream",
     "text": [
      "<class 'pandas.core.frame.DataFrame'>\n",
      "RangeIndex: 1609 entries, 0 to 1608\n",
      "Data columns (total 11 columns):\n",
      " #   Column                                 Non-Null Count  Dtype  \n",
      "---  ------                                 --------------  -----  \n",
      " 0   program__has_sub_dirs_with_code        1609 non-null   bool   \n",
      " 1   program__has_packages                  1609 non-null   bool   \n",
      " 2   program__number_of_modules             1609 non-null   int64  \n",
      " 3   program__number_of_sub_dirs_with_code  1609 non-null   int64  \n",
      " 4   program__number_of_packages            1609 non-null   int64  \n",
      " 5   program__class_defs_pct                1609 non-null   float64\n",
      " 6   program__function_defs_pct             1609 non-null   float64\n",
      " 7   program__enum_defs_pct                 1609 non-null   float64\n",
      " 8   program__has_code_root_package         1609 non-null   bool   \n",
      " 9   program__average_defs_per_module       1609 non-null   float64\n",
      " 10  program__expertise_level               1609 non-null   object \n",
      "dtypes: bool(3), float64(4), int64(3), object(1)\n",
      "memory usage: 105.4+ KB\n",
      "None\n",
      "=============\n",
      "<class 'pandas.core.series.Series'>\n",
      "RangeIndex: 1609 entries, 0 to 1608\n",
      "Series name: program__expertise_level\n",
      "Non-Null Count  Dtype \n",
      "--------------  ----- \n",
      "1609 non-null   object\n",
      "dtypes: object(1)\n",
      "memory usage: 12.7+ KB\n",
      "None\n"
     ]
    }
   ],
   "execution_count": 2
  },
  {
   "cell_type": "markdown",
   "id": "cbf77cd4-9819-4da1-9405-44054d2290e1",
   "metadata": {},
   "source": "Cómo podemos ver la tabla está compuesta por ocho variables numéricas, tres variables boleanas y una de tipo objeto. La variable de tipo objeto es la variable objetivo, que contiene la información sobre el nivel de experiencia del programador."
  },
  {
   "cell_type": "markdown",
   "id": "bf53eef1e9c5c37d",
   "metadata": {
    "collapsed": false
   },
   "source": "### 2.1 - Equilibrado de clases"
  },
  {
   "cell_type": "code",
   "id": "61c1409f-9146-467e-bad9-b68774fdd903",
   "metadata": {
    "ExecuteTime": {
     "end_time": "2024-07-03T11:24:46.772728Z",
     "start_time": "2024-07-03T11:24:46.767531Z"
    }
   },
   "source": [
    "instances_for_class_low = len(full_table[full_table[TABLE_TARGET] == \"BEGINNER\"])\n",
    "instances_for_class_high = len(full_table[full_table[TABLE_TARGET] == \"EXPERT\"])\n",
    "\n",
    "print(f\"The dataset contains {instances_for_class_low/len(full_table)*100:.4}% instances for BEGINNER class and {instances_for_class_high/len(full_table)*100:.4}% for EXPERT class.\")"
   ],
   "outputs": [
    {
     "name": "stdout",
     "output_type": "stream",
     "text": [
      "The dataset contains 98.88% instances for BEGINNER class and 1.119% for EXPERT class.\n"
     ]
    }
   ],
   "execution_count": 3
  },
  {
   "cell_type": "markdown",
   "id": "31d297c18f157194",
   "metadata": {
    "collapsed": false
   },
   "source": [
    "### 2.2 - Valores Nulos\n",
    "Miramos si alguna de las variables que contiene la tabla contiene algún valor que sea nulo."
   ]
  },
  {
   "cell_type": "code",
   "id": "afeed2ce9080cbbb",
   "metadata": {
    "collapsed": false,
    "ExecuteTime": {
     "end_time": "2024-07-03T11:24:46.780375Z",
     "start_time": "2024-07-03T11:24:46.773733Z"
    }
   },
   "source": [
    "X.isnull().sum()"
   ],
   "outputs": [
    {
     "data": {
      "text/plain": [
       "program__has_sub_dirs_with_code          0\n",
       "program__has_packages                    0\n",
       "program__number_of_modules               0\n",
       "program__number_of_sub_dirs_with_code    0\n",
       "program__number_of_packages              0\n",
       "program__class_defs_pct                  0\n",
       "program__function_defs_pct               0\n",
       "program__enum_defs_pct                   0\n",
       "program__has_code_root_package           0\n",
       "program__average_defs_per_module         0\n",
       "program__expertise_level                 0\n",
       "dtype: int64"
      ]
     },
     "execution_count": 4,
     "metadata": {},
     "output_type": "execute_result"
    }
   ],
   "execution_count": 4
  },
  {
   "cell_type": "markdown",
   "id": "1a8e02c0c52edff9",
   "metadata": {
    "collapsed": false
   },
   "source": "Aunque una columna no contenga valores nulos podría ser que contenga valores vacíos."
  },
  {
   "cell_type": "code",
   "id": "73b9dc2f9efc111a",
   "metadata": {
    "collapsed": false,
    "ExecuteTime": {
     "end_time": "2024-07-03T11:24:46.789178Z",
     "start_time": "2024-07-03T11:24:46.782396Z"
    }
   },
   "source": [
    "print_empty_cols(X)"
   ],
   "outputs": [
    {
     "name": "stdout",
     "output_type": "stream",
     "text": [
      "program__has_sub_dirs_with_code\n",
      "-------------------------------\n",
      "0 instancias no tienen un valor para la columna program__has_sub_dirs_with_code\n",
      "\n",
      "\n",
      "program__has_packages\n",
      "---------------------\n",
      "0 instancias no tienen un valor para la columna program__has_packages\n",
      "\n",
      "\n",
      "program__number_of_modules\n",
      "--------------------------\n",
      "0 instancias no tienen un valor para la columna program__number_of_modules\n",
      "\n",
      "\n",
      "program__number_of_sub_dirs_with_code\n",
      "-------------------------------------\n",
      "0 instancias no tienen un valor para la columna program__number_of_sub_dirs_with_code\n",
      "\n",
      "\n",
      "program__number_of_packages\n",
      "---------------------------\n",
      "0 instancias no tienen un valor para la columna program__number_of_packages\n",
      "\n",
      "\n",
      "program__class_defs_pct\n",
      "-----------------------\n",
      "0 instancias no tienen un valor para la columna program__class_defs_pct\n",
      "\n",
      "\n",
      "program__function_defs_pct\n",
      "--------------------------\n",
      "0 instancias no tienen un valor para la columna program__function_defs_pct\n",
      "\n",
      "\n",
      "program__enum_defs_pct\n",
      "----------------------\n",
      "0 instancias no tienen un valor para la columna program__enum_defs_pct\n",
      "\n",
      "\n",
      "program__has_code_root_package\n",
      "------------------------------\n",
      "0 instancias no tienen un valor para la columna program__has_code_root_package\n",
      "\n",
      "\n",
      "program__average_defs_per_module\n",
      "--------------------------------\n",
      "0 instancias no tienen un valor para la columna program__average_defs_per_module\n",
      "\n",
      "\n",
      "program__expertise_level\n",
      "------------------------\n",
      "0 instancias no tienen un valor para la columna program__expertise_level\n",
      "\n",
      "\n"
     ]
    }
   ],
   "execution_count": 5
  },
  {
   "cell_type": "markdown",
   "id": "105774ea722bf467",
   "metadata": {
    "collapsed": false
   },
   "source": "### 2.3 - Describimos los valores de las variables de la tabla."
  },
  {
   "cell_type": "code",
   "id": "d3be1e5cec1af46c",
   "metadata": {
    "collapsed": false,
    "ExecuteTime": {
     "end_time": "2024-07-03T11:24:46.814451Z",
     "start_time": "2024-07-03T11:24:46.790184Z"
    }
   },
   "source": [
    "np.transpose(X.describe(percentiles=[.25, .50, .75], include = ['object', 'float', 'bool', 'int']))"
   ],
   "outputs": [
    {
     "data": {
      "text/plain": [
       "                                        count unique       top  freq  \\\n",
       "program__has_sub_dirs_with_code          1609      2     False  1558   \n",
       "program__has_packages                    1609      2     False  1586   \n",
       "program__number_of_modules             1609.0    NaN       NaN   NaN   \n",
       "program__number_of_sub_dirs_with_code  1609.0    NaN       NaN   NaN   \n",
       "program__number_of_packages            1609.0    NaN       NaN   NaN   \n",
       "program__class_defs_pct                1609.0    NaN       NaN   NaN   \n",
       "program__function_defs_pct             1609.0    NaN       NaN   NaN   \n",
       "program__enum_defs_pct                 1609.0    NaN       NaN   NaN   \n",
       "program__has_code_root_package           1609      2      True  1604   \n",
       "program__average_defs_per_module       1609.0    NaN       NaN   NaN   \n",
       "program__expertise_level                 1609      2  BEGINNER  1591   \n",
       "\n",
       "                                            mean        std  min  25%  \\\n",
       "program__has_sub_dirs_with_code              NaN        NaN  NaN  NaN   \n",
       "program__has_packages                        NaN        NaN  NaN  NaN   \n",
       "program__number_of_modules             11.327533   125.3427  1.0  1.0   \n",
       "program__number_of_sub_dirs_with_code   0.394655   6.890508  0.0  0.0   \n",
       "program__number_of_packages             1.646986  34.325279  0.0  0.0   \n",
       "program__class_defs_pct                 0.011369   0.078807  0.0  0.0   \n",
       "program__function_defs_pct              0.650481    0.47164  0.0  0.0   \n",
       "program__enum_defs_pct                  0.000052   0.000781  0.0  0.0   \n",
       "program__has_code_root_package               NaN        NaN  NaN  NaN   \n",
       "program__average_defs_per_module         1.80408   2.950492  0.0  0.0   \n",
       "program__expertise_level                     NaN        NaN  NaN  NaN   \n",
       "\n",
       "                                            50%       75%       max  \n",
       "program__has_sub_dirs_with_code             NaN       NaN       NaN  \n",
       "program__has_packages                       NaN       NaN       NaN  \n",
       "program__number_of_modules                  3.0       3.0    3294.0  \n",
       "program__number_of_sub_dirs_with_code       0.0       0.0     238.0  \n",
       "program__number_of_packages                 0.0       0.0    1297.0  \n",
       "program__class_defs_pct                     0.0       0.0       1.0  \n",
       "program__function_defs_pct                  1.0       1.0       1.0  \n",
       "program__enum_defs_pct                      0.0       0.0  0.019078  \n",
       "program__has_code_root_package              NaN       NaN       NaN  \n",
       "program__average_defs_per_module       0.666667  2.142857      26.0  \n",
       "program__expertise_level                    NaN       NaN       NaN  "
      ],
      "text/html": [
       "<div>\n",
       "<style scoped>\n",
       "    .dataframe tbody tr th:only-of-type {\n",
       "        vertical-align: middle;\n",
       "    }\n",
       "\n",
       "    .dataframe tbody tr th {\n",
       "        vertical-align: top;\n",
       "    }\n",
       "\n",
       "    .dataframe thead th {\n",
       "        text-align: right;\n",
       "    }\n",
       "</style>\n",
       "<table border=\"1\" class=\"dataframe\">\n",
       "  <thead>\n",
       "    <tr style=\"text-align: right;\">\n",
       "      <th></th>\n",
       "      <th>count</th>\n",
       "      <th>unique</th>\n",
       "      <th>top</th>\n",
       "      <th>freq</th>\n",
       "      <th>mean</th>\n",
       "      <th>std</th>\n",
       "      <th>min</th>\n",
       "      <th>25%</th>\n",
       "      <th>50%</th>\n",
       "      <th>75%</th>\n",
       "      <th>max</th>\n",
       "    </tr>\n",
       "  </thead>\n",
       "  <tbody>\n",
       "    <tr>\n",
       "      <th>program__has_sub_dirs_with_code</th>\n",
       "      <td>1609</td>\n",
       "      <td>2</td>\n",
       "      <td>False</td>\n",
       "      <td>1558</td>\n",
       "      <td>NaN</td>\n",
       "      <td>NaN</td>\n",
       "      <td>NaN</td>\n",
       "      <td>NaN</td>\n",
       "      <td>NaN</td>\n",
       "      <td>NaN</td>\n",
       "      <td>NaN</td>\n",
       "    </tr>\n",
       "    <tr>\n",
       "      <th>program__has_packages</th>\n",
       "      <td>1609</td>\n",
       "      <td>2</td>\n",
       "      <td>False</td>\n",
       "      <td>1586</td>\n",
       "      <td>NaN</td>\n",
       "      <td>NaN</td>\n",
       "      <td>NaN</td>\n",
       "      <td>NaN</td>\n",
       "      <td>NaN</td>\n",
       "      <td>NaN</td>\n",
       "      <td>NaN</td>\n",
       "    </tr>\n",
       "    <tr>\n",
       "      <th>program__number_of_modules</th>\n",
       "      <td>1609.0</td>\n",
       "      <td>NaN</td>\n",
       "      <td>NaN</td>\n",
       "      <td>NaN</td>\n",
       "      <td>11.327533</td>\n",
       "      <td>125.3427</td>\n",
       "      <td>1.0</td>\n",
       "      <td>1.0</td>\n",
       "      <td>3.0</td>\n",
       "      <td>3.0</td>\n",
       "      <td>3294.0</td>\n",
       "    </tr>\n",
       "    <tr>\n",
       "      <th>program__number_of_sub_dirs_with_code</th>\n",
       "      <td>1609.0</td>\n",
       "      <td>NaN</td>\n",
       "      <td>NaN</td>\n",
       "      <td>NaN</td>\n",
       "      <td>0.394655</td>\n",
       "      <td>6.890508</td>\n",
       "      <td>0.0</td>\n",
       "      <td>0.0</td>\n",
       "      <td>0.0</td>\n",
       "      <td>0.0</td>\n",
       "      <td>238.0</td>\n",
       "    </tr>\n",
       "    <tr>\n",
       "      <th>program__number_of_packages</th>\n",
       "      <td>1609.0</td>\n",
       "      <td>NaN</td>\n",
       "      <td>NaN</td>\n",
       "      <td>NaN</td>\n",
       "      <td>1.646986</td>\n",
       "      <td>34.325279</td>\n",
       "      <td>0.0</td>\n",
       "      <td>0.0</td>\n",
       "      <td>0.0</td>\n",
       "      <td>0.0</td>\n",
       "      <td>1297.0</td>\n",
       "    </tr>\n",
       "    <tr>\n",
       "      <th>program__class_defs_pct</th>\n",
       "      <td>1609.0</td>\n",
       "      <td>NaN</td>\n",
       "      <td>NaN</td>\n",
       "      <td>NaN</td>\n",
       "      <td>0.011369</td>\n",
       "      <td>0.078807</td>\n",
       "      <td>0.0</td>\n",
       "      <td>0.0</td>\n",
       "      <td>0.0</td>\n",
       "      <td>0.0</td>\n",
       "      <td>1.0</td>\n",
       "    </tr>\n",
       "    <tr>\n",
       "      <th>program__function_defs_pct</th>\n",
       "      <td>1609.0</td>\n",
       "      <td>NaN</td>\n",
       "      <td>NaN</td>\n",
       "      <td>NaN</td>\n",
       "      <td>0.650481</td>\n",
       "      <td>0.47164</td>\n",
       "      <td>0.0</td>\n",
       "      <td>0.0</td>\n",
       "      <td>1.0</td>\n",
       "      <td>1.0</td>\n",
       "      <td>1.0</td>\n",
       "    </tr>\n",
       "    <tr>\n",
       "      <th>program__enum_defs_pct</th>\n",
       "      <td>1609.0</td>\n",
       "      <td>NaN</td>\n",
       "      <td>NaN</td>\n",
       "      <td>NaN</td>\n",
       "      <td>0.000052</td>\n",
       "      <td>0.000781</td>\n",
       "      <td>0.0</td>\n",
       "      <td>0.0</td>\n",
       "      <td>0.0</td>\n",
       "      <td>0.0</td>\n",
       "      <td>0.019078</td>\n",
       "    </tr>\n",
       "    <tr>\n",
       "      <th>program__has_code_root_package</th>\n",
       "      <td>1609</td>\n",
       "      <td>2</td>\n",
       "      <td>True</td>\n",
       "      <td>1604</td>\n",
       "      <td>NaN</td>\n",
       "      <td>NaN</td>\n",
       "      <td>NaN</td>\n",
       "      <td>NaN</td>\n",
       "      <td>NaN</td>\n",
       "      <td>NaN</td>\n",
       "      <td>NaN</td>\n",
       "    </tr>\n",
       "    <tr>\n",
       "      <th>program__average_defs_per_module</th>\n",
       "      <td>1609.0</td>\n",
       "      <td>NaN</td>\n",
       "      <td>NaN</td>\n",
       "      <td>NaN</td>\n",
       "      <td>1.80408</td>\n",
       "      <td>2.950492</td>\n",
       "      <td>0.0</td>\n",
       "      <td>0.0</td>\n",
       "      <td>0.666667</td>\n",
       "      <td>2.142857</td>\n",
       "      <td>26.0</td>\n",
       "    </tr>\n",
       "    <tr>\n",
       "      <th>program__expertise_level</th>\n",
       "      <td>1609</td>\n",
       "      <td>2</td>\n",
       "      <td>BEGINNER</td>\n",
       "      <td>1591</td>\n",
       "      <td>NaN</td>\n",
       "      <td>NaN</td>\n",
       "      <td>NaN</td>\n",
       "      <td>NaN</td>\n",
       "      <td>NaN</td>\n",
       "      <td>NaN</td>\n",
       "      <td>NaN</td>\n",
       "    </tr>\n",
       "  </tbody>\n",
       "</table>\n",
       "</div>"
      ]
     },
     "execution_count": 6,
     "metadata": {},
     "output_type": "execute_result"
    }
   ],
   "execution_count": 6
  },
  {
   "cell_type": "markdown",
   "id": "b9f859b03e8083f1",
   "metadata": {
    "collapsed": false
   },
   "source": "Vamos a discretizar las variables numericas, agrupando conjuntos de valores en categorias, para hacer un análisis de los datos. Para cada variable es necesaario ver la distribucion de lo valores para hacer los bins (categorias)."
  },
  {
   "cell_type": "code",
   "id": "b7cf5fae0fd0e5ef",
   "metadata": {
    "collapsed": false,
    "ExecuteTime": {
     "end_time": "2024-07-03T11:24:46.889513Z",
     "start_time": "2024-07-03T11:24:46.815457Z"
    }
   },
   "source": [
    "# DISCRETIZATION\n",
    "X_copy = X.copy()\n",
    "\n",
    "discretized_columns = {\n",
    "    \"program__class_defs_pct\": [(0.0, 0.0), (0.0, inf)],  # min: 0.0 max: 1.0\n",
    "    \"program__function_defs_pct\": [(0.0, 0.0),(0.0, 1.0), (1.0, 1.0)],  # min: 0.0 max: 1.0\n",
    "    \"program__enum_defs_pct\": [(0.0, 0.0), (0.0, inf)],  # min: 0.0 max: 0.19\n",
    "    \"program__number_of_modules\": [(1, 1), (2,2), (3,3), (4,inf)],  # min: 1 max: 3294\n",
    "    \"program__number_of_sub_dirs_with_code\": [(0, 0), (0, inf)], # min: 0 max: 238\n",
    "    \"program__number_of_packages\": [(0, 0), (0, inf)], # min: 0 max: 1297\n",
    "    \"program__average_defs_per_module\": [(0, 0), (0, 1), (1, 3), (3, inf)], # min: 0 max: 26    \n",
    "}\n",
    "\n",
    "discretize_columns(X_copy, discretized_columns)\n",
    "    \n",
    "# SINGLE FEATURE\n",
    "print(\"--- SINGLE FEATURE ---\")\n",
    "print(get_statistics(X_copy, ['program__has_sub_dirs_with_code'], 10))\n",
    "print(get_statistics(X_copy, ['program__has_packages'], 10))\n",
    "print(get_statistics(X_copy, ['program__has_code_root_package'], 10))\n",
    "print(get_statistics(X_copy, ['program__class_defs_pct'], 10))\n",
    "print(get_statistics(X_copy, ['program__function_defs_pct'], 10))\n",
    "print(get_statistics(X_copy, ['program__enum_defs_pct'], 10))\n",
    "print(get_statistics(X_copy, ['program__number_of_sub_dirs_with_code'], 10))\n",
    "print(get_statistics(X_copy, ['program__number_of_modules'], 10))\n",
    "print(get_statistics(X_copy, ['program__number_of_packages'], 10))\n",
    "print(get_statistics(X_copy, ['program__average_defs_per_module'], 10))\n",
    "\n",
    "# 2 FEATURES\n",
    "print(\"--- TWO FEATURES ---\")\n",
    "print(get_statistics(X_copy, ['program__has_sub_dirs_with_code', 'program__has_packages'], 10))\n",
    "print(get_statistics(X_copy, ['program__has_sub_dirs_with_code', 'program__has_code_root_package'], 10))\n",
    "print(get_statistics(X_copy, ['program__has_packages', 'program__has_code_root_package'], 10))\n",
    "print(get_statistics(X_copy, ['program__class_defs_pct', 'program__function_defs_pct'], 10))\n",
    "print(get_statistics(X_copy, ['program__class_defs_pct', 'program__enum_defs_pct'], 10))\n",
    "print(get_statistics(X_copy, ['program__function_defs_pct', 'program__enum_defs_pct'], 10))\n",
    "print(get_statistics(X_copy, ['program__number_of_sub_dirs_with_code', 'program__number_of_modules'], 10))\n",
    "print(get_statistics(X_copy, ['program__number_of_sub_dirs_with_code', 'program__number_of_packages'], 10))\n",
    "print(get_statistics(X_copy, ['program__number_of_modules', 'program__number_of_packages'], 10))\n",
    "\n",
    "# 3 FEATURES\n",
    "print(\"--- THREE FEATURES ---\")\n",
    "print(get_statistics(X_copy, ['program__has_sub_dirs_with_code', 'program__has_packages', 'program__has_code_root_package'], 10))\n",
    "print(get_statistics(X_copy, ['program__class_defs_pct', 'program__function_defs_pct', 'program__enum_defs_pct'], 10))\n",
    "print(get_statistics(X_copy, ['program__number_of_sub_dirs_with_code', 'program__number_of_modules', 'program__number_of_packages'], 10))"
   ],
   "outputs": [
    {
     "name": "stdout",
     "output_type": "stream",
     "text": [
      "--- SINGLE FEATURE ---\n",
      " program__has_sub_dirs_with_code  count  percentage\n",
      "                           False   1558   96.830329\n",
      "                            True     51    3.169671\n",
      "\n",
      " program__has_packages  count  percentage\n",
      "                 False   1586   98.570541\n",
      "                  True     23    1.429459\n",
      "\n",
      " program__has_code_root_package  count  percentage\n",
      "                           True   1604   99.689248\n",
      "                          False      5    0.310752\n",
      "\n",
      "program__class_defs_pct  count  percentage\n",
      "              [0.0_0.0]   1560    96.95463\n",
      "              [0.0_inf]     49     3.04537\n",
      "\n",
      "program__function_defs_pct  count  percentage\n",
      "                 [1.0_1.0]   1016   63.144810\n",
      "                 [0.0_0.0]    547   33.996271\n",
      "                 [0.0_1.0)     46    2.858919\n",
      "\n",
      "program__enum_defs_pct  count  percentage\n",
      "             [0.0_0.0]   1597   99.254195\n",
      "             [0.0_inf]     12    0.745805\n",
      "\n",
      "program__number_of_sub_dirs_with_code  count  percentage\n",
      "                                [0_0]   1558   96.830329\n",
      "                              [0_inf]     51    3.169671\n",
      "\n",
      "program__number_of_modules  count  percentage\n",
      "                     [3_3]    609   37.849596\n",
      "                     [1_1]    573   35.612181\n",
      "                   [4_inf]    226   14.045991\n",
      "                     [2_2]    201   12.492231\n",
      "\n",
      "program__number_of_packages  count  percentage\n",
      "                      [0_0]   1586   98.570541\n",
      "                    [0_inf]     23    1.429459\n",
      "\n",
      "program__average_defs_per_module  count  percentage\n",
      "                           [0_0]    544   33.809820\n",
      "                           [1_3)    463   28.775637\n",
      "                         [3_inf]    325   20.198881\n",
      "                           [0_1)    277   17.215662\n",
      "\n",
      "--- TWO FEATURES ---\n",
      " program__has_sub_dirs_with_code  program__has_packages  count  percentage\n",
      "                           False                  False   1557   96.768179\n",
      "                            True                  False     29    1.802362\n",
      "                            True                   True     22    1.367309\n",
      "                           False                   True      1    0.062150\n",
      "\n",
      " program__has_sub_dirs_with_code  program__has_code_root_package  count  percentage\n",
      "                           False                            True   1558   96.830329\n",
      "                            True                            True     46    2.858919\n",
      "                            True                           False      5    0.310752\n",
      "\n",
      " program__has_packages  program__has_code_root_package  count  percentage\n",
      "                 False                            True   1586   98.570541\n",
      "                  True                            True     18    1.118707\n",
      "                  True                           False      5    0.310752\n",
      "\n",
      "program__class_defs_pct program__function_defs_pct  count  percentage\n",
      "              [0.0_0.0]                  [1.0_1.0]   1016   63.144810\n",
      "              [0.0_0.0]                  [0.0_0.0]    544   33.809820\n",
      "              [0.0_inf]                  [0.0_1.0)     46    2.858919\n",
      "              [0.0_inf]                  [0.0_0.0]      3    0.186451\n",
      "\n",
      "program__class_defs_pct program__enum_defs_pct  count  percentage\n",
      "              [0.0_0.0]              [0.0_0.0]   1560   96.954630\n",
      "              [0.0_inf]              [0.0_0.0]     37    2.299565\n",
      "              [0.0_inf]              [0.0_inf]     12    0.745805\n",
      "\n",
      "program__function_defs_pct program__enum_defs_pct  count  percentage\n",
      "                 [1.0_1.0]              [0.0_0.0]   1016   63.144810\n",
      "                 [0.0_0.0]              [0.0_0.0]    547   33.996271\n",
      "                 [0.0_1.0)              [0.0_0.0]     34    2.113114\n",
      "                 [0.0_1.0)              [0.0_inf]     12    0.745805\n",
      "\n",
      "program__number_of_sub_dirs_with_code program__number_of_modules  count  percentage\n",
      "                                [0_0]                      [3_3]    600   37.290242\n",
      "                                [0_0]                      [1_1]    573   35.612181\n",
      "                                [0_0]                      [2_2]    195   12.119329\n",
      "                                [0_0]                    [4_inf]    190   11.808577\n",
      "                              [0_inf]                    [4_inf]     36    2.237415\n",
      "                              [0_inf]                      [3_3]      9    0.559354\n",
      "                              [0_inf]                      [2_2]      6    0.372902\n",
      "\n",
      "program__number_of_sub_dirs_with_code program__number_of_packages  count  percentage\n",
      "                                [0_0]                       [0_0]   1557   96.768179\n",
      "                              [0_inf]                       [0_0]     29    1.802362\n",
      "                              [0_inf]                     [0_inf]     22    1.367309\n",
      "                                [0_0]                     [0_inf]      1    0.062150\n",
      "\n",
      "program__number_of_modules program__number_of_packages  count  percentage\n",
      "                     [3_3]                       [0_0]    609   37.849596\n",
      "                     [1_1]                       [0_0]    573   35.612181\n",
      "                   [4_inf]                       [0_0]    203   12.616532\n",
      "                     [2_2]                       [0_0]    201   12.492231\n",
      "                   [4_inf]                     [0_inf]     23    1.429459\n",
      "\n",
      "--- THREE FEATURES ---\n",
      " program__has_sub_dirs_with_code  program__has_packages  program__has_code_root_package  count  percentage\n",
      "                           False                  False                            True   1557   96.768179\n",
      "                            True                  False                            True     29    1.802362\n",
      "                            True                   True                            True     17    1.056557\n",
      "                            True                   True                           False      5    0.310752\n",
      "                           False                   True                            True      1    0.062150\n",
      "\n",
      "program__class_defs_pct program__function_defs_pct program__enum_defs_pct  count  percentage\n",
      "              [0.0_0.0]                  [1.0_1.0]              [0.0_0.0]   1016   63.144810\n",
      "              [0.0_0.0]                  [0.0_0.0]              [0.0_0.0]    544   33.809820\n",
      "              [0.0_inf]                  [0.0_1.0)              [0.0_0.0]     34    2.113114\n",
      "              [0.0_inf]                  [0.0_1.0)              [0.0_inf]     12    0.745805\n",
      "              [0.0_inf]                  [0.0_0.0]              [0.0_0.0]      3    0.186451\n",
      "\n",
      "program__number_of_sub_dirs_with_code program__number_of_modules program__number_of_packages  count  percentage\n",
      "                                [0_0]                      [3_3]                       [0_0]    600   37.290242\n",
      "                                [0_0]                      [1_1]                       [0_0]    573   35.612181\n",
      "                                [0_0]                      [2_2]                       [0_0]    195   12.119329\n",
      "                                [0_0]                    [4_inf]                       [0_0]    189   11.746426\n",
      "                              [0_inf]                    [4_inf]                     [0_inf]     22    1.367309\n",
      "                              [0_inf]                    [4_inf]                       [0_0]     14    0.870106\n",
      "                              [0_inf]                      [3_3]                       [0_0]      9    0.559354\n",
      "                              [0_inf]                      [2_2]                       [0_0]      6    0.372902\n",
      "                                [0_0]                    [4_inf]                     [0_inf]      1    0.062150\n",
      "\n"
     ]
    }
   ],
   "execution_count": 7
  },
  {
   "metadata": {},
   "cell_type": "markdown",
   "source": "IMPORTANTE: Hay 544 programas sin clases, funciones ni enums -> la asignatura de FI se divide en tres partes, sintaxis, sentencias de control y finalmente funciones. Es decir durante dos terceras partes no saben lo que son funciones. Ademas apenas usan clases en todo el curso.",
   "id": "cf06d4046dc7f02c"
  },
  {
   "cell_type": "code",
   "id": "1ca9a43e-6db6-44a7-aaab-65f00d1ea79e",
   "metadata": {
    "pycharm": {
     "name": "#%%\n"
    },
    "tags": [],
    "ExecuteTime": {
     "end_time": "2024-07-03T11:24:46.898315Z",
     "start_time": "2024-07-03T11:24:46.890518Z"
    }
   },
   "source": [
    "def normalize_datatypes(X:pd.DataFrame, y:pd.Series) -> (pd.DataFrame, pd.Series, [str]):\n",
    "    X = pd.get_dummies(X)\n",
    "    X = X.astype('float32')\n",
    "    y = y.apply(lambda value: 0 if value == \"BEGINNER\" else 1) # EXPERT will be 1 and BEGINNER will be 0.\n",
    "    y = y.astype('float32')\n",
    "    columns_names = X.columns.tolist()\n",
    "    return X, y, columns_names\n",
    "\n",
    "X, y, TABLE_FEATURES = normalize_datatypes(X, y)\n",
    "# Print information about the loaded table\n",
    "print(f'Features shape: {X.shape}')\n",
    "print(f'Target shape: {y.shape}')"
   ],
   "outputs": [
    {
     "name": "stdout",
     "output_type": "stream",
     "text": [
      "Features shape: (1609, 12)\n",
      "Target shape: (1609,)\n"
     ]
    }
   ],
   "execution_count": 8
  },
  {
   "cell_type": "markdown",
   "id": "e9fc6a7d9acd9a9e",
   "metadata": {
    "collapsed": false
   },
   "source": [
    "#### Muestra la matriz de correlación de pearson entre las variables de la tabla."
   ]
  },
  {
   "cell_type": "code",
   "id": "70af048034c80af1",
   "metadata": {
    "collapsed": false,
    "ExecuteTime": {
     "end_time": "2024-07-03T11:24:47.509821Z",
     "start_time": "2024-07-03T11:24:46.899321Z"
    }
   },
   "source": [
    "sns.heatmap(X.corr(), annot=True)"
   ],
   "outputs": [
    {
     "data": {
      "text/plain": [
       "<Axes: >"
      ]
     },
     "execution_count": 9,
     "metadata": {},
     "output_type": "execute_result"
    },
    {
     "data": {
      "text/plain": [
       "<Figure size 640x480 with 2 Axes>"
      ],
      "image/png": "[encoded data removed]"
     },
     "metadata": {},
     "output_type": "display_data"
    }
   ],
   "execution_count": 9
  },
  {
   "cell_type": "markdown",
   "id": "e17300eec123f56f",
   "metadata": {
    "collapsed": false
   },
   "source": [
    "### IMPORTANTE\n",
    "De la matriz anterior ya podemos sacar alguna conclusión que puede parecer obvia. Por ejemplo, la presencia de paquetes esta fuertemente relacionada con la experiencia del programador."
   ]
  },
  {
   "cell_type": "markdown",
   "id": "9a47cdd4cc2b3fae",
   "metadata": {
    "collapsed": false
   },
   "source": [
    "## 3 - Detección de valores atípicos (outliers)\n",
    "## Univariate\n",
    "## Analisis detallado de variables\n",
    "Para cada una de las 10 variable (3 booleanas, 4 porcentuales y 3 numericas) se hara un analisis detallado"
   ]
  },
  {
   "cell_type": "markdown",
   "source": [
    "### Variable has_sub_dirs_with_code (1/10)\n",
    "Esta variable es de tipo booleano y representa si el programa contiene algún subdirectorio con código."
   ],
   "metadata": {
    "collapsed": false
   },
   "id": "59c216b40cd37670"
  },
  {
   "cell_type": "code",
   "id": "1b756a3a68d1ff37",
   "metadata": {
    "collapsed": false,
    "ExecuteTime": {
     "end_time": "2024-07-03T11:24:47.625579Z",
     "start_time": "2024-07-03T11:24:47.510827Z"
    }
   },
   "source": [
    "plt.xticks([0, 1], ['False', 'True'])\n",
    "sns.histplot(X['program__has_sub_dirs_with_code'], discrete=True)"
   ],
   "outputs": [
    {
     "data": {
      "text/plain": [
       "<Axes: xlabel='program__has_sub_dirs_with_code', ylabel='Count'>"
      ]
     },
     "execution_count": 10,
     "metadata": {},
     "output_type": "execute_result"
    },
    {
     "data": {
      "text/plain": [
       "<Figure size 640x480 with 1 Axes>"
      ],
      "image/png": "[encoded data removed]"
     },
     "metadata": {},
     "output_type": "display_data"
    }
   ],
   "execution_count": 10
  },
  {
   "cell_type": "code",
   "id": "199172bf4c3e2333",
   "metadata": {
    "collapsed": false,
    "ExecuteTime": {
     "end_time": "2024-07-03T11:24:47.634798Z",
     "start_time": "2024-07-03T11:24:47.626586Z"
    }
   },
   "source": [
    "num_true_values = len(X[X['program__has_sub_dirs_with_code'] == True])\n",
    "num_false_values = len(X[X['program__has_sub_dirs_with_code'] == False])\n",
    "std = X['program__has_sub_dirs_with_code'].std()\n",
    "freq_true = len(X[X['program__has_sub_dirs_with_code'] == True]) / len(X['program__has_sub_dirs_with_code'])\n",
    "freq_false = len(X[X['program__has_sub_dirs_with_code'] == False]) / len(X['program__has_sub_dirs_with_code'])\n",
    "print(f'La variable has_sub_dirs_with_code contiene {num_true_values} valores verdaderos y {num_false_values} valores falsos. Y, la desviación típica es de {std}')\n",
    "print(f'La frecuencia con la que programa puede tener la variable has_sub_dirs_with_code a True es {freq_true}.')\n",
    "print(f'La frecuencia con la que programa puede tener la variable has_sub_dirs_with_code a False es {freq_false}.')"
   ],
   "outputs": [
    {
     "name": "stdout",
     "output_type": "stream",
     "text": [
      "La variable has_sub_dirs_with_code contiene 51 valores verdaderos y 1558 valores falsos. Y, la desviación típica es de 0.17524586617946625\n",
      "La frecuencia con la que programa puede tener la variable has_sub_dirs_with_code a True es 0.031696706028589185.\n",
      "La frecuencia con la que programa puede tener la variable has_sub_dirs_with_code a False es 0.9683032939714108.\n"
     ]
    }
   ],
   "execution_count": 11
  },
  {
   "cell_type": "code",
   "id": "3fe7f5c8b29b89ec",
   "metadata": {
    "collapsed": false,
    "ExecuteTime": {
     "end_time": "2024-07-03T11:24:47.641118Z",
     "start_time": "2024-07-03T11:24:47.635806Z"
    }
   },
   "source": [
    "possible_values = [True, False]\n",
    "print_frequency_anal_for_cat_var(X, 'program__has_sub_dirs_with_code', possible_values)"
   ],
   "outputs": [
    {
     "name": "stdout",
     "output_type": "stream",
     "text": [
      "La variable program__has_sub_dirs_with_code contiene 2 valores distintos.\n",
      "El umbral de outlier es de 0.1%\n",
      "La variable program__has_sub_dirs_with_code toma el valor de 0.0 en un 96.83% de los items.\n",
      "La variable program__has_sub_dirs_with_code toma el valor de 1.0 en un 3.17% de los items.\n"
     ]
    }
   ],
   "execution_count": 12
  },
  {
   "cell_type": "markdown",
   "id": "47601e9fcd859220",
   "metadata": {
    "collapsed": false
   },
   "source": [
    "Describimos los valores de las variables de la tabla, cuando la variable tiene el valor a True."
   ]
  },
  {
   "cell_type": "code",
   "id": "79c6ac73f901d5dc",
   "metadata": {
    "collapsed": false,
    "ExecuteTime": {
     "end_time": "2024-07-03T11:24:47.672527Z",
     "start_time": "2024-07-03T11:24:47.642124Z"
    }
   },
   "source": [
    "X[X['program__has_sub_dirs_with_code'] == True].describe(percentiles=[.25, .50, .75], include = ['object', 'float', 'bool', 'int'])"
   ],
   "outputs": [
    {
     "data": {
      "text/plain": [
       "       program__has_sub_dirs_with_code  program__has_packages  \\\n",
       "count                             51.0              51.000000   \n",
       "mean                               1.0               0.431373   \n",
       "std                                0.0               0.500196   \n",
       "min                                1.0               0.000000   \n",
       "25%                                1.0               0.000000   \n",
       "50%                                1.0               0.000000   \n",
       "75%                                1.0               1.000000   \n",
       "max                                1.0               1.000000   \n",
       "\n",
       "       program__number_of_modules  program__number_of_sub_dirs_with_code  \\\n",
       "count                   51.000000                               51.00000   \n",
       "mean                   282.568634                               12.45098   \n",
       "std                    653.941162                               37.06498   \n",
       "min                      2.000000                                1.00000   \n",
       "25%                      3.000000                                1.00000   \n",
       "50%                      7.000000                                1.00000   \n",
       "75%                    392.500000                                4.00000   \n",
       "max                   3294.000000                              238.00000   \n",
       "\n",
       "       program__number_of_packages  program__class_defs_pct  \\\n",
       "count                    51.000000                51.000000   \n",
       "mean                     51.764706                 0.164255   \n",
       "std                     187.733398                 0.195925   \n",
       "min                       0.000000                 0.000000   \n",
       "25%                       0.000000                 0.000000   \n",
       "50%                       0.000000                 0.000000   \n",
       "75%                      45.000000                 0.365667   \n",
       "max                    1297.000000                 0.624539   \n",
       "\n",
       "       program__function_defs_pct  program__enum_defs_pct  \\\n",
       "count                   51.000000               51.000000   \n",
       "mean                     0.814500                0.001638   \n",
       "std                      0.227913                0.004116   \n",
       "min                      0.000000                0.000000   \n",
       "25%                      0.633807                0.000000   \n",
       "50%                      1.000000                0.000000   \n",
       "75%                      1.000000                0.000000   \n",
       "max                      1.000000                0.019078   \n",
       "\n",
       "       program__has_code_root_package  program__average_defs_per_module  \\\n",
       "count                       51.000000                         51.000000   \n",
       "mean                         0.901961                          4.124860   \n",
       "std                          0.300327                          3.806759   \n",
       "min                          0.000000                          0.000000   \n",
       "25%                          1.000000                          1.000000   \n",
       "50%                          1.000000                          3.155406   \n",
       "75%                          1.000000                          5.775416   \n",
       "max                          1.000000                         17.000000   \n",
       "\n",
       "       program__expertise_level_BEGINNER  program__expertise_level_EXPERT  \n",
       "count                          51.000000                        51.000000  \n",
       "mean                            0.666667                         0.333333  \n",
       "std                             0.476095                         0.476095  \n",
       "min                             0.000000                         0.000000  \n",
       "25%                             0.000000                         0.000000  \n",
       "50%                             1.000000                         0.000000  \n",
       "75%                             1.000000                         1.000000  \n",
       "max                             1.000000                         1.000000  "
      ],
      "text/html": [
       "<div>\n",
       "<style scoped>\n",
       "    .dataframe tbody tr th:only-of-type {\n",
       "        vertical-align: middle;\n",
       "    }\n",
       "\n",
       "    .dataframe tbody tr th {\n",
       "        vertical-align: top;\n",
       "    }\n",
       "\n",
       "    .dataframe thead th {\n",
       "        text-align: right;\n",
       "    }\n",
       "</style>\n",
       "<table border=\"1\" class=\"dataframe\">\n",
       "  <thead>\n",
       "    <tr style=\"text-align: right;\">\n",
       "      <th></th>\n",
       "      <th>program__has_sub_dirs_with_code</th>\n",
       "      <th>program__has_packages</th>\n",
       "      <th>program__number_of_modules</th>\n",
       "      <th>program__number_of_sub_dirs_with_code</th>\n",
       "      <th>program__number_of_packages</th>\n",
       "      <th>program__class_defs_pct</th>\n",
       "      <th>program__function_defs_pct</th>\n",
       "      <th>program__enum_defs_pct</th>\n",
       "      <th>program__has_code_root_package</th>\n",
       "      <th>program__average_defs_per_module</th>\n",
       "      <th>program__expertise_level_BEGINNER</th>\n",
       "      <th>program__expertise_level_EXPERT</th>\n",
       "    </tr>\n",
       "  </thead>\n",
       "  <tbody>\n",
       "    <tr>\n",
       "      <th>count</th>\n",
       "      <td>51.0</td>\n",
       "      <td>51.000000</td>\n",
       "      <td>51.000000</td>\n",
       "      <td>51.00000</td>\n",
       "      <td>51.000000</td>\n",
       "      <td>51.000000</td>\n",
       "      <td>51.000000</td>\n",
       "      <td>51.000000</td>\n",
       "      <td>51.000000</td>\n",
       "      <td>51.000000</td>\n",
       "      <td>51.000000</td>\n",
       "      <td>51.000000</td>\n",
       "    </tr>\n",
       "    <tr>\n",
       "      <th>mean</th>\n",
       "      <td>1.0</td>\n",
       "      <td>0.431373</td>\n",
       "      <td>282.568634</td>\n",
       "      <td>12.45098</td>\n",
       "      <td>51.764706</td>\n",
       "      <td>0.164255</td>\n",
       "      <td>0.814500</td>\n",
       "      <td>0.001638</td>\n",
       "      <td>0.901961</td>\n",
       "      <td>4.124860</td>\n",
       "      <td>0.666667</td>\n",
       "      <td>0.333333</td>\n",
       "    </tr>\n",
       "    <tr>\n",
       "      <th>std</th>\n",
       "      <td>0.0</td>\n",
       "      <td>0.500196</td>\n",
       "      <td>653.941162</td>\n",
       "      <td>37.06498</td>\n",
       "      <td>187.733398</td>\n",
       "      <td>0.195925</td>\n",
       "      <td>0.227913</td>\n",
       "      <td>0.004116</td>\n",
       "      <td>0.300327</td>\n",
       "      <td>3.806759</td>\n",
       "      <td>0.476095</td>\n",
       "      <td>0.476095</td>\n",
       "    </tr>\n",
       "    <tr>\n",
       "      <th>min</th>\n",
       "      <td>1.0</td>\n",
       "      <td>0.000000</td>\n",
       "      <td>2.000000</td>\n",
       "      <td>1.00000</td>\n",
       "      <td>0.000000</td>\n",
       "      <td>0.000000</td>\n",
       "      <td>0.000000</td>\n",
       "      <td>0.000000</td>\n",
       "      <td>0.000000</td>\n",
       "      <td>0.000000</td>\n",
       "      <td>0.000000</td>\n",
       "      <td>0.000000</td>\n",
       "    </tr>\n",
       "    <tr>\n",
       "      <th>25%</th>\n",
       "      <td>1.0</td>\n",
       "      <td>0.000000</td>\n",
       "      <td>3.000000</td>\n",
       "      <td>1.00000</td>\n",
       "      <td>0.000000</td>\n",
       "      <td>0.000000</td>\n",
       "      <td>0.633807</td>\n",
       "      <td>0.000000</td>\n",
       "      <td>1.000000</td>\n",
       "      <td>1.000000</td>\n",
       "      <td>0.000000</td>\n",
       "      <td>0.000000</td>\n",
       "    </tr>\n",
       "    <tr>\n",
       "      <th>50%</th>\n",
       "      <td>1.0</td>\n",
       "      <td>0.000000</td>\n",
       "      <td>7.000000</td>\n",
       "      <td>1.00000</td>\n",
       "      <td>0.000000</td>\n",
       "      <td>0.000000</td>\n",
       "      <td>1.000000</td>\n",
       "      <td>0.000000</td>\n",
       "      <td>1.000000</td>\n",
       "      <td>3.155406</td>\n",
       "      <td>1.000000</td>\n",
       "      <td>0.000000</td>\n",
       "    </tr>\n",
       "    <tr>\n",
       "      <th>75%</th>\n",
       "      <td>1.0</td>\n",
       "      <td>1.000000</td>\n",
       "      <td>392.500000</td>\n",
       "      <td>4.00000</td>\n",
       "      <td>45.000000</td>\n",
       "      <td>0.365667</td>\n",
       "      <td>1.000000</td>\n",
       "      <td>0.000000</td>\n",
       "      <td>1.000000</td>\n",
       "      <td>5.775416</td>\n",
       "      <td>1.000000</td>\n",
       "      <td>1.000000</td>\n",
       "    </tr>\n",
       "    <tr>\n",
       "      <th>max</th>\n",
       "      <td>1.0</td>\n",
       "      <td>1.000000</td>\n",
       "      <td>3294.000000</td>\n",
       "      <td>238.00000</td>\n",
       "      <td>1297.000000</td>\n",
       "      <td>0.624539</td>\n",
       "      <td>1.000000</td>\n",
       "      <td>0.019078</td>\n",
       "      <td>1.000000</td>\n",
       "      <td>17.000000</td>\n",
       "      <td>1.000000</td>\n",
       "      <td>1.000000</td>\n",
       "    </tr>\n",
       "  </tbody>\n",
       "</table>\n",
       "</div>"
      ]
     },
     "execution_count": 13,
     "metadata": {},
     "output_type": "execute_result"
    }
   ],
   "execution_count": 13
  },
  {
   "cell_type": "markdown",
   "id": "9fda3aab7303f0d4",
   "metadata": {
    "collapsed": false
   },
   "source": [
    "### Variable has_packages (2/10)\n",
    "Esta variable es de tipo booleano y representa si el programa contiene algún paquete."
   ]
  },
  {
   "cell_type": "code",
   "id": "921614f9",
   "metadata": {
    "ExecuteTime": {
     "end_time": "2024-07-03T11:24:47.815451Z",
     "start_time": "2024-07-03T11:24:47.674533Z"
    }
   },
   "source": [
    "plt.xticks([0, 1], ['False', 'True'])\n",
    "sns.histplot(X['program__has_packages'], discrete=True)"
   ],
   "outputs": [
    {
     "data": {
      "text/plain": [
       "<Axes: xlabel='program__has_packages', ylabel='Count'>"
      ]
     },
     "execution_count": 14,
     "metadata": {},
     "output_type": "execute_result"
    },
    {
     "data": {
      "text/plain": [
       "<Figure size 640x480 with 1 Axes>"
      ],
      "image/png": "[encoded data removed]"
     },
     "metadata": {},
     "output_type": "display_data"
    }
   ],
   "execution_count": 14
  },
  {
   "cell_type": "code",
   "id": "3d974464",
   "metadata": {
    "ExecuteTime": {
     "end_time": "2024-07-03T11:24:47.822813Z",
     "start_time": "2024-07-03T11:24:47.816460Z"
    }
   },
   "source": [
    "#ANALISIS DE DISTRIBUCIÓN DE DATOS\n",
    "num_true_values = len(X[X['program__has_packages'] == True])\n",
    "num_false_values = len(X[X['program__has_packages'] == False])\n",
    "std = X['program__has_packages'].std()\n",
    "freq_true = len(X[X['program__has_packages'] == True]) / len(X['program__has_packages'])\n",
    "freq_false = len(X[X['program__has_packages'] == False]) / len(X['program__has_packages'])\n",
    "print(f'La variable program__has_packages contiene {num_true_values} valores verdaderos y {num_false_values} valores falsos. Y, la desviación típica es de {std}')\n",
    "print(f'La frecuencia con la que programa puede tener la variable program__has_packages a True es {freq_true}.')\n",
    "print(f'La frecuencia con la que programa puede tener la variable program__has_packages a False es {freq_false}.')"
   ],
   "outputs": [
    {
     "name": "stdout",
     "output_type": "stream",
     "text": [
      "La variable program__has_packages contiene 23 valores verdaderos y 1586 valores falsos. Y, la desviación típica es de 0.1187392994761467\n",
      "La frecuencia con la que programa puede tener la variable program__has_packages a True es 0.014294592914853946.\n",
      "La frecuencia con la que programa puede tener la variable program__has_packages a False es 0.9857054070851461.\n"
     ]
    }
   ],
   "execution_count": 15
  },
  {
   "cell_type": "code",
   "id": "d9b3f5b6",
   "metadata": {
    "ExecuteTime": {
     "end_time": "2024-07-03T11:24:47.828183Z",
     "start_time": "2024-07-03T11:24:47.823821Z"
    }
   },
   "source": [
    "#PROBABILIDAD DE VALORES\n",
    "possible_values = [True, False]\n",
    "print_frequency_anal_for_cat_var(X, 'program__has_packages', possible_values)"
   ],
   "outputs": [
    {
     "name": "stdout",
     "output_type": "stream",
     "text": [
      "La variable program__has_packages contiene 2 valores distintos.\n",
      "El umbral de outlier es de 0.1%\n",
      "La variable program__has_packages toma el valor de 0.0 en un 98.57% de los items.\n",
      "La variable program__has_packages toma el valor de 1.0 en un 1.429% de los items.\n"
     ]
    }
   ],
   "execution_count": 16
  },
  {
   "metadata": {},
   "cell_type": "markdown",
   "source": "Describimos los valores de las variables de la tabla, cuando la variable tiene el valor a True.",
   "id": "d0597cbe0fd624a0"
  },
  {
   "cell_type": "code",
   "id": "045fd34e",
   "metadata": {
    "ExecuteTime": {
     "end_time": "2024-07-03T11:24:47.858829Z",
     "start_time": "2024-07-03T11:24:47.829192Z"
    }
   },
   "source": "X[X['program__has_packages'] == True].describe(percentiles=[.25, .50, .75], include = ['object', 'float', 'bool', 'int'])",
   "outputs": [
    {
     "data": {
      "text/plain": [
       "       program__has_sub_dirs_with_code  program__has_packages  \\\n",
       "count                        23.000000                   23.0   \n",
       "mean                          0.956522                    1.0   \n",
       "std                           0.208514                    0.0   \n",
       "min                           0.000000                    1.0   \n",
       "25%                           1.000000                    1.0   \n",
       "50%                           1.000000                    1.0   \n",
       "75%                           1.000000                    1.0   \n",
       "max                           1.000000                    1.0   \n",
       "\n",
       "       program__number_of_modules  program__number_of_sub_dirs_with_code  \\\n",
       "count                   23.000000                              23.000000   \n",
       "mean                   622.304321                              25.826086   \n",
       "std                    867.284851                              52.718510   \n",
       "min                     32.000000                               0.000000   \n",
       "25%                    141.500000                               3.000000   \n",
       "50%                    468.000000                               4.000000   \n",
       "75%                    544.000000                              18.500000   \n",
       "max                   3294.000000                             238.000000   \n",
       "\n",
       "       program__number_of_packages  program__class_defs_pct  \\\n",
       "count                    23.000000                23.000000   \n",
       "mean                    115.217392                 0.351689   \n",
       "std                     269.142059                 0.112088   \n",
       "min                       2.000000                 0.162427   \n",
       "25%                      10.500000                 0.289631   \n",
       "50%                      67.000000                 0.366720   \n",
       "75%                      73.000000                 0.385097   \n",
       "max                    1297.000000                 0.624539   \n",
       "\n",
       "       program__function_defs_pct  program__enum_defs_pct  \\\n",
       "count                   23.000000               23.000000   \n",
       "mean                     0.644680                0.003632   \n",
       "std                      0.111641                0.005562   \n",
       "min                      0.375461                0.000000   \n",
       "25%                      0.608187                0.000000   \n",
       "50%                      0.633280                0.000391   \n",
       "75%                      0.706506                0.005803   \n",
       "max                      0.836595                0.019078   \n",
       "\n",
       "       program__has_code_root_package  program__average_defs_per_module  \\\n",
       "count                       23.000000                         23.000000   \n",
       "mean                         0.782609                          4.401488   \n",
       "std                          0.421741                          2.107967   \n",
       "min                          0.000000                          0.785714   \n",
       "25%                          1.000000                          2.904226   \n",
       "50%                          1.000000                          4.531250   \n",
       "75%                          1.000000                          5.761029   \n",
       "max                          1.000000                          9.957198   \n",
       "\n",
       "       program__expertise_level_BEGINNER  program__expertise_level_EXPERT  \n",
       "count                          23.000000                        23.000000  \n",
       "mean                            0.260870                         0.739130  \n",
       "std                             0.448978                         0.448978  \n",
       "min                             0.000000                         0.000000  \n",
       "25%                             0.000000                         0.500000  \n",
       "50%                             0.000000                         1.000000  \n",
       "75%                             0.500000                         1.000000  \n",
       "max                             1.000000                         1.000000  "
      ],
      "text/html": [
       "<div>\n",
       "<style scoped>\n",
       "    .dataframe tbody tr th:only-of-type {\n",
       "        vertical-align: middle;\n",
       "    }\n",
       "\n",
       "    .dataframe tbody tr th {\n",
       "        vertical-align: top;\n",
       "    }\n",
       "\n",
       "    .dataframe thead th {\n",
       "        text-align: right;\n",
       "    }\n",
       "</style>\n",
       "<table border=\"1\" class=\"dataframe\">\n",
       "  <thead>\n",
       "    <tr style=\"text-align: right;\">\n",
       "      <th></th>\n",
       "      <th>program__has_sub_dirs_with_code</th>\n",
       "      <th>program__has_packages</th>\n",
       "      <th>program__number_of_modules</th>\n",
       "      <th>program__number_of_sub_dirs_with_code</th>\n",
       "      <th>program__number_of_packages</th>\n",
       "      <th>program__class_defs_pct</th>\n",
       "      <th>program__function_defs_pct</th>\n",
       "      <th>program__enum_defs_pct</th>\n",
       "      <th>program__has_code_root_package</th>\n",
       "      <th>program__average_defs_per_module</th>\n",
       "      <th>program__expertise_level_BEGINNER</th>\n",
       "      <th>program__expertise_level_EXPERT</th>\n",
       "    </tr>\n",
       "  </thead>\n",
       "  <tbody>\n",
       "    <tr>\n",
       "      <th>count</th>\n",
       "      <td>23.000000</td>\n",
       "      <td>23.0</td>\n",
       "      <td>23.000000</td>\n",
       "      <td>23.000000</td>\n",
       "      <td>23.000000</td>\n",
       "      <td>23.000000</td>\n",
       "      <td>23.000000</td>\n",
       "      <td>23.000000</td>\n",
       "      <td>23.000000</td>\n",
       "      <td>23.000000</td>\n",
       "      <td>23.000000</td>\n",
       "      <td>23.000000</td>\n",
       "    </tr>\n",
       "    <tr>\n",
       "      <th>mean</th>\n",
       "      <td>0.956522</td>\n",
       "      <td>1.0</td>\n",
       "      <td>622.304321</td>\n",
       "      <td>25.826086</td>\n",
       "      <td>115.217392</td>\n",
       "      <td>0.351689</td>\n",
       "      <td>0.644680</td>\n",
       "      <td>0.003632</td>\n",
       "      <td>0.782609</td>\n",
       "      <td>4.401488</td>\n",
       "      <td>0.260870</td>\n",
       "      <td>0.739130</td>\n",
       "    </tr>\n",
       "    <tr>\n",
       "      <th>std</th>\n",
       "      <td>0.208514</td>\n",
       "      <td>0.0</td>\n",
       "      <td>867.284851</td>\n",
       "      <td>52.718510</td>\n",
       "      <td>269.142059</td>\n",
       "      <td>0.112088</td>\n",
       "      <td>0.111641</td>\n",
       "      <td>0.005562</td>\n",
       "      <td>0.421741</td>\n",
       "      <td>2.107967</td>\n",
       "      <td>0.448978</td>\n",
       "      <td>0.448978</td>\n",
       "    </tr>\n",
       "    <tr>\n",
       "      <th>min</th>\n",
       "      <td>0.000000</td>\n",
       "      <td>1.0</td>\n",
       "      <td>32.000000</td>\n",
       "      <td>0.000000</td>\n",
       "      <td>2.000000</td>\n",
       "      <td>0.162427</td>\n",
       "      <td>0.375461</td>\n",
       "      <td>0.000000</td>\n",
       "      <td>0.000000</td>\n",
       "      <td>0.785714</td>\n",
       "      <td>0.000000</td>\n",
       "      <td>0.000000</td>\n",
       "    </tr>\n",
       "    <tr>\n",
       "      <th>25%</th>\n",
       "      <td>1.000000</td>\n",
       "      <td>1.0</td>\n",
       "      <td>141.500000</td>\n",
       "      <td>3.000000</td>\n",
       "      <td>10.500000</td>\n",
       "      <td>0.289631</td>\n",
       "      <td>0.608187</td>\n",
       "      <td>0.000000</td>\n",
       "      <td>1.000000</td>\n",
       "      <td>2.904226</td>\n",
       "      <td>0.000000</td>\n",
       "      <td>0.500000</td>\n",
       "    </tr>\n",
       "    <tr>\n",
       "      <th>50%</th>\n",
       "      <td>1.000000</td>\n",
       "      <td>1.0</td>\n",
       "      <td>468.000000</td>\n",
       "      <td>4.000000</td>\n",
       "      <td>67.000000</td>\n",
       "      <td>0.366720</td>\n",
       "      <td>0.633280</td>\n",
       "      <td>0.000391</td>\n",
       "      <td>1.000000</td>\n",
       "      <td>4.531250</td>\n",
       "      <td>0.000000</td>\n",
       "      <td>1.000000</td>\n",
       "    </tr>\n",
       "    <tr>\n",
       "      <th>75%</th>\n",
       "      <td>1.000000</td>\n",
       "      <td>1.0</td>\n",
       "      <td>544.000000</td>\n",
       "      <td>18.500000</td>\n",
       "      <td>73.000000</td>\n",
       "      <td>0.385097</td>\n",
       "      <td>0.706506</td>\n",
       "      <td>0.005803</td>\n",
       "      <td>1.000000</td>\n",
       "      <td>5.761029</td>\n",
       "      <td>0.500000</td>\n",
       "      <td>1.000000</td>\n",
       "    </tr>\n",
       "    <tr>\n",
       "      <th>max</th>\n",
       "      <td>1.000000</td>\n",
       "      <td>1.0</td>\n",
       "      <td>3294.000000</td>\n",
       "      <td>238.000000</td>\n",
       "      <td>1297.000000</td>\n",
       "      <td>0.624539</td>\n",
       "      <td>0.836595</td>\n",
       "      <td>0.019078</td>\n",
       "      <td>1.000000</td>\n",
       "      <td>9.957198</td>\n",
       "      <td>1.000000</td>\n",
       "      <td>1.000000</td>\n",
       "    </tr>\n",
       "  </tbody>\n",
       "</table>\n",
       "</div>"
      ]
     },
     "execution_count": 17,
     "metadata": {},
     "output_type": "execute_result"
    }
   ],
   "execution_count": 17
  },
  {
   "metadata": {},
   "cell_type": "markdown",
   "source": [
    "### Variable has_code_root_packages (3/10)\n",
    "Esta variable es de tipo booleano y representa si el programa contiene código en el directorio root."
   ],
   "id": "cc2230d89c1d901"
  },
  {
   "metadata": {
    "ExecuteTime": {
     "end_time": "2024-07-03T11:24:48.042780Z",
     "start_time": "2024-07-03T11:24:47.859834Z"
    }
   },
   "cell_type": "code",
   "source": [
    "plt.xticks([0, 1], ['False', 'True'])\n",
    "sns.histplot(X['program__has_code_root_package'], discrete=True)"
   ],
   "id": "fc2c509d5dd80feb",
   "outputs": [
    {
     "data": {
      "text/plain": [
       "<Axes: xlabel='program__has_code_root_package', ylabel='Count'>"
      ]
     },
     "execution_count": 18,
     "metadata": {},
     "output_type": "execute_result"
    },
    {
     "data": {
      "text/plain": [
       "<Figure size 640x480 with 1 Axes>"
      ],
      "image/png": "[encoded data removed]"
     },
     "metadata": {},
     "output_type": "display_data"
    }
   ],
   "execution_count": 18
  },
  {
   "metadata": {
    "ExecuteTime": {
     "end_time": "2024-07-03T11:24:48.051863Z",
     "start_time": "2024-07-03T11:24:48.043786Z"
    }
   },
   "cell_type": "code",
   "source": [
    "#ANALISIS DE DISTRIBUCIÓN DE DATOS\n",
    "num_true_values = len(X[X['program__has_code_root_package'] == True])\n",
    "num_false_values = len(X[X['program__has_code_root_package'] == False])\n",
    "std = X['program__has_code_root_package'].std()\n",
    "freq_true = len(X[X['program__has_code_root_package'] == True]) / len(X['program__has_code_root_package'])\n",
    "freq_false = len(X[X['program__has_code_root_package'] == False]) / len(X['program__has_code_root_package'])\n",
    "print(f'La variable program__has_code_root_package contiene {num_true_values} valores verdaderos y {num_false_values} valores falsos. Y, la desviación típica es de {std}')\n",
    "print(f'La frecuencia con la que programa puede tener la variable program__has_code_root_package a True es {freq_true}.')\n",
    "print(f'La frecuencia con la que programa puede tener la variable program__has_code_root_package a False es {freq_false}.')"
   ],
   "id": "e4ac7fd947513444",
   "outputs": [
    {
     "name": "stdout",
     "output_type": "stream",
     "text": [
      "La variable program__has_code_root_package contiene 1604 valores verdaderos y 5 valores falsos. Y, la desviación típica es de 0.05567575991153717\n",
      "La frecuencia con la que programa puede tener la variable program__has_code_root_package a True es 0.9968924798011187.\n",
      "La frecuencia con la que programa puede tener la variable program__has_code_root_package a False es 0.003107520198881293.\n"
     ]
    }
   ],
   "execution_count": 19
  },
  {
   "metadata": {
    "ExecuteTime": {
     "end_time": "2024-07-03T11:24:48.057532Z",
     "start_time": "2024-07-03T11:24:48.052868Z"
    }
   },
   "cell_type": "code",
   "source": [
    "#PROBABILIDAD DE VALORES\n",
    "possible_values = [True, False]\n",
    "print_frequency_anal_for_cat_var(X, 'program__has_code_root_package', possible_values)"
   ],
   "id": "6eda444c15afc88f",
   "outputs": [
    {
     "name": "stdout",
     "output_type": "stream",
     "text": [
      "La variable program__has_code_root_package contiene 2 valores distintos.\n",
      "El umbral de outlier es de 0.1%\n",
      "La variable program__has_code_root_package toma el valor de 1.0 en un 99.69% de los items.\n",
      "La variable program__has_code_root_package toma el valor de 0.0 en un 0.3108% de los items.\n"
     ]
    }
   ],
   "execution_count": 20
  },
  {
   "metadata": {},
   "cell_type": "markdown",
   "source": "Describimos los valores de las variables de la tabla, cuando la variable tiene el valor a False.",
   "id": "163e6399be3d8f62"
  },
  {
   "metadata": {
    "ExecuteTime": {
     "end_time": "2024-07-03T11:24:48.087039Z",
     "start_time": "2024-07-03T11:24:48.058539Z"
    }
   },
   "cell_type": "code",
   "source": "X[X['program__has_code_root_package'] == False].describe(percentiles=[.25, .50, .75], include = ['object', 'float', 'bool', 'int'])",
   "id": "a5fc73b1d742f01a",
   "outputs": [
    {
     "data": {
      "text/plain": [
       "       program__has_sub_dirs_with_code  program__has_packages  \\\n",
       "count                              5.0                    5.0   \n",
       "mean                               1.0                    1.0   \n",
       "std                                0.0                    0.0   \n",
       "min                                1.0                    1.0   \n",
       "25%                                1.0                    1.0   \n",
       "50%                                1.0                    1.0   \n",
       "75%                                1.0                    1.0   \n",
       "max                                1.0                    1.0   \n",
       "\n",
       "       program__number_of_modules  program__number_of_sub_dirs_with_code  \\\n",
       "count                    5.000000                               5.000000   \n",
       "mean                  1550.000000                              68.199997   \n",
       "std                   1596.469238                              98.082619   \n",
       "min                    118.000000                               8.000000   \n",
       "25%                    396.000000                               9.000000   \n",
       "50%                    664.000000                              18.000000   \n",
       "75%                   3278.000000                              68.000000   \n",
       "max                   3294.000000                             238.000000   \n",
       "\n",
       "       program__number_of_packages  program__class_defs_pct  \\\n",
       "count                     5.000000                 5.000000   \n",
       "mean                    354.799988                 0.372176   \n",
       "std                     548.381897                 0.147461   \n",
       "min                       5.000000                 0.248424   \n",
       "25%                      38.000000                 0.302200   \n",
       "50%                      52.000000                 0.316770   \n",
       "75%                     382.000000                 0.368945   \n",
       "max                    1297.000000                 0.624539   \n",
       "\n",
       "       program__function_defs_pct  program__enum_defs_pct  \\\n",
       "count                    5.000000                5.000000   \n",
       "mean                     0.620500                0.007324   \n",
       "std                      0.145035                0.007107   \n",
       "min                      0.375461                0.000000   \n",
       "25%                      0.611977                0.004658   \n",
       "50%                      0.678571                0.005551   \n",
       "75%                      0.690465                0.007335   \n",
       "max                      0.746025                0.019078   \n",
       "\n",
       "       program__has_code_root_package  program__average_defs_per_module  \\\n",
       "count                             5.0                          5.000000   \n",
       "mean                              0.0                          3.922878   \n",
       "std                               0.0                          1.456639   \n",
       "min                               0.0                          1.829994   \n",
       "25%                               0.0                          3.079819   \n",
       "50%                               0.0                          4.451495   \n",
       "75%                               0.0                          4.795455   \n",
       "max                               0.0                          5.457627   \n",
       "\n",
       "       program__expertise_level_BEGINNER  program__expertise_level_EXPERT  \n",
       "count                                5.0                              5.0  \n",
       "mean                                 0.0                              1.0  \n",
       "std                                  0.0                              0.0  \n",
       "min                                  0.0                              1.0  \n",
       "25%                                  0.0                              1.0  \n",
       "50%                                  0.0                              1.0  \n",
       "75%                                  0.0                              1.0  \n",
       "max                                  0.0                              1.0  "
      ],
      "text/html": [
       "<div>\n",
       "<style scoped>\n",
       "    .dataframe tbody tr th:only-of-type {\n",
       "        vertical-align: middle;\n",
       "    }\n",
       "\n",
       "    .dataframe tbody tr th {\n",
       "        vertical-align: top;\n",
       "    }\n",
       "\n",
       "    .dataframe thead th {\n",
       "        text-align: right;\n",
       "    }\n",
       "</style>\n",
       "<table border=\"1\" class=\"dataframe\">\n",
       "  <thead>\n",
       "    <tr style=\"text-align: right;\">\n",
       "      <th></th>\n",
       "      <th>program__has_sub_dirs_with_code</th>\n",
       "      <th>program__has_packages</th>\n",
       "      <th>program__number_of_modules</th>\n",
       "      <th>program__number_of_sub_dirs_with_code</th>\n",
       "      <th>program__number_of_packages</th>\n",
       "      <th>program__class_defs_pct</th>\n",
       "      <th>program__function_defs_pct</th>\n",
       "      <th>program__enum_defs_pct</th>\n",
       "      <th>program__has_code_root_package</th>\n",
       "      <th>program__average_defs_per_module</th>\n",
       "      <th>program__expertise_level_BEGINNER</th>\n",
       "      <th>program__expertise_level_EXPERT</th>\n",
       "    </tr>\n",
       "  </thead>\n",
       "  <tbody>\n",
       "    <tr>\n",
       "      <th>count</th>\n",
       "      <td>5.0</td>\n",
       "      <td>5.0</td>\n",
       "      <td>5.000000</td>\n",
       "      <td>5.000000</td>\n",
       "      <td>5.000000</td>\n",
       "      <td>5.000000</td>\n",
       "      <td>5.000000</td>\n",
       "      <td>5.000000</td>\n",
       "      <td>5.0</td>\n",
       "      <td>5.000000</td>\n",
       "      <td>5.0</td>\n",
       "      <td>5.0</td>\n",
       "    </tr>\n",
       "    <tr>\n",
       "      <th>mean</th>\n",
       "      <td>1.0</td>\n",
       "      <td>1.0</td>\n",
       "      <td>1550.000000</td>\n",
       "      <td>68.199997</td>\n",
       "      <td>354.799988</td>\n",
       "      <td>0.372176</td>\n",
       "      <td>0.620500</td>\n",
       "      <td>0.007324</td>\n",
       "      <td>0.0</td>\n",
       "      <td>3.922878</td>\n",
       "      <td>0.0</td>\n",
       "      <td>1.0</td>\n",
       "    </tr>\n",
       "    <tr>\n",
       "      <th>std</th>\n",
       "      <td>0.0</td>\n",
       "      <td>0.0</td>\n",
       "      <td>1596.469238</td>\n",
       "      <td>98.082619</td>\n",
       "      <td>548.381897</td>\n",
       "      <td>0.147461</td>\n",
       "      <td>0.145035</td>\n",
       "      <td>0.007107</td>\n",
       "      <td>0.0</td>\n",
       "      <td>1.456639</td>\n",
       "      <td>0.0</td>\n",
       "      <td>0.0</td>\n",
       "    </tr>\n",
       "    <tr>\n",
       "      <th>min</th>\n",
       "      <td>1.0</td>\n",
       "      <td>1.0</td>\n",
       "      <td>118.000000</td>\n",
       "      <td>8.000000</td>\n",
       "      <td>5.000000</td>\n",
       "      <td>0.248424</td>\n",
       "      <td>0.375461</td>\n",
       "      <td>0.000000</td>\n",
       "      <td>0.0</td>\n",
       "      <td>1.829994</td>\n",
       "      <td>0.0</td>\n",
       "      <td>1.0</td>\n",
       "    </tr>\n",
       "    <tr>\n",
       "      <th>25%</th>\n",
       "      <td>1.0</td>\n",
       "      <td>1.0</td>\n",
       "      <td>396.000000</td>\n",
       "      <td>9.000000</td>\n",
       "      <td>38.000000</td>\n",
       "      <td>0.302200</td>\n",
       "      <td>0.611977</td>\n",
       "      <td>0.004658</td>\n",
       "      <td>0.0</td>\n",
       "      <td>3.079819</td>\n",
       "      <td>0.0</td>\n",
       "      <td>1.0</td>\n",
       "    </tr>\n",
       "    <tr>\n",
       "      <th>50%</th>\n",
       "      <td>1.0</td>\n",
       "      <td>1.0</td>\n",
       "      <td>664.000000</td>\n",
       "      <td>18.000000</td>\n",
       "      <td>52.000000</td>\n",
       "      <td>0.316770</td>\n",
       "      <td>0.678571</td>\n",
       "      <td>0.005551</td>\n",
       "      <td>0.0</td>\n",
       "      <td>4.451495</td>\n",
       "      <td>0.0</td>\n",
       "      <td>1.0</td>\n",
       "    </tr>\n",
       "    <tr>\n",
       "      <th>75%</th>\n",
       "      <td>1.0</td>\n",
       "      <td>1.0</td>\n",
       "      <td>3278.000000</td>\n",
       "      <td>68.000000</td>\n",
       "      <td>382.000000</td>\n",
       "      <td>0.368945</td>\n",
       "      <td>0.690465</td>\n",
       "      <td>0.007335</td>\n",
       "      <td>0.0</td>\n",
       "      <td>4.795455</td>\n",
       "      <td>0.0</td>\n",
       "      <td>1.0</td>\n",
       "    </tr>\n",
       "    <tr>\n",
       "      <th>max</th>\n",
       "      <td>1.0</td>\n",
       "      <td>1.0</td>\n",
       "      <td>3294.000000</td>\n",
       "      <td>238.000000</td>\n",
       "      <td>1297.000000</td>\n",
       "      <td>0.624539</td>\n",
       "      <td>0.746025</td>\n",
       "      <td>0.019078</td>\n",
       "      <td>0.0</td>\n",
       "      <td>5.457627</td>\n",
       "      <td>0.0</td>\n",
       "      <td>1.0</td>\n",
       "    </tr>\n",
       "  </tbody>\n",
       "</table>\n",
       "</div>"
      ]
     },
     "execution_count": 21,
     "metadata": {},
     "output_type": "execute_result"
    }
   ],
   "execution_count": 21
  },
  {
   "metadata": {},
   "cell_type": "markdown",
   "source": [
    "### Variable number_of_modules (4/10)\n",
    "Esta variable es de tipo numérica y nos indica el número de modulos definidos en el programa. Como vimos en la descripción de la tabla esta varibale adopta valores en el rango 1 - 3294. Con una media de 11,3."
   ],
   "id": "b8ac28118b9c7e95"
  },
  {
   "metadata": {
    "ExecuteTime": {
     "end_time": "2024-07-03T11:24:48.198062Z",
     "start_time": "2024-07-03T11:24:48.088044Z"
    }
   },
   "cell_type": "code",
   "source": "sns.stripplot(X[X['program__number_of_modules'] < 143]['program__number_of_modules'])",
   "id": "5eacddae8fc77a62",
   "outputs": [
    {
     "data": {
      "text/plain": [
       "<Axes: ylabel='program__number_of_modules'>"
      ]
     },
     "execution_count": 22,
     "metadata": {},
     "output_type": "execute_result"
    },
    {
     "data": {
      "text/plain": [
       "<Figure size 640x480 with 1 Axes>"
      ],
      "image/png": "[encoded data removed]"
     },
     "metadata": {},
     "output_type": "display_data"
    }
   ],
   "execution_count": 22
  },
  {
   "metadata": {
    "ExecuteTime": {
     "end_time": "2024-07-03T11:24:48.483653Z",
     "start_time": "2024-07-03T11:24:48.199068Z"
    }
   },
   "cell_type": "code",
   "source": [
    "Y = X[X['program__number_of_modules'] < 143]\n",
    "print_histogram(Y, 'program__number_of_modules', 'program__expertise_level')"
   ],
   "id": "55b2e93f4b43e23d",
   "outputs": [
    {
     "data": {
      "text/plain": [
       "<Figure size 1200x600 with 1 Axes>"
      ],
      "image/png": "[encoded data removed]"
     },
     "metadata": {},
     "output_type": "display_data"
    }
   ],
   "execution_count": 23
  },
  {
   "metadata": {},
   "cell_type": "markdown",
   "source": "En estos gráficos, se incluyen los valores outliers. ",
   "id": "6d68869ede75fd0"
  },
  {
   "metadata": {},
   "cell_type": "markdown",
   "source": [
    "### IMPORTANTE\n",
    "Los dos valores máximos están muy alejados del siguiente."
   ],
   "id": "d469f741c3c5964c"
  },
  {
   "metadata": {},
   "cell_type": "code",
   "outputs": [],
   "execution_count": null,
   "source": "print_outliers_for_df_column(X, 'program__number_of_modules')",
   "id": "cfc7351841dbaeeb"
  },
  {
   "metadata": {},
   "cell_type": "markdown",
   "source": "Describimos los valores de las variables de la tabla, cuando el valor de la variable es mayor que 143 (Con un MC de 96 usamos U)",
   "id": "843b1a6a63a56fb9"
  },
  {
   "metadata": {},
   "cell_type": "code",
   "source": "X[X['program__number_of_modules'] > 143.7].describe(percentiles=[.25, .50, .75], include = ['object', 'float', 'bool', 'int'])",
   "id": "689c534bf17a722e",
   "outputs": [],
   "execution_count": null
  },
  {
   "metadata": {},
   "cell_type": "markdown",
   "source": [
    "### Variable number_of_sub_dirs_with_code (5/10)\n",
    "Esta variable representa el número de subdirectorios con ficheros python pero sin un __init__.py en ellos. Como vimos en la descripción de la tabla esta varibale adopta valores en el rango 0 - 238. Con una media de 0.394034."
   ],
   "id": "8f8a651cfdff0bcd"
  },
  {
   "metadata": {},
   "cell_type": "code",
   "source": "sns.stripplot(X['program__number_of_sub_dirs_with_code'])",
   "id": "1ebb40d57c0b140",
   "outputs": [],
   "execution_count": null
  },
  {
   "metadata": {},
   "cell_type": "markdown",
   "source": [
    "### IMPORTANTE\n",
    "El valor máximo está muy alejado del siguiente. "
   ],
   "id": "921f450151cf85e1"
  },
  {
   "metadata": {},
   "cell_type": "code",
   "source": "print_outliers_for_df_column(X, 'program__number_of_sub_dirs_with_code')",
   "id": "6a0f48c2e0e6cff",
   "outputs": [],
   "execution_count": null
  },
  {
   "metadata": {},
   "cell_type": "markdown",
   "source": "Describimos los valores de las variables de la tabla, cuando el valor de la variable es mayor que 0 (Todos los umbrales son 0)",
   "id": "962e0e1a198b468f"
  },
  {
   "metadata": {},
   "cell_type": "code",
   "source": "X[X['program__number_of_sub_dirs_with_code'] > 0].describe(percentiles=[.25, .50, .75], include = ['object', 'float', 'bool', 'int'])",
   "id": "87724eeca9c29f75",
   "outputs": [],
   "execution_count": null
  },
  {
   "metadata": {},
   "cell_type": "markdown",
   "source": [
    "### Variable number_of_packages (6/10)\n",
    "Esta variable representa el número de subdirectorios con ficheros python pero sin un __init__.py en ellos. Como vimos en la descripción de la tabla esta varibale adopta valores en el rango 0 - 1297. Con una media de 1.642014."
   ],
   "id": "2a00f5be59e6d4a9"
  },
  {
   "metadata": {},
   "cell_type": "code",
   "source": "sns.stripplot(X['program__number_of_packages'])",
   "id": "bcf42c4ca6fb0146",
   "outputs": [],
   "execution_count": null
  },
  {
   "metadata": {},
   "cell_type": "markdown",
   "source": [
    "### IMPORTANTE\n",
    "Los dos valores máximos están muy alejados del siguiente."
   ],
   "id": "841179577ae93139"
  },
  {
   "metadata": {},
   "cell_type": "code",
   "source": "print_outliers_for_df_column(X, 'program__number_of_packages')",
   "id": "2be67c4ab421c8b0",
   "outputs": [],
   "execution_count": null
  },
  {
   "metadata": {},
   "cell_type": "markdown",
   "source": "Describimos los valores de las variables de la tabla, cuando el valor de la variable es mayor que 0 (Todos los umbrales son 0)",
   "id": "a9e87942f03155"
  },
  {
   "metadata": {},
   "cell_type": "code",
   "source": "X[X['program__number_of_packages'] > 0].describe(percentiles=[.25, .50, .75], include = ['object', 'float', 'bool', 'int'])",
   "id": "ad1049f623d1e003",
   "outputs": [],
   "execution_count": null
  },
  {
   "metadata": {},
   "cell_type": "markdown",
   "source": "Los casos especiales con number_of_packages > 1000 son los ya mencionados proyectos llama_index y ray.",
   "id": "9ac5cb48b91950ce"
  },
  {
   "metadata": {},
   "cell_type": "markdown",
   "source": [
    "### Variable average_defs_per_module (7/10)\n",
    "Esta variable es de tipo numérica y nos indica el número medio de definiciones en un módulo. Como vimos en la descripción de la tabla esta varibale adopta valores en el rango 0 - 26. Con una media de 1,8."
   ],
   "id": "37d55a98f9df4be"
  },
  {
   "metadata": {},
   "cell_type": "code",
   "source": [
    "sns.stripplot(X['program__average_defs_per_module'])"
   ],
   "id": "8d7027a78ac296ed",
   "outputs": [],
   "execution_count": null
  },
  {
   "metadata": {},
   "cell_type": "code",
   "source": [
    "print_outliers_for_df_column(X, 'program__average_defs_per_module')"
   ],
   "id": "98d831dcd0eeee02",
   "outputs": [],
   "execution_count": null
  },
  {
   "metadata": {},
   "cell_type": "markdown",
   "source": "Describimos los valores de las variables de la tabla, cuando el valor de la variable es mayor que 8,57 (Con un MC de 77 usamos Tuckey Extremo)",
   "id": "a99c09b0f6168bec"
  },
  {
   "metadata": {},
   "cell_type": "code",
   "source": [
    "X[X['program__average_defs_per_module'] > 8.57].describe(percentiles=[.25, .50, .75], include = ['object', 'float', 'bool', 'int'])"
   ],
   "id": "74dd9804c97aef00",
   "outputs": [],
   "execution_count": null
  },
  {
   "metadata": {},
   "cell_type": "markdown",
   "source": [
    "### Variable class_defs_pct (8/10)\n",
    "Esta variable representa el porcentage de las definiciones de un programa que son clases. Como vimos en la descripción de la tabla esta varibale adopta valores en el rango 0 - 100. Con una media de 1,1%."
   ],
   "id": "fb182a156befa75a"
  },
  {
   "metadata": {},
   "cell_type": "code",
   "source": "sns.displot(X['program__class_defs_pct'], bins=[i / 100 for i in range(0, 101)])",
   "id": "8cfc8a56a436ab6d",
   "outputs": [],
   "execution_count": null
  },
  {
   "metadata": {},
   "cell_type": "code",
   "source": "print_outliers_for_df_column(X, 'program__class_defs_pct')",
   "id": "6d4e07dfc0eea73c",
   "outputs": [],
   "execution_count": null
  },
  {
   "metadata": {},
   "cell_type": "markdown",
   "source": "Describimos los valores de las variables de la tabla, cuando el valor de la variable es mayor que 0 (Todos los umbrales son 0)",
   "id": "d0b53b297886a5b0"
  },
  {
   "metadata": {},
   "cell_type": "code",
   "source": "X[X['program__class_defs_pct'] > 0.0].describe(percentiles=[.25, .50, .75], include = ['object', 'float', 'bool', 'int'])",
   "id": "5c5b54117de99ea5",
   "outputs": [],
   "execution_count": null
  },
  {
   "metadata": {},
   "cell_type": "code",
   "source": "X[X['program__class_defs_pct'] == 1].describe(percentiles=[.25, .50, .75], include = ['object', 'float', 'bool', 'int'])",
   "id": "947df78773d2fe74",
   "outputs": [],
   "execution_count": null
  },
  {
   "metadata": {},
   "cell_type": "markdown",
   "source": [
    "### IMPORTANTE\n",
    "Los tres resultados con class_defs_pct = 1 es el mismo trabajo en grupo. \"Poker Huesca Hold'em\". Esto se podría deber a una exagerada encapsulación o a un uso inadecuado del POO."
   ],
   "id": "213e656fc471bf0e"
  },
  {
   "metadata": {},
   "cell_type": "markdown",
   "source": [
    "### Variable function_defs_pct (9/10)\n",
    "Esta variable representa el porcentage de las definiciones de un programa que son funciones. Como vimos en la descripción de la tabla esta varibale adopta valores en el rango 0 - 100. Con una media de 65%.\n"
   ],
   "id": "fbd6e93cca1be4bf"
  },
  {
   "metadata": {},
   "cell_type": "code",
   "source": "sns.displot(X['program__function_defs_pct'], bins=[i / 100 for i in range(0, 101)])",
   "id": "f1b75c25c53f4ad5",
   "outputs": [],
   "execution_count": null
  },
  {
   "metadata": {},
   "cell_type": "code",
   "source": "print_outliers_for_df_column(X, 'program__function_defs_pct')",
   "id": "d44c212251238f23",
   "outputs": [],
   "execution_count": null
  },
  {
   "metadata": {},
   "cell_type": "markdown",
   "source": [
    "### IMPORTANTE\n",
    "Estos valores siguen un distribucion en forma de U (distribucion de Laplace). Con lo que los posibles valores outliers estan en el medio, no en los extremos. No se puede aplicar el metodo de tukey. En este momento, solo vamos a mostrar los valores que hay en el medio."
   ],
   "id": "2105fc1e9e292de7"
  },
  {
   "metadata": {},
   "cell_type": "code",
   "source": "X[(X['program__function_defs_pct'] > 0.0) & (X['program__function_defs_pct'] < 1.0)].describe(percentiles=[.25, .50, .75], include = ['object', 'float', 'bool', 'int'])",
   "id": "b493e3454f34ef9",
   "outputs": [],
   "execution_count": null
  },
  {
   "metadata": {},
   "cell_type": "markdown",
   "source": [
    "### Variable enum_defs_pct (10/10)\n",
    "Esta variable representa el porcentage de las definiciones de un programa que son clases. Como vimos en la descripción de la tabla esta varibale adopta valores en el rango 0 - 100. Con una media de 0.0052%. Un máximo de 19%."
   ],
   "id": "e3d532376a1f0a16"
  },
  {
   "metadata": {},
   "cell_type": "code",
   "source": "sns.displot(X['program__enum_defs_pct'], bins=[i / 100 for i in range(0, 101)])",
   "id": "345260364ebc3bf6",
   "outputs": [],
   "execution_count": null
  },
  {
   "metadata": {},
   "cell_type": "code",
   "source": "print_outliers_for_df_column(X, 'program__enum_defs_pct')",
   "id": "974c59b1f655d0f3",
   "outputs": [],
   "execution_count": null
  },
  {
   "metadata": {},
   "cell_type": "markdown",
   "source": "Describimos los valores de las variables de la tabla, cuando el valor de la variable es mayor que 0 (Todos los umbrales son 0)",
   "id": "730b646879aab125"
  },
  {
   "metadata": {},
   "cell_type": "code",
   "source": "X[X['program__enum_defs_pct'] > 0].describe(percentiles=[.25, .50, .75], include = ['object', 'float', 'bool', 'int'])",
   "id": "fd3d31b12264e45",
   "outputs": [],
   "execution_count": null
  },
  {
   "metadata": {},
   "cell_type": "markdown",
   "source": [
    "### IMPORTANTE\n",
    "La mayoría de programas con un valor extremo de average_defs_per_module son de alumnos. Puede implicar un mal uso de la POO."
   ],
   "id": "b499d912609eb11b"
  },
  {
   "cell_type": "markdown",
   "id": "a63c33a981202cfe",
   "metadata": {
    "collapsed": false
   },
   "source": [
    "## Multivariate\n",
    "\n",
    "Isolation forest algorithm"
   ]
  },
  {
   "cell_type": "code",
   "id": "51448304c36d916e",
   "metadata": {
    "collapsed": false
   },
   "source": [
    "from sklearn.ensemble import  IsolationForest\n",
    "\n",
    "CONTAMINATION_FACTOR = 0.0012\n",
    "isof_model = IsolationForest(contamination=CONTAMINATION_FACTOR, random_state=0)\n",
    "isof_prediction = isof_model.fit_predict(X.values)\n",
    "mask = isof_prediction == -1\n",
    "full_table.loc[X.index[mask]]"
   ],
   "outputs": [],
   "execution_count": null
  },
  {
   "metadata": {},
   "cell_type": "markdown",
   "source": [
    "### IMPORTANTE\n",
    "Ambos outliers son los dos programas más grandes devueltos por la API de GitHub. ray y llama_index."
   ],
   "id": "fc481c479fdf13fd"
  },
  {
   "metadata": {},
   "cell_type": "code",
   "source": [
    "# Outliers\n",
    "np.transpose(X[mask].describe(percentiles=[.25, .50, .75], include = ['object', 'float', 'bool', 'int']))"
   ],
   "id": "9111a1bde42c01fa",
   "outputs": [],
   "execution_count": null
  },
  {
   "metadata": {},
   "cell_type": "code",
   "source": [
    "# Non-Outliers\n",
    "np.transpose(X[~mask].describe(percentiles=[.25, .50, .75], include = ['object', 'float', 'bool', 'int']))"
   ],
   "id": "7f8a1b24a30b9ce9",
   "outputs": [],
   "execution_count": null
  }
 ],
 "metadata": {
  "kernelspec": {
   "display_name": "Python 3 (ipykernel)",
   "language": "python",
   "name": "python3"
  },
  "language_info": {
   "codemirror_mode": {
    "name": "ipython",
    "version": 3
   },
   "file_extension": ".py",
   "mimetype": "text/x-python",
   "name": "python",
   "nbconvert_exporter": "python",
   "pygments_lexer": "ipython3",
   "version": "3.12.2"
  },
  "toc-autonumbering": true,
  "toc-showcode": false,
  "toc-showmarkdowntxt": false,
  "toc-showtags": false
 },
 "nbformat": 4,
 "nbformat_minor": 5
}
