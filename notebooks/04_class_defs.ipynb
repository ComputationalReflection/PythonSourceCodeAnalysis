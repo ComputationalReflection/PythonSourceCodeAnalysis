{
 "cells": [
  {
   "metadata": {},
   "cell_type": "markdown",
   "source": [
    "# Class defs\n",
    "\n",
    "Esta tabla contiene la información de las definiciones de clases.  --> ABEL COMPLETAR <--"
   ],
   "id": "148ae8871134f924"
  },
  {
   "metadata": {},
   "cell_type": "markdown",
   "source": "## 1 - Obtencion de datos",
   "id": "d3c24a719032807f"
  },
  {
   "metadata": {
    "ExecuteTime": {
     "end_time": "2024-05-10T14:10:20.717067Z",
     "start_time": "2024-05-10T14:10:20.686995Z"
    }
   },
   "cell_type": "code",
   "source": [
    "import matplotlib.pyplot as plt\n",
    "from notebooks_utils import *\n",
    "\n",
    "full_table = get_data('classdefs')\n",
    "\n",
    "# Table name, features and target.\n",
    "TABLE_NAME = 'classdefs'\n",
    "TABLE_FEATURES = ['classdef__name_convention', 'classdef__is_enum_class', 'classdef__number_of_characters', 'classdef__number_of_decorators', 'classdef__number_of_methods', 'classdef__number_of_base_classes', 'classdef__has_generic_type_annotations', 'classdef__has_doc_string', 'classdef__body_count', 'classdef__assignments_pct', 'classdef__expressions_pct', 'classdef__uses_meta_class', 'classdef__number_of_keywords', 'classdef__height', 'classdef__average_stmts_method_body', 'classdef__type_annotations_pct', 'classdef__private_methods_pct', 'classdef__magic_methods_pct', 'classdef__async_methods_pct', 'classdef__class_methods_pct', 'classdef__static_methods_pct', 'classdef__abstract_methods_pct', 'classdef__property_methods_pct', 'classdef__expertise_level']\n",
    "TABLE_TARGET = 'classdef__expertise_level'\n",
    "\n",
    "# Load features and target.\n",
    "X, y = full_table[TABLE_FEATURES], full_table[[TABLE_TARGET]].iloc[:,0]\n",
    "\n",
    "# Print information about the loaded table.\n",
    "print(f'Features shape: {X.shape}')\n",
    "print(f'Target shape: {y.shape}')\n",
    "\n",
    "print(f'As we can see the downloaded data contains a total of {X.shape[0]} instances. Each of the instances corresponds to a program. For each program we have {X.shape[1]} attributes.')"
   ],
   "id": "9f0a949e91eb384b",
   "execution_count": 98,
   "outputs": []
  },
  {
   "metadata": {},
   "cell_type": "markdown",
   "source": [
    "## 2 - Exploracion de datos\n",
    "\n",
    "Una vez tenemos nuestra tabla en un dataframe el siguiente paso es explorarla para ver qué tipo de información contiene."
   ],
   "id": "bcda7cb784bf0a1"
  },
  {
   "metadata": {
    "ExecuteTime": {
     "end_time": "2024-05-10T14:10:32.362527Z",
     "start_time": "2024-05-10T14:10:32.325040Z"
    }
   },
   "cell_type": "code",
   "source": [
    "print(X.info())\n",
    "print('=============')\n",
    "print(y.info())"
   ],
   "id": "2eb3d09993235bcb",
   "execution_count": 99,
   "outputs": []
  },
  {
   "metadata": {},
   "cell_type": "markdown",
   "source": "Cómo podemos ver la tabla está compuesta por 18 variables numéricas, 4 variables boleanas y dos de tipo objeto. Las dos últimas variables son la etiqueta de la instancia y el name convention. Sin embargo, en algunas ocasiones estas últimas clases no las vamos a utilizar. Por ejemplo, si queremos obtener clusters por medio de aprendizaje no supervisado.",
   "id": "24f7607501c2e574"
  },
  {
   "metadata": {},
   "cell_type": "markdown",
   "source": "### 2.1 - Balance de clases",
   "id": "f6d062d35a16e21d"
  },
  {
   "metadata": {
    "ExecuteTime": {
     "end_time": "2024-05-10T14:11:12.308049Z",
     "start_time": "2024-05-10T14:11:12.286062Z"
    }
   },
   "cell_type": "code",
   "source": [
    "instances_for_class_low = len(full_table[full_table[TABLE_TARGET] == \"BEGINNER\"])\n",
    "instances_for_class_high = len(full_table[full_table[TABLE_TARGET] == \"EXPERT\"])\n",
    "\n",
    "print(f\"The dataset contains {instances_for_class_low/len(full_table)*100:.4}% instances for BEGINNER class and {instances_for_class_high/len(full_table)*100:.4}% for EXPERT class.\")"
   ],
   "id": "58277bda417384ef",
   "execution_count": 100,
   "outputs": []
  },
  {
   "metadata": {},
   "cell_type": "markdown",
   "source": [
    "### 2.2 - Duplicados\n",
    "Miramos si la tabla tiene entradas duplicadas."
   ],
   "id": "3b9b55798c7ecbd5"
  },
  {
   "metadata": {
    "ExecuteTime": {
     "end_time": "2024-05-10T14:11:18.204889Z",
     "start_time": "2024-05-10T14:11:18.160797Z"
    }
   },
   "cell_type": "code",
   "source": [
    "number_of_duplicated_entries = sum(full_table.duplicated(subset=TABLE_FEATURES + [TABLE_TARGET]))\n",
    "duplicated_entries_pct = number_of_duplicated_entries / len(full_table) * 100\n",
    "print(f\"The dataset contains [{duplicated_entries_pct:.4}%] of duplicated entries.\")"
   ],
   "id": "ed5e6830bbf484a6",
   "execution_count": 101,
   "outputs": []
  },
  {
   "metadata": {},
   "cell_type": "markdown",
   "source": [
    "### 2.3 - Valores Nulos \n",
    "Miramos si alguna de las variables que contiene la tabla contiene algún valor que sea nulo."
   ],
   "id": "63d4e4ed1d8d2c6c"
  },
  {
   "metadata": {
    "ExecuteTime": {
     "end_time": "2024-05-10T14:11:24.286030Z",
     "start_time": "2024-05-10T14:11:24.266488Z"
    }
   },
   "cell_type": "code",
   "source": "X.isnull().sum()",
   "id": "6c991380e6e0413e",
   "execution_count": 102,
   "outputs": []
  },
  {
   "metadata": {
    "ExecuteTime": {
     "end_time": "2024-05-10T14:11:26.451969Z",
     "start_time": "2024-05-10T14:11:26.425210Z"
    }
   },
   "cell_type": "code",
   "source": "print_empty_cols(X)",
   "id": "18b2dfadf1719a4b",
   "execution_count": 103,
   "outputs": []
  },
  {
   "metadata": {},
   "cell_type": "markdown",
   "source": "### 2.4 - Describimos los valores de las variables de la tabla.",
   "id": "5bb94c0f81c08024"
  },
  {
   "metadata": {
    "ExecuteTime": {
     "end_time": "2024-05-10T14:11:35.314171Z",
     "start_time": "2024-05-10T14:11:35.205196Z"
    }
   },
   "cell_type": "code",
   "source": "np.transpose(X.describe(percentiles=[.25, .50, .75], include = ['object', 'float', 'bool', 'int']))",
   "id": "74bba302a29fbfd5",
   "execution_count": 104,
   "outputs": []
  },
  {
   "metadata": {},
   "cell_type": "markdown",
   "source": "Vamos a discretizar las variables numericas, agrupando conjuntos de valores en categorias, para hacer un análisis de los datos. Para cada variable es necesario ver la distribucion de lo valores para hacer los bins (categorias).",
   "id": "9af3eb59b924a596"
  },
  {
   "metadata": {
    "ExecuteTime": {
     "end_time": "2024-05-10T14:37:38.651036Z",
     "start_time": "2024-05-10T14:37:36.835583Z"
    }
   },
   "cell_type": "code",
   "source": [
    "# DISCRETIZATION\n",
    "X_copy = X.copy()\n",
    "\n",
    "discretized_columns = {\n",
    "    \"classdef__number_of_characters\": [(0.0, 9.0), (9.0, 13.0), (13.0, 18.0), (18.0, inf)], # min: 1 ; max: 52\n",
    "    \"classdef__number_of_decorators\": [(0.0, 0.0), (0.0, inf)], # min: 0 ; max: 5\n",
    "    \"classdef__number_of_methods\": [(0.0, 1.0), (1.0, 2.0), (2.0, 5.0), (5.0, inf)], # min: 0 ; max: 231\n",
    "    \"classdef__number_of_base_classes\": [(0.0, 0.0), (1.0, 1.0), (1.0, inf)], # min: 0 ; max: 45\n",
    "    \"classdef__body_count\": [(0.0, 2.0), (2.0, 3.0), (3.0, 7.0), (7.0, inf)], # min: 1 ; max: 618\n",
    "    \"classdef__assignments_pct\": [(0.0, 0.0), (0.0, inf)], # min: 0.0 ; max: 1.0\n",
    "    \"classdef__expressions_pct\": [(0.0, 0.0), (0.0, inf)], # min: 0.0 ; max: 1.0\n",
    "    \"classdef__number_of_keywords\": [(0.0, 0.0), (0.0, inf)], # min: 0.0 ; max: 2.0\n",
    "    \"classdef__height\": [(0.0, 0.0), (0.0, 1.0), (1.0, inf)], # min: 1.0 ; max: 8.0\n",
    "    \"classdef__average_stmts_method_body\": [(0.0, 1.0), (1.0, 2.2), (2.2, 4.0), (4.0, inf)], # min: 0.0 ; max: 114.0\n",
    "    \"classdef__type_annotations_pct\": [(0.0, 0.0), (0.0, inf)], # min: 0.0 ; max: 1.0\n",
    "    \"classdef__private_methods_pct\": [(0.0, 0.25), (0.25, 0.50), (0.5, inf)], # min: 0.0 ; max: 1.0\n",
    "    \"classdef__magic_methods_pct\": [(0.0, 0.0), (0.0, 0.11), (0.11, 0.5), (0.5, inf)], # min: 0.0 ; max: 1.0\n",
    "    \"classdef__async_methods_pct\": [(0.0, 0.0), (0.0, inf)], # min: 0.0 ; max: 1.0\n",
    "    \"classdef__class_methods_pct\": [(0.0, 0.0), (0.0, inf)], # min: 0.0 ; max: 1.0\n",
    "    \"classdef__static_methods_pct\": [(0.0, 0.0), (0.0, inf)], # min: 0.0 ; max: 1.0\n",
    "    \"classdef__abstract_methods_pct\": [(0.0, 0.0), (0.0, inf)], # min: 0.0 ; max: 1.0\n",
    "    \"classdef__property_methods_pct\": [(0.0, 0.0), (0.0, inf)], # min: 0.0 ; max: 1.0\n",
    "}\n",
    "\n",
    "discretize_columns(X_copy, discretized_columns)\n",
    "    \n",
    "# SINGLE FEATURE\n",
    "print(\"--- SINGLE FEATURE ---\")\n",
    "print(get_statistics(X_copy, ['classdef__number_of_characters'], 10))\n",
    "print(get_statistics(X_copy, ['classdef__number_of_decorators'], 10))\n",
    "print(get_statistics(X_copy, ['classdef__number_of_methods'], 10))\n",
    "print(get_statistics(X_copy, ['classdef__number_of_base_classes'], 10))\n",
    "print(get_statistics(X_copy, ['classdef__body_count'], 10))\n",
    "print(get_statistics(X_copy, ['classdef__assignments_pct'], 10))\n",
    "print(get_statistics(X_copy, ['classdef__expressions_pct'], 10))\n",
    "print(get_statistics(X_copy, ['classdef__number_of_keywords'], 10))\n",
    "print(get_statistics(X_copy, ['classdef__height'], 10))\n",
    "print(get_statistics(X_copy, ['classdef__average_stmts_method_body'], 10))\n",
    "print(get_statistics(X_copy, ['classdef__type_annotations_pct'], 10))\n",
    "print(get_statistics(X_copy, ['classdef__private_methods_pct'], 10))\n",
    "print(get_statistics(X_copy, ['classdef__magic_methods_pct'], 10))\n",
    "print(get_statistics(X_copy, ['classdef__async_methods_pct'], 10))\n",
    "print(get_statistics(X_copy, ['classdef__class_methods_pct'], 10))\n",
    "print(get_statistics(X_copy, ['classdef__static_methods_pct'], 10))\n",
    "print(get_statistics(X_copy, ['classdef__abstract_methods_pct'], 10))\n",
    "print(get_statistics(X_copy, ['classdef__property_methods_pct'], 10))\n",
    "#print(get_statistics(X_copy, ['classdef__name_convention'], 10))\n",
    "print(get_statistics(X_copy, ['classdef__is_enum_class'], 10))\n",
    "print(get_statistics(X_copy, ['classdef__has_generic_type_annotations'], 10))\n",
    "print(get_statistics(X_copy, ['classdef__has_doc_string'], 10))\n",
    "print(get_statistics(X_copy, ['classdef__uses_meta_class'], 10))\n",
    "\n",
    "\n",
    "# 2 FEATURES\n",
    "print(\"--- TWO FEATURES ---\")\n",
    "print(get_statistics(X_copy, ['classdef__assignments_pct', 'classdef__expressions_pct'], 10))\n",
    "\n",
    "# 3 FEATURES\n",
    "print(\"--- THREE FEATURES ---\")\n",
    "#print(get_statistics(X_copy, ['module__class_defs_pct', 'module__function_defs_pct', 'module__enum_defs_pct'], 10))"
   ],
   "id": "6baf20dd3e3ca759",
   "execution_count": 114,
   "outputs": []
  },
  {
   "metadata": {},
   "cell_type": "markdown",
   "source": [
    "7900 clases sin asignaciones ni expresiones. Serán prints?\n",
    "No hay doc string (se corrije, es fallo mio)\n",
    "No hay generic type annotations -> Esta disponible solo desde Python 3.12"
   ],
   "id": "1ec3e1a3e11df3fc"
  },
  {
   "metadata": {
    "ExecuteTime": {
     "end_time": "2024-05-10T14:34:24.175688Z",
     "start_time": "2024-05-10T14:34:24.087554Z"
    }
   },
   "cell_type": "code",
   "source": [
    "def normalize_datatypes(X:pd.DataFrame, y:pd.Series) -> (pd.DataFrame, pd.Series, [str]):\n",
    "    X = pd.get_dummies(X)\n",
    "    X = X.astype('float32')\n",
    "    y = y.apply(lambda value: 0 if value == \"BEGINNER\" else 1) # EXPERT will be 1 and BEGINNER will be 0.\n",
    "    y = y.astype('float32')\n",
    "    columns_names = X.columns.tolist()\n",
    "    return X, y, columns_names\n",
    "\n",
    "X, y, TABLE_FEATURES = normalize_datatypes(X, y)\n",
    "# Print information about the loaded table\n",
    "print(f'Features shape: {X.shape}')\n",
    "print(f'Target shape: {y.shape}')"
   ],
   "id": "5084c89dcb377a92",
   "execution_count": 110,
   "outputs": []
  },
  {
   "metadata": {},
   "cell_type": "markdown",
   "source": "#### Muestra la matriz de correlación de pearson entre las variables de la tabla.",
   "id": "ed8befe21328a079"
  },
  {
   "metadata": {
    "ExecuteTime": {
     "end_time": "2024-05-10T14:34:36.740656Z",
     "start_time": "2024-05-10T14:34:34.079371Z"
    }
   },
   "cell_type": "code",
   "source": "sns.heatmap(X.corr(), annot=False)",
   "id": "dea960d18d682104",
   "execution_count": 111,
   "outputs": []
  },
  {
   "metadata": {},
   "cell_type": "markdown",
   "source": "La relación entre private y magic methods pct es debido a que hasta ahora siempre que un metodo era magic se marcaba como privado tambien",
   "id": "8a38e480df2a603a"
  },
  {
   "metadata": {},
   "cell_type": "markdown",
   "source": [
    "## 3 - Detección de valores atípicos (outliers)\n",
    "Una vez sabemos qué datos contiene la tabla, analizaremos los valores que toma cada una de las variables de cada instancia. El objetivo es identificar posibles valores atípicos que nos dificulten la realización de futuras tareas. \n",
    "Tras su análisis, se puede concluir que un valor:\n",
    "    - **Es erróneo**. En este caso hay que tomar una decisión para cada caso, siendo los tratamientos más extendidos son listwise, pairwise, drop variables, mean/median imputation, most frequent, separate category, zero imputation, cold deck, hot deck,(stochastic) regression, k-NN and multiple imputation. Los resultados de imputación regresiva, k-NN y múltiple dan buenos resultados, aunque, como se ha indicado, es necesario el estudio en cada caso.\n",
    "    - **Es correcto, pero anómalo**. Se documenta su existencia para su posible discusión y se mantiene en el dataset. En estos casos se hace necesaria la utilización de algoritmos y estadísticos que no sean muy sensibles a dichos valores anómalos.\n",
    "\n",
    "## Univariate\n",
    "Para cada uno de los atributos se debe realizar un análisis y detección de valores atípicos, estudiando su posible causa. \n",
    "Existen diversas formas de calcular los valores anómalos. \n",
    "\n",
    "### Variables numéricas\n",
    "Para las variables numéricas, se suele identificar: \n",
    "    - a) Valor atípico leve es el que está fuera de $[Q1 - 1.5IQR, Q3 + 1.5IQR]$, donde $IQR = Q3-Q1$.\n",
    "    - b) Valor atípico extremo está fuera de $[Q1 - 3IQR, Q3 + 3IQR]$.\n",
    "\n",
    "La idea es probar con a) y si hay pocas instancias analizarlas. Si hubiese muchas, mirar b) y analizar si fuesen pocas. No hay un algoritmo o método estipulado, puesto que depende del dominio del problema y de los datos.\n",
    "\n",
    "Los límites de Tukey se basan en los cuartiles de los datos y son sensibles a la presencia de sesgo en la distribución. Cuando hay asimetría en los datos, los límites de Tukey pueden no ser tan efectivos para identificar outliers de manera equitativa en ambos extremos de la distribución. El Coeficiente de Medcouple es útil para identificar la asimetría en los datos, especialmente en presencia de valores atípicos o sesgados. Es una medida robusta porque no se ve tan afectada por valores extremos como la media y la desviación estándar. El MC puede proporcionar información adicional sobre la asimetría de la distribución, lo que te permite ajustar los límites de Tukey de manera más apropiada para tu conjunto de datos específico. Una posible variacion de los límites de Tukey teniendo en cuenta MC podria ser: \n",
    "   - Si MC es mayor que 0 (asimetría hacia la derecha):\n",
    "      - low = (q1-1.5 * math.exp(-4*mc) * iqr)\n",
    "      - high = (q3+1.5 * math.exp(3.5*mc) * iqr)\n",
    "   - Si la asimetriza es hacia la izquierda:    \n",
    "      - low = (q1-1.5 * math.exp(-3.5*mc) * iqr)\n",
    "      - high = (q3+1.5 * math.exp(4*mc) * iqr)\n",
    "\n",
    "\n",
    "### Variables categóricas\n",
    "Para las variables categóricas no existe el concepto de valor anómalo, pero sí se puede considerar en base a un análisis de frecuencia. Por ejemplo, que el uso de una categoría sea residual, pudiendo tener un 0.1% de instancias en el dataset. Para detectar estos valores, se puede fijar un valor mínimo de frecuencia en función del número posible de valores de la variable categórica (2 en el caso de una variable booleana). Por ejemplo, un umbral de $\\frac{0.2\\%}{valores}$ (0.1% en el caso de una variable booleana)"
   ],
   "id": "599c97eec7b7d283"
  },
  {
   "metadata": {},
   "cell_type": "markdown",
   "source": [
    "## Analisis detallado de variables\n",
    "Para cada una de las 10 variable (3 booleanas, 4 porcentuales y 3 numericas) se hara un analisis detallado "
   ],
   "id": "132c8742057275c"
  },
  {
   "metadata": {},
   "cell_type": "markdown",
   "source": [
    "### Variable is_enum_class (1/24)\n",
    "Esta variable es de tipo booleano y representa si la clase hereda de la clase Enum."
   ],
   "id": "6abba739e46da213"
  },
  {
   "metadata": {
    "ExecuteTime": {
     "end_time": "2024-05-10T14:46:30.448608Z",
     "start_time": "2024-05-10T14:46:29.989158Z"
    }
   },
   "cell_type": "code",
   "source": [
    "plt.xticks([0, 1], ['False', 'True'])\n",
    "sns.histplot(X['classdef__is_enum_class'], discrete=True)"
   ],
   "id": "4ab35b2ef94a3379",
   "execution_count": 116,
   "outputs": []
  },
  {
   "metadata": {
    "ExecuteTime": {
     "end_time": "2024-05-10T14:47:03.167828Z",
     "start_time": "2024-05-10T14:47:03.126251Z"
    }
   },
   "cell_type": "code",
   "source": [
    "num_true_values = len(X[X['classdef__is_enum_class'] == True])\n",
    "num_false_values = len(X[X['classdef__is_enum_class'] == False])\n",
    "std = X['classdef__is_enum_class'].std()\n",
    "freq_true = len(X[X['classdef__is_enum_class'] == True]) / len(X['classdef__is_enum_class'])\n",
    "freq_false = len(X[X['classdef__is_enum_class'] == False]) / len(X['classdef__is_enum_class'])\n",
    "print(f'La variable is_enum_class contiene {num_true_values} valores verdaderos y {num_false_values} valores falsos. Y, la desviación típica es de {std}')\n",
    "print(f'La frecuencia con la que programa puede tener la variable is_enum_class a True es {freq_true}.')\n",
    "print(f'La frecuencia con la que programa puede tener la variable is_enum_class a False es {freq_false}.')"
   ],
   "id": "f4a042829ae6fac5",
   "execution_count": 117,
   "outputs": []
  },
  {
   "metadata": {
    "ExecuteTime": {
     "end_time": "2024-05-10T14:47:13.657854Z",
     "start_time": "2024-05-10T14:47:13.633046Z"
    }
   },
   "cell_type": "code",
   "source": [
    "possible_values = [True, False]\n",
    "print_frequency_anal_for_cat_var(X, 'classdef__is_enum_class', possible_values)"
   ],
   "id": "c614dd60d0ab8e5b",
   "execution_count": 118,
   "outputs": []
  },
  {
   "metadata": {
    "ExecuteTime": {
     "end_time": "2024-05-10T14:47:21.332438Z",
     "start_time": "2024-05-10T14:47:21.142501Z"
    }
   },
   "cell_type": "code",
   "source": "X[X['classdef__is_enum_class'] == True].describe(percentiles=[.25, .50, .75], include = ['object', 'float', 'bool', 'int'])\n",
   "id": "6c33bdd1420008cf",
   "execution_count": 119,
   "outputs": []
  },
  {
   "metadata": {},
   "cell_type": "markdown",
   "source": [
    "### Variable has_generic_type_annotations (2/24)\n",
    "Esta variable es de tipo booleano y representa si la clase define un tipo genérico"
   ],
   "id": "1fa4491178ba606c"
  },
  {
   "metadata": {
    "ExecuteTime": {
     "end_time": "2024-05-10T14:48:28.895244Z",
     "start_time": "2024-05-10T14:48:28.589721Z"
    }
   },
   "cell_type": "code",
   "source": [
    "plt.xticks([0, 1], ['False', 'True'])\n",
    "sns.histplot(X['classdef__has_generic_type_annotations'], discrete=True)"
   ],
   "id": "529b7fd2ad00b058",
   "execution_count": 120,
   "outputs": []
  },
  {
   "metadata": {
    "ExecuteTime": {
     "end_time": "2024-05-10T14:48:55.955142Z",
     "start_time": "2024-05-10T14:48:55.927130Z"
    }
   },
   "cell_type": "code",
   "source": [
    "#ANALISIS DE DISTRIBUCIÓN DE DATOS\n",
    "num_true_values = len(X[X['classdef__has_generic_type_annotations'] == True])\n",
    "num_false_values = len(X[X['classdef__has_generic_type_annotations'] == False])\n",
    "std = X['classdef__has_generic_type_annotations'].std()\n",
    "freq_true = len(X[X['classdef__has_generic_type_annotations'] == True]) / len(X['classdef__has_generic_type_annotations'])\n",
    "freq_false = len(X[X['classdef__has_generic_type_annotations'] == False]) / len(X['classdef__has_generic_type_annotations'])\n",
    "print(f'La variable has_generic_type_annotations contiene {num_true_values} valores verdaderos y {num_false_values} valores falsos. Y, la desviación típica es de {std}')\n",
    "print(f'La frecuencia con la que programa puede tener la variable has_generic_type_annotations a True es {freq_true}.')\n",
    "print(f'La frecuencia con la que programa puede tener la variable has_generic_type_annotations a False es {freq_false}.')"
   ],
   "id": "d1bed1e471481adc",
   "execution_count": 121,
   "outputs": []
  },
  {
   "metadata": {
    "ExecuteTime": {
     "end_time": "2024-05-10T14:48:57.850813Z",
     "start_time": "2024-05-10T14:48:57.835608Z"
    }
   },
   "cell_type": "code",
   "source": [
    "#PROBABILIDAD DE VALORES\n",
    "possible_values = [True, False]\n",
    "print_frequency_anal_for_cat_var(X, 'classdef__has_generic_type_annotations', possible_values)"
   ],
   "id": "c54b472864a47e88",
   "execution_count": 122,
   "outputs": []
  },
  {
   "metadata": {
    "ExecuteTime": {
     "end_time": "2024-05-10T14:49:04.085120Z",
     "start_time": "2024-05-10T14:49:03.976210Z"
    }
   },
   "cell_type": "code",
   "source": [
    "#VALORES DE LOS DATOS CONDICIONADOS A TRUE/FALSE\n",
    "X[X['classdef__has_generic_type_annotations'] == True].describe(percentiles=[.25, .50, .75], include = ['object', 'float', 'bool', 'int'])"
   ],
   "id": "4bd840561db5f69f",
   "execution_count": 123,
   "outputs": []
  },
  {
   "metadata": {},
   "cell_type": "markdown",
   "source": [
    "### Variable has_doc_string (3/24)\n",
    "Esta variable es booleana y representa si el primer elemento del cuerpo de la clase es un doc_string. String planos usados como comentarios."
   ],
   "id": "55e11303a6b9f7d6"
  },
  {
   "metadata": {
    "ExecuteTime": {
     "end_time": "2024-05-10T14:50:50.748215Z",
     "start_time": "2024-05-10T14:50:49.835359Z"
    }
   },
   "cell_type": "code",
   "source": [
    "plt.xticks([0, 1], ['False', 'True'])\n",
    "sns.histplot(X['classdef__has_doc_string'], discrete=True)"
   ],
   "id": "3d54f29de8308c46",
   "execution_count": 124,
   "outputs": []
  },
  {
   "metadata": {
    "ExecuteTime": {
     "end_time": "2024-05-10T14:51:35.139724Z",
     "start_time": "2024-05-10T14:51:35.095203Z"
    }
   },
   "cell_type": "code",
   "source": [
    "#ANALISIS DE DISTRIBUCIÓN DE DATOS\n",
    "num_true_values = len(X[X['classdef__has_doc_string'] == True])\n",
    "num_false_values = len(X[X['classdef__has_doc_string'] == False])\n",
    "std = X['classdef__has_doc_string'].std()\n",
    "freq_true = len(X[X['classdef__has_doc_string'] == True]) / len(X['classdef__has_doc_string'])\n",
    "freq_false = len(X[X['classdef__has_doc_string'] == False]) / len(X['classdef__has_doc_string'])\n",
    "print(f'La variable has_doc_string contiene {num_true_values} valores verdaderos y {num_false_values} valores falsos. Y, la desviación típica es de {std}')\n",
    "print(f'La frecuencia con la que programa puede tener la variable has_doc_string a True es {freq_true}.')\n",
    "print(f'La frecuencia con la que programa puede tener la variable has_doc_string a False es {freq_false}.')"
   ],
   "id": "2eb1b1c16de8cdd6",
   "execution_count": 125,
   "outputs": []
  },
  {
   "metadata": {},
   "cell_type": "code",
   "execution_count": 122,
   "source": [
    "#PROBABILIDAD DE VALORES\n",
    "possible_values = [True, False]\n",
    "print_frequency_anal_for_cat_var(X, 'classdef__has_doc_string', possible_values)"
   ],
   "id": "77d67e1a9229488c",
   "outputs": []
  },
  {
   "metadata": {
    "ExecuteTime": {
     "end_time": "2024-05-10T14:51:40.544529Z",
     "start_time": "2024-05-10T14:51:40.396618Z"
    }
   },
   "cell_type": "code",
   "source": [
    "#VALORES DE LOS DATOS CONDICIONADOS A TRUE/FALSE\n",
    "X[X['classdef__has_doc_string'] == True].describe(percentiles=[.25, .50, .75], include = ['object', 'float', 'bool', 'int'])"
   ],
   "id": "4f8aa89df7929f1",
   "execution_count": 126,
   "outputs": []
  },
  {
   "metadata": {},
   "cell_type": "markdown",
   "source": [
    "### Variable uses_meta_class (4/24)\n",
    "Esta variable es booleana y representa si la clase usa una metaclass."
   ],
   "id": "18a8e13e56bc2bb5"
  },
  {
   "metadata": {
    "ExecuteTime": {
     "end_time": "2024-05-10T14:53:06.632372Z",
     "start_time": "2024-05-10T14:53:06.330860Z"
    }
   },
   "cell_type": "code",
   "source": [
    "plt.xticks([0, 1], ['False', 'True'])\n",
    "sns.histplot(X['classdef__uses_meta_class'], discrete=True)"
   ],
   "id": "5324fb5df46dfbbb",
   "execution_count": 127,
   "outputs": []
  },
  {
   "metadata": {
    "ExecuteTime": {
     "end_time": "2024-05-10T14:53:23.574396Z",
     "start_time": "2024-05-10T14:53:23.542046Z"
    }
   },
   "cell_type": "code",
   "source": [
    "#ANALISIS DE DISTRIBUCIÓN DE DATOS\n",
    "num_true_values = len(X[X['classdef__uses_meta_class'] == True])\n",
    "num_false_values = len(X[X['classdef__uses_meta_class'] == False])\n",
    "std = X['classdef__uses_meta_class'].std()\n",
    "freq_true = len(X[X['classdef__uses_meta_class'] == True]) / len(X['classdef__uses_meta_class'])\n",
    "freq_false = len(X[X['classdef__uses_meta_class'] == False]) / len(X['classdef__uses_meta_class'])\n",
    "print(f'La variable uses_meta_class contiene {num_true_values} valores verdaderos y {num_false_values} valores falsos. Y, la desviación típica es de {std}')\n",
    "print(f'La frecuencia con la que programa puede tener la variable uses_meta_class a True es {freq_true}.')\n",
    "print(f'La frecuencia con la que programa puede tener la variable uses_meta_class a False es {freq_false}.')"
   ],
   "id": "3a3d461ef8ecb975",
   "execution_count": 128,
   "outputs": []
  },
  {
   "metadata": {
    "ExecuteTime": {
     "end_time": "2024-05-10T14:53:29.114421Z",
     "start_time": "2024-05-10T14:53:29.095535Z"
    }
   },
   "cell_type": "code",
   "source": [
    "#PROBABILIDAD DE VALORES\n",
    "possible_values = [True, False]\n",
    "print_frequency_anal_for_cat_var(X, 'classdef__uses_meta_class', possible_values)"
   ],
   "id": "fe8e2a0b79c6c2e5",
   "execution_count": 129,
   "outputs": []
  },
  {
   "metadata": {
    "ExecuteTime": {
     "end_time": "2024-05-10T14:53:41.869535Z",
     "start_time": "2024-05-10T14:53:41.738809Z"
    }
   },
   "cell_type": "code",
   "source": [
    "#VALORES DE LOS DATOS CONDICIONADOS A TRUE/FALSE\n",
    "X[X['classdef__uses_meta_class'] == True].describe(percentiles=[.25, .50, .75], include = ['object', 'float', 'bool', 'int'])"
   ],
   "id": "4322793c7ab4814a",
   "execution_count": 130,
   "outputs": []
  },
  {
   "metadata": {},
   "cell_type": "markdown",
   "source": "Un 72% son expertos y un 28% beginners",
   "id": "94ce7c7921c3e4e9"
  },
  {
   "metadata": {},
   "cell_type": "markdown",
   "source": [
    "### Variable number_of_characters (5/24)\n",
    "Esta variable representa el número de caracteres que tiene el nombre de la clase. Como vimos en la descripción de la tabla esta varibale adopta valores en el rango 1 - 52. Con una media de 13.96."
   ],
   "id": "119fc307a9194a96"
  },
  {
   "metadata": {
    "ExecuteTime": {
     "end_time": "2024-05-10T14:59:34.666925Z",
     "start_time": "2024-05-10T14:59:34.246618Z"
    }
   },
   "cell_type": "code",
   "source": "sns.stripplot(X['classdef__number_of_characters'])",
   "id": "5efd7fbb4f34563d",
   "execution_count": 132,
   "outputs": []
  },
  {
   "metadata": {
    "ExecuteTime": {
     "end_time": "2024-05-10T14:59:41.028120Z",
     "start_time": "2024-05-10T14:59:40.991573Z"
    }
   },
   "cell_type": "code",
   "source": "print_outliers_for_df_column(X, 'classdef__number_of_characters')",
   "id": "e5649a2923239004",
   "execution_count": 133,
   "outputs": []
  },
  {
   "metadata": {
    "ExecuteTime": {
     "end_time": "2024-05-10T14:59:57.310165Z",
     "start_time": "2024-05-10T14:59:57.165055Z"
    }
   },
   "cell_type": "code",
   "source": "X[X['classdef__number_of_characters'] > 45.0].describe(percentiles=[.25, .50, .75], include = ['object', 'float', 'bool', 'int'])",
   "id": "5c5e0e6eb4cd173",
   "execution_count": 134,
   "outputs": []
  },
  {
   "metadata": {},
   "cell_type": "markdown",
   "source": "Todo clases de expertos con nombres muy largos y concretos.",
   "id": "6a7661d9d5d1fd19"
  },
  {
   "metadata": {},
   "cell_type": "markdown",
   "source": [
    "### Variable number_of_decorators (6/24)\n",
    "Esta variable representa el número de decoradores que tiene la clase. Como vimos en la descripción de la tabla esta varibale adopta valores en el rango 0 - 5. Con una media de 0.14."
   ],
   "id": "a92021ee6047bd1d"
  },
  {
   "metadata": {
    "ExecuteTime": {
     "end_time": "2024-05-10T15:03:15.621154Z",
     "start_time": "2024-05-10T15:03:15.258707Z"
    }
   },
   "cell_type": "code",
   "source": "sns.stripplot(X['classdef__number_of_decorators'])",
   "id": "1b8338fdb1c032b5",
   "execution_count": 135,
   "outputs": []
  },
  {
   "metadata": {
    "ExecuteTime": {
     "end_time": "2024-05-10T15:03:42.838826Z",
     "start_time": "2024-05-10T15:03:42.806195Z"
    }
   },
   "cell_type": "code",
   "source": "print_outliers_for_df_column(X, 'classdef__number_of_decorators')",
   "id": "3444c461d823515d",
   "execution_count": 136,
   "outputs": []
  },
  {
   "metadata": {
    "ExecuteTime": {
     "end_time": "2024-05-10T15:04:16.411246Z",
     "start_time": "2024-05-10T15:04:16.282750Z"
    }
   },
   "cell_type": "code",
   "source": "X[X['classdef__number_of_decorators'] > 0].describe(percentiles=[.25, .50, .75], include = ['object', 'float', 'bool', 'int'])",
   "id": "44b1c024f9d465e9",
   "execution_count": 137,
   "outputs": []
  },
  {
   "metadata": {},
   "cell_type": "markdown",
   "source": "Un 99,7% de las clases con decoradores son de expertos.",
   "id": "490f89621d2171a0"
  },
  {
   "metadata": {},
   "cell_type": "markdown",
   "source": [
    "### Variable number_of_methods (7/24)\n",
    "Esta variable representa el número de métodos en la clase. Como vimos en la descripción de la tabla esta varibale adopta valores en el rango 0 - 231. Con una media de 4.154."
   ],
   "id": "9e889648c0e5a078"
  },
  {
   "metadata": {
    "ExecuteTime": {
     "end_time": "2024-05-10T15:06:25.374310Z",
     "start_time": "2024-05-10T15:06:24.986159Z"
    }
   },
   "cell_type": "code",
   "source": "sns.stripplot(X['classdef__number_of_methods'])",
   "id": "536be140a0b685eb",
   "execution_count": 138,
   "outputs": []
  },
  {
   "metadata": {
    "ExecuteTime": {
     "end_time": "2024-05-10T15:06:53.460355Z",
     "start_time": "2024-05-10T15:06:53.430616Z"
    }
   },
   "cell_type": "code",
   "source": "print_outliers_for_df_column(X, 'classdef__number_of_methods')",
   "id": "d76842919b0b6dbe",
   "execution_count": 139,
   "outputs": []
  },
  {
   "metadata": {
    "ExecuteTime": {
     "end_time": "2024-05-10T15:07:04.444073Z",
     "start_time": "2024-05-10T15:07:04.284477Z"
    }
   },
   "cell_type": "code",
   "source": "X[X['classdef__number_of_methods'] > 150].describe(percentiles=[.25, .50, .75], include = ['object', 'float', 'bool', 'int'])",
   "id": "e07c9b0d8cfd4af0",
   "execution_count": 140,
   "outputs": []
  },
  {
   "metadata": {},
   "cell_type": "markdown",
   "source": "Hay que revisar ese con el máximo de 231",
   "id": "43f278c707bbaa32"
  },
  {
   "metadata": {
    "ExecuteTime": {
     "end_time": "2024-05-10T15:07:41.881063Z",
     "start_time": "2024-05-10T15:07:41.754129Z"
    }
   },
   "cell_type": "code",
   "source": "X[X['classdef__number_of_methods'] == 0.0].describe(percentiles=[.25, .50, .75], include = ['object', 'float', 'bool', 'int'])",
   "id": "cfefd7da7b6b7096",
   "execution_count": 141,
   "outputs": []
  },
  {
   "metadata": {},
   "cell_type": "markdown",
   "source": "Más de 4000 clases sin métodos? La mayoría usan al menos una base_class. Será herencia mal utilizada? Un alto porcentaje tiene simplemente un comentario y una sentencia Pass. Todo apunta a herencia mal usada.",
   "id": "bcc34941a07ad275"
  },
  {
   "metadata": {},
   "cell_type": "markdown",
   "source": [
    "### Variable number_of_base_classes (8/24)\n",
    "Esta variable representa el número de base_classes que tiene la clase. Como vimos en la descripción de la tabla esta varibale adopta valores en el rango 0 - 45. Con una media de 0.83."
   ],
   "id": "3237adcf6d852d54"
  },
  {
   "metadata": {
    "ExecuteTime": {
     "end_time": "2024-05-10T15:14:58.970353Z",
     "start_time": "2024-05-10T15:14:58.481489Z"
    }
   },
   "cell_type": "code",
   "source": "sns.stripplot(X['classdef__number_of_base_classes'])",
   "id": "49c1f29ab859070d",
   "execution_count": 143,
   "outputs": []
  },
  {
   "metadata": {},
   "cell_type": "markdown",
   "source": "Hay que comprobar la clase con 45 base classes. Es una clase de experto de algún tipo de interfaz gráfica.",
   "id": "42e316c6043f233c"
  },
  {
   "metadata": {
    "ExecuteTime": {
     "end_time": "2024-05-10T15:15:04.202203Z",
     "start_time": "2024-05-10T15:15:04.170627Z"
    }
   },
   "cell_type": "code",
   "source": "print_outliers_for_df_column(X, 'classdef__number_of_base_classes')",
   "id": "c94aafc56eda3a37",
   "execution_count": 144,
   "outputs": []
  },
  {
   "metadata": {
    "ExecuteTime": {
     "end_time": "2024-05-10T15:15:16.340862Z",
     "start_time": "2024-05-10T15:15:16.169993Z"
    }
   },
   "cell_type": "code",
   "source": "X[X['classdef__number_of_base_classes'] > 1].describe(percentiles=[.25, .50, .75], include = ['object', 'float', 'bool', 'int'])",
   "id": "c55bd18d1542ab0b",
   "execution_count": 145,
   "outputs": []
  },
  {
   "metadata": {},
   "cell_type": "markdown",
   "source": [
    "### Variable average_stmts_method_body (9/24)\n",
    "Esta variable representa el número medio de sentencias en los métodos de la clase. Como vimos en la descripción de la tabla esta varibale adopta valores en el rango 0 - 114. Con una media de 2.9."
   ],
   "id": "f11d8d588421cab1"
  },
  {
   "metadata": {
    "ExecuteTime": {
     "end_time": "2024-05-10T15:29:53.886755Z",
     "start_time": "2024-05-10T15:29:53.599320Z"
    }
   },
   "cell_type": "code",
   "source": "sns.stripplot(X['classdef__average_stmts_method_body'])",
   "id": "fae1601a3f5c97f8",
   "execution_count": 167,
   "outputs": []
  },
  {
   "metadata": {
    "ExecuteTime": {
     "end_time": "2024-05-10T15:29:57.368112Z",
     "start_time": "2024-05-10T15:29:57.352832Z"
    }
   },
   "cell_type": "code",
   "source": "print_outliers_for_df_column(X, 'classdef__average_stmts_method_body')",
   "id": "62851bb819975c28",
   "execution_count": 168,
   "outputs": []
  },
  {
   "metadata": {
    "ExecuteTime": {
     "end_time": "2024-05-10T15:30:06.900888Z",
     "start_time": "2024-05-10T15:30:06.808118Z"
    }
   },
   "cell_type": "code",
   "source": "X[X['classdef__average_stmts_method_body'] > 13].describe(percentiles=[.25, .50, .75], include = ['object', 'float', 'bool', 'int'])",
   "id": "b402c594c4f41cd3",
   "execution_count": 169,
   "outputs": []
  },
  {
   "metadata": {},
   "cell_type": "markdown",
   "source": [
    "### Variable body_count (10/24)\n",
    "Esta variable representa el número de sentencias que tiene la clase en el root. Como vimos en la descripción de la tabla esta varibale adopta valores en el rango 1 - 618. Con una media de 5.76."
   ],
   "id": "3b75571359a7aba0"
  },
  {
   "metadata": {
    "ExecuteTime": {
     "end_time": "2024-05-10T15:18:26.251678Z",
     "start_time": "2024-05-10T15:18:25.855598Z"
    }
   },
   "cell_type": "code",
   "source": "sns.stripplot(X['classdef__body_count'])",
   "id": "9018bba89001a123",
   "execution_count": 146,
   "outputs": []
  },
  {
   "metadata": {
    "ExecuteTime": {
     "end_time": "2024-05-10T15:18:30.220007Z",
     "start_time": "2024-05-10T15:18:30.201384Z"
    }
   },
   "cell_type": "code",
   "source": "print_outliers_for_df_column(X, 'classdef__body_count')",
   "id": "179f00ef0eae31b0",
   "execution_count": 147,
   "outputs": []
  },
  {
   "metadata": {
    "ExecuteTime": {
     "end_time": "2024-05-10T15:18:44.837391Z",
     "start_time": "2024-05-10T15:18:44.753637Z"
    }
   },
   "cell_type": "code",
   "source": "X[X['classdef__body_count'] > 171].describe(percentiles=[.25, .50, .75], include = ['object', 'float', 'bool', 'int'])",
   "id": "76616137947e7411",
   "execution_count": 149,
   "outputs": []
  },
  {
   "metadata": {},
   "cell_type": "markdown",
   "source": "Clases muy grandes ",
   "id": "f44779925416af87"
  },
  {
   "metadata": {},
   "cell_type": "markdown",
   "source": [
    "### Variable number_of_keywords (11/24)\n",
    "Esta variable representa el número de keywords diferentes de metaclass que tiene la clase. Como vimos en la descripción de la tabla esta varibale adopta valores en el rango 0 - 2. Con una media de 0.00054."
   ],
   "id": "29249aed98f93248"
  },
  {
   "metadata": {
    "ExecuteTime": {
     "end_time": "2024-05-10T15:20:46.147620Z",
     "start_time": "2024-05-10T15:20:45.854900Z"
    }
   },
   "cell_type": "code",
   "source": "sns.stripplot(X['classdef__number_of_keywords'])",
   "id": "d2df78722d3d910d",
   "execution_count": 150,
   "outputs": []
  },
  {
   "metadata": {
    "ExecuteTime": {
     "end_time": "2024-05-10T15:20:51.250910Z",
     "start_time": "2024-05-10T15:20:51.236260Z"
    }
   },
   "cell_type": "code",
   "source": "print_outliers_for_df_column(X, 'classdef__number_of_keywords')",
   "id": "a974d7baf36f4a97",
   "execution_count": 151,
   "outputs": []
  },
  {
   "metadata": {
    "ExecuteTime": {
     "end_time": "2024-05-10T15:21:01.498284Z",
     "start_time": "2024-05-10T15:21:01.423675Z"
    }
   },
   "cell_type": "code",
   "source": "X[X['classdef__number_of_keywords'] > 0].describe(percentiles=[.25, .50, .75], include = ['object', 'float', 'bool', 'int'])",
   "id": "a0f60b377eb7f16e",
   "execution_count": 153,
   "outputs": []
  },
  {
   "metadata": {},
   "cell_type": "markdown",
   "source": "Todo clases de expertos",
   "id": "be572ef4d55db345"
  },
  {
   "metadata": {},
   "cell_type": "markdown",
   "source": [
    "### Variable height (12/24)\n",
    "Esta variable representa la distancia a la raiz del modulo en la que se encuentra la clase. Como vimos en la descripción de la tabla esta varibale adopta valores en el rango 1 - 8. Con una media de 1.17."
   ],
   "id": "ba724cf749c45355"
  },
  {
   "metadata": {
    "ExecuteTime": {
     "end_time": "2024-05-10T15:22:20.842742Z",
     "start_time": "2024-05-10T15:22:20.505009Z"
    }
   },
   "cell_type": "code",
   "source": "sns.stripplot(X['classdef__height'])",
   "id": "45e66551c2a8a588",
   "execution_count": 154,
   "outputs": []
  },
  {
   "metadata": {},
   "cell_type": "markdown",
   "source": "Hay que revisar los que tiene profundidad 8. Ambas son clases vacias con una sentencia Pass en programas de expertos.",
   "id": "7a12135f6abbe81e"
  },
  {
   "metadata": {
    "ExecuteTime": {
     "end_time": "2024-05-10T15:22:25.853817Z",
     "start_time": "2024-05-10T15:22:25.816105Z"
    }
   },
   "cell_type": "code",
   "source": "print_outliers_for_df_column(X, 'classdef__height')",
   "id": "7615fa7bc0174c33",
   "execution_count": 155,
   "outputs": []
  },
  {
   "metadata": {
    "ExecuteTime": {
     "end_time": "2024-05-10T15:22:31.460775Z",
     "start_time": "2024-05-10T15:22:31.374133Z"
    }
   },
   "cell_type": "code",
   "source": "X[X['classdef__height'] > 1].describe(percentiles=[.25, .50, .75], include = ['object', 'float', 'bool', 'int'])",
   "id": "cf6b23091e487719",
   "execution_count": 156,
   "outputs": []
  },
  {
   "metadata": {},
   "cell_type": "markdown",
   "source": [
    "### Variable assignments_pct (13/24)\n",
    "Esta variable representa la proporción de las sentencias en el root de la clase que son asignaciones. Toma los valores de 0.0 - 1.0. La media es 0.157."
   ],
   "id": "ab0e91c1d1974f0a"
  },
  {
   "metadata": {
    "ExecuteTime": {
     "end_time": "2024-05-10T15:25:08.475192Z",
     "start_time": "2024-05-10T15:25:07.935122Z"
    }
   },
   "cell_type": "code",
   "source": "sns.displot(X['classdef__assignments_pct'], bins=[i / 100 for i in range(0, 101)])",
   "id": "ae3f7b82f7e2e5a9",
   "execution_count": 158,
   "outputs": []
  },
  {
   "metadata": {
    "ExecuteTime": {
     "end_time": "2024-05-10T15:25:36.580770Z",
     "start_time": "2024-05-10T15:25:36.566481Z"
    }
   },
   "cell_type": "code",
   "source": "print_outliers_for_df_column(X, 'classdef__assignments_pct')",
   "id": "128a40279fa3c260",
   "execution_count": 159,
   "outputs": []
  },
  {
   "metadata": {
    "ExecuteTime": {
     "end_time": "2024-05-10T15:26:07.322439Z",
     "start_time": "2024-05-10T15:26:07.216132Z"
    }
   },
   "cell_type": "code",
   "source": "X[X['classdef__assignments_pct'] > 0.7].describe(percentiles=[.25, .50, .75], include = ['object', 'float', 'bool', 'int'])",
   "id": "220b9358ad3ffcac",
   "execution_count": 162,
   "outputs": []
  },
  {
   "metadata": {},
   "cell_type": "markdown",
   "source": [
    "### Variable expressions_pct (14/24)\n",
    "Esta variable representa la proporción de las sentencias en root de la clase que son expresiones. Este campo toma valores del 0.0 - 1.0. Su media es 0.143."
   ],
   "id": "44ce042d4954490d"
  },
  {
   "metadata": {
    "ExecuteTime": {
     "end_time": "2024-05-10T15:27:20.463807Z",
     "start_time": "2024-05-10T15:27:19.855987Z"
    }
   },
   "cell_type": "code",
   "source": "sns.displot(X['classdef__expressions_pct'], bins=[i / 100 for i in range(0, 101)])",
   "id": "fa0bbc143d5518cf",
   "execution_count": 163,
   "outputs": []
  },
  {
   "metadata": {},
   "cell_type": "markdown",
   "source": "La mayoría es 0, relativamente lógico debido al uso de encapsulación.",
   "id": "43477e33e42fc3cf"
  },
  {
   "metadata": {
    "ExecuteTime": {
     "end_time": "2024-05-10T15:27:28.748236Z",
     "start_time": "2024-05-10T15:27:28.725617Z"
    }
   },
   "cell_type": "code",
   "source": "print_outliers_for_df_column(X, 'classdef__expressions_pct')",
   "id": "2af888e24190e6ae",
   "execution_count": 164,
   "outputs": []
  },
  {
   "metadata": {
    "ExecuteTime": {
     "end_time": "2024-05-10T15:27:53.402227Z",
     "start_time": "2024-05-10T15:27:53.288847Z"
    }
   },
   "cell_type": "code",
   "source": "X[X['classdef__expressions_pct'] > 0.625].describe(percentiles=[.25, .50, .75], include = ['object', 'float', 'bool', 'int'])",
   "id": "9d4996b6c87ba9d9",
   "execution_count": 166,
   "outputs": []
  },
  {
   "metadata": {},
   "cell_type": "markdown",
   "source": [
    "### Variable type_annotations_pct (15/24)\n",
    "Esta variable representa la proporción de parámetros y returns con anotacion de tipo en la clase. Esta variable toma valores de 0.0 - 1.0. Su media es 0.125. "
   ],
   "id": "75bd2275c90702f2"
  },
  {
   "metadata": {
    "ExecuteTime": {
     "end_time": "2024-05-10T15:31:27.276648Z",
     "start_time": "2024-05-10T15:31:26.746159Z"
    }
   },
   "cell_type": "code",
   "source": "sns.displot(X['classdef__type_annotations_pct'], bins=[i / 100 for i in range(0, 101)])",
   "id": "c549e5fab2340344",
   "execution_count": 171,
   "outputs": []
  },
  {
   "metadata": {
    "ExecuteTime": {
     "end_time": "2024-05-10T15:31:33.738214Z",
     "start_time": "2024-05-10T15:31:33.724200Z"
    }
   },
   "cell_type": "code",
   "source": "print_outliers_for_df_column(X, 'classdef__type_annotations_pct')",
   "id": "e5c20979dd80188a",
   "execution_count": 172,
   "outputs": []
  },
  {
   "metadata": {
    "ExecuteTime": {
     "end_time": "2024-05-10T15:31:52.181383Z",
     "start_time": "2024-05-10T15:31:52.104566Z"
    }
   },
   "cell_type": "code",
   "source": "X[X['classdef__type_annotations_pct'] > 0.8].describe(percentiles=[.25, .50, .75], include = ['object', 'float', 'bool', 'int'])",
   "id": "d341748640f0d0f",
   "execution_count": 174,
   "outputs": []
  },
  {
   "metadata": {},
   "cell_type": "markdown",
   "source": [
    "### Variable private_methods_pct (16/24)\n",
    "Esta variable representa la proporción de métodos que son privados en la clase. Esta variable toma valores de 0.0 - 1.0. Su media es 0.33"
   ],
   "id": "e1812f30451e79fe"
  },
  {
   "metadata": {
    "ExecuteTime": {
     "end_time": "2024-05-10T15:32:41.272038Z",
     "start_time": "2024-05-10T15:32:40.817889Z"
    }
   },
   "cell_type": "code",
   "source": "sns.displot(X['classdef__private_methods_pct'], bins=[i / 100 for i in range(0, 101)])",
   "id": "f33d936a0f350bd7",
   "execution_count": 175,
   "outputs": []
  },
  {
   "metadata": {
    "ExecuteTime": {
     "end_time": "2024-05-10T15:32:48.013266Z",
     "start_time": "2024-05-10T15:32:47.998084Z"
    }
   },
   "cell_type": "code",
   "source": "print_outliers_for_df_column(X, 'classdef__private_methods_pct')",
   "id": "82b55b2117c14ee8",
   "execution_count": 176,
   "outputs": []
  },
  {
   "metadata": {
    "ExecuteTime": {
     "end_time": "2024-05-10T15:33:10.421211Z",
     "start_time": "2024-05-10T15:33:10.338283Z"
    }
   },
   "cell_type": "code",
   "source": "X[X['classdef__private_methods_pct'] == 1.0].describe(percentiles=[.25, .50, .75], include = ['object', 'float', 'bool', 'int'])",
   "id": "cbbe2d55d54aa441",
   "execution_count": 178,
   "outputs": []
  },
  {
   "metadata": {},
   "cell_type": "markdown",
   "source": [
    "### Variable private_methods_pct (17/24)\n",
    "Esta variable representa la proporción de métodos que son privados en la clase. Esta variable toma valores de 0.0 - 1.0. Su media es 0.33"
   ],
   "id": "677d2f4a14b346f1"
  },
  {
   "metadata": {},
   "cell_type": "code",
   "execution_count": 175,
   "source": "sns.displot(X['classdef__private_methods_pct'], bins=[i / 100 for i in range(0, 101)])",
   "id": "d6185ad9bcf75495",
   "outputs": []
  },
  {
   "metadata": {},
   "cell_type": "code",
   "execution_count": 176,
   "source": "print_outliers_for_df_column(X, 'classdef__private_methods_pct')",
   "id": "caf193edc8ae702f",
   "outputs": []
  },
  {
   "metadata": {},
   "cell_type": "code",
   "execution_count": 178,
   "source": "X[X['classdef__private_methods_pct'] == 1.0].describe(percentiles=[.25, .50, .75], include = ['object', 'float', 'bool', 'int'])",
   "id": "d5453c3db9c48666",
   "outputs": []
  },
  {
   "metadata": {},
   "cell_type": "markdown",
   "source": "Sorprendente que haya clases que SOLO tengan métodos privados. Para que? Mal uso del POO?",
   "id": "dfccac930edac3cd"
  },
  {
   "metadata": {},
   "cell_type": "markdown",
   "source": [
    "### Variable magic_methods_pct (18/24)\n",
    "Esta variable representa la proporción de métodos que son magic en la clase. Esta variable toma valores de 0.0 - 1.0. Su media es 0.266"
   ],
   "id": "e90d443a71926b88"
  },
  {
   "metadata": {
    "ExecuteTime": {
     "end_time": "2024-05-10T15:37:02.961765Z",
     "start_time": "2024-05-10T15:37:02.442897Z"
    }
   },
   "cell_type": "code",
   "source": "sns.displot(X['classdef__magic_methods_pct'], bins=[i / 100 for i in range(0, 101)])",
   "id": "7741b2d971d024ae",
   "execution_count": 179,
   "outputs": []
  },
  {
   "metadata": {
    "ExecuteTime": {
     "end_time": "2024-05-10T15:37:05.520099Z",
     "start_time": "2024-05-10T15:37:05.507096Z"
    }
   },
   "cell_type": "code",
   "source": "print_outliers_for_df_column(X, 'classdef__magic_methods_pct')",
   "id": "69425d9770890f26",
   "execution_count": 180,
   "outputs": []
  },
  {
   "metadata": {
    "ExecuteTime": {
     "end_time": "2024-05-10T15:37:11.214251Z",
     "start_time": "2024-05-10T15:37:11.134113Z"
    }
   },
   "cell_type": "code",
   "source": "X[X['classdef__magic_methods_pct'] == 1.0].describe(percentiles=[.25, .50, .75], include = ['object', 'float', 'bool', 'int'])",
   "id": "c6b5e9d08bd1977",
   "execution_count": 181,
   "outputs": []
  },
  {
   "metadata": {},
   "cell_type": "markdown",
   "source": [
    "### Variable async_methods_pct (19/24)\n",
    "Esta variable representa la proporción de métodos que son asincronos en la clase. Esta variable toma valores de 0.0 - 1.0. Su media es 0.024"
   ],
   "id": "84c461a02b7bf77b"
  },
  {
   "metadata": {
    "ExecuteTime": {
     "end_time": "2024-05-10T15:39:24.163895Z",
     "start_time": "2024-05-10T15:39:23.688467Z"
    }
   },
   "cell_type": "code",
   "source": "sns.displot(X['classdef__async_methods_pct'], bins=[i / 100 for i in range(0, 101)])",
   "id": "5f755e8e2db401ae",
   "execution_count": 182,
   "outputs": []
  },
  {
   "metadata": {
    "ExecuteTime": {
     "end_time": "2024-05-10T15:39:27.630998Z",
     "start_time": "2024-05-10T15:39:27.616952Z"
    }
   },
   "cell_type": "code",
   "source": "print_outliers_for_df_column(X, 'classdef__async_methods_pct')",
   "id": "826fdc98f1432f83",
   "execution_count": 183,
   "outputs": []
  },
  {
   "metadata": {
    "ExecuteTime": {
     "end_time": "2024-05-10T15:39:44.154020Z",
     "start_time": "2024-05-10T15:39:44.036651Z"
    }
   },
   "cell_type": "code",
   "source": "X[X['classdef__async_methods_pct'] > 0.0].describe(percentiles=[.25, .50, .75], include = ['object', 'float', 'bool', 'int'])",
   "id": "2ab671e0ad6f0162",
   "execution_count": 185,
   "outputs": []
  },
  {
   "metadata": {},
   "cell_type": "markdown",
   "source": [
    "### Variable class_methods_pct (20/24)\n",
    "Esta variable representa la proporción de métodos que son de clase en la clase. Esta variable toma valores de 0.0 - 1.0. Su media es 0.028"
   ],
   "id": "76de334b6fe00122"
  },
  {
   "metadata": {
    "ExecuteTime": {
     "end_time": "2024-05-10T15:40:09.265429Z",
     "start_time": "2024-05-10T15:40:08.770206Z"
    }
   },
   "cell_type": "code",
   "source": "sns.displot(X['classdef__class_methods_pct'], bins=[i / 100 for i in range(0, 101)])",
   "id": "c1d7ca757708ba50",
   "execution_count": 186,
   "outputs": []
  },
  {
   "metadata": {
    "ExecuteTime": {
     "end_time": "2024-05-10T15:40:13.077527Z",
     "start_time": "2024-05-10T15:40:13.061131Z"
    }
   },
   "cell_type": "code",
   "source": "print_outliers_for_df_column(X, 'classdef__class_methods_pct')",
   "id": "14096c82cc955e4c",
   "execution_count": 187,
   "outputs": []
  },
  {
   "metadata": {
    "ExecuteTime": {
     "end_time": "2024-05-10T15:40:22.461947Z",
     "start_time": "2024-05-10T15:40:22.372634Z"
    }
   },
   "cell_type": "code",
   "source": "X[X['classdef__class_methods_pct'] > 0.0].describe(percentiles=[.25, .50, .75], include = ['object', 'float', 'bool', 'int'])",
   "id": "8e3bab66b43964c9",
   "execution_count": 188,
   "outputs": []
  },
  {
   "metadata": {},
   "cell_type": "markdown",
   "source": [
    "### Variable static_methods_pct (21/24)\n",
    "Esta variable representa la proporción de métodos que son estaticos en la clase. Esta variable toma valores de 0.0 - 1.0. Su media es 0.015.\n",
    "Curioso que haya más métodos asincronos que estáticos."
   ],
   "id": "4198dd59cf7327aa"
  },
  {
   "metadata": {
    "ExecuteTime": {
     "end_time": "2024-05-10T15:41:12.469537Z",
     "start_time": "2024-05-10T15:41:11.981041Z"
    }
   },
   "cell_type": "code",
   "source": "sns.displot(X['classdef__static_methods_pct'], bins=[i / 100 for i in range(0, 101)])",
   "id": "d4565b304b27a9da",
   "execution_count": 189,
   "outputs": []
  },
  {
   "metadata": {
    "ExecuteTime": {
     "end_time": "2024-05-10T15:41:16.739232Z",
     "start_time": "2024-05-10T15:41:16.722338Z"
    }
   },
   "cell_type": "code",
   "source": "print_outliers_for_df_column(X, 'classdef__static_methods_pct')",
   "id": "6f6f287c099e6c32",
   "execution_count": 190,
   "outputs": []
  },
  {
   "metadata": {
    "ExecuteTime": {
     "end_time": "2024-05-10T15:41:25.721044Z",
     "start_time": "2024-05-10T15:41:25.640412Z"
    }
   },
   "cell_type": "code",
   "source": "X[X['classdef__static_methods_pct'] > 0.0].describe(percentiles=[.25, .50, .75], include = ['object', 'float', 'bool', 'int'])",
   "id": "ac5bc8f6b4771283",
   "execution_count": 192,
   "outputs": []
  },
  {
   "metadata": {},
   "cell_type": "markdown",
   "source": [
    "### Variable abstract_methods_pct (22/24)\n",
    "Esta variable representa la proporción de métodos que son abstractos en la clase. Esta variable toma valores de 0.0 - 1.0. Su media es 0.006"
   ],
   "id": "b2bd84dc4e6f1127"
  },
  {
   "metadata": {
    "ExecuteTime": {
     "end_time": "2024-05-10T15:42:39.877834Z",
     "start_time": "2024-05-10T15:42:39.423362Z"
    }
   },
   "cell_type": "code",
   "source": "sns.displot(X['classdef__abstract_methods_pct'], bins=[i / 100 for i in range(0, 101)])",
   "id": "4ab4476fea02d94f",
   "execution_count": 193,
   "outputs": []
  },
  {
   "metadata": {
    "ExecuteTime": {
     "end_time": "2024-05-10T15:42:43.636122Z",
     "start_time": "2024-05-10T15:42:43.621419Z"
    }
   },
   "cell_type": "code",
   "source": "print_outliers_for_df_column(X, 'classdef__abstract_methods_pct')",
   "id": "414b9aa815666645",
   "execution_count": 194,
   "outputs": []
  },
  {
   "metadata": {
    "ExecuteTime": {
     "end_time": "2024-05-10T15:42:47.865671Z",
     "start_time": "2024-05-10T15:42:47.765991Z"
    }
   },
   "cell_type": "code",
   "source": "X[X['classdef__abstract_methods_pct'] > 0.0].describe(percentiles=[.25, .50, .75], include = ['object', 'float', 'bool', 'int'])",
   "id": "8346e166e9b20624",
   "execution_count": 195,
   "outputs": []
  },
  {
   "metadata": {},
   "cell_type": "markdown",
   "source": "Una vez más se ve que el POO bien usado, en Python, no es lo típico.",
   "id": "be43f0ee9b3aa2a8"
  },
  {
   "metadata": {},
   "cell_type": "markdown",
   "source": [
    "### Variable property_methods_pct (23/24)\n",
    "Esta variable representa la proporción de métodos que son property en la clase. Esta variable toma valores de 0.0 - 1.0. Su media es 0.032"
   ],
   "id": "6ec8df1b7df902d5"
  },
  {
   "metadata": {
    "ExecuteTime": {
     "end_time": "2024-05-10T15:43:46.137371Z",
     "start_time": "2024-05-10T15:43:45.663514Z"
    }
   },
   "cell_type": "code",
   "source": "sns.displot(X['classdef__property_methods_pct'], bins=[i / 100 for i in range(0, 101)])",
   "id": "c295bb500b028064",
   "execution_count": 196,
   "outputs": []
  },
  {
   "metadata": {
    "ExecuteTime": {
     "end_time": "2024-05-10T15:43:53.866986Z",
     "start_time": "2024-05-10T15:43:53.851021Z"
    }
   },
   "cell_type": "code",
   "source": "print_outliers_for_df_column(X, 'classdef__property_methods_pct')",
   "id": "6f7d94eff5c3be84",
   "execution_count": 197,
   "outputs": []
  },
  {
   "metadata": {
    "ExecuteTime": {
     "end_time": "2024-05-10T15:43:58.296033Z",
     "start_time": "2024-05-10T15:43:58.195017Z"
    }
   },
   "cell_type": "code",
   "source": "X[X['classdef__property_methods_pct'] > 0.0].describe(percentiles=[.25, .50, .75], include = ['object', 'float', 'bool', 'int'])",
   "id": "65ddf0d33e3139b3",
   "execution_count": 198,
   "outputs": []
  }
 ],
 "metadata": {
  "kernelspec": {
   "display_name": "Python 3",
   "language": "python",
   "name": "python3"
  },
  "language_info": {
   "codemirror_mode": {
    "name": "ipython",
    "version": 2
   },
   "file_extension": ".py",
   "mimetype": "text/x-python",
   "name": "python",
   "nbconvert_exporter": "python",
   "pygments_lexer": "ipython2",
   "version": "2.7.6"
  }
 },
 "nbformat": 4,
 "nbformat_minor": 5
}
