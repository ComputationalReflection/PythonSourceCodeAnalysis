{
 "cells": [
  {
   "metadata": {},
   "cell_type": "markdown",
   "source": [
    "# Modules BEGINNER\n",
    "\n",
    "Esta tabla contiene la información a nivel de fichero (módulo).   --> ABEL COMPLETAR <--"
   ],
   "id": "148ae8871134f924"
  },
  {
   "metadata": {},
   "cell_type": "markdown",
   "source": "## 1 - Obtencion de datos",
   "id": "d3c24a719032807f"
  },
  {
   "metadata": {
    "ExecuteTime": {
     "end_time": "2024-05-22T16:37:04.353796Z",
     "start_time": "2024-05-22T16:36:58.775449Z"
    }
   },
   "cell_type": "code",
   "source": [
    "import matplotlib.pyplot as plt\n",
    "from notebooks_utils import *\n",
    "\n",
    "TARGET_FEATURE = 'module__expertise_level'\n",
    "TARGET_CLASS = 'BEGINNER'\n",
    "full_table = get_data('modules')\n",
    "\n",
    "instances_for_class_low = len(full_table[full_table[TARGET_FEATURE] == \"BEGINNER\"])\n",
    "instances_for_class_high = len(full_table[full_table[TARGET_FEATURE] == \"EXPERT\"])\n",
    "\n",
    "print(f\"The dataset contains {instances_for_class_low} ({instances_for_class_low/len(full_table)*100:.4}%) instances for BEGINNER class and {instances_for_class_high} ({instances_for_class_high/len(full_table)*100:.4}%) for EXPERT class.\")"
   ],
   "id": "9f0a949e91eb384b",
   "execution_count": 1,
   "outputs": []
  },
  {
   "metadata": {
    "ExecuteTime": {
     "end_time": "2024-05-14T16:04:44.903705Z",
     "start_time": "2024-05-14T16:04:44.895852Z"
    }
   },
   "cell_type": "code",
   "source": [
    "full_table = full_table[full_table[TARGET_FEATURE] == TARGET_CLASS]\n",
    "\n",
    "# Table name, features and target.\n",
    "TABLE_NAME = 'modules'\n",
    "TABLE_FEATURES = ['module__name_convention', 'module__has_doc_string', 'module__global_stmts_pct', 'module__global_expressions_pct', 'module__number_of_classes', 'module__number_of_functions', 'module__class_defs_pct', 'module__function_defs_pct', 'module__enum_defs_pct', 'module__average_stmts_function_body', 'module__average_stmts_method_body', 'module__type_annotations_pct', 'module__has_entry_point']\n",
    "\n",
    "# Load features and target.\n",
    "X = full_table[TABLE_FEATURES]\n",
    "\n",
    "# Print information about the loaded table.\n",
    "print(f' {TARGET_CLASS} CLASS Features shape: {X.shape}')\n",
    "\n",
    "print(f'As we can see the downloaded data contains a total of {X.shape[0]} instances of {TARGET_CLASS}. Each of the instances corresponds to a file. For each file we have {X.shape[1]} attributes.')"
   ],
   "id": "b28feeae1c24237a",
   "execution_count": 2,
   "outputs": []
  },
  {
   "metadata": {},
   "cell_type": "markdown",
   "source": [
    "## 2 - Exploracion de datos\n",
    "\n",
    "Una vez tenemos nuestra tabla en un dataframe el siguiente paso es explorarla para ver qué tipo de información contiene."
   ],
   "id": "bcda7cb784bf0a1"
  },
  {
   "metadata": {
    "ExecuteTime": {
     "end_time": "2024-05-14T16:04:44.912728Z",
     "start_time": "2024-05-14T16:04:44.904712Z"
    }
   },
   "cell_type": "code",
   "source": "print(X.info())",
   "id": "2eb3d09993235bcb",
   "execution_count": 3,
   "outputs": []
  },
  {
   "metadata": {},
   "cell_type": "markdown",
   "source": "Cómo podemos ver la tabla está compuesta por diez variables numéricas, dos variables boleanas y una de tipo objeto. Las dos últimas variables son la etiqueta de la instancia y el name convention.",
   "id": "24f7607501c2e574"
  },
  {
   "metadata": {},
   "cell_type": "markdown",
   "source": [
    "### 2.2 - Duplicados\n",
    "Miramos si la tabla tiene entradas duplicadas."
   ],
   "id": "3b9b55798c7ecbd5"
  },
  {
   "metadata": {
    "ExecuteTime": {
     "end_time": "2024-05-14T16:04:44.920689Z",
     "start_time": "2024-05-14T16:04:44.913732Z"
    }
   },
   "cell_type": "code",
   "source": [
    "number_of_duplicated_entries = sum(full_table.duplicated(subset=TABLE_FEATURES))\n",
    "duplicated_entries_pct = number_of_duplicated_entries / len(full_table) * 100\n",
    "print(f\"The dataset contains [{duplicated_entries_pct:.4}%] of duplicated entries.\")"
   ],
   "id": "ed5e6830bbf484a6",
   "execution_count": 4,
   "outputs": []
  },
  {
   "metadata": {},
   "cell_type": "markdown",
   "source": [
    "### 2.3 - Valores Nulos \n",
    "Miramos si alguna de las variables que contiene la tabla contiene algún valor que sea nulo."
   ],
   "id": "63d4e4ed1d8d2c6c"
  },
  {
   "metadata": {
    "ExecuteTime": {
     "end_time": "2024-05-14T16:04:44.929129Z",
     "start_time": "2024-05-14T16:04:44.922270Z"
    }
   },
   "cell_type": "code",
   "source": "X.isnull().sum()",
   "id": "6c991380e6e0413e",
   "execution_count": 5,
   "outputs": []
  },
  {
   "metadata": {
    "ExecuteTime": {
     "end_time": "2024-05-14T16:04:44.937966Z",
     "start_time": "2024-05-14T16:04:44.930075Z"
    }
   },
   "cell_type": "code",
   "source": "print_empty_cols(X)",
   "id": "18b2dfadf1719a4b",
   "execution_count": 6,
   "outputs": []
  },
  {
   "metadata": {},
   "cell_type": "markdown",
   "source": "### 2.4 - Describimos los valores de las variables de la tabla.",
   "id": "5bb94c0f81c08024"
  },
  {
   "metadata": {
    "ExecuteTime": {
     "end_time": "2024-05-14T16:04:44.967947Z",
     "start_time": "2024-05-14T16:04:44.938970Z"
    }
   },
   "cell_type": "code",
   "source": "np.transpose(X.describe(percentiles=[.25, .50, .75], include = ['object', 'float', 'bool', 'int']))",
   "id": "74bba302a29fbfd5",
   "execution_count": 7,
   "outputs": []
  },
  {
   "metadata": {},
   "cell_type": "markdown",
   "source": "Vamos a discretizar las variables numericas, agrupando conjuntos de valores en categorias, para hacer un análisis de los datos. Para cada variable es necesaario ver la distribucion de lo valores para hacer los bins (categorias).",
   "id": "9af3eb59b924a596"
  },
  {
   "metadata": {
    "ExecuteTime": {
     "end_time": "2024-05-14T16:04:45.065675Z",
     "start_time": "2024-05-14T16:04:44.968988Z"
    }
   },
   "cell_type": "code",
   "source": [
    "# DISCRETIZATION\n",
    "X_copy = X.copy()\n",
    "\n",
    "discretized_columns = {\n",
    "    \"module__class_defs_pct\": [(0.0, 0.0),(0.0, 1.0), (1.0, 1.0)],  # min: 0.0 max: 1.0\n",
    "    \"module__function_defs_pct\": [(0.0, 0.0),(0.0, 1.0), (1.0, 1.0)],  # min: 0.0 max: 1.0\n",
    "    \"module__enum_defs_pct\": [(0.0, 0.0), (0.0, inf)],  # min: 0.0 max: 0.0\n",
    "    \"module__number_of_classes\": [(0, 0), (1, 1), (1,inf)],  # min: 0 max: 60\n",
    "    \"module__number_of_functions\": [(0, 0), (0, inf)], # min: 0 max: 80\n",
    "    \"module__type_annotations_pct\": [(0.0, 0.0), (0.0, inf)], # min: 0.0 max: 0.90\n",
    "    \"module__average_stmts_function_body\": [(0.0, 0.0), (0.0, inf)], #min: 0.0 max: 43.0\n",
    "    \"module__average_stmts_method_body\": [(0.0, 0.0), (0.0, inf)], # min: 0.0 max: 28.0\n",
    "    \"module__global_expressions_pct\": [(0,0), (0.0, inf)], # min: 0.0 max: 1.0\n",
    "    \"module__global_stmts_pct\": [(0, 0), (0.0, inf)] # min: 0.0 max: 1.0\n",
    "}\n",
    "\n",
    "discretize_columns(X_copy, discretized_columns)\n",
    "    \n",
    "# SINGLE FEATURE\n",
    "print(\"--- SINGLE FEATURE ---\")\n",
    "print(get_statistics(X_copy, ['module__class_defs_pct'], 10))\n",
    "print(get_statistics(X_copy, ['module__function_defs_pct'], 10))\n",
    "print(get_statistics(X_copy, ['module__enum_defs_pct'], 10))\n",
    "print(get_statistics(X_copy, ['module__number_of_classes'], 10))\n",
    "print(get_statistics(X_copy, ['module__number_of_functions'], 10))\n",
    "print(get_statistics(X_copy, ['module__type_annotations_pct'], 10))\n",
    "print(get_statistics(X_copy, ['module__average_stmts_function_body'], 10))\n",
    "print(get_statistics(X_copy, ['module__average_stmts_method_body'], 10))\n",
    "print(get_statistics(X_copy, ['module__global_expressions_pct'], 10))\n",
    "print(get_statistics(X_copy, ['module__global_stmts_pct'], 10))\n",
    "print(get_statistics(X_copy, ['module__has_doc_string'], 10))\n",
    "print(get_statistics(X_copy, ['module__has_entry_point'], 10))\n",
    "print(get_statistics(X_copy, ['module__name_convention'], 10))\n",
    "\n",
    "\n",
    "# 2 FEATURES\n",
    "print(\"--- TWO FEATURES ---\")\n",
    "print(get_statistics(X_copy, ['module__function_defs_pct', 'module__number_of_classes'], 10))\n",
    "\n",
    "# 3 FEATURES\n",
    "print(\"--- THREE FEATURES ---\")\n",
    "print(get_statistics(X_copy, ['module__class_defs_pct', 'module__function_defs_pct', 'module__enum_defs_pct'], 10))"
   ],
   "id": "6baf20dd3e3ca759",
   "execution_count": 8,
   "outputs": []
  },
  {
   "metadata": {
    "ExecuteTime": {
     "end_time": "2024-05-14T16:04:45.073433Z",
     "start_time": "2024-05-14T16:04:45.065675Z"
    }
   },
   "cell_type": "code",
   "source": [
    "def normalize_datatypes(X:pd.DataFrame) -> (pd.DataFrame, [str]):\n",
    "    X = pd.get_dummies(X)\n",
    "    X = X.astype('float32')        \n",
    "    columns_names = X.columns.tolist()\n",
    "    return X, columns_names\n",
    "\n",
    "X, TABLE_FEATURES = normalize_datatypes(X)\n",
    "# Print information about the loaded table\n",
    "print(f'Features shape: {X.shape}')"
   ],
   "id": "5084c89dcb377a92",
   "execution_count": 9,
   "outputs": []
  },
  {
   "metadata": {},
   "cell_type": "markdown",
   "source": "#### Muestra la matriz de correlación de pearson entre las variables de la tabla.",
   "id": "ed8befe21328a079"
  },
  {
   "metadata": {
    "ExecuteTime": {
     "end_time": "2024-05-14T16:04:45.505220Z",
     "start_time": "2024-05-14T16:04:45.074439Z"
    }
   },
   "cell_type": "code",
   "source": "sns.heatmap(X.corr(), annot=False)",
   "id": "dea960d18d682104",
   "execution_count": 10,
   "outputs": []
  },
  {
   "metadata": {},
   "cell_type": "markdown",
   "source": [
    "## 3 - Detección de valores atípicos (outliers)\n",
    "## Univariate\n",
    "## Analisis detallado de variables\n",
    "Para cada una de las 13 variable (2 booleanas, 6 porcentuales, 4 numericas y una categorica) se hara un analisis detallado"
   ],
   "id": "599c97eec7b7d283"
  },
  {
   "metadata": {},
   "cell_type": "markdown",
   "source": [
    "### Variable has_doc_string (1/13)\n",
    "Esta variable es de tipo booleano y representa si el fichero contiene un comentario como primer nodo."
   ],
   "id": "6abba739e46da213"
  },
  {
   "metadata": {
    "ExecuteTime": {
     "end_time": "2024-05-14T16:04:45.621126Z",
     "start_time": "2024-05-14T16:04:45.506226Z"
    }
   },
   "cell_type": "code",
   "source": [
    "plt.xticks([0, 1], ['False', 'True'])\n",
    "sns.histplot(X['module__has_doc_string'], discrete=True)"
   ],
   "id": "4ab35b2ef94a3379",
   "execution_count": 11,
   "outputs": []
  },
  {
   "metadata": {
    "ExecuteTime": {
     "end_time": "2024-05-14T16:04:45.629630Z",
     "start_time": "2024-05-14T16:04:45.621126Z"
    }
   },
   "cell_type": "code",
   "source": [
    "num_true_values = len(X[X['module__has_doc_string'] == True])\n",
    "num_false_values = len(X[X['module__has_doc_string'] == False])\n",
    "std = X['module__has_doc_string'].std()\n",
    "freq_true = len(X[X['module__has_doc_string'] == True]) / len(X['module__has_doc_string'])\n",
    "freq_false = len(X[X['module__has_doc_string'] == False]) / len(X['module__has_doc_string'])\n",
    "print(f'La variable has_doc_string contiene {num_true_values} valores verdaderos y {num_false_values} valores falsos. Y, la desviación típica es de {std}')\n",
    "print(f'La frecuencia con la que programa puede tener la variable has_doc_string a True es {freq_true}.')\n",
    "print(f'La frecuencia con la que programa puede tener la variable has_doc_string a False es {freq_false}.')"
   ],
   "id": "f4a042829ae6fac5",
   "execution_count": 12,
   "outputs": []
  },
  {
   "metadata": {
    "ExecuteTime": {
     "end_time": "2024-05-14T16:04:45.635463Z",
     "start_time": "2024-05-14T16:04:45.630636Z"
    }
   },
   "cell_type": "code",
   "source": [
    "possible_values = [True, False]\n",
    "print_frequency_anal_for_cat_var(X, 'module__has_doc_string', possible_values)"
   ],
   "id": "c614dd60d0ab8e5b",
   "execution_count": 13,
   "outputs": []
  },
  {
   "metadata": {
    "ExecuteTime": {
     "end_time": "2024-05-14T16:04:45.677019Z",
     "start_time": "2024-05-14T16:04:45.638469Z"
    }
   },
   "cell_type": "code",
   "source": "X[X['module__has_doc_string'] == True].describe(percentiles=[.25, .50, .75], include = ['object', 'float', 'bool', 'int'])\n",
   "id": "6c33bdd1420008cf",
   "execution_count": 14,
   "outputs": []
  },
  {
   "metadata": {},
   "cell_type": "markdown",
   "source": [
    "### Variable has_entry_point (2/13)\n",
    "Esta variable es de tipo booleano y representa si el fichero contiene el idiom \"if __name__ == '__main__'\". "
   ],
   "id": "1fa4491178ba606c"
  },
  {
   "metadata": {
    "ExecuteTime": {
     "end_time": "2024-05-14T16:04:45.794281Z",
     "start_time": "2024-05-14T16:04:45.677972Z"
    }
   },
   "cell_type": "code",
   "source": [
    "plt.xticks([0, 1], ['False', 'True'])\n",
    "sns.histplot(X['module__has_entry_point'], discrete=True)"
   ],
   "id": "529b7fd2ad00b058",
   "execution_count": 15,
   "outputs": []
  },
  {
   "metadata": {
    "ExecuteTime": {
     "end_time": "2024-05-14T16:04:45.802791Z",
     "start_time": "2024-05-14T16:04:45.795286Z"
    }
   },
   "cell_type": "code",
   "source": [
    "#ANALISIS DE DISTRIBUCIÓN DE DATOS\n",
    "num_true_values = len(X[X['module__has_entry_point'] == True])\n",
    "num_false_values = len(X[X['module__has_entry_point'] == False])\n",
    "std = X['module__has_entry_point'].std()\n",
    "freq_true = len(X[X['module__has_entry_point'] == True]) / len(X['module__has_entry_point'])\n",
    "freq_false = len(X[X['module__has_entry_point'] == False]) / len(X['module__has_entry_point'])\n",
    "print(f'La variable has_entry_point contiene {num_true_values} valores verdaderos y {num_false_values} valores falsos. Y, la desviación típica es de {std}')\n",
    "print(f'La frecuencia con la que programa puede tener la variable has_entry_point a True es {freq_true}.')\n",
    "print(f'La frecuencia con la que programa puede tener la variable has_entry_point a False es {freq_false}.')"
   ],
   "id": "d1bed1e471481adc",
   "execution_count": 16,
   "outputs": []
  },
  {
   "metadata": {
    "ExecuteTime": {
     "end_time": "2024-05-14T16:04:45.809073Z",
     "start_time": "2024-05-14T16:04:45.803797Z"
    }
   },
   "cell_type": "code",
   "source": [
    "#PROBABILIDAD DE VALORES\n",
    "possible_values = [True, False]\n",
    "print_frequency_anal_for_cat_var(X, 'module__has_entry_point', possible_values)"
   ],
   "id": "c54b472864a47e88",
   "execution_count": 17,
   "outputs": []
  },
  {
   "metadata": {
    "ExecuteTime": {
     "end_time": "2024-05-14T16:04:45.848620Z",
     "start_time": "2024-05-14T16:04:45.810081Z"
    }
   },
   "cell_type": "code",
   "source": "X[X['module__has_entry_point'] == True].describe(percentiles=[.25, .50, .75], include = ['object', 'float', 'bool', 'int'])",
   "id": "4bd840561db5f69f",
   "execution_count": 18,
   "outputs": []
  },
  {
   "metadata": {},
   "cell_type": "markdown",
   "source": [
    "### Variable number_of_classes (3/13)\n",
    "Esta variable es de tipo numérica y nos indica el número de clases definidos en el fichero. Como vimos en la descripción de la tabla esta varibale adopta valores en el rango 0 - 60. Con una media de 0,97."
   ],
   "id": "55e11303a6b9f7d6"
  },
  {
   "metadata": {
    "ExecuteTime": {
     "end_time": "2024-05-14T16:04:45.981448Z",
     "start_time": "2024-05-14T16:04:45.849629Z"
    }
   },
   "cell_type": "code",
   "source": "sns.stripplot(X['module__number_of_classes'])",
   "id": "78eb27ded80165af",
   "execution_count": 19,
   "outputs": []
  },
  {
   "metadata": {
    "ExecuteTime": {
     "end_time": "2024-05-14T16:04:45.990135Z",
     "start_time": "2024-05-14T16:04:45.982453Z"
    }
   },
   "cell_type": "code",
   "source": "print_outliers_for_df_column(X, 'module__number_of_classes')",
   "id": "f9ad19cbc195d14b",
   "execution_count": 20,
   "outputs": []
  },
  {
   "metadata": {},
   "cell_type": "markdown",
   "source": "Describimos los valores de las variables de la tabla, cuando el valor de la variable es mayor que 72.77 (Con un MC de 96 usamos U)",
   "id": "de8203d1879b2947"
  },
  {
   "metadata": {
    "ExecuteTime": {
     "end_time": "2024-05-14T16:04:46.027985Z",
     "start_time": "2024-05-14T16:04:45.991144Z"
    }
   },
   "cell_type": "code",
   "source": "X[X['module__number_of_classes'] > 72.77].describe(percentiles=[.25, .50, .75], include = ['object', 'float', 'bool', 'int'])",
   "id": "9d7c520e32635ea7",
   "execution_count": 21,
   "outputs": []
  },
  {
   "metadata": {},
   "cell_type": "markdown",
   "source": [
    "### IMPORTANTE\n",
    "\n",
    "No hay nada que destacar en esta variable."
   ],
   "id": "f248f430c436591b"
  },
  {
   "metadata": {},
   "cell_type": "markdown",
   "source": [
    "### Variable number_of_functions (4/13)\n",
    "Esta variable representa el número de funciones en el fichero. Como vimos en la descripción de la tabla esta varibale adopta valores en el rango 0 - 80. Con una media de 2.97."
   ],
   "id": "119fc307a9194a96"
  },
  {
   "metadata": {
    "ExecuteTime": {
     "end_time": "2024-05-14T16:04:46.164153Z",
     "start_time": "2024-05-14T16:04:46.028991Z"
    }
   },
   "cell_type": "code",
   "source": "sns.stripplot(X['module__number_of_functions'])",
   "id": "5efd7fbb4f34563d",
   "execution_count": 22,
   "outputs": []
  },
  {
   "metadata": {
    "ExecuteTime": {
     "end_time": "2024-05-14T16:04:46.173321Z",
     "start_time": "2024-05-14T16:04:46.165160Z"
    }
   },
   "cell_type": "code",
   "source": "print_outliers_for_df_column(X, 'module__number_of_functions')",
   "id": "e5649a2923239004",
   "execution_count": 23,
   "outputs": []
  },
  {
   "metadata": {},
   "cell_type": "markdown",
   "source": "Describimos los valores de las variables de la tabla, cuando el valor de la variable es mayor que 185 (Con un MC de 92 usamos U)",
   "id": "6fce6c26b9e84103"
  },
  {
   "metadata": {
    "ExecuteTime": {
     "end_time": "2024-05-14T16:04:46.212469Z",
     "start_time": "2024-05-14T16:04:46.174328Z"
    }
   },
   "cell_type": "code",
   "source": "X[X['module__number_of_functions'] > 185.2].describe(percentiles=[.25, .50, .75], include = ['object', 'float', 'bool', 'int'])",
   "id": "5c5e0e6eb4cd173",
   "execution_count": 24,
   "outputs": []
  },
  {
   "metadata": {},
   "cell_type": "markdown",
   "source": [
    "### IMPORTANTE\n",
    "\n",
    "No hay nada que destacar en esta variable."
   ],
   "id": "6a7661d9d5d1fd19"
  },
  {
   "metadata": {},
   "cell_type": "markdown",
   "source": [
    "### Variable average_stmts_function_body (5/13)\n",
    "Esta variable representa el número medio de sentencias en el cuerpo de las funciones del fichero. Como vimos en la descripción de la tabla esta varibale adopta valores en el rango 0 - 43. Con una media de 3.055."
   ],
   "id": "a92021ee6047bd1d"
  },
  {
   "metadata": {
    "ExecuteTime": {
     "end_time": "2024-05-14T16:04:46.379122Z",
     "start_time": "2024-05-14T16:04:46.213010Z"
    }
   },
   "cell_type": "code",
   "source": "sns.stripplot(X['module__average_stmts_function_body'])",
   "id": "1b8338fdb1c032b5",
   "execution_count": 25,
   "outputs": []
  },
  {
   "metadata": {
    "ExecuteTime": {
     "end_time": "2024-05-14T16:04:46.387169Z",
     "start_time": "2024-05-14T16:04:46.380128Z"
    }
   },
   "cell_type": "code",
   "source": "print_outliers_for_df_column(X, 'module__average_stmts_function_body')",
   "id": "3444c461d823515d",
   "execution_count": 26,
   "outputs": []
  },
  {
   "metadata": {},
   "cell_type": "markdown",
   "source": "Describimos los valores de las variables de la tabla, cuando el valor de la variable es mayor que 19.4 (Con un MC de 74 usamos Tuckey Extremo)",
   "id": "1e39ac31f2ead734"
  },
  {
   "metadata": {
    "ExecuteTime": {
     "end_time": "2024-05-14T16:04:46.428529Z",
     "start_time": "2024-05-14T16:04:46.388174Z"
    }
   },
   "cell_type": "code",
   "source": "X[X['module__average_stmts_function_body'] > 19.4].describe(percentiles=[.25, .50, .75], include = ['object', 'float', 'bool', 'int'])",
   "id": "44b1c024f9d465e9",
   "execution_count": 27,
   "outputs": []
  },
  {
   "metadata": {},
   "cell_type": "markdown",
   "source": [
    "### Variable average_stmts_method_body (6/13)\n",
    "Esta variable representa el número medio de sentencias en el cuerpo de los métodos del fichero. Como vimos en la descripción de la tabla esta varibale adopta valores en el rango 0 - 28. Con una media de 1.1."
   ],
   "id": "9e889648c0e5a078"
  },
  {
   "metadata": {
    "ExecuteTime": {
     "end_time": "2024-05-14T16:04:46.551440Z",
     "start_time": "2024-05-14T16:04:46.429533Z"
    }
   },
   "cell_type": "code",
   "source": "sns.stripplot(X['module__average_stmts_method_body'])",
   "id": "536be140a0b685eb",
   "execution_count": 28,
   "outputs": []
  },
  {
   "metadata": {
    "ExecuteTime": {
     "end_time": "2024-05-14T16:04:46.559774Z",
     "start_time": "2024-05-14T16:04:46.552446Z"
    }
   },
   "cell_type": "code",
   "source": "print_outliers_for_df_column(X, 'module__average_stmts_method_body')",
   "id": "d76842919b0b6dbe",
   "execution_count": 29,
   "outputs": []
  },
  {
   "metadata": {},
   "cell_type": "markdown",
   "source": "Describimos los valores de las variables de la tabla, cuando el valor de la variable es mayor que 5.4 (Con un MC de 86 usamos Tuckey Extremo)",
   "id": "ecf19d8794c03aa5"
  },
  {
   "metadata": {
    "ExecuteTime": {
     "end_time": "2024-05-14T16:04:46.601332Z",
     "start_time": "2024-05-14T16:04:46.560787Z"
    }
   },
   "cell_type": "code",
   "source": "X[X['module__average_stmts_method_body'] > 5.43].describe(percentiles=[.25, .50, .75], include = ['object', 'float', 'bool', 'int'])",
   "id": "e07c9b0d8cfd4af0",
   "execution_count": 30,
   "outputs": []
  },
  {
   "metadata": {},
   "cell_type": "markdown",
   "source": [
    "### Variable name_convention (7/13)\n",
    "Esta variable es de tipo categórica y representa la name_convention del nombre del fichero."
   ],
   "id": "3237adcf6d852d54"
  },
  {
   "metadata": {
    "ExecuteTime": {
     "end_time": "2024-05-14T16:04:46.797982Z",
     "start_time": "2024-05-14T16:04:46.602341Z"
    }
   },
   "cell_type": "code",
   "source": "sns.catplot(full_table['module__name_convention'], kind=\"count\")",
   "id": "299706e14d9a3f2",
   "execution_count": 31,
   "outputs": []
  },
  {
   "metadata": {
    "ExecuteTime": {
     "end_time": "2024-05-14T16:04:46.807846Z",
     "start_time": "2024-05-14T16:04:46.798990Z"
    }
   },
   "cell_type": "code",
   "source": "print_frequency_anal_for_cat_var(full_table, 'module__name_convention')",
   "id": "f4253192e2301909",
   "execution_count": 32,
   "outputs": []
  },
  {
   "metadata": {},
   "cell_type": "markdown",
   "source": [
    "### Variable global_stmts_pct (8/13)\n",
    "Esta variable representa la proporción de los nodos en el global scope que son sentencias. Toma los valores de 0.0 - 1.0. La media es 0.32."
   ],
   "id": "ab0e91c1d1974f0a"
  },
  {
   "metadata": {
    "ExecuteTime": {
     "end_time": "2024-05-14T16:04:47.114347Z",
     "start_time": "2024-05-14T16:04:46.808851Z"
    }
   },
   "cell_type": "code",
   "source": "sns.displot(X['module__global_stmts_pct'], bins=[i / 100 for i in range(0, 101)])",
   "id": "ae3f7b82f7e2e5a9",
   "execution_count": 33,
   "outputs": []
  },
  {
   "metadata": {
    "ExecuteTime": {
     "end_time": "2024-05-14T16:04:47.122946Z",
     "start_time": "2024-05-14T16:04:47.115351Z"
    }
   },
   "cell_type": "code",
   "source": "print_outliers_for_df_column(X, 'module__global_stmts_pct')",
   "id": "128a40279fa3c260",
   "execution_count": 34,
   "outputs": []
  },
  {
   "metadata": {},
   "cell_type": "markdown",
   "source": "Describimos los valores de las variables de la tabla, cuando el valor de la variable es mayor que 2.22 (Con un MC de 37 usamos Tuckey Extremo)",
   "id": "48c2a422d83f3bff"
  },
  {
   "metadata": {
    "ExecuteTime": {
     "end_time": "2024-05-14T16:04:47.161271Z",
     "start_time": "2024-05-14T16:04:47.123952Z"
    }
   },
   "cell_type": "code",
   "source": "X[X['module__global_stmts_pct'] > 2.22].describe(percentiles=[.25, .50, .75], include = ['object', 'float', 'bool', 'int'])",
   "id": "220b9358ad3ffcac",
   "execution_count": 35,
   "outputs": []
  },
  {
   "metadata": {},
   "cell_type": "markdown",
   "source": [
    "### IMPORTANTE\n",
    "No hay nada que destacar en esta variable."
   ],
   "id": "9356721794b8f185"
  },
  {
   "metadata": {},
   "cell_type": "markdown",
   "source": [
    "### Variable global_expressions_pct (9/13)\n",
    "Esta variable representa la proporción de los nodos en el global scope son expresiones. Este campo toma valores del 0.0 - 1.0. Su media es 0.11."
   ],
   "id": "44ce042d4954490d"
  },
  {
   "metadata": {
    "ExecuteTime": {
     "end_time": "2024-05-14T16:04:47.447200Z",
     "start_time": "2024-05-14T16:04:47.162278Z"
    }
   },
   "cell_type": "code",
   "source": "sns.displot(X['module__global_expressions_pct'], bins=[i / 100 for i in range(0, 101)])",
   "id": "fa0bbc143d5518cf",
   "execution_count": 36,
   "outputs": []
  },
  {
   "metadata": {
    "ExecuteTime": {
     "end_time": "2024-05-14T16:04:47.456079Z",
     "start_time": "2024-05-14T16:04:47.448207Z"
    }
   },
   "cell_type": "code",
   "source": "print_outliers_for_df_column(X, 'module__global_expressions_pct')",
   "id": "2af888e24190e6ae",
   "execution_count": 37,
   "outputs": []
  },
  {
   "metadata": {},
   "cell_type": "markdown",
   "source": "Describimos los valores de las variables de la tabla, cuando el valor de la variable es mayor que 0.80 (Con un MC de 51 usamos Tuckey Extremo)",
   "id": "a9e293ca15999561"
  },
  {
   "metadata": {
    "ExecuteTime": {
     "end_time": "2024-05-14T16:04:47.496505Z",
     "start_time": "2024-05-14T16:04:47.456505Z"
    }
   },
   "cell_type": "code",
   "source": "X[X['module__global_expressions_pct'] > 0.80].describe(percentiles=[.25, .50, .75], include = ['object', 'float', 'bool', 'int'])",
   "id": "573e8d69c5c1ffb0",
   "execution_count": 38,
   "outputs": []
  },
  {
   "metadata": {},
   "cell_type": "markdown",
   "source": [
    "### IMPORTANTE\n",
    "\n",
    " El 50% de los modulos no tiene expresiones en el global scope.\n"
   ],
   "id": "f7828bbcdc5287d"
  },
  {
   "metadata": {},
   "cell_type": "markdown",
   "source": [
    "### Variable class_defs_pct (10/13)\n",
    "Esta variable representa la proporción de definiciones que son definiciones de clases. Esta variable toma valores de 0.0 - 1.0. Su media es 0.20. "
   ],
   "id": "75bd2275c90702f2"
  },
  {
   "metadata": {
    "ExecuteTime": {
     "end_time": "2024-05-14T16:04:47.789229Z",
     "start_time": "2024-05-14T16:04:47.497512Z"
    }
   },
   "cell_type": "code",
   "source": "sns.displot(X['module__class_defs_pct'], bins=[i / 100 for i in range(0, 101)])",
   "id": "c549e5fab2340344",
   "execution_count": 39,
   "outputs": []
  },
  {
   "metadata": {
    "ExecuteTime": {
     "end_time": "2024-05-14T16:04:47.797189Z",
     "start_time": "2024-05-14T16:04:47.790235Z"
    }
   },
   "cell_type": "code",
   "source": "print_outliers_for_df_column(X, 'module__class_defs_pct')",
   "id": "e5c20979dd80188a",
   "execution_count": 40,
   "outputs": []
  },
  {
   "metadata": {},
   "cell_type": "markdown",
   "source": [
    "### IMPORTANTE\n",
    "Estos valores siguen un distribucion en forma de U (distribucion de Laplace). Con lo que los posibles valores outliers estan en el medio, no en los extremos. No se puede aplicar el metodo de tukey. En este momento, solo vamos a mostrar los valores que hay en el medio."
   ],
   "id": "7095cfe13ad0944d"
  },
  {
   "metadata": {
    "ExecuteTime": {
     "end_time": "2024-05-14T16:04:47.844198Z",
     "start_time": "2024-05-14T16:04:47.801195Z"
    }
   },
   "cell_type": "code",
   "source": "X[(X['module__class_defs_pct'] > 0.0) & (X['module__class_defs_pct'] < 1.0)].describe(percentiles=[.25, .50, .75], include = ['object', 'float', 'bool', 'int'])",
   "id": "d341748640f0d0f",
   "execution_count": 41,
   "outputs": []
  },
  {
   "metadata": {},
   "cell_type": "markdown",
   "source": [
    "### IMPORTANTE\n",
    "\n",
    " El 70% de los modulos no tiene clases definidas."
   ],
   "id": "e9ce3952e813d74"
  },
  {
   "metadata": {},
   "cell_type": "markdown",
   "source": [
    "### Variable function_defs_pct (11/13)\n",
    "Esta variable representa la proporción de deficiones que son definiciones de funciones. Esta variable toma valores de 0.0 - 1.0. Su media es 0.54"
   ],
   "id": "e1812f30451e79fe"
  },
  {
   "metadata": {
    "ExecuteTime": {
     "end_time": "2024-05-14T16:04:48.190556Z",
     "start_time": "2024-05-14T16:04:47.845207Z"
    }
   },
   "cell_type": "code",
   "source": "sns.displot(X['module__function_defs_pct'], bins=[i / 100 for i in range(0, 101)])",
   "id": "f33d936a0f350bd7",
   "execution_count": 42,
   "outputs": []
  },
  {
   "metadata": {
    "ExecuteTime": {
     "end_time": "2024-05-14T16:04:48.201254Z",
     "start_time": "2024-05-14T16:04:48.191563Z"
    }
   },
   "cell_type": "code",
   "source": "print_outliers_for_df_column(X, 'module__function_defs_pct')",
   "id": "82b55b2117c14ee8",
   "execution_count": 43,
   "outputs": []
  },
  {
   "metadata": {},
   "cell_type": "markdown",
   "source": [
    "### IMPORTANTE\n",
    "Estos valores siguen un distribucion en forma de U (distribucion de Laplace). Con lo que los posibles valores outliers estan en el medio, no en los extremos. No se puede aplicar el metodo de tukey. En este momento, solo vamos a mostrar los valores que hay en el medio."
   ],
   "id": "eea5df27dd8e9d5"
  },
  {
   "metadata": {
    "ExecuteTime": {
     "end_time": "2024-05-14T16:04:48.256290Z",
     "start_time": "2024-05-14T16:04:48.202261Z"
    }
   },
   "cell_type": "code",
   "source": "X[(X['module__function_defs_pct'] > 0.0) & (X['module__function_defs_pct'] < 1.0)].describe(percentiles=[.25, .50, .75], include = ['object', 'float', 'bool', 'int'])",
   "id": "cbbe2d55d54aa441",
   "execution_count": 44,
   "outputs": []
  },
  {
   "metadata": {},
   "cell_type": "markdown",
   "source": [
    "### IMPORTANTE\n",
    "\n",
    " Casi el 50% de los modulos solo tiene definiciones de funciones"
   ],
   "id": "28f44b0a8f13d667"
  },
  {
   "metadata": {},
   "cell_type": "markdown",
   "source": [
    "### Variable enum_defs_pct (12/13)\n",
    "Esta variable representa la proporción de las definiciones que son clases con la notación enum. Esta variable toma valores de 0.0 - 0.0. Su media es 0.0."
   ],
   "id": "cd6bb41f051bc2ad"
  },
  {
   "metadata": {
    "ExecuteTime": {
     "end_time": "2024-05-14T16:04:48.599998Z",
     "start_time": "2024-05-14T16:04:48.257297Z"
    }
   },
   "cell_type": "code",
   "source": "sns.displot(X['module__enum_defs_pct'], bins=[i / 100 for i in range(0, 101)])",
   "id": "35e21212cf8a04f0",
   "execution_count": 45,
   "outputs": []
  },
  {
   "metadata": {
    "ExecuteTime": {
     "end_time": "2024-05-14T16:04:48.609433Z",
     "start_time": "2024-05-14T16:04:48.601004Z"
    }
   },
   "cell_type": "code",
   "source": "print_outliers_for_df_column(X, 'module__enum_defs_pct')",
   "id": "1a4f26a5df0b4e16",
   "execution_count": 46,
   "outputs": []
  },
  {
   "metadata": {},
   "cell_type": "markdown",
   "source": "Describimos los valores de las variables de la tabla, cuando el valor de la variable es mayor que 0 (Todos los umbrales son 0)",
   "id": "357daaa56eb1f9d"
  },
  {
   "metadata": {
    "ExecuteTime": {
     "end_time": "2024-05-14T16:04:48.653081Z",
     "start_time": "2024-05-14T16:04:48.610437Z"
    }
   },
   "cell_type": "code",
   "source": "X[X['module__enum_defs_pct'] > 0.0].describe(percentiles=[.25, .50, .75], include = ['object', 'float', 'bool', 'int'])",
   "id": "f48e9080628a79d4",
   "execution_count": 47,
   "outputs": []
  },
  {
   "metadata": {},
   "cell_type": "markdown",
   "source": [
    "### IMPORTANTE\n",
    "No hay ningun modulo con definciones de enums."
   ],
   "id": "770474fc5b2e48c3"
  },
  {
   "metadata": {},
   "cell_type": "markdown",
   "source": [
    "### Variable type_annotations_pct (13/13)\n",
    "Esta variable representa la proporción de los parámetros y returns de funciones y métodos que tienen una anotación de tipo. Toma valores entre 0.0 - 0.90. Su media es 0.06."
   ],
   "id": "2fbcb74ec7a4d9ec"
  },
  {
   "metadata": {
    "ExecuteTime": {
     "end_time": "2024-05-14T16:04:48.949802Z",
     "start_time": "2024-05-14T16:04:48.654087Z"
    }
   },
   "cell_type": "code",
   "source": "sns.displot(X['module__type_annotations_pct'], bins=[i / 100 for i in range(0, 101)])",
   "id": "85e238d4a876cbd8",
   "execution_count": 48,
   "outputs": []
  },
  {
   "metadata": {
    "ExecuteTime": {
     "end_time": "2024-05-14T16:04:48.957859Z",
     "start_time": "2024-05-14T16:04:48.950808Z"
    }
   },
   "cell_type": "code",
   "source": "print_outliers_for_df_column(X, 'module__type_annotations_pct')",
   "id": "78208e09ebe94012",
   "execution_count": 49,
   "outputs": []
  },
  {
   "metadata": {},
   "cell_type": "markdown",
   "source": "Describimos los valores de las variables de la tabla, cuando el valor de la variable es mayor que 0 (Todos los umbrales son 0)",
   "id": "8fc32501a2596d98"
  },
  {
   "metadata": {
    "ExecuteTime": {
     "end_time": "2024-05-14T16:04:48.997446Z",
     "start_time": "2024-05-14T16:04:48.958864Z"
    }
   },
   "cell_type": "code",
   "source": "X[X['module__type_annotations_pct'] > 0.0].describe(percentiles=[.25, .50, .75], include = ['object', 'float', 'bool', 'int'])",
   "id": "445f23dcf94c6abf",
   "execution_count": 50,
   "outputs": []
  },
  {
   "metadata": {},
   "cell_type": "markdown",
   "source": [
    "### IMPORTANTE\n",
    "El 87% de los modulos no tiene anotaciones de tipo."
   ],
   "id": "42d913aa4bb2727f"
  },
  {
   "metadata": {},
   "cell_type": "markdown",
   "source": [
    "## Multivariate\n",
    "\n",
    "TODO: isolation forest algorithm"
   ],
   "id": "62bacd3c687cb449"
  },
  {
   "metadata": {
    "ExecuteTime": {
     "end_time": "2024-05-14T16:04:49.557820Z",
     "start_time": "2024-05-14T16:04:48.998451Z"
    }
   },
   "cell_type": "code",
   "source": [
    "from sklearn.ensemble import  IsolationForest\n",
    "\n",
    "CONTAMINATION_FACTOR = 0.0012\n",
    "isof_model = IsolationForest(contamination=CONTAMINATION_FACTOR, random_state=0)\n",
    "isof_prediction = isof_model.fit_predict(X.values)\n",
    "mask = isof_prediction == -1\n",
    "full_table.loc[X.index[mask]]"
   ],
   "id": "aa6cc593fc3853c7",
   "execution_count": 51,
   "outputs": []
  },
  {
   "metadata": {},
   "cell_type": "markdown",
   "source": [
    "### IMPORTANTE\n",
    "Analizar los 6 resultados obtenidos."
   ],
   "id": "63372f0eea255191"
  }
 ],
 "metadata": {
  "kernelspec": {
   "display_name": "Python 3",
   "language": "python",
   "name": "python3"
  },
  "language_info": {
   "codemirror_mode": {
    "name": "ipython",
    "version": 2
   },
   "file_extension": ".py",
   "mimetype": "text/x-python",
   "name": "python",
   "nbconvert_exporter": "python",
   "pygments_lexer": "ipython2",
   "version": "2.7.6"
  }
 },
 "nbformat": 4,
 "nbformat_minor": 5
}
