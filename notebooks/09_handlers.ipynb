{
 "cells": [
  {
   "cell_type": "markdown",
   "id": "ea78b212-ff32-40d1-92e1-9e09d847ae78",
   "metadata": {
    "pycharm": {
     "name": "#%% md\n"
    }
   },
   "source": [
    "# Handlers\n",
    "\n",
    "Esta tabla contiene la información adicional de las sentencias Try/TryStar. --> ABEL COMPLETAR <--"
   ]
  },
  {
   "cell_type": "markdown",
   "id": "b862cb2f-c1e0-4074-92c0-004dea379079",
   "metadata": {
    "pycharm": {
     "name": "#%% md\n"
    }
   },
   "source": [
    "## 1 - Obtencion de datos"
   ]
  },
  {
   "cell_type": "code",
   "id": "63793d9c-9473-44fa-bb1d-8e4b32fa1457",
   "metadata": {
    "pycharm": {
     "name": "#%%\n"
    },
    "tags": [],
    "ExecuteTime": {
     "end_time": "2024-05-28T11:09:47.078516Z",
     "start_time": "2024-05-28T11:09:45.136726Z"
    }
   },
   "source": [
    "import matplotlib.pyplot as plt\n",
    "from notebooks_utils import *\n",
    "\n",
    "full_table = get_data('handlers')\n",
    "\n",
    "# Table name, features and target.\n",
    "TABLE_NAME = 'handlers'\n",
    "TABLE_FEATURES = ['handler__number_of_handlers', 'handler__has_star', 'handler__has_finally', 'handler__has_catch_all', 'handler__average_body_count', 'handler__expertise_level']\n",
    "TABLE_TARGET = 'handler__expertise_level'\n",
    "\n",
    "# Load features and target.\n",
    "X, y = full_table[TABLE_FEATURES], full_table[[TABLE_TARGET]].iloc[:,0]\n",
    "\n",
    "# Print information about the loaded table.\n",
    "print(f'Features shape: {X.shape}')\n",
    "print(f'Target shape: {y.shape}')\n",
    "\n",
    "print(f'As we can see the downloaded data contains a total of {X.shape[0]} instances. For each instance we have {X.shape[1]} attributes.')"
   ],
   "outputs": [
    {
     "name": "stdout",
     "output_type": "stream",
     "text": [
      "2024-05-28 13:09:46.915570 Loading data ...\n",
      "2024-05-28 13:09:47.072366 Data successfully load!!\n",
      "2024-05-28 13:09:47.072366 Creating data cache files ...\n",
      "2024-05-28 13:09:47.074371 Data cache files successfully created!!\n",
      "Features shape: (15756, 6)\n",
      "Target shape: (15756,)\n",
      "As we can see the downloaded data contains a total of 15756 instances. For each instance we have 6 attributes.\n"
     ]
    }
   ],
   "execution_count": 1
  },
  {
   "cell_type": "markdown",
   "id": "3ff70454-366f-4231-831d-723eeb63576b",
   "metadata": {},
   "source": [
    "## 2 - Exploracion de datos\n",
    "\n",
    "Una vez tenemos nuestra tabla en un dataframe el siguiente paso es explorarla para ver qué tipo de información contiene."
   ]
  },
  {
   "cell_type": "code",
   "id": "9b526577-537d-44b0-951b-168278ce7a5c",
   "metadata": {
    "ExecuteTime": {
     "end_time": "2024-05-28T11:09:47.091750Z",
     "start_time": "2024-05-28T11:09:47.079520Z"
    }
   },
   "source": [
    "print(X.info())\n",
    "print('=============')\n",
    "print(y.info())"
   ],
   "outputs": [
    {
     "name": "stdout",
     "output_type": "stream",
     "text": [
      "<class 'pandas.core.frame.DataFrame'>\n",
      "RangeIndex: 15756 entries, 0 to 15755\n",
      "Data columns (total 6 columns):\n",
      " #   Column                       Non-Null Count  Dtype  \n",
      "---  ------                       --------------  -----  \n",
      " 0   handler__number_of_handlers  15756 non-null  int64  \n",
      " 1   handler__has_star            15756 non-null  bool   \n",
      " 2   handler__has_finally         15756 non-null  bool   \n",
      " 3   handler__has_catch_all       15756 non-null  bool   \n",
      " 4   handler__average_body_count  15756 non-null  float64\n",
      " 5   handler__expertise_level     15756 non-null  object \n",
      "dtypes: bool(3), float64(1), int64(1), object(1)\n",
      "memory usage: 415.6+ KB\n",
      "None\n",
      "=============\n",
      "<class 'pandas.core.series.Series'>\n",
      "RangeIndex: 15756 entries, 0 to 15755\n",
      "Series name: handler__expertise_level\n",
      "Non-Null Count  Dtype \n",
      "--------------  ----- \n",
      "15756 non-null  object\n",
      "dtypes: object(1)\n",
      "memory usage: 123.2+ KB\n",
      "None\n"
     ]
    }
   ],
   "execution_count": 2
  },
  {
   "cell_type": "markdown",
   "id": "cbf77cd4-9819-4da1-9405-44054d2290e1",
   "metadata": {},
   "source": "Cómo podemos ver la tabla está compuesta por 2 variables numéricas, 3 de tipo boleano  y una de tipo objeto."
  },
  {
   "cell_type": "markdown",
   "id": "bf53eef1e9c5c37d",
   "metadata": {
    "collapsed": false
   },
   "source": [
    "### 2.1 - Balance de clases"
   ]
  },
  {
   "cell_type": "code",
   "id": "61c1409f-9146-467e-bad9-b68774fdd903",
   "metadata": {
    "ExecuteTime": {
     "end_time": "2024-05-28T11:09:47.099212Z",
     "start_time": "2024-05-28T11:09:47.092756Z"
    }
   },
   "source": [
    "instances_for_class_low = len(full_table[full_table[TABLE_TARGET] == \"BEGINNER\"])\n",
    "instances_for_class_high = len(full_table[full_table[TABLE_TARGET] == \"EXPERT\"])\n",
    "\n",
    "print(f\"The dataset contains {instances_for_class_low/len(full_table)*100:.4}% instances for BEGINNER class and {instances_for_class_high/len(full_table)*100:.4}% for EXPERT class.\")"
   ],
   "outputs": [
    {
     "name": "stdout",
     "output_type": "stream",
     "text": [
      "The dataset contains 56.82% instances for BEGINNER class and 43.18% for EXPERT class.\n"
     ]
    }
   ],
   "execution_count": 3
  },
  {
   "cell_type": "markdown",
   "id": "7f619a1e-3b8b-4929-b41c-8edef4cc2d6a",
   "metadata": {},
   "source": [
    "### 2.2 - Duplicados\n",
    "Miramos si la tabla tiene entradas duplicadas."
   ]
  },
  {
   "cell_type": "code",
   "id": "ba8d29f2-8771-4e1f-8ecb-31bb827bf988",
   "metadata": {
    "ExecuteTime": {
     "end_time": "2024-05-28T11:09:47.108184Z",
     "start_time": "2024-05-28T11:09:47.100232Z"
    }
   },
   "source": [
    "number_of_duplicated_entries = sum(full_table.duplicated(subset=TABLE_FEATURES + [TABLE_TARGET]))\n",
    "duplicated_entries_pct = number_of_duplicated_entries / len(full_table) * 100\n",
    "print(f\"The dataset contains [{duplicated_entries_pct:.4}%] of duplicated entries.\")"
   ],
   "outputs": [
    {
     "name": "stdout",
     "output_type": "stream",
     "text": [
      "The dataset contains [99.24%] of duplicated entries.\n"
     ]
    }
   ],
   "execution_count": 4
  },
  {
   "cell_type": "markdown",
   "id": "31d297c18f157194",
   "metadata": {
    "collapsed": false
   },
   "source": [
    "### 2.3 - Valores Nulos \n",
    "Miramos si alguna de las variables que contiene la tabla contiene algún valor que sea nulo."
   ]
  },
  {
   "cell_type": "code",
   "id": "afeed2ce9080cbbb",
   "metadata": {
    "collapsed": false,
    "ExecuteTime": {
     "end_time": "2024-05-28T11:09:47.116872Z",
     "start_time": "2024-05-28T11:09:47.109190Z"
    }
   },
   "source": [
    "X.isnull().sum()"
   ],
   "outputs": [
    {
     "data": {
      "text/plain": [
       "handler__number_of_handlers    0\n",
       "handler__has_star              0\n",
       "handler__has_finally           0\n",
       "handler__has_catch_all         0\n",
       "handler__average_body_count    0\n",
       "handler__expertise_level       0\n",
       "dtype: int64"
      ]
     },
     "execution_count": 5,
     "metadata": {},
     "output_type": "execute_result"
    }
   ],
   "execution_count": 5
  },
  {
   "cell_type": "markdown",
   "id": "1a8e02c0c52edff9",
   "metadata": {
    "collapsed": false
   },
   "source": [
    "Aunque una columna no contenga valores nulos podría ser que contenga valores vacíos. Si los hubiese la siguiente función los mostraría."
   ]
  },
  {
   "cell_type": "code",
   "id": "73b9dc2f9efc111a",
   "metadata": {
    "collapsed": false,
    "ExecuteTime": {
     "end_time": "2024-05-28T11:09:47.124475Z",
     "start_time": "2024-05-28T11:09:47.117879Z"
    }
   },
   "source": [
    "print_empty_cols(X)"
   ],
   "outputs": [
    {
     "name": "stdout",
     "output_type": "stream",
     "text": [
      "handler__number_of_handlers\n",
      "---------------------------\n",
      "0 instancias no tienen un valor para la columna handler__number_of_handlers\n",
      "\n",
      "\n",
      "handler__has_star\n",
      "-----------------\n",
      "0 instancias no tienen un valor para la columna handler__has_star\n",
      "\n",
      "\n",
      "handler__has_finally\n",
      "--------------------\n",
      "0 instancias no tienen un valor para la columna handler__has_finally\n",
      "\n",
      "\n",
      "handler__has_catch_all\n",
      "----------------------\n",
      "0 instancias no tienen un valor para la columna handler__has_catch_all\n",
      "\n",
      "\n",
      "handler__average_body_count\n",
      "---------------------------\n",
      "0 instancias no tienen un valor para la columna handler__average_body_count\n",
      "\n",
      "\n",
      "handler__expertise_level\n",
      "------------------------\n",
      "0 instancias no tienen un valor para la columna handler__expertise_level\n",
      "\n",
      "\n"
     ]
    }
   ],
   "execution_count": 6
  },
  {
   "cell_type": "markdown",
   "id": "105774ea722bf467",
   "metadata": {
    "collapsed": false
   },
   "source": [
    "### 2.4 - Describimos los valores de las variables de la tabla."
   ]
  },
  {
   "cell_type": "code",
   "id": "d3be1e5cec1af46c",
   "metadata": {
    "collapsed": false,
    "ExecuteTime": {
     "end_time": "2024-05-28T11:09:47.147211Z",
     "start_time": "2024-05-28T11:09:47.125481Z"
    }
   },
   "source": [
    "np.transpose(X.describe(percentiles=[.25, .50, .75], include = ['object', 'float', 'bool', 'int']))"
   ],
   "outputs": [
    {
     "data": {
      "text/plain": [
       "                               count unique       top   freq      mean  \\\n",
       "handler__number_of_handlers  15756.0    NaN       NaN    NaN   0.99378   \n",
       "handler__has_star              15756      1     False  15756       NaN   \n",
       "handler__has_finally           15756      2     False  14394       NaN   \n",
       "handler__has_catch_all         15756      2     False  14905       NaN   \n",
       "handler__average_body_count  15756.0    NaN       NaN    NaN  1.281047   \n",
       "handler__expertise_level       15756      2  BEGINNER   8953       NaN   \n",
       "\n",
       "                                  std  min  25%  50%  75%   max  \n",
       "handler__number_of_handlers   0.46149  0.0  1.0  1.0  1.0   9.0  \n",
       "handler__has_star                 NaN  NaN  NaN  NaN  NaN   NaN  \n",
       "handler__has_finally              NaN  NaN  NaN  NaN  NaN   NaN  \n",
       "handler__has_catch_all            NaN  NaN  NaN  NaN  NaN   NaN  \n",
       "handler__average_body_count  0.866553  0.0  1.0  1.0  1.0  15.0  \n",
       "handler__expertise_level          NaN  NaN  NaN  NaN  NaN   NaN  "
      ],
      "text/html": [
       "<div>\n",
       "<style scoped>\n",
       "    .dataframe tbody tr th:only-of-type {\n",
       "        vertical-align: middle;\n",
       "    }\n",
       "\n",
       "    .dataframe tbody tr th {\n",
       "        vertical-align: top;\n",
       "    }\n",
       "\n",
       "    .dataframe thead th {\n",
       "        text-align: right;\n",
       "    }\n",
       "</style>\n",
       "<table border=\"1\" class=\"dataframe\">\n",
       "  <thead>\n",
       "    <tr style=\"text-align: right;\">\n",
       "      <th></th>\n",
       "      <th>count</th>\n",
       "      <th>unique</th>\n",
       "      <th>top</th>\n",
       "      <th>freq</th>\n",
       "      <th>mean</th>\n",
       "      <th>std</th>\n",
       "      <th>min</th>\n",
       "      <th>25%</th>\n",
       "      <th>50%</th>\n",
       "      <th>75%</th>\n",
       "      <th>max</th>\n",
       "    </tr>\n",
       "  </thead>\n",
       "  <tbody>\n",
       "    <tr>\n",
       "      <th>handler__number_of_handlers</th>\n",
       "      <td>15756.0</td>\n",
       "      <td>NaN</td>\n",
       "      <td>NaN</td>\n",
       "      <td>NaN</td>\n",
       "      <td>0.99378</td>\n",
       "      <td>0.46149</td>\n",
       "      <td>0.0</td>\n",
       "      <td>1.0</td>\n",
       "      <td>1.0</td>\n",
       "      <td>1.0</td>\n",
       "      <td>9.0</td>\n",
       "    </tr>\n",
       "    <tr>\n",
       "      <th>handler__has_star</th>\n",
       "      <td>15756</td>\n",
       "      <td>1</td>\n",
       "      <td>False</td>\n",
       "      <td>15756</td>\n",
       "      <td>NaN</td>\n",
       "      <td>NaN</td>\n",
       "      <td>NaN</td>\n",
       "      <td>NaN</td>\n",
       "      <td>NaN</td>\n",
       "      <td>NaN</td>\n",
       "      <td>NaN</td>\n",
       "    </tr>\n",
       "    <tr>\n",
       "      <th>handler__has_finally</th>\n",
       "      <td>15756</td>\n",
       "      <td>2</td>\n",
       "      <td>False</td>\n",
       "      <td>14394</td>\n",
       "      <td>NaN</td>\n",
       "      <td>NaN</td>\n",
       "      <td>NaN</td>\n",
       "      <td>NaN</td>\n",
       "      <td>NaN</td>\n",
       "      <td>NaN</td>\n",
       "      <td>NaN</td>\n",
       "    </tr>\n",
       "    <tr>\n",
       "      <th>handler__has_catch_all</th>\n",
       "      <td>15756</td>\n",
       "      <td>2</td>\n",
       "      <td>False</td>\n",
       "      <td>14905</td>\n",
       "      <td>NaN</td>\n",
       "      <td>NaN</td>\n",
       "      <td>NaN</td>\n",
       "      <td>NaN</td>\n",
       "      <td>NaN</td>\n",
       "      <td>NaN</td>\n",
       "      <td>NaN</td>\n",
       "    </tr>\n",
       "    <tr>\n",
       "      <th>handler__average_body_count</th>\n",
       "      <td>15756.0</td>\n",
       "      <td>NaN</td>\n",
       "      <td>NaN</td>\n",
       "      <td>NaN</td>\n",
       "      <td>1.281047</td>\n",
       "      <td>0.866553</td>\n",
       "      <td>0.0</td>\n",
       "      <td>1.0</td>\n",
       "      <td>1.0</td>\n",
       "      <td>1.0</td>\n",
       "      <td>15.0</td>\n",
       "    </tr>\n",
       "    <tr>\n",
       "      <th>handler__expertise_level</th>\n",
       "      <td>15756</td>\n",
       "      <td>2</td>\n",
       "      <td>BEGINNER</td>\n",
       "      <td>8953</td>\n",
       "      <td>NaN</td>\n",
       "      <td>NaN</td>\n",
       "      <td>NaN</td>\n",
       "      <td>NaN</td>\n",
       "      <td>NaN</td>\n",
       "      <td>NaN</td>\n",
       "      <td>NaN</td>\n",
       "    </tr>\n",
       "  </tbody>\n",
       "</table>\n",
       "</div>"
      ]
     },
     "execution_count": 7,
     "metadata": {},
     "output_type": "execute_result"
    }
   ],
   "execution_count": 7
  },
  {
   "metadata": {},
   "cell_type": "markdown",
   "source": [
    "### IMPORTANTE\n",
    "Hay try con un numero medio de sentencias en los bodies de 0? Un try vacio? La indentacion de python suele impedirlo"
   ],
   "id": "cae12180f41a4e52"
  },
  {
   "cell_type": "markdown",
   "id": "b9f859b03e8083f1",
   "metadata": {
    "collapsed": false
   },
   "source": "Vamos a discretizar las variables numericas, agrupando conjuntos de valores en categorias, para hacer un análisis de los datos. Para cada variable es necesaario ver la distribucion de lo valores para hacer los bins (categorias)."
  },
  {
   "cell_type": "code",
   "id": "b7cf5fae0fd0e5ef",
   "metadata": {
    "collapsed": false,
    "ExecuteTime": {
     "end_time": "2024-05-28T11:09:47.196386Z",
     "start_time": "2024-05-28T11:09:47.148228Z"
    }
   },
   "source": [
    "# DISCRETIZATION\n",
    "X_copy = X.copy()\n",
    "\n",
    "discretized_columns = {\n",
    "    \"handler__number_of_handlers\": [(0.0, 0.0), (1.0, 1.0), (1.0, inf)],  # min: 0.0 max: 9.0 \n",
    "    \"handler__average_body_count\": [(0.0, 1.0), (1.0, 2.0), (2.0, inf)],  # min: 0.0 max: 11.0 \n",
    "}\n",
    "\n",
    "discretize_columns(X_copy, discretized_columns)\n",
    "    \n",
    "# SINGLE FEATURE\n",
    "print(\"--- SINGLE FEATURE ---\")\n",
    "print(get_statistics(X_copy, ['handler__number_of_handlers'], 10))\n",
    "print(get_statistics(X_copy, ['handler__average_body_count'], 10))\n",
    "print(get_statistics(X_copy, ['handler__has_star'], 10))\n",
    "print(get_statistics(X_copy, ['handler__has_finally'], 10))\n",
    "print(get_statistics(X_copy, ['handler__has_catch_all'], 10))\n",
    "\n",
    "# 2 FEATURES\n",
    "print(\"--- TWO FEATURES ---\")\n",
    "#print(get_statistics(X_copy, ['import__average_imported_modules', 'import__module_imports_pct'], 10))\n",
    "\n",
    "# 3 FEATURES\n",
    "print(\"--- THREE FEATURES ---\")\n",
    "#print(get_statistics(X_copy, ['program__has_sub_dirs_with_code', 'program__has_packages', 'program__has_code_root_package'], 10))"
   ],
   "outputs": [
    {
     "name": "stdout",
     "output_type": "stream",
     "text": [
      "--- SINGLE FEATURE ---\n",
      "handler__number_of_handlers  count  percentage\n",
      "                  [1.0_1.0]  13933   88.429805\n",
      "                  [0.0_0.0]   1123    7.127444\n",
      "                  [1.0_inf]    700    4.442752\n",
      "\n",
      "handler__average_body_count  count  percentage\n",
      "                  [1.0_2.0)  10972   69.636964\n",
      "                  [2.0_inf]   3661   23.235593\n",
      "                  [0.0_1.0)   1123    7.127444\n",
      "\n",
      " handler__has_star  count  percentage\n",
      "             False  15756       100.0\n",
      "\n",
      " handler__has_finally  count  percentage\n",
      "                False  14394   91.355674\n",
      "                 True   1362    8.644326\n",
      "\n",
      " handler__has_catch_all  count  percentage\n",
      "                  False  14905   94.598883\n",
      "                   True    851    5.401117\n",
      "\n",
      "--- TWO FEATURES ---\n",
      "--- THREE FEATURES ---\n"
     ]
    }
   ],
   "execution_count": 8
  },
  {
   "cell_type": "code",
   "id": "1ca9a43e-6db6-44a7-aaab-65f00d1ea79e",
   "metadata": {
    "pycharm": {
     "name": "#%%\n"
    },
    "tags": [],
    "ExecuteTime": {
     "end_time": "2024-05-28T11:09:47.211317Z",
     "start_time": "2024-05-28T11:09:47.197391Z"
    }
   },
   "source": [
    "def normalize_datatypes(X:pd.DataFrame, y:pd.Series) -> (pd.DataFrame, pd.Series, [str]):\n",
    "    X = pd.get_dummies(X)\n",
    "    X = X.astype('float32')\n",
    "    y = y.apply(lambda value: 0 if value == \"BEGINNER\" else 1) # EXPERT will be 1 and BEGINNER will be 0.\n",
    "    y = y.astype('float32')\n",
    "    columns_names = X.columns.tolist()\n",
    "    return X, y, columns_names\n",
    "\n",
    "X, y, TABLE_FEATURES = normalize_datatypes(X, y)\n",
    "# Print information about the loaded table\n",
    "print(f'Features shape: {X.shape}')\n",
    "print(f'Target shape: {y.shape}')"
   ],
   "outputs": [
    {
     "name": "stdout",
     "output_type": "stream",
     "text": [
      "Features shape: (15756, 7)\n",
      "Target shape: (15756,)\n"
     ]
    }
   ],
   "execution_count": 9
  },
  {
   "cell_type": "markdown",
   "id": "e9fc6a7d9acd9a9e",
   "metadata": {
    "collapsed": false
   },
   "source": [
    "#### Muestra la matriz de correlación de pearson entre las variables de la tabla."
   ]
  },
  {
   "cell_type": "code",
   "id": "70af048034c80af1",
   "metadata": {
    "collapsed": false,
    "ExecuteTime": {
     "end_time": "2024-05-28T11:09:47.617959Z",
     "start_time": "2024-05-28T11:09:47.213323Z"
    }
   },
   "source": [
    "sns.heatmap(X.corr(), annot=True)"
   ],
   "outputs": [
    {
     "data": {
      "text/plain": [
       "<Axes: >"
      ]
     },
     "execution_count": 10,
     "metadata": {},
     "output_type": "execute_result"
    },
    {
     "data": {
      "text/plain": [
       "<Figure size 640x480 with 2 Axes>"
      ],
      "image/png": "[encoded data removed]"
     },
     "metadata": {},
     "output_type": "display_data"
    }
   ],
   "execution_count": 10
  },
  {
   "cell_type": "markdown",
   "id": "9a47cdd4cc2b3fae",
   "metadata": {
    "collapsed": false
   },
   "source": [
    "## 3 - Detección de valores atípicos (outliers)\n",
    "## Univariate\n",
    "## Analisis detallado de variables\n",
    "Para cada una de las 5 variable (2 numericas y 3 booleanas) se hara un analisis detallado"
   ]
  },
  {
   "metadata": {},
   "cell_type": "markdown",
   "source": [
    "### Variable number_of_handlers (1/5)\n",
    "Esta variable es de tipo numérica y nos indica el número de clausulas except en la sentencia Try. Como vimos en la descripción de la tabla esta varibale adopta valores en el rango 0 - 9. Con una media de 0.99."
   ],
   "id": "b8ac28118b9c7e95"
  },
  {
   "metadata": {
    "ExecuteTime": {
     "end_time": "2024-05-28T11:09:47.756864Z",
     "start_time": "2024-05-28T11:09:47.618889Z"
    }
   },
   "cell_type": "code",
   "source": "sns.stripplot(X['handler__number_of_handlers'])",
   "id": "5eacddae8fc77a62",
   "outputs": [
    {
     "data": {
      "text/plain": [
       "<Axes: ylabel='handler__number_of_handlers'>"
      ]
     },
     "execution_count": 11,
     "metadata": {},
     "output_type": "execute_result"
    },
    {
     "data": {
      "text/plain": [
       "<Figure size 640x480 with 1 Axes>"
      ],
      "image/png": "[encoded data removed]"
     },
     "metadata": {},
     "output_type": "display_data"
    }
   ],
   "execution_count": 11
  },
  {
   "metadata": {
    "ExecuteTime": {
     "end_time": "2024-05-28T11:09:47.766794Z",
     "start_time": "2024-05-28T11:09:47.757870Z"
    }
   },
   "cell_type": "code",
   "source": "print_outliers_for_df_column(X, 'handler__number_of_handlers')",
   "id": "cfc7351841dbaeeb",
   "outputs": [
    {
     "name": "stdout",
     "output_type": "stream",
     "text": [
      "El coeficiente MC (Medcouple Coefficient) de balanceo es: 0.3888888888888889\n",
      "Rango valores atípicos extremos (Tukey): [1.0,1.0]\n",
      "Rango valores atípicos leves (Tukey): [1.0,1.0]\n",
      "Rango valores atípicos extremos (Fixed BoxPlot): [1.0,1.0]\n",
      "-3.0IQR: 1123 instancias tienen un valor para handler__number_of_handlers inferior a 1.0 (Q1-3*IQR) para handler__number_of_handlers. Representando un 7.127% del total de instancias.\n",
      "-1.5IQR: 1123 instancias tienen un valor para handler__number_of_handlers inferior a 1.0 (Q1-1.5*IQR) para handler__number_of_handlers. Representando un 7.127% del total de instancias.\n",
      "+1.5IQR: 700 instancias tienen un valor para handler__number_of_handlers superior a 1.0 (Q3+1.5*IQR) para handler__number_of_handlers. Representando un 4.443% del total de instancias.\n",
      "+3.0IQR: 700 instancias tienen un valor para handler__number_of_handlers superior a 1.0 (Q3-3*IQR) para handler__number_of_handlers. Representando un 4.443% del total de instancias.\n",
      "L: 1123 instancias tienen un valor para handler__number_of_handlers inferior a 1.0 para handler__number_of_handlers. Representando un 7.127% del total de instancias.\n",
      "U: 700 instancias tienen un valor para handler__number_of_handlers superior a 1.0 para handler__number_of_handlers. Representando un 4.443% del total de instancias.\n"
     ]
    }
   ],
   "execution_count": 12
  },
  {
   "metadata": {},
   "cell_type": "markdown",
   "source": "Describimos los valores de las variables de la tabla, cuando el valor de la variable es mayor que 1 o menor que 1 (Todos los umbrales son 1)",
   "id": "a56e8c4657003378"
  },
  {
   "metadata": {
    "ExecuteTime": {
     "end_time": "2024-05-28T11:09:47.790628Z",
     "start_time": "2024-05-28T11:09:47.767800Z"
    }
   },
   "cell_type": "code",
   "source": "X[(X['handler__number_of_handlers'] > 1) | (X['handler__number_of_handlers'] < 1)].describe(percentiles=[.25, .50, .75], include = ['object', 'float', 'bool', 'int'])",
   "id": "689c534bf17a722e",
   "outputs": [
    {
     "data": {
      "text/plain": [
       "       handler__number_of_handlers  handler__has_star  handler__has_finally  \\\n",
       "count                  1823.000000             1823.0           1823.000000   \n",
       "mean                      0.946242                0.0              0.636862   \n",
       "std                       1.356112                0.0              0.481036   \n",
       "min                       0.000000                0.0              0.000000   \n",
       "25%                       0.000000                0.0              0.000000   \n",
       "50%                       0.000000                0.0              1.000000   \n",
       "75%                       2.000000                0.0              1.000000   \n",
       "max                       9.000000                0.0              1.000000   \n",
       "\n",
       "       handler__has_catch_all  handler__average_body_count  \\\n",
       "count             1823.000000                  1823.000000   \n",
       "mean                 0.023039                     0.605688   \n",
       "std                  0.150068                     0.954718   \n",
       "min                  0.000000                     0.000000   \n",
       "25%                  0.000000                     0.000000   \n",
       "50%                  0.000000                     0.000000   \n",
       "75%                  0.000000                     1.000000   \n",
       "max                  1.000000                     9.500000   \n",
       "\n",
       "       handler__expertise_level_BEGINNER  handler__expertise_level_EXPERT  \n",
       "count                        1823.000000                      1823.000000  \n",
       "mean                            0.611081                         0.388919  \n",
       "std                             0.487639                         0.487639  \n",
       "min                             0.000000                         0.000000  \n",
       "25%                             0.000000                         0.000000  \n",
       "50%                             1.000000                         0.000000  \n",
       "75%                             1.000000                         1.000000  \n",
       "max                             1.000000                         1.000000  "
      ],
      "text/html": [
       "<div>\n",
       "<style scoped>\n",
       "    .dataframe tbody tr th:only-of-type {\n",
       "        vertical-align: middle;\n",
       "    }\n",
       "\n",
       "    .dataframe tbody tr th {\n",
       "        vertical-align: top;\n",
       "    }\n",
       "\n",
       "    .dataframe thead th {\n",
       "        text-align: right;\n",
       "    }\n",
       "</style>\n",
       "<table border=\"1\" class=\"dataframe\">\n",
       "  <thead>\n",
       "    <tr style=\"text-align: right;\">\n",
       "      <th></th>\n",
       "      <th>handler__number_of_handlers</th>\n",
       "      <th>handler__has_star</th>\n",
       "      <th>handler__has_finally</th>\n",
       "      <th>handler__has_catch_all</th>\n",
       "      <th>handler__average_body_count</th>\n",
       "      <th>handler__expertise_level_BEGINNER</th>\n",
       "      <th>handler__expertise_level_EXPERT</th>\n",
       "    </tr>\n",
       "  </thead>\n",
       "  <tbody>\n",
       "    <tr>\n",
       "      <th>count</th>\n",
       "      <td>1823.000000</td>\n",
       "      <td>1823.0</td>\n",
       "      <td>1823.000000</td>\n",
       "      <td>1823.000000</td>\n",
       "      <td>1823.000000</td>\n",
       "      <td>1823.000000</td>\n",
       "      <td>1823.000000</td>\n",
       "    </tr>\n",
       "    <tr>\n",
       "      <th>mean</th>\n",
       "      <td>0.946242</td>\n",
       "      <td>0.0</td>\n",
       "      <td>0.636862</td>\n",
       "      <td>0.023039</td>\n",
       "      <td>0.605688</td>\n",
       "      <td>0.611081</td>\n",
       "      <td>0.388919</td>\n",
       "    </tr>\n",
       "    <tr>\n",
       "      <th>std</th>\n",
       "      <td>1.356112</td>\n",
       "      <td>0.0</td>\n",
       "      <td>0.481036</td>\n",
       "      <td>0.150068</td>\n",
       "      <td>0.954718</td>\n",
       "      <td>0.487639</td>\n",
       "      <td>0.487639</td>\n",
       "    </tr>\n",
       "    <tr>\n",
       "      <th>min</th>\n",
       "      <td>0.000000</td>\n",
       "      <td>0.0</td>\n",
       "      <td>0.000000</td>\n",
       "      <td>0.000000</td>\n",
       "      <td>0.000000</td>\n",
       "      <td>0.000000</td>\n",
       "      <td>0.000000</td>\n",
       "    </tr>\n",
       "    <tr>\n",
       "      <th>25%</th>\n",
       "      <td>0.000000</td>\n",
       "      <td>0.0</td>\n",
       "      <td>0.000000</td>\n",
       "      <td>0.000000</td>\n",
       "      <td>0.000000</td>\n",
       "      <td>0.000000</td>\n",
       "      <td>0.000000</td>\n",
       "    </tr>\n",
       "    <tr>\n",
       "      <th>50%</th>\n",
       "      <td>0.000000</td>\n",
       "      <td>0.0</td>\n",
       "      <td>1.000000</td>\n",
       "      <td>0.000000</td>\n",
       "      <td>0.000000</td>\n",
       "      <td>1.000000</td>\n",
       "      <td>0.000000</td>\n",
       "    </tr>\n",
       "    <tr>\n",
       "      <th>75%</th>\n",
       "      <td>2.000000</td>\n",
       "      <td>0.0</td>\n",
       "      <td>1.000000</td>\n",
       "      <td>0.000000</td>\n",
       "      <td>1.000000</td>\n",
       "      <td>1.000000</td>\n",
       "      <td>1.000000</td>\n",
       "    </tr>\n",
       "    <tr>\n",
       "      <th>max</th>\n",
       "      <td>9.000000</td>\n",
       "      <td>0.0</td>\n",
       "      <td>1.000000</td>\n",
       "      <td>1.000000</td>\n",
       "      <td>9.500000</td>\n",
       "      <td>1.000000</td>\n",
       "      <td>1.000000</td>\n",
       "    </tr>\n",
       "  </tbody>\n",
       "</table>\n",
       "</div>"
      ]
     },
     "execution_count": 13,
     "metadata": {},
     "output_type": "execute_result"
    }
   ],
   "execution_count": 13
  },
  {
   "metadata": {},
   "cell_type": "markdown",
   "source": [
    "### Variable average_body_count (2/5)\n",
    "Esta variable representa el número medio de sentencias en los cuerpos del try y los except. Como vimos en la descripción de la tabla esta varibale adopta valores en el rango 0 - 15. Con una media de 1.28."
   ],
   "id": "8f8a651cfdff0bcd"
  },
  {
   "metadata": {
    "ExecuteTime": {
     "end_time": "2024-05-28T11:09:47.957426Z",
     "start_time": "2024-05-28T11:09:47.791637Z"
    }
   },
   "cell_type": "code",
   "source": "sns.stripplot(X['handler__average_body_count'])",
   "id": "1ebb40d57c0b140",
   "outputs": [
    {
     "data": {
      "text/plain": [
       "<Axes: ylabel='handler__average_body_count'>"
      ]
     },
     "execution_count": 14,
     "metadata": {},
     "output_type": "execute_result"
    },
    {
     "data": {
      "text/plain": [
       "<Figure size 640x480 with 1 Axes>"
      ],
      "image/png": "[encoded data removed]"
     },
     "metadata": {},
     "output_type": "display_data"
    }
   ],
   "execution_count": 14
  },
  {
   "metadata": {
    "ExecuteTime": {
     "end_time": "2024-05-28T11:09:47.967586Z",
     "start_time": "2024-05-28T11:09:47.958432Z"
    }
   },
   "cell_type": "code",
   "source": "print_outliers_for_df_column(X, 'handler__average_body_count')",
   "id": "81b8080ab603f324",
   "outputs": [
    {
     "name": "stdout",
     "output_type": "stream",
     "text": [
      "El coeficiente MC (Medcouple Coefficient) de balanceo es: 0.9238913967973881\n",
      "Rango valores atípicos extremos (Tukey): [1.0,1.0]\n",
      "Rango valores atípicos leves (Tukey): [1.0,1.0]\n",
      "Rango valores atípicos extremos (Fixed BoxPlot): [1.0,1.0]\n",
      "-3.0IQR: 1123 instancias tienen un valor para handler__average_body_count inferior a 1.0 (Q1-3*IQR) para handler__average_body_count. Representando un 7.127% del total de instancias.\n",
      "-1.5IQR: 1123 instancias tienen un valor para handler__average_body_count inferior a 1.0 (Q1-1.5*IQR) para handler__average_body_count. Representando un 7.127% del total de instancias.\n",
      "+1.5IQR: 3890 instancias tienen un valor para handler__average_body_count superior a 1.0 (Q3+1.5*IQR) para handler__average_body_count. Representando un 24.69% del total de instancias.\n",
      "+3.0IQR: 3890 instancias tienen un valor para handler__average_body_count superior a 1.0 (Q3-3*IQR) para handler__average_body_count. Representando un 24.69% del total de instancias.\n",
      "L: 1123 instancias tienen un valor para handler__average_body_count inferior a 1.0 para handler__average_body_count. Representando un 7.127% del total de instancias.\n",
      "U: 3890 instancias tienen un valor para handler__average_body_count superior a 1.0 para handler__average_body_count. Representando un 24.69% del total de instancias.\n"
     ]
    }
   ],
   "execution_count": 15
  },
  {
   "metadata": {
    "ExecuteTime": {
     "end_time": "2024-05-28T11:09:47.992079Z",
     "start_time": "2024-05-28T11:09:47.968592Z"
    }
   },
   "cell_type": "code",
   "source": "X[(X['handler__average_body_count'] > 1) | (X['handler__average_body_count'] < 1)].describe(percentiles=[.25, .50, .75], include = ['object', 'float', 'bool', 'int'])",
   "id": "84725ca807e4ee17",
   "outputs": [
    {
     "data": {
      "text/plain": [
       "       handler__number_of_handlers  handler__has_star  handler__has_finally  \\\n",
       "count                  5013.000000             5013.0           5013.000000   \n",
       "mean                      0.900658                0.0              0.245562   \n",
       "std                       0.727486                0.0              0.430463   \n",
       "min                       0.000000                0.0              0.000000   \n",
       "25%                       1.000000                0.0              0.000000   \n",
       "50%                       1.000000                0.0              0.000000   \n",
       "75%                       1.000000                0.0              0.000000   \n",
       "max                       9.000000                0.0              1.000000   \n",
       "\n",
       "       handler__has_catch_all  handler__average_body_count  \\\n",
       "count             5013.000000                  5013.000000   \n",
       "mean                 0.057451                     1.883337   \n",
       "std                  0.232725                     1.352158   \n",
       "min                  0.000000                     0.000000   \n",
       "25%                  0.000000                     1.500000   \n",
       "50%                  0.000000                     2.000000   \n",
       "75%                  0.000000                     2.000000   \n",
       "max                  1.000000                    15.000000   \n",
       "\n",
       "       handler__expertise_level_BEGINNER  handler__expertise_level_EXPERT  \n",
       "count                        5013.000000                      5013.000000  \n",
       "mean                            0.545183                         0.454817  \n",
       "std                             0.498004                         0.498004  \n",
       "min                             0.000000                         0.000000  \n",
       "25%                             0.000000                         0.000000  \n",
       "50%                             1.000000                         0.000000  \n",
       "75%                             1.000000                         1.000000  \n",
       "max                             1.000000                         1.000000  "
      ],
      "text/html": [
       "<div>\n",
       "<style scoped>\n",
       "    .dataframe tbody tr th:only-of-type {\n",
       "        vertical-align: middle;\n",
       "    }\n",
       "\n",
       "    .dataframe tbody tr th {\n",
       "        vertical-align: top;\n",
       "    }\n",
       "\n",
       "    .dataframe thead th {\n",
       "        text-align: right;\n",
       "    }\n",
       "</style>\n",
       "<table border=\"1\" class=\"dataframe\">\n",
       "  <thead>\n",
       "    <tr style=\"text-align: right;\">\n",
       "      <th></th>\n",
       "      <th>handler__number_of_handlers</th>\n",
       "      <th>handler__has_star</th>\n",
       "      <th>handler__has_finally</th>\n",
       "      <th>handler__has_catch_all</th>\n",
       "      <th>handler__average_body_count</th>\n",
       "      <th>handler__expertise_level_BEGINNER</th>\n",
       "      <th>handler__expertise_level_EXPERT</th>\n",
       "    </tr>\n",
       "  </thead>\n",
       "  <tbody>\n",
       "    <tr>\n",
       "      <th>count</th>\n",
       "      <td>5013.000000</td>\n",
       "      <td>5013.0</td>\n",
       "      <td>5013.000000</td>\n",
       "      <td>5013.000000</td>\n",
       "      <td>5013.000000</td>\n",
       "      <td>5013.000000</td>\n",
       "      <td>5013.000000</td>\n",
       "    </tr>\n",
       "    <tr>\n",
       "      <th>mean</th>\n",
       "      <td>0.900658</td>\n",
       "      <td>0.0</td>\n",
       "      <td>0.245562</td>\n",
       "      <td>0.057451</td>\n",
       "      <td>1.883337</td>\n",
       "      <td>0.545183</td>\n",
       "      <td>0.454817</td>\n",
       "    </tr>\n",
       "    <tr>\n",
       "      <th>std</th>\n",
       "      <td>0.727486</td>\n",
       "      <td>0.0</td>\n",
       "      <td>0.430463</td>\n",
       "      <td>0.232725</td>\n",
       "      <td>1.352158</td>\n",
       "      <td>0.498004</td>\n",
       "      <td>0.498004</td>\n",
       "    </tr>\n",
       "    <tr>\n",
       "      <th>min</th>\n",
       "      <td>0.000000</td>\n",
       "      <td>0.0</td>\n",
       "      <td>0.000000</td>\n",
       "      <td>0.000000</td>\n",
       "      <td>0.000000</td>\n",
       "      <td>0.000000</td>\n",
       "      <td>0.000000</td>\n",
       "    </tr>\n",
       "    <tr>\n",
       "      <th>25%</th>\n",
       "      <td>1.000000</td>\n",
       "      <td>0.0</td>\n",
       "      <td>0.000000</td>\n",
       "      <td>0.000000</td>\n",
       "      <td>1.500000</td>\n",
       "      <td>0.000000</td>\n",
       "      <td>0.000000</td>\n",
       "    </tr>\n",
       "    <tr>\n",
       "      <th>50%</th>\n",
       "      <td>1.000000</td>\n",
       "      <td>0.0</td>\n",
       "      <td>0.000000</td>\n",
       "      <td>0.000000</td>\n",
       "      <td>2.000000</td>\n",
       "      <td>1.000000</td>\n",
       "      <td>0.000000</td>\n",
       "    </tr>\n",
       "    <tr>\n",
       "      <th>75%</th>\n",
       "      <td>1.000000</td>\n",
       "      <td>0.0</td>\n",
       "      <td>0.000000</td>\n",
       "      <td>0.000000</td>\n",
       "      <td>2.000000</td>\n",
       "      <td>1.000000</td>\n",
       "      <td>1.000000</td>\n",
       "    </tr>\n",
       "    <tr>\n",
       "      <th>max</th>\n",
       "      <td>9.000000</td>\n",
       "      <td>0.0</td>\n",
       "      <td>1.000000</td>\n",
       "      <td>1.000000</td>\n",
       "      <td>15.000000</td>\n",
       "      <td>1.000000</td>\n",
       "      <td>1.000000</td>\n",
       "    </tr>\n",
       "  </tbody>\n",
       "</table>\n",
       "</div>"
      ]
     },
     "execution_count": 16,
     "metadata": {},
     "output_type": "execute_result"
    }
   ],
   "execution_count": 16
  },
  {
   "metadata": {},
   "cell_type": "markdown",
   "source": [
    "### IMPORTANTE\n",
    "Puede parecer imposible que haya algun handler con 0 como average body count. Esto se debe a que en Python debido a la indentacion no se permite hacer:\n",
    "try:\n",
    "    ...\n",
    "except:\n",
    "\n",
    "a = 1 (fuera del except)\n",
    "\n",
    "Que estos valores sean posibles es debido a la presencia de try con unicamente una cláusula finally."
   ],
   "id": "6ad5f3e20fb30526"
  },
  {
   "metadata": {},
   "cell_type": "markdown",
   "source": [
    "### Variable has_star (3/5)\n",
    "Esta variable es de tipo booleano y representa es una sentencia del tipo TryStar."
   ],
   "id": "a1c26b66e0d46b6"
  },
  {
   "metadata": {
    "ExecuteTime": {
     "end_time": "2024-05-28T11:09:48.139808Z",
     "start_time": "2024-05-28T11:09:47.993086Z"
    }
   },
   "cell_type": "code",
   "source": [
    "plt.xticks([0, 1], ['False', 'True'])\n",
    "sns.histplot(X['handler__has_star'], discrete=True)"
   ],
   "id": "a23c822bbcf6bb1c",
   "outputs": [
    {
     "data": {
      "text/plain": [
       "<Axes: xlabel='handler__has_star', ylabel='Count'>"
      ]
     },
     "execution_count": 17,
     "metadata": {},
     "output_type": "execute_result"
    },
    {
     "data": {
      "text/plain": [
       "<Figure size 640x480 with 1 Axes>"
      ],
      "image/png": "[encoded data removed]"
     },
     "metadata": {},
     "output_type": "display_data"
    }
   ],
   "execution_count": 17
  },
  {
   "metadata": {
    "ExecuteTime": {
     "end_time": "2024-05-28T11:09:48.149379Z",
     "start_time": "2024-05-28T11:09:48.140815Z"
    }
   },
   "cell_type": "code",
   "source": [
    "num_true_values = len(X[X['handler__has_star'] == True])\n",
    "num_false_values = len(X[X['handler__has_star'] == False])\n",
    "std = X['handler__has_star'].std()\n",
    "freq_true = len(X[X['handler__has_star'] == True]) / len(X['handler__has_star'])\n",
    "freq_false = len(X[X['handler__has_star'] == False]) / len(X['handler__has_star'])\n",
    "print(f'La variable has_star contiene {num_true_values} valores verdaderos y {num_false_values} valores falsos. Y, la desviación típica es de {std}')\n",
    "print(f'La frecuencia con la que programa puede tener la variable has_star a True es {freq_true}.')\n",
    "print(f'La frecuencia con la que programa puede tener la variable has_star a False es {freq_false}.')"
   ],
   "id": "bfc2bac6fe9901ca",
   "outputs": [
    {
     "name": "stdout",
     "output_type": "stream",
     "text": [
      "La variable has_star contiene 0 valores verdaderos y 15756 valores falsos. Y, la desviación típica es de 0.0\n",
      "La frecuencia con la que programa puede tener la variable has_star a True es 0.0.\n",
      "La frecuencia con la que programa puede tener la variable has_star a False es 1.0.\n"
     ]
    }
   ],
   "execution_count": 18
  },
  {
   "metadata": {
    "ExecuteTime": {
     "end_time": "2024-05-28T11:09:48.155913Z",
     "start_time": "2024-05-28T11:09:48.150384Z"
    }
   },
   "cell_type": "code",
   "source": [
    "possible_values = [True, False]\n",
    "print_frequency_anal_for_cat_var(X, 'handler__has_star', possible_values)"
   ],
   "id": "2527df6e9ff06a59",
   "outputs": [
    {
     "name": "stdout",
     "output_type": "stream",
     "text": [
      "La variable handler__has_star contiene 2 valores distintos.\n",
      "El umbral de outlier es de 0.1%\n",
      "La variable handler__has_star toma el valor de 0.0 en un 100.0% de los items.\n",
      "La variable handler__has_star toma el valor de True en un 0.0% de los items. [OUTLIER]\n"
     ]
    }
   ],
   "execution_count": 19
  },
  {
   "metadata": {},
   "cell_type": "markdown",
   "source": [
    "### IMPORTANTE \n",
    "\n",
    "No hay ningun try del tipo TryStar por lo que ninguna entrada toma el valor True para has_star"
   ],
   "id": "33678ea33dc7185c"
  },
  {
   "metadata": {},
   "cell_type": "markdown",
   "source": [
    "### Variable has_catch_all (4/5)\n",
    "Esta variable es de tipo booleano y representa si el try tiene un except all."
   ],
   "id": "91ce9cd901f2813d"
  },
  {
   "metadata": {
    "ExecuteTime": {
     "end_time": "2024-05-28T11:09:48.290754Z",
     "start_time": "2024-05-28T11:09:48.156920Z"
    }
   },
   "cell_type": "code",
   "source": [
    "plt.xticks([0, 1], ['False', 'True'])\n",
    "sns.histplot(X['handler__has_catch_all'], discrete=True)"
   ],
   "id": "8c8c101e58378ff",
   "outputs": [
    {
     "data": {
      "text/plain": [
       "<Axes: xlabel='handler__has_catch_all', ylabel='Count'>"
      ]
     },
     "execution_count": 20,
     "metadata": {},
     "output_type": "execute_result"
    },
    {
     "data": {
      "text/plain": [
       "<Figure size 640x480 with 1 Axes>"
      ],
      "image/png": "[encoded data removed]"
     },
     "metadata": {},
     "output_type": "display_data"
    }
   ],
   "execution_count": 20
  },
  {
   "metadata": {
    "ExecuteTime": {
     "end_time": "2024-05-28T11:09:48.299495Z",
     "start_time": "2024-05-28T11:09:48.291760Z"
    }
   },
   "cell_type": "code",
   "source": [
    "num_true_values = len(X[X['handler__has_catch_all'] == True])\n",
    "num_false_values = len(X[X['handler__has_catch_all'] == False])\n",
    "std = X['handler__has_catch_all'].std()\n",
    "freq_true = len(X[X['handler__has_catch_all'] == True]) / len(X['handler__has_catch_all'])\n",
    "freq_false = len(X[X['handler__has_catch_all'] == False]) / len(X['handler__has_catch_all'])\n",
    "print(f'La variable has_catch_all contiene {num_true_values} valores verdaderos y {num_false_values} valores falsos. Y, la desviación típica es de {std}')\n",
    "print(f'La frecuencia con la que programa puede tener la variable has_catch_all a True es {freq_true}.')\n",
    "print(f'La frecuencia con la que programa puede tener la variable has_catch_all a False es {freq_false}.')"
   ],
   "id": "7b06a772315cd6ea",
   "outputs": [
    {
     "name": "stdout",
     "output_type": "stream",
     "text": [
      "La variable has_catch_all contiene 851 valores verdaderos y 14905 valores falsos. Y, la desviación típica es de 0.22604691982269287\n",
      "La frecuencia con la que programa puede tener la variable has_catch_all a True es 0.05401117034780401.\n",
      "La frecuencia con la que programa puede tener la variable has_catch_all a False es 0.945988829652196.\n"
     ]
    }
   ],
   "execution_count": 21
  },
  {
   "metadata": {
    "ExecuteTime": {
     "end_time": "2024-05-28T11:09:48.305594Z",
     "start_time": "2024-05-28T11:09:48.300502Z"
    }
   },
   "cell_type": "code",
   "source": [
    "possible_values = [True, False]\n",
    "print_frequency_anal_for_cat_var(X, 'handler__has_catch_all', possible_values)"
   ],
   "id": "38f31a82f166c72b",
   "outputs": [
    {
     "name": "stdout",
     "output_type": "stream",
     "text": [
      "La variable handler__has_catch_all contiene 2 valores distintos.\n",
      "El umbral de outlier es de 0.1%\n",
      "La variable handler__has_catch_all toma el valor de 0.0 en un 94.6% de los items.\n",
      "La variable handler__has_catch_all toma el valor de 1.0 en un 5.401% de los items.\n"
     ]
    }
   ],
   "execution_count": 22
  },
  {
   "metadata": {
    "ExecuteTime": {
     "end_time": "2024-05-28T11:09:48.334466Z",
     "start_time": "2024-05-28T11:09:48.306601Z"
    }
   },
   "cell_type": "code",
   "source": "X[X['handler__has_catch_all'] == True].describe(percentiles=[.25, .50, .75], include = ['object', 'float', 'bool', 'int'])\n",
   "id": "413639dc640ff521",
   "outputs": [
    {
     "data": {
      "text/plain": [
       "       handler__number_of_handlers  handler__has_star  handler__has_finally  \\\n",
       "count                   851.000000              851.0            851.000000   \n",
       "mean                      1.064630                0.0              0.027027   \n",
       "std                       0.355537                0.0              0.162258   \n",
       "min                       1.000000                0.0              0.000000   \n",
       "25%                       1.000000                0.0              0.000000   \n",
       "50%                       1.000000                0.0              0.000000   \n",
       "75%                       1.000000                0.0              0.000000   \n",
       "max                       8.000000                0.0              1.000000   \n",
       "\n",
       "       handler__has_catch_all  handler__average_body_count  \\\n",
       "count                   851.0                   851.000000   \n",
       "mean                      1.0                     1.528496   \n",
       "std                       0.0                     1.134448   \n",
       "min                       1.0                     1.000000   \n",
       "25%                       1.0                     1.000000   \n",
       "50%                       1.0                     1.000000   \n",
       "75%                       1.0                     2.000000   \n",
       "max                       1.0                    15.000000   \n",
       "\n",
       "       handler__expertise_level_BEGINNER  handler__expertise_level_EXPERT  \n",
       "count                         851.000000                       851.000000  \n",
       "mean                            0.444183                         0.555817  \n",
       "std                             0.497167                         0.497167  \n",
       "min                             0.000000                         0.000000  \n",
       "25%                             0.000000                         0.000000  \n",
       "50%                             0.000000                         1.000000  \n",
       "75%                             1.000000                         1.000000  \n",
       "max                             1.000000                         1.000000  "
      ],
      "text/html": [
       "<div>\n",
       "<style scoped>\n",
       "    .dataframe tbody tr th:only-of-type {\n",
       "        vertical-align: middle;\n",
       "    }\n",
       "\n",
       "    .dataframe tbody tr th {\n",
       "        vertical-align: top;\n",
       "    }\n",
       "\n",
       "    .dataframe thead th {\n",
       "        text-align: right;\n",
       "    }\n",
       "</style>\n",
       "<table border=\"1\" class=\"dataframe\">\n",
       "  <thead>\n",
       "    <tr style=\"text-align: right;\">\n",
       "      <th></th>\n",
       "      <th>handler__number_of_handlers</th>\n",
       "      <th>handler__has_star</th>\n",
       "      <th>handler__has_finally</th>\n",
       "      <th>handler__has_catch_all</th>\n",
       "      <th>handler__average_body_count</th>\n",
       "      <th>handler__expertise_level_BEGINNER</th>\n",
       "      <th>handler__expertise_level_EXPERT</th>\n",
       "    </tr>\n",
       "  </thead>\n",
       "  <tbody>\n",
       "    <tr>\n",
       "      <th>count</th>\n",
       "      <td>851.000000</td>\n",
       "      <td>851.0</td>\n",
       "      <td>851.000000</td>\n",
       "      <td>851.0</td>\n",
       "      <td>851.000000</td>\n",
       "      <td>851.000000</td>\n",
       "      <td>851.000000</td>\n",
       "    </tr>\n",
       "    <tr>\n",
       "      <th>mean</th>\n",
       "      <td>1.064630</td>\n",
       "      <td>0.0</td>\n",
       "      <td>0.027027</td>\n",
       "      <td>1.0</td>\n",
       "      <td>1.528496</td>\n",
       "      <td>0.444183</td>\n",
       "      <td>0.555817</td>\n",
       "    </tr>\n",
       "    <tr>\n",
       "      <th>std</th>\n",
       "      <td>0.355537</td>\n",
       "      <td>0.0</td>\n",
       "      <td>0.162258</td>\n",
       "      <td>0.0</td>\n",
       "      <td>1.134448</td>\n",
       "      <td>0.497167</td>\n",
       "      <td>0.497167</td>\n",
       "    </tr>\n",
       "    <tr>\n",
       "      <th>min</th>\n",
       "      <td>1.000000</td>\n",
       "      <td>0.0</td>\n",
       "      <td>0.000000</td>\n",
       "      <td>1.0</td>\n",
       "      <td>1.000000</td>\n",
       "      <td>0.000000</td>\n",
       "      <td>0.000000</td>\n",
       "    </tr>\n",
       "    <tr>\n",
       "      <th>25%</th>\n",
       "      <td>1.000000</td>\n",
       "      <td>0.0</td>\n",
       "      <td>0.000000</td>\n",
       "      <td>1.0</td>\n",
       "      <td>1.000000</td>\n",
       "      <td>0.000000</td>\n",
       "      <td>0.000000</td>\n",
       "    </tr>\n",
       "    <tr>\n",
       "      <th>50%</th>\n",
       "      <td>1.000000</td>\n",
       "      <td>0.0</td>\n",
       "      <td>0.000000</td>\n",
       "      <td>1.0</td>\n",
       "      <td>1.000000</td>\n",
       "      <td>0.000000</td>\n",
       "      <td>1.000000</td>\n",
       "    </tr>\n",
       "    <tr>\n",
       "      <th>75%</th>\n",
       "      <td>1.000000</td>\n",
       "      <td>0.0</td>\n",
       "      <td>0.000000</td>\n",
       "      <td>1.0</td>\n",
       "      <td>2.000000</td>\n",
       "      <td>1.000000</td>\n",
       "      <td>1.000000</td>\n",
       "    </tr>\n",
       "    <tr>\n",
       "      <th>max</th>\n",
       "      <td>8.000000</td>\n",
       "      <td>0.0</td>\n",
       "      <td>1.000000</td>\n",
       "      <td>1.0</td>\n",
       "      <td>15.000000</td>\n",
       "      <td>1.000000</td>\n",
       "      <td>1.000000</td>\n",
       "    </tr>\n",
       "  </tbody>\n",
       "</table>\n",
       "</div>"
      ]
     },
     "execution_count": 23,
     "metadata": {},
     "output_type": "execute_result"
    }
   ],
   "execution_count": 23
  },
  {
   "metadata": {},
   "cell_type": "markdown",
   "source": [
    "### Variable has_finally (5/5)\n",
    "Esta variable es de tipo booleano y representa si el Try tiene la clausula finally."
   ],
   "id": "392e016c9f207728"
  },
  {
   "metadata": {
    "ExecuteTime": {
     "end_time": "2024-05-28T11:09:48.481835Z",
     "start_time": "2024-05-28T11:09:48.335473Z"
    }
   },
   "cell_type": "code",
   "source": [
    "plt.xticks([0, 1], ['False', 'True'])\n",
    "sns.histplot(X['handler__has_finally'], discrete=True)"
   ],
   "id": "3c9ec0d48b60161e",
   "outputs": [
    {
     "data": {
      "text/plain": [
       "<Axes: xlabel='handler__has_finally', ylabel='Count'>"
      ]
     },
     "execution_count": 24,
     "metadata": {},
     "output_type": "execute_result"
    },
    {
     "data": {
      "text/plain": [
       "<Figure size 640x480 with 1 Axes>"
      ],
      "image/png": "[encoded data removed]"
     },
     "metadata": {},
     "output_type": "display_data"
    }
   ],
   "execution_count": 24
  },
  {
   "metadata": {
    "ExecuteTime": {
     "end_time": "2024-05-28T11:09:48.492547Z",
     "start_time": "2024-05-28T11:09:48.482843Z"
    }
   },
   "cell_type": "code",
   "source": [
    "num_true_values = len(X[X['handler__has_finally'] == True])\n",
    "num_false_values = len(X[X['handler__has_finally'] == False])\n",
    "std = X['handler__has_finally'].std()\n",
    "freq_true = len(X[X['handler__has_finally'] == True]) / len(X['handler__has_finally'])\n",
    "freq_false = len(X[X['handler__has_finally'] == False]) / len(X['handler__has_finally'])\n",
    "print(f'La variable has_finally contiene {num_true_values} valores verdaderos y {num_false_values} valores falsos. Y, la desviación típica es de {std}')\n",
    "print(f'La frecuencia con la que programa puede tener la variable has_finally a True es {freq_true}.')\n",
    "print(f'La frecuencia con la que programa puede tener la variable has_finally a False es {freq_false}.')"
   ],
   "id": "6c6ada4b974c692f",
   "outputs": [
    {
     "name": "stdout",
     "output_type": "stream",
     "text": [
      "La variable has_finally contiene 1362 valores verdaderos y 14394 valores falsos. Y, la desviación típica es de 0.2810263931751251\n",
      "La frecuencia con la que programa puede tener la variable has_finally a True es 0.08644325971058645.\n",
      "La frecuencia con la que programa puede tener la variable has_finally a False es 0.9135567402894136.\n"
     ]
    }
   ],
   "execution_count": 25
  },
  {
   "metadata": {
    "ExecuteTime": {
     "end_time": "2024-05-28T11:09:48.499554Z",
     "start_time": "2024-05-28T11:09:48.493553Z"
    }
   },
   "cell_type": "code",
   "source": [
    "possible_values = [True, False]\n",
    "print_frequency_anal_for_cat_var(X, 'handler__has_finally', possible_values)"
   ],
   "id": "2a58b68a976ca0c6",
   "outputs": [
    {
     "name": "stdout",
     "output_type": "stream",
     "text": [
      "La variable handler__has_finally contiene 2 valores distintos.\n",
      "El umbral de outlier es de 0.1%\n",
      "La variable handler__has_finally toma el valor de 0.0 en un 91.36% de los items.\n",
      "La variable handler__has_finally toma el valor de 1.0 en un 8.644% de los items.\n"
     ]
    }
   ],
   "execution_count": 26
  },
  {
   "metadata": {
    "ExecuteTime": {
     "end_time": "2024-05-28T11:09:48.527484Z",
     "start_time": "2024-05-28T11:09:48.500564Z"
    }
   },
   "cell_type": "code",
   "source": "X[X['handler__has_finally'] == True].describe(percentiles=[.25, .50, .75], include = ['object', 'float', 'bool', 'int'])",
   "id": "2db058c396fb4fdd",
   "outputs": [
    {
     "data": {
      "text/plain": [
       "       handler__number_of_handlers  handler__has_star  handler__has_finally  \\\n",
       "count                  1362.000000             1362.0                1362.0   \n",
       "mean                      0.223935                0.0                   1.0   \n",
       "std                       0.590582                0.0                   0.0   \n",
       "min                       0.000000                0.0                   1.0   \n",
       "25%                       0.000000                0.0                   1.0   \n",
       "50%                       0.000000                0.0                   1.0   \n",
       "75%                       0.000000                0.0                   1.0   \n",
       "max                       8.000000                0.0                   1.0   \n",
       "\n",
       "       handler__has_catch_all  handler__average_body_count  \\\n",
       "count             1362.000000                  1362.000000   \n",
       "mean                 0.016887                     0.316459   \n",
       "std                  0.128895                     0.850125   \n",
       "min                  0.000000                     0.000000   \n",
       "25%                  0.000000                     0.000000   \n",
       "50%                  0.000000                     0.000000   \n",
       "75%                  0.000000                     0.000000   \n",
       "max                  1.000000                    10.000000   \n",
       "\n",
       "       handler__expertise_level_BEGINNER  handler__expertise_level_EXPERT  \n",
       "count                        1362.000000                      1362.000000  \n",
       "mean                            0.587372                         0.412629  \n",
       "std                             0.492488                         0.492488  \n",
       "min                             0.000000                         0.000000  \n",
       "25%                             0.000000                         0.000000  \n",
       "50%                             1.000000                         0.000000  \n",
       "75%                             1.000000                         1.000000  \n",
       "max                             1.000000                         1.000000  "
      ],
      "text/html": [
       "<div>\n",
       "<style scoped>\n",
       "    .dataframe tbody tr th:only-of-type {\n",
       "        vertical-align: middle;\n",
       "    }\n",
       "\n",
       "    .dataframe tbody tr th {\n",
       "        vertical-align: top;\n",
       "    }\n",
       "\n",
       "    .dataframe thead th {\n",
       "        text-align: right;\n",
       "    }\n",
       "</style>\n",
       "<table border=\"1\" class=\"dataframe\">\n",
       "  <thead>\n",
       "    <tr style=\"text-align: right;\">\n",
       "      <th></th>\n",
       "      <th>handler__number_of_handlers</th>\n",
       "      <th>handler__has_star</th>\n",
       "      <th>handler__has_finally</th>\n",
       "      <th>handler__has_catch_all</th>\n",
       "      <th>handler__average_body_count</th>\n",
       "      <th>handler__expertise_level_BEGINNER</th>\n",
       "      <th>handler__expertise_level_EXPERT</th>\n",
       "    </tr>\n",
       "  </thead>\n",
       "  <tbody>\n",
       "    <tr>\n",
       "      <th>count</th>\n",
       "      <td>1362.000000</td>\n",
       "      <td>1362.0</td>\n",
       "      <td>1362.0</td>\n",
       "      <td>1362.000000</td>\n",
       "      <td>1362.000000</td>\n",
       "      <td>1362.000000</td>\n",
       "      <td>1362.000000</td>\n",
       "    </tr>\n",
       "    <tr>\n",
       "      <th>mean</th>\n",
       "      <td>0.223935</td>\n",
       "      <td>0.0</td>\n",
       "      <td>1.0</td>\n",
       "      <td>0.016887</td>\n",
       "      <td>0.316459</td>\n",
       "      <td>0.587372</td>\n",
       "      <td>0.412629</td>\n",
       "    </tr>\n",
       "    <tr>\n",
       "      <th>std</th>\n",
       "      <td>0.590582</td>\n",
       "      <td>0.0</td>\n",
       "      <td>0.0</td>\n",
       "      <td>0.128895</td>\n",
       "      <td>0.850125</td>\n",
       "      <td>0.492488</td>\n",
       "      <td>0.492488</td>\n",
       "    </tr>\n",
       "    <tr>\n",
       "      <th>min</th>\n",
       "      <td>0.000000</td>\n",
       "      <td>0.0</td>\n",
       "      <td>1.0</td>\n",
       "      <td>0.000000</td>\n",
       "      <td>0.000000</td>\n",
       "      <td>0.000000</td>\n",
       "      <td>0.000000</td>\n",
       "    </tr>\n",
       "    <tr>\n",
       "      <th>25%</th>\n",
       "      <td>0.000000</td>\n",
       "      <td>0.0</td>\n",
       "      <td>1.0</td>\n",
       "      <td>0.000000</td>\n",
       "      <td>0.000000</td>\n",
       "      <td>0.000000</td>\n",
       "      <td>0.000000</td>\n",
       "    </tr>\n",
       "    <tr>\n",
       "      <th>50%</th>\n",
       "      <td>0.000000</td>\n",
       "      <td>0.0</td>\n",
       "      <td>1.0</td>\n",
       "      <td>0.000000</td>\n",
       "      <td>0.000000</td>\n",
       "      <td>1.000000</td>\n",
       "      <td>0.000000</td>\n",
       "    </tr>\n",
       "    <tr>\n",
       "      <th>75%</th>\n",
       "      <td>0.000000</td>\n",
       "      <td>0.0</td>\n",
       "      <td>1.0</td>\n",
       "      <td>0.000000</td>\n",
       "      <td>0.000000</td>\n",
       "      <td>1.000000</td>\n",
       "      <td>1.000000</td>\n",
       "    </tr>\n",
       "    <tr>\n",
       "      <th>max</th>\n",
       "      <td>8.000000</td>\n",
       "      <td>0.0</td>\n",
       "      <td>1.0</td>\n",
       "      <td>1.000000</td>\n",
       "      <td>10.000000</td>\n",
       "      <td>1.000000</td>\n",
       "      <td>1.000000</td>\n",
       "    </tr>\n",
       "  </tbody>\n",
       "</table>\n",
       "</div>"
      ]
     },
     "execution_count": 27,
     "metadata": {},
     "output_type": "execute_result"
    }
   ],
   "execution_count": 27
  },
  {
   "metadata": {},
   "cell_type": "markdown",
   "source": [
    "## Multivariate\n",
    "\n",
    "TODO: isolation forest algorithm"
   ],
   "id": "f94c26eda2e9e89"
  },
  {
   "metadata": {
    "ExecuteTime": {
     "end_time": "2024-05-28T11:09:49.145887Z",
     "start_time": "2024-05-28T11:09:48.530500Z"
    }
   },
   "cell_type": "code",
   "source": [
    "from sklearn.ensemble import  IsolationForest\n",
    "\n",
    "CONTAMINATION_FACTOR = 0.0012\n",
    "isof_model = IsolationForest(contamination=CONTAMINATION_FACTOR, random_state=0)\n",
    "isof_prediction = isof_model.fit_predict(X.values)\n",
    "mask = isof_prediction == -1\n",
    "full_table.loc[X.index[mask]]"
   ],
   "id": "9ccdd843a30139df",
   "outputs": [
    {
     "data": {
      "text/plain": [
       "       handler__number_of_handlers  handler__has_finally  \\\n",
       "93                               6                  True   \n",
       "9266                             3                 False   \n",
       "9317                             3                  True   \n",
       "9319                             3                  True   \n",
       "9485                             5                  True   \n",
       "9662                             3                  True   \n",
       "9728                             1                 False   \n",
       "9997                             3                  True   \n",
       "9998                             8                  True   \n",
       "11043                            1                 False   \n",
       "11048                            1                 False   \n",
       "11492                            6                 False   \n",
       "11752                            3                  True   \n",
       "12405                            1                  True   \n",
       "13677                            4                  True   \n",
       "15739                            3                  True   \n",
       "\n",
       "       handler__has_catch_all  handler__average_body_count  handler__has_star  \\\n",
       "93                      False                     2.833333              False   \n",
       "9266                    False                     9.000000              False   \n",
       "9317                    False                     8.333333              False   \n",
       "9319                     True                     2.000000              False   \n",
       "9485                    False                     1.600000              False   \n",
       "9662                    False                     5.000000              False   \n",
       "9728                     True                     9.000000              False   \n",
       "9997                     True                     1.000000              False   \n",
       "9998                     True                     2.750000              False   \n",
       "11043                    True                    13.000000              False   \n",
       "11048                    True                    15.000000              False   \n",
       "11492                   False                     4.166666              False   \n",
       "11752                   False                     3.000000              False   \n",
       "12405                   False                    10.000000              False   \n",
       "13677                   False                     2.500000              False   \n",
       "15739                    True                     1.000000              False   \n",
       "\n",
       "      handler__expertise_level  \n",
       "93                    BEGINNER  \n",
       "9266                    EXPERT  \n",
       "9317                    EXPERT  \n",
       "9319                    EXPERT  \n",
       "9485                    EXPERT  \n",
       "9662                    EXPERT  \n",
       "9728                    EXPERT  \n",
       "9997                    EXPERT  \n",
       "9998                    EXPERT  \n",
       "11043                   EXPERT  \n",
       "11048                   EXPERT  \n",
       "11492                   EXPERT  \n",
       "11752                   EXPERT  \n",
       "12405                   EXPERT  \n",
       "13677                   EXPERT  \n",
       "15739                   EXPERT  "
      ],
      "text/html": [
       "<div>\n",
       "<style scoped>\n",
       "    .dataframe tbody tr th:only-of-type {\n",
       "        vertical-align: middle;\n",
       "    }\n",
       "\n",
       "    .dataframe tbody tr th {\n",
       "        vertical-align: top;\n",
       "    }\n",
       "\n",
       "    .dataframe thead th {\n",
       "        text-align: right;\n",
       "    }\n",
       "</style>\n",
       "<table border=\"1\" class=\"dataframe\">\n",
       "  <thead>\n",
       "    <tr style=\"text-align: right;\">\n",
       "      <th></th>\n",
       "      <th>handler__number_of_handlers</th>\n",
       "      <th>handler__has_finally</th>\n",
       "      <th>handler__has_catch_all</th>\n",
       "      <th>handler__average_body_count</th>\n",
       "      <th>handler__has_star</th>\n",
       "      <th>handler__expertise_level</th>\n",
       "    </tr>\n",
       "  </thead>\n",
       "  <tbody>\n",
       "    <tr>\n",
       "      <th>93</th>\n",
       "      <td>6</td>\n",
       "      <td>True</td>\n",
       "      <td>False</td>\n",
       "      <td>2.833333</td>\n",
       "      <td>False</td>\n",
       "      <td>BEGINNER</td>\n",
       "    </tr>\n",
       "    <tr>\n",
       "      <th>9266</th>\n",
       "      <td>3</td>\n",
       "      <td>False</td>\n",
       "      <td>False</td>\n",
       "      <td>9.000000</td>\n",
       "      <td>False</td>\n",
       "      <td>EXPERT</td>\n",
       "    </tr>\n",
       "    <tr>\n",
       "      <th>9317</th>\n",
       "      <td>3</td>\n",
       "      <td>True</td>\n",
       "      <td>False</td>\n",
       "      <td>8.333333</td>\n",
       "      <td>False</td>\n",
       "      <td>EXPERT</td>\n",
       "    </tr>\n",
       "    <tr>\n",
       "      <th>9319</th>\n",
       "      <td>3</td>\n",
       "      <td>True</td>\n",
       "      <td>True</td>\n",
       "      <td>2.000000</td>\n",
       "      <td>False</td>\n",
       "      <td>EXPERT</td>\n",
       "    </tr>\n",
       "    <tr>\n",
       "      <th>9485</th>\n",
       "      <td>5</td>\n",
       "      <td>True</td>\n",
       "      <td>False</td>\n",
       "      <td>1.600000</td>\n",
       "      <td>False</td>\n",
       "      <td>EXPERT</td>\n",
       "    </tr>\n",
       "    <tr>\n",
       "      <th>9662</th>\n",
       "      <td>3</td>\n",
       "      <td>True</td>\n",
       "      <td>False</td>\n",
       "      <td>5.000000</td>\n",
       "      <td>False</td>\n",
       "      <td>EXPERT</td>\n",
       "    </tr>\n",
       "    <tr>\n",
       "      <th>9728</th>\n",
       "      <td>1</td>\n",
       "      <td>False</td>\n",
       "      <td>True</td>\n",
       "      <td>9.000000</td>\n",
       "      <td>False</td>\n",
       "      <td>EXPERT</td>\n",
       "    </tr>\n",
       "    <tr>\n",
       "      <th>9997</th>\n",
       "      <td>3</td>\n",
       "      <td>True</td>\n",
       "      <td>True</td>\n",
       "      <td>1.000000</td>\n",
       "      <td>False</td>\n",
       "      <td>EXPERT</td>\n",
       "    </tr>\n",
       "    <tr>\n",
       "      <th>9998</th>\n",
       "      <td>8</td>\n",
       "      <td>True</td>\n",
       "      <td>True</td>\n",
       "      <td>2.750000</td>\n",
       "      <td>False</td>\n",
       "      <td>EXPERT</td>\n",
       "    </tr>\n",
       "    <tr>\n",
       "      <th>11043</th>\n",
       "      <td>1</td>\n",
       "      <td>False</td>\n",
       "      <td>True</td>\n",
       "      <td>13.000000</td>\n",
       "      <td>False</td>\n",
       "      <td>EXPERT</td>\n",
       "    </tr>\n",
       "    <tr>\n",
       "      <th>11048</th>\n",
       "      <td>1</td>\n",
       "      <td>False</td>\n",
       "      <td>True</td>\n",
       "      <td>15.000000</td>\n",
       "      <td>False</td>\n",
       "      <td>EXPERT</td>\n",
       "    </tr>\n",
       "    <tr>\n",
       "      <th>11492</th>\n",
       "      <td>6</td>\n",
       "      <td>False</td>\n",
       "      <td>False</td>\n",
       "      <td>4.166666</td>\n",
       "      <td>False</td>\n",
       "      <td>EXPERT</td>\n",
       "    </tr>\n",
       "    <tr>\n",
       "      <th>11752</th>\n",
       "      <td>3</td>\n",
       "      <td>True</td>\n",
       "      <td>False</td>\n",
       "      <td>3.000000</td>\n",
       "      <td>False</td>\n",
       "      <td>EXPERT</td>\n",
       "    </tr>\n",
       "    <tr>\n",
       "      <th>12405</th>\n",
       "      <td>1</td>\n",
       "      <td>True</td>\n",
       "      <td>False</td>\n",
       "      <td>10.000000</td>\n",
       "      <td>False</td>\n",
       "      <td>EXPERT</td>\n",
       "    </tr>\n",
       "    <tr>\n",
       "      <th>13677</th>\n",
       "      <td>4</td>\n",
       "      <td>True</td>\n",
       "      <td>False</td>\n",
       "      <td>2.500000</td>\n",
       "      <td>False</td>\n",
       "      <td>EXPERT</td>\n",
       "    </tr>\n",
       "    <tr>\n",
       "      <th>15739</th>\n",
       "      <td>3</td>\n",
       "      <td>True</td>\n",
       "      <td>True</td>\n",
       "      <td>1.000000</td>\n",
       "      <td>False</td>\n",
       "      <td>EXPERT</td>\n",
       "    </tr>\n",
       "  </tbody>\n",
       "</table>\n",
       "</div>"
      ]
     },
     "execution_count": 28,
     "metadata": {},
     "output_type": "execute_result"
    }
   ],
   "execution_count": 28
  },
  {
   "metadata": {},
   "cell_type": "markdown",
   "source": [
    "### IMPORTANTE\n",
    "Hay que analizar los 16 outliers detectados"
   ],
   "id": "2734e2a4593d156e"
  }
 ],
 "metadata": {
  "kernelspec": {
   "display_name": "Python 3 (ipykernel)",
   "language": "python",
   "name": "python3"
  },
  "language_info": {
   "codemirror_mode": {
    "name": "ipython",
    "version": 3
   },
   "file_extension": ".py",
   "mimetype": "text/x-python",
   "name": "python",
   "nbconvert_exporter": "python",
   "pygments_lexer": "ipython3",
   "version": "3.12.2"
  },
  "toc-autonumbering": true,
  "toc-showcode": false,
  "toc-showmarkdowntxt": false,
  "toc-showtags": false
 },
 "nbformat": 4,
 "nbformat_minor": 5
}
