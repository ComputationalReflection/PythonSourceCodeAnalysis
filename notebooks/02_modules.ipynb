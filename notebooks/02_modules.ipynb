{
 "cells": [
  {
   "metadata": {},
   "cell_type": "markdown",
   "source": [
    "# Modules\n",
    "\n",
    "Esta tabla contiene la información a nivel de fichero (módulo).  --> ABEL COMPLETAR <--"
   ],
   "id": "148ae8871134f924"
  },
  {
   "metadata": {},
   "cell_type": "markdown",
   "source": "## 1 - Obtencion de datos",
   "id": "d3c24a719032807f"
  },
  {
   "metadata": {
    "ExecuteTime": {
     "end_time": "2024-05-09T18:12:00.143055Z",
     "start_time": "2024-05-09T18:11:54.891170Z"
    }
   },
   "cell_type": "code",
   "source": [
    "import matplotlib.pyplot as plt\n",
    "from notebooks_utils import *\n",
    "\n",
    "full_table = get_data('modules')\n",
    "\n",
    "# Table name, features and target.\n",
    "TABLE_NAME = 'modules'\n",
    "TABLE_FEATURES = ['module__name_convention', 'module__has_doc_string', 'module__global_stmts_pct', 'module__global_expressions', 'module__number_of_classes', 'module__number_of_functions', 'module__class_defs_pct', 'module__function_defs_pct', 'module__enum_defs_pct', 'module__average_stmts_function_body', 'module__average_stmts_method_body', 'module__type_annotations_pct', 'module__has_entry_point']\n",
    "TABLE_TARGET = 'module__expertise_level'\n",
    "\n",
    "# Load features and target.\n",
    "X, y = full_table[TABLE_FEATURES], full_table[[TABLE_TARGET]].iloc[:,0]\n",
    "\n",
    "# Print information about the loaded table.\n",
    "print(f'Features shape: {X.shape}')\n",
    "print(f'Target shape: {y.shape}')\n",
    "\n",
    "print(f'As we can see the downloaded data contains a total of {X.shape[0]} instances. Each of the instances corresponds to a program. For each program we have {X.shape[1]} attributes.')"
   ],
   "id": "9f0a949e91eb384b",
   "outputs": [
    {
     "name": "stdout",
     "output_type": "stream",
     "text": [
      "2024-05-09 20:11:58.994546 Loading data ...\n",
      "2024-05-09 20:12:00.124591 Data successfully load!!\n",
      "2024-05-09 20:12:00.124591 Creating data cache files ...\n",
      "2024-05-09 20:12:00.136593 Data cache files successfully created!!\n",
      "Features shape: (18226, 13)\n",
      "Target shape: (18226,)\n",
      "As we can see the downloaded data contains a total of 18226 instances. Each of the instances corresponds to a program. For each program we have 13 attributes.\n"
     ]
    }
   ],
   "execution_count": 1
  },
  {
   "metadata": {},
   "cell_type": "markdown",
   "source": [
    "## 2 - Exploracion de datos\n",
    "\n",
    "Una vez tenemos nuestra tabla en un dataframe el siguiente paso es explorarla para ver qué tipo de información contiene."
   ],
   "id": "bcda7cb784bf0a1"
  },
  {
   "metadata": {
    "ExecuteTime": {
     "end_time": "2024-05-09T18:12:00.167781Z",
     "start_time": "2024-05-09T18:12:00.145046Z"
    }
   },
   "cell_type": "code",
   "source": [
    "print(X.info())\n",
    "print('=============')\n",
    "print(y.info())"
   ],
   "id": "2eb3d09993235bcb",
   "outputs": [
    {
     "name": "stdout",
     "output_type": "stream",
     "text": [
      "<class 'pandas.core.frame.DataFrame'>\n",
      "RangeIndex: 18226 entries, 0 to 18225\n",
      "Data columns (total 13 columns):\n",
      " #   Column                               Non-Null Count  Dtype  \n",
      "---  ------                               --------------  -----  \n",
      " 0   module__name_convention              18226 non-null  object \n",
      " 1   module__has_doc_string               18226 non-null  bool   \n",
      " 2   module__global_stmts_pct             18226 non-null  float64\n",
      " 3   module__global_expressions           18226 non-null  float64\n",
      " 4   module__number_of_classes            18226 non-null  int64  \n",
      " 5   module__number_of_functions          18226 non-null  int64  \n",
      " 6   module__class_defs_pct               18226 non-null  float64\n",
      " 7   module__function_defs_pct            18226 non-null  float64\n",
      " 8   module__enum_defs_pct                18226 non-null  float64\n",
      " 9   module__average_stmts_function_body  18226 non-null  float64\n",
      " 10  module__average_stmts_method_body    18226 non-null  float64\n",
      " 11  module__type_annotations_pct         18226 non-null  float64\n",
      " 12  module__has_entry_point              18226 non-null  bool   \n",
      "dtypes: bool(2), float64(8), int64(2), object(1)\n",
      "memory usage: 1.6+ MB\n",
      "None\n",
      "=============\n",
      "<class 'pandas.core.series.Series'>\n",
      "RangeIndex: 18226 entries, 0 to 18225\n",
      "Series name: module__expertise_level\n",
      "Non-Null Count  Dtype \n",
      "--------------  ----- \n",
      "18226 non-null  object\n",
      "dtypes: object(1)\n",
      "memory usage: 142.5+ KB\n",
      "None\n"
     ]
    }
   ],
   "execution_count": 2
  },
  {
   "metadata": {},
   "cell_type": "markdown",
   "source": "Cómo podemos ver la tabla está compuesta por diez variables numéricas, dos variables boleanas y dos de tipo objeto. Las dos últimas variables son la etiqueta de la instancia y el name convention. Sin embargo, en algunas ocasiones estas últimas clases no las vamos a utilizar. Por ejemplo, si queremos obtener clusters por medio de aprendizaje no supervisado.",
   "id": "24f7607501c2e574"
  },
  {
   "metadata": {},
   "cell_type": "markdown",
   "source": "### 2.1 - Balance de clases",
   "id": "f6d062d35a16e21d"
  },
  {
   "metadata": {
    "ExecuteTime": {
     "end_time": "2024-05-09T18:12:00.185593Z",
     "start_time": "2024-05-09T18:12:00.169769Z"
    }
   },
   "cell_type": "code",
   "source": [
    "instances_for_class_low = len(full_table[full_table[TABLE_TARGET] == \"BEGINNER\"])\n",
    "instances_for_class_high = len(full_table[full_table[TABLE_TARGET] == \"EXPERT\"])\n",
    "\n",
    "print(f\"The dataset contains {instances_for_class_low/len(full_table)*100:.4}% instances for BEGINNER class and {instances_for_class_high/len(full_table)*100:.4}% for EXPERT class.\")"
   ],
   "id": "58277bda417384ef",
   "outputs": [
    {
     "name": "stdout",
     "output_type": "stream",
     "text": [
      "The dataset contains 39.09% instances for BEGINNER class and 60.91% for EXPERT class.\n"
     ]
    }
   ],
   "execution_count": 3
  },
  {
   "metadata": {},
   "cell_type": "markdown",
   "source": [
    "### 2.2 - Duplicados\n",
    "Miramos si la tabla tiene entradas duplicadas."
   ],
   "id": "3b9b55798c7ecbd5"
  },
  {
   "metadata": {
    "ExecuteTime": {
     "end_time": "2024-05-09T18:12:00.204114Z",
     "start_time": "2024-05-09T18:12:00.187584Z"
    }
   },
   "cell_type": "code",
   "source": [
    "number_of_duplicated_entries = sum(full_table.duplicated(subset=TABLE_FEATURES + [TABLE_TARGET]))\n",
    "duplicated_entries_pct = number_of_duplicated_entries / len(full_table) * 100\n",
    "print(f\"The dataset contains [{duplicated_entries_pct:.4}%] of duplicated entries.\")"
   ],
   "id": "ed5e6830bbf484a6",
   "outputs": [
    {
     "name": "stdout",
     "output_type": "stream",
     "text": [
      "The dataset contains [42.72%] of duplicated entries.\n"
     ]
    }
   ],
   "execution_count": 4
  },
  {
   "metadata": {},
   "cell_type": "markdown",
   "source": [
    "### 2.3 - Valores Nulos \n",
    "Miramos si alguna de las variables que contiene la tabla contiene algún valor que sea nulo."
   ],
   "id": "63d4e4ed1d8d2c6c"
  },
  {
   "metadata": {
    "ExecuteTime": {
     "end_time": "2024-05-09T18:12:00.220105Z",
     "start_time": "2024-05-09T18:12:00.207103Z"
    }
   },
   "cell_type": "code",
   "source": "X.isnull().sum()",
   "id": "6c991380e6e0413e",
   "outputs": [
    {
     "data": {
      "text/plain": [
       "module__name_convention                0\n",
       "module__has_doc_string                 0\n",
       "module__global_stmts_pct               0\n",
       "module__global_expressions             0\n",
       "module__number_of_classes              0\n",
       "module__number_of_functions            0\n",
       "module__class_defs_pct                 0\n",
       "module__function_defs_pct              0\n",
       "module__enum_defs_pct                  0\n",
       "module__average_stmts_function_body    0\n",
       "module__average_stmts_method_body      0\n",
       "module__type_annotations_pct           0\n",
       "module__has_entry_point                0\n",
       "dtype: int64"
      ]
     },
     "execution_count": 5,
     "metadata": {},
     "output_type": "execute_result"
    }
   ],
   "execution_count": 5
  },
  {
   "metadata": {
    "ExecuteTime": {
     "end_time": "2024-05-09T18:12:00.233830Z",
     "start_time": "2024-05-09T18:12:00.221103Z"
    }
   },
   "cell_type": "code",
   "source": "print_empty_cols(X)",
   "id": "18b2dfadf1719a4b",
   "outputs": [
    {
     "name": "stdout",
     "output_type": "stream",
     "text": [
      "module__name_convention\n",
      "-----------------------\n",
      "0 instancias no tienen un valor para la columna module__name_convention\n",
      "\n",
      "\n",
      "module__has_doc_string\n",
      "----------------------\n",
      "0 instancias no tienen un valor para la columna module__has_doc_string\n",
      "\n",
      "\n",
      "module__global_stmts_pct\n",
      "------------------------\n",
      "0 instancias no tienen un valor para la columna module__global_stmts_pct\n",
      "\n",
      "\n",
      "module__global_expressions\n",
      "--------------------------\n",
      "0 instancias no tienen un valor para la columna module__global_expressions\n",
      "\n",
      "\n",
      "module__number_of_classes\n",
      "-------------------------\n",
      "0 instancias no tienen un valor para la columna module__number_of_classes\n",
      "\n",
      "\n",
      "module__number_of_functions\n",
      "---------------------------\n",
      "0 instancias no tienen un valor para la columna module__number_of_functions\n",
      "\n",
      "\n",
      "module__class_defs_pct\n",
      "----------------------\n",
      "0 instancias no tienen un valor para la columna module__class_defs_pct\n",
      "\n",
      "\n",
      "module__function_defs_pct\n",
      "-------------------------\n",
      "0 instancias no tienen un valor para la columna module__function_defs_pct\n",
      "\n",
      "\n",
      "module__enum_defs_pct\n",
      "---------------------\n",
      "0 instancias no tienen un valor para la columna module__enum_defs_pct\n",
      "\n",
      "\n",
      "module__average_stmts_function_body\n",
      "-----------------------------------\n",
      "0 instancias no tienen un valor para la columna module__average_stmts_function_body\n",
      "\n",
      "\n",
      "module__average_stmts_method_body\n",
      "---------------------------------\n",
      "0 instancias no tienen un valor para la columna module__average_stmts_method_body\n",
      "\n",
      "\n",
      "module__type_annotations_pct\n",
      "----------------------------\n",
      "0 instancias no tienen un valor para la columna module__type_annotations_pct\n",
      "\n",
      "\n",
      "module__has_entry_point\n",
      "-----------------------\n",
      "0 instancias no tienen un valor para la columna module__has_entry_point\n",
      "\n",
      "\n"
     ]
    }
   ],
   "execution_count": 6
  },
  {
   "metadata": {},
   "cell_type": "markdown",
   "source": "### 2.4 - Describimos los valores de las variables de la tabla.",
   "id": "5bb94c0f81c08024"
  },
  {
   "metadata": {
    "ExecuteTime": {
     "end_time": "2024-05-09T18:12:00.294827Z",
     "start_time": "2024-05-09T18:12:00.236822Z"
    }
   },
   "cell_type": "code",
   "source": "np.transpose(X.describe(percentiles=[.25, .50, .75], include = ['object', 'float', 'bool', 'int']))",
   "id": "74bba302a29fbfd5",
   "outputs": [
    {
     "data": {
      "text/plain": [
       "                                       count unique        top   freq  \\\n",
       "module__name_convention                18226      6  SnakeCase   8629   \n",
       "module__has_doc_string                 18226      2      False  13695   \n",
       "module__global_stmts_pct             18226.0    NaN        NaN    NaN   \n",
       "module__global_expressions           18226.0    NaN        NaN    NaN   \n",
       "module__number_of_classes            18226.0    NaN        NaN    NaN   \n",
       "module__number_of_functions          18226.0    NaN        NaN    NaN   \n",
       "module__class_defs_pct               18226.0    NaN        NaN    NaN   \n",
       "module__function_defs_pct            18226.0    NaN        NaN    NaN   \n",
       "module__enum_defs_pct                18226.0    NaN        NaN    NaN   \n",
       "module__average_stmts_function_body  18226.0    NaN        NaN    NaN   \n",
       "module__average_stmts_method_body    18226.0    NaN        NaN    NaN   \n",
       "module__type_annotations_pct         18226.0    NaN        NaN    NaN   \n",
       "module__has_entry_point                18226      2      False  15831   \n",
       "\n",
       "                                         mean       std  min  25%       50%  \\\n",
       "module__name_convention                   NaN       NaN  NaN  NaN       NaN   \n",
       "module__has_doc_string                    NaN       NaN  NaN  NaN       NaN   \n",
       "module__global_stmts_pct             0.227542  0.271846  0.0  0.0     0.125   \n",
       "module__global_expressions           0.094516  0.171585  0.0  0.0       0.0   \n",
       "module__number_of_classes            1.047899   3.35827  0.0  0.0       0.0   \n",
       "module__number_of_functions          2.523044  6.308384  0.0  0.0       1.0   \n",
       "module__class_defs_pct                0.31924  0.429019  0.0  0.0       0.0   \n",
       "module__function_defs_pct            0.458978  0.464533  0.0  0.0  0.333333   \n",
       "module__enum_defs_pct                0.003743  0.045174  0.0  0.0       0.0   \n",
       "module__average_stmts_function_body  2.732112  3.928782  0.0  0.0      1.25   \n",
       "module__average_stmts_method_body     1.66441  2.924445  0.0  0.0       0.0   \n",
       "module__type_annotations_pct         0.142791  0.248542  0.0  0.0       0.0   \n",
       "module__has_entry_point                   NaN       NaN  NaN  NaN       NaN   \n",
       "\n",
       "                                          75%    max  \n",
       "module__name_convention                   NaN    NaN  \n",
       "module__has_doc_string                    NaN    NaN  \n",
       "module__global_stmts_pct             0.333333    1.0  \n",
       "module__global_expressions              0.125    1.0  \n",
       "module__number_of_classes                 1.0  113.0  \n",
       "module__number_of_functions               3.0  258.0  \n",
       "module__class_defs_pct               0.888889    1.0  \n",
       "module__function_defs_pct                 1.0    1.0  \n",
       "module__enum_defs_pct                     0.0    1.0  \n",
       "module__average_stmts_function_body       4.4   53.0  \n",
       "module__average_stmts_method_body         3.0  114.0  \n",
       "module__type_annotations_pct         0.240741    1.0  \n",
       "module__has_entry_point                   NaN    NaN  "
      ],
      "text/html": [
       "<div>\n",
       "<style scoped>\n",
       "    .dataframe tbody tr th:only-of-type {\n",
       "        vertical-align: middle;\n",
       "    }\n",
       "\n",
       "    .dataframe tbody tr th {\n",
       "        vertical-align: top;\n",
       "    }\n",
       "\n",
       "    .dataframe thead th {\n",
       "        text-align: right;\n",
       "    }\n",
       "</style>\n",
       "<table border=\"1\" class=\"dataframe\">\n",
       "  <thead>\n",
       "    <tr style=\"text-align: right;\">\n",
       "      <th></th>\n",
       "      <th>count</th>\n",
       "      <th>unique</th>\n",
       "      <th>top</th>\n",
       "      <th>freq</th>\n",
       "      <th>mean</th>\n",
       "      <th>std</th>\n",
       "      <th>min</th>\n",
       "      <th>25%</th>\n",
       "      <th>50%</th>\n",
       "      <th>75%</th>\n",
       "      <th>max</th>\n",
       "    </tr>\n",
       "  </thead>\n",
       "  <tbody>\n",
       "    <tr>\n",
       "      <th>module__name_convention</th>\n",
       "      <td>18226</td>\n",
       "      <td>6</td>\n",
       "      <td>SnakeCase</td>\n",
       "      <td>8629</td>\n",
       "      <td>NaN</td>\n",
       "      <td>NaN</td>\n",
       "      <td>NaN</td>\n",
       "      <td>NaN</td>\n",
       "      <td>NaN</td>\n",
       "      <td>NaN</td>\n",
       "      <td>NaN</td>\n",
       "    </tr>\n",
       "    <tr>\n",
       "      <th>module__has_doc_string</th>\n",
       "      <td>18226</td>\n",
       "      <td>2</td>\n",
       "      <td>False</td>\n",
       "      <td>13695</td>\n",
       "      <td>NaN</td>\n",
       "      <td>NaN</td>\n",
       "      <td>NaN</td>\n",
       "      <td>NaN</td>\n",
       "      <td>NaN</td>\n",
       "      <td>NaN</td>\n",
       "      <td>NaN</td>\n",
       "    </tr>\n",
       "    <tr>\n",
       "      <th>module__global_stmts_pct</th>\n",
       "      <td>18226.0</td>\n",
       "      <td>NaN</td>\n",
       "      <td>NaN</td>\n",
       "      <td>NaN</td>\n",
       "      <td>0.227542</td>\n",
       "      <td>0.271846</td>\n",
       "      <td>0.0</td>\n",
       "      <td>0.0</td>\n",
       "      <td>0.125</td>\n",
       "      <td>0.333333</td>\n",
       "      <td>1.0</td>\n",
       "    </tr>\n",
       "    <tr>\n",
       "      <th>module__global_expressions</th>\n",
       "      <td>18226.0</td>\n",
       "      <td>NaN</td>\n",
       "      <td>NaN</td>\n",
       "      <td>NaN</td>\n",
       "      <td>0.094516</td>\n",
       "      <td>0.171585</td>\n",
       "      <td>0.0</td>\n",
       "      <td>0.0</td>\n",
       "      <td>0.0</td>\n",
       "      <td>0.125</td>\n",
       "      <td>1.0</td>\n",
       "    </tr>\n",
       "    <tr>\n",
       "      <th>module__number_of_classes</th>\n",
       "      <td>18226.0</td>\n",
       "      <td>NaN</td>\n",
       "      <td>NaN</td>\n",
       "      <td>NaN</td>\n",
       "      <td>1.047899</td>\n",
       "      <td>3.35827</td>\n",
       "      <td>0.0</td>\n",
       "      <td>0.0</td>\n",
       "      <td>0.0</td>\n",
       "      <td>1.0</td>\n",
       "      <td>113.0</td>\n",
       "    </tr>\n",
       "    <tr>\n",
       "      <th>module__number_of_functions</th>\n",
       "      <td>18226.0</td>\n",
       "      <td>NaN</td>\n",
       "      <td>NaN</td>\n",
       "      <td>NaN</td>\n",
       "      <td>2.523044</td>\n",
       "      <td>6.308384</td>\n",
       "      <td>0.0</td>\n",
       "      <td>0.0</td>\n",
       "      <td>1.0</td>\n",
       "      <td>3.0</td>\n",
       "      <td>258.0</td>\n",
       "    </tr>\n",
       "    <tr>\n",
       "      <th>module__class_defs_pct</th>\n",
       "      <td>18226.0</td>\n",
       "      <td>NaN</td>\n",
       "      <td>NaN</td>\n",
       "      <td>NaN</td>\n",
       "      <td>0.31924</td>\n",
       "      <td>0.429019</td>\n",
       "      <td>0.0</td>\n",
       "      <td>0.0</td>\n",
       "      <td>0.0</td>\n",
       "      <td>0.888889</td>\n",
       "      <td>1.0</td>\n",
       "    </tr>\n",
       "    <tr>\n",
       "      <th>module__function_defs_pct</th>\n",
       "      <td>18226.0</td>\n",
       "      <td>NaN</td>\n",
       "      <td>NaN</td>\n",
       "      <td>NaN</td>\n",
       "      <td>0.458978</td>\n",
       "      <td>0.464533</td>\n",
       "      <td>0.0</td>\n",
       "      <td>0.0</td>\n",
       "      <td>0.333333</td>\n",
       "      <td>1.0</td>\n",
       "      <td>1.0</td>\n",
       "    </tr>\n",
       "    <tr>\n",
       "      <th>module__enum_defs_pct</th>\n",
       "      <td>18226.0</td>\n",
       "      <td>NaN</td>\n",
       "      <td>NaN</td>\n",
       "      <td>NaN</td>\n",
       "      <td>0.003743</td>\n",
       "      <td>0.045174</td>\n",
       "      <td>0.0</td>\n",
       "      <td>0.0</td>\n",
       "      <td>0.0</td>\n",
       "      <td>0.0</td>\n",
       "      <td>1.0</td>\n",
       "    </tr>\n",
       "    <tr>\n",
       "      <th>module__average_stmts_function_body</th>\n",
       "      <td>18226.0</td>\n",
       "      <td>NaN</td>\n",
       "      <td>NaN</td>\n",
       "      <td>NaN</td>\n",
       "      <td>2.732112</td>\n",
       "      <td>3.928782</td>\n",
       "      <td>0.0</td>\n",
       "      <td>0.0</td>\n",
       "      <td>1.25</td>\n",
       "      <td>4.4</td>\n",
       "      <td>53.0</td>\n",
       "    </tr>\n",
       "    <tr>\n",
       "      <th>module__average_stmts_method_body</th>\n",
       "      <td>18226.0</td>\n",
       "      <td>NaN</td>\n",
       "      <td>NaN</td>\n",
       "      <td>NaN</td>\n",
       "      <td>1.66441</td>\n",
       "      <td>2.924445</td>\n",
       "      <td>0.0</td>\n",
       "      <td>0.0</td>\n",
       "      <td>0.0</td>\n",
       "      <td>3.0</td>\n",
       "      <td>114.0</td>\n",
       "    </tr>\n",
       "    <tr>\n",
       "      <th>module__type_annotations_pct</th>\n",
       "      <td>18226.0</td>\n",
       "      <td>NaN</td>\n",
       "      <td>NaN</td>\n",
       "      <td>NaN</td>\n",
       "      <td>0.142791</td>\n",
       "      <td>0.248542</td>\n",
       "      <td>0.0</td>\n",
       "      <td>0.0</td>\n",
       "      <td>0.0</td>\n",
       "      <td>0.240741</td>\n",
       "      <td>1.0</td>\n",
       "    </tr>\n",
       "    <tr>\n",
       "      <th>module__has_entry_point</th>\n",
       "      <td>18226</td>\n",
       "      <td>2</td>\n",
       "      <td>False</td>\n",
       "      <td>15831</td>\n",
       "      <td>NaN</td>\n",
       "      <td>NaN</td>\n",
       "      <td>NaN</td>\n",
       "      <td>NaN</td>\n",
       "      <td>NaN</td>\n",
       "      <td>NaN</td>\n",
       "      <td>NaN</td>\n",
       "    </tr>\n",
       "  </tbody>\n",
       "</table>\n",
       "</div>"
      ]
     },
     "execution_count": 7,
     "metadata": {},
     "output_type": "execute_result"
    }
   ],
   "execution_count": 7
  },
  {
   "metadata": {},
   "cell_type": "markdown",
   "source": "Vamos a discretizar las variables numericas, agrupando conjuntos de valores en categorias, para hacer un análisis de los datos. Para cada variable es necesaario ver la distribucion de lo valores para hacer los bins (categorias).",
   "id": "9af3eb59b924a596"
  },
  {
   "metadata": {
    "ExecuteTime": {
     "end_time": "2024-05-09T18:12:03.382576Z",
     "start_time": "2024-05-09T18:12:00.296828Z"
    }
   },
   "cell_type": "code",
   "source": [
    "# DISCRETIZATION\n",
    "X_copy = X.copy()\n",
    "\n",
    "discretized_columns = {\n",
    "    \"module__class_defs_pct\": [(0.0, 0.0),(0.0, 1.0), (1.0, 1.0)],  # min: 0.0 max: 1.0\n",
    "    \"module__function_defs_pct\": [(0.0, 0.0),(0.0, 1.0), (1.0, 1.0)],  # min: 0.0 max: 1.0\n",
    "    \"module__enum_defs_pct\": [(0.0, 0.0), (0.0, inf)],  # min: 0.0 max: 0.19\n",
    "    \"module__number_of_classes\": [(1, 1), (2,2), (3,3), (4,inf)],  # min: 1 max: 3294\n",
    "    \"module__number_of_functions\": [(0, 0), (0, inf)], # min: 0 max: 238\n",
    "    \"module__type_annotations_pct\": [(0, 0), (0, 1.0)], # min: 0 max: 1297\n",
    "    \"module__average_stmts_function_body\": [(0, 0), (0, 1), (1, 3), (3, inf)],\n",
    "    \"module__average_stmts_method_body\": [(0, 0), (0, 1), (1, 3), (3, inf)],\n",
    "    \"module__global_expressions\": [(0,0), (0, inf)], # min: 0 max: 26\n",
    "    \"module__global_stmts_pct\": [(0, 0), (0, inf)]\n",
    "}\n",
    "\n",
    "discretize_columns(X_copy, discretized_columns)\n",
    "    \n",
    "# SINGLE FEATURE\n",
    "print(\"--- SINGLE FEATURE ---\")\n",
    "print(get_statistics(X_copy, ['module__class_defs_pct'], 10))\n",
    "print(get_statistics(X_copy, ['module__function_defs_pct'], 10))\n",
    "print(get_statistics(X_copy, ['module__enum_defs_pct'], 10))\n",
    "print(get_statistics(X_copy, ['module__number_of_classes'], 10))\n",
    "print(get_statistics(X_copy, ['module__number_of_functions'], 10))\n",
    "print(get_statistics(X_copy, ['module__type_annotations_pct'], 10))\n",
    "print(get_statistics(X_copy, ['module__average_stmts_function_body'], 10))\n",
    "print(get_statistics(X_copy, ['module__average_stmts_method_body'], 10))\n",
    "print(get_statistics(X_copy, ['module__global_expressions'], 10))\n",
    "print(get_statistics(X_copy, ['module__global_stmts_pct'], 10))\n",
    "\n",
    "# 2 FEATURES\n",
    "print(\"--- TWO FEATURES ---\")\n",
    "print(get_statistics(X_copy, ['module__function_defs_pct', 'module__number_of_classes'], 10))\n",
    "print(get_statistics(X_copy, ['module__name_convention_SnakeCase', 'module__expertise_level_EXPERT'], 10))\n",
    "print(get_statistics(X_copy, ['module__name_convention_CamelUp', 'module__expertise_level_BEGINNER'], 10))\n",
    "\n",
    "# 3 FEATURES\n",
    "print(\"--- THREE FEATURES ---\")\n",
    "#print(get_statistics(X_copy, ['program__has_sub_dirs_with_code', 'program__has_packages', 'program__has_code_root_package'], 10))"
   ],
   "id": "6baf20dd3e3ca759",
   "outputs": [
    {
     "name": "stdout",
     "output_type": "stream",
     "text": [
      "--- SINGLE FEATURE ---\n",
      "module__class_defs_pct  count  percentage\n",
      "             [0.0_0.0]  10582   58.059914\n",
      "             [1.0_1.0]   4530   24.854603\n",
      "             [0.0_1.0)   3114   17.085482\n",
      "\n",
      "module__function_defs_pct  count  percentage\n",
      "                [0.0_0.0]   8602   47.196313\n",
      "                [1.0_1.0]   6570   36.047405\n",
      "                [0.0_1.0)   3054   16.756282\n",
      "\n",
      "module__enum_defs_pct  count  percentage\n",
      "            [0.0_0.0]  18037    98.96302\n",
      "            [0.0_inf]    189     1.03698\n",
      "\n",
      "module__number_of_classes  count  percentage\n",
      "                  unknown  10582   58.059914\n",
      "                    [1_1]   4684   25.699550\n",
      "                    [2_2]   1278    7.011961\n",
      "                  [4_inf]   1192    6.540108\n",
      "                    [3_3]    490    2.688467\n",
      "\n",
      "module__number_of_functions  count  percentage\n",
      "                    [0_inf]   9624   52.803687\n",
      "                      [0_0]   8602   47.196313\n",
      "\n",
      "module__type_annotations_pct  count  percentage\n",
      "                       [0_0]  12754   69.976956\n",
      "                     [0_1.0)   5341   29.304291\n",
      "                     unknown    131    0.718753\n",
      "\n",
      "module__average_stmts_function_body  count  percentage\n",
      "                              [0_0]   8602   47.196313\n",
      "                            [3_inf]   7220   39.613739\n",
      "                              [1_3)   2404   13.189948\n",
      "\n",
      "module__average_stmts_method_body  count  percentage\n",
      "                            [0_0]  10897   59.788215\n",
      "                          [3_inf]   4612   25.304510\n",
      "                            [1_3)   2717   14.907275\n",
      "\n",
      "module__global_expressions  count  percentage\n",
      "                     [0_0]  10304   56.534621\n",
      "                   [0_inf]   7922   43.465379\n",
      "\n",
      "module__global_stmts_pct  count  percentage\n",
      "                 [0_inf]  12326   67.628662\n",
      "                   [0_0]   5900   32.371338\n",
      "\n",
      "--- TWO FEATURES ---\n",
      "module__function_defs_pct module__number_of_classes  count  percentage\n",
      "                [1.0_1.0]                   unknown   6570   36.047405\n",
      "                [0.0_0.0]                   unknown   3992   21.902776\n",
      "                [0.0_0.0]                     [1_1]   3323   18.232196\n",
      "                [0.0_1.0)                     [1_1]   1361    7.467354\n",
      "                [0.0_1.0)                   [4_inf]    776    4.257654\n",
      "                [0.0_0.0]                     [2_2]    655    3.593767\n",
      "                [0.0_1.0)                     [2_2]    623    3.418194\n",
      "                [0.0_0.0]                   [4_inf]    416    2.282454\n",
      "                [0.0_1.0)                     [3_3]    274    1.503347\n",
      "                [0.0_0.0]                     [3_3]    216    1.185120\n",
      "\n"
     ]
    },
    {
     "ename": "KeyError",
     "evalue": "'module__name_convention_SnakeCase'",
     "output_type": "error",
     "traceback": [
      "\u001B[1;31m---------------------------------------------------------------------------\u001B[0m",
      "\u001B[1;31mKeyError\u001B[0m                                  Traceback (most recent call last)",
      "Cell \u001B[1;32mIn[8], line 35\u001B[0m\n\u001B[0;32m     33\u001B[0m \u001B[38;5;28mprint\u001B[39m(\u001B[38;5;124m\"\u001B[39m\u001B[38;5;124m--- TWO FEATURES ---\u001B[39m\u001B[38;5;124m\"\u001B[39m)\n\u001B[0;32m     34\u001B[0m \u001B[38;5;28mprint\u001B[39m(get_statistics(X_copy, [\u001B[38;5;124m'\u001B[39m\u001B[38;5;124mmodule__function_defs_pct\u001B[39m\u001B[38;5;124m'\u001B[39m, \u001B[38;5;124m'\u001B[39m\u001B[38;5;124mmodule__number_of_classes\u001B[39m\u001B[38;5;124m'\u001B[39m], \u001B[38;5;241m10\u001B[39m))\n\u001B[1;32m---> 35\u001B[0m \u001B[38;5;28mprint\u001B[39m(\u001B[43mget_statistics\u001B[49m\u001B[43m(\u001B[49m\u001B[43mX_copy\u001B[49m\u001B[43m,\u001B[49m\u001B[43m \u001B[49m\u001B[43m[\u001B[49m\u001B[38;5;124;43m'\u001B[39;49m\u001B[38;5;124;43mmodule__name_convention_SnakeCase\u001B[39;49m\u001B[38;5;124;43m'\u001B[39;49m\u001B[43m,\u001B[49m\u001B[43m \u001B[49m\u001B[38;5;124;43m'\u001B[39;49m\u001B[38;5;124;43mmodule__expertise_level_EXPERT\u001B[39;49m\u001B[38;5;124;43m'\u001B[39;49m\u001B[43m]\u001B[49m\u001B[43m,\u001B[49m\u001B[43m \u001B[49m\u001B[38;5;241;43m10\u001B[39;49m\u001B[43m)\u001B[49m)\n\u001B[0;32m     36\u001B[0m \u001B[38;5;28mprint\u001B[39m(get_statistics(X_copy, [\u001B[38;5;124m'\u001B[39m\u001B[38;5;124mmodule__name_convention_CamelUp\u001B[39m\u001B[38;5;124m'\u001B[39m, \u001B[38;5;124m'\u001B[39m\u001B[38;5;124mmodule__expertise_level_BEGINNER\u001B[39m\u001B[38;5;124m'\u001B[39m], \u001B[38;5;241m10\u001B[39m))\n\u001B[0;32m     38\u001B[0m \u001B[38;5;66;03m# 3 FEATURES\u001B[39;00m\n",
      "File \u001B[1;32m~\\OneDrive - Universidad de Oviedo\\Asignaturas\\Asignaturas Cuarto Año\\TFG\\pruebas\\python_tfg\\notebooks\\notebooks_utils.py:115\u001B[0m, in \u001B[0;36mget_statistics\u001B[1;34m(df, columns, size)\u001B[0m\n\u001B[0;32m    113\u001B[0m \u001B[38;5;28;01mdef\u001B[39;00m \u001B[38;5;21mget_statistics\u001B[39m(df, columns, size):\n\u001B[0;32m    114\u001B[0m     total \u001B[38;5;241m=\u001B[39m \u001B[38;5;28mlen\u001B[39m(df\u001B[38;5;241m.\u001B[39mindex)\n\u001B[1;32m--> 115\u001B[0m     result \u001B[38;5;241m=\u001B[39m \u001B[43mdf\u001B[49m\u001B[38;5;241;43m.\u001B[39;49m\u001B[43mgroupby\u001B[49m\u001B[43m(\u001B[49m\u001B[43mcolumns\u001B[49m\u001B[43m)\u001B[49m \\\n\u001B[0;32m    116\u001B[0m         \u001B[38;5;241m.\u001B[39msize() \\\n\u001B[0;32m    117\u001B[0m         \u001B[38;5;241m.\u001B[39mreset_index(name\u001B[38;5;241m=\u001B[39m\u001B[38;5;124m'\u001B[39m\u001B[38;5;124mcount\u001B[39m\u001B[38;5;124m'\u001B[39m) \\\n\u001B[0;32m    118\u001B[0m         \u001B[38;5;241m.\u001B[39msort_values([\u001B[38;5;124m'\u001B[39m\u001B[38;5;124mcount\u001B[39m\u001B[38;5;124m'\u001B[39m], ascending\u001B[38;5;241m=\u001B[39m\u001B[38;5;28;01mFalse\u001B[39;00m) \\\n\u001B[0;32m    119\u001B[0m         \u001B[38;5;241m.\u001B[39mhead(size)\n\u001B[0;32m    120\u001B[0m     result[\u001B[38;5;124m'\u001B[39m\u001B[38;5;124mpercentage\u001B[39m\u001B[38;5;124m'\u001B[39m] \u001B[38;5;241m=\u001B[39m (result[\u001B[38;5;124m'\u001B[39m\u001B[38;5;124mcount\u001B[39m\u001B[38;5;124m'\u001B[39m] \u001B[38;5;241m*\u001B[39m \u001B[38;5;241m100\u001B[39m) \u001B[38;5;241m/\u001B[39m total\n\u001B[0;32m    121\u001B[0m     \u001B[38;5;28;01mreturn\u001B[39;00m result\u001B[38;5;241m.\u001B[39mto_string(index\u001B[38;5;241m=\u001B[39m\u001B[38;5;28;01mFalse\u001B[39;00m) \u001B[38;5;241m+\u001B[39m \u001B[38;5;124m'\u001B[39m\u001B[38;5;130;01m\\n\u001B[39;00m\u001B[38;5;124m'\u001B[39m\n",
      "File \u001B[1;32mD:\\Programacion\\Python12\\Lib\\site-packages\\pandas\\core\\frame.py:9183\u001B[0m, in \u001B[0;36mDataFrame.groupby\u001B[1;34m(self, by, axis, level, as_index, sort, group_keys, observed, dropna)\u001B[0m\n\u001B[0;32m   9180\u001B[0m \u001B[38;5;28;01mif\u001B[39;00m level \u001B[38;5;129;01mis\u001B[39;00m \u001B[38;5;28;01mNone\u001B[39;00m \u001B[38;5;129;01mand\u001B[39;00m by \u001B[38;5;129;01mis\u001B[39;00m \u001B[38;5;28;01mNone\u001B[39;00m:\n\u001B[0;32m   9181\u001B[0m     \u001B[38;5;28;01mraise\u001B[39;00m \u001B[38;5;167;01mTypeError\u001B[39;00m(\u001B[38;5;124m\"\u001B[39m\u001B[38;5;124mYou have to supply one of \u001B[39m\u001B[38;5;124m'\u001B[39m\u001B[38;5;124mby\u001B[39m\u001B[38;5;124m'\u001B[39m\u001B[38;5;124m and \u001B[39m\u001B[38;5;124m'\u001B[39m\u001B[38;5;124mlevel\u001B[39m\u001B[38;5;124m'\u001B[39m\u001B[38;5;124m\"\u001B[39m)\n\u001B[1;32m-> 9183\u001B[0m \u001B[38;5;28;01mreturn\u001B[39;00m \u001B[43mDataFrameGroupBy\u001B[49m\u001B[43m(\u001B[49m\n\u001B[0;32m   9184\u001B[0m \u001B[43m    \u001B[49m\u001B[43mobj\u001B[49m\u001B[38;5;241;43m=\u001B[39;49m\u001B[38;5;28;43mself\u001B[39;49m\u001B[43m,\u001B[49m\n\u001B[0;32m   9185\u001B[0m \u001B[43m    \u001B[49m\u001B[43mkeys\u001B[49m\u001B[38;5;241;43m=\u001B[39;49m\u001B[43mby\u001B[49m\u001B[43m,\u001B[49m\n\u001B[0;32m   9186\u001B[0m \u001B[43m    \u001B[49m\u001B[43maxis\u001B[49m\u001B[38;5;241;43m=\u001B[39;49m\u001B[43maxis\u001B[49m\u001B[43m,\u001B[49m\n\u001B[0;32m   9187\u001B[0m \u001B[43m    \u001B[49m\u001B[43mlevel\u001B[49m\u001B[38;5;241;43m=\u001B[39;49m\u001B[43mlevel\u001B[49m\u001B[43m,\u001B[49m\n\u001B[0;32m   9188\u001B[0m \u001B[43m    \u001B[49m\u001B[43mas_index\u001B[49m\u001B[38;5;241;43m=\u001B[39;49m\u001B[43mas_index\u001B[49m\u001B[43m,\u001B[49m\n\u001B[0;32m   9189\u001B[0m \u001B[43m    \u001B[49m\u001B[43msort\u001B[49m\u001B[38;5;241;43m=\u001B[39;49m\u001B[43msort\u001B[49m\u001B[43m,\u001B[49m\n\u001B[0;32m   9190\u001B[0m \u001B[43m    \u001B[49m\u001B[43mgroup_keys\u001B[49m\u001B[38;5;241;43m=\u001B[39;49m\u001B[43mgroup_keys\u001B[49m\u001B[43m,\u001B[49m\n\u001B[0;32m   9191\u001B[0m \u001B[43m    \u001B[49m\u001B[43mobserved\u001B[49m\u001B[38;5;241;43m=\u001B[39;49m\u001B[43mobserved\u001B[49m\u001B[43m,\u001B[49m\n\u001B[0;32m   9192\u001B[0m \u001B[43m    \u001B[49m\u001B[43mdropna\u001B[49m\u001B[38;5;241;43m=\u001B[39;49m\u001B[43mdropna\u001B[49m\u001B[43m,\u001B[49m\n\u001B[0;32m   9193\u001B[0m \u001B[43m\u001B[49m\u001B[43m)\u001B[49m\n",
      "File \u001B[1;32mD:\\Programacion\\Python12\\Lib\\site-packages\\pandas\\core\\groupby\\groupby.py:1329\u001B[0m, in \u001B[0;36mGroupBy.__init__\u001B[1;34m(self, obj, keys, axis, level, grouper, exclusions, selection, as_index, sort, group_keys, observed, dropna)\u001B[0m\n\u001B[0;32m   1326\u001B[0m \u001B[38;5;28mself\u001B[39m\u001B[38;5;241m.\u001B[39mdropna \u001B[38;5;241m=\u001B[39m dropna\n\u001B[0;32m   1328\u001B[0m \u001B[38;5;28;01mif\u001B[39;00m grouper \u001B[38;5;129;01mis\u001B[39;00m \u001B[38;5;28;01mNone\u001B[39;00m:\n\u001B[1;32m-> 1329\u001B[0m     grouper, exclusions, obj \u001B[38;5;241m=\u001B[39m \u001B[43mget_grouper\u001B[49m\u001B[43m(\u001B[49m\n\u001B[0;32m   1330\u001B[0m \u001B[43m        \u001B[49m\u001B[43mobj\u001B[49m\u001B[43m,\u001B[49m\n\u001B[0;32m   1331\u001B[0m \u001B[43m        \u001B[49m\u001B[43mkeys\u001B[49m\u001B[43m,\u001B[49m\n\u001B[0;32m   1332\u001B[0m \u001B[43m        \u001B[49m\u001B[43maxis\u001B[49m\u001B[38;5;241;43m=\u001B[39;49m\u001B[43maxis\u001B[49m\u001B[43m,\u001B[49m\n\u001B[0;32m   1333\u001B[0m \u001B[43m        \u001B[49m\u001B[43mlevel\u001B[49m\u001B[38;5;241;43m=\u001B[39;49m\u001B[43mlevel\u001B[49m\u001B[43m,\u001B[49m\n\u001B[0;32m   1334\u001B[0m \u001B[43m        \u001B[49m\u001B[43msort\u001B[49m\u001B[38;5;241;43m=\u001B[39;49m\u001B[43msort\u001B[49m\u001B[43m,\u001B[49m\n\u001B[0;32m   1335\u001B[0m \u001B[43m        \u001B[49m\u001B[43mobserved\u001B[49m\u001B[38;5;241;43m=\u001B[39;49m\u001B[38;5;28;43;01mFalse\u001B[39;49;00m\u001B[43m \u001B[49m\u001B[38;5;28;43;01mif\u001B[39;49;00m\u001B[43m \u001B[49m\u001B[43mobserved\u001B[49m\u001B[43m \u001B[49m\u001B[38;5;129;43;01mis\u001B[39;49;00m\u001B[43m \u001B[49m\u001B[43mlib\u001B[49m\u001B[38;5;241;43m.\u001B[39;49m\u001B[43mno_default\u001B[49m\u001B[43m \u001B[49m\u001B[38;5;28;43;01melse\u001B[39;49;00m\u001B[43m \u001B[49m\u001B[43mobserved\u001B[49m\u001B[43m,\u001B[49m\n\u001B[0;32m   1336\u001B[0m \u001B[43m        \u001B[49m\u001B[43mdropna\u001B[49m\u001B[38;5;241;43m=\u001B[39;49m\u001B[38;5;28;43mself\u001B[39;49m\u001B[38;5;241;43m.\u001B[39;49m\u001B[43mdropna\u001B[49m\u001B[43m,\u001B[49m\n\u001B[0;32m   1337\u001B[0m \u001B[43m    \u001B[49m\u001B[43m)\u001B[49m\n\u001B[0;32m   1339\u001B[0m \u001B[38;5;28;01mif\u001B[39;00m observed \u001B[38;5;129;01mis\u001B[39;00m lib\u001B[38;5;241m.\u001B[39mno_default:\n\u001B[0;32m   1340\u001B[0m     \u001B[38;5;28;01mif\u001B[39;00m \u001B[38;5;28many\u001B[39m(ping\u001B[38;5;241m.\u001B[39m_passed_categorical \u001B[38;5;28;01mfor\u001B[39;00m ping \u001B[38;5;129;01min\u001B[39;00m grouper\u001B[38;5;241m.\u001B[39mgroupings):\n",
      "File \u001B[1;32mD:\\Programacion\\Python12\\Lib\\site-packages\\pandas\\core\\groupby\\grouper.py:1043\u001B[0m, in \u001B[0;36mget_grouper\u001B[1;34m(obj, key, axis, level, sort, observed, validate, dropna)\u001B[0m\n\u001B[0;32m   1041\u001B[0m         in_axis, level, gpr \u001B[38;5;241m=\u001B[39m \u001B[38;5;28;01mFalse\u001B[39;00m, gpr, \u001B[38;5;28;01mNone\u001B[39;00m\n\u001B[0;32m   1042\u001B[0m     \u001B[38;5;28;01melse\u001B[39;00m:\n\u001B[1;32m-> 1043\u001B[0m         \u001B[38;5;28;01mraise\u001B[39;00m \u001B[38;5;167;01mKeyError\u001B[39;00m(gpr)\n\u001B[0;32m   1044\u001B[0m \u001B[38;5;28;01melif\u001B[39;00m \u001B[38;5;28misinstance\u001B[39m(gpr, Grouper) \u001B[38;5;129;01mand\u001B[39;00m gpr\u001B[38;5;241m.\u001B[39mkey \u001B[38;5;129;01mis\u001B[39;00m \u001B[38;5;129;01mnot\u001B[39;00m \u001B[38;5;28;01mNone\u001B[39;00m:\n\u001B[0;32m   1045\u001B[0m     \u001B[38;5;66;03m# Add key to exclusions\u001B[39;00m\n\u001B[0;32m   1046\u001B[0m     exclusions\u001B[38;5;241m.\u001B[39madd(gpr\u001B[38;5;241m.\u001B[39mkey)\n",
      "\u001B[1;31mKeyError\u001B[0m: 'module__name_convention_SnakeCase'"
     ]
    }
   ],
   "execution_count": 8
  },
  {
   "metadata": {},
   "cell_type": "code",
   "source": [
    "def normalize_datatypes(X:pd.DataFrame, y:pd.Series) -> (pd.DataFrame, pd.Series, [str]):\n",
    "    X = pd.get_dummies(X)\n",
    "    X = X.astype('float32')\n",
    "    y = y.apply(lambda value: 0 if value == \"BEGINNER\" else 1) # EXPERT will be 1 and BEGINNER will be 0.\n",
    "    y = y.astype('float32')\n",
    "    columns_names = X.columns.tolist()\n",
    "    return X, y, columns_names\n",
    "\n",
    "X, y, TABLE_FEATURES = normalize_datatypes(X, y)\n",
    "# Print information about the loaded table\n",
    "print(f'Features shape: {X.shape}')\n",
    "print(f'Target shape: {y.shape}')"
   ],
   "id": "5084c89dcb377a92",
   "outputs": [],
   "execution_count": null
  },
  {
   "metadata": {},
   "cell_type": "markdown",
   "source": "#### Muestra la matriz de correlación de pearson entre las variables de la tabla.",
   "id": "ed8befe21328a079"
  },
  {
   "metadata": {},
   "cell_type": "code",
   "source": "sns.heatmap(X.corr(), annot=False)",
   "id": "dea960d18d682104",
   "outputs": [],
   "execution_count": null
  },
  {
   "metadata": {},
   "cell_type": "markdown",
   "source": [
    "## 3 - Detección de valores atípicos (outliers)\n",
    "Una vez sabemos qué datos contiene la tabla, analizaremos los valores que toma cada una de las variables de cada instancia. El objetivo es identificar posibles valores atípicos que nos dificulten la realización de futuras tareas. \n",
    "Tras su análisis, se puede concluir que un valor:\n",
    "    - **Es erróneo**. En este caso hay que tomar una decisión para cada caso, siendo los tratamientos más extendidos son listwise, pairwise, drop variables, mean/median imputation, most frequent, separate category, zero imputation, cold deck, hot deck,(stochastic) regression, k-NN and multiple imputation. Los resultados de imputación regresiva, k-NN y múltiple dan buenos resultados, aunque, como se ha indicado, es necesario el estudio en cada caso.\n",
    "    - **Es correcto, pero anómalo**. Se documenta su existencia para su posible discusión y se mantiene en el dataset. En estos casos se hace necesaria la utilización de algoritmos y estadísticos que no sean muy sensibles a dichos valores anómalos.\n",
    "\n",
    "## Univariate\n",
    "Para cada uno de los atributos se debe realizar un análisis y detección de valores atípicos, estudiando su posible causa. \n",
    "Existen diversas formas de calcular los valores anómalos. \n",
    "\n",
    "### Variables numéricas\n",
    "Para las variables numéricas, se suele identificar: \n",
    "    - a) Valor atípico leve es el que está fuera de $[Q1 - 1.5IQR, Q3 + 1.5IQR]$, donde $IQR = Q3-Q1$.\n",
    "    - b) Valor atípico extremo está fuera de $[Q1 - 3IQR, Q3 + 3IQR]$.\n",
    "\n",
    "La idea es probar con a) y si hay pocas instancias analizarlas. Si hubiese muchas, mirar b) y analizar si fuesen pocas. No hay un algoritmo o método estipulado, puesto que depende del dominio del problema y de los datos.\n",
    "\n",
    "Los límites de Tukey se basan en los cuartiles de los datos y son sensibles a la presencia de sesgo en la distribución. Cuando hay asimetría en los datos, los límites de Tukey pueden no ser tan efectivos para identificar outliers de manera equitativa en ambos extremos de la distribución. El Coeficiente de Medcouple es útil para identificar la asimetría en los datos, especialmente en presencia de valores atípicos o sesgados. Es una medida robusta porque no se ve tan afectada por valores extremos como la media y la desviación estándar. El MC puede proporcionar información adicional sobre la asimetría de la distribución, lo que te permite ajustar los límites de Tukey de manera más apropiada para tu conjunto de datos específico. Una posible variacion de los límites de Tukey teniendo en cuenta MC podria ser: \n",
    "   - Si MC es mayor que 0 (asimetría hacia la derecha):\n",
    "      - low = (q1-1.5 * math.exp(-4*mc) * iqr)\n",
    "      - high = (q3+1.5 * math.exp(3.5*mc) * iqr)\n",
    "   - Si la asimetriza es hacia la izquierda:    \n",
    "      - low = (q1-1.5 * math.exp(-3.5*mc) * iqr)\n",
    "      - high = (q3+1.5 * math.exp(4*mc) * iqr)\n",
    "\n",
    "\n",
    "### Variables categóricas\n",
    "Para las variables categóricas no existe el concepto de valor anómalo, pero sí se puede considerar en base a un análisis de frecuencia. Por ejemplo, que el uso de una categoría sea residual, pudiendo tener un 0.1% de instancias en el dataset. Para detectar estos valores, se puede fijar un valor mínimo de frecuencia en función del número posible de valores de la variable categórica (2 en el caso de una variable booleana). Por ejemplo, un umbral de $\\frac{0.2\\%}{valores}$ (0.1% en el caso de una variable booleana)"
   ],
   "id": "599c97eec7b7d283"
  },
  {
   "metadata": {},
   "cell_type": "markdown",
   "source": [
    "## Analisis detallado de variables\n",
    "Para cada una de las 10 variable (3 booleanas, 4 porcentuales y 3 numericas) se hara un analisis detallado "
   ],
   "id": "132c8742057275c"
  },
  {
   "metadata": {},
   "cell_type": "markdown",
   "source": [
    "### Variable has_doc_string (1/14)\n",
    "Esta variable es de tipo booleano y representa si el fichero contiene un comentario como primer nodo. El primer paso es hacer un análisis visual de como se distribuyen los valores de la variable."
   ],
   "id": "6abba739e46da213"
  },
  {
   "metadata": {},
   "cell_type": "code",
   "source": [
    "plt.xticks([0, 1], ['False', 'True'])\n",
    "sns.histplot(X['module__has_doc_string'], discrete=True)"
   ],
   "id": "4ab35b2ef94a3379",
   "outputs": [],
   "execution_count": null
  },
  {
   "metadata": {},
   "cell_type": "markdown",
   "source": "Siempre toma el valor false. Habría que analizar si es un fallo de toma de datos o es realidad que ningún fichero tiene doc_string.",
   "id": "cd9f29c2dfc72638"
  },
  {
   "metadata": {},
   "cell_type": "code",
   "source": [
    "num_true_values = len(X[X['module__has_doc_string'] == True])\n",
    "num_false_values = len(X[X['module__has_doc_string'] == False])\n",
    "std = X['module__has_doc_string'].std()\n",
    "freq_true = len(X[X['module__has_doc_string'] == True]) / len(X['module__has_doc_string'])\n",
    "freq_false = len(X[X['module__has_doc_string'] == False]) / len(X['module__has_doc_string'])\n",
    "print(f'La variable has_doc_string contiene {num_true_values} valores verdaderos y {num_false_values} valores falsos. Y, la desviación típica es de {std}')\n",
    "print(f'La frecuencia con la que programa puede tener la variable has_doc_string a True es {freq_true}.')\n",
    "print(f'La frecuencia con la que programa puede tener la variable has_doc_string a False es {freq_false}.')"
   ],
   "id": "f4a042829ae6fac5",
   "outputs": [],
   "execution_count": null
  },
  {
   "metadata": {},
   "cell_type": "code",
   "source": [
    "possible_values = [True, False]\n",
    "print_frequency_anal_for_cat_var(X, 'module__has_doc_string', possible_values)"
   ],
   "id": "c614dd60d0ab8e5b",
   "outputs": [],
   "execution_count": null
  },
  {
   "metadata": {},
   "cell_type": "code",
   "source": "X[X['module__has_doc_string'] == True].describe(percentiles=[.25, .50, .75], include = ['object', 'float', 'bool', 'int'])\n",
   "id": "6c33bdd1420008cf",
   "outputs": [],
   "execution_count": null
  },
  {
   "metadata": {},
   "cell_type": "markdown",
   "source": [
    "### Variable has_entry_point (2/14)\n",
    "Esta variable es de tipo booleano y representa si el fichero contiene el idiom \"if __name__ == '__main__'\". El primer paso es hacer un análisis visual de como se distribuyen los valores de la variable."
   ],
   "id": "1fa4491178ba606c"
  },
  {
   "metadata": {},
   "cell_type": "code",
   "source": [
    "plt.xticks([0, 1], ['False', 'True'])\n",
    "sns.histplot(X['module__has_entry_point'], discrete=True)"
   ],
   "id": "529b7fd2ad00b058",
   "outputs": [],
   "execution_count": null
  },
  {
   "metadata": {},
   "cell_type": "code",
   "source": [
    "#ANALISIS DE DISTRIBUCIÓN DE DATOS\n",
    "num_true_values = len(X[X['module__has_entry_point'] == True])\n",
    "num_false_values = len(X[X['module__has_entry_point'] == False])\n",
    "std = X['module__has_entry_point'].std()\n",
    "freq_true = len(X[X['module__has_entry_point'] == True]) / len(X['module__has_entry_point'])\n",
    "freq_false = len(X[X['module__has_entry_point'] == False]) / len(X['module__has_entry_point'])\n",
    "print(f'La variable has_entry_point contiene {num_true_values} valores verdaderos y {num_false_values} valores falsos. Y, la desviación típica es de {std}')\n",
    "print(f'La frecuencia con la que programa puede tener la variable has_entry_point a True es {freq_true}.')\n",
    "print(f'La frecuencia con la que programa puede tener la variable has_entry_point a False es {freq_false}.')"
   ],
   "id": "d1bed1e471481adc",
   "outputs": [],
   "execution_count": null
  },
  {
   "metadata": {},
   "cell_type": "code",
   "source": [
    "#PROBABILIDAD DE VALORES\n",
    "possible_values = [True, False]\n",
    "print_frequency_anal_for_cat_var(X, 'module__has_entry_point', possible_values)"
   ],
   "id": "c54b472864a47e88",
   "outputs": [],
   "execution_count": null
  },
  {
   "metadata": {},
   "cell_type": "code",
   "source": [
    "#VALORES DE LOS DATOS CONDICIONADOS A TRUE/FALSE\n",
    "X[X['module__has_entry_point'] == True].describe(percentiles=[.25, .50, .75], include = ['object', 'float', 'bool', 'int'])"
   ],
   "id": "4bd840561db5f69f",
   "outputs": [],
   "execution_count": null
  },
  {
   "metadata": {},
   "cell_type": "markdown",
   "source": [
    "### Variable number_of_classes (3/14)\n",
    "Esta variable es de tipo numérica y nos indica el número de clases definidos en el fichero. Como vimos en la descripción de la tabla esta varibale adopta valores en el rango 0 - 113. Con una media de 1,047899."
   ],
   "id": "55e11303a6b9f7d6"
  },
  {
   "metadata": {},
   "cell_type": "code",
   "source": "sns.stripplot(X['module__number_of_classes'])",
   "id": "78eb27ded80165af",
   "outputs": [],
   "execution_count": null
  },
  {
   "metadata": {},
   "cell_type": "code",
   "source": "print_outliers_for_df_column(X, 'module__number_of_classes')",
   "id": "f9ad19cbc195d14b",
   "outputs": [],
   "execution_count": null
  },
  {
   "metadata": {},
   "cell_type": "code",
   "source": "X[X['module__number_of_classes'] > 76.8].describe(percentiles=[.25, .50, .75], include = ['object', 'float', 'bool', 'int'])",
   "id": "9d7c520e32635ea7",
   "outputs": [],
   "execution_count": null
  },
  {
   "metadata": {},
   "cell_type": "markdown",
   "source": "Hay que revisar los tres casos con un número de clases mayor que 80. Son tres clases de expertos con miles de lineas. ",
   "id": "f248f430c436591b"
  },
  {
   "metadata": {},
   "cell_type": "markdown",
   "source": [
    "### Variable number_of_functions (4/14)\n",
    "Esta variable representa el número de funciones en el fichero. Como vimos en la descripción de la tabla esta varibale adopta valores en el rango 0 - 258. Con una media de 2.523044."
   ],
   "id": "119fc307a9194a96"
  },
  {
   "metadata": {},
   "cell_type": "code",
   "source": "sns.stripplot(X['module__number_of_functions'])",
   "id": "5efd7fbb4f34563d",
   "outputs": [],
   "execution_count": null
  },
  {
   "metadata": {},
   "cell_type": "code",
   "source": "print_outliers_for_df_column(X, 'module__number_of_functions')",
   "id": "e5649a2923239004",
   "outputs": [],
   "execution_count": null
  },
  {
   "metadata": {},
   "cell_type": "code",
   "source": "X[X['module__number_of_functions'] > 185.9].describe(percentiles=[.25, .50, .75], include = ['object', 'float', 'bool', 'int'])",
   "id": "5c5e0e6eb4cd173",
   "outputs": [],
   "execution_count": null
  },
  {
   "metadata": {},
   "cell_type": "markdown",
   "source": "Este fichero es un modelo de expertos.",
   "id": "6a7661d9d5d1fd19"
  },
  {
   "metadata": {},
   "cell_type": "markdown",
   "source": [
    "### Variable average_stmts_function_body (5/14)\n",
    "Esta variable representa el número medio de sentencias en el cuerpo de las funciones del fichero. Como vimos en la descripción de la tabla esta varibale adopta valores en el rango 0 - 53. Con una media de 2.732112.\n",
    "\n",
    "Usando sentido común se va a condicionar este estudio a los ficheros con al menos una función.\n",
    "\n",
    "Habría que analizar porque la media es tan solo de 2.73"
   ],
   "id": "a92021ee6047bd1d"
  },
  {
   "metadata": {},
   "cell_type": "code",
   "source": "sns.stripplot(X['module__average_stmts_function_body'])",
   "id": "1b8338fdb1c032b5",
   "outputs": [],
   "execution_count": null
  },
  {
   "metadata": {},
   "cell_type": "code",
   "source": "print_outliers_for_df_column(X, 'module__average_stmts_function_body')",
   "id": "3444c461d823515d",
   "outputs": [],
   "execution_count": null
  },
  {
   "metadata": {},
   "cell_type": "code",
   "source": "X[X['module__average_stmts_function_body'] > 17.6].describe(percentiles=[.25, .50, .75], include = ['object', 'float', 'bool', 'int'])",
   "id": "44b1c024f9d465e9",
   "outputs": [],
   "execution_count": null
  },
  {
   "metadata": {},
   "cell_type": "code",
   "source": "X[X['module__average_stmts_function_body'] == 0.0].describe(percentiles=[.25, .50, .75], include = ['object', 'float', 'bool', 'int'])",
   "id": "a26f499bbfa438dc",
   "outputs": [],
   "execution_count": null
  },
  {
   "metadata": {},
   "cell_type": "markdown",
   "source": "8602 ficheros con una media de 0 sentencias por funcion es muy raro. Vamos a realizar esta medición condicionado a tener al menos una función.",
   "id": "ce932ee182cd1be4"
  },
  {
   "metadata": {},
   "cell_type": "code",
   "source": "X[X['module__number_of_functions'] > 0].describe(percentiles=[.25, .50, .75], include = ['object', 'float', 'bool', 'int'])",
   "id": "3226855d1ecfd7a1",
   "outputs": [],
   "execution_count": null
  },
  {
   "metadata": {},
   "cell_type": "markdown",
   "source": "Vamos a describir esta variable condicionada a tener al menos una función para ver la media real.",
   "id": "cb34e6b397031060"
  },
  {
   "metadata": {},
   "cell_type": "code",
   "source": "X[X['module__number_of_functions'] > 0]['module__average_stmts_function_body'].describe(percentiles=[.25, .50, .75], include = ['object', 'float', 'bool', 'int'])",
   "id": "160cf9e88b98cbd7",
   "outputs": [],
   "execution_count": null
  },
  {
   "metadata": {},
   "cell_type": "markdown",
   "source": [
    "### Variable average_stmts_method_body (6/14)\n",
    "Esta variable representa el número medio de sentencias en el cuerpo de los métodos del fichero. Como vimos en la descripción de la tabla esta varibale adopta valores en el rango 0 - 114. Con una media de 1.66441.\n",
    "\n",
    "Usando sentido común se va a condicionar este estudio a los ficheros con al menos una función."
   ],
   "id": "9e889648c0e5a078"
  },
  {
   "metadata": {},
   "cell_type": "code",
   "source": "sns.stripplot(X['module__average_stmts_method_body'])",
   "id": "536be140a0b685eb",
   "outputs": [],
   "execution_count": null
  },
  {
   "metadata": {},
   "cell_type": "code",
   "source": "print_outliers_for_df_column(X, 'module__average_stmts_method_body')",
   "id": "d76842919b0b6dbe",
   "outputs": [],
   "execution_count": null
  },
  {
   "metadata": {},
   "cell_type": "code",
   "source": "X[X['module__average_stmts_method_body'] > 37.3].describe(percentiles=[.25, .50, .75], include = ['object', 'float', 'bool', 'int'])",
   "id": "e07c9b0d8cfd4af0",
   "outputs": [],
   "execution_count": null
  },
  {
   "metadata": {},
   "cell_type": "markdown",
   "source": "Los tres ficheros son de expertos así que nada raro.",
   "id": "43f278c707bbaa32"
  },
  {
   "metadata": {},
   "cell_type": "code",
   "source": "X[X['module__average_stmts_method_body'] == 0.0].describe(percentiles=[.25, .50, .75], include = ['object', 'float', 'bool', 'int'])",
   "id": "cfefd7da7b6b7096",
   "outputs": [],
   "execution_count": null
  },
  {
   "metadata": {},
   "cell_type": "markdown",
   "source": "Vamos a describir la variable condicionada a tener al menos una clase",
   "id": "bcc34941a07ad275"
  },
  {
   "metadata": {},
   "cell_type": "code",
   "source": "X[X['module__number_of_classes'] > 0].describe(percentiles=[.25, .50, .75], include = ['object', 'float', 'bool', 'int'])",
   "id": "cdccb831d331fb8f",
   "outputs": [],
   "execution_count": null
  },
  {
   "metadata": {},
   "cell_type": "markdown",
   "source": [
    "### Variable name_convention (7/14)\n",
    "Esta variable es de tipo categórica y representa la name_convention del nombre del fichero."
   ],
   "id": "3237adcf6d852d54"
  },
  {
   "metadata": {},
   "cell_type": "code",
   "source": "sns.catplot(full_table['module__name_convention'], kind=\"count\")",
   "id": "299706e14d9a3f2",
   "outputs": [],
   "execution_count": null
  },
  {
   "metadata": {},
   "cell_type": "code",
   "source": "print_frequency_anal_for_cat_var(full_table, 'module__name_convention')",
   "id": "f4253192e2301909",
   "outputs": [],
   "execution_count": null
  },
  {
   "metadata": {},
   "cell_type": "markdown",
   "source": [
    "### Variable global_stmts_pct (8/14)\n",
    "Esta variable representa la proporción de los nodos en el global scope que son sentencias. Toma los valores de 0.0 - 1.0. La media es 0.227542."
   ],
   "id": "ab0e91c1d1974f0a"
  },
  {
   "metadata": {},
   "cell_type": "code",
   "source": "sns.displot(X['module__global_stmts_pct'], bins=[i / 100 for i in range(0, 101)])",
   "id": "ae3f7b82f7e2e5a9",
   "outputs": [],
   "execution_count": null
  },
  {
   "metadata": {},
   "cell_type": "markdown",
   "source": "Hay muchos ficheros con 0. Hay que comprobar a que se puede deber. Seguramente por ser únicamente la definición de una clase.",
   "id": "3d3e78b9145cb4bd"
  },
  {
   "metadata": {},
   "cell_type": "code",
   "source": "print_outliers_for_df_column(X, 'module__global_stmts_pct')",
   "id": "128a40279fa3c260",
   "outputs": [],
   "execution_count": null
  },
  {
   "metadata": {},
   "cell_type": "code",
   "source": "X[X['module__global_stmts_pct'] == 0.0].describe(percentiles=[.25, .50, .75], include = ['object', 'float', 'bool', 'int'])",
   "id": "220b9358ad3ffcac",
   "outputs": [],
   "execution_count": null
  },
  {
   "metadata": {},
   "cell_type": "markdown",
   "source": "Comprobar un fichero que tenga 0 de todo",
   "id": "9356721794b8f185"
  },
  {
   "metadata": {},
   "cell_type": "markdown",
   "source": [
    "### Variable global_expressions (9/14)\n",
    "Esta variable representa la proporción de los nodos en el global scope son expresiones. Este campo toma valores del 0.0 - 1.0. Su media es 0.094516. La media es MUY baja, habría que revisarlo."
   ],
   "id": "44ce042d4954490d"
  },
  {
   "metadata": {},
   "cell_type": "code",
   "source": "sns.displot(X['module__global_expressions'], bins=[i / 100 for i in range(0, 101)])",
   "id": "fa0bbc143d5518cf",
   "outputs": [],
   "execution_count": null
  },
  {
   "metadata": {},
   "cell_type": "markdown",
   "source": "La mayoría es 0, relativamente lógico debido al uso de encapsulación.",
   "id": "43477e33e42fc3cf"
  },
  {
   "metadata": {},
   "cell_type": "code",
   "source": "print_outliers_for_df_column(X, 'module__global_expressions')",
   "id": "2af888e24190e6ae",
   "outputs": [],
   "execution_count": null
  },
  {
   "metadata": {},
   "cell_type": "code",
   "source": "X[X['module__global_expressions'] > 0.0].describe(percentiles=[.25, .50, .75], include = ['object', 'float', 'bool', 'int'])",
   "id": "9d4996b6c87ba9d9",
   "outputs": [],
   "execution_count": null
  },
  {
   "metadata": {},
   "cell_type": "code",
   "source": "X[X['module__global_expressions'] == 0.0].describe(percentiles=[.25, .50, .75], include = ['object', 'float', 'bool', 'int'])",
   "id": "573e8d69c5c1ffb0",
   "outputs": [],
   "execution_count": null
  },
  {
   "metadata": {},
   "cell_type": "markdown",
   "source": [
    "### Variable class_defs_pct (10/14)\n",
    "Esta variable representa la proporción de definiciones que son definiciones de clases. Esta variable toma valores de 0.0 - 1.0. Su media es 0.31924. "
   ],
   "id": "75bd2275c90702f2"
  },
  {
   "metadata": {},
   "cell_type": "code",
   "source": "sns.displot(X['module__class_defs_pct'], bins=[i / 100 for i in range(0, 101)])",
   "id": "c549e5fab2340344",
   "outputs": [],
   "execution_count": null
  },
  {
   "metadata": {},
   "cell_type": "code",
   "source": "print_outliers_for_df_column(X, 'module__class_defs_pct')",
   "id": "e5c20979dd80188a",
   "outputs": [],
   "execution_count": null
  },
  {
   "metadata": {},
   "cell_type": "code",
   "source": "X[X['module__class_defs_pct'] > 0.0].describe(percentiles=[.25, .50, .75], include = ['object', 'float', 'bool', 'int'])",
   "id": "d341748640f0d0f",
   "outputs": [],
   "execution_count": null
  },
  {
   "metadata": {},
   "cell_type": "markdown",
   "source": [
    "### Variable function_defs_pct (11/14)\n",
    "Esta variable representa la proporción de deficiones que son definiciones de funciones. Esta variable toma valores de 0.0 - 1.0. Su media es 0.458978"
   ],
   "id": "e1812f30451e79fe"
  },
  {
   "metadata": {},
   "cell_type": "code",
   "source": "sns.displot(X['module__function_defs_pct'], bins=[i / 100 for i in range(0, 101)])",
   "id": "f33d936a0f350bd7",
   "outputs": [],
   "execution_count": null
  },
  {
   "metadata": {},
   "cell_type": "code",
   "source": "print_outliers_for_df_column(X, 'module__function_defs_pct')",
   "id": "82b55b2117c14ee8",
   "outputs": [],
   "execution_count": null
  },
  {
   "metadata": {},
   "cell_type": "code",
   "source": "X[X['module__function_defs_pct'] > 0.0].describe(percentiles=[.25, .50, .75], include = ['object', 'float', 'bool', 'int'])",
   "id": "cbbe2d55d54aa441",
   "outputs": [],
   "execution_count": null
  },
  {
   "metadata": {},
   "cell_type": "code",
   "source": "X[X['module__function_defs_pct'] < 1.0].describe(percentiles=[.25, .50, .75], include = ['object', 'float', 'bool', 'int'])",
   "id": "e64c57a638d4b8a7",
   "outputs": [],
   "execution_count": null
  },
  {
   "metadata": {},
   "cell_type": "markdown",
   "source": [
    "### Variable enum_defs_pct (12/14)\n",
    "Esta variable representa la proporción de las definiciones que son clases con la notación enum. Esta variable toma valores de 0.0 - 1.0. Su media es 0.003743."
   ],
   "id": "cd6bb41f051bc2ad"
  },
  {
   "metadata": {},
   "cell_type": "code",
   "source": "sns.displot(X['module__enum_defs_pct'], bins=[i / 100 for i in range(0, 101)])",
   "id": "35e21212cf8a04f0",
   "outputs": [],
   "execution_count": null
  },
  {
   "metadata": {},
   "cell_type": "code",
   "source": "print_outliers_for_df_column(X, 'module__enum_defs_pct')",
   "id": "1a4f26a5df0b4e16",
   "outputs": [],
   "execution_count": null
  },
  {
   "metadata": {},
   "cell_type": "code",
   "source": "X[X['module__enum_defs_pct'] > 0.0].describe(percentiles=[.25, .50, .75], include = ['object', 'float', 'bool', 'int'])",
   "id": "f48e9080628a79d4",
   "outputs": [],
   "execution_count": null
  },
  {
   "metadata": {},
   "cell_type": "markdown",
   "source": "Solo se han usado enum en 189 de las cerca de 19mil ficheros. En los ficheros donde se usan enum, su media es de 0.36.",
   "id": "770474fc5b2e48c3"
  },
  {
   "metadata": {},
   "cell_type": "markdown",
   "source": [
    "### Variable type_annotations_pct (13/14)\n",
    "Esta variable representa la proporción de los parámetros y returns de funciones y métodos que tienen una anotación de tipo. Toma valores entre 0.0 - 1.0. Su media es 0.142791. Esto nos dice que los tipos son poco usados en Python, como era de esperar."
   ],
   "id": "2fbcb74ec7a4d9ec"
  },
  {
   "metadata": {},
   "cell_type": "code",
   "source": "sns.displot(X['module__type_annotations_pct'], bins=[i / 100 for i in range(0, 101)])",
   "id": "85e238d4a876cbd8",
   "outputs": [],
   "execution_count": null
  },
  {
   "metadata": {},
   "cell_type": "code",
   "source": "print_outliers_for_df_column(X, 'module__type_annotations_pct')",
   "id": "78208e09ebe94012",
   "outputs": [],
   "execution_count": null
  },
  {
   "metadata": {},
   "cell_type": "code",
   "source": "X[X['module__type_annotations_pct'] > 0.0].describe(percentiles=[.25, .50, .75], include = ['object', 'float', 'bool', 'int'])",
   "id": "445f23dcf94c6abf",
   "outputs": [],
   "execution_count": null
  }
 ],
 "metadata": {
  "kernelspec": {
   "display_name": "Python 3",
   "language": "python",
   "name": "python3"
  },
  "language_info": {
   "codemirror_mode": {
    "name": "ipython",
    "version": 2
   },
   "file_extension": ".py",
   "mimetype": "text/x-python",
   "name": "python",
   "nbconvert_exporter": "python",
   "pygments_lexer": "ipython2",
   "version": "2.7.6"
  }
 },
 "nbformat": 4,
 "nbformat_minor": 5
}
