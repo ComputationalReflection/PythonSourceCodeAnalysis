{
 "cells": [
  {
   "metadata": {},
   "cell_type": "markdown",
   "source": [
    "# Vectors BEGINNER\n",
    "\n",
    "Esta tabla contiene la información de las expresiones del tipo vector (Listas, diccionarios, etc)."
   ],
   "id": "148ae8871134f924"
  },
  {
   "metadata": {},
   "cell_type": "markdown",
   "source": "## 1 - Obtencion de datos",
   "id": "d3c24a719032807f"
  },
  {
   "metadata": {
    "ExecuteTime": {
     "end_time": "2024-07-04T17:40:59.417898Z",
     "start_time": "2024-07-04T17:40:57.807238Z"
    }
   },
   "cell_type": "code",
   "source": [
    "import matplotlib.pyplot as plt\n",
    "from notebooks_utils import *\n",
    "from domains import *\n",
    "\n",
    "TARGET_FEATURE = 'vector__expertise_level'\n",
    "TARGET_CLASS = 'BEGINNER'\n",
    "full_table = get_data('vectors')\n",
    "\n",
    "instances_for_class_low = len(full_table[full_table[TARGET_FEATURE] == \"BEGINNER\"])\n",
    "instances_for_class_high = len(full_table[full_table[TARGET_FEATURE] == \"EXPERT\"])\n",
    "\n",
    "print(f\"The dataset contains {instances_for_class_low} ({instances_for_class_low/len(full_table)*100:.4}%) instances for BEGINNER class and {instances_for_class_high} ({instances_for_class_high/len(full_table)*100:.4}%) for EXPERT class.\")"
   ],
   "id": "9f0a949e91eb384b",
   "outputs": [
    {
     "name": "stdout",
     "output_type": "stream",
     "text": [
      "2024-07-04 19:40:59.317936 Data cache files found ...\n",
      "2024-07-04 19:40:59.371446 Data cache files successfully loaded!!\n",
      "The dataset contains 121764 (34.63%) instances for BEGINNER class and 229900 (65.37%) for EXPERT class.\n"
     ]
    }
   ],
   "execution_count": 1
  },
  {
   "metadata": {
    "ExecuteTime": {
     "end_time": "2024-07-04T17:40:59.452916Z",
     "start_time": "2024-07-04T17:40:59.418905Z"
    }
   },
   "cell_type": "code",
   "source": [
    "full_table = full_table[full_table[TARGET_FEATURE] == TARGET_CLASS]\n",
    "\n",
    "# Table name, features and target.\n",
    "TABLE_NAME = 'vectors'\n",
    "TABLE_FEATURES = ['vector__category', 'vector__number_of_elements', 'vector__homogeneous']\n",
    "\n",
    "# Load features and target.\n",
    "X = full_table[TABLE_FEATURES]\n",
    "\n",
    "# Print information about the loaded table.\n",
    "print(f'Features shape: {X.shape}')\n",
    "\n",
    "print(f'As we can see the downloaded data contains a total of {X.shape[0]} instances. For each instance we have {X.shape[1]} attributes.')"
   ],
   "id": "d9ab4d3380f3017a",
   "outputs": [
    {
     "name": "stdout",
     "output_type": "stream",
     "text": [
      "Features shape: (121764, 3)\n",
      "As we can see the downloaded data contains a total of 121764 instances. For each instance we have 3 attributes.\n"
     ]
    }
   ],
   "execution_count": 2
  },
  {
   "metadata": {},
   "cell_type": "markdown",
   "source": [
    "## 2 - Exploracion de datos\n",
    "\n",
    "Una vez tenemos nuestra tabla en un dataframe el siguiente paso es explorarla para ver qué tipo de información contiene."
   ],
   "id": "bcda7cb784bf0a1"
  },
  {
   "metadata": {
    "ExecuteTime": {
     "end_time": "2024-07-04T17:40:59.465906Z",
     "start_time": "2024-07-04T17:40:59.453922Z"
    }
   },
   "cell_type": "code",
   "source": "print(X.info())",
   "id": "2eb3d09993235bcb",
   "outputs": [
    {
     "name": "stdout",
     "output_type": "stream",
     "text": [
      "<class 'pandas.core.frame.DataFrame'>\n",
      "Index: 121764 entries, 0 to 121763\n",
      "Data columns (total 3 columns):\n",
      " #   Column                      Non-Null Count   Dtype \n",
      "---  ------                      --------------   ----- \n",
      " 0   vector__category            121764 non-null  object\n",
      " 1   vector__number_of_elements  121764 non-null  int64 \n",
      " 2   vector__homogeneous         121764 non-null  bool  \n",
      "dtypes: bool(1), int64(1), object(1)\n",
      "memory usage: 2.9+ MB\n",
      "None\n"
     ]
    }
   ],
   "execution_count": 3
  },
  {
   "metadata": {},
   "cell_type": "markdown",
   "source": "Cómo podemos ver la tabla está compuesta por 1 variable numérica, 1 variables boleanas y 2 de tipo objeto.",
   "id": "24f7607501c2e574"
  },
  {
   "metadata": {},
   "cell_type": "markdown",
   "source": [
    "### 2.1 - Valores Nulos \n",
    "Miramos si alguna de las variables que contiene la tabla contiene algún valor que sea nulo."
   ],
   "id": "63d4e4ed1d8d2c6c"
  },
  {
   "metadata": {
    "ExecuteTime": {
     "end_time": "2024-07-04T17:40:59.478010Z",
     "start_time": "2024-07-04T17:40:59.466912Z"
    }
   },
   "cell_type": "code",
   "source": "X.isnull().sum()",
   "id": "6c991380e6e0413e",
   "outputs": [
    {
     "data": {
      "text/plain": [
       "vector__category              0\n",
       "vector__number_of_elements    0\n",
       "vector__homogeneous           0\n",
       "dtype: int64"
      ]
     },
     "execution_count": 4,
     "metadata": {},
     "output_type": "execute_result"
    }
   ],
   "execution_count": 4
  },
  {
   "metadata": {
    "ExecuteTime": {
     "end_time": "2024-07-04T17:40:59.489950Z",
     "start_time": "2024-07-04T17:40:59.479015Z"
    }
   },
   "cell_type": "code",
   "source": "print_empty_cols(X)",
   "id": "18b2dfadf1719a4b",
   "outputs": [
    {
     "name": "stdout",
     "output_type": "stream",
     "text": [
      "vector__category\n",
      "----------------\n",
      "0 instancias no tienen un valor para la columna vector__category\n",
      "\n",
      "\n",
      "vector__number_of_elements\n",
      "--------------------------\n",
      "0 instancias no tienen un valor para la columna vector__number_of_elements\n",
      "\n",
      "\n",
      "vector__homogeneous\n",
      "-------------------\n",
      "0 instancias no tienen un valor para la columna vector__homogeneous\n",
      "\n",
      "\n"
     ]
    }
   ],
   "execution_count": 5
  },
  {
   "metadata": {},
   "cell_type": "markdown",
   "source": "### 2.2 - Describimos los valores de las variables de la tabla.",
   "id": "5bb94c0f81c08024"
  },
  {
   "metadata": {
    "ExecuteTime": {
     "end_time": "2024-07-04T17:40:59.522359Z",
     "start_time": "2024-07-04T17:40:59.490955Z"
    }
   },
   "cell_type": "code",
   "source": "np.transpose(X.describe(percentiles=[.25, .50, .75], include = ['object', 'float', 'bool', 'int']))",
   "id": "74bba302a29fbfd5",
   "outputs": [
    {
     "data": {
      "text/plain": [
       "                               count unique           top   freq      mean  \\\n",
       "vector__category              121764      4  TupleLiteral  88385       NaN   \n",
       "vector__number_of_elements  121764.0    NaN           NaN    NaN  6.308359   \n",
       "vector__homogeneous           121764      2         False  91365       NaN   \n",
       "\n",
       "                                  std  min  25%  50%  75%     max  \n",
       "vector__category                  NaN  NaN  NaN  NaN  NaN     NaN  \n",
       "vector__number_of_elements  73.071304  0.0  2.0  2.0  3.0  5376.0  \n",
       "vector__homogeneous               NaN  NaN  NaN  NaN  NaN     NaN  "
      ],
      "text/html": [
       "<div>\n",
       "<style scoped>\n",
       "    .dataframe tbody tr th:only-of-type {\n",
       "        vertical-align: middle;\n",
       "    }\n",
       "\n",
       "    .dataframe tbody tr th {\n",
       "        vertical-align: top;\n",
       "    }\n",
       "\n",
       "    .dataframe thead th {\n",
       "        text-align: right;\n",
       "    }\n",
       "</style>\n",
       "<table border=\"1\" class=\"dataframe\">\n",
       "  <thead>\n",
       "    <tr style=\"text-align: right;\">\n",
       "      <th></th>\n",
       "      <th>count</th>\n",
       "      <th>unique</th>\n",
       "      <th>top</th>\n",
       "      <th>freq</th>\n",
       "      <th>mean</th>\n",
       "      <th>std</th>\n",
       "      <th>min</th>\n",
       "      <th>25%</th>\n",
       "      <th>50%</th>\n",
       "      <th>75%</th>\n",
       "      <th>max</th>\n",
       "    </tr>\n",
       "  </thead>\n",
       "  <tbody>\n",
       "    <tr>\n",
       "      <th>vector__category</th>\n",
       "      <td>121764</td>\n",
       "      <td>4</td>\n",
       "      <td>TupleLiteral</td>\n",
       "      <td>88385</td>\n",
       "      <td>NaN</td>\n",
       "      <td>NaN</td>\n",
       "      <td>NaN</td>\n",
       "      <td>NaN</td>\n",
       "      <td>NaN</td>\n",
       "      <td>NaN</td>\n",
       "      <td>NaN</td>\n",
       "    </tr>\n",
       "    <tr>\n",
       "      <th>vector__number_of_elements</th>\n",
       "      <td>121764.0</td>\n",
       "      <td>NaN</td>\n",
       "      <td>NaN</td>\n",
       "      <td>NaN</td>\n",
       "      <td>6.308359</td>\n",
       "      <td>73.071304</td>\n",
       "      <td>0.0</td>\n",
       "      <td>2.0</td>\n",
       "      <td>2.0</td>\n",
       "      <td>3.0</td>\n",
       "      <td>5376.0</td>\n",
       "    </tr>\n",
       "    <tr>\n",
       "      <th>vector__homogeneous</th>\n",
       "      <td>121764</td>\n",
       "      <td>2</td>\n",
       "      <td>False</td>\n",
       "      <td>91365</td>\n",
       "      <td>NaN</td>\n",
       "      <td>NaN</td>\n",
       "      <td>NaN</td>\n",
       "      <td>NaN</td>\n",
       "      <td>NaN</td>\n",
       "      <td>NaN</td>\n",
       "      <td>NaN</td>\n",
       "    </tr>\n",
       "  </tbody>\n",
       "</table>\n",
       "</div>"
      ]
     },
     "execution_count": 6,
     "metadata": {},
     "output_type": "execute_result"
    }
   ],
   "execution_count": 6
  },
  {
   "metadata": {},
   "cell_type": "markdown",
   "source": "Vamos a discretizar las variables numericas, agrupando conjuntos de valores en categorias, para hacer un análisis de los datos. Para cada variable es necesario ver la distribucion de lo valores para hacer los bins (categorias).",
   "id": "9af3eb59b924a596"
  },
  {
   "metadata": {
    "ExecuteTime": {
     "end_time": "2024-07-04T17:40:59.667224Z",
     "start_time": "2024-07-04T17:40:59.523365Z"
    }
   },
   "cell_type": "code",
   "source": [
    "# DISCRETIZATION\n",
    "X_copy = X.copy()\n",
    "\n",
    "discretized_columns = {\n",
    "    \"vector__number_of_elements\": [(0.0, 2.0), (2.0, 2.0), (2.0, 3.0), (3.0, inf)], # min: 0 ; max: 14519\n",
    "}\n",
    "\n",
    "discretize_columns(X_copy, discretized_columns)\n",
    "    \n",
    "# SINGLE FEATURE\n",
    "print(\"--- SINGLE FEATURE ---\")\n",
    "print(get_statistics(X_copy, ['vector__number_of_elements'], 10))\n",
    "print(get_statistics(full_table, ['vector__category'], 10))\n",
    "print(get_statistics(X_copy, ['vector__homogeneous'], 10))\n",
    "\n",
    "# 2 FEATURES\n",
    "print(\"--- TWO FEATURES ---\")\n",
    "#print(get_statistics(X_copy, ['variable__is_magic', 'variable__name_convention_Discard'], 10))\n",
    "#print(get_statistics(X_copy, ['functiondef__number_of_characters', 'functiondef__name_convention_Lower'], 10))\n",
    "\n",
    "# 3 FEATURES\n",
    "print(\"--- THREE FEATURES ---\")\n",
    "#print(get_statistics(X_copy, ['module__class_defs_pct', 'module__function_defs_pct', 'module__enum_defs_pct'], 10))"
   ],
   "id": "6baf20dd3e3ca759",
   "outputs": [
    {
     "name": "stdout",
     "output_type": "stream",
     "text": [
      "--- SINGLE FEATURE ---\n",
      "vector__number_of_elements  count  percentage\n",
      "                 [3.0_inf]  56308   46.243553\n",
      "                 [2.0_2.0]  46276   38.004665\n",
      "                 [0.0_2.0)  19180   15.751782\n",
      "\n",
      " vector__category  count  percentage\n",
      "     TupleLiteral  88385   72.587136\n",
      "      ListLiteral  23156   19.017115\n",
      "DictionaryLiteral   9817    8.062317\n",
      "       SetLiteral    406    0.333432\n",
      "\n",
      " vector__homogeneous  count  percentage\n",
      "               False  91365   75.034493\n",
      "                True  30399   24.965507\n",
      "\n",
      "--- TWO FEATURES ---\n",
      "--- THREE FEATURES ---\n"
     ]
    }
   ],
   "execution_count": 7
  },
  {
   "metadata": {
    "ExecuteTime": {
     "end_time": "2024-07-04T17:40:59.687125Z",
     "start_time": "2024-07-04T17:40:59.668230Z"
    }
   },
   "cell_type": "code",
   "source": [
    "def normalize_datatypes(X:pd.DataFrame) -> (pd.DataFrame, [str]):\n",
    "    X = pd.get_dummies(X)\n",
    "    X = X.astype('float32')        \n",
    "    columns_names = X.columns.tolist()\n",
    "    return X, columns_names\n",
    "\n",
    "X, TABLE_FEATURES = normalize_datatypes(X)\n",
    "# Print information about the loaded table\n",
    "print(f'Features shape: {X.shape}')"
   ],
   "id": "5084c89dcb377a92",
   "outputs": [
    {
     "name": "stdout",
     "output_type": "stream",
     "text": [
      "Features shape: (121764, 6)\n"
     ]
    }
   ],
   "execution_count": 8
  },
  {
   "metadata": {},
   "cell_type": "markdown",
   "source": "#### Muestra la matriz de correlación de Spearman entre las variables de la tabla.",
   "id": "ed8befe21328a079"
  },
  {
   "metadata": {
    "ExecuteTime": {
     "end_time": "2024-07-04T17:41:00.022747Z",
     "start_time": "2024-07-04T17:40:59.688132Z"
    }
   },
   "cell_type": "code",
   "source": "sns.heatmap(X.corr(method='spearman'), annot=True)",
   "id": "dea960d18d682104",
   "outputs": [
    {
     "data": {
      "text/plain": [
       "<Axes: >"
      ]
     },
     "execution_count": 9,
     "metadata": {},
     "output_type": "execute_result"
    },
    {
     "data": {
      "text/plain": [
       "<Figure size 640x480 with 2 Axes>"
      ],
      "image/png": "[encoded data removed]"
     },
     "metadata": {},
     "output_type": "display_data"
    }
   ],
   "execution_count": 9
  },
  {
   "metadata": {},
   "cell_type": "markdown",
   "source": [
    "## 3 - Detección de valores atípicos (outliers)\n",
    "## Univariate\n",
    "## Analisis detallado de variables\n",
    "Para cada una de las 3 variables (1 numerica, 1 booleanas y 1 categorica) se hara un analisis detallado"
   ],
   "id": "599c97eec7b7d283"
  },
  {
   "metadata": {},
   "cell_type": "markdown",
   "source": [
    "### Variable homogeneous (1/3)\n",
    "Esta variable es de tipo booleano y representa si todos los elementos de la lista son del mismo tipo."
   ],
   "id": "6abba739e46da213"
  },
  {
   "metadata": {
    "ExecuteTime": {
     "end_time": "2024-07-04T17:41:00.197326Z",
     "start_time": "2024-07-04T17:41:00.023753Z"
    }
   },
   "cell_type": "code",
   "source": [
    "plt.xticks([0, 1], ['False', 'True'])\n",
    "sns.histplot(X['vector__homogeneous'], discrete=True)"
   ],
   "id": "4ab35b2ef94a3379",
   "outputs": [
    {
     "data": {
      "text/plain": [
       "<Axes: xlabel='vector__homogeneous', ylabel='Count'>"
      ]
     },
     "execution_count": 10,
     "metadata": {},
     "output_type": "execute_result"
    },
    {
     "data": {
      "text/plain": [
       "<Figure size 640x480 with 1 Axes>"
      ],
      "image/png": "[encoded data removed]"
     },
     "metadata": {},
     "output_type": "display_data"
    }
   ],
   "execution_count": 10
  },
  {
   "metadata": {
    "ExecuteTime": {
     "end_time": "2024-07-04T17:41:00.212547Z",
     "start_time": "2024-07-04T17:41:00.198332Z"
    }
   },
   "cell_type": "code",
   "source": [
    "num_true_values = len(X[X['vector__homogeneous'] == True])\n",
    "num_false_values = len(X[X['vector__homogeneous'] == False])\n",
    "std = X['vector__homogeneous'].std()\n",
    "freq_true = len(X[X['vector__homogeneous'] == True]) / len(X['vector__homogeneous'])\n",
    "freq_false = len(X[X['vector__homogeneous'] == False]) / len(X['vector__homogeneous'])\n",
    "print(f'La variable homogeneous contiene {num_true_values} valores verdaderos y {num_false_values} valores falsos. Y, la desviación típica es de {std}')\n",
    "print(f'La frecuencia con la que programa puede tener la variable homogeneous a True es {freq_true}.')\n",
    "print(f'La frecuencia con la que programa puede tener la variable homogeneous a False es {freq_false}.')"
   ],
   "id": "f4a042829ae6fac5",
   "outputs": [
    {
     "name": "stdout",
     "output_type": "stream",
     "text": [
      "La variable homogeneous contiene 30399 valores verdaderos y 91365 valores falsos. Y, la desviación típica es de 0.4328151345252991\n",
      "La frecuencia con la que programa puede tener la variable homogeneous a True es 0.2496550704641766.\n",
      "La frecuencia con la que programa puede tener la variable homogeneous a False es 0.7503449295358234.\n"
     ]
    }
   ],
   "execution_count": 11
  },
  {
   "metadata": {
    "ExecuteTime": {
     "end_time": "2024-07-04T17:41:00.222774Z",
     "start_time": "2024-07-04T17:41:00.213552Z"
    }
   },
   "cell_type": "code",
   "source": [
    "possible_values = [True, False]\n",
    "print_frequency_anal_for_cat_var(X, 'vector__homogeneous', possible_values)"
   ],
   "id": "c614dd60d0ab8e5b",
   "outputs": [
    {
     "name": "stdout",
     "output_type": "stream",
     "text": [
      "La variable vector__homogeneous contiene 2 valores distintos.\n",
      "El umbral de outlier es de 0.1%\n",
      "La variable vector__homogeneous toma el valor de 0.0 en un 75.03% de los items.\n",
      "La variable vector__homogeneous toma el valor de 1.0 en un 24.97% de los items.\n"
     ]
    }
   ],
   "execution_count": 12
  },
  {
   "metadata": {
    "ExecuteTime": {
     "end_time": "2024-07-04T17:41:00.245775Z",
     "start_time": "2024-07-04T17:41:00.223782Z"
    }
   },
   "cell_type": "code",
   "source": "X[X['vector__homogeneous'] == True].describe(percentiles=[.25, .50, .75], include = ['object', 'float', 'bool', 'int'])",
   "id": "6c33bdd1420008cf",
   "outputs": [
    {
     "data": {
      "text/plain": [
       "       vector__number_of_elements  vector__homogeneous  \\\n",
       "count                30399.000000              30399.0   \n",
       "mean                    15.373367                  1.0   \n",
       "std                    145.127655                  0.0   \n",
       "min                      0.000000                  1.0   \n",
       "25%                      0.000000                  1.0   \n",
       "50%                      2.000000                  1.0   \n",
       "75%                      3.000000                  1.0   \n",
       "max                   5376.000000                  1.0   \n",
       "\n",
       "       vector__category_DictionaryLiteral  vector__category_ListLiteral  \\\n",
       "count                        30399.000000                  30399.000000   \n",
       "mean                             0.205237                      0.515872   \n",
       "std                              0.403881                      0.499756   \n",
       "min                              0.000000                      0.000000   \n",
       "25%                              0.000000                      0.000000   \n",
       "50%                              0.000000                      1.000000   \n",
       "75%                              0.000000                      1.000000   \n",
       "max                              1.000000                      1.000000   \n",
       "\n",
       "       vector__category_SetLiteral  vector__category_TupleLiteral  \n",
       "count                 30399.000000                   30399.000000  \n",
       "mean                      0.010296                       0.268594  \n",
       "std                       0.100949                       0.443236  \n",
       "min                       0.000000                       0.000000  \n",
       "25%                       0.000000                       0.000000  \n",
       "50%                       0.000000                       0.000000  \n",
       "75%                       0.000000                       1.000000  \n",
       "max                       1.000000                       1.000000  "
      ],
      "text/html": [
       "<div>\n",
       "<style scoped>\n",
       "    .dataframe tbody tr th:only-of-type {\n",
       "        vertical-align: middle;\n",
       "    }\n",
       "\n",
       "    .dataframe tbody tr th {\n",
       "        vertical-align: top;\n",
       "    }\n",
       "\n",
       "    .dataframe thead th {\n",
       "        text-align: right;\n",
       "    }\n",
       "</style>\n",
       "<table border=\"1\" class=\"dataframe\">\n",
       "  <thead>\n",
       "    <tr style=\"text-align: right;\">\n",
       "      <th></th>\n",
       "      <th>vector__number_of_elements</th>\n",
       "      <th>vector__homogeneous</th>\n",
       "      <th>vector__category_DictionaryLiteral</th>\n",
       "      <th>vector__category_ListLiteral</th>\n",
       "      <th>vector__category_SetLiteral</th>\n",
       "      <th>vector__category_TupleLiteral</th>\n",
       "    </tr>\n",
       "  </thead>\n",
       "  <tbody>\n",
       "    <tr>\n",
       "      <th>count</th>\n",
       "      <td>30399.000000</td>\n",
       "      <td>30399.0</td>\n",
       "      <td>30399.000000</td>\n",
       "      <td>30399.000000</td>\n",
       "      <td>30399.000000</td>\n",
       "      <td>30399.000000</td>\n",
       "    </tr>\n",
       "    <tr>\n",
       "      <th>mean</th>\n",
       "      <td>15.373367</td>\n",
       "      <td>1.0</td>\n",
       "      <td>0.205237</td>\n",
       "      <td>0.515872</td>\n",
       "      <td>0.010296</td>\n",
       "      <td>0.268594</td>\n",
       "    </tr>\n",
       "    <tr>\n",
       "      <th>std</th>\n",
       "      <td>145.127655</td>\n",
       "      <td>0.0</td>\n",
       "      <td>0.403881</td>\n",
       "      <td>0.499756</td>\n",
       "      <td>0.100949</td>\n",
       "      <td>0.443236</td>\n",
       "    </tr>\n",
       "    <tr>\n",
       "      <th>min</th>\n",
       "      <td>0.000000</td>\n",
       "      <td>1.0</td>\n",
       "      <td>0.000000</td>\n",
       "      <td>0.000000</td>\n",
       "      <td>0.000000</td>\n",
       "      <td>0.000000</td>\n",
       "    </tr>\n",
       "    <tr>\n",
       "      <th>25%</th>\n",
       "      <td>0.000000</td>\n",
       "      <td>1.0</td>\n",
       "      <td>0.000000</td>\n",
       "      <td>0.000000</td>\n",
       "      <td>0.000000</td>\n",
       "      <td>0.000000</td>\n",
       "    </tr>\n",
       "    <tr>\n",
       "      <th>50%</th>\n",
       "      <td>2.000000</td>\n",
       "      <td>1.0</td>\n",
       "      <td>0.000000</td>\n",
       "      <td>1.000000</td>\n",
       "      <td>0.000000</td>\n",
       "      <td>0.000000</td>\n",
       "    </tr>\n",
       "    <tr>\n",
       "      <th>75%</th>\n",
       "      <td>3.000000</td>\n",
       "      <td>1.0</td>\n",
       "      <td>0.000000</td>\n",
       "      <td>1.000000</td>\n",
       "      <td>0.000000</td>\n",
       "      <td>1.000000</td>\n",
       "    </tr>\n",
       "    <tr>\n",
       "      <th>max</th>\n",
       "      <td>5376.000000</td>\n",
       "      <td>1.0</td>\n",
       "      <td>1.000000</td>\n",
       "      <td>1.000000</td>\n",
       "      <td>1.000000</td>\n",
       "      <td>1.000000</td>\n",
       "    </tr>\n",
       "  </tbody>\n",
       "</table>\n",
       "</div>"
      ]
     },
     "execution_count": 13,
     "metadata": {},
     "output_type": "execute_result"
    }
   ],
   "execution_count": 13
  },
  {
   "metadata": {},
   "cell_type": "markdown",
   "source": [
    "### Variable number_of_elements (2/3)\n",
    "Esta variable representa el número de elementos en la lista. Como vimos en la descripción de la tabla esta varibale adopta valores en el rango 0 - 5376. Con una media de 6.3."
   ],
   "id": "119fc307a9194a96"
  },
  {
   "metadata": {
    "ExecuteTime": {
     "end_time": "2024-07-04T17:41:00.697457Z",
     "start_time": "2024-07-04T17:41:00.247783Z"
    }
   },
   "cell_type": "code",
   "source": "sns.stripplot(X['vector__number_of_elements'])",
   "id": "5efd7fbb4f34563d",
   "outputs": [
    {
     "data": {
      "text/plain": [
       "<Axes: ylabel='vector__number_of_elements'>"
      ]
     },
     "execution_count": 14,
     "metadata": {},
     "output_type": "execute_result"
    },
    {
     "data": {
      "text/plain": [
       "<Figure size 640x480 with 1 Axes>"
      ],
      "image/png": "[encoded data removed]"
     },
     "metadata": {},
     "output_type": "display_data"
    }
   ],
   "execution_count": 14
  },
  {
   "metadata": {
    "ExecuteTime": {
     "end_time": "2024-07-04T17:41:00.709947Z",
     "start_time": "2024-07-04T17:41:00.698464Z"
    }
   },
   "cell_type": "code",
   "source": "print_outliers_for_df_column(X, 'vector__number_of_elements')",
   "id": "e5649a2923239004",
   "outputs": [
    {
     "name": "stdout",
     "output_type": "stream",
     "text": [
      "El coeficiente MC (Medcouple Coefficient) de balanceo es: 0.9755271808458917\n",
      "Rango valores atípicos extremos (Tukey): [-1.0,6.0]\n",
      "Rango valores atípicos leves (Tukey): [0.5,4.5]\n",
      "Rango valores atípicos extremos (Fixed BoxPlot): [1.9506530848584323,77.26010268255112]\n",
      "-3.0IQR: 0 instancias tienen un valor para vector__number_of_elements inferior a -1.0 (Q1-3*IQR) para vector__number_of_elements. Representando un 0.0% del total de instancias.\n",
      "-1.5IQR: 12388 instancias tienen un valor para vector__number_of_elements inferior a 0.5 (Q1-1.5*IQR) para vector__number_of_elements. Representando un 10.17% del total de instancias.\n",
      "+1.5IQR: 10222 instancias tienen un valor para vector__number_of_elements superior a 4.5 (Q3+1.5*IQR) para vector__number_of_elements. Representando un 8.395% del total de instancias.\n",
      "+3.0IQR: 7185 instancias tienen un valor para vector__number_of_elements superior a 6.0 (Q3-3*IQR) para vector__number_of_elements. Representando un 5.901% del total de instancias.\n",
      "L: 19180 instancias tienen un valor para vector__number_of_elements inferior a 1.9506530848584323 para vector__number_of_elements. Representando un 15.75% del total de instancias.\n",
      "U: 1266 instancias tienen un valor para vector__number_of_elements superior a 77.26010268255112 para vector__number_of_elements. Representando un 1.04% del total de instancias.\n"
     ]
    }
   ],
   "execution_count": 15
  },
  {
   "metadata": {},
   "cell_type": "markdown",
   "source": "Describimos los valores de las variables de la tabla, cuando el valor de la variable es mayor que 77 (Con un MC de 97 usamos U)",
   "id": "85c647f139354e3d"
  },
  {
   "metadata": {
    "ExecuteTime": {
     "end_time": "2024-07-04T17:41:00.729177Z",
     "start_time": "2024-07-04T17:41:00.710954Z"
    }
   },
   "cell_type": "code",
   "source": "X[X['vector__number_of_elements'] > 77].describe(percentiles=[.25, .50, .75], include = ['object', 'float', 'bool', 'int'])",
   "id": "5c5e0e6eb4cd173",
   "outputs": [
    {
     "data": {
      "text/plain": [
       "       vector__number_of_elements  vector__homogeneous  \\\n",
       "count                 1266.000000          1266.000000   \n",
       "mean                   234.515793             0.596367   \n",
       "std                    673.036072             0.490819   \n",
       "min                     78.000000             0.000000   \n",
       "25%                     83.000000             0.000000   \n",
       "50%                    100.000000             1.000000   \n",
       "75%                    100.000000             1.000000   \n",
       "max                   5376.000000             1.000000   \n",
       "\n",
       "       vector__category_DictionaryLiteral  vector__category_ListLiteral  \\\n",
       "count                         1266.000000                   1266.000000   \n",
       "mean                             0.090047                      0.398104   \n",
       "std                              0.286363                      0.489701   \n",
       "min                              0.000000                      0.000000   \n",
       "25%                              0.000000                      0.000000   \n",
       "50%                              0.000000                      0.000000   \n",
       "75%                              0.000000                      1.000000   \n",
       "max                              1.000000                      1.000000   \n",
       "\n",
       "       vector__category_SetLiteral  vector__category_TupleLiteral  \n",
       "count                       1266.0                    1266.000000  \n",
       "mean                           0.0                       0.511848  \n",
       "std                            0.0                       0.500057  \n",
       "min                            0.0                       0.000000  \n",
       "25%                            0.0                       0.000000  \n",
       "50%                            0.0                       1.000000  \n",
       "75%                            0.0                       1.000000  \n",
       "max                            0.0                       1.000000  "
      ],
      "text/html": [
       "<div>\n",
       "<style scoped>\n",
       "    .dataframe tbody tr th:only-of-type {\n",
       "        vertical-align: middle;\n",
       "    }\n",
       "\n",
       "    .dataframe tbody tr th {\n",
       "        vertical-align: top;\n",
       "    }\n",
       "\n",
       "    .dataframe thead th {\n",
       "        text-align: right;\n",
       "    }\n",
       "</style>\n",
       "<table border=\"1\" class=\"dataframe\">\n",
       "  <thead>\n",
       "    <tr style=\"text-align: right;\">\n",
       "      <th></th>\n",
       "      <th>vector__number_of_elements</th>\n",
       "      <th>vector__homogeneous</th>\n",
       "      <th>vector__category_DictionaryLiteral</th>\n",
       "      <th>vector__category_ListLiteral</th>\n",
       "      <th>vector__category_SetLiteral</th>\n",
       "      <th>vector__category_TupleLiteral</th>\n",
       "    </tr>\n",
       "  </thead>\n",
       "  <tbody>\n",
       "    <tr>\n",
       "      <th>count</th>\n",
       "      <td>1266.000000</td>\n",
       "      <td>1266.000000</td>\n",
       "      <td>1266.000000</td>\n",
       "      <td>1266.000000</td>\n",
       "      <td>1266.0</td>\n",
       "      <td>1266.000000</td>\n",
       "    </tr>\n",
       "    <tr>\n",
       "      <th>mean</th>\n",
       "      <td>234.515793</td>\n",
       "      <td>0.596367</td>\n",
       "      <td>0.090047</td>\n",
       "      <td>0.398104</td>\n",
       "      <td>0.0</td>\n",
       "      <td>0.511848</td>\n",
       "    </tr>\n",
       "    <tr>\n",
       "      <th>std</th>\n",
       "      <td>673.036072</td>\n",
       "      <td>0.490819</td>\n",
       "      <td>0.286363</td>\n",
       "      <td>0.489701</td>\n",
       "      <td>0.0</td>\n",
       "      <td>0.500057</td>\n",
       "    </tr>\n",
       "    <tr>\n",
       "      <th>min</th>\n",
       "      <td>78.000000</td>\n",
       "      <td>0.000000</td>\n",
       "      <td>0.000000</td>\n",
       "      <td>0.000000</td>\n",
       "      <td>0.0</td>\n",
       "      <td>0.000000</td>\n",
       "    </tr>\n",
       "    <tr>\n",
       "      <th>25%</th>\n",
       "      <td>83.000000</td>\n",
       "      <td>0.000000</td>\n",
       "      <td>0.000000</td>\n",
       "      <td>0.000000</td>\n",
       "      <td>0.0</td>\n",
       "      <td>0.000000</td>\n",
       "    </tr>\n",
       "    <tr>\n",
       "      <th>50%</th>\n",
       "      <td>100.000000</td>\n",
       "      <td>1.000000</td>\n",
       "      <td>0.000000</td>\n",
       "      <td>0.000000</td>\n",
       "      <td>0.0</td>\n",
       "      <td>1.000000</td>\n",
       "    </tr>\n",
       "    <tr>\n",
       "      <th>75%</th>\n",
       "      <td>100.000000</td>\n",
       "      <td>1.000000</td>\n",
       "      <td>0.000000</td>\n",
       "      <td>1.000000</td>\n",
       "      <td>0.0</td>\n",
       "      <td>1.000000</td>\n",
       "    </tr>\n",
       "    <tr>\n",
       "      <th>max</th>\n",
       "      <td>5376.000000</td>\n",
       "      <td>1.000000</td>\n",
       "      <td>1.000000</td>\n",
       "      <td>1.000000</td>\n",
       "      <td>0.0</td>\n",
       "      <td>1.000000</td>\n",
       "    </tr>\n",
       "  </tbody>\n",
       "</table>\n",
       "</div>"
      ]
     },
     "execution_count": 16,
     "metadata": {},
     "output_type": "execute_result"
    }
   ],
   "execution_count": 16
  },
  {
   "metadata": {},
   "cell_type": "markdown",
   "source": [
    "### Variable category (3/3)\n",
    "Esta variable es de tipo categorica y representa el tipo del vector."
   ],
   "id": "2fd1b0439566c6f7"
  },
  {
   "metadata": {
    "ExecuteTime": {
     "end_time": "2024-07-04T17:41:01.059058Z",
     "start_time": "2024-07-04T17:41:00.730207Z"
    }
   },
   "cell_type": "code",
   "source": "print_categorical_histogram(full_table, 'vector__category')",
   "id": "b504c449a7224091",
   "outputs": [
    {
     "data": {
      "text/plain": [
       "<Figure size 1200x600 with 1 Axes>"
      ],
      "image/png": "[encoded data removed]"
     },
     "metadata": {},
     "output_type": "display_data"
    }
   ],
   "execution_count": 17
  },
  {
   "metadata": {
    "ExecuteTime": {
     "end_time": "2024-07-04T17:41:01.110605Z",
     "start_time": "2024-07-04T17:41:01.060068Z"
    }
   },
   "cell_type": "code",
   "source": "print_frequency_anal_for_cat_var(full_table, 'vector__category')",
   "id": "33df6df9ad0487a2",
   "outputs": [
    {
     "name": "stdout",
     "output_type": "stream",
     "text": [
      "La variable vector__category contiene 4 valores distintos.\n",
      "El umbral de outlier es de 0.05%\n",
      "La variable vector__category toma el valor de TupleLiteral en un 72.59% de los items.\n",
      "La variable vector__category toma el valor de ListLiteral en un 19.02% de los items.\n",
      "La variable vector__category toma el valor de DictionaryLiteral en un 8.062% de los items.\n",
      "La variable vector__category toma el valor de SetLiteral en un 0.3334% de los items.\n"
     ]
    }
   ],
   "execution_count": 18
  },
  {
   "metadata": {
    "ExecuteTime": {
     "end_time": "2024-07-04T17:41:01.122394Z",
     "start_time": "2024-07-04T17:41:01.111610Z"
    }
   },
   "cell_type": "code",
   "source": "print_values_usage_for_cat_var(full_table, 'vector__category', VECTOR_CATEGORY_VALUES)",
   "id": "7a3ef06749d0b76b",
   "outputs": [
    {
     "name": "stdout",
     "output_type": "stream",
     "text": [
      "La variable vector__category puede tomar 4 valores distintos\n",
      "\t4 (100.0%) valores utilizados\n",
      "\t0 (0.0%) valores NO utilizados\n"
     ]
    }
   ],
   "execution_count": 19
  },
  {
   "metadata": {},
   "cell_type": "markdown",
   "source": [
    "## Multivariate\n",
    "\n",
    "Isolation forest algorithm"
   ],
   "id": "67c983c9af4d63dd"
  },
  {
   "metadata": {
    "ExecuteTime": {
     "end_time": "2024-07-04T17:41:02.447196Z",
     "start_time": "2024-07-04T17:41:01.123402Z"
    }
   },
   "cell_type": "code",
   "source": [
    "from sklearn.ensemble import  IsolationForest\n",
    "\n",
    "CONTAMINATION_FACTOR = 0.0012\n",
    "isof_model = IsolationForest(contamination=CONTAMINATION_FACTOR, random_state=0)\n",
    "isof_prediction = isof_model.fit_predict(X.values)\n",
    "mask = isof_prediction == -1\n",
    "full_table.loc[X.index[mask]]"
   ],
   "id": "f07fdf0a99b29a0",
   "outputs": [
    {
     "data": {
      "text/plain": [
       "       vector__category  vector__number_of_elements  vector__homogeneous  \\\n",
       "2225       TupleLiteral                        1165                 True   \n",
       "10669      TupleLiteral                         256                 True   \n",
       "10673      TupleLiteral                         256                 True   \n",
       "10677      TupleLiteral                         256                 True   \n",
       "10681      TupleLiteral                         256                 True   \n",
       "...                 ...                         ...                  ...   \n",
       "114623     TupleLiteral                        4368                 True   \n",
       "114628     TupleLiteral                         256                False   \n",
       "114633     TupleLiteral                        5376                 True   \n",
       "116025     TupleLiteral                         323                False   \n",
       "116349     TupleLiteral                         161                False   \n",
       "\n",
       "       vector__expertise_level  \n",
       "2225                  BEGINNER  \n",
       "10669                 BEGINNER  \n",
       "10673                 BEGINNER  \n",
       "10677                 BEGINNER  \n",
       "10681                 BEGINNER  \n",
       "...                        ...  \n",
       "114623                BEGINNER  \n",
       "114628                BEGINNER  \n",
       "114633                BEGINNER  \n",
       "116025                BEGINNER  \n",
       "116349                BEGINNER  \n",
       "\n",
       "[145 rows x 4 columns]"
      ],
      "text/html": [
       "<div>\n",
       "<style scoped>\n",
       "    .dataframe tbody tr th:only-of-type {\n",
       "        vertical-align: middle;\n",
       "    }\n",
       "\n",
       "    .dataframe tbody tr th {\n",
       "        vertical-align: top;\n",
       "    }\n",
       "\n",
       "    .dataframe thead th {\n",
       "        text-align: right;\n",
       "    }\n",
       "</style>\n",
       "<table border=\"1\" class=\"dataframe\">\n",
       "  <thead>\n",
       "    <tr style=\"text-align: right;\">\n",
       "      <th></th>\n",
       "      <th>vector__category</th>\n",
       "      <th>vector__number_of_elements</th>\n",
       "      <th>vector__homogeneous</th>\n",
       "      <th>vector__expertise_level</th>\n",
       "    </tr>\n",
       "  </thead>\n",
       "  <tbody>\n",
       "    <tr>\n",
       "      <th>2225</th>\n",
       "      <td>TupleLiteral</td>\n",
       "      <td>1165</td>\n",
       "      <td>True</td>\n",
       "      <td>BEGINNER</td>\n",
       "    </tr>\n",
       "    <tr>\n",
       "      <th>10669</th>\n",
       "      <td>TupleLiteral</td>\n",
       "      <td>256</td>\n",
       "      <td>True</td>\n",
       "      <td>BEGINNER</td>\n",
       "    </tr>\n",
       "    <tr>\n",
       "      <th>10673</th>\n",
       "      <td>TupleLiteral</td>\n",
       "      <td>256</td>\n",
       "      <td>True</td>\n",
       "      <td>BEGINNER</td>\n",
       "    </tr>\n",
       "    <tr>\n",
       "      <th>10677</th>\n",
       "      <td>TupleLiteral</td>\n",
       "      <td>256</td>\n",
       "      <td>True</td>\n",
       "      <td>BEGINNER</td>\n",
       "    </tr>\n",
       "    <tr>\n",
       "      <th>10681</th>\n",
       "      <td>TupleLiteral</td>\n",
       "      <td>256</td>\n",
       "      <td>True</td>\n",
       "      <td>BEGINNER</td>\n",
       "    </tr>\n",
       "    <tr>\n",
       "      <th>...</th>\n",
       "      <td>...</td>\n",
       "      <td>...</td>\n",
       "      <td>...</td>\n",
       "      <td>...</td>\n",
       "    </tr>\n",
       "    <tr>\n",
       "      <th>114623</th>\n",
       "      <td>TupleLiteral</td>\n",
       "      <td>4368</td>\n",
       "      <td>True</td>\n",
       "      <td>BEGINNER</td>\n",
       "    </tr>\n",
       "    <tr>\n",
       "      <th>114628</th>\n",
       "      <td>TupleLiteral</td>\n",
       "      <td>256</td>\n",
       "      <td>False</td>\n",
       "      <td>BEGINNER</td>\n",
       "    </tr>\n",
       "    <tr>\n",
       "      <th>114633</th>\n",
       "      <td>TupleLiteral</td>\n",
       "      <td>5376</td>\n",
       "      <td>True</td>\n",
       "      <td>BEGINNER</td>\n",
       "    </tr>\n",
       "    <tr>\n",
       "      <th>116025</th>\n",
       "      <td>TupleLiteral</td>\n",
       "      <td>323</td>\n",
       "      <td>False</td>\n",
       "      <td>BEGINNER</td>\n",
       "    </tr>\n",
       "    <tr>\n",
       "      <th>116349</th>\n",
       "      <td>TupleLiteral</td>\n",
       "      <td>161</td>\n",
       "      <td>False</td>\n",
       "      <td>BEGINNER</td>\n",
       "    </tr>\n",
       "  </tbody>\n",
       "</table>\n",
       "<p>145 rows × 4 columns</p>\n",
       "</div>"
      ]
     },
     "execution_count": 20,
     "metadata": {},
     "output_type": "execute_result"
    }
   ],
   "execution_count": 20
  },
  {
   "metadata": {},
   "cell_type": "markdown",
   "source": [
    "### IMPORTANTE\n",
    "Revisar los outliers detectados."
   ],
   "id": "e39c0668bd6ba72d"
  },
  {
   "metadata": {
    "ExecuteTime": {
     "end_time": "2024-07-04T17:41:02.466891Z",
     "start_time": "2024-07-04T17:41:02.448229Z"
    }
   },
   "cell_type": "code",
   "source": [
    "# Outliers\n",
    "np.transpose(X[mask].describe(percentiles=[.25, .50, .75], include = ['object', 'float', 'bool', 'int']))"
   ],
   "id": "efe76df694300025",
   "outputs": [
    {
     "data": {
      "text/plain": [
       "                                    count         mean          std    min  \\\n",
       "vector__number_of_elements          145.0  1115.075806  1695.814209  112.0   \n",
       "vector__homogeneous                 145.0     0.827586     0.379049    0.0   \n",
       "vector__category_DictionaryLiteral  145.0     0.000000     0.000000    0.0   \n",
       "vector__category_ListLiteral        145.0     0.006897     0.083045    0.0   \n",
       "vector__category_SetLiteral         145.0     0.000000     0.000000    0.0   \n",
       "vector__category_TupleLiteral       145.0     0.993103     0.083045    0.0   \n",
       "\n",
       "                                      25%    50%    75%     max  \n",
       "vector__number_of_elements          256.0  256.0  323.0  5376.0  \n",
       "vector__homogeneous                   1.0    1.0    1.0     1.0  \n",
       "vector__category_DictionaryLiteral    0.0    0.0    0.0     0.0  \n",
       "vector__category_ListLiteral          0.0    0.0    0.0     1.0  \n",
       "vector__category_SetLiteral           0.0    0.0    0.0     0.0  \n",
       "vector__category_TupleLiteral         1.0    1.0    1.0     1.0  "
      ],
      "text/html": [
       "<div>\n",
       "<style scoped>\n",
       "    .dataframe tbody tr th:only-of-type {\n",
       "        vertical-align: middle;\n",
       "    }\n",
       "\n",
       "    .dataframe tbody tr th {\n",
       "        vertical-align: top;\n",
       "    }\n",
       "\n",
       "    .dataframe thead th {\n",
       "        text-align: right;\n",
       "    }\n",
       "</style>\n",
       "<table border=\"1\" class=\"dataframe\">\n",
       "  <thead>\n",
       "    <tr style=\"text-align: right;\">\n",
       "      <th></th>\n",
       "      <th>count</th>\n",
       "      <th>mean</th>\n",
       "      <th>std</th>\n",
       "      <th>min</th>\n",
       "      <th>25%</th>\n",
       "      <th>50%</th>\n",
       "      <th>75%</th>\n",
       "      <th>max</th>\n",
       "    </tr>\n",
       "  </thead>\n",
       "  <tbody>\n",
       "    <tr>\n",
       "      <th>vector__number_of_elements</th>\n",
       "      <td>145.0</td>\n",
       "      <td>1115.075806</td>\n",
       "      <td>1695.814209</td>\n",
       "      <td>112.0</td>\n",
       "      <td>256.0</td>\n",
       "      <td>256.0</td>\n",
       "      <td>323.0</td>\n",
       "      <td>5376.0</td>\n",
       "    </tr>\n",
       "    <tr>\n",
       "      <th>vector__homogeneous</th>\n",
       "      <td>145.0</td>\n",
       "      <td>0.827586</td>\n",
       "      <td>0.379049</td>\n",
       "      <td>0.0</td>\n",
       "      <td>1.0</td>\n",
       "      <td>1.0</td>\n",
       "      <td>1.0</td>\n",
       "      <td>1.0</td>\n",
       "    </tr>\n",
       "    <tr>\n",
       "      <th>vector__category_DictionaryLiteral</th>\n",
       "      <td>145.0</td>\n",
       "      <td>0.000000</td>\n",
       "      <td>0.000000</td>\n",
       "      <td>0.0</td>\n",
       "      <td>0.0</td>\n",
       "      <td>0.0</td>\n",
       "      <td>0.0</td>\n",
       "      <td>0.0</td>\n",
       "    </tr>\n",
       "    <tr>\n",
       "      <th>vector__category_ListLiteral</th>\n",
       "      <td>145.0</td>\n",
       "      <td>0.006897</td>\n",
       "      <td>0.083045</td>\n",
       "      <td>0.0</td>\n",
       "      <td>0.0</td>\n",
       "      <td>0.0</td>\n",
       "      <td>0.0</td>\n",
       "      <td>1.0</td>\n",
       "    </tr>\n",
       "    <tr>\n",
       "      <th>vector__category_SetLiteral</th>\n",
       "      <td>145.0</td>\n",
       "      <td>0.000000</td>\n",
       "      <td>0.000000</td>\n",
       "      <td>0.0</td>\n",
       "      <td>0.0</td>\n",
       "      <td>0.0</td>\n",
       "      <td>0.0</td>\n",
       "      <td>0.0</td>\n",
       "    </tr>\n",
       "    <tr>\n",
       "      <th>vector__category_TupleLiteral</th>\n",
       "      <td>145.0</td>\n",
       "      <td>0.993103</td>\n",
       "      <td>0.083045</td>\n",
       "      <td>0.0</td>\n",
       "      <td>1.0</td>\n",
       "      <td>1.0</td>\n",
       "      <td>1.0</td>\n",
       "      <td>1.0</td>\n",
       "    </tr>\n",
       "  </tbody>\n",
       "</table>\n",
       "</div>"
      ]
     },
     "execution_count": 21,
     "metadata": {},
     "output_type": "execute_result"
    }
   ],
   "execution_count": 21
  },
  {
   "metadata": {
    "ExecuteTime": {
     "end_time": "2024-07-04T17:41:02.505399Z",
     "start_time": "2024-07-04T17:41:02.467907Z"
    }
   },
   "cell_type": "code",
   "source": [
    "# Non-Outliers\n",
    "np.transpose(X[~mask].describe(percentiles=[.25, .50, .75], include = ['object', 'float', 'bool', 'int']))"
   ],
   "id": "a8aa1ecc9f496e8b",
   "outputs": [
    {
     "data": {
      "text/plain": [
       "                                       count      mean        std  min  25%  \\\n",
       "vector__number_of_elements          121619.0  4.986433  21.755041  0.0  2.0   \n",
       "vector__homogeneous                 121619.0  0.248966   0.432416  0.0  0.0   \n",
       "vector__category_DictionaryLiteral  121619.0  0.080719   0.272405  0.0  0.0   \n",
       "vector__category_ListLiteral        121619.0  0.190390   0.392610  0.0  0.0   \n",
       "vector__category_SetLiteral         121619.0  0.003338   0.057682  0.0  0.0   \n",
       "vector__category_TupleLiteral       121619.0  0.725553   0.446237  0.0  0.0   \n",
       "\n",
       "                                    50%  75%     max  \n",
       "vector__number_of_elements          2.0  3.0  2231.0  \n",
       "vector__homogeneous                 0.0  0.0     1.0  \n",
       "vector__category_DictionaryLiteral  0.0  0.0     1.0  \n",
       "vector__category_ListLiteral        0.0  0.0     1.0  \n",
       "vector__category_SetLiteral         0.0  0.0     1.0  \n",
       "vector__category_TupleLiteral       1.0  1.0     1.0  "
      ],
      "text/html": [
       "<div>\n",
       "<style scoped>\n",
       "    .dataframe tbody tr th:only-of-type {\n",
       "        vertical-align: middle;\n",
       "    }\n",
       "\n",
       "    .dataframe tbody tr th {\n",
       "        vertical-align: top;\n",
       "    }\n",
       "\n",
       "    .dataframe thead th {\n",
       "        text-align: right;\n",
       "    }\n",
       "</style>\n",
       "<table border=\"1\" class=\"dataframe\">\n",
       "  <thead>\n",
       "    <tr style=\"text-align: right;\">\n",
       "      <th></th>\n",
       "      <th>count</th>\n",
       "      <th>mean</th>\n",
       "      <th>std</th>\n",
       "      <th>min</th>\n",
       "      <th>25%</th>\n",
       "      <th>50%</th>\n",
       "      <th>75%</th>\n",
       "      <th>max</th>\n",
       "    </tr>\n",
       "  </thead>\n",
       "  <tbody>\n",
       "    <tr>\n",
       "      <th>vector__number_of_elements</th>\n",
       "      <td>121619.0</td>\n",
       "      <td>4.986433</td>\n",
       "      <td>21.755041</td>\n",
       "      <td>0.0</td>\n",
       "      <td>2.0</td>\n",
       "      <td>2.0</td>\n",
       "      <td>3.0</td>\n",
       "      <td>2231.0</td>\n",
       "    </tr>\n",
       "    <tr>\n",
       "      <th>vector__homogeneous</th>\n",
       "      <td>121619.0</td>\n",
       "      <td>0.248966</td>\n",
       "      <td>0.432416</td>\n",
       "      <td>0.0</td>\n",
       "      <td>0.0</td>\n",
       "      <td>0.0</td>\n",
       "      <td>0.0</td>\n",
       "      <td>1.0</td>\n",
       "    </tr>\n",
       "    <tr>\n",
       "      <th>vector__category_DictionaryLiteral</th>\n",
       "      <td>121619.0</td>\n",
       "      <td>0.080719</td>\n",
       "      <td>0.272405</td>\n",
       "      <td>0.0</td>\n",
       "      <td>0.0</td>\n",
       "      <td>0.0</td>\n",
       "      <td>0.0</td>\n",
       "      <td>1.0</td>\n",
       "    </tr>\n",
       "    <tr>\n",
       "      <th>vector__category_ListLiteral</th>\n",
       "      <td>121619.0</td>\n",
       "      <td>0.190390</td>\n",
       "      <td>0.392610</td>\n",
       "      <td>0.0</td>\n",
       "      <td>0.0</td>\n",
       "      <td>0.0</td>\n",
       "      <td>0.0</td>\n",
       "      <td>1.0</td>\n",
       "    </tr>\n",
       "    <tr>\n",
       "      <th>vector__category_SetLiteral</th>\n",
       "      <td>121619.0</td>\n",
       "      <td>0.003338</td>\n",
       "      <td>0.057682</td>\n",
       "      <td>0.0</td>\n",
       "      <td>0.0</td>\n",
       "      <td>0.0</td>\n",
       "      <td>0.0</td>\n",
       "      <td>1.0</td>\n",
       "    </tr>\n",
       "    <tr>\n",
       "      <th>vector__category_TupleLiteral</th>\n",
       "      <td>121619.0</td>\n",
       "      <td>0.725553</td>\n",
       "      <td>0.446237</td>\n",
       "      <td>0.0</td>\n",
       "      <td>0.0</td>\n",
       "      <td>1.0</td>\n",
       "      <td>1.0</td>\n",
       "      <td>1.0</td>\n",
       "    </tr>\n",
       "  </tbody>\n",
       "</table>\n",
       "</div>"
      ]
     },
     "execution_count": 22,
     "metadata": {},
     "output_type": "execute_result"
    }
   ],
   "execution_count": 22
  }
 ],
 "metadata": {
  "kernelspec": {
   "display_name": "Python 3",
   "language": "python",
   "name": "python3"
  },
  "language_info": {
   "codemirror_mode": {
    "name": "ipython",
    "version": 2
   },
   "file_extension": ".py",
   "mimetype": "text/x-python",
   "name": "python",
   "nbconvert_exporter": "python",
   "pygments_lexer": "ipython2",
   "version": "2.7.6"
  }
 },
 "nbformat": 4,
 "nbformat_minor": 5
}
