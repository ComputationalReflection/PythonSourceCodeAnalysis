{
 "cells": [
  {
   "metadata": {},
   "cell_type": "markdown",
   "source": [
    "# Vectors BEGINNER\n",
    "\n",
    "Esta tabla contiene la información de las expresiones del tipo vector (Listas, diccionarios, etc) EXPERT.  --> ABEL COMPLETAR <--"
   ],
   "id": "148ae8871134f924"
  },
  {
   "metadata": {},
   "cell_type": "markdown",
   "source": "## 1 - Obtencion de datos",
   "id": "d3c24a719032807f"
  },
  {
   "metadata": {
    "ExecuteTime": {
     "end_time": "2024-05-27T10:50:17.697685Z",
     "start_time": "2024-05-27T10:50:17.348087Z"
    }
   },
   "cell_type": "code",
   "source": [
    "import matplotlib.pyplot as plt\n",
    "from notebooks_utils import *\n",
    "\n",
    "TARGET_FEATURE = 'vector__expertise_level'\n",
    "TARGET_CLASS = 'BEGINNER'\n",
    "full_table = get_data('vectors')\n",
    "\n",
    "instances_for_class_low = len(full_table[full_table[TARGET_FEATURE] == \"BEGINNER\"])\n",
    "instances_for_class_high = len(full_table[full_table[TARGET_FEATURE] == \"EXPERT\"])\n",
    "\n",
    "print(f\"The dataset contains {instances_for_class_low} ({instances_for_class_low/len(full_table)*100:.4}%) instances for BEGINNER class and {instances_for_class_high} ({instances_for_class_high/len(full_table)*100:.4}%) for EXPERT class.\")"
   ],
   "id": "55b875f423ddc6f3",
   "outputs": [
    {
     "name": "stdout",
     "output_type": "stream",
     "text": [
      "2024-05-27 12:50:17.363717 Data cache files found ...\n",
      "2024-05-27 12:50:17.504390 Data cache files successfully loaded!!\n",
      "The dataset contains 120930 (34.83%) instances for BEGINNER class and 226267 (65.17%) for EXPERT class.\n"
     ]
    }
   ],
   "execution_count": 5
  },
  {
   "metadata": {
    "ExecuteTime": {
     "end_time": "2024-05-27T10:50:17.810380Z",
     "start_time": "2024-05-27T10:50:17.697685Z"
    }
   },
   "cell_type": "code",
   "source": [
    "full_table = full_table[full_table[TARGET_FEATURE] == TARGET_CLASS]\n",
    "\n",
    "# Table name, features and target.\n",
    "TABLE_NAME = 'vectors'\n",
    "TABLE_FEATURES = ['vector__category', 'vector__number_of_elements', 'vector__homogeneous']\n",
    "\n",
    "# Load features and target.\n",
    "X = full_table[TABLE_FEATURES]\n",
    "\n",
    "# Print information about the loaded table.\n",
    "print(f'Features shape: {X.shape}')\n",
    "\n",
    "print(f'As we can see the downloaded data contains a total of {X.shape[0]} instances. Each of the instances corresponds to a program. For each program we have {X.shape[1]} attributes.')"
   ],
   "id": "9f0a949e91eb384b",
   "outputs": [
    {
     "name": "stdout",
     "output_type": "stream",
     "text": [
      "Features shape: (120930, 3)\n",
      "As we can see the downloaded data contains a total of 120930 instances. Each of the instances corresponds to a program. For each program we have 3 attributes.\n"
     ]
    }
   ],
   "execution_count": 6
  },
  {
   "metadata": {},
   "cell_type": "markdown",
   "source": [
    "## 2 - Exploracion de datos\n",
    "\n",
    "Una vez tenemos nuestra tabla en un dataframe el siguiente paso es explorarla para ver qué tipo de información contiene."
   ],
   "id": "bcda7cb784bf0a1"
  },
  {
   "metadata": {
    "ExecuteTime": {
     "end_time": "2024-05-27T10:50:17.849992Z",
     "start_time": "2024-05-27T10:50:17.810380Z"
    }
   },
   "cell_type": "code",
   "source": "print(X.info())",
   "id": "2eb3d09993235bcb",
   "outputs": [
    {
     "name": "stdout",
     "output_type": "stream",
     "text": [
      "<class 'pandas.core.frame.DataFrame'>\n",
      "Index: 120930 entries, 0 to 120929\n",
      "Data columns (total 3 columns):\n",
      " #   Column                      Non-Null Count   Dtype \n",
      "---  ------                      --------------   ----- \n",
      " 0   vector__category            120930 non-null  object\n",
      " 1   vector__number_of_elements  120930 non-null  int64 \n",
      " 2   vector__homogeneous         120930 non-null  bool  \n",
      "dtypes: bool(1), int64(1), object(1)\n",
      "memory usage: 2.9+ MB\n",
      "None\n"
     ]
    }
   ],
   "execution_count": 7
  },
  {
   "metadata": {},
   "cell_type": "markdown",
   "source": "Cómo podemos ver la tabla está compuesta por 1 variable numérica, 2 variables boleanas y 1 de tipo objeto. Una de las últimas variables es la etiqueta de la instancia. Sin embargo, en algunas ocasiones estas últimas clases no las vamos a utilizar. Por ejemplo, si queremos obtener clusters por medio de aprendizaje no supervisado.",
   "id": "24f7607501c2e574"
  },
  {
   "metadata": {},
   "cell_type": "markdown",
   "source": [
    "### 2.1 - Duplicados\n",
    "Miramos si la tabla tiene entradas duplicadas."
   ],
   "id": "3b9b55798c7ecbd5"
  },
  {
   "metadata": {
    "ExecuteTime": {
     "end_time": "2024-05-27T10:50:17.979522Z",
     "start_time": "2024-05-27T10:50:17.849992Z"
    }
   },
   "cell_type": "code",
   "source": [
    "number_of_duplicated_entries = sum(full_table.duplicated(subset=TABLE_FEATURES))\n",
    "duplicated_entries_pct = number_of_duplicated_entries / len(full_table) * 100\n",
    "print(f\"The dataset contains [{duplicated_entries_pct:.4}%] of duplicated entries.\")"
   ],
   "id": "ed5e6830bbf484a6",
   "outputs": [
    {
     "name": "stdout",
     "output_type": "stream",
     "text": [
      "The dataset contains [99.82%] of duplicated entries.\n"
     ]
    }
   ],
   "execution_count": 8
  },
  {
   "metadata": {},
   "cell_type": "markdown",
   "source": [
    "### 2.3 - Valores Nulos \n",
    "Miramos si alguna de las variables que contiene la tabla contiene algún valor que sea nulo."
   ],
   "id": "63d4e4ed1d8d2c6c"
  },
  {
   "metadata": {
    "ExecuteTime": {
     "end_time": "2024-05-27T10:50:18.055229Z",
     "start_time": "2024-05-27T10:50:17.979522Z"
    }
   },
   "cell_type": "code",
   "source": "X.isnull().sum()",
   "id": "6c991380e6e0413e",
   "outputs": [
    {
     "data": {
      "text/plain": [
       "vector__category              0\n",
       "vector__number_of_elements    0\n",
       "vector__homogeneous           0\n",
       "dtype: int64"
      ]
     },
     "execution_count": 9,
     "metadata": {},
     "output_type": "execute_result"
    }
   ],
   "execution_count": 9
  },
  {
   "metadata": {
    "ExecuteTime": {
     "end_time": "2024-05-27T10:50:18.099753Z",
     "start_time": "2024-05-27T10:50:18.055229Z"
    }
   },
   "cell_type": "code",
   "source": "print_empty_cols(X)",
   "id": "18b2dfadf1719a4b",
   "outputs": [
    {
     "name": "stdout",
     "output_type": "stream",
     "text": [
      "vector__category\n",
      "----------------\n",
      "0 instancias no tienen un valor para la columna vector__category\n",
      "\n",
      "\n",
      "vector__number_of_elements\n",
      "--------------------------\n",
      "0 instancias no tienen un valor para la columna vector__number_of_elements\n",
      "\n",
      "\n",
      "vector__homogeneous\n",
      "-------------------\n",
      "0 instancias no tienen un valor para la columna vector__homogeneous\n",
      "\n",
      "\n"
     ]
    }
   ],
   "execution_count": 10
  },
  {
   "metadata": {},
   "cell_type": "markdown",
   "source": "### 2.4 - Describimos los valores de las variables de la tabla.",
   "id": "5bb94c0f81c08024"
  },
  {
   "metadata": {
    "ExecuteTime": {
     "end_time": "2024-05-27T10:50:18.222618Z",
     "start_time": "2024-05-27T10:50:18.131017Z"
    }
   },
   "cell_type": "code",
   "source": "np.transpose(X.describe(percentiles=[.25, .50, .75], include = ['object', 'float', 'bool', 'int']))",
   "id": "74bba302a29fbfd5",
   "outputs": [
    {
     "data": {
      "text/plain": [
       "                               count unique           top   freq      mean  \\\n",
       "vector__category              120930      4  TupleLiteral  87817       NaN   \n",
       "vector__number_of_elements  120930.0    NaN           NaN    NaN  6.338386   \n",
       "vector__homogeneous           120930      2         False  90788       NaN   \n",
       "\n",
       "                                  std  min  25%  50%  75%     max  \n",
       "vector__category                  NaN  NaN  NaN  NaN  NaN     NaN  \n",
       "vector__number_of_elements  73.321813  0.0  2.0  2.0  3.0  5376.0  \n",
       "vector__homogeneous               NaN  NaN  NaN  NaN  NaN     NaN  "
      ],
      "text/html": [
       "<div>\n",
       "<style scoped>\n",
       "    .dataframe tbody tr th:only-of-type {\n",
       "        vertical-align: middle;\n",
       "    }\n",
       "\n",
       "    .dataframe tbody tr th {\n",
       "        vertical-align: top;\n",
       "    }\n",
       "\n",
       "    .dataframe thead th {\n",
       "        text-align: right;\n",
       "    }\n",
       "</style>\n",
       "<table border=\"1\" class=\"dataframe\">\n",
       "  <thead>\n",
       "    <tr style=\"text-align: right;\">\n",
       "      <th></th>\n",
       "      <th>count</th>\n",
       "      <th>unique</th>\n",
       "      <th>top</th>\n",
       "      <th>freq</th>\n",
       "      <th>mean</th>\n",
       "      <th>std</th>\n",
       "      <th>min</th>\n",
       "      <th>25%</th>\n",
       "      <th>50%</th>\n",
       "      <th>75%</th>\n",
       "      <th>max</th>\n",
       "    </tr>\n",
       "  </thead>\n",
       "  <tbody>\n",
       "    <tr>\n",
       "      <th>vector__category</th>\n",
       "      <td>120930</td>\n",
       "      <td>4</td>\n",
       "      <td>TupleLiteral</td>\n",
       "      <td>87817</td>\n",
       "      <td>NaN</td>\n",
       "      <td>NaN</td>\n",
       "      <td>NaN</td>\n",
       "      <td>NaN</td>\n",
       "      <td>NaN</td>\n",
       "      <td>NaN</td>\n",
       "      <td>NaN</td>\n",
       "    </tr>\n",
       "    <tr>\n",
       "      <th>vector__number_of_elements</th>\n",
       "      <td>120930.0</td>\n",
       "      <td>NaN</td>\n",
       "      <td>NaN</td>\n",
       "      <td>NaN</td>\n",
       "      <td>6.338386</td>\n",
       "      <td>73.321813</td>\n",
       "      <td>0.0</td>\n",
       "      <td>2.0</td>\n",
       "      <td>2.0</td>\n",
       "      <td>3.0</td>\n",
       "      <td>5376.0</td>\n",
       "    </tr>\n",
       "    <tr>\n",
       "      <th>vector__homogeneous</th>\n",
       "      <td>120930</td>\n",
       "      <td>2</td>\n",
       "      <td>False</td>\n",
       "      <td>90788</td>\n",
       "      <td>NaN</td>\n",
       "      <td>NaN</td>\n",
       "      <td>NaN</td>\n",
       "      <td>NaN</td>\n",
       "      <td>NaN</td>\n",
       "      <td>NaN</td>\n",
       "      <td>NaN</td>\n",
       "    </tr>\n",
       "  </tbody>\n",
       "</table>\n",
       "</div>"
      ]
     },
     "execution_count": 11,
     "metadata": {},
     "output_type": "execute_result"
    }
   ],
   "execution_count": 11
  },
  {
   "metadata": {},
   "cell_type": "markdown",
   "source": "Vamos a discretizar las variables numericas, agrupando conjuntos de valores en categorias, para hacer un análisis de los datos. Para cada variable es necesario ver la distribucion de lo valores para hacer los bins (categorias).",
   "id": "9af3eb59b924a596"
  },
  {
   "metadata": {
    "ExecuteTime": {
     "end_time": "2024-05-27T10:50:18.738219Z",
     "start_time": "2024-05-27T10:50:18.363289Z"
    }
   },
   "cell_type": "code",
   "source": [
    "# DISCRETIZATION\n",
    "X_copy = X.copy()\n",
    "\n",
    "discretized_columns = {\n",
    "    \"vector__number_of_elements\": [(0.0, 2.0), (2.0, 2.0), (2.0, 3.0), (3.0, inf)], # min: 0 ; max: 14519\n",
    "}\n",
    "\n",
    "discretize_columns(X_copy, discretized_columns)\n",
    "    \n",
    "# SINGLE FEATURE\n",
    "print(\"--- SINGLE FEATURE ---\")\n",
    "print(get_statistics(X_copy, ['vector__number_of_elements'], 10))\n",
    "print(get_statistics(full_table, ['vector__category'], 10))\n",
    "print(get_statistics(X_copy, ['vector__homogeneous'], 10))\n",
    "\n",
    "# 2 FEATURES\n",
    "print(\"--- TWO FEATURES ---\")\n",
    "#print(get_statistics(X_copy, ['variable__is_magic', 'variable__name_convention_Discard'], 10))\n",
    "#print(get_statistics(X_copy, ['functiondef__number_of_characters', 'functiondef__name_convention_Lower'], 10))\n",
    "\n",
    "# 3 FEATURES\n",
    "print(\"--- THREE FEATURES ---\")\n",
    "#print(get_statistics(X_copy, ['module__class_defs_pct', 'module__function_defs_pct', 'module__enum_defs_pct'], 10))"
   ],
   "id": "6baf20dd3e3ca759",
   "outputs": [
    {
     "name": "stdout",
     "output_type": "stream",
     "text": [
      "--- SINGLE FEATURE ---\n",
      "vector__number_of_elements  count  percentage\n",
      "                 [3.0_inf]  56154   46.435128\n",
      "                 [2.0_2.0]  45792   37.866534\n",
      "                 [0.0_2.0)  18984   15.698338\n",
      "\n",
      " vector__category  count  percentage\n",
      "     TupleLiteral  87817   72.618043\n",
      "      ListLiteral  23034   19.047383\n",
      "DictionaryLiteral   9678    8.002977\n",
      "       SetLiteral    401    0.331597\n",
      "\n",
      " vector__homogeneous  count  percentage\n",
      "               False  90788   75.074837\n",
      "                True  30142   24.925163\n",
      "\n",
      "--- TWO FEATURES ---\n",
      "--- THREE FEATURES ---\n"
     ]
    }
   ],
   "execution_count": 12
  },
  {
   "metadata": {
    "ExecuteTime": {
     "end_time": "2024-05-27T10:50:18.952896Z",
     "start_time": "2024-05-27T10:50:18.894521Z"
    }
   },
   "cell_type": "code",
   "source": [
    "def normalize_datatypes(X:pd.DataFrame) -> (pd.DataFrame, [str]):\n",
    "    X = pd.get_dummies(X)\n",
    "    X = X.astype('float32')        \n",
    "    columns_names = X.columns.tolist()\n",
    "    return X, columns_names\n",
    "\n",
    "X, TABLE_FEATURES = normalize_datatypes(X)\n",
    "# Print information about the loaded table\n",
    "print(f'Features shape: {X.shape}')"
   ],
   "id": "5084c89dcb377a92",
   "outputs": [
    {
     "name": "stdout",
     "output_type": "stream",
     "text": [
      "Features shape: (120930, 6)\n"
     ]
    }
   ],
   "execution_count": 13
  },
  {
   "metadata": {},
   "cell_type": "markdown",
   "source": "#### Muestra la matriz de correlación de pearson entre las variables de la tabla.",
   "id": "ed8befe21328a079"
  },
  {
   "metadata": {
    "ExecuteTime": {
     "end_time": "2024-05-27T10:50:20.359950Z",
     "start_time": "2024-05-27T10:50:19.112146Z"
    }
   },
   "cell_type": "code",
   "source": "sns.heatmap(X.corr(), annot=True)",
   "id": "dea960d18d682104",
   "outputs": [
    {
     "data": {
      "text/plain": [
       "<Axes: >"
      ]
     },
     "execution_count": 14,
     "metadata": {},
     "output_type": "execute_result"
    },
    {
     "data": {
      "text/plain": [
       "<Figure size 640x480 with 2 Axes>"
      ],
      "image/png": "[encoded data removed]"
     },
     "metadata": {},
     "output_type": "display_data"
    }
   ],
   "execution_count": 14
  },
  {
   "metadata": {},
   "cell_type": "markdown",
   "source": [
    "## 3 - Detección de valores atípicos (outliers)\n",
    "Una vez sabemos qué datos contiene la tabla, analizaremos los valores que toma cada una de las variables de cada instancia. El objetivo es identificar posibles valores atípicos que nos dificulten la realización de futuras tareas. \n",
    "Tras su análisis, se puede concluir que un valor:\n",
    "    - **Es erróneo**. En este caso hay que tomar una decisión para cada caso, siendo los tratamientos más extendidos son listwise, pairwise, drop variables, mean/median imputation, most frequent, separate category, zero imputation, cold deck, hot deck,(stochastic) regression, k-NN and multiple imputation. Los resultados de imputación regresiva, k-NN y múltiple dan buenos resultados, aunque, como se ha indicado, es necesario el estudio en cada caso.\n",
    "    - **Es correcto, pero anómalo**. Se documenta su existencia para su posible discusión y se mantiene en el dataset. En estos casos se hace necesaria la utilización de algoritmos y estadísticos que no sean muy sensibles a dichos valores anómalos.\n",
    "\n",
    "## Univariate\n",
    "Para cada uno de los atributos se debe realizar un análisis y detección de valores atípicos, estudiando su posible causa. \n",
    "Existen diversas formas de calcular los valores anómalos. \n",
    "\n",
    "### Variables numéricas\n",
    "Para las variables numéricas, se suele identificar: \n",
    "    - a) Valor atípico leve es el que está fuera de $[Q1 - 1.5IQR, Q3 + 1.5IQR]$, donde $IQR = Q3-Q1$.\n",
    "    - b) Valor atípico extremo está fuera de $[Q1 - 3IQR, Q3 + 3IQR]$.\n",
    "\n",
    "La idea es probar con a) y si hay pocas instancias analizarlas. Si hubiese muchas, mirar b) y analizar si fuesen pocas. No hay un algoritmo o método estipulado, puesto que depende del dominio del problema y de los datos.\n",
    "\n",
    "Los límites de Tukey se basan en los cuartiles de los datos y son sensibles a la presencia de sesgo en la distribución. Cuando hay asimetría en los datos, los límites de Tukey pueden no ser tan efectivos para identificar outliers de manera equitativa en ambos extremos de la distribución. El Coeficiente de Medcouple es útil para identificar la asimetría en los datos, especialmente en presencia de valores atípicos o sesgados. Es una medida robusta porque no se ve tan afectada por valores extremos como la media y la desviación estándar. El MC puede proporcionar información adicional sobre la asimetría de la distribución, lo que te permite ajustar los límites de Tukey de manera más apropiada para tu conjunto de datos específico. Una posible variacion de los límites de Tukey teniendo en cuenta MC podria ser: \n",
    "   - Si MC es mayor que 0 (asimetría hacia la derecha):\n",
    "      - low = (q1-1.5 * math.exp(-4*mc) * iqr)\n",
    "      - high = (q3+1.5 * math.exp(3.5*mc) * iqr)\n",
    "   - Si la asimetriza es hacia la izquierda:    \n",
    "      - low = (q1-1.5 * math.exp(-3.5*mc) * iqr)\n",
    "      - high = (q3+1.5 * math.exp(4*mc) * iqr)\n",
    "\n",
    "\n",
    "### Variables categóricas\n",
    "Para las variables categóricas no existe el concepto de valor anómalo, pero sí se puede considerar en base a un análisis de frecuencia. Por ejemplo, que el uso de una categoría sea residual, pudiendo tener un 0.1% de instancias en el dataset. Para detectar estos valores, se puede fijar un valor mínimo de frecuencia en función del número posible de valores de la variable categórica (2 en el caso de una variable booleana). Por ejemplo, un umbral de $\\frac{0.2\\%}{valores}$ (0.1% en el caso de una variable booleana)"
   ],
   "id": "599c97eec7b7d283"
  },
  {
   "metadata": {},
   "cell_type": "markdown",
   "source": [
    "## Analisis detallado de variables\n",
    "Para cada una de las 10 variable (3 booleanas, 4 porcentuales y 3 numericas) se hara un analisis detallado "
   ],
   "id": "132c8742057275c"
  },
  {
   "metadata": {},
   "cell_type": "markdown",
   "source": [
    "### Variable homogeneous (1/3)\n",
    "Esta variable es de tipo booleano y representa si todos los elementos de la lista son del mismo tipo."
   ],
   "id": "6abba739e46da213"
  },
  {
   "metadata": {
    "ExecuteTime": {
     "end_time": "2024-05-27T10:50:20.759012Z",
     "start_time": "2024-05-27T10:50:20.359950Z"
    }
   },
   "cell_type": "code",
   "source": [
    "plt.xticks([0, 1], ['False', 'True'])\n",
    "sns.histplot(X['vector__homogeneous'], discrete=True)"
   ],
   "id": "4ab35b2ef94a3379",
   "outputs": [
    {
     "data": {
      "text/plain": [
       "<Axes: xlabel='vector__homogeneous', ylabel='Count'>"
      ]
     },
     "execution_count": 15,
     "metadata": {},
     "output_type": "execute_result"
    },
    {
     "data": {
      "text/plain": [
       "<Figure size 640x480 with 1 Axes>"
      ],
      "image/png": "[encoded data removed]"
     },
     "metadata": {},
     "output_type": "display_data"
    }
   ],
   "execution_count": 15
  },
  {
   "metadata": {
    "ExecuteTime": {
     "end_time": "2024-05-27T10:50:20.783299Z",
     "start_time": "2024-05-27T10:50:20.759012Z"
    }
   },
   "cell_type": "code",
   "source": [
    "num_true_values = len(X[X['vector__homogeneous'] == True])\n",
    "num_false_values = len(X[X['vector__homogeneous'] == False])\n",
    "std = X['vector__homogeneous'].std()\n",
    "freq_true = len(X[X['vector__homogeneous'] == True]) / len(X['vector__homogeneous'])\n",
    "freq_false = len(X[X['vector__homogeneous'] == False]) / len(X['vector__homogeneous'])\n",
    "print(f'La variable homogeneous contiene {num_true_values} valores verdaderos y {num_false_values} valores falsos. Y, la desviación típica es de {std}')\n",
    "print(f'La frecuencia con la que programa puede tener la variable homogeneous a True es {freq_true}.')\n",
    "print(f'La frecuencia con la que programa puede tener la variable homogeneous a False es {freq_false}.')"
   ],
   "id": "f4a042829ae6fac5",
   "outputs": [
    {
     "name": "stdout",
     "output_type": "stream",
     "text": [
      "La variable homogeneous contiene 30142 valores verdaderos y 90788 valores falsos. Y, la desviación típica es de 0.4325815737247467\n",
      "La frecuencia con la que programa puede tener la variable homogeneous a True es 0.24925163317621765.\n",
      "La frecuencia con la que programa puede tener la variable homogeneous a False es 0.7507483668237823.\n"
     ]
    }
   ],
   "execution_count": 16
  },
  {
   "metadata": {
    "ExecuteTime": {
     "end_time": "2024-05-27T10:50:20.798574Z",
     "start_time": "2024-05-27T10:50:20.783299Z"
    }
   },
   "cell_type": "code",
   "source": [
    "possible_values = [True, False]\n",
    "print_frequency_anal_for_cat_var(X, 'vector__homogeneous', possible_values)"
   ],
   "id": "c614dd60d0ab8e5b",
   "outputs": [
    {
     "name": "stdout",
     "output_type": "stream",
     "text": [
      "La variable vector__homogeneous contiene 2 valores distintos.\n",
      "El umbral de outlier es de 0.1%\n",
      "La variable vector__homogeneous toma el valor de 0.0 en un 75.07% de los items.\n",
      "La variable vector__homogeneous toma el valor de 1.0 en un 24.93% de los items.\n"
     ]
    }
   ],
   "execution_count": 17
  },
  {
   "metadata": {
    "ExecuteTime": {
     "end_time": "2024-05-27T10:50:20.855153Z",
     "start_time": "2024-05-27T10:50:20.798574Z"
    }
   },
   "cell_type": "code",
   "source": "X[X['vector__homogeneous'] == True].describe(percentiles=[.25, .50, .75], include = ['object', 'float', 'bool', 'int'])\n",
   "id": "6c33bdd1420008cf",
   "outputs": [
    {
     "data": {
      "text/plain": [
       "       vector__number_of_elements  vector__homogeneous  \\\n",
       "count                30142.000000              30142.0   \n",
       "mean                    15.495223                  1.0   \n",
       "std                    145.738876                  0.0   \n",
       "min                      0.000000                  1.0   \n",
       "25%                      0.000000                  1.0   \n",
       "50%                      2.000000                  1.0   \n",
       "75%                      4.000000                  1.0   \n",
       "max                   5376.000000                  1.0   \n",
       "\n",
       "       vector__category_DictionaryLiteral  vector__category_ListLiteral  \\\n",
       "count                        30142.000000                  30142.000000   \n",
       "mean                             0.202873                      0.517948   \n",
       "std                              0.402145                      0.499686   \n",
       "min                              0.000000                      0.000000   \n",
       "25%                              0.000000                      0.000000   \n",
       "50%                              0.000000                      1.000000   \n",
       "75%                              0.000000                      1.000000   \n",
       "max                              1.000000                      1.000000   \n",
       "\n",
       "       vector__category_SetLiteral  vector__category_TupleLiteral  \n",
       "count                 30142.000000                   30142.000000  \n",
       "mean                      0.010218                       0.268960  \n",
       "std                       0.100569                       0.443427  \n",
       "min                       0.000000                       0.000000  \n",
       "25%                       0.000000                       0.000000  \n",
       "50%                       0.000000                       0.000000  \n",
       "75%                       0.000000                       1.000000  \n",
       "max                       1.000000                       1.000000  "
      ],
      "text/html": [
       "<div>\n",
       "<style scoped>\n",
       "    .dataframe tbody tr th:only-of-type {\n",
       "        vertical-align: middle;\n",
       "    }\n",
       "\n",
       "    .dataframe tbody tr th {\n",
       "        vertical-align: top;\n",
       "    }\n",
       "\n",
       "    .dataframe thead th {\n",
       "        text-align: right;\n",
       "    }\n",
       "</style>\n",
       "<table border=\"1\" class=\"dataframe\">\n",
       "  <thead>\n",
       "    <tr style=\"text-align: right;\">\n",
       "      <th></th>\n",
       "      <th>vector__number_of_elements</th>\n",
       "      <th>vector__homogeneous</th>\n",
       "      <th>vector__category_DictionaryLiteral</th>\n",
       "      <th>vector__category_ListLiteral</th>\n",
       "      <th>vector__category_SetLiteral</th>\n",
       "      <th>vector__category_TupleLiteral</th>\n",
       "    </tr>\n",
       "  </thead>\n",
       "  <tbody>\n",
       "    <tr>\n",
       "      <th>count</th>\n",
       "      <td>30142.000000</td>\n",
       "      <td>30142.0</td>\n",
       "      <td>30142.000000</td>\n",
       "      <td>30142.000000</td>\n",
       "      <td>30142.000000</td>\n",
       "      <td>30142.000000</td>\n",
       "    </tr>\n",
       "    <tr>\n",
       "      <th>mean</th>\n",
       "      <td>15.495223</td>\n",
       "      <td>1.0</td>\n",
       "      <td>0.202873</td>\n",
       "      <td>0.517948</td>\n",
       "      <td>0.010218</td>\n",
       "      <td>0.268960</td>\n",
       "    </tr>\n",
       "    <tr>\n",
       "      <th>std</th>\n",
       "      <td>145.738876</td>\n",
       "      <td>0.0</td>\n",
       "      <td>0.402145</td>\n",
       "      <td>0.499686</td>\n",
       "      <td>0.100569</td>\n",
       "      <td>0.443427</td>\n",
       "    </tr>\n",
       "    <tr>\n",
       "      <th>min</th>\n",
       "      <td>0.000000</td>\n",
       "      <td>1.0</td>\n",
       "      <td>0.000000</td>\n",
       "      <td>0.000000</td>\n",
       "      <td>0.000000</td>\n",
       "      <td>0.000000</td>\n",
       "    </tr>\n",
       "    <tr>\n",
       "      <th>25%</th>\n",
       "      <td>0.000000</td>\n",
       "      <td>1.0</td>\n",
       "      <td>0.000000</td>\n",
       "      <td>0.000000</td>\n",
       "      <td>0.000000</td>\n",
       "      <td>0.000000</td>\n",
       "    </tr>\n",
       "    <tr>\n",
       "      <th>50%</th>\n",
       "      <td>2.000000</td>\n",
       "      <td>1.0</td>\n",
       "      <td>0.000000</td>\n",
       "      <td>1.000000</td>\n",
       "      <td>0.000000</td>\n",
       "      <td>0.000000</td>\n",
       "    </tr>\n",
       "    <tr>\n",
       "      <th>75%</th>\n",
       "      <td>4.000000</td>\n",
       "      <td>1.0</td>\n",
       "      <td>0.000000</td>\n",
       "      <td>1.000000</td>\n",
       "      <td>0.000000</td>\n",
       "      <td>1.000000</td>\n",
       "    </tr>\n",
       "    <tr>\n",
       "      <th>max</th>\n",
       "      <td>5376.000000</td>\n",
       "      <td>1.0</td>\n",
       "      <td>1.000000</td>\n",
       "      <td>1.000000</td>\n",
       "      <td>1.000000</td>\n",
       "      <td>1.000000</td>\n",
       "    </tr>\n",
       "  </tbody>\n",
       "</table>\n",
       "</div>"
      ]
     },
     "execution_count": 18,
     "metadata": {},
     "output_type": "execute_result"
    }
   ],
   "execution_count": 18
  },
  {
   "metadata": {},
   "cell_type": "markdown",
   "source": [
    "### Variable number_of_elements (2/3)\n",
    "Esta variable representa el número de elementos en la lista. Como vimos en la descripción de la tabla esta varibale adopta valores en el rango 0 - 14519. Con una media de 4.406."
   ],
   "id": "119fc307a9194a96"
  },
  {
   "metadata": {
    "ExecuteTime": {
     "end_time": "2024-05-27T10:50:21.845350Z",
     "start_time": "2024-05-27T10:50:20.855153Z"
    }
   },
   "cell_type": "code",
   "source": "sns.stripplot(X['vector__number_of_elements'])",
   "id": "5efd7fbb4f34563d",
   "outputs": [
    {
     "data": {
      "text/plain": [
       "<Axes: ylabel='vector__number_of_elements'>"
      ]
     },
     "execution_count": 19,
     "metadata": {},
     "output_type": "execute_result"
    },
    {
     "data": {
      "text/plain": [
       "<Figure size 640x480 with 1 Axes>"
      ],
      "image/png": "[encoded data removed]"
     },
     "metadata": {},
     "output_type": "display_data"
    }
   ],
   "execution_count": 19
  },
  {
   "metadata": {
    "ExecuteTime": {
     "end_time": "2024-05-27T10:50:21.872185Z",
     "start_time": "2024-05-27T10:50:21.845350Z"
    }
   },
   "cell_type": "code",
   "source": "print_outliers_for_df_column(X, 'vector__number_of_elements')",
   "id": "e5649a2923239004",
   "outputs": [
    {
     "name": "stdout",
     "output_type": "stream",
     "text": [
      "El coeficiente MC (Medcouple Coefficient) de balanceo es: 0.9753949850907153\n",
      "Rango valores atípicos extremos (Tukey): [-1.0,6.0]\n",
      "Rango valores atípicos leves (Tukey): [0.5,4.5]\n",
      "Rango valores atípicos extremos (Fixed BoxPlot): [1.9506302474910897,77.22084558129575]\n",
      "-3.0IQR: 0 instancias tienen un valor para vector__number_of_elements inferior a -1.0 (Q1-3*IQR) para vector__number_of_elements. Representando un 0.0% del total de instancias.\n",
      "-1.5IQR: 12228 instancias tienen un valor para vector__number_of_elements inferior a 0.5 (Q1-1.5*IQR) para vector__number_of_elements. Representando un 10.11% del total de instancias.\n",
      "+1.5IQR: 10198 instancias tienen un valor para vector__number_of_elements superior a 4.5 (Q3+1.5*IQR) para vector__number_of_elements. Representando un 8.433% del total de instancias.\n",
      "+3.0IQR: 7168 instancias tienen un valor para vector__number_of_elements superior a 6.0 (Q3-3*IQR) para vector__number_of_elements. Representando un 5.927% del total de instancias.\n",
      "L: 18984 instancias tienen un valor para vector__number_of_elements inferior a 1.9506302474910897 para vector__number_of_elements. Representando un 15.7% del total de instancias.\n",
      "U: 1266 instancias tienen un valor para vector__number_of_elements superior a 77.22084558129575 para vector__number_of_elements. Representando un 1.047% del total de instancias.\n"
     ]
    }
   ],
   "execution_count": 20
  },
  {
   "metadata": {
    "ExecuteTime": {
     "end_time": "2024-05-27T10:50:21.915056Z",
     "start_time": "2024-05-27T10:50:21.872185Z"
    }
   },
   "cell_type": "code",
   "source": "X[X['vector__number_of_elements'] > 81].describe(percentiles=[.25, .50, .75], include = ['object', 'float', 'bool', 'int'])",
   "id": "5c5e0e6eb4cd173",
   "outputs": [
    {
     "data": {
      "text/plain": [
       "       vector__number_of_elements  vector__homogeneous  \\\n",
       "count                 1260.000000          1260.000000   \n",
       "mean                   235.261108             0.599206   \n",
       "std                    674.550964             0.490254   \n",
       "min                     83.000000             0.000000   \n",
       "25%                     83.000000             0.000000   \n",
       "50%                    100.000000             1.000000   \n",
       "75%                    100.000000             1.000000   \n",
       "max                   5376.000000             1.000000   \n",
       "\n",
       "       vector__category_DictionaryLiteral  vector__category_ListLiteral  \\\n",
       "count                         1260.000000                   1260.000000   \n",
       "mean                             0.090476                      0.395238   \n",
       "std                              0.286977                      0.489096   \n",
       "min                              0.000000                      0.000000   \n",
       "25%                              0.000000                      0.000000   \n",
       "50%                              0.000000                      0.000000   \n",
       "75%                              0.000000                      1.000000   \n",
       "max                              1.000000                      1.000000   \n",
       "\n",
       "       vector__category_SetLiteral  vector__category_TupleLiteral  \n",
       "count                       1260.0                    1260.000000  \n",
       "mean                           0.0                       0.514286  \n",
       "std                            0.0                       0.499994  \n",
       "min                            0.0                       0.000000  \n",
       "25%                            0.0                       0.000000  \n",
       "50%                            0.0                       1.000000  \n",
       "75%                            0.0                       1.000000  \n",
       "max                            0.0                       1.000000  "
      ],
      "text/html": [
       "<div>\n",
       "<style scoped>\n",
       "    .dataframe tbody tr th:only-of-type {\n",
       "        vertical-align: middle;\n",
       "    }\n",
       "\n",
       "    .dataframe tbody tr th {\n",
       "        vertical-align: top;\n",
       "    }\n",
       "\n",
       "    .dataframe thead th {\n",
       "        text-align: right;\n",
       "    }\n",
       "</style>\n",
       "<table border=\"1\" class=\"dataframe\">\n",
       "  <thead>\n",
       "    <tr style=\"text-align: right;\">\n",
       "      <th></th>\n",
       "      <th>vector__number_of_elements</th>\n",
       "      <th>vector__homogeneous</th>\n",
       "      <th>vector__category_DictionaryLiteral</th>\n",
       "      <th>vector__category_ListLiteral</th>\n",
       "      <th>vector__category_SetLiteral</th>\n",
       "      <th>vector__category_TupleLiteral</th>\n",
       "    </tr>\n",
       "  </thead>\n",
       "  <tbody>\n",
       "    <tr>\n",
       "      <th>count</th>\n",
       "      <td>1260.000000</td>\n",
       "      <td>1260.000000</td>\n",
       "      <td>1260.000000</td>\n",
       "      <td>1260.000000</td>\n",
       "      <td>1260.0</td>\n",
       "      <td>1260.000000</td>\n",
       "    </tr>\n",
       "    <tr>\n",
       "      <th>mean</th>\n",
       "      <td>235.261108</td>\n",
       "      <td>0.599206</td>\n",
       "      <td>0.090476</td>\n",
       "      <td>0.395238</td>\n",
       "      <td>0.0</td>\n",
       "      <td>0.514286</td>\n",
       "    </tr>\n",
       "    <tr>\n",
       "      <th>std</th>\n",
       "      <td>674.550964</td>\n",
       "      <td>0.490254</td>\n",
       "      <td>0.286977</td>\n",
       "      <td>0.489096</td>\n",
       "      <td>0.0</td>\n",
       "      <td>0.499994</td>\n",
       "    </tr>\n",
       "    <tr>\n",
       "      <th>min</th>\n",
       "      <td>83.000000</td>\n",
       "      <td>0.000000</td>\n",
       "      <td>0.000000</td>\n",
       "      <td>0.000000</td>\n",
       "      <td>0.0</td>\n",
       "      <td>0.000000</td>\n",
       "    </tr>\n",
       "    <tr>\n",
       "      <th>25%</th>\n",
       "      <td>83.000000</td>\n",
       "      <td>0.000000</td>\n",
       "      <td>0.000000</td>\n",
       "      <td>0.000000</td>\n",
       "      <td>0.0</td>\n",
       "      <td>0.000000</td>\n",
       "    </tr>\n",
       "    <tr>\n",
       "      <th>50%</th>\n",
       "      <td>100.000000</td>\n",
       "      <td>1.000000</td>\n",
       "      <td>0.000000</td>\n",
       "      <td>0.000000</td>\n",
       "      <td>0.0</td>\n",
       "      <td>1.000000</td>\n",
       "    </tr>\n",
       "    <tr>\n",
       "      <th>75%</th>\n",
       "      <td>100.000000</td>\n",
       "      <td>1.000000</td>\n",
       "      <td>0.000000</td>\n",
       "      <td>1.000000</td>\n",
       "      <td>0.0</td>\n",
       "      <td>1.000000</td>\n",
       "    </tr>\n",
       "    <tr>\n",
       "      <th>max</th>\n",
       "      <td>5376.000000</td>\n",
       "      <td>1.000000</td>\n",
       "      <td>1.000000</td>\n",
       "      <td>1.000000</td>\n",
       "      <td>0.0</td>\n",
       "      <td>1.000000</td>\n",
       "    </tr>\n",
       "  </tbody>\n",
       "</table>\n",
       "</div>"
      ]
     },
     "execution_count": 21,
     "metadata": {},
     "output_type": "execute_result"
    }
   ],
   "execution_count": 21
  },
  {
   "metadata": {},
   "cell_type": "markdown",
   "source": [
    "### Variable category (3/3)\n",
    "Esta variable es de tipo categorica y representa el tipo del vector."
   ],
   "id": "2fd1b0439566c6f7"
  },
  {
   "metadata": {
    "ExecuteTime": {
     "end_time": "2024-05-27T10:50:22.871962Z",
     "start_time": "2024-05-27T10:50:21.915056Z"
    }
   },
   "cell_type": "code",
   "source": "sns.catplot(full_table['vector__category'], kind=\"count\")",
   "id": "b504c449a7224091",
   "outputs": [
    {
     "data": {
      "text/plain": [
       "<seaborn.axisgrid.FacetGrid at 0x1d424c89fd0>"
      ]
     },
     "execution_count": 22,
     "metadata": {},
     "output_type": "execute_result"
    },
    {
     "data": {
      "text/plain": [
       "<Figure size 500x500 with 1 Axes>"
      ],
      "image/png": "[encoded data removed]"
     },
     "metadata": {},
     "output_type": "display_data"
    }
   ],
   "execution_count": 22
  },
  {
   "metadata": {
    "ExecuteTime": {
     "end_time": "2024-05-27T10:50:22.962392Z",
     "start_time": "2024-05-27T10:50:22.871962Z"
    }
   },
   "cell_type": "code",
   "source": "print_frequency_anal_for_cat_var(full_table, 'vector__category')",
   "id": "33df6df9ad0487a2",
   "outputs": [
    {
     "name": "stdout",
     "output_type": "stream",
     "text": [
      "La variable vector__category contiene 4 valores distintos.\n",
      "El umbral de outlier es de 0.05%\n",
      "La variable vector__category toma el valor de TupleLiteral en un 72.62% de los items.\n",
      "La variable vector__category toma el valor de ListLiteral en un 19.05% de los items.\n",
      "La variable vector__category toma el valor de DictionaryLiteral en un 8.003% de los items.\n",
      "La variable vector__category toma el valor de SetLiteral en un 0.3316% de los items.\n"
     ]
    }
   ],
   "execution_count": 23
  }
 ],
 "metadata": {
  "kernelspec": {
   "display_name": "Python 3",
   "language": "python",
   "name": "python3"
  },
  "language_info": {
   "codemirror_mode": {
    "name": "ipython",
    "version": 2
   },
   "file_extension": ".py",
   "mimetype": "text/x-python",
   "name": "python",
   "nbconvert_exporter": "python",
   "pygments_lexer": "ipython2",
   "version": "2.7.6"
  }
 },
 "nbformat": 4,
 "nbformat_minor": 5
}
