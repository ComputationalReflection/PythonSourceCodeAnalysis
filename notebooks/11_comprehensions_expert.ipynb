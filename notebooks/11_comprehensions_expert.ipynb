{
 "cells": [
  {
   "metadata": {},
   "cell_type": "markdown",
   "source": [
    "# Comprehensions EXPERT\n",
    "\n",
    "Esta tabla contiene la información de las comprehensiones EXPERT.  --> ABEL COMPLETAR <--"
   ],
   "id": "148ae8871134f924"
  },
  {
   "metadata": {},
   "cell_type": "markdown",
   "source": "## 1 - Obtencion de datos",
   "id": "d3c24a719032807f"
  },
  {
   "metadata": {
    "ExecuteTime": {
     "end_time": "2024-05-27T10:33:49.553714Z",
     "start_time": "2024-05-27T10:33:44.853890Z"
    }
   },
   "cell_type": "code",
   "source": [
    "import matplotlib.pyplot as plt\n",
    "from notebooks_utils import *\n",
    "\n",
    "TARGET_FEATURE = 'comprehension__expertise_level'\n",
    "TARGET_CLASS = 'EXPERT'\n",
    "full_table = get_data('comprehensions')\n",
    "\n",
    "instances_for_class_low = len(full_table[full_table[TARGET_FEATURE] == \"BEGINNER\"])\n",
    "instances_for_class_high = len(full_table[full_table[TARGET_FEATURE] == \"EXPERT\"])\n",
    "\n",
    "print(f\"The dataset contains {instances_for_class_low} ({instances_for_class_low/len(full_table)*100:.4}%) instances for BEGINNER class and {instances_for_class_high} ({instances_for_class_high/len(full_table)*100:.4}%) for EXPERT class.\")"
   ],
   "id": "cbed5a912e7f2ef0",
   "outputs": [
    {
     "name": "stdout",
     "output_type": "stream",
     "text": [
      "2024-05-27 12:33:49.523642 Data cache files found ...\n",
      "2024-05-27 12:33:49.533618 Data cache files successfully loaded!!\n",
      "The dataset contains 4891 (28.09%) instances for BEGINNER class and 12520 (71.91%) for EXPERT class.\n"
     ]
    }
   ],
   "execution_count": 1
  },
  {
   "metadata": {
    "ExecuteTime": {
     "end_time": "2024-05-27T10:33:49.573007Z",
     "start_time": "2024-05-27T10:33:49.553714Z"
    }
   },
   "cell_type": "code",
   "source": [
    "full_table = full_table[full_table[TARGET_FEATURE] == TARGET_CLASS]\n",
    "\n",
    "# Table name, features and target.\n",
    "TABLE_NAME = 'comprehensions'\n",
    "TABLE_FEATURES = ['comprehension__category', 'comprehension__number_of_ifs', 'comprehension__number_of_generators', 'comprehension__is_async']\n",
    "\n",
    "# Load features and target.\n",
    "X = full_table[TABLE_FEATURES]\n",
    "\n",
    "# Print information about the loaded table.\n",
    "print(f'Features shape: {X.shape}')\n",
    "\n",
    "print(f'As we can see the downloaded data contains a total of {X.shape[0]} instances. Each of the instances corresponds to a program. For each program we have {X.shape[1]} attributes.')"
   ],
   "id": "9f0a949e91eb384b",
   "outputs": [
    {
     "name": "stdout",
     "output_type": "stream",
     "text": [
      "Features shape: (12520, 4)\n",
      "As we can see the downloaded data contains a total of 12520 instances. Each of the instances corresponds to a program. For each program we have 4 attributes.\n"
     ]
    }
   ],
   "execution_count": 2
  },
  {
   "metadata": {},
   "cell_type": "markdown",
   "source": [
    "## 2 - Exploracion de datos\n",
    "\n",
    "Una vez tenemos nuestra tabla en un dataframe el siguiente paso es explorarla para ver qué tipo de información contiene."
   ],
   "id": "bcda7cb784bf0a1"
  },
  {
   "metadata": {
    "ExecuteTime": {
     "end_time": "2024-05-27T10:33:49.596252Z",
     "start_time": "2024-05-27T10:33:49.573007Z"
    }
   },
   "cell_type": "code",
   "source": "print(X.info())",
   "id": "2eb3d09993235bcb",
   "outputs": [
    {
     "name": "stdout",
     "output_type": "stream",
     "text": [
      "<class 'pandas.core.frame.DataFrame'>\n",
      "Index: 12520 entries, 4891 to 17410\n",
      "Data columns (total 4 columns):\n",
      " #   Column                               Non-Null Count  Dtype \n",
      "---  ------                               --------------  ----- \n",
      " 0   comprehension__category              12520 non-null  object\n",
      " 1   comprehension__number_of_ifs         12520 non-null  int64 \n",
      " 2   comprehension__number_of_generators  12520 non-null  int64 \n",
      " 3   comprehension__is_async              12520 non-null  bool  \n",
      "dtypes: bool(1), int64(2), object(1)\n",
      "memory usage: 403.5+ KB\n",
      "None\n"
     ]
    }
   ],
   "execution_count": 3
  },
  {
   "metadata": {},
   "cell_type": "markdown",
   "source": "Cómo podemos ver la tabla está compuesta por 2 variables numéricas, 2 boleanas y 2 de tipo objeto.",
   "id": "24f7607501c2e574"
  },
  {
   "metadata": {},
   "cell_type": "markdown",
   "source": [
    "### 2.1 - Duplicados\n",
    "Miramos si la tabla tiene entradas duplicadas."
   ],
   "id": "3b9b55798c7ecbd5"
  },
  {
   "metadata": {
    "ExecuteTime": {
     "end_time": "2024-05-27T10:33:49.616156Z",
     "start_time": "2024-05-27T10:33:49.596252Z"
    }
   },
   "cell_type": "code",
   "source": [
    "number_of_duplicated_entries = sum(full_table.duplicated(subset=TABLE_FEATURES))\n",
    "duplicated_entries_pct = number_of_duplicated_entries / len(full_table) * 100\n",
    "print(f\"The dataset contains [{duplicated_entries_pct:.4}%] of duplicated entries.\")"
   ],
   "id": "ed5e6830bbf484a6",
   "outputs": [
    {
     "name": "stdout",
     "output_type": "stream",
     "text": [
      "The dataset contains [99.85%] of duplicated entries.\n"
     ]
    }
   ],
   "execution_count": 4
  },
  {
   "metadata": {},
   "cell_type": "markdown",
   "source": [
    "### 2.3 - Valores Nulos \n",
    "Miramos si alguna de las variables que contiene la tabla contiene algún valor que sea nulo."
   ],
   "id": "63d4e4ed1d8d2c6c"
  },
  {
   "metadata": {
    "ExecuteTime": {
     "end_time": "2024-05-27T10:33:49.635298Z",
     "start_time": "2024-05-27T10:33:49.616156Z"
    }
   },
   "cell_type": "code",
   "source": "X.isnull().sum()",
   "id": "6c991380e6e0413e",
   "outputs": [
    {
     "data": {
      "text/plain": [
       "comprehension__category                0\n",
       "comprehension__number_of_ifs           0\n",
       "comprehension__number_of_generators    0\n",
       "comprehension__is_async                0\n",
       "dtype: int64"
      ]
     },
     "execution_count": 5,
     "metadata": {},
     "output_type": "execute_result"
    }
   ],
   "execution_count": 5
  },
  {
   "metadata": {
    "ExecuteTime": {
     "end_time": "2024-05-27T10:33:49.650041Z",
     "start_time": "2024-05-27T10:33:49.635298Z"
    }
   },
   "cell_type": "code",
   "source": "print_empty_cols(X)",
   "id": "18b2dfadf1719a4b",
   "outputs": [
    {
     "name": "stdout",
     "output_type": "stream",
     "text": [
      "comprehension__category\n",
      "-----------------------\n",
      "0 instancias no tienen un valor para la columna comprehension__category\n",
      "\n",
      "\n",
      "comprehension__number_of_ifs\n",
      "----------------------------\n",
      "0 instancias no tienen un valor para la columna comprehension__number_of_ifs\n",
      "\n",
      "\n",
      "comprehension__number_of_generators\n",
      "-----------------------------------\n",
      "0 instancias no tienen un valor para la columna comprehension__number_of_generators\n",
      "\n",
      "\n",
      "comprehension__is_async\n",
      "-----------------------\n",
      "0 instancias no tienen un valor para la columna comprehension__is_async\n",
      "\n",
      "\n"
     ]
    }
   ],
   "execution_count": 6
  },
  {
   "metadata": {},
   "cell_type": "markdown",
   "source": "### 2.4 - Describimos los valores de las variables de la tabla.",
   "id": "5bb94c0f81c08024"
  },
  {
   "metadata": {
    "ExecuteTime": {
     "end_time": "2024-05-27T10:33:49.703356Z",
     "start_time": "2024-05-27T10:33:49.650041Z"
    }
   },
   "cell_type": "code",
   "source": "np.transpose(X.describe(percentiles=[.25, .50, .75], include = ['object', 'float', 'bool', 'int']))",
   "id": "74bba302a29fbfd5",
   "outputs": [
    {
     "data": {
      "text/plain": [
       "                                       count unique                top   freq  \\\n",
       "comprehension__category                12520      4  ListComprehension   8807   \n",
       "comprehension__number_of_ifs         12520.0    NaN                NaN    NaN   \n",
       "comprehension__number_of_generators  12520.0    NaN                NaN    NaN   \n",
       "comprehension__is_async                12520      2              False  12508   \n",
       "\n",
       "                                         mean       std  min  25%  50%  75%  \\\n",
       "comprehension__category                   NaN       NaN  NaN  NaN  NaN  NaN   \n",
       "comprehension__number_of_ifs         0.117572  0.322361  0.0  0.0  0.0  0.0   \n",
       "comprehension__number_of_generators  1.013419  0.123112  1.0  1.0  1.0  1.0   \n",
       "comprehension__is_async                   NaN       NaN  NaN  NaN  NaN  NaN   \n",
       "\n",
       "                                     max  \n",
       "comprehension__category              NaN  \n",
       "comprehension__number_of_ifs         2.0  \n",
       "comprehension__number_of_generators  4.0  \n",
       "comprehension__is_async              NaN  "
      ],
      "text/html": [
       "<div>\n",
       "<style scoped>\n",
       "    .dataframe tbody tr th:only-of-type {\n",
       "        vertical-align: middle;\n",
       "    }\n",
       "\n",
       "    .dataframe tbody tr th {\n",
       "        vertical-align: top;\n",
       "    }\n",
       "\n",
       "    .dataframe thead th {\n",
       "        text-align: right;\n",
       "    }\n",
       "</style>\n",
       "<table border=\"1\" class=\"dataframe\">\n",
       "  <thead>\n",
       "    <tr style=\"text-align: right;\">\n",
       "      <th></th>\n",
       "      <th>count</th>\n",
       "      <th>unique</th>\n",
       "      <th>top</th>\n",
       "      <th>freq</th>\n",
       "      <th>mean</th>\n",
       "      <th>std</th>\n",
       "      <th>min</th>\n",
       "      <th>25%</th>\n",
       "      <th>50%</th>\n",
       "      <th>75%</th>\n",
       "      <th>max</th>\n",
       "    </tr>\n",
       "  </thead>\n",
       "  <tbody>\n",
       "    <tr>\n",
       "      <th>comprehension__category</th>\n",
       "      <td>12520</td>\n",
       "      <td>4</td>\n",
       "      <td>ListComprehension</td>\n",
       "      <td>8807</td>\n",
       "      <td>NaN</td>\n",
       "      <td>NaN</td>\n",
       "      <td>NaN</td>\n",
       "      <td>NaN</td>\n",
       "      <td>NaN</td>\n",
       "      <td>NaN</td>\n",
       "      <td>NaN</td>\n",
       "    </tr>\n",
       "    <tr>\n",
       "      <th>comprehension__number_of_ifs</th>\n",
       "      <td>12520.0</td>\n",
       "      <td>NaN</td>\n",
       "      <td>NaN</td>\n",
       "      <td>NaN</td>\n",
       "      <td>0.117572</td>\n",
       "      <td>0.322361</td>\n",
       "      <td>0.0</td>\n",
       "      <td>0.0</td>\n",
       "      <td>0.0</td>\n",
       "      <td>0.0</td>\n",
       "      <td>2.0</td>\n",
       "    </tr>\n",
       "    <tr>\n",
       "      <th>comprehension__number_of_generators</th>\n",
       "      <td>12520.0</td>\n",
       "      <td>NaN</td>\n",
       "      <td>NaN</td>\n",
       "      <td>NaN</td>\n",
       "      <td>1.013419</td>\n",
       "      <td>0.123112</td>\n",
       "      <td>1.0</td>\n",
       "      <td>1.0</td>\n",
       "      <td>1.0</td>\n",
       "      <td>1.0</td>\n",
       "      <td>4.0</td>\n",
       "    </tr>\n",
       "    <tr>\n",
       "      <th>comprehension__is_async</th>\n",
       "      <td>12520</td>\n",
       "      <td>2</td>\n",
       "      <td>False</td>\n",
       "      <td>12508</td>\n",
       "      <td>NaN</td>\n",
       "      <td>NaN</td>\n",
       "      <td>NaN</td>\n",
       "      <td>NaN</td>\n",
       "      <td>NaN</td>\n",
       "      <td>NaN</td>\n",
       "      <td>NaN</td>\n",
       "    </tr>\n",
       "  </tbody>\n",
       "</table>\n",
       "</div>"
      ]
     },
     "execution_count": 7,
     "metadata": {},
     "output_type": "execute_result"
    }
   ],
   "execution_count": 7
  },
  {
   "metadata": {},
   "cell_type": "markdown",
   "source": "Vamos a discretizar las variables numericas, agrupando conjuntos de valores en categorias, para hacer un análisis de los datos. Para cada variable es necesaario ver la distribucion de lo valores para hacer los bins (categorias).",
   "id": "9af3eb59b924a596"
  },
  {
   "metadata": {
    "ExecuteTime": {
     "end_time": "2024-05-27T10:33:49.819532Z",
     "start_time": "2024-05-27T10:33:49.703356Z"
    }
   },
   "cell_type": "code",
   "source": [
    "# DISCRETIZATION\n",
    "X_copy = X.copy()\n",
    "\n",
    "discretized_columns = {\n",
    "    \"comprehension__number_of_ifs\": [(0.0, 0.0), (0.0, inf)],  # min: 0.0 max: 2.0\n",
    "    \"comprehension__number_of_generators\": [(0.0, 1.0), (1.0, 1.0), (1.0, inf)],  # min: 1.0 max: 4.0\n",
    "}\n",
    "\n",
    "discretize_columns(X_copy, discretized_columns)\n",
    "    \n",
    "# SINGLE FEATURE\n",
    "print(\"--- SINGLE FEATURE ---\")\n",
    "print(get_statistics(X_copy, ['comprehension__number_of_ifs'], 10))\n",
    "print(get_statistics(X_copy, ['comprehension__number_of_generators'], 10))\n",
    "print(get_statistics(full_table, ['comprehension__category'], 10))\n",
    "print(get_statistics(X_copy, ['comprehension__is_async'], 10))\n",
    "\n",
    "\n",
    "# 2 FEATURES\n",
    "print(\"--- TWO FEATURES ---\")\n",
    "#print(get_statistics(X_copy, ['module__function_defs_pct', 'module__number_of_classes'], 10))\n",
    "\n",
    "# 3 FEATURES\n",
    "print(\"--- THREE FEATURES ---\")\n",
    "#print(get_statistics(X_copy, ['module__class_defs_pct', 'module__function_defs_pct', 'module__enum_defs_pct'], 10))"
   ],
   "id": "6baf20dd3e3ca759",
   "outputs": [
    {
     "name": "stdout",
     "output_type": "stream",
     "text": [
      "--- SINGLE FEATURE ---\n",
      "comprehension__number_of_ifs  count  percentage\n",
      "                   [0.0_0.0]  11049   88.250799\n",
      "                   [0.0_inf]   1471   11.749201\n",
      "\n",
      "comprehension__number_of_generators  count  percentage\n",
      "                          [1.0_1.0]  12361   98.730032\n",
      "                          [1.0_inf]    159    1.269968\n",
      "\n",
      "comprehension__category  count  percentage\n",
      "      ListComprehension   8807   70.343450\n",
      " GeneratorComprehension   2279   18.202875\n",
      "      DictComprehension   1140    9.105431\n",
      "       SetComprehension    294    2.348243\n",
      "\n",
      " comprehension__is_async  count  percentage\n",
      "                   False  12508   99.904153\n",
      "                    True     12    0.095847\n",
      "\n",
      "--- TWO FEATURES ---\n",
      "--- THREE FEATURES ---\n"
     ]
    }
   ],
   "execution_count": 8
  },
  {
   "metadata": {
    "ExecuteTime": {
     "end_time": "2024-05-27T10:33:49.839522Z",
     "start_time": "2024-05-27T10:33:49.819532Z"
    }
   },
   "cell_type": "code",
   "source": [
    "def normalize_datatypes(X:pd.DataFrame) -> (pd.DataFrame, [str]):\n",
    "    X = pd.get_dummies(X)\n",
    "    X = X.astype('float32')        \n",
    "    columns_names = X.columns.tolist()\n",
    "    return X, columns_names\n",
    "\n",
    "X, TABLE_FEATURES = normalize_datatypes(X)\n",
    "# Print information about the loaded table\n",
    "print(f'Features shape: {X.shape}')"
   ],
   "id": "5084c89dcb377a92",
   "outputs": [
    {
     "name": "stdout",
     "output_type": "stream",
     "text": [
      "Features shape: (12520, 7)\n"
     ]
    }
   ],
   "execution_count": 9
  },
  {
   "metadata": {},
   "cell_type": "markdown",
   "source": "#### Muestra la matriz de correlación de pearson entre las variables de la tabla.",
   "id": "ed8befe21328a079"
  },
  {
   "metadata": {
    "ExecuteTime": {
     "end_time": "2024-05-27T10:33:51.017580Z",
     "start_time": "2024-05-27T10:33:49.839522Z"
    }
   },
   "cell_type": "code",
   "source": "sns.heatmap(X.corr(), annot=True)",
   "id": "dea960d18d682104",
   "outputs": [
    {
     "data": {
      "text/plain": [
       "<Axes: >"
      ]
     },
     "execution_count": 10,
     "metadata": {},
     "output_type": "execute_result"
    },
    {
     "data": {
      "text/plain": [
       "<Figure size 640x480 with 2 Axes>"
      ],
      "image/png": "[encoded data removed]"
     },
     "metadata": {},
     "output_type": "display_data"
    }
   ],
   "execution_count": 10
  },
  {
   "metadata": {},
   "cell_type": "markdown",
   "source": [
    "## 3 - Detección de valores atípicos (outliers)\n",
    "Una vez sabemos qué datos contiene la tabla, analizaremos los valores que toma cada una de las variables de cada instancia. El objetivo es identificar posibles valores atípicos que nos dificulten la realización de futuras tareas. \n",
    "Tras su análisis, se puede concluir que un valor:\n",
    "    - **Es erróneo**. En este caso hay que tomar una decisión para cada caso, siendo los tratamientos más extendidos son listwise, pairwise, drop variables, mean/median imputation, most frequent, separate category, zero imputation, cold deck, hot deck,(stochastic) regression, k-NN and multiple imputation. Los resultados de imputación regresiva, k-NN y múltiple dan buenos resultados, aunque, como se ha indicado, es necesario el estudio en cada caso.\n",
    "    - **Es correcto, pero anómalo**. Se documenta su existencia para su posible discusión y se mantiene en el dataset. En estos casos se hace necesaria la utilización de algoritmos y estadísticos que no sean muy sensibles a dichos valores anómalos.\n",
    "\n",
    "## Univariate\n",
    "Para cada uno de los atributos se debe realizar un análisis y detección de valores atípicos, estudiando su posible causa. \n",
    "Existen diversas formas de calcular los valores anómalos. \n",
    "\n",
    "### Variables numéricas\n",
    "Para las variables numéricas, se suele identificar: \n",
    "    - a) Valor atípico leve es el que está fuera de $[Q1 - 1.5IQR, Q3 + 1.5IQR]$, donde $IQR = Q3-Q1$.\n",
    "    - b) Valor atípico extremo está fuera de $[Q1 - 3IQR, Q3 + 3IQR]$.\n",
    "\n",
    "La idea es probar con a) y si hay pocas instancias analizarlas. Si hubiese muchas, mirar b) y analizar si fuesen pocas. No hay un algoritmo o método estipulado, puesto que depende del dominio del problema y de los datos.\n",
    "\n",
    "Los límites de Tukey se basan en los cuartiles de los datos y son sensibles a la presencia de sesgo en la distribución. Cuando hay asimetría en los datos, los límites de Tukey pueden no ser tan efectivos para identificar outliers de manera equitativa en ambos extremos de la distribución. El Coeficiente de Medcouple es útil para identificar la asimetría en los datos, especialmente en presencia de valores atípicos o sesgados. Es una medida robusta porque no se ve tan afectada por valores extremos como la media y la desviación estándar. El MC puede proporcionar información adicional sobre la asimetría de la distribución, lo que te permite ajustar los límites de Tukey de manera más apropiada para tu conjunto de datos específico. Una posible variacion de los límites de Tukey teniendo en cuenta MC podria ser: \n",
    "   - Si MC es mayor que 0 (asimetría hacia la derecha):\n",
    "      - low = (q1-1.5 * math.exp(-4*mc) * iqr)\n",
    "      - high = (q3+1.5 * math.exp(3.5*mc) * iqr)\n",
    "   - Si la asimetriza es hacia la izquierda:    \n",
    "      - low = (q1-1.5 * math.exp(-3.5*mc) * iqr)\n",
    "      - high = (q3+1.5 * math.exp(4*mc) * iqr)\n",
    "\n",
    "\n",
    "### Variables categóricas\n",
    "Para las variables categóricas no existe el concepto de valor anómalo, pero sí se puede considerar en base a un análisis de frecuencia. Por ejemplo, que el uso de una categoría sea residual, pudiendo tener un 0.1% de instancias en el dataset. Para detectar estos valores, se puede fijar un valor mínimo de frecuencia en función del número posible de valores de la variable categórica (2 en el caso de una variable booleana). Por ejemplo, un umbral de $\\frac{0.2\\%}{valores}$ (0.1% en el caso de una variable booleana)"
   ],
   "id": "599c97eec7b7d283"
  },
  {
   "metadata": {},
   "cell_type": "markdown",
   "source": [
    "## Analisis detallado de variables\n",
    "Para cada una de las 4 variable (1 booleanas, 2 numericas y 1 categóricas) se hara un analisis detallado "
   ],
   "id": "132c8742057275c"
  },
  {
   "metadata": {},
   "cell_type": "markdown",
   "source": [
    "### Variable is_async (1/4)\n",
    "Esta variable es de tipo booleano y representa si la comprehension es asincrona. El primer paso es hacer un análisis visual de como se distribuyen los valores de la variable."
   ],
   "id": "6abba739e46da213"
  },
  {
   "metadata": {
    "ExecuteTime": {
     "end_time": "2024-05-27T10:33:51.362374Z",
     "start_time": "2024-05-27T10:33:51.017580Z"
    }
   },
   "cell_type": "code",
   "source": [
    "plt.xticks([0, 1], ['False', 'True'])\n",
    "sns.histplot(X['comprehension__is_async'], discrete=True)"
   ],
   "id": "4ab35b2ef94a3379",
   "outputs": [
    {
     "data": {
      "text/plain": [
       "<Axes: xlabel='comprehension__is_async', ylabel='Count'>"
      ]
     },
     "execution_count": 11,
     "metadata": {},
     "output_type": "execute_result"
    },
    {
     "data": {
      "text/plain": [
       "<Figure size 640x480 with 1 Axes>"
      ],
      "image/png": "[encoded data removed]"
     },
     "metadata": {},
     "output_type": "display_data"
    }
   ],
   "execution_count": 11
  },
  {
   "metadata": {
    "ExecuteTime": {
     "end_time": "2024-05-27T10:33:51.384304Z",
     "start_time": "2024-05-27T10:33:51.362374Z"
    }
   },
   "cell_type": "code",
   "source": [
    "num_true_values = len(X[X['comprehension__is_async'] == True])\n",
    "num_false_values = len(X[X['comprehension__is_async'] == False])\n",
    "std = X['comprehension__is_async'].std()\n",
    "freq_true = len(X[X['comprehension__is_async'] == True]) / len(X['comprehension__is_async'])\n",
    "freq_false = len(X[X['comprehension__is_async'] == False]) / len(X['comprehension__is_async'])\n",
    "print(f'La variable is_async contiene {num_true_values} valores verdaderos y {num_false_values} valores falsos. Y, la desviación típica es de {std}')\n",
    "print(f'La frecuencia con la que programa puede tener la variable is_async a True es {freq_true}.')\n",
    "print(f'La frecuencia con la que programa puede tener la variable is_async a False es {freq_false}.')"
   ],
   "id": "f4a042829ae6fac5",
   "outputs": [
    {
     "name": "stdout",
     "output_type": "stream",
     "text": [
      "La variable is_async contiene 12 valores verdaderos y 12508 valores falsos. Y, la desviación típica es de 0.03094550594687462\n",
      "La frecuencia con la que programa puede tener la variable is_async a True es 0.0009584664536741214.\n",
      "La frecuencia con la que programa puede tener la variable is_async a False es 0.9990415335463259.\n"
     ]
    }
   ],
   "execution_count": 12
  },
  {
   "metadata": {
    "ExecuteTime": {
     "end_time": "2024-05-27T10:33:51.401098Z",
     "start_time": "2024-05-27T10:33:51.384304Z"
    }
   },
   "cell_type": "code",
   "source": [
    "possible_values = [True, False]\n",
    "print_frequency_anal_for_cat_var(X, 'comprehension__is_async', possible_values)"
   ],
   "id": "c614dd60d0ab8e5b",
   "outputs": [
    {
     "name": "stdout",
     "output_type": "stream",
     "text": [
      "La variable comprehension__is_async contiene 2 valores distintos.\n",
      "El umbral de outlier es de 0.1%\n",
      "La variable comprehension__is_async toma el valor de 0.0 en un 99.9% de los items.\n",
      "La variable comprehension__is_async toma el valor de 1.0 en un 0.09585% de los items. [OUTLIER]\n"
     ]
    }
   ],
   "execution_count": 13
  },
  {
   "metadata": {
    "ExecuteTime": {
     "end_time": "2024-05-27T10:33:51.474264Z",
     "start_time": "2024-05-27T10:33:51.401098Z"
    }
   },
   "cell_type": "code",
   "source": "X[X['comprehension__is_async'] == True].describe(percentiles=[.25, .50, .75], include = ['object', 'float', 'bool', 'int'])\n",
   "id": "6c33bdd1420008cf",
   "outputs": [
    {
     "data": {
      "text/plain": [
       "       comprehension__number_of_ifs  comprehension__number_of_generators  \\\n",
       "count                          12.0                                 12.0   \n",
       "mean                            0.0                                  1.0   \n",
       "std                             0.0                                  0.0   \n",
       "min                             0.0                                  1.0   \n",
       "25%                             0.0                                  1.0   \n",
       "50%                             0.0                                  1.0   \n",
       "75%                             0.0                                  1.0   \n",
       "max                             0.0                                  1.0   \n",
       "\n",
       "       comprehension__is_async  comprehension__category_DictComprehension  \\\n",
       "count                     12.0                                       12.0   \n",
       "mean                       1.0                                        0.0   \n",
       "std                        0.0                                        0.0   \n",
       "min                        1.0                                        0.0   \n",
       "25%                        1.0                                        0.0   \n",
       "50%                        1.0                                        0.0   \n",
       "75%                        1.0                                        0.0   \n",
       "max                        1.0                                        0.0   \n",
       "\n",
       "       comprehension__category_GeneratorComprehension  \\\n",
       "count                                            12.0   \n",
       "mean                                              0.0   \n",
       "std                                               0.0   \n",
       "min                                               0.0   \n",
       "25%                                               0.0   \n",
       "50%                                               0.0   \n",
       "75%                                               0.0   \n",
       "max                                               0.0   \n",
       "\n",
       "       comprehension__category_ListComprehension  \\\n",
       "count                                       12.0   \n",
       "mean                                         1.0   \n",
       "std                                          0.0   \n",
       "min                                          1.0   \n",
       "25%                                          1.0   \n",
       "50%                                          1.0   \n",
       "75%                                          1.0   \n",
       "max                                          1.0   \n",
       "\n",
       "       comprehension__category_SetComprehension  \n",
       "count                                      12.0  \n",
       "mean                                        0.0  \n",
       "std                                         0.0  \n",
       "min                                         0.0  \n",
       "25%                                         0.0  \n",
       "50%                                         0.0  \n",
       "75%                                         0.0  \n",
       "max                                         0.0  "
      ],
      "text/html": [
       "<div>\n",
       "<style scoped>\n",
       "    .dataframe tbody tr th:only-of-type {\n",
       "        vertical-align: middle;\n",
       "    }\n",
       "\n",
       "    .dataframe tbody tr th {\n",
       "        vertical-align: top;\n",
       "    }\n",
       "\n",
       "    .dataframe thead th {\n",
       "        text-align: right;\n",
       "    }\n",
       "</style>\n",
       "<table border=\"1\" class=\"dataframe\">\n",
       "  <thead>\n",
       "    <tr style=\"text-align: right;\">\n",
       "      <th></th>\n",
       "      <th>comprehension__number_of_ifs</th>\n",
       "      <th>comprehension__number_of_generators</th>\n",
       "      <th>comprehension__is_async</th>\n",
       "      <th>comprehension__category_DictComprehension</th>\n",
       "      <th>comprehension__category_GeneratorComprehension</th>\n",
       "      <th>comprehension__category_ListComprehension</th>\n",
       "      <th>comprehension__category_SetComprehension</th>\n",
       "    </tr>\n",
       "  </thead>\n",
       "  <tbody>\n",
       "    <tr>\n",
       "      <th>count</th>\n",
       "      <td>12.0</td>\n",
       "      <td>12.0</td>\n",
       "      <td>12.0</td>\n",
       "      <td>12.0</td>\n",
       "      <td>12.0</td>\n",
       "      <td>12.0</td>\n",
       "      <td>12.0</td>\n",
       "    </tr>\n",
       "    <tr>\n",
       "      <th>mean</th>\n",
       "      <td>0.0</td>\n",
       "      <td>1.0</td>\n",
       "      <td>1.0</td>\n",
       "      <td>0.0</td>\n",
       "      <td>0.0</td>\n",
       "      <td>1.0</td>\n",
       "      <td>0.0</td>\n",
       "    </tr>\n",
       "    <tr>\n",
       "      <th>std</th>\n",
       "      <td>0.0</td>\n",
       "      <td>0.0</td>\n",
       "      <td>0.0</td>\n",
       "      <td>0.0</td>\n",
       "      <td>0.0</td>\n",
       "      <td>0.0</td>\n",
       "      <td>0.0</td>\n",
       "    </tr>\n",
       "    <tr>\n",
       "      <th>min</th>\n",
       "      <td>0.0</td>\n",
       "      <td>1.0</td>\n",
       "      <td>1.0</td>\n",
       "      <td>0.0</td>\n",
       "      <td>0.0</td>\n",
       "      <td>1.0</td>\n",
       "      <td>0.0</td>\n",
       "    </tr>\n",
       "    <tr>\n",
       "      <th>25%</th>\n",
       "      <td>0.0</td>\n",
       "      <td>1.0</td>\n",
       "      <td>1.0</td>\n",
       "      <td>0.0</td>\n",
       "      <td>0.0</td>\n",
       "      <td>1.0</td>\n",
       "      <td>0.0</td>\n",
       "    </tr>\n",
       "    <tr>\n",
       "      <th>50%</th>\n",
       "      <td>0.0</td>\n",
       "      <td>1.0</td>\n",
       "      <td>1.0</td>\n",
       "      <td>0.0</td>\n",
       "      <td>0.0</td>\n",
       "      <td>1.0</td>\n",
       "      <td>0.0</td>\n",
       "    </tr>\n",
       "    <tr>\n",
       "      <th>75%</th>\n",
       "      <td>0.0</td>\n",
       "      <td>1.0</td>\n",
       "      <td>1.0</td>\n",
       "      <td>0.0</td>\n",
       "      <td>0.0</td>\n",
       "      <td>1.0</td>\n",
       "      <td>0.0</td>\n",
       "    </tr>\n",
       "    <tr>\n",
       "      <th>max</th>\n",
       "      <td>0.0</td>\n",
       "      <td>1.0</td>\n",
       "      <td>1.0</td>\n",
       "      <td>0.0</td>\n",
       "      <td>0.0</td>\n",
       "      <td>1.0</td>\n",
       "      <td>0.0</td>\n",
       "    </tr>\n",
       "  </tbody>\n",
       "</table>\n",
       "</div>"
      ]
     },
     "execution_count": 14,
     "metadata": {},
     "output_type": "execute_result"
    }
   ],
   "execution_count": 14
  },
  {
   "metadata": {},
   "cell_type": "markdown",
   "source": "De los pocos comprehension que son asincronas, el 100% es de expertos",
   "id": "e88ac174e3245422"
  },
  {
   "metadata": {},
   "cell_type": "markdown",
   "source": [
    "### Variable number_of_ifs (2/4)\n",
    "Esta variable representa el número de clausulas if en la comprehension. Como vimos en la descripción de la tabla esta varibale adopta valores en el rango 0 - 2. Con una media de 0.155."
   ],
   "id": "119fc307a9194a96"
  },
  {
   "metadata": {
    "ExecuteTime": {
     "end_time": "2024-05-27T10:33:51.929025Z",
     "start_time": "2024-05-27T10:33:51.474264Z"
    }
   },
   "cell_type": "code",
   "source": "sns.stripplot(X['comprehension__number_of_ifs'])",
   "id": "5efd7fbb4f34563d",
   "outputs": [
    {
     "data": {
      "text/plain": [
       "<Axes: ylabel='comprehension__number_of_ifs'>"
      ]
     },
     "execution_count": 15,
     "metadata": {},
     "output_type": "execute_result"
    },
    {
     "data": {
      "text/plain": [
       "<Figure size 640x480 with 1 Axes>"
      ],
      "image/png": "[encoded data removed]"
     },
     "metadata": {},
     "output_type": "display_data"
    }
   ],
   "execution_count": 15
  },
  {
   "metadata": {
    "ExecuteTime": {
     "end_time": "2024-05-27T10:33:51.947001Z",
     "start_time": "2024-05-27T10:33:51.929025Z"
    }
   },
   "cell_type": "code",
   "source": "print_outliers_for_df_column(X, 'comprehension__number_of_ifs')",
   "id": "e5649a2923239004",
   "outputs": [
    {
     "name": "stdout",
     "output_type": "stream",
     "text": [
      "El coeficiente MC (Medcouple Coefficient) de balanceo es: 0.7882465889011218\n",
      "Rango valores atípicos extremos (Tukey): [0.0,0.0]\n",
      "Rango valores atípicos leves (Tukey): [0.0,0.0]\n",
      "Rango valores atípicos extremos (Fixed BoxPlot): [0.0,0.0]\n",
      "-3.0IQR: 0 instancias tienen un valor para comprehension__number_of_ifs inferior a 0.0 (Q1-3*IQR) para comprehension__number_of_ifs. Representando un 0.0% del total de instancias.\n",
      "-1.5IQR: 0 instancias tienen un valor para comprehension__number_of_ifs inferior a 0.0 (Q1-1.5*IQR) para comprehension__number_of_ifs. Representando un 0.0% del total de instancias.\n",
      "+1.5IQR: 1471 instancias tienen un valor para comprehension__number_of_ifs superior a 0.0 (Q3+1.5*IQR) para comprehension__number_of_ifs. Representando un 11.75% del total de instancias.\n",
      "+3.0IQR: 1471 instancias tienen un valor para comprehension__number_of_ifs superior a 0.0 (Q3-3*IQR) para comprehension__number_of_ifs. Representando un 11.75% del total de instancias.\n",
      "L: 0 instancias tienen un valor para comprehension__number_of_ifs inferior a 0.0 para comprehension__number_of_ifs. Representando un 0.0% del total de instancias.\n",
      "U: 1471 instancias tienen un valor para comprehension__number_of_ifs superior a 0.0 para comprehension__number_of_ifs. Representando un 11.75% del total de instancias.\n"
     ]
    }
   ],
   "execution_count": 16
  },
  {
   "metadata": {
    "ExecuteTime": {
     "end_time": "2024-05-27T10:33:51.994140Z",
     "start_time": "2024-05-27T10:33:51.947001Z"
    }
   },
   "cell_type": "code",
   "source": "X[X['comprehension__number_of_ifs'] > 0].describe(percentiles=[.25, .50, .75], include = ['object', 'float', 'bool', 'int'])",
   "id": "5c5e0e6eb4cd173",
   "outputs": [
    {
     "data": {
      "text/plain": [
       "       comprehension__number_of_ifs  comprehension__number_of_generators  \\\n",
       "count                   1471.000000                          1471.000000   \n",
       "mean                       1.000680                             1.011557   \n",
       "std                        0.026073                             0.106916   \n",
       "min                        1.000000                             1.000000   \n",
       "25%                        1.000000                             1.000000   \n",
       "50%                        1.000000                             1.000000   \n",
       "75%                        1.000000                             1.000000   \n",
       "max                        2.000000                             2.000000   \n",
       "\n",
       "       comprehension__is_async  comprehension__category_DictComprehension  \\\n",
       "count                   1471.0                                1471.000000   \n",
       "mean                       0.0                                   0.131883   \n",
       "std                        0.0                                   0.338479   \n",
       "min                        0.0                                   0.000000   \n",
       "25%                        0.0                                   0.000000   \n",
       "50%                        0.0                                   0.000000   \n",
       "75%                        0.0                                   0.000000   \n",
       "max                        0.0                                   1.000000   \n",
       "\n",
       "       comprehension__category_GeneratorComprehension  \\\n",
       "count                                     1471.000000   \n",
       "mean                                         0.136642   \n",
       "std                                          0.343586   \n",
       "min                                          0.000000   \n",
       "25%                                          0.000000   \n",
       "50%                                          0.000000   \n",
       "75%                                          0.000000   \n",
       "max                                          1.000000   \n",
       "\n",
       "       comprehension__category_ListComprehension  \\\n",
       "count                                1471.000000   \n",
       "mean                                    0.683888   \n",
       "std                                     0.465115   \n",
       "min                                     0.000000   \n",
       "25%                                     0.000000   \n",
       "50%                                     1.000000   \n",
       "75%                                     1.000000   \n",
       "max                                     1.000000   \n",
       "\n",
       "       comprehension__category_SetComprehension  \n",
       "count                               1471.000000  \n",
       "mean                                   0.047587  \n",
       "std                                    0.212962  \n",
       "min                                    0.000000  \n",
       "25%                                    0.000000  \n",
       "50%                                    0.000000  \n",
       "75%                                    0.000000  \n",
       "max                                    1.000000  "
      ],
      "text/html": [
       "<div>\n",
       "<style scoped>\n",
       "    .dataframe tbody tr th:only-of-type {\n",
       "        vertical-align: middle;\n",
       "    }\n",
       "\n",
       "    .dataframe tbody tr th {\n",
       "        vertical-align: top;\n",
       "    }\n",
       "\n",
       "    .dataframe thead th {\n",
       "        text-align: right;\n",
       "    }\n",
       "</style>\n",
       "<table border=\"1\" class=\"dataframe\">\n",
       "  <thead>\n",
       "    <tr style=\"text-align: right;\">\n",
       "      <th></th>\n",
       "      <th>comprehension__number_of_ifs</th>\n",
       "      <th>comprehension__number_of_generators</th>\n",
       "      <th>comprehension__is_async</th>\n",
       "      <th>comprehension__category_DictComprehension</th>\n",
       "      <th>comprehension__category_GeneratorComprehension</th>\n",
       "      <th>comprehension__category_ListComprehension</th>\n",
       "      <th>comprehension__category_SetComprehension</th>\n",
       "    </tr>\n",
       "  </thead>\n",
       "  <tbody>\n",
       "    <tr>\n",
       "      <th>count</th>\n",
       "      <td>1471.000000</td>\n",
       "      <td>1471.000000</td>\n",
       "      <td>1471.0</td>\n",
       "      <td>1471.000000</td>\n",
       "      <td>1471.000000</td>\n",
       "      <td>1471.000000</td>\n",
       "      <td>1471.000000</td>\n",
       "    </tr>\n",
       "    <tr>\n",
       "      <th>mean</th>\n",
       "      <td>1.000680</td>\n",
       "      <td>1.011557</td>\n",
       "      <td>0.0</td>\n",
       "      <td>0.131883</td>\n",
       "      <td>0.136642</td>\n",
       "      <td>0.683888</td>\n",
       "      <td>0.047587</td>\n",
       "    </tr>\n",
       "    <tr>\n",
       "      <th>std</th>\n",
       "      <td>0.026073</td>\n",
       "      <td>0.106916</td>\n",
       "      <td>0.0</td>\n",
       "      <td>0.338479</td>\n",
       "      <td>0.343586</td>\n",
       "      <td>0.465115</td>\n",
       "      <td>0.212962</td>\n",
       "    </tr>\n",
       "    <tr>\n",
       "      <th>min</th>\n",
       "      <td>1.000000</td>\n",
       "      <td>1.000000</td>\n",
       "      <td>0.0</td>\n",
       "      <td>0.000000</td>\n",
       "      <td>0.000000</td>\n",
       "      <td>0.000000</td>\n",
       "      <td>0.000000</td>\n",
       "    </tr>\n",
       "    <tr>\n",
       "      <th>25%</th>\n",
       "      <td>1.000000</td>\n",
       "      <td>1.000000</td>\n",
       "      <td>0.0</td>\n",
       "      <td>0.000000</td>\n",
       "      <td>0.000000</td>\n",
       "      <td>0.000000</td>\n",
       "      <td>0.000000</td>\n",
       "    </tr>\n",
       "    <tr>\n",
       "      <th>50%</th>\n",
       "      <td>1.000000</td>\n",
       "      <td>1.000000</td>\n",
       "      <td>0.0</td>\n",
       "      <td>0.000000</td>\n",
       "      <td>0.000000</td>\n",
       "      <td>1.000000</td>\n",
       "      <td>0.000000</td>\n",
       "    </tr>\n",
       "    <tr>\n",
       "      <th>75%</th>\n",
       "      <td>1.000000</td>\n",
       "      <td>1.000000</td>\n",
       "      <td>0.0</td>\n",
       "      <td>0.000000</td>\n",
       "      <td>0.000000</td>\n",
       "      <td>1.000000</td>\n",
       "      <td>0.000000</td>\n",
       "    </tr>\n",
       "    <tr>\n",
       "      <th>max</th>\n",
       "      <td>2.000000</td>\n",
       "      <td>2.000000</td>\n",
       "      <td>0.0</td>\n",
       "      <td>1.000000</td>\n",
       "      <td>1.000000</td>\n",
       "      <td>1.000000</td>\n",
       "      <td>1.000000</td>\n",
       "    </tr>\n",
       "  </tbody>\n",
       "</table>\n",
       "</div>"
      ]
     },
     "execution_count": 17,
     "metadata": {},
     "output_type": "execute_result"
    }
   ],
   "execution_count": 17
  },
  {
   "metadata": {},
   "cell_type": "markdown",
   "source": [
    "### Variable number_of_generators (3/4)\n",
    "Esta variable representa el número generators presentes en la comprehension. Como vimos en la descripción de la tabla esta varibale adopta valores en el rango 1 - 4. Con una media de 1.019."
   ],
   "id": "a92021ee6047bd1d"
  },
  {
   "metadata": {
    "ExecuteTime": {
     "end_time": "2024-05-27T10:33:52.312715Z",
     "start_time": "2024-05-27T10:33:51.994140Z"
    }
   },
   "cell_type": "code",
   "source": "sns.stripplot(X['comprehension__number_of_generators'])",
   "id": "1b8338fdb1c032b5",
   "outputs": [
    {
     "data": {
      "text/plain": [
       "<Axes: ylabel='comprehension__number_of_generators'>"
      ]
     },
     "execution_count": 18,
     "metadata": {},
     "output_type": "execute_result"
    },
    {
     "data": {
      "text/plain": [
       "<Figure size 640x480 with 1 Axes>"
      ],
      "image/png": "[encoded data removed]"
     },
     "metadata": {},
     "output_type": "display_data"
    }
   ],
   "execution_count": 18
  },
  {
   "metadata": {
    "ExecuteTime": {
     "end_time": "2024-05-27T10:33:52.332510Z",
     "start_time": "2024-05-27T10:33:52.312715Z"
    }
   },
   "cell_type": "code",
   "source": "print_outliers_for_df_column(X, 'comprehension__number_of_generators')",
   "id": "3444c461d823515d",
   "outputs": [
    {
     "name": "stdout",
     "output_type": "stream",
     "text": [
      "El coeficiente MC (Medcouple Coefficient) de balanceo es: 1.0\n",
      "Rango valores atípicos extremos (Tukey): [1.0,1.0]\n",
      "Rango valores atípicos leves (Tukey): [1.0,1.0]\n",
      "Rango valores atípicos extremos (Fixed BoxPlot): [1.0,1.0]\n",
      "-3.0IQR: 0 instancias tienen un valor para comprehension__number_of_generators inferior a 1.0 (Q1-3*IQR) para comprehension__number_of_generators. Representando un 0.0% del total de instancias.\n",
      "-1.5IQR: 0 instancias tienen un valor para comprehension__number_of_generators inferior a 1.0 (Q1-1.5*IQR) para comprehension__number_of_generators. Representando un 0.0% del total de instancias.\n",
      "+1.5IQR: 159 instancias tienen un valor para comprehension__number_of_generators superior a 1.0 (Q3+1.5*IQR) para comprehension__number_of_generators. Representando un 1.27% del total de instancias.\n",
      "+3.0IQR: 159 instancias tienen un valor para comprehension__number_of_generators superior a 1.0 (Q3-3*IQR) para comprehension__number_of_generators. Representando un 1.27% del total de instancias.\n",
      "L: 0 instancias tienen un valor para comprehension__number_of_generators inferior a 1.0 para comprehension__number_of_generators. Representando un 0.0% del total de instancias.\n",
      "U: 159 instancias tienen un valor para comprehension__number_of_generators superior a 1.0 para comprehension__number_of_generators. Representando un 1.27% del total de instancias.\n"
     ]
    }
   ],
   "execution_count": 19
  },
  {
   "metadata": {
    "ExecuteTime": {
     "end_time": "2024-05-27T10:33:52.389466Z",
     "start_time": "2024-05-27T10:33:52.332510Z"
    }
   },
   "cell_type": "code",
   "source": "X[X['comprehension__number_of_generators'] > 1].describe(percentiles=[.25, .50, .75], include = ['object', 'float', 'bool', 'int'])",
   "id": "44b1c024f9d465e9",
   "outputs": [
    {
     "data": {
      "text/plain": [
       "       comprehension__number_of_ifs  comprehension__number_of_generators  \\\n",
       "count                    159.000000                           159.000000   \n",
       "mean                       0.106918                             2.056604   \n",
       "std                        0.309986                             0.302841   \n",
       "min                        0.000000                             2.000000   \n",
       "25%                        0.000000                             2.000000   \n",
       "50%                        0.000000                             2.000000   \n",
       "75%                        0.000000                             2.000000   \n",
       "max                        1.000000                             4.000000   \n",
       "\n",
       "       comprehension__is_async  comprehension__category_DictComprehension  \\\n",
       "count                    159.0                                 159.000000   \n",
       "mean                       0.0                                   0.018868   \n",
       "std                        0.0                                   0.136488   \n",
       "min                        0.0                                   0.000000   \n",
       "25%                        0.0                                   0.000000   \n",
       "50%                        0.0                                   0.000000   \n",
       "75%                        0.0                                   0.000000   \n",
       "max                        0.0                                   1.000000   \n",
       "\n",
       "       comprehension__category_GeneratorComprehension  \\\n",
       "count                                      159.000000   \n",
       "mean                                         0.169811   \n",
       "std                                          0.376653   \n",
       "min                                          0.000000   \n",
       "25%                                          0.000000   \n",
       "50%                                          0.000000   \n",
       "75%                                          0.000000   \n",
       "max                                          1.000000   \n",
       "\n",
       "       comprehension__category_ListComprehension  \\\n",
       "count                                 159.000000   \n",
       "mean                                    0.767296   \n",
       "std                                     0.423891   \n",
       "min                                     0.000000   \n",
       "25%                                     1.000000   \n",
       "50%                                     1.000000   \n",
       "75%                                     1.000000   \n",
       "max                                     1.000000   \n",
       "\n",
       "       comprehension__category_SetComprehension  \n",
       "count                                159.000000  \n",
       "mean                                   0.044025  \n",
       "std                                    0.205799  \n",
       "min                                    0.000000  \n",
       "25%                                    0.000000  \n",
       "50%                                    0.000000  \n",
       "75%                                    0.000000  \n",
       "max                                    1.000000  "
      ],
      "text/html": [
       "<div>\n",
       "<style scoped>\n",
       "    .dataframe tbody tr th:only-of-type {\n",
       "        vertical-align: middle;\n",
       "    }\n",
       "\n",
       "    .dataframe tbody tr th {\n",
       "        vertical-align: top;\n",
       "    }\n",
       "\n",
       "    .dataframe thead th {\n",
       "        text-align: right;\n",
       "    }\n",
       "</style>\n",
       "<table border=\"1\" class=\"dataframe\">\n",
       "  <thead>\n",
       "    <tr style=\"text-align: right;\">\n",
       "      <th></th>\n",
       "      <th>comprehension__number_of_ifs</th>\n",
       "      <th>comprehension__number_of_generators</th>\n",
       "      <th>comprehension__is_async</th>\n",
       "      <th>comprehension__category_DictComprehension</th>\n",
       "      <th>comprehension__category_GeneratorComprehension</th>\n",
       "      <th>comprehension__category_ListComprehension</th>\n",
       "      <th>comprehension__category_SetComprehension</th>\n",
       "    </tr>\n",
       "  </thead>\n",
       "  <tbody>\n",
       "    <tr>\n",
       "      <th>count</th>\n",
       "      <td>159.000000</td>\n",
       "      <td>159.000000</td>\n",
       "      <td>159.0</td>\n",
       "      <td>159.000000</td>\n",
       "      <td>159.000000</td>\n",
       "      <td>159.000000</td>\n",
       "      <td>159.000000</td>\n",
       "    </tr>\n",
       "    <tr>\n",
       "      <th>mean</th>\n",
       "      <td>0.106918</td>\n",
       "      <td>2.056604</td>\n",
       "      <td>0.0</td>\n",
       "      <td>0.018868</td>\n",
       "      <td>0.169811</td>\n",
       "      <td>0.767296</td>\n",
       "      <td>0.044025</td>\n",
       "    </tr>\n",
       "    <tr>\n",
       "      <th>std</th>\n",
       "      <td>0.309986</td>\n",
       "      <td>0.302841</td>\n",
       "      <td>0.0</td>\n",
       "      <td>0.136488</td>\n",
       "      <td>0.376653</td>\n",
       "      <td>0.423891</td>\n",
       "      <td>0.205799</td>\n",
       "    </tr>\n",
       "    <tr>\n",
       "      <th>min</th>\n",
       "      <td>0.000000</td>\n",
       "      <td>2.000000</td>\n",
       "      <td>0.0</td>\n",
       "      <td>0.000000</td>\n",
       "      <td>0.000000</td>\n",
       "      <td>0.000000</td>\n",
       "      <td>0.000000</td>\n",
       "    </tr>\n",
       "    <tr>\n",
       "      <th>25%</th>\n",
       "      <td>0.000000</td>\n",
       "      <td>2.000000</td>\n",
       "      <td>0.0</td>\n",
       "      <td>0.000000</td>\n",
       "      <td>0.000000</td>\n",
       "      <td>1.000000</td>\n",
       "      <td>0.000000</td>\n",
       "    </tr>\n",
       "    <tr>\n",
       "      <th>50%</th>\n",
       "      <td>0.000000</td>\n",
       "      <td>2.000000</td>\n",
       "      <td>0.0</td>\n",
       "      <td>0.000000</td>\n",
       "      <td>0.000000</td>\n",
       "      <td>1.000000</td>\n",
       "      <td>0.000000</td>\n",
       "    </tr>\n",
       "    <tr>\n",
       "      <th>75%</th>\n",
       "      <td>0.000000</td>\n",
       "      <td>2.000000</td>\n",
       "      <td>0.0</td>\n",
       "      <td>0.000000</td>\n",
       "      <td>0.000000</td>\n",
       "      <td>1.000000</td>\n",
       "      <td>0.000000</td>\n",
       "    </tr>\n",
       "    <tr>\n",
       "      <th>max</th>\n",
       "      <td>1.000000</td>\n",
       "      <td>4.000000</td>\n",
       "      <td>0.0</td>\n",
       "      <td>1.000000</td>\n",
       "      <td>1.000000</td>\n",
       "      <td>1.000000</td>\n",
       "      <td>1.000000</td>\n",
       "    </tr>\n",
       "  </tbody>\n",
       "</table>\n",
       "</div>"
      ]
     },
     "execution_count": 20,
     "metadata": {},
     "output_type": "execute_result"
    }
   ],
   "execution_count": 20
  },
  {
   "metadata": {},
   "cell_type": "markdown",
   "source": [
    "### Variable category (4/4)\n",
    "Esta variable es de tipo categórica y representa el tipo de comprehension."
   ],
   "id": "3237adcf6d852d54"
  },
  {
   "metadata": {
    "ExecuteTime": {
     "end_time": "2024-05-27T10:33:52.804886Z",
     "start_time": "2024-05-27T10:33:52.389466Z"
    }
   },
   "cell_type": "code",
   "source": "sns.catplot(full_table['comprehension__category'], kind=\"count\")",
   "id": "299706e14d9a3f2",
   "outputs": [
    {
     "data": {
      "text/plain": [
       "<seaborn.axisgrid.FacetGrid at 0x10573603d70>"
      ]
     },
     "execution_count": 21,
     "metadata": {},
     "output_type": "execute_result"
    },
    {
     "data": {
      "text/plain": [
       "<Figure size 500x500 with 1 Axes>"
      ],
      "image/png": "[encoded data removed]"
     },
     "metadata": {},
     "output_type": "display_data"
    }
   ],
   "execution_count": 21
  },
  {
   "metadata": {
    "ExecuteTime": {
     "end_time": "2024-05-27T10:33:52.826115Z",
     "start_time": "2024-05-27T10:33:52.804886Z"
    }
   },
   "cell_type": "code",
   "source": "print_frequency_anal_for_cat_var(full_table, 'comprehension__category')",
   "id": "f4253192e2301909",
   "outputs": [
    {
     "name": "stdout",
     "output_type": "stream",
     "text": [
      "La variable comprehension__category contiene 4 valores distintos.\n",
      "El umbral de outlier es de 0.05%\n",
      "La variable comprehension__category toma el valor de ListComprehension en un 70.34% de los items.\n",
      "La variable comprehension__category toma el valor de GeneratorComprehension en un 18.2% de los items.\n",
      "La variable comprehension__category toma el valor de DictComprehension en un 9.105% de los items.\n",
      "La variable comprehension__category toma el valor de SetComprehension en un 2.348% de los items.\n"
     ]
    }
   ],
   "execution_count": 22
  }
 ],
 "metadata": {
  "kernelspec": {
   "display_name": "Python 3",
   "language": "python",
   "name": "python3"
  },
  "language_info": {
   "codemirror_mode": {
    "name": "ipython",
    "version": 2
   },
   "file_extension": ".py",
   "mimetype": "text/x-python",
   "name": "python",
   "nbconvert_exporter": "python",
   "pygments_lexer": "ipython2",
   "version": "2.7.6"
  }
 },
 "nbformat": 4,
 "nbformat_minor": 5
}
