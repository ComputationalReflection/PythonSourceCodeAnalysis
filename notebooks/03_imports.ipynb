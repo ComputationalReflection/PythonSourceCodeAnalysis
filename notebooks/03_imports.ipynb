{
 "cells": [
  {
   "cell_type": "markdown",
   "id": "ea78b212-ff32-40d1-92e1-9e09d847ae78",
   "metadata": {
    "pycharm": {
     "name": "#%% md\n"
    }
   },
   "source": [
    "# Imports\n",
    "\n",
    "Esta tabla contiene la información de los imports a nivel de fichero (módulo)."
   ]
  },
  {
   "cell_type": "markdown",
   "id": "b862cb2f-c1e0-4074-92c0-004dea379079",
   "metadata": {
    "pycharm": {
     "name": "#%% md\n"
    }
   },
   "source": [
    "## 1 - Obtencion de datos"
   ]
  },
  {
   "cell_type": "code",
   "id": "63793d9c-9473-44fa-bb1d-8e4b32fa1457",
   "metadata": {
    "pycharm": {
     "name": "#%%\n"
    },
    "tags": [],
    "ExecuteTime": {
     "end_time": "2024-07-03T20:37:03.522573Z",
     "start_time": "2024-07-03T20:37:00.280472Z"
    }
   },
   "source": [
    "import matplotlib.pyplot as plt\n",
    "from notebooks_utils import *\n",
    "\n",
    "full_table = get_data('imports')\n",
    "\n",
    "# Table name, features and target.\n",
    "TABLE_NAME = 'imports'\n",
    "TABLE_FEATURES = ['import__number_imports', 'import__module_imports_pct', 'import__average_imported_modules', 'import__from_imports_pct', 'import__average_from_imported_modules', 'import__average_as_in_imported_modules', 'import__local_imports_pct', 'import__expertise_level']\n",
    "TABLE_TARGET = 'import__expertise_level'\n",
    "\n",
    "# Load features and target.\n",
    "X, y = full_table[TABLE_FEATURES], full_table[[TABLE_TARGET]].iloc[:,0]\n",
    "\n",
    "# Print information about the loaded table.\n",
    "print(f'Features shape: {X.shape}')\n",
    "print(f'Target shape: {y.shape}')\n",
    "\n",
    "print(f'As we can see the downloaded data contains a total of {X.shape[0]} instances. Each of the instances corresponds to a program. For each program we have {X.shape[1]} attributes.')"
   ],
   "outputs": [
    {
     "name": "stdout",
     "output_type": "stream",
     "text": [
      "2024-07-03 22:37:03.500890 Data cache files found ...\n",
      "2024-07-03 22:37:03.514478 Data cache files successfully loaded!!\n",
      "Features shape: (18226, 8)\n",
      "Target shape: (18226,)\n",
      "As we can see the downloaded data contains a total of 18226 instances. Each of the instances corresponds to a program. For each program we have 8 attributes.\n"
     ]
    }
   ],
   "execution_count": 1
  },
  {
   "cell_type": "markdown",
   "id": "3ff70454-366f-4231-831d-723eeb63576b",
   "metadata": {},
   "source": [
    "## 2 - Exploracion de datos\n",
    "\n",
    "Una vez tenemos nuestra tabla en un dataframe el siguiente paso es explorarla para ver qué tipo de información contiene."
   ]
  },
  {
   "cell_type": "code",
   "id": "9b526577-537d-44b0-951b-168278ce7a5c",
   "metadata": {
    "ExecuteTime": {
     "end_time": "2024-07-03T20:37:03.547663Z",
     "start_time": "2024-07-03T20:37:03.524582Z"
    }
   },
   "source": [
    "print(X.info())\n",
    "print('=============')\n",
    "print(y.info())"
   ],
   "outputs": [
    {
     "name": "stdout",
     "output_type": "stream",
     "text": [
      "<class 'pandas.core.frame.DataFrame'>\n",
      "RangeIndex: 18226 entries, 0 to 18225\n",
      "Data columns (total 8 columns):\n",
      " #   Column                                  Non-Null Count  Dtype  \n",
      "---  ------                                  --------------  -----  \n",
      " 0   import__number_imports                  18226 non-null  int64  \n",
      " 1   import__module_imports_pct              18226 non-null  float64\n",
      " 2   import__average_imported_modules        18226 non-null  float64\n",
      " 3   import__from_imports_pct                18226 non-null  float64\n",
      " 4   import__average_from_imported_modules   18226 non-null  float64\n",
      " 5   import__average_as_in_imported_modules  18226 non-null  float64\n",
      " 6   import__local_imports_pct               18226 non-null  float64\n",
      " 7   import__expertise_level                 18226 non-null  object \n",
      "dtypes: float64(6), int64(1), object(1)\n",
      "memory usage: 1.1+ MB\n",
      "None\n",
      "=============\n",
      "<class 'pandas.core.series.Series'>\n",
      "RangeIndex: 18226 entries, 0 to 18225\n",
      "Series name: import__expertise_level\n",
      "Non-Null Count  Dtype \n",
      "--------------  ----- \n",
      "18226 non-null  object\n",
      "dtypes: object(1)\n",
      "memory usage: 142.5+ KB\n",
      "None\n"
     ]
    }
   ],
   "execution_count": 2
  },
  {
   "cell_type": "markdown",
   "id": "cbf77cd4-9819-4da1-9405-44054d2290e1",
   "metadata": {},
   "source": "Cómo podemos ver la tabla está compuesta por 7 variables numéricas y una de tipo objeto. "
  },
  {
   "cell_type": "markdown",
   "id": "bf53eef1e9c5c37d",
   "metadata": {
    "collapsed": false
   },
   "source": "### 2.1 - Equilibrado de clases"
  },
  {
   "cell_type": "code",
   "id": "61c1409f-9146-467e-bad9-b68774fdd903",
   "metadata": {
    "ExecuteTime": {
     "end_time": "2024-07-03T20:37:03.565191Z",
     "start_time": "2024-07-03T20:37:03.549676Z"
    }
   },
   "source": [
    "instances_for_class_low = len(full_table[full_table[TABLE_TARGET] == \"BEGINNER\"])\n",
    "instances_for_class_high = len(full_table[full_table[TABLE_TARGET] == \"EXPERT\"])\n",
    "\n",
    "print(f\"The dataset contains {instances_for_class_low/len(full_table)*100:.4}% instances for BEGINNER class and {instances_for_class_high/len(full_table)*100:.4}% for EXPERT class.\")"
   ],
   "outputs": [
    {
     "name": "stdout",
     "output_type": "stream",
     "text": [
      "The dataset contains 39.09% instances for BEGINNER class and 60.91% for EXPERT class.\n"
     ]
    }
   ],
   "execution_count": 3
  },
  {
   "cell_type": "markdown",
   "id": "31d297c18f157194",
   "metadata": {
    "collapsed": false
   },
   "source": [
    "### 2.2 - Valores Nulos \n",
    "Miramos si alguna de las variables que contiene la tabla contiene algún valor que sea nulo."
   ]
  },
  {
   "cell_type": "code",
   "id": "afeed2ce9080cbbb",
   "metadata": {
    "collapsed": false,
    "ExecuteTime": {
     "end_time": "2024-07-03T20:37:03.580317Z",
     "start_time": "2024-07-03T20:37:03.567199Z"
    }
   },
   "source": [
    "X.isnull().sum()"
   ],
   "outputs": [
    {
     "data": {
      "text/plain": [
       "import__number_imports                    0\n",
       "import__module_imports_pct                0\n",
       "import__average_imported_modules          0\n",
       "import__from_imports_pct                  0\n",
       "import__average_from_imported_modules     0\n",
       "import__average_as_in_imported_modules    0\n",
       "import__local_imports_pct                 0\n",
       "import__expertise_level                   0\n",
       "dtype: int64"
      ]
     },
     "execution_count": 4,
     "metadata": {},
     "output_type": "execute_result"
    }
   ],
   "execution_count": 4
  },
  {
   "cell_type": "markdown",
   "id": "1a8e02c0c52edff9",
   "metadata": {
    "collapsed": false
   },
   "source": "Aunque una columna no contenga valores nulos podría ser que contenga valores vacíos."
  },
  {
   "cell_type": "code",
   "id": "73b9dc2f9efc111a",
   "metadata": {
    "collapsed": false,
    "ExecuteTime": {
     "end_time": "2024-07-03T20:37:03.596573Z",
     "start_time": "2024-07-03T20:37:03.584349Z"
    }
   },
   "source": [
    "print_empty_cols(X)"
   ],
   "outputs": [
    {
     "name": "stdout",
     "output_type": "stream",
     "text": [
      "import__number_imports\n",
      "----------------------\n",
      "0 instancias no tienen un valor para la columna import__number_imports\n",
      "\n",
      "\n",
      "import__module_imports_pct\n",
      "--------------------------\n",
      "0 instancias no tienen un valor para la columna import__module_imports_pct\n",
      "\n",
      "\n",
      "import__average_imported_modules\n",
      "--------------------------------\n",
      "0 instancias no tienen un valor para la columna import__average_imported_modules\n",
      "\n",
      "\n",
      "import__from_imports_pct\n",
      "------------------------\n",
      "0 instancias no tienen un valor para la columna import__from_imports_pct\n",
      "\n",
      "\n",
      "import__average_from_imported_modules\n",
      "-------------------------------------\n",
      "0 instancias no tienen un valor para la columna import__average_from_imported_modules\n",
      "\n",
      "\n",
      "import__average_as_in_imported_modules\n",
      "--------------------------------------\n",
      "0 instancias no tienen un valor para la columna import__average_as_in_imported_modules\n",
      "\n",
      "\n",
      "import__local_imports_pct\n",
      "-------------------------\n",
      "0 instancias no tienen un valor para la columna import__local_imports_pct\n",
      "\n",
      "\n",
      "import__expertise_level\n",
      "-----------------------\n",
      "0 instancias no tienen un valor para la columna import__expertise_level\n",
      "\n",
      "\n"
     ]
    }
   ],
   "execution_count": 5
  },
  {
   "cell_type": "markdown",
   "id": "105774ea722bf467",
   "metadata": {
    "collapsed": false
   },
   "source": "### 2.3 - Describimos los valores de las variables de la tabla."
  },
  {
   "cell_type": "code",
   "id": "d3be1e5cec1af46c",
   "metadata": {
    "collapsed": false,
    "ExecuteTime": {
     "end_time": "2024-07-03T20:37:03.649469Z",
     "start_time": "2024-07-03T20:37:03.597620Z"
    }
   },
   "source": [
    "np.transpose(X.describe(percentiles=[.25, .50, .75], include = ['object', 'float', 'bool', 'int']))"
   ],
   "outputs": [
    {
     "data": {
      "text/plain": [
       "                                          count unique     top   freq  \\\n",
       "import__number_imports                  18226.0    NaN     NaN    NaN   \n",
       "import__module_imports_pct              18226.0    NaN     NaN    NaN   \n",
       "import__average_imported_modules        18226.0    NaN     NaN    NaN   \n",
       "import__from_imports_pct                18226.0    NaN     NaN    NaN   \n",
       "import__average_from_imported_modules   18226.0    NaN     NaN    NaN   \n",
       "import__average_as_in_imported_modules  18226.0    NaN     NaN    NaN   \n",
       "import__local_imports_pct               18226.0    NaN     NaN    NaN   \n",
       "import__expertise_level                   18226      2  EXPERT  11102   \n",
       "\n",
       "                                            mean       std  min  25%  \\\n",
       "import__number_imports                   5.11511  6.357362  0.0  1.0   \n",
       "import__module_imports_pct              0.294875  0.341658  0.0  0.0   \n",
       "import__average_imported_modules         0.58061  0.535705  0.0  0.0   \n",
       "import__from_imports_pct                0.523187  0.397833  0.0  0.0   \n",
       "import__average_from_imported_modules   1.125814  1.077512  0.0  0.0   \n",
       "import__average_as_in_imported_modules  0.015271  0.083632  0.0  0.0   \n",
       "import__local_imports_pct               0.596601   0.48646  0.0  0.0   \n",
       "import__expertise_level                      NaN       NaN  NaN  NaN   \n",
       "\n",
       "                                             50%       75%    max  \n",
       "import__number_imports                       3.0       7.0  194.0  \n",
       "import__module_imports_pct              0.166667       0.5    1.0  \n",
       "import__average_imported_modules             1.0       1.0    8.5  \n",
       "import__from_imports_pct                0.583333       1.0    1.0  \n",
       "import__average_from_imported_modules        1.0  1.571428   23.0  \n",
       "import__average_as_in_imported_modules       0.0       0.0    1.0  \n",
       "import__local_imports_pct                    1.0       1.0    1.0  \n",
       "import__expertise_level                      NaN       NaN    NaN  "
      ],
      "text/html": [
       "<div>\n",
       "<style scoped>\n",
       "    .dataframe tbody tr th:only-of-type {\n",
       "        vertical-align: middle;\n",
       "    }\n",
       "\n",
       "    .dataframe tbody tr th {\n",
       "        vertical-align: top;\n",
       "    }\n",
       "\n",
       "    .dataframe thead th {\n",
       "        text-align: right;\n",
       "    }\n",
       "</style>\n",
       "<table border=\"1\" class=\"dataframe\">\n",
       "  <thead>\n",
       "    <tr style=\"text-align: right;\">\n",
       "      <th></th>\n",
       "      <th>count</th>\n",
       "      <th>unique</th>\n",
       "      <th>top</th>\n",
       "      <th>freq</th>\n",
       "      <th>mean</th>\n",
       "      <th>std</th>\n",
       "      <th>min</th>\n",
       "      <th>25%</th>\n",
       "      <th>50%</th>\n",
       "      <th>75%</th>\n",
       "      <th>max</th>\n",
       "    </tr>\n",
       "  </thead>\n",
       "  <tbody>\n",
       "    <tr>\n",
       "      <th>import__number_imports</th>\n",
       "      <td>18226.0</td>\n",
       "      <td>NaN</td>\n",
       "      <td>NaN</td>\n",
       "      <td>NaN</td>\n",
       "      <td>5.11511</td>\n",
       "      <td>6.357362</td>\n",
       "      <td>0.0</td>\n",
       "      <td>1.0</td>\n",
       "      <td>3.0</td>\n",
       "      <td>7.0</td>\n",
       "      <td>194.0</td>\n",
       "    </tr>\n",
       "    <tr>\n",
       "      <th>import__module_imports_pct</th>\n",
       "      <td>18226.0</td>\n",
       "      <td>NaN</td>\n",
       "      <td>NaN</td>\n",
       "      <td>NaN</td>\n",
       "      <td>0.294875</td>\n",
       "      <td>0.341658</td>\n",
       "      <td>0.0</td>\n",
       "      <td>0.0</td>\n",
       "      <td>0.166667</td>\n",
       "      <td>0.5</td>\n",
       "      <td>1.0</td>\n",
       "    </tr>\n",
       "    <tr>\n",
       "      <th>import__average_imported_modules</th>\n",
       "      <td>18226.0</td>\n",
       "      <td>NaN</td>\n",
       "      <td>NaN</td>\n",
       "      <td>NaN</td>\n",
       "      <td>0.58061</td>\n",
       "      <td>0.535705</td>\n",
       "      <td>0.0</td>\n",
       "      <td>0.0</td>\n",
       "      <td>1.0</td>\n",
       "      <td>1.0</td>\n",
       "      <td>8.5</td>\n",
       "    </tr>\n",
       "    <tr>\n",
       "      <th>import__from_imports_pct</th>\n",
       "      <td>18226.0</td>\n",
       "      <td>NaN</td>\n",
       "      <td>NaN</td>\n",
       "      <td>NaN</td>\n",
       "      <td>0.523187</td>\n",
       "      <td>0.397833</td>\n",
       "      <td>0.0</td>\n",
       "      <td>0.0</td>\n",
       "      <td>0.583333</td>\n",
       "      <td>1.0</td>\n",
       "      <td>1.0</td>\n",
       "    </tr>\n",
       "    <tr>\n",
       "      <th>import__average_from_imported_modules</th>\n",
       "      <td>18226.0</td>\n",
       "      <td>NaN</td>\n",
       "      <td>NaN</td>\n",
       "      <td>NaN</td>\n",
       "      <td>1.125814</td>\n",
       "      <td>1.077512</td>\n",
       "      <td>0.0</td>\n",
       "      <td>0.0</td>\n",
       "      <td>1.0</td>\n",
       "      <td>1.571428</td>\n",
       "      <td>23.0</td>\n",
       "    </tr>\n",
       "    <tr>\n",
       "      <th>import__average_as_in_imported_modules</th>\n",
       "      <td>18226.0</td>\n",
       "      <td>NaN</td>\n",
       "      <td>NaN</td>\n",
       "      <td>NaN</td>\n",
       "      <td>0.015271</td>\n",
       "      <td>0.083632</td>\n",
       "      <td>0.0</td>\n",
       "      <td>0.0</td>\n",
       "      <td>0.0</td>\n",
       "      <td>0.0</td>\n",
       "      <td>1.0</td>\n",
       "    </tr>\n",
       "    <tr>\n",
       "      <th>import__local_imports_pct</th>\n",
       "      <td>18226.0</td>\n",
       "      <td>NaN</td>\n",
       "      <td>NaN</td>\n",
       "      <td>NaN</td>\n",
       "      <td>0.596601</td>\n",
       "      <td>0.48646</td>\n",
       "      <td>0.0</td>\n",
       "      <td>0.0</td>\n",
       "      <td>1.0</td>\n",
       "      <td>1.0</td>\n",
       "      <td>1.0</td>\n",
       "    </tr>\n",
       "    <tr>\n",
       "      <th>import__expertise_level</th>\n",
       "      <td>18226</td>\n",
       "      <td>2</td>\n",
       "      <td>EXPERT</td>\n",
       "      <td>11102</td>\n",
       "      <td>NaN</td>\n",
       "      <td>NaN</td>\n",
       "      <td>NaN</td>\n",
       "      <td>NaN</td>\n",
       "      <td>NaN</td>\n",
       "      <td>NaN</td>\n",
       "      <td>NaN</td>\n",
       "    </tr>\n",
       "  </tbody>\n",
       "</table>\n",
       "</div>"
      ]
     },
     "execution_count": 6,
     "metadata": {},
     "output_type": "execute_result"
    }
   ],
   "execution_count": 6
  },
  {
   "cell_type": "markdown",
   "id": "b9f859b03e8083f1",
   "metadata": {
    "collapsed": false
   },
   "source": "Vamos a discretizar las variables numericas, agrupando conjuntos de valores en categorias, para hacer un análisis de los datos. Para cada variable es necesaario ver la distribucion de lo valores para hacer los bins (categorias)."
  },
  {
   "cell_type": "code",
   "id": "b7cf5fae0fd0e5ef",
   "metadata": {
    "collapsed": false,
    "ExecuteTime": {
     "end_time": "2024-07-03T20:37:03.908043Z",
     "start_time": "2024-07-03T20:37:03.651554Z"
    }
   },
   "source": [
    "# DISCRETIZATION\n",
    "X_copy = X.copy()\n",
    "\n",
    "discretized_columns = {\n",
    "    \"import__number_imports\": [(0, 0), (0, 3), (3, 7), (7, inf)],  # min: 0 max: 194 \n",
    "    \"import__module_imports_pct\": [(0.0, 0.0), (0.0, 0.5), (0.5, 1), (1, 1)],  # min: 0.0 max: 1.0 \n",
    "    \"import__average_imported_modules\": [(0.0, 0.0), (0.0, inf)],  # min: 0.0 max: 8.5 \n",
    "    \"import__from_imports_pct\": [(0.0, 0.0), (0.0, 0.5), (0.5, 1), (1, 1)],  # min: 0.0 max: 1.0 \n",
    "    \"import__average_from_imported_modules\": [(0.0, 0.0), (0.0, 2.0), (2.0, inf)],  # min: 0.0 max: 23.0 \n",
    "    \"import__average_as_in_imported_modules\": [(0.0, 0.0), (0.0, inf)],  # min: 0.0 max: 1.0 \n",
    "    \"import__local_imports_pct\": [(0.0, 0.0), (0.0, 1.0), (1.0, 1.0)],  # min: 0.0 max: 1.0 \n",
    "}\n",
    "\n",
    "discretize_columns(X_copy, discretized_columns)\n",
    "    \n",
    "# SINGLE FEATURE\n",
    "print(\"--- SINGLE FEATURE ---\")\n",
    "print(get_statistics(X_copy, ['import__number_imports'], 10))\n",
    "print(get_statistics(X_copy, ['import__module_imports_pct'], 10))\n",
    "print(get_statistics(X_copy, ['import__average_imported_modules'], 10))\n",
    "print(get_statistics(X_copy, ['import__from_imports_pct'], 10))\n",
    "print(get_statistics(X_copy, ['import__average_from_imported_modules'], 10))\n",
    "print(get_statistics(X_copy, ['import__average_as_in_imported_modules'], 10))\n",
    "print(get_statistics(X_copy, ['import__local_imports_pct'], 10))\n",
    "\n",
    "# 2 FEATURES\n",
    "print(\"--- TWO FEATURES ---\")\n",
    "print(get_statistics(X_copy, ['import__average_imported_modules', 'import__module_imports_pct'], 10))\n",
    "\n",
    "# 3 FEATURES\n",
    "print(\"--- THREE FEATURES ---\")\n",
    "#print(get_statistics(X_copy, ['program__has_sub_dirs_with_code', 'program__has_packages', 'program__has_code_root_package'], 10))"
   ],
   "outputs": [
    {
     "name": "stdout",
     "output_type": "stream",
     "text": [
      "--- SINGLE FEATURE ---\n",
      "import__number_imports  count  percentage\n",
      "               [7_inf]   5254   28.826951\n",
      "                 [3_7)   5058   27.751564\n",
      "                 [0_3)   4598   25.227697\n",
      "                 [0_0]   3316   18.193789\n",
      "\n",
      "import__module_imports_pct  count  percentage\n",
      "                 [0.0_0.0]   7881   43.240426\n",
      "                 [0.0_0.5)   5035   27.625370\n",
      "                   [0.5_1)   3346   18.358389\n",
      "                     [1_1]   1964   10.775815\n",
      "\n",
      "import__average_imported_modules  count  percentage\n",
      "                       [0.0_inf]  10345   56.759574\n",
      "                       [0.0_0.0]   7881   43.240426\n",
      "\n",
      "import__from_imports_pct  count  percentage\n",
      "                 [0.5_1)   6248   34.280698\n",
      "               [0.0_0.0]   5280   28.969604\n",
      "                   [1_1]   4565   25.046637\n",
      "               [0.0_0.5)   2133   11.703062\n",
      "\n",
      "import__average_from_imported_modules  count  percentage\n",
      "                            [0.0_2.0)   9895   54.290574\n",
      "                            [0.0_0.0]   5280   28.969604\n",
      "                            [2.0_inf]   3051   16.739822\n",
      "\n",
      "import__average_as_in_imported_modules  count  percentage\n",
      "                             [0.0_0.0]  17021   93.388566\n",
      "                             [0.0_inf]   1205    6.611434\n",
      "\n",
      "import__local_imports_pct  count  percentage\n",
      "                [1.0_1.0]  10675   58.570174\n",
      "                [0.0_0.0]   7175   39.366839\n",
      "                [0.0_1.0)    376    2.062987\n",
      "\n",
      "--- TWO FEATURES ---\n",
      "import__average_imported_modules import__module_imports_pct  count  percentage\n",
      "                       [0.0_0.0]                  [0.0_0.0]   7881   43.240426\n",
      "                       [0.0_inf]                  [0.0_0.5)   5035   27.625370\n",
      "                       [0.0_inf]                    [0.5_1)   3346   18.358389\n",
      "                       [0.0_inf]                      [1_1]   1964   10.775815\n",
      "\n",
      "--- THREE FEATURES ---\n"
     ]
    }
   ],
   "execution_count": 7
  },
  {
   "cell_type": "code",
   "id": "1ca9a43e-6db6-44a7-aaab-65f00d1ea79e",
   "metadata": {
    "pycharm": {
     "name": "#%%\n"
    },
    "tags": [],
    "ExecuteTime": {
     "end_time": "2024-07-03T20:37:03.940300Z",
     "start_time": "2024-07-03T20:37:03.910094Z"
    }
   },
   "source": [
    "def normalize_datatypes(X:pd.DataFrame, y:pd.Series) -> (pd.DataFrame, pd.Series, [str]):\n",
    "    X = pd.get_dummies(X)\n",
    "    X = X.astype('float32')\n",
    "    y = y.apply(lambda value: 0 if value == \"BEGINNER\" else 1) # EXPERT will be 1 and BEGINNER will be 0.\n",
    "    y = y.astype('float32')\n",
    "    columns_names = X.columns.tolist()\n",
    "    return X, y, columns_names\n",
    "\n",
    "X, y, TABLE_FEATURES = normalize_datatypes(X, y)\n",
    "# Print information about the loaded table\n",
    "print(f'Features shape: {X.shape}')\n",
    "print(f'Target shape: {y.shape}')"
   ],
   "outputs": [
    {
     "name": "stdout",
     "output_type": "stream",
     "text": [
      "Features shape: (18226, 9)\n",
      "Target shape: (18226,)\n"
     ]
    }
   ],
   "execution_count": 8
  },
  {
   "cell_type": "markdown",
   "id": "e9fc6a7d9acd9a9e",
   "metadata": {
    "collapsed": false
   },
   "source": [
    "#### Muestra la matriz de correlación de pearson entre las variables de la tabla."
   ]
  },
  {
   "cell_type": "code",
   "id": "70af048034c80af1",
   "metadata": {
    "collapsed": false,
    "ExecuteTime": {
     "end_time": "2024-07-03T20:37:04.847080Z",
     "start_time": "2024-07-03T20:37:03.942320Z"
    }
   },
   "source": [
    "sns.heatmap(X.corr(), annot=True)"
   ],
   "outputs": [
    {
     "data": {
      "text/plain": [
       "<Axes: >"
      ]
     },
     "execution_count": 9,
     "metadata": {},
     "output_type": "execute_result"
    },
    {
     "data": {
      "text/plain": [
       "<Figure size 640x480 with 2 Axes>"
      ],
      "image/png": "[encoded data removed]"
     },
     "metadata": {},
     "output_type": "display_data"
    }
   ],
   "execution_count": 9
  },
  {
   "cell_type": "markdown",
   "id": "9a47cdd4cc2b3fae",
   "metadata": {
    "collapsed": false
   },
   "source": [
    "## 3 - Detección de valores atípicos (outliers)\n",
    "## Univariate\n",
    "## Analisis detallado de variables\n",
    "Para cada una de las 7 variable (3 porcentuales y 4 numericas y una categorica)"
   ]
  },
  {
   "metadata": {},
   "cell_type": "markdown",
   "source": [
    "### Variable number_imports (1/7)\n",
    "Esta variable es de tipo numérica y nos indica el número imports definidos en el fichero. Como vimos en la descripción de la tabla esta varibale adopta valores en el rango 0 - 194. Con una media de 5.11."
   ],
   "id": "b8ac28118b9c7e95"
  },
  {
   "metadata": {
    "ExecuteTime": {
     "end_time": "2024-07-03T20:37:05.141138Z",
     "start_time": "2024-07-03T20:37:04.849091Z"
    }
   },
   "cell_type": "code",
   "source": "sns.stripplot(X['import__number_imports'])",
   "id": "5eacddae8fc77a62",
   "outputs": [
    {
     "data": {
      "text/plain": [
       "<Axes: ylabel='import__number_imports'>"
      ]
     },
     "execution_count": 10,
     "metadata": {},
     "output_type": "execute_result"
    },
    {
     "data": {
      "text/plain": [
       "<Figure size 640x480 with 1 Axes>"
      ],
      "image/png": "[encoded data removed]"
     },
     "metadata": {},
     "output_type": "display_data"
    }
   ],
   "execution_count": 10
  },
  {
   "metadata": {},
   "cell_type": "markdown",
   "source": [
    "### IMPORTANTE\n",
    "Los tres valores máximos están muy alejados del siguiente."
   ],
   "id": "d8ce134de9b62d4e"
  },
  {
   "metadata": {
    "ExecuteTime": {
     "end_time": "2024-07-03T20:37:05.565696Z",
     "start_time": "2024-07-03T20:37:05.143172Z"
    }
   },
   "cell_type": "code",
   "source": "print_histogram(X, 'import__number_imports', 'import__expertise_level', bins=30, include_all=False)",
   "id": "914ce7c0fbf591c6",
   "outputs": [
    {
     "data": {
      "text/plain": [
       "<Figure size 1200x600 with 1 Axes>"
      ],
      "image/png": "[encoded data removed]"
     },
     "metadata": {},
     "output_type": "display_data"
    }
   ],
   "execution_count": 11
  },
  {
   "metadata": {
    "ExecuteTime": {
     "end_time": "2024-07-03T20:37:05.581009Z",
     "start_time": "2024-07-03T20:37:05.567707Z"
    }
   },
   "cell_type": "code",
   "source": "print_outliers_for_df_column(X, 'import__number_imports')",
   "id": "cfc7351841dbaeeb",
   "outputs": [
    {
     "name": "stdout",
     "output_type": "stream",
     "text": [
      "El coeficiente MC (Medcouple Coefficient) de balanceo es: 0.6409028192773788\n",
      "Rango valores atípicos extremos (Tukey): [-17.0,25.0]\n",
      "Rango valores atípicos leves (Tukey): [-8.0,16.0]\n",
      "Rango valores atípicos extremos (Fixed BoxPlot): [0.044896235172868226,123.84354929396459]\n",
      "-3.0IQR: 0 instancias tienen un valor para import__number_imports inferior a -17.0 (Q1-3*IQR) para import__number_imports. Representando un 0.0% del total de instancias.\n",
      "-1.5IQR: 0 instancias tienen un valor para import__number_imports inferior a -8.0 (Q1-1.5*IQR) para import__number_imports. Representando un 0.0% del total de instancias.\n",
      "+1.5IQR: 833 instancias tienen un valor para import__number_imports superior a 16.0 (Q3+1.5*IQR) para import__number_imports. Representando un 4.57% del total de instancias.\n",
      "+3.0IQR: 225 instancias tienen un valor para import__number_imports superior a 25.0 (Q3-3*IQR) para import__number_imports. Representando un 1.235% del total de instancias.\n",
      "L: 3316 instancias tienen un valor para import__number_imports inferior a 0.044896235172868226 para import__number_imports. Representando un 18.19% del total de instancias.\n",
      "U: 3 instancias tienen un valor para import__number_imports superior a 123.84354929396459 para import__number_imports. Representando un 0.01646% del total de instancias.\n"
     ]
    }
   ],
   "execution_count": 12
  },
  {
   "metadata": {},
   "cell_type": "markdown",
   "source": "Describimos los valores de las variables de la tabla, cuando el valor de la variable es mayor que 123.8 (Con un MC de 64 usamos U)",
   "id": "843b1a6a63a56fb9"
  },
  {
   "metadata": {
    "ExecuteTime": {
     "end_time": "2024-07-03T20:37:05.619590Z",
     "start_time": "2024-07-03T20:37:05.583078Z"
    }
   },
   "cell_type": "code",
   "source": "X[X['import__number_imports'] > 123.8].describe(percentiles=[.25, .50, .75], include = ['object', 'float', 'bool', 'int'])",
   "id": "689c534bf17a722e",
   "outputs": [
    {
     "data": {
      "text/plain": [
       "       import__number_imports  import__module_imports_pct  \\\n",
       "count                3.000000                    3.000000   \n",
       "mean               158.666672                    0.109581   \n",
       "std                 32.516663                    0.030094   \n",
       "min                130.000000                    0.092105   \n",
       "25%                141.000000                    0.092206   \n",
       "50%                152.000000                    0.092308   \n",
       "75%                173.000000                    0.118319   \n",
       "max                194.000000                    0.144330   \n",
       "\n",
       "       import__average_imported_modules  import__from_imports_pct  \\\n",
       "count                               3.0                  3.000000   \n",
       "mean                                1.0                  0.890419   \n",
       "std                                 0.0                  0.030094   \n",
       "min                                 1.0                  0.855670   \n",
       "25%                                 1.0                  0.881681   \n",
       "50%                                 1.0                  0.907692   \n",
       "75%                                 1.0                  0.907794   \n",
       "max                                 1.0                  0.907895   \n",
       "\n",
       "       import__average_from_imported_modules  \\\n",
       "count                                    3.0   \n",
       "mean                                     1.0   \n",
       "std                                      0.0   \n",
       "min                                      1.0   \n",
       "25%                                      1.0   \n",
       "50%                                      1.0   \n",
       "75%                                      1.0   \n",
       "max                                      1.0   \n",
       "\n",
       "       import__average_as_in_imported_modules  import__local_imports_pct  \\\n",
       "count                                3.000000                   3.000000   \n",
       "mean                                 0.038624                   0.302564   \n",
       "std                                  0.014545                   0.524056   \n",
       "min                                  0.025424                   0.000000   \n",
       "25%                                  0.030828                   0.000000   \n",
       "50%                                  0.036232                   0.000000   \n",
       "75%                                  0.045224                   0.453846   \n",
       "max                                  0.054217                   0.907692   \n",
       "\n",
       "       import__expertise_level_BEGINNER  import__expertise_level_EXPERT  \n",
       "count                               3.0                             3.0  \n",
       "mean                                0.0                             1.0  \n",
       "std                                 0.0                             0.0  \n",
       "min                                 0.0                             1.0  \n",
       "25%                                 0.0                             1.0  \n",
       "50%                                 0.0                             1.0  \n",
       "75%                                 0.0                             1.0  \n",
       "max                                 0.0                             1.0  "
      ],
      "text/html": [
       "<div>\n",
       "<style scoped>\n",
       "    .dataframe tbody tr th:only-of-type {\n",
       "        vertical-align: middle;\n",
       "    }\n",
       "\n",
       "    .dataframe tbody tr th {\n",
       "        vertical-align: top;\n",
       "    }\n",
       "\n",
       "    .dataframe thead th {\n",
       "        text-align: right;\n",
       "    }\n",
       "</style>\n",
       "<table border=\"1\" class=\"dataframe\">\n",
       "  <thead>\n",
       "    <tr style=\"text-align: right;\">\n",
       "      <th></th>\n",
       "      <th>import__number_imports</th>\n",
       "      <th>import__module_imports_pct</th>\n",
       "      <th>import__average_imported_modules</th>\n",
       "      <th>import__from_imports_pct</th>\n",
       "      <th>import__average_from_imported_modules</th>\n",
       "      <th>import__average_as_in_imported_modules</th>\n",
       "      <th>import__local_imports_pct</th>\n",
       "      <th>import__expertise_level_BEGINNER</th>\n",
       "      <th>import__expertise_level_EXPERT</th>\n",
       "    </tr>\n",
       "  </thead>\n",
       "  <tbody>\n",
       "    <tr>\n",
       "      <th>count</th>\n",
       "      <td>3.000000</td>\n",
       "      <td>3.000000</td>\n",
       "      <td>3.0</td>\n",
       "      <td>3.000000</td>\n",
       "      <td>3.0</td>\n",
       "      <td>3.000000</td>\n",
       "      <td>3.000000</td>\n",
       "      <td>3.0</td>\n",
       "      <td>3.0</td>\n",
       "    </tr>\n",
       "    <tr>\n",
       "      <th>mean</th>\n",
       "      <td>158.666672</td>\n",
       "      <td>0.109581</td>\n",
       "      <td>1.0</td>\n",
       "      <td>0.890419</td>\n",
       "      <td>1.0</td>\n",
       "      <td>0.038624</td>\n",
       "      <td>0.302564</td>\n",
       "      <td>0.0</td>\n",
       "      <td>1.0</td>\n",
       "    </tr>\n",
       "    <tr>\n",
       "      <th>std</th>\n",
       "      <td>32.516663</td>\n",
       "      <td>0.030094</td>\n",
       "      <td>0.0</td>\n",
       "      <td>0.030094</td>\n",
       "      <td>0.0</td>\n",
       "      <td>0.014545</td>\n",
       "      <td>0.524056</td>\n",
       "      <td>0.0</td>\n",
       "      <td>0.0</td>\n",
       "    </tr>\n",
       "    <tr>\n",
       "      <th>min</th>\n",
       "      <td>130.000000</td>\n",
       "      <td>0.092105</td>\n",
       "      <td>1.0</td>\n",
       "      <td>0.855670</td>\n",
       "      <td>1.0</td>\n",
       "      <td>0.025424</td>\n",
       "      <td>0.000000</td>\n",
       "      <td>0.0</td>\n",
       "      <td>1.0</td>\n",
       "    </tr>\n",
       "    <tr>\n",
       "      <th>25%</th>\n",
       "      <td>141.000000</td>\n",
       "      <td>0.092206</td>\n",
       "      <td>1.0</td>\n",
       "      <td>0.881681</td>\n",
       "      <td>1.0</td>\n",
       "      <td>0.030828</td>\n",
       "      <td>0.000000</td>\n",
       "      <td>0.0</td>\n",
       "      <td>1.0</td>\n",
       "    </tr>\n",
       "    <tr>\n",
       "      <th>50%</th>\n",
       "      <td>152.000000</td>\n",
       "      <td>0.092308</td>\n",
       "      <td>1.0</td>\n",
       "      <td>0.907692</td>\n",
       "      <td>1.0</td>\n",
       "      <td>0.036232</td>\n",
       "      <td>0.000000</td>\n",
       "      <td>0.0</td>\n",
       "      <td>1.0</td>\n",
       "    </tr>\n",
       "    <tr>\n",
       "      <th>75%</th>\n",
       "      <td>173.000000</td>\n",
       "      <td>0.118319</td>\n",
       "      <td>1.0</td>\n",
       "      <td>0.907794</td>\n",
       "      <td>1.0</td>\n",
       "      <td>0.045224</td>\n",
       "      <td>0.453846</td>\n",
       "      <td>0.0</td>\n",
       "      <td>1.0</td>\n",
       "    </tr>\n",
       "    <tr>\n",
       "      <th>max</th>\n",
       "      <td>194.000000</td>\n",
       "      <td>0.144330</td>\n",
       "      <td>1.0</td>\n",
       "      <td>0.907895</td>\n",
       "      <td>1.0</td>\n",
       "      <td>0.054217</td>\n",
       "      <td>0.907692</td>\n",
       "      <td>0.0</td>\n",
       "      <td>1.0</td>\n",
       "    </tr>\n",
       "  </tbody>\n",
       "</table>\n",
       "</div>"
      ]
     },
     "execution_count": 13,
     "metadata": {},
     "output_type": "execute_result"
    }
   ],
   "execution_count": 13
  },
  {
   "metadata": {},
   "cell_type": "markdown",
   "source": [
    "### IMPORTANTE\n",
    "Hay 3 imports que tienen un número de imports muy elevado."
   ],
   "id": "bc3a34bfa3786d3f"
  },
  {
   "metadata": {},
   "cell_type": "markdown",
   "source": [
    "### Variable average_imported_modules (2/7)\n",
    "Esta variable representa el número medio de alias importados en cada clausula import. Como vimos en la descripción de la tabla esta varibale adopta valores en el rango 0 - 8.5. Con una media de 0.58."
   ],
   "id": "8f8a651cfdff0bcd"
  },
  {
   "metadata": {
    "ExecuteTime": {
     "end_time": "2024-07-03T20:37:05.834638Z",
     "start_time": "2024-07-03T20:37:05.624601Z"
    }
   },
   "cell_type": "code",
   "source": "sns.stripplot(X['import__average_imported_modules'])",
   "id": "1ebb40d57c0b140",
   "outputs": [
    {
     "data": {
      "text/plain": [
       "<Axes: ylabel='import__average_imported_modules'>"
      ]
     },
     "execution_count": 14,
     "metadata": {},
     "output_type": "execute_result"
    },
    {
     "data": {
      "text/plain": [
       "<Figure size 640x480 with 1 Axes>"
      ],
      "image/png": "[encoded data removed]"
     },
     "metadata": {},
     "output_type": "display_data"
    }
   ],
   "execution_count": 14
  },
  {
   "metadata": {},
   "cell_type": "markdown",
   "source": [
    "### IMPORTANTE\n",
    "El valor máximo está muy alejado del siguiente. "
   ],
   "id": "921f450151cf85e1"
  },
  {
   "metadata": {
    "ExecuteTime": {
     "end_time": "2024-07-03T20:37:06.238491Z",
     "start_time": "2024-07-03T20:37:05.837673Z"
    }
   },
   "cell_type": "code",
   "source": "print_histogram(X, 'import__average_imported_modules', 'import__expertise_level', bins=30, include_all=False)",
   "id": "ee4b61a5a151ce73",
   "outputs": [
    {
     "data": {
      "text/plain": [
       "<Figure size 1200x600 with 1 Axes>"
      ],
      "image/png": "[encoded data removed]"
     },
     "metadata": {},
     "output_type": "display_data"
    }
   ],
   "execution_count": 15
  },
  {
   "metadata": {
    "ExecuteTime": {
     "end_time": "2024-07-03T20:37:06.254714Z",
     "start_time": "2024-07-03T20:37:06.240509Z"
    }
   },
   "cell_type": "code",
   "source": "print_outliers_for_df_column(X, 'import__average_imported_modules')",
   "id": "6a0f48c2e0e6cff",
   "outputs": [
    {
     "name": "stdout",
     "output_type": "stream",
     "text": [
      "El coeficiente MC (Medcouple Coefficient) de balanceo es: 0.4070229355026694\n",
      "Rango valores atípicos extremos (Tukey): [-3.0,4.0]\n",
      "Rango valores atípicos leves (Tukey): [-1.5,2.5]\n",
      "Rango valores atípicos extremos (Fixed BoxPlot): [-0.3609141479839687,8.641216743503524]\n",
      "-3.0IQR: 0 instancias tienen un valor para import__average_imported_modules inferior a -3.0 (Q1-3*IQR) para import__average_imported_modules. Representando un 0.0% del total de instancias.\n",
      "-1.5IQR: 0 instancias tienen un valor para import__average_imported_modules inferior a -1.5 (Q1-1.5*IQR) para import__average_imported_modules. Representando un 0.0% del total de instancias.\n",
      "+1.5IQR: 60 instancias tienen un valor para import__average_imported_modules superior a 2.5 (Q3+1.5*IQR) para import__average_imported_modules. Representando un 0.3292% del total de instancias.\n",
      "+3.0IQR: 10 instancias tienen un valor para import__average_imported_modules superior a 4.0 (Q3-3*IQR) para import__average_imported_modules. Representando un 0.05487% del total de instancias.\n",
      "L: 0 instancias tienen un valor para import__average_imported_modules inferior a -0.3609141479839687 para import__average_imported_modules. Representando un 0.0% del total de instancias.\n",
      "U: 0 instancias tienen un valor para import__average_imported_modules superior a 8.641216743503524 para import__average_imported_modules. Representando un 0.0% del total de instancias.\n"
     ]
    }
   ],
   "execution_count": 16
  },
  {
   "metadata": {},
   "cell_type": "markdown",
   "source": "Describimos los valores de las variables de la tabla, cuando el valor de la variable es mayor que 4.0 (Con un MC de 40 usamos Tuckey Extremo)",
   "id": "50a44d7648d76a00"
  },
  {
   "metadata": {
    "ExecuteTime": {
     "end_time": "2024-07-03T20:37:06.302669Z",
     "start_time": "2024-07-03T20:37:06.256724Z"
    }
   },
   "cell_type": "code",
   "source": "X[X['import__average_imported_modules'] > 4.0].describe(percentiles=[.25, .50, .75], include = ['object', 'float', 'bool', 'int'])",
   "id": "87724eeca9c29f75",
   "outputs": [
    {
     "data": {
      "text/plain": [
       "       import__number_imports  import__module_imports_pct  \\\n",
       "count               10.000000                   10.000000   \n",
       "mean                 3.400000                    0.572222   \n",
       "std                  2.796824                    0.316228   \n",
       "min                  1.000000                    0.222222   \n",
       "25%                  2.000000                    0.312500   \n",
       "50%                  2.000000                    0.500000   \n",
       "75%                  3.500000                    0.875000   \n",
       "max                  9.000000                    1.000000   \n",
       "\n",
       "       import__average_imported_modules  import__from_imports_pct  \\\n",
       "count                         10.000000                 10.000000   \n",
       "mean                           5.750000                  0.427778   \n",
       "std                            1.160699                  0.316228   \n",
       "min                            4.500000                  0.000000   \n",
       "25%                            5.000000                  0.125000   \n",
       "50%                            6.000000                  0.500000   \n",
       "75%                            6.000000                  0.687500   \n",
       "max                            8.500000                  0.777778   \n",
       "\n",
       "       import__average_from_imported_modules  \\\n",
       "count                              10.000000   \n",
       "mean                                1.526191   \n",
       "std                                 1.631853   \n",
       "min                                 0.000000   \n",
       "25%                                 0.250000   \n",
       "50%                                 1.000000   \n",
       "75%                                 2.196429   \n",
       "max                                 5.000000   \n",
       "\n",
       "       import__average_as_in_imported_modules  import__local_imports_pct  \\\n",
       "count                               10.000000                  10.000000   \n",
       "mean                                 0.011111                   0.491667   \n",
       "std                                  0.035136                   0.452104   \n",
       "min                                  0.000000                   0.000000   \n",
       "25%                                  0.000000                   0.000000   \n",
       "50%                                  0.000000                   0.583333   \n",
       "75%                                  0.000000                   0.937500   \n",
       "max                                  0.111111                   1.000000   \n",
       "\n",
       "       import__expertise_level_BEGINNER  import__expertise_level_EXPERT  \n",
       "count                         10.000000                       10.000000  \n",
       "mean                           0.600000                        0.400000  \n",
       "std                            0.516398                        0.516398  \n",
       "min                            0.000000                        0.000000  \n",
       "25%                            0.000000                        0.000000  \n",
       "50%                            1.000000                        0.000000  \n",
       "75%                            1.000000                        1.000000  \n",
       "max                            1.000000                        1.000000  "
      ],
      "text/html": [
       "<div>\n",
       "<style scoped>\n",
       "    .dataframe tbody tr th:only-of-type {\n",
       "        vertical-align: middle;\n",
       "    }\n",
       "\n",
       "    .dataframe tbody tr th {\n",
       "        vertical-align: top;\n",
       "    }\n",
       "\n",
       "    .dataframe thead th {\n",
       "        text-align: right;\n",
       "    }\n",
       "</style>\n",
       "<table border=\"1\" class=\"dataframe\">\n",
       "  <thead>\n",
       "    <tr style=\"text-align: right;\">\n",
       "      <th></th>\n",
       "      <th>import__number_imports</th>\n",
       "      <th>import__module_imports_pct</th>\n",
       "      <th>import__average_imported_modules</th>\n",
       "      <th>import__from_imports_pct</th>\n",
       "      <th>import__average_from_imported_modules</th>\n",
       "      <th>import__average_as_in_imported_modules</th>\n",
       "      <th>import__local_imports_pct</th>\n",
       "      <th>import__expertise_level_BEGINNER</th>\n",
       "      <th>import__expertise_level_EXPERT</th>\n",
       "    </tr>\n",
       "  </thead>\n",
       "  <tbody>\n",
       "    <tr>\n",
       "      <th>count</th>\n",
       "      <td>10.000000</td>\n",
       "      <td>10.000000</td>\n",
       "      <td>10.000000</td>\n",
       "      <td>10.000000</td>\n",
       "      <td>10.000000</td>\n",
       "      <td>10.000000</td>\n",
       "      <td>10.000000</td>\n",
       "      <td>10.000000</td>\n",
       "      <td>10.000000</td>\n",
       "    </tr>\n",
       "    <tr>\n",
       "      <th>mean</th>\n",
       "      <td>3.400000</td>\n",
       "      <td>0.572222</td>\n",
       "      <td>5.750000</td>\n",
       "      <td>0.427778</td>\n",
       "      <td>1.526191</td>\n",
       "      <td>0.011111</td>\n",
       "      <td>0.491667</td>\n",
       "      <td>0.600000</td>\n",
       "      <td>0.400000</td>\n",
       "    </tr>\n",
       "    <tr>\n",
       "      <th>std</th>\n",
       "      <td>2.796824</td>\n",
       "      <td>0.316228</td>\n",
       "      <td>1.160699</td>\n",
       "      <td>0.316228</td>\n",
       "      <td>1.631853</td>\n",
       "      <td>0.035136</td>\n",
       "      <td>0.452104</td>\n",
       "      <td>0.516398</td>\n",
       "      <td>0.516398</td>\n",
       "    </tr>\n",
       "    <tr>\n",
       "      <th>min</th>\n",
       "      <td>1.000000</td>\n",
       "      <td>0.222222</td>\n",
       "      <td>4.500000</td>\n",
       "      <td>0.000000</td>\n",
       "      <td>0.000000</td>\n",
       "      <td>0.000000</td>\n",
       "      <td>0.000000</td>\n",
       "      <td>0.000000</td>\n",
       "      <td>0.000000</td>\n",
       "    </tr>\n",
       "    <tr>\n",
       "      <th>25%</th>\n",
       "      <td>2.000000</td>\n",
       "      <td>0.312500</td>\n",
       "      <td>5.000000</td>\n",
       "      <td>0.125000</td>\n",
       "      <td>0.250000</td>\n",
       "      <td>0.000000</td>\n",
       "      <td>0.000000</td>\n",
       "      <td>0.000000</td>\n",
       "      <td>0.000000</td>\n",
       "    </tr>\n",
       "    <tr>\n",
       "      <th>50%</th>\n",
       "      <td>2.000000</td>\n",
       "      <td>0.500000</td>\n",
       "      <td>6.000000</td>\n",
       "      <td>0.500000</td>\n",
       "      <td>1.000000</td>\n",
       "      <td>0.000000</td>\n",
       "      <td>0.583333</td>\n",
       "      <td>1.000000</td>\n",
       "      <td>0.000000</td>\n",
       "    </tr>\n",
       "    <tr>\n",
       "      <th>75%</th>\n",
       "      <td>3.500000</td>\n",
       "      <td>0.875000</td>\n",
       "      <td>6.000000</td>\n",
       "      <td>0.687500</td>\n",
       "      <td>2.196429</td>\n",
       "      <td>0.000000</td>\n",
       "      <td>0.937500</td>\n",
       "      <td>1.000000</td>\n",
       "      <td>1.000000</td>\n",
       "    </tr>\n",
       "    <tr>\n",
       "      <th>max</th>\n",
       "      <td>9.000000</td>\n",
       "      <td>1.000000</td>\n",
       "      <td>8.500000</td>\n",
       "      <td>0.777778</td>\n",
       "      <td>5.000000</td>\n",
       "      <td>0.111111</td>\n",
       "      <td>1.000000</td>\n",
       "      <td>1.000000</td>\n",
       "      <td>1.000000</td>\n",
       "    </tr>\n",
       "  </tbody>\n",
       "</table>\n",
       "</div>"
      ]
     },
     "execution_count": 17,
     "metadata": {},
     "output_type": "execute_result"
    }
   ],
   "execution_count": 17
  },
  {
   "metadata": {},
   "cell_type": "markdown",
   "source": [
    "### Variable average_from_imported_modules (3/7)\n",
    "Esta variable representa el número medio de imports con la clausula From. Como vimos en la descripción de la tabla esta varibale adopta valores en el rango 0 - 23.0. Con una media de 1.12."
   ],
   "id": "2a00f5be59e6d4a9"
  },
  {
   "metadata": {
    "ExecuteTime": {
     "end_time": "2024-07-03T20:37:06.566775Z",
     "start_time": "2024-07-03T20:37:06.304679Z"
    }
   },
   "cell_type": "code",
   "source": "sns.stripplot(X['import__average_from_imported_modules'])",
   "id": "bcf42c4ca6fb0146",
   "outputs": [
    {
     "data": {
      "text/plain": [
       "<Axes: ylabel='import__average_from_imported_modules'>"
      ]
     },
     "execution_count": 18,
     "metadata": {},
     "output_type": "execute_result"
    },
    {
     "data": {
      "text/plain": [
       "<Figure size 640x480 with 1 Axes>"
      ],
      "image/png": "[encoded data removed]"
     },
     "metadata": {},
     "output_type": "display_data"
    }
   ],
   "execution_count": 18
  },
  {
   "metadata": {},
   "cell_type": "markdown",
   "source": [
    "### IMPORTANTE\n",
    "Los valores máximos están muy alejados del siguiente. "
   ],
   "id": "956a0d90062b6753"
  },
  {
   "metadata": {
    "ExecuteTime": {
     "end_time": "2024-07-03T20:37:06.974493Z",
     "start_time": "2024-07-03T20:37:06.568816Z"
    }
   },
   "cell_type": "code",
   "source": "print_histogram(X, 'import__average_from_imported_modules', 'import__expertise_level', bins=30, include_all=False)",
   "id": "d82d78215f4f79c3",
   "outputs": [
    {
     "data": {
      "text/plain": [
       "<Figure size 1200x600 with 1 Axes>"
      ],
      "image/png": "[encoded data removed]"
     },
     "metadata": {},
     "output_type": "display_data"
    }
   ],
   "execution_count": 19
  },
  {
   "metadata": {
    "ExecuteTime": {
     "end_time": "2024-07-03T20:37:06.992574Z",
     "start_time": "2024-07-03T20:37:06.977527Z"
    }
   },
   "cell_type": "code",
   "source": "print_outliers_for_df_column(X, 'import__average_from_imported_modules')",
   "id": "2be67c4ab421c8b0",
   "outputs": [
    {
     "name": "stdout",
     "output_type": "stream",
     "text": [
      "El coeficiente MC (Medcouple Coefficient) de balanceo es: 0.90320432165338\n",
      "Rango valores atípicos extremos (Tukey): [-4.714285612106323,6.285714149475098]\n",
      "Rango valores atípicos leves (Tukey): [-2.3571428060531616,3.928571343421936]\n",
      "Rango valores atípicos extremos (Fixed BoxPlot): [-0.09988208731010886,88.95152231949267]\n",
      "-3.0IQR: 0 instancias tienen un valor para import__average_from_imported_modules inferior a -4.714285612106323 (Q1-3*IQR) para import__average_from_imported_modules. Representando un 0.0% del total de instancias.\n",
      "-1.5IQR: 0 instancias tienen un valor para import__average_from_imported_modules inferior a -2.3571428060531616 (Q1-1.5*IQR) para import__average_from_imported_modules. Representando un 0.0% del total de instancias.\n",
      "+1.5IQR: 392 instancias tienen un valor para import__average_from_imported_modules superior a 3.928571343421936 (Q3+1.5*IQR) para import__average_from_imported_modules. Representando un 2.151% del total de instancias.\n",
      "+3.0IQR: 62 instancias tienen un valor para import__average_from_imported_modules superior a 6.285714149475098 (Q3-3*IQR) para import__average_from_imported_modules. Representando un 0.3402% del total de instancias.\n",
      "L: 0 instancias tienen un valor para import__average_from_imported_modules inferior a -0.09988208731010886 para import__average_from_imported_modules. Representando un 0.0% del total de instancias.\n",
      "U: 0 instancias tienen un valor para import__average_from_imported_modules superior a 88.95152231949267 para import__average_from_imported_modules. Representando un 0.0% del total de instancias.\n"
     ]
    }
   ],
   "execution_count": 20
  },
  {
   "metadata": {},
   "cell_type": "markdown",
   "source": "Describimos los valores de las variables de la tabla, cuando el valor de la variable es mayor que 6.28 (Con un MC de 90 usamos Tuckey Extremo)",
   "id": "9c98aa3e712bff76"
  },
  {
   "metadata": {
    "ExecuteTime": {
     "end_time": "2024-07-03T20:37:07.039019Z",
     "start_time": "2024-07-03T20:37:06.995591Z"
    }
   },
   "cell_type": "code",
   "source": "X[X['import__average_from_imported_modules'] > 6.28].describe(percentiles=[.25, .50, .75], include = ['object', 'float', 'bool', 'int'])",
   "id": "ad1049f623d1e003",
   "outputs": [
    {
     "data": {
      "text/plain": [
       "       import__number_imports  import__module_imports_pct  \\\n",
       "count               62.000000                   62.000000   \n",
       "mean                 2.370968                    0.226344   \n",
       "std                  1.369861                    0.299477   \n",
       "min                  1.000000                    0.000000   \n",
       "25%                  1.000000                    0.000000   \n",
       "50%                  2.000000                    0.000000   \n",
       "75%                  4.000000                    0.500000   \n",
       "max                  5.000000                    0.800000   \n",
       "\n",
       "       import__average_imported_modules  import__from_imports_pct  \\\n",
       "count                         62.000000                 62.000000   \n",
       "mean                           0.419355                  0.773656   \n",
       "std                            0.497482                  0.299477   \n",
       "min                            0.000000                  0.200000   \n",
       "25%                            0.000000                  0.500000   \n",
       "50%                            0.000000                  1.000000   \n",
       "75%                            1.000000                  1.000000   \n",
       "max                            1.000000                  1.000000   \n",
       "\n",
       "       import__average_from_imported_modules  \\\n",
       "count                              62.000000   \n",
       "mean                                8.473118   \n",
       "std                                 3.117054   \n",
       "min                                 6.333333   \n",
       "25%                                 7.000000   \n",
       "50%                                 8.000000   \n",
       "75%                                 8.000000   \n",
       "max                                23.000000   \n",
       "\n",
       "       import__average_as_in_imported_modules  import__local_imports_pct  \\\n",
       "count                               62.000000                  62.000000   \n",
       "mean                                 0.006048                   0.875000   \n",
       "std                                  0.047625                   0.322484   \n",
       "min                                  0.000000                   0.000000   \n",
       "25%                                  0.000000                   1.000000   \n",
       "50%                                  0.000000                   1.000000   \n",
       "75%                                  0.000000                   1.000000   \n",
       "max                                  0.375000                   1.000000   \n",
       "\n",
       "       import__expertise_level_BEGINNER  import__expertise_level_EXPERT  \n",
       "count                         62.000000                       62.000000  \n",
       "mean                           0.500000                        0.500000  \n",
       "std                            0.504082                        0.504082  \n",
       "min                            0.000000                        0.000000  \n",
       "25%                            0.000000                        0.000000  \n",
       "50%                            0.500000                        0.500000  \n",
       "75%                            1.000000                        1.000000  \n",
       "max                            1.000000                        1.000000  "
      ],
      "text/html": [
       "<div>\n",
       "<style scoped>\n",
       "    .dataframe tbody tr th:only-of-type {\n",
       "        vertical-align: middle;\n",
       "    }\n",
       "\n",
       "    .dataframe tbody tr th {\n",
       "        vertical-align: top;\n",
       "    }\n",
       "\n",
       "    .dataframe thead th {\n",
       "        text-align: right;\n",
       "    }\n",
       "</style>\n",
       "<table border=\"1\" class=\"dataframe\">\n",
       "  <thead>\n",
       "    <tr style=\"text-align: right;\">\n",
       "      <th></th>\n",
       "      <th>import__number_imports</th>\n",
       "      <th>import__module_imports_pct</th>\n",
       "      <th>import__average_imported_modules</th>\n",
       "      <th>import__from_imports_pct</th>\n",
       "      <th>import__average_from_imported_modules</th>\n",
       "      <th>import__average_as_in_imported_modules</th>\n",
       "      <th>import__local_imports_pct</th>\n",
       "      <th>import__expertise_level_BEGINNER</th>\n",
       "      <th>import__expertise_level_EXPERT</th>\n",
       "    </tr>\n",
       "  </thead>\n",
       "  <tbody>\n",
       "    <tr>\n",
       "      <th>count</th>\n",
       "      <td>62.000000</td>\n",
       "      <td>62.000000</td>\n",
       "      <td>62.000000</td>\n",
       "      <td>62.000000</td>\n",
       "      <td>62.000000</td>\n",
       "      <td>62.000000</td>\n",
       "      <td>62.000000</td>\n",
       "      <td>62.000000</td>\n",
       "      <td>62.000000</td>\n",
       "    </tr>\n",
       "    <tr>\n",
       "      <th>mean</th>\n",
       "      <td>2.370968</td>\n",
       "      <td>0.226344</td>\n",
       "      <td>0.419355</td>\n",
       "      <td>0.773656</td>\n",
       "      <td>8.473118</td>\n",
       "      <td>0.006048</td>\n",
       "      <td>0.875000</td>\n",
       "      <td>0.500000</td>\n",
       "      <td>0.500000</td>\n",
       "    </tr>\n",
       "    <tr>\n",
       "      <th>std</th>\n",
       "      <td>1.369861</td>\n",
       "      <td>0.299477</td>\n",
       "      <td>0.497482</td>\n",
       "      <td>0.299477</td>\n",
       "      <td>3.117054</td>\n",
       "      <td>0.047625</td>\n",
       "      <td>0.322484</td>\n",
       "      <td>0.504082</td>\n",
       "      <td>0.504082</td>\n",
       "    </tr>\n",
       "    <tr>\n",
       "      <th>min</th>\n",
       "      <td>1.000000</td>\n",
       "      <td>0.000000</td>\n",
       "      <td>0.000000</td>\n",
       "      <td>0.200000</td>\n",
       "      <td>6.333333</td>\n",
       "      <td>0.000000</td>\n",
       "      <td>0.000000</td>\n",
       "      <td>0.000000</td>\n",
       "      <td>0.000000</td>\n",
       "    </tr>\n",
       "    <tr>\n",
       "      <th>25%</th>\n",
       "      <td>1.000000</td>\n",
       "      <td>0.000000</td>\n",
       "      <td>0.000000</td>\n",
       "      <td>0.500000</td>\n",
       "      <td>7.000000</td>\n",
       "      <td>0.000000</td>\n",
       "      <td>1.000000</td>\n",
       "      <td>0.000000</td>\n",
       "      <td>0.000000</td>\n",
       "    </tr>\n",
       "    <tr>\n",
       "      <th>50%</th>\n",
       "      <td>2.000000</td>\n",
       "      <td>0.000000</td>\n",
       "      <td>0.000000</td>\n",
       "      <td>1.000000</td>\n",
       "      <td>8.000000</td>\n",
       "      <td>0.000000</td>\n",
       "      <td>1.000000</td>\n",
       "      <td>0.500000</td>\n",
       "      <td>0.500000</td>\n",
       "    </tr>\n",
       "    <tr>\n",
       "      <th>75%</th>\n",
       "      <td>4.000000</td>\n",
       "      <td>0.500000</td>\n",
       "      <td>1.000000</td>\n",
       "      <td>1.000000</td>\n",
       "      <td>8.000000</td>\n",
       "      <td>0.000000</td>\n",
       "      <td>1.000000</td>\n",
       "      <td>1.000000</td>\n",
       "      <td>1.000000</td>\n",
       "    </tr>\n",
       "    <tr>\n",
       "      <th>max</th>\n",
       "      <td>5.000000</td>\n",
       "      <td>0.800000</td>\n",
       "      <td>1.000000</td>\n",
       "      <td>1.000000</td>\n",
       "      <td>23.000000</td>\n",
       "      <td>0.375000</td>\n",
       "      <td>1.000000</td>\n",
       "      <td>1.000000</td>\n",
       "      <td>1.000000</td>\n",
       "    </tr>\n",
       "  </tbody>\n",
       "</table>\n",
       "</div>"
      ]
     },
     "execution_count": 21,
     "metadata": {},
     "output_type": "execute_result"
    }
   ],
   "execution_count": 21
  },
  {
   "metadata": {},
   "cell_type": "markdown",
   "source": [
    "### Variable average_as_in_imported_modules (4/7)\n",
    "Esta variable es de tipo numérica y nos indica el número medio de import con la cláusula as. Como vimos en la descripción de la tabla esta varibale adopta valores en el rango 0 - 1. Con una media de 0.015."
   ],
   "id": "37d55a98f9df4be"
  },
  {
   "metadata": {
    "ExecuteTime": {
     "end_time": "2024-07-03T20:37:07.293753Z",
     "start_time": "2024-07-03T20:37:07.042028Z"
    }
   },
   "cell_type": "code",
   "source": "sns.stripplot(X['import__average_as_in_imported_modules'])",
   "id": "8d7027a78ac296ed",
   "outputs": [
    {
     "data": {
      "text/plain": [
       "<Axes: ylabel='import__average_as_in_imported_modules'>"
      ]
     },
     "execution_count": 22,
     "metadata": {},
     "output_type": "execute_result"
    },
    {
     "data": {
      "text/plain": [
       "<Figure size 640x480 with 1 Axes>"
      ],
      "image/png": "[encoded data removed]"
     },
     "metadata": {},
     "output_type": "display_data"
    }
   ],
   "execution_count": 22
  },
  {
   "metadata": {
    "ExecuteTime": {
     "end_time": "2024-07-03T20:37:07.653935Z",
     "start_time": "2024-07-03T20:37:07.295785Z"
    }
   },
   "cell_type": "code",
   "source": "print_histogram(X, 'import__average_as_in_imported_modules', 'import__expertise_level', bins=30, include_all=False)",
   "id": "d5801491f085f481",
   "outputs": [
    {
     "data": {
      "text/plain": [
       "<Figure size 1200x600 with 1 Axes>"
      ],
      "image/png": "[encoded data removed]"
     },
     "metadata": {},
     "output_type": "display_data"
    }
   ],
   "execution_count": 23
  },
  {
   "metadata": {
    "ExecuteTime": {
     "end_time": "2024-07-03T20:37:07.669295Z",
     "start_time": "2024-07-03T20:37:07.655966Z"
    }
   },
   "cell_type": "code",
   "source": "print_outliers_for_df_column(X, 'import__average_as_in_imported_modules')",
   "id": "98d831dcd0eeee02",
   "outputs": [
    {
     "name": "stdout",
     "output_type": "stream",
     "text": [
      "El coeficiente MC (Medcouple Coefficient) de balanceo es: 0.9010666984360518\n",
      "Rango valores atípicos extremos (Tukey): [0.0,0.0]\n",
      "Rango valores atípicos leves (Tukey): [0.0,0.0]\n",
      "Rango valores atípicos extremos (Fixed BoxPlot): [0.0,0.0]\n",
      "-3.0IQR: 0 instancias tienen un valor para import__average_as_in_imported_modules inferior a 0.0 (Q1-3*IQR) para import__average_as_in_imported_modules. Representando un 0.0% del total de instancias.\n",
      "-1.5IQR: 0 instancias tienen un valor para import__average_as_in_imported_modules inferior a 0.0 (Q1-1.5*IQR) para import__average_as_in_imported_modules. Representando un 0.0% del total de instancias.\n",
      "+1.5IQR: 1205 instancias tienen un valor para import__average_as_in_imported_modules superior a 0.0 (Q3+1.5*IQR) para import__average_as_in_imported_modules. Representando un 6.611% del total de instancias.\n",
      "+3.0IQR: 1205 instancias tienen un valor para import__average_as_in_imported_modules superior a 0.0 (Q3-3*IQR) para import__average_as_in_imported_modules. Representando un 6.611% del total de instancias.\n",
      "L: 0 instancias tienen un valor para import__average_as_in_imported_modules inferior a 0.0 para import__average_as_in_imported_modules. Representando un 0.0% del total de instancias.\n",
      "U: 1205 instancias tienen un valor para import__average_as_in_imported_modules superior a 0.0 para import__average_as_in_imported_modules. Representando un 6.611% del total de instancias.\n"
     ]
    }
   ],
   "execution_count": 24
  },
  {
   "metadata": {},
   "cell_type": "markdown",
   "source": "Describimos los valores de las variables de la tabla, cuando el valor de la variable es mayor que 0.0 (Con un MC de 90 usamos Tuckey Extremo)",
   "id": "7c0ecf6141e54c49"
  },
  {
   "metadata": {
    "ExecuteTime": {
     "end_time": "2024-07-03T20:37:07.720050Z",
     "start_time": "2024-07-03T20:37:07.671304Z"
    }
   },
   "cell_type": "code",
   "source": "X[X['import__average_as_in_imported_modules'] > 0.0].describe(percentiles=[.25, .50, .75], include = ['object', 'float', 'bool', 'int'])",
   "id": "74dd9804c97aef00",
   "outputs": [
    {
     "data": {
      "text/plain": [
       "       import__number_imports  import__module_imports_pct  \\\n",
       "count             1205.000000                 1205.000000   \n",
       "mean                12.285478                    0.253466   \n",
       "std                 12.776243                    0.224109   \n",
       "min                  1.000000                    0.000000   \n",
       "25%                  5.000000                    0.000000   \n",
       "50%                 10.000000                    0.222222   \n",
       "75%                 15.000000                    0.407407   \n",
       "max                194.000000                    0.928571   \n",
       "\n",
       "       import__average_imported_modules  import__from_imports_pct  \\\n",
       "count                       1205.000000               1205.000000   \n",
       "mean                           0.757261                  0.746534   \n",
       "std                            0.501864                  0.224109   \n",
       "min                            0.000000                  0.071429   \n",
       "25%                            0.000000                  0.592593   \n",
       "50%                            1.000000                  0.777778   \n",
       "75%                            1.000000                  1.000000   \n",
       "max                            8.500000                  1.000000   \n",
       "\n",
       "       import__average_from_imported_modules  \\\n",
       "count                            1205.000000   \n",
       "mean                                1.541974   \n",
       "std                                 0.919924   \n",
       "min                                 1.000000   \n",
       "25%                                 1.000000   \n",
       "50%                                 1.200000   \n",
       "75%                                 1.695652   \n",
       "max                                 8.000000   \n",
       "\n",
       "       import__average_as_in_imported_modules  import__local_imports_pct  \\\n",
       "count                             1205.000000                1205.000000   \n",
       "mean                                 0.230977                   0.534176   \n",
       "std                                  0.236663                   0.485278   \n",
       "min                                  0.007692                   0.000000   \n",
       "25%                                  0.073171                   0.000000   \n",
       "50%                                  0.142857                   0.907692   \n",
       "75%                                  0.333333                   1.000000   \n",
       "max                                  1.000000                   1.000000   \n",
       "\n",
       "       import__expertise_level_BEGINNER  import__expertise_level_EXPERT  \n",
       "count                       1205.000000                     1205.000000  \n",
       "mean                           0.302905                        0.697095  \n",
       "std                            0.459705                        0.459705  \n",
       "min                            0.000000                        0.000000  \n",
       "25%                            0.000000                        0.000000  \n",
       "50%                            0.000000                        1.000000  \n",
       "75%                            1.000000                        1.000000  \n",
       "max                            1.000000                        1.000000  "
      ],
      "text/html": [
       "<div>\n",
       "<style scoped>\n",
       "    .dataframe tbody tr th:only-of-type {\n",
       "        vertical-align: middle;\n",
       "    }\n",
       "\n",
       "    .dataframe tbody tr th {\n",
       "        vertical-align: top;\n",
       "    }\n",
       "\n",
       "    .dataframe thead th {\n",
       "        text-align: right;\n",
       "    }\n",
       "</style>\n",
       "<table border=\"1\" class=\"dataframe\">\n",
       "  <thead>\n",
       "    <tr style=\"text-align: right;\">\n",
       "      <th></th>\n",
       "      <th>import__number_imports</th>\n",
       "      <th>import__module_imports_pct</th>\n",
       "      <th>import__average_imported_modules</th>\n",
       "      <th>import__from_imports_pct</th>\n",
       "      <th>import__average_from_imported_modules</th>\n",
       "      <th>import__average_as_in_imported_modules</th>\n",
       "      <th>import__local_imports_pct</th>\n",
       "      <th>import__expertise_level_BEGINNER</th>\n",
       "      <th>import__expertise_level_EXPERT</th>\n",
       "    </tr>\n",
       "  </thead>\n",
       "  <tbody>\n",
       "    <tr>\n",
       "      <th>count</th>\n",
       "      <td>1205.000000</td>\n",
       "      <td>1205.000000</td>\n",
       "      <td>1205.000000</td>\n",
       "      <td>1205.000000</td>\n",
       "      <td>1205.000000</td>\n",
       "      <td>1205.000000</td>\n",
       "      <td>1205.000000</td>\n",
       "      <td>1205.000000</td>\n",
       "      <td>1205.000000</td>\n",
       "    </tr>\n",
       "    <tr>\n",
       "      <th>mean</th>\n",
       "      <td>12.285478</td>\n",
       "      <td>0.253466</td>\n",
       "      <td>0.757261</td>\n",
       "      <td>0.746534</td>\n",
       "      <td>1.541974</td>\n",
       "      <td>0.230977</td>\n",
       "      <td>0.534176</td>\n",
       "      <td>0.302905</td>\n",
       "      <td>0.697095</td>\n",
       "    </tr>\n",
       "    <tr>\n",
       "      <th>std</th>\n",
       "      <td>12.776243</td>\n",
       "      <td>0.224109</td>\n",
       "      <td>0.501864</td>\n",
       "      <td>0.224109</td>\n",
       "      <td>0.919924</td>\n",
       "      <td>0.236663</td>\n",
       "      <td>0.485278</td>\n",
       "      <td>0.459705</td>\n",
       "      <td>0.459705</td>\n",
       "    </tr>\n",
       "    <tr>\n",
       "      <th>min</th>\n",
       "      <td>1.000000</td>\n",
       "      <td>0.000000</td>\n",
       "      <td>0.000000</td>\n",
       "      <td>0.071429</td>\n",
       "      <td>1.000000</td>\n",
       "      <td>0.007692</td>\n",
       "      <td>0.000000</td>\n",
       "      <td>0.000000</td>\n",
       "      <td>0.000000</td>\n",
       "    </tr>\n",
       "    <tr>\n",
       "      <th>25%</th>\n",
       "      <td>5.000000</td>\n",
       "      <td>0.000000</td>\n",
       "      <td>0.000000</td>\n",
       "      <td>0.592593</td>\n",
       "      <td>1.000000</td>\n",
       "      <td>0.073171</td>\n",
       "      <td>0.000000</td>\n",
       "      <td>0.000000</td>\n",
       "      <td>0.000000</td>\n",
       "    </tr>\n",
       "    <tr>\n",
       "      <th>50%</th>\n",
       "      <td>10.000000</td>\n",
       "      <td>0.222222</td>\n",
       "      <td>1.000000</td>\n",
       "      <td>0.777778</td>\n",
       "      <td>1.200000</td>\n",
       "      <td>0.142857</td>\n",
       "      <td>0.907692</td>\n",
       "      <td>0.000000</td>\n",
       "      <td>1.000000</td>\n",
       "    </tr>\n",
       "    <tr>\n",
       "      <th>75%</th>\n",
       "      <td>15.000000</td>\n",
       "      <td>0.407407</td>\n",
       "      <td>1.000000</td>\n",
       "      <td>1.000000</td>\n",
       "      <td>1.695652</td>\n",
       "      <td>0.333333</td>\n",
       "      <td>1.000000</td>\n",
       "      <td>1.000000</td>\n",
       "      <td>1.000000</td>\n",
       "    </tr>\n",
       "    <tr>\n",
       "      <th>max</th>\n",
       "      <td>194.000000</td>\n",
       "      <td>0.928571</td>\n",
       "      <td>8.500000</td>\n",
       "      <td>1.000000</td>\n",
       "      <td>8.000000</td>\n",
       "      <td>1.000000</td>\n",
       "      <td>1.000000</td>\n",
       "      <td>1.000000</td>\n",
       "      <td>1.000000</td>\n",
       "    </tr>\n",
       "  </tbody>\n",
       "</table>\n",
       "</div>"
      ]
     },
     "execution_count": 25,
     "metadata": {},
     "output_type": "execute_result"
    }
   ],
   "execution_count": 25
  },
  {
   "metadata": {},
   "cell_type": "markdown",
   "source": [
    "### Variable module_imports_pct (5/7)\n",
    "Esta variable representa la proporción de import simples del fichero. Como vimos en la descripción de la tabla esta varibale adopta valores en el rango 0.0 - 1.0. Con una media de 0.29."
   ],
   "id": "fb182a156befa75a"
  },
  {
   "metadata": {
    "ExecuteTime": {
     "end_time": "2024-07-03T20:37:08.284743Z",
     "start_time": "2024-07-03T20:37:07.722059Z"
    }
   },
   "cell_type": "code",
   "source": "sns.displot(X['import__module_imports_pct'], bins=[i / 100 for i in range(0, 101)])",
   "id": "8cfc8a56a436ab6d",
   "outputs": [
    {
     "data": {
      "text/plain": [
       "<seaborn.axisgrid.FacetGrid at 0x17a265dde50>"
      ]
     },
     "execution_count": 26,
     "metadata": {},
     "output_type": "execute_result"
    },
    {
     "data": {
      "text/plain": [
       "<Figure size 500x500 with 1 Axes>"
      ],
      "image/png": "[encoded data removed]"
     },
     "metadata": {},
     "output_type": "display_data"
    }
   ],
   "execution_count": 26
  },
  {
   "metadata": {
    "ExecuteTime": {
     "end_time": "2024-07-03T20:37:08.718640Z",
     "start_time": "2024-07-03T20:37:08.286779Z"
    }
   },
   "cell_type": "code",
   "source": "print_histogram(X, 'import__module_imports_pct', 'import__expertise_level', bins=30, include_all=False)",
   "id": "bf63861934238da5",
   "outputs": [
    {
     "data": {
      "text/plain": [
       "<Figure size 1200x600 with 1 Axes>"
      ],
      "image/png": "[encoded data removed]"
     },
     "metadata": {},
     "output_type": "display_data"
    }
   ],
   "execution_count": 27
  },
  {
   "metadata": {
    "ExecuteTime": {
     "end_time": "2024-07-03T20:37:08.737531Z",
     "start_time": "2024-07-03T20:37:08.721669Z"
    }
   },
   "cell_type": "code",
   "source": "print_outliers_for_df_column(X, 'import__module_imports_pct')",
   "id": "6d4e07dfc0eea73c",
   "outputs": [
    {
     "name": "stdout",
     "output_type": "stream",
     "text": [
      "El coeficiente MC (Medcouple Coefficient) de balanceo es: 0.36346638202667236\n",
      "Rango valores atípicos extremos (Tukey): [-1.5,2.0]\n",
      "Rango valores atípicos leves (Tukey): [-0.75,1.25]\n",
      "Rango valores atípicos extremos (Fixed BoxPlot): [-0.21017507406897068,3.7097191967094023]\n",
      "-3.0IQR: 0 instancias tienen un valor para import__module_imports_pct inferior a -1.5 (Q1-3*IQR) para import__module_imports_pct. Representando un 0.0% del total de instancias.\n",
      "-1.5IQR: 0 instancias tienen un valor para import__module_imports_pct inferior a -0.75 (Q1-1.5*IQR) para import__module_imports_pct. Representando un 0.0% del total de instancias.\n",
      "+1.5IQR: 0 instancias tienen un valor para import__module_imports_pct superior a 1.25 (Q3+1.5*IQR) para import__module_imports_pct. Representando un 0.0% del total de instancias.\n",
      "+3.0IQR: 0 instancias tienen un valor para import__module_imports_pct superior a 2.0 (Q3-3*IQR) para import__module_imports_pct. Representando un 0.0% del total de instancias.\n",
      "L: 0 instancias tienen un valor para import__module_imports_pct inferior a -0.21017507406897068 para import__module_imports_pct. Representando un 0.0% del total de instancias.\n",
      "U: 0 instancias tienen un valor para import__module_imports_pct superior a 3.7097191967094023 para import__module_imports_pct. Representando un 0.0% del total de instancias.\n"
     ]
    }
   ],
   "execution_count": 28
  },
  {
   "metadata": {
    "ExecuteTime": {
     "end_time": "2024-07-03T20:37:08.783287Z",
     "start_time": "2024-07-03T20:37:08.739591Z"
    }
   },
   "cell_type": "code",
   "source": "X[X['import__module_imports_pct'] == 1.0].describe(percentiles=[.25, .50, .75], include = ['object', 'float', 'bool', 'int'])",
   "id": "5c5b54117de99ea5",
   "outputs": [
    {
     "data": {
      "text/plain": [
       "       import__number_imports  import__module_imports_pct  \\\n",
       "count             1964.000000                      1964.0   \n",
       "mean                 2.026986                         1.0   \n",
       "std                  1.500818                         0.0   \n",
       "min                  1.000000                         1.0   \n",
       "25%                  1.000000                         1.0   \n",
       "50%                  1.000000                         1.0   \n",
       "75%                  3.000000                         1.0   \n",
       "max                 14.000000                         1.0   \n",
       "\n",
       "       import__average_imported_modules  import__from_imports_pct  \\\n",
       "count                       1964.000000                    1964.0   \n",
       "mean                           1.042379                       0.0   \n",
       "std                            0.283828                       0.0   \n",
       "min                            1.000000                       0.0   \n",
       "25%                            1.000000                       0.0   \n",
       "50%                            1.000000                       0.0   \n",
       "75%                            1.000000                       0.0   \n",
       "max                            6.000000                       0.0   \n",
       "\n",
       "       import__average_from_imported_modules  \\\n",
       "count                                 1964.0   \n",
       "mean                                     0.0   \n",
       "std                                      0.0   \n",
       "min                                      0.0   \n",
       "25%                                      0.0   \n",
       "50%                                      0.0   \n",
       "75%                                      0.0   \n",
       "max                                      0.0   \n",
       "\n",
       "       import__average_as_in_imported_modules  import__local_imports_pct  \\\n",
       "count                                  1964.0                1964.000000   \n",
       "mean                                      0.0                   0.842422   \n",
       "std                                       0.0                   0.362171   \n",
       "min                                       0.0                   0.000000   \n",
       "25%                                       0.0                   1.000000   \n",
       "50%                                       0.0                   1.000000   \n",
       "75%                                       0.0                   1.000000   \n",
       "max                                       0.0                   1.000000   \n",
       "\n",
       "       import__expertise_level_BEGINNER  import__expertise_level_EXPERT  \n",
       "count                       1964.000000                     1964.000000  \n",
       "mean                           0.613544                        0.386456  \n",
       "std                            0.487061                        0.487061  \n",
       "min                            0.000000                        0.000000  \n",
       "25%                            0.000000                        0.000000  \n",
       "50%                            1.000000                        0.000000  \n",
       "75%                            1.000000                        1.000000  \n",
       "max                            1.000000                        1.000000  "
      ],
      "text/html": [
       "<div>\n",
       "<style scoped>\n",
       "    .dataframe tbody tr th:only-of-type {\n",
       "        vertical-align: middle;\n",
       "    }\n",
       "\n",
       "    .dataframe tbody tr th {\n",
       "        vertical-align: top;\n",
       "    }\n",
       "\n",
       "    .dataframe thead th {\n",
       "        text-align: right;\n",
       "    }\n",
       "</style>\n",
       "<table border=\"1\" class=\"dataframe\">\n",
       "  <thead>\n",
       "    <tr style=\"text-align: right;\">\n",
       "      <th></th>\n",
       "      <th>import__number_imports</th>\n",
       "      <th>import__module_imports_pct</th>\n",
       "      <th>import__average_imported_modules</th>\n",
       "      <th>import__from_imports_pct</th>\n",
       "      <th>import__average_from_imported_modules</th>\n",
       "      <th>import__average_as_in_imported_modules</th>\n",
       "      <th>import__local_imports_pct</th>\n",
       "      <th>import__expertise_level_BEGINNER</th>\n",
       "      <th>import__expertise_level_EXPERT</th>\n",
       "    </tr>\n",
       "  </thead>\n",
       "  <tbody>\n",
       "    <tr>\n",
       "      <th>count</th>\n",
       "      <td>1964.000000</td>\n",
       "      <td>1964.0</td>\n",
       "      <td>1964.000000</td>\n",
       "      <td>1964.0</td>\n",
       "      <td>1964.0</td>\n",
       "      <td>1964.0</td>\n",
       "      <td>1964.000000</td>\n",
       "      <td>1964.000000</td>\n",
       "      <td>1964.000000</td>\n",
       "    </tr>\n",
       "    <tr>\n",
       "      <th>mean</th>\n",
       "      <td>2.026986</td>\n",
       "      <td>1.0</td>\n",
       "      <td>1.042379</td>\n",
       "      <td>0.0</td>\n",
       "      <td>0.0</td>\n",
       "      <td>0.0</td>\n",
       "      <td>0.842422</td>\n",
       "      <td>0.613544</td>\n",
       "      <td>0.386456</td>\n",
       "    </tr>\n",
       "    <tr>\n",
       "      <th>std</th>\n",
       "      <td>1.500818</td>\n",
       "      <td>0.0</td>\n",
       "      <td>0.283828</td>\n",
       "      <td>0.0</td>\n",
       "      <td>0.0</td>\n",
       "      <td>0.0</td>\n",
       "      <td>0.362171</td>\n",
       "      <td>0.487061</td>\n",
       "      <td>0.487061</td>\n",
       "    </tr>\n",
       "    <tr>\n",
       "      <th>min</th>\n",
       "      <td>1.000000</td>\n",
       "      <td>1.0</td>\n",
       "      <td>1.000000</td>\n",
       "      <td>0.0</td>\n",
       "      <td>0.0</td>\n",
       "      <td>0.0</td>\n",
       "      <td>0.000000</td>\n",
       "      <td>0.000000</td>\n",
       "      <td>0.000000</td>\n",
       "    </tr>\n",
       "    <tr>\n",
       "      <th>25%</th>\n",
       "      <td>1.000000</td>\n",
       "      <td>1.0</td>\n",
       "      <td>1.000000</td>\n",
       "      <td>0.0</td>\n",
       "      <td>0.0</td>\n",
       "      <td>0.0</td>\n",
       "      <td>1.000000</td>\n",
       "      <td>0.000000</td>\n",
       "      <td>0.000000</td>\n",
       "    </tr>\n",
       "    <tr>\n",
       "      <th>50%</th>\n",
       "      <td>1.000000</td>\n",
       "      <td>1.0</td>\n",
       "      <td>1.000000</td>\n",
       "      <td>0.0</td>\n",
       "      <td>0.0</td>\n",
       "      <td>0.0</td>\n",
       "      <td>1.000000</td>\n",
       "      <td>1.000000</td>\n",
       "      <td>0.000000</td>\n",
       "    </tr>\n",
       "    <tr>\n",
       "      <th>75%</th>\n",
       "      <td>3.000000</td>\n",
       "      <td>1.0</td>\n",
       "      <td>1.000000</td>\n",
       "      <td>0.0</td>\n",
       "      <td>0.0</td>\n",
       "      <td>0.0</td>\n",
       "      <td>1.000000</td>\n",
       "      <td>1.000000</td>\n",
       "      <td>1.000000</td>\n",
       "    </tr>\n",
       "    <tr>\n",
       "      <th>max</th>\n",
       "      <td>14.000000</td>\n",
       "      <td>1.0</td>\n",
       "      <td>6.000000</td>\n",
       "      <td>0.0</td>\n",
       "      <td>0.0</td>\n",
       "      <td>0.0</td>\n",
       "      <td>1.000000</td>\n",
       "      <td>1.000000</td>\n",
       "      <td>1.000000</td>\n",
       "    </tr>\n",
       "  </tbody>\n",
       "</table>\n",
       "</div>"
      ]
     },
     "execution_count": 29,
     "metadata": {},
     "output_type": "execute_result"
    }
   ],
   "execution_count": 29
  },
  {
   "metadata": {},
   "cell_type": "markdown",
   "source": [
    "### IMPORTANTE\n",
    "El 40% de los imports tienen module_imports_pct = 0.0"
   ],
   "id": "8faf83ba21f7e7b5"
  },
  {
   "metadata": {},
   "cell_type": "markdown",
   "source": [
    "### Variable from_imports_pct (6/7)\n",
    "Esta variable representa la proporción de imports que usan la clausula From en el fichero. Como vimos en la descripción de la tabla esta varibale adopta valores en el rango 0.0 - 1.0. Con una media de 0.52.\n"
   ],
   "id": "fbd6e93cca1be4bf"
  },
  {
   "metadata": {
    "ExecuteTime": {
     "end_time": "2024-07-03T20:37:09.343978Z",
     "start_time": "2024-07-03T20:37:08.785297Z"
    }
   },
   "cell_type": "code",
   "source": "sns.displot(X['import__from_imports_pct'], bins=[i / 100 for i in range(0, 101)])",
   "id": "f1b75c25c53f4ad5",
   "outputs": [
    {
     "data": {
      "text/plain": [
       "<seaborn.axisgrid.FacetGrid at 0x17a27bf7500>"
      ]
     },
     "execution_count": 30,
     "metadata": {},
     "output_type": "execute_result"
    },
    {
     "data": {
      "text/plain": [
       "<Figure size 500x500 with 1 Axes>"
      ],
      "image/png": "[encoded data removed]"
     },
     "metadata": {},
     "output_type": "display_data"
    }
   ],
   "execution_count": 30
  },
  {
   "metadata": {
    "ExecuteTime": {
     "end_time": "2024-07-03T20:37:09.930009Z",
     "start_time": "2024-07-03T20:37:09.345993Z"
    }
   },
   "cell_type": "code",
   "source": "print_histogram(X, 'import__from_imports_pct', 'import__expertise_level', bins=30, include_all=False)",
   "id": "8049fdf47a097983",
   "outputs": [
    {
     "data": {
      "text/plain": [
       "<Figure size 1200x600 with 1 Axes>"
      ],
      "image/png": "[encoded data removed]"
     },
     "metadata": {},
     "output_type": "display_data"
    }
   ],
   "execution_count": 31
  },
  {
   "metadata": {
    "ExecuteTime": {
     "end_time": "2024-07-03T20:37:09.944812Z",
     "start_time": "2024-07-03T20:37:09.932030Z"
    }
   },
   "cell_type": "code",
   "source": "print_outliers_for_df_column(X, 'import__from_imports_pct')",
   "id": "d44c212251238f23",
   "outputs": [
    {
     "name": "stdout",
     "output_type": "stream",
     "text": [
      "El coeficiente MC (Medcouple Coefficient) de balanceo es: 0.24188735228922378\n",
      "Rango valores atípicos extremos (Tukey): [-3.0,4.0]\n",
      "Rango valores atípicos leves (Tukey): [-1.5,2.5]\n",
      "Rango valores atípicos extremos (Fixed BoxPlot): [-0.6433022358966478,4.9472317769514]\n",
      "-3.0IQR: 0 instancias tienen un valor para import__from_imports_pct inferior a -3.0 (Q1-3*IQR) para import__from_imports_pct. Representando un 0.0% del total de instancias.\n",
      "-1.5IQR: 0 instancias tienen un valor para import__from_imports_pct inferior a -1.5 (Q1-1.5*IQR) para import__from_imports_pct. Representando un 0.0% del total de instancias.\n",
      "+1.5IQR: 0 instancias tienen un valor para import__from_imports_pct superior a 2.5 (Q3+1.5*IQR) para import__from_imports_pct. Representando un 0.0% del total de instancias.\n",
      "+3.0IQR: 0 instancias tienen un valor para import__from_imports_pct superior a 4.0 (Q3-3*IQR) para import__from_imports_pct. Representando un 0.0% del total de instancias.\n",
      "L: 0 instancias tienen un valor para import__from_imports_pct inferior a -0.6433022358966478 para import__from_imports_pct. Representando un 0.0% del total de instancias.\n",
      "U: 0 instancias tienen un valor para import__from_imports_pct superior a 4.9472317769514 para import__from_imports_pct. Representando un 0.0% del total de instancias.\n"
     ]
    }
   ],
   "execution_count": 32
  },
  {
   "metadata": {},
   "cell_type": "markdown",
   "source": "IMPORTANTE: Estos valores siguen un distribucion en forma de U (distribucion de Laplace). Con lo que los posibles valores outliers estan en el medio, no en los extremos. No se puede aplicar el metodo de tukey. En este momento, solo vamos a mostrar los valores que hay en el medio.",
   "id": "2105fc1e9e292de7"
  },
  {
   "metadata": {
    "ExecuteTime": {
     "end_time": "2024-07-03T20:37:09.989403Z",
     "start_time": "2024-07-03T20:37:09.945827Z"
    }
   },
   "cell_type": "code",
   "source": "X[(X['import__from_imports_pct'] > 0.0) & (X['import__from_imports_pct'] < 1.0)].describe(percentiles=[.25, .50, .75], include = ['object', 'float', 'bool', 'int'])",
   "id": "b493e3454f34ef9",
   "outputs": [
    {
     "data": {
      "text/plain": [
       "       import__number_imports  import__module_imports_pct  \\\n",
       "count             8381.000000                 8381.000000   \n",
       "mean                 8.833910                    0.406920   \n",
       "std                  7.180114                    0.207390   \n",
       "min                  2.000000                    0.016949   \n",
       "25%                  4.000000                    0.250000   \n",
       "50%                  7.000000                    0.400000   \n",
       "75%                 11.000000                    0.533333   \n",
       "max                194.000000                    0.941176   \n",
       "\n",
       "       import__average_imported_modules  import__from_imports_pct  \\\n",
       "count                       8381.000000               8381.000000   \n",
       "mean                           1.018371                  0.593080   \n",
       "std                            0.215853                  0.207390   \n",
       "min                            1.000000                  0.058824   \n",
       "25%                            1.000000                  0.466667   \n",
       "50%                            1.000000                  0.600000   \n",
       "75%                            1.000000                  0.750000   \n",
       "max                            8.500000                  0.983051   \n",
       "\n",
       "       import__average_from_imported_modules  \\\n",
       "count                            8381.000000   \n",
       "mean                                1.649877   \n",
       "std                                 0.897264   \n",
       "min                                 1.000000   \n",
       "25%                                 1.000000   \n",
       "50%                                 1.375000   \n",
       "75%                                 2.000000   \n",
       "max                                11.500000   \n",
       "\n",
       "       import__average_as_in_imported_modules  import__local_imports_pct  \\\n",
       "count                             8381.000000                8381.000000   \n",
       "mean                                 0.019376                   0.677662   \n",
       "std                                  0.084646                   0.459334   \n",
       "min                                  0.000000                   0.000000   \n",
       "25%                                  0.000000                   0.000000   \n",
       "50%                                  0.000000                   1.000000   \n",
       "75%                                  0.000000                   1.000000   \n",
       "max                                  1.000000                   1.000000   \n",
       "\n",
       "       import__expertise_level_BEGINNER  import__expertise_level_EXPERT  \n",
       "count                       8381.000000                     8381.000000  \n",
       "mean                           0.261305                        0.738695  \n",
       "std                            0.439372                        0.439372  \n",
       "min                            0.000000                        0.000000  \n",
       "25%                            0.000000                        0.000000  \n",
       "50%                            0.000000                        1.000000  \n",
       "75%                            1.000000                        1.000000  \n",
       "max                            1.000000                        1.000000  "
      ],
      "text/html": [
       "<div>\n",
       "<style scoped>\n",
       "    .dataframe tbody tr th:only-of-type {\n",
       "        vertical-align: middle;\n",
       "    }\n",
       "\n",
       "    .dataframe tbody tr th {\n",
       "        vertical-align: top;\n",
       "    }\n",
       "\n",
       "    .dataframe thead th {\n",
       "        text-align: right;\n",
       "    }\n",
       "</style>\n",
       "<table border=\"1\" class=\"dataframe\">\n",
       "  <thead>\n",
       "    <tr style=\"text-align: right;\">\n",
       "      <th></th>\n",
       "      <th>import__number_imports</th>\n",
       "      <th>import__module_imports_pct</th>\n",
       "      <th>import__average_imported_modules</th>\n",
       "      <th>import__from_imports_pct</th>\n",
       "      <th>import__average_from_imported_modules</th>\n",
       "      <th>import__average_as_in_imported_modules</th>\n",
       "      <th>import__local_imports_pct</th>\n",
       "      <th>import__expertise_level_BEGINNER</th>\n",
       "      <th>import__expertise_level_EXPERT</th>\n",
       "    </tr>\n",
       "  </thead>\n",
       "  <tbody>\n",
       "    <tr>\n",
       "      <th>count</th>\n",
       "      <td>8381.000000</td>\n",
       "      <td>8381.000000</td>\n",
       "      <td>8381.000000</td>\n",
       "      <td>8381.000000</td>\n",
       "      <td>8381.000000</td>\n",
       "      <td>8381.000000</td>\n",
       "      <td>8381.000000</td>\n",
       "      <td>8381.000000</td>\n",
       "      <td>8381.000000</td>\n",
       "    </tr>\n",
       "    <tr>\n",
       "      <th>mean</th>\n",
       "      <td>8.833910</td>\n",
       "      <td>0.406920</td>\n",
       "      <td>1.018371</td>\n",
       "      <td>0.593080</td>\n",
       "      <td>1.649877</td>\n",
       "      <td>0.019376</td>\n",
       "      <td>0.677662</td>\n",
       "      <td>0.261305</td>\n",
       "      <td>0.738695</td>\n",
       "    </tr>\n",
       "    <tr>\n",
       "      <th>std</th>\n",
       "      <td>7.180114</td>\n",
       "      <td>0.207390</td>\n",
       "      <td>0.215853</td>\n",
       "      <td>0.207390</td>\n",
       "      <td>0.897264</td>\n",
       "      <td>0.084646</td>\n",
       "      <td>0.459334</td>\n",
       "      <td>0.439372</td>\n",
       "      <td>0.439372</td>\n",
       "    </tr>\n",
       "    <tr>\n",
       "      <th>min</th>\n",
       "      <td>2.000000</td>\n",
       "      <td>0.016949</td>\n",
       "      <td>1.000000</td>\n",
       "      <td>0.058824</td>\n",
       "      <td>1.000000</td>\n",
       "      <td>0.000000</td>\n",
       "      <td>0.000000</td>\n",
       "      <td>0.000000</td>\n",
       "      <td>0.000000</td>\n",
       "    </tr>\n",
       "    <tr>\n",
       "      <th>25%</th>\n",
       "      <td>4.000000</td>\n",
       "      <td>0.250000</td>\n",
       "      <td>1.000000</td>\n",
       "      <td>0.466667</td>\n",
       "      <td>1.000000</td>\n",
       "      <td>0.000000</td>\n",
       "      <td>0.000000</td>\n",
       "      <td>0.000000</td>\n",
       "      <td>0.000000</td>\n",
       "    </tr>\n",
       "    <tr>\n",
       "      <th>50%</th>\n",
       "      <td>7.000000</td>\n",
       "      <td>0.400000</td>\n",
       "      <td>1.000000</td>\n",
       "      <td>0.600000</td>\n",
       "      <td>1.375000</td>\n",
       "      <td>0.000000</td>\n",
       "      <td>1.000000</td>\n",
       "      <td>0.000000</td>\n",
       "      <td>1.000000</td>\n",
       "    </tr>\n",
       "    <tr>\n",
       "      <th>75%</th>\n",
       "      <td>11.000000</td>\n",
       "      <td>0.533333</td>\n",
       "      <td>1.000000</td>\n",
       "      <td>0.750000</td>\n",
       "      <td>2.000000</td>\n",
       "      <td>0.000000</td>\n",
       "      <td>1.000000</td>\n",
       "      <td>1.000000</td>\n",
       "      <td>1.000000</td>\n",
       "    </tr>\n",
       "    <tr>\n",
       "      <th>max</th>\n",
       "      <td>194.000000</td>\n",
       "      <td>0.941176</td>\n",
       "      <td>8.500000</td>\n",
       "      <td>0.983051</td>\n",
       "      <td>11.500000</td>\n",
       "      <td>1.000000</td>\n",
       "      <td>1.000000</td>\n",
       "      <td>1.000000</td>\n",
       "      <td>1.000000</td>\n",
       "    </tr>\n",
       "  </tbody>\n",
       "</table>\n",
       "</div>"
      ]
     },
     "execution_count": 33,
     "metadata": {},
     "output_type": "execute_result"
    }
   ],
   "execution_count": 33
  },
  {
   "metadata": {},
   "cell_type": "markdown",
   "source": [
    "### IMPORTANTE\n",
    "El 28% tienen un 0% y el 25% tienen un 100%."
   ],
   "id": "b84088814a3100d6"
  },
  {
   "metadata": {},
   "cell_type": "markdown",
   "source": [
    "### Variable local_imports_pct (7/7)\n",
    "Esta variable representa la proporción de imports no escritos al comienzo del fichero. Como vimos en la descripción de la tabla esta varibale adopta valores en el rango 0.0 - 1.0. Con una media de 0.59. "
   ],
   "id": "e3d532376a1f0a16"
  },
  {
   "metadata": {
    "ExecuteTime": {
     "end_time": "2024-07-03T20:37:10.502261Z",
     "start_time": "2024-07-03T20:37:09.991435Z"
    }
   },
   "cell_type": "code",
   "source": "sns.displot(X['import__local_imports_pct'], bins=[i / 100 for i in range(0, 101)])",
   "id": "345260364ebc3bf6",
   "outputs": [
    {
     "data": {
      "text/plain": [
       "<seaborn.axisgrid.FacetGrid at 0x17a26af7050>"
      ]
     },
     "execution_count": 34,
     "metadata": {},
     "output_type": "execute_result"
    },
    {
     "data": {
      "text/plain": [
       "<Figure size 500x500 with 1 Axes>"
      ],
      "image/png": "[encoded data removed]"
     },
     "metadata": {},
     "output_type": "display_data"
    }
   ],
   "execution_count": 34
  },
  {
   "metadata": {
    "ExecuteTime": {
     "end_time": "2024-07-03T20:37:10.937520Z",
     "start_time": "2024-07-03T20:37:10.504275Z"
    }
   },
   "cell_type": "code",
   "source": "print_histogram(X, 'import__local_imports_pct', 'import__expertise_level', bins=30, include_all=False)",
   "id": "233c74fd8c771495",
   "outputs": [
    {
     "data": {
      "text/plain": [
       "<Figure size 1200x600 with 1 Axes>"
      ],
      "image/png": "[encoded data removed]"
     },
     "metadata": {},
     "output_type": "display_data"
    }
   ],
   "execution_count": 35
  },
  {
   "metadata": {
    "ExecuteTime": {
     "end_time": "2024-07-03T20:37:10.954725Z",
     "start_time": "2024-07-03T20:37:10.940543Z"
    }
   },
   "cell_type": "code",
   "source": "print_outliers_for_df_column(X, 'import__local_imports_pct')",
   "id": "974c59b1f655d0f3",
   "outputs": [
    {
     "name": "stdout",
     "output_type": "stream",
     "text": [
      "El coeficiente MC (Medcouple Coefficient) de balanceo es: -0.2144732938615367\n",
      "Rango valores atípicos extremos (Tukey): [-3.0,4.0]\n",
      "Rango valores atípicos leves (Tukey): [-1.5,2.5]\n",
      "Rango valores atípicos extremos (Fixed BoxPlot): [-3.5372807546136995,1.7080847986137384]\n",
      "-3.0IQR: 0 instancias tienen un valor para import__local_imports_pct inferior a -3.0 (Q1-3*IQR) para import__local_imports_pct. Representando un 0.0% del total de instancias.\n",
      "-1.5IQR: 0 instancias tienen un valor para import__local_imports_pct inferior a -1.5 (Q1-1.5*IQR) para import__local_imports_pct. Representando un 0.0% del total de instancias.\n",
      "+1.5IQR: 0 instancias tienen un valor para import__local_imports_pct superior a 2.5 (Q3+1.5*IQR) para import__local_imports_pct. Representando un 0.0% del total de instancias.\n",
      "+3.0IQR: 0 instancias tienen un valor para import__local_imports_pct superior a 4.0 (Q3-3*IQR) para import__local_imports_pct. Representando un 0.0% del total de instancias.\n",
      "L: 0 instancias tienen un valor para import__local_imports_pct inferior a -3.5372807546136995 para import__local_imports_pct. Representando un 0.0% del total de instancias.\n",
      "U: 0 instancias tienen un valor para import__local_imports_pct superior a 1.7080847986137384 para import__local_imports_pct. Representando un 0.0% del total de instancias.\n"
     ]
    }
   ],
   "execution_count": 36
  },
  {
   "metadata": {},
   "cell_type": "markdown",
   "source": "IMPORTANTE: Estos valores siguen un distribucion en forma de U (distribucion de Laplace). Con lo que los posibles valores outliers estan en el medio, no en los extremos. No se puede aplicar el metodo de tukey. En este momento, solo vamos a mostrar los valores que hay en el medio.",
   "id": "edf865eda2133801"
  },
  {
   "metadata": {
    "ExecuteTime": {
     "end_time": "2024-07-03T20:37:11.007534Z",
     "start_time": "2024-07-03T20:37:10.956741Z"
    }
   },
   "cell_type": "code",
   "source": "X[(X['import__local_imports_pct'] < 1.0) & X['import__local_imports_pct'] > 0.0].describe(percentiles=[.25, .50, .75], include = ['object', 'float', 'bool', 'int'])",
   "id": "fd3d31b12264e45",
   "outputs": [
    {
     "data": {
      "text/plain": [
       "       import__number_imports  import__module_imports_pct  \\\n",
       "count              376.000000                  376.000000   \n",
       "mean                 9.965425                    0.445745   \n",
       "std                  9.775418                    0.279731   \n",
       "min                  2.000000                    0.000000   \n",
       "25%                  5.000000                    0.222222   \n",
       "50%                  7.000000                    0.466667   \n",
       "75%                 12.000000                    0.666667   \n",
       "max                130.000000                    1.000000   \n",
       "\n",
       "       import__average_imported_modules  import__from_imports_pct  \\\n",
       "count                        376.000000                376.000000   \n",
       "mean                           0.941356                  0.554255   \n",
       "std                            0.604559                  0.279731   \n",
       "min                            0.000000                  0.000000   \n",
       "25%                            1.000000                  0.333333   \n",
       "50%                            1.000000                  0.533333   \n",
       "75%                            1.000000                  0.777778   \n",
       "max                            8.500000                  1.000000   \n",
       "\n",
       "       import__average_from_imported_modules  \\\n",
       "count                             376.000000   \n",
       "mean                                1.736395   \n",
       "std                                 1.140415   \n",
       "min                                 0.000000   \n",
       "25%                                 1.000000   \n",
       "50%                                 1.500000   \n",
       "75%                                 2.000000   \n",
       "max                                 8.000000   \n",
       "\n",
       "       import__average_as_in_imported_modules  import__local_imports_pct  \\\n",
       "count                              376.000000                 376.000000   \n",
       "mean                                 0.040344                   0.528308   \n",
       "std                                  0.119085                   0.231531   \n",
       "min                                  0.000000                   0.058824   \n",
       "25%                                  0.000000                   0.333333   \n",
       "50%                                  0.000000                   0.541958   \n",
       "75%                                  0.000000                   0.688702   \n",
       "max                                  1.000000                   0.984848   \n",
       "\n",
       "       import__expertise_level_BEGINNER  import__expertise_level_EXPERT  \n",
       "count                        376.000000                      376.000000  \n",
       "mean                           0.351064                        0.648936  \n",
       "std                            0.477939                        0.477939  \n",
       "min                            0.000000                        0.000000  \n",
       "25%                            0.000000                        0.000000  \n",
       "50%                            0.000000                        1.000000  \n",
       "75%                            1.000000                        1.000000  \n",
       "max                            1.000000                        1.000000  "
      ],
      "text/html": [
       "<div>\n",
       "<style scoped>\n",
       "    .dataframe tbody tr th:only-of-type {\n",
       "        vertical-align: middle;\n",
       "    }\n",
       "\n",
       "    .dataframe tbody tr th {\n",
       "        vertical-align: top;\n",
       "    }\n",
       "\n",
       "    .dataframe thead th {\n",
       "        text-align: right;\n",
       "    }\n",
       "</style>\n",
       "<table border=\"1\" class=\"dataframe\">\n",
       "  <thead>\n",
       "    <tr style=\"text-align: right;\">\n",
       "      <th></th>\n",
       "      <th>import__number_imports</th>\n",
       "      <th>import__module_imports_pct</th>\n",
       "      <th>import__average_imported_modules</th>\n",
       "      <th>import__from_imports_pct</th>\n",
       "      <th>import__average_from_imported_modules</th>\n",
       "      <th>import__average_as_in_imported_modules</th>\n",
       "      <th>import__local_imports_pct</th>\n",
       "      <th>import__expertise_level_BEGINNER</th>\n",
       "      <th>import__expertise_level_EXPERT</th>\n",
       "    </tr>\n",
       "  </thead>\n",
       "  <tbody>\n",
       "    <tr>\n",
       "      <th>count</th>\n",
       "      <td>376.000000</td>\n",
       "      <td>376.000000</td>\n",
       "      <td>376.000000</td>\n",
       "      <td>376.000000</td>\n",
       "      <td>376.000000</td>\n",
       "      <td>376.000000</td>\n",
       "      <td>376.000000</td>\n",
       "      <td>376.000000</td>\n",
       "      <td>376.000000</td>\n",
       "    </tr>\n",
       "    <tr>\n",
       "      <th>mean</th>\n",
       "      <td>9.965425</td>\n",
       "      <td>0.445745</td>\n",
       "      <td>0.941356</td>\n",
       "      <td>0.554255</td>\n",
       "      <td>1.736395</td>\n",
       "      <td>0.040344</td>\n",
       "      <td>0.528308</td>\n",
       "      <td>0.351064</td>\n",
       "      <td>0.648936</td>\n",
       "    </tr>\n",
       "    <tr>\n",
       "      <th>std</th>\n",
       "      <td>9.775418</td>\n",
       "      <td>0.279731</td>\n",
       "      <td>0.604559</td>\n",
       "      <td>0.279731</td>\n",
       "      <td>1.140415</td>\n",
       "      <td>0.119085</td>\n",
       "      <td>0.231531</td>\n",
       "      <td>0.477939</td>\n",
       "      <td>0.477939</td>\n",
       "    </tr>\n",
       "    <tr>\n",
       "      <th>min</th>\n",
       "      <td>2.000000</td>\n",
       "      <td>0.000000</td>\n",
       "      <td>0.000000</td>\n",
       "      <td>0.000000</td>\n",
       "      <td>0.000000</td>\n",
       "      <td>0.000000</td>\n",
       "      <td>0.058824</td>\n",
       "      <td>0.000000</td>\n",
       "      <td>0.000000</td>\n",
       "    </tr>\n",
       "    <tr>\n",
       "      <th>25%</th>\n",
       "      <td>5.000000</td>\n",
       "      <td>0.222222</td>\n",
       "      <td>1.000000</td>\n",
       "      <td>0.333333</td>\n",
       "      <td>1.000000</td>\n",
       "      <td>0.000000</td>\n",
       "      <td>0.333333</td>\n",
       "      <td>0.000000</td>\n",
       "      <td>0.000000</td>\n",
       "    </tr>\n",
       "    <tr>\n",
       "      <th>50%</th>\n",
       "      <td>7.000000</td>\n",
       "      <td>0.466667</td>\n",
       "      <td>1.000000</td>\n",
       "      <td>0.533333</td>\n",
       "      <td>1.500000</td>\n",
       "      <td>0.000000</td>\n",
       "      <td>0.541958</td>\n",
       "      <td>0.000000</td>\n",
       "      <td>1.000000</td>\n",
       "    </tr>\n",
       "    <tr>\n",
       "      <th>75%</th>\n",
       "      <td>12.000000</td>\n",
       "      <td>0.666667</td>\n",
       "      <td>1.000000</td>\n",
       "      <td>0.777778</td>\n",
       "      <td>2.000000</td>\n",
       "      <td>0.000000</td>\n",
       "      <td>0.688702</td>\n",
       "      <td>1.000000</td>\n",
       "      <td>1.000000</td>\n",
       "    </tr>\n",
       "    <tr>\n",
       "      <th>max</th>\n",
       "      <td>130.000000</td>\n",
       "      <td>1.000000</td>\n",
       "      <td>8.500000</td>\n",
       "      <td>1.000000</td>\n",
       "      <td>8.000000</td>\n",
       "      <td>1.000000</td>\n",
       "      <td>0.984848</td>\n",
       "      <td>1.000000</td>\n",
       "      <td>1.000000</td>\n",
       "    </tr>\n",
       "  </tbody>\n",
       "</table>\n",
       "</div>"
      ]
     },
     "execution_count": 37,
     "metadata": {},
     "output_type": "execute_result"
    }
   ],
   "execution_count": 37
  },
  {
   "cell_type": "markdown",
   "id": "a63c33a981202cfe",
   "metadata": {
    "collapsed": false
   },
   "source": [
    "## Multivariate\n",
    "\n",
    "Isolation forest algorithm"
   ]
  },
  {
   "cell_type": "code",
   "id": "51448304c36d916e",
   "metadata": {
    "collapsed": false,
    "ExecuteTime": {
     "end_time": "2024-07-03T20:37:12.118522Z",
     "start_time": "2024-07-03T20:37:11.008582Z"
    }
   },
   "source": [
    "from sklearn.ensemble import  IsolationForest\n",
    "\n",
    "CONTAMINATION_FACTOR = 0.0012\n",
    "isof_model = IsolationForest(contamination=CONTAMINATION_FACTOR, random_state=0)\n",
    "isof_prediction = isof_model.fit_predict(X.values)\n",
    "mask = isof_prediction == -1\n",
    "full_table.loc[X.index[mask]]"
   ],
   "outputs": [
    {
     "data": {
      "text/plain": [
       "       import__number_imports  import__module_imports_pct  \\\n",
       "293                         1                    0.000000   \n",
       "383                        20                    0.800000   \n",
       "2044                        4                    0.250000   \n",
       "2085                        4                    0.250000   \n",
       "2156                        4                    0.250000   \n",
       "4125                        1                    0.000000   \n",
       "4224                       20                    0.800000   \n",
       "4677                        1                    0.000000   \n",
       "4776                       20                    0.800000   \n",
       "5382                        1                    0.000000   \n",
       "5481                       20                    0.800000   \n",
       "6044                        1                    0.000000   \n",
       "6143                       20                    0.800000   \n",
       "6670                        1                    0.000000   \n",
       "6769                       20                    0.800000   \n",
       "10071                      14                    0.928571   \n",
       "10322                      21                    0.095238   \n",
       "\n",
       "       import__average_imported_modules  import__from_imports_pct  \\\n",
       "293                                 0.0                  1.000000   \n",
       "383                                 1.0                  0.200000   \n",
       "2044                                3.0                  0.750000   \n",
       "2085                                3.0                  0.750000   \n",
       "2156                                3.0                  0.750000   \n",
       "4125                                0.0                  1.000000   \n",
       "4224                                1.0                  0.200000   \n",
       "4677                                0.0                  1.000000   \n",
       "4776                                1.0                  0.200000   \n",
       "5382                                0.0                  1.000000   \n",
       "5481                                1.0                  0.200000   \n",
       "6044                                0.0                  1.000000   \n",
       "6143                                1.0                  0.200000   \n",
       "6670                                0.0                  1.000000   \n",
       "6769                                1.0                  0.200000   \n",
       "10071                               1.0                  0.071429   \n",
       "10322                               1.0                  0.904762   \n",
       "\n",
       "       import__average_from_imported_modules  \\\n",
       "293                                 1.000000   \n",
       "383                                 6.000000   \n",
       "2044                                1.000000   \n",
       "2085                                1.000000   \n",
       "2156                                1.000000   \n",
       "4125                                1.000000   \n",
       "4224                                6.000000   \n",
       "4677                                1.000000   \n",
       "4776                                6.000000   \n",
       "5382                                1.000000   \n",
       "5481                                6.000000   \n",
       "6044                                1.000000   \n",
       "6143                                6.000000   \n",
       "6670                                1.000000   \n",
       "6769                                6.000000   \n",
       "10071                               1.000000   \n",
       "10322                               1.578947   \n",
       "\n",
       "       import__average_as_in_imported_modules  import__local_imports_pct  \\\n",
       "293                                  1.000000                   0.000000   \n",
       "383                                  0.041667                   0.750000   \n",
       "2044                                 0.666667                   0.000000   \n",
       "2085                                 0.666667                   0.000000   \n",
       "2156                                 0.666667                   0.000000   \n",
       "4125                                 1.000000                   0.000000   \n",
       "4224                                 0.041667                   0.750000   \n",
       "4677                                 1.000000                   0.000000   \n",
       "4776                                 0.041667                   0.750000   \n",
       "5382                                 1.000000                   0.000000   \n",
       "5481                                 0.041667                   0.750000   \n",
       "6044                                 1.000000                   0.000000   \n",
       "6143                                 0.041667                   0.750000   \n",
       "6670                                 1.000000                   0.000000   \n",
       "6769                                 0.041667                   0.750000   \n",
       "10071                                1.000000                   0.928571   \n",
       "10322                                1.000000                   0.952381   \n",
       "\n",
       "      import__expertise_level  \n",
       "293                  BEGINNER  \n",
       "383                  BEGINNER  \n",
       "2044                 BEGINNER  \n",
       "2085                 BEGINNER  \n",
       "2156                 BEGINNER  \n",
       "4125                 BEGINNER  \n",
       "4224                 BEGINNER  \n",
       "4677                 BEGINNER  \n",
       "4776                 BEGINNER  \n",
       "5382                 BEGINNER  \n",
       "5481                 BEGINNER  \n",
       "6044                 BEGINNER  \n",
       "6143                 BEGINNER  \n",
       "6670                 BEGINNER  \n",
       "6769                 BEGINNER  \n",
       "10071                  EXPERT  \n",
       "10322                  EXPERT  "
      ],
      "text/html": [
       "<div>\n",
       "<style scoped>\n",
       "    .dataframe tbody tr th:only-of-type {\n",
       "        vertical-align: middle;\n",
       "    }\n",
       "\n",
       "    .dataframe tbody tr th {\n",
       "        vertical-align: top;\n",
       "    }\n",
       "\n",
       "    .dataframe thead th {\n",
       "        text-align: right;\n",
       "    }\n",
       "</style>\n",
       "<table border=\"1\" class=\"dataframe\">\n",
       "  <thead>\n",
       "    <tr style=\"text-align: right;\">\n",
       "      <th></th>\n",
       "      <th>import__number_imports</th>\n",
       "      <th>import__module_imports_pct</th>\n",
       "      <th>import__average_imported_modules</th>\n",
       "      <th>import__from_imports_pct</th>\n",
       "      <th>import__average_from_imported_modules</th>\n",
       "      <th>import__average_as_in_imported_modules</th>\n",
       "      <th>import__local_imports_pct</th>\n",
       "      <th>import__expertise_level</th>\n",
       "    </tr>\n",
       "  </thead>\n",
       "  <tbody>\n",
       "    <tr>\n",
       "      <th>293</th>\n",
       "      <td>1</td>\n",
       "      <td>0.000000</td>\n",
       "      <td>0.0</td>\n",
       "      <td>1.000000</td>\n",
       "      <td>1.000000</td>\n",
       "      <td>1.000000</td>\n",
       "      <td>0.000000</td>\n",
       "      <td>BEGINNER</td>\n",
       "    </tr>\n",
       "    <tr>\n",
       "      <th>383</th>\n",
       "      <td>20</td>\n",
       "      <td>0.800000</td>\n",
       "      <td>1.0</td>\n",
       "      <td>0.200000</td>\n",
       "      <td>6.000000</td>\n",
       "      <td>0.041667</td>\n",
       "      <td>0.750000</td>\n",
       "      <td>BEGINNER</td>\n",
       "    </tr>\n",
       "    <tr>\n",
       "      <th>2044</th>\n",
       "      <td>4</td>\n",
       "      <td>0.250000</td>\n",
       "      <td>3.0</td>\n",
       "      <td>0.750000</td>\n",
       "      <td>1.000000</td>\n",
       "      <td>0.666667</td>\n",
       "      <td>0.000000</td>\n",
       "      <td>BEGINNER</td>\n",
       "    </tr>\n",
       "    <tr>\n",
       "      <th>2085</th>\n",
       "      <td>4</td>\n",
       "      <td>0.250000</td>\n",
       "      <td>3.0</td>\n",
       "      <td>0.750000</td>\n",
       "      <td>1.000000</td>\n",
       "      <td>0.666667</td>\n",
       "      <td>0.000000</td>\n",
       "      <td>BEGINNER</td>\n",
       "    </tr>\n",
       "    <tr>\n",
       "      <th>2156</th>\n",
       "      <td>4</td>\n",
       "      <td>0.250000</td>\n",
       "      <td>3.0</td>\n",
       "      <td>0.750000</td>\n",
       "      <td>1.000000</td>\n",
       "      <td>0.666667</td>\n",
       "      <td>0.000000</td>\n",
       "      <td>BEGINNER</td>\n",
       "    </tr>\n",
       "    <tr>\n",
       "      <th>4125</th>\n",
       "      <td>1</td>\n",
       "      <td>0.000000</td>\n",
       "      <td>0.0</td>\n",
       "      <td>1.000000</td>\n",
       "      <td>1.000000</td>\n",
       "      <td>1.000000</td>\n",
       "      <td>0.000000</td>\n",
       "      <td>BEGINNER</td>\n",
       "    </tr>\n",
       "    <tr>\n",
       "      <th>4224</th>\n",
       "      <td>20</td>\n",
       "      <td>0.800000</td>\n",
       "      <td>1.0</td>\n",
       "      <td>0.200000</td>\n",
       "      <td>6.000000</td>\n",
       "      <td>0.041667</td>\n",
       "      <td>0.750000</td>\n",
       "      <td>BEGINNER</td>\n",
       "    </tr>\n",
       "    <tr>\n",
       "      <th>4677</th>\n",
       "      <td>1</td>\n",
       "      <td>0.000000</td>\n",
       "      <td>0.0</td>\n",
       "      <td>1.000000</td>\n",
       "      <td>1.000000</td>\n",
       "      <td>1.000000</td>\n",
       "      <td>0.000000</td>\n",
       "      <td>BEGINNER</td>\n",
       "    </tr>\n",
       "    <tr>\n",
       "      <th>4776</th>\n",
       "      <td>20</td>\n",
       "      <td>0.800000</td>\n",
       "      <td>1.0</td>\n",
       "      <td>0.200000</td>\n",
       "      <td>6.000000</td>\n",
       "      <td>0.041667</td>\n",
       "      <td>0.750000</td>\n",
       "      <td>BEGINNER</td>\n",
       "    </tr>\n",
       "    <tr>\n",
       "      <th>5382</th>\n",
       "      <td>1</td>\n",
       "      <td>0.000000</td>\n",
       "      <td>0.0</td>\n",
       "      <td>1.000000</td>\n",
       "      <td>1.000000</td>\n",
       "      <td>1.000000</td>\n",
       "      <td>0.000000</td>\n",
       "      <td>BEGINNER</td>\n",
       "    </tr>\n",
       "    <tr>\n",
       "      <th>5481</th>\n",
       "      <td>20</td>\n",
       "      <td>0.800000</td>\n",
       "      <td>1.0</td>\n",
       "      <td>0.200000</td>\n",
       "      <td>6.000000</td>\n",
       "      <td>0.041667</td>\n",
       "      <td>0.750000</td>\n",
       "      <td>BEGINNER</td>\n",
       "    </tr>\n",
       "    <tr>\n",
       "      <th>6044</th>\n",
       "      <td>1</td>\n",
       "      <td>0.000000</td>\n",
       "      <td>0.0</td>\n",
       "      <td>1.000000</td>\n",
       "      <td>1.000000</td>\n",
       "      <td>1.000000</td>\n",
       "      <td>0.000000</td>\n",
       "      <td>BEGINNER</td>\n",
       "    </tr>\n",
       "    <tr>\n",
       "      <th>6143</th>\n",
       "      <td>20</td>\n",
       "      <td>0.800000</td>\n",
       "      <td>1.0</td>\n",
       "      <td>0.200000</td>\n",
       "      <td>6.000000</td>\n",
       "      <td>0.041667</td>\n",
       "      <td>0.750000</td>\n",
       "      <td>BEGINNER</td>\n",
       "    </tr>\n",
       "    <tr>\n",
       "      <th>6670</th>\n",
       "      <td>1</td>\n",
       "      <td>0.000000</td>\n",
       "      <td>0.0</td>\n",
       "      <td>1.000000</td>\n",
       "      <td>1.000000</td>\n",
       "      <td>1.000000</td>\n",
       "      <td>0.000000</td>\n",
       "      <td>BEGINNER</td>\n",
       "    </tr>\n",
       "    <tr>\n",
       "      <th>6769</th>\n",
       "      <td>20</td>\n",
       "      <td>0.800000</td>\n",
       "      <td>1.0</td>\n",
       "      <td>0.200000</td>\n",
       "      <td>6.000000</td>\n",
       "      <td>0.041667</td>\n",
       "      <td>0.750000</td>\n",
       "      <td>BEGINNER</td>\n",
       "    </tr>\n",
       "    <tr>\n",
       "      <th>10071</th>\n",
       "      <td>14</td>\n",
       "      <td>0.928571</td>\n",
       "      <td>1.0</td>\n",
       "      <td>0.071429</td>\n",
       "      <td>1.000000</td>\n",
       "      <td>1.000000</td>\n",
       "      <td>0.928571</td>\n",
       "      <td>EXPERT</td>\n",
       "    </tr>\n",
       "    <tr>\n",
       "      <th>10322</th>\n",
       "      <td>21</td>\n",
       "      <td>0.095238</td>\n",
       "      <td>1.0</td>\n",
       "      <td>0.904762</td>\n",
       "      <td>1.578947</td>\n",
       "      <td>1.000000</td>\n",
       "      <td>0.952381</td>\n",
       "      <td>EXPERT</td>\n",
       "    </tr>\n",
       "  </tbody>\n",
       "</table>\n",
       "</div>"
      ]
     },
     "execution_count": 38,
     "metadata": {},
     "output_type": "execute_result"
    }
   ],
   "execution_count": 38
  },
  {
   "metadata": {},
   "cell_type": "markdown",
   "source": [
    "### IMPORTANTE\n",
    "Revisar las 17 identificadas como outliers."
   ],
   "id": "fc481c479fdf13fd"
  },
  {
   "metadata": {
    "ExecuteTime": {
     "end_time": "2024-07-03T20:37:12.170922Z",
     "start_time": "2024-07-03T20:37:12.120566Z"
    }
   },
   "cell_type": "code",
   "source": [
    "# Non-Outliers\n",
    "np.transpose(X[~mask].describe(percentiles=[.25, .50, .75], include = ['object', 'float', 'bool', 'int']))"
   ],
   "id": "9d75b90a8856f032",
   "outputs": [
    {
     "data": {
      "text/plain": [
       "                                          count      mean       std  min  25%  \\\n",
       "import__number_imports                  18209.0  5.110385  6.352698  0.0  1.0   \n",
       "import__module_imports_pct              18209.0  0.294790  0.341617  0.0  0.0   \n",
       "import__average_imported_modules        18209.0  0.580219  0.534878  0.0  0.0   \n",
       "import__from_imports_pct                18209.0  0.523103  0.397847  0.0  0.0   \n",
       "import__average_from_imported_modules   18209.0  1.124252  1.074367  0.0  0.0   \n",
       "import__average_as_in_imported_modules  18209.0  0.014722  0.080650  0.0  0.0   \n",
       "import__local_imports_pct               18209.0  0.596807  0.486485  0.0  0.0   \n",
       "import__expertise_level_BEGINNER        18209.0  0.390411  0.487856  0.0  0.0   \n",
       "import__expertise_level_EXPERT          18209.0  0.609589  0.487856  0.0  0.0   \n",
       "\n",
       "                                             50%       75%    max  \n",
       "import__number_imports                  3.000000  7.000000  194.0  \n",
       "import__module_imports_pct              0.166667  0.500000    1.0  \n",
       "import__average_imported_modules        1.000000  1.000000    8.5  \n",
       "import__from_imports_pct                0.583333  1.000000    1.0  \n",
       "import__average_from_imported_modules   1.000000  1.571429   23.0  \n",
       "import__average_as_in_imported_modules  0.000000  0.000000    1.0  \n",
       "import__local_imports_pct               1.000000  1.000000    1.0  \n",
       "import__expertise_level_BEGINNER        0.000000  1.000000    1.0  \n",
       "import__expertise_level_EXPERT          1.000000  1.000000    1.0  "
      ],
      "text/html": [
       "<div>\n",
       "<style scoped>\n",
       "    .dataframe tbody tr th:only-of-type {\n",
       "        vertical-align: middle;\n",
       "    }\n",
       "\n",
       "    .dataframe tbody tr th {\n",
       "        vertical-align: top;\n",
       "    }\n",
       "\n",
       "    .dataframe thead th {\n",
       "        text-align: right;\n",
       "    }\n",
       "</style>\n",
       "<table border=\"1\" class=\"dataframe\">\n",
       "  <thead>\n",
       "    <tr style=\"text-align: right;\">\n",
       "      <th></th>\n",
       "      <th>count</th>\n",
       "      <th>mean</th>\n",
       "      <th>std</th>\n",
       "      <th>min</th>\n",
       "      <th>25%</th>\n",
       "      <th>50%</th>\n",
       "      <th>75%</th>\n",
       "      <th>max</th>\n",
       "    </tr>\n",
       "  </thead>\n",
       "  <tbody>\n",
       "    <tr>\n",
       "      <th>import__number_imports</th>\n",
       "      <td>18209.0</td>\n",
       "      <td>5.110385</td>\n",
       "      <td>6.352698</td>\n",
       "      <td>0.0</td>\n",
       "      <td>1.0</td>\n",
       "      <td>3.000000</td>\n",
       "      <td>7.000000</td>\n",
       "      <td>194.0</td>\n",
       "    </tr>\n",
       "    <tr>\n",
       "      <th>import__module_imports_pct</th>\n",
       "      <td>18209.0</td>\n",
       "      <td>0.294790</td>\n",
       "      <td>0.341617</td>\n",
       "      <td>0.0</td>\n",
       "      <td>0.0</td>\n",
       "      <td>0.166667</td>\n",
       "      <td>0.500000</td>\n",
       "      <td>1.0</td>\n",
       "    </tr>\n",
       "    <tr>\n",
       "      <th>import__average_imported_modules</th>\n",
       "      <td>18209.0</td>\n",
       "      <td>0.580219</td>\n",
       "      <td>0.534878</td>\n",
       "      <td>0.0</td>\n",
       "      <td>0.0</td>\n",
       "      <td>1.000000</td>\n",
       "      <td>1.000000</td>\n",
       "      <td>8.5</td>\n",
       "    </tr>\n",
       "    <tr>\n",
       "      <th>import__from_imports_pct</th>\n",
       "      <td>18209.0</td>\n",
       "      <td>0.523103</td>\n",
       "      <td>0.397847</td>\n",
       "      <td>0.0</td>\n",
       "      <td>0.0</td>\n",
       "      <td>0.583333</td>\n",
       "      <td>1.000000</td>\n",
       "      <td>1.0</td>\n",
       "    </tr>\n",
       "    <tr>\n",
       "      <th>import__average_from_imported_modules</th>\n",
       "      <td>18209.0</td>\n",
       "      <td>1.124252</td>\n",
       "      <td>1.074367</td>\n",
       "      <td>0.0</td>\n",
       "      <td>0.0</td>\n",
       "      <td>1.000000</td>\n",
       "      <td>1.571429</td>\n",
       "      <td>23.0</td>\n",
       "    </tr>\n",
       "    <tr>\n",
       "      <th>import__average_as_in_imported_modules</th>\n",
       "      <td>18209.0</td>\n",
       "      <td>0.014722</td>\n",
       "      <td>0.080650</td>\n",
       "      <td>0.0</td>\n",
       "      <td>0.0</td>\n",
       "      <td>0.000000</td>\n",
       "      <td>0.000000</td>\n",
       "      <td>1.0</td>\n",
       "    </tr>\n",
       "    <tr>\n",
       "      <th>import__local_imports_pct</th>\n",
       "      <td>18209.0</td>\n",
       "      <td>0.596807</td>\n",
       "      <td>0.486485</td>\n",
       "      <td>0.0</td>\n",
       "      <td>0.0</td>\n",
       "      <td>1.000000</td>\n",
       "      <td>1.000000</td>\n",
       "      <td>1.0</td>\n",
       "    </tr>\n",
       "    <tr>\n",
       "      <th>import__expertise_level_BEGINNER</th>\n",
       "      <td>18209.0</td>\n",
       "      <td>0.390411</td>\n",
       "      <td>0.487856</td>\n",
       "      <td>0.0</td>\n",
       "      <td>0.0</td>\n",
       "      <td>0.000000</td>\n",
       "      <td>1.000000</td>\n",
       "      <td>1.0</td>\n",
       "    </tr>\n",
       "    <tr>\n",
       "      <th>import__expertise_level_EXPERT</th>\n",
       "      <td>18209.0</td>\n",
       "      <td>0.609589</td>\n",
       "      <td>0.487856</td>\n",
       "      <td>0.0</td>\n",
       "      <td>0.0</td>\n",
       "      <td>1.000000</td>\n",
       "      <td>1.000000</td>\n",
       "      <td>1.0</td>\n",
       "    </tr>\n",
       "  </tbody>\n",
       "</table>\n",
       "</div>"
      ]
     },
     "execution_count": 39,
     "metadata": {},
     "output_type": "execute_result"
    }
   ],
   "execution_count": 39
  },
  {
   "metadata": {
    "ExecuteTime": {
     "end_time": "2024-07-03T20:37:12.212001Z",
     "start_time": "2024-07-03T20:37:12.172942Z"
    }
   },
   "cell_type": "code",
   "source": [
    "# Outliers\n",
    "np.transpose(X[mask].describe(percentiles=[.25, .50, .75], include = ['object', 'float', 'bool', 'int']))"
   ],
   "id": "8f1b0d4b76a5fe9c",
   "outputs": [
    {
     "data": {
      "text/plain": [
       "                                        count       mean       std       min  \\\n",
       "import__number_imports                   17.0  10.176471  9.118904  1.000000   \n",
       "import__module_imports_pct               17.0   0.386695  0.383793  0.000000   \n",
       "import__average_imported_modules         17.0   1.000000  1.060660  0.000000   \n",
       "import__from_imports_pct                 17.0   0.613305  0.383793  0.071429   \n",
       "import__average_from_imported_modules    17.0   2.798762  2.440939  1.000000   \n",
       "import__average_as_in_imported_modules   17.0   0.602941  0.444663  0.041667   \n",
       "import__local_imports_pct                17.0   0.375350  0.414517  0.000000   \n",
       "import__expertise_level_BEGINNER         17.0   0.882353  0.332106  0.000000   \n",
       "import__expertise_level_EXPERT           17.0   0.117647  0.332106  0.000000   \n",
       "\n",
       "                                             25%       50%    75%        max  \n",
       "import__number_imports                  1.000000  4.000000  20.00  21.000000  \n",
       "import__module_imports_pct              0.000000  0.250000   0.80   0.928571  \n",
       "import__average_imported_modules        0.000000  1.000000   1.00   3.000000  \n",
       "import__from_imports_pct                0.200000  0.750000   1.00   1.000000  \n",
       "import__average_from_imported_modules   1.000000  1.000000   6.00   6.000000  \n",
       "import__average_as_in_imported_modules  0.041667  0.666667   1.00   1.000000  \n",
       "import__local_imports_pct               0.000000  0.000000   0.75   0.952381  \n",
       "import__expertise_level_BEGINNER        1.000000  1.000000   1.00   1.000000  \n",
       "import__expertise_level_EXPERT          0.000000  0.000000   0.00   1.000000  "
      ],
      "text/html": [
       "<div>\n",
       "<style scoped>\n",
       "    .dataframe tbody tr th:only-of-type {\n",
       "        vertical-align: middle;\n",
       "    }\n",
       "\n",
       "    .dataframe tbody tr th {\n",
       "        vertical-align: top;\n",
       "    }\n",
       "\n",
       "    .dataframe thead th {\n",
       "        text-align: right;\n",
       "    }\n",
       "</style>\n",
       "<table border=\"1\" class=\"dataframe\">\n",
       "  <thead>\n",
       "    <tr style=\"text-align: right;\">\n",
       "      <th></th>\n",
       "      <th>count</th>\n",
       "      <th>mean</th>\n",
       "      <th>std</th>\n",
       "      <th>min</th>\n",
       "      <th>25%</th>\n",
       "      <th>50%</th>\n",
       "      <th>75%</th>\n",
       "      <th>max</th>\n",
       "    </tr>\n",
       "  </thead>\n",
       "  <tbody>\n",
       "    <tr>\n",
       "      <th>import__number_imports</th>\n",
       "      <td>17.0</td>\n",
       "      <td>10.176471</td>\n",
       "      <td>9.118904</td>\n",
       "      <td>1.000000</td>\n",
       "      <td>1.000000</td>\n",
       "      <td>4.000000</td>\n",
       "      <td>20.00</td>\n",
       "      <td>21.000000</td>\n",
       "    </tr>\n",
       "    <tr>\n",
       "      <th>import__module_imports_pct</th>\n",
       "      <td>17.0</td>\n",
       "      <td>0.386695</td>\n",
       "      <td>0.383793</td>\n",
       "      <td>0.000000</td>\n",
       "      <td>0.000000</td>\n",
       "      <td>0.250000</td>\n",
       "      <td>0.80</td>\n",
       "      <td>0.928571</td>\n",
       "    </tr>\n",
       "    <tr>\n",
       "      <th>import__average_imported_modules</th>\n",
       "      <td>17.0</td>\n",
       "      <td>1.000000</td>\n",
       "      <td>1.060660</td>\n",
       "      <td>0.000000</td>\n",
       "      <td>0.000000</td>\n",
       "      <td>1.000000</td>\n",
       "      <td>1.00</td>\n",
       "      <td>3.000000</td>\n",
       "    </tr>\n",
       "    <tr>\n",
       "      <th>import__from_imports_pct</th>\n",
       "      <td>17.0</td>\n",
       "      <td>0.613305</td>\n",
       "      <td>0.383793</td>\n",
       "      <td>0.071429</td>\n",
       "      <td>0.200000</td>\n",
       "      <td>0.750000</td>\n",
       "      <td>1.00</td>\n",
       "      <td>1.000000</td>\n",
       "    </tr>\n",
       "    <tr>\n",
       "      <th>import__average_from_imported_modules</th>\n",
       "      <td>17.0</td>\n",
       "      <td>2.798762</td>\n",
       "      <td>2.440939</td>\n",
       "      <td>1.000000</td>\n",
       "      <td>1.000000</td>\n",
       "      <td>1.000000</td>\n",
       "      <td>6.00</td>\n",
       "      <td>6.000000</td>\n",
       "    </tr>\n",
       "    <tr>\n",
       "      <th>import__average_as_in_imported_modules</th>\n",
       "      <td>17.0</td>\n",
       "      <td>0.602941</td>\n",
       "      <td>0.444663</td>\n",
       "      <td>0.041667</td>\n",
       "      <td>0.041667</td>\n",
       "      <td>0.666667</td>\n",
       "      <td>1.00</td>\n",
       "      <td>1.000000</td>\n",
       "    </tr>\n",
       "    <tr>\n",
       "      <th>import__local_imports_pct</th>\n",
       "      <td>17.0</td>\n",
       "      <td>0.375350</td>\n",
       "      <td>0.414517</td>\n",
       "      <td>0.000000</td>\n",
       "      <td>0.000000</td>\n",
       "      <td>0.000000</td>\n",
       "      <td>0.75</td>\n",
       "      <td>0.952381</td>\n",
       "    </tr>\n",
       "    <tr>\n",
       "      <th>import__expertise_level_BEGINNER</th>\n",
       "      <td>17.0</td>\n",
       "      <td>0.882353</td>\n",
       "      <td>0.332106</td>\n",
       "      <td>0.000000</td>\n",
       "      <td>1.000000</td>\n",
       "      <td>1.000000</td>\n",
       "      <td>1.00</td>\n",
       "      <td>1.000000</td>\n",
       "    </tr>\n",
       "    <tr>\n",
       "      <th>import__expertise_level_EXPERT</th>\n",
       "      <td>17.0</td>\n",
       "      <td>0.117647</td>\n",
       "      <td>0.332106</td>\n",
       "      <td>0.000000</td>\n",
       "      <td>0.000000</td>\n",
       "      <td>0.000000</td>\n",
       "      <td>0.00</td>\n",
       "      <td>1.000000</td>\n",
       "    </tr>\n",
       "  </tbody>\n",
       "</table>\n",
       "</div>"
      ]
     },
     "execution_count": 40,
     "metadata": {},
     "output_type": "execute_result"
    }
   ],
   "execution_count": 40
  }
 ],
 "metadata": {
  "kernelspec": {
   "display_name": "Python 3 (ipykernel)",
   "language": "python",
   "name": "python3"
  },
  "language_info": {
   "codemirror_mode": {
    "name": "ipython",
    "version": 3
   },
   "file_extension": ".py",
   "mimetype": "text/x-python",
   "name": "python",
   "nbconvert_exporter": "python",
   "pygments_lexer": "ipython3",
   "version": "3.12.2"
  },
  "toc-autonumbering": true,
  "toc-showcode": false,
  "toc-showmarkdowntxt": false,
  "toc-showtags": false
 },
 "nbformat": 4,
 "nbformat_minor": 5
}
