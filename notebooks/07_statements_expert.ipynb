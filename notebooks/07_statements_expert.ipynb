{
 "cells": [
  {
   "metadata": {},
   "cell_type": "markdown",
   "source": [
    "# Statements EXPERT\n",
    "\n",
    "Esta tabla contiene la información de las sentencias.  --> ABEL COMPLETAR <--"
   ],
   "id": "148ae8871134f924"
  },
  {
   "metadata": {},
   "cell_type": "markdown",
   "source": "## 1 - Obtencion de datos",
   "id": "d3c24a719032807f"
  },
  {
   "metadata": {},
   "cell_type": "code",
   "source": [
    "import matplotlib.pyplot as plt\n",
    "from notebooks_utils import *\n",
    "from domains import *\n",
    "\n",
    "TARGET_FEATURE = 'statement__expertise_level'\n",
    "TARGET_CLASS = 'EXPERT'\n",
    "full_table = get_data('statements')\n",
    "\n",
    "instances_for_class_low = len(full_table[full_table[TARGET_FEATURE] == \"BEGINNER\"])\n",
    "instances_for_class_high = len(full_table[full_table[TARGET_FEATURE] == \"EXPERT\"])\n",
    "\n",
    "print(f\"The dataset contains {instances_for_class_low} ({instances_for_class_low/len(full_table)*100:.4}%) instances for BEGINNER class and {instances_for_class_high} ({instances_for_class_high/len(full_table)*100:.4}%) for EXPERT class.\")"
   ],
   "id": "9f0a949e91eb384b",
   "outputs": [],
   "execution_count": null
  },
  {
   "metadata": {},
   "cell_type": "code",
   "source": [
    "full_table = full_table[full_table[TARGET_FEATURE] == TARGET_CLASS]\n",
    "\n",
    "# Table name, features and target.\n",
    "TABLE_NAME = 'statements'\n",
    "TABLE_FEATURES = ['statement__category', 'statement__parent', 'statement__statement_role', 'statement__first_child_category','statement__second_child_category','statement__third_child_category', 'statement__height', 'statement__depth', 'statement__has_or_else', 'statement__body_size']\n",
    "\n",
    "# Load features and target.\n",
    "X = full_table[TABLE_FEATURES]\n",
    "\n",
    "# Print information about the loaded table.\n",
    "print(f'Features shape: {X.shape}')\n",
    "\n",
    "print(f'As we can see the downloaded data contains a total of {X.shape[0]} instances. For each instance we have {X.shape[1]} attributes.')"
   ],
   "id": "fc41acd4d8ed2086",
   "outputs": [],
   "execution_count": null
  },
  {
   "metadata": {},
   "cell_type": "markdown",
   "source": [
    "## 2 - Exploracion de datos\n",
    "\n",
    "Una vez tenemos nuestra tabla en un dataframe el siguiente paso es explorarla para ver qué tipo de información contiene."
   ],
   "id": "bcda7cb784bf0a1"
  },
  {
   "metadata": {},
   "cell_type": "code",
   "source": "print(X.info())",
   "id": "2eb3d09993235bcb",
   "outputs": [],
   "execution_count": null
  },
  {
   "metadata": {},
   "cell_type": "markdown",
   "source": "Cómo podemos ver la tabla está compuesta por 3 variables numéricas y 7 de tipo objeto.",
   "id": "24f7607501c2e574"
  },
  {
   "metadata": {},
   "cell_type": "markdown",
   "source": [
    "### 2.2 - Duplicados\n",
    "Miramos si la tabla tiene entradas duplicadas."
   ],
   "id": "3b9b55798c7ecbd5"
  },
  {
   "metadata": {},
   "cell_type": "code",
   "source": [
    "number_of_duplicated_entries = sum(full_table.duplicated(subset=TABLE_FEATURES))\n",
    "duplicated_entries_pct = number_of_duplicated_entries / len(full_table) * 100\n",
    "print(f\"The dataset contains [{duplicated_entries_pct:.4}%] of duplicated entries.\")"
   ],
   "id": "ed5e6830bbf484a6",
   "outputs": [],
   "execution_count": null
  },
  {
   "metadata": {},
   "cell_type": "markdown",
   "source": [
    "### 2.3 - Valores Nulos \n",
    "Miramos si alguna de las variables que contiene la tabla contiene algún valor que sea nulo."
   ],
   "id": "63d4e4ed1d8d2c6c"
  },
  {
   "metadata": {},
   "cell_type": "code",
   "source": "X.isnull().sum()",
   "id": "6c991380e6e0413e",
   "outputs": [],
   "execution_count": null
  },
  {
   "metadata": {},
   "cell_type": "markdown",
   "source": [
    "### IMPORTANTE\n",
    "Los nulos se deben a que esas variables solo son aplicables para ciertas categorias"
   ],
   "id": "411f48e8d36123cb"
  },
  {
   "metadata": {},
   "cell_type": "code",
   "source": "print_empty_cols(X)",
   "id": "18b2dfadf1719a4b",
   "outputs": [],
   "execution_count": null
  },
  {
   "metadata": {},
   "cell_type": "markdown",
   "source": "### 2.4 - Describimos los valores de las variables de la tabla.",
   "id": "5bb94c0f81c08024"
  },
  {
   "metadata": {},
   "cell_type": "code",
   "source": "np.transpose(X.describe(percentiles=[.25, .50, .75], include = ['object', 'float', 'bool', 'int']))",
   "id": "74bba302a29fbfd5",
   "outputs": [],
   "execution_count": null
  },
  {
   "metadata": {},
   "cell_type": "markdown",
   "source": "Vamos a discretizar las variables numericas, agrupando conjuntos de valores en categorias, para hacer un análisis de los datos. Para cada variable es necesaario ver la distribucion de lo valores para hacer los bins (categorias).",
   "id": "9af3eb59b924a596"
  },
  {
   "metadata": {},
   "cell_type": "code",
   "source": [
    "# DISCRETIZATION\n",
    "X_copy = X.copy()\n",
    "\n",
    "discretized_columns = {\n",
    "    \"statement__depth\": [(0.0, 1.0), (1.0, 3.0), (3.0, 4.0), (4.0, inf)],  # min: 0.0 max: 82.0\n",
    "    \"statement__height\": [(0.0, 2.0), (2.0, 3.0), (3.0, 4.0), (4.0, inf)],  # min: 1.0 max: 54.0\n",
    "    \"statement__body_size\": [(1.0, 2.0), (2.0, inf)],  # min: 1.0 max: 276\n",
    "}\n",
    "\n",
    "discretize_columns(X_copy, discretized_columns)\n",
    "    \n",
    "# SINGLE FEATURE\n",
    "print(\"--- SINGLE FEATURE ---\")\n",
    "print(get_statistics(X_copy, ['statement__depth'], 10))\n",
    "print(get_statistics(X_copy, ['statement__height'], 10))\n",
    "print(get_statistics(X_copy, ['statement__body_size'], 10))\n",
    "print(get_statistics(X_copy, ['statement__category'], 10))\n",
    "print(get_statistics(X_copy, ['statement__first_child_category'], 10))\n",
    "print(get_statistics(X_copy, ['statement__second_child_category'], 10))\n",
    "print(get_statistics(X_copy, ['statement__third_child_category'], 10))\n",
    "print(get_statistics(X_copy, ['statement__parent'], 10))\n",
    "print(get_statistics(X_copy, ['statement__statement_role'], 10))\n",
    "print(get_statistics(X_copy, ['statement__has_or_else'], 10))\n",
    "\n",
    "\n",
    "# 2 FEATURES\n",
    "print(\"--- TWO FEATURES ---\")\n",
    "#print(get_statistics(X_copy, ['module__function_defs_pct', 'module__number_of_classes'], 10))\n",
    "\n",
    "# 3 FEATURES\n",
    "print(\"--- THREE FEATURES ---\")\n",
    "#print(get_statistics(X_copy, ['module__class_defs_pct', 'module__function_defs_pct', 'module__enum_defs_pct'], 10))"
   ],
   "id": "6baf20dd3e3ca759",
   "outputs": [],
   "execution_count": null
  },
  {
   "metadata": {},
   "cell_type": "code",
   "source": [
    "def normalize_datatypes(X:pd.DataFrame) -> (pd.DataFrame, [str]):\n",
    "    X = pd.get_dummies(X)\n",
    "    X = X.astype('float32')        \n",
    "    columns_names = X.columns.tolist()\n",
    "    return X, columns_names\n",
    "\n",
    "X, TABLE_FEATURES = normalize_datatypes(X)\n",
    "# Print information about the loaded table\n",
    "print(f'Features shape: {X.shape}')"
   ],
   "id": "5084c89dcb377a92",
   "outputs": [],
   "execution_count": null
  },
  {
   "metadata": {},
   "cell_type": "markdown",
   "source": "#### Muestra la matriz de correlación de pearson entre las variables de la tabla.",
   "id": "ed8befe21328a079"
  },
  {
   "metadata": {},
   "cell_type": "code",
   "source": "sns.heatmap(X.corr(), annot=False)",
   "id": "dea960d18d682104",
   "outputs": [],
   "execution_count": null
  },
  {
   "metadata": {},
   "cell_type": "markdown",
   "source": [
    "## 3 - Detección de valores atípicos (outliers)\n",
    "## Univariate\n",
    "## Analisis detallado de variables\n",
    "Para cada una de las 10 variable (1 booleana, 3 numericas, 6 categorica) se hara un analisis detallado"
   ],
   "id": "599c97eec7b7d283"
  },
  {
   "metadata": {},
   "cell_type": "markdown",
   "source": [
    "### Variable has_or_else (1/10)\n",
    "Esta variable es de tipo booleano y representa si ciertas categorias de statements tienen la clausula else. El primer paso es hacer un análisis visual de como se distribuyen los valores de la variable."
   ],
   "id": "6abba739e46da213"
  },
  {
   "metadata": {},
   "cell_type": "code",
   "source": [
    "plt.xticks([0, 1], ['False', 'True'])\n",
    "sns.histplot(full_table['statement__has_or_else'], discrete=True)"
   ],
   "id": "4ab35b2ef94a3379",
   "outputs": [],
   "execution_count": null
  },
  {
   "metadata": {},
   "cell_type": "code",
   "source": [
    "num_true_values = len(full_table[full_table['statement__has_or_else'] == True])\n",
    "num_false_values = len(full_table[full_table['statement__has_or_else'] == False])\n",
    "std = full_table['statement__has_or_else'].std()\n",
    "freq_true = len(full_table[full_table['statement__has_or_else'] == True]) / len(full_table['statement__has_or_else'])\n",
    "freq_false = len(full_table[full_table['statement__has_or_else'] == False]) / len(full_table['statement__has_or_else'])\n",
    "print(f'La variable has_or_else contiene {num_true_values} valores verdaderos y {num_false_values} valores falsos. Y, la desviación típica es de {std}')\n",
    "print(f'La frecuencia con la que programa puede tener la variable has_or_else a True es {freq_true}.')\n",
    "print(f'La frecuencia con la que programa puede tener la variable has_or_else a False es {freq_false}.')"
   ],
   "id": "f4a042829ae6fac5",
   "outputs": [],
   "execution_count": null
  },
  {
   "metadata": {},
   "cell_type": "markdown",
   "source": [
    "### IMPORTANTE\n",
    "No suma el 100% debido a los valores nulos"
   ],
   "id": "d3cbaba493238746"
  },
  {
   "metadata": {},
   "cell_type": "code",
   "source": [
    "possible_values = [True, False]\n",
    "print_frequency_anal_for_cat_var(full_table, 'statement__has_or_else', possible_values)"
   ],
   "id": "c614dd60d0ab8e5b",
   "outputs": [],
   "execution_count": null
  },
  {
   "metadata": {},
   "cell_type": "code",
   "source": "full_table[full_table['statement__has_or_else'] == True].describe(percentiles=[.25, .50, .75], include = ['object', 'float', 'bool', 'int'])",
   "id": "6c33bdd1420008cf",
   "outputs": [],
   "execution_count": null
  },
  {
   "metadata": {},
   "cell_type": "markdown",
   "source": [
    "### Variable height (2/10)\n",
    "Esta variable representa la distancia del statement al root del módulo (fichero). Como vimos en la descripción de la tabla esta varibale adopta valores en el rango 1 - 54. Con una media de 3.28."
   ],
   "id": "119fc307a9194a96"
  },
  {
   "metadata": {},
   "cell_type": "code",
   "source": "sns.stripplot(X['statement__height'])",
   "id": "5efd7fbb4f34563d",
   "outputs": [],
   "execution_count": null
  },
  {
   "metadata": {},
   "cell_type": "code",
   "source": "print_outliers_for_df_column(X, 'statement__height')",
   "id": "e5649a2923239004",
   "outputs": [],
   "execution_count": null
  },
  {
   "metadata": {},
   "cell_type": "markdown",
   "source": "Describimos los valores de las variables de la tabla, cuando el valor de la variable es mayor que 10.0 (Con un MC de 81 usamos Tuckey Extremo)",
   "id": "6c54992853d0e245"
  },
  {
   "metadata": {},
   "cell_type": "code",
   "source": "X[X['statement__height'] > 10].describe(percentiles=[.25, .50, .75], include = ['object', 'float', 'bool', 'int'])",
   "id": "5c5e0e6eb4cd173",
   "outputs": [],
   "execution_count": null
  },
  {
   "metadata": {},
   "cell_type": "markdown",
   "source": [
    "### Variable depth (3/10)\n",
    "Esta variable representa la distancia desde el statement hasta una hoja del ast. Como vimos en la descripción de la tabla esta varibale adopta valores en el rango 0 - 56. Con una media de 2.92."
   ],
   "id": "a92021ee6047bd1d"
  },
  {
   "metadata": {},
   "cell_type": "code",
   "source": "sns.stripplot(X['statement__depth'])",
   "id": "1b8338fdb1c032b5",
   "outputs": [],
   "execution_count": null
  },
  {
   "metadata": {},
   "cell_type": "code",
   "source": "print_outliers_for_df_column(X, 'statement__depth')",
   "id": "3444c461d823515d",
   "outputs": [],
   "execution_count": null
  },
  {
   "metadata": {},
   "cell_type": "markdown",
   "source": "Describimos los valores de las variables de la tabla, cuando el valor de la variable es mayor que 13.0 (Con un MC de 92 usamos Tuckey Extremo)",
   "id": "ac78dbe8dcaab7a2"
  },
  {
   "metadata": {},
   "cell_type": "code",
   "source": "X[X['statement__depth'] > 13].describe(percentiles=[.25, .50, .75], include = ['object', 'float', 'bool', 'int'])",
   "id": "44b1c024f9d465e9",
   "outputs": [],
   "execution_count": null
  },
  {
   "metadata": {},
   "cell_type": "markdown",
   "source": [
    "### Variable body_size (4/10)\n",
    "Esta variable representa el número de sentencias o expresiones que se definen dentro del cuerpo de ciertas categorías de sentencias. Como vimos en la descripción de la tabla esta varibale adopta valores en el rango 1 - 276. Con una media de 2.04."
   ],
   "id": "9e889648c0e5a078"
  },
  {
   "metadata": {},
   "cell_type": "code",
   "source": "sns.stripplot(X['statement__body_size'])",
   "id": "536be140a0b685eb",
   "outputs": [],
   "execution_count": null
  },
  {
   "metadata": {},
   "cell_type": "markdown",
   "source": [
    "### IMPORTANTE\n",
    "Los valor maximo esta muy alejado de los siguientes."
   ],
   "id": "77f5fafbe4bea945"
  },
  {
   "metadata": {},
   "cell_type": "code",
   "source": "print_outliers_for_df_column(X,'statement__body_size')",
   "id": "d76842919b0b6dbe",
   "outputs": [],
   "execution_count": null
  },
  {
   "metadata": {},
   "cell_type": "markdown",
   "source": "Describimos los valores de las variables de la tabla, cuando el valor de la variable es mayor que 76.5 (Con un MC de 97 usamos U)",
   "id": "8bc4938259f0a6fd"
  },
  {
   "metadata": {},
   "cell_type": "code",
   "source": "X[X['statement__body_size'] > 76.5].describe(percentiles=[.25, .50, .75], include = ['object', 'float', 'bool', 'int'])",
   "id": "e07c9b0d8cfd4af0",
   "outputs": [],
   "execution_count": null
  },
  {
   "metadata": {},
   "cell_type": "markdown",
   "source": [
    "### IMPORTANTE\n",
    "Hay que revisar el que tiene 276"
   ],
   "id": "ba7d3cc657f1d178"
  },
  {
   "metadata": {},
   "cell_type": "markdown",
   "source": [
    "### Variable category (5/10)\n",
    "Esta variable es de tipo categórica y representa el tipo de sentencia."
   ],
   "id": "3237adcf6d852d54"
  },
  {
   "metadata": {},
   "cell_type": "code",
   "source": "sns.catplot(full_table['statement__category'], kind=\"count\")",
   "id": "299706e14d9a3f2",
   "outputs": [],
   "execution_count": null
  },
  {
   "metadata": {},
   "cell_type": "code",
   "source": "print_frequency_anal_for_cat_var(full_table, 'statement__category')",
   "id": "f4253192e2301909",
   "outputs": [],
   "execution_count": null
  },
  {
   "metadata": {},
   "cell_type": "code",
   "source": "print_values_usage_for_cat_var(full_table, 'statement__category', STATEMENT_CATEGORY_VALUES)",
   "id": "cf10fc52517a021f",
   "outputs": [],
   "execution_count": null
  },
  {
   "metadata": {},
   "cell_type": "markdown",
   "source": [
    "### Variable parent (6/10)\n",
    "Esta variable es de tipo categórica y representa el tipo del padre de la sentencia."
   ],
   "id": "c130c51d4dc991df"
  },
  {
   "metadata": {},
   "cell_type": "code",
   "source": "sns.catplot(full_table['statement__parent'], kind=\"count\")",
   "id": "98a38b66bb523423",
   "outputs": [],
   "execution_count": null
  },
  {
   "metadata": {},
   "cell_type": "code",
   "source": "print_frequency_anal_for_cat_var(full_table, 'statement__parent')",
   "id": "468a87240bc58040",
   "outputs": [],
   "execution_count": null
  },
  {
   "metadata": {},
   "cell_type": "code",
   "source": "print_values_usage_for_cat_var(full_table, 'statement__parent', STATEMENT_PARENT_VALUES)",
   "id": "66a35f1855011045",
   "outputs": [],
   "execution_count": null
  },
  {
   "metadata": {},
   "cell_type": "markdown",
   "source": [
    "### Variable statement_role (7/10)\n",
    "Esta variable es de tipo categórica y representa el rol que representa la sentencia en su padre."
   ],
   "id": "7ad6ac09173ea89e"
  },
  {
   "metadata": {},
   "cell_type": "code",
   "source": "sns.catplot(full_table['statement__statement_role'], kind=\"count\")",
   "id": "73bf787c45c3e4a8",
   "outputs": [],
   "execution_count": null
  },
  {
   "metadata": {},
   "cell_type": "code",
   "source": "print_frequency_anal_for_cat_var(full_table, 'statement__statement_role')",
   "id": "5a67e8184aafa5f7",
   "outputs": [],
   "execution_count": null
  },
  {
   "metadata": {},
   "cell_type": "code",
   "source": "print_values_usage_for_cat_var(full_table, 'statement__statement_role', STATEMENT_ROLE_VALUES)",
   "id": "a7b9fed9d47b4899",
   "outputs": [],
   "execution_count": null
  },
  {
   "metadata": {},
   "cell_type": "markdown",
   "source": [
    "### Variable first_child_category (8/10)\n",
    "Esta variable es de tipo categorica y representa la categoria del primer hijo de la sentencia."
   ],
   "id": "2f390d6d844c33a5"
  },
  {
   "metadata": {},
   "cell_type": "code",
   "source": "sns.catplot(full_table['statement__first_child_category'], kind=\"count\")",
   "id": "215f261b2036a011",
   "outputs": [],
   "execution_count": null
  },
  {
   "metadata": {},
   "cell_type": "code",
   "source": "print_frequency_anal_for_cat_var(full_table, 'statement__first_child_category')",
   "id": "d1565733acf2d196",
   "outputs": [],
   "execution_count": null
  },
  {
   "metadata": {},
   "cell_type": "code",
   "source": "print_values_usage_for_cat_var(full_table, 'statement__first_child_category', STATEMENT_CHILDREN_VALUES)",
   "id": "6ff5468647adc78f",
   "outputs": [],
   "execution_count": null
  },
  {
   "metadata": {},
   "cell_type": "markdown",
   "source": [
    "### Variable second_child_category (9/10)\n",
    "Esta variable es de tipo categorica y representa la categoria del segundo hijo de la sentencia."
   ],
   "id": "9de2299dcbd694d9"
  },
  {
   "metadata": {},
   "cell_type": "code",
   "source": "sns.catplot(full_table['statement__second_child_category'], kind=\"count\")",
   "id": "8ecae3c347e659ff",
   "outputs": [],
   "execution_count": null
  },
  {
   "metadata": {},
   "cell_type": "code",
   "source": "print_frequency_anal_for_cat_var(full_table, 'statement__second_child_category')",
   "id": "e99890dffa5666",
   "outputs": [],
   "execution_count": null
  },
  {
   "metadata": {},
   "cell_type": "code",
   "source": "print_values_usage_for_cat_var(full_table, 'statement__second_child_category', STATEMENT_CHILDREN_VALUES)",
   "id": "b229ae8e2e5bc513",
   "outputs": [],
   "execution_count": null
  },
  {
   "metadata": {},
   "cell_type": "markdown",
   "source": [
    "### Variable third_child_category (10/10)\n",
    "Esta variable es de tipo categorica y representa la categoria del tercer hijo de la sentencia."
   ],
   "id": "306e106616d5c6d2"
  },
  {
   "metadata": {},
   "cell_type": "code",
   "source": "sns.catplot(full_table['statement__third_child_category'], kind=\"count\")",
   "id": "e3b9e118c779c45a",
   "outputs": [],
   "execution_count": null
  },
  {
   "metadata": {},
   "cell_type": "code",
   "source": "print_frequency_anal_for_cat_var(full_table, 'statement__third_child_category')",
   "id": "f955b09089fef95c",
   "outputs": [],
   "execution_count": null
  },
  {
   "metadata": {},
   "cell_type": "code",
   "source": "print_values_usage_for_cat_var(full_table, 'statement__third_child_category', STATEMENT_CHILDREN_VALUES)",
   "id": "3f428132cf763a3d",
   "outputs": [],
   "execution_count": null
  },
  {
   "metadata": {},
   "cell_type": "markdown",
   "source": [
    "## Multivariate\n",
    "\n",
    "TODO: isolation forest algorithm"
   ],
   "id": "93c0ded887af6a56"
  },
  {
   "metadata": {},
   "cell_type": "code",
   "source": [
    "from sklearn.ensemble import  IsolationForest\n",
    "\n",
    "CONTAMINATION_FACTOR = 0.0012\n",
    "isof_model = IsolationForest(contamination=CONTAMINATION_FACTOR, random_state=0)\n",
    "isof_prediction = isof_model.fit_predict(X.values)\n",
    "mask = isof_prediction == -1\n",
    "full_table.loc[X.index[mask]]"
   ],
   "id": "93b8ef4a02e1c43f",
   "outputs": [],
   "execution_count": null
  },
  {
   "metadata": {},
   "cell_type": "code",
   "outputs": [],
   "execution_count": null,
   "source": [
    "# Outliers\n",
    "np.transpose(X[mask].describe(percentiles=[.25, .50, .75], include = ['object', 'float', 'bool', 'int']))"
   ],
   "id": "6870fd0b94926475"
  },
  {
   "metadata": {},
   "cell_type": "code",
   "outputs": [],
   "execution_count": null,
   "source": [
    "# Non-Outliers\n",
    "np.transpose(X[~mask].describe(percentiles=[.25, .50, .75], include = ['object', 'float', 'bool', 'int']))"
   ],
   "id": "f1a427c6d9d744da"
  }
 ],
 "metadata": {
  "kernelspec": {
   "display_name": "Python 3",
   "language": "python",
   "name": "python3"
  },
  "language_info": {
   "codemirror_mode": {
    "name": "ipython",
    "version": 2
   },
   "file_extension": ".py",
   "mimetype": "text/x-python",
   "name": "python",
   "nbconvert_exporter": "python",
   "pygments_lexer": "ipython2",
   "version": "2.7.6"
  }
 },
 "nbformat": 4,
 "nbformat_minor": 5
}
