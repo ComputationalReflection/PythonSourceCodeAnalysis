{
 "cells": [
  {
   "metadata": {
    "ExecuteTime": {
     "end_time": "2024-05-27T10:55:33.468077Z",
     "start_time": "2024-05-27T10:55:33.453372Z"
    }
   },
   "cell_type": "code",
   "source": "",
   "id": "bcffc736a4d7163e",
   "outputs": [],
   "execution_count": 16
  },
  {
   "metadata": {},
   "cell_type": "markdown",
   "source": [
    "# Vaiables\n",
    "\n",
    "Esta tabla contiene la información de los grupos de parámetros de funciones y Lambda expresiones.  --> ABEL COMPLETAR <--"
   ],
   "id": "148ae8871134f924"
  },
  {
   "metadata": {},
   "cell_type": "markdown",
   "source": "## 1 - Obtencion de datos",
   "id": "d3c24a719032807f"
  },
  {
   "metadata": {
    "ExecuteTime": {
     "end_time": "2024-05-27T10:55:36.615360Z",
     "start_time": "2024-05-27T10:55:33.641688Z"
    }
   },
   "cell_type": "code",
   "source": [
    "import matplotlib.pyplot as plt\n",
    "from notebooks_utils import *\n",
    "\n",
    "full_table = get_data('variables')\n",
    "\n",
    "# Table name, features and target.\n",
    "TABLE_NAME = 'variables'\n",
    "TABLE_FEATURES = ['variable__name_convention', 'variable__number_of_characters', 'variable__is_private', 'variable__is_magic', 'variable__expertise_level']\n",
    "TABLE_TARGET = 'variable__expertise_level'\n",
    "\n",
    "# Load features and target.\n",
    "X, y = full_table[TABLE_FEATURES], full_table[[TABLE_TARGET]].iloc[:,0]\n",
    "\n",
    "# Print information about the loaded table.\n",
    "print(f'Features shape: {X.shape}')\n",
    "print(f'Target shape: {y.shape}')\n",
    "\n",
    "print(f'As we can see the downloaded data contains a total of {X.shape[0]} instances. Each of the instances corresponds to a program. For each program we have {X.shape[1]} attributes.')"
   ],
   "id": "9f0a949e91eb384b",
   "outputs": [
    {
     "name": "stdout",
     "output_type": "stream",
     "text": [
      "2024-05-27 12:55:33.657315 Data cache files found ...\n",
      "2024-05-27 12:55:36.139302 Data cache files successfully loaded!!\n",
      "Features shape: (2782098, 5)\n",
      "Target shape: (2782098,)\n",
      "As we can see the downloaded data contains a total of 2782098 instances. Each of the instances corresponds to a program. For each program we have 5 attributes.\n"
     ]
    }
   ],
   "execution_count": 17
  },
  {
   "metadata": {},
   "cell_type": "markdown",
   "source": [
    "## 2 - Exploracion de datos\n",
    "\n",
    "Una vez tenemos nuestra tabla en un dataframe el siguiente paso es explorarla para ver qué tipo de información contiene."
   ],
   "id": "bcda7cb784bf0a1"
  },
  {
   "metadata": {
    "ExecuteTime": {
     "end_time": "2024-05-27T10:55:36.950892Z",
     "start_time": "2024-05-27T10:55:36.615360Z"
    }
   },
   "cell_type": "code",
   "source": [
    "print(X.info())\n",
    "print('=============')\n",
    "print(y.info())"
   ],
   "id": "2eb3d09993235bcb",
   "outputs": [
    {
     "name": "stdout",
     "output_type": "stream",
     "text": [
      "<class 'pandas.core.frame.DataFrame'>\n",
      "RangeIndex: 2782098 entries, 0 to 2782097\n",
      "Data columns (total 5 columns):\n",
      " #   Column                          Dtype \n",
      "---  ------                          ----- \n",
      " 0   variable__name_convention       object\n",
      " 1   variable__number_of_characters  int64 \n",
      " 2   variable__is_private            bool  \n",
      " 3   variable__is_magic              bool  \n",
      " 4   variable__expertise_level       object\n",
      "dtypes: bool(2), int64(1), object(2)\n",
      "memory usage: 69.0+ MB\n",
      "None\n",
      "=============\n",
      "<class 'pandas.core.series.Series'>\n",
      "RangeIndex: 2782098 entries, 0 to 2782097\n",
      "Series name: variable__expertise_level\n",
      "Non-Null Count    Dtype \n",
      "--------------    ----- \n",
      "2782098 non-null  object\n",
      "dtypes: object(1)\n",
      "memory usage: 21.2+ MB\n",
      "None\n"
     ]
    }
   ],
   "execution_count": 18
  },
  {
   "metadata": {},
   "cell_type": "markdown",
   "source": "Cómo podemos ver la tabla está compuesta por 1 variable numérica, 2 variables boleanas y 2 de tipo objeto. Una de las últimas variables es la etiqueta de la instancia. Sin embargo, en algunas ocasiones estas últimas clases no las vamos a utilizar. Por ejemplo, si queremos obtener clusters por medio de aprendizaje no supervisado.",
   "id": "24f7607501c2e574"
  },
  {
   "metadata": {},
   "cell_type": "markdown",
   "source": "### 2.1 - Balance de clases",
   "id": "f6d062d35a16e21d"
  },
  {
   "metadata": {
    "ExecuteTime": {
     "end_time": "2024-05-27T10:55:37.797603Z",
     "start_time": "2024-05-27T10:55:36.950892Z"
    }
   },
   "cell_type": "code",
   "source": [
    "instances_for_class_low = len(full_table[full_table[TABLE_TARGET] == \"BEGINNER\"])\n",
    "instances_for_class_high = len(full_table[full_table[TABLE_TARGET] == \"EXPERT\"])\n",
    "\n",
    "print(f\"The dataset contains {instances_for_class_low/len(full_table)*100:.4}% instances for BEGINNER class and {instances_for_class_high/len(full_table)*100:.4}% for EXPERT class.\")"
   ],
   "id": "58277bda417384ef",
   "outputs": [
    {
     "name": "stdout",
     "output_type": "stream",
     "text": [
      "The dataset contains 41.17% instances for BEGINNER class and 58.83% for EXPERT class.\n"
     ]
    }
   ],
   "execution_count": 19
  },
  {
   "metadata": {},
   "cell_type": "markdown",
   "source": [
    "### 2.2 - Duplicados\n",
    "Miramos si la tabla tiene entradas duplicadas."
   ],
   "id": "3b9b55798c7ecbd5"
  },
  {
   "metadata": {
    "ExecuteTime": {
     "end_time": "2024-05-27T10:55:38.737021Z",
     "start_time": "2024-05-27T10:55:37.797603Z"
    }
   },
   "cell_type": "code",
   "source": [
    "number_of_duplicated_entries = sum(full_table.duplicated(subset=TABLE_FEATURES + [TABLE_TARGET]))\n",
    "duplicated_entries_pct = number_of_duplicated_entries / len(full_table) * 100\n",
    "print(f\"The dataset contains [{duplicated_entries_pct:.4}%] of duplicated entries.\")"
   ],
   "id": "ed5e6830bbf484a6",
   "outputs": [
    {
     "name": "stdout",
     "output_type": "stream",
     "text": [
      "The dataset contains [99.97%] of duplicated entries.\n"
     ]
    }
   ],
   "execution_count": 20
  },
  {
   "metadata": {},
   "cell_type": "markdown",
   "source": [
    "### 2.3 - Valores Nulos \n",
    "Miramos si alguna de las variables que contiene la tabla contiene algún valor que sea nulo."
   ],
   "id": "63d4e4ed1d8d2c6c"
  },
  {
   "metadata": {
    "ExecuteTime": {
     "end_time": "2024-05-27T10:55:39.044543Z",
     "start_time": "2024-05-27T10:55:38.737021Z"
    }
   },
   "cell_type": "code",
   "source": "X.isnull().sum()",
   "id": "6c991380e6e0413e",
   "outputs": [
    {
     "data": {
      "text/plain": [
       "variable__name_convention         0\n",
       "variable__number_of_characters    0\n",
       "variable__is_private              0\n",
       "variable__is_magic                0\n",
       "variable__expertise_level         0\n",
       "dtype: int64"
      ]
     },
     "execution_count": 21,
     "metadata": {},
     "output_type": "execute_result"
    }
   ],
   "execution_count": 21
  },
  {
   "metadata": {
    "ExecuteTime": {
     "end_time": "2024-05-27T10:55:39.499229Z",
     "start_time": "2024-05-27T10:55:39.044543Z"
    }
   },
   "cell_type": "code",
   "source": "print_empty_cols(X)",
   "id": "18b2dfadf1719a4b",
   "outputs": [
    {
     "name": "stdout",
     "output_type": "stream",
     "text": [
      "variable__name_convention\n",
      "-------------------------\n",
      "0 instancias no tienen un valor para la columna variable__name_convention\n",
      "\n",
      "\n",
      "variable__number_of_characters\n",
      "------------------------------\n",
      "0 instancias no tienen un valor para la columna variable__number_of_characters\n",
      "\n",
      "\n",
      "variable__is_private\n",
      "--------------------\n",
      "0 instancias no tienen un valor para la columna variable__is_private\n",
      "\n",
      "\n",
      "variable__is_magic\n",
      "------------------\n",
      "0 instancias no tienen un valor para la columna variable__is_magic\n",
      "\n",
      "\n",
      "variable__expertise_level\n",
      "-------------------------\n",
      "0 instancias no tienen un valor para la columna variable__expertise_level\n",
      "\n",
      "\n"
     ]
    }
   ],
   "execution_count": 22
  },
  {
   "metadata": {},
   "cell_type": "markdown",
   "source": "### 2.4 - Describimos los valores de las variables de la tabla.",
   "id": "5bb94c0f81c08024"
  },
  {
   "metadata": {
    "ExecuteTime": {
     "end_time": "2024-05-27T10:55:40.533549Z",
     "start_time": "2024-05-27T10:55:39.499229Z"
    }
   },
   "cell_type": "code",
   "source": "np.transpose(X.describe(percentiles=[.25, .50, .75], include = ['object', 'float', 'bool', 'int']))",
   "id": "74bba302a29fbfd5",
   "outputs": [
    {
     "data": {
      "text/plain": [
       "                                    count unique     top     freq      mean  \\\n",
       "variable__name_convention         2782098      7   Lower  1813631       NaN   \n",
       "variable__number_of_characters  2782098.0    NaN     NaN      NaN  7.120211   \n",
       "variable__is_private              2782098      2   False  2738110       NaN   \n",
       "variable__is_magic                2782098      2   False  2763564       NaN   \n",
       "variable__expertise_level         2782098      2  EXPERT  1636752       NaN   \n",
       "\n",
       "                                     std  min  25%  50%   75%   max  \n",
       "variable__name_convention            NaN  NaN  NaN  NaN   NaN   NaN  \n",
       "variable__number_of_characters  5.180447  1.0  4.0  5.0  10.0  82.0  \n",
       "variable__is_private                 NaN  NaN  NaN  NaN   NaN   NaN  \n",
       "variable__is_magic                   NaN  NaN  NaN  NaN   NaN   NaN  \n",
       "variable__expertise_level            NaN  NaN  NaN  NaN   NaN   NaN  "
      ],
      "text/html": [
       "<div>\n",
       "<style scoped>\n",
       "    .dataframe tbody tr th:only-of-type {\n",
       "        vertical-align: middle;\n",
       "    }\n",
       "\n",
       "    .dataframe tbody tr th {\n",
       "        vertical-align: top;\n",
       "    }\n",
       "\n",
       "    .dataframe thead th {\n",
       "        text-align: right;\n",
       "    }\n",
       "</style>\n",
       "<table border=\"1\" class=\"dataframe\">\n",
       "  <thead>\n",
       "    <tr style=\"text-align: right;\">\n",
       "      <th></th>\n",
       "      <th>count</th>\n",
       "      <th>unique</th>\n",
       "      <th>top</th>\n",
       "      <th>freq</th>\n",
       "      <th>mean</th>\n",
       "      <th>std</th>\n",
       "      <th>min</th>\n",
       "      <th>25%</th>\n",
       "      <th>50%</th>\n",
       "      <th>75%</th>\n",
       "      <th>max</th>\n",
       "    </tr>\n",
       "  </thead>\n",
       "  <tbody>\n",
       "    <tr>\n",
       "      <th>variable__name_convention</th>\n",
       "      <td>2782098</td>\n",
       "      <td>7</td>\n",
       "      <td>Lower</td>\n",
       "      <td>1813631</td>\n",
       "      <td>NaN</td>\n",
       "      <td>NaN</td>\n",
       "      <td>NaN</td>\n",
       "      <td>NaN</td>\n",
       "      <td>NaN</td>\n",
       "      <td>NaN</td>\n",
       "      <td>NaN</td>\n",
       "    </tr>\n",
       "    <tr>\n",
       "      <th>variable__number_of_characters</th>\n",
       "      <td>2782098.0</td>\n",
       "      <td>NaN</td>\n",
       "      <td>NaN</td>\n",
       "      <td>NaN</td>\n",
       "      <td>7.120211</td>\n",
       "      <td>5.180447</td>\n",
       "      <td>1.0</td>\n",
       "      <td>4.0</td>\n",
       "      <td>5.0</td>\n",
       "      <td>10.0</td>\n",
       "      <td>82.0</td>\n",
       "    </tr>\n",
       "    <tr>\n",
       "      <th>variable__is_private</th>\n",
       "      <td>2782098</td>\n",
       "      <td>2</td>\n",
       "      <td>False</td>\n",
       "      <td>2738110</td>\n",
       "      <td>NaN</td>\n",
       "      <td>NaN</td>\n",
       "      <td>NaN</td>\n",
       "      <td>NaN</td>\n",
       "      <td>NaN</td>\n",
       "      <td>NaN</td>\n",
       "      <td>NaN</td>\n",
       "    </tr>\n",
       "    <tr>\n",
       "      <th>variable__is_magic</th>\n",
       "      <td>2782098</td>\n",
       "      <td>2</td>\n",
       "      <td>False</td>\n",
       "      <td>2763564</td>\n",
       "      <td>NaN</td>\n",
       "      <td>NaN</td>\n",
       "      <td>NaN</td>\n",
       "      <td>NaN</td>\n",
       "      <td>NaN</td>\n",
       "      <td>NaN</td>\n",
       "      <td>NaN</td>\n",
       "    </tr>\n",
       "    <tr>\n",
       "      <th>variable__expertise_level</th>\n",
       "      <td>2782098</td>\n",
       "      <td>2</td>\n",
       "      <td>EXPERT</td>\n",
       "      <td>1636752</td>\n",
       "      <td>NaN</td>\n",
       "      <td>NaN</td>\n",
       "      <td>NaN</td>\n",
       "      <td>NaN</td>\n",
       "      <td>NaN</td>\n",
       "      <td>NaN</td>\n",
       "      <td>NaN</td>\n",
       "    </tr>\n",
       "  </tbody>\n",
       "</table>\n",
       "</div>"
      ]
     },
     "execution_count": 23,
     "metadata": {},
     "output_type": "execute_result"
    }
   ],
   "execution_count": 23
  },
  {
   "metadata": {},
   "cell_type": "markdown",
   "source": "Vamos a discretizar las variables numericas, agrupando conjuntos de valores en categorias, para hacer un análisis de los datos. Para cada variable es necesario ver la distribucion de lo valores para hacer los bins (categorias).",
   "id": "9af3eb59b924a596"
  },
  {
   "metadata": {
    "ExecuteTime": {
     "end_time": "2024-05-27T10:55:47.069340Z",
     "start_time": "2024-05-27T10:55:40.533549Z"
    }
   },
   "cell_type": "code",
   "source": [
    "# DISCRETIZATION\n",
    "X_copy = X.copy()\n",
    "\n",
    "discretized_columns = {\n",
    "    \"variable__number_of_characters\": [(0.0, 4.0), (4.0, 4.0), (4.0, 10.0), (10.0, inf)], # min: 0 ; max: 82\n",
    "}\n",
    "\n",
    "discretize_columns(X_copy, discretized_columns)\n",
    "    \n",
    "# SINGLE FEATURE\n",
    "print(\"--- SINGLE FEATURE ---\")\n",
    "print(get_statistics(X_copy, ['variable__number_of_characters'], 10))\n",
    "print(get_statistics(full_table, ['variable__name_convention'], 10))\n",
    "print(get_statistics(X_copy, ['variable__is_private'], 10))\n",
    "print(get_statistics(X_copy, ['variable__is_magic'], 10))\n",
    "\n",
    "# 2 FEATURES\n",
    "print(\"--- TWO FEATURES ---\")\n",
    "#print(get_statistics(full_table, ['variable__is_magic', 'variable__name_convention_Discard'], 10))\n",
    "#print(get_statistics(X_copy, ['functiondef__number_of_characters', 'functiondef__name_convention_Lower'], 10))\n",
    "\n",
    "# 3 FEATURES\n",
    "print(\"--- THREE FEATURES ---\")\n",
    "#print(get_statistics(X_copy, ['module__class_defs_pct', 'module__function_defs_pct', 'module__enum_defs_pct'], 10))"
   ],
   "id": "6baf20dd3e3ca759",
   "outputs": [
    {
     "name": "stdout",
     "output_type": "stream",
     "text": [
      "--- SINGLE FEATURE ---\n",
      "variable__number_of_characters  count  percentage\n",
      "                    [4.0_10.0) 953793   34.283228\n",
      "                    [10.0_inf] 705281   25.350689\n",
      "                     [0.0_4.0) 580024   20.848439\n",
      "                     [4.0_4.0] 543000   19.517645\n",
      "\n",
      "variable__name_convention   count  percentage\n",
      "                    Lower 1813631   65.189328\n",
      "                SnakeCase  594525   21.369664\n",
      "                  CamelUp  207822    7.469974\n",
      "                    Upper   80184    2.882141\n",
      "                 CamelLow   65302    2.347221\n",
      "         NoNameConvention   12354    0.444053\n",
      "                  Discard    8280    0.297617\n",
      "\n",
      " variable__is_private   count  percentage\n",
      "                False 2738110   98.418891\n",
      "                 True   43988    1.581109\n",
      "\n",
      " variable__is_magic   count  percentage\n",
      "              False 2763564   99.333812\n",
      "               True   18534    0.666188\n",
      "\n",
      "--- TWO FEATURES ---\n",
      "--- THREE FEATURES ---\n"
     ]
    }
   ],
   "execution_count": 24
  },
  {
   "metadata": {
    "ExecuteTime": {
     "end_time": "2024-05-27T10:55:48.907437Z",
     "start_time": "2024-05-27T10:55:47.069340Z"
    }
   },
   "cell_type": "code",
   "source": [
    "def normalize_datatypes(X:pd.DataFrame, y:pd.Series) -> (pd.DataFrame, pd.Series, [str]):\n",
    "    X = pd.get_dummies(X)\n",
    "    X = X.astype('float32')\n",
    "    y = y.apply(lambda value: 0 if value == \"BEGINNER\" else 1) # EXPERT will be 1 and BEGINNER will be 0.\n",
    "    y = y.astype('float32')\n",
    "    columns_names = X.columns.tolist()\n",
    "    return X, y, columns_names\n",
    "\n",
    "X, y, TABLE_FEATURES = normalize_datatypes(X, y)\n",
    "# Print information about the loaded table\n",
    "print(f'Features shape: {X.shape}')\n",
    "print(f'Target shape: {y.shape}')"
   ],
   "id": "5084c89dcb377a92",
   "outputs": [
    {
     "name": "stdout",
     "output_type": "stream",
     "text": [
      "Features shape: (2782098, 12)\n",
      "Target shape: (2782098,)\n"
     ]
    }
   ],
   "execution_count": 25
  },
  {
   "metadata": {},
   "cell_type": "markdown",
   "source": "#### Muestra la matriz de correlación de pearson entre las variables de la tabla.",
   "id": "ed8befe21328a079"
  },
  {
   "metadata": {
    "ExecuteTime": {
     "end_time": "2024-05-27T10:55:50.800769Z",
     "start_time": "2024-05-27T10:55:48.907437Z"
    }
   },
   "cell_type": "code",
   "source": "sns.heatmap(X.corr(), annot=False)",
   "id": "dea960d18d682104",
   "outputs": [
    {
     "data": {
      "text/plain": [
       "<Axes: >"
      ]
     },
     "execution_count": 26,
     "metadata": {},
     "output_type": "execute_result"
    },
    {
     "data": {
      "text/plain": [
       "<Figure size 640x480 with 2 Axes>"
      ],
      "image/png": "[encoded data removed]"
     },
     "metadata": {},
     "output_type": "display_data"
    }
   ],
   "execution_count": 26
  },
  {
   "metadata": {},
   "cell_type": "markdown",
   "source": [
    "## 3 - Detección de valores atípicos (outliers)\n",
    "Una vez sabemos qué datos contiene la tabla, analizaremos los valores que toma cada una de las variables de cada instancia. El objetivo es identificar posibles valores atípicos que nos dificulten la realización de futuras tareas. \n",
    "Tras su análisis, se puede concluir que un valor:\n",
    "    - **Es erróneo**. En este caso hay que tomar una decisión para cada caso, siendo los tratamientos más extendidos son listwise, pairwise, drop variables, mean/median imputation, most frequent, separate category, zero imputation, cold deck, hot deck,(stochastic) regression, k-NN and multiple imputation. Los resultados de imputación regresiva, k-NN y múltiple dan buenos resultados, aunque, como se ha indicado, es necesario el estudio en cada caso.\n",
    "    - **Es correcto, pero anómalo**. Se documenta su existencia para su posible discusión y se mantiene en el dataset. En estos casos se hace necesaria la utilización de algoritmos y estadísticos que no sean muy sensibles a dichos valores anómalos.\n",
    "\n",
    "## Univariate\n",
    "Para cada uno de los atributos se debe realizar un análisis y detección de valores atípicos, estudiando su posible causa. \n",
    "Existen diversas formas de calcular los valores anómalos. \n",
    "\n",
    "### Variables numéricas\n",
    "Para las variables numéricas, se suele identificar: \n",
    "    - a) Valor atípico leve es el que está fuera de $[Q1 - 1.5IQR, Q3 + 1.5IQR]$, donde $IQR = Q3-Q1$.\n",
    "    - b) Valor atípico extremo está fuera de $[Q1 - 3IQR, Q3 + 3IQR]$.\n",
    "\n",
    "La idea es probar con a) y si hay pocas instancias analizarlas. Si hubiese muchas, mirar b) y analizar si fuesen pocas. No hay un algoritmo o método estipulado, puesto que depende del dominio del problema y de los datos.\n",
    "\n",
    "Los límites de Tukey se basan en los cuartiles de los datos y son sensibles a la presencia de sesgo en la distribución. Cuando hay asimetría en los datos, los límites de Tukey pueden no ser tan efectivos para identificar outliers de manera equitativa en ambos extremos de la distribución. El Coeficiente de Medcouple es útil para identificar la asimetría en los datos, especialmente en presencia de valores atípicos o sesgados. Es una medida robusta porque no se ve tan afectada por valores extremos como la media y la desviación estándar. El MC puede proporcionar información adicional sobre la asimetría de la distribución, lo que te permite ajustar los límites de Tukey de manera más apropiada para tu conjunto de datos específico. Una posible variacion de los límites de Tukey teniendo en cuenta MC podria ser: \n",
    "   - Si MC es mayor que 0 (asimetría hacia la derecha):\n",
    "      - low = (q1-1.5 * math.exp(-4*mc) * iqr)\n",
    "      - high = (q3+1.5 * math.exp(3.5*mc) * iqr)\n",
    "   - Si la asimetriza es hacia la izquierda:    \n",
    "      - low = (q1-1.5 * math.exp(-3.5*mc) * iqr)\n",
    "      - high = (q3+1.5 * math.exp(4*mc) * iqr)\n",
    "\n",
    "\n",
    "### Variables categóricas\n",
    "Para las variables categóricas no existe el concepto de valor anómalo, pero sí se puede considerar en base a un análisis de frecuencia. Por ejemplo, que el uso de una categoría sea residual, pudiendo tener un 0.1% de instancias en el dataset. Para detectar estos valores, se puede fijar un valor mínimo de frecuencia en función del número posible de valores de la variable categórica (2 en el caso de una variable booleana). Por ejemplo, un umbral de $\\frac{0.2\\%}{valores}$ (0.1% en el caso de una variable booleana)"
   ],
   "id": "599c97eec7b7d283"
  },
  {
   "metadata": {},
   "cell_type": "markdown",
   "source": [
    "## Analisis detallado de variables\n",
    "Para cada una de las 10 variable (3 booleanas, 4 porcentuales y 3 numericas) se hara un analisis detallado "
   ],
   "id": "132c8742057275c"
  },
  {
   "metadata": {},
   "cell_type": "markdown",
   "source": [
    "### Variable is_private (1/4)\n",
    "Esta variable es de tipo booleano y representa si la variable es privada."
   ],
   "id": "6abba739e46da213"
  },
  {
   "metadata": {
    "ExecuteTime": {
     "end_time": "2024-05-27T10:55:52.996763Z",
     "start_time": "2024-05-27T10:55:50.800769Z"
    }
   },
   "cell_type": "code",
   "source": [
    "plt.xticks([0, 1], ['False', 'True'])\n",
    "sns.histplot(X['variable__is_private'], discrete=True)"
   ],
   "id": "4ab35b2ef94a3379",
   "outputs": [
    {
     "data": {
      "text/plain": [
       "<Axes: xlabel='variable__is_private', ylabel='Count'>"
      ]
     },
     "execution_count": 27,
     "metadata": {},
     "output_type": "execute_result"
    },
    {
     "data": {
      "text/plain": [
       "<Figure size 640x480 with 1 Axes>"
      ],
      "image/png": "[encoded data removed]"
     },
     "metadata": {},
     "output_type": "display_data"
    }
   ],
   "execution_count": 27
  },
  {
   "metadata": {
    "ExecuteTime": {
     "end_time": "2024-05-27T10:55:53.335836Z",
     "start_time": "2024-05-27T10:55:52.996763Z"
    }
   },
   "cell_type": "code",
   "source": [
    "num_true_values = len(X[X['variable__is_private'] == True])\n",
    "num_false_values = len(X[X['variable__is_private'] == False])\n",
    "std = X['variable__is_private'].std()\n",
    "freq_true = len(X[X['variable__is_private'] == True]) / len(X['variable__is_private'])\n",
    "freq_false = len(X[X['variable__is_private'] == False]) / len(X['variable__is_private'])\n",
    "print(f'La variable is_private contiene {num_true_values} valores verdaderos y {num_false_values} valores falsos. Y, la desviación típica es de {std}')\n",
    "print(f'La frecuencia con la que programa puede tener la variable is_private a True es {freq_true}.')\n",
    "print(f'La frecuencia con la que programa puede tener la variable is_private a False es {freq_false}.')"
   ],
   "id": "f4a042829ae6fac5",
   "outputs": [
    {
     "name": "stdout",
     "output_type": "stream",
     "text": [
      "La variable is_private contiene 43988 valores verdaderos y 2738110 valores falsos. Y, la desviación típica es de 0.12474415451288223\n",
      "La frecuencia con la que programa puede tener la variable is_private a True es 0.01581108932898841.\n",
      "La frecuencia con la que programa puede tener la variable is_private a False es 0.9841889106710116.\n"
     ]
    }
   ],
   "execution_count": 28
  },
  {
   "metadata": {
    "ExecuteTime": {
     "end_time": "2024-05-27T10:55:53.504059Z",
     "start_time": "2024-05-27T10:55:53.335836Z"
    }
   },
   "cell_type": "code",
   "source": [
    "possible_values = [True, False]\n",
    "print_frequency_anal_for_cat_var(X, 'variable__is_private', possible_values)"
   ],
   "id": "c614dd60d0ab8e5b",
   "outputs": [
    {
     "name": "stdout",
     "output_type": "stream",
     "text": [
      "La variable variable__is_private contiene 2 valores distintos.\n",
      "El umbral de outlier es de 0.1%\n",
      "La variable variable__is_private toma el valor de 0.0 en un 98.42% de los items.\n",
      "La variable variable__is_private toma el valor de 1.0 en un 1.581% de los items.\n"
     ]
    }
   ],
   "execution_count": 29
  },
  {
   "metadata": {
    "ExecuteTime": {
     "end_time": "2024-05-27T10:55:53.577067Z",
     "start_time": "2024-05-27T10:55:53.504059Z"
    }
   },
   "cell_type": "code",
   "source": "X[X['variable__is_private'] == True].describe(percentiles=[.25, .50, .75], include = ['object', 'float', 'bool', 'int'])\n",
   "id": "6c33bdd1420008cf",
   "outputs": [
    {
     "data": {
      "text/plain": [
       "       variable__number_of_characters  variable__is_private  \\\n",
       "count                    43988.000000               43988.0   \n",
       "mean                        13.581727                   1.0   \n",
       "std                          7.049422                   0.0   \n",
       "min                          2.000000                   1.0   \n",
       "25%                          8.000000                   1.0   \n",
       "50%                         13.000000                   1.0   \n",
       "75%                         18.000000                   1.0   \n",
       "max                         53.000000                   1.0   \n",
       "\n",
       "       variable__is_magic  variable__name_convention_CamelLow  \\\n",
       "count             43988.0                             43988.0   \n",
       "mean                  0.0                                 0.0   \n",
       "std                   0.0                                 0.0   \n",
       "min                   0.0                                 0.0   \n",
       "25%                   0.0                                 0.0   \n",
       "50%                   0.0                                 0.0   \n",
       "75%                   0.0                                 0.0   \n",
       "max                   0.0                                 0.0   \n",
       "\n",
       "       variable__name_convention_CamelUp  variable__name_convention_Discard  \\\n",
       "count                            43988.0                            43988.0   \n",
       "mean                                 0.0                                0.0   \n",
       "std                                  0.0                                0.0   \n",
       "min                                  0.0                                0.0   \n",
       "25%                                  0.0                                0.0   \n",
       "50%                                  0.0                                0.0   \n",
       "75%                                  0.0                                0.0   \n",
       "max                                  0.0                                0.0   \n",
       "\n",
       "       variable__name_convention_Lower  \\\n",
       "count                          43988.0   \n",
       "mean                               0.0   \n",
       "std                                0.0   \n",
       "min                                0.0   \n",
       "25%                                0.0   \n",
       "50%                                0.0   \n",
       "75%                                0.0   \n",
       "max                                0.0   \n",
       "\n",
       "       variable__name_convention_NoNameConvention  \\\n",
       "count                                43988.000000   \n",
       "mean                                     0.128990   \n",
       "std                                      0.335192   \n",
       "min                                      0.000000   \n",
       "25%                                      0.000000   \n",
       "50%                                      0.000000   \n",
       "75%                                      0.000000   \n",
       "max                                      1.000000   \n",
       "\n",
       "       variable__name_convention_SnakeCase  variable__name_convention_Upper  \\\n",
       "count                         43988.000000                     43988.000000   \n",
       "mean                              0.742043                         0.128967   \n",
       "std                               0.437515                         0.335167   \n",
       "min                               0.000000                         0.000000   \n",
       "25%                               0.000000                         0.000000   \n",
       "50%                               1.000000                         0.000000   \n",
       "75%                               1.000000                         0.000000   \n",
       "max                               1.000000                         1.000000   \n",
       "\n",
       "       variable__expertise_level_BEGINNER  variable__expertise_level_EXPERT  \n",
       "count                        43988.000000                      43988.000000  \n",
       "mean                             0.467946                          0.532054  \n",
       "std                              0.498977                          0.498977  \n",
       "min                              0.000000                          0.000000  \n",
       "25%                              0.000000                          0.000000  \n",
       "50%                              0.000000                          1.000000  \n",
       "75%                              1.000000                          1.000000  \n",
       "max                              1.000000                          1.000000  "
      ],
      "text/html": [
       "<div>\n",
       "<style scoped>\n",
       "    .dataframe tbody tr th:only-of-type {\n",
       "        vertical-align: middle;\n",
       "    }\n",
       "\n",
       "    .dataframe tbody tr th {\n",
       "        vertical-align: top;\n",
       "    }\n",
       "\n",
       "    .dataframe thead th {\n",
       "        text-align: right;\n",
       "    }\n",
       "</style>\n",
       "<table border=\"1\" class=\"dataframe\">\n",
       "  <thead>\n",
       "    <tr style=\"text-align: right;\">\n",
       "      <th></th>\n",
       "      <th>variable__number_of_characters</th>\n",
       "      <th>variable__is_private</th>\n",
       "      <th>variable__is_magic</th>\n",
       "      <th>variable__name_convention_CamelLow</th>\n",
       "      <th>variable__name_convention_CamelUp</th>\n",
       "      <th>variable__name_convention_Discard</th>\n",
       "      <th>variable__name_convention_Lower</th>\n",
       "      <th>variable__name_convention_NoNameConvention</th>\n",
       "      <th>variable__name_convention_SnakeCase</th>\n",
       "      <th>variable__name_convention_Upper</th>\n",
       "      <th>variable__expertise_level_BEGINNER</th>\n",
       "      <th>variable__expertise_level_EXPERT</th>\n",
       "    </tr>\n",
       "  </thead>\n",
       "  <tbody>\n",
       "    <tr>\n",
       "      <th>count</th>\n",
       "      <td>43988.000000</td>\n",
       "      <td>43988.0</td>\n",
       "      <td>43988.0</td>\n",
       "      <td>43988.0</td>\n",
       "      <td>43988.0</td>\n",
       "      <td>43988.0</td>\n",
       "      <td>43988.0</td>\n",
       "      <td>43988.000000</td>\n",
       "      <td>43988.000000</td>\n",
       "      <td>43988.000000</td>\n",
       "      <td>43988.000000</td>\n",
       "      <td>43988.000000</td>\n",
       "    </tr>\n",
       "    <tr>\n",
       "      <th>mean</th>\n",
       "      <td>13.581727</td>\n",
       "      <td>1.0</td>\n",
       "      <td>0.0</td>\n",
       "      <td>0.0</td>\n",
       "      <td>0.0</td>\n",
       "      <td>0.0</td>\n",
       "      <td>0.0</td>\n",
       "      <td>0.128990</td>\n",
       "      <td>0.742043</td>\n",
       "      <td>0.128967</td>\n",
       "      <td>0.467946</td>\n",
       "      <td>0.532054</td>\n",
       "    </tr>\n",
       "    <tr>\n",
       "      <th>std</th>\n",
       "      <td>7.049422</td>\n",
       "      <td>0.0</td>\n",
       "      <td>0.0</td>\n",
       "      <td>0.0</td>\n",
       "      <td>0.0</td>\n",
       "      <td>0.0</td>\n",
       "      <td>0.0</td>\n",
       "      <td>0.335192</td>\n",
       "      <td>0.437515</td>\n",
       "      <td>0.335167</td>\n",
       "      <td>0.498977</td>\n",
       "      <td>0.498977</td>\n",
       "    </tr>\n",
       "    <tr>\n",
       "      <th>min</th>\n",
       "      <td>2.000000</td>\n",
       "      <td>1.0</td>\n",
       "      <td>0.0</td>\n",
       "      <td>0.0</td>\n",
       "      <td>0.0</td>\n",
       "      <td>0.0</td>\n",
       "      <td>0.0</td>\n",
       "      <td>0.000000</td>\n",
       "      <td>0.000000</td>\n",
       "      <td>0.000000</td>\n",
       "      <td>0.000000</td>\n",
       "      <td>0.000000</td>\n",
       "    </tr>\n",
       "    <tr>\n",
       "      <th>25%</th>\n",
       "      <td>8.000000</td>\n",
       "      <td>1.0</td>\n",
       "      <td>0.0</td>\n",
       "      <td>0.0</td>\n",
       "      <td>0.0</td>\n",
       "      <td>0.0</td>\n",
       "      <td>0.0</td>\n",
       "      <td>0.000000</td>\n",
       "      <td>0.000000</td>\n",
       "      <td>0.000000</td>\n",
       "      <td>0.000000</td>\n",
       "      <td>0.000000</td>\n",
       "    </tr>\n",
       "    <tr>\n",
       "      <th>50%</th>\n",
       "      <td>13.000000</td>\n",
       "      <td>1.0</td>\n",
       "      <td>0.0</td>\n",
       "      <td>0.0</td>\n",
       "      <td>0.0</td>\n",
       "      <td>0.0</td>\n",
       "      <td>0.0</td>\n",
       "      <td>0.000000</td>\n",
       "      <td>1.000000</td>\n",
       "      <td>0.000000</td>\n",
       "      <td>0.000000</td>\n",
       "      <td>1.000000</td>\n",
       "    </tr>\n",
       "    <tr>\n",
       "      <th>75%</th>\n",
       "      <td>18.000000</td>\n",
       "      <td>1.0</td>\n",
       "      <td>0.0</td>\n",
       "      <td>0.0</td>\n",
       "      <td>0.0</td>\n",
       "      <td>0.0</td>\n",
       "      <td>0.0</td>\n",
       "      <td>0.000000</td>\n",
       "      <td>1.000000</td>\n",
       "      <td>0.000000</td>\n",
       "      <td>1.000000</td>\n",
       "      <td>1.000000</td>\n",
       "    </tr>\n",
       "    <tr>\n",
       "      <th>max</th>\n",
       "      <td>53.000000</td>\n",
       "      <td>1.0</td>\n",
       "      <td>0.0</td>\n",
       "      <td>0.0</td>\n",
       "      <td>0.0</td>\n",
       "      <td>0.0</td>\n",
       "      <td>0.0</td>\n",
       "      <td>1.000000</td>\n",
       "      <td>1.000000</td>\n",
       "      <td>1.000000</td>\n",
       "      <td>1.000000</td>\n",
       "      <td>1.000000</td>\n",
       "    </tr>\n",
       "  </tbody>\n",
       "</table>\n",
       "</div>"
      ]
     },
     "execution_count": 30,
     "metadata": {},
     "output_type": "execute_result"
    }
   ],
   "execution_count": 30
  },
  {
   "metadata": {},
   "cell_type": "markdown",
   "source": [
    "### Variable is_magic (2/4)\n",
    "Esta variable es de tipo booleano y representa si la variable es magic."
   ],
   "id": "1fa4491178ba606c"
  },
  {
   "metadata": {
    "ExecuteTime": {
     "end_time": "2024-05-27T10:55:56.787309Z",
     "start_time": "2024-05-27T10:55:53.577067Z"
    }
   },
   "cell_type": "code",
   "source": [
    "plt.xticks([0, 1], ['False', 'True'])\n",
    "sns.histplot(X['variable__is_magic'], discrete=True)"
   ],
   "id": "529b7fd2ad00b058",
   "outputs": [
    {
     "data": {
      "text/plain": [
       "<Axes: xlabel='variable__is_magic', ylabel='Count'>"
      ]
     },
     "execution_count": 31,
     "metadata": {},
     "output_type": "execute_result"
    },
    {
     "data": {
      "text/plain": [
       "<Figure size 640x480 with 1 Axes>"
      ],
      "image/png": "[encoded data removed]"
     },
     "metadata": {},
     "output_type": "display_data"
    }
   ],
   "execution_count": 31
  },
  {
   "metadata": {
    "ExecuteTime": {
     "end_time": "2024-05-27T10:55:57.209663Z",
     "start_time": "2024-05-27T10:55:56.787309Z"
    }
   },
   "cell_type": "code",
   "source": [
    "#ANALISIS DE DISTRIBUCIÓN DE DATOS\n",
    "num_true_values = len(X[X['variable__is_magic'] == True])\n",
    "num_false_values = len(X[X['variable__is_magic'] == False])\n",
    "std = X['variable__is_magic'].std()\n",
    "freq_true = len(X[X['variable__is_magic'] == True]) / len(X['variable__is_magic'])\n",
    "freq_false = len(X[X['variable__is_magic'] == False]) / len(X['variable__is_magic'])\n",
    "print(f'La variable is_magic contiene {num_true_values} valores verdaderos y {num_false_values} valores falsos. Y, la desviación típica es de {std}')\n",
    "print(f'La frecuencia con la que programa puede tener la variable is_magic a True es {freq_true}.')\n",
    "print(f'La frecuencia con la que programa puede tener la variable is_magic a False es {freq_false}.')"
   ],
   "id": "d1bed1e471481adc",
   "outputs": [
    {
     "name": "stdout",
     "output_type": "stream",
     "text": [
      "La variable is_magic contiene 18534 valores verdaderos y 2763564 valores falsos. Y, la desviación típica es de 0.08134801685810089\n",
      "La frecuencia con la que programa puede tener la variable is_magic a True es 0.0066618789129642446.\n",
      "La frecuencia con la que programa puede tener la variable is_magic a False es 0.9933381210870358.\n"
     ]
    }
   ],
   "execution_count": 32
  },
  {
   "metadata": {
    "ExecuteTime": {
     "end_time": "2024-05-27T10:55:57.419056Z",
     "start_time": "2024-05-27T10:55:57.209663Z"
    }
   },
   "cell_type": "code",
   "source": [
    "#PROBABILIDAD DE VALORES\n",
    "possible_values = [True, False]\n",
    "print_frequency_anal_for_cat_var(X, 'variable__is_magic', possible_values)"
   ],
   "id": "c54b472864a47e88",
   "outputs": [
    {
     "name": "stdout",
     "output_type": "stream",
     "text": [
      "La variable variable__is_magic contiene 2 valores distintos.\n",
      "El umbral de outlier es de 0.1%\n",
      "La variable variable__is_magic toma el valor de 0.0 en un 99.33% de los items.\n",
      "La variable variable__is_magic toma el valor de 1.0 en un 0.6662% de los items.\n"
     ]
    }
   ],
   "execution_count": 33
  },
  {
   "metadata": {
    "ExecuteTime": {
     "end_time": "2024-05-27T10:55:57.500195Z",
     "start_time": "2024-05-27T10:55:57.419056Z"
    }
   },
   "cell_type": "code",
   "source": [
    "#VALORES DE LOS DATOS CONDICIONADOS A TRUE/FALSE\n",
    "X[X['variable__is_magic'] == True].describe(percentiles=[.25, .50, .75], include = ['object', 'float', 'bool', 'int'])"
   ],
   "id": "4bd840561db5f69f",
   "outputs": [
    {
     "data": {
      "text/plain": [
       "       variable__number_of_characters  variable__is_private  \\\n",
       "count                    18534.000000               18534.0   \n",
       "mean                         5.020449                   0.0   \n",
       "std                          3.746422                   0.0   \n",
       "min                          1.000000                   0.0   \n",
       "25%                          1.000000                   0.0   \n",
       "50%                          7.000000                   0.0   \n",
       "75%                          8.000000                   0.0   \n",
       "max                         25.000000                   0.0   \n",
       "\n",
       "       variable__is_magic  variable__name_convention_CamelLow  \\\n",
       "count             18534.0                             18534.0   \n",
       "mean                  1.0                                 0.0   \n",
       "std                   0.0                                 0.0   \n",
       "min                   1.0                                 0.0   \n",
       "25%                   1.0                                 0.0   \n",
       "50%                   1.0                                 0.0   \n",
       "75%                   1.0                                 0.0   \n",
       "max                   1.0                                 0.0   \n",
       "\n",
       "       variable__name_convention_CamelUp  variable__name_convention_Discard  \\\n",
       "count                            18534.0                       18534.000000   \n",
       "mean                                 0.0                           0.446747   \n",
       "std                                  0.0                           0.497169   \n",
       "min                                  0.0                           0.000000   \n",
       "25%                                  0.0                           0.000000   \n",
       "50%                                  0.0                           0.000000   \n",
       "75%                                  0.0                           1.000000   \n",
       "max                                  0.0                           1.000000   \n",
       "\n",
       "       variable__name_convention_Lower  \\\n",
       "count                          18534.0   \n",
       "mean                               0.0   \n",
       "std                                0.0   \n",
       "min                                0.0   \n",
       "25%                                0.0   \n",
       "50%                                0.0   \n",
       "75%                                0.0   \n",
       "max                                0.0   \n",
       "\n",
       "       variable__name_convention_NoNameConvention  \\\n",
       "count                                18534.000000   \n",
       "mean                                     0.001025   \n",
       "std                                      0.032002   \n",
       "min                                      0.000000   \n",
       "25%                                      0.000000   \n",
       "50%                                      0.000000   \n",
       "75%                                      0.000000   \n",
       "max                                      1.000000   \n",
       "\n",
       "       variable__name_convention_SnakeCase  variable__name_convention_Upper  \\\n",
       "count                          18534.00000                     18534.000000   \n",
       "mean                               0.55007                         0.002158   \n",
       "std                                0.49750                         0.046407   \n",
       "min                                0.00000                         0.000000   \n",
       "25%                                0.00000                         0.000000   \n",
       "50%                                1.00000                         0.000000   \n",
       "75%                                1.00000                         0.000000   \n",
       "max                                1.00000                         1.000000   \n",
       "\n",
       "       variable__expertise_level_BEGINNER  variable__expertise_level_EXPERT  \n",
       "count                        18534.000000                      18534.000000  \n",
       "mean                             0.252671                          0.747329  \n",
       "std                              0.434555                          0.434555  \n",
       "min                              0.000000                          0.000000  \n",
       "25%                              0.000000                          0.000000  \n",
       "50%                              0.000000                          1.000000  \n",
       "75%                              1.000000                          1.000000  \n",
       "max                              1.000000                          1.000000  "
      ],
      "text/html": [
       "<div>\n",
       "<style scoped>\n",
       "    .dataframe tbody tr th:only-of-type {\n",
       "        vertical-align: middle;\n",
       "    }\n",
       "\n",
       "    .dataframe tbody tr th {\n",
       "        vertical-align: top;\n",
       "    }\n",
       "\n",
       "    .dataframe thead th {\n",
       "        text-align: right;\n",
       "    }\n",
       "</style>\n",
       "<table border=\"1\" class=\"dataframe\">\n",
       "  <thead>\n",
       "    <tr style=\"text-align: right;\">\n",
       "      <th></th>\n",
       "      <th>variable__number_of_characters</th>\n",
       "      <th>variable__is_private</th>\n",
       "      <th>variable__is_magic</th>\n",
       "      <th>variable__name_convention_CamelLow</th>\n",
       "      <th>variable__name_convention_CamelUp</th>\n",
       "      <th>variable__name_convention_Discard</th>\n",
       "      <th>variable__name_convention_Lower</th>\n",
       "      <th>variable__name_convention_NoNameConvention</th>\n",
       "      <th>variable__name_convention_SnakeCase</th>\n",
       "      <th>variable__name_convention_Upper</th>\n",
       "      <th>variable__expertise_level_BEGINNER</th>\n",
       "      <th>variable__expertise_level_EXPERT</th>\n",
       "    </tr>\n",
       "  </thead>\n",
       "  <tbody>\n",
       "    <tr>\n",
       "      <th>count</th>\n",
       "      <td>18534.000000</td>\n",
       "      <td>18534.0</td>\n",
       "      <td>18534.0</td>\n",
       "      <td>18534.0</td>\n",
       "      <td>18534.0</td>\n",
       "      <td>18534.000000</td>\n",
       "      <td>18534.0</td>\n",
       "      <td>18534.000000</td>\n",
       "      <td>18534.00000</td>\n",
       "      <td>18534.000000</td>\n",
       "      <td>18534.000000</td>\n",
       "      <td>18534.000000</td>\n",
       "    </tr>\n",
       "    <tr>\n",
       "      <th>mean</th>\n",
       "      <td>5.020449</td>\n",
       "      <td>0.0</td>\n",
       "      <td>1.0</td>\n",
       "      <td>0.0</td>\n",
       "      <td>0.0</td>\n",
       "      <td>0.446747</td>\n",
       "      <td>0.0</td>\n",
       "      <td>0.001025</td>\n",
       "      <td>0.55007</td>\n",
       "      <td>0.002158</td>\n",
       "      <td>0.252671</td>\n",
       "      <td>0.747329</td>\n",
       "    </tr>\n",
       "    <tr>\n",
       "      <th>std</th>\n",
       "      <td>3.746422</td>\n",
       "      <td>0.0</td>\n",
       "      <td>0.0</td>\n",
       "      <td>0.0</td>\n",
       "      <td>0.0</td>\n",
       "      <td>0.497169</td>\n",
       "      <td>0.0</td>\n",
       "      <td>0.032002</td>\n",
       "      <td>0.49750</td>\n",
       "      <td>0.046407</td>\n",
       "      <td>0.434555</td>\n",
       "      <td>0.434555</td>\n",
       "    </tr>\n",
       "    <tr>\n",
       "      <th>min</th>\n",
       "      <td>1.000000</td>\n",
       "      <td>0.0</td>\n",
       "      <td>1.0</td>\n",
       "      <td>0.0</td>\n",
       "      <td>0.0</td>\n",
       "      <td>0.000000</td>\n",
       "      <td>0.0</td>\n",
       "      <td>0.000000</td>\n",
       "      <td>0.00000</td>\n",
       "      <td>0.000000</td>\n",
       "      <td>0.000000</td>\n",
       "      <td>0.000000</td>\n",
       "    </tr>\n",
       "    <tr>\n",
       "      <th>25%</th>\n",
       "      <td>1.000000</td>\n",
       "      <td>0.0</td>\n",
       "      <td>1.0</td>\n",
       "      <td>0.0</td>\n",
       "      <td>0.0</td>\n",
       "      <td>0.000000</td>\n",
       "      <td>0.0</td>\n",
       "      <td>0.000000</td>\n",
       "      <td>0.00000</td>\n",
       "      <td>0.000000</td>\n",
       "      <td>0.000000</td>\n",
       "      <td>0.000000</td>\n",
       "    </tr>\n",
       "    <tr>\n",
       "      <th>50%</th>\n",
       "      <td>7.000000</td>\n",
       "      <td>0.0</td>\n",
       "      <td>1.0</td>\n",
       "      <td>0.0</td>\n",
       "      <td>0.0</td>\n",
       "      <td>0.000000</td>\n",
       "      <td>0.0</td>\n",
       "      <td>0.000000</td>\n",
       "      <td>1.00000</td>\n",
       "      <td>0.000000</td>\n",
       "      <td>0.000000</td>\n",
       "      <td>1.000000</td>\n",
       "    </tr>\n",
       "    <tr>\n",
       "      <th>75%</th>\n",
       "      <td>8.000000</td>\n",
       "      <td>0.0</td>\n",
       "      <td>1.0</td>\n",
       "      <td>0.0</td>\n",
       "      <td>0.0</td>\n",
       "      <td>1.000000</td>\n",
       "      <td>0.0</td>\n",
       "      <td>0.000000</td>\n",
       "      <td>1.00000</td>\n",
       "      <td>0.000000</td>\n",
       "      <td>1.000000</td>\n",
       "      <td>1.000000</td>\n",
       "    </tr>\n",
       "    <tr>\n",
       "      <th>max</th>\n",
       "      <td>25.000000</td>\n",
       "      <td>0.0</td>\n",
       "      <td>1.0</td>\n",
       "      <td>0.0</td>\n",
       "      <td>0.0</td>\n",
       "      <td>1.000000</td>\n",
       "      <td>0.0</td>\n",
       "      <td>1.000000</td>\n",
       "      <td>1.00000</td>\n",
       "      <td>1.000000</td>\n",
       "      <td>1.000000</td>\n",
       "      <td>1.000000</td>\n",
       "    </tr>\n",
       "  </tbody>\n",
       "</table>\n",
       "</div>"
      ]
     },
     "execution_count": 34,
     "metadata": {},
     "output_type": "execute_result"
    }
   ],
   "execution_count": 34
  },
  {
   "metadata": {},
   "cell_type": "markdown",
   "source": [
    "### Variable number_of_characters (3/4)\n",
    "Esta variable representa el número de caracteres del nombre de la variable. Como vimos en la descripción de la tabla esta varibale adopta valores en el rango 1 - 82. Con una media de 7.12."
   ],
   "id": "119fc307a9194a96"
  },
  {
   "metadata": {
    "ExecuteTime": {
     "end_time": "2024-05-27T10:56:09.676997Z",
     "start_time": "2024-05-27T10:55:57.500195Z"
    }
   },
   "cell_type": "code",
   "source": "sns.stripplot(X['variable__number_of_characters'])",
   "id": "5efd7fbb4f34563d",
   "outputs": [
    {
     "data": {
      "text/plain": [
       "<Axes: ylabel='variable__number_of_characters'>"
      ]
     },
     "execution_count": 35,
     "metadata": {},
     "output_type": "execute_result"
    },
    {
     "data": {
      "text/plain": [
       "<Figure size 640x480 with 1 Axes>"
      ],
      "image/png": "[encoded data removed]"
     },
     "metadata": {},
     "output_type": "display_data"
    }
   ],
   "execution_count": 35
  },
  {
   "metadata": {
    "ExecuteTime": {
     "end_time": "2024-05-27T10:56:09.880756Z",
     "start_time": "2024-05-27T10:56:09.676997Z"
    }
   },
   "cell_type": "code",
   "source": "print_outliers_for_df_column(X, 'variable__number_of_characters')",
   "id": "e5649a2923239004",
   "outputs": [
    {
     "name": "stdout",
     "output_type": "stream",
     "text": [
      "El coeficiente MC (Medcouple Coefficient) de balanceo es: 0.735176793606983\n",
      "Rango valores atípicos extremos (Tukey): [-14.0,28.0]\n",
      "Rango valores atípicos leves (Tukey): [-5.0,19.0]\n",
      "Rango valores atípicos extremos (Fixed BoxPlot): [3.313325020785852,180.36305061428197]\n",
      "-3.0IQR: 0 instancias tienen un valor para variable__number_of_characters inferior a -14.0 (Q1-3*IQR) para variable__number_of_characters. Representando un 0.0% del total de instancias.\n",
      "-1.5IQR: 0 instancias tienen un valor para variable__number_of_characters inferior a -5.0 (Q1-1.5*IQR) para variable__number_of_characters. Representando un 0.0% del total de instancias.\n",
      "+1.5IQR: 84403 instancias tienen un valor para variable__number_of_characters superior a 19.0 (Q3+1.5*IQR) para variable__number_of_characters. Representando un 3.034% del total de instancias.\n",
      "+3.0IQR: 12404 instancias tienen un valor para variable__number_of_characters superior a 28.0 (Q3-3*IQR) para variable__number_of_characters. Representando un 0.4459% del total de instancias.\n",
      "L: 580024 instancias tienen un valor para variable__number_of_characters inferior a 3.313325020785852 para variable__number_of_characters. Representando un 20.85% del total de instancias.\n",
      "U: 0 instancias tienen un valor para variable__number_of_characters superior a 180.36305061428197 para variable__number_of_characters. Representando un 0.0% del total de instancias.\n"
     ]
    }
   ],
   "execution_count": 36
  },
  {
   "metadata": {
    "ExecuteTime": {
     "end_time": "2024-05-27T10:56:09.947798Z",
     "start_time": "2024-05-27T10:56:09.880756Z"
    }
   },
   "cell_type": "code",
   "source": "X[X['variable__number_of_characters'] > 28].describe(percentiles=[.25, .50, .75], include = ['object', 'float', 'bool', 'int'])",
   "id": "5c5e0e6eb4cd173",
   "outputs": [
    {
     "data": {
      "text/plain": [
       "       variable__number_of_characters  variable__is_private  \\\n",
       "count                    12404.000000          12404.000000   \n",
       "mean                        33.542728              0.128749   \n",
       "std                          4.951757              0.334935   \n",
       "min                         29.000000              0.000000   \n",
       "25%                         30.000000              0.000000   \n",
       "50%                         32.000000              0.000000   \n",
       "75%                         35.000000              0.000000   \n",
       "max                         82.000000              1.000000   \n",
       "\n",
       "       variable__is_magic  variable__name_convention_CamelLow  \\\n",
       "count             12404.0                        12404.000000   \n",
       "mean                  0.0                            0.009432   \n",
       "std                   0.0                            0.096666   \n",
       "min                   0.0                            0.000000   \n",
       "25%                   0.0                            0.000000   \n",
       "50%                   0.0                            0.000000   \n",
       "75%                   0.0                            0.000000   \n",
       "max                   0.0                            1.000000   \n",
       "\n",
       "       variable__name_convention_CamelUp  variable__name_convention_Discard  \\\n",
       "count                       12404.000000                            12404.0   \n",
       "mean                            0.137456                                0.0   \n",
       "std                             0.344342                                0.0   \n",
       "min                             0.000000                                0.0   \n",
       "25%                             0.000000                                0.0   \n",
       "50%                             0.000000                                0.0   \n",
       "75%                             0.000000                                0.0   \n",
       "max                             1.000000                                0.0   \n",
       "\n",
       "       variable__name_convention_Lower  \\\n",
       "count                          12404.0   \n",
       "mean                               0.0   \n",
       "std                                0.0   \n",
       "min                                0.0   \n",
       "25%                                0.0   \n",
       "50%                                0.0   \n",
       "75%                                0.0   \n",
       "max                                0.0   \n",
       "\n",
       "       variable__name_convention_NoNameConvention  \\\n",
       "count                                12404.000000   \n",
       "mean                                     0.034586   \n",
       "std                                      0.182735   \n",
       "min                                      0.000000   \n",
       "25%                                      0.000000   \n",
       "50%                                      0.000000   \n",
       "75%                                      0.000000   \n",
       "max                                      1.000000   \n",
       "\n",
       "       variable__name_convention_SnakeCase  variable__name_convention_Upper  \\\n",
       "count                         12404.000000                     12404.000000   \n",
       "mean                              0.483070                         0.335456   \n",
       "std                               0.499733                         0.472169   \n",
       "min                               0.000000                         0.000000   \n",
       "25%                               0.000000                         0.000000   \n",
       "50%                               0.000000                         0.000000   \n",
       "75%                               1.000000                         1.000000   \n",
       "max                               1.000000                         1.000000   \n",
       "\n",
       "       variable__expertise_level_BEGINNER  variable__expertise_level_EXPERT  \n",
       "count                        12404.000000                      12404.000000  \n",
       "mean                             0.134876                          0.865124  \n",
       "std                              0.341605                          0.341605  \n",
       "min                              0.000000                          0.000000  \n",
       "25%                              0.000000                          1.000000  \n",
       "50%                              0.000000                          1.000000  \n",
       "75%                              0.000000                          1.000000  \n",
       "max                              1.000000                          1.000000  "
      ],
      "text/html": [
       "<div>\n",
       "<style scoped>\n",
       "    .dataframe tbody tr th:only-of-type {\n",
       "        vertical-align: middle;\n",
       "    }\n",
       "\n",
       "    .dataframe tbody tr th {\n",
       "        vertical-align: top;\n",
       "    }\n",
       "\n",
       "    .dataframe thead th {\n",
       "        text-align: right;\n",
       "    }\n",
       "</style>\n",
       "<table border=\"1\" class=\"dataframe\">\n",
       "  <thead>\n",
       "    <tr style=\"text-align: right;\">\n",
       "      <th></th>\n",
       "      <th>variable__number_of_characters</th>\n",
       "      <th>variable__is_private</th>\n",
       "      <th>variable__is_magic</th>\n",
       "      <th>variable__name_convention_CamelLow</th>\n",
       "      <th>variable__name_convention_CamelUp</th>\n",
       "      <th>variable__name_convention_Discard</th>\n",
       "      <th>variable__name_convention_Lower</th>\n",
       "      <th>variable__name_convention_NoNameConvention</th>\n",
       "      <th>variable__name_convention_SnakeCase</th>\n",
       "      <th>variable__name_convention_Upper</th>\n",
       "      <th>variable__expertise_level_BEGINNER</th>\n",
       "      <th>variable__expertise_level_EXPERT</th>\n",
       "    </tr>\n",
       "  </thead>\n",
       "  <tbody>\n",
       "    <tr>\n",
       "      <th>count</th>\n",
       "      <td>12404.000000</td>\n",
       "      <td>12404.000000</td>\n",
       "      <td>12404.0</td>\n",
       "      <td>12404.000000</td>\n",
       "      <td>12404.000000</td>\n",
       "      <td>12404.0</td>\n",
       "      <td>12404.0</td>\n",
       "      <td>12404.000000</td>\n",
       "      <td>12404.000000</td>\n",
       "      <td>12404.000000</td>\n",
       "      <td>12404.000000</td>\n",
       "      <td>12404.000000</td>\n",
       "    </tr>\n",
       "    <tr>\n",
       "      <th>mean</th>\n",
       "      <td>33.542728</td>\n",
       "      <td>0.128749</td>\n",
       "      <td>0.0</td>\n",
       "      <td>0.009432</td>\n",
       "      <td>0.137456</td>\n",
       "      <td>0.0</td>\n",
       "      <td>0.0</td>\n",
       "      <td>0.034586</td>\n",
       "      <td>0.483070</td>\n",
       "      <td>0.335456</td>\n",
       "      <td>0.134876</td>\n",
       "      <td>0.865124</td>\n",
       "    </tr>\n",
       "    <tr>\n",
       "      <th>std</th>\n",
       "      <td>4.951757</td>\n",
       "      <td>0.334935</td>\n",
       "      <td>0.0</td>\n",
       "      <td>0.096666</td>\n",
       "      <td>0.344342</td>\n",
       "      <td>0.0</td>\n",
       "      <td>0.0</td>\n",
       "      <td>0.182735</td>\n",
       "      <td>0.499733</td>\n",
       "      <td>0.472169</td>\n",
       "      <td>0.341605</td>\n",
       "      <td>0.341605</td>\n",
       "    </tr>\n",
       "    <tr>\n",
       "      <th>min</th>\n",
       "      <td>29.000000</td>\n",
       "      <td>0.000000</td>\n",
       "      <td>0.0</td>\n",
       "      <td>0.000000</td>\n",
       "      <td>0.000000</td>\n",
       "      <td>0.0</td>\n",
       "      <td>0.0</td>\n",
       "      <td>0.000000</td>\n",
       "      <td>0.000000</td>\n",
       "      <td>0.000000</td>\n",
       "      <td>0.000000</td>\n",
       "      <td>0.000000</td>\n",
       "    </tr>\n",
       "    <tr>\n",
       "      <th>25%</th>\n",
       "      <td>30.000000</td>\n",
       "      <td>0.000000</td>\n",
       "      <td>0.0</td>\n",
       "      <td>0.000000</td>\n",
       "      <td>0.000000</td>\n",
       "      <td>0.0</td>\n",
       "      <td>0.0</td>\n",
       "      <td>0.000000</td>\n",
       "      <td>0.000000</td>\n",
       "      <td>0.000000</td>\n",
       "      <td>0.000000</td>\n",
       "      <td>1.000000</td>\n",
       "    </tr>\n",
       "    <tr>\n",
       "      <th>50%</th>\n",
       "      <td>32.000000</td>\n",
       "      <td>0.000000</td>\n",
       "      <td>0.0</td>\n",
       "      <td>0.000000</td>\n",
       "      <td>0.000000</td>\n",
       "      <td>0.0</td>\n",
       "      <td>0.0</td>\n",
       "      <td>0.000000</td>\n",
       "      <td>0.000000</td>\n",
       "      <td>0.000000</td>\n",
       "      <td>0.000000</td>\n",
       "      <td>1.000000</td>\n",
       "    </tr>\n",
       "    <tr>\n",
       "      <th>75%</th>\n",
       "      <td>35.000000</td>\n",
       "      <td>0.000000</td>\n",
       "      <td>0.0</td>\n",
       "      <td>0.000000</td>\n",
       "      <td>0.000000</td>\n",
       "      <td>0.0</td>\n",
       "      <td>0.0</td>\n",
       "      <td>0.000000</td>\n",
       "      <td>1.000000</td>\n",
       "      <td>1.000000</td>\n",
       "      <td>0.000000</td>\n",
       "      <td>1.000000</td>\n",
       "    </tr>\n",
       "    <tr>\n",
       "      <th>max</th>\n",
       "      <td>82.000000</td>\n",
       "      <td>1.000000</td>\n",
       "      <td>0.0</td>\n",
       "      <td>1.000000</td>\n",
       "      <td>1.000000</td>\n",
       "      <td>0.0</td>\n",
       "      <td>0.0</td>\n",
       "      <td>1.000000</td>\n",
       "      <td>1.000000</td>\n",
       "      <td>1.000000</td>\n",
       "      <td>1.000000</td>\n",
       "      <td>1.000000</td>\n",
       "    </tr>\n",
       "  </tbody>\n",
       "</table>\n",
       "</div>"
      ]
     },
     "execution_count": 37,
     "metadata": {},
     "output_type": "execute_result"
    }
   ],
   "execution_count": 37
  },
  {
   "metadata": {},
   "cell_type": "markdown",
   "source": [
    "### Variable name_convention (10/10)\n",
    "Esta variable es de tipo categorica y representa el name convention del nombre de la variable."
   ],
   "id": "2fd1b0439566c6f7"
  },
  {
   "metadata": {
    "ExecuteTime": {
     "end_time": "2024-05-27T10:56:18.543579Z",
     "start_time": "2024-05-27T10:56:09.947798Z"
    }
   },
   "cell_type": "code",
   "source": "sns.catplot(full_table['variable__name_convention'], kind=\"count\")",
   "id": "b504c449a7224091",
   "outputs": [
    {
     "data": {
      "text/plain": [
       "<seaborn.axisgrid.FacetGrid at 0x1f284a5f440>"
      ]
     },
     "execution_count": 38,
     "metadata": {},
     "output_type": "execute_result"
    },
    {
     "data": {
      "text/plain": [
       "<Figure size 500x500 with 1 Axes>"
      ],
      "image/png": "[encoded data removed]"
     },
     "metadata": {},
     "output_type": "display_data"
    }
   ],
   "execution_count": 38
  },
  {
   "metadata": {
    "ExecuteTime": {
     "end_time": "2024-05-27T10:56:20.734195Z",
     "start_time": "2024-05-27T10:56:18.543579Z"
    }
   },
   "cell_type": "code",
   "source": "print_frequency_anal_for_cat_var(full_table, 'variable__name_convention')",
   "id": "33df6df9ad0487a2",
   "outputs": [
    {
     "name": "stdout",
     "output_type": "stream",
     "text": [
      "La variable variable__name_convention contiene 7 valores distintos.\n",
      "El umbral de outlier es de 0.028571428571428574%\n",
      "La variable variable__name_convention toma el valor de Lower en un 65.19% de los items.\n",
      "La variable variable__name_convention toma el valor de SnakeCase en un 21.37% de los items.\n",
      "La variable variable__name_convention toma el valor de CamelUp en un 7.47% de los items.\n",
      "La variable variable__name_convention toma el valor de Upper en un 2.882% de los items.\n",
      "La variable variable__name_convention toma el valor de CamelLow en un 2.347% de los items.\n",
      "La variable variable__name_convention toma el valor de NoNameConvention en un 0.4441% de los items.\n",
      "La variable variable__name_convention toma el valor de Discard en un 0.2976% de los items.\n"
     ]
    }
   ],
   "execution_count": 39
  }
 ],
 "metadata": {
  "kernelspec": {
   "display_name": "Python 3",
   "language": "python",
   "name": "python3"
  },
  "language_info": {
   "codemirror_mode": {
    "name": "ipython",
    "version": 2
   },
   "file_extension": ".py",
   "mimetype": "text/x-python",
   "name": "python",
   "nbconvert_exporter": "python",
   "pygments_lexer": "ipython2",
   "version": "2.7.6"
  }
 },
 "nbformat": 4,
 "nbformat_minor": 5
}
