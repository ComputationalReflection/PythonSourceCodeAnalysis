{
 "cells": [
  {
   "metadata": {},
   "cell_type": "markdown",
   "source": [
    "# FStrings EXPERT\n",
    "\n",
    "Esta tabla contiene la información adicional de las sentencias de tipo JoinedStr (Strings formateados) EXPERT.  --> ABEL COMPLETAR <--"
   ],
   "id": "148ae8871134f924"
  },
  {
   "metadata": {},
   "cell_type": "markdown",
   "source": "## 1 - Obtencion de datos",
   "id": "d3c24a719032807f"
  },
  {
   "metadata": {
    "ExecuteTime": {
     "end_time": "2024-05-27T10:48:15.958871Z",
     "start_time": "2024-05-27T10:48:13.381588Z"
    }
   },
   "cell_type": "code",
   "source": [
    "import matplotlib.pyplot as plt\n",
    "from notebooks_utils import *\n",
    "\n",
    "TARGET_FEATURE = 'fstring__expertise_level'\n",
    "TARGET_CLASS = 'EXPERT'\n",
    "full_table = get_data('fstrings')\n",
    "\n",
    "instances_for_class_low = len(full_table[full_table[TARGET_FEATURE] == \"BEGINNER\"])\n",
    "instances_for_class_high = len(full_table[full_table[TARGET_FEATURE] == \"EXPERT\"])\n",
    "\n",
    "print(f\"The dataset contains {instances_for_class_low} ({instances_for_class_low/len(full_table)*100:.4}%) instances for BEGINNER class and {instances_for_class_high} ({instances_for_class_high/len(full_table)*100:.4}%) for EXPERT class.\")"
   ],
   "id": "63b041e1cee0668d",
   "outputs": [
    {
     "name": "stdout",
     "output_type": "stream",
     "text": [
      "2024-05-27 12:48:15.940959 Data cache files found ...\n",
      "2024-05-27 12:48:15.940959 Data cache files successfully loaded!!\n",
      "The dataset contains 4961 (23.59%) instances for BEGINNER class and 16073 (76.41%) for EXPERT class.\n"
     ]
    }
   ],
   "execution_count": 1
  },
  {
   "metadata": {
    "ExecuteTime": {
     "end_time": "2024-05-27T10:48:15.975262Z",
     "start_time": "2024-05-27T10:48:15.958871Z"
    }
   },
   "cell_type": "code",
   "source": [
    "full_table = full_table[full_table[TARGET_FEATURE] == TARGET_CLASS]\n",
    "\n",
    "# Table name, features and target.\n",
    "TABLE_NAME = 'fstrings'\n",
    "TABLE_FEATURES = ['fstring__number_of_elements', 'fstring__constants_pct', 'fstring__expressions_pct']\n",
    "\n",
    "# Load features and target.\n",
    "X = full_table[TABLE_FEATURES]\n",
    "\n",
    "# Print information about the loaded table.\n",
    "print(f'Features shape: {X.shape}')\n",
    "\n",
    "print(f'As we can see the downloaded data contains a total of {X.shape[0]} instances. Each of the instances corresponds to a program. For each program we have {X.shape[1]} attributes.')"
   ],
   "id": "9f0a949e91eb384b",
   "outputs": [
    {
     "name": "stdout",
     "output_type": "stream",
     "text": [
      "Features shape: (16073, 3)\n",
      "As we can see the downloaded data contains a total of 16073 instances. Each of the instances corresponds to a program. For each program we have 3 attributes.\n"
     ]
    }
   ],
   "execution_count": 2
  },
  {
   "metadata": {},
   "cell_type": "markdown",
   "source": [
    "## 2 - Exploracion de datos\n",
    "\n",
    "Una vez tenemos nuestra tabla en un dataframe el siguiente paso es explorarla para ver qué tipo de información contiene."
   ],
   "id": "bcda7cb784bf0a1"
  },
  {
   "metadata": {
    "ExecuteTime": {
     "end_time": "2024-05-27T10:48:15.996106Z",
     "start_time": "2024-05-27T10:48:15.975262Z"
    }
   },
   "cell_type": "code",
   "source": "print(X.info())",
   "id": "2eb3d09993235bcb",
   "outputs": [
    {
     "name": "stdout",
     "output_type": "stream",
     "text": [
      "<class 'pandas.core.frame.DataFrame'>\n",
      "Index: 16073 entries, 4961 to 21033\n",
      "Data columns (total 3 columns):\n",
      " #   Column                       Non-Null Count  Dtype  \n",
      "---  ------                       --------------  -----  \n",
      " 0   fstring__number_of_elements  16073 non-null  int64  \n",
      " 1   fstring__constants_pct       16073 non-null  float64\n",
      " 2   fstring__expressions_pct     16073 non-null  float64\n",
      "dtypes: float64(2), int64(1)\n",
      "memory usage: 502.3 KB\n",
      "None\n"
     ]
    }
   ],
   "execution_count": 3
  },
  {
   "metadata": {},
   "cell_type": "markdown",
   "source": "Cómo podemos ver la tabla está compuesta por 3 variables numéricas y 1 de tipo objeto.",
   "id": "24f7607501c2e574"
  },
  {
   "metadata": {},
   "cell_type": "markdown",
   "source": [
    "### 2.1 - Duplicados\n",
    "Miramos si la tabla tiene entradas duplicadas."
   ],
   "id": "3b9b55798c7ecbd5"
  },
  {
   "metadata": {
    "ExecuteTime": {
     "end_time": "2024-05-27T10:48:16.010501Z",
     "start_time": "2024-05-27T10:48:15.996106Z"
    }
   },
   "cell_type": "code",
   "source": [
    "number_of_duplicated_entries = sum(full_table.duplicated(subset=TABLE_FEATURES))\n",
    "duplicated_entries_pct = number_of_duplicated_entries / len(full_table) * 100\n",
    "print(f\"The dataset contains [{duplicated_entries_pct:.4}%] of duplicated entries.\")"
   ],
   "id": "ed5e6830bbf484a6",
   "outputs": [
    {
     "name": "stdout",
     "output_type": "stream",
     "text": [
      "The dataset contains [99.66%] of duplicated entries.\n"
     ]
    }
   ],
   "execution_count": 4
  },
  {
   "metadata": {},
   "cell_type": "markdown",
   "source": [
    "### 2.3 - Valores Nulos \n",
    "Miramos si alguna de las variables que contiene la tabla contiene algún valor que sea nulo."
   ],
   "id": "63d4e4ed1d8d2c6c"
  },
  {
   "metadata": {
    "ExecuteTime": {
     "end_time": "2024-05-27T10:48:16.029317Z",
     "start_time": "2024-05-27T10:48:16.010501Z"
    }
   },
   "cell_type": "code",
   "source": "X.isnull().sum()",
   "id": "6c991380e6e0413e",
   "outputs": [
    {
     "data": {
      "text/plain": [
       "fstring__number_of_elements    0\n",
       "fstring__constants_pct         0\n",
       "fstring__expressions_pct       0\n",
       "dtype: int64"
      ]
     },
     "execution_count": 5,
     "metadata": {},
     "output_type": "execute_result"
    }
   ],
   "execution_count": 5
  },
  {
   "metadata": {
    "ExecuteTime": {
     "end_time": "2024-05-27T10:48:16.042345Z",
     "start_time": "2024-05-27T10:48:16.029317Z"
    }
   },
   "cell_type": "code",
   "source": "print_empty_cols(X)",
   "id": "18b2dfadf1719a4b",
   "outputs": [
    {
     "name": "stdout",
     "output_type": "stream",
     "text": [
      "fstring__number_of_elements\n",
      "---------------------------\n",
      "0 instancias no tienen un valor para la columna fstring__number_of_elements\n",
      "\n",
      "\n",
      "fstring__constants_pct\n",
      "----------------------\n",
      "0 instancias no tienen un valor para la columna fstring__constants_pct\n",
      "\n",
      "\n",
      "fstring__expressions_pct\n",
      "------------------------\n",
      "0 instancias no tienen un valor para la columna fstring__expressions_pct\n",
      "\n",
      "\n"
     ]
    }
   ],
   "execution_count": 6
  },
  {
   "metadata": {},
   "cell_type": "markdown",
   "source": "### 2.4 - Describimos los valores de las variables de la tabla.",
   "id": "5bb94c0f81c08024"
  },
  {
   "metadata": {
    "ExecuteTime": {
     "end_time": "2024-05-27T10:48:16.085056Z",
     "start_time": "2024-05-27T10:48:16.042345Z"
    }
   },
   "cell_type": "code",
   "source": "np.transpose(X.describe(percentiles=[.25, .50, .75], include = ['object', 'float', 'bool', 'int']))",
   "id": "74bba302a29fbfd5",
   "outputs": [
    {
     "data": {
      "text/plain": [
       "                               count      mean       std  min       25%  50%  \\\n",
       "fstring__number_of_elements  16073.0  3.180676  1.983527  0.0  2.000000  3.0   \n",
       "fstring__constants_pct       16073.0  0.555410  0.157947  0.0  0.500000  0.5   \n",
       "fstring__expressions_pct     16073.0  0.444528  0.157925  0.0  0.333333  0.5   \n",
       "\n",
       "                                  75%   max  \n",
       "fstring__number_of_elements  4.000000  44.0  \n",
       "fstring__constants_pct       0.666667   1.0  \n",
       "fstring__expressions_pct     0.500000   1.0  "
      ],
      "text/html": [
       "<div>\n",
       "<style scoped>\n",
       "    .dataframe tbody tr th:only-of-type {\n",
       "        vertical-align: middle;\n",
       "    }\n",
       "\n",
       "    .dataframe tbody tr th {\n",
       "        vertical-align: top;\n",
       "    }\n",
       "\n",
       "    .dataframe thead th {\n",
       "        text-align: right;\n",
       "    }\n",
       "</style>\n",
       "<table border=\"1\" class=\"dataframe\">\n",
       "  <thead>\n",
       "    <tr style=\"text-align: right;\">\n",
       "      <th></th>\n",
       "      <th>count</th>\n",
       "      <th>mean</th>\n",
       "      <th>std</th>\n",
       "      <th>min</th>\n",
       "      <th>25%</th>\n",
       "      <th>50%</th>\n",
       "      <th>75%</th>\n",
       "      <th>max</th>\n",
       "    </tr>\n",
       "  </thead>\n",
       "  <tbody>\n",
       "    <tr>\n",
       "      <th>fstring__number_of_elements</th>\n",
       "      <td>16073.0</td>\n",
       "      <td>3.180676</td>\n",
       "      <td>1.983527</td>\n",
       "      <td>0.0</td>\n",
       "      <td>2.000000</td>\n",
       "      <td>3.0</td>\n",
       "      <td>4.000000</td>\n",
       "      <td>44.0</td>\n",
       "    </tr>\n",
       "    <tr>\n",
       "      <th>fstring__constants_pct</th>\n",
       "      <td>16073.0</td>\n",
       "      <td>0.555410</td>\n",
       "      <td>0.157947</td>\n",
       "      <td>0.0</td>\n",
       "      <td>0.500000</td>\n",
       "      <td>0.5</td>\n",
       "      <td>0.666667</td>\n",
       "      <td>1.0</td>\n",
       "    </tr>\n",
       "    <tr>\n",
       "      <th>fstring__expressions_pct</th>\n",
       "      <td>16073.0</td>\n",
       "      <td>0.444528</td>\n",
       "      <td>0.157925</td>\n",
       "      <td>0.0</td>\n",
       "      <td>0.333333</td>\n",
       "      <td>0.5</td>\n",
       "      <td>0.500000</td>\n",
       "      <td>1.0</td>\n",
       "    </tr>\n",
       "  </tbody>\n",
       "</table>\n",
       "</div>"
      ]
     },
     "execution_count": 7,
     "metadata": {},
     "output_type": "execute_result"
    }
   ],
   "execution_count": 7
  },
  {
   "metadata": {},
   "cell_type": "markdown",
   "source": "Vamos a discretizar las variables numericas, agrupando conjuntos de valores en categorias, para hacer un análisis de los datos. Para cada variable es necesaario ver la distribucion de lo valores para hacer los bins (categorias).",
   "id": "9af3eb59b924a596"
  },
  {
   "metadata": {
    "ExecuteTime": {
     "end_time": "2024-05-27T10:48:16.271653Z",
     "start_time": "2024-05-27T10:48:16.085056Z"
    }
   },
   "cell_type": "code",
   "source": [
    "# DISCRETIZATION\n",
    "X_copy = X.copy()\n",
    "\n",
    "discretized_columns = {\n",
    "    \"fstring__number_of_elements\": [(0.0, 2.0), (2.0, 3.0), (3.0, 4.0), (4.0, inf)],  # min: 0.0 max:44.0\n",
    "    \"fstring__constants_pct\": [(0.0, 0.5), (0.5, 0.5), (0.5, 0.67), (0.67, inf)],  # min: 0.0 max: 1.0\n",
    "    \"fstring__expressions_pct\": [(0.0, 0.33), (0.33, 0.5), (0.5, 0.5), (0.5, inf)],  # min: 0.0 max: 1.0\n",
    "}\n",
    "\n",
    "discretize_columns(X_copy, discretized_columns)\n",
    "    \n",
    "# SINGLE FEATURE\n",
    "print(\"--- SINGLE FEATURE ---\")\n",
    "print(get_statistics(X_copy, ['fstring__number_of_elements'], 10))\n",
    "print(get_statistics(X_copy, ['fstring__constants_pct'], 10))\n",
    "print(get_statistics(X_copy, ['fstring__expressions_pct'], 10))\n",
    "\n",
    "\n",
    "# 2 FEATURES\n",
    "print(\"--- TWO FEATURES ---\")\n",
    "#print(get_statistics(X_copy, ['module__function_defs_pct', 'module__number_of_classes'], 10))\n",
    "\n",
    "# 3 FEATURES\n",
    "print(\"--- THREE FEATURES ---\")\n",
    "#print(get_statistics(X_copy, ['module__class_defs_pct', 'module__function_defs_pct', 'module__enum_defs_pct'], 10))"
   ],
   "id": "6baf20dd3e3ca759",
   "outputs": [
    {
     "name": "stdout",
     "output_type": "stream",
     "text": [
      "--- SINGLE FEATURE ---\n",
      "fstring__number_of_elements  count  percentage\n",
      "                  [2.0_3.0)   5833   36.290674\n",
      "                  [3.0_4.0)   4652   28.942948\n",
      "                  [4.0_inf]   4489   27.928825\n",
      "                  [0.0_2.0)   1099    6.837554\n",
      "\n",
      "fstring__constants_pct  count  percentage\n",
      "             [0.5_0.5]   8124   50.544391\n",
      "            [0.5_0.67)   5769   35.892491\n",
      "             [0.0_0.5)   1354    8.424065\n",
      "            [0.67_inf]    826    5.139053\n",
      "\n",
      "fstring__expressions_pct  count  percentage\n",
      "               [0.5_0.5]   8124   50.544391\n",
      "              [0.33_0.5)   5769   35.892491\n",
      "               [0.5_inf]   1353    8.417844\n",
      "              [0.0_0.33)    827    5.145275\n",
      "\n",
      "--- TWO FEATURES ---\n",
      "--- THREE FEATURES ---\n"
     ]
    }
   ],
   "execution_count": 8
  },
  {
   "metadata": {
    "ExecuteTime": {
     "end_time": "2024-05-27T10:48:16.283964Z",
     "start_time": "2024-05-27T10:48:16.271653Z"
    }
   },
   "cell_type": "code",
   "source": [
    "def normalize_datatypes(X:pd.DataFrame) -> (pd.DataFrame, [str]):\n",
    "    X = pd.get_dummies(X)\n",
    "    X = X.astype('float32')        \n",
    "    columns_names = X.columns.tolist()\n",
    "    return X, columns_names\n",
    "\n",
    "X, TABLE_FEATURES = normalize_datatypes(X)\n",
    "# Print information about the loaded table\n",
    "print(f'Features shape: {X.shape}')"
   ],
   "id": "5084c89dcb377a92",
   "outputs": [
    {
     "name": "stdout",
     "output_type": "stream",
     "text": [
      "Features shape: (16073, 3)\n"
     ]
    }
   ],
   "execution_count": 9
  },
  {
   "metadata": {},
   "cell_type": "markdown",
   "source": "#### Muestra la matriz de correlación de pearson entre las variables de la tabla.",
   "id": "ed8befe21328a079"
  },
  {
   "metadata": {
    "ExecuteTime": {
     "end_time": "2024-05-27T10:48:16.817729Z",
     "start_time": "2024-05-27T10:48:16.283964Z"
    }
   },
   "cell_type": "code",
   "source": "sns.heatmap(X.corr(), annot=True)",
   "id": "dea960d18d682104",
   "outputs": [
    {
     "data": {
      "text/plain": [
       "<Axes: >"
      ]
     },
     "execution_count": 10,
     "metadata": {},
     "output_type": "execute_result"
    },
    {
     "data": {
      "text/plain": [
       "<Figure size 640x480 with 2 Axes>"
      ],
      "image/png": "[encoded data removed]"
     },
     "metadata": {},
     "output_type": "display_data"
    }
   ],
   "execution_count": 10
  },
  {
   "metadata": {},
   "cell_type": "markdown",
   "source": [
    "## 3 - Detección de valores atípicos (outliers)\n",
    "Una vez sabemos qué datos contiene la tabla, analizaremos los valores que toma cada una de las variables de cada instancia. El objetivo es identificar posibles valores atípicos que nos dificulten la realización de futuras tareas. \n",
    "Tras su análisis, se puede concluir que un valor:\n",
    "    - **Es erróneo**. En este caso hay que tomar una decisión para cada caso, siendo los tratamientos más extendidos son listwise, pairwise, drop variables, mean/median imputation, most frequent, separate category, zero imputation, cold deck, hot deck,(stochastic) regression, k-NN and multiple imputation. Los resultados de imputación regresiva, k-NN y múltiple dan buenos resultados, aunque, como se ha indicado, es necesario el estudio en cada caso.\n",
    "    - **Es correcto, pero anómalo**. Se documenta su existencia para su posible discusión y se mantiene en el dataset. En estos casos se hace necesaria la utilización de algoritmos y estadísticos que no sean muy sensibles a dichos valores anómalos.\n",
    "\n",
    "## Univariate\n",
    "Para cada uno de los atributos se debe realizar un análisis y detección de valores atípicos, estudiando su posible causa. \n",
    "Existen diversas formas de calcular los valores anómalos. \n",
    "\n",
    "### Variables numéricas\n",
    "Para las variables numéricas, se suele identificar: \n",
    "    - a) Valor atípico leve es el que está fuera de $[Q1 - 1.5IQR, Q3 + 1.5IQR]$, donde $IQR = Q3-Q1$.\n",
    "    - b) Valor atípico extremo está fuera de $[Q1 - 3IQR, Q3 + 3IQR]$.\n",
    "\n",
    "La idea es probar con a) y si hay pocas instancias analizarlas. Si hubiese muchas, mirar b) y analizar si fuesen pocas. No hay un algoritmo o método estipulado, puesto que depende del dominio del problema y de los datos.\n",
    "\n",
    "Los límites de Tukey se basan en los cuartiles de los datos y son sensibles a la presencia de sesgo en la distribución. Cuando hay asimetría en los datos, los límites de Tukey pueden no ser tan efectivos para identificar outliers de manera equitativa en ambos extremos de la distribución. El Coeficiente de Medcouple es útil para identificar la asimetría en los datos, especialmente en presencia de valores atípicos o sesgados. Es una medida robusta porque no se ve tan afectada por valores extremos como la media y la desviación estándar. El MC puede proporcionar información adicional sobre la asimetría de la distribución, lo que te permite ajustar los límites de Tukey de manera más apropiada para tu conjunto de datos específico. Una posible variacion de los límites de Tukey teniendo en cuenta MC podria ser: \n",
    "   - Si MC es mayor que 0 (asimetría hacia la derecha):\n",
    "      - low = (q1-1.5 * math.exp(-4*mc) * iqr)\n",
    "      - high = (q3+1.5 * math.exp(3.5*mc) * iqr)\n",
    "   - Si la asimetriza es hacia la izquierda:    \n",
    "      - low = (q1-1.5 * math.exp(-3.5*mc) * iqr)\n",
    "      - high = (q3+1.5 * math.exp(4*mc) * iqr)\n",
    "\n",
    "\n",
    "### Variables categóricas\n",
    "Para las variables categóricas no existe el concepto de valor anómalo, pero sí se puede considerar en base a un análisis de frecuencia. Por ejemplo, que el uso de una categoría sea residual, pudiendo tener un 0.1% de instancias en el dataset. Para detectar estos valores, se puede fijar un valor mínimo de frecuencia en función del número posible de valores de la variable categórica (2 en el caso de una variable booleana). Por ejemplo, un umbral de $\\frac{0.2\\%}{valores}$ (0.1% en el caso de una variable booleana)"
   ],
   "id": "599c97eec7b7d283"
  },
  {
   "metadata": {},
   "cell_type": "markdown",
   "source": [
    "## Analisis detallado de variables\n",
    "Para cada una de las 3 variable (1 numerica y 2 porcentuales) se hara un analisis detallado "
   ],
   "id": "132c8742057275c"
  },
  {
   "metadata": {},
   "cell_type": "markdown",
   "source": [
    "### Variable number_of_elements (1/3)\n",
    "Esta variable representa el número de elementos del JoinedStr. Como vimos en la descripción de la tabla esta varibale adopta valores en el rango 0 - 44. Con una media de 3.188."
   ],
   "id": "119fc307a9194a96"
  },
  {
   "metadata": {
    "ExecuteTime": {
     "end_time": "2024-05-27T10:48:17.297437Z",
     "start_time": "2024-05-27T10:48:16.817729Z"
    }
   },
   "cell_type": "code",
   "source": "sns.stripplot(X['fstring__number_of_elements'])",
   "id": "5efd7fbb4f34563d",
   "outputs": [
    {
     "data": {
      "text/plain": [
       "<Axes: ylabel='fstring__number_of_elements'>"
      ]
     },
     "execution_count": 11,
     "metadata": {},
     "output_type": "execute_result"
    },
    {
     "data": {
      "text/plain": [
       "<Figure size 640x480 with 1 Axes>"
      ],
      "image/png": "[encoded data removed]"
     },
     "metadata": {},
     "output_type": "display_data"
    }
   ],
   "execution_count": 11
  },
  {
   "metadata": {
    "ExecuteTime": {
     "end_time": "2024-05-27T10:48:17.321598Z",
     "start_time": "2024-05-27T10:48:17.297437Z"
    }
   },
   "cell_type": "code",
   "source": "print_outliers_for_df_column(X, 'fstring__number_of_elements')",
   "id": "e5649a2923239004",
   "outputs": [
    {
     "name": "stdout",
     "output_type": "stream",
     "text": [
      "El coeficiente MC (Medcouple Coefficient) de balanceo es: 0.8394271758469669\n",
      "Rango valores atípicos extremos (Tukey): [-4.0,10.0]\n",
      "Rango valores atípicos leves (Tukey): [-1.0,7.0]\n",
      "Rango valores atípicos extremos (Fixed BoxPlot): [1.8410845257801798,90.16990545469856]\n",
      "-3.0IQR: 0 instancias tienen un valor para fstring__number_of_elements inferior a -4.0 (Q1-3*IQR) para fstring__number_of_elements. Representando un 0.0% del total de instancias.\n",
      "-1.5IQR: 0 instancias tienen un valor para fstring__number_of_elements inferior a -1.0 (Q1-1.5*IQR) para fstring__number_of_elements. Representando un 0.0% del total de instancias.\n",
      "+1.5IQR: 412 instancias tienen un valor para fstring__number_of_elements superior a 7.0 (Q3+1.5*IQR) para fstring__number_of_elements. Representando un 2.563% del total de instancias.\n",
      "+3.0IQR: 151 instancias tienen un valor para fstring__number_of_elements superior a 10.0 (Q3-3*IQR) para fstring__number_of_elements. Representando un 0.9395% del total de instancias.\n",
      "L: 1099 instancias tienen un valor para fstring__number_of_elements inferior a 1.8410845257801798 para fstring__number_of_elements. Representando un 6.838% del total de instancias.\n",
      "U: 0 instancias tienen un valor para fstring__number_of_elements superior a 90.16990545469856 para fstring__number_of_elements. Representando un 0.0% del total de instancias.\n"
     ]
    }
   ],
   "execution_count": 12
  },
  {
   "metadata": {
    "ExecuteTime": {
     "end_time": "2024-05-27T10:48:17.357946Z",
     "start_time": "2024-05-27T10:48:17.321598Z"
    }
   },
   "cell_type": "code",
   "source": "X[X['fstring__number_of_elements'] > 10].describe(percentiles=[.25, .50, .75], include = ['object', 'float', 'bool', 'int'])",
   "id": "5c5e0e6eb4cd173",
   "outputs": [
    {
     "data": {
      "text/plain": [
       "       fstring__number_of_elements  fstring__constants_pct  \\\n",
       "count                   151.000000              151.000000   \n",
       "mean                     15.086093                0.514338   \n",
       "std                       5.564099                0.035461   \n",
       "min                      11.000000                0.333333   \n",
       "25%                      12.000000                0.500000   \n",
       "50%                      13.000000                0.526316   \n",
       "75%                      16.500000                0.538462   \n",
       "max                      44.000000                0.545455   \n",
       "\n",
       "       fstring__expressions_pct  \n",
       "count                151.000000  \n",
       "mean                   0.485662  \n",
       "std                    0.035461  \n",
       "min                    0.454545  \n",
       "25%                    0.461538  \n",
       "50%                    0.473684  \n",
       "75%                    0.500000  \n",
       "max                    0.666667  "
      ],
      "text/html": [
       "<div>\n",
       "<style scoped>\n",
       "    .dataframe tbody tr th:only-of-type {\n",
       "        vertical-align: middle;\n",
       "    }\n",
       "\n",
       "    .dataframe tbody tr th {\n",
       "        vertical-align: top;\n",
       "    }\n",
       "\n",
       "    .dataframe thead th {\n",
       "        text-align: right;\n",
       "    }\n",
       "</style>\n",
       "<table border=\"1\" class=\"dataframe\">\n",
       "  <thead>\n",
       "    <tr style=\"text-align: right;\">\n",
       "      <th></th>\n",
       "      <th>fstring__number_of_elements</th>\n",
       "      <th>fstring__constants_pct</th>\n",
       "      <th>fstring__expressions_pct</th>\n",
       "    </tr>\n",
       "  </thead>\n",
       "  <tbody>\n",
       "    <tr>\n",
       "      <th>count</th>\n",
       "      <td>151.000000</td>\n",
       "      <td>151.000000</td>\n",
       "      <td>151.000000</td>\n",
       "    </tr>\n",
       "    <tr>\n",
       "      <th>mean</th>\n",
       "      <td>15.086093</td>\n",
       "      <td>0.514338</td>\n",
       "      <td>0.485662</td>\n",
       "    </tr>\n",
       "    <tr>\n",
       "      <th>std</th>\n",
       "      <td>5.564099</td>\n",
       "      <td>0.035461</td>\n",
       "      <td>0.035461</td>\n",
       "    </tr>\n",
       "    <tr>\n",
       "      <th>min</th>\n",
       "      <td>11.000000</td>\n",
       "      <td>0.333333</td>\n",
       "      <td>0.454545</td>\n",
       "    </tr>\n",
       "    <tr>\n",
       "      <th>25%</th>\n",
       "      <td>12.000000</td>\n",
       "      <td>0.500000</td>\n",
       "      <td>0.461538</td>\n",
       "    </tr>\n",
       "    <tr>\n",
       "      <th>50%</th>\n",
       "      <td>13.000000</td>\n",
       "      <td>0.526316</td>\n",
       "      <td>0.473684</td>\n",
       "    </tr>\n",
       "    <tr>\n",
       "      <th>75%</th>\n",
       "      <td>16.500000</td>\n",
       "      <td>0.538462</td>\n",
       "      <td>0.500000</td>\n",
       "    </tr>\n",
       "    <tr>\n",
       "      <th>max</th>\n",
       "      <td>44.000000</td>\n",
       "      <td>0.545455</td>\n",
       "      <td>0.666667</td>\n",
       "    </tr>\n",
       "  </tbody>\n",
       "</table>\n",
       "</div>"
      ]
     },
     "execution_count": 13,
     "metadata": {},
     "output_type": "execute_result"
    }
   ],
   "execution_count": 13
  },
  {
   "metadata": {},
   "cell_type": "markdown",
   "source": [
    "### Variable constants_pct (2/3)\n",
    "Esta variable representa la proporción de los valores usados para parametrizar el JoinedStr que son constantes. Toma los valores de 0.0 - 1.0. La media es 0.555."
   ],
   "id": "5c0a373fffec0b53"
  },
  {
   "metadata": {
    "ExecuteTime": {
     "end_time": "2024-05-27T10:48:18.246531Z",
     "start_time": "2024-05-27T10:48:17.357946Z"
    }
   },
   "cell_type": "code",
   "source": "sns.displot(X['fstring__constants_pct'], bins=[i / 100 for i in range(0, 101)])",
   "id": "9ac5d2538d99ac6a",
   "outputs": [
    {
     "data": {
      "text/plain": [
       "<seaborn.axisgrid.FacetGrid at 0x219fab0d970>"
      ]
     },
     "execution_count": 14,
     "metadata": {},
     "output_type": "execute_result"
    },
    {
     "data": {
      "text/plain": [
       "<Figure size 500x500 with 1 Axes>"
      ],
      "image/png": "[encoded data removed]"
     },
     "metadata": {},
     "output_type": "display_data"
    }
   ],
   "execution_count": 14
  },
  {
   "metadata": {
    "ExecuteTime": {
     "end_time": "2024-05-27T10:48:18.267138Z",
     "start_time": "2024-05-27T10:48:18.246531Z"
    }
   },
   "cell_type": "code",
   "source": "print_outliers_for_df_column(X, 'fstring__constants_pct')",
   "id": "4a7a46358e270bf6",
   "outputs": [
    {
     "name": "stdout",
     "output_type": "stream",
     "text": [
      "El coeficiente MC (Medcouple Coefficient) de balanceo es: 0.3946551749965944\n",
      "Rango valores atípicos extremos (Tukey): [-5.960464477539063e-08,1.1666667461395264]\n",
      "Rango valores atípicos leves (Tukey): [0.2499999701976776,0.916666716337204]\n",
      "Rango valores atípicos extremos (Fixed BoxPlot): [0.43718663152763965,1.878732827699061]\n",
      "-3.0IQR: 0 instancias tienen un valor para fstring__constants_pct inferior a -5.960464477539063e-08 (Q1-3*IQR) para fstring__constants_pct. Representando un 0.0% del total de instancias.\n",
      "-1.5IQR: 392 instancias tienen un valor para fstring__constants_pct inferior a 0.2499999701976776 (Q1-1.5*IQR) para fstring__constants_pct. Representando un 2.439% del total de instancias.\n",
      "+1.5IQR: 826 instancias tienen un valor para fstring__constants_pct superior a 0.916666716337204 (Q3+1.5*IQR) para fstring__constants_pct. Representando un 5.139% del total de instancias.\n",
      "+3.0IQR: 0 instancias tienen un valor para fstring__constants_pct superior a 1.1666667461395264 (Q3-3*IQR) para fstring__constants_pct. Representando un 0.0% del total de instancias.\n",
      "L: 1333 instancias tienen un valor para fstring__constants_pct inferior a 0.43718663152763965 para fstring__constants_pct. Representando un 8.293% del total de instancias.\n",
      "U: 0 instancias tienen un valor para fstring__constants_pct superior a 1.878732827699061 para fstring__constants_pct. Representando un 0.0% del total de instancias.\n"
     ]
    }
   ],
   "execution_count": 15
  },
  {
   "metadata": {
    "ExecuteTime": {
     "end_time": "2024-05-27T10:48:18.316499Z",
     "start_time": "2024-05-27T10:48:18.267138Z"
    }
   },
   "cell_type": "code",
   "source": "X[X['fstring__constants_pct'] == 1].describe(percentiles=[.25, .50, .75], include = ['object', 'float', 'bool', 'int'])",
   "id": "65828604e885a75",
   "outputs": [
    {
     "data": {
      "text/plain": [
       "       fstring__number_of_elements  fstring__constants_pct  \\\n",
       "count                        826.0                   826.0   \n",
       "mean                           1.0                     1.0   \n",
       "std                            0.0                     0.0   \n",
       "min                            1.0                     1.0   \n",
       "25%                            1.0                     1.0   \n",
       "50%                            1.0                     1.0   \n",
       "75%                            1.0                     1.0   \n",
       "max                            1.0                     1.0   \n",
       "\n",
       "       fstring__expressions_pct  \n",
       "count                     826.0  \n",
       "mean                        0.0  \n",
       "std                         0.0  \n",
       "min                         0.0  \n",
       "25%                         0.0  \n",
       "50%                         0.0  \n",
       "75%                         0.0  \n",
       "max                         0.0  "
      ],
      "text/html": [
       "<div>\n",
       "<style scoped>\n",
       "    .dataframe tbody tr th:only-of-type {\n",
       "        vertical-align: middle;\n",
       "    }\n",
       "\n",
       "    .dataframe tbody tr th {\n",
       "        vertical-align: top;\n",
       "    }\n",
       "\n",
       "    .dataframe thead th {\n",
       "        text-align: right;\n",
       "    }\n",
       "</style>\n",
       "<table border=\"1\" class=\"dataframe\">\n",
       "  <thead>\n",
       "    <tr style=\"text-align: right;\">\n",
       "      <th></th>\n",
       "      <th>fstring__number_of_elements</th>\n",
       "      <th>fstring__constants_pct</th>\n",
       "      <th>fstring__expressions_pct</th>\n",
       "    </tr>\n",
       "  </thead>\n",
       "  <tbody>\n",
       "    <tr>\n",
       "      <th>count</th>\n",
       "      <td>826.0</td>\n",
       "      <td>826.0</td>\n",
       "      <td>826.0</td>\n",
       "    </tr>\n",
       "    <tr>\n",
       "      <th>mean</th>\n",
       "      <td>1.0</td>\n",
       "      <td>1.0</td>\n",
       "      <td>0.0</td>\n",
       "    </tr>\n",
       "    <tr>\n",
       "      <th>std</th>\n",
       "      <td>0.0</td>\n",
       "      <td>0.0</td>\n",
       "      <td>0.0</td>\n",
       "    </tr>\n",
       "    <tr>\n",
       "      <th>min</th>\n",
       "      <td>1.0</td>\n",
       "      <td>1.0</td>\n",
       "      <td>0.0</td>\n",
       "    </tr>\n",
       "    <tr>\n",
       "      <th>25%</th>\n",
       "      <td>1.0</td>\n",
       "      <td>1.0</td>\n",
       "      <td>0.0</td>\n",
       "    </tr>\n",
       "    <tr>\n",
       "      <th>50%</th>\n",
       "      <td>1.0</td>\n",
       "      <td>1.0</td>\n",
       "      <td>0.0</td>\n",
       "    </tr>\n",
       "    <tr>\n",
       "      <th>75%</th>\n",
       "      <td>1.0</td>\n",
       "      <td>1.0</td>\n",
       "      <td>0.0</td>\n",
       "    </tr>\n",
       "    <tr>\n",
       "      <th>max</th>\n",
       "      <td>1.0</td>\n",
       "      <td>1.0</td>\n",
       "      <td>0.0</td>\n",
       "    </tr>\n",
       "  </tbody>\n",
       "</table>\n",
       "</div>"
      ]
     },
     "execution_count": 16,
     "metadata": {},
     "output_type": "execute_result"
    }
   ],
   "execution_count": 16
  },
  {
   "metadata": {},
   "cell_type": "markdown",
   "source": [
    "### Variable expressions_pct (3/3)\n",
    "Esta variable representa la proporción de valores usados para parametrizar el JoinedStr que son expresiones. Toma los valores de 0.0 - 1.0. La media es 0.444."
   ],
   "id": "a8d2d3dbd02dcea0"
  },
  {
   "metadata": {
    "ExecuteTime": {
     "end_time": "2024-05-27T10:48:19.435441Z",
     "start_time": "2024-05-27T10:48:18.316499Z"
    }
   },
   "cell_type": "code",
   "source": "sns.displot(X['fstring__expressions_pct'], bins=[i / 100 for i in range(0, 101)])",
   "id": "4d1da3a369eb0be6",
   "outputs": [
    {
     "data": {
      "text/plain": [
       "<seaborn.axisgrid.FacetGrid at 0x2199e9678f0>"
      ]
     },
     "execution_count": 17,
     "metadata": {},
     "output_type": "execute_result"
    },
    {
     "data": {
      "text/plain": [
       "<Figure size 500x500 with 1 Axes>"
      ],
      "image/png": "[encoded data removed]"
     },
     "metadata": {},
     "output_type": "display_data"
    }
   ],
   "execution_count": 17
  },
  {
   "metadata": {
    "ExecuteTime": {
     "end_time": "2024-05-27T10:48:19.460634Z",
     "start_time": "2024-05-27T10:48:19.435441Z"
    }
   },
   "cell_type": "code",
   "source": "print_outliers_for_df_column(X, 'fstring__expressions_pct')",
   "id": "5ac40e081482327",
   "outputs": [
    {
     "name": "stdout",
     "output_type": "stream",
     "text": [
      "El coeficiente MC (Medcouple Coefficient) de balanceo es: 0.027736127376556396\n",
      "Rango valores atípicos extremos (Tukey): [-0.16666662693023682,0.9999999701976776]\n",
      "Rango valores atípicos leves (Tukey): [0.08333335816860199,0.7499999850988388]\n",
      "Rango valores atípicos extremos (Fixed BoxPlot): [0.10646169930908408,0.7793332092953529]\n",
      "-3.0IQR: 0 instancias tienen un valor para fstring__expressions_pct inferior a -0.16666662693023682 (Q1-3*IQR) para fstring__expressions_pct. Representando un 0.0% del total de instancias.\n",
      "-1.5IQR: 827 instancias tienen un valor para fstring__expressions_pct inferior a 0.08333335816860199 (Q1-1.5*IQR) para fstring__expressions_pct. Representando un 5.145% del total de instancias.\n",
      "+1.5IQR: 391 instancias tienen un valor para fstring__expressions_pct superior a 0.7499999850988388 (Q3+1.5*IQR) para fstring__expressions_pct. Representando un 2.433% del total de instancias.\n",
      "+3.0IQR: 0 instancias tienen un valor para fstring__expressions_pct superior a 0.9999999701976776 (Q3-3*IQR) para fstring__expressions_pct. Representando un 0.0% del total de instancias.\n",
      "L: 827 instancias tienen un valor para fstring__expressions_pct inferior a 0.10646169930908408 para fstring__expressions_pct. Representando un 5.145% del total de instancias.\n",
      "U: 390 instancias tienen un valor para fstring__expressions_pct superior a 0.7793332092953529 para fstring__expressions_pct. Representando un 2.426% del total de instancias.\n"
     ]
    }
   ],
   "execution_count": 18
  },
  {
   "metadata": {
    "ExecuteTime": {
     "end_time": "2024-05-27T10:48:19.495243Z",
     "start_time": "2024-05-27T10:48:19.460634Z"
    }
   },
   "cell_type": "code",
   "source": "X[X['fstring__expressions_pct'] > 0.77].describe(percentiles=[.25, .50, .75], include = ['object', 'float', 'bool', 'int'])",
   "id": "7eed776af9068518",
   "outputs": [
    {
     "data": {
      "text/plain": [
       "       fstring__number_of_elements  fstring__constants_pct  \\\n",
       "count                    391.00000              391.000000   \n",
       "mean                       1.56266                0.005903   \n",
       "std                        1.15049                0.033458   \n",
       "min                        1.00000                0.000000   \n",
       "25%                        1.00000                0.000000   \n",
       "50%                        1.00000                0.000000   \n",
       "75%                        2.00000                0.000000   \n",
       "max                        9.00000                0.222222   \n",
       "\n",
       "       fstring__expressions_pct  \n",
       "count                391.000000  \n",
       "mean                   0.994097  \n",
       "std                    0.033458  \n",
       "min                    0.777778  \n",
       "25%                    1.000000  \n",
       "50%                    1.000000  \n",
       "75%                    1.000000  \n",
       "max                    1.000000  "
      ],
      "text/html": [
       "<div>\n",
       "<style scoped>\n",
       "    .dataframe tbody tr th:only-of-type {\n",
       "        vertical-align: middle;\n",
       "    }\n",
       "\n",
       "    .dataframe tbody tr th {\n",
       "        vertical-align: top;\n",
       "    }\n",
       "\n",
       "    .dataframe thead th {\n",
       "        text-align: right;\n",
       "    }\n",
       "</style>\n",
       "<table border=\"1\" class=\"dataframe\">\n",
       "  <thead>\n",
       "    <tr style=\"text-align: right;\">\n",
       "      <th></th>\n",
       "      <th>fstring__number_of_elements</th>\n",
       "      <th>fstring__constants_pct</th>\n",
       "      <th>fstring__expressions_pct</th>\n",
       "    </tr>\n",
       "  </thead>\n",
       "  <tbody>\n",
       "    <tr>\n",
       "      <th>count</th>\n",
       "      <td>391.00000</td>\n",
       "      <td>391.000000</td>\n",
       "      <td>391.000000</td>\n",
       "    </tr>\n",
       "    <tr>\n",
       "      <th>mean</th>\n",
       "      <td>1.56266</td>\n",
       "      <td>0.005903</td>\n",
       "      <td>0.994097</td>\n",
       "    </tr>\n",
       "    <tr>\n",
       "      <th>std</th>\n",
       "      <td>1.15049</td>\n",
       "      <td>0.033458</td>\n",
       "      <td>0.033458</td>\n",
       "    </tr>\n",
       "    <tr>\n",
       "      <th>min</th>\n",
       "      <td>1.00000</td>\n",
       "      <td>0.000000</td>\n",
       "      <td>0.777778</td>\n",
       "    </tr>\n",
       "    <tr>\n",
       "      <th>25%</th>\n",
       "      <td>1.00000</td>\n",
       "      <td>0.000000</td>\n",
       "      <td>1.000000</td>\n",
       "    </tr>\n",
       "    <tr>\n",
       "      <th>50%</th>\n",
       "      <td>1.00000</td>\n",
       "      <td>0.000000</td>\n",
       "      <td>1.000000</td>\n",
       "    </tr>\n",
       "    <tr>\n",
       "      <th>75%</th>\n",
       "      <td>2.00000</td>\n",
       "      <td>0.000000</td>\n",
       "      <td>1.000000</td>\n",
       "    </tr>\n",
       "    <tr>\n",
       "      <th>max</th>\n",
       "      <td>9.00000</td>\n",
       "      <td>0.222222</td>\n",
       "      <td>1.000000</td>\n",
       "    </tr>\n",
       "  </tbody>\n",
       "</table>\n",
       "</div>"
      ]
     },
     "execution_count": 19,
     "metadata": {},
     "output_type": "execute_result"
    }
   ],
   "execution_count": 19
  }
 ],
 "metadata": {
  "kernelspec": {
   "display_name": "Python 3",
   "language": "python",
   "name": "python3"
  },
  "language_info": {
   "codemirror_mode": {
    "name": "ipython",
    "version": 2
   },
   "file_extension": ".py",
   "mimetype": "text/x-python",
   "name": "python",
   "nbconvert_exporter": "python",
   "pygments_lexer": "ipython2",
   "version": "2.7.6"
  }
 },
 "nbformat": 4,
 "nbformat_minor": 5
}
