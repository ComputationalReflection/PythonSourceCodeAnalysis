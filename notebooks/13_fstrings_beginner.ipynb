{
 "cells": [
  {
   "metadata": {},
   "cell_type": "markdown",
   "source": [
    "# FStrings BEGINNER\n",
    "\n",
    "Esta tabla contiene la información adicional de las sentencias de tipo JoinedStr (Strings formateados).  --> ABEL COMPLETAR <--"
   ],
   "id": "148ae8871134f924"
  },
  {
   "metadata": {},
   "cell_type": "markdown",
   "source": "## 1 - Obtencion de datos",
   "id": "d3c24a719032807f"
  },
  {
   "metadata": {
    "ExecuteTime": {
     "end_time": "2024-06-19T18:10:43.263156Z",
     "start_time": "2024-06-19T18:10:41.407372Z"
    }
   },
   "cell_type": "code",
   "source": [
    "import matplotlib.pyplot as plt\n",
    "from notebooks_utils import *\n",
    "\n",
    "TARGET_FEATURE = 'fstring__expertise_level'\n",
    "TARGET_CLASS = 'BEGINNER'\n",
    "full_table = get_data('fstrings')\n",
    "\n",
    "instances_for_class_low = len(full_table[full_table[TARGET_FEATURE] == \"BEGINNER\"])\n",
    "instances_for_class_high = len(full_table[full_table[TARGET_FEATURE] == \"EXPERT\"])\n",
    "\n",
    "print(f\"The dataset contains {instances_for_class_low} ({instances_for_class_low/len(full_table)*100:.4}%) instances for BEGINNER class and {instances_for_class_high} ({instances_for_class_high/len(full_table)*100:.4}%) for EXPERT class.\")"
   ],
   "id": "9f0a949e91eb384b",
   "outputs": [
    {
     "name": "stdout",
     "output_type": "stream",
     "text": [
      "2024-06-19 20:10:43.254822 Data cache files found ...\n",
      "2024-06-19 20:10:43.256824 Data cache files successfully loaded!!\n",
      "The dataset contains 4977 (22.59%) instances for BEGINNER class and 17053 (77.41%) for EXPERT class.\n"
     ]
    }
   ],
   "execution_count": 1
  },
  {
   "metadata": {
    "ExecuteTime": {
     "end_time": "2024-06-19T18:10:43.271796Z",
     "start_time": "2024-06-19T18:10:43.264185Z"
    }
   },
   "cell_type": "code",
   "source": [
    "full_table = full_table[full_table[TARGET_FEATURE] == TARGET_CLASS]\n",
    "\n",
    "# Table name, features and target.\n",
    "TABLE_NAME = 'fstrings'\n",
    "TABLE_FEATURES = ['fstring__number_of_elements', 'fstring__constants_pct', 'fstring__expressions_pct']\n",
    "\n",
    "# Load features and target.\n",
    "X = full_table[TABLE_FEATURES]\n",
    "\n",
    "# Print information about the loaded table.\n",
    "print(f'Features shape: {X.shape}')\n",
    "\n",
    "print(f'As we can see the downloaded data contains a total of {X.shape[0]} instances. For each instance we have {X.shape[1]} attributes.')"
   ],
   "id": "39d5cd0c830c398e",
   "outputs": [
    {
     "name": "stdout",
     "output_type": "stream",
     "text": [
      "Features shape: (4977, 3)\n",
      "As we can see the downloaded data contains a total of 4977 instances. For each instance we have 3 attributes.\n"
     ]
    }
   ],
   "execution_count": 2
  },
  {
   "metadata": {},
   "cell_type": "markdown",
   "source": [
    "## 2 - Exploracion de datos\n",
    "\n",
    "Una vez tenemos nuestra tabla en un dataframe el siguiente paso es explorarla para ver qué tipo de información contiene."
   ],
   "id": "bcda7cb784bf0a1"
  },
  {
   "metadata": {
    "ExecuteTime": {
     "end_time": "2024-06-19T18:10:43.280474Z",
     "start_time": "2024-06-19T18:10:43.272731Z"
    }
   },
   "cell_type": "code",
   "source": "print(X.info())",
   "id": "2eb3d09993235bcb",
   "outputs": [
    {
     "name": "stdout",
     "output_type": "stream",
     "text": [
      "<class 'pandas.core.frame.DataFrame'>\n",
      "Index: 4977 entries, 0 to 4976\n",
      "Data columns (total 3 columns):\n",
      " #   Column                       Non-Null Count  Dtype  \n",
      "---  ------                       --------------  -----  \n",
      " 0   fstring__number_of_elements  4977 non-null   int64  \n",
      " 1   fstring__constants_pct       4977 non-null   float64\n",
      " 2   fstring__expressions_pct     4977 non-null   float64\n",
      "dtypes: float64(2), int64(1)\n",
      "memory usage: 155.5 KB\n",
      "None\n"
     ]
    }
   ],
   "execution_count": 3
  },
  {
   "metadata": {},
   "cell_type": "markdown",
   "source": "Cómo podemos ver la tabla está compuesta por 3 variables numéricas y 1 de tipo objeto.",
   "id": "24f7607501c2e574"
  },
  {
   "metadata": {},
   "cell_type": "markdown",
   "source": [
    "### 2.1 - Valores Nulos \n",
    "Miramos si alguna de las variables que contiene la tabla contiene algún valor que sea nulo."
   ],
   "id": "63d4e4ed1d8d2c6c"
  },
  {
   "metadata": {
    "ExecuteTime": {
     "end_time": "2024-06-19T18:10:43.294426Z",
     "start_time": "2024-06-19T18:10:43.287116Z"
    }
   },
   "cell_type": "code",
   "source": "X.isnull().sum()",
   "id": "6c991380e6e0413e",
   "outputs": [
    {
     "data": {
      "text/plain": [
       "fstring__number_of_elements    0\n",
       "fstring__constants_pct         0\n",
       "fstring__expressions_pct       0\n",
       "dtype: int64"
      ]
     },
     "execution_count": 5,
     "metadata": {},
     "output_type": "execute_result"
    }
   ],
   "execution_count": 5
  },
  {
   "metadata": {
    "ExecuteTime": {
     "end_time": "2024-06-19T18:10:43.299870Z",
     "start_time": "2024-06-19T18:10:43.295436Z"
    }
   },
   "cell_type": "code",
   "source": "print_empty_cols(X)",
   "id": "18b2dfadf1719a4b",
   "outputs": [
    {
     "name": "stdout",
     "output_type": "stream",
     "text": [
      "fstring__number_of_elements\n",
      "---------------------------\n",
      "0 instancias no tienen un valor para la columna fstring__number_of_elements\n",
      "\n",
      "\n",
      "fstring__constants_pct\n",
      "----------------------\n",
      "0 instancias no tienen un valor para la columna fstring__constants_pct\n",
      "\n",
      "\n",
      "fstring__expressions_pct\n",
      "------------------------\n",
      "0 instancias no tienen un valor para la columna fstring__expressions_pct\n",
      "\n",
      "\n"
     ]
    }
   ],
   "execution_count": 6
  },
  {
   "metadata": {},
   "cell_type": "markdown",
   "source": "### 2.2 - Describimos los valores de las variables de la tabla.",
   "id": "5bb94c0f81c08024"
  },
  {
   "metadata": {
    "ExecuteTime": {
     "end_time": "2024-06-19T18:10:43.317017Z",
     "start_time": "2024-06-19T18:10:43.299870Z"
    }
   },
   "cell_type": "code",
   "source": "np.transpose(X.describe(percentiles=[.25, .50, .75], include = ['object', 'float', 'bool', 'int']))",
   "id": "74bba302a29fbfd5",
   "outputs": [
    {
     "data": {
      "text/plain": [
       "                              count      mean       std  min       25%  50%  \\\n",
       "fstring__number_of_elements  4977.0  3.209162  1.954942  1.0  2.000000  3.0   \n",
       "fstring__constants_pct       4977.0  0.554891  0.151107  0.0  0.500000  0.5   \n",
       "fstring__expressions_pct     4977.0  0.445109  0.151107  0.0  0.333333  0.5   \n",
       "\n",
       "                                  75%   max  \n",
       "fstring__number_of_elements  4.000000  43.0  \n",
       "fstring__constants_pct       0.666667   1.0  \n",
       "fstring__expressions_pct     0.500000   1.0  "
      ],
      "text/html": [
       "<div>\n",
       "<style scoped>\n",
       "    .dataframe tbody tr th:only-of-type {\n",
       "        vertical-align: middle;\n",
       "    }\n",
       "\n",
       "    .dataframe tbody tr th {\n",
       "        vertical-align: top;\n",
       "    }\n",
       "\n",
       "    .dataframe thead th {\n",
       "        text-align: right;\n",
       "    }\n",
       "</style>\n",
       "<table border=\"1\" class=\"dataframe\">\n",
       "  <thead>\n",
       "    <tr style=\"text-align: right;\">\n",
       "      <th></th>\n",
       "      <th>count</th>\n",
       "      <th>mean</th>\n",
       "      <th>std</th>\n",
       "      <th>min</th>\n",
       "      <th>25%</th>\n",
       "      <th>50%</th>\n",
       "      <th>75%</th>\n",
       "      <th>max</th>\n",
       "    </tr>\n",
       "  </thead>\n",
       "  <tbody>\n",
       "    <tr>\n",
       "      <th>fstring__number_of_elements</th>\n",
       "      <td>4977.0</td>\n",
       "      <td>3.209162</td>\n",
       "      <td>1.954942</td>\n",
       "      <td>1.0</td>\n",
       "      <td>2.000000</td>\n",
       "      <td>3.0</td>\n",
       "      <td>4.000000</td>\n",
       "      <td>43.0</td>\n",
       "    </tr>\n",
       "    <tr>\n",
       "      <th>fstring__constants_pct</th>\n",
       "      <td>4977.0</td>\n",
       "      <td>0.554891</td>\n",
       "      <td>0.151107</td>\n",
       "      <td>0.0</td>\n",
       "      <td>0.500000</td>\n",
       "      <td>0.5</td>\n",
       "      <td>0.666667</td>\n",
       "      <td>1.0</td>\n",
       "    </tr>\n",
       "    <tr>\n",
       "      <th>fstring__expressions_pct</th>\n",
       "      <td>4977.0</td>\n",
       "      <td>0.445109</td>\n",
       "      <td>0.151107</td>\n",
       "      <td>0.0</td>\n",
       "      <td>0.333333</td>\n",
       "      <td>0.5</td>\n",
       "      <td>0.500000</td>\n",
       "      <td>1.0</td>\n",
       "    </tr>\n",
       "  </tbody>\n",
       "</table>\n",
       "</div>"
      ]
     },
     "execution_count": 7,
     "metadata": {},
     "output_type": "execute_result"
    }
   ],
   "execution_count": 7
  },
  {
   "metadata": {},
   "cell_type": "markdown",
   "source": "Vamos a discretizar las variables numericas, agrupando conjuntos de valores en categorias, para hacer un análisis de los datos. Para cada variable es necesaario ver la distribucion de lo valores para hacer los bins (categorias).",
   "id": "9af3eb59b924a596"
  },
  {
   "metadata": {
    "ExecuteTime": {
     "end_time": "2024-06-19T18:10:43.358117Z",
     "start_time": "2024-06-19T18:10:43.318025Z"
    }
   },
   "cell_type": "code",
   "source": [
    "# DISCRETIZATION\n",
    "X_copy = X.copy()\n",
    "\n",
    "discretized_columns = {\n",
    "    \"fstring__number_of_elements\": [(0.0, 2.0), (2.0, 3.0), (3.0, 4.0), (4.0, inf)],  # min: 0.0 max:44.0\n",
    "    \"fstring__constants_pct\": [(0.0, 0.5), (0.5, 0.5), (0.5, 0.67), (0.67, inf)],  # min: 0.0 max: 1.0\n",
    "    \"fstring__expressions_pct\": [(0.0, 0.33), (0.33, 0.5), (0.5, 0.5), (0.5, inf)],  # min: 0.0 max: 1.0\n",
    "}\n",
    "\n",
    "discretize_columns(X_copy, discretized_columns)\n",
    "    \n",
    "# SINGLE FEATURE\n",
    "print(\"--- SINGLE FEATURE ---\")\n",
    "print(get_statistics(X_copy, ['fstring__number_of_elements'], 10))\n",
    "print(get_statistics(X_copy, ['fstring__constants_pct'], 10))\n",
    "print(get_statistics(X_copy, ['fstring__expressions_pct'], 10))\n",
    "\n",
    "\n",
    "# 2 FEATURES\n",
    "print(\"--- TWO FEATURES ---\")\n",
    "#print(get_statistics(X_copy, ['module__function_defs_pct', 'module__number_of_classes'], 10))\n",
    "\n",
    "# 3 FEATURES\n",
    "print(\"--- THREE FEATURES ---\")\n",
    "#print(get_statistics(X_copy, ['module__class_defs_pct', 'module__function_defs_pct', 'module__enum_defs_pct'], 10))"
   ],
   "id": "6baf20dd3e3ca759",
   "outputs": [
    {
     "name": "stdout",
     "output_type": "stream",
     "text": [
      "--- SINGLE FEATURE ---\n",
      "fstring__number_of_elements  count  percentage\n",
      "                  [2.0_3.0)   1832   36.809323\n",
      "                  [3.0_4.0)   1497   30.078360\n",
      "                  [4.0_inf]   1335   26.823388\n",
      "                  [0.0_2.0)    313    6.288929\n",
      "\n",
      "fstring__constants_pct  count  percentage\n",
      "             [0.5_0.5]   2529   50.813743\n",
      "            [0.5_0.67)   1775   35.664055\n",
      "             [0.0_0.5)    437    8.780390\n",
      "            [0.67_inf]    236    4.741812\n",
      "\n",
      "fstring__expressions_pct  count  percentage\n",
      "               [0.5_0.5]   2529   50.813743\n",
      "              [0.33_0.5)   1775   35.664055\n",
      "               [0.5_inf]    437    8.780390\n",
      "              [0.0_0.33)    236    4.741812\n",
      "\n",
      "--- TWO FEATURES ---\n",
      "--- THREE FEATURES ---\n"
     ]
    }
   ],
   "execution_count": 8
  },
  {
   "metadata": {
    "ExecuteTime": {
     "end_time": "2024-06-19T18:10:43.364807Z",
     "start_time": "2024-06-19T18:10:43.359128Z"
    }
   },
   "cell_type": "code",
   "source": [
    "def normalize_datatypes(X:pd.DataFrame) -> (pd.DataFrame, [str]):\n",
    "    X = pd.get_dummies(X)\n",
    "    X = X.astype('float32')        \n",
    "    columns_names = X.columns.tolist()\n",
    "    return X, columns_names\n",
    "\n",
    "X, TABLE_FEATURES = normalize_datatypes(X)\n",
    "# Print information about the loaded table\n",
    "print(f'Features shape: {X.shape}')"
   ],
   "id": "5084c89dcb377a92",
   "outputs": [
    {
     "name": "stdout",
     "output_type": "stream",
     "text": [
      "Features shape: (4977, 3)\n"
     ]
    }
   ],
   "execution_count": 9
  },
  {
   "metadata": {},
   "cell_type": "markdown",
   "source": "#### Muestra la matriz de correlación de pearson entre las variables de la tabla.",
   "id": "ed8befe21328a079"
  },
  {
   "metadata": {
    "ExecuteTime": {
     "end_time": "2024-06-19T18:10:43.581289Z",
     "start_time": "2024-06-19T18:10:43.365739Z"
    }
   },
   "cell_type": "code",
   "source": "sns.heatmap(X.corr(), annot=True)",
   "id": "dea960d18d682104",
   "outputs": [
    {
     "data": {
      "text/plain": [
       "<Axes: >"
      ]
     },
     "execution_count": 10,
     "metadata": {},
     "output_type": "execute_result"
    },
    {
     "data": {
      "text/plain": [
       "<Figure size 640x480 with 2 Axes>"
      ],
      "image/png": "[encoded data removed]"
     },
     "metadata": {},
     "output_type": "display_data"
    }
   ],
   "execution_count": 10
  },
  {
   "metadata": {},
   "cell_type": "markdown",
   "source": [
    "## 3 - Detección de valores atípicos (outliers)\n",
    "## Univariate\n",
    "## Analisis detallado de variables\n",
    "Para cada una de las 3 variables (1 numerica y 2 porcentuales) se hara un analisis detallado"
   ],
   "id": "599c97eec7b7d283"
  },
  {
   "metadata": {},
   "cell_type": "markdown",
   "source": [
    "### Variable number_of_elements (1/3)\n",
    "Esta variable representa el número de elementos del JoinedStr. Como vimos en la descripción de la tabla esta varibale adopta valores en el rango 0 - 43. Con una media de 3.20."
   ],
   "id": "119fc307a9194a96"
  },
  {
   "metadata": {
    "ExecuteTime": {
     "end_time": "2024-06-19T18:10:43.694146Z",
     "start_time": "2024-06-19T18:10:43.581806Z"
    }
   },
   "cell_type": "code",
   "source": "sns.stripplot(X['fstring__number_of_elements'])",
   "id": "5efd7fbb4f34563d",
   "outputs": [
    {
     "data": {
      "text/plain": [
       "<Axes: ylabel='fstring__number_of_elements'>"
      ]
     },
     "execution_count": 11,
     "metadata": {},
     "output_type": "execute_result"
    },
    {
     "data": {
      "text/plain": [
       "<Figure size 640x480 with 1 Axes>"
      ],
      "image/png": "[encoded data removed]"
     },
     "metadata": {},
     "output_type": "display_data"
    }
   ],
   "execution_count": 11
  },
  {
   "metadata": {},
   "cell_type": "markdown",
   "source": [
    "### IMPORTANTE\n",
    "El valor maximo esta muy alejado de los siguientes"
   ],
   "id": "1735801ee8f2f8bd"
  },
  {
   "metadata": {
    "ExecuteTime": {
     "end_time": "2024-06-19T18:10:43.704811Z",
     "start_time": "2024-06-19T18:10:43.695158Z"
    }
   },
   "cell_type": "code",
   "source": "print_outliers_for_df_column(X, 'fstring__number_of_elements')",
   "id": "e5649a2923239004",
   "outputs": [
    {
     "name": "stdout",
     "output_type": "stream",
     "text": [
      "El coeficiente MC (Medcouple Coefficient) de balanceo es: 0.8453098081407093\n",
      "Rango valores atípicos extremos (Tukey): [-4.0,10.0]\n",
      "Rango valores atípicos leves (Tukey): [-1.0,7.0]\n",
      "Rango valores atípicos extremos (Fixed BoxPlot): [1.8443230169370666,92.22157267262503]\n",
      "-3.0IQR: 0 instancias tienen un valor para fstring__number_of_elements inferior a -4.0 (Q1-3*IQR) para fstring__number_of_elements. Representando un 0.0% del total de instancias.\n",
      "-1.5IQR: 0 instancias tienen un valor para fstring__number_of_elements inferior a -1.0 (Q1-1.5*IQR) para fstring__number_of_elements. Representando un 0.0% del total de instancias.\n",
      "+1.5IQR: 184 instancias tienen un valor para fstring__number_of_elements superior a 7.0 (Q3+1.5*IQR) para fstring__number_of_elements. Representando un 3.697% del total de instancias.\n",
      "+3.0IQR: 48 instancias tienen un valor para fstring__number_of_elements superior a 10.0 (Q3-3*IQR) para fstring__number_of_elements. Representando un 0.9644% del total de instancias.\n",
      "L: 313 instancias tienen un valor para fstring__number_of_elements inferior a 1.8443230169370666 para fstring__number_of_elements. Representando un 6.289% del total de instancias.\n",
      "U: 0 instancias tienen un valor para fstring__number_of_elements superior a 92.22157267262503 para fstring__number_of_elements. Representando un 0.0% del total de instancias.\n"
     ]
    }
   ],
   "execution_count": 12
  },
  {
   "metadata": {},
   "cell_type": "markdown",
   "source": "Describimos los valores de las variables de la tabla, cuando el valor de la variable es mayor que 10.0 (Con un MC de 84 usamos Tuckey Extremo)",
   "id": "238f5c38582447fc"
  },
  {
   "metadata": {
    "ExecuteTime": {
     "end_time": "2024-06-19T18:10:43.721344Z",
     "start_time": "2024-06-19T18:10:43.705824Z"
    }
   },
   "cell_type": "code",
   "source": "X[X['fstring__number_of_elements'] > 10].describe(percentiles=[.25, .50, .75], include = ['object', 'float', 'bool', 'int'])",
   "id": "5c5e0e6eb4cd173",
   "outputs": [
    {
     "data": {
      "text/plain": [
       "       fstring__number_of_elements  fstring__constants_pct  \\\n",
       "count                    48.000000               48.000000   \n",
       "mean                     13.458333                0.513316   \n",
       "std                       4.757786                0.026078   \n",
       "min                      11.000000                0.454545   \n",
       "25%                      11.750000                0.500000   \n",
       "50%                      12.000000                0.500000   \n",
       "75%                      14.000000                0.538462   \n",
       "max                      43.000000                0.545455   \n",
       "\n",
       "       fstring__expressions_pct  \n",
       "count                 48.000000  \n",
       "mean                   0.486684  \n",
       "std                    0.026078  \n",
       "min                    0.454545  \n",
       "25%                    0.461538  \n",
       "50%                    0.500000  \n",
       "75%                    0.500000  \n",
       "max                    0.545455  "
      ],
      "text/html": [
       "<div>\n",
       "<style scoped>\n",
       "    .dataframe tbody tr th:only-of-type {\n",
       "        vertical-align: middle;\n",
       "    }\n",
       "\n",
       "    .dataframe tbody tr th {\n",
       "        vertical-align: top;\n",
       "    }\n",
       "\n",
       "    .dataframe thead th {\n",
       "        text-align: right;\n",
       "    }\n",
       "</style>\n",
       "<table border=\"1\" class=\"dataframe\">\n",
       "  <thead>\n",
       "    <tr style=\"text-align: right;\">\n",
       "      <th></th>\n",
       "      <th>fstring__number_of_elements</th>\n",
       "      <th>fstring__constants_pct</th>\n",
       "      <th>fstring__expressions_pct</th>\n",
       "    </tr>\n",
       "  </thead>\n",
       "  <tbody>\n",
       "    <tr>\n",
       "      <th>count</th>\n",
       "      <td>48.000000</td>\n",
       "      <td>48.000000</td>\n",
       "      <td>48.000000</td>\n",
       "    </tr>\n",
       "    <tr>\n",
       "      <th>mean</th>\n",
       "      <td>13.458333</td>\n",
       "      <td>0.513316</td>\n",
       "      <td>0.486684</td>\n",
       "    </tr>\n",
       "    <tr>\n",
       "      <th>std</th>\n",
       "      <td>4.757786</td>\n",
       "      <td>0.026078</td>\n",
       "      <td>0.026078</td>\n",
       "    </tr>\n",
       "    <tr>\n",
       "      <th>min</th>\n",
       "      <td>11.000000</td>\n",
       "      <td>0.454545</td>\n",
       "      <td>0.454545</td>\n",
       "    </tr>\n",
       "    <tr>\n",
       "      <th>25%</th>\n",
       "      <td>11.750000</td>\n",
       "      <td>0.500000</td>\n",
       "      <td>0.461538</td>\n",
       "    </tr>\n",
       "    <tr>\n",
       "      <th>50%</th>\n",
       "      <td>12.000000</td>\n",
       "      <td>0.500000</td>\n",
       "      <td>0.500000</td>\n",
       "    </tr>\n",
       "    <tr>\n",
       "      <th>75%</th>\n",
       "      <td>14.000000</td>\n",
       "      <td>0.538462</td>\n",
       "      <td>0.500000</td>\n",
       "    </tr>\n",
       "    <tr>\n",
       "      <th>max</th>\n",
       "      <td>43.000000</td>\n",
       "      <td>0.545455</td>\n",
       "      <td>0.545455</td>\n",
       "    </tr>\n",
       "  </tbody>\n",
       "</table>\n",
       "</div>"
      ]
     },
     "execution_count": 13,
     "metadata": {},
     "output_type": "execute_result"
    }
   ],
   "execution_count": 13
  },
  {
   "metadata": {},
   "cell_type": "markdown",
   "source": [
    "### Variable constants_pct (2/3)\n",
    "Esta variable representa la proporción de los valores usados para parametrizar el JoinedStr que son constantes. Toma los valores de 0.0 - 1.0. La media es 0.55."
   ],
   "id": "5c0a373fffec0b53"
  },
  {
   "metadata": {
    "ExecuteTime": {
     "end_time": "2024-06-19T18:10:44.049434Z",
     "start_time": "2024-06-19T18:10:43.723862Z"
    }
   },
   "cell_type": "code",
   "source": "sns.displot(X['fstring__constants_pct'], bins=[i / 100 for i in range(0, 101)])",
   "id": "9ac5d2538d99ac6a",
   "outputs": [
    {
     "data": {
      "text/plain": [
       "<seaborn.axisgrid.FacetGrid at 0x1e42128ea50>"
      ]
     },
     "execution_count": 14,
     "metadata": {},
     "output_type": "execute_result"
    },
    {
     "data": {
      "text/plain": [
       "<Figure size 500x500 with 1 Axes>"
      ],
      "image/png": "[encoded data removed]"
     },
     "metadata": {},
     "output_type": "display_data"
    }
   ],
   "execution_count": 14
  },
  {
   "metadata": {
    "ExecuteTime": {
     "end_time": "2024-06-19T18:10:44.059707Z",
     "start_time": "2024-06-19T18:10:44.050441Z"
    }
   },
   "cell_type": "code",
   "source": "print_outliers_for_df_column(X, 'fstring__constants_pct')",
   "id": "4a7a46358e270bf6",
   "outputs": [
    {
     "name": "stdout",
     "output_type": "stream",
     "text": [
      "El coeficiente MC (Medcouple Coefficient) de balanceo es: 0.39199711472236637\n",
      "Rango valores atípicos extremos (Tukey): [-5.960464477539063e-08,1.1666667461395264]\n",
      "Rango valores atípicos leves (Tukey): [0.2499999701976776,0.916666716337204]\n",
      "Rango valores atípicos extremos (Fixed BoxPlot): [0.4365995388203785,1.8659141148405403]\n",
      "-3.0IQR: 0 instancias tienen un valor para fstring__constants_pct inferior a -5.960464477539063e-08 (Q1-3*IQR) para fstring__constants_pct. Representando un 0.0% del total de instancias.\n",
      "-1.5IQR: 91 instancias tienen un valor para fstring__constants_pct inferior a 0.2499999701976776 (Q1-1.5*IQR) para fstring__constants_pct. Representando un 1.828% del total de instancias.\n",
      "+1.5IQR: 236 instancias tienen un valor para fstring__constants_pct superior a 0.916666716337204 (Q3+1.5*IQR) para fstring__constants_pct. Representando un 4.742% del total de instancias.\n",
      "+3.0IQR: 0 instancias tienen un valor para fstring__constants_pct superior a 1.1666667461395264 (Q3-3*IQR) para fstring__constants_pct. Representando un 0.0% del total de instancias.\n",
      "L: 431 instancias tienen un valor para fstring__constants_pct inferior a 0.4365995388203785 para fstring__constants_pct. Representando un 8.66% del total de instancias.\n",
      "U: 0 instancias tienen un valor para fstring__constants_pct superior a 1.8659141148405403 para fstring__constants_pct. Representando un 0.0% del total de instancias.\n"
     ]
    }
   ],
   "execution_count": 15
  },
  {
   "metadata": {},
   "cell_type": "markdown",
   "source": "Describimos los valores de las variables de la tabla, cuando el valor de la variable es menor de 0.249 o mayor que 0.917 (Con un MC de 39 usamos Tuckey)",
   "id": "2e74baa3d33e03ed"
  },
  {
   "metadata": {
    "ExecuteTime": {
     "end_time": "2024-06-19T18:10:44.075717Z",
     "start_time": "2024-06-19T18:10:44.060717Z"
    }
   },
   "cell_type": "code",
   "source": "X[(X['fstring__constants_pct'] < 0.249) | (X['fstring__constants_pct'] > 0.917)].describe(percentiles=[.25, .50, .75], include = ['object', 'float', 'bool', 'int'])",
   "id": "65828604e885a75",
   "outputs": [
    {
     "data": {
      "text/plain": [
       "       fstring__number_of_elements  fstring__constants_pct  \\\n",
       "count                   327.000000              327.000000   \n",
       "mean                      1.051988                0.722324   \n",
       "std                       0.293677                0.447992   \n",
       "min                       1.000000                0.000000   \n",
       "25%                       1.000000                0.000000   \n",
       "50%                       1.000000                1.000000   \n",
       "75%                       1.000000                1.000000   \n",
       "max                       5.000000                1.000000   \n",
       "\n",
       "       fstring__expressions_pct  \n",
       "count                327.000000  \n",
       "mean                   0.277676  \n",
       "std                    0.447992  \n",
       "min                    0.000000  \n",
       "25%                    0.000000  \n",
       "50%                    0.000000  \n",
       "75%                    1.000000  \n",
       "max                    1.000000  "
      ],
      "text/html": [
       "<div>\n",
       "<style scoped>\n",
       "    .dataframe tbody tr th:only-of-type {\n",
       "        vertical-align: middle;\n",
       "    }\n",
       "\n",
       "    .dataframe tbody tr th {\n",
       "        vertical-align: top;\n",
       "    }\n",
       "\n",
       "    .dataframe thead th {\n",
       "        text-align: right;\n",
       "    }\n",
       "</style>\n",
       "<table border=\"1\" class=\"dataframe\">\n",
       "  <thead>\n",
       "    <tr style=\"text-align: right;\">\n",
       "      <th></th>\n",
       "      <th>fstring__number_of_elements</th>\n",
       "      <th>fstring__constants_pct</th>\n",
       "      <th>fstring__expressions_pct</th>\n",
       "    </tr>\n",
       "  </thead>\n",
       "  <tbody>\n",
       "    <tr>\n",
       "      <th>count</th>\n",
       "      <td>327.000000</td>\n",
       "      <td>327.000000</td>\n",
       "      <td>327.000000</td>\n",
       "    </tr>\n",
       "    <tr>\n",
       "      <th>mean</th>\n",
       "      <td>1.051988</td>\n",
       "      <td>0.722324</td>\n",
       "      <td>0.277676</td>\n",
       "    </tr>\n",
       "    <tr>\n",
       "      <th>std</th>\n",
       "      <td>0.293677</td>\n",
       "      <td>0.447992</td>\n",
       "      <td>0.447992</td>\n",
       "    </tr>\n",
       "    <tr>\n",
       "      <th>min</th>\n",
       "      <td>1.000000</td>\n",
       "      <td>0.000000</td>\n",
       "      <td>0.000000</td>\n",
       "    </tr>\n",
       "    <tr>\n",
       "      <th>25%</th>\n",
       "      <td>1.000000</td>\n",
       "      <td>0.000000</td>\n",
       "      <td>0.000000</td>\n",
       "    </tr>\n",
       "    <tr>\n",
       "      <th>50%</th>\n",
       "      <td>1.000000</td>\n",
       "      <td>1.000000</td>\n",
       "      <td>0.000000</td>\n",
       "    </tr>\n",
       "    <tr>\n",
       "      <th>75%</th>\n",
       "      <td>1.000000</td>\n",
       "      <td>1.000000</td>\n",
       "      <td>1.000000</td>\n",
       "    </tr>\n",
       "    <tr>\n",
       "      <th>max</th>\n",
       "      <td>5.000000</td>\n",
       "      <td>1.000000</td>\n",
       "      <td>1.000000</td>\n",
       "    </tr>\n",
       "  </tbody>\n",
       "</table>\n",
       "</div>"
      ]
     },
     "execution_count": 16,
     "metadata": {},
     "output_type": "execute_result"
    }
   ],
   "execution_count": 16
  },
  {
   "metadata": {},
   "cell_type": "markdown",
   "source": [
    "### Variable expressions_pct (3/3)\n",
    "Esta variable representa la proporción de valores usados para parametrizar el JoinedStr que son expresiones. Toma los valores de 0.0 - 1.0. La media es 0.44."
   ],
   "id": "a8d2d3dbd02dcea0"
  },
  {
   "metadata": {
    "ExecuteTime": {
     "end_time": "2024-06-19T18:10:44.429993Z",
     "start_time": "2024-06-19T18:10:44.076723Z"
    }
   },
   "cell_type": "code",
   "source": "sns.displot(X['fstring__expressions_pct'], bins=[i / 100 for i in range(0, 101)])",
   "id": "4d1da3a369eb0be6",
   "outputs": [
    {
     "data": {
      "text/plain": [
       "<seaborn.axisgrid.FacetGrid at 0x1e4210fb170>"
      ]
     },
     "execution_count": 17,
     "metadata": {},
     "output_type": "execute_result"
    },
    {
     "data": {
      "text/plain": [
       "<Figure size 500x500 with 1 Axes>"
      ],
      "image/png": "[encoded data removed]"
     },
     "metadata": {},
     "output_type": "display_data"
    }
   ],
   "execution_count": 17
  },
  {
   "metadata": {
    "ExecuteTime": {
     "end_time": "2024-06-19T18:10:44.437224Z",
     "start_time": "2024-06-19T18:10:44.429993Z"
    }
   },
   "cell_type": "code",
   "source": "print_outliers_for_df_column(X, 'fstring__expressions_pct')",
   "id": "5ac40e081482327",
   "outputs": [
    {
     "name": "stdout",
     "output_type": "stream",
     "text": [
      "El coeficiente MC (Medcouple Coefficient) de balanceo es: 0.027445629239082336\n",
      "Rango valores atípicos extremos (Tukey): [-0.16666662693023682,0.9999999701976776]\n",
      "Rango valores atípicos leves (Tukey): [0.08333335816860199,0.7499999850988388]\n",
      "Rango valores atípicos extremos (Fixed BoxPlot): [0.10623091173803206,0.7790088146957677]\n",
      "-3.0IQR: 0 instancias tienen un valor para fstring__expressions_pct inferior a -0.16666662693023682 (Q1-3*IQR) para fstring__expressions_pct. Representando un 0.0% del total de instancias.\n",
      "-1.5IQR: 236 instancias tienen un valor para fstring__expressions_pct inferior a 0.08333335816860199 (Q1-1.5*IQR) para fstring__expressions_pct. Representando un 4.742% del total de instancias.\n",
      "+1.5IQR: 91 instancias tienen un valor para fstring__expressions_pct superior a 0.7499999850988388 (Q3+1.5*IQR) para fstring__expressions_pct. Representando un 1.828% del total de instancias.\n",
      "+3.0IQR: 0 instancias tienen un valor para fstring__expressions_pct superior a 0.9999999701976776 (Q3-3*IQR) para fstring__expressions_pct. Representando un 0.0% del total de instancias.\n",
      "L: 236 instancias tienen un valor para fstring__expressions_pct inferior a 0.10623091173803206 para fstring__expressions_pct. Representando un 4.742% del total de instancias.\n",
      "U: 91 instancias tienen un valor para fstring__expressions_pct superior a 0.7790088146957677 para fstring__expressions_pct. Representando un 1.828% del total de instancias.\n"
     ]
    }
   ],
   "execution_count": 18
  },
  {
   "metadata": {},
   "cell_type": "markdown",
   "source": "Describimos los valores de las variables de la tabla, cuando el valor de la variable es menor de 0.084 o mayor que 0.749",
   "id": "d5e50ac8fb3aee3b"
  },
  {
   "metadata": {
    "ExecuteTime": {
     "end_time": "2024-06-19T18:10:44.449881Z",
     "start_time": "2024-06-19T18:10:44.438233Z"
    }
   },
   "cell_type": "code",
   "source": "X[(X['fstring__expressions_pct'] < 0.084) | (X['fstring__expressions_pct'] > 0.749)].describe(percentiles=[.25, .50, .75], include = ['object', 'float', 'bool', 'int'])",
   "id": "7eed776af9068518",
   "outputs": [
    {
     "data": {
      "text/plain": [
       "       fstring__number_of_elements  fstring__constants_pct  \\\n",
       "count                   328.000000              328.000000   \n",
       "mean                      1.060976                0.720884   \n",
       "std                       0.335378                0.448066   \n",
       "min                       1.000000                0.000000   \n",
       "25%                       1.000000                0.000000   \n",
       "50%                       1.000000                1.000000   \n",
       "75%                       1.000000                1.000000   \n",
       "max                       5.000000                1.000000   \n",
       "\n",
       "       fstring__expressions_pct  \n",
       "count                328.000000  \n",
       "mean                   0.279116  \n",
       "std                    0.448066  \n",
       "min                    0.000000  \n",
       "25%                    0.000000  \n",
       "50%                    0.000000  \n",
       "75%                    1.000000  \n",
       "max                    1.000000  "
      ],
      "text/html": [
       "<div>\n",
       "<style scoped>\n",
       "    .dataframe tbody tr th:only-of-type {\n",
       "        vertical-align: middle;\n",
       "    }\n",
       "\n",
       "    .dataframe tbody tr th {\n",
       "        vertical-align: top;\n",
       "    }\n",
       "\n",
       "    .dataframe thead th {\n",
       "        text-align: right;\n",
       "    }\n",
       "</style>\n",
       "<table border=\"1\" class=\"dataframe\">\n",
       "  <thead>\n",
       "    <tr style=\"text-align: right;\">\n",
       "      <th></th>\n",
       "      <th>fstring__number_of_elements</th>\n",
       "      <th>fstring__constants_pct</th>\n",
       "      <th>fstring__expressions_pct</th>\n",
       "    </tr>\n",
       "  </thead>\n",
       "  <tbody>\n",
       "    <tr>\n",
       "      <th>count</th>\n",
       "      <td>328.000000</td>\n",
       "      <td>328.000000</td>\n",
       "      <td>328.000000</td>\n",
       "    </tr>\n",
       "    <tr>\n",
       "      <th>mean</th>\n",
       "      <td>1.060976</td>\n",
       "      <td>0.720884</td>\n",
       "      <td>0.279116</td>\n",
       "    </tr>\n",
       "    <tr>\n",
       "      <th>std</th>\n",
       "      <td>0.335378</td>\n",
       "      <td>0.448066</td>\n",
       "      <td>0.448066</td>\n",
       "    </tr>\n",
       "    <tr>\n",
       "      <th>min</th>\n",
       "      <td>1.000000</td>\n",
       "      <td>0.000000</td>\n",
       "      <td>0.000000</td>\n",
       "    </tr>\n",
       "    <tr>\n",
       "      <th>25%</th>\n",
       "      <td>1.000000</td>\n",
       "      <td>0.000000</td>\n",
       "      <td>0.000000</td>\n",
       "    </tr>\n",
       "    <tr>\n",
       "      <th>50%</th>\n",
       "      <td>1.000000</td>\n",
       "      <td>1.000000</td>\n",
       "      <td>0.000000</td>\n",
       "    </tr>\n",
       "    <tr>\n",
       "      <th>75%</th>\n",
       "      <td>1.000000</td>\n",
       "      <td>1.000000</td>\n",
       "      <td>1.000000</td>\n",
       "    </tr>\n",
       "    <tr>\n",
       "      <th>max</th>\n",
       "      <td>5.000000</td>\n",
       "      <td>1.000000</td>\n",
       "      <td>1.000000</td>\n",
       "    </tr>\n",
       "  </tbody>\n",
       "</table>\n",
       "</div>"
      ]
     },
     "execution_count": 19,
     "metadata": {},
     "output_type": "execute_result"
    }
   ],
   "execution_count": 19
  },
  {
   "metadata": {},
   "cell_type": "markdown",
   "source": [
    "## Multivariate\n",
    "\n",
    "Isolation forest algorithm"
   ],
   "id": "1ef2d199521698ae"
  },
  {
   "metadata": {
    "ExecuteTime": {
     "end_time": "2024-06-19T18:10:44.865463Z",
     "start_time": "2024-06-19T18:10:44.449881Z"
    }
   },
   "cell_type": "code",
   "source": [
    "from sklearn.ensemble import  IsolationForest\n",
    "\n",
    "CONTAMINATION_FACTOR = 0.0012\n",
    "isof_model = IsolationForest(contamination=CONTAMINATION_FACTOR, random_state=0)\n",
    "isof_prediction = isof_model.fit_predict(X.values)\n",
    "mask = isof_prediction == -1\n",
    "full_table.loc[X.index[mask]]"
   ],
   "id": "19139883d581d0fb",
   "outputs": [
    {
     "data": {
      "text/plain": [
       "      fstring__number_of_elements  fstring__constants_pct  \\\n",
       "840                            17                0.529412   \n",
       "3389                           17                0.529412   \n",
       "3764                           17                0.529412   \n",
       "4146                           17                0.529412   \n",
       "4493                           17                0.529412   \n",
       "4843                           17                0.529412   \n",
       "\n",
       "      fstring__expressions_pct fstring__expertise_level  \n",
       "840                   0.470588                 BEGINNER  \n",
       "3389                  0.470588                 BEGINNER  \n",
       "3764                  0.470588                 BEGINNER  \n",
       "4146                  0.470588                 BEGINNER  \n",
       "4493                  0.470588                 BEGINNER  \n",
       "4843                  0.470588                 BEGINNER  "
      ],
      "text/html": [
       "<div>\n",
       "<style scoped>\n",
       "    .dataframe tbody tr th:only-of-type {\n",
       "        vertical-align: middle;\n",
       "    }\n",
       "\n",
       "    .dataframe tbody tr th {\n",
       "        vertical-align: top;\n",
       "    }\n",
       "\n",
       "    .dataframe thead th {\n",
       "        text-align: right;\n",
       "    }\n",
       "</style>\n",
       "<table border=\"1\" class=\"dataframe\">\n",
       "  <thead>\n",
       "    <tr style=\"text-align: right;\">\n",
       "      <th></th>\n",
       "      <th>fstring__number_of_elements</th>\n",
       "      <th>fstring__constants_pct</th>\n",
       "      <th>fstring__expressions_pct</th>\n",
       "      <th>fstring__expertise_level</th>\n",
       "    </tr>\n",
       "  </thead>\n",
       "  <tbody>\n",
       "    <tr>\n",
       "      <th>840</th>\n",
       "      <td>17</td>\n",
       "      <td>0.529412</td>\n",
       "      <td>0.470588</td>\n",
       "      <td>BEGINNER</td>\n",
       "    </tr>\n",
       "    <tr>\n",
       "      <th>3389</th>\n",
       "      <td>17</td>\n",
       "      <td>0.529412</td>\n",
       "      <td>0.470588</td>\n",
       "      <td>BEGINNER</td>\n",
       "    </tr>\n",
       "    <tr>\n",
       "      <th>3764</th>\n",
       "      <td>17</td>\n",
       "      <td>0.529412</td>\n",
       "      <td>0.470588</td>\n",
       "      <td>BEGINNER</td>\n",
       "    </tr>\n",
       "    <tr>\n",
       "      <th>4146</th>\n",
       "      <td>17</td>\n",
       "      <td>0.529412</td>\n",
       "      <td>0.470588</td>\n",
       "      <td>BEGINNER</td>\n",
       "    </tr>\n",
       "    <tr>\n",
       "      <th>4493</th>\n",
       "      <td>17</td>\n",
       "      <td>0.529412</td>\n",
       "      <td>0.470588</td>\n",
       "      <td>BEGINNER</td>\n",
       "    </tr>\n",
       "    <tr>\n",
       "      <th>4843</th>\n",
       "      <td>17</td>\n",
       "      <td>0.529412</td>\n",
       "      <td>0.470588</td>\n",
       "      <td>BEGINNER</td>\n",
       "    </tr>\n",
       "  </tbody>\n",
       "</table>\n",
       "</div>"
      ]
     },
     "execution_count": 20,
     "metadata": {},
     "output_type": "execute_result"
    }
   ],
   "execution_count": 20
  },
  {
   "metadata": {},
   "cell_type": "markdown",
   "source": [
    "### IMPORTANTE\n",
    "Analizar los outliers de la tabla"
   ],
   "id": "a11554eb9803bf31"
  },
  {
   "metadata": {
    "ExecuteTime": {
     "end_time": "2024-06-19T18:10:44.881446Z",
     "start_time": "2024-06-19T18:10:44.866469Z"
    }
   },
   "cell_type": "code",
   "source": [
    "# Outliers\n",
    "np.transpose(X[mask].describe(percentiles=[.25, .50, .75], include = ['object', 'float', 'bool', 'int']))"
   ],
   "id": "6763f79b8da54a93",
   "outputs": [
    {
     "data": {
      "text/plain": [
       "                             count       mean  std        min        25%  \\\n",
       "fstring__number_of_elements    6.0  17.000000  0.0  17.000000  17.000000   \n",
       "fstring__constants_pct         6.0   0.529412  0.0   0.529412   0.529412   \n",
       "fstring__expressions_pct       6.0   0.470588  0.0   0.470588   0.470588   \n",
       "\n",
       "                                   50%        75%        max  \n",
       "fstring__number_of_elements  17.000000  17.000000  17.000000  \n",
       "fstring__constants_pct        0.529412   0.529412   0.529412  \n",
       "fstring__expressions_pct      0.470588   0.470588   0.470588  "
      ],
      "text/html": [
       "<div>\n",
       "<style scoped>\n",
       "    .dataframe tbody tr th:only-of-type {\n",
       "        vertical-align: middle;\n",
       "    }\n",
       "\n",
       "    .dataframe tbody tr th {\n",
       "        vertical-align: top;\n",
       "    }\n",
       "\n",
       "    .dataframe thead th {\n",
       "        text-align: right;\n",
       "    }\n",
       "</style>\n",
       "<table border=\"1\" class=\"dataframe\">\n",
       "  <thead>\n",
       "    <tr style=\"text-align: right;\">\n",
       "      <th></th>\n",
       "      <th>count</th>\n",
       "      <th>mean</th>\n",
       "      <th>std</th>\n",
       "      <th>min</th>\n",
       "      <th>25%</th>\n",
       "      <th>50%</th>\n",
       "      <th>75%</th>\n",
       "      <th>max</th>\n",
       "    </tr>\n",
       "  </thead>\n",
       "  <tbody>\n",
       "    <tr>\n",
       "      <th>fstring__number_of_elements</th>\n",
       "      <td>6.0</td>\n",
       "      <td>17.000000</td>\n",
       "      <td>0.0</td>\n",
       "      <td>17.000000</td>\n",
       "      <td>17.000000</td>\n",
       "      <td>17.000000</td>\n",
       "      <td>17.000000</td>\n",
       "      <td>17.000000</td>\n",
       "    </tr>\n",
       "    <tr>\n",
       "      <th>fstring__constants_pct</th>\n",
       "      <td>6.0</td>\n",
       "      <td>0.529412</td>\n",
       "      <td>0.0</td>\n",
       "      <td>0.529412</td>\n",
       "      <td>0.529412</td>\n",
       "      <td>0.529412</td>\n",
       "      <td>0.529412</td>\n",
       "      <td>0.529412</td>\n",
       "    </tr>\n",
       "    <tr>\n",
       "      <th>fstring__expressions_pct</th>\n",
       "      <td>6.0</td>\n",
       "      <td>0.470588</td>\n",
       "      <td>0.0</td>\n",
       "      <td>0.470588</td>\n",
       "      <td>0.470588</td>\n",
       "      <td>0.470588</td>\n",
       "      <td>0.470588</td>\n",
       "      <td>0.470588</td>\n",
       "    </tr>\n",
       "  </tbody>\n",
       "</table>\n",
       "</div>"
      ]
     },
     "execution_count": 21,
     "metadata": {},
     "output_type": "execute_result"
    }
   ],
   "execution_count": 21
  },
  {
   "metadata": {
    "ExecuteTime": {
     "end_time": "2024-06-19T18:10:44.897566Z",
     "start_time": "2024-06-19T18:10:44.882457Z"
    }
   },
   "cell_type": "code",
   "source": [
    "# Non-Outliers\n",
    "np.transpose(X[~mask].describe(percentiles=[.25, .50, .75], include = ['object', 'float', 'bool', 'int']))"
   ],
   "id": "a0ba794c7f29977e",
   "outputs": [
    {
     "data": {
      "text/plain": [
       "                              count      mean       std  min       25%  50%  \\\n",
       "fstring__number_of_elements  4971.0  3.192517  1.896452  1.0  2.000000  3.0   \n",
       "fstring__constants_pct       4971.0  0.554922  0.151195  0.0  0.500000  0.5   \n",
       "fstring__expressions_pct     4971.0  0.445078  0.151195  0.0  0.333333  0.5   \n",
       "\n",
       "                                  75%   max  \n",
       "fstring__number_of_elements  4.000000  43.0  \n",
       "fstring__constants_pct       0.666667   1.0  \n",
       "fstring__expressions_pct     0.500000   1.0  "
      ],
      "text/html": [
       "<div>\n",
       "<style scoped>\n",
       "    .dataframe tbody tr th:only-of-type {\n",
       "        vertical-align: middle;\n",
       "    }\n",
       "\n",
       "    .dataframe tbody tr th {\n",
       "        vertical-align: top;\n",
       "    }\n",
       "\n",
       "    .dataframe thead th {\n",
       "        text-align: right;\n",
       "    }\n",
       "</style>\n",
       "<table border=\"1\" class=\"dataframe\">\n",
       "  <thead>\n",
       "    <tr style=\"text-align: right;\">\n",
       "      <th></th>\n",
       "      <th>count</th>\n",
       "      <th>mean</th>\n",
       "      <th>std</th>\n",
       "      <th>min</th>\n",
       "      <th>25%</th>\n",
       "      <th>50%</th>\n",
       "      <th>75%</th>\n",
       "      <th>max</th>\n",
       "    </tr>\n",
       "  </thead>\n",
       "  <tbody>\n",
       "    <tr>\n",
       "      <th>fstring__number_of_elements</th>\n",
       "      <td>4971.0</td>\n",
       "      <td>3.192517</td>\n",
       "      <td>1.896452</td>\n",
       "      <td>1.0</td>\n",
       "      <td>2.000000</td>\n",
       "      <td>3.0</td>\n",
       "      <td>4.000000</td>\n",
       "      <td>43.0</td>\n",
       "    </tr>\n",
       "    <tr>\n",
       "      <th>fstring__constants_pct</th>\n",
       "      <td>4971.0</td>\n",
       "      <td>0.554922</td>\n",
       "      <td>0.151195</td>\n",
       "      <td>0.0</td>\n",
       "      <td>0.500000</td>\n",
       "      <td>0.5</td>\n",
       "      <td>0.666667</td>\n",
       "      <td>1.0</td>\n",
       "    </tr>\n",
       "    <tr>\n",
       "      <th>fstring__expressions_pct</th>\n",
       "      <td>4971.0</td>\n",
       "      <td>0.445078</td>\n",
       "      <td>0.151195</td>\n",
       "      <td>0.0</td>\n",
       "      <td>0.333333</td>\n",
       "      <td>0.5</td>\n",
       "      <td>0.500000</td>\n",
       "      <td>1.0</td>\n",
       "    </tr>\n",
       "  </tbody>\n",
       "</table>\n",
       "</div>"
      ]
     },
     "execution_count": 22,
     "metadata": {},
     "output_type": "execute_result"
    }
   ],
   "execution_count": 22
  }
 ],
 "metadata": {
  "kernelspec": {
   "display_name": "Python 3",
   "language": "python",
   "name": "python3"
  },
  "language_info": {
   "codemirror_mode": {
    "name": "ipython",
    "version": 2
   },
   "file_extension": ".py",
   "mimetype": "text/x-python",
   "name": "python",
   "nbconvert_exporter": "python",
   "pygments_lexer": "ipython2",
   "version": "2.7.6"
  }
 },
 "nbformat": 4,
 "nbformat_minor": 5
}
