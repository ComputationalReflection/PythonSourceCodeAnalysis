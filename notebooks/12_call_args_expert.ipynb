{
 "cells": [
  {
   "metadata": {},
   "cell_type": "markdown",
   "source": [
    "# CallArgs EXPERT\n",
    "\n",
    "Esta tabla contiene la información adicional de las sentencias de tipo Call (llamadas a funciones).  --> ABEL COMPLETAR <--"
   ],
   "id": "148ae8871134f924"
  },
  {
   "metadata": {},
   "cell_type": "markdown",
   "source": "## 1 - Obtencion de datos",
   "id": "d3c24a719032807f"
  },
  {
   "metadata": {
    "ExecuteTime": {
     "end_time": "2024-07-04T17:26:27.443807Z",
     "start_time": "2024-07-04T17:26:25.794322Z"
    }
   },
   "cell_type": "code",
   "source": [
    "import matplotlib.pyplot as plt\n",
    "from notebooks_utils import *\n",
    "\n",
    "TARGET_FEATURE = 'callarg__expertise_level'\n",
    "TARGET_CLASS = 'EXPERT'\n",
    "full_table = get_data('callargs')\n",
    "\n",
    "instances_for_class_low = len(full_table[full_table[TARGET_FEATURE] == \"BEGINNER\"])\n",
    "instances_for_class_high = len(full_table[full_table[TARGET_FEATURE] == \"EXPERT\"])\n",
    "\n",
    "print(f\"The dataset contains {instances_for_class_low} ({instances_for_class_low/len(full_table)*100:.4}%) instances for BEGINNER class and {instances_for_class_high} ({instances_for_class_high/len(full_table)*100:.4}%) for EXPERT class.\")"
   ],
   "id": "9f0a949e91eb384b",
   "outputs": [
    {
     "name": "stdout",
     "output_type": "stream",
     "text": [
      "2024-07-04 19:26:27.278726 Data cache files found ...\n",
      "2024-07-04 19:26:27.347806 Data cache files successfully loaded!!\n",
      "The dataset contains 338727 (39.37%) instances for BEGINNER class and 521668 (60.63%) for EXPERT class.\n"
     ]
    }
   ],
   "execution_count": 1
  },
  {
   "metadata": {
    "ExecuteTime": {
     "end_time": "2024-07-04T17:26:27.518497Z",
     "start_time": "2024-07-04T17:26:27.445847Z"
    }
   },
   "cell_type": "code",
   "source": [
    "full_table = full_table[full_table[TARGET_FEATURE] == TARGET_CLASS]\n",
    "\n",
    "# Table name, features and target.\n",
    "TABLE_NAME = 'callargs'\n",
    "TABLE_FEATURES = ['callarg__number_args', 'callarg__named_args_pct', 'callarg__double_star_args_pct']\n",
    "\n",
    "# Load features and target.\n",
    "X = full_table[TABLE_FEATURES]\n",
    "\n",
    "# Print information about the loaded table.\n",
    "print(f'Features shape: {X.shape}')\n",
    "\n",
    "print(f'As we can see the downloaded data contains a total of {X.shape[0]} instances. For each instance we have {X.shape[1]} attributes.')"
   ],
   "id": "80e1f614554795cb",
   "outputs": [
    {
     "name": "stdout",
     "output_type": "stream",
     "text": [
      "Features shape: (521668, 3)\n",
      "As we can see the downloaded data contains a total of 521668 instances. For each instance we have 3 attributes.\n"
     ]
    }
   ],
   "execution_count": 2
  },
  {
   "metadata": {},
   "cell_type": "markdown",
   "source": [
    "## 2 - Exploracion de datos\n",
    "\n",
    "Una vez tenemos nuestra tabla en un dataframe el siguiente paso es explorarla para ver qué tipo de información contiene."
   ],
   "id": "bcda7cb784bf0a1"
  },
  {
   "metadata": {
    "ExecuteTime": {
     "end_time": "2024-07-04T17:26:27.530672Z",
     "start_time": "2024-07-04T17:26:27.519523Z"
    }
   },
   "cell_type": "code",
   "source": "print(X.info())",
   "id": "2eb3d09993235bcb",
   "outputs": [
    {
     "name": "stdout",
     "output_type": "stream",
     "text": [
      "<class 'pandas.core.frame.DataFrame'>\n",
      "Index: 521668 entries, 338727 to 860394\n",
      "Data columns (total 3 columns):\n",
      " #   Column                         Non-Null Count   Dtype  \n",
      "---  ------                         --------------   -----  \n",
      " 0   callarg__number_args           521668 non-null  int64  \n",
      " 1   callarg__named_args_pct        521668 non-null  float64\n",
      " 2   callarg__double_star_args_pct  521668 non-null  float64\n",
      "dtypes: float64(2), int64(1)\n",
      "memory usage: 15.9 MB\n",
      "None\n"
     ]
    }
   ],
   "execution_count": 3
  },
  {
   "metadata": {},
   "cell_type": "markdown",
   "source": "Cómo podemos ver la tabla está compuesta por 3 variables numéricas y 1 de tipo objeto.",
   "id": "24f7607501c2e574"
  },
  {
   "metadata": {},
   "cell_type": "markdown",
   "source": [
    "### 2.1 - Valores Nulos \n",
    "Miramos si alguna de las variables que contiene la tabla contiene algún valor que sea nulo."
   ],
   "id": "63d4e4ed1d8d2c6c"
  },
  {
   "metadata": {
    "ExecuteTime": {
     "end_time": "2024-07-04T17:26:27.541200Z",
     "start_time": "2024-07-04T17:26:27.531677Z"
    }
   },
   "cell_type": "code",
   "source": "X.isnull().sum()",
   "id": "6c991380e6e0413e",
   "outputs": [
    {
     "data": {
      "text/plain": [
       "callarg__number_args             0\n",
       "callarg__named_args_pct          0\n",
       "callarg__double_star_args_pct    0\n",
       "dtype: int64"
      ]
     },
     "execution_count": 4,
     "metadata": {},
     "output_type": "execute_result"
    }
   ],
   "execution_count": 4
  },
  {
   "metadata": {
    "ExecuteTime": {
     "end_time": "2024-07-04T17:26:27.547299Z",
     "start_time": "2024-07-04T17:26:27.542206Z"
    }
   },
   "cell_type": "code",
   "source": "print_empty_cols(X)",
   "id": "18b2dfadf1719a4b",
   "outputs": [
    {
     "name": "stdout",
     "output_type": "stream",
     "text": [
      "callarg__number_args\n",
      "--------------------\n",
      "0 instancias no tienen un valor para la columna callarg__number_args\n",
      "\n",
      "\n",
      "callarg__named_args_pct\n",
      "-----------------------\n",
      "0 instancias no tienen un valor para la columna callarg__named_args_pct\n",
      "\n",
      "\n",
      "callarg__double_star_args_pct\n",
      "-----------------------------\n",
      "0 instancias no tienen un valor para la columna callarg__double_star_args_pct\n",
      "\n",
      "\n"
     ]
    }
   ],
   "execution_count": 5
  },
  {
   "metadata": {},
   "cell_type": "markdown",
   "source": "### 2.2 - Describimos los valores de las variables de la tabla.",
   "id": "5bb94c0f81c08024"
  },
  {
   "metadata": {
    "ExecuteTime": {
     "end_time": "2024-07-04T17:26:27.604771Z",
     "start_time": "2024-07-04T17:26:27.548322Z"
    }
   },
   "cell_type": "code",
   "source": "np.transpose(X.describe(percentiles=[.25, .50, .75], include = ['object', 'float', 'bool', 'int']))",
   "id": "74bba302a29fbfd5",
   "outputs": [
    {
     "data": {
      "text/plain": [
       "                                  count      mean       std  min  25%  50%  \\\n",
       "callarg__number_args           521668.0  1.338202  1.276275  0.0  1.0  1.0   \n",
       "callarg__named_args_pct        521668.0  0.132525  0.309807  0.0  0.0  0.0   \n",
       "callarg__double_star_args_pct  521668.0  0.000692  0.017819  0.0  0.0  0.0   \n",
       "\n",
       "                               75%   max  \n",
       "callarg__number_args           2.0  96.0  \n",
       "callarg__named_args_pct        0.0   1.0  \n",
       "callarg__double_star_args_pct  0.0   1.0  "
      ],
      "text/html": [
       "<div>\n",
       "<style scoped>\n",
       "    .dataframe tbody tr th:only-of-type {\n",
       "        vertical-align: middle;\n",
       "    }\n",
       "\n",
       "    .dataframe tbody tr th {\n",
       "        vertical-align: top;\n",
       "    }\n",
       "\n",
       "    .dataframe thead th {\n",
       "        text-align: right;\n",
       "    }\n",
       "</style>\n",
       "<table border=\"1\" class=\"dataframe\">\n",
       "  <thead>\n",
       "    <tr style=\"text-align: right;\">\n",
       "      <th></th>\n",
       "      <th>count</th>\n",
       "      <th>mean</th>\n",
       "      <th>std</th>\n",
       "      <th>min</th>\n",
       "      <th>25%</th>\n",
       "      <th>50%</th>\n",
       "      <th>75%</th>\n",
       "      <th>max</th>\n",
       "    </tr>\n",
       "  </thead>\n",
       "  <tbody>\n",
       "    <tr>\n",
       "      <th>callarg__number_args</th>\n",
       "      <td>521668.0</td>\n",
       "      <td>1.338202</td>\n",
       "      <td>1.276275</td>\n",
       "      <td>0.0</td>\n",
       "      <td>1.0</td>\n",
       "      <td>1.0</td>\n",
       "      <td>2.0</td>\n",
       "      <td>96.0</td>\n",
       "    </tr>\n",
       "    <tr>\n",
       "      <th>callarg__named_args_pct</th>\n",
       "      <td>521668.0</td>\n",
       "      <td>0.132525</td>\n",
       "      <td>0.309807</td>\n",
       "      <td>0.0</td>\n",
       "      <td>0.0</td>\n",
       "      <td>0.0</td>\n",
       "      <td>0.0</td>\n",
       "      <td>1.0</td>\n",
       "    </tr>\n",
       "    <tr>\n",
       "      <th>callarg__double_star_args_pct</th>\n",
       "      <td>521668.0</td>\n",
       "      <td>0.000692</td>\n",
       "      <td>0.017819</td>\n",
       "      <td>0.0</td>\n",
       "      <td>0.0</td>\n",
       "      <td>0.0</td>\n",
       "      <td>0.0</td>\n",
       "      <td>1.0</td>\n",
       "    </tr>\n",
       "  </tbody>\n",
       "</table>\n",
       "</div>"
      ]
     },
     "execution_count": 6,
     "metadata": {},
     "output_type": "execute_result"
    }
   ],
   "execution_count": 6
  },
  {
   "metadata": {},
   "cell_type": "markdown",
   "source": "Vamos a discretizar las variables numericas, agrupando conjuntos de valores en categorias, para hacer un análisis de los datos. Para cada variable es necesaario ver la distribucion de lo valores para hacer los bins (categorias).",
   "id": "9af3eb59b924a596"
  },
  {
   "metadata": {
    "ExecuteTime": {
     "end_time": "2024-07-04T17:26:28.971416Z",
     "start_time": "2024-07-04T17:26:27.605778Z"
    }
   },
   "cell_type": "code",
   "source": [
    "# DISCRETIZATION\n",
    "X_copy = X.copy()\n",
    "\n",
    "discretized_columns = {\n",
    "    \"callarg__number_args\": [(0.0, 1.0), (1.0, 1.0), (1.0, 2.0), (2.0, inf)],  # min: 0.0 max: 96.0\n",
    "    \"callarg__named_args_pct\": [(0.0, 0.0), (0.0, inf)],  # min: 0.0 max: 1.0\n",
    "    \"callarg__double_star_args_pct\": [(0.0, 0.0), (0.0, inf)],  # min: 0.0 max: 1.0\n",
    "}\n",
    "\n",
    "discretize_columns(X_copy, discretized_columns)\n",
    "    \n",
    "# SINGLE FEATURE\n",
    "print(\"--- SINGLE FEATURE ---\")\n",
    "print(get_statistics(X_copy, ['callarg__number_args'], 10))\n",
    "print(get_statistics(X_copy, ['callarg__named_args_pct'], 10))\n",
    "print(get_statistics(X_copy, ['callarg__double_star_args_pct'], 10))\n",
    "\n",
    "\n",
    "# 2 FEATURES\n",
    "print(\"--- TWO FEATURES ---\")\n",
    "#print(get_statistics(X_copy, ['module__function_defs_pct', 'module__number_of_classes'], 10))\n",
    "\n",
    "# 3 FEATURES\n",
    "print(\"--- THREE FEATURES ---\")\n",
    "#print(get_statistics(X_copy, ['module__class_defs_pct', 'module__function_defs_pct', 'module__enum_defs_pct'], 10))"
   ],
   "id": "6baf20dd3e3ca759",
   "outputs": [
    {
     "name": "stdout",
     "output_type": "stream",
     "text": [
      "--- SINGLE FEATURE ---\n",
      "callarg__number_args  count  percentage\n",
      "           [1.0_1.0] 257562   49.372781\n",
      "           [2.0_inf] 163179   31.280240\n",
      "           [0.0_1.0) 100927   19.346979\n",
      "\n",
      "callarg__named_args_pct  count  percentage\n",
      "              [0.0_0.0] 432278   82.864581\n",
      "              [0.0_inf]  89390   17.135419\n",
      "\n",
      "callarg__double_star_args_pct  count  percentage\n",
      "                    [0.0_0.0] 520732   99.820576\n",
      "                    [0.0_inf]    936    0.179424\n",
      "\n",
      "--- TWO FEATURES ---\n",
      "--- THREE FEATURES ---\n"
     ]
    }
   ],
   "execution_count": 7
  },
  {
   "metadata": {
    "ExecuteTime": {
     "end_time": "2024-07-04T17:26:28.987022Z",
     "start_time": "2024-07-04T17:26:28.972421Z"
    }
   },
   "cell_type": "code",
   "source": [
    "def normalize_datatypes(X:pd.DataFrame) -> (pd.DataFrame, [str]):\n",
    "    X = pd.get_dummies(X)\n",
    "    X = X.astype('float32')        \n",
    "    columns_names = X.columns.tolist()\n",
    "    return X, columns_names\n",
    "\n",
    "X, TABLE_FEATURES = normalize_datatypes(X)\n",
    "# Print information about the loaded table\n",
    "print(f'Features shape: {X.shape}')"
   ],
   "id": "5084c89dcb377a92",
   "outputs": [
    {
     "name": "stdout",
     "output_type": "stream",
     "text": [
      "Features shape: (521668, 3)\n"
     ]
    }
   ],
   "execution_count": 8
  },
  {
   "metadata": {},
   "cell_type": "markdown",
   "source": "#### Muestra la matriz de correlación de Spearman entre las variables de la tabla.",
   "id": "ed8befe21328a079"
  },
  {
   "metadata": {
    "ExecuteTime": {
     "end_time": "2024-07-04T17:26:29.258344Z",
     "start_time": "2024-07-04T17:26:28.988027Z"
    }
   },
   "cell_type": "code",
   "source": "sns.heatmap(X.corr(method='spearman'), annot=True)",
   "id": "dea960d18d682104",
   "outputs": [
    {
     "data": {
      "text/plain": [
       "<Axes: >"
      ]
     },
     "execution_count": 9,
     "metadata": {},
     "output_type": "execute_result"
    },
    {
     "data": {
      "text/plain": [
       "<Figure size 640x480 with 2 Axes>"
      ],
      "image/png": "[encoded data removed]"
     },
     "metadata": {},
     "output_type": "display_data"
    }
   ],
   "execution_count": 9
  },
  {
   "metadata": {},
   "cell_type": "markdown",
   "source": [
    "## 3 - Detección de valores atípicos (outliers)\n",
    "## Univariate\n",
    "## Analisis detallado de variables\n",
    "Para cada una de las 3 variables (1 numerica y 2 porcentuales) se hara un analisis detallado"
   ],
   "id": "599c97eec7b7d283"
  },
  {
   "metadata": {},
   "cell_type": "markdown",
   "source": [
    "### Variable number_args (1/3)\n",
    "Esta variable representa el número de argumentos de la llamada. Como vimos en la descripción de la tabla esta varibale adopta valores en el rango 0 - 96. Con una media de 1.33."
   ],
   "id": "119fc307a9194a96"
  },
  {
   "metadata": {
    "ExecuteTime": {
     "end_time": "2024-07-04T17:26:30.654965Z",
     "start_time": "2024-07-04T17:26:29.258344Z"
    }
   },
   "cell_type": "code",
   "source": "sns.stripplot(X['callarg__number_args'])",
   "id": "5efd7fbb4f34563d",
   "outputs": [
    {
     "data": {
      "text/plain": [
       "<Axes: ylabel='callarg__number_args'>"
      ]
     },
     "execution_count": 10,
     "metadata": {},
     "output_type": "execute_result"
    },
    {
     "data": {
      "text/plain": [
       "<Figure size 640x480 with 1 Axes>"
      ],
      "image/png": "[encoded data removed]"
     },
     "metadata": {},
     "output_type": "display_data"
    }
   ],
   "execution_count": 10
  },
  {
   "metadata": {},
   "cell_type": "markdown",
   "source": [
    "### IMPORTANTE\n",
    "El valor máximo está muy alejado del siguiente."
   ],
   "id": "b1d61ef4e8429a11"
  },
  {
   "metadata": {
    "ExecuteTime": {
     "end_time": "2024-07-04T17:26:30.679217Z",
     "start_time": "2024-07-04T17:26:30.655972Z"
    }
   },
   "cell_type": "code",
   "source": "print_outliers_for_df_column(X, 'callarg__number_args')",
   "id": "e5649a2923239004",
   "outputs": [
    {
     "name": "stdout",
     "output_type": "stream",
     "text": [
      "El coeficiente MC (Medcouple Coefficient) de balanceo es: 0.9435999886444266\n",
      "Rango valores atípicos extremos (Tukey): [-2.0,5.0]\n",
      "Rango valores atípicos leves (Tukey): [-0.5,3.5]\n",
      "Rango valores atípicos extremos (Fixed BoxPlot): [0.9448189042221601,67.357033516408]\n",
      "-3.0IQR: 0 instancias tienen un valor para callarg__number_args inferior a -2.0 (Q1-3*IQR) para callarg__number_args. Representando un 0.0% del total de instancias.\n",
      "-1.5IQR: 0 instancias tienen un valor para callarg__number_args inferior a -0.5 (Q1-1.5*IQR) para callarg__number_args. Representando un 0.0% del total de instancias.\n",
      "+1.5IQR: 25679 instancias tienen un valor para callarg__number_args superior a 3.5 (Q3+1.5*IQR) para callarg__number_args. Representando un 4.922% del total de instancias.\n",
      "+3.0IQR: 6853 instancias tienen un valor para callarg__number_args superior a 5.0 (Q3-3*IQR) para callarg__number_args. Representando un 1.314% del total de instancias.\n",
      "L: 100927 instancias tienen un valor para callarg__number_args inferior a 0.9448189042221601 para callarg__number_args. Representando un 19.35% del total de instancias.\n",
      "U: 1 instancias tienen un valor para callarg__number_args superior a 67.357033516408 para callarg__number_args. Representando un 0.0001917% del total de instancias.\n"
     ]
    }
   ],
   "execution_count": 11
  },
  {
   "metadata": {},
   "cell_type": "markdown",
   "source": "Describimos los valores de las variables de la tabla, cuando el valor de la variable es mayor que 5.0 (Con un MC de 91 usamos Tuckey Extremo)",
   "id": "317a14bd28eb55f4"
  },
  {
   "metadata": {
    "ExecuteTime": {
     "end_time": "2024-07-04T17:26:30.693900Z",
     "start_time": "2024-07-04T17:26:30.680222Z"
    }
   },
   "cell_type": "code",
   "source": "X[X['callarg__number_args'] > 5.0].describe(percentiles=[.25, .50, .75], include = ['object', 'float', 'bool', 'int'])",
   "id": "5c5e0e6eb4cd173",
   "outputs": [
    {
     "data": {
      "text/plain": [
       "       callarg__number_args  callarg__named_args_pct  \\\n",
       "count           6853.000000              6853.000000   \n",
       "mean               7.638844                 0.646921   \n",
       "std                3.006345                 0.399059   \n",
       "min                6.000000                 0.000000   \n",
       "25%                6.000000                 0.222222   \n",
       "50%                7.000000                 0.833333   \n",
       "75%                8.000000                 1.000000   \n",
       "max               96.000000                 1.000000   \n",
       "\n",
       "       callarg__double_star_args_pct  \n",
       "count                    6853.000000  \n",
       "mean                        0.001161  \n",
       "std                         0.016980  \n",
       "min                         0.000000  \n",
       "25%                         0.000000  \n",
       "50%                         0.000000  \n",
       "75%                         0.000000  \n",
       "max                         0.853659  "
      ],
      "text/html": [
       "<div>\n",
       "<style scoped>\n",
       "    .dataframe tbody tr th:only-of-type {\n",
       "        vertical-align: middle;\n",
       "    }\n",
       "\n",
       "    .dataframe tbody tr th {\n",
       "        vertical-align: top;\n",
       "    }\n",
       "\n",
       "    .dataframe thead th {\n",
       "        text-align: right;\n",
       "    }\n",
       "</style>\n",
       "<table border=\"1\" class=\"dataframe\">\n",
       "  <thead>\n",
       "    <tr style=\"text-align: right;\">\n",
       "      <th></th>\n",
       "      <th>callarg__number_args</th>\n",
       "      <th>callarg__named_args_pct</th>\n",
       "      <th>callarg__double_star_args_pct</th>\n",
       "    </tr>\n",
       "  </thead>\n",
       "  <tbody>\n",
       "    <tr>\n",
       "      <th>count</th>\n",
       "      <td>6853.000000</td>\n",
       "      <td>6853.000000</td>\n",
       "      <td>6853.000000</td>\n",
       "    </tr>\n",
       "    <tr>\n",
       "      <th>mean</th>\n",
       "      <td>7.638844</td>\n",
       "      <td>0.646921</td>\n",
       "      <td>0.001161</td>\n",
       "    </tr>\n",
       "    <tr>\n",
       "      <th>std</th>\n",
       "      <td>3.006345</td>\n",
       "      <td>0.399059</td>\n",
       "      <td>0.016980</td>\n",
       "    </tr>\n",
       "    <tr>\n",
       "      <th>min</th>\n",
       "      <td>6.000000</td>\n",
       "      <td>0.000000</td>\n",
       "      <td>0.000000</td>\n",
       "    </tr>\n",
       "    <tr>\n",
       "      <th>25%</th>\n",
       "      <td>6.000000</td>\n",
       "      <td>0.222222</td>\n",
       "      <td>0.000000</td>\n",
       "    </tr>\n",
       "    <tr>\n",
       "      <th>50%</th>\n",
       "      <td>7.000000</td>\n",
       "      <td>0.833333</td>\n",
       "      <td>0.000000</td>\n",
       "    </tr>\n",
       "    <tr>\n",
       "      <th>75%</th>\n",
       "      <td>8.000000</td>\n",
       "      <td>1.000000</td>\n",
       "      <td>0.000000</td>\n",
       "    </tr>\n",
       "    <tr>\n",
       "      <th>max</th>\n",
       "      <td>96.000000</td>\n",
       "      <td>1.000000</td>\n",
       "      <td>0.853659</td>\n",
       "    </tr>\n",
       "  </tbody>\n",
       "</table>\n",
       "</div>"
      ]
     },
     "execution_count": 12,
     "metadata": {},
     "output_type": "execute_result"
    }
   ],
   "execution_count": 12
  },
  {
   "metadata": {},
   "cell_type": "markdown",
   "source": [
    "### IMPORTANTE\n",
    "Hay que revisar el valor extremo"
   ],
   "id": "4cd275e58979f61d"
  },
  {
   "metadata": {},
   "cell_type": "markdown",
   "source": [
    "### Variable named_args_pct (2/3)\n",
    "Esta variable representa la proporción de los args que son pasados por nombre. Toma los valores de 0.0 - 1.0. La media es 0.13."
   ],
   "id": "5c0a373fffec0b53"
  },
  {
   "metadata": {
    "ExecuteTime": {
     "end_time": "2024-07-04T17:26:31.268605Z",
     "start_time": "2024-07-04T17:26:30.694904Z"
    }
   },
   "cell_type": "code",
   "source": "sns.displot(X['callarg__named_args_pct'], bins=[i / 100 for i in range(0, 101)])",
   "id": "9ac5d2538d99ac6a",
   "outputs": [
    {
     "data": {
      "text/plain": [
       "<seaborn.axisgrid.FacetGrid at 0x24cb19bf1d0>"
      ]
     },
     "execution_count": 13,
     "metadata": {},
     "output_type": "execute_result"
    },
    {
     "data": {
      "text/plain": [
       "<Figure size 500x500 with 1 Axes>"
      ],
      "image/png": "[encoded data removed]"
     },
     "metadata": {},
     "output_type": "display_data"
    }
   ],
   "execution_count": 13
  },
  {
   "metadata": {
    "ExecuteTime": {
     "end_time": "2024-07-04T17:26:31.295991Z",
     "start_time": "2024-07-04T17:26:31.270622Z"
    }
   },
   "cell_type": "code",
   "source": "print_outliers_for_df_column(X, 'callarg__named_args_pct')",
   "id": "4a7a46358e270bf6",
   "outputs": [
    {
     "name": "stdout",
     "output_type": "stream",
     "text": [
      "El coeficiente MC (Medcouple Coefficient) de balanceo es: 0.7198548320116742\n",
      "Rango valores atípicos extremos (Tukey): [0.0,0.0]\n",
      "Rango valores atípicos leves (Tukey): [0.0,0.0]\n",
      "Rango valores atípicos extremos (Fixed BoxPlot): [0.0,0.0]\n",
      "-3.0IQR: 0 instancias tienen un valor para callarg__named_args_pct inferior a 0.0 (Q1-3*IQR) para callarg__named_args_pct. Representando un 0.0% del total de instancias.\n",
      "-1.5IQR: 0 instancias tienen un valor para callarg__named_args_pct inferior a 0.0 (Q1-1.5*IQR) para callarg__named_args_pct. Representando un 0.0% del total de instancias.\n",
      "+1.5IQR: 89390 instancias tienen un valor para callarg__named_args_pct superior a 0.0 (Q3+1.5*IQR) para callarg__named_args_pct. Representando un 17.14% del total de instancias.\n",
      "+3.0IQR: 89390 instancias tienen un valor para callarg__named_args_pct superior a 0.0 (Q3-3*IQR) para callarg__named_args_pct. Representando un 17.14% del total de instancias.\n",
      "L: 0 instancias tienen un valor para callarg__named_args_pct inferior a 0.0 para callarg__named_args_pct. Representando un 0.0% del total de instancias.\n",
      "U: 89390 instancias tienen un valor para callarg__named_args_pct superior a 0.0 para callarg__named_args_pct. Representando un 17.14% del total de instancias.\n"
     ]
    }
   ],
   "execution_count": 14
  },
  {
   "metadata": {},
   "cell_type": "markdown",
   "source": "Describimos los valores de las variables de la tabla, cuando el valor de la variable es mayor que 0 (Todos los umbrales son 0)",
   "id": "6de0e5a1a14f02b4"
  },
  {
   "metadata": {
    "ExecuteTime": {
     "end_time": "2024-07-04T17:26:31.316584Z",
     "start_time": "2024-07-04T17:26:31.296994Z"
    }
   },
   "cell_type": "code",
   "source": "X[X['callarg__named_args_pct'] > 0].describe(percentiles=[.25, .50, .75], include = ['object', 'float', 'bool', 'int'])",
   "id": "65828604e885a75",
   "outputs": [
    {
     "data": {
      "text/plain": [
       "       callarg__number_args  callarg__named_args_pct  \\\n",
       "count          89390.000000             89390.000000   \n",
       "mean               2.671026                 0.773397   \n",
       "std                1.844268                 0.253929   \n",
       "min                1.000000                 0.041667   \n",
       "25%                2.000000                 0.500000   \n",
       "50%                2.000000                 1.000000   \n",
       "75%                3.000000                 1.000000   \n",
       "max               96.000000                 1.000000   \n",
       "\n",
       "       callarg__double_star_args_pct  \n",
       "count                   89390.000000  \n",
       "mean                        0.003537  \n",
       "std                         0.040327  \n",
       "min                         0.000000  \n",
       "25%                         0.000000  \n",
       "50%                         0.000000  \n",
       "75%                         0.000000  \n",
       "max                         1.000000  "
      ],
      "text/html": [
       "<div>\n",
       "<style scoped>\n",
       "    .dataframe tbody tr th:only-of-type {\n",
       "        vertical-align: middle;\n",
       "    }\n",
       "\n",
       "    .dataframe tbody tr th {\n",
       "        vertical-align: top;\n",
       "    }\n",
       "\n",
       "    .dataframe thead th {\n",
       "        text-align: right;\n",
       "    }\n",
       "</style>\n",
       "<table border=\"1\" class=\"dataframe\">\n",
       "  <thead>\n",
       "    <tr style=\"text-align: right;\">\n",
       "      <th></th>\n",
       "      <th>callarg__number_args</th>\n",
       "      <th>callarg__named_args_pct</th>\n",
       "      <th>callarg__double_star_args_pct</th>\n",
       "    </tr>\n",
       "  </thead>\n",
       "  <tbody>\n",
       "    <tr>\n",
       "      <th>count</th>\n",
       "      <td>89390.000000</td>\n",
       "      <td>89390.000000</td>\n",
       "      <td>89390.000000</td>\n",
       "    </tr>\n",
       "    <tr>\n",
       "      <th>mean</th>\n",
       "      <td>2.671026</td>\n",
       "      <td>0.773397</td>\n",
       "      <td>0.003537</td>\n",
       "    </tr>\n",
       "    <tr>\n",
       "      <th>std</th>\n",
       "      <td>1.844268</td>\n",
       "      <td>0.253929</td>\n",
       "      <td>0.040327</td>\n",
       "    </tr>\n",
       "    <tr>\n",
       "      <th>min</th>\n",
       "      <td>1.000000</td>\n",
       "      <td>0.041667</td>\n",
       "      <td>0.000000</td>\n",
       "    </tr>\n",
       "    <tr>\n",
       "      <th>25%</th>\n",
       "      <td>2.000000</td>\n",
       "      <td>0.500000</td>\n",
       "      <td>0.000000</td>\n",
       "    </tr>\n",
       "    <tr>\n",
       "      <th>50%</th>\n",
       "      <td>2.000000</td>\n",
       "      <td>1.000000</td>\n",
       "      <td>0.000000</td>\n",
       "    </tr>\n",
       "    <tr>\n",
       "      <th>75%</th>\n",
       "      <td>3.000000</td>\n",
       "      <td>1.000000</td>\n",
       "      <td>0.000000</td>\n",
       "    </tr>\n",
       "    <tr>\n",
       "      <th>max</th>\n",
       "      <td>96.000000</td>\n",
       "      <td>1.000000</td>\n",
       "      <td>1.000000</td>\n",
       "    </tr>\n",
       "  </tbody>\n",
       "</table>\n",
       "</div>"
      ]
     },
     "execution_count": 15,
     "metadata": {},
     "output_type": "execute_result"
    }
   ],
   "execution_count": 15
  },
  {
   "metadata": {},
   "cell_type": "markdown",
   "source": [
    "### IMPORTANTE\n",
    "Casi el 82% no tienen argumentos pasados por nombre"
   ],
   "id": "4d4eaaf2ed45b4c8"
  },
  {
   "metadata": {},
   "cell_type": "markdown",
   "source": [
    "### Variable double_star_args_pct (3/3)\n",
    "Esta variable representa la proporción de args que son double star (**). Toma los valores de 0.0 - 1.0."
   ],
   "id": "a8d2d3dbd02dcea0"
  },
  {
   "metadata": {
    "ExecuteTime": {
     "end_time": "2024-07-04T17:26:31.943740Z",
     "start_time": "2024-07-04T17:26:31.317589Z"
    }
   },
   "cell_type": "code",
   "source": "sns.displot(X['callarg__double_star_args_pct'], bins=[i / 100 for i in range(0, 101)])",
   "id": "4d1da3a369eb0be6",
   "outputs": [
    {
     "data": {
      "text/plain": [
       "<seaborn.axisgrid.FacetGrid at 0x24cacac6b10>"
      ]
     },
     "execution_count": 16,
     "metadata": {},
     "output_type": "execute_result"
    },
    {
     "data": {
      "text/plain": [
       "<Figure size 500x500 with 1 Axes>"
      ],
      "image/png": "[encoded data removed]"
     },
     "metadata": {},
     "output_type": "display_data"
    }
   ],
   "execution_count": 16
  },
  {
   "metadata": {
    "ExecuteTime": {
     "end_time": "2024-07-04T17:26:31.962882Z",
     "start_time": "2024-07-04T17:26:31.944744Z"
    }
   },
   "cell_type": "code",
   "source": "print_outliers_for_df_column(X, 'callarg__double_star_args_pct')",
   "id": "5ac40e081482327",
   "outputs": [
    {
     "name": "stdout",
     "output_type": "stream",
     "text": [
      "El coeficiente MC (Medcouple Coefficient) de balanceo es: 0.9802446297838523\n",
      "Rango valores atípicos extremos (Tukey): [0.0,0.0]\n",
      "Rango valores atípicos leves (Tukey): [0.0,0.0]\n",
      "Rango valores atípicos extremos (Fixed BoxPlot): [0.0,0.0]\n",
      "-3.0IQR: 0 instancias tienen un valor para callarg__double_star_args_pct inferior a 0.0 (Q1-3*IQR) para callarg__double_star_args_pct. Representando un 0.0% del total de instancias.\n",
      "-1.5IQR: 0 instancias tienen un valor para callarg__double_star_args_pct inferior a 0.0 (Q1-1.5*IQR) para callarg__double_star_args_pct. Representando un 0.0% del total de instancias.\n",
      "+1.5IQR: 936 instancias tienen un valor para callarg__double_star_args_pct superior a 0.0 (Q3+1.5*IQR) para callarg__double_star_args_pct. Representando un 0.1794% del total de instancias.\n",
      "+3.0IQR: 936 instancias tienen un valor para callarg__double_star_args_pct superior a 0.0 (Q3-3*IQR) para callarg__double_star_args_pct. Representando un 0.1794% del total de instancias.\n",
      "L: 0 instancias tienen un valor para callarg__double_star_args_pct inferior a 0.0 para callarg__double_star_args_pct. Representando un 0.0% del total de instancias.\n",
      "U: 936 instancias tienen un valor para callarg__double_star_args_pct superior a 0.0 para callarg__double_star_args_pct. Representando un 0.1794% del total de instancias.\n"
     ]
    }
   ],
   "execution_count": 17
  },
  {
   "metadata": {},
   "cell_type": "markdown",
   "source": "Describimos los valores de las variables de la tabla, cuando el valor de la variable es mayor que 0 (Todos los umbrales son 0)",
   "id": "712bed4abbf4eade"
  },
  {
   "metadata": {
    "ExecuteTime": {
     "end_time": "2024-07-04T17:26:31.975409Z",
     "start_time": "2024-07-04T17:26:31.963887Z"
    }
   },
   "cell_type": "code",
   "source": "X[X['callarg__double_star_args_pct'] > 0.0].describe(percentiles=[.25, .50, .75], include = ['object', 'float', 'bool', 'int'])",
   "id": "7eed776af9068518",
   "outputs": [
    {
     "data": {
      "text/plain": [
       "       callarg__number_args  callarg__named_args_pct  \\\n",
       "count            936.000000               936.000000   \n",
       "mean               3.096154                 0.548056   \n",
       "std                1.982638                 0.351756   \n",
       "min                1.000000                 0.000000   \n",
       "25%                3.000000                 0.333333   \n",
       "50%                3.000000                 0.333333   \n",
       "75%                3.000000                 1.000000   \n",
       "max               41.000000                 1.000000   \n",
       "\n",
       "       callarg__double_star_args_pct  \n",
       "count                     936.000000  \n",
       "mean                        0.385511  \n",
       "std                         0.169217  \n",
       "min                         0.047619  \n",
       "25%                         0.333333  \n",
       "50%                         0.333333  \n",
       "75%                         0.333333  \n",
       "max                         1.000000  "
      ],
      "text/html": [
       "<div>\n",
       "<style scoped>\n",
       "    .dataframe tbody tr th:only-of-type {\n",
       "        vertical-align: middle;\n",
       "    }\n",
       "\n",
       "    .dataframe tbody tr th {\n",
       "        vertical-align: top;\n",
       "    }\n",
       "\n",
       "    .dataframe thead th {\n",
       "        text-align: right;\n",
       "    }\n",
       "</style>\n",
       "<table border=\"1\" class=\"dataframe\">\n",
       "  <thead>\n",
       "    <tr style=\"text-align: right;\">\n",
       "      <th></th>\n",
       "      <th>callarg__number_args</th>\n",
       "      <th>callarg__named_args_pct</th>\n",
       "      <th>callarg__double_star_args_pct</th>\n",
       "    </tr>\n",
       "  </thead>\n",
       "  <tbody>\n",
       "    <tr>\n",
       "      <th>count</th>\n",
       "      <td>936.000000</td>\n",
       "      <td>936.000000</td>\n",
       "      <td>936.000000</td>\n",
       "    </tr>\n",
       "    <tr>\n",
       "      <th>mean</th>\n",
       "      <td>3.096154</td>\n",
       "      <td>0.548056</td>\n",
       "      <td>0.385511</td>\n",
       "    </tr>\n",
       "    <tr>\n",
       "      <th>std</th>\n",
       "      <td>1.982638</td>\n",
       "      <td>0.351756</td>\n",
       "      <td>0.169217</td>\n",
       "    </tr>\n",
       "    <tr>\n",
       "      <th>min</th>\n",
       "      <td>1.000000</td>\n",
       "      <td>0.000000</td>\n",
       "      <td>0.047619</td>\n",
       "    </tr>\n",
       "    <tr>\n",
       "      <th>25%</th>\n",
       "      <td>3.000000</td>\n",
       "      <td>0.333333</td>\n",
       "      <td>0.333333</td>\n",
       "    </tr>\n",
       "    <tr>\n",
       "      <th>50%</th>\n",
       "      <td>3.000000</td>\n",
       "      <td>0.333333</td>\n",
       "      <td>0.333333</td>\n",
       "    </tr>\n",
       "    <tr>\n",
       "      <th>75%</th>\n",
       "      <td>3.000000</td>\n",
       "      <td>1.000000</td>\n",
       "      <td>0.333333</td>\n",
       "    </tr>\n",
       "    <tr>\n",
       "      <th>max</th>\n",
       "      <td>41.000000</td>\n",
       "      <td>1.000000</td>\n",
       "      <td>1.000000</td>\n",
       "    </tr>\n",
       "  </tbody>\n",
       "</table>\n",
       "</div>"
      ]
     },
     "execution_count": 18,
     "metadata": {},
     "output_type": "execute_result"
    }
   ],
   "execution_count": 18
  },
  {
   "metadata": {},
   "cell_type": "markdown",
   "source": [
    "### IMPORTANTE\n",
    "El 99,8% no usan double star"
   ],
   "id": "eb68282d17d00ba3"
  },
  {
   "metadata": {},
   "cell_type": "markdown",
   "source": [
    "## Multivariate\n",
    "\n",
    "Isolation forest algorithm"
   ],
   "id": "b59a3c0f15f73897"
  },
  {
   "metadata": {
    "ExecuteTime": {
     "end_time": "2024-07-04T17:26:36.046002Z",
     "start_time": "2024-07-04T17:26:31.976415Z"
    }
   },
   "cell_type": "code",
   "source": [
    "from sklearn.ensemble import  IsolationForest\n",
    "\n",
    "CONTAMINATION_FACTOR = 0.0012\n",
    "isof_model = IsolationForest(contamination=CONTAMINATION_FACTOR, random_state=0)\n",
    "isof_prediction = isof_model.fit_predict(X.values)\n",
    "mask = isof_prediction == -1\n",
    "full_table.loc[X.index[mask]]"
   ],
   "id": "834121481cf34dd2",
   "outputs": [
    {
     "data": {
      "text/plain": [
       "        callarg__number_args  callarg__named_args_pct  \\\n",
       "340729                    12                 1.000000   \n",
       "341745                    14                 1.000000   \n",
       "341756                    45                 1.000000   \n",
       "341939                    14                 1.000000   \n",
       "344324                    12                 1.000000   \n",
       "...                      ...                      ...   \n",
       "859512                    16                 0.000000   \n",
       "859513                    16                 0.000000   \n",
       "859568                    10                 0.100000   \n",
       "859569                    12                 0.083333   \n",
       "860263                    18                 1.000000   \n",
       "\n",
       "        callarg__double_star_args_pct callarg__expertise_level  \n",
       "340729                            0.0                   EXPERT  \n",
       "341745                            0.0                   EXPERT  \n",
       "341756                            0.0                   EXPERT  \n",
       "341939                            0.0                   EXPERT  \n",
       "344324                            0.0                   EXPERT  \n",
       "...                               ...                      ...  \n",
       "859512                            0.0                   EXPERT  \n",
       "859513                            0.0                   EXPERT  \n",
       "859568                            0.0                   EXPERT  \n",
       "859569                            0.0                   EXPERT  \n",
       "860263                            0.0                   EXPERT  \n",
       "\n",
       "[569 rows x 4 columns]"
      ],
      "text/html": [
       "<div>\n",
       "<style scoped>\n",
       "    .dataframe tbody tr th:only-of-type {\n",
       "        vertical-align: middle;\n",
       "    }\n",
       "\n",
       "    .dataframe tbody tr th {\n",
       "        vertical-align: top;\n",
       "    }\n",
       "\n",
       "    .dataframe thead th {\n",
       "        text-align: right;\n",
       "    }\n",
       "</style>\n",
       "<table border=\"1\" class=\"dataframe\">\n",
       "  <thead>\n",
       "    <tr style=\"text-align: right;\">\n",
       "      <th></th>\n",
       "      <th>callarg__number_args</th>\n",
       "      <th>callarg__named_args_pct</th>\n",
       "      <th>callarg__double_star_args_pct</th>\n",
       "      <th>callarg__expertise_level</th>\n",
       "    </tr>\n",
       "  </thead>\n",
       "  <tbody>\n",
       "    <tr>\n",
       "      <th>340729</th>\n",
       "      <td>12</td>\n",
       "      <td>1.000000</td>\n",
       "      <td>0.0</td>\n",
       "      <td>EXPERT</td>\n",
       "    </tr>\n",
       "    <tr>\n",
       "      <th>341745</th>\n",
       "      <td>14</td>\n",
       "      <td>1.000000</td>\n",
       "      <td>0.0</td>\n",
       "      <td>EXPERT</td>\n",
       "    </tr>\n",
       "    <tr>\n",
       "      <th>341756</th>\n",
       "      <td>45</td>\n",
       "      <td>1.000000</td>\n",
       "      <td>0.0</td>\n",
       "      <td>EXPERT</td>\n",
       "    </tr>\n",
       "    <tr>\n",
       "      <th>341939</th>\n",
       "      <td>14</td>\n",
       "      <td>1.000000</td>\n",
       "      <td>0.0</td>\n",
       "      <td>EXPERT</td>\n",
       "    </tr>\n",
       "    <tr>\n",
       "      <th>344324</th>\n",
       "      <td>12</td>\n",
       "      <td>1.000000</td>\n",
       "      <td>0.0</td>\n",
       "      <td>EXPERT</td>\n",
       "    </tr>\n",
       "    <tr>\n",
       "      <th>...</th>\n",
       "      <td>...</td>\n",
       "      <td>...</td>\n",
       "      <td>...</td>\n",
       "      <td>...</td>\n",
       "    </tr>\n",
       "    <tr>\n",
       "      <th>859512</th>\n",
       "      <td>16</td>\n",
       "      <td>0.000000</td>\n",
       "      <td>0.0</td>\n",
       "      <td>EXPERT</td>\n",
       "    </tr>\n",
       "    <tr>\n",
       "      <th>859513</th>\n",
       "      <td>16</td>\n",
       "      <td>0.000000</td>\n",
       "      <td>0.0</td>\n",
       "      <td>EXPERT</td>\n",
       "    </tr>\n",
       "    <tr>\n",
       "      <th>859568</th>\n",
       "      <td>10</td>\n",
       "      <td>0.100000</td>\n",
       "      <td>0.0</td>\n",
       "      <td>EXPERT</td>\n",
       "    </tr>\n",
       "    <tr>\n",
       "      <th>859569</th>\n",
       "      <td>12</td>\n",
       "      <td>0.083333</td>\n",
       "      <td>0.0</td>\n",
       "      <td>EXPERT</td>\n",
       "    </tr>\n",
       "    <tr>\n",
       "      <th>860263</th>\n",
       "      <td>18</td>\n",
       "      <td>1.000000</td>\n",
       "      <td>0.0</td>\n",
       "      <td>EXPERT</td>\n",
       "    </tr>\n",
       "  </tbody>\n",
       "</table>\n",
       "<p>569 rows × 4 columns</p>\n",
       "</div>"
      ]
     },
     "execution_count": 19,
     "metadata": {},
     "output_type": "execute_result"
    }
   ],
   "execution_count": 19
  },
  {
   "metadata": {},
   "cell_type": "markdown",
   "source": [
    "### IMPORTANTE\n",
    "Revisar los outliers"
   ],
   "id": "e87f7079183f7b0"
  },
  {
   "metadata": {
    "ExecuteTime": {
     "end_time": "2024-07-04T17:26:36.061411Z",
     "start_time": "2024-07-04T17:26:36.047009Z"
    }
   },
   "cell_type": "code",
   "source": [
    "# Outliers\n",
    "np.transpose(X[mask].describe(percentiles=[.25, .50, .75], include = ['object', 'float', 'bool', 'int']))"
   ],
   "id": "51c99a4304817bfe",
   "outputs": [
    {
     "data": {
      "text/plain": [
       "                               count       mean       std  min        25%  \\\n",
       "callarg__number_args           569.0  14.697716  5.773910  7.0  12.000000   \n",
       "callarg__named_args_pct        569.0   0.741752  0.387304  0.0   0.428571   \n",
       "callarg__double_star_args_pct  569.0   0.006784  0.045943  0.0   0.000000   \n",
       "\n",
       "                                     50%   75%        max  \n",
       "callarg__number_args           13.000000  16.0  96.000000  \n",
       "callarg__named_args_pct         0.954545   1.0   1.000000  \n",
       "callarg__double_star_args_pct   0.000000   0.0   0.853659  "
      ],
      "text/html": [
       "<div>\n",
       "<style scoped>\n",
       "    .dataframe tbody tr th:only-of-type {\n",
       "        vertical-align: middle;\n",
       "    }\n",
       "\n",
       "    .dataframe tbody tr th {\n",
       "        vertical-align: top;\n",
       "    }\n",
       "\n",
       "    .dataframe thead th {\n",
       "        text-align: right;\n",
       "    }\n",
       "</style>\n",
       "<table border=\"1\" class=\"dataframe\">\n",
       "  <thead>\n",
       "    <tr style=\"text-align: right;\">\n",
       "      <th></th>\n",
       "      <th>count</th>\n",
       "      <th>mean</th>\n",
       "      <th>std</th>\n",
       "      <th>min</th>\n",
       "      <th>25%</th>\n",
       "      <th>50%</th>\n",
       "      <th>75%</th>\n",
       "      <th>max</th>\n",
       "    </tr>\n",
       "  </thead>\n",
       "  <tbody>\n",
       "    <tr>\n",
       "      <th>callarg__number_args</th>\n",
       "      <td>569.0</td>\n",
       "      <td>14.697716</td>\n",
       "      <td>5.773910</td>\n",
       "      <td>7.0</td>\n",
       "      <td>12.000000</td>\n",
       "      <td>13.000000</td>\n",
       "      <td>16.0</td>\n",
       "      <td>96.000000</td>\n",
       "    </tr>\n",
       "    <tr>\n",
       "      <th>callarg__named_args_pct</th>\n",
       "      <td>569.0</td>\n",
       "      <td>0.741752</td>\n",
       "      <td>0.387304</td>\n",
       "      <td>0.0</td>\n",
       "      <td>0.428571</td>\n",
       "      <td>0.954545</td>\n",
       "      <td>1.0</td>\n",
       "      <td>1.000000</td>\n",
       "    </tr>\n",
       "    <tr>\n",
       "      <th>callarg__double_star_args_pct</th>\n",
       "      <td>569.0</td>\n",
       "      <td>0.006784</td>\n",
       "      <td>0.045943</td>\n",
       "      <td>0.0</td>\n",
       "      <td>0.000000</td>\n",
       "      <td>0.000000</td>\n",
       "      <td>0.0</td>\n",
       "      <td>0.853659</td>\n",
       "    </tr>\n",
       "  </tbody>\n",
       "</table>\n",
       "</div>"
      ]
     },
     "execution_count": 20,
     "metadata": {},
     "output_type": "execute_result"
    }
   ],
   "execution_count": 20
  },
  {
   "metadata": {
    "ExecuteTime": {
     "end_time": "2024-07-04T17:26:36.120414Z",
     "start_time": "2024-07-04T17:26:36.062416Z"
    }
   },
   "cell_type": "code",
   "source": [
    "# Non-Outliers\n",
    "np.transpose(X[~mask].describe(percentiles=[.25, .50, .75], include = ['object', 'float', 'bool', 'int']))"
   ],
   "id": "67e04ccf9a6200bb",
   "outputs": [
    {
     "data": {
      "text/plain": [
       "                                  count      mean       std  min  25%  50%  \\\n",
       "callarg__number_args           521099.0  1.323614  1.182888  0.0  1.0  1.0   \n",
       "callarg__named_args_pct        521099.0  0.131859  0.309057  0.0  0.0  0.0   \n",
       "callarg__double_star_args_pct  521099.0  0.000685  0.017763  0.0  0.0  0.0   \n",
       "\n",
       "                               75%   max  \n",
       "callarg__number_args           2.0  43.0  \n",
       "callarg__named_args_pct        0.0   1.0  \n",
       "callarg__double_star_args_pct  0.0   1.0  "
      ],
      "text/html": [
       "<div>\n",
       "<style scoped>\n",
       "    .dataframe tbody tr th:only-of-type {\n",
       "        vertical-align: middle;\n",
       "    }\n",
       "\n",
       "    .dataframe tbody tr th {\n",
       "        vertical-align: top;\n",
       "    }\n",
       "\n",
       "    .dataframe thead th {\n",
       "        text-align: right;\n",
       "    }\n",
       "</style>\n",
       "<table border=\"1\" class=\"dataframe\">\n",
       "  <thead>\n",
       "    <tr style=\"text-align: right;\">\n",
       "      <th></th>\n",
       "      <th>count</th>\n",
       "      <th>mean</th>\n",
       "      <th>std</th>\n",
       "      <th>min</th>\n",
       "      <th>25%</th>\n",
       "      <th>50%</th>\n",
       "      <th>75%</th>\n",
       "      <th>max</th>\n",
       "    </tr>\n",
       "  </thead>\n",
       "  <tbody>\n",
       "    <tr>\n",
       "      <th>callarg__number_args</th>\n",
       "      <td>521099.0</td>\n",
       "      <td>1.323614</td>\n",
       "      <td>1.182888</td>\n",
       "      <td>0.0</td>\n",
       "      <td>1.0</td>\n",
       "      <td>1.0</td>\n",
       "      <td>2.0</td>\n",
       "      <td>43.0</td>\n",
       "    </tr>\n",
       "    <tr>\n",
       "      <th>callarg__named_args_pct</th>\n",
       "      <td>521099.0</td>\n",
       "      <td>0.131859</td>\n",
       "      <td>0.309057</td>\n",
       "      <td>0.0</td>\n",
       "      <td>0.0</td>\n",
       "      <td>0.0</td>\n",
       "      <td>0.0</td>\n",
       "      <td>1.0</td>\n",
       "    </tr>\n",
       "    <tr>\n",
       "      <th>callarg__double_star_args_pct</th>\n",
       "      <td>521099.0</td>\n",
       "      <td>0.000685</td>\n",
       "      <td>0.017763</td>\n",
       "      <td>0.0</td>\n",
       "      <td>0.0</td>\n",
       "      <td>0.0</td>\n",
       "      <td>0.0</td>\n",
       "      <td>1.0</td>\n",
       "    </tr>\n",
       "  </tbody>\n",
       "</table>\n",
       "</div>"
      ]
     },
     "execution_count": 21,
     "metadata": {},
     "output_type": "execute_result"
    }
   ],
   "execution_count": 21
  }
 ],
 "metadata": {
  "kernelspec": {
   "display_name": "Python 3",
   "language": "python",
   "name": "python3"
  },
  "language_info": {
   "codemirror_mode": {
    "name": "ipython",
    "version": 2
   },
   "file_extension": ".py",
   "mimetype": "text/x-python",
   "name": "python",
   "nbconvert_exporter": "python",
   "pygments_lexer": "ipython2",
   "version": "2.7.6"
  }
 },
 "nbformat": 4,
 "nbformat_minor": 5
}
