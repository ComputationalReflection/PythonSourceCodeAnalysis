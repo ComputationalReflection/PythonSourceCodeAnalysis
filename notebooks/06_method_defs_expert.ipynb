{
 "cells": [
  {
   "metadata": {},
   "cell_type": "markdown",
   "source": [
    "# Method defs EXPERT\n",
    "\n",
    "Esta tabla contiene la información de las funciones definidas dentro de una clase (métodos) EXPERT. Cada entrada en esta tabla tiene una entrada en la tabla functiondef con el resto de información.  --> ABEL COMPLETAR <--"
   ],
   "id": "148ae8871134f924"
  },
  {
   "metadata": {},
   "cell_type": "markdown",
   "source": "## 1 - Obtencion de datos",
   "id": "d3c24a719032807f"
  },
  {
   "metadata": {
    "ExecuteTime": {
     "end_time": "2024-05-13T14:10:23.450941Z",
     "start_time": "2024-05-13T14:10:13.288078Z"
    }
   },
   "cell_type": "code",
   "source": [
    "import matplotlib.pyplot as plt\n",
    "from notebooks_utils import *\n",
    "\n",
    "TARGET_FEATURE = 'methoddef__expertise_level'\n",
    "TARGET_CLASS = 'EXPERT'\n",
    "full_table = get_data('methoddefs')\n",
    "\n",
    "instances_for_class_low = len(full_table[full_table[TARGET_FEATURE] == \"BEGINNER\"])\n",
    "instances_for_class_high = len(full_table[full_table[TARGET_FEATURE] == \"EXPERT\"])\n",
    "\n",
    "print(f\"The dataset contains {instances_for_class_low} ({instances_for_class_low/len(full_table)*100:.4}%) instances for BEGINNER class and {instances_for_class_high} ({instances_for_class_high/len(full_table)*100:.4}%) for EXPERT class.\")"
   ],
   "id": "728484d71b8ea635",
   "outputs": [
    {
     "name": "stdout",
     "output_type": "stream",
     "text": [
      "2024-05-13 16:10:23.411317 Data cache files found ...\n",
      "2024-05-13 16:10:23.426310 Data cache files successfully loaded!!\n",
      "The dataset contains 35666 (38.63%) instances for BEGINNER class and 56658 (61.37%) for EXPERT class.\n"
     ]
    }
   ],
   "execution_count": 1
  },
  {
   "metadata": {
    "ExecuteTime": {
     "end_time": "2024-05-13T12:00:15.553813Z",
     "start_time": "2024-05-13T12:00:13.314381Z"
    }
   },
   "cell_type": "code",
   "source": [
    "full_table = full_table[full_table[TARGET_FEATURE] == TARGET_CLASS]\n",
    "\n",
    "# Table name, features and target.\n",
    "TABLE_NAME = 'methoddefs'\n",
    "TABLE_FEATURES = ['methoddef__is_class_method', 'methoddef__is_static_method', 'methoddef__is_constructor_method', 'methoddef__is_abstract_method', 'methoddef__is_property', 'methoddef__is_wrapper', 'methoddef__is_cached']\n",
    "\n",
    "# Load features and target.\n",
    "X = full_table[TABLE_FEATURES]\n",
    "\n",
    "# Print information about the loaded table.\n",
    "print(f'Features shape: {X.shape}')\n",
    "\n",
    "print(f'As we can see the downloaded data contains a total of {X.shape[0]} instances. Each of the instances corresponds to a program. For each program we have {X.shape[1]} attributes.')"
   ],
   "id": "9f0a949e91eb384b",
   "outputs": [
    {
     "name": "stdout",
     "output_type": "stream",
     "text": [
      "2024-05-13 14:00:13.314381 Loading data ...\n",
      "2024-05-13 14:00:15.493768 Data successfully load!!\n",
      "2024-05-13 14:00:15.493768 Creating data cache files ...\n",
      "2024-05-13 14:00:15.533772 Data cache files successfully created!!\n",
      "Features shape: (92324, 8)\n",
      "Target shape: (92324,)\n",
      "As we can see the downloaded data contains a total of 92324 instances. Each of the instances corresponds to a program. For each program we have 8 attributes.\n"
     ]
    }
   ],
   "execution_count": 2
  },
  {
   "metadata": {},
   "cell_type": "markdown",
   "source": [
    "## 2 - Exploracion de datos\n",
    "\n",
    "Una vez tenemos nuestra tabla en un dataframe el siguiente paso es explorarla para ver qué tipo de información contiene."
   ],
   "id": "bcda7cb784bf0a1"
  },
  {
   "metadata": {
    "ExecuteTime": {
     "end_time": "2024-05-13T12:00:20.377191Z",
     "start_time": "2024-05-13T12:00:20.329013Z"
    }
   },
   "cell_type": "code",
   "source": "print(X.info())",
   "id": "2eb3d09993235bcb",
   "outputs": [
    {
     "name": "stdout",
     "output_type": "stream",
     "text": [
      "<class 'pandas.core.frame.DataFrame'>\n",
      "RangeIndex: 92324 entries, 0 to 92323\n",
      "Data columns (total 8 columns):\n",
      " #   Column                            Non-Null Count  Dtype \n",
      "---  ------                            --------------  ----- \n",
      " 0   methoddef__is_class_method        92324 non-null  bool  \n",
      " 1   methoddef__is_static_method       92324 non-null  bool  \n",
      " 2   methoddef__is_constructor_method  92324 non-null  bool  \n",
      " 3   methoddef__is_abstract_method     92324 non-null  bool  \n",
      " 4   methoddef__is_property            92324 non-null  bool  \n",
      " 5   methoddef__is_wrapper             92324 non-null  bool  \n",
      " 6   methoddef__is_cached              92324 non-null  bool  \n",
      " 7   methoddef__expertise_level        92324 non-null  object\n",
      "dtypes: bool(7), object(1)\n",
      "memory usage: 1.3+ MB\n",
      "None\n",
      "=============\n",
      "<class 'pandas.core.series.Series'>\n",
      "RangeIndex: 92324 entries, 0 to 92323\n",
      "Series name: methoddef__expertise_level\n",
      "Non-Null Count  Dtype \n",
      "--------------  ----- \n",
      "92324 non-null  object\n",
      "dtypes: object(1)\n",
      "memory usage: 721.4+ KB\n",
      "None\n"
     ]
    }
   ],
   "execution_count": 3
  },
  {
   "metadata": {},
   "cell_type": "markdown",
   "source": "Cómo podemos ver la tabla está compuesta por 7 variables boleanas y una de tipo objeto. Las última variable es la etiqueta de la instancia. Sin embargo, en algunas ocasiones estas últimas clases no las vamos a utilizar. Por ejemplo, si queremos obtener clusters por medio de aprendizaje no supervisado.",
   "id": "24f7607501c2e574"
  },
  {
   "metadata": {},
   "cell_type": "markdown",
   "source": [
    "### 2.1 - Duplicados\n",
    "Miramos si la tabla tiene entradas duplicadas."
   ],
   "id": "3b9b55798c7ecbd5"
  },
  {
   "metadata": {
    "ExecuteTime": {
     "end_time": "2024-05-13T12:01:00.765286Z",
     "start_time": "2024-05-13T12:01:00.701989Z"
    }
   },
   "cell_type": "code",
   "source": [
    "number_of_duplicated_entries = sum(full_table.duplicated(subset=TABLE_FEATURES))\n",
    "duplicated_entries_pct = number_of_duplicated_entries / len(full_table) * 100\n",
    "print(f\"The dataset contains [{duplicated_entries_pct:.4}%] of duplicated entries.\")"
   ],
   "id": "ed5e6830bbf484a6",
   "outputs": [
    {
     "name": "stdout",
     "output_type": "stream",
     "text": [
      "The dataset contains [99.98%] of duplicated entries.\n"
     ]
    }
   ],
   "execution_count": 5
  },
  {
   "metadata": {},
   "cell_type": "markdown",
   "source": [
    "### 2.3 - Valores Nulos \n",
    "Miramos si alguna de las variables que contiene la tabla contiene algún valor que sea nulo."
   ],
   "id": "63d4e4ed1d8d2c6c"
  },
  {
   "metadata": {
    "ExecuteTime": {
     "end_time": "2024-05-13T12:01:06.055009Z",
     "start_time": "2024-05-13T12:01:06.026005Z"
    }
   },
   "cell_type": "code",
   "source": "X.isnull().sum()",
   "id": "6c991380e6e0413e",
   "outputs": [
    {
     "data": {
      "text/plain": [
       "methoddef__is_class_method          0\n",
       "methoddef__is_static_method         0\n",
       "methoddef__is_constructor_method    0\n",
       "methoddef__is_abstract_method       0\n",
       "methoddef__is_property              0\n",
       "methoddef__is_wrapper               0\n",
       "methoddef__is_cached                0\n",
       "methoddef__expertise_level          0\n",
       "dtype: int64"
      ]
     },
     "execution_count": 6,
     "metadata": {},
     "output_type": "execute_result"
    }
   ],
   "execution_count": 6
  },
  {
   "metadata": {
    "ExecuteTime": {
     "end_time": "2024-05-13T12:01:08.380150Z",
     "start_time": "2024-05-13T12:01:08.355822Z"
    }
   },
   "cell_type": "code",
   "source": "print_empty_cols(X)",
   "id": "18b2dfadf1719a4b",
   "outputs": [
    {
     "name": "stdout",
     "output_type": "stream",
     "text": [
      "methoddef__is_class_method\n",
      "--------------------------\n",
      "0 instancias no tienen un valor para la columna methoddef__is_class_method\n",
      "\n",
      "\n",
      "methoddef__is_static_method\n",
      "---------------------------\n",
      "0 instancias no tienen un valor para la columna methoddef__is_static_method\n",
      "\n",
      "\n",
      "methoddef__is_constructor_method\n",
      "--------------------------------\n",
      "0 instancias no tienen un valor para la columna methoddef__is_constructor_method\n",
      "\n",
      "\n",
      "methoddef__is_abstract_method\n",
      "-----------------------------\n",
      "0 instancias no tienen un valor para la columna methoddef__is_abstract_method\n",
      "\n",
      "\n",
      "methoddef__is_property\n",
      "----------------------\n",
      "0 instancias no tienen un valor para la columna methoddef__is_property\n",
      "\n",
      "\n",
      "methoddef__is_wrapper\n",
      "---------------------\n",
      "0 instancias no tienen un valor para la columna methoddef__is_wrapper\n",
      "\n",
      "\n",
      "methoddef__is_cached\n",
      "--------------------\n",
      "0 instancias no tienen un valor para la columna methoddef__is_cached\n",
      "\n",
      "\n",
      "methoddef__expertise_level\n",
      "--------------------------\n",
      "0 instancias no tienen un valor para la columna methoddef__expertise_level\n",
      "\n",
      "\n"
     ]
    }
   ],
   "execution_count": 7
  },
  {
   "metadata": {},
   "cell_type": "markdown",
   "source": "### 2.4 - Describimos los valores de las variables de la tabla.",
   "id": "5bb94c0f81c08024"
  },
  {
   "metadata": {
    "ExecuteTime": {
     "end_time": "2024-05-13T12:01:14.788305Z",
     "start_time": "2024-05-13T12:01:14.702005Z"
    }
   },
   "cell_type": "code",
   "source": "np.transpose(X.describe(percentiles=[.25, .50, .75], include = ['object', 'float', 'bool', 'int']))",
   "id": "74bba302a29fbfd5",
   "outputs": [
    {
     "data": {
      "text/plain": [
       "                                  count unique     top   freq\n",
       "methoddef__is_class_method        92324      2   False  89407\n",
       "methoddef__is_static_method       92324      2   False  90457\n",
       "methoddef__is_constructor_method  92324      2   False  81042\n",
       "methoddef__is_abstract_method     92324      2   False  91486\n",
       "methoddef__is_property            92324      2   False  86559\n",
       "methoddef__is_wrapper             92324      1   False  92324\n",
       "methoddef__is_cached              92324      1   False  92324\n",
       "methoddef__expertise_level        92324      2  EXPERT  56658"
      ],
      "text/html": [
       "<div>\n",
       "<style scoped>\n",
       "    .dataframe tbody tr th:only-of-type {\n",
       "        vertical-align: middle;\n",
       "    }\n",
       "\n",
       "    .dataframe tbody tr th {\n",
       "        vertical-align: top;\n",
       "    }\n",
       "\n",
       "    .dataframe thead th {\n",
       "        text-align: right;\n",
       "    }\n",
       "</style>\n",
       "<table border=\"1\" class=\"dataframe\">\n",
       "  <thead>\n",
       "    <tr style=\"text-align: right;\">\n",
       "      <th></th>\n",
       "      <th>count</th>\n",
       "      <th>unique</th>\n",
       "      <th>top</th>\n",
       "      <th>freq</th>\n",
       "    </tr>\n",
       "  </thead>\n",
       "  <tbody>\n",
       "    <tr>\n",
       "      <th>methoddef__is_class_method</th>\n",
       "      <td>92324</td>\n",
       "      <td>2</td>\n",
       "      <td>False</td>\n",
       "      <td>89407</td>\n",
       "    </tr>\n",
       "    <tr>\n",
       "      <th>methoddef__is_static_method</th>\n",
       "      <td>92324</td>\n",
       "      <td>2</td>\n",
       "      <td>False</td>\n",
       "      <td>90457</td>\n",
       "    </tr>\n",
       "    <tr>\n",
       "      <th>methoddef__is_constructor_method</th>\n",
       "      <td>92324</td>\n",
       "      <td>2</td>\n",
       "      <td>False</td>\n",
       "      <td>81042</td>\n",
       "    </tr>\n",
       "    <tr>\n",
       "      <th>methoddef__is_abstract_method</th>\n",
       "      <td>92324</td>\n",
       "      <td>2</td>\n",
       "      <td>False</td>\n",
       "      <td>91486</td>\n",
       "    </tr>\n",
       "    <tr>\n",
       "      <th>methoddef__is_property</th>\n",
       "      <td>92324</td>\n",
       "      <td>2</td>\n",
       "      <td>False</td>\n",
       "      <td>86559</td>\n",
       "    </tr>\n",
       "    <tr>\n",
       "      <th>methoddef__is_wrapper</th>\n",
       "      <td>92324</td>\n",
       "      <td>1</td>\n",
       "      <td>False</td>\n",
       "      <td>92324</td>\n",
       "    </tr>\n",
       "    <tr>\n",
       "      <th>methoddef__is_cached</th>\n",
       "      <td>92324</td>\n",
       "      <td>1</td>\n",
       "      <td>False</td>\n",
       "      <td>92324</td>\n",
       "    </tr>\n",
       "    <tr>\n",
       "      <th>methoddef__expertise_level</th>\n",
       "      <td>92324</td>\n",
       "      <td>2</td>\n",
       "      <td>EXPERT</td>\n",
       "      <td>56658</td>\n",
       "    </tr>\n",
       "  </tbody>\n",
       "</table>\n",
       "</div>"
      ]
     },
     "execution_count": 8,
     "metadata": {},
     "output_type": "execute_result"
    }
   ],
   "execution_count": 8
  },
  {
   "metadata": {},
   "cell_type": "markdown",
   "source": "Vamos a discretizar las variables numericas, agrupando conjuntos de valores en categorias, para hacer un análisis de los datos. Para cada variable es necesario ver la distribucion de lo valores para hacer los bins (categorias).",
   "id": "9af3eb59b924a596"
  },
  {
   "metadata": {
    "ExecuteTime": {
     "end_time": "2024-05-13T12:02:57.857692Z",
     "start_time": "2024-05-13T12:02:57.791787Z"
    }
   },
   "cell_type": "code",
   "source": [
    "# DISCRETIZATION\n",
    "X_copy = X.copy()\n",
    "\n",
    "discretized_columns = {\n",
    "}\n",
    "\n",
    "discretize_columns(X_copy, discretized_columns)\n",
    "    \n",
    "# SINGLE FEATURE\n",
    "print(\"--- SINGLE FEATURE ---\")\n",
    "print(get_statistics(X_copy, ['methoddef__is_class_method'], 10))\n",
    "print(get_statistics(X_copy, ['methoddef__is_static_method'], 10))\n",
    "print(get_statistics(X_copy, ['methoddef__is_constructor_method'], 10))\n",
    "print(get_statistics(X_copy, ['methoddef__is_abstract_method'], 10))\n",
    "print(get_statistics(X_copy, ['methoddef__is_property'], 10))\n",
    "print(get_statistics(X_copy, ['methoddef__is_wrapper'], 10))\n",
    "print(get_statistics(X_copy, ['methoddef__is_cached'], 10))\n",
    "\n",
    "# 2 FEATURES\n",
    "print(\"--- TWO FEATURES ---\")\n",
    "#print(get_statistics(X_copy, ['functiondef__number_of_characters', 'functiondef__name_convention_SnakeCase'], 10))\n",
    "#print(get_statistics(X_copy, ['functiondef__number_of_characters', 'functiondef__name_convention_Lower'], 10))\n",
    "\n",
    "# 3 FEATURES\n",
    "print(\"--- THREE FEATURES ---\")\n",
    "#print(get_statistics(X_copy, ['module__class_defs_pct', 'module__function_defs_pct', 'module__enum_defs_pct'], 10))"
   ],
   "id": "6baf20dd3e3ca759",
   "outputs": [
    {
     "name": "stdout",
     "output_type": "stream",
     "text": [
      "--- SINGLE FEATURE ---\n",
      " methoddef__is_class_method  count  percentage\n",
      "                      False  89407   96.840475\n",
      "                       True   2917    3.159525\n",
      "\n",
      " methoddef__is_static_method  count  percentage\n",
      "                       False  90457   97.977774\n",
      "                        True   1867    2.022226\n",
      "\n",
      " methoddef__is_constructor_method  count  percentage\n",
      "                            False  81042   87.779992\n",
      "                             True  11282   12.220008\n",
      "\n",
      " methoddef__is_abstract_method  count  percentage\n",
      "                         False  91486   99.092327\n",
      "                          True    838    0.907673\n",
      "\n",
      " methoddef__is_property  count  percentage\n",
      "                  False  86559   93.755686\n",
      "                   True   5765    6.244314\n",
      "\n",
      " methoddef__is_wrapper  count  percentage\n",
      "                 False  92324       100.0\n",
      "\n",
      " methoddef__is_cached  count  percentage\n",
      "                False  92324       100.0\n",
      "\n",
      "--- TWO FEATURES ---\n",
      "--- THREE FEATURES ---\n"
     ]
    }
   ],
   "execution_count": 9
  },
  {
   "metadata": {},
   "cell_type": "markdown",
   "source": "No hay ni wrapper ni cached?",
   "id": "a6248023c8b8c101"
  },
  {
   "metadata": {
    "ExecuteTime": {
     "end_time": "2024-05-13T12:03:23.961650Z",
     "start_time": "2024-05-13T12:03:23.859253Z"
    }
   },
   "cell_type": "code",
   "source": [
    "def normalize_datatypes(X:pd.DataFrame) -> (pd.DataFrame, [str]):\n",
    "    X = pd.get_dummies(X)\n",
    "    X = X.astype('float32')        \n",
    "    columns_names = X.columns.tolist()\n",
    "    return X, columns_names\n",
    "\n",
    "X, TABLE_FEATURES = normalize_datatypes(X)\n",
    "# Print information about the loaded table\n",
    "print(f'Features shape: {X.shape}')"
   ],
   "id": "5084c89dcb377a92",
   "outputs": [
    {
     "name": "stdout",
     "output_type": "stream",
     "text": [
      "Features shape: (92324, 9)\n",
      "Target shape: (92324,)\n"
     ]
    }
   ],
   "execution_count": 10
  },
  {
   "metadata": {},
   "cell_type": "markdown",
   "source": "#### Muestra la matriz de correlación de pearson entre las variables de la tabla.",
   "id": "ed8befe21328a079"
  },
  {
   "metadata": {
    "ExecuteTime": {
     "end_time": "2024-05-13T12:03:28.324490Z",
     "start_time": "2024-05-13T12:03:27.171366Z"
    }
   },
   "cell_type": "code",
   "source": "sns.heatmap(X.corr(), annot=False)",
   "id": "dea960d18d682104",
   "outputs": [
    {
     "data": {
      "text/plain": [
       "<Axes: >"
      ]
     },
     "execution_count": 11,
     "metadata": {},
     "output_type": "execute_result"
    },
    {
     "data": {
      "text/plain": [
       "<Figure size 640x480 with 2 Axes>"
      ],
      "image/png": "[encoded data removed]"
     },
     "metadata": {},
     "output_type": "display_data"
    }
   ],
   "execution_count": 11
  },
  {
   "metadata": {},
   "cell_type": "markdown",
   "source": "No parece haber relación entre ninguna variable.",
   "id": "8a38e480df2a603a"
  },
  {
   "metadata": {},
   "cell_type": "markdown",
   "source": [
    "## 3 - Detección de valores atípicos (outliers)\n",
    "Una vez sabemos qué datos contiene la tabla, analizaremos los valores que toma cada una de las variables de cada instancia. El objetivo es identificar posibles valores atípicos que nos dificulten la realización de futuras tareas. \n",
    "Tras su análisis, se puede concluir que un valor:\n",
    "    - **Es erróneo**. En este caso hay que tomar una decisión para cada caso, siendo los tratamientos más extendidos son listwise, pairwise, drop variables, mean/median imputation, most frequent, separate category, zero imputation, cold deck, hot deck,(stochastic) regression, k-NN and multiple imputation. Los resultados de imputación regresiva, k-NN y múltiple dan buenos resultados, aunque, como se ha indicado, es necesario el estudio en cada caso.\n",
    "    - **Es correcto, pero anómalo**. Se documenta su existencia para su posible discusión y se mantiene en el dataset. En estos casos se hace necesaria la utilización de algoritmos y estadísticos que no sean muy sensibles a dichos valores anómalos.\n",
    "\n",
    "## Univariate\n",
    "Para cada uno de los atributos se debe realizar un análisis y detección de valores atípicos, estudiando su posible causa. \n",
    "Existen diversas formas de calcular los valores anómalos. \n",
    "\n",
    "### Variables numéricas\n",
    "Para las variables numéricas, se suele identificar: \n",
    "    - a) Valor atípico leve es el que está fuera de $[Q1 - 1.5IQR, Q3 + 1.5IQR]$, donde $IQR = Q3-Q1$.\n",
    "    - b) Valor atípico extremo está fuera de $[Q1 - 3IQR, Q3 + 3IQR]$.\n",
    "\n",
    "La idea es probar con a) y si hay pocas instancias analizarlas. Si hubiese muchas, mirar b) y analizar si fuesen pocas. No hay un algoritmo o método estipulado, puesto que depende del dominio del problema y de los datos.\n",
    "\n",
    "Los límites de Tukey se basan en los cuartiles de los datos y son sensibles a la presencia de sesgo en la distribución. Cuando hay asimetría en los datos, los límites de Tukey pueden no ser tan efectivos para identificar outliers de manera equitativa en ambos extremos de la distribución. El Coeficiente de Medcouple es útil para identificar la asimetría en los datos, especialmente en presencia de valores atípicos o sesgados. Es una medida robusta porque no se ve tan afectada por valores extremos como la media y la desviación estándar. El MC puede proporcionar información adicional sobre la asimetría de la distribución, lo que te permite ajustar los límites de Tukey de manera más apropiada para tu conjunto de datos específico. Una posible variacion de los límites de Tukey teniendo en cuenta MC podria ser: \n",
    "   - Si MC es mayor que 0 (asimetría hacia la derecha):\n",
    "      - low = (q1-1.5 * math.exp(-4*mc) * iqr)\n",
    "      - high = (q3+1.5 * math.exp(3.5*mc) * iqr)\n",
    "   - Si la asimetriza es hacia la izquierda:    \n",
    "      - low = (q1-1.5 * math.exp(-3.5*mc) * iqr)\n",
    "      - high = (q3+1.5 * math.exp(4*mc) * iqr)\n",
    "\n",
    "\n",
    "### Variables categóricas\n",
    "Para las variables categóricas no existe el concepto de valor anómalo, pero sí se puede considerar en base a un análisis de frecuencia. Por ejemplo, que el uso de una categoría sea residual, pudiendo tener un 0.1% de instancias en el dataset. Para detectar estos valores, se puede fijar un valor mínimo de frecuencia en función del número posible de valores de la variable categórica (2 en el caso de una variable booleana). Por ejemplo, un umbral de $\\frac{0.2\\%}{valores}$ (0.1% en el caso de una variable booleana)"
   ],
   "id": "599c97eec7b7d283"
  },
  {
   "metadata": {},
   "cell_type": "markdown",
   "source": [
    "## Analisis detallado de variables\n",
    "Para cada una de las 10 variable (3 booleanas, 4 porcentuales y 3 numericas) se hara un analisis detallado "
   ],
   "id": "132c8742057275c"
  },
  {
   "metadata": {},
   "cell_type": "markdown",
   "source": [
    "### Variable is_class_method (1/11)\n",
    "Esta variable es de tipo booleano y representa si el método es de clase."
   ],
   "id": "6abba739e46da213"
  },
  {
   "metadata": {
    "ExecuteTime": {
     "end_time": "2024-05-13T13:54:25.560429Z",
     "start_time": "2024-05-13T13:54:24.373871Z"
    }
   },
   "cell_type": "code",
   "source": [
    "plt.xticks([0, 1], ['False', 'True'])\n",
    "sns.histplot(X['methoddef__is_class_method'], discrete=True)"
   ],
   "id": "4ab35b2ef94a3379",
   "outputs": [
    {
     "data": {
      "text/plain": [
       "<Axes: xlabel='methoddef__is_class_method', ylabel='Count'>"
      ]
     },
     "execution_count": 12,
     "metadata": {},
     "output_type": "execute_result"
    },
    {
     "data": {
      "text/plain": [
       "<Figure size 640x480 with 1 Axes>"
      ],
      "image/png": "[encoded data removed]"
     },
     "metadata": {},
     "output_type": "display_data"
    }
   ],
   "execution_count": 12
  },
  {
   "metadata": {
    "ExecuteTime": {
     "end_time": "2024-05-13T13:54:43.216220Z",
     "start_time": "2024-05-13T13:54:43.185718Z"
    }
   },
   "cell_type": "code",
   "source": [
    "num_true_values = len(X[X['methoddef__is_class_method'] == True])\n",
    "num_false_values = len(X[X['methoddef__is_class_method'] == False])\n",
    "std = X['methoddef__is_class_method'].std()\n",
    "freq_true = len(X[X['methoddef__is_class_method'] == True]) / len(X['methoddef__is_class_method'])\n",
    "freq_false = len(X[X['methoddef__is_class_method'] == False]) / len(X['methoddef__is_class_method'])\n",
    "print(f'La variable is_class_method contiene {num_true_values} valores verdaderos y {num_false_values} valores falsos. Y, la desviación típica es de {std}')\n",
    "print(f'La frecuencia con la que programa puede tener la variable is_class_method a True es {freq_true}.')\n",
    "print(f'La frecuencia con la que programa puede tener la variable is_class_method a False es {freq_false}.')"
   ],
   "id": "f4a042829ae6fac5",
   "outputs": [
    {
     "name": "stdout",
     "output_type": "stream",
     "text": [
      "La variable is_class_method contiene 2917 valores verdaderos y 89407 valores falsos. Y, la desviación típica es de 0.17492090165615082\n",
      "La frecuencia con la que programa puede tener la variable is_class_method a True es 0.03159525150556735.\n",
      "La frecuencia con la que programa puede tener la variable is_class_method a False es 0.9684047484944327.\n"
     ]
    }
   ],
   "execution_count": 13
  },
  {
   "metadata": {
    "ExecuteTime": {
     "end_time": "2024-05-13T13:54:56.434005Z",
     "start_time": "2024-05-13T13:54:56.416725Z"
    }
   },
   "cell_type": "code",
   "source": [
    "possible_values = [True, False]\n",
    "print_frequency_anal_for_cat_var(X, 'methoddef__is_class_method', possible_values)"
   ],
   "id": "c614dd60d0ab8e5b",
   "outputs": [
    {
     "name": "stdout",
     "output_type": "stream",
     "text": [
      "La variable methoddef__is_class_method contiene 2 valores distintos.\n",
      "El umbral de outlier es de 0.1%\n",
      "La variable methoddef__is_class_method toma el valor de 0.0 en un 96.84% de los items.\n",
      "La variable methoddef__is_class_method toma el valor de 1.0 en un 3.16% de los items.\n"
     ]
    }
   ],
   "execution_count": 14
  },
  {
   "metadata": {
    "ExecuteTime": {
     "end_time": "2024-05-13T13:55:00.941821Z",
     "start_time": "2024-05-13T13:55:00.850807Z"
    }
   },
   "cell_type": "code",
   "source": "X[X['methoddef__is_class_method'] == True].describe(percentiles=[.25, .50, .75], include = ['object', 'float', 'bool', 'int'])\n",
   "id": "6c33bdd1420008cf",
   "outputs": [
    {
     "data": {
      "text/plain": [
       "       methoddef__is_class_method  methoddef__is_static_method  \\\n",
       "count                      2917.0                       2917.0   \n",
       "mean                          1.0                          0.0   \n",
       "std                           0.0                          0.0   \n",
       "min                           1.0                          0.0   \n",
       "25%                           1.0                          0.0   \n",
       "50%                           1.0                          0.0   \n",
       "75%                           1.0                          0.0   \n",
       "max                           1.0                          0.0   \n",
       "\n",
       "       methoddef__is_constructor_method  methoddef__is_abstract_method  \\\n",
       "count                            2917.0                    2917.000000   \n",
       "mean                                0.0                       0.005142   \n",
       "std                                 0.0                       0.071537   \n",
       "min                                 0.0                       0.000000   \n",
       "25%                                 0.0                       0.000000   \n",
       "50%                                 0.0                       0.000000   \n",
       "75%                                 0.0                       0.000000   \n",
       "max                                 0.0                       1.000000   \n",
       "\n",
       "       methoddef__is_property  methoddef__is_wrapper  methoddef__is_cached  \\\n",
       "count                  2917.0                 2917.0                2917.0   \n",
       "mean                      0.0                    0.0                   0.0   \n",
       "std                       0.0                    0.0                   0.0   \n",
       "min                       0.0                    0.0                   0.0   \n",
       "25%                       0.0                    0.0                   0.0   \n",
       "50%                       0.0                    0.0                   0.0   \n",
       "75%                       0.0                    0.0                   0.0   \n",
       "max                       0.0                    0.0                   0.0   \n",
       "\n",
       "       methoddef__expertise_level_BEGINNER  methoddef__expertise_level_EXPERT  \n",
       "count                          2917.000000                        2917.000000  \n",
       "mean                              0.310250                           0.689750  \n",
       "std                               0.462675                           0.462675  \n",
       "min                               0.000000                           0.000000  \n",
       "25%                               0.000000                           0.000000  \n",
       "50%                               0.000000                           1.000000  \n",
       "75%                               1.000000                           1.000000  \n",
       "max                               1.000000                           1.000000  "
      ],
      "text/html": [
       "<div>\n",
       "<style scoped>\n",
       "    .dataframe tbody tr th:only-of-type {\n",
       "        vertical-align: middle;\n",
       "    }\n",
       "\n",
       "    .dataframe tbody tr th {\n",
       "        vertical-align: top;\n",
       "    }\n",
       "\n",
       "    .dataframe thead th {\n",
       "        text-align: right;\n",
       "    }\n",
       "</style>\n",
       "<table border=\"1\" class=\"dataframe\">\n",
       "  <thead>\n",
       "    <tr style=\"text-align: right;\">\n",
       "      <th></th>\n",
       "      <th>methoddef__is_class_method</th>\n",
       "      <th>methoddef__is_static_method</th>\n",
       "      <th>methoddef__is_constructor_method</th>\n",
       "      <th>methoddef__is_abstract_method</th>\n",
       "      <th>methoddef__is_property</th>\n",
       "      <th>methoddef__is_wrapper</th>\n",
       "      <th>methoddef__is_cached</th>\n",
       "      <th>methoddef__expertise_level_BEGINNER</th>\n",
       "      <th>methoddef__expertise_level_EXPERT</th>\n",
       "    </tr>\n",
       "  </thead>\n",
       "  <tbody>\n",
       "    <tr>\n",
       "      <th>count</th>\n",
       "      <td>2917.0</td>\n",
       "      <td>2917.0</td>\n",
       "      <td>2917.0</td>\n",
       "      <td>2917.000000</td>\n",
       "      <td>2917.0</td>\n",
       "      <td>2917.0</td>\n",
       "      <td>2917.0</td>\n",
       "      <td>2917.000000</td>\n",
       "      <td>2917.000000</td>\n",
       "    </tr>\n",
       "    <tr>\n",
       "      <th>mean</th>\n",
       "      <td>1.0</td>\n",
       "      <td>0.0</td>\n",
       "      <td>0.0</td>\n",
       "      <td>0.005142</td>\n",
       "      <td>0.0</td>\n",
       "      <td>0.0</td>\n",
       "      <td>0.0</td>\n",
       "      <td>0.310250</td>\n",
       "      <td>0.689750</td>\n",
       "    </tr>\n",
       "    <tr>\n",
       "      <th>std</th>\n",
       "      <td>0.0</td>\n",
       "      <td>0.0</td>\n",
       "      <td>0.0</td>\n",
       "      <td>0.071537</td>\n",
       "      <td>0.0</td>\n",
       "      <td>0.0</td>\n",
       "      <td>0.0</td>\n",
       "      <td>0.462675</td>\n",
       "      <td>0.462675</td>\n",
       "    </tr>\n",
       "    <tr>\n",
       "      <th>min</th>\n",
       "      <td>1.0</td>\n",
       "      <td>0.0</td>\n",
       "      <td>0.0</td>\n",
       "      <td>0.000000</td>\n",
       "      <td>0.0</td>\n",
       "      <td>0.0</td>\n",
       "      <td>0.0</td>\n",
       "      <td>0.000000</td>\n",
       "      <td>0.000000</td>\n",
       "    </tr>\n",
       "    <tr>\n",
       "      <th>25%</th>\n",
       "      <td>1.0</td>\n",
       "      <td>0.0</td>\n",
       "      <td>0.0</td>\n",
       "      <td>0.000000</td>\n",
       "      <td>0.0</td>\n",
       "      <td>0.0</td>\n",
       "      <td>0.0</td>\n",
       "      <td>0.000000</td>\n",
       "      <td>0.000000</td>\n",
       "    </tr>\n",
       "    <tr>\n",
       "      <th>50%</th>\n",
       "      <td>1.0</td>\n",
       "      <td>0.0</td>\n",
       "      <td>0.0</td>\n",
       "      <td>0.000000</td>\n",
       "      <td>0.0</td>\n",
       "      <td>0.0</td>\n",
       "      <td>0.0</td>\n",
       "      <td>0.000000</td>\n",
       "      <td>1.000000</td>\n",
       "    </tr>\n",
       "    <tr>\n",
       "      <th>75%</th>\n",
       "      <td>1.0</td>\n",
       "      <td>0.0</td>\n",
       "      <td>0.0</td>\n",
       "      <td>0.000000</td>\n",
       "      <td>0.0</td>\n",
       "      <td>0.0</td>\n",
       "      <td>0.0</td>\n",
       "      <td>1.000000</td>\n",
       "      <td>1.000000</td>\n",
       "    </tr>\n",
       "    <tr>\n",
       "      <th>max</th>\n",
       "      <td>1.0</td>\n",
       "      <td>0.0</td>\n",
       "      <td>0.0</td>\n",
       "      <td>1.000000</td>\n",
       "      <td>0.0</td>\n",
       "      <td>0.0</td>\n",
       "      <td>0.0</td>\n",
       "      <td>1.000000</td>\n",
       "      <td>1.000000</td>\n",
       "    </tr>\n",
       "  </tbody>\n",
       "</table>\n",
       "</div>"
      ]
     },
     "execution_count": 15,
     "metadata": {},
     "output_type": "execute_result"
    }
   ],
   "execution_count": 15
  },
  {
   "metadata": {},
   "cell_type": "markdown",
   "source": [
    "### Variable is_static_method (2/11)\n",
    "Esta variable es de tipo booleano y representa si el método es estático."
   ],
   "id": "1fa4491178ba606c"
  },
  {
   "metadata": {
    "ExecuteTime": {
     "end_time": "2024-05-12T17:40:56.892528Z",
     "start_time": "2024-05-12T17:40:56.582317Z"
    }
   },
   "cell_type": "code",
   "source": [
    "plt.xticks([0, 1], ['False', 'True'])\n",
    "sns.histplot(X['methoddef__is_static_method'], discrete=True)"
   ],
   "id": "529b7fd2ad00b058",
   "outputs": [
    {
     "data": {
      "text/plain": [
       "<Axes: xlabel='functiondef__is_magic', ylabel='Count'>"
      ]
     },
     "execution_count": 30,
     "metadata": {},
     "output_type": "execute_result"
    },
    {
     "data": {
      "text/plain": [
       "<Figure size 640x480 with 1 Axes>"
      ],
      "image/png": "[encoded data removed]"
     },
     "metadata": {},
     "output_type": "display_data"
    }
   ],
   "execution_count": 30
  },
  {
   "metadata": {
    "ExecuteTime": {
     "end_time": "2024-05-13T13:56:07.249667Z",
     "start_time": "2024-05-13T13:56:07.222519Z"
    }
   },
   "cell_type": "code",
   "source": [
    "#ANALISIS DE DISTRIBUCIÓN DE DATOS\n",
    "num_true_values = len(X[X['methoddef__is_static_method'] == True])\n",
    "num_false_values = len(X[X['methoddef__is_static_method'] == False])\n",
    "std = X['methoddef__is_static_method'].std()\n",
    "freq_true = len(X[X['methoddef__is_static_method'] == True]) / len(X['methoddef__is_static_method'])\n",
    "freq_false = len(X[X['methoddef__is_static_method'] == False]) / len(X['methoddef__is_static_method'])\n",
    "print(f'La variable is_static_method contiene {num_true_values} valores verdaderos y {num_false_values} valores falsos. Y, la desviación típica es de {std}')\n",
    "print(f'La frecuencia con la que programa puede tener la variable is_static_method a True es {freq_true}.')\n",
    "print(f'La frecuencia con la que programa puede tener la variable is_static_method a False es {freq_false}.')"
   ],
   "id": "d1bed1e471481adc",
   "outputs": [
    {
     "name": "stdout",
     "output_type": "stream",
     "text": [
      "La variable is_static_method contiene 1867 valores verdaderos y 90457 valores falsos. Y, la desviación típica es de 0.14076055586338043\n",
      "La frecuencia con la que programa puede tener la variable is_static_method a True es 0.020222260733937004.\n",
      "La frecuencia con la que programa puede tener la variable is_static_method a False es 0.979777739266063.\n"
     ]
    }
   ],
   "execution_count": 16
  },
  {
   "metadata": {
    "ExecuteTime": {
     "end_time": "2024-05-13T13:56:12.639796Z",
     "start_time": "2024-05-13T13:56:12.628683Z"
    }
   },
   "cell_type": "code",
   "source": [
    "#PROBABILIDAD DE VALORES\n",
    "possible_values = [True, False]\n",
    "print_frequency_anal_for_cat_var(X, 'methoddef__is_static_method', possible_values)"
   ],
   "id": "c54b472864a47e88",
   "outputs": [
    {
     "name": "stdout",
     "output_type": "stream",
     "text": [
      "La variable methoddef__is_static_method contiene 2 valores distintos.\n",
      "El umbral de outlier es de 0.1%\n",
      "La variable methoddef__is_static_method toma el valor de 0.0 en un 97.98% de los items.\n",
      "La variable methoddef__is_static_method toma el valor de 1.0 en un 2.022% de los items.\n"
     ]
    }
   ],
   "execution_count": 17
  },
  {
   "metadata": {
    "ExecuteTime": {
     "end_time": "2024-05-13T13:56:16.150980Z",
     "start_time": "2024-05-13T13:56:16.096429Z"
    }
   },
   "cell_type": "code",
   "source": [
    "#VALORES DE LOS DATOS CONDICIONADOS A TRUE/FALSE\n",
    "X[X['methoddef__is_static_method'] == True].describe(percentiles=[.25, .50, .75], include = ['object', 'float', 'bool', 'int'])"
   ],
   "id": "4bd840561db5f69f",
   "outputs": [
    {
     "data": {
      "text/plain": [
       "       methoddef__is_class_method  methoddef__is_static_method  \\\n",
       "count                      1867.0                       1867.0   \n",
       "mean                          0.0                          1.0   \n",
       "std                           0.0                          0.0   \n",
       "min                           0.0                          1.0   \n",
       "25%                           0.0                          1.0   \n",
       "50%                           0.0                          1.0   \n",
       "75%                           0.0                          1.0   \n",
       "max                           0.0                          1.0   \n",
       "\n",
       "       methoddef__is_constructor_method  methoddef__is_abstract_method  \\\n",
       "count                            1867.0                    1867.000000   \n",
       "mean                                0.0                       0.004285   \n",
       "std                                 0.0                       0.065337   \n",
       "min                                 0.0                       0.000000   \n",
       "25%                                 0.0                       0.000000   \n",
       "50%                                 0.0                       0.000000   \n",
       "75%                                 0.0                       0.000000   \n",
       "max                                 0.0                       1.000000   \n",
       "\n",
       "       methoddef__is_property  methoddef__is_wrapper  methoddef__is_cached  \\\n",
       "count                  1867.0                 1867.0                1867.0   \n",
       "mean                      0.0                    0.0                   0.0   \n",
       "std                       0.0                    0.0                   0.0   \n",
       "min                       0.0                    0.0                   0.0   \n",
       "25%                       0.0                    0.0                   0.0   \n",
       "50%                       0.0                    0.0                   0.0   \n",
       "75%                       0.0                    0.0                   0.0   \n",
       "max                       0.0                    0.0                   0.0   \n",
       "\n",
       "       methoddef__expertise_level_BEGINNER  methoddef__expertise_level_EXPERT  \n",
       "count                          1867.000000                        1867.000000  \n",
       "mean                              0.368506                           0.631494  \n",
       "std                               0.482529                           0.482529  \n",
       "min                               0.000000                           0.000000  \n",
       "25%                               0.000000                           0.000000  \n",
       "50%                               0.000000                           1.000000  \n",
       "75%                               1.000000                           1.000000  \n",
       "max                               1.000000                           1.000000  "
      ],
      "text/html": [
       "<div>\n",
       "<style scoped>\n",
       "    .dataframe tbody tr th:only-of-type {\n",
       "        vertical-align: middle;\n",
       "    }\n",
       "\n",
       "    .dataframe tbody tr th {\n",
       "        vertical-align: top;\n",
       "    }\n",
       "\n",
       "    .dataframe thead th {\n",
       "        text-align: right;\n",
       "    }\n",
       "</style>\n",
       "<table border=\"1\" class=\"dataframe\">\n",
       "  <thead>\n",
       "    <tr style=\"text-align: right;\">\n",
       "      <th></th>\n",
       "      <th>methoddef__is_class_method</th>\n",
       "      <th>methoddef__is_static_method</th>\n",
       "      <th>methoddef__is_constructor_method</th>\n",
       "      <th>methoddef__is_abstract_method</th>\n",
       "      <th>methoddef__is_property</th>\n",
       "      <th>methoddef__is_wrapper</th>\n",
       "      <th>methoddef__is_cached</th>\n",
       "      <th>methoddef__expertise_level_BEGINNER</th>\n",
       "      <th>methoddef__expertise_level_EXPERT</th>\n",
       "    </tr>\n",
       "  </thead>\n",
       "  <tbody>\n",
       "    <tr>\n",
       "      <th>count</th>\n",
       "      <td>1867.0</td>\n",
       "      <td>1867.0</td>\n",
       "      <td>1867.0</td>\n",
       "      <td>1867.000000</td>\n",
       "      <td>1867.0</td>\n",
       "      <td>1867.0</td>\n",
       "      <td>1867.0</td>\n",
       "      <td>1867.000000</td>\n",
       "      <td>1867.000000</td>\n",
       "    </tr>\n",
       "    <tr>\n",
       "      <th>mean</th>\n",
       "      <td>0.0</td>\n",
       "      <td>1.0</td>\n",
       "      <td>0.0</td>\n",
       "      <td>0.004285</td>\n",
       "      <td>0.0</td>\n",
       "      <td>0.0</td>\n",
       "      <td>0.0</td>\n",
       "      <td>0.368506</td>\n",
       "      <td>0.631494</td>\n",
       "    </tr>\n",
       "    <tr>\n",
       "      <th>std</th>\n",
       "      <td>0.0</td>\n",
       "      <td>0.0</td>\n",
       "      <td>0.0</td>\n",
       "      <td>0.065337</td>\n",
       "      <td>0.0</td>\n",
       "      <td>0.0</td>\n",
       "      <td>0.0</td>\n",
       "      <td>0.482529</td>\n",
       "      <td>0.482529</td>\n",
       "    </tr>\n",
       "    <tr>\n",
       "      <th>min</th>\n",
       "      <td>0.0</td>\n",
       "      <td>1.0</td>\n",
       "      <td>0.0</td>\n",
       "      <td>0.000000</td>\n",
       "      <td>0.0</td>\n",
       "      <td>0.0</td>\n",
       "      <td>0.0</td>\n",
       "      <td>0.000000</td>\n",
       "      <td>0.000000</td>\n",
       "    </tr>\n",
       "    <tr>\n",
       "      <th>25%</th>\n",
       "      <td>0.0</td>\n",
       "      <td>1.0</td>\n",
       "      <td>0.0</td>\n",
       "      <td>0.000000</td>\n",
       "      <td>0.0</td>\n",
       "      <td>0.0</td>\n",
       "      <td>0.0</td>\n",
       "      <td>0.000000</td>\n",
       "      <td>0.000000</td>\n",
       "    </tr>\n",
       "    <tr>\n",
       "      <th>50%</th>\n",
       "      <td>0.0</td>\n",
       "      <td>1.0</td>\n",
       "      <td>0.0</td>\n",
       "      <td>0.000000</td>\n",
       "      <td>0.0</td>\n",
       "      <td>0.0</td>\n",
       "      <td>0.0</td>\n",
       "      <td>0.000000</td>\n",
       "      <td>1.000000</td>\n",
       "    </tr>\n",
       "    <tr>\n",
       "      <th>75%</th>\n",
       "      <td>0.0</td>\n",
       "      <td>1.0</td>\n",
       "      <td>0.0</td>\n",
       "      <td>0.000000</td>\n",
       "      <td>0.0</td>\n",
       "      <td>0.0</td>\n",
       "      <td>0.0</td>\n",
       "      <td>1.000000</td>\n",
       "      <td>1.000000</td>\n",
       "    </tr>\n",
       "    <tr>\n",
       "      <th>max</th>\n",
       "      <td>0.0</td>\n",
       "      <td>1.0</td>\n",
       "      <td>0.0</td>\n",
       "      <td>1.000000</td>\n",
       "      <td>0.0</td>\n",
       "      <td>0.0</td>\n",
       "      <td>0.0</td>\n",
       "      <td>1.000000</td>\n",
       "      <td>1.000000</td>\n",
       "    </tr>\n",
       "  </tbody>\n",
       "</table>\n",
       "</div>"
      ]
     },
     "execution_count": 18,
     "metadata": {},
     "output_type": "execute_result"
    }
   ],
   "execution_count": 18
  },
  {
   "metadata": {},
   "cell_type": "markdown",
   "source": [
    "### Variable is_constructor_method (3/11)\n",
    "Esta variable es booleana y representa si el método es un constructor (__ init __)."
   ],
   "id": "55e11303a6b9f7d6"
  },
  {
   "metadata": {
    "ExecuteTime": {
     "end_time": "2024-05-12T17:42:10.499473Z",
     "start_time": "2024-05-12T17:42:10.217623Z"
    }
   },
   "cell_type": "code",
   "source": [
    "plt.xticks([0, 1], ['False', 'True'])\n",
    "sns.histplot(X['methoddef__is_constructor_method'], discrete=True)"
   ],
   "id": "3d54f29de8308c46",
   "outputs": [
    {
     "data": {
      "text/plain": [
       "<Axes: xlabel='functiondef__is_async', ylabel='Count'>"
      ]
     },
     "execution_count": 34,
     "metadata": {},
     "output_type": "execute_result"
    },
    {
     "data": {
      "text/plain": [
       "<Figure size 640x480 with 1 Axes>"
      ],
      "image/png": "[encoded data removed]"
     },
     "metadata": {},
     "output_type": "display_data"
    }
   ],
   "execution_count": 34
  },
  {
   "metadata": {
    "ExecuteTime": {
     "end_time": "2024-05-12T17:42:36.364325Z",
     "start_time": "2024-05-12T17:42:36.333319Z"
    }
   },
   "cell_type": "code",
   "source": [
    "#ANALISIS DE DISTRIBUCIÓN DE DATOS\n",
    "num_true_values = len(X[X['methoddef__is_constructor_method'] == True])\n",
    "num_false_values = len(X[X['methoddef__is_constructor_method'] == False])\n",
    "std = X['methoddef__is_constructor_method'].std()\n",
    "freq_true = len(X[X['methoddef__is_constructor_method'] == True]) / len(X['methoddef__is_constructor_method'])\n",
    "freq_false = len(X[X['methoddef__is_constructor_method'] == False]) / len(X['methoddef__is_constructor_method'])\n",
    "print(f'La variable is_constructor_method contiene {num_true_values} valores verdaderos y {num_false_values} valores falsos. Y, la desviación típica es de {std}')\n",
    "print(f'La frecuencia con la que programa puede tener la variable is_constructor_method a True es {freq_true}.')\n",
    "print(f'La frecuencia con la que programa puede tener la variable is_constructor_method a False es {freq_false}.')"
   ],
   "id": "2eb1b1c16de8cdd6",
   "outputs": [
    {
     "name": "stdout",
     "output_type": "stream",
     "text": [
      "La variable is_async contiene 3607 valores verdaderos y 144020 valores falsos. Y, la desviación típica es de 0.154390349984169\n",
      "La frecuencia con la que programa puede tener la variable is_async a True es 0.02443319988890921.\n",
      "La frecuencia con la que programa puede tener la variable is_async a False es 0.9755668001110908.\n"
     ]
    }
   ],
   "execution_count": 35
  },
  {
   "metadata": {
    "ExecuteTime": {
     "end_time": "2024-05-13T13:57:52.267335Z",
     "start_time": "2024-05-13T13:57:52.254558Z"
    }
   },
   "cell_type": "code",
   "source": [
    "#PROBABILIDAD DE VALORES\n",
    "possible_values = [True, False]\n",
    "print_frequency_anal_for_cat_var(X, 'methoddef__is_constructor_method', possible_values)"
   ],
   "id": "77d67e1a9229488c",
   "outputs": [
    {
     "name": "stdout",
     "output_type": "stream",
     "text": [
      "La variable methoddef__is_constructor_method contiene 2 valores distintos.\n",
      "El umbral de outlier es de 0.1%\n",
      "La variable methoddef__is_constructor_method toma el valor de 0.0 en un 87.78% de los items.\n",
      "La variable methoddef__is_constructor_method toma el valor de 1.0 en un 12.22% de los items.\n"
     ]
    }
   ],
   "execution_count": 20
  },
  {
   "metadata": {
    "ExecuteTime": {
     "end_time": "2024-05-13T13:57:49.148660Z",
     "start_time": "2024-05-13T13:57:49.105498Z"
    }
   },
   "cell_type": "code",
   "source": [
    "#VALORES DE LOS DATOS CONDICIONADOS A TRUE/FALSE\n",
    "X[X['methoddef__is_constructor_method'] == True].describe(percentiles=[.25, .50, .75], include = ['object', 'float', 'bool', 'int'])"
   ],
   "id": "4f8aa89df7929f1",
   "outputs": [
    {
     "data": {
      "text/plain": [
       "       methoddef__is_class_method  methoddef__is_static_method  \\\n",
       "count                     11282.0                      11282.0   \n",
       "mean                          0.0                          0.0   \n",
       "std                           0.0                          0.0   \n",
       "min                           0.0                          0.0   \n",
       "25%                           0.0                          0.0   \n",
       "50%                           0.0                          0.0   \n",
       "75%                           0.0                          0.0   \n",
       "max                           0.0                          0.0   \n",
       "\n",
       "       methoddef__is_constructor_method  methoddef__is_abstract_method  \\\n",
       "count                           11282.0                   11282.000000   \n",
       "mean                                1.0                       0.000620   \n",
       "std                                 0.0                       0.024902   \n",
       "min                                 1.0                       0.000000   \n",
       "25%                                 1.0                       0.000000   \n",
       "50%                                 1.0                       0.000000   \n",
       "75%                                 1.0                       0.000000   \n",
       "max                                 1.0                       1.000000   \n",
       "\n",
       "       methoddef__is_property  methoddef__is_wrapper  methoddef__is_cached  \\\n",
       "count                 11282.0                11282.0               11282.0   \n",
       "mean                      0.0                    0.0                   0.0   \n",
       "std                       0.0                    0.0                   0.0   \n",
       "min                       0.0                    0.0                   0.0   \n",
       "25%                       0.0                    0.0                   0.0   \n",
       "50%                       0.0                    0.0                   0.0   \n",
       "75%                       0.0                    0.0                   0.0   \n",
       "max                       0.0                    0.0                   0.0   \n",
       "\n",
       "       methoddef__expertise_level_BEGINNER  methoddef__expertise_level_EXPERT  \n",
       "count                         11282.000000                       11282.000000  \n",
       "mean                              0.363145                           0.636855  \n",
       "std                               0.480927                           0.480927  \n",
       "min                               0.000000                           0.000000  \n",
       "25%                               0.000000                           0.000000  \n",
       "50%                               0.000000                           1.000000  \n",
       "75%                               1.000000                           1.000000  \n",
       "max                               1.000000                           1.000000  "
      ],
      "text/html": [
       "<div>\n",
       "<style scoped>\n",
       "    .dataframe tbody tr th:only-of-type {\n",
       "        vertical-align: middle;\n",
       "    }\n",
       "\n",
       "    .dataframe tbody tr th {\n",
       "        vertical-align: top;\n",
       "    }\n",
       "\n",
       "    .dataframe thead th {\n",
       "        text-align: right;\n",
       "    }\n",
       "</style>\n",
       "<table border=\"1\" class=\"dataframe\">\n",
       "  <thead>\n",
       "    <tr style=\"text-align: right;\">\n",
       "      <th></th>\n",
       "      <th>methoddef__is_class_method</th>\n",
       "      <th>methoddef__is_static_method</th>\n",
       "      <th>methoddef__is_constructor_method</th>\n",
       "      <th>methoddef__is_abstract_method</th>\n",
       "      <th>methoddef__is_property</th>\n",
       "      <th>methoddef__is_wrapper</th>\n",
       "      <th>methoddef__is_cached</th>\n",
       "      <th>methoddef__expertise_level_BEGINNER</th>\n",
       "      <th>methoddef__expertise_level_EXPERT</th>\n",
       "    </tr>\n",
       "  </thead>\n",
       "  <tbody>\n",
       "    <tr>\n",
       "      <th>count</th>\n",
       "      <td>11282.0</td>\n",
       "      <td>11282.0</td>\n",
       "      <td>11282.0</td>\n",
       "      <td>11282.000000</td>\n",
       "      <td>11282.0</td>\n",
       "      <td>11282.0</td>\n",
       "      <td>11282.0</td>\n",
       "      <td>11282.000000</td>\n",
       "      <td>11282.000000</td>\n",
       "    </tr>\n",
       "    <tr>\n",
       "      <th>mean</th>\n",
       "      <td>0.0</td>\n",
       "      <td>0.0</td>\n",
       "      <td>1.0</td>\n",
       "      <td>0.000620</td>\n",
       "      <td>0.0</td>\n",
       "      <td>0.0</td>\n",
       "      <td>0.0</td>\n",
       "      <td>0.363145</td>\n",
       "      <td>0.636855</td>\n",
       "    </tr>\n",
       "    <tr>\n",
       "      <th>std</th>\n",
       "      <td>0.0</td>\n",
       "      <td>0.0</td>\n",
       "      <td>0.0</td>\n",
       "      <td>0.024902</td>\n",
       "      <td>0.0</td>\n",
       "      <td>0.0</td>\n",
       "      <td>0.0</td>\n",
       "      <td>0.480927</td>\n",
       "      <td>0.480927</td>\n",
       "    </tr>\n",
       "    <tr>\n",
       "      <th>min</th>\n",
       "      <td>0.0</td>\n",
       "      <td>0.0</td>\n",
       "      <td>1.0</td>\n",
       "      <td>0.000000</td>\n",
       "      <td>0.0</td>\n",
       "      <td>0.0</td>\n",
       "      <td>0.0</td>\n",
       "      <td>0.000000</td>\n",
       "      <td>0.000000</td>\n",
       "    </tr>\n",
       "    <tr>\n",
       "      <th>25%</th>\n",
       "      <td>0.0</td>\n",
       "      <td>0.0</td>\n",
       "      <td>1.0</td>\n",
       "      <td>0.000000</td>\n",
       "      <td>0.0</td>\n",
       "      <td>0.0</td>\n",
       "      <td>0.0</td>\n",
       "      <td>0.000000</td>\n",
       "      <td>0.000000</td>\n",
       "    </tr>\n",
       "    <tr>\n",
       "      <th>50%</th>\n",
       "      <td>0.0</td>\n",
       "      <td>0.0</td>\n",
       "      <td>1.0</td>\n",
       "      <td>0.000000</td>\n",
       "      <td>0.0</td>\n",
       "      <td>0.0</td>\n",
       "      <td>0.0</td>\n",
       "      <td>0.000000</td>\n",
       "      <td>1.000000</td>\n",
       "    </tr>\n",
       "    <tr>\n",
       "      <th>75%</th>\n",
       "      <td>0.0</td>\n",
       "      <td>0.0</td>\n",
       "      <td>1.0</td>\n",
       "      <td>0.000000</td>\n",
       "      <td>0.0</td>\n",
       "      <td>0.0</td>\n",
       "      <td>0.0</td>\n",
       "      <td>1.000000</td>\n",
       "      <td>1.000000</td>\n",
       "    </tr>\n",
       "    <tr>\n",
       "      <th>max</th>\n",
       "      <td>0.0</td>\n",
       "      <td>0.0</td>\n",
       "      <td>1.0</td>\n",
       "      <td>1.000000</td>\n",
       "      <td>0.0</td>\n",
       "      <td>0.0</td>\n",
       "      <td>0.0</td>\n",
       "      <td>1.000000</td>\n",
       "      <td>1.000000</td>\n",
       "    </tr>\n",
       "  </tbody>\n",
       "</table>\n",
       "</div>"
      ]
     },
     "execution_count": 19,
     "metadata": {},
     "output_type": "execute_result"
    }
   ],
   "execution_count": 19
  },
  {
   "metadata": {},
   "cell_type": "markdown",
   "source": [
    "### Variable is_abstract_method (4/11)\n",
    "Esta variable es booleana y representa si el método es abstracto."
   ],
   "id": "18a8e13e56bc2bb5"
  },
  {
   "metadata": {
    "ExecuteTime": {
     "end_time": "2024-05-13T13:58:50.993466Z",
     "start_time": "2024-05-13T13:58:50.748389Z"
    }
   },
   "cell_type": "code",
   "source": [
    "plt.xticks([0, 1], ['False', 'True'])\n",
    "sns.histplot(X['methoddef__is_abstract_method'], discrete=True)"
   ],
   "id": "5324fb5df46dfbbb",
   "outputs": [
    {
     "data": {
      "text/plain": [
       "<Axes: xlabel='methoddef__is_abstract_method', ylabel='Count'>"
      ]
     },
     "execution_count": 22,
     "metadata": {},
     "output_type": "execute_result"
    },
    {
     "data": {
      "text/plain": [
       "<Figure size 640x480 with 1 Axes>"
      ],
      "image/png": "[encoded data removed]"
     },
     "metadata": {},
     "output_type": "display_data"
    }
   ],
   "execution_count": 22
  },
  {
   "metadata": {
    "ExecuteTime": {
     "end_time": "2024-05-13T13:58:43.636291Z",
     "start_time": "2024-05-13T13:58:43.617849Z"
    }
   },
   "cell_type": "code",
   "source": [
    "#ANALISIS DE DISTRIBUCIÓN DE DATOS\n",
    "num_true_values = len(X[X['methoddef__is_abstract_method'] == True])\n",
    "num_false_values = len(X[X['methoddef__is_abstract_method'] == False])\n",
    "std = X['methoddef__is_abstract_method'].std()\n",
    "freq_true = len(X[X['methoddef__is_abstract_method'] == True]) / len(X['methoddef__is_abstract_method'])\n",
    "freq_false = len(X[X['methoddef__is_abstract_method'] == False]) / len(X['methoddef__is_abstract_method'])\n",
    "print(f'La variable is_abstract_method contiene {num_true_values} valores verdaderos y {num_false_values} valores falsos. Y, la desviación típica es de {std}')\n",
    "print(f'La frecuencia con la que programa puede tener la variable is_abstract_method a True es {freq_true}.')\n",
    "print(f'La frecuencia con la que programa puede tener la variable is_abstract_method a False es {freq_false}.')"
   ],
   "id": "3a3d461ef8ecb975",
   "outputs": [
    {
     "name": "stdout",
     "output_type": "stream",
     "text": [
      "La variable is_abstract_method contiene 838 valores verdaderos y 91486 valores falsos. Y, la desviación típica es de 0.09483902156352997\n",
      "La frecuencia con la que programa puede tener la variable is_abstract_method a True es 0.009076729777739266.\n",
      "La frecuencia con la que programa puede tener la variable is_abstract_method a False es 0.9909232702222608.\n"
     ]
    }
   ],
   "execution_count": 21
  },
  {
   "metadata": {
    "ExecuteTime": {
     "end_time": "2024-05-13T13:59:10.440094Z",
     "start_time": "2024-05-13T13:59:10.429358Z"
    }
   },
   "cell_type": "code",
   "source": [
    "#PROBABILIDAD DE VALORES\n",
    "possible_values = [True, False]\n",
    "print_frequency_anal_for_cat_var(X, 'methoddef__is_abstract_method', possible_values)"
   ],
   "id": "fe8e2a0b79c6c2e5",
   "outputs": [
    {
     "name": "stdout",
     "output_type": "stream",
     "text": [
      "La variable methoddef__is_abstract_method contiene 2 valores distintos.\n",
      "El umbral de outlier es de 0.1%\n",
      "La variable methoddef__is_abstract_method toma el valor de 0.0 en un 99.09% de los items.\n",
      "La variable methoddef__is_abstract_method toma el valor de 1.0 en un 0.9077% de los items.\n"
     ]
    }
   ],
   "execution_count": 24
  },
  {
   "metadata": {
    "ExecuteTime": {
     "end_time": "2024-05-13T13:59:15.127741Z",
     "start_time": "2024-05-13T13:59:15.097113Z"
    }
   },
   "cell_type": "code",
   "source": [
    "#VALORES DE LOS DATOS CONDICIONADOS A TRUE/FALSE\n",
    "X[X['methoddef__is_abstract_method'] == True].describe(percentiles=[.25, .50, .75], include = ['object', 'float', 'bool', 'int'])"
   ],
   "id": "4322793c7ab4814a",
   "outputs": [
    {
     "data": {
      "text/plain": [
       "       methoddef__is_class_method  methoddef__is_static_method  \\\n",
       "count                  838.000000                   838.000000   \n",
       "mean                     0.017900                     0.009547   \n",
       "std                      0.132666                     0.097297   \n",
       "min                      0.000000                     0.000000   \n",
       "25%                      0.000000                     0.000000   \n",
       "50%                      0.000000                     0.000000   \n",
       "75%                      0.000000                     0.000000   \n",
       "max                      1.000000                     1.000000   \n",
       "\n",
       "       methoddef__is_constructor_method  methoddef__is_abstract_method  \\\n",
       "count                        838.000000                          838.0   \n",
       "mean                           0.008353                            1.0   \n",
       "std                            0.091068                            0.0   \n",
       "min                            0.000000                            1.0   \n",
       "25%                            0.000000                            1.0   \n",
       "50%                            0.000000                            1.0   \n",
       "75%                            0.000000                            1.0   \n",
       "max                            1.000000                            1.0   \n",
       "\n",
       "       methoddef__is_property  methoddef__is_wrapper  methoddef__is_cached  \\\n",
       "count              838.000000                  838.0                 838.0   \n",
       "mean                 0.146778                    0.0                   0.0   \n",
       "std                  0.354096                    0.0                   0.0   \n",
       "min                  0.000000                    0.0                   0.0   \n",
       "25%                  0.000000                    0.0                   0.0   \n",
       "50%                  0.000000                    0.0                   0.0   \n",
       "75%                  0.000000                    0.0                   0.0   \n",
       "max                  1.000000                    0.0                   0.0   \n",
       "\n",
       "       methoddef__expertise_level_BEGINNER  methoddef__expertise_level_EXPERT  \n",
       "count                           838.000000                         838.000000  \n",
       "mean                              0.060859                           0.939141  \n",
       "std                               0.239215                           0.239215  \n",
       "min                               0.000000                           0.000000  \n",
       "25%                               0.000000                           1.000000  \n",
       "50%                               0.000000                           1.000000  \n",
       "75%                               0.000000                           1.000000  \n",
       "max                               1.000000                           1.000000  "
      ],
      "text/html": [
       "<div>\n",
       "<style scoped>\n",
       "    .dataframe tbody tr th:only-of-type {\n",
       "        vertical-align: middle;\n",
       "    }\n",
       "\n",
       "    .dataframe tbody tr th {\n",
       "        vertical-align: top;\n",
       "    }\n",
       "\n",
       "    .dataframe thead th {\n",
       "        text-align: right;\n",
       "    }\n",
       "</style>\n",
       "<table border=\"1\" class=\"dataframe\">\n",
       "  <thead>\n",
       "    <tr style=\"text-align: right;\">\n",
       "      <th></th>\n",
       "      <th>methoddef__is_class_method</th>\n",
       "      <th>methoddef__is_static_method</th>\n",
       "      <th>methoddef__is_constructor_method</th>\n",
       "      <th>methoddef__is_abstract_method</th>\n",
       "      <th>methoddef__is_property</th>\n",
       "      <th>methoddef__is_wrapper</th>\n",
       "      <th>methoddef__is_cached</th>\n",
       "      <th>methoddef__expertise_level_BEGINNER</th>\n",
       "      <th>methoddef__expertise_level_EXPERT</th>\n",
       "    </tr>\n",
       "  </thead>\n",
       "  <tbody>\n",
       "    <tr>\n",
       "      <th>count</th>\n",
       "      <td>838.000000</td>\n",
       "      <td>838.000000</td>\n",
       "      <td>838.000000</td>\n",
       "      <td>838.0</td>\n",
       "      <td>838.000000</td>\n",
       "      <td>838.0</td>\n",
       "      <td>838.0</td>\n",
       "      <td>838.000000</td>\n",
       "      <td>838.000000</td>\n",
       "    </tr>\n",
       "    <tr>\n",
       "      <th>mean</th>\n",
       "      <td>0.017900</td>\n",
       "      <td>0.009547</td>\n",
       "      <td>0.008353</td>\n",
       "      <td>1.0</td>\n",
       "      <td>0.146778</td>\n",
       "      <td>0.0</td>\n",
       "      <td>0.0</td>\n",
       "      <td>0.060859</td>\n",
       "      <td>0.939141</td>\n",
       "    </tr>\n",
       "    <tr>\n",
       "      <th>std</th>\n",
       "      <td>0.132666</td>\n",
       "      <td>0.097297</td>\n",
       "      <td>0.091068</td>\n",
       "      <td>0.0</td>\n",
       "      <td>0.354096</td>\n",
       "      <td>0.0</td>\n",
       "      <td>0.0</td>\n",
       "      <td>0.239215</td>\n",
       "      <td>0.239215</td>\n",
       "    </tr>\n",
       "    <tr>\n",
       "      <th>min</th>\n",
       "      <td>0.000000</td>\n",
       "      <td>0.000000</td>\n",
       "      <td>0.000000</td>\n",
       "      <td>1.0</td>\n",
       "      <td>0.000000</td>\n",
       "      <td>0.0</td>\n",
       "      <td>0.0</td>\n",
       "      <td>0.000000</td>\n",
       "      <td>0.000000</td>\n",
       "    </tr>\n",
       "    <tr>\n",
       "      <th>25%</th>\n",
       "      <td>0.000000</td>\n",
       "      <td>0.000000</td>\n",
       "      <td>0.000000</td>\n",
       "      <td>1.0</td>\n",
       "      <td>0.000000</td>\n",
       "      <td>0.0</td>\n",
       "      <td>0.0</td>\n",
       "      <td>0.000000</td>\n",
       "      <td>1.000000</td>\n",
       "    </tr>\n",
       "    <tr>\n",
       "      <th>50%</th>\n",
       "      <td>0.000000</td>\n",
       "      <td>0.000000</td>\n",
       "      <td>0.000000</td>\n",
       "      <td>1.0</td>\n",
       "      <td>0.000000</td>\n",
       "      <td>0.0</td>\n",
       "      <td>0.0</td>\n",
       "      <td>0.000000</td>\n",
       "      <td>1.000000</td>\n",
       "    </tr>\n",
       "    <tr>\n",
       "      <th>75%</th>\n",
       "      <td>0.000000</td>\n",
       "      <td>0.000000</td>\n",
       "      <td>0.000000</td>\n",
       "      <td>1.0</td>\n",
       "      <td>0.000000</td>\n",
       "      <td>0.0</td>\n",
       "      <td>0.0</td>\n",
       "      <td>0.000000</td>\n",
       "      <td>1.000000</td>\n",
       "    </tr>\n",
       "    <tr>\n",
       "      <th>max</th>\n",
       "      <td>1.000000</td>\n",
       "      <td>1.000000</td>\n",
       "      <td>1.000000</td>\n",
       "      <td>1.0</td>\n",
       "      <td>1.000000</td>\n",
       "      <td>0.0</td>\n",
       "      <td>0.0</td>\n",
       "      <td>1.000000</td>\n",
       "      <td>1.000000</td>\n",
       "    </tr>\n",
       "  </tbody>\n",
       "</table>\n",
       "</div>"
      ]
     },
     "execution_count": 25,
     "metadata": {},
     "output_type": "execute_result"
    }
   ],
   "execution_count": 25
  },
  {
   "metadata": {},
   "cell_type": "markdown",
   "source": [
    "### Variable is_property (5/11)\n",
    "Esta variable es booleana y representa si el método es property."
   ],
   "id": "cfe40a4ef0be487d"
  },
  {
   "metadata": {
    "ExecuteTime": {
     "end_time": "2024-05-13T13:59:43.790Z",
     "start_time": "2024-05-13T13:59:43.559776Z"
    }
   },
   "cell_type": "code",
   "source": [
    "plt.xticks([0, 1], ['False', 'True'])\n",
    "sns.histplot(X['methoddef__is_property'], discrete=True)"
   ],
   "id": "5875416c9bb82405",
   "outputs": [
    {
     "data": {
      "text/plain": [
       "<Axes: xlabel='methoddef__is_property', ylabel='Count'>"
      ]
     },
     "execution_count": 26,
     "metadata": {},
     "output_type": "execute_result"
    },
    {
     "data": {
      "text/plain": [
       "<Figure size 640x480 with 1 Axes>"
      ],
      "image/png": "[encoded data removed]"
     },
     "metadata": {},
     "output_type": "display_data"
    }
   ],
   "execution_count": 26
  },
  {
   "metadata": {
    "ExecuteTime": {
     "end_time": "2024-05-13T14:00:00.051410Z",
     "start_time": "2024-05-13T14:00:00.031581Z"
    }
   },
   "cell_type": "code",
   "source": [
    "#ANALISIS DE DISTRIBUCIÓN DE DATOS\n",
    "num_true_values = len(X[X['methoddef__is_property'] == True])\n",
    "num_false_values = len(X[X['methoddef__is_property'] == False])\n",
    "std = X['methoddef__is_property'].std()\n",
    "freq_true = len(X[X['methoddef__is_property'] == True]) / len(X['methoddef__is_property'])\n",
    "freq_false = len(X[X['methoddef__is_property'] == False]) / len(X['methoddef__is_property'])\n",
    "print(f'La variable is_property contiene {num_true_values} valores verdaderos y {num_false_values} valores falsos. Y, la desviación típica es de {std}')\n",
    "print(f'La frecuencia con la que programa puede tener la variable is_property a True es {freq_true}.')\n",
    "print(f'La frecuencia con la que programa puede tener la variable is_property a False es {freq_false}.')"
   ],
   "id": "48f9d12a797e8432",
   "outputs": [
    {
     "name": "stdout",
     "output_type": "stream",
     "text": [
      "La variable is_property contiene 5765 valores verdaderos y 86559 valores falsos. Y, la desviación típica es de 0.24195995926856995\n",
      "La frecuencia con la que programa puede tener la variable is_property a True es 0.06244313504614185.\n",
      "La frecuencia con la que programa puede tener la variable is_property a False es 0.9375568649538581.\n"
     ]
    }
   ],
   "execution_count": 27
  },
  {
   "metadata": {
    "ExecuteTime": {
     "end_time": "2024-05-13T14:00:05.741116Z",
     "start_time": "2024-05-13T14:00:05.729328Z"
    }
   },
   "cell_type": "code",
   "source": [
    "#PROBABILIDAD DE VALORES\n",
    "possible_values = [True, False]\n",
    "print_frequency_anal_for_cat_var(X, 'methoddef__is_property', possible_values)"
   ],
   "id": "c2fd515eea1c6602",
   "outputs": [
    {
     "name": "stdout",
     "output_type": "stream",
     "text": [
      "La variable methoddef__is_property contiene 2 valores distintos.\n",
      "El umbral de outlier es de 0.1%\n",
      "La variable methoddef__is_property toma el valor de 0.0 en un 93.76% de los items.\n",
      "La variable methoddef__is_property toma el valor de 1.0 en un 6.244% de los items.\n"
     ]
    }
   ],
   "execution_count": 28
  },
  {
   "metadata": {
    "ExecuteTime": {
     "end_time": "2024-05-13T14:00:09.763871Z",
     "start_time": "2024-05-13T14:00:09.729122Z"
    }
   },
   "cell_type": "code",
   "source": [
    "#VALORES DE LOS DATOS CONDICIONADOS A TRUE/FALSE\n",
    "X[X['methoddef__is_property'] == True].describe(percentiles=[.25, .50, .75], include = ['object', 'float', 'bool', 'int'])"
   ],
   "id": "b5ebd8faec1bd813",
   "outputs": [
    {
     "data": {
      "text/plain": [
       "       methoddef__is_class_method  methoddef__is_static_method  \\\n",
       "count                      5765.0                       5765.0   \n",
       "mean                          0.0                          0.0   \n",
       "std                           0.0                          0.0   \n",
       "min                           0.0                          0.0   \n",
       "25%                           0.0                          0.0   \n",
       "50%                           0.0                          0.0   \n",
       "75%                           0.0                          0.0   \n",
       "max                           0.0                          0.0   \n",
       "\n",
       "       methoddef__is_constructor_method  methoddef__is_abstract_method  \\\n",
       "count                            5765.0                    5765.000000   \n",
       "mean                                0.0                       0.021336   \n",
       "std                                 0.0                       0.144513   \n",
       "min                                 0.0                       0.000000   \n",
       "25%                                 0.0                       0.000000   \n",
       "50%                                 0.0                       0.000000   \n",
       "75%                                 0.0                       0.000000   \n",
       "max                                 0.0                       1.000000   \n",
       "\n",
       "       methoddef__is_property  methoddef__is_wrapper  methoddef__is_cached  \\\n",
       "count                  5765.0                 5765.0                5765.0   \n",
       "mean                      1.0                    0.0                   0.0   \n",
       "std                       0.0                    0.0                   0.0   \n",
       "min                       1.0                    0.0                   0.0   \n",
       "25%                       1.0                    0.0                   0.0   \n",
       "50%                       1.0                    0.0                   0.0   \n",
       "75%                       1.0                    0.0                   0.0   \n",
       "max                       1.0                    0.0                   0.0   \n",
       "\n",
       "       methoddef__expertise_level_BEGINNER  methoddef__expertise_level_EXPERT  \n",
       "count                          5765.000000                        5765.000000  \n",
       "mean                              0.494709                           0.505291  \n",
       "std                               0.500015                           0.500015  \n",
       "min                               0.000000                           0.000000  \n",
       "25%                               0.000000                           0.000000  \n",
       "50%                               0.000000                           1.000000  \n",
       "75%                               1.000000                           1.000000  \n",
       "max                               1.000000                           1.000000  "
      ],
      "text/html": [
       "<div>\n",
       "<style scoped>\n",
       "    .dataframe tbody tr th:only-of-type {\n",
       "        vertical-align: middle;\n",
       "    }\n",
       "\n",
       "    .dataframe tbody tr th {\n",
       "        vertical-align: top;\n",
       "    }\n",
       "\n",
       "    .dataframe thead th {\n",
       "        text-align: right;\n",
       "    }\n",
       "</style>\n",
       "<table border=\"1\" class=\"dataframe\">\n",
       "  <thead>\n",
       "    <tr style=\"text-align: right;\">\n",
       "      <th></th>\n",
       "      <th>methoddef__is_class_method</th>\n",
       "      <th>methoddef__is_static_method</th>\n",
       "      <th>methoddef__is_constructor_method</th>\n",
       "      <th>methoddef__is_abstract_method</th>\n",
       "      <th>methoddef__is_property</th>\n",
       "      <th>methoddef__is_wrapper</th>\n",
       "      <th>methoddef__is_cached</th>\n",
       "      <th>methoddef__expertise_level_BEGINNER</th>\n",
       "      <th>methoddef__expertise_level_EXPERT</th>\n",
       "    </tr>\n",
       "  </thead>\n",
       "  <tbody>\n",
       "    <tr>\n",
       "      <th>count</th>\n",
       "      <td>5765.0</td>\n",
       "      <td>5765.0</td>\n",
       "      <td>5765.0</td>\n",
       "      <td>5765.000000</td>\n",
       "      <td>5765.0</td>\n",
       "      <td>5765.0</td>\n",
       "      <td>5765.0</td>\n",
       "      <td>5765.000000</td>\n",
       "      <td>5765.000000</td>\n",
       "    </tr>\n",
       "    <tr>\n",
       "      <th>mean</th>\n",
       "      <td>0.0</td>\n",
       "      <td>0.0</td>\n",
       "      <td>0.0</td>\n",
       "      <td>0.021336</td>\n",
       "      <td>1.0</td>\n",
       "      <td>0.0</td>\n",
       "      <td>0.0</td>\n",
       "      <td>0.494709</td>\n",
       "      <td>0.505291</td>\n",
       "    </tr>\n",
       "    <tr>\n",
       "      <th>std</th>\n",
       "      <td>0.0</td>\n",
       "      <td>0.0</td>\n",
       "      <td>0.0</td>\n",
       "      <td>0.144513</td>\n",
       "      <td>0.0</td>\n",
       "      <td>0.0</td>\n",
       "      <td>0.0</td>\n",
       "      <td>0.500015</td>\n",
       "      <td>0.500015</td>\n",
       "    </tr>\n",
       "    <tr>\n",
       "      <th>min</th>\n",
       "      <td>0.0</td>\n",
       "      <td>0.0</td>\n",
       "      <td>0.0</td>\n",
       "      <td>0.000000</td>\n",
       "      <td>1.0</td>\n",
       "      <td>0.0</td>\n",
       "      <td>0.0</td>\n",
       "      <td>0.000000</td>\n",
       "      <td>0.000000</td>\n",
       "    </tr>\n",
       "    <tr>\n",
       "      <th>25%</th>\n",
       "      <td>0.0</td>\n",
       "      <td>0.0</td>\n",
       "      <td>0.0</td>\n",
       "      <td>0.000000</td>\n",
       "      <td>1.0</td>\n",
       "      <td>0.0</td>\n",
       "      <td>0.0</td>\n",
       "      <td>0.000000</td>\n",
       "      <td>0.000000</td>\n",
       "    </tr>\n",
       "    <tr>\n",
       "      <th>50%</th>\n",
       "      <td>0.0</td>\n",
       "      <td>0.0</td>\n",
       "      <td>0.0</td>\n",
       "      <td>0.000000</td>\n",
       "      <td>1.0</td>\n",
       "      <td>0.0</td>\n",
       "      <td>0.0</td>\n",
       "      <td>0.000000</td>\n",
       "      <td>1.000000</td>\n",
       "    </tr>\n",
       "    <tr>\n",
       "      <th>75%</th>\n",
       "      <td>0.0</td>\n",
       "      <td>0.0</td>\n",
       "      <td>0.0</td>\n",
       "      <td>0.000000</td>\n",
       "      <td>1.0</td>\n",
       "      <td>0.0</td>\n",
       "      <td>0.0</td>\n",
       "      <td>1.000000</td>\n",
       "      <td>1.000000</td>\n",
       "    </tr>\n",
       "    <tr>\n",
       "      <th>max</th>\n",
       "      <td>0.0</td>\n",
       "      <td>0.0</td>\n",
       "      <td>0.0</td>\n",
       "      <td>1.000000</td>\n",
       "      <td>1.0</td>\n",
       "      <td>0.0</td>\n",
       "      <td>0.0</td>\n",
       "      <td>1.000000</td>\n",
       "      <td>1.000000</td>\n",
       "    </tr>\n",
       "  </tbody>\n",
       "</table>\n",
       "</div>"
      ]
     },
     "execution_count": 29,
     "metadata": {},
     "output_type": "execute_result"
    }
   ],
   "execution_count": 29
  },
  {
   "metadata": {},
   "cell_type": "markdown",
   "source": [
    "### Variable is_wrapper (5/11)\n",
    "Esta variable es booleana y representa si el método es wrapper."
   ],
   "id": "6defcb3c847f9d12"
  },
  {
   "metadata": {
    "ExecuteTime": {
     "end_time": "2024-05-13T14:01:35.305204Z",
     "start_time": "2024-05-13T14:01:35.006138Z"
    }
   },
   "cell_type": "code",
   "source": [
    "plt.xticks([0, 1], ['False', 'True'])\n",
    "sns.histplot(X['methoddef__is_wrapper'], discrete=True)"
   ],
   "id": "8592750b545b1fbf",
   "outputs": [
    {
     "data": {
      "text/plain": [
       "<Axes: xlabel='methoddef__is_wrapper', ylabel='Count'>"
      ]
     },
     "execution_count": 31,
     "metadata": {},
     "output_type": "execute_result"
    },
    {
     "data": {
      "text/plain": [
       "<Figure size 640x480 with 1 Axes>"
      ],
      "image/png": "[encoded data removed]"
     },
     "metadata": {},
     "output_type": "display_data"
    }
   ],
   "execution_count": 31
  },
  {
   "metadata": {
    "ExecuteTime": {
     "end_time": "2024-05-13T14:01:32.003474Z",
     "start_time": "2024-05-13T14:01:31.983137Z"
    }
   },
   "cell_type": "code",
   "source": [
    "#ANALISIS DE DISTRIBUCIÓN DE DATOS\n",
    "num_true_values = len(X[X['methoddef__is_wrapper'] == True])\n",
    "num_false_values = len(X[X['methoddef__is_wrapper'] == False])\n",
    "std = X['methoddef__is_wrapper'].std()\n",
    "freq_true = len(X[X['methoddef__is_wrapper'] == True]) / len(X['methoddef__is_wrapper'])\n",
    "freq_false = len(X[X['methoddef__is_wrapper'] == False]) / len(X['methoddef__is_wrapper'])\n",
    "print(f'La variable is_wrapper contiene {num_true_values} valores verdaderos y {num_false_values} valores falsos. Y, la desviación típica es de {std}')\n",
    "print(f'La frecuencia con la que programa puede tener la variable is_wrapper a True es {freq_true}.')\n",
    "print(f'La frecuencia con la que programa puede tener la variable is_wrapper a False es {freq_false}.')"
   ],
   "id": "4a4f044db076cb5f",
   "outputs": [
    {
     "name": "stdout",
     "output_type": "stream",
     "text": [
      "La variable is_wrapper contiene 0 valores verdaderos y 92324 valores falsos. Y, la desviación típica es de 0.0\n",
      "La frecuencia con la que programa puede tener la variable is_wrapper a True es 0.0.\n",
      "La frecuencia con la que programa puede tener la variable is_wrapper a False es 1.0.\n"
     ]
    }
   ],
   "execution_count": 30
  },
  {
   "metadata": {
    "ExecuteTime": {
     "end_time": "2024-05-13T14:01:44.980725Z",
     "start_time": "2024-05-13T14:01:44.967175Z"
    }
   },
   "cell_type": "code",
   "source": [
    "#PROBABILIDAD DE VALORES\n",
    "possible_values = [True, False]\n",
    "print_frequency_anal_for_cat_var(X, 'methoddef__is_wrapper', possible_values)"
   ],
   "id": "a076e73a521fa73f",
   "outputs": [
    {
     "name": "stdout",
     "output_type": "stream",
     "text": [
      "La variable methoddef__is_wrapper contiene 2 valores distintos.\n",
      "El umbral de outlier es de 0.1%\n",
      "La variable methoddef__is_wrapper toma el valor de 0.0 en un 100.0% de los items.\n",
      "La variable methoddef__is_wrapper toma el valor de True en un 0.0% de los items. [OUTLIER]\n"
     ]
    }
   ],
   "execution_count": 33
  },
  {
   "metadata": {
    "ExecuteTime": {
     "end_time": "2024-05-13T14:01:40.311718Z",
     "start_time": "2024-05-13T14:01:40.275899Z"
    }
   },
   "cell_type": "code",
   "source": [
    "#VALORES DE LOS DATOS CONDICIONADOS A TRUE/FALSE\n",
    "X[X['methoddef__is_wrapper'] == True].describe(percentiles=[.25, .50, .75], include = ['object', 'float', 'bool', 'int'])"
   ],
   "id": "aa6278678020f785",
   "outputs": [
    {
     "data": {
      "text/plain": [
       "       methoddef__is_class_method  methoddef__is_static_method  \\\n",
       "count                         0.0                          0.0   \n",
       "mean                          NaN                          NaN   \n",
       "std                           NaN                          NaN   \n",
       "min                           NaN                          NaN   \n",
       "25%                           NaN                          NaN   \n",
       "50%                           NaN                          NaN   \n",
       "75%                           NaN                          NaN   \n",
       "max                           NaN                          NaN   \n",
       "\n",
       "       methoddef__is_constructor_method  methoddef__is_abstract_method  \\\n",
       "count                               0.0                            0.0   \n",
       "mean                                NaN                            NaN   \n",
       "std                                 NaN                            NaN   \n",
       "min                                 NaN                            NaN   \n",
       "25%                                 NaN                            NaN   \n",
       "50%                                 NaN                            NaN   \n",
       "75%                                 NaN                            NaN   \n",
       "max                                 NaN                            NaN   \n",
       "\n",
       "       methoddef__is_property  methoddef__is_wrapper  methoddef__is_cached  \\\n",
       "count                     0.0                    0.0                   0.0   \n",
       "mean                      NaN                    NaN                   NaN   \n",
       "std                       NaN                    NaN                   NaN   \n",
       "min                       NaN                    NaN                   NaN   \n",
       "25%                       NaN                    NaN                   NaN   \n",
       "50%                       NaN                    NaN                   NaN   \n",
       "75%                       NaN                    NaN                   NaN   \n",
       "max                       NaN                    NaN                   NaN   \n",
       "\n",
       "       methoddef__expertise_level_BEGINNER  methoddef__expertise_level_EXPERT  \n",
       "count                                  0.0                                0.0  \n",
       "mean                                   NaN                                NaN  \n",
       "std                                    NaN                                NaN  \n",
       "min                                    NaN                                NaN  \n",
       "25%                                    NaN                                NaN  \n",
       "50%                                    NaN                                NaN  \n",
       "75%                                    NaN                                NaN  \n",
       "max                                    NaN                                NaN  "
      ],
      "text/html": [
       "<div>\n",
       "<style scoped>\n",
       "    .dataframe tbody tr th:only-of-type {\n",
       "        vertical-align: middle;\n",
       "    }\n",
       "\n",
       "    .dataframe tbody tr th {\n",
       "        vertical-align: top;\n",
       "    }\n",
       "\n",
       "    .dataframe thead th {\n",
       "        text-align: right;\n",
       "    }\n",
       "</style>\n",
       "<table border=\"1\" class=\"dataframe\">\n",
       "  <thead>\n",
       "    <tr style=\"text-align: right;\">\n",
       "      <th></th>\n",
       "      <th>methoddef__is_class_method</th>\n",
       "      <th>methoddef__is_static_method</th>\n",
       "      <th>methoddef__is_constructor_method</th>\n",
       "      <th>methoddef__is_abstract_method</th>\n",
       "      <th>methoddef__is_property</th>\n",
       "      <th>methoddef__is_wrapper</th>\n",
       "      <th>methoddef__is_cached</th>\n",
       "      <th>methoddef__expertise_level_BEGINNER</th>\n",
       "      <th>methoddef__expertise_level_EXPERT</th>\n",
       "    </tr>\n",
       "  </thead>\n",
       "  <tbody>\n",
       "    <tr>\n",
       "      <th>count</th>\n",
       "      <td>0.0</td>\n",
       "      <td>0.0</td>\n",
       "      <td>0.0</td>\n",
       "      <td>0.0</td>\n",
       "      <td>0.0</td>\n",
       "      <td>0.0</td>\n",
       "      <td>0.0</td>\n",
       "      <td>0.0</td>\n",
       "      <td>0.0</td>\n",
       "    </tr>\n",
       "    <tr>\n",
       "      <th>mean</th>\n",
       "      <td>NaN</td>\n",
       "      <td>NaN</td>\n",
       "      <td>NaN</td>\n",
       "      <td>NaN</td>\n",
       "      <td>NaN</td>\n",
       "      <td>NaN</td>\n",
       "      <td>NaN</td>\n",
       "      <td>NaN</td>\n",
       "      <td>NaN</td>\n",
       "    </tr>\n",
       "    <tr>\n",
       "      <th>std</th>\n",
       "      <td>NaN</td>\n",
       "      <td>NaN</td>\n",
       "      <td>NaN</td>\n",
       "      <td>NaN</td>\n",
       "      <td>NaN</td>\n",
       "      <td>NaN</td>\n",
       "      <td>NaN</td>\n",
       "      <td>NaN</td>\n",
       "      <td>NaN</td>\n",
       "    </tr>\n",
       "    <tr>\n",
       "      <th>min</th>\n",
       "      <td>NaN</td>\n",
       "      <td>NaN</td>\n",
       "      <td>NaN</td>\n",
       "      <td>NaN</td>\n",
       "      <td>NaN</td>\n",
       "      <td>NaN</td>\n",
       "      <td>NaN</td>\n",
       "      <td>NaN</td>\n",
       "      <td>NaN</td>\n",
       "    </tr>\n",
       "    <tr>\n",
       "      <th>25%</th>\n",
       "      <td>NaN</td>\n",
       "      <td>NaN</td>\n",
       "      <td>NaN</td>\n",
       "      <td>NaN</td>\n",
       "      <td>NaN</td>\n",
       "      <td>NaN</td>\n",
       "      <td>NaN</td>\n",
       "      <td>NaN</td>\n",
       "      <td>NaN</td>\n",
       "    </tr>\n",
       "    <tr>\n",
       "      <th>50%</th>\n",
       "      <td>NaN</td>\n",
       "      <td>NaN</td>\n",
       "      <td>NaN</td>\n",
       "      <td>NaN</td>\n",
       "      <td>NaN</td>\n",
       "      <td>NaN</td>\n",
       "      <td>NaN</td>\n",
       "      <td>NaN</td>\n",
       "      <td>NaN</td>\n",
       "    </tr>\n",
       "    <tr>\n",
       "      <th>75%</th>\n",
       "      <td>NaN</td>\n",
       "      <td>NaN</td>\n",
       "      <td>NaN</td>\n",
       "      <td>NaN</td>\n",
       "      <td>NaN</td>\n",
       "      <td>NaN</td>\n",
       "      <td>NaN</td>\n",
       "      <td>NaN</td>\n",
       "      <td>NaN</td>\n",
       "    </tr>\n",
       "    <tr>\n",
       "      <th>max</th>\n",
       "      <td>NaN</td>\n",
       "      <td>NaN</td>\n",
       "      <td>NaN</td>\n",
       "      <td>NaN</td>\n",
       "      <td>NaN</td>\n",
       "      <td>NaN</td>\n",
       "      <td>NaN</td>\n",
       "      <td>NaN</td>\n",
       "      <td>NaN</td>\n",
       "    </tr>\n",
       "  </tbody>\n",
       "</table>\n",
       "</div>"
      ]
     },
     "execution_count": 32,
     "metadata": {},
     "output_type": "execute_result"
    }
   ],
   "execution_count": 32
  },
  {
   "metadata": {},
   "cell_type": "markdown",
   "source": [
    "### Variable is_cached (5/11)\n",
    "Esta variable es booleana y representa si el método es cached."
   ],
   "id": "d33b192e2a5f0240"
  },
  {
   "metadata": {
    "ExecuteTime": {
     "end_time": "2024-05-13T14:02:28.719429Z",
     "start_time": "2024-05-13T14:02:28.474474Z"
    }
   },
   "cell_type": "code",
   "source": [
    "plt.xticks([0, 1], ['False', 'True'])\n",
    "sns.histplot(X['methoddef__is_cached'], discrete=True)"
   ],
   "id": "bbf5fe6a0d94a17a",
   "outputs": [
    {
     "data": {
      "text/plain": [
       "<Axes: xlabel='methoddef__is_cached', ylabel='Count'>"
      ]
     },
     "execution_count": 35,
     "metadata": {},
     "output_type": "execute_result"
    },
    {
     "data": {
      "text/plain": [
       "<Figure size 640x480 with 1 Axes>"
      ],
      "image/png": "[encoded data removed]"
     },
     "metadata": {},
     "output_type": "display_data"
    }
   ],
   "execution_count": 35
  },
  {
   "metadata": {
    "ExecuteTime": {
     "end_time": "2024-05-13T14:02:26.435030Z",
     "start_time": "2024-05-13T14:02:26.413501Z"
    }
   },
   "cell_type": "code",
   "source": [
    "#ANALISIS DE DISTRIBUCIÓN DE DATOS\n",
    "num_true_values = len(X[X['methoddef__is_cached'] == True])\n",
    "num_false_values = len(X[X['methoddef__is_cached'] == False])\n",
    "std = X['methoddef__is_cached'].std()\n",
    "freq_true = len(X[X['methoddef__is_cached'] == True]) / len(X['methoddef__is_cached'])\n",
    "freq_false = len(X[X['methoddef__is_cached'] == False]) / len(X['methoddef__is_cached'])\n",
    "print(f'La variable is_cached contiene {num_true_values} valores verdaderos y {num_false_values} valores falsos. Y, la desviación típica es de {std}')\n",
    "print(f'La frecuencia con la que programa puede tener la variable is_cached a True es {freq_true}.')\n",
    "print(f'La frecuencia con la que programa puede tener la variable is_cached a False es {freq_false}.')"
   ],
   "id": "af126375f622ce6c",
   "outputs": [
    {
     "name": "stdout",
     "output_type": "stream",
     "text": [
      "La variable is_cached contiene 0 valores verdaderos y 92324 valores falsos. Y, la desviación típica es de 0.0\n",
      "La frecuencia con la que programa puede tener la variable is_cached a True es 0.0.\n",
      "La frecuencia con la que programa puede tener la variable is_cached a False es 1.0.\n"
     ]
    }
   ],
   "execution_count": 34
  },
  {
   "metadata": {
    "ExecuteTime": {
     "end_time": "2024-05-13T14:02:34.570329Z",
     "start_time": "2024-05-13T14:02:34.559494Z"
    }
   },
   "cell_type": "code",
   "source": [
    "#PROBABILIDAD DE VALORES\n",
    "possible_values = [True, False]\n",
    "print_frequency_anal_for_cat_var(X, 'methoddef__is_cached', possible_values)"
   ],
   "id": "21e353b959beda0c",
   "outputs": [
    {
     "name": "stdout",
     "output_type": "stream",
     "text": [
      "La variable methoddef__is_cached contiene 2 valores distintos.\n",
      "El umbral de outlier es de 0.1%\n",
      "La variable methoddef__is_cached toma el valor de 0.0 en un 100.0% de los items.\n",
      "La variable methoddef__is_cached toma el valor de True en un 0.0% de los items. [OUTLIER]\n"
     ]
    }
   ],
   "execution_count": 36
  },
  {
   "metadata": {
    "ExecuteTime": {
     "end_time": "2024-05-13T14:02:37.398963Z",
     "start_time": "2024-05-13T14:02:37.355085Z"
    }
   },
   "cell_type": "code",
   "source": [
    "#VALORES DE LOS DATOS CONDICIONADOS A TRUE/FALSE\n",
    "X[X['methoddef__is_cached'] == True].describe(percentiles=[.25, .50, .75], include = ['object', 'float', 'bool', 'int'])"
   ],
   "id": "1412f91d62130779",
   "outputs": [
    {
     "data": {
      "text/plain": [
       "       methoddef__is_class_method  methoddef__is_static_method  \\\n",
       "count                         0.0                          0.0   \n",
       "mean                          NaN                          NaN   \n",
       "std                           NaN                          NaN   \n",
       "min                           NaN                          NaN   \n",
       "25%                           NaN                          NaN   \n",
       "50%                           NaN                          NaN   \n",
       "75%                           NaN                          NaN   \n",
       "max                           NaN                          NaN   \n",
       "\n",
       "       methoddef__is_constructor_method  methoddef__is_abstract_method  \\\n",
       "count                               0.0                            0.0   \n",
       "mean                                NaN                            NaN   \n",
       "std                                 NaN                            NaN   \n",
       "min                                 NaN                            NaN   \n",
       "25%                                 NaN                            NaN   \n",
       "50%                                 NaN                            NaN   \n",
       "75%                                 NaN                            NaN   \n",
       "max                                 NaN                            NaN   \n",
       "\n",
       "       methoddef__is_property  methoddef__is_wrapper  methoddef__is_cached  \\\n",
       "count                     0.0                    0.0                   0.0   \n",
       "mean                      NaN                    NaN                   NaN   \n",
       "std                       NaN                    NaN                   NaN   \n",
       "min                       NaN                    NaN                   NaN   \n",
       "25%                       NaN                    NaN                   NaN   \n",
       "50%                       NaN                    NaN                   NaN   \n",
       "75%                       NaN                    NaN                   NaN   \n",
       "max                       NaN                    NaN                   NaN   \n",
       "\n",
       "       methoddef__expertise_level_BEGINNER  methoddef__expertise_level_EXPERT  \n",
       "count                                  0.0                                0.0  \n",
       "mean                                   NaN                                NaN  \n",
       "std                                    NaN                                NaN  \n",
       "min                                    NaN                                NaN  \n",
       "25%                                    NaN                                NaN  \n",
       "50%                                    NaN                                NaN  \n",
       "75%                                    NaN                                NaN  \n",
       "max                                    NaN                                NaN  "
      ],
      "text/html": [
       "<div>\n",
       "<style scoped>\n",
       "    .dataframe tbody tr th:only-of-type {\n",
       "        vertical-align: middle;\n",
       "    }\n",
       "\n",
       "    .dataframe tbody tr th {\n",
       "        vertical-align: top;\n",
       "    }\n",
       "\n",
       "    .dataframe thead th {\n",
       "        text-align: right;\n",
       "    }\n",
       "</style>\n",
       "<table border=\"1\" class=\"dataframe\">\n",
       "  <thead>\n",
       "    <tr style=\"text-align: right;\">\n",
       "      <th></th>\n",
       "      <th>methoddef__is_class_method</th>\n",
       "      <th>methoddef__is_static_method</th>\n",
       "      <th>methoddef__is_constructor_method</th>\n",
       "      <th>methoddef__is_abstract_method</th>\n",
       "      <th>methoddef__is_property</th>\n",
       "      <th>methoddef__is_wrapper</th>\n",
       "      <th>methoddef__is_cached</th>\n",
       "      <th>methoddef__expertise_level_BEGINNER</th>\n",
       "      <th>methoddef__expertise_level_EXPERT</th>\n",
       "    </tr>\n",
       "  </thead>\n",
       "  <tbody>\n",
       "    <tr>\n",
       "      <th>count</th>\n",
       "      <td>0.0</td>\n",
       "      <td>0.0</td>\n",
       "      <td>0.0</td>\n",
       "      <td>0.0</td>\n",
       "      <td>0.0</td>\n",
       "      <td>0.0</td>\n",
       "      <td>0.0</td>\n",
       "      <td>0.0</td>\n",
       "      <td>0.0</td>\n",
       "    </tr>\n",
       "    <tr>\n",
       "      <th>mean</th>\n",
       "      <td>NaN</td>\n",
       "      <td>NaN</td>\n",
       "      <td>NaN</td>\n",
       "      <td>NaN</td>\n",
       "      <td>NaN</td>\n",
       "      <td>NaN</td>\n",
       "      <td>NaN</td>\n",
       "      <td>NaN</td>\n",
       "      <td>NaN</td>\n",
       "    </tr>\n",
       "    <tr>\n",
       "      <th>std</th>\n",
       "      <td>NaN</td>\n",
       "      <td>NaN</td>\n",
       "      <td>NaN</td>\n",
       "      <td>NaN</td>\n",
       "      <td>NaN</td>\n",
       "      <td>NaN</td>\n",
       "      <td>NaN</td>\n",
       "      <td>NaN</td>\n",
       "      <td>NaN</td>\n",
       "    </tr>\n",
       "    <tr>\n",
       "      <th>min</th>\n",
       "      <td>NaN</td>\n",
       "      <td>NaN</td>\n",
       "      <td>NaN</td>\n",
       "      <td>NaN</td>\n",
       "      <td>NaN</td>\n",
       "      <td>NaN</td>\n",
       "      <td>NaN</td>\n",
       "      <td>NaN</td>\n",
       "      <td>NaN</td>\n",
       "    </tr>\n",
       "    <tr>\n",
       "      <th>25%</th>\n",
       "      <td>NaN</td>\n",
       "      <td>NaN</td>\n",
       "      <td>NaN</td>\n",
       "      <td>NaN</td>\n",
       "      <td>NaN</td>\n",
       "      <td>NaN</td>\n",
       "      <td>NaN</td>\n",
       "      <td>NaN</td>\n",
       "      <td>NaN</td>\n",
       "    </tr>\n",
       "    <tr>\n",
       "      <th>50%</th>\n",
       "      <td>NaN</td>\n",
       "      <td>NaN</td>\n",
       "      <td>NaN</td>\n",
       "      <td>NaN</td>\n",
       "      <td>NaN</td>\n",
       "      <td>NaN</td>\n",
       "      <td>NaN</td>\n",
       "      <td>NaN</td>\n",
       "      <td>NaN</td>\n",
       "    </tr>\n",
       "    <tr>\n",
       "      <th>75%</th>\n",
       "      <td>NaN</td>\n",
       "      <td>NaN</td>\n",
       "      <td>NaN</td>\n",
       "      <td>NaN</td>\n",
       "      <td>NaN</td>\n",
       "      <td>NaN</td>\n",
       "      <td>NaN</td>\n",
       "      <td>NaN</td>\n",
       "      <td>NaN</td>\n",
       "    </tr>\n",
       "    <tr>\n",
       "      <th>max</th>\n",
       "      <td>NaN</td>\n",
       "      <td>NaN</td>\n",
       "      <td>NaN</td>\n",
       "      <td>NaN</td>\n",
       "      <td>NaN</td>\n",
       "      <td>NaN</td>\n",
       "      <td>NaN</td>\n",
       "      <td>NaN</td>\n",
       "      <td>NaN</td>\n",
       "    </tr>\n",
       "  </tbody>\n",
       "</table>\n",
       "</div>"
      ]
     },
     "execution_count": 37,
     "metadata": {},
     "output_type": "execute_result"
    }
   ],
   "execution_count": 37
  }
 ],
 "metadata": {
  "kernelspec": {
   "display_name": "Python 3",
   "language": "python",
   "name": "python3"
  },
  "language_info": {
   "codemirror_mode": {
    "name": "ipython",
    "version": 2
   },
   "file_extension": ".py",
   "mimetype": "text/x-python",
   "name": "python",
   "nbconvert_exporter": "python",
   "pygments_lexer": "ipython2",
   "version": "2.7.6"
  }
 },
 "nbformat": 4,
 "nbformat_minor": 5
}
