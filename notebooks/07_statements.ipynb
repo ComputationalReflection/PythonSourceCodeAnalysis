{
 "cells": [
  {
   "metadata": {},
   "cell_type": "markdown",
   "source": [
    "# Statements\n",
    "\n",
    "Esta tabla contiene la información de las sentencias.  --> ABEL COMPLETAR <--"
   ],
   "id": "148ae8871134f924"
  },
  {
   "metadata": {},
   "cell_type": "markdown",
   "source": "## 1 - Obtencion de datos",
   "id": "d3c24a719032807f"
  },
  {
   "metadata": {
    "ExecuteTime": {
     "end_time": "2024-05-13T15:31:50.425149Z",
     "start_time": "2024-05-13T15:31:47.717520Z"
    }
   },
   "cell_type": "code",
   "source": [
    "import matplotlib.pyplot as plt\n",
    "from notebooks_utils import *\n",
    "\n",
    "full_table = get_data('statements')\n",
    "\n",
    "# Table name, features and target.\n",
    "TABLE_NAME = 'statements'\n",
    "TABLE_FEATURES = ['statement__category', 'statement__parent', 'statement__statement_role', 'statement__first_child_category','statement__second_child_category','statement__third_child_category' 'statement__height', 'statement__depth', 'statement__has_or_else', 'statement__body_size', 'statement__expertise_level']\n",
    "TABLE_TARGET = 'statement__expertise_level'\n",
    "\n",
    "# Load features and target.\n",
    "X, y = full_table[TABLE_FEATURES], full_table[[TABLE_TARGET]].iloc[:,0]\n",
    "\n",
    "# Print information about the loaded table.\n",
    "print(f'Features shape: {X.shape}')\n",
    "print(f'Target shape: {y.shape}')\n",
    "\n",
    "print(f'As we can see the downloaded data contains a total of {X.shape[0]} instances. Each of the instances corresponds to a program. For each program we have {X.shape[1]} attributes.')"
   ],
   "id": "9f0a949e91eb384b",
   "execution_count": 20,
   "outputs": []
  },
  {
   "metadata": {},
   "cell_type": "markdown",
   "source": [
    "## 2 - Exploracion de datos\n",
    "\n",
    "Una vez tenemos nuestra tabla en un dataframe el siguiente paso es explorarla para ver qué tipo de información contiene."
   ],
   "id": "bcda7cb784bf0a1"
  },
  {
   "metadata": {
    "ExecuteTime": {
     "end_time": "2024-05-13T15:20:38.552832Z",
     "start_time": "2024-05-13T15:20:37.334178Z"
    }
   },
   "cell_type": "code",
   "source": [
    "print(X.info())\n",
    "print('=============')\n",
    "print(y.info())"
   ],
   "id": "2eb3d09993235bcb",
   "execution_count": 5,
   "outputs": []
  },
  {
   "metadata": {},
   "cell_type": "markdown",
   "source": "Cómo podemos ver la tabla está compuesta por 3 variables numéricas y 9 de tipo objeto.",
   "id": "24f7607501c2e574"
  },
  {
   "metadata": {},
   "cell_type": "markdown",
   "source": "### 2.1 - Balance de clases",
   "id": "f6d062d35a16e21d"
  },
  {
   "metadata": {
    "ExecuteTime": {
     "end_time": "2024-05-13T15:21:03.731241Z",
     "start_time": "2024-05-13T15:21:03.122542Z"
    }
   },
   "cell_type": "code",
   "source": [
    "instances_for_class_low = len(full_table[full_table[TABLE_TARGET] == \"BEGINNER\"])\n",
    "instances_for_class_high = len(full_table[full_table[TABLE_TARGET] == \"EXPERT\"])\n",
    "\n",
    "print(f\"The dataset contains {instances_for_class_low/len(full_table)*100:.4}% instances for BEGINNER class and {instances_for_class_high/len(full_table)*100:.4}% for EXPERT class.\")"
   ],
   "id": "58277bda417384ef",
   "execution_count": 6,
   "outputs": []
  },
  {
   "metadata": {},
   "cell_type": "markdown",
   "source": [
    "### 2.2 - Duplicados\n",
    "Miramos si la tabla tiene entradas duplicadas."
   ],
   "id": "3b9b55798c7ecbd5"
  },
  {
   "metadata": {
    "ExecuteTime": {
     "end_time": "2024-05-13T15:21:09.285140Z",
     "start_time": "2024-05-13T15:21:07.802516Z"
    }
   },
   "cell_type": "code",
   "source": [
    "number_of_duplicated_entries = sum(full_table.duplicated(subset=TABLE_FEATURES + [TABLE_TARGET]))\n",
    "duplicated_entries_pct = number_of_duplicated_entries / len(full_table) * 100\n",
    "print(f\"The dataset contains [{duplicated_entries_pct:.4}%] of duplicated entries.\")"
   ],
   "id": "ed5e6830bbf484a6",
   "execution_count": 7,
   "outputs": []
  },
  {
   "metadata": {},
   "cell_type": "markdown",
   "source": [
    "### 2.3 - Valores Nulos \n",
    "Miramos si alguna de las variables que contiene la tabla contiene algún valor que sea nulo."
   ],
   "id": "63d4e4ed1d8d2c6c"
  },
  {
   "metadata": {
    "ExecuteTime": {
     "end_time": "2024-05-13T15:21:15.958767Z",
     "start_time": "2024-05-13T15:21:15.404504Z"
    }
   },
   "cell_type": "code",
   "source": "X.isnull().sum()",
   "id": "6c991380e6e0413e",
   "execution_count": 8,
   "outputs": []
  },
  {
   "metadata": {},
   "cell_type": "markdown",
   "source": "Los nulos se deben a que esos campos solo son aplicables para ciertas categorias",
   "id": "411f48e8d36123cb"
  },
  {
   "metadata": {
    "ExecuteTime": {
     "end_time": "2024-05-13T15:21:20.456753Z",
     "start_time": "2024-05-13T15:21:19.984041Z"
    }
   },
   "cell_type": "code",
   "source": "print_empty_cols(X)",
   "id": "18b2dfadf1719a4b",
   "execution_count": 9,
   "outputs": []
  },
  {
   "metadata": {},
   "cell_type": "markdown",
   "source": "### 2.4 - Describimos los valores de las variables de la tabla.",
   "id": "5bb94c0f81c08024"
  },
  {
   "metadata": {
    "ExecuteTime": {
     "end_time": "2024-05-13T15:35:29.691342Z",
     "start_time": "2024-05-13T15:35:28.014464Z"
    }
   },
   "cell_type": "code",
   "source": "np.transpose(X.describe(percentiles=[.25, .50, .75], include = ['object', 'float', 'bool', 'int']))",
   "id": "74bba302a29fbfd5",
   "execution_count": 26,
   "outputs": []
  },
  {
   "metadata": {},
   "cell_type": "markdown",
   "source": "Vamos a discretizar las variables numericas, agrupando conjuntos de valores en categorias, para hacer un análisis de los datos. Para cada variable es necesaario ver la distribucion de lo valores para hacer los bins (categorias).",
   "id": "9af3eb59b924a596"
  },
  {
   "metadata": {
    "ExecuteTime": {
     "end_time": "2024-05-23T17:48:52.205042Z",
     "start_time": "2024-05-23T17:48:51.471743Z"
    }
   },
   "cell_type": "code",
   "source": [
    "# DISCRETIZATION\n",
    "X_copy = X.copy()\n",
    "\n",
    "discretized_columns = {\n",
    "    \"statement__depth\": [(0.0, 1.0), (1.0, 3.0), (3.0, 4.0), (4.0, inf)],  # min: 0.0 max: 82.0\n",
    "    \"statement__height\": [(0.0, 2.0), (2.0, 3.0), (3.0, 4.0), (4.0, inf)],  # min: 1.0 max: 54.0\n",
    "    \"statement__body_size\": [(-1.0, 1.0), (1.0, 2.0), (2.0, inf)],  # min: 1.0 max: 276\n",
    "}\n",
    "\n",
    "discretize_columns(X_copy, discretized_columns)\n",
    "    \n",
    "# SINGLE FEATURE\n",
    "print(\"--- SINGLE FEATURE ---\")\n",
    "print(get_statistics(X_copy, ['statement__depth'], 10))\n",
    "print(get_statistics(X_copy, ['statement__height'], 10))\n",
    "print(get_statistics(X_copy, ['statement__body_size'], 10))\n",
    "print(get_statistics(X_copy, ['statement__category'], 10))\n",
    "print(get_statistics(X_copy, ['statement__first_child_category'], 10))\n",
    "print(get_statistics(X_copy, ['statement__second_child_category'], 10))\n",
    "print(get_statistics(X_copy, ['statement__third_child_category'], 10))\n",
    "print(get_statistics(X_copy, ['statement__parent'], 10))\n",
    "print(get_statistics(X_copy, ['statement__statement_role'], 10))\n",
    "print(get_statistics(X_copy, ['statement__has_or_else'], 10))\n",
    "\n",
    "\n",
    "# 2 FEATURES\n",
    "print(\"--- TWO FEATURES ---\")\n",
    "#print(get_statistics(X_copy, ['module__function_defs_pct', 'module__number_of_classes'], 10))\n",
    "\n",
    "# 3 FEATURES\n",
    "print(\"--- THREE FEATURES ---\")\n",
    "#print(get_statistics(X_copy, ['module__class_defs_pct', 'module__function_defs_pct', 'module__enum_defs_pct'], 10))"
   ],
   "id": "6baf20dd3e3ca759",
   "outputs": [],
   "execution_count": null
  },
  {
   "metadata": {
    "ExecuteTime": {
     "end_time": "2024-05-13T15:54:18.451713Z",
     "start_time": "2024-05-13T15:54:16.066264Z"
    }
   },
   "cell_type": "code",
   "source": [
    "def normalize_datatypes(X:pd.DataFrame, y:pd.Series) -> (pd.DataFrame, pd.Series, [str]):\n",
    "    X = pd.get_dummies(X)\n",
    "    X = X.astype('float32')\n",
    "    y = y.apply(lambda value: 0 if value == \"BEGINNER\" else 1) # EXPERT will be 1 and BEGINNER will be 0.\n",
    "    y = y.astype('float32')\n",
    "    columns_names = X.columns.tolist()\n",
    "    return X, y, columns_names\n",
    "\n",
    "X, y, TABLE_FEATURES = normalize_datatypes(X, y)\n",
    "# Print information about the loaded table\n",
    "print(f'Features shape: {X.shape}')\n",
    "print(f'Target shape: {y.shape}')"
   ],
   "id": "5084c89dcb377a92",
   "execution_count": 43,
   "outputs": []
  },
  {
   "metadata": {},
   "cell_type": "markdown",
   "source": "#### Muestra la matriz de correlación de pearson entre las variables de la tabla.",
   "id": "ed8befe21328a079"
  },
  {
   "metadata": {
    "ExecuteTime": {
     "end_time": "2024-05-13T15:59:54.113693Z",
     "start_time": "2024-05-13T15:59:43.300843Z"
    }
   },
   "cell_type": "code",
   "source": "sns.heatmap(X.corr(), annot=False)",
   "id": "dea960d18d682104",
   "execution_count": 45,
   "outputs": []
  },
  {
   "metadata": {},
   "cell_type": "markdown",
   "source": "Se aprecian muchas relaciones pero habrá que mirar como mejorar este diagrama para que sea legible",
   "id": "41f186bf7b96f15f"
  },
  {
   "metadata": {},
   "cell_type": "markdown",
   "source": [
    "## 3 - Detección de valores atípicos (outliers)\n",
    "Una vez sabemos qué datos contiene la tabla, analizaremos los valores que toma cada una de las variables de cada instancia. El objetivo es identificar posibles valores atípicos que nos dificulten la realización de futuras tareas. \n",
    "Tras su análisis, se puede concluir que un valor:\n",
    "    - **Es erróneo**. En este caso hay que tomar una decisión para cada caso, siendo los tratamientos más extendidos son listwise, pairwise, drop variables, mean/median imputation, most frequent, separate category, zero imputation, cold deck, hot deck,(stochastic) regression, k-NN and multiple imputation. Los resultados de imputación regresiva, k-NN y múltiple dan buenos resultados, aunque, como se ha indicado, es necesario el estudio en cada caso.\n",
    "    - **Es correcto, pero anómalo**. Se documenta su existencia para su posible discusión y se mantiene en el dataset. En estos casos se hace necesaria la utilización de algoritmos y estadísticos que no sean muy sensibles a dichos valores anómalos.\n",
    "\n",
    "## Univariate\n",
    "Para cada uno de los atributos se debe realizar un análisis y detección de valores atípicos, estudiando su posible causa. \n",
    "Existen diversas formas de calcular los valores anómalos. \n",
    "\n",
    "### Variables numéricas\n",
    "Para las variables numéricas, se suele identificar: \n",
    "    - a) Valor atípico leve es el que está fuera de $[Q1 - 1.5IQR, Q3 + 1.5IQR]$, donde $IQR = Q3-Q1$.\n",
    "    - b) Valor atípico extremo está fuera de $[Q1 - 3IQR, Q3 + 3IQR]$.\n",
    "\n",
    "La idea es probar con a) y si hay pocas instancias analizarlas. Si hubiese muchas, mirar b) y analizar si fuesen pocas. No hay un algoritmo o método estipulado, puesto que depende del dominio del problema y de los datos.\n",
    "\n",
    "Los límites de Tukey se basan en los cuartiles de los datos y son sensibles a la presencia de sesgo en la distribución. Cuando hay asimetría en los datos, los límites de Tukey pueden no ser tan efectivos para identificar outliers de manera equitativa en ambos extremos de la distribución. El Coeficiente de Medcouple es útil para identificar la asimetría en los datos, especialmente en presencia de valores atípicos o sesgados. Es una medida robusta porque no se ve tan afectada por valores extremos como la media y la desviación estándar. El MC puede proporcionar información adicional sobre la asimetría de la distribución, lo que te permite ajustar los límites de Tukey de manera más apropiada para tu conjunto de datos específico. Una posible variacion de los límites de Tukey teniendo en cuenta MC podria ser: \n",
    "   - Si MC es mayor que 0 (asimetría hacia la derecha):\n",
    "      - low = (q1-1.5 * math.exp(-4*mc) * iqr)\n",
    "      - high = (q3+1.5 * math.exp(3.5*mc) * iqr)\n",
    "   - Si la asimetriza es hacia la izquierda:    \n",
    "      - low = (q1-1.5 * math.exp(-3.5*mc) * iqr)\n",
    "      - high = (q3+1.5 * math.exp(4*mc) * iqr)\n",
    "\n",
    "\n",
    "### Variables categóricas\n",
    "Para las variables categóricas no existe el concepto de valor anómalo, pero sí se puede considerar en base a un análisis de frecuencia. Por ejemplo, que el uso de una categoría sea residual, pudiendo tener un 0.1% de instancias en el dataset. Para detectar estos valores, se puede fijar un valor mínimo de frecuencia en función del número posible de valores de la variable categórica (2 en el caso de una variable booleana). Por ejemplo, un umbral de $\\frac{0.2\\%}{valores}$ (0.1% en el caso de una variable booleana)"
   ],
   "id": "599c97eec7b7d283"
  },
  {
   "metadata": {},
   "cell_type": "markdown",
   "source": [
    "## Analisis detallado de variables\n",
    "Para cada una de las 7 variable (1 booleanas, 3 numericas y 3 categóricas) se hara un analisis detallado "
   ],
   "id": "132c8742057275c"
  },
  {
   "metadata": {},
   "cell_type": "markdown",
   "source": [
    "### Variable has_or_else (1/10)\n",
    "Esta variable es de tipo booleano y representa si ciertas categorias de statements tienen la clausula else. El primer paso es hacer un análisis visual de como se distribuyen los valores de la variable."
   ],
   "id": "6abba739e46da213"
  },
  {
   "metadata": {
    "ExecuteTime": {
     "end_time": "2024-05-13T15:32:48.747917Z",
     "start_time": "2024-05-13T15:32:46.620743Z"
    }
   },
   "cell_type": "code",
   "source": [
    "plt.xticks([0, 1], ['False', 'True'])\n",
    "sns.histplot(X['statement__has_or_else'], discrete=True)"
   ],
   "id": "4ab35b2ef94a3379",
   "execution_count": 22,
   "outputs": []
  },
  {
   "metadata": {
    "ExecuteTime": {
     "end_time": "2024-05-13T15:33:11.600530Z",
     "start_time": "2024-05-13T15:33:10.390566Z"
    }
   },
   "cell_type": "code",
   "source": [
    "num_true_values = len(X[X['statement__has_or_else'] == True])\n",
    "num_false_values = len(X[X['statement__has_or_else'] == False])\n",
    "std = X['statement__has_or_else'].std()\n",
    "freq_true = len(X[X['statement__has_or_else'] == True]) / len(X['statement__has_or_else'])\n",
    "freq_false = len(X[X['statement__has_or_else'] == False]) / len(X['statement__has_or_else'])\n",
    "print(f'La variable has_or_else contiene {num_true_values} valores verdaderos y {num_false_values} valores falsos. Y, la desviación típica es de {std}')\n",
    "print(f'La frecuencia con la que programa puede tener la variable has_or_else a True es {freq_true}.')\n",
    "print(f'La frecuencia con la que programa puede tener la variable has_or_else a False es {freq_false}.')"
   ],
   "id": "f4a042829ae6fac5",
   "execution_count": 23,
   "outputs": []
  },
  {
   "metadata": {},
   "cell_type": "markdown",
   "source": "No suma el 100% debido a los valores nulos",
   "id": "d3cbaba493238746"
  },
  {
   "metadata": {
    "ExecuteTime": {
     "end_time": "2024-05-13T15:33:39.510136Z",
     "start_time": "2024-05-13T15:33:39.326692Z"
    }
   },
   "cell_type": "code",
   "source": [
    "possible_values = [True, False]\n",
    "print_frequency_anal_for_cat_var(X, 'statement__has_or_else', possible_values)"
   ],
   "id": "c614dd60d0ab8e5b",
   "execution_count": 24,
   "outputs": []
  },
  {
   "metadata": {
    "ExecuteTime": {
     "end_time": "2024-05-13T15:33:50.464354Z",
     "start_time": "2024-05-13T15:33:50.243604Z"
    }
   },
   "cell_type": "code",
   "source": "X[X['statement__has_or_else'] == True].describe(percentiles=[.25, .50, .75], include = ['object', 'float', 'bool', 'int'])\n",
   "id": "6c33bdd1420008cf",
   "execution_count": 25,
   "outputs": []
  },
  {
   "metadata": {},
   "cell_type": "markdown",
   "source": [
    "### Variable height (2/10)\n",
    "Esta variable representa la distancia del statement al root del módulo (fichero). Como vimos en la descripción de la tabla esta varibale adopta valores en el rango 1 - 54. Con una media de 3.176."
   ],
   "id": "119fc307a9194a96"
  },
  {
   "metadata": {
    "ExecuteTime": {
     "end_time": "2024-05-13T15:36:46.411366Z",
     "start_time": "2024-05-13T15:36:41.145724Z"
    }
   },
   "cell_type": "code",
   "source": "sns.stripplot(X['statement__height'])",
   "id": "5efd7fbb4f34563d",
   "execution_count": 27,
   "outputs": []
  },
  {
   "metadata": {
    "ExecuteTime": {
     "end_time": "2024-05-13T15:36:50.435811Z",
     "start_time": "2024-05-13T15:36:50.116475Z"
    }
   },
   "cell_type": "code",
   "source": "print_outliers_for_df_column(X, 'statement__height')",
   "id": "e5649a2923239004",
   "execution_count": 28,
   "outputs": []
  },
  {
   "metadata": {
    "ExecuteTime": {
     "end_time": "2024-05-13T15:37:03.249392Z",
     "start_time": "2024-05-13T15:37:03.202373Z"
    }
   },
   "cell_type": "code",
   "source": "X[X['statement__height'] > 10].describe(percentiles=[.25, .50, .75], include = ['object', 'float', 'bool', 'int'])",
   "id": "5c5e0e6eb4cd173",
   "execution_count": 29,
   "outputs": []
  },
  {
   "metadata": {},
   "cell_type": "markdown",
   "source": [
    "### Variable depth (3/10)\n",
    "Esta variable representa la distancia desde el statement hasta una hoja del ast. Como vimos en la descripción de la tabla esta varibale adopta valores en el rango 0 - 82. Con una media de 2.8496."
   ],
   "id": "a92021ee6047bd1d"
  },
  {
   "metadata": {
    "ExecuteTime": {
     "end_time": "2024-05-13T15:38:06.900050Z",
     "start_time": "2024-05-13T15:38:01.013938Z"
    }
   },
   "cell_type": "code",
   "source": "sns.stripplot(X['statement__depth'])",
   "id": "1b8338fdb1c032b5",
   "execution_count": 30,
   "outputs": []
  },
  {
   "metadata": {
    "ExecuteTime": {
     "end_time": "2024-05-13T15:38:07.288498Z",
     "start_time": "2024-05-13T15:38:06.902037Z"
    }
   },
   "cell_type": "code",
   "source": "print_outliers_for_df_column(X, 'statement__depth')",
   "id": "3444c461d823515d",
   "execution_count": 31,
   "outputs": []
  },
  {
   "metadata": {
    "ExecuteTime": {
     "end_time": "2024-05-13T15:38:17.058196Z",
     "start_time": "2024-05-13T15:38:16.991323Z"
    }
   },
   "cell_type": "code",
   "source": "X[X['statement__depth'] > 13].describe(percentiles=[.25, .50, .75], include = ['object', 'float', 'bool', 'int'])",
   "id": "44b1c024f9d465e9",
   "execution_count": 32,
   "outputs": []
  },
  {
   "metadata": {},
   "cell_type": "markdown",
   "source": [
    "### Variable body_size (4/10)\n",
    "Esta variable representa el número de sentencias o expresiones que se definen dentro del cuerpo de ciertas categorías de sentencias. Como vimos en la descripción de la tabla esta varibale adopta valores en el rango 1 - 276. Con una media de 1.8938."
   ],
   "id": "9e889648c0e5a078"
  },
  {
   "metadata": {
    "ExecuteTime": {
     "end_time": "2024-05-13T15:39:36.814757Z",
     "start_time": "2024-05-13T15:39:33.926344Z"
    }
   },
   "cell_type": "code",
   "source": "sns.stripplot(X['statement__body_size'])",
   "id": "536be140a0b685eb",
   "execution_count": 33,
   "outputs": []
  },
  {
   "metadata": {
    "ExecuteTime": {
     "end_time": "2024-05-13T15:42:25.511922Z",
     "start_time": "2024-05-13T15:42:25.386441Z"
    }
   },
   "cell_type": "code",
   "source": "print_outliers_for_df_column(X,'statement__body_size')",
   "id": "d76842919b0b6dbe",
   "execution_count": 38,
   "outputs": []
  },
  {
   "metadata": {
    "ExecuteTime": {
     "end_time": "2024-05-13T15:40:14.317929Z",
     "start_time": "2024-05-13T15:40:14.279418Z"
    }
   },
   "cell_type": "code",
   "source": "X[X['statement__body_size'] > 50].describe(percentiles=[.25, .50, .75], include = ['object', 'float', 'bool', 'int'])",
   "id": "e07c9b0d8cfd4af0",
   "execution_count": 37,
   "outputs": []
  },
  {
   "metadata": {},
   "cell_type": "markdown",
   "source": [
    "### Variable category (5/10)\n",
    "Esta variable es de tipo categórica y representa el tipo de sentencia."
   ],
   "id": "3237adcf6d852d54"
  },
  {
   "metadata": {
    "ExecuteTime": {
     "end_time": "2024-05-13T15:44:09.055926Z",
     "start_time": "2024-05-13T15:44:04.865869Z"
    }
   },
   "cell_type": "code",
   "source": "sns.catplot(full_table['statement__category'], kind=\"count\")",
   "id": "299706e14d9a3f2",
   "execution_count": 39,
   "outputs": []
  },
  {
   "metadata": {
    "ExecuteTime": {
     "end_time": "2024-05-13T15:44:26.921960Z",
     "start_time": "2024-05-13T15:44:24.010041Z"
    }
   },
   "cell_type": "code",
   "source": "print_frequency_anal_for_cat_var(full_table, 'statement__category')",
   "id": "f4253192e2301909",
   "execution_count": 40,
   "outputs": []
  },
  {
   "metadata": {},
   "cell_type": "markdown",
   "source": [
    "### Variable parent (6/10)\n",
    "Esta variable es de tipo categórica y representa el tipo del padre de la sentencia."
   ],
   "id": "c130c51d4dc991df"
  },
  {
   "metadata": {
    "ExecuteTime": {
     "end_time": "2024-05-13T15:47:25.339740Z",
     "start_time": "2024-05-13T15:47:20.230752Z"
    }
   },
   "cell_type": "code",
   "source": "sns.catplot(full_table['statement__parent'], kind=\"count\")",
   "id": "98a38b66bb523423",
   "execution_count": 41,
   "outputs": []
  },
  {
   "metadata": {
    "ExecuteTime": {
     "end_time": "2024-05-13T15:47:32.835247Z",
     "start_time": "2024-05-13T15:47:30.526115Z"
    }
   },
   "cell_type": "code",
   "source": "print_frequency_anal_for_cat_var(full_table, 'statement__parent')",
   "id": "468a87240bc58040",
   "execution_count": 42,
   "outputs": []
  },
  {
   "metadata": {},
   "cell_type": "markdown",
   "source": [
    "### Variable statement_role (7/10)\n",
    "Esta variable es de tipo categórica y representa el rol que representa la sentencia en su padre."
   ],
   "id": "7ad6ac09173ea89e"
  },
  {
   "metadata": {
    "ExecuteTime": {
     "end_time": "2024-05-13T16:00:15.274343Z",
     "start_time": "2024-05-13T16:00:08.844171Z"
    }
   },
   "cell_type": "code",
   "source": "sns.catplot(full_table['statement__statement_role'], kind=\"count\")",
   "id": "73bf787c45c3e4a8",
   "execution_count": 46,
   "outputs": []
  },
  {
   "metadata": {
    "ExecuteTime": {
     "end_time": "2024-05-13T16:00:25.242885Z",
     "start_time": "2024-05-13T16:00:21.952937Z"
    }
   },
   "cell_type": "code",
   "source": "print_frequency_anal_for_cat_var(full_table, 'statement__statement_role')",
   "id": "5a67e8184aafa5f7",
   "execution_count": 47,
   "outputs": []
  },
  {
   "metadata": {},
   "cell_type": "markdown",
   "source": [
    "### Variable first_child_category (8/10)\n",
    "Esta variable es de tipo categorica y representa la categoria del primer hijo de la sentencia."
   ],
   "id": "2f390d6d844c33a5"
  },
  {
   "metadata": {},
   "cell_type": "code",
   "outputs": [],
   "execution_count": null,
   "source": "sns.catplot(full_table['statement__first_child_category'], kind=\"count\")",
   "id": "215f261b2036a011"
  },
  {
   "metadata": {},
   "cell_type": "code",
   "outputs": [],
   "execution_count": 12,
   "source": "print_frequency_anal_for_cat_var(full_table, 'statement__first_child_category')",
   "id": "d1565733acf2d196"
  },
  {
   "metadata": {},
   "cell_type": "markdown",
   "source": [
    "### Variable second_child_category (9/10)\n",
    "Esta variable es de tipo categorica y representa la categoria del segundo hijo de la sentencia."
   ],
   "id": "9de2299dcbd694d9"
  },
  {
   "metadata": {},
   "cell_type": "code",
   "outputs": [],
   "execution_count": null,
   "source": "sns.catplot(full_table['statement__second_child_category'], kind=\"count\")",
   "id": "8ecae3c347e659ff"
  },
  {
   "metadata": {},
   "cell_type": "code",
   "outputs": [],
   "execution_count": 12,
   "source": "print_frequency_anal_for_cat_var(full_table, 'statement__second_child_category')",
   "id": "e99890dffa5666"
  },
  {
   "metadata": {},
   "cell_type": "markdown",
   "source": [
    "### Variable third_child_category (3/9)\n",
    "Esta variable es de tipo categorica y representa la categoria del tercer hijo de la sentencia."
   ],
   "id": "306e106616d5c6d2"
  },
  {
   "metadata": {},
   "cell_type": "code",
   "outputs": [],
   "execution_count": null,
   "source": "sns.catplot(full_table['statement__third_child_category'], kind=\"count\")",
   "id": "e3b9e118c779c45a"
  },
  {
   "metadata": {},
   "cell_type": "code",
   "outputs": [],
   "execution_count": 12,
   "source": "print_frequency_anal_for_cat_var(full_table, 'statement__third_child_category')",
   "id": "f955b09089fef95c"
  }
 ],
 "metadata": {
  "kernelspec": {
   "display_name": "Python 3",
   "language": "python",
   "name": "python3"
  },
  "language_info": {
   "codemirror_mode": {
    "name": "ipython",
    "version": 2
   },
   "file_extension": ".py",
   "mimetype": "text/x-python",
   "name": "python",
   "nbconvert_exporter": "python",
   "pygments_lexer": "ipython2",
   "version": "2.7.6"
  }
 },
 "nbformat": 4,
 "nbformat_minor": 5
}
