{
 "cells": [
  {
   "metadata": {},
   "cell_type": "markdown",
   "source": [
    "# Statements\n",
    "\n",
    "Esta tabla contiene la información de las sentencias."
   ],
   "id": "148ae8871134f924"
  },
  {
   "metadata": {},
   "cell_type": "markdown",
   "source": "## 1 - Obtencion de datos",
   "id": "d3c24a719032807f"
  },
  {
   "metadata": {
    "ExecuteTime": {
     "end_time": "2024-07-05T15:24:55.091337Z",
     "start_time": "2024-07-05T15:24:47.373201Z"
    }
   },
   "cell_type": "code",
   "source": [
    "import matplotlib.pyplot as plt\n",
    "from notebooks_utils import *\n",
    "from domains import *\n",
    "\n",
    "full_table = get_data('statements')\n",
    "\n",
    "# Table name, features and target.\n",
    "TABLE_NAME = 'statements'\n",
    "TABLE_FEATURES = ['statement__category', 'statement__parent', 'statement__statement_role', 'statement__first_child_category','statement__second_child_category','statement__third_child_category', 'statement__height', 'statement__depth', 'statement__has_or_else', 'statement__body_size', 'statement__expertise_level']\n",
    "TABLE_TARGET = 'statement__expertise_level'\n",
    "\n",
    "# Load features and target.\n",
    "X, y = full_table[TABLE_FEATURES], full_table[[TABLE_TARGET]].iloc[:,0]\n",
    "\n",
    "# Print information about the loaded table.\n",
    "print(f'Features shape: {X.shape}')\n",
    "print(f'Target shape: {y.shape}')\n",
    "\n",
    "print(f'As we can see the downloaded data contains a total of {X.shape[0]} instances. For each instance we have {X.shape[1]} attributes.')"
   ],
   "id": "9f0a949e91eb384b",
   "outputs": [
    {
     "name": "stdout",
     "output_type": "stream",
     "text": [
      "2024-07-05 17:24:53.108130 Data cache files found ...\n",
      "2024-07-05 17:24:54.780444 Data cache files successfully loaded!!\n",
      "Features shape: (1074760, 11)\n",
      "Target shape: (1074760,)\n",
      "As we can see the downloaded data contains a total of 1074760 instances. For each instance we have 11 attributes.\n"
     ]
    }
   ],
   "execution_count": 1
  },
  {
   "metadata": {},
   "cell_type": "markdown",
   "source": [
    "## 2 - Exploracion de datos\n",
    "\n",
    "Una vez tenemos nuestra tabla en un dataframe el siguiente paso es explorarla para ver qué tipo de información contiene."
   ],
   "id": "bcda7cb784bf0a1"
  },
  {
   "metadata": {
    "ExecuteTime": {
     "end_time": "2024-07-05T15:24:56.339015Z",
     "start_time": "2024-07-05T15:24:55.091337Z"
    }
   },
   "cell_type": "code",
   "source": [
    "print(X.info())\n",
    "print('=============')\n",
    "print(y.info())"
   ],
   "id": "2eb3d09993235bcb",
   "outputs": [
    {
     "name": "stdout",
     "output_type": "stream",
     "text": [
      "<class 'pandas.core.frame.DataFrame'>\n",
      "RangeIndex: 1074760 entries, 0 to 1074759\n",
      "Data columns (total 11 columns):\n",
      " #   Column                            Non-Null Count    Dtype  \n",
      "---  ------                            --------------    -----  \n",
      " 0   statement__category               1074760 non-null  object \n",
      " 1   statement__parent                 1074760 non-null  object \n",
      " 2   statement__statement_role         1074760 non-null  object \n",
      " 3   statement__first_child_category   931613 non-null   object \n",
      " 4   statement__second_child_category  574192 non-null   object \n",
      " 5   statement__third_child_category   11194 non-null    object \n",
      " 6   statement__height                 1074760 non-null  int64  \n",
      " 7   statement__depth                  1074760 non-null  int64  \n",
      " 8   statement__has_or_else            241044 non-null   object \n",
      " 9   statement__body_size              255237 non-null   float64\n",
      " 10  statement__expertise_level        1074760 non-null  object \n",
      "dtypes: float64(1), int64(2), object(8)\n",
      "memory usage: 90.2+ MB\n",
      "None\n",
      "=============\n",
      "<class 'pandas.core.series.Series'>\n",
      "RangeIndex: 1074760 entries, 0 to 1074759\n",
      "Series name: statement__expertise_level\n",
      "Non-Null Count    Dtype \n",
      "--------------    ----- \n",
      "1074760 non-null  object\n",
      "dtypes: object(1)\n",
      "memory usage: 8.2+ MB\n",
      "None\n"
     ]
    }
   ],
   "execution_count": 2
  },
  {
   "metadata": {},
   "cell_type": "markdown",
   "source": "Cómo podemos ver la tabla está compuesta por 3 variables numéricas y 8 de tipo objeto.",
   "id": "24f7607501c2e574"
  },
  {
   "metadata": {},
   "cell_type": "markdown",
   "source": "### 2.1 - Equilibrado de clases",
   "id": "f6d062d35a16e21d"
  },
  {
   "metadata": {
    "ExecuteTime": {
     "end_time": "2024-07-05T15:24:56.998411Z",
     "start_time": "2024-07-05T15:24:56.339015Z"
    }
   },
   "cell_type": "code",
   "source": [
    "instances_for_class_low = len(full_table[full_table[TABLE_TARGET] == \"BEGINNER\"])\n",
    "instances_for_class_high = len(full_table[full_table[TABLE_TARGET] == \"EXPERT\"])\n",
    "\n",
    "print(f\"The dataset contains {instances_for_class_low/len(full_table)*100:.4}% instances for BEGINNER class and {instances_for_class_high/len(full_table)*100:.4}% for EXPERT class.\")"
   ],
   "id": "58277bda417384ef",
   "outputs": [
    {
     "name": "stdout",
     "output_type": "stream",
     "text": [
      "The dataset contains 42.57% instances for BEGINNER class and 57.43% for EXPERT class.\n"
     ]
    }
   ],
   "execution_count": 3
  },
  {
   "metadata": {},
   "cell_type": "markdown",
   "source": [
    "### 2.2 - Valores Nulos \n",
    "Miramos si alguna de las variables que contiene la tabla contiene algún valor que sea nulo."
   ],
   "id": "63d4e4ed1d8d2c6c"
  },
  {
   "metadata": {
    "ExecuteTime": {
     "end_time": "2024-07-05T15:24:57.509357Z",
     "start_time": "2024-07-05T15:24:56.998411Z"
    }
   },
   "cell_type": "code",
   "source": "X.isnull().sum()",
   "id": "6c991380e6e0413e",
   "outputs": [
    {
     "data": {
      "text/plain": [
       "statement__category                       0\n",
       "statement__parent                         0\n",
       "statement__statement_role                 0\n",
       "statement__first_child_category      143147\n",
       "statement__second_child_category     500568\n",
       "statement__third_child_category     1063566\n",
       "statement__height                         0\n",
       "statement__depth                          0\n",
       "statement__has_or_else               833716\n",
       "statement__body_size                 819523\n",
       "statement__expertise_level                0\n",
       "dtype: int64"
      ]
     },
     "execution_count": 4,
     "metadata": {},
     "output_type": "execute_result"
    }
   ],
   "execution_count": 4
  },
  {
   "metadata": {},
   "cell_type": "markdown",
   "source": [
    "### IMPORTANTE\n",
    "Los nulos se deben a que esas variables solo son aplicables para ciertas categorias"
   ],
   "id": "411f48e8d36123cb"
  },
  {
   "metadata": {
    "ExecuteTime": {
     "end_time": "2024-07-05T15:24:58.630673Z",
     "start_time": "2024-07-05T15:24:57.509357Z"
    }
   },
   "cell_type": "code",
   "source": "print_empty_cols(X)",
   "id": "18b2dfadf1719a4b",
   "outputs": [
    {
     "name": "stdout",
     "output_type": "stream",
     "text": [
      "statement__category\n",
      "-------------------\n",
      "0 instancias no tienen un valor para la columna statement__category\n",
      "\n",
      "\n",
      "statement__parent\n",
      "-----------------\n",
      "0 instancias no tienen un valor para la columna statement__parent\n",
      "\n",
      "\n",
      "statement__statement_role\n",
      "-------------------------\n",
      "0 instancias no tienen un valor para la columna statement__statement_role\n",
      "\n",
      "\n",
      "statement__first_child_category\n",
      "-------------------------------\n",
      "0 instancias no tienen un valor para la columna statement__first_child_category\n",
      "\n",
      "\n",
      "statement__second_child_category\n",
      "--------------------------------\n",
      "0 instancias no tienen un valor para la columna statement__second_child_category\n",
      "\n",
      "\n",
      "statement__third_child_category\n",
      "-------------------------------\n",
      "0 instancias no tienen un valor para la columna statement__third_child_category\n",
      "\n",
      "\n",
      "statement__height\n",
      "-----------------\n",
      "0 instancias no tienen un valor para la columna statement__height\n",
      "\n",
      "\n",
      "statement__depth\n",
      "----------------\n",
      "0 instancias no tienen un valor para la columna statement__depth\n",
      "\n",
      "\n",
      "statement__has_or_else\n",
      "----------------------\n",
      "0 instancias no tienen un valor para la columna statement__has_or_else\n",
      "\n",
      "\n",
      "statement__body_size\n",
      "--------------------\n",
      "0 instancias no tienen un valor para la columna statement__body_size\n",
      "\n",
      "\n",
      "statement__expertise_level\n",
      "--------------------------\n",
      "0 instancias no tienen un valor para la columna statement__expertise_level\n",
      "\n",
      "\n"
     ]
    }
   ],
   "execution_count": 5
  },
  {
   "metadata": {},
   "cell_type": "markdown",
   "source": "### 2.3 - Describimos los valores de las variables de la tabla.",
   "id": "5bb94c0f81c08024"
  },
  {
   "metadata": {
    "ExecuteTime": {
     "end_time": "2024-07-05T15:25:00.950773Z",
     "start_time": "2024-07-05T15:24:58.630673Z"
    }
   },
   "cell_type": "code",
   "source": "np.transpose(X.describe(percentiles=[.25, .50, .75], include = ['object', 'float', 'bool', 'int']))",
   "id": "74bba302a29fbfd5",
   "outputs": [
    {
     "data": {
      "text/plain": [
       "                                      count unique             top    freq  \\\n",
       "statement__category                 1074760     22  AssignmentStmt  485714   \n",
       "statement__parent                   1074760     12              If  276482   \n",
       "statement__statement_role           1074760     20   MethodDefBody  260909   \n",
       "statement__first_child_category      931613     33        Variable  479672   \n",
       "statement__second_child_category     574192     35            Call  249004   \n",
       "statement__third_child_category       11194     29            Call    5299   \n",
       "statement__height                 1074760.0    NaN             NaN     NaN   \n",
       "statement__depth                  1074760.0    NaN             NaN     NaN   \n",
       "statement__has_or_else               241044      2           False  180804   \n",
       "statement__body_size               255237.0    NaN             NaN     NaN   \n",
       "statement__expertise_level          1074760      2          EXPERT  617277   \n",
       "\n",
       "                                      mean       std  min  25%  50%  75%  \\\n",
       "statement__category                    NaN       NaN  NaN  NaN  NaN  NaN   \n",
       "statement__parent                      NaN       NaN  NaN  NaN  NaN  NaN   \n",
       "statement__statement_role              NaN       NaN  NaN  NaN  NaN  NaN   \n",
       "statement__first_child_category        NaN       NaN  NaN  NaN  NaN  NaN   \n",
       "statement__second_child_category       NaN       NaN  NaN  NaN  NaN  NaN   \n",
       "statement__third_child_category        NaN       NaN  NaN  NaN  NaN  NaN   \n",
       "statement__height                 3.221554  1.958228  1.0  2.0  3.0  4.0   \n",
       "statement__depth                  2.859124  2.102781  0.0  1.0  3.0  4.0   \n",
       "statement__has_or_else                 NaN       NaN  NaN  NaN  NaN  NaN   \n",
       "statement__body_size              1.895544  2.294126  1.0  1.0  1.0  2.0   \n",
       "statement__expertise_level             NaN       NaN  NaN  NaN  NaN  NaN   \n",
       "\n",
       "                                    max  \n",
       "statement__category                 NaN  \n",
       "statement__parent                   NaN  \n",
       "statement__statement_role           NaN  \n",
       "statement__first_child_category     NaN  \n",
       "statement__second_child_category    NaN  \n",
       "statement__third_child_category     NaN  \n",
       "statement__height                  54.0  \n",
       "statement__depth                   82.0  \n",
       "statement__has_or_else              NaN  \n",
       "statement__body_size              276.0  \n",
       "statement__expertise_level          NaN  "
      ],
      "text/html": [
       "<div>\n",
       "<style scoped>\n",
       "    .dataframe tbody tr th:only-of-type {\n",
       "        vertical-align: middle;\n",
       "    }\n",
       "\n",
       "    .dataframe tbody tr th {\n",
       "        vertical-align: top;\n",
       "    }\n",
       "\n",
       "    .dataframe thead th {\n",
       "        text-align: right;\n",
       "    }\n",
       "</style>\n",
       "<table border=\"1\" class=\"dataframe\">\n",
       "  <thead>\n",
       "    <tr style=\"text-align: right;\">\n",
       "      <th></th>\n",
       "      <th>count</th>\n",
       "      <th>unique</th>\n",
       "      <th>top</th>\n",
       "      <th>freq</th>\n",
       "      <th>mean</th>\n",
       "      <th>std</th>\n",
       "      <th>min</th>\n",
       "      <th>25%</th>\n",
       "      <th>50%</th>\n",
       "      <th>75%</th>\n",
       "      <th>max</th>\n",
       "    </tr>\n",
       "  </thead>\n",
       "  <tbody>\n",
       "    <tr>\n",
       "      <th>statement__category</th>\n",
       "      <td>1074760</td>\n",
       "      <td>22</td>\n",
       "      <td>AssignmentStmt</td>\n",
       "      <td>485714</td>\n",
       "      <td>NaN</td>\n",
       "      <td>NaN</td>\n",
       "      <td>NaN</td>\n",
       "      <td>NaN</td>\n",
       "      <td>NaN</td>\n",
       "      <td>NaN</td>\n",
       "      <td>NaN</td>\n",
       "    </tr>\n",
       "    <tr>\n",
       "      <th>statement__parent</th>\n",
       "      <td>1074760</td>\n",
       "      <td>12</td>\n",
       "      <td>If</td>\n",
       "      <td>276482</td>\n",
       "      <td>NaN</td>\n",
       "      <td>NaN</td>\n",
       "      <td>NaN</td>\n",
       "      <td>NaN</td>\n",
       "      <td>NaN</td>\n",
       "      <td>NaN</td>\n",
       "      <td>NaN</td>\n",
       "    </tr>\n",
       "    <tr>\n",
       "      <th>statement__statement_role</th>\n",
       "      <td>1074760</td>\n",
       "      <td>20</td>\n",
       "      <td>MethodDefBody</td>\n",
       "      <td>260909</td>\n",
       "      <td>NaN</td>\n",
       "      <td>NaN</td>\n",
       "      <td>NaN</td>\n",
       "      <td>NaN</td>\n",
       "      <td>NaN</td>\n",
       "      <td>NaN</td>\n",
       "      <td>NaN</td>\n",
       "    </tr>\n",
       "    <tr>\n",
       "      <th>statement__first_child_category</th>\n",
       "      <td>931613</td>\n",
       "      <td>33</td>\n",
       "      <td>Variable</td>\n",
       "      <td>479672</td>\n",
       "      <td>NaN</td>\n",
       "      <td>NaN</td>\n",
       "      <td>NaN</td>\n",
       "      <td>NaN</td>\n",
       "      <td>NaN</td>\n",
       "      <td>NaN</td>\n",
       "      <td>NaN</td>\n",
       "    </tr>\n",
       "    <tr>\n",
       "      <th>statement__second_child_category</th>\n",
       "      <td>574192</td>\n",
       "      <td>35</td>\n",
       "      <td>Call</td>\n",
       "      <td>249004</td>\n",
       "      <td>NaN</td>\n",
       "      <td>NaN</td>\n",
       "      <td>NaN</td>\n",
       "      <td>NaN</td>\n",
       "      <td>NaN</td>\n",
       "      <td>NaN</td>\n",
       "      <td>NaN</td>\n",
       "    </tr>\n",
       "    <tr>\n",
       "      <th>statement__third_child_category</th>\n",
       "      <td>11194</td>\n",
       "      <td>29</td>\n",
       "      <td>Call</td>\n",
       "      <td>5299</td>\n",
       "      <td>NaN</td>\n",
       "      <td>NaN</td>\n",
       "      <td>NaN</td>\n",
       "      <td>NaN</td>\n",
       "      <td>NaN</td>\n",
       "      <td>NaN</td>\n",
       "      <td>NaN</td>\n",
       "    </tr>\n",
       "    <tr>\n",
       "      <th>statement__height</th>\n",
       "      <td>1074760.0</td>\n",
       "      <td>NaN</td>\n",
       "      <td>NaN</td>\n",
       "      <td>NaN</td>\n",
       "      <td>3.221554</td>\n",
       "      <td>1.958228</td>\n",
       "      <td>1.0</td>\n",
       "      <td>2.0</td>\n",
       "      <td>3.0</td>\n",
       "      <td>4.0</td>\n",
       "      <td>54.0</td>\n",
       "    </tr>\n",
       "    <tr>\n",
       "      <th>statement__depth</th>\n",
       "      <td>1074760.0</td>\n",
       "      <td>NaN</td>\n",
       "      <td>NaN</td>\n",
       "      <td>NaN</td>\n",
       "      <td>2.859124</td>\n",
       "      <td>2.102781</td>\n",
       "      <td>0.0</td>\n",
       "      <td>1.0</td>\n",
       "      <td>3.0</td>\n",
       "      <td>4.0</td>\n",
       "      <td>82.0</td>\n",
       "    </tr>\n",
       "    <tr>\n",
       "      <th>statement__has_or_else</th>\n",
       "      <td>241044</td>\n",
       "      <td>2</td>\n",
       "      <td>False</td>\n",
       "      <td>180804</td>\n",
       "      <td>NaN</td>\n",
       "      <td>NaN</td>\n",
       "      <td>NaN</td>\n",
       "      <td>NaN</td>\n",
       "      <td>NaN</td>\n",
       "      <td>NaN</td>\n",
       "      <td>NaN</td>\n",
       "    </tr>\n",
       "    <tr>\n",
       "      <th>statement__body_size</th>\n",
       "      <td>255237.0</td>\n",
       "      <td>NaN</td>\n",
       "      <td>NaN</td>\n",
       "      <td>NaN</td>\n",
       "      <td>1.895544</td>\n",
       "      <td>2.294126</td>\n",
       "      <td>1.0</td>\n",
       "      <td>1.0</td>\n",
       "      <td>1.0</td>\n",
       "      <td>2.0</td>\n",
       "      <td>276.0</td>\n",
       "    </tr>\n",
       "    <tr>\n",
       "      <th>statement__expertise_level</th>\n",
       "      <td>1074760</td>\n",
       "      <td>2</td>\n",
       "      <td>EXPERT</td>\n",
       "      <td>617277</td>\n",
       "      <td>NaN</td>\n",
       "      <td>NaN</td>\n",
       "      <td>NaN</td>\n",
       "      <td>NaN</td>\n",
       "      <td>NaN</td>\n",
       "      <td>NaN</td>\n",
       "      <td>NaN</td>\n",
       "    </tr>\n",
       "  </tbody>\n",
       "</table>\n",
       "</div>"
      ]
     },
     "execution_count": 6,
     "metadata": {},
     "output_type": "execute_result"
    }
   ],
   "execution_count": 6
  },
  {
   "metadata": {},
   "cell_type": "markdown",
   "source": "Vamos a discretizar las variables numericas, agrupando conjuntos de valores en categorias, para hacer un análisis de los datos. Para cada variable es necesaario ver la distribucion de lo valores para hacer los bins (categorias).",
   "id": "9af3eb59b924a596"
  },
  {
   "metadata": {
    "ExecuteTime": {
     "end_time": "2024-07-05T15:25:06.649937Z",
     "start_time": "2024-07-05T15:25:00.950773Z"
    }
   },
   "cell_type": "code",
   "source": [
    "# DISCRETIZATION\n",
    "X_copy = X.copy()\n",
    "\n",
    "discretized_columns = {\n",
    "    \"statement__depth\": [(0.0, 1.0), (1.0, 3.0), (3.0, 4.0), (4.0, inf)],  # min: 0.0 max: 82.0\n",
    "    \"statement__height\": [(0.0, 2.0), (2.0, 3.0), (3.0, 4.0), (4.0, inf)],  # min: 1.0 max: 54.0\n",
    "    \"statement__body_size\": [(1.0, 2.0), (2.0, inf)],  # min: 1.0 max: 276. Los Unkonwn son los None\n",
    "}\n",
    "\n",
    "discretize_columns(X_copy, discretized_columns)\n",
    "    \n",
    "# SINGLE FEATURE\n",
    "print(\"--- SINGLE FEATURE ---\")\n",
    "print(get_statistics(X_copy, ['statement__depth'], 10))\n",
    "print(get_statistics(X_copy, ['statement__height'], 10))\n",
    "print(get_statistics(X_copy, ['statement__body_size'], 10))\n",
    "print(get_statistics(X_copy, ['statement__category'], 10))\n",
    "print(get_statistics(X_copy, ['statement__first_child_category'], 10))\n",
    "print(get_statistics(X_copy, ['statement__second_child_category'], 10))\n",
    "print(get_statistics(X_copy, ['statement__third_child_category'], 10))\n",
    "print(get_statistics(X_copy, ['statement__parent'], 10))\n",
    "print(get_statistics(X_copy, ['statement__statement_role'], 10))\n",
    "print(get_statistics(X_copy, ['statement__has_or_else'], 10))\n",
    "\n",
    "\n",
    "# 2 FEATURES\n",
    "print(\"--- TWO FEATURES ---\")\n",
    "#print(get_statistics(X_copy, ['module__function_defs_pct', 'module__number_of_classes'], 10))\n",
    "\n",
    "# 3 FEATURES\n",
    "print(\"--- THREE FEATURES ---\")\n",
    "#print(get_statistics(X_copy, ['module__class_defs_pct', 'module__function_defs_pct', 'module__enum_defs_pct'], 10))"
   ],
   "id": "6baf20dd3e3ca759",
   "outputs": [
    {
     "name": "stdout",
     "output_type": "stream",
     "text": [
      "--- SINGLE FEATURE ---\n",
      "statement__depth  count  percentage\n",
      "       [1.0_3.0) 366666   34.116082\n",
      "       [4.0_inf] 341824   31.804682\n",
      "       [3.0_4.0) 238879   22.226264\n",
      "       [0.0_1.0) 127391   11.852972\n",
      "\n",
      "statement__height  count  percentage\n",
      "        [3.0_4.0) 362373   33.716644\n",
      "        [4.0_inf] 350290   32.592393\n",
      "        [2.0_3.0) 215674   20.067178\n",
      "        [0.0_2.0) 146423   13.623786\n",
      "\n",
      "statement__body_size  count  percentage\n",
      "             unknown 819523   76.251721\n",
      "           [1.0_2.0) 158525   14.749805\n",
      "           [2.0_inf]  96712    8.998474\n",
      "\n",
      "statement__category  count  percentage\n",
      "     AssignmentStmt 485714   45.192787\n",
      "                 If 172162   16.018646\n",
      "             Return 116172   10.809111\n",
      "         ImportFrom  68903    6.411013\n",
      "                For  43867    4.081562\n",
      "             Assert  36653    3.410343\n",
      "             Import  36263    3.374056\n",
      "              Raise  23623    2.197979\n",
      "AugmentedAssignment  20160    1.875768\n",
      "                Try  15756    1.466002\n",
      "\n",
      "statement__first_child_category  count  percentage\n",
      "                       Variable 479672   44.630615\n",
      "                        Compare 120564   11.217760\n",
      "                            Dot 102075    9.497469\n",
      "                           Call  91352    8.499758\n",
      "                   TupleLiteral  30644    2.851241\n",
      "                       Indexing  29866    2.778853\n",
      "                        Logical  26461    2.462038\n",
      "                       UnaryNot  19229    1.789144\n",
      "                    BoolLiteral  10710    0.996502\n",
      "                    NoneLiteral   3753    0.349194\n",
      "\n",
      "statement__second_child_category  count  percentage\n",
      "                            Call 249004   23.168335\n",
      "                        Variable  75862    7.058506\n",
      "                      IntLiteral  32651    3.037981\n",
      "                        Indexing  29967    2.788250\n",
      "                      Arithmetic  29616    2.755592\n",
      "                   StringLiteral  27842    2.590532\n",
      "                             Dot  26630    2.477762\n",
      "                     ListLiteral  26223    2.439894\n",
      "                     BoolLiteral  15521    1.444136\n",
      "                     NoneLiteral  11606    1.079869\n",
      "\n",
      "statement__third_child_category  count  percentage\n",
      "                           Call   5299    0.493040\n",
      "                    NoneLiteral   1337    0.124400\n",
      "                    ListLiteral    977    0.090904\n",
      "              DictionaryLiteral    786    0.073133\n",
      "                       Variable    507    0.047173\n",
      "                    BoolLiteral    441    0.041032\n",
      "                  StringLiteral    416    0.038706\n",
      "                            Dot    326    0.030332\n",
      "                     IntLiteral    278    0.025866\n",
      "                       Indexing    256    0.023819\n",
      "\n",
      "statement__parent  count  percentage\n",
      "               If 276482   25.724999\n",
      "        MethodDef 260909   24.276024\n",
      "      FunctionDef 200075   18.615784\n",
      "           Module 146423   13.623786\n",
      "              For  70922    6.598869\n",
      "             With  32564    3.029886\n",
      "              Try  24318    2.262645\n",
      "         ClassDef  23604    2.196211\n",
      "            While  22147    2.060646\n",
      "    ExceptHandler  16864    1.569094\n",
      "\n",
      "statement__statement_role  count  percentage\n",
      "            MethodDefBody 260909   24.276024\n",
      "                   IfBody 210206   19.558413\n",
      "          FunctionDefBody 188681   17.555640\n",
      "                   Module 146423   13.623786\n",
      "                  ForBody  70175    6.529365\n",
      "               IfElseBody  66276    6.166586\n",
      "                 WithBody  32564    3.029886\n",
      "             ClassDefBody  23604    2.196211\n",
      "                  TryBody  22348    2.079348\n",
      "                WhileBody  22046    2.051249\n",
      "\n",
      " statement__has_or_else  count  percentage\n",
      "                  False 180804   16.822733\n",
      "                   True  60240    5.604972\n",
      "\n",
      "--- TWO FEATURES ---\n",
      "--- THREE FEATURES ---\n"
     ]
    }
   ],
   "execution_count": 7
  },
  {
   "metadata": {
    "ExecuteTime": {
     "end_time": "2024-07-05T15:25:08.038602Z",
     "start_time": "2024-07-05T15:25:06.649937Z"
    }
   },
   "cell_type": "code",
   "source": [
    "def normalize_datatypes(X:pd.DataFrame, y:pd.Series) -> (pd.DataFrame, pd.Series, [str]):\n",
    "    X = pd.get_dummies(X)\n",
    "    X = X.astype('float32')\n",
    "    y = y.apply(lambda value: 0 if value == \"BEGINNER\" else 1) # EXPERT will be 1 and BEGINNER will be 0.\n",
    "    y = y.astype('float32')\n",
    "    columns_names = X.columns.tolist()\n",
    "    return X, y, columns_names\n",
    "\n",
    "X, y, TABLE_FEATURES = normalize_datatypes(X, y)\n",
    "# Print information about the loaded table\n",
    "print(f'Features shape: {X.shape}')\n",
    "print(f'Target shape: {y.shape}')"
   ],
   "id": "5084c89dcb377a92",
   "outputs": [
    {
     "ename": "MemoryError",
     "evalue": "Unable to allocate 8.20 MiB for an array with shape (1074760,) and data type int64",
     "output_type": "error",
     "traceback": [
      "\u001B[1;31m---------------------------------------------------------------------------\u001B[0m",
      "\u001B[1;31mMemoryError\u001B[0m                               Traceback (most recent call last)",
      "Cell \u001B[1;32mIn[8], line 9\u001B[0m\n\u001B[0;32m      6\u001B[0m     columns_names \u001B[38;5;241m=\u001B[39m X\u001B[38;5;241m.\u001B[39mcolumns\u001B[38;5;241m.\u001B[39mtolist()\n\u001B[0;32m      7\u001B[0m     \u001B[38;5;28;01mreturn\u001B[39;00m X, y, columns_names\n\u001B[1;32m----> 9\u001B[0m X, y, TABLE_FEATURES \u001B[38;5;241m=\u001B[39m \u001B[43mnormalize_datatypes\u001B[49m\u001B[43m(\u001B[49m\u001B[43mX\u001B[49m\u001B[43m,\u001B[49m\u001B[43m \u001B[49m\u001B[43my\u001B[49m\u001B[43m)\u001B[49m\n\u001B[0;32m     10\u001B[0m \u001B[38;5;66;03m# Print information about the loaded table\u001B[39;00m\n\u001B[0;32m     11\u001B[0m \u001B[38;5;28mprint\u001B[39m(\u001B[38;5;124mf\u001B[39m\u001B[38;5;124m'\u001B[39m\u001B[38;5;124mFeatures shape: \u001B[39m\u001B[38;5;132;01m{\u001B[39;00mX\u001B[38;5;241m.\u001B[39mshape\u001B[38;5;132;01m}\u001B[39;00m\u001B[38;5;124m'\u001B[39m)\n",
      "Cell \u001B[1;32mIn[8], line 2\u001B[0m, in \u001B[0;36mnormalize_datatypes\u001B[1;34m(X, y)\u001B[0m\n\u001B[0;32m      1\u001B[0m \u001B[38;5;28;01mdef\u001B[39;00m \u001B[38;5;21mnormalize_datatypes\u001B[39m(X:pd\u001B[38;5;241m.\u001B[39mDataFrame, y:pd\u001B[38;5;241m.\u001B[39mSeries) \u001B[38;5;241m-\u001B[39m\u001B[38;5;241m>\u001B[39m (pd\u001B[38;5;241m.\u001B[39mDataFrame, pd\u001B[38;5;241m.\u001B[39mSeries, [\u001B[38;5;28mstr\u001B[39m]):\n\u001B[1;32m----> 2\u001B[0m     X \u001B[38;5;241m=\u001B[39m \u001B[43mpd\u001B[49m\u001B[38;5;241;43m.\u001B[39;49m\u001B[43mget_dummies\u001B[49m\u001B[43m(\u001B[49m\u001B[43mX\u001B[49m\u001B[43m)\u001B[49m\n\u001B[0;32m      3\u001B[0m     X \u001B[38;5;241m=\u001B[39m X\u001B[38;5;241m.\u001B[39mastype(\u001B[38;5;124m'\u001B[39m\u001B[38;5;124mfloat32\u001B[39m\u001B[38;5;124m'\u001B[39m)\n\u001B[0;32m      4\u001B[0m     y \u001B[38;5;241m=\u001B[39m y\u001B[38;5;241m.\u001B[39mapply(\u001B[38;5;28;01mlambda\u001B[39;00m value: \u001B[38;5;241m0\u001B[39m \u001B[38;5;28;01mif\u001B[39;00m value \u001B[38;5;241m==\u001B[39m \u001B[38;5;124m\"\u001B[39m\u001B[38;5;124mBEGINNER\u001B[39m\u001B[38;5;124m\"\u001B[39m \u001B[38;5;28;01melse\u001B[39;00m \u001B[38;5;241m1\u001B[39m) \u001B[38;5;66;03m# EXPERT will be 1 and BEGINNER will be 0.\u001B[39;00m\n",
      "File \u001B[1;32mD:\\Programacion\\Python12\\Lib\\site-packages\\pandas\\core\\reshape\\encoding.py:214\u001B[0m, in \u001B[0;36mget_dummies\u001B[1;34m(data, prefix, prefix_sep, dummy_na, columns, sparse, drop_first, dtype)\u001B[0m\n\u001B[0;32m    210\u001B[0m     with_dummies \u001B[38;5;241m=\u001B[39m [data\u001B[38;5;241m.\u001B[39mselect_dtypes(exclude\u001B[38;5;241m=\u001B[39mdtypes_to_encode)]\n\u001B[0;32m    212\u001B[0m \u001B[38;5;28;01mfor\u001B[39;00m col, pre, sep \u001B[38;5;129;01min\u001B[39;00m \u001B[38;5;28mzip\u001B[39m(data_to_encode\u001B[38;5;241m.\u001B[39mitems(), prefix, prefix_sep):\n\u001B[0;32m    213\u001B[0m     \u001B[38;5;66;03m# col is (column_name, column), use just column data here\u001B[39;00m\n\u001B[1;32m--> 214\u001B[0m     dummy \u001B[38;5;241m=\u001B[39m \u001B[43m_get_dummies_1d\u001B[49m\u001B[43m(\u001B[49m\n\u001B[0;32m    215\u001B[0m \u001B[43m        \u001B[49m\u001B[43mcol\u001B[49m\u001B[43m[\u001B[49m\u001B[38;5;241;43m1\u001B[39;49m\u001B[43m]\u001B[49m\u001B[43m,\u001B[49m\n\u001B[0;32m    216\u001B[0m \u001B[43m        \u001B[49m\u001B[43mprefix\u001B[49m\u001B[38;5;241;43m=\u001B[39;49m\u001B[43mpre\u001B[49m\u001B[43m,\u001B[49m\n\u001B[0;32m    217\u001B[0m \u001B[43m        \u001B[49m\u001B[43mprefix_sep\u001B[49m\u001B[38;5;241;43m=\u001B[39;49m\u001B[43msep\u001B[49m\u001B[43m,\u001B[49m\n\u001B[0;32m    218\u001B[0m \u001B[43m        \u001B[49m\u001B[43mdummy_na\u001B[49m\u001B[38;5;241;43m=\u001B[39;49m\u001B[43mdummy_na\u001B[49m\u001B[43m,\u001B[49m\n\u001B[0;32m    219\u001B[0m \u001B[43m        \u001B[49m\u001B[43msparse\u001B[49m\u001B[38;5;241;43m=\u001B[39;49m\u001B[43msparse\u001B[49m\u001B[43m,\u001B[49m\n\u001B[0;32m    220\u001B[0m \u001B[43m        \u001B[49m\u001B[43mdrop_first\u001B[49m\u001B[38;5;241;43m=\u001B[39;49m\u001B[43mdrop_first\u001B[49m\u001B[43m,\u001B[49m\n\u001B[0;32m    221\u001B[0m \u001B[43m        \u001B[49m\u001B[43mdtype\u001B[49m\u001B[38;5;241;43m=\u001B[39;49m\u001B[43mdtype\u001B[49m\u001B[43m,\u001B[49m\n\u001B[0;32m    222\u001B[0m \u001B[43m    \u001B[49m\u001B[43m)\u001B[49m\n\u001B[0;32m    223\u001B[0m     with_dummies\u001B[38;5;241m.\u001B[39mappend(dummy)\n\u001B[0;32m    224\u001B[0m result \u001B[38;5;241m=\u001B[39m concat(with_dummies, axis\u001B[38;5;241m=\u001B[39m\u001B[38;5;241m1\u001B[39m)\n",
      "File \u001B[1;32mD:\\Programacion\\Python12\\Lib\\site-packages\\pandas\\core\\reshape\\encoding.py:250\u001B[0m, in \u001B[0;36m_get_dummies_1d\u001B[1;34m(data, prefix, prefix_sep, dummy_na, sparse, drop_first, dtype)\u001B[0m\n\u001B[0;32m    247\u001B[0m \u001B[38;5;28;01mfrom\u001B[39;00m \u001B[38;5;21;01mpandas\u001B[39;00m\u001B[38;5;21;01m.\u001B[39;00m\u001B[38;5;21;01mcore\u001B[39;00m\u001B[38;5;21;01m.\u001B[39;00m\u001B[38;5;21;01mreshape\u001B[39;00m\u001B[38;5;21;01m.\u001B[39;00m\u001B[38;5;21;01mconcat\u001B[39;00m \u001B[38;5;28;01mimport\u001B[39;00m concat\n\u001B[0;32m    249\u001B[0m \u001B[38;5;66;03m# Series avoids inconsistent NaN handling\u001B[39;00m\n\u001B[1;32m--> 250\u001B[0m codes, levels \u001B[38;5;241m=\u001B[39m \u001B[43mfactorize_from_iterable\u001B[49m\u001B[43m(\u001B[49m\u001B[43mSeries\u001B[49m\u001B[43m(\u001B[49m\u001B[43mdata\u001B[49m\u001B[43m,\u001B[49m\u001B[43m \u001B[49m\u001B[43mcopy\u001B[49m\u001B[38;5;241;43m=\u001B[39;49m\u001B[38;5;28;43;01mFalse\u001B[39;49;00m\u001B[43m)\u001B[49m\u001B[43m)\u001B[49m\n\u001B[0;32m    252\u001B[0m \u001B[38;5;28;01mif\u001B[39;00m dtype \u001B[38;5;129;01mis\u001B[39;00m \u001B[38;5;28;01mNone\u001B[39;00m \u001B[38;5;129;01mand\u001B[39;00m \u001B[38;5;28mhasattr\u001B[39m(data, \u001B[38;5;124m\"\u001B[39m\u001B[38;5;124mdtype\u001B[39m\u001B[38;5;124m\"\u001B[39m):\n\u001B[0;32m    253\u001B[0m     input_dtype \u001B[38;5;241m=\u001B[39m data\u001B[38;5;241m.\u001B[39mdtype\n",
      "File \u001B[1;32mD:\\Programacion\\Python12\\Lib\\site-packages\\pandas\\core\\arrays\\categorical.py:3042\u001B[0m, in \u001B[0;36mfactorize_from_iterable\u001B[1;34m(values)\u001B[0m\n\u001B[0;32m   3037\u001B[0m     codes \u001B[38;5;241m=\u001B[39m values\u001B[38;5;241m.\u001B[39mcodes\n\u001B[0;32m   3038\u001B[0m \u001B[38;5;28;01melse\u001B[39;00m:\n\u001B[0;32m   3039\u001B[0m     \u001B[38;5;66;03m# The value of ordered is irrelevant since we don't use cat as such,\u001B[39;00m\n\u001B[0;32m   3040\u001B[0m     \u001B[38;5;66;03m# but only the resulting categories, the order of which is independent\u001B[39;00m\n\u001B[0;32m   3041\u001B[0m     \u001B[38;5;66;03m# from ordered. Set ordered to False as default. See GH #15457\u001B[39;00m\n\u001B[1;32m-> 3042\u001B[0m     cat \u001B[38;5;241m=\u001B[39m \u001B[43mCategorical\u001B[49m\u001B[43m(\u001B[49m\u001B[43mvalues\u001B[49m\u001B[43m,\u001B[49m\u001B[43m \u001B[49m\u001B[43mordered\u001B[49m\u001B[38;5;241;43m=\u001B[39;49m\u001B[38;5;28;43;01mFalse\u001B[39;49;00m\u001B[43m)\u001B[49m\n\u001B[0;32m   3043\u001B[0m     categories \u001B[38;5;241m=\u001B[39m cat\u001B[38;5;241m.\u001B[39mcategories\n\u001B[0;32m   3044\u001B[0m     codes \u001B[38;5;241m=\u001B[39m cat\u001B[38;5;241m.\u001B[39mcodes\n",
      "File \u001B[1;32mD:\\Programacion\\Python12\\Lib\\site-packages\\pandas\\core\\arrays\\categorical.py:460\u001B[0m, in \u001B[0;36mCategorical.__init__\u001B[1;34m(self, values, categories, ordered, dtype, fastpath, copy)\u001B[0m\n\u001B[0;32m    458\u001B[0m     values \u001B[38;5;241m=\u001B[39m sanitize_array(values, \u001B[38;5;28;01mNone\u001B[39;00m)\n\u001B[0;32m    459\u001B[0m \u001B[38;5;28;01mtry\u001B[39;00m:\n\u001B[1;32m--> 460\u001B[0m     codes, categories \u001B[38;5;241m=\u001B[39m \u001B[43mfactorize\u001B[49m\u001B[43m(\u001B[49m\u001B[43mvalues\u001B[49m\u001B[43m,\u001B[49m\u001B[43m \u001B[49m\u001B[43msort\u001B[49m\u001B[38;5;241;43m=\u001B[39;49m\u001B[38;5;28;43;01mTrue\u001B[39;49;00m\u001B[43m)\u001B[49m\n\u001B[0;32m    461\u001B[0m \u001B[38;5;28;01mexcept\u001B[39;00m \u001B[38;5;167;01mTypeError\u001B[39;00m \u001B[38;5;28;01mas\u001B[39;00m err:\n\u001B[0;32m    462\u001B[0m     codes, categories \u001B[38;5;241m=\u001B[39m factorize(values, sort\u001B[38;5;241m=\u001B[39m\u001B[38;5;28;01mFalse\u001B[39;00m)\n",
      "File \u001B[1;32mD:\\Programacion\\Python12\\Lib\\site-packages\\pandas\\core\\algorithms.py:795\u001B[0m, in \u001B[0;36mfactorize\u001B[1;34m(values, sort, use_na_sentinel, size_hint)\u001B[0m\n\u001B[0;32m    792\u001B[0m             \u001B[38;5;66;03m# Don't modify (potentially user-provided) array\u001B[39;00m\n\u001B[0;32m    793\u001B[0m             values \u001B[38;5;241m=\u001B[39m np\u001B[38;5;241m.\u001B[39mwhere(null_mask, na_value, values)\n\u001B[1;32m--> 795\u001B[0m     codes, uniques \u001B[38;5;241m=\u001B[39m \u001B[43mfactorize_array\u001B[49m\u001B[43m(\u001B[49m\n\u001B[0;32m    796\u001B[0m \u001B[43m        \u001B[49m\u001B[43mvalues\u001B[49m\u001B[43m,\u001B[49m\n\u001B[0;32m    797\u001B[0m \u001B[43m        \u001B[49m\u001B[43muse_na_sentinel\u001B[49m\u001B[38;5;241;43m=\u001B[39;49m\u001B[43muse_na_sentinel\u001B[49m\u001B[43m,\u001B[49m\n\u001B[0;32m    798\u001B[0m \u001B[43m        \u001B[49m\u001B[43msize_hint\u001B[49m\u001B[38;5;241;43m=\u001B[39;49m\u001B[43msize_hint\u001B[49m\u001B[43m,\u001B[49m\n\u001B[0;32m    799\u001B[0m \u001B[43m    \u001B[49m\u001B[43m)\u001B[49m\n\u001B[0;32m    801\u001B[0m \u001B[38;5;28;01mif\u001B[39;00m sort \u001B[38;5;129;01mand\u001B[39;00m \u001B[38;5;28mlen\u001B[39m(uniques) \u001B[38;5;241m>\u001B[39m \u001B[38;5;241m0\u001B[39m:\n\u001B[0;32m    802\u001B[0m     uniques, codes \u001B[38;5;241m=\u001B[39m safe_sort(\n\u001B[0;32m    803\u001B[0m         uniques,\n\u001B[0;32m    804\u001B[0m         codes,\n\u001B[1;32m   (...)\u001B[0m\n\u001B[0;32m    807\u001B[0m         verify\u001B[38;5;241m=\u001B[39m\u001B[38;5;28;01mFalse\u001B[39;00m,\n\u001B[0;32m    808\u001B[0m     )\n",
      "File \u001B[1;32mD:\\Programacion\\Python12\\Lib\\site-packages\\pandas\\core\\algorithms.py:595\u001B[0m, in \u001B[0;36mfactorize_array\u001B[1;34m(values, use_na_sentinel, size_hint, na_value, mask)\u001B[0m\n\u001B[0;32m    592\u001B[0m hash_klass, values \u001B[38;5;241m=\u001B[39m _get_hashtable_algo(values)\n\u001B[0;32m    594\u001B[0m table \u001B[38;5;241m=\u001B[39m hash_klass(size_hint \u001B[38;5;129;01mor\u001B[39;00m \u001B[38;5;28mlen\u001B[39m(values))\n\u001B[1;32m--> 595\u001B[0m uniques, codes \u001B[38;5;241m=\u001B[39m \u001B[43mtable\u001B[49m\u001B[38;5;241;43m.\u001B[39;49m\u001B[43mfactorize\u001B[49m\u001B[43m(\u001B[49m\n\u001B[0;32m    596\u001B[0m \u001B[43m    \u001B[49m\u001B[43mvalues\u001B[49m\u001B[43m,\u001B[49m\n\u001B[0;32m    597\u001B[0m \u001B[43m    \u001B[49m\u001B[43mna_sentinel\u001B[49m\u001B[38;5;241;43m=\u001B[39;49m\u001B[38;5;241;43m-\u001B[39;49m\u001B[38;5;241;43m1\u001B[39;49m\u001B[43m,\u001B[49m\n\u001B[0;32m    598\u001B[0m \u001B[43m    \u001B[49m\u001B[43mna_value\u001B[49m\u001B[38;5;241;43m=\u001B[39;49m\u001B[43mna_value\u001B[49m\u001B[43m,\u001B[49m\n\u001B[0;32m    599\u001B[0m \u001B[43m    \u001B[49m\u001B[43mmask\u001B[49m\u001B[38;5;241;43m=\u001B[39;49m\u001B[43mmask\u001B[49m\u001B[43m,\u001B[49m\n\u001B[0;32m    600\u001B[0m \u001B[43m    \u001B[49m\u001B[43mignore_na\u001B[49m\u001B[38;5;241;43m=\u001B[39;49m\u001B[43muse_na_sentinel\u001B[49m\u001B[43m,\u001B[49m\n\u001B[0;32m    601\u001B[0m \u001B[43m\u001B[49m\u001B[43m)\u001B[49m\n\u001B[0;32m    603\u001B[0m \u001B[38;5;66;03m# re-cast e.g. i8->dt64/td64, uint8->bool\u001B[39;00m\n\u001B[0;32m    604\u001B[0m uniques \u001B[38;5;241m=\u001B[39m _reconstruct_data(uniques, original\u001B[38;5;241m.\u001B[39mdtype, original)\n",
      "File \u001B[1;32mpandas\\\\_libs\\\\hashtable_class_helper.pxi:7023\u001B[0m, in \u001B[0;36mpandas._libs.hashtable.StringHashTable.factorize\u001B[1;34m()\u001B[0m\n",
      "File \u001B[1;32mpandas\\\\_libs\\\\hashtable_class_helper.pxi:6912\u001B[0m, in \u001B[0;36mpandas._libs.hashtable.StringHashTable._unique\u001B[1;34m()\u001B[0m\n",
      "\u001B[1;31mMemoryError\u001B[0m: Unable to allocate 8.20 MiB for an array with shape (1074760,) and data type int64"
     ]
    }
   ],
   "execution_count": 8
  },
  {
   "metadata": {},
   "cell_type": "markdown",
   "source": "#### Muestra la matriz de correlación de pearson entre las variables de la tabla.",
   "id": "ed8befe21328a079"
  },
  {
   "metadata": {},
   "cell_type": "code",
   "source": [
    "#plt.figure(figsize=(12, 8))\n",
    "#sns.heatmap(X.corr(method='spearman'), annot=False)"
   ],
   "id": "dea960d18d682104",
   "outputs": [],
   "execution_count": null
  },
  {
   "metadata": {},
   "cell_type": "markdown",
   "source": "Se aprecian muchas relaciones pero habrá que mirar como mejorar este diagrama para que sea legible",
   "id": "41f186bf7b96f15f"
  },
  {
   "metadata": {},
   "cell_type": "markdown",
   "source": [
    "## 3 - Detección de valores atípicos (outliers)\n",
    "## Univariate\n",
    "## Analisis detallado de variables\n",
    "Para cada una de las 10 variable (1 booleana, 3 numericas, 6 categorica) se hara un analisis detallado"
   ],
   "id": "599c97eec7b7d283"
  },
  {
   "metadata": {},
   "cell_type": "markdown",
   "source": [
    "### Variable has_or_else (1/10)\n",
    "Esta variable es de tipo booleano y representa si ciertas categorias de statements tienen la clausula else. El primer paso es hacer un análisis visual de como se distribuyen los valores de la variable."
   ],
   "id": "6abba739e46da213"
  },
  {
   "metadata": {},
   "cell_type": "code",
   "source": [
    "plt.xticks([0, 1], ['False', 'True'])\n",
    "sns.histplot(full_table['statement__has_or_else'], discrete=True)"
   ],
   "id": "4ab35b2ef94a3379",
   "outputs": [],
   "execution_count": null
  },
  {
   "metadata": {},
   "cell_type": "code",
   "source": [
    "num_true_values = len(full_table[full_table['statement__has_or_else'] == True])\n",
    "num_false_values = len(full_table[full_table['statement__has_or_else'] == False])\n",
    "std = full_table['statement__has_or_else'].std()\n",
    "freq_true = len(full_table[full_table['statement__has_or_else'] == True]) / len(full_table['statement__has_or_else'])\n",
    "freq_false = len(full_table[full_table['statement__has_or_else'] == False]) / len(full_table['statement__has_or_else'])\n",
    "print(f'La variable has_or_else contiene {num_true_values} valores verdaderos y {num_false_values} valores falsos. Y, la desviación típica es de {std}')\n",
    "print(f'La frecuencia con la que programa puede tener la variable has_or_else a True es {freq_true}.')\n",
    "print(f'La frecuencia con la que programa puede tener la variable has_or_else a False es {freq_false}.')"
   ],
   "id": "f4a042829ae6fac5",
   "outputs": [],
   "execution_count": null
  },
  {
   "metadata": {},
   "cell_type": "markdown",
   "source": [
    "### IMPORTANTE\n",
    "No suma el 100% debido a los valores nulos"
   ],
   "id": "d3cbaba493238746"
  },
  {
   "metadata": {},
   "cell_type": "code",
   "source": [
    "possible_values = [True, False]\n",
    "print_frequency_anal_for_cat_var(full_table, 'statement__has_or_else', possible_values)"
   ],
   "id": "c614dd60d0ab8e5b",
   "outputs": [],
   "execution_count": null
  },
  {
   "metadata": {},
   "cell_type": "code",
   "source": "full_table[full_table['statement__has_or_else'] == True].describe(percentiles=[.25, .50, .75], include = ['object', 'float', 'bool', 'int'])",
   "id": "6c33bdd1420008cf",
   "outputs": [],
   "execution_count": null
  },
  {
   "metadata": {},
   "cell_type": "markdown",
   "source": [
    "### Variable height (2/10)\n",
    "Esta variable representa la distancia del statement al root del módulo (fichero). Como vimos en la descripción de la tabla esta varibale adopta valores en el rango 1 - 54. Con una media de 3.22."
   ],
   "id": "119fc307a9194a96"
  },
  {
   "metadata": {},
   "cell_type": "code",
   "source": "sns.stripplot(X['statement__height'])",
   "id": "5efd7fbb4f34563d",
   "outputs": [],
   "execution_count": null
  },
  {
   "metadata": {},
   "cell_type": "code",
   "source": "print_histogram(X, 'statement__height', 'statement__expertise_level', bins=30, include_all=False)",
   "id": "2a5cd2df3a8ac44f",
   "outputs": [],
   "execution_count": null
  },
  {
   "metadata": {},
   "cell_type": "code",
   "source": "print_outliers_for_df_column(X, 'statement__height')",
   "id": "e5649a2923239004",
   "outputs": [],
   "execution_count": null
  },
  {
   "metadata": {},
   "cell_type": "markdown",
   "source": "Describimos los valores de las variables de la tabla, cuando el valor de la variable es mayor que 10.0 (Con un MC de 75 usamos Tuckey Extremo)",
   "id": "6c54992853d0e245"
  },
  {
   "metadata": {},
   "cell_type": "code",
   "source": "X[X['statement__height'] > 10].describe(percentiles=[.25, .50, .75], include = ['object', 'float', 'bool', 'int'])",
   "id": "5c5e0e6eb4cd173",
   "outputs": [],
   "execution_count": null
  },
  {
   "metadata": {},
   "cell_type": "markdown",
   "source": [
    "### Variable depth (3/10)\n",
    "Esta variable representa la distancia desde el statement hasta una hoja del ast. Como vimos en la descripción de la tabla esta varibale adopta valores en el rango 0 - 82. Con una media de 2.85."
   ],
   "id": "a92021ee6047bd1d"
  },
  {
   "metadata": {},
   "cell_type": "code",
   "source": "sns.stripplot(X['statement__depth'])",
   "id": "1b8338fdb1c032b5",
   "outputs": [],
   "execution_count": null
  },
  {
   "metadata": {},
   "cell_type": "markdown",
   "source": [
    "### IMPORTANTE\n",
    "Los valores maximos estan muy alejados de los siguientes."
   ],
   "id": "79a4c58371b0ead0"
  },
  {
   "metadata": {},
   "cell_type": "code",
   "source": "print_histogram(X, 'statement__depth', 'statement__expertise_level', bins=30, include_all=False)",
   "id": "ee216cdfff8bda05",
   "outputs": [],
   "execution_count": null
  },
  {
   "metadata": {},
   "cell_type": "code",
   "source": "print_outliers_for_df_column(X, 'statement__depth')",
   "id": "3444c461d823515d",
   "outputs": [],
   "execution_count": null
  },
  {
   "metadata": {},
   "cell_type": "markdown",
   "source": "Describimos los valores de las variables de la tabla, cuando el valor de la variable es mayor que 13.0 (Con un MC de 92 usamos Tuckey Extremo)",
   "id": "ac78dbe8dcaab7a2"
  },
  {
   "metadata": {},
   "cell_type": "code",
   "source": "X[X['statement__depth'] > 13].describe(percentiles=[.25, .50, .75], include = ['object', 'float', 'bool', 'int'])",
   "id": "44b1c024f9d465e9",
   "outputs": [],
   "execution_count": null
  },
  {
   "metadata": {},
   "cell_type": "markdown",
   "source": [
    "### IMPORTANTE\n",
    "Hay que revisar los 6 que tienen un valor mayor de 80 "
   ],
   "id": "9d79a828f3a09913"
  },
  {
   "metadata": {},
   "cell_type": "markdown",
   "source": [
    "### Variable body_size (4/10)\n",
    "Esta variable representa el número de sentencias o expresiones que se definen dentro del cuerpo de ciertas categorías de sentencias. Como vimos en la descripción de la tabla esta varibale adopta valores en el rango 1 - 276. Con una media de 1.89."
   ],
   "id": "9e889648c0e5a078"
  },
  {
   "metadata": {},
   "cell_type": "code",
   "source": "sns.stripplot(X['statement__body_size'])",
   "id": "536be140a0b685eb",
   "outputs": [],
   "execution_count": null
  },
  {
   "metadata": {},
   "cell_type": "markdown",
   "source": [
    "### IMPORTANTE\n",
    "El valor maximo esta muy alejado de los siguientes."
   ],
   "id": "77f5fafbe4bea945"
  },
  {
   "metadata": {},
   "cell_type": "code",
   "source": "print_histogram(X, 'statement__body_size', 'statement__expertise_level', bins=30, include_all=False, max_value=150)",
   "id": "573c2e40c0f9f5cd",
   "outputs": [],
   "execution_count": null
  },
  {
   "metadata": {},
   "cell_type": "code",
   "source": "print_outliers_for_df_column(X,'statement__body_size')",
   "id": "d76842919b0b6dbe",
   "outputs": [],
   "execution_count": null
  },
  {
   "metadata": {},
   "cell_type": "markdown",
   "source": "Describimos los valores de las variables de la tabla, cuando el valor de la variable es mayor que 50.0 (Con un MC de 86 usamos U)",
   "id": "8bc4938259f0a6fd"
  },
  {
   "metadata": {},
   "cell_type": "code",
   "source": "X[X['statement__body_size'] > 49.82].describe(percentiles=[.25, .50, .75], include = ['object', 'float', 'bool', 'int'])",
   "id": "e07c9b0d8cfd4af0",
   "outputs": [],
   "execution_count": null
  },
  {
   "metadata": {},
   "cell_type": "markdown",
   "source": [
    "### IMPORTANTE\n",
    "Hay que revisar el que tiene 276"
   ],
   "id": "ba7d3cc657f1d178"
  },
  {
   "metadata": {},
   "cell_type": "markdown",
   "source": [
    "### Variable category (5/10)\n",
    "Esta variable es de tipo categórica y representa el tipo de sentencia."
   ],
   "id": "3237adcf6d852d54"
  },
  {
   "metadata": {},
   "cell_type": "code",
   "source": "print_categorical_histogram(full_table, 'statement__category', TABLE_TARGET, vertical=True, include_all=False)",
   "id": "299706e14d9a3f2",
   "outputs": [],
   "execution_count": null
  },
  {
   "metadata": {},
   "cell_type": "code",
   "source": "print_frequency_anal_for_cat_var(full_table, 'statement__category')",
   "id": "f4253192e2301909",
   "outputs": [],
   "execution_count": null
  },
  {
   "metadata": {},
   "cell_type": "code",
   "source": "print_values_usage_for_cat_var(full_table, 'statement__category', STATEMENT_CATEGORY_VALUES)",
   "id": "f96174cbe720cd45",
   "outputs": [],
   "execution_count": null
  },
  {
   "metadata": {},
   "cell_type": "markdown",
   "source": [
    "### Variable parent (6/10)\n",
    "Esta variable es de tipo categórica y representa el tipo del padre de la sentencia."
   ],
   "id": "c130c51d4dc991df"
  },
  {
   "metadata": {},
   "cell_type": "code",
   "source": "print_categorical_histogram(full_table, 'statement__parent', TABLE_TARGET, vertical=True, include_all=False)",
   "id": "98a38b66bb523423",
   "outputs": [],
   "execution_count": null
  },
  {
   "metadata": {},
   "cell_type": "code",
   "source": "print_frequency_anal_for_cat_var(full_table, 'statement__parent')",
   "id": "468a87240bc58040",
   "outputs": [],
   "execution_count": null
  },
  {
   "metadata": {},
   "cell_type": "code",
   "source": "print_values_usage_for_cat_var(full_table, 'statement__parent', STATEMENT_PARENT_VALUES)",
   "id": "5b3712aebcd3846d",
   "outputs": [],
   "execution_count": null
  },
  {
   "metadata": {},
   "cell_type": "markdown",
   "source": [
    "### Variable statement_role (7/10)\n",
    "Esta variable es de tipo categórica y representa el rol que representa la sentencia en su padre."
   ],
   "id": "7ad6ac09173ea89e"
  },
  {
   "metadata": {},
   "cell_type": "code",
   "source": "print_categorical_histogram(full_table, 'statement__statement_role', TABLE_TARGET, vertical=True, include_all=False)",
   "id": "73bf787c45c3e4a8",
   "outputs": [],
   "execution_count": null
  },
  {
   "metadata": {},
   "cell_type": "code",
   "source": "print_frequency_anal_for_cat_var(full_table, 'statement__statement_role')",
   "id": "5a67e8184aafa5f7",
   "outputs": [],
   "execution_count": null
  },
  {
   "metadata": {},
   "cell_type": "code",
   "source": "print_values_usage_for_cat_var(full_table, 'statement__statement_role', STATEMENT_ROLE_VALUES)",
   "id": "6b773b8e58b94ab4",
   "outputs": [],
   "execution_count": null
  },
  {
   "metadata": {},
   "cell_type": "markdown",
   "source": [
    "### Variable first_child_category (8/10)\n",
    "Esta variable es de tipo categorica y representa la categoria del primer hijo de la sentencia."
   ],
   "id": "2f390d6d844c33a5"
  },
  {
   "metadata": {},
   "cell_type": "code",
   "source": "print_categorical_histogram(full_table, 'statement__first_child_category', TABLE_TARGET, vertical=True, fillna=True, include_all=False)",
   "id": "215f261b2036a011",
   "outputs": [],
   "execution_count": null
  },
  {
   "metadata": {},
   "cell_type": "code",
   "source": "print_frequency_anal_for_cat_var(full_table, 'statement__first_child_category')",
   "id": "d1565733acf2d196",
   "outputs": [],
   "execution_count": null
  },
  {
   "metadata": {},
   "cell_type": "code",
   "source": "print_values_usage_for_cat_var(full_table, 'statement__first_child_category', STATEMENT_CHILDREN_VALUES)",
   "id": "5768d4b203be208b",
   "outputs": [],
   "execution_count": null
  },
  {
   "metadata": {},
   "cell_type": "markdown",
   "source": [
    "### Variable second_child_category (9/10)\n",
    "Esta variable es de tipo categorica y representa la categoria del segundo hijo de la sentencia."
   ],
   "id": "9de2299dcbd694d9"
  },
  {
   "metadata": {},
   "cell_type": "code",
   "source": "print_categorical_histogram(full_table, 'statement__second_child_category', TABLE_TARGET, vertical=True, fillna=True)",
   "id": "8ecae3c347e659ff",
   "outputs": [],
   "execution_count": null
  },
  {
   "metadata": {},
   "cell_type": "code",
   "source": "print_frequency_anal_for_cat_var(full_table, 'statement__second_child_category')",
   "id": "e99890dffa5666",
   "outputs": [],
   "execution_count": null
  },
  {
   "metadata": {},
   "cell_type": "code",
   "source": "print_values_usage_for_cat_var(full_table, 'statement__second_child_category', STATEMENT_CHILDREN_VALUES)",
   "id": "eaf70f6f722296e6",
   "outputs": [],
   "execution_count": null
  },
  {
   "metadata": {},
   "cell_type": "markdown",
   "source": [
    "### Variable third_child_category (10/10)\n",
    "Esta variable es de tipo categorica y representa la categoria del tercer hijo de la sentencia."
   ],
   "id": "306e106616d5c6d2"
  },
  {
   "metadata": {},
   "cell_type": "code",
   "source": "print_categorical_histogram(full_table, 'statement__third_child_category', TABLE_TARGET, vertical=True, fillna=True)",
   "id": "e3b9e118c779c45a",
   "outputs": [],
   "execution_count": null
  },
  {
   "metadata": {},
   "cell_type": "code",
   "source": "print_frequency_anal_for_cat_var(full_table, 'statement__third_child_category')",
   "id": "f955b09089fef95c",
   "outputs": [],
   "execution_count": null
  },
  {
   "metadata": {},
   "cell_type": "code",
   "source": "print_values_usage_for_cat_var(full_table, 'statement__third_child_category', STATEMENT_CHILDREN_VALUES)",
   "id": "84d1d5dccb229b0c",
   "outputs": [],
   "execution_count": null
  },
  {
   "metadata": {},
   "cell_type": "markdown",
   "source": [
    "## Multivariate\n",
    "\n",
    "Isolation forest algorithm"
   ],
   "id": "93c0ded887af6a56"
  },
  {
   "metadata": {},
   "cell_type": "code",
   "source": [
    "from sklearn.ensemble import  IsolationForest\n",
    "\n",
    "CONTAMINATION_FACTOR = 0.0012\n",
    "isof_model = IsolationForest(contamination=CONTAMINATION_FACTOR, random_state=0)\n",
    "X['statement__body_size'] = X['statement__body_size'].fillna(0) # Fill NaN values with 0\n",
    "isof_prediction = isof_model.fit_predict(X.values)\n",
    "mask = isof_prediction == -1\n",
    "full_table.loc[X.index[mask]]"
   ],
   "id": "93b8ef4a02e1c43f",
   "outputs": [],
   "execution_count": null
  },
  {
   "metadata": {},
   "cell_type": "code",
   "source": [
    "# Outliers\n",
    "np.transpose(X[mask].describe(percentiles=[.25, .50, .75], include = ['object', 'float', 'bool', 'int']))"
   ],
   "id": "c56415f14b09bd2c",
   "outputs": [],
   "execution_count": null
  },
  {
   "metadata": {},
   "cell_type": "code",
   "source": [
    "# Non-Outliers\n",
    "np.transpose(X[~mask].describe(percentiles=[.25, .50, .75], include = ['object', 'float', 'bool', 'int']))"
   ],
   "id": "f00aeef77121b67d",
   "outputs": [],
   "execution_count": null
  }
 ],
 "metadata": {
  "kernelspec": {
   "display_name": "Python 3",
   "language": "python",
   "name": "python3"
  },
  "language_info": {
   "codemirror_mode": {
    "name": "ipython",
    "version": 2
   },
   "file_extension": ".py",
   "mimetype": "text/x-python",
   "name": "python",
   "nbconvert_exporter": "python",
   "pygments_lexer": "ipython2",
   "version": "2.7.6"
  }
 },
 "nbformat": 4,
 "nbformat_minor": 5
}
