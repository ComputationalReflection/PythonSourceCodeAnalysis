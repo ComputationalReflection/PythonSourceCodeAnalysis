{
 "cells": [
  {
   "metadata": {},
   "cell_type": "markdown",
   "source": [
    "# Variables BEGINNER\n",
    "\n",
    "Esta tabla contiene la información de los expresiones Variables."
   ],
   "id": "148ae8871134f924"
  },
  {
   "metadata": {},
   "cell_type": "markdown",
   "source": "## 1 - Obtencion de datos",
   "id": "d3c24a719032807f"
  },
  {
   "metadata": {
    "ExecuteTime": {
     "end_time": "2024-07-05T09:05:24.043648Z",
     "start_time": "2024-07-05T09:05:21.720018Z"
    }
   },
   "cell_type": "code",
   "source": [
    "import matplotlib.pyplot as plt\n",
    "from notebooks_utils import *\n",
    "from domains import *\n",
    "\n",
    "TARGET_FEATURE = 'variable__expertise_level'\n",
    "TARGET_CLASS = 'BEGINNER'\n",
    "full_table = get_data('variables')\n",
    "\n",
    "instances_for_class_low = len(full_table[full_table[TARGET_FEATURE] == \"BEGINNER\"])\n",
    "instances_for_class_high = len(full_table[full_table[TARGET_FEATURE] == \"EXPERT\"])\n",
    "\n",
    "print(f\"The dataset contains {instances_for_class_low} ({instances_for_class_low/len(full_table)*100:.4}%) instances for BEGINNER class and {instances_for_class_high} ({instances_for_class_high/len(full_table)*100:.4}%) for EXPERT class.\")"
   ],
   "id": "9f0a949e91eb384b",
   "outputs": [
    {
     "name": "stdout",
     "output_type": "stream",
     "text": [
      "2024-07-05 11:05:23.212223 Data cache files found ...\n",
      "2024-07-05 11:05:23.669994 Data cache files successfully loaded!!\n",
      "The dataset contains 1167967 (40.81%) instances for BEGINNER class and 1694338 (59.19%) for EXPERT class.\n"
     ]
    }
   ],
   "execution_count": 1
  },
  {
   "metadata": {
    "ExecuteTime": {
     "end_time": "2024-07-05T09:05:24.270981Z",
     "start_time": "2024-07-05T09:05:24.044677Z"
    }
   },
   "cell_type": "code",
   "source": [
    "full_table = full_table[full_table[TARGET_FEATURE] == TARGET_CLASS]\n",
    "\n",
    "# Table name, features and target.\n",
    "TABLE_NAME = 'variables'\n",
    "TABLE_FEATURES = ['variable__name_convention', 'variable__number_of_characters', 'variable__is_private', 'variable__is_magic']\n",
    "\n",
    "# Load features and target.\n",
    "X = full_table[TABLE_FEATURES]\n",
    "\n",
    "# Print information about the loaded table.\n",
    "print(f'Features shape: {X.shape}')\n",
    "\n",
    "print(f'As we can see the downloaded data contains a total of {X.shape[0]} instances. Each of the instances corresponds to a program. For each program we have {X.shape[1]} attributes.')"
   ],
   "id": "a278edc0f6d111f5",
   "outputs": [
    {
     "name": "stdout",
     "output_type": "stream",
     "text": [
      "Features shape: (1167967, 4)\n",
      "As we can see the downloaded data contains a total of 1167967 instances. Each of the instances corresponds to a program. For each program we have 4 attributes.\n"
     ]
    }
   ],
   "execution_count": 2
  },
  {
   "metadata": {},
   "cell_type": "markdown",
   "source": [
    "## 2 - Exploracion de datos\n",
    "\n",
    "Una vez tenemos nuestra tabla en un dataframe el siguiente paso es explorarla para ver qué tipo de información contiene."
   ],
   "id": "bcda7cb784bf0a1"
  },
  {
   "metadata": {
    "ExecuteTime": {
     "end_time": "2024-07-05T09:05:24.317875Z",
     "start_time": "2024-07-05T09:05:24.272044Z"
    }
   },
   "cell_type": "code",
   "source": "print(X.info())",
   "id": "2eb3d09993235bcb",
   "outputs": [
    {
     "name": "stdout",
     "output_type": "stream",
     "text": [
      "<class 'pandas.core.frame.DataFrame'>\n",
      "Index: 1167967 entries, 0 to 1169222\n",
      "Data columns (total 4 columns):\n",
      " #   Column                          Non-Null Count    Dtype \n",
      "---  ------                          --------------    ----- \n",
      " 0   variable__name_convention       1167967 non-null  object\n",
      " 1   variable__number_of_characters  1167967 non-null  int64 \n",
      " 2   variable__is_private            1167967 non-null  bool  \n",
      " 3   variable__is_magic              1167967 non-null  bool  \n",
      "dtypes: bool(2), int64(1), object(1)\n",
      "memory usage: 29.0+ MB\n",
      "None\n"
     ]
    }
   ],
   "execution_count": 3
  },
  {
   "metadata": {},
   "cell_type": "markdown",
   "source": "Cómo podemos ver la tabla está compuesta por 1 variable numérica, 2 variables boleanas y 2 de tipo objeto.",
   "id": "24f7607501c2e574"
  },
  {
   "metadata": {},
   "cell_type": "markdown",
   "source": [
    "### 2.1 - Valores Nulos \n",
    "Miramos si alguna de las variables que contiene la tabla contiene algún valor que sea nulo."
   ],
   "id": "63d4e4ed1d8d2c6c"
  },
  {
   "metadata": {
    "ExecuteTime": {
     "end_time": "2024-07-05T09:05:24.363925Z",
     "start_time": "2024-07-05T09:05:24.318896Z"
    }
   },
   "cell_type": "code",
   "source": "X.isnull().sum()",
   "id": "6c991380e6e0413e",
   "outputs": [
    {
     "data": {
      "text/plain": [
       "variable__name_convention         0\n",
       "variable__number_of_characters    0\n",
       "variable__is_private              0\n",
       "variable__is_magic                0\n",
       "dtype: int64"
      ]
     },
     "execution_count": 4,
     "metadata": {},
     "output_type": "execute_result"
    }
   ],
   "execution_count": 4
  },
  {
   "metadata": {
    "ExecuteTime": {
     "end_time": "2024-07-05T09:05:24.422165Z",
     "start_time": "2024-07-05T09:05:24.364934Z"
    }
   },
   "cell_type": "code",
   "source": "print_empty_cols(X)",
   "id": "18b2dfadf1719a4b",
   "outputs": [
    {
     "name": "stdout",
     "output_type": "stream",
     "text": [
      "variable__name_convention\n",
      "-------------------------\n",
      "0 instancias no tienen un valor para la columna variable__name_convention\n",
      "\n",
      "\n",
      "variable__number_of_characters\n",
      "------------------------------\n",
      "0 instancias no tienen un valor para la columna variable__number_of_characters\n",
      "\n",
      "\n",
      "variable__is_private\n",
      "--------------------\n",
      "0 instancias no tienen un valor para la columna variable__is_private\n",
      "\n",
      "\n",
      "variable__is_magic\n",
      "------------------\n",
      "0 instancias no tienen un valor para la columna variable__is_magic\n",
      "\n",
      "\n"
     ]
    }
   ],
   "execution_count": 5
  },
  {
   "metadata": {},
   "cell_type": "markdown",
   "source": "### 2.2 - Describimos los valores de las variables de la tabla.",
   "id": "5bb94c0f81c08024"
  },
  {
   "metadata": {
    "ExecuteTime": {
     "end_time": "2024-07-05T09:05:24.614369Z",
     "start_time": "2024-07-05T09:05:24.423174Z"
    }
   },
   "cell_type": "code",
   "source": "np.transpose(X.describe(percentiles=[.25, .50, .75], include = ['object', 'float', 'bool', 'int']))",
   "id": "74bba302a29fbfd5",
   "outputs": [
    {
     "data": {
      "text/plain": [
       "                                    count unique    top     freq      mean  \\\n",
       "variable__name_convention         1167967      7  Lower   849874       NaN   \n",
       "variable__number_of_characters  1167967.0    NaN    NaN      NaN  6.430985   \n",
       "variable__is_private              1167967      2  False  1147182       NaN   \n",
       "variable__is_magic                1167967      2  False  1163025       NaN   \n",
       "\n",
       "                                     std  min  25%  50%  75%   max  \n",
       "variable__name_convention            NaN  NaN  NaN  NaN  NaN   NaN  \n",
       "variable__number_of_characters  4.465007  1.0  4.0  5.0  8.0  50.0  \n",
       "variable__is_private                 NaN  NaN  NaN  NaN  NaN   NaN  \n",
       "variable__is_magic                   NaN  NaN  NaN  NaN  NaN   NaN  "
      ],
      "text/html": [
       "<div>\n",
       "<style scoped>\n",
       "    .dataframe tbody tr th:only-of-type {\n",
       "        vertical-align: middle;\n",
       "    }\n",
       "\n",
       "    .dataframe tbody tr th {\n",
       "        vertical-align: top;\n",
       "    }\n",
       "\n",
       "    .dataframe thead th {\n",
       "        text-align: right;\n",
       "    }\n",
       "</style>\n",
       "<table border=\"1\" class=\"dataframe\">\n",
       "  <thead>\n",
       "    <tr style=\"text-align: right;\">\n",
       "      <th></th>\n",
       "      <th>count</th>\n",
       "      <th>unique</th>\n",
       "      <th>top</th>\n",
       "      <th>freq</th>\n",
       "      <th>mean</th>\n",
       "      <th>std</th>\n",
       "      <th>min</th>\n",
       "      <th>25%</th>\n",
       "      <th>50%</th>\n",
       "      <th>75%</th>\n",
       "      <th>max</th>\n",
       "    </tr>\n",
       "  </thead>\n",
       "  <tbody>\n",
       "    <tr>\n",
       "      <th>variable__name_convention</th>\n",
       "      <td>1167967</td>\n",
       "      <td>7</td>\n",
       "      <td>Lower</td>\n",
       "      <td>849874</td>\n",
       "      <td>NaN</td>\n",
       "      <td>NaN</td>\n",
       "      <td>NaN</td>\n",
       "      <td>NaN</td>\n",
       "      <td>NaN</td>\n",
       "      <td>NaN</td>\n",
       "      <td>NaN</td>\n",
       "    </tr>\n",
       "    <tr>\n",
       "      <th>variable__number_of_characters</th>\n",
       "      <td>1167967.0</td>\n",
       "      <td>NaN</td>\n",
       "      <td>NaN</td>\n",
       "      <td>NaN</td>\n",
       "      <td>6.430985</td>\n",
       "      <td>4.465007</td>\n",
       "      <td>1.0</td>\n",
       "      <td>4.0</td>\n",
       "      <td>5.0</td>\n",
       "      <td>8.0</td>\n",
       "      <td>50.0</td>\n",
       "    </tr>\n",
       "    <tr>\n",
       "      <th>variable__is_private</th>\n",
       "      <td>1167967</td>\n",
       "      <td>2</td>\n",
       "      <td>False</td>\n",
       "      <td>1147182</td>\n",
       "      <td>NaN</td>\n",
       "      <td>NaN</td>\n",
       "      <td>NaN</td>\n",
       "      <td>NaN</td>\n",
       "      <td>NaN</td>\n",
       "      <td>NaN</td>\n",
       "      <td>NaN</td>\n",
       "    </tr>\n",
       "    <tr>\n",
       "      <th>variable__is_magic</th>\n",
       "      <td>1167967</td>\n",
       "      <td>2</td>\n",
       "      <td>False</td>\n",
       "      <td>1163025</td>\n",
       "      <td>NaN</td>\n",
       "      <td>NaN</td>\n",
       "      <td>NaN</td>\n",
       "      <td>NaN</td>\n",
       "      <td>NaN</td>\n",
       "      <td>NaN</td>\n",
       "      <td>NaN</td>\n",
       "    </tr>\n",
       "  </tbody>\n",
       "</table>\n",
       "</div>"
      ]
     },
     "execution_count": 6,
     "metadata": {},
     "output_type": "execute_result"
    }
   ],
   "execution_count": 6
  },
  {
   "metadata": {},
   "cell_type": "markdown",
   "source": "Vamos a discretizar las variables numericas, agrupando conjuntos de valores en categorias, para hacer un análisis de los datos. Para cada variable es necesario ver la distribucion de lo valores para hacer los bins (categorias).",
   "id": "9af3eb59b924a596"
  },
  {
   "metadata": {
    "ExecuteTime": {
     "end_time": "2024-07-05T09:05:25.959822Z",
     "start_time": "2024-07-05T09:05:24.615377Z"
    }
   },
   "cell_type": "code",
   "source": [
    "# DISCRETIZATION\n",
    "X_copy = X.copy()\n",
    "\n",
    "discretized_columns = {\n",
    "    \"variable__number_of_characters\": [(0.0, 4.0), (4.0, 4.0), (4.0, 10.0), (10.0, inf)], # min: 0 ; max: 82\n",
    "}\n",
    "\n",
    "discretize_columns(X_copy, discretized_columns)\n",
    "    \n",
    "# SINGLE FEATURE\n",
    "print(\"--- SINGLE FEATURE ---\")\n",
    "print(get_statistics(X_copy, ['variable__number_of_characters'], 10))\n",
    "print(get_statistics(full_table, ['variable__name_convention'], 10))\n",
    "print(get_statistics(X_copy, ['variable__is_private'], 10))\n",
    "print(get_statistics(X_copy, ['variable__is_magic'], 10))\n",
    "\n",
    "# 2 FEATURES\n",
    "print(\"--- TWO FEATURES ---\")\n",
    "#print(get_statistics(full_table, ['variable__is_magic', 'variable__name_convention_Discard'], 10))\n",
    "#print(get_statistics(X_copy, ['functiondef__number_of_characters', 'functiondef__name_convention_Lower'], 10))\n",
    "\n",
    "# 3 FEATURES\n",
    "print(\"--- THREE FEATURES ---\")\n",
    "#print(get_statistics(X_copy, ['module__class_defs_pct', 'module__function_defs_pct', 'module__enum_defs_pct'], 10))"
   ],
   "id": "6baf20dd3e3ca759",
   "outputs": [
    {
     "name": "stdout",
     "output_type": "stream",
     "text": [
      "--- SINGLE FEATURE ---\n",
      "variable__number_of_characters  count  percentage\n",
      "                    [4.0_10.0) 423892   36.293149\n",
      "                     [0.0_4.0) 267688   22.919141\n",
      "                     [4.0_4.0] 240349   20.578407\n",
      "                    [10.0_inf] 236038   20.209304\n",
      "\n",
      "variable__name_convention  count  percentage\n",
      "                    Lower 849874   72.765241\n",
      "                SnakeCase 169404   14.504177\n",
      "                  CamelUp  71854    6.152057\n",
      "                 CamelLow  42529    3.641284\n",
      "                    Upper  25414    2.175918\n",
      "         NoNameConvention   7929    0.678872\n",
      "                  Discard    963    0.082451\n",
      "\n",
      " variable__is_private   count  percentage\n",
      "                False 1147182   98.220412\n",
      "                 True   20785    1.779588\n",
      "\n",
      " variable__is_magic   count  percentage\n",
      "              False 1163025   99.576872\n",
      "               True    4942    0.423128\n",
      "\n",
      "--- TWO FEATURES ---\n",
      "--- THREE FEATURES ---\n"
     ]
    }
   ],
   "execution_count": 7
  },
  {
   "metadata": {
    "ExecuteTime": {
     "end_time": "2024-07-05T09:05:26.071848Z",
     "start_time": "2024-07-05T09:05:25.960831Z"
    }
   },
   "cell_type": "code",
   "source": [
    "def normalize_datatypes(X:pd.DataFrame) -> (pd.DataFrame, [str]):\n",
    "    X = pd.get_dummies(X)\n",
    "    X = X.astype('float32')        \n",
    "    columns_names = X.columns.tolist()\n",
    "    return X, columns_names\n",
    "\n",
    "X, TABLE_FEATURES = normalize_datatypes(X)\n",
    "# Print information about the loaded table\n",
    "print(f'Features shape: {X.shape}')"
   ],
   "id": "5084c89dcb377a92",
   "outputs": [
    {
     "name": "stdout",
     "output_type": "stream",
     "text": [
      "Features shape: (1167967, 10)\n"
     ]
    }
   ],
   "execution_count": 8
  },
  {
   "metadata": {},
   "cell_type": "markdown",
   "source": "#### Muestra la matriz de correlación de Spearman entre las variables de la tabla.",
   "id": "ed8befe21328a079"
  },
  {
   "metadata": {
    "ExecuteTime": {
     "end_time": "2024-07-05T09:05:27.252719Z",
     "start_time": "2024-07-05T09:05:26.072857Z"
    }
   },
   "cell_type": "code",
   "source": "sns.heatmap(X.corr(method='spearman'), annot=True)",
   "id": "dea960d18d682104",
   "outputs": [
    {
     "data": {
      "text/plain": [
       "<Axes: >"
      ]
     },
     "execution_count": 9,
     "metadata": {},
     "output_type": "execute_result"
    },
    {
     "data": {
      "text/plain": [
       "<Figure size 640x480 with 2 Axes>"
      ],
      "image/png": "[encoded data removed]"
     },
     "metadata": {},
     "output_type": "display_data"
    }
   ],
   "execution_count": 9
  },
  {
   "metadata": {},
   "cell_type": "markdown",
   "source": [
    "## 3 - Detección de valores atípicos (outliers)\n",
    "## Univariate\n",
    "## Analisis detallado de variables\n",
    "Para cada una de las 4 variables (1 numerica, 2 booleanas y 1 categorica) se hara un analisis detallado"
   ],
   "id": "599c97eec7b7d283"
  },
  {
   "metadata": {},
   "cell_type": "markdown",
   "source": [
    "### Variable is_private (1/4)\n",
    "Esta variable es de tipo booleano y representa si la variable es privada."
   ],
   "id": "6abba739e46da213"
  },
  {
   "metadata": {
    "ExecuteTime": {
     "end_time": "2024-07-05T09:05:27.985125Z",
     "start_time": "2024-07-05T09:05:27.253724Z"
    }
   },
   "cell_type": "code",
   "source": [
    "plt.xticks([0, 1], ['False', 'True'])\n",
    "sns.histplot(X['variable__is_private'], discrete=True)"
   ],
   "id": "4ab35b2ef94a3379",
   "outputs": [
    {
     "data": {
      "text/plain": [
       "<Axes: xlabel='variable__is_private', ylabel='Count'>"
      ]
     },
     "execution_count": 10,
     "metadata": {},
     "output_type": "execute_result"
    },
    {
     "data": {
      "text/plain": [
       "<Figure size 640x480 with 1 Axes>"
      ],
      "image/png": "[encoded data removed]"
     },
     "metadata": {},
     "output_type": "display_data"
    }
   ],
   "execution_count": 10
  },
  {
   "metadata": {
    "ExecuteTime": {
     "end_time": "2024-07-05T09:05:28.079698Z",
     "start_time": "2024-07-05T09:05:27.986135Z"
    }
   },
   "cell_type": "code",
   "source": [
    "num_true_values = len(X[X['variable__is_private'] == True])\n",
    "num_false_values = len(X[X['variable__is_private'] == False])\n",
    "std = X['variable__is_private'].std()\n",
    "freq_true = len(X[X['variable__is_private'] == True]) / len(X['variable__is_private'])\n",
    "freq_false = len(X[X['variable__is_private'] == False]) / len(X['variable__is_private'])\n",
    "print(f'La variable is_private contiene {num_true_values} valores verdaderos y {num_false_values} valores falsos. Y, la desviación típica es de {std}')\n",
    "print(f'La frecuencia con la que programa puede tener la variable is_private a True es {freq_true}.')\n",
    "print(f'La frecuencia con la que programa puede tener la variable is_private a False es {freq_false}.')"
   ],
   "id": "f4a042829ae6fac5",
   "outputs": [
    {
     "name": "stdout",
     "output_type": "stream",
     "text": [
      "La variable is_private contiene 20785 valores verdaderos y 1147182 valores falsos. Y, la desviación típica es de 0.1322089284658432\n",
      "La frecuencia con la que programa puede tener la variable is_private a True es 0.01779587950686963.\n",
      "La frecuencia con la que programa puede tener la variable is_private a False es 0.9822041204931303.\n"
     ]
    }
   ],
   "execution_count": 11
  },
  {
   "metadata": {
    "ExecuteTime": {
     "end_time": "2024-07-05T09:05:28.129750Z",
     "start_time": "2024-07-05T09:05:28.080705Z"
    }
   },
   "cell_type": "code",
   "source": [
    "possible_values = [True, False]\n",
    "print_frequency_anal_for_cat_var(X, 'variable__is_private', possible_values)"
   ],
   "id": "c614dd60d0ab8e5b",
   "outputs": [
    {
     "name": "stdout",
     "output_type": "stream",
     "text": [
      "La variable variable__is_private contiene 2 valores distintos.\n",
      "El umbral de outlier es de 0.1%\n",
      "La variable variable__is_private toma el valor de 0.0 en un 98.22% de los items.\n",
      "La variable variable__is_private toma el valor de 1.0 en un 1.78% de los items.\n"
     ]
    }
   ],
   "execution_count": 12
  },
  {
   "metadata": {
    "ExecuteTime": {
     "end_time": "2024-07-05T09:05:28.163168Z",
     "start_time": "2024-07-05T09:05:28.130756Z"
    }
   },
   "cell_type": "code",
   "source": "X[X['variable__is_private'] == True].describe(percentiles=[.25, .50, .75], include = ['object', 'float', 'bool', 'int'])",
   "id": "6c33bdd1420008cf",
   "outputs": [
    {
     "data": {
      "text/plain": [
       "       variable__number_of_characters  variable__is_private  \\\n",
       "count                    20785.000000               20785.0   \n",
       "mean                        13.260236                   1.0   \n",
       "std                          6.220548                   0.0   \n",
       "min                          2.000000                   1.0   \n",
       "25%                          9.000000                   1.0   \n",
       "50%                         13.000000                   1.0   \n",
       "75%                         17.000000                   1.0   \n",
       "max                         43.000000                   1.0   \n",
       "\n",
       "       variable__is_magic  variable__name_convention_CamelLow  \\\n",
       "count             20785.0                             20785.0   \n",
       "mean                  0.0                                 0.0   \n",
       "std                   0.0                                 0.0   \n",
       "min                   0.0                                 0.0   \n",
       "25%                   0.0                                 0.0   \n",
       "50%                   0.0                                 0.0   \n",
       "75%                   0.0                                 0.0   \n",
       "max                   0.0                                 0.0   \n",
       "\n",
       "       variable__name_convention_CamelUp  variable__name_convention_Discard  \\\n",
       "count                            20785.0                            20785.0   \n",
       "mean                                 0.0                                0.0   \n",
       "std                                  0.0                                0.0   \n",
       "min                                  0.0                                0.0   \n",
       "25%                                  0.0                                0.0   \n",
       "50%                                  0.0                                0.0   \n",
       "75%                                  0.0                                0.0   \n",
       "max                                  0.0                                0.0   \n",
       "\n",
       "       variable__name_convention_Lower  \\\n",
       "count                          20785.0   \n",
       "mean                               0.0   \n",
       "std                                0.0   \n",
       "min                                0.0   \n",
       "25%                                0.0   \n",
       "50%                                0.0   \n",
       "75%                                0.0   \n",
       "max                                0.0   \n",
       "\n",
       "       variable__name_convention_NoNameConvention  \\\n",
       "count                                20785.000000   \n",
       "mean                                     0.167669   \n",
       "std                                      0.373581   \n",
       "min                                      0.000000   \n",
       "25%                                      0.000000   \n",
       "50%                                      0.000000   \n",
       "75%                                      0.000000   \n",
       "max                                      1.000000   \n",
       "\n",
       "       variable__name_convention_SnakeCase  variable__name_convention_Upper  \n",
       "count                         20785.000000                     20785.000000  \n",
       "mean                              0.713880                         0.118451  \n",
       "std                               0.451957                         0.323149  \n",
       "min                               0.000000                         0.000000  \n",
       "25%                               0.000000                         0.000000  \n",
       "50%                               1.000000                         0.000000  \n",
       "75%                               1.000000                         0.000000  \n",
       "max                               1.000000                         1.000000  "
      ],
      "text/html": [
       "<div>\n",
       "<style scoped>\n",
       "    .dataframe tbody tr th:only-of-type {\n",
       "        vertical-align: middle;\n",
       "    }\n",
       "\n",
       "    .dataframe tbody tr th {\n",
       "        vertical-align: top;\n",
       "    }\n",
       "\n",
       "    .dataframe thead th {\n",
       "        text-align: right;\n",
       "    }\n",
       "</style>\n",
       "<table border=\"1\" class=\"dataframe\">\n",
       "  <thead>\n",
       "    <tr style=\"text-align: right;\">\n",
       "      <th></th>\n",
       "      <th>variable__number_of_characters</th>\n",
       "      <th>variable__is_private</th>\n",
       "      <th>variable__is_magic</th>\n",
       "      <th>variable__name_convention_CamelLow</th>\n",
       "      <th>variable__name_convention_CamelUp</th>\n",
       "      <th>variable__name_convention_Discard</th>\n",
       "      <th>variable__name_convention_Lower</th>\n",
       "      <th>variable__name_convention_NoNameConvention</th>\n",
       "      <th>variable__name_convention_SnakeCase</th>\n",
       "      <th>variable__name_convention_Upper</th>\n",
       "    </tr>\n",
       "  </thead>\n",
       "  <tbody>\n",
       "    <tr>\n",
       "      <th>count</th>\n",
       "      <td>20785.000000</td>\n",
       "      <td>20785.0</td>\n",
       "      <td>20785.0</td>\n",
       "      <td>20785.0</td>\n",
       "      <td>20785.0</td>\n",
       "      <td>20785.0</td>\n",
       "      <td>20785.0</td>\n",
       "      <td>20785.000000</td>\n",
       "      <td>20785.000000</td>\n",
       "      <td>20785.000000</td>\n",
       "    </tr>\n",
       "    <tr>\n",
       "      <th>mean</th>\n",
       "      <td>13.260236</td>\n",
       "      <td>1.0</td>\n",
       "      <td>0.0</td>\n",
       "      <td>0.0</td>\n",
       "      <td>0.0</td>\n",
       "      <td>0.0</td>\n",
       "      <td>0.0</td>\n",
       "      <td>0.167669</td>\n",
       "      <td>0.713880</td>\n",
       "      <td>0.118451</td>\n",
       "    </tr>\n",
       "    <tr>\n",
       "      <th>std</th>\n",
       "      <td>6.220548</td>\n",
       "      <td>0.0</td>\n",
       "      <td>0.0</td>\n",
       "      <td>0.0</td>\n",
       "      <td>0.0</td>\n",
       "      <td>0.0</td>\n",
       "      <td>0.0</td>\n",
       "      <td>0.373581</td>\n",
       "      <td>0.451957</td>\n",
       "      <td>0.323149</td>\n",
       "    </tr>\n",
       "    <tr>\n",
       "      <th>min</th>\n",
       "      <td>2.000000</td>\n",
       "      <td>1.0</td>\n",
       "      <td>0.0</td>\n",
       "      <td>0.0</td>\n",
       "      <td>0.0</td>\n",
       "      <td>0.0</td>\n",
       "      <td>0.0</td>\n",
       "      <td>0.000000</td>\n",
       "      <td>0.000000</td>\n",
       "      <td>0.000000</td>\n",
       "    </tr>\n",
       "    <tr>\n",
       "      <th>25%</th>\n",
       "      <td>9.000000</td>\n",
       "      <td>1.0</td>\n",
       "      <td>0.0</td>\n",
       "      <td>0.0</td>\n",
       "      <td>0.0</td>\n",
       "      <td>0.0</td>\n",
       "      <td>0.0</td>\n",
       "      <td>0.000000</td>\n",
       "      <td>0.000000</td>\n",
       "      <td>0.000000</td>\n",
       "    </tr>\n",
       "    <tr>\n",
       "      <th>50%</th>\n",
       "      <td>13.000000</td>\n",
       "      <td>1.0</td>\n",
       "      <td>0.0</td>\n",
       "      <td>0.0</td>\n",
       "      <td>0.0</td>\n",
       "      <td>0.0</td>\n",
       "      <td>0.0</td>\n",
       "      <td>0.000000</td>\n",
       "      <td>1.000000</td>\n",
       "      <td>0.000000</td>\n",
       "    </tr>\n",
       "    <tr>\n",
       "      <th>75%</th>\n",
       "      <td>17.000000</td>\n",
       "      <td>1.0</td>\n",
       "      <td>0.0</td>\n",
       "      <td>0.0</td>\n",
       "      <td>0.0</td>\n",
       "      <td>0.0</td>\n",
       "      <td>0.0</td>\n",
       "      <td>0.000000</td>\n",
       "      <td>1.000000</td>\n",
       "      <td>0.000000</td>\n",
       "    </tr>\n",
       "    <tr>\n",
       "      <th>max</th>\n",
       "      <td>43.000000</td>\n",
       "      <td>1.0</td>\n",
       "      <td>0.0</td>\n",
       "      <td>0.0</td>\n",
       "      <td>0.0</td>\n",
       "      <td>0.0</td>\n",
       "      <td>0.0</td>\n",
       "      <td>1.000000</td>\n",
       "      <td>1.000000</td>\n",
       "      <td>1.000000</td>\n",
       "    </tr>\n",
       "  </tbody>\n",
       "</table>\n",
       "</div>"
      ]
     },
     "execution_count": 13,
     "metadata": {},
     "output_type": "execute_result"
    }
   ],
   "execution_count": 13
  },
  {
   "metadata": {},
   "cell_type": "markdown",
   "source": [
    "### Variable is_magic (2/4)\n",
    "Esta variable es de tipo booleano y representa si la variable es magic."
   ],
   "id": "1fa4491178ba606c"
  },
  {
   "metadata": {
    "ExecuteTime": {
     "end_time": "2024-07-05T09:05:28.999624Z",
     "start_time": "2024-07-05T09:05:28.165176Z"
    }
   },
   "cell_type": "code",
   "source": [
    "plt.xticks([0, 1], ['False', 'True'])\n",
    "sns.histplot(X['variable__is_magic'], discrete=True)"
   ],
   "id": "529b7fd2ad00b058",
   "outputs": [
    {
     "data": {
      "text/plain": [
       "<Axes: xlabel='variable__is_magic', ylabel='Count'>"
      ]
     },
     "execution_count": 14,
     "metadata": {},
     "output_type": "execute_result"
    },
    {
     "data": {
      "text/plain": [
       "<Figure size 640x480 with 1 Axes>"
      ],
      "image/png": "[encoded data removed]"
     },
     "metadata": {},
     "output_type": "display_data"
    }
   ],
   "execution_count": 14
  },
  {
   "metadata": {
    "ExecuteTime": {
     "end_time": "2024-07-05T09:05:29.094941Z",
     "start_time": "2024-07-05T09:05:29.000633Z"
    }
   },
   "cell_type": "code",
   "source": [
    "#ANALISIS DE DISTRIBUCIÓN DE DATOS\n",
    "num_true_values = len(X[X['variable__is_magic'] == True])\n",
    "num_false_values = len(X[X['variable__is_magic'] == False])\n",
    "std = X['variable__is_magic'].std()\n",
    "freq_true = len(X[X['variable__is_magic'] == True]) / len(X['variable__is_magic'])\n",
    "freq_false = len(X[X['variable__is_magic'] == False]) / len(X['variable__is_magic'])\n",
    "print(f'La variable is_magic contiene {num_true_values} valores verdaderos y {num_false_values} valores falsos. Y, la desviación típica es de {std}')\n",
    "print(f'La frecuencia con la que programa puede tener la variable is_magic a True es {freq_true}.')\n",
    "print(f'La frecuencia con la que programa puede tener la variable is_magic a False es {freq_false}.')"
   ],
   "id": "d1bed1e471481adc",
   "outputs": [
    {
     "name": "stdout",
     "output_type": "stream",
     "text": [
      "La variable is_magic contiene 4942 valores verdaderos y 1163025 valores falsos. Y, la desviación típica es de 0.06491058319807053\n",
      "La frecuencia con la que programa puede tener la variable is_magic a True es 0.004231283931823416.\n",
      "La frecuencia con la que programa puede tener la variable is_magic a False es 0.9957687160681766.\n"
     ]
    }
   ],
   "execution_count": 15
  },
  {
   "metadata": {
    "ExecuteTime": {
     "end_time": "2024-07-05T09:05:29.148515Z",
     "start_time": "2024-07-05T09:05:29.095950Z"
    }
   },
   "cell_type": "code",
   "source": [
    "#PROBABILIDAD DE VALORES\n",
    "possible_values = [True, False]\n",
    "print_frequency_anal_for_cat_var(X, 'variable__is_magic', possible_values)"
   ],
   "id": "c54b472864a47e88",
   "outputs": [
    {
     "name": "stdout",
     "output_type": "stream",
     "text": [
      "La variable variable__is_magic contiene 2 valores distintos.\n",
      "El umbral de outlier es de 0.1%\n",
      "La variable variable__is_magic toma el valor de 0.0 en un 99.58% de los items.\n",
      "La variable variable__is_magic toma el valor de 1.0 en un 0.4231% de los items.\n"
     ]
    }
   ],
   "execution_count": 16
  },
  {
   "metadata": {
    "ExecuteTime": {
     "end_time": "2024-07-05T09:05:29.176164Z",
     "start_time": "2024-07-05T09:05:29.149025Z"
    }
   },
   "cell_type": "code",
   "source": "X[X['variable__is_magic'] == True].describe(percentiles=[.25, .50, .75], include = ['object', 'float', 'bool', 'int'])",
   "id": "4bd840561db5f69f",
   "outputs": [
    {
     "data": {
      "text/plain": [
       "       variable__number_of_characters  variable__is_private  \\\n",
       "count                     4942.000000                4942.0   \n",
       "mean                         7.228248                   0.0   \n",
       "std                          3.412910                   0.0   \n",
       "min                          1.000000                   0.0   \n",
       "25%                          7.000000                   0.0   \n",
       "50%                          8.000000                   0.0   \n",
       "75%                          9.000000                   0.0   \n",
       "max                         22.000000                   0.0   \n",
       "\n",
       "       variable__is_magic  variable__name_convention_CamelLow  \\\n",
       "count              4942.0                              4942.0   \n",
       "mean                  1.0                                 0.0   \n",
       "std                   0.0                                 0.0   \n",
       "min                   1.0                                 0.0   \n",
       "25%                   1.0                                 0.0   \n",
       "50%                   1.0                                 0.0   \n",
       "75%                   1.0                                 0.0   \n",
       "max                   1.0                                 0.0   \n",
       "\n",
       "       variable__name_convention_CamelUp  variable__name_convention_Discard  \\\n",
       "count                             4942.0                        4942.000000   \n",
       "mean                                 0.0                           0.194860   \n",
       "std                                  0.0                           0.396133   \n",
       "min                                  0.0                           0.000000   \n",
       "25%                                  0.0                           0.000000   \n",
       "50%                                  0.0                           0.000000   \n",
       "75%                                  0.0                           0.000000   \n",
       "max                                  0.0                           1.000000   \n",
       "\n",
       "       variable__name_convention_Lower  \\\n",
       "count                           4942.0   \n",
       "mean                               0.0   \n",
       "std                                0.0   \n",
       "min                                0.0   \n",
       "25%                                0.0   \n",
       "50%                                0.0   \n",
       "75%                                0.0   \n",
       "max                                0.0   \n",
       "\n",
       "       variable__name_convention_NoNameConvention  \\\n",
       "count                                 4942.000000   \n",
       "mean                                     0.003642   \n",
       "std                                      0.060247   \n",
       "min                                      0.000000   \n",
       "25%                                      0.000000   \n",
       "50%                                      0.000000   \n",
       "75%                                      0.000000   \n",
       "max                                      1.000000   \n",
       "\n",
       "       variable__name_convention_SnakeCase  variable__name_convention_Upper  \n",
       "count                          4942.000000                      4942.000000  \n",
       "mean                              0.794213                         0.007285  \n",
       "std                               0.404317                         0.085046  \n",
       "min                               0.000000                         0.000000  \n",
       "25%                               1.000000                         0.000000  \n",
       "50%                               1.000000                         0.000000  \n",
       "75%                               1.000000                         0.000000  \n",
       "max                               1.000000                         1.000000  "
      ],
      "text/html": [
       "<div>\n",
       "<style scoped>\n",
       "    .dataframe tbody tr th:only-of-type {\n",
       "        vertical-align: middle;\n",
       "    }\n",
       "\n",
       "    .dataframe tbody tr th {\n",
       "        vertical-align: top;\n",
       "    }\n",
       "\n",
       "    .dataframe thead th {\n",
       "        text-align: right;\n",
       "    }\n",
       "</style>\n",
       "<table border=\"1\" class=\"dataframe\">\n",
       "  <thead>\n",
       "    <tr style=\"text-align: right;\">\n",
       "      <th></th>\n",
       "      <th>variable__number_of_characters</th>\n",
       "      <th>variable__is_private</th>\n",
       "      <th>variable__is_magic</th>\n",
       "      <th>variable__name_convention_CamelLow</th>\n",
       "      <th>variable__name_convention_CamelUp</th>\n",
       "      <th>variable__name_convention_Discard</th>\n",
       "      <th>variable__name_convention_Lower</th>\n",
       "      <th>variable__name_convention_NoNameConvention</th>\n",
       "      <th>variable__name_convention_SnakeCase</th>\n",
       "      <th>variable__name_convention_Upper</th>\n",
       "    </tr>\n",
       "  </thead>\n",
       "  <tbody>\n",
       "    <tr>\n",
       "      <th>count</th>\n",
       "      <td>4942.000000</td>\n",
       "      <td>4942.0</td>\n",
       "      <td>4942.0</td>\n",
       "      <td>4942.0</td>\n",
       "      <td>4942.0</td>\n",
       "      <td>4942.000000</td>\n",
       "      <td>4942.0</td>\n",
       "      <td>4942.000000</td>\n",
       "      <td>4942.000000</td>\n",
       "      <td>4942.000000</td>\n",
       "    </tr>\n",
       "    <tr>\n",
       "      <th>mean</th>\n",
       "      <td>7.228248</td>\n",
       "      <td>0.0</td>\n",
       "      <td>1.0</td>\n",
       "      <td>0.0</td>\n",
       "      <td>0.0</td>\n",
       "      <td>0.194860</td>\n",
       "      <td>0.0</td>\n",
       "      <td>0.003642</td>\n",
       "      <td>0.794213</td>\n",
       "      <td>0.007285</td>\n",
       "    </tr>\n",
       "    <tr>\n",
       "      <th>std</th>\n",
       "      <td>3.412910</td>\n",
       "      <td>0.0</td>\n",
       "      <td>0.0</td>\n",
       "      <td>0.0</td>\n",
       "      <td>0.0</td>\n",
       "      <td>0.396133</td>\n",
       "      <td>0.0</td>\n",
       "      <td>0.060247</td>\n",
       "      <td>0.404317</td>\n",
       "      <td>0.085046</td>\n",
       "    </tr>\n",
       "    <tr>\n",
       "      <th>min</th>\n",
       "      <td>1.000000</td>\n",
       "      <td>0.0</td>\n",
       "      <td>1.0</td>\n",
       "      <td>0.0</td>\n",
       "      <td>0.0</td>\n",
       "      <td>0.000000</td>\n",
       "      <td>0.0</td>\n",
       "      <td>0.000000</td>\n",
       "      <td>0.000000</td>\n",
       "      <td>0.000000</td>\n",
       "    </tr>\n",
       "    <tr>\n",
       "      <th>25%</th>\n",
       "      <td>7.000000</td>\n",
       "      <td>0.0</td>\n",
       "      <td>1.0</td>\n",
       "      <td>0.0</td>\n",
       "      <td>0.0</td>\n",
       "      <td>0.000000</td>\n",
       "      <td>0.0</td>\n",
       "      <td>0.000000</td>\n",
       "      <td>1.000000</td>\n",
       "      <td>0.000000</td>\n",
       "    </tr>\n",
       "    <tr>\n",
       "      <th>50%</th>\n",
       "      <td>8.000000</td>\n",
       "      <td>0.0</td>\n",
       "      <td>1.0</td>\n",
       "      <td>0.0</td>\n",
       "      <td>0.0</td>\n",
       "      <td>0.000000</td>\n",
       "      <td>0.0</td>\n",
       "      <td>0.000000</td>\n",
       "      <td>1.000000</td>\n",
       "      <td>0.000000</td>\n",
       "    </tr>\n",
       "    <tr>\n",
       "      <th>75%</th>\n",
       "      <td>9.000000</td>\n",
       "      <td>0.0</td>\n",
       "      <td>1.0</td>\n",
       "      <td>0.0</td>\n",
       "      <td>0.0</td>\n",
       "      <td>0.000000</td>\n",
       "      <td>0.0</td>\n",
       "      <td>0.000000</td>\n",
       "      <td>1.000000</td>\n",
       "      <td>0.000000</td>\n",
       "    </tr>\n",
       "    <tr>\n",
       "      <th>max</th>\n",
       "      <td>22.000000</td>\n",
       "      <td>0.0</td>\n",
       "      <td>1.0</td>\n",
       "      <td>0.0</td>\n",
       "      <td>0.0</td>\n",
       "      <td>1.000000</td>\n",
       "      <td>0.0</td>\n",
       "      <td>1.000000</td>\n",
       "      <td>1.000000</td>\n",
       "      <td>1.000000</td>\n",
       "    </tr>\n",
       "  </tbody>\n",
       "</table>\n",
       "</div>"
      ]
     },
     "execution_count": 17,
     "metadata": {},
     "output_type": "execute_result"
    }
   ],
   "execution_count": 17
  },
  {
   "metadata": {},
   "cell_type": "markdown",
   "source": [
    "### Variable number_of_characters (3/4)\n",
    "Esta variable representa el número de caracteres del nombre de la variable. Como vimos en la descripción de la tabla esta varibale adopta valores en el rango 1 - 50. Con una media de 6.42."
   ],
   "id": "119fc307a9194a96"
  },
  {
   "metadata": {
    "ExecuteTime": {
     "end_time": "2024-07-05T09:05:32.318177Z",
     "start_time": "2024-07-05T09:05:29.177171Z"
    }
   },
   "cell_type": "code",
   "source": "sns.stripplot(X['variable__number_of_characters'])",
   "id": "5efd7fbb4f34563d",
   "outputs": [
    {
     "data": {
      "text/plain": [
       "<Axes: ylabel='variable__number_of_characters'>"
      ]
     },
     "execution_count": 18,
     "metadata": {},
     "output_type": "execute_result"
    },
    {
     "data": {
      "text/plain": [
       "<Figure size 640x480 with 1 Axes>"
      ],
      "image/png": "[encoded data removed]"
     },
     "metadata": {},
     "output_type": "display_data"
    }
   ],
   "execution_count": 18
  },
  {
   "metadata": {
    "ExecuteTime": {
     "end_time": "2024-07-05T09:05:32.375774Z",
     "start_time": "2024-07-05T09:05:32.319209Z"
    }
   },
   "cell_type": "code",
   "source": "print_outliers_for_df_column(X, 'variable__number_of_characters')",
   "id": "e5649a2923239004",
   "outputs": [
    {
     "name": "stdout",
     "output_type": "stream",
     "text": [
      "El coeficiente MC (Medcouple Coefficient) de balanceo es: 0.6652679637986787\n",
      "Rango valores atípicos extremos (Tukey): [-8.0,20.0]\n",
      "Rango valores atípicos leves (Tukey): [-2.0,14.0]\n",
      "Rango valores atípicos extremos (Fixed BoxPlot): [3.4153128751082455,93.86972519397412]\n",
      "-3.0IQR: 0 instancias tienen un valor para variable__number_of_characters inferior a -8.0 (Q1-3*IQR) para variable__number_of_characters. Representando un 0.0% del total de instancias.\n",
      "-1.5IQR: 0 instancias tienen un valor para variable__number_of_characters inferior a -2.0 (Q1-1.5*IQR) para variable__number_of_characters. Representando un 0.0% del total de instancias.\n",
      "+1.5IQR: 69230 instancias tienen un valor para variable__number_of_characters superior a 14.0 (Q3+1.5*IQR) para variable__number_of_characters. Representando un 5.927% del total de instancias.\n",
      "+3.0IQR: 14120 instancias tienen un valor para variable__number_of_characters superior a 20.0 (Q3-3*IQR) para variable__number_of_characters. Representando un 1.209% del total de instancias.\n",
      "L: 267688 instancias tienen un valor para variable__number_of_characters inferior a 3.4153128751082455 para variable__number_of_characters. Representando un 22.92% del total de instancias.\n",
      "U: 0 instancias tienen un valor para variable__number_of_characters superior a 93.86972519397412 para variable__number_of_characters. Representando un 0.0% del total de instancias.\n"
     ]
    }
   ],
   "execution_count": 19
  },
  {
   "metadata": {},
   "cell_type": "markdown",
   "source": "Describimos los valores de las variables de la tabla, cuando el valor de la variable es mayor que 20.0 (Con un MC de 66 usamos Tuckey Extremo)",
   "id": "5d347109e6bb8320"
  },
  {
   "metadata": {
    "ExecuteTime": {
     "end_time": "2024-07-05T09:05:32.405184Z",
     "start_time": "2024-07-05T09:05:32.376778Z"
    }
   },
   "cell_type": "code",
   "source": "X[X['variable__number_of_characters'] > 20].describe(percentiles=[.25, .50, .75], include = ['object', 'float', 'bool', 'int'])",
   "id": "5c5e0e6eb4cd173",
   "outputs": [
    {
     "data": {
      "text/plain": [
       "       variable__number_of_characters  variable__is_private  \\\n",
       "count                    14120.000000          14120.000000   \n",
       "mean                        24.350142              0.185977   \n",
       "std                          3.899209              0.389102   \n",
       "min                         21.000000              0.000000   \n",
       "25%                         22.000000              0.000000   \n",
       "50%                         23.000000              0.000000   \n",
       "75%                         26.000000              0.000000   \n",
       "max                         50.000000              1.000000   \n",
       "\n",
       "       variable__is_magic  variable__name_convention_CamelLow  \\\n",
       "count        14120.000000                        14120.000000   \n",
       "mean             0.000425                            0.068343   \n",
       "std              0.020610                            0.252342   \n",
       "min              0.000000                            0.000000   \n",
       "25%              0.000000                            0.000000   \n",
       "50%              0.000000                            0.000000   \n",
       "75%              0.000000                            0.000000   \n",
       "max              1.000000                            1.000000   \n",
       "\n",
       "       variable__name_convention_CamelUp  variable__name_convention_Discard  \\\n",
       "count                       14120.000000                            14120.0   \n",
       "mean                            0.153470                                0.0   \n",
       "std                             0.360453                                0.0   \n",
       "min                             0.000000                                0.0   \n",
       "25%                             0.000000                                0.0   \n",
       "50%                             0.000000                                0.0   \n",
       "75%                             0.000000                                0.0   \n",
       "max                             1.000000                                0.0   \n",
       "\n",
       "       variable__name_convention_Lower  \\\n",
       "count                     14120.000000   \n",
       "mean                          0.001771   \n",
       "std                           0.042042   \n",
       "min                           0.000000   \n",
       "25%                           0.000000   \n",
       "50%                           0.000000   \n",
       "75%                           0.000000   \n",
       "max                           1.000000   \n",
       "\n",
       "       variable__name_convention_NoNameConvention  \\\n",
       "count                                14120.000000   \n",
       "mean                                     0.088739   \n",
       "std                                      0.284377   \n",
       "min                                      0.000000   \n",
       "25%                                      0.000000   \n",
       "50%                                      0.000000   \n",
       "75%                                      0.000000   \n",
       "max                                      1.000000   \n",
       "\n",
       "       variable__name_convention_SnakeCase  variable__name_convention_Upper  \n",
       "count                         14120.000000                     14120.000000  \n",
       "mean                              0.571246                         0.116431  \n",
       "std                               0.494915                         0.320752  \n",
       "min                               0.000000                         0.000000  \n",
       "25%                               0.000000                         0.000000  \n",
       "50%                               1.000000                         0.000000  \n",
       "75%                               1.000000                         0.000000  \n",
       "max                               1.000000                         1.000000  "
      ],
      "text/html": [
       "<div>\n",
       "<style scoped>\n",
       "    .dataframe tbody tr th:only-of-type {\n",
       "        vertical-align: middle;\n",
       "    }\n",
       "\n",
       "    .dataframe tbody tr th {\n",
       "        vertical-align: top;\n",
       "    }\n",
       "\n",
       "    .dataframe thead th {\n",
       "        text-align: right;\n",
       "    }\n",
       "</style>\n",
       "<table border=\"1\" class=\"dataframe\">\n",
       "  <thead>\n",
       "    <tr style=\"text-align: right;\">\n",
       "      <th></th>\n",
       "      <th>variable__number_of_characters</th>\n",
       "      <th>variable__is_private</th>\n",
       "      <th>variable__is_magic</th>\n",
       "      <th>variable__name_convention_CamelLow</th>\n",
       "      <th>variable__name_convention_CamelUp</th>\n",
       "      <th>variable__name_convention_Discard</th>\n",
       "      <th>variable__name_convention_Lower</th>\n",
       "      <th>variable__name_convention_NoNameConvention</th>\n",
       "      <th>variable__name_convention_SnakeCase</th>\n",
       "      <th>variable__name_convention_Upper</th>\n",
       "    </tr>\n",
       "  </thead>\n",
       "  <tbody>\n",
       "    <tr>\n",
       "      <th>count</th>\n",
       "      <td>14120.000000</td>\n",
       "      <td>14120.000000</td>\n",
       "      <td>14120.000000</td>\n",
       "      <td>14120.000000</td>\n",
       "      <td>14120.000000</td>\n",
       "      <td>14120.0</td>\n",
       "      <td>14120.000000</td>\n",
       "      <td>14120.000000</td>\n",
       "      <td>14120.000000</td>\n",
       "      <td>14120.000000</td>\n",
       "    </tr>\n",
       "    <tr>\n",
       "      <th>mean</th>\n",
       "      <td>24.350142</td>\n",
       "      <td>0.185977</td>\n",
       "      <td>0.000425</td>\n",
       "      <td>0.068343</td>\n",
       "      <td>0.153470</td>\n",
       "      <td>0.0</td>\n",
       "      <td>0.001771</td>\n",
       "      <td>0.088739</td>\n",
       "      <td>0.571246</td>\n",
       "      <td>0.116431</td>\n",
       "    </tr>\n",
       "    <tr>\n",
       "      <th>std</th>\n",
       "      <td>3.899209</td>\n",
       "      <td>0.389102</td>\n",
       "      <td>0.020610</td>\n",
       "      <td>0.252342</td>\n",
       "      <td>0.360453</td>\n",
       "      <td>0.0</td>\n",
       "      <td>0.042042</td>\n",
       "      <td>0.284377</td>\n",
       "      <td>0.494915</td>\n",
       "      <td>0.320752</td>\n",
       "    </tr>\n",
       "    <tr>\n",
       "      <th>min</th>\n",
       "      <td>21.000000</td>\n",
       "      <td>0.000000</td>\n",
       "      <td>0.000000</td>\n",
       "      <td>0.000000</td>\n",
       "      <td>0.000000</td>\n",
       "      <td>0.0</td>\n",
       "      <td>0.000000</td>\n",
       "      <td>0.000000</td>\n",
       "      <td>0.000000</td>\n",
       "      <td>0.000000</td>\n",
       "    </tr>\n",
       "    <tr>\n",
       "      <th>25%</th>\n",
       "      <td>22.000000</td>\n",
       "      <td>0.000000</td>\n",
       "      <td>0.000000</td>\n",
       "      <td>0.000000</td>\n",
       "      <td>0.000000</td>\n",
       "      <td>0.0</td>\n",
       "      <td>0.000000</td>\n",
       "      <td>0.000000</td>\n",
       "      <td>0.000000</td>\n",
       "      <td>0.000000</td>\n",
       "    </tr>\n",
       "    <tr>\n",
       "      <th>50%</th>\n",
       "      <td>23.000000</td>\n",
       "      <td>0.000000</td>\n",
       "      <td>0.000000</td>\n",
       "      <td>0.000000</td>\n",
       "      <td>0.000000</td>\n",
       "      <td>0.0</td>\n",
       "      <td>0.000000</td>\n",
       "      <td>0.000000</td>\n",
       "      <td>1.000000</td>\n",
       "      <td>0.000000</td>\n",
       "    </tr>\n",
       "    <tr>\n",
       "      <th>75%</th>\n",
       "      <td>26.000000</td>\n",
       "      <td>0.000000</td>\n",
       "      <td>0.000000</td>\n",
       "      <td>0.000000</td>\n",
       "      <td>0.000000</td>\n",
       "      <td>0.0</td>\n",
       "      <td>0.000000</td>\n",
       "      <td>0.000000</td>\n",
       "      <td>1.000000</td>\n",
       "      <td>0.000000</td>\n",
       "    </tr>\n",
       "    <tr>\n",
       "      <th>max</th>\n",
       "      <td>50.000000</td>\n",
       "      <td>1.000000</td>\n",
       "      <td>1.000000</td>\n",
       "      <td>1.000000</td>\n",
       "      <td>1.000000</td>\n",
       "      <td>0.0</td>\n",
       "      <td>1.000000</td>\n",
       "      <td>1.000000</td>\n",
       "      <td>1.000000</td>\n",
       "      <td>1.000000</td>\n",
       "    </tr>\n",
       "  </tbody>\n",
       "</table>\n",
       "</div>"
      ]
     },
     "execution_count": 20,
     "metadata": {},
     "output_type": "execute_result"
    }
   ],
   "execution_count": 20
  },
  {
   "metadata": {},
   "cell_type": "markdown",
   "source": [
    "### Variable name_convention (4/4)\n",
    "Esta variable es de tipo categorica y representa el name convention del nombre de la variable."
   ],
   "id": "2fd1b0439566c6f7"
  },
  {
   "metadata": {
    "ExecuteTime": {
     "end_time": "2024-07-05T09:05:35.178307Z",
     "start_time": "2024-07-05T09:05:32.406190Z"
    }
   },
   "cell_type": "code",
   "source": "print_categorical_histogram(full_table, 'variable__name_convention',TARGET_FEATURE, include_all=False, include_experts=False)",
   "id": "b504c449a7224091",
   "outputs": [
    {
     "data": {
      "text/plain": [
       "<Figure size 1319.75x600 with 1 Axes>"
      ],
      "image/png": "[encoded data removed]"
     },
     "metadata": {},
     "output_type": "display_data"
    }
   ],
   "execution_count": 21
  },
  {
   "metadata": {
    "ExecuteTime": {
     "end_time": "2024-07-05T09:05:35.663345Z",
     "start_time": "2024-07-05T09:05:35.178869Z"
    }
   },
   "cell_type": "code",
   "source": "print_frequency_anal_for_cat_var(full_table, 'variable__name_convention')",
   "id": "33df6df9ad0487a2",
   "outputs": [
    {
     "name": "stdout",
     "output_type": "stream",
     "text": [
      "La variable variable__name_convention contiene 7 valores distintos.\n",
      "El umbral de outlier es de 0.028571428571428574%\n",
      "La variable variable__name_convention toma el valor de Lower en un 72.77% de los items.\n",
      "La variable variable__name_convention toma el valor de SnakeCase en un 14.5% de los items.\n",
      "La variable variable__name_convention toma el valor de CamelUp en un 6.152% de los items.\n",
      "La variable variable__name_convention toma el valor de CamelLow en un 3.641% de los items.\n",
      "La variable variable__name_convention toma el valor de Upper en un 2.176% de los items.\n",
      "La variable variable__name_convention toma el valor de NoNameConvention en un 0.6789% de los items.\n",
      "La variable variable__name_convention toma el valor de Discard en un 0.08245% de los items.\n"
     ]
    }
   ],
   "execution_count": 22
  },
  {
   "metadata": {
    "ExecuteTime": {
     "end_time": "2024-07-05T09:05:35.725936Z",
     "start_time": "2024-07-05T09:05:35.664351Z"
    }
   },
   "cell_type": "code",
   "source": "print_values_usage_for_cat_var(full_table, 'variable__name_convention', NAMING_CONVENTION_VALUES)",
   "id": "fdd42dbc5576a2ec",
   "outputs": [
    {
     "name": "stdout",
     "output_type": "stream",
     "text": [
      "La variable variable__name_convention puede tomar 7 valores distintos\n",
      "\t7 (100.0%) valores utilizados\n",
      "\t0 (0.0%) valores NO utilizados\n"
     ]
    }
   ],
   "execution_count": 23
  },
  {
   "metadata": {},
   "cell_type": "markdown",
   "source": [
    "## Multivariate\n",
    "\n",
    "Isolation forest algorithm"
   ],
   "id": "ec9edff18a0d4b68"
  },
  {
   "metadata": {
    "ExecuteTime": {
     "end_time": "2024-07-05T09:05:45.426234Z",
     "start_time": "2024-07-05T09:05:35.726939Z"
    }
   },
   "cell_type": "code",
   "source": [
    "from sklearn.ensemble import  IsolationForest\n",
    "\n",
    "CONTAMINATION_FACTOR = 0.0012\n",
    "isof_model = IsolationForest(contamination=CONTAMINATION_FACTOR, random_state=0)\n",
    "isof_prediction = isof_model.fit_predict(X.values)\n",
    "mask = isof_prediction == -1\n",
    "full_table.loc[X.index[mask]]"
   ],
   "id": "bec064dd756c8cb1",
   "outputs": [
    {
     "data": {
      "text/plain": [
       "        variable__name_convention  variable__number_of_characters  \\\n",
       "3806             NoNameConvention                              34   \n",
       "3860             NoNameConvention                              34   \n",
       "6980                    SnakeCase                              35   \n",
       "6981                    SnakeCase                              33   \n",
       "6995                        Upper                              35   \n",
       "...                           ...                             ...   \n",
       "1154783          NoNameConvention                              23   \n",
       "1156139                     Upper                              31   \n",
       "1160879                     Upper                              21   \n",
       "1160881                     Upper                              21   \n",
       "1161525                     Upper                              21   \n",
       "\n",
       "         variable__is_private  variable__is_magic variable__expertise_level  \n",
       "3806                     True               False                  BEGINNER  \n",
       "3860                     True               False                  BEGINNER  \n",
       "6980                     True               False                  BEGINNER  \n",
       "6981                     True               False                  BEGINNER  \n",
       "6995                     True               False                  BEGINNER  \n",
       "...                       ...                 ...                       ...  \n",
       "1154783                  True               False                  BEGINNER  \n",
       "1156139                  True               False                  BEGINNER  \n",
       "1160879                  True               False                  BEGINNER  \n",
       "1160881                  True               False                  BEGINNER  \n",
       "1161525                  True               False                  BEGINNER  \n",
       "\n",
       "[1329 rows x 5 columns]"
      ],
      "text/html": [
       "<div>\n",
       "<style scoped>\n",
       "    .dataframe tbody tr th:only-of-type {\n",
       "        vertical-align: middle;\n",
       "    }\n",
       "\n",
       "    .dataframe tbody tr th {\n",
       "        vertical-align: top;\n",
       "    }\n",
       "\n",
       "    .dataframe thead th {\n",
       "        text-align: right;\n",
       "    }\n",
       "</style>\n",
       "<table border=\"1\" class=\"dataframe\">\n",
       "  <thead>\n",
       "    <tr style=\"text-align: right;\">\n",
       "      <th></th>\n",
       "      <th>variable__name_convention</th>\n",
       "      <th>variable__number_of_characters</th>\n",
       "      <th>variable__is_private</th>\n",
       "      <th>variable__is_magic</th>\n",
       "      <th>variable__expertise_level</th>\n",
       "    </tr>\n",
       "  </thead>\n",
       "  <tbody>\n",
       "    <tr>\n",
       "      <th>3806</th>\n",
       "      <td>NoNameConvention</td>\n",
       "      <td>34</td>\n",
       "      <td>True</td>\n",
       "      <td>False</td>\n",
       "      <td>BEGINNER</td>\n",
       "    </tr>\n",
       "    <tr>\n",
       "      <th>3860</th>\n",
       "      <td>NoNameConvention</td>\n",
       "      <td>34</td>\n",
       "      <td>True</td>\n",
       "      <td>False</td>\n",
       "      <td>BEGINNER</td>\n",
       "    </tr>\n",
       "    <tr>\n",
       "      <th>6980</th>\n",
       "      <td>SnakeCase</td>\n",
       "      <td>35</td>\n",
       "      <td>True</td>\n",
       "      <td>False</td>\n",
       "      <td>BEGINNER</td>\n",
       "    </tr>\n",
       "    <tr>\n",
       "      <th>6981</th>\n",
       "      <td>SnakeCase</td>\n",
       "      <td>33</td>\n",
       "      <td>True</td>\n",
       "      <td>False</td>\n",
       "      <td>BEGINNER</td>\n",
       "    </tr>\n",
       "    <tr>\n",
       "      <th>6995</th>\n",
       "      <td>Upper</td>\n",
       "      <td>35</td>\n",
       "      <td>True</td>\n",
       "      <td>False</td>\n",
       "      <td>BEGINNER</td>\n",
       "    </tr>\n",
       "    <tr>\n",
       "      <th>...</th>\n",
       "      <td>...</td>\n",
       "      <td>...</td>\n",
       "      <td>...</td>\n",
       "      <td>...</td>\n",
       "      <td>...</td>\n",
       "    </tr>\n",
       "    <tr>\n",
       "      <th>1154783</th>\n",
       "      <td>NoNameConvention</td>\n",
       "      <td>23</td>\n",
       "      <td>True</td>\n",
       "      <td>False</td>\n",
       "      <td>BEGINNER</td>\n",
       "    </tr>\n",
       "    <tr>\n",
       "      <th>1156139</th>\n",
       "      <td>Upper</td>\n",
       "      <td>31</td>\n",
       "      <td>True</td>\n",
       "      <td>False</td>\n",
       "      <td>BEGINNER</td>\n",
       "    </tr>\n",
       "    <tr>\n",
       "      <th>1160879</th>\n",
       "      <td>Upper</td>\n",
       "      <td>21</td>\n",
       "      <td>True</td>\n",
       "      <td>False</td>\n",
       "      <td>BEGINNER</td>\n",
       "    </tr>\n",
       "    <tr>\n",
       "      <th>1160881</th>\n",
       "      <td>Upper</td>\n",
       "      <td>21</td>\n",
       "      <td>True</td>\n",
       "      <td>False</td>\n",
       "      <td>BEGINNER</td>\n",
       "    </tr>\n",
       "    <tr>\n",
       "      <th>1161525</th>\n",
       "      <td>Upper</td>\n",
       "      <td>21</td>\n",
       "      <td>True</td>\n",
       "      <td>False</td>\n",
       "      <td>BEGINNER</td>\n",
       "    </tr>\n",
       "  </tbody>\n",
       "</table>\n",
       "<p>1329 rows × 5 columns</p>\n",
       "</div>"
      ]
     },
     "execution_count": 24,
     "metadata": {},
     "output_type": "execute_result"
    }
   ],
   "execution_count": 24
  },
  {
   "metadata": {},
   "cell_type": "markdown",
   "source": [
    "### IMPORTANTE\n",
    "Revisar los outliers detectados."
   ],
   "id": "966c71e99ef97362"
  },
  {
   "metadata": {
    "ExecuteTime": {
     "end_time": "2024-07-05T09:05:45.451793Z",
     "start_time": "2024-07-05T09:05:45.427259Z"
    }
   },
   "cell_type": "code",
   "source": [
    "# Outliers\n",
    "np.transpose(X[mask].describe(percentiles=[.25, .50, .75], include = ['object', 'float', 'bool', 'int']))"
   ],
   "id": "35579c415a6fb29f",
   "outputs": [
    {
     "data": {
      "text/plain": [
       "                                             count       mean       std   min  \\\n",
       "variable__number_of_characters              1329.0  25.066216  5.250945  20.0   \n",
       "variable__is_private                        1329.0   0.995485  0.067065   0.0   \n",
       "variable__is_magic                          1329.0   0.004515  0.067065   0.0   \n",
       "variable__name_convention_CamelLow          1329.0   0.000000  0.000000   0.0   \n",
       "variable__name_convention_CamelUp           1329.0   0.000000  0.000000   0.0   \n",
       "variable__name_convention_Discard           1329.0   0.000000  0.000000   0.0   \n",
       "variable__name_convention_Lower             1329.0   0.000000  0.000000   0.0   \n",
       "variable__name_convention_NoNameConvention  1329.0   0.623025  0.484811   0.0   \n",
       "variable__name_convention_SnakeCase         1329.0   0.145974  0.353213   0.0   \n",
       "variable__name_convention_Upper             1329.0   0.231001  0.421632   0.0   \n",
       "\n",
       "                                             25%   50%   75%   max  \n",
       "variable__number_of_characters              21.0  23.0  27.0  43.0  \n",
       "variable__is_private                         1.0   1.0   1.0   1.0  \n",
       "variable__is_magic                           0.0   0.0   0.0   1.0  \n",
       "variable__name_convention_CamelLow           0.0   0.0   0.0   0.0  \n",
       "variable__name_convention_CamelUp            0.0   0.0   0.0   0.0  \n",
       "variable__name_convention_Discard            0.0   0.0   0.0   0.0  \n",
       "variable__name_convention_Lower              0.0   0.0   0.0   0.0  \n",
       "variable__name_convention_NoNameConvention   0.0   1.0   1.0   1.0  \n",
       "variable__name_convention_SnakeCase          0.0   0.0   0.0   1.0  \n",
       "variable__name_convention_Upper              0.0   0.0   0.0   1.0  "
      ],
      "text/html": [
       "<div>\n",
       "<style scoped>\n",
       "    .dataframe tbody tr th:only-of-type {\n",
       "        vertical-align: middle;\n",
       "    }\n",
       "\n",
       "    .dataframe tbody tr th {\n",
       "        vertical-align: top;\n",
       "    }\n",
       "\n",
       "    .dataframe thead th {\n",
       "        text-align: right;\n",
       "    }\n",
       "</style>\n",
       "<table border=\"1\" class=\"dataframe\">\n",
       "  <thead>\n",
       "    <tr style=\"text-align: right;\">\n",
       "      <th></th>\n",
       "      <th>count</th>\n",
       "      <th>mean</th>\n",
       "      <th>std</th>\n",
       "      <th>min</th>\n",
       "      <th>25%</th>\n",
       "      <th>50%</th>\n",
       "      <th>75%</th>\n",
       "      <th>max</th>\n",
       "    </tr>\n",
       "  </thead>\n",
       "  <tbody>\n",
       "    <tr>\n",
       "      <th>variable__number_of_characters</th>\n",
       "      <td>1329.0</td>\n",
       "      <td>25.066216</td>\n",
       "      <td>5.250945</td>\n",
       "      <td>20.0</td>\n",
       "      <td>21.0</td>\n",
       "      <td>23.0</td>\n",
       "      <td>27.0</td>\n",
       "      <td>43.0</td>\n",
       "    </tr>\n",
       "    <tr>\n",
       "      <th>variable__is_private</th>\n",
       "      <td>1329.0</td>\n",
       "      <td>0.995485</td>\n",
       "      <td>0.067065</td>\n",
       "      <td>0.0</td>\n",
       "      <td>1.0</td>\n",
       "      <td>1.0</td>\n",
       "      <td>1.0</td>\n",
       "      <td>1.0</td>\n",
       "    </tr>\n",
       "    <tr>\n",
       "      <th>variable__is_magic</th>\n",
       "      <td>1329.0</td>\n",
       "      <td>0.004515</td>\n",
       "      <td>0.067065</td>\n",
       "      <td>0.0</td>\n",
       "      <td>0.0</td>\n",
       "      <td>0.0</td>\n",
       "      <td>0.0</td>\n",
       "      <td>1.0</td>\n",
       "    </tr>\n",
       "    <tr>\n",
       "      <th>variable__name_convention_CamelLow</th>\n",
       "      <td>1329.0</td>\n",
       "      <td>0.000000</td>\n",
       "      <td>0.000000</td>\n",
       "      <td>0.0</td>\n",
       "      <td>0.0</td>\n",
       "      <td>0.0</td>\n",
       "      <td>0.0</td>\n",
       "      <td>0.0</td>\n",
       "    </tr>\n",
       "    <tr>\n",
       "      <th>variable__name_convention_CamelUp</th>\n",
       "      <td>1329.0</td>\n",
       "      <td>0.000000</td>\n",
       "      <td>0.000000</td>\n",
       "      <td>0.0</td>\n",
       "      <td>0.0</td>\n",
       "      <td>0.0</td>\n",
       "      <td>0.0</td>\n",
       "      <td>0.0</td>\n",
       "    </tr>\n",
       "    <tr>\n",
       "      <th>variable__name_convention_Discard</th>\n",
       "      <td>1329.0</td>\n",
       "      <td>0.000000</td>\n",
       "      <td>0.000000</td>\n",
       "      <td>0.0</td>\n",
       "      <td>0.0</td>\n",
       "      <td>0.0</td>\n",
       "      <td>0.0</td>\n",
       "      <td>0.0</td>\n",
       "    </tr>\n",
       "    <tr>\n",
       "      <th>variable__name_convention_Lower</th>\n",
       "      <td>1329.0</td>\n",
       "      <td>0.000000</td>\n",
       "      <td>0.000000</td>\n",
       "      <td>0.0</td>\n",
       "      <td>0.0</td>\n",
       "      <td>0.0</td>\n",
       "      <td>0.0</td>\n",
       "      <td>0.0</td>\n",
       "    </tr>\n",
       "    <tr>\n",
       "      <th>variable__name_convention_NoNameConvention</th>\n",
       "      <td>1329.0</td>\n",
       "      <td>0.623025</td>\n",
       "      <td>0.484811</td>\n",
       "      <td>0.0</td>\n",
       "      <td>0.0</td>\n",
       "      <td>1.0</td>\n",
       "      <td>1.0</td>\n",
       "      <td>1.0</td>\n",
       "    </tr>\n",
       "    <tr>\n",
       "      <th>variable__name_convention_SnakeCase</th>\n",
       "      <td>1329.0</td>\n",
       "      <td>0.145974</td>\n",
       "      <td>0.353213</td>\n",
       "      <td>0.0</td>\n",
       "      <td>0.0</td>\n",
       "      <td>0.0</td>\n",
       "      <td>0.0</td>\n",
       "      <td>1.0</td>\n",
       "    </tr>\n",
       "    <tr>\n",
       "      <th>variable__name_convention_Upper</th>\n",
       "      <td>1329.0</td>\n",
       "      <td>0.231001</td>\n",
       "      <td>0.421632</td>\n",
       "      <td>0.0</td>\n",
       "      <td>0.0</td>\n",
       "      <td>0.0</td>\n",
       "      <td>0.0</td>\n",
       "      <td>1.0</td>\n",
       "    </tr>\n",
       "  </tbody>\n",
       "</table>\n",
       "</div>"
      ]
     },
     "execution_count": 25,
     "metadata": {},
     "output_type": "execute_result"
    }
   ],
   "execution_count": 25
  },
  {
   "metadata": {
    "ExecuteTime": {
     "end_time": "2024-07-05T09:05:45.812458Z",
     "start_time": "2024-07-05T09:05:45.452798Z"
    }
   },
   "cell_type": "code",
   "source": [
    "# Non-Outliers\n",
    "np.transpose(X[~mask].describe(percentiles=[.25, .50, .75], include = ['object', 'float', 'bool', 'int']))"
   ],
   "id": "2baee21e8b4441b1",
   "outputs": [
    {
     "data": {
      "text/plain": [
       "                                                count      mean       std  \\\n",
       "variable__number_of_characters              1166638.0  6.409756  4.419453   \n",
       "variable__is_private                        1166638.0  0.016682  0.128077   \n",
       "variable__is_magic                          1166638.0  0.004231  0.064908   \n",
       "variable__name_convention_CamelLow          1166638.0  0.036454  0.187418   \n",
       "variable__name_convention_CamelUp           1166638.0  0.061591  0.240411   \n",
       "variable__name_convention_Discard           1166638.0  0.000825  0.028719   \n",
       "variable__name_convention_Lower             1166638.0  0.728481  0.444743   \n",
       "variable__name_convention_NoNameConvention  1166638.0  0.006087  0.077780   \n",
       "variable__name_convention_SnakeCase         1166638.0  0.145041  0.352142   \n",
       "variable__name_convention_Upper             1166638.0  0.021521  0.145113   \n",
       "\n",
       "                                            min  25%  50%  75%   max  \n",
       "variable__number_of_characters              1.0  4.0  5.0  8.0  50.0  \n",
       "variable__is_private                        0.0  0.0  0.0  0.0   1.0  \n",
       "variable__is_magic                          0.0  0.0  0.0  0.0   1.0  \n",
       "variable__name_convention_CamelLow          0.0  0.0  0.0  0.0   1.0  \n",
       "variable__name_convention_CamelUp           0.0  0.0  0.0  0.0   1.0  \n",
       "variable__name_convention_Discard           0.0  0.0  0.0  0.0   1.0  \n",
       "variable__name_convention_Lower             0.0  0.0  1.0  1.0   1.0  \n",
       "variable__name_convention_NoNameConvention  0.0  0.0  0.0  0.0   1.0  \n",
       "variable__name_convention_SnakeCase         0.0  0.0  0.0  0.0   1.0  \n",
       "variable__name_convention_Upper             0.0  0.0  0.0  0.0   1.0  "
      ],
      "text/html": [
       "<div>\n",
       "<style scoped>\n",
       "    .dataframe tbody tr th:only-of-type {\n",
       "        vertical-align: middle;\n",
       "    }\n",
       "\n",
       "    .dataframe tbody tr th {\n",
       "        vertical-align: top;\n",
       "    }\n",
       "\n",
       "    .dataframe thead th {\n",
       "        text-align: right;\n",
       "    }\n",
       "</style>\n",
       "<table border=\"1\" class=\"dataframe\">\n",
       "  <thead>\n",
       "    <tr style=\"text-align: right;\">\n",
       "      <th></th>\n",
       "      <th>count</th>\n",
       "      <th>mean</th>\n",
       "      <th>std</th>\n",
       "      <th>min</th>\n",
       "      <th>25%</th>\n",
       "      <th>50%</th>\n",
       "      <th>75%</th>\n",
       "      <th>max</th>\n",
       "    </tr>\n",
       "  </thead>\n",
       "  <tbody>\n",
       "    <tr>\n",
       "      <th>variable__number_of_characters</th>\n",
       "      <td>1166638.0</td>\n",
       "      <td>6.409756</td>\n",
       "      <td>4.419453</td>\n",
       "      <td>1.0</td>\n",
       "      <td>4.0</td>\n",
       "      <td>5.0</td>\n",
       "      <td>8.0</td>\n",
       "      <td>50.0</td>\n",
       "    </tr>\n",
       "    <tr>\n",
       "      <th>variable__is_private</th>\n",
       "      <td>1166638.0</td>\n",
       "      <td>0.016682</td>\n",
       "      <td>0.128077</td>\n",
       "      <td>0.0</td>\n",
       "      <td>0.0</td>\n",
       "      <td>0.0</td>\n",
       "      <td>0.0</td>\n",
       "      <td>1.0</td>\n",
       "    </tr>\n",
       "    <tr>\n",
       "      <th>variable__is_magic</th>\n",
       "      <td>1166638.0</td>\n",
       "      <td>0.004231</td>\n",
       "      <td>0.064908</td>\n",
       "      <td>0.0</td>\n",
       "      <td>0.0</td>\n",
       "      <td>0.0</td>\n",
       "      <td>0.0</td>\n",
       "      <td>1.0</td>\n",
       "    </tr>\n",
       "    <tr>\n",
       "      <th>variable__name_convention_CamelLow</th>\n",
       "      <td>1166638.0</td>\n",
       "      <td>0.036454</td>\n",
       "      <td>0.187418</td>\n",
       "      <td>0.0</td>\n",
       "      <td>0.0</td>\n",
       "      <td>0.0</td>\n",
       "      <td>0.0</td>\n",
       "      <td>1.0</td>\n",
       "    </tr>\n",
       "    <tr>\n",
       "      <th>variable__name_convention_CamelUp</th>\n",
       "      <td>1166638.0</td>\n",
       "      <td>0.061591</td>\n",
       "      <td>0.240411</td>\n",
       "      <td>0.0</td>\n",
       "      <td>0.0</td>\n",
       "      <td>0.0</td>\n",
       "      <td>0.0</td>\n",
       "      <td>1.0</td>\n",
       "    </tr>\n",
       "    <tr>\n",
       "      <th>variable__name_convention_Discard</th>\n",
       "      <td>1166638.0</td>\n",
       "      <td>0.000825</td>\n",
       "      <td>0.028719</td>\n",
       "      <td>0.0</td>\n",
       "      <td>0.0</td>\n",
       "      <td>0.0</td>\n",
       "      <td>0.0</td>\n",
       "      <td>1.0</td>\n",
       "    </tr>\n",
       "    <tr>\n",
       "      <th>variable__name_convention_Lower</th>\n",
       "      <td>1166638.0</td>\n",
       "      <td>0.728481</td>\n",
       "      <td>0.444743</td>\n",
       "      <td>0.0</td>\n",
       "      <td>0.0</td>\n",
       "      <td>1.0</td>\n",
       "      <td>1.0</td>\n",
       "      <td>1.0</td>\n",
       "    </tr>\n",
       "    <tr>\n",
       "      <th>variable__name_convention_NoNameConvention</th>\n",
       "      <td>1166638.0</td>\n",
       "      <td>0.006087</td>\n",
       "      <td>0.077780</td>\n",
       "      <td>0.0</td>\n",
       "      <td>0.0</td>\n",
       "      <td>0.0</td>\n",
       "      <td>0.0</td>\n",
       "      <td>1.0</td>\n",
       "    </tr>\n",
       "    <tr>\n",
       "      <th>variable__name_convention_SnakeCase</th>\n",
       "      <td>1166638.0</td>\n",
       "      <td>0.145041</td>\n",
       "      <td>0.352142</td>\n",
       "      <td>0.0</td>\n",
       "      <td>0.0</td>\n",
       "      <td>0.0</td>\n",
       "      <td>0.0</td>\n",
       "      <td>1.0</td>\n",
       "    </tr>\n",
       "    <tr>\n",
       "      <th>variable__name_convention_Upper</th>\n",
       "      <td>1166638.0</td>\n",
       "      <td>0.021521</td>\n",
       "      <td>0.145113</td>\n",
       "      <td>0.0</td>\n",
       "      <td>0.0</td>\n",
       "      <td>0.0</td>\n",
       "      <td>0.0</td>\n",
       "      <td>1.0</td>\n",
       "    </tr>\n",
       "  </tbody>\n",
       "</table>\n",
       "</div>"
      ]
     },
     "execution_count": 26,
     "metadata": {},
     "output_type": "execute_result"
    }
   ],
   "execution_count": 26
  }
 ],
 "metadata": {
  "kernelspec": {
   "display_name": "Python 3",
   "language": "python",
   "name": "python3"
  },
  "language_info": {
   "codemirror_mode": {
    "name": "ipython",
    "version": 2
   },
   "file_extension": ".py",
   "mimetype": "text/x-python",
   "name": "python",
   "nbconvert_exporter": "python",
   "pygments_lexer": "ipython2",
   "version": "2.7.6"
  }
 },
 "nbformat": 4,
 "nbformat_minor": 5
}
