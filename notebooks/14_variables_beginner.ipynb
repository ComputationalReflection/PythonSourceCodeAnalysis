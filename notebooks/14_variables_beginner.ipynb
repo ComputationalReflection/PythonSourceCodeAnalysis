{
 "cells": [
  {
   "metadata": {},
   "cell_type": "markdown",
   "source": [
    "# Vaiables BEGINNER\n",
    "\n",
    "Esta tabla contiene la información de los grupos de parámetros de funciones y Lambda expresiones BEGINNER.  --> ABEL COMPLETAR <--"
   ],
   "id": "148ae8871134f924"
  },
  {
   "metadata": {},
   "cell_type": "markdown",
   "source": "## 1 - Obtencion de datos",
   "id": "d3c24a719032807f"
  },
  {
   "metadata": {
    "ExecuteTime": {
     "end_time": "2024-05-27T10:56:51.611564Z",
     "start_time": "2024-05-27T10:56:44.116969Z"
    }
   },
   "cell_type": "code",
   "source": [
    "import matplotlib.pyplot as plt\n",
    "from notebooks_utils import *\n",
    "\n",
    "TARGET_FEATURE = 'variable__expertise_level'\n",
    "TARGET_CLASS = 'BEGINNER'\n",
    "full_table = get_data('variables')\n",
    "\n",
    "instances_for_class_low = len(full_table[full_table[TARGET_FEATURE] == \"BEGINNER\"])\n",
    "instances_for_class_high = len(full_table[full_table[TARGET_FEATURE] == \"EXPERT\"])\n",
    "\n",
    "print(f\"The dataset contains {instances_for_class_low} ({instances_for_class_low/len(full_table)*100:.4}%) instances for BEGINNER class and {instances_for_class_high} ({instances_for_class_high/len(full_table)*100:.4}%) for EXPERT class.\")"
   ],
   "id": "820a8d287b62af82",
   "outputs": [
    {
     "name": "stdout",
     "output_type": "stream",
     "text": [
      "2024-05-27 12:56:48.734716 Data cache files found ...\n",
      "2024-05-27 12:56:50.748072 Data cache files successfully loaded!!\n",
      "The dataset contains 1145346 (41.17%) instances for BEGINNER class and 1636752 (58.83%) for EXPERT class.\n"
     ]
    }
   ],
   "execution_count": 1
  },
  {
   "metadata": {
    "ExecuteTime": {
     "end_time": "2024-05-27T10:56:52.136558Z",
     "start_time": "2024-05-27T10:56:51.611564Z"
    }
   },
   "cell_type": "code",
   "source": [
    "full_table = full_table[full_table[TARGET_FEATURE] == TARGET_CLASS]\n",
    "\n",
    "# Table name, features and target.\n",
    "TABLE_NAME = 'variables'\n",
    "TABLE_FEATURES = ['variable__name_convention', 'variable__number_of_characters', 'variable__is_private', 'variable__is_magic']\n",
    "\n",
    "# Load features and target.\n",
    "X = full_table[TABLE_FEATURES]\n",
    "\n",
    "# Print information about the loaded table.\n",
    "print(f'Features shape: {X.shape}')\n",
    "\n",
    "print(f'As we can see the downloaded data contains a total of {X.shape[0]} instances. Each of the instances corresponds to a program. For each program we have {X.shape[1]} attributes.')"
   ],
   "id": "9f0a949e91eb384b",
   "outputs": [
    {
     "name": "stdout",
     "output_type": "stream",
     "text": [
      "Features shape: (1145346, 4)\n",
      "As we can see the downloaded data contains a total of 1145346 instances. Each of the instances corresponds to a program. For each program we have 4 attributes.\n"
     ]
    }
   ],
   "execution_count": 2
  },
  {
   "metadata": {},
   "cell_type": "markdown",
   "source": [
    "## 2 - Exploracion de datos\n",
    "\n",
    "Una vez tenemos nuestra tabla en un dataframe el siguiente paso es explorarla para ver qué tipo de información contiene."
   ],
   "id": "bcda7cb784bf0a1"
  },
  {
   "metadata": {
    "ExecuteTime": {
     "end_time": "2024-05-27T10:56:52.240211Z",
     "start_time": "2024-05-27T10:56:52.136558Z"
    }
   },
   "cell_type": "code",
   "source": "print(X.info())",
   "id": "2eb3d09993235bcb",
   "outputs": [
    {
     "name": "stdout",
     "output_type": "stream",
     "text": [
      "<class 'pandas.core.frame.DataFrame'>\n",
      "Index: 1145346 entries, 0 to 1146595\n",
      "Data columns (total 4 columns):\n",
      " #   Column                          Non-Null Count    Dtype \n",
      "---  ------                          --------------    ----- \n",
      " 0   variable__name_convention       1145346 non-null  object\n",
      " 1   variable__number_of_characters  1145346 non-null  int64 \n",
      " 2   variable__is_private            1145346 non-null  bool  \n",
      " 3   variable__is_magic              1145346 non-null  bool  \n",
      "dtypes: bool(2), int64(1), object(1)\n",
      "memory usage: 28.4+ MB\n",
      "None\n"
     ]
    }
   ],
   "execution_count": 3
  },
  {
   "metadata": {},
   "cell_type": "markdown",
   "source": "Cómo podemos ver la tabla está compuesta por 1 variable numérica, 2 variables boleanas y 2 de tipo objeto. Una de las últimas variables es la etiqueta de la instancia. Sin embargo, en algunas ocasiones estas últimas clases no las vamos a utilizar. Por ejemplo, si queremos obtener clusters por medio de aprendizaje no supervisado.",
   "id": "24f7607501c2e574"
  },
  {
   "metadata": {},
   "cell_type": "markdown",
   "source": [
    "### 2.1 - Duplicados\n",
    "Miramos si la tabla tiene entradas duplicadas."
   ],
   "id": "3b9b55798c7ecbd5"
  },
  {
   "metadata": {
    "ExecuteTime": {
     "end_time": "2024-05-27T10:56:52.519649Z",
     "start_time": "2024-05-27T10:56:52.240211Z"
    }
   },
   "cell_type": "code",
   "source": [
    "number_of_duplicated_entries = sum(full_table.duplicated(subset=TABLE_FEATURES))\n",
    "duplicated_entries_pct = number_of_duplicated_entries / len(full_table) * 100\n",
    "print(f\"The dataset contains [{duplicated_entries_pct:.4}%] of duplicated entries.\")"
   ],
   "id": "ed5e6830bbf484a6",
   "outputs": [
    {
     "name": "stdout",
     "output_type": "stream",
     "text": [
      "The dataset contains [99.97%] of duplicated entries.\n"
     ]
    }
   ],
   "execution_count": 4
  },
  {
   "metadata": {},
   "cell_type": "markdown",
   "source": [
    "### 2.3 - Valores Nulos \n",
    "Miramos si alguna de las variables que contiene la tabla contiene algún valor que sea nulo."
   ],
   "id": "63d4e4ed1d8d2c6c"
  },
  {
   "metadata": {
    "ExecuteTime": {
     "end_time": "2024-05-27T10:56:52.615849Z",
     "start_time": "2024-05-27T10:56:52.519649Z"
    }
   },
   "cell_type": "code",
   "source": "X.isnull().sum()",
   "id": "6c991380e6e0413e",
   "outputs": [
    {
     "data": {
      "text/plain": [
       "variable__name_convention         0\n",
       "variable__number_of_characters    0\n",
       "variable__is_private              0\n",
       "variable__is_magic                0\n",
       "dtype: int64"
      ]
     },
     "execution_count": 5,
     "metadata": {},
     "output_type": "execute_result"
    }
   ],
   "execution_count": 5
  },
  {
   "metadata": {
    "ExecuteTime": {
     "end_time": "2024-05-27T10:56:52.720764Z",
     "start_time": "2024-05-27T10:56:52.615849Z"
    }
   },
   "cell_type": "code",
   "source": "print_empty_cols(X)",
   "id": "18b2dfadf1719a4b",
   "outputs": [
    {
     "name": "stdout",
     "output_type": "stream",
     "text": [
      "variable__name_convention\n",
      "-------------------------\n",
      "0 instancias no tienen un valor para la columna variable__name_convention\n",
      "\n",
      "\n",
      "variable__number_of_characters\n",
      "------------------------------\n",
      "0 instancias no tienen un valor para la columna variable__number_of_characters\n",
      "\n",
      "\n",
      "variable__is_private\n",
      "--------------------\n",
      "0 instancias no tienen un valor para la columna variable__is_private\n",
      "\n",
      "\n",
      "variable__is_magic\n",
      "------------------\n",
      "0 instancias no tienen un valor para la columna variable__is_magic\n",
      "\n",
      "\n"
     ]
    }
   ],
   "execution_count": 6
  },
  {
   "metadata": {},
   "cell_type": "markdown",
   "source": "### 2.4 - Describimos los valores de las variables de la tabla.",
   "id": "5bb94c0f81c08024"
  },
  {
   "metadata": {
    "ExecuteTime": {
     "end_time": "2024-05-27T10:56:52.986015Z",
     "start_time": "2024-05-27T10:56:52.720764Z"
    }
   },
   "cell_type": "code",
   "source": "np.transpose(X.describe(percentiles=[.25, .50, .75], include = ['object', 'float', 'bool', 'int']))",
   "id": "74bba302a29fbfd5",
   "outputs": [
    {
     "data": {
      "text/plain": [
       "                                    count unique    top     freq      mean  \\\n",
       "variable__name_convention         1145346      7  Lower   833509       NaN   \n",
       "variable__number_of_characters  1145346.0    NaN    NaN      NaN  6.429564   \n",
       "variable__is_private              1145346      2  False  1124762       NaN   \n",
       "variable__is_magic                1145346      2  False  1140663       NaN   \n",
       "\n",
       "                                     std  min  25%  50%  75%   max  \n",
       "variable__name_convention            NaN  NaN  NaN  NaN  NaN   NaN  \n",
       "variable__number_of_characters  4.467813  1.0  4.0  5.0  8.0  50.0  \n",
       "variable__is_private                 NaN  NaN  NaN  NaN  NaN   NaN  \n",
       "variable__is_magic                   NaN  NaN  NaN  NaN  NaN   NaN  "
      ],
      "text/html": [
       "<div>\n",
       "<style scoped>\n",
       "    .dataframe tbody tr th:only-of-type {\n",
       "        vertical-align: middle;\n",
       "    }\n",
       "\n",
       "    .dataframe tbody tr th {\n",
       "        vertical-align: top;\n",
       "    }\n",
       "\n",
       "    .dataframe thead th {\n",
       "        text-align: right;\n",
       "    }\n",
       "</style>\n",
       "<table border=\"1\" class=\"dataframe\">\n",
       "  <thead>\n",
       "    <tr style=\"text-align: right;\">\n",
       "      <th></th>\n",
       "      <th>count</th>\n",
       "      <th>unique</th>\n",
       "      <th>top</th>\n",
       "      <th>freq</th>\n",
       "      <th>mean</th>\n",
       "      <th>std</th>\n",
       "      <th>min</th>\n",
       "      <th>25%</th>\n",
       "      <th>50%</th>\n",
       "      <th>75%</th>\n",
       "      <th>max</th>\n",
       "    </tr>\n",
       "  </thead>\n",
       "  <tbody>\n",
       "    <tr>\n",
       "      <th>variable__name_convention</th>\n",
       "      <td>1145346</td>\n",
       "      <td>7</td>\n",
       "      <td>Lower</td>\n",
       "      <td>833509</td>\n",
       "      <td>NaN</td>\n",
       "      <td>NaN</td>\n",
       "      <td>NaN</td>\n",
       "      <td>NaN</td>\n",
       "      <td>NaN</td>\n",
       "      <td>NaN</td>\n",
       "      <td>NaN</td>\n",
       "    </tr>\n",
       "    <tr>\n",
       "      <th>variable__number_of_characters</th>\n",
       "      <td>1145346.0</td>\n",
       "      <td>NaN</td>\n",
       "      <td>NaN</td>\n",
       "      <td>NaN</td>\n",
       "      <td>6.429564</td>\n",
       "      <td>4.467813</td>\n",
       "      <td>1.0</td>\n",
       "      <td>4.0</td>\n",
       "      <td>5.0</td>\n",
       "      <td>8.0</td>\n",
       "      <td>50.0</td>\n",
       "    </tr>\n",
       "    <tr>\n",
       "      <th>variable__is_private</th>\n",
       "      <td>1145346</td>\n",
       "      <td>2</td>\n",
       "      <td>False</td>\n",
       "      <td>1124762</td>\n",
       "      <td>NaN</td>\n",
       "      <td>NaN</td>\n",
       "      <td>NaN</td>\n",
       "      <td>NaN</td>\n",
       "      <td>NaN</td>\n",
       "      <td>NaN</td>\n",
       "      <td>NaN</td>\n",
       "    </tr>\n",
       "    <tr>\n",
       "      <th>variable__is_magic</th>\n",
       "      <td>1145346</td>\n",
       "      <td>2</td>\n",
       "      <td>False</td>\n",
       "      <td>1140663</td>\n",
       "      <td>NaN</td>\n",
       "      <td>NaN</td>\n",
       "      <td>NaN</td>\n",
       "      <td>NaN</td>\n",
       "      <td>NaN</td>\n",
       "      <td>NaN</td>\n",
       "      <td>NaN</td>\n",
       "    </tr>\n",
       "  </tbody>\n",
       "</table>\n",
       "</div>"
      ]
     },
     "execution_count": 7,
     "metadata": {},
     "output_type": "execute_result"
    }
   ],
   "execution_count": 7
  },
  {
   "metadata": {},
   "cell_type": "markdown",
   "source": "Vamos a discretizar las variables numericas, agrupando conjuntos de valores en categorias, para hacer un análisis de los datos. Para cada variable es necesario ver la distribucion de lo valores para hacer los bins (categorias).",
   "id": "9af3eb59b924a596"
  },
  {
   "metadata": {
    "ExecuteTime": {
     "end_time": "2024-05-27T10:56:56.323389Z",
     "start_time": "2024-05-27T10:56:52.986015Z"
    }
   },
   "cell_type": "code",
   "source": [
    "# DISCRETIZATION\n",
    "X_copy = X.copy()\n",
    "\n",
    "discretized_columns = {\n",
    "    \"variable__number_of_characters\": [(0.0, 4.0), (4.0, 4.0), (4.0, 10.0), (10.0, inf)], # min: 0 ; max: 82\n",
    "}\n",
    "\n",
    "discretize_columns(X_copy, discretized_columns)\n",
    "    \n",
    "# SINGLE FEATURE\n",
    "print(\"--- SINGLE FEATURE ---\")\n",
    "print(get_statistics(X_copy, ['variable__number_of_characters'], 10))\n",
    "print(get_statistics(full_table, ['variable__name_convention'], 10))\n",
    "print(get_statistics(X_copy, ['variable__is_private'], 10))\n",
    "print(get_statistics(X_copy, ['variable__is_magic'], 10))\n",
    "\n",
    "# 2 FEATURES\n",
    "print(\"--- TWO FEATURES ---\")\n",
    "#print(get_statistics(X_copy, ['variable__is_magic', 'variable__name_convention_Discard'], 10))\n",
    "#print(get_statistics(X_copy, ['functiondef__number_of_characters', 'functiondef__name_convention_Lower'], 10))\n",
    "\n",
    "# 3 FEATURES\n",
    "print(\"--- THREE FEATURES ---\")\n",
    "#print(get_statistics(X_copy, ['module__class_defs_pct', 'module__function_defs_pct', 'module__enum_defs_pct'], 10))"
   ],
   "id": "6baf20dd3e3ca759",
   "outputs": [
    {
     "name": "stdout",
     "output_type": "stream",
     "text": [
      "--- SINGLE FEATURE ---\n",
      "variable__number_of_characters  count  percentage\n",
      "                    [4.0_10.0) 415009   36.234378\n",
      "                     [0.0_4.0) 262314   22.902599\n",
      "                     [4.0_4.0] 236309   20.632106\n",
      "                    [10.0_inf] 231714   20.230917\n",
      "\n",
      "variable__name_convention  count  percentage\n",
      "                    Lower 833509   72.773555\n",
      "                SnakeCase 164256   14.341169\n",
      "                  CamelUp  71048    6.203191\n",
      "                 CamelLow  42461    3.707264\n",
      "                    Upper  25267    2.206058\n",
      "         NoNameConvention   7900    0.689748\n",
      "                  Discard    905    0.079015\n",
      "\n",
      " variable__is_private   count  percentage\n",
      "                False 1124762   98.202814\n",
      "                 True   20584    1.797186\n",
      "\n",
      " variable__is_magic   count  percentage\n",
      "              False 1140663   99.591128\n",
      "               True    4683    0.408872\n",
      "\n",
      "--- TWO FEATURES ---\n",
      "--- THREE FEATURES ---\n"
     ]
    }
   ],
   "execution_count": 8
  },
  {
   "metadata": {
    "ExecuteTime": {
     "end_time": "2024-05-27T10:56:56.568349Z",
     "start_time": "2024-05-27T10:56:56.323389Z"
    }
   },
   "cell_type": "code",
   "source": [
    "def normalize_datatypes(X:pd.DataFrame) -> (pd.DataFrame, [str]):\n",
    "    X = pd.get_dummies(X)\n",
    "    X = X.astype('float32')        \n",
    "    columns_names = X.columns.tolist()\n",
    "    return X, columns_names\n",
    "\n",
    "X, TABLE_FEATURES = normalize_datatypes(X)\n",
    "# Print information about the loaded table\n",
    "print(f'Features shape: {X.shape}')"
   ],
   "id": "5084c89dcb377a92",
   "outputs": [
    {
     "name": "stdout",
     "output_type": "stream",
     "text": [
      "Features shape: (1145346, 10)\n"
     ]
    }
   ],
   "execution_count": 9
  },
  {
   "metadata": {},
   "cell_type": "markdown",
   "source": "#### Muestra la matriz de correlación de pearson entre las variables de la tabla.",
   "id": "ed8befe21328a079"
  },
  {
   "metadata": {
    "ExecuteTime": {
     "end_time": "2024-05-27T10:56:58.070033Z",
     "start_time": "2024-05-27T10:56:56.568349Z"
    }
   },
   "cell_type": "code",
   "source": "sns.heatmap(X.corr(), annot=False)",
   "id": "dea960d18d682104",
   "outputs": [
    {
     "data": {
      "text/plain": [
       "<Axes: >"
      ]
     },
     "execution_count": 10,
     "metadata": {},
     "output_type": "execute_result"
    },
    {
     "data": {
      "text/plain": [
       "<Figure size 640x480 with 2 Axes>"
      ],
      "image/png": "[encoded data removed]"
     },
     "metadata": {},
     "output_type": "display_data"
    }
   ],
   "execution_count": 10
  },
  {
   "metadata": {},
   "cell_type": "markdown",
   "source": [
    "## 3 - Detección de valores atípicos (outliers)\n",
    "Una vez sabemos qué datos contiene la tabla, analizaremos los valores que toma cada una de las variables de cada instancia. El objetivo es identificar posibles valores atípicos que nos dificulten la realización de futuras tareas. \n",
    "Tras su análisis, se puede concluir que un valor:\n",
    "    - **Es erróneo**. En este caso hay que tomar una decisión para cada caso, siendo los tratamientos más extendidos son listwise, pairwise, drop variables, mean/median imputation, most frequent, separate category, zero imputation, cold deck, hot deck,(stochastic) regression, k-NN and multiple imputation. Los resultados de imputación regresiva, k-NN y múltiple dan buenos resultados, aunque, como se ha indicado, es necesario el estudio en cada caso.\n",
    "    - **Es correcto, pero anómalo**. Se documenta su existencia para su posible discusión y se mantiene en el dataset. En estos casos se hace necesaria la utilización de algoritmos y estadísticos que no sean muy sensibles a dichos valores anómalos.\n",
    "\n",
    "## Univariate\n",
    "Para cada uno de los atributos se debe realizar un análisis y detección de valores atípicos, estudiando su posible causa. \n",
    "Existen diversas formas de calcular los valores anómalos. \n",
    "\n",
    "### Variables numéricas\n",
    "Para las variables numéricas, se suele identificar: \n",
    "    - a) Valor atípico leve es el que está fuera de $[Q1 - 1.5IQR, Q3 + 1.5IQR]$, donde $IQR = Q3-Q1$.\n",
    "    - b) Valor atípico extremo está fuera de $[Q1 - 3IQR, Q3 + 3IQR]$.\n",
    "\n",
    "La idea es probar con a) y si hay pocas instancias analizarlas. Si hubiese muchas, mirar b) y analizar si fuesen pocas. No hay un algoritmo o método estipulado, puesto que depende del dominio del problema y de los datos.\n",
    "\n",
    "Los límites de Tukey se basan en los cuartiles de los datos y son sensibles a la presencia de sesgo en la distribución. Cuando hay asimetría en los datos, los límites de Tukey pueden no ser tan efectivos para identificar outliers de manera equitativa en ambos extremos de la distribución. El Coeficiente de Medcouple es útil para identificar la asimetría en los datos, especialmente en presencia de valores atípicos o sesgados. Es una medida robusta porque no se ve tan afectada por valores extremos como la media y la desviación estándar. El MC puede proporcionar información adicional sobre la asimetría de la distribución, lo que te permite ajustar los límites de Tukey de manera más apropiada para tu conjunto de datos específico. Una posible variacion de los límites de Tukey teniendo en cuenta MC podria ser: \n",
    "   - Si MC es mayor que 0 (asimetría hacia la derecha):\n",
    "      - low = (q1-1.5 * math.exp(-4*mc) * iqr)\n",
    "      - high = (q3+1.5 * math.exp(3.5*mc) * iqr)\n",
    "   - Si la asimetriza es hacia la izquierda:    \n",
    "      - low = (q1-1.5 * math.exp(-3.5*mc) * iqr)\n",
    "      - high = (q3+1.5 * math.exp(4*mc) * iqr)\n",
    "\n",
    "\n",
    "### Variables categóricas\n",
    "Para las variables categóricas no existe el concepto de valor anómalo, pero sí se puede considerar en base a un análisis de frecuencia. Por ejemplo, que el uso de una categoría sea residual, pudiendo tener un 0.1% de instancias en el dataset. Para detectar estos valores, se puede fijar un valor mínimo de frecuencia en función del número posible de valores de la variable categórica (2 en el caso de una variable booleana). Por ejemplo, un umbral de $\\frac{0.2\\%}{valores}$ (0.1% en el caso de una variable booleana)"
   ],
   "id": "599c97eec7b7d283"
  },
  {
   "metadata": {},
   "cell_type": "markdown",
   "source": [
    "## Analisis detallado de variables\n",
    "Para cada una de las 10 variable (3 booleanas, 4 porcentuales y 3 numericas) se hara un analisis detallado "
   ],
   "id": "132c8742057275c"
  },
  {
   "metadata": {},
   "cell_type": "markdown",
   "source": [
    "### Variable is_private (1/4)\n",
    "Esta variable es de tipo booleano y representa si la variable es privada."
   ],
   "id": "6abba739e46da213"
  },
  {
   "metadata": {
    "ExecuteTime": {
     "end_time": "2024-05-27T10:56:59.283106Z",
     "start_time": "2024-05-27T10:56:58.070033Z"
    }
   },
   "cell_type": "code",
   "source": [
    "plt.xticks([0, 1], ['False', 'True'])\n",
    "sns.histplot(X['variable__is_private'], discrete=True)"
   ],
   "id": "4ab35b2ef94a3379",
   "outputs": [
    {
     "data": {
      "text/plain": [
       "<Axes: xlabel='variable__is_private', ylabel='Count'>"
      ]
     },
     "execution_count": 11,
     "metadata": {},
     "output_type": "execute_result"
    },
    {
     "data": {
      "text/plain": [
       "<Figure size 640x480 with 1 Axes>"
      ],
      "image/png": "[encoded data removed]"
     },
     "metadata": {},
     "output_type": "display_data"
    }
   ],
   "execution_count": 11
  },
  {
   "metadata": {
    "ExecuteTime": {
     "end_time": "2024-05-27T10:56:59.425223Z",
     "start_time": "2024-05-27T10:56:59.283106Z"
    }
   },
   "cell_type": "code",
   "source": [
    "num_true_values = len(X[X['variable__is_private'] == True])\n",
    "num_false_values = len(X[X['variable__is_private'] == False])\n",
    "std = X['variable__is_private'].std()\n",
    "freq_true = len(X[X['variable__is_private'] == True]) / len(X['variable__is_private'])\n",
    "freq_false = len(X[X['variable__is_private'] == False]) / len(X['variable__is_private'])\n",
    "print(f'La variable is_private contiene {num_true_values} valores verdaderos y {num_false_values} valores falsos. Y, la desviación típica es de {std}')\n",
    "print(f'La frecuencia con la que programa puede tener la variable is_private a True es {freq_true}.')\n",
    "print(f'La frecuencia con la que programa puede tener la variable is_private a False es {freq_false}.')"
   ],
   "id": "f4a042829ae6fac5",
   "outputs": [
    {
     "name": "stdout",
     "output_type": "stream",
     "text": [
      "La variable is_private contiene 20584 valores verdaderos y 1124762 valores falsos. Y, la desviación típica es de 0.13284912705421448\n",
      "La frecuencia con la que programa puede tener la variable is_private a True es 0.017971861778012934.\n",
      "La frecuencia con la que programa puede tener la variable is_private a False es 0.9820281382219871.\n"
     ]
    }
   ],
   "execution_count": 12
  },
  {
   "metadata": {
    "ExecuteTime": {
     "end_time": "2024-05-27T10:56:59.491241Z",
     "start_time": "2024-05-27T10:56:59.425223Z"
    }
   },
   "cell_type": "code",
   "source": [
    "possible_values = [True, False]\n",
    "print_frequency_anal_for_cat_var(X, 'variable__is_private', possible_values)"
   ],
   "id": "c614dd60d0ab8e5b",
   "outputs": [
    {
     "name": "stdout",
     "output_type": "stream",
     "text": [
      "La variable variable__is_private contiene 2 valores distintos.\n",
      "El umbral de outlier es de 0.1%\n",
      "La variable variable__is_private toma el valor de 0.0 en un 98.2% de los items.\n",
      "La variable variable__is_private toma el valor de 1.0 en un 1.797% de los items.\n"
     ]
    }
   ],
   "execution_count": 13
  },
  {
   "metadata": {
    "ExecuteTime": {
     "end_time": "2024-05-27T10:56:59.616062Z",
     "start_time": "2024-05-27T10:56:59.491241Z"
    }
   },
   "cell_type": "code",
   "source": "X[X['variable__is_private'] == True].describe(percentiles=[.25, .50, .75], include = ['object', 'float', 'bool', 'int'])\n",
   "id": "6c33bdd1420008cf",
   "outputs": [
    {
     "data": {
      "text/plain": [
       "       variable__number_of_characters  variable__is_private  \\\n",
       "count                    20584.000000               20584.0   \n",
       "mean                        13.245725                   1.0   \n",
       "std                          6.218163                   0.0   \n",
       "min                          2.000000                   1.0   \n",
       "25%                          9.000000                   1.0   \n",
       "50%                         13.000000                   1.0   \n",
       "75%                         17.000000                   1.0   \n",
       "max                         43.000000                   1.0   \n",
       "\n",
       "       variable__is_magic  variable__name_convention_CamelLow  \\\n",
       "count             20584.0                             20584.0   \n",
       "mean                  0.0                                 0.0   \n",
       "std                   0.0                                 0.0   \n",
       "min                   0.0                                 0.0   \n",
       "25%                   0.0                                 0.0   \n",
       "50%                   0.0                                 0.0   \n",
       "75%                   0.0                                 0.0   \n",
       "max                   0.0                                 0.0   \n",
       "\n",
       "       variable__name_convention_CamelUp  variable__name_convention_Discard  \\\n",
       "count                            20584.0                            20584.0   \n",
       "mean                                 0.0                                0.0   \n",
       "std                                  0.0                                0.0   \n",
       "min                                  0.0                                0.0   \n",
       "25%                                  0.0                                0.0   \n",
       "50%                                  0.0                                0.0   \n",
       "75%                                  0.0                                0.0   \n",
       "max                                  0.0                                0.0   \n",
       "\n",
       "       variable__name_convention_Lower  \\\n",
       "count                          20584.0   \n",
       "mean                               0.0   \n",
       "std                                0.0   \n",
       "min                                0.0   \n",
       "25%                                0.0   \n",
       "50%                                0.0   \n",
       "75%                                0.0   \n",
       "max                                0.0   \n",
       "\n",
       "       variable__name_convention_NoNameConvention  \\\n",
       "count                                20584.000000   \n",
       "mean                                     0.167897   \n",
       "std                                      0.373784   \n",
       "min                                      0.000000   \n",
       "25%                                      0.000000   \n",
       "50%                                      0.000000   \n",
       "75%                                      0.000000   \n",
       "max                                      1.000000   \n",
       "\n",
       "       variable__name_convention_SnakeCase  variable__name_convention_Upper  \n",
       "count                         20584.000000                     20584.000000  \n",
       "mean                              0.712495                         0.119607  \n",
       "std                               0.452610                         0.324510  \n",
       "min                               0.000000                         0.000000  \n",
       "25%                               0.000000                         0.000000  \n",
       "50%                               1.000000                         0.000000  \n",
       "75%                               1.000000                         0.000000  \n",
       "max                               1.000000                         1.000000  "
      ],
      "text/html": [
       "<div>\n",
       "<style scoped>\n",
       "    .dataframe tbody tr th:only-of-type {\n",
       "        vertical-align: middle;\n",
       "    }\n",
       "\n",
       "    .dataframe tbody tr th {\n",
       "        vertical-align: top;\n",
       "    }\n",
       "\n",
       "    .dataframe thead th {\n",
       "        text-align: right;\n",
       "    }\n",
       "</style>\n",
       "<table border=\"1\" class=\"dataframe\">\n",
       "  <thead>\n",
       "    <tr style=\"text-align: right;\">\n",
       "      <th></th>\n",
       "      <th>variable__number_of_characters</th>\n",
       "      <th>variable__is_private</th>\n",
       "      <th>variable__is_magic</th>\n",
       "      <th>variable__name_convention_CamelLow</th>\n",
       "      <th>variable__name_convention_CamelUp</th>\n",
       "      <th>variable__name_convention_Discard</th>\n",
       "      <th>variable__name_convention_Lower</th>\n",
       "      <th>variable__name_convention_NoNameConvention</th>\n",
       "      <th>variable__name_convention_SnakeCase</th>\n",
       "      <th>variable__name_convention_Upper</th>\n",
       "    </tr>\n",
       "  </thead>\n",
       "  <tbody>\n",
       "    <tr>\n",
       "      <th>count</th>\n",
       "      <td>20584.000000</td>\n",
       "      <td>20584.0</td>\n",
       "      <td>20584.0</td>\n",
       "      <td>20584.0</td>\n",
       "      <td>20584.0</td>\n",
       "      <td>20584.0</td>\n",
       "      <td>20584.0</td>\n",
       "      <td>20584.000000</td>\n",
       "      <td>20584.000000</td>\n",
       "      <td>20584.000000</td>\n",
       "    </tr>\n",
       "    <tr>\n",
       "      <th>mean</th>\n",
       "      <td>13.245725</td>\n",
       "      <td>1.0</td>\n",
       "      <td>0.0</td>\n",
       "      <td>0.0</td>\n",
       "      <td>0.0</td>\n",
       "      <td>0.0</td>\n",
       "      <td>0.0</td>\n",
       "      <td>0.167897</td>\n",
       "      <td>0.712495</td>\n",
       "      <td>0.119607</td>\n",
       "    </tr>\n",
       "    <tr>\n",
       "      <th>std</th>\n",
       "      <td>6.218163</td>\n",
       "      <td>0.0</td>\n",
       "      <td>0.0</td>\n",
       "      <td>0.0</td>\n",
       "      <td>0.0</td>\n",
       "      <td>0.0</td>\n",
       "      <td>0.0</td>\n",
       "      <td>0.373784</td>\n",
       "      <td>0.452610</td>\n",
       "      <td>0.324510</td>\n",
       "    </tr>\n",
       "    <tr>\n",
       "      <th>min</th>\n",
       "      <td>2.000000</td>\n",
       "      <td>1.0</td>\n",
       "      <td>0.0</td>\n",
       "      <td>0.0</td>\n",
       "      <td>0.0</td>\n",
       "      <td>0.0</td>\n",
       "      <td>0.0</td>\n",
       "      <td>0.000000</td>\n",
       "      <td>0.000000</td>\n",
       "      <td>0.000000</td>\n",
       "    </tr>\n",
       "    <tr>\n",
       "      <th>25%</th>\n",
       "      <td>9.000000</td>\n",
       "      <td>1.0</td>\n",
       "      <td>0.0</td>\n",
       "      <td>0.0</td>\n",
       "      <td>0.0</td>\n",
       "      <td>0.0</td>\n",
       "      <td>0.0</td>\n",
       "      <td>0.000000</td>\n",
       "      <td>0.000000</td>\n",
       "      <td>0.000000</td>\n",
       "    </tr>\n",
       "    <tr>\n",
       "      <th>50%</th>\n",
       "      <td>13.000000</td>\n",
       "      <td>1.0</td>\n",
       "      <td>0.0</td>\n",
       "      <td>0.0</td>\n",
       "      <td>0.0</td>\n",
       "      <td>0.0</td>\n",
       "      <td>0.0</td>\n",
       "      <td>0.000000</td>\n",
       "      <td>1.000000</td>\n",
       "      <td>0.000000</td>\n",
       "    </tr>\n",
       "    <tr>\n",
       "      <th>75%</th>\n",
       "      <td>17.000000</td>\n",
       "      <td>1.0</td>\n",
       "      <td>0.0</td>\n",
       "      <td>0.0</td>\n",
       "      <td>0.0</td>\n",
       "      <td>0.0</td>\n",
       "      <td>0.0</td>\n",
       "      <td>0.000000</td>\n",
       "      <td>1.000000</td>\n",
       "      <td>0.000000</td>\n",
       "    </tr>\n",
       "    <tr>\n",
       "      <th>max</th>\n",
       "      <td>43.000000</td>\n",
       "      <td>1.0</td>\n",
       "      <td>0.0</td>\n",
       "      <td>0.0</td>\n",
       "      <td>0.0</td>\n",
       "      <td>0.0</td>\n",
       "      <td>0.0</td>\n",
       "      <td>1.000000</td>\n",
       "      <td>1.000000</td>\n",
       "      <td>1.000000</td>\n",
       "    </tr>\n",
       "  </tbody>\n",
       "</table>\n",
       "</div>"
      ]
     },
     "execution_count": 14,
     "metadata": {},
     "output_type": "execute_result"
    }
   ],
   "execution_count": 14
  },
  {
   "metadata": {},
   "cell_type": "markdown",
   "source": [
    "### Variable is_magic (2/4)\n",
    "Esta variable es de tipo booleano y representa si la variable es magic."
   ],
   "id": "1fa4491178ba606c"
  },
  {
   "metadata": {
    "ExecuteTime": {
     "end_time": "2024-05-27T10:57:01.546205Z",
     "start_time": "2024-05-27T10:56:59.616062Z"
    }
   },
   "cell_type": "code",
   "source": [
    "plt.xticks([0, 1], ['False', 'True'])\n",
    "sns.histplot(X['variable__is_magic'], discrete=True)"
   ],
   "id": "529b7fd2ad00b058",
   "outputs": [
    {
     "data": {
      "text/plain": [
       "<Axes: xlabel='variable__is_magic', ylabel='Count'>"
      ]
     },
     "execution_count": 15,
     "metadata": {},
     "output_type": "execute_result"
    },
    {
     "data": {
      "text/plain": [
       "<Figure size 640x480 with 1 Axes>"
      ],
      "image/png": "[encoded data removed]"
     },
     "metadata": {},
     "output_type": "display_data"
    }
   ],
   "execution_count": 15
  },
  {
   "metadata": {
    "ExecuteTime": {
     "end_time": "2024-05-27T10:57:01.699146Z",
     "start_time": "2024-05-27T10:57:01.546205Z"
    }
   },
   "cell_type": "code",
   "source": [
    "#ANALISIS DE DISTRIBUCIÓN DE DATOS\n",
    "num_true_values = len(X[X['variable__is_magic'] == True])\n",
    "num_false_values = len(X[X['variable__is_magic'] == False])\n",
    "std = X['variable__is_magic'].std()\n",
    "freq_true = len(X[X['variable__is_magic'] == True]) / len(X['variable__is_magic'])\n",
    "freq_false = len(X[X['variable__is_magic'] == False]) / len(X['variable__is_magic'])\n",
    "print(f'La variable is_magic contiene {num_true_values} valores verdaderos y {num_false_values} valores falsos. Y, la desviación típica es de {std}')\n",
    "print(f'La frecuencia con la que programa puede tener la variable is_magic a True es {freq_true}.')\n",
    "print(f'La frecuencia con la que programa puede tener la variable is_magic a False es {freq_false}.')"
   ],
   "id": "d1bed1e471481adc",
   "outputs": [
    {
     "name": "stdout",
     "output_type": "stream",
     "text": [
      "La variable is_magic contiene 4683 valores verdaderos y 1140663 valores falsos. Y, la desviación típica es de 0.06381227821111679\n",
      "La frecuencia con la que programa puede tener la variable is_magic a True es 0.004088720788303272.\n",
      "La frecuencia con la que programa puede tener la variable is_magic a False es 0.9959112792116968.\n"
     ]
    }
   ],
   "execution_count": 16
  },
  {
   "metadata": {
    "ExecuteTime": {
     "end_time": "2024-05-27T10:57:01.789462Z",
     "start_time": "2024-05-27T10:57:01.699146Z"
    }
   },
   "cell_type": "code",
   "source": [
    "#PROBABILIDAD DE VALORES\n",
    "possible_values = [True, False]\n",
    "print_frequency_anal_for_cat_var(X, 'variable__is_magic', possible_values)"
   ],
   "id": "c54b472864a47e88",
   "outputs": [
    {
     "name": "stdout",
     "output_type": "stream",
     "text": [
      "La variable variable__is_magic contiene 2 valores distintos.\n",
      "El umbral de outlier es de 0.1%\n",
      "La variable variable__is_magic toma el valor de 0.0 en un 99.59% de los items.\n",
      "La variable variable__is_magic toma el valor de 1.0 en un 0.4089% de los items.\n"
     ]
    }
   ],
   "execution_count": 17
  },
  {
   "metadata": {
    "ExecuteTime": {
     "end_time": "2024-05-27T10:57:01.840848Z",
     "start_time": "2024-05-27T10:57:01.789462Z"
    }
   },
   "cell_type": "code",
   "source": [
    "#VALORES DE LOS DATOS CONDICIONADOS A TRUE/FALSE\n",
    "X[X['variable__is_magic'] == True].describe(percentiles=[.25, .50, .75], include = ['object', 'float', 'bool', 'int'])"
   ],
   "id": "4bd840561db5f69f",
   "outputs": [
    {
     "data": {
      "text/plain": [
       "       variable__number_of_characters  variable__is_private  \\\n",
       "count                     4683.000000                4683.0   \n",
       "mean                         7.192825                   0.0   \n",
       "std                          3.391665                   0.0   \n",
       "min                          1.000000                   0.0   \n",
       "25%                          7.000000                   0.0   \n",
       "50%                          8.000000                   0.0   \n",
       "75%                          9.000000                   0.0   \n",
       "max                         22.000000                   0.0   \n",
       "\n",
       "       variable__is_magic  variable__name_convention_CamelLow  \\\n",
       "count              4683.0                              4683.0   \n",
       "mean                  1.0                                 0.0   \n",
       "std                   0.0                                 0.0   \n",
       "min                   1.0                                 0.0   \n",
       "25%                   1.0                                 0.0   \n",
       "50%                   1.0                                 0.0   \n",
       "75%                   1.0                                 0.0   \n",
       "max                   1.0                                 0.0   \n",
       "\n",
       "       variable__name_convention_CamelUp  variable__name_convention_Discard  \\\n",
       "count                             4683.0                        4683.000000   \n",
       "mean                                 0.0                           0.193252   \n",
       "std                                  0.0                           0.394891   \n",
       "min                                  0.0                           0.000000   \n",
       "25%                                  0.0                           0.000000   \n",
       "50%                                  0.0                           0.000000   \n",
       "75%                                  0.0                           0.000000   \n",
       "max                                  0.0                           1.000000   \n",
       "\n",
       "       variable__name_convention_Lower  \\\n",
       "count                           4683.0   \n",
       "mean                               0.0   \n",
       "std                                0.0   \n",
       "min                                0.0   \n",
       "25%                                0.0   \n",
       "50%                                0.0   \n",
       "75%                                0.0   \n",
       "max                                0.0   \n",
       "\n",
       "       variable__name_convention_NoNameConvention  \\\n",
       "count                                 4683.000000   \n",
       "mean                                     0.003844   \n",
       "std                                      0.061885   \n",
       "min                                      0.000000   \n",
       "25%                                      0.000000   \n",
       "50%                                      0.000000   \n",
       "75%                                      0.000000   \n",
       "max                                      1.000000   \n",
       "\n",
       "       variable__name_convention_SnakeCase  variable__name_convention_Upper  \n",
       "count                          4683.000000                      4683.000000  \n",
       "mean                              0.795217                         0.007687  \n",
       "std                               0.403586                         0.087349  \n",
       "min                               0.000000                         0.000000  \n",
       "25%                               1.000000                         0.000000  \n",
       "50%                               1.000000                         0.000000  \n",
       "75%                               1.000000                         0.000000  \n",
       "max                               1.000000                         1.000000  "
      ],
      "text/html": [
       "<div>\n",
       "<style scoped>\n",
       "    .dataframe tbody tr th:only-of-type {\n",
       "        vertical-align: middle;\n",
       "    }\n",
       "\n",
       "    .dataframe tbody tr th {\n",
       "        vertical-align: top;\n",
       "    }\n",
       "\n",
       "    .dataframe thead th {\n",
       "        text-align: right;\n",
       "    }\n",
       "</style>\n",
       "<table border=\"1\" class=\"dataframe\">\n",
       "  <thead>\n",
       "    <tr style=\"text-align: right;\">\n",
       "      <th></th>\n",
       "      <th>variable__number_of_characters</th>\n",
       "      <th>variable__is_private</th>\n",
       "      <th>variable__is_magic</th>\n",
       "      <th>variable__name_convention_CamelLow</th>\n",
       "      <th>variable__name_convention_CamelUp</th>\n",
       "      <th>variable__name_convention_Discard</th>\n",
       "      <th>variable__name_convention_Lower</th>\n",
       "      <th>variable__name_convention_NoNameConvention</th>\n",
       "      <th>variable__name_convention_SnakeCase</th>\n",
       "      <th>variable__name_convention_Upper</th>\n",
       "    </tr>\n",
       "  </thead>\n",
       "  <tbody>\n",
       "    <tr>\n",
       "      <th>count</th>\n",
       "      <td>4683.000000</td>\n",
       "      <td>4683.0</td>\n",
       "      <td>4683.0</td>\n",
       "      <td>4683.0</td>\n",
       "      <td>4683.0</td>\n",
       "      <td>4683.000000</td>\n",
       "      <td>4683.0</td>\n",
       "      <td>4683.000000</td>\n",
       "      <td>4683.000000</td>\n",
       "      <td>4683.000000</td>\n",
       "    </tr>\n",
       "    <tr>\n",
       "      <th>mean</th>\n",
       "      <td>7.192825</td>\n",
       "      <td>0.0</td>\n",
       "      <td>1.0</td>\n",
       "      <td>0.0</td>\n",
       "      <td>0.0</td>\n",
       "      <td>0.193252</td>\n",
       "      <td>0.0</td>\n",
       "      <td>0.003844</td>\n",
       "      <td>0.795217</td>\n",
       "      <td>0.007687</td>\n",
       "    </tr>\n",
       "    <tr>\n",
       "      <th>std</th>\n",
       "      <td>3.391665</td>\n",
       "      <td>0.0</td>\n",
       "      <td>0.0</td>\n",
       "      <td>0.0</td>\n",
       "      <td>0.0</td>\n",
       "      <td>0.394891</td>\n",
       "      <td>0.0</td>\n",
       "      <td>0.061885</td>\n",
       "      <td>0.403586</td>\n",
       "      <td>0.087349</td>\n",
       "    </tr>\n",
       "    <tr>\n",
       "      <th>min</th>\n",
       "      <td>1.000000</td>\n",
       "      <td>0.0</td>\n",
       "      <td>1.0</td>\n",
       "      <td>0.0</td>\n",
       "      <td>0.0</td>\n",
       "      <td>0.000000</td>\n",
       "      <td>0.0</td>\n",
       "      <td>0.000000</td>\n",
       "      <td>0.000000</td>\n",
       "      <td>0.000000</td>\n",
       "    </tr>\n",
       "    <tr>\n",
       "      <th>25%</th>\n",
       "      <td>7.000000</td>\n",
       "      <td>0.0</td>\n",
       "      <td>1.0</td>\n",
       "      <td>0.0</td>\n",
       "      <td>0.0</td>\n",
       "      <td>0.000000</td>\n",
       "      <td>0.0</td>\n",
       "      <td>0.000000</td>\n",
       "      <td>1.000000</td>\n",
       "      <td>0.000000</td>\n",
       "    </tr>\n",
       "    <tr>\n",
       "      <th>50%</th>\n",
       "      <td>8.000000</td>\n",
       "      <td>0.0</td>\n",
       "      <td>1.0</td>\n",
       "      <td>0.0</td>\n",
       "      <td>0.0</td>\n",
       "      <td>0.000000</td>\n",
       "      <td>0.0</td>\n",
       "      <td>0.000000</td>\n",
       "      <td>1.000000</td>\n",
       "      <td>0.000000</td>\n",
       "    </tr>\n",
       "    <tr>\n",
       "      <th>75%</th>\n",
       "      <td>9.000000</td>\n",
       "      <td>0.0</td>\n",
       "      <td>1.0</td>\n",
       "      <td>0.0</td>\n",
       "      <td>0.0</td>\n",
       "      <td>0.000000</td>\n",
       "      <td>0.0</td>\n",
       "      <td>0.000000</td>\n",
       "      <td>1.000000</td>\n",
       "      <td>0.000000</td>\n",
       "    </tr>\n",
       "    <tr>\n",
       "      <th>max</th>\n",
       "      <td>22.000000</td>\n",
       "      <td>0.0</td>\n",
       "      <td>1.0</td>\n",
       "      <td>0.0</td>\n",
       "      <td>0.0</td>\n",
       "      <td>1.000000</td>\n",
       "      <td>0.0</td>\n",
       "      <td>1.000000</td>\n",
       "      <td>1.000000</td>\n",
       "      <td>1.000000</td>\n",
       "    </tr>\n",
       "  </tbody>\n",
       "</table>\n",
       "</div>"
      ]
     },
     "execution_count": 18,
     "metadata": {},
     "output_type": "execute_result"
    }
   ],
   "execution_count": 18
  },
  {
   "metadata": {},
   "cell_type": "markdown",
   "source": [
    "### Variable number_of_characters (3/4)\n",
    "Esta variable representa el número de caracteres del nombre de la variable. Como vimos en la descripción de la tabla esta varibale adopta valores en el rango 1 - 82. Con una media de 7.12."
   ],
   "id": "119fc307a9194a96"
  },
  {
   "metadata": {
    "ExecuteTime": {
     "end_time": "2024-05-27T10:57:11.069334Z",
     "start_time": "2024-05-27T10:57:01.840848Z"
    }
   },
   "cell_type": "code",
   "source": "sns.stripplot(X['variable__number_of_characters'])",
   "id": "5efd7fbb4f34563d",
   "outputs": [
    {
     "data": {
      "text/plain": [
       "<Axes: ylabel='variable__number_of_characters'>"
      ]
     },
     "execution_count": 19,
     "metadata": {},
     "output_type": "execute_result"
    },
    {
     "data": {
      "text/plain": [
       "<Figure size 640x480 with 1 Axes>"
      ],
      "image/png": "[encoded data removed]"
     },
     "metadata": {},
     "output_type": "display_data"
    }
   ],
   "execution_count": 19
  },
  {
   "metadata": {
    "ExecuteTime": {
     "end_time": "2024-05-27T10:57:11.194887Z",
     "start_time": "2024-05-27T10:57:11.069334Z"
    }
   },
   "cell_type": "code",
   "source": "print_outliers_for_df_column(X, 'variable__number_of_characters')",
   "id": "e5649a2923239004",
   "outputs": [
    {
     "name": "stdout",
     "output_type": "stream",
     "text": [
      "El coeficiente MC (Medcouple Coefficient) de balanceo es: 0.6655193770012888\n",
      "Rango valores atípicos extremos (Tukey): [-8.0,20.0]\n",
      "Rango valores atípicos leves (Tukey): [-2.0,14.0]\n",
      "Rango valores atípicos extremos (Fixed BoxPlot): [3.4158271420305266,93.95612376064638]\n",
      "-3.0IQR: 0 instancias tienen un valor para variable__number_of_characters inferior a -8.0 (Q1-3*IQR) para variable__number_of_characters. Representando un 0.0% del total de instancias.\n",
      "-1.5IQR: 0 instancias tienen un valor para variable__number_of_characters inferior a -2.0 (Q1-1.5*IQR) para variable__number_of_characters. Representando un 0.0% del total de instancias.\n",
      "+1.5IQR: 67884 instancias tienen un valor para variable__number_of_characters superior a 14.0 (Q3+1.5*IQR) para variable__number_of_characters. Representando un 5.927% del total de instancias.\n",
      "+3.0IQR: 13889 instancias tienen un valor para variable__number_of_characters superior a 20.0 (Q3-3*IQR) para variable__number_of_characters. Representando un 1.213% del total de instancias.\n",
      "L: 262314 instancias tienen un valor para variable__number_of_characters inferior a 3.4158271420305266 para variable__number_of_characters. Representando un 22.9% del total de instancias.\n",
      "U: 0 instancias tienen un valor para variable__number_of_characters superior a 93.95612376064638 para variable__number_of_characters. Representando un 0.0% del total de instancias.\n"
     ]
    }
   ],
   "execution_count": 20
  },
  {
   "metadata": {
    "ExecuteTime": {
     "end_time": "2024-05-27T10:57:11.260934Z",
     "start_time": "2024-05-27T10:57:11.194887Z"
    }
   },
   "cell_type": "code",
   "source": "X[X['variable__number_of_characters'] > 28].describe(percentiles=[.25, .50, .75], include = ['object', 'float', 'bool', 'int'])",
   "id": "5c5e0e6eb4cd173",
   "outputs": [
    {
     "data": {
      "text/plain": [
       "       variable__number_of_characters  variable__is_private  \\\n",
       "count                     1673.000000           1673.000000   \n",
       "mean                        32.868500              0.283323   \n",
       "std                          3.847657              0.450747   \n",
       "min                         29.000000              0.000000   \n",
       "25%                         30.000000              0.000000   \n",
       "50%                         32.000000              0.000000   \n",
       "75%                         35.000000              1.000000   \n",
       "max                         50.000000              1.000000   \n",
       "\n",
       "       variable__is_magic  variable__name_convention_CamelLow  \\\n",
       "count              1673.0                         1673.000000   \n",
       "mean                  0.0                            0.042439   \n",
       "std                   0.0                            0.201648   \n",
       "min                   0.0                            0.000000   \n",
       "25%                   0.0                            0.000000   \n",
       "50%                   0.0                            0.000000   \n",
       "75%                   0.0                            0.000000   \n",
       "max                   0.0                            1.000000   \n",
       "\n",
       "       variable__name_convention_CamelUp  variable__name_convention_Discard  \\\n",
       "count                        1673.000000                             1673.0   \n",
       "mean                            0.070532                                0.0   \n",
       "std                             0.256118                                0.0   \n",
       "min                             0.000000                                0.0   \n",
       "25%                             0.000000                                0.0   \n",
       "50%                             0.000000                                0.0   \n",
       "75%                             0.000000                                0.0   \n",
       "max                             1.000000                                0.0   \n",
       "\n",
       "       variable__name_convention_Lower  \\\n",
       "count                           1673.0   \n",
       "mean                               0.0   \n",
       "std                                0.0   \n",
       "min                                0.0   \n",
       "25%                                0.0   \n",
       "50%                                0.0   \n",
       "75%                                0.0   \n",
       "max                                0.0   \n",
       "\n",
       "       variable__name_convention_NoNameConvention  \\\n",
       "count                                 1673.000000   \n",
       "mean                                     0.126718   \n",
       "std                                      0.332757   \n",
       "min                                      0.000000   \n",
       "25%                                      0.000000   \n",
       "50%                                      0.000000   \n",
       "75%                                      0.000000   \n",
       "max                                      1.000000   \n",
       "\n",
       "       variable__name_convention_SnakeCase  variable__name_convention_Upper  \n",
       "count                          1673.000000                      1673.000000  \n",
       "mean                              0.485356                         0.274955  \n",
       "std                               0.499935                         0.446625  \n",
       "min                               0.000000                         0.000000  \n",
       "25%                               0.000000                         0.000000  \n",
       "50%                               0.000000                         0.000000  \n",
       "75%                               1.000000                         1.000000  \n",
       "max                               1.000000                         1.000000  "
      ],
      "text/html": [
       "<div>\n",
       "<style scoped>\n",
       "    .dataframe tbody tr th:only-of-type {\n",
       "        vertical-align: middle;\n",
       "    }\n",
       "\n",
       "    .dataframe tbody tr th {\n",
       "        vertical-align: top;\n",
       "    }\n",
       "\n",
       "    .dataframe thead th {\n",
       "        text-align: right;\n",
       "    }\n",
       "</style>\n",
       "<table border=\"1\" class=\"dataframe\">\n",
       "  <thead>\n",
       "    <tr style=\"text-align: right;\">\n",
       "      <th></th>\n",
       "      <th>variable__number_of_characters</th>\n",
       "      <th>variable__is_private</th>\n",
       "      <th>variable__is_magic</th>\n",
       "      <th>variable__name_convention_CamelLow</th>\n",
       "      <th>variable__name_convention_CamelUp</th>\n",
       "      <th>variable__name_convention_Discard</th>\n",
       "      <th>variable__name_convention_Lower</th>\n",
       "      <th>variable__name_convention_NoNameConvention</th>\n",
       "      <th>variable__name_convention_SnakeCase</th>\n",
       "      <th>variable__name_convention_Upper</th>\n",
       "    </tr>\n",
       "  </thead>\n",
       "  <tbody>\n",
       "    <tr>\n",
       "      <th>count</th>\n",
       "      <td>1673.000000</td>\n",
       "      <td>1673.000000</td>\n",
       "      <td>1673.0</td>\n",
       "      <td>1673.000000</td>\n",
       "      <td>1673.000000</td>\n",
       "      <td>1673.0</td>\n",
       "      <td>1673.0</td>\n",
       "      <td>1673.000000</td>\n",
       "      <td>1673.000000</td>\n",
       "      <td>1673.000000</td>\n",
       "    </tr>\n",
       "    <tr>\n",
       "      <th>mean</th>\n",
       "      <td>32.868500</td>\n",
       "      <td>0.283323</td>\n",
       "      <td>0.0</td>\n",
       "      <td>0.042439</td>\n",
       "      <td>0.070532</td>\n",
       "      <td>0.0</td>\n",
       "      <td>0.0</td>\n",
       "      <td>0.126718</td>\n",
       "      <td>0.485356</td>\n",
       "      <td>0.274955</td>\n",
       "    </tr>\n",
       "    <tr>\n",
       "      <th>std</th>\n",
       "      <td>3.847657</td>\n",
       "      <td>0.450747</td>\n",
       "      <td>0.0</td>\n",
       "      <td>0.201648</td>\n",
       "      <td>0.256118</td>\n",
       "      <td>0.0</td>\n",
       "      <td>0.0</td>\n",
       "      <td>0.332757</td>\n",
       "      <td>0.499935</td>\n",
       "      <td>0.446625</td>\n",
       "    </tr>\n",
       "    <tr>\n",
       "      <th>min</th>\n",
       "      <td>29.000000</td>\n",
       "      <td>0.000000</td>\n",
       "      <td>0.0</td>\n",
       "      <td>0.000000</td>\n",
       "      <td>0.000000</td>\n",
       "      <td>0.0</td>\n",
       "      <td>0.0</td>\n",
       "      <td>0.000000</td>\n",
       "      <td>0.000000</td>\n",
       "      <td>0.000000</td>\n",
       "    </tr>\n",
       "    <tr>\n",
       "      <th>25%</th>\n",
       "      <td>30.000000</td>\n",
       "      <td>0.000000</td>\n",
       "      <td>0.0</td>\n",
       "      <td>0.000000</td>\n",
       "      <td>0.000000</td>\n",
       "      <td>0.0</td>\n",
       "      <td>0.0</td>\n",
       "      <td>0.000000</td>\n",
       "      <td>0.000000</td>\n",
       "      <td>0.000000</td>\n",
       "    </tr>\n",
       "    <tr>\n",
       "      <th>50%</th>\n",
       "      <td>32.000000</td>\n",
       "      <td>0.000000</td>\n",
       "      <td>0.0</td>\n",
       "      <td>0.000000</td>\n",
       "      <td>0.000000</td>\n",
       "      <td>0.0</td>\n",
       "      <td>0.0</td>\n",
       "      <td>0.000000</td>\n",
       "      <td>0.000000</td>\n",
       "      <td>0.000000</td>\n",
       "    </tr>\n",
       "    <tr>\n",
       "      <th>75%</th>\n",
       "      <td>35.000000</td>\n",
       "      <td>1.000000</td>\n",
       "      <td>0.0</td>\n",
       "      <td>0.000000</td>\n",
       "      <td>0.000000</td>\n",
       "      <td>0.0</td>\n",
       "      <td>0.0</td>\n",
       "      <td>0.000000</td>\n",
       "      <td>1.000000</td>\n",
       "      <td>1.000000</td>\n",
       "    </tr>\n",
       "    <tr>\n",
       "      <th>max</th>\n",
       "      <td>50.000000</td>\n",
       "      <td>1.000000</td>\n",
       "      <td>0.0</td>\n",
       "      <td>1.000000</td>\n",
       "      <td>1.000000</td>\n",
       "      <td>0.0</td>\n",
       "      <td>0.0</td>\n",
       "      <td>1.000000</td>\n",
       "      <td>1.000000</td>\n",
       "      <td>1.000000</td>\n",
       "    </tr>\n",
       "  </tbody>\n",
       "</table>\n",
       "</div>"
      ]
     },
     "execution_count": 21,
     "metadata": {},
     "output_type": "execute_result"
    }
   ],
   "execution_count": 21
  },
  {
   "metadata": {},
   "cell_type": "markdown",
   "source": [
    "### Variable name_convention (10/10)\n",
    "Esta variable es de tipo categorica y representa el name convention del nombre de la variable."
   ],
   "id": "2fd1b0439566c6f7"
  },
  {
   "metadata": {
    "ExecuteTime": {
     "end_time": "2024-05-27T10:57:17.766815Z",
     "start_time": "2024-05-27T10:57:11.260934Z"
    }
   },
   "cell_type": "code",
   "source": "sns.catplot(full_table['variable__name_convention'], kind=\"count\")",
   "id": "b504c449a7224091",
   "outputs": [
    {
     "data": {
      "text/plain": [
       "<seaborn.axisgrid.FacetGrid at 0x1ab800d59d0>"
      ]
     },
     "execution_count": 22,
     "metadata": {},
     "output_type": "execute_result"
    },
    {
     "data": {
      "text/plain": [
       "<Figure size 500x500 with 1 Axes>"
      ],
      "image/png": "[encoded data removed]"
     },
     "metadata": {},
     "output_type": "display_data"
    }
   ],
   "execution_count": 22
  },
  {
   "metadata": {
    "ExecuteTime": {
     "end_time": "2024-05-27T10:57:19.628677Z",
     "start_time": "2024-05-27T10:57:17.766815Z"
    }
   },
   "cell_type": "code",
   "source": "print_frequency_anal_for_cat_var(full_table, 'variable__name_convention')",
   "id": "33df6df9ad0487a2",
   "outputs": [
    {
     "name": "stdout",
     "output_type": "stream",
     "text": [
      "La variable variable__name_convention contiene 7 valores distintos.\n",
      "El umbral de outlier es de 0.028571428571428574%\n",
      "La variable variable__name_convention toma el valor de Lower en un 72.77% de los items.\n",
      "La variable variable__name_convention toma el valor de SnakeCase en un 14.34% de los items.\n",
      "La variable variable__name_convention toma el valor de CamelUp en un 6.203% de los items.\n",
      "La variable variable__name_convention toma el valor de CamelLow en un 3.707% de los items.\n",
      "La variable variable__name_convention toma el valor de Upper en un 2.206% de los items.\n",
      "La variable variable__name_convention toma el valor de NoNameConvention en un 0.6897% de los items.\n",
      "La variable variable__name_convention toma el valor de Discard en un 0.07902% de los items.\n"
     ]
    }
   ],
   "execution_count": 23
  }
 ],
 "metadata": {
  "kernelspec": {
   "display_name": "Python 3",
   "language": "python",
   "name": "python3"
  },
  "language_info": {
   "codemirror_mode": {
    "name": "ipython",
    "version": 2
   },
   "file_extension": ".py",
   "mimetype": "text/x-python",
   "name": "python",
   "nbconvert_exporter": "python",
   "pygments_lexer": "ipython2",
   "version": "2.7.6"
  }
 },
 "nbformat": 4,
 "nbformat_minor": 5
}
