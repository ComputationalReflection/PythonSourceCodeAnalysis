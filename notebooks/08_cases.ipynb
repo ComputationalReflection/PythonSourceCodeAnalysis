{
 "cells": [
  {
   "cell_type": "markdown",
   "id": "ea78b212-ff32-40d1-92e1-9e09d847ae78",
   "metadata": {
    "pycharm": {
     "name": "#%% md\n"
    }
   },
   "source": [
    "# Cases\n",
    "\n",
    "Esta tabla contiene la información de las sentencias de tipo Match. --> ABEL COMPLETAR <--"
   ]
  },
  {
   "metadata": {},
   "cell_type": "markdown",
   "source": [
    "## IMPORTANTE\n",
    "Todos las instancias de la tabla Cases tienen expertise_level = EXPERT, con lo que solo se hara este analisis.  "
   ],
   "id": "448a5ff8e0d1702f"
  },
  {
   "cell_type": "markdown",
   "id": "b862cb2f-c1e0-4074-92c0-004dea379079",
   "metadata": {
    "pycharm": {
     "name": "#%% md\n"
    }
   },
   "source": [
    "## 1 - Obtencion de datos"
   ]
  },
  {
   "cell_type": "code",
   "id": "63793d9c-9473-44fa-bb1d-8e4b32fa1457",
   "metadata": {
    "pycharm": {
     "name": "#%%\n"
    },
    "tags": [],
    "ExecuteTime": {
     "end_time": "2024-05-30T07:56:38.007244Z",
     "start_time": "2024-05-30T07:56:37.919904Z"
    }
   },
   "source": [
    "import matplotlib.pyplot as plt\n",
    "from notebooks_utils import *\n",
    "\n",
    "full_table = get_data('cases')\n",
    "\n",
    "# Table name, features and target.\n",
    "TABLE_NAME = 'cases'\n",
    "TABLE_FEATURES = ['case__number_of_cases', 'case__guards', 'case__average_match_value', 'case__average_body_count', 'case__average_match_singleton', 'case__average_match_sequence', 'case__average_match_mapping', 'case__average_match_class', 'case__average_match_star', 'case__average_match_as', 'case__average_match_or', 'case__expertise_level']\n",
    "TABLE_TARGET = 'case__expertise_level'\n",
    "\n",
    "# Load features and target.\n",
    "X, y = full_table[TABLE_FEATURES], full_table[[TABLE_TARGET]].iloc[:,0]\n",
    "\n",
    "# Print information about the loaded table.\n",
    "print(f'Features shape: {X.shape}')\n",
    "print(f'Target shape: {y.shape}')\n",
    "\n",
    "print(f'As we can see the downloaded data contains a total of {X.shape[0]} instances. For each instance we have {X.shape[1]} attributes.')"
   ],
   "outputs": [
    {
     "name": "stdout",
     "output_type": "stream",
     "text": [
      "2024-05-30 09:56:37.922864 Loading data ...\n",
      "2024-05-30 09:56:38.003373 Data successfully load!!\n",
      "2024-05-30 09:56:38.003373 Creating data cache files ...\n",
      "2024-05-30 09:56:38.004373 Data cache files successfully created!!\n",
      "Features shape: (29, 12)\n",
      "Target shape: (29,)\n",
      "As we can see the downloaded data contains a total of 29 instances. For each instance we have 12 attributes.\n"
     ]
    }
   ],
   "execution_count": 33
  },
  {
   "cell_type": "markdown",
   "id": "3ff70454-366f-4231-831d-723eeb63576b",
   "metadata": {},
   "source": [
    "## 2 - Exploracion de datos\n",
    "\n",
    "Una vez tenemos nuestra tabla en un dataframe el siguiente paso es explorarla para ver qué tipo de información contiene."
   ]
  },
  {
   "cell_type": "code",
   "id": "9b526577-537d-44b0-951b-168278ce7a5c",
   "metadata": {
    "ExecuteTime": {
     "end_time": "2024-05-30T07:56:38.131066Z",
     "start_time": "2024-05-30T07:56:38.119779Z"
    }
   },
   "source": [
    "print(X.info())\n",
    "print('=============')\n",
    "print(y.info())"
   ],
   "outputs": [
    {
     "name": "stdout",
     "output_type": "stream",
     "text": [
      "<class 'pandas.core.frame.DataFrame'>\n",
      "RangeIndex: 29 entries, 0 to 28\n",
      "Data columns (total 12 columns):\n",
      " #   Column                         Non-Null Count  Dtype  \n",
      "---  ------                         --------------  -----  \n",
      " 0   case__number_of_cases          29 non-null     int64  \n",
      " 1   case__guards                   29 non-null     float64\n",
      " 2   case__average_match_value      29 non-null     float64\n",
      " 3   case__average_body_count       29 non-null     float64\n",
      " 4   case__average_match_singleton  29 non-null     float64\n",
      " 5   case__average_match_sequence   29 non-null     float64\n",
      " 6   case__average_match_mapping    29 non-null     float64\n",
      " 7   case__average_match_class      29 non-null     float64\n",
      " 8   case__average_match_star       29 non-null     float64\n",
      " 9   case__average_match_as         29 non-null     float64\n",
      " 10  case__average_match_or         29 non-null     float64\n",
      " 11  case__expertise_level          29 non-null     object \n",
      "dtypes: float64(10), int64(1), object(1)\n",
      "memory usage: 2.8+ KB\n",
      "None\n",
      "=============\n",
      "<class 'pandas.core.series.Series'>\n",
      "RangeIndex: 29 entries, 0 to 28\n",
      "Series name: case__expertise_level\n",
      "Non-Null Count  Dtype \n",
      "--------------  ----- \n",
      "29 non-null     object\n",
      "dtypes: object(1)\n",
      "memory usage: 364.0+ bytes\n",
      "None\n"
     ]
    }
   ],
   "execution_count": 34
  },
  {
   "cell_type": "markdown",
   "id": "cbf77cd4-9819-4da1-9405-44054d2290e1",
   "metadata": {},
   "source": "Cómo podemos ver la tabla está compuesta por 11 variables numéricas y una de tipo objeto. "
  },
  {
   "cell_type": "markdown",
   "id": "bf53eef1e9c5c37d",
   "metadata": {
    "collapsed": false
   },
   "source": [
    "### 2.1 - Balance de clases"
   ]
  },
  {
   "cell_type": "code",
   "id": "61c1409f-9146-467e-bad9-b68774fdd903",
   "metadata": {
    "ExecuteTime": {
     "end_time": "2024-05-30T07:56:38.161504Z",
     "start_time": "2024-05-30T07:56:38.156075Z"
    }
   },
   "source": [
    "instances_for_class_low = len(full_table[full_table[TABLE_TARGET] == \"BEGINNER\"])\n",
    "instances_for_class_high = len(full_table[full_table[TABLE_TARGET] == \"EXPERT\"])\n",
    "\n",
    "print(f\"The dataset contains {instances_for_class_low/len(full_table)*100:.4}% instances for BEGINNER class and {instances_for_class_high/len(full_table)*100:.4}% for EXPERT class.\")"
   ],
   "outputs": [
    {
     "name": "stdout",
     "output_type": "stream",
     "text": [
      "The dataset contains 0.0% instances for BEGINNER class and 100.0% for EXPERT class.\n"
     ]
    }
   ],
   "execution_count": 35
  },
  {
   "cell_type": "markdown",
   "id": "7f619a1e-3b8b-4929-b41c-8edef4cc2d6a",
   "metadata": {},
   "source": [
    "### 2.2 - Duplicados\n",
    "Miramos si la tabla tiene entradas duplicadas."
   ]
  },
  {
   "cell_type": "code",
   "id": "ba8d29f2-8771-4e1f-8ecb-31bb827bf988",
   "metadata": {
    "ExecuteTime": {
     "end_time": "2024-05-30T07:56:38.216471Z",
     "start_time": "2024-05-30T07:56:38.211026Z"
    }
   },
   "source": [
    "number_of_duplicated_entries = sum(full_table.duplicated(subset=TABLE_FEATURES + [TABLE_TARGET]))\n",
    "duplicated_entries_pct = number_of_duplicated_entries / len(full_table) * 100\n",
    "print(f\"The dataset contains [{duplicated_entries_pct:.4}%] of duplicated entries.\")"
   ],
   "outputs": [
    {
     "name": "stdout",
     "output_type": "stream",
     "text": [
      "The dataset contains [65.52%] of duplicated entries.\n"
     ]
    }
   ],
   "execution_count": 36
  },
  {
   "cell_type": "markdown",
   "id": "31d297c18f157194",
   "metadata": {
    "collapsed": false
   },
   "source": [
    "### 2.3 - Valores Nulos \n",
    "Miramos si alguna de las variables que contiene la tabla contiene algún valor que sea nulo."
   ]
  },
  {
   "cell_type": "code",
   "id": "afeed2ce9080cbbb",
   "metadata": {
    "collapsed": false,
    "ExecuteTime": {
     "end_time": "2024-05-30T07:56:38.270230Z",
     "start_time": "2024-05-30T07:56:38.264490Z"
    }
   },
   "source": [
    "X.isnull().sum()"
   ],
   "outputs": [
    {
     "data": {
      "text/plain": [
       "case__number_of_cases            0\n",
       "case__guards                     0\n",
       "case__average_match_value        0\n",
       "case__average_body_count         0\n",
       "case__average_match_singleton    0\n",
       "case__average_match_sequence     0\n",
       "case__average_match_mapping      0\n",
       "case__average_match_class        0\n",
       "case__average_match_star         0\n",
       "case__average_match_as           0\n",
       "case__average_match_or           0\n",
       "case__expertise_level            0\n",
       "dtype: int64"
      ]
     },
     "execution_count": 37,
     "metadata": {},
     "output_type": "execute_result"
    }
   ],
   "execution_count": 37
  },
  {
   "cell_type": "markdown",
   "id": "1a8e02c0c52edff9",
   "metadata": {
    "collapsed": false
   },
   "source": [
    "Aunque una columna no contenga valores nulos podría ser que contenga valores vacíos. Si los hubiese la siguiente función los mostraría."
   ]
  },
  {
   "cell_type": "code",
   "id": "73b9dc2f9efc111a",
   "metadata": {
    "collapsed": false,
    "ExecuteTime": {
     "end_time": "2024-05-30T07:56:38.332641Z",
     "start_time": "2024-05-30T07:56:38.324918Z"
    }
   },
   "source": [
    "print_empty_cols(X)"
   ],
   "outputs": [
    {
     "name": "stdout",
     "output_type": "stream",
     "text": [
      "case__number_of_cases\n",
      "---------------------\n",
      "0 instancias no tienen un valor para la columna case__number_of_cases\n",
      "\n",
      "\n",
      "case__guards\n",
      "------------\n",
      "0 instancias no tienen un valor para la columna case__guards\n",
      "\n",
      "\n",
      "case__average_match_value\n",
      "-------------------------\n",
      "0 instancias no tienen un valor para la columna case__average_match_value\n",
      "\n",
      "\n",
      "case__average_body_count\n",
      "------------------------\n",
      "0 instancias no tienen un valor para la columna case__average_body_count\n",
      "\n",
      "\n",
      "case__average_match_singleton\n",
      "-----------------------------\n",
      "0 instancias no tienen un valor para la columna case__average_match_singleton\n",
      "\n",
      "\n",
      "case__average_match_sequence\n",
      "----------------------------\n",
      "0 instancias no tienen un valor para la columna case__average_match_sequence\n",
      "\n",
      "\n",
      "case__average_match_mapping\n",
      "---------------------------\n",
      "0 instancias no tienen un valor para la columna case__average_match_mapping\n",
      "\n",
      "\n",
      "case__average_match_class\n",
      "-------------------------\n",
      "0 instancias no tienen un valor para la columna case__average_match_class\n",
      "\n",
      "\n",
      "case__average_match_star\n",
      "------------------------\n",
      "0 instancias no tienen un valor para la columna case__average_match_star\n",
      "\n",
      "\n",
      "case__average_match_as\n",
      "----------------------\n",
      "0 instancias no tienen un valor para la columna case__average_match_as\n",
      "\n",
      "\n",
      "case__average_match_or\n",
      "----------------------\n",
      "0 instancias no tienen un valor para la columna case__average_match_or\n",
      "\n",
      "\n",
      "case__expertise_level\n",
      "---------------------\n",
      "0 instancias no tienen un valor para la columna case__expertise_level\n",
      "\n",
      "\n"
     ]
    }
   ],
   "execution_count": 38
  },
  {
   "cell_type": "markdown",
   "id": "105774ea722bf467",
   "metadata": {
    "collapsed": false
   },
   "source": [
    "### 2.4 - Describimos los valores de las variables de la tabla."
   ]
  },
  {
   "cell_type": "code",
   "id": "d3be1e5cec1af46c",
   "metadata": {
    "collapsed": false,
    "ExecuteTime": {
     "end_time": "2024-05-30T07:56:38.463847Z",
     "start_time": "2024-05-30T07:56:38.437170Z"
    }
   },
   "source": [
    "np.transpose(X.describe(percentiles=[.25, .50, .75], include = ['object', 'float', 'bool', 'int']))"
   ],
   "outputs": [
    {
     "data": {
      "text/plain": [
       "                              count unique     top freq      mean       std  \\\n",
       "case__number_of_cases          29.0    NaN     NaN  NaN  5.103448  9.363092   \n",
       "case__guards                   29.0    NaN     NaN  NaN       0.0       0.0   \n",
       "case__average_match_value      29.0    NaN     NaN  NaN  0.725106  0.224817   \n",
       "case__average_body_count       29.0    NaN     NaN  NaN  1.884232  0.702019   \n",
       "case__average_match_singleton  29.0    NaN     NaN  NaN       0.0       0.0   \n",
       "case__average_match_sequence   29.0    NaN     NaN  NaN       0.0       0.0   \n",
       "case__average_match_mapping    29.0    NaN     NaN  NaN       0.0       0.0   \n",
       "case__average_match_class      29.0    NaN     NaN  NaN  0.001815  0.009773   \n",
       "case__average_match_star       29.0    NaN     NaN  NaN       0.0       0.0   \n",
       "case__average_match_as         29.0    NaN     NaN  NaN  0.273079  0.226442   \n",
       "case__average_match_or         29.0    NaN     NaN  NaN       0.0       0.0   \n",
       "case__expertise_level            29      1  EXPERT   29       NaN       NaN   \n",
       "\n",
       "                               min       25%       50%  75%       max  \n",
       "case__number_of_cases          2.0       2.0       3.0  4.0      51.0  \n",
       "case__guards                   0.0       0.0       0.0  0.0       0.0  \n",
       "case__average_match_value      0.5       0.5  0.666667  1.0       1.0  \n",
       "case__average_body_count       1.0  1.039216  2.333333  2.5       3.0  \n",
       "case__average_match_singleton  0.0       0.0       0.0  0.0       0.0  \n",
       "case__average_match_sequence   0.0       0.0       0.0  0.0       0.0  \n",
       "case__average_match_mapping    0.0       0.0       0.0  0.0       0.0  \n",
       "case__average_match_class      0.0       0.0       0.0  0.0  0.052632  \n",
       "case__average_match_star       0.0       0.0       0.0  0.0       0.0  \n",
       "case__average_match_as         0.0       0.0  0.333333  0.5       0.5  \n",
       "case__average_match_or         0.0       0.0       0.0  0.0       0.0  \n",
       "case__expertise_level          NaN       NaN       NaN  NaN       NaN  "
      ],
      "text/html": [
       "<div>\n",
       "<style scoped>\n",
       "    .dataframe tbody tr th:only-of-type {\n",
       "        vertical-align: middle;\n",
       "    }\n",
       "\n",
       "    .dataframe tbody tr th {\n",
       "        vertical-align: top;\n",
       "    }\n",
       "\n",
       "    .dataframe thead th {\n",
       "        text-align: right;\n",
       "    }\n",
       "</style>\n",
       "<table border=\"1\" class=\"dataframe\">\n",
       "  <thead>\n",
       "    <tr style=\"text-align: right;\">\n",
       "      <th></th>\n",
       "      <th>count</th>\n",
       "      <th>unique</th>\n",
       "      <th>top</th>\n",
       "      <th>freq</th>\n",
       "      <th>mean</th>\n",
       "      <th>std</th>\n",
       "      <th>min</th>\n",
       "      <th>25%</th>\n",
       "      <th>50%</th>\n",
       "      <th>75%</th>\n",
       "      <th>max</th>\n",
       "    </tr>\n",
       "  </thead>\n",
       "  <tbody>\n",
       "    <tr>\n",
       "      <th>case__number_of_cases</th>\n",
       "      <td>29.0</td>\n",
       "      <td>NaN</td>\n",
       "      <td>NaN</td>\n",
       "      <td>NaN</td>\n",
       "      <td>5.103448</td>\n",
       "      <td>9.363092</td>\n",
       "      <td>2.0</td>\n",
       "      <td>2.0</td>\n",
       "      <td>3.0</td>\n",
       "      <td>4.0</td>\n",
       "      <td>51.0</td>\n",
       "    </tr>\n",
       "    <tr>\n",
       "      <th>case__guards</th>\n",
       "      <td>29.0</td>\n",
       "      <td>NaN</td>\n",
       "      <td>NaN</td>\n",
       "      <td>NaN</td>\n",
       "      <td>0.0</td>\n",
       "      <td>0.0</td>\n",
       "      <td>0.0</td>\n",
       "      <td>0.0</td>\n",
       "      <td>0.0</td>\n",
       "      <td>0.0</td>\n",
       "      <td>0.0</td>\n",
       "    </tr>\n",
       "    <tr>\n",
       "      <th>case__average_match_value</th>\n",
       "      <td>29.0</td>\n",
       "      <td>NaN</td>\n",
       "      <td>NaN</td>\n",
       "      <td>NaN</td>\n",
       "      <td>0.725106</td>\n",
       "      <td>0.224817</td>\n",
       "      <td>0.5</td>\n",
       "      <td>0.5</td>\n",
       "      <td>0.666667</td>\n",
       "      <td>1.0</td>\n",
       "      <td>1.0</td>\n",
       "    </tr>\n",
       "    <tr>\n",
       "      <th>case__average_body_count</th>\n",
       "      <td>29.0</td>\n",
       "      <td>NaN</td>\n",
       "      <td>NaN</td>\n",
       "      <td>NaN</td>\n",
       "      <td>1.884232</td>\n",
       "      <td>0.702019</td>\n",
       "      <td>1.0</td>\n",
       "      <td>1.039216</td>\n",
       "      <td>2.333333</td>\n",
       "      <td>2.5</td>\n",
       "      <td>3.0</td>\n",
       "    </tr>\n",
       "    <tr>\n",
       "      <th>case__average_match_singleton</th>\n",
       "      <td>29.0</td>\n",
       "      <td>NaN</td>\n",
       "      <td>NaN</td>\n",
       "      <td>NaN</td>\n",
       "      <td>0.0</td>\n",
       "      <td>0.0</td>\n",
       "      <td>0.0</td>\n",
       "      <td>0.0</td>\n",
       "      <td>0.0</td>\n",
       "      <td>0.0</td>\n",
       "      <td>0.0</td>\n",
       "    </tr>\n",
       "    <tr>\n",
       "      <th>case__average_match_sequence</th>\n",
       "      <td>29.0</td>\n",
       "      <td>NaN</td>\n",
       "      <td>NaN</td>\n",
       "      <td>NaN</td>\n",
       "      <td>0.0</td>\n",
       "      <td>0.0</td>\n",
       "      <td>0.0</td>\n",
       "      <td>0.0</td>\n",
       "      <td>0.0</td>\n",
       "      <td>0.0</td>\n",
       "      <td>0.0</td>\n",
       "    </tr>\n",
       "    <tr>\n",
       "      <th>case__average_match_mapping</th>\n",
       "      <td>29.0</td>\n",
       "      <td>NaN</td>\n",
       "      <td>NaN</td>\n",
       "      <td>NaN</td>\n",
       "      <td>0.0</td>\n",
       "      <td>0.0</td>\n",
       "      <td>0.0</td>\n",
       "      <td>0.0</td>\n",
       "      <td>0.0</td>\n",
       "      <td>0.0</td>\n",
       "      <td>0.0</td>\n",
       "    </tr>\n",
       "    <tr>\n",
       "      <th>case__average_match_class</th>\n",
       "      <td>29.0</td>\n",
       "      <td>NaN</td>\n",
       "      <td>NaN</td>\n",
       "      <td>NaN</td>\n",
       "      <td>0.001815</td>\n",
       "      <td>0.009773</td>\n",
       "      <td>0.0</td>\n",
       "      <td>0.0</td>\n",
       "      <td>0.0</td>\n",
       "      <td>0.0</td>\n",
       "      <td>0.052632</td>\n",
       "    </tr>\n",
       "    <tr>\n",
       "      <th>case__average_match_star</th>\n",
       "      <td>29.0</td>\n",
       "      <td>NaN</td>\n",
       "      <td>NaN</td>\n",
       "      <td>NaN</td>\n",
       "      <td>0.0</td>\n",
       "      <td>0.0</td>\n",
       "      <td>0.0</td>\n",
       "      <td>0.0</td>\n",
       "      <td>0.0</td>\n",
       "      <td>0.0</td>\n",
       "      <td>0.0</td>\n",
       "    </tr>\n",
       "    <tr>\n",
       "      <th>case__average_match_as</th>\n",
       "      <td>29.0</td>\n",
       "      <td>NaN</td>\n",
       "      <td>NaN</td>\n",
       "      <td>NaN</td>\n",
       "      <td>0.273079</td>\n",
       "      <td>0.226442</td>\n",
       "      <td>0.0</td>\n",
       "      <td>0.0</td>\n",
       "      <td>0.333333</td>\n",
       "      <td>0.5</td>\n",
       "      <td>0.5</td>\n",
       "    </tr>\n",
       "    <tr>\n",
       "      <th>case__average_match_or</th>\n",
       "      <td>29.0</td>\n",
       "      <td>NaN</td>\n",
       "      <td>NaN</td>\n",
       "      <td>NaN</td>\n",
       "      <td>0.0</td>\n",
       "      <td>0.0</td>\n",
       "      <td>0.0</td>\n",
       "      <td>0.0</td>\n",
       "      <td>0.0</td>\n",
       "      <td>0.0</td>\n",
       "      <td>0.0</td>\n",
       "    </tr>\n",
       "    <tr>\n",
       "      <th>case__expertise_level</th>\n",
       "      <td>29</td>\n",
       "      <td>1</td>\n",
       "      <td>EXPERT</td>\n",
       "      <td>29</td>\n",
       "      <td>NaN</td>\n",
       "      <td>NaN</td>\n",
       "      <td>NaN</td>\n",
       "      <td>NaN</td>\n",
       "      <td>NaN</td>\n",
       "      <td>NaN</td>\n",
       "      <td>NaN</td>\n",
       "    </tr>\n",
       "  </tbody>\n",
       "</table>\n",
       "</div>"
      ]
     },
     "execution_count": 39,
     "metadata": {},
     "output_type": "execute_result"
    }
   ],
   "execution_count": 39
  },
  {
   "cell_type": "markdown",
   "id": "b9f859b03e8083f1",
   "metadata": {
    "collapsed": false
   },
   "source": "Vamos a discretizar las variables numericas, agrupando conjuntos de valores en categorias, para hacer un análisis de los datos. Para cada variable es necesaario ver la distribucion de lo valores para hacer los bins (categorias)."
  },
  {
   "cell_type": "code",
   "id": "b7cf5fae0fd0e5ef",
   "metadata": {
    "collapsed": false,
    "ExecuteTime": {
     "end_time": "2024-05-30T07:56:38.555315Z",
     "start_time": "2024-05-30T07:56:38.515376Z"
    }
   },
   "source": [
    "# DISCRETIZATION\n",
    "X_copy = X.copy()\n",
    "\n",
    "discretized_columns = {\n",
    "    \"case__number_of_cases\": [(0.0, 2.0), (2.0, 3.0), (3.0, 4.0), (4.0, inf)],  # min: 2.0 max: 51.0 \n",
    "    \"case__guards\": [(0.0, 0.0)],  # min: 0.0 max: 0.0 \n",
    "    \"case__average_match_value\": [(0.0, 0.5), (0.5, 0.67), (0.67, inf)],  # min: 0.5 max: 1.0 \n",
    "    \"case__average_body_count\": [(0.0, 1.15), (1.15, 2.33), (2.33, 2.5), (2.5, inf)],  # min: 1 max: 3.0 \n",
    "    \"case__average_match_singleton\": [(0.0, 0.0)],  # min: 0 max: 0 \n",
    "    \"case__average_match_sequence\": [(0.0, 0.0)],  # min: 0 max: 0 \n",
    "    \"case__average_match_mapping\": [(0.0, 0.0)],  # min: 0 max: 0 \n",
    "    \"case__average_match_class\": [(0.0, inf)],  # min: 0 max: 0.0526 \n",
    "    \"case__average_match_star\": [(0.0, 0.0)],  # min: 0 max: 0 \n",
    "    \"case__average_match_or\": [(0.0, 0.0)],  # min: 0 max: 0 \n",
    "    \"case__average_match_as\": [(0.0, 0.0), (0.0, 0.34), (0.34, inf)],  # min: 0 max: 0.5\n",
    "}\n",
    "\n",
    "discretize_columns(X_copy, discretized_columns)\n",
    "    \n",
    "# SINGLE FEATURE\n",
    "print(\"--- SINGLE FEATURE ---\")\n",
    "print(get_statistics(X_copy, ['case__number_of_cases'], 10))\n",
    "print(get_statistics(X_copy, ['case__guards'], 10))\n",
    "print(get_statistics(X_copy, ['case__average_body_count'], 10))\n",
    "print(get_statistics(X_copy, ['case__average_match_singleton'], 10))\n",
    "print(get_statistics(X_copy, ['case__average_match_value'], 10))\n",
    "print(get_statistics(X_copy, ['case__average_match_sequence'], 10))\n",
    "print(get_statistics(X_copy, ['case__average_match_mapping'], 10))\n",
    "print(get_statistics(X_copy, ['case__average_match_class'], 10))\n",
    "print(get_statistics(X_copy, ['case__average_match_star'], 10))\n",
    "print(get_statistics(X_copy, ['case__average_match_or'], 10))\n",
    "print(get_statistics(X_copy, ['case__average_match_as'], 10))\n",
    "\n",
    "# 2 FEATURES\n",
    "print(\"--- TWO FEATURES ---\")\n",
    "#print(get_statistics(X_copy, ['import__average_imported_modules', 'import__module_imports_pct'], 10))\n",
    "\n",
    "# 3 FEATURES\n",
    "print(\"--- THREE FEATURES ---\")\n",
    "#print(get_statistics(X_copy, ['program__has_sub_dirs_with_code', 'program__has_packages', 'program__has_code_root_package'], 10))"
   ],
   "outputs": [
    {
     "name": "stdout",
     "output_type": "stream",
     "text": [
      "--- SINGLE FEATURE ---\n",
      "case__number_of_cases  count  percentage\n",
      "            [2.0_3.0)     12   41.379310\n",
      "            [4.0_inf]     10   34.482759\n",
      "            [3.0_4.0)      7   24.137931\n",
      "\n",
      "case__guards  count  percentage\n",
      "   [0.0_0.0]     29       100.0\n",
      "\n",
      "case__average_body_count  count  percentage\n",
      "               [2.5_inf]     13   44.827586\n",
      "              [0.0_1.15)      8   27.586207\n",
      "             [1.15_2.33)      6   20.689655\n",
      "              [2.33_2.5)      2    6.896552\n",
      "\n",
      "case__average_match_singleton  count  percentage\n",
      "                    [0.0_0.0]     29       100.0\n",
      "\n",
      "case__average_match_value  count  percentage\n",
      "               [0.5_0.67)     17    58.62069\n",
      "               [0.67_inf]     12    41.37931\n",
      "\n",
      "case__average_match_sequence  count  percentage\n",
      "                   [0.0_0.0]     29       100.0\n",
      "\n",
      "case__average_match_mapping  count  percentage\n",
      "                  [0.0_0.0]     29       100.0\n",
      "\n",
      "case__average_match_class  count  percentage\n",
      "                [0.0_inf]     29       100.0\n",
      "\n",
      "case__average_match_star  count  percentage\n",
      "               [0.0_0.0]     29       100.0\n",
      "\n",
      "case__average_match_or  count  percentage\n",
      "             [0.0_0.0]     29       100.0\n",
      "\n",
      "case__average_match_as  count  percentage\n",
      "            [0.34_inf]     12   41.379310\n",
      "             [0.0_0.0]     10   34.482759\n",
      "            [0.0_0.34)      7   24.137931\n",
      "\n",
      "--- TWO FEATURES ---\n",
      "--- THREE FEATURES ---\n"
     ]
    }
   ],
   "execution_count": 40
  },
  {
   "cell_type": "code",
   "id": "1ca9a43e-6db6-44a7-aaab-65f00d1ea79e",
   "metadata": {
    "pycharm": {
     "name": "#%%\n"
    },
    "tags": [],
    "ExecuteTime": {
     "end_time": "2024-05-30T07:56:38.587964Z",
     "start_time": "2024-05-30T07:56:38.580835Z"
    }
   },
   "source": [
    "def normalize_datatypes(X:pd.DataFrame, y:pd.Series) -> (pd.DataFrame, pd.Series, [str]):\n",
    "    X = pd.get_dummies(X)\n",
    "    X = X.astype('float32')\n",
    "    y = y.apply(lambda value: 0 if value == \"BEGINNER\" else 1) # EXPERT will be 1 and BEGINNER will be 0.\n",
    "    y = y.astype('float32')\n",
    "    columns_names = X.columns.tolist()\n",
    "    return X, y, columns_names\n",
    "\n",
    "X, y, TABLE_FEATURES = normalize_datatypes(X, y)\n",
    "# Print information about the loaded table\n",
    "print(f'Features shape: {X.shape}')\n",
    "print(f'Target shape: {y.shape}')"
   ],
   "outputs": [
    {
     "name": "stdout",
     "output_type": "stream",
     "text": [
      "Features shape: (29, 12)\n",
      "Target shape: (29,)\n"
     ]
    }
   ],
   "execution_count": 41
  },
  {
   "cell_type": "markdown",
   "id": "e9fc6a7d9acd9a9e",
   "metadata": {
    "collapsed": false
   },
   "source": [
    "#### Muestra la matriz de correlación de pearson entre las variables de la tabla."
   ]
  },
  {
   "cell_type": "code",
   "id": "70af048034c80af1",
   "metadata": {
    "collapsed": false,
    "ExecuteTime": {
     "end_time": "2024-05-30T07:56:38.999005Z",
     "start_time": "2024-05-30T07:56:38.644496Z"
    }
   },
   "source": [
    "sns.heatmap(X.corr(), annot=True)"
   ],
   "outputs": [
    {
     "data": {
      "text/plain": [
       "<Axes: >"
      ]
     },
     "execution_count": 42,
     "metadata": {},
     "output_type": "execute_result"
    },
    {
     "data": {
      "text/plain": [
       "<Figure size 640x480 with 2 Axes>"
      ],
      "image/png": "[encoded data removed]"
     },
     "metadata": {},
     "output_type": "display_data"
    }
   ],
   "execution_count": 42
  },
  {
   "cell_type": "markdown",
   "id": "9a47cdd4cc2b3fae",
   "metadata": {
    "collapsed": false
   },
   "source": [
    "## 3 - Detección de valores atípicos (outliers)\n",
    "## Univariate\n",
    "## Analisis detallado de variables\n",
    "Para cada una de las 11 variable (11 numericas) se hara un analisis detallado"
   ]
  },
  {
   "metadata": {},
   "cell_type": "markdown",
   "source": [
    "### Variable number_of_cases (1/11)\n",
    "Esta variable es de tipo numérica y nos indica el número de clausulas case en la sentencia. Como vimos en la descripción de la tabla esta varibale adopta valores en el rango 2 - 51. Con una media de 5.17."
   ],
   "id": "b8ac28118b9c7e95"
  },
  {
   "metadata": {
    "ExecuteTime": {
     "end_time": "2024-05-30T07:56:39.107298Z",
     "start_time": "2024-05-30T07:56:39.000014Z"
    }
   },
   "cell_type": "code",
   "source": "sns.stripplot(X['case__number_of_cases'])",
   "id": "5eacddae8fc77a62",
   "outputs": [
    {
     "data": {
      "text/plain": [
       "<Axes: ylabel='case__number_of_cases'>"
      ]
     },
     "execution_count": 43,
     "metadata": {},
     "output_type": "execute_result"
    },
    {
     "data": {
      "text/plain": [
       "<Figure size 640x480 with 1 Axes>"
      ],
      "image/png": "[encoded data removed]"
     },
     "metadata": {},
     "output_type": "display_data"
    }
   ],
   "execution_count": 43
  },
  {
   "metadata": {},
   "cell_type": "markdown",
   "source": [
    "### IMPORTANTE\n",
    "Los valores maximos estan muy alejados del siguiente."
   ],
   "id": "18f8be50be15a73c"
  },
  {
   "metadata": {
    "ExecuteTime": {
     "end_time": "2024-05-30T07:56:39.116397Z",
     "start_time": "2024-05-30T07:56:39.108730Z"
    }
   },
   "cell_type": "code",
   "source": "print_outliers_for_df_column(X, 'case__number_of_cases')",
   "id": "cfc7351841dbaeeb",
   "outputs": [
    {
     "name": "stdout",
     "output_type": "stream",
     "text": [
      "El coeficiente MC (Medcouple Coefficient) de balanceo es: 0.8026174306451153\n",
      "Rango valores atípicos extremos (Tukey): [-4.0,10.0]\n",
      "Rango valores atípicos leves (Tukey): [-1.0,7.0]\n",
      "Rango valores atípicos extremos (Fixed BoxPlot): [1.8192334245818944,78.37218476487638]\n",
      "-3.0IQR: 0 instancias tienen un valor para case__number_of_cases inferior a -4.0 (Q1-3*IQR) para case__number_of_cases. Representando un 0.0% del total de instancias.\n",
      "-1.5IQR: 0 instancias tienen un valor para case__number_of_cases inferior a -1.0 (Q1-1.5*IQR) para case__number_of_cases. Representando un 0.0% del total de instancias.\n",
      "+1.5IQR: 2 instancias tienen un valor para case__number_of_cases superior a 7.0 (Q3+1.5*IQR) para case__number_of_cases. Representando un 6.897% del total de instancias.\n",
      "+3.0IQR: 2 instancias tienen un valor para case__number_of_cases superior a 10.0 (Q3-3*IQR) para case__number_of_cases. Representando un 6.897% del total de instancias.\n",
      "L: 0 instancias tienen un valor para case__number_of_cases inferior a 1.8192334245818944 para case__number_of_cases. Representando un 0.0% del total de instancias.\n",
      "U: 0 instancias tienen un valor para case__number_of_cases superior a 78.37218476487638 para case__number_of_cases. Representando un 0.0% del total de instancias.\n"
     ]
    }
   ],
   "execution_count": 44
  },
  {
   "metadata": {},
   "cell_type": "markdown",
   "source": "Describimos los valores de las variables de la tabla, cuando el valor de la variable es mayor que 10.0 (Con un MC de 79 usamos Tuckey Extremo)",
   "id": "843b1a6a63a56fb9"
  },
  {
   "metadata": {
    "ExecuteTime": {
     "end_time": "2024-05-30T07:56:39.152693Z",
     "start_time": "2024-05-30T07:56:39.117407Z"
    }
   },
   "cell_type": "code",
   "source": "X[X['case__number_of_cases'] > 10].describe(percentiles=[.25, .50, .75], include = ['object', 'float', 'bool', 'int'])",
   "id": "689c534bf17a722e",
   "outputs": [
    {
     "data": {
      "text/plain": [
       "       case__number_of_cases  case__guards  case__average_match_value  \\\n",
       "count               2.000000           2.0                   2.000000   \n",
       "mean               35.000000           0.0                   0.947368   \n",
       "std                22.627417           0.0                   0.074432   \n",
       "min                19.000000           0.0                   0.894737   \n",
       "25%                27.000000           0.0                   0.921053   \n",
       "50%                35.000000           0.0                   0.947368   \n",
       "75%                43.000000           0.0                   0.973684   \n",
       "max                51.000000           0.0                   1.000000   \n",
       "\n",
       "       case__average_body_count  case__average_match_singleton  \\\n",
       "count                  2.000000                            2.0   \n",
       "mean                   1.388029                            0.0   \n",
       "std                    0.493296                            0.0   \n",
       "min                    1.039216                            0.0   \n",
       "25%                    1.213622                            0.0   \n",
       "50%                    1.388029                            0.0   \n",
       "75%                    1.562436                            0.0   \n",
       "max                    1.736842                            0.0   \n",
       "\n",
       "       case__average_match_sequence  case__average_match_mapping  \\\n",
       "count                           2.0                          2.0   \n",
       "mean                            0.0                          0.0   \n",
       "std                             0.0                          0.0   \n",
       "min                             0.0                          0.0   \n",
       "25%                             0.0                          0.0   \n",
       "50%                             0.0                          0.0   \n",
       "75%                             0.0                          0.0   \n",
       "max                             0.0                          0.0   \n",
       "\n",
       "       case__average_match_class  case__average_match_star  \\\n",
       "count                   2.000000                       2.0   \n",
       "mean                    0.026316                       0.0   \n",
       "std                     0.037216                       0.0   \n",
       "min                     0.000000                       0.0   \n",
       "25%                     0.013158                       0.0   \n",
       "50%                     0.026316                       0.0   \n",
       "75%                     0.039474                       0.0   \n",
       "max                     0.052632                       0.0   \n",
       "\n",
       "       case__average_match_as  case__average_match_or  \\\n",
       "count                2.000000                     2.0   \n",
       "mean                 0.026316                     0.0   \n",
       "std                  0.037216                     0.0   \n",
       "min                  0.000000                     0.0   \n",
       "25%                  0.013158                     0.0   \n",
       "50%                  0.026316                     0.0   \n",
       "75%                  0.039474                     0.0   \n",
       "max                  0.052632                     0.0   \n",
       "\n",
       "       case__expertise_level_EXPERT  \n",
       "count                           2.0  \n",
       "mean                            1.0  \n",
       "std                             0.0  \n",
       "min                             1.0  \n",
       "25%                             1.0  \n",
       "50%                             1.0  \n",
       "75%                             1.0  \n",
       "max                             1.0  "
      ],
      "text/html": [
       "<div>\n",
       "<style scoped>\n",
       "    .dataframe tbody tr th:only-of-type {\n",
       "        vertical-align: middle;\n",
       "    }\n",
       "\n",
       "    .dataframe tbody tr th {\n",
       "        vertical-align: top;\n",
       "    }\n",
       "\n",
       "    .dataframe thead th {\n",
       "        text-align: right;\n",
       "    }\n",
       "</style>\n",
       "<table border=\"1\" class=\"dataframe\">\n",
       "  <thead>\n",
       "    <tr style=\"text-align: right;\">\n",
       "      <th></th>\n",
       "      <th>case__number_of_cases</th>\n",
       "      <th>case__guards</th>\n",
       "      <th>case__average_match_value</th>\n",
       "      <th>case__average_body_count</th>\n",
       "      <th>case__average_match_singleton</th>\n",
       "      <th>case__average_match_sequence</th>\n",
       "      <th>case__average_match_mapping</th>\n",
       "      <th>case__average_match_class</th>\n",
       "      <th>case__average_match_star</th>\n",
       "      <th>case__average_match_as</th>\n",
       "      <th>case__average_match_or</th>\n",
       "      <th>case__expertise_level_EXPERT</th>\n",
       "    </tr>\n",
       "  </thead>\n",
       "  <tbody>\n",
       "    <tr>\n",
       "      <th>count</th>\n",
       "      <td>2.000000</td>\n",
       "      <td>2.0</td>\n",
       "      <td>2.000000</td>\n",
       "      <td>2.000000</td>\n",
       "      <td>2.0</td>\n",
       "      <td>2.0</td>\n",
       "      <td>2.0</td>\n",
       "      <td>2.000000</td>\n",
       "      <td>2.0</td>\n",
       "      <td>2.000000</td>\n",
       "      <td>2.0</td>\n",
       "      <td>2.0</td>\n",
       "    </tr>\n",
       "    <tr>\n",
       "      <th>mean</th>\n",
       "      <td>35.000000</td>\n",
       "      <td>0.0</td>\n",
       "      <td>0.947368</td>\n",
       "      <td>1.388029</td>\n",
       "      <td>0.0</td>\n",
       "      <td>0.0</td>\n",
       "      <td>0.0</td>\n",
       "      <td>0.026316</td>\n",
       "      <td>0.0</td>\n",
       "      <td>0.026316</td>\n",
       "      <td>0.0</td>\n",
       "      <td>1.0</td>\n",
       "    </tr>\n",
       "    <tr>\n",
       "      <th>std</th>\n",
       "      <td>22.627417</td>\n",
       "      <td>0.0</td>\n",
       "      <td>0.074432</td>\n",
       "      <td>0.493296</td>\n",
       "      <td>0.0</td>\n",
       "      <td>0.0</td>\n",
       "      <td>0.0</td>\n",
       "      <td>0.037216</td>\n",
       "      <td>0.0</td>\n",
       "      <td>0.037216</td>\n",
       "      <td>0.0</td>\n",
       "      <td>0.0</td>\n",
       "    </tr>\n",
       "    <tr>\n",
       "      <th>min</th>\n",
       "      <td>19.000000</td>\n",
       "      <td>0.0</td>\n",
       "      <td>0.894737</td>\n",
       "      <td>1.039216</td>\n",
       "      <td>0.0</td>\n",
       "      <td>0.0</td>\n",
       "      <td>0.0</td>\n",
       "      <td>0.000000</td>\n",
       "      <td>0.0</td>\n",
       "      <td>0.000000</td>\n",
       "      <td>0.0</td>\n",
       "      <td>1.0</td>\n",
       "    </tr>\n",
       "    <tr>\n",
       "      <th>25%</th>\n",
       "      <td>27.000000</td>\n",
       "      <td>0.0</td>\n",
       "      <td>0.921053</td>\n",
       "      <td>1.213622</td>\n",
       "      <td>0.0</td>\n",
       "      <td>0.0</td>\n",
       "      <td>0.0</td>\n",
       "      <td>0.013158</td>\n",
       "      <td>0.0</td>\n",
       "      <td>0.013158</td>\n",
       "      <td>0.0</td>\n",
       "      <td>1.0</td>\n",
       "    </tr>\n",
       "    <tr>\n",
       "      <th>50%</th>\n",
       "      <td>35.000000</td>\n",
       "      <td>0.0</td>\n",
       "      <td>0.947368</td>\n",
       "      <td>1.388029</td>\n",
       "      <td>0.0</td>\n",
       "      <td>0.0</td>\n",
       "      <td>0.0</td>\n",
       "      <td>0.026316</td>\n",
       "      <td>0.0</td>\n",
       "      <td>0.026316</td>\n",
       "      <td>0.0</td>\n",
       "      <td>1.0</td>\n",
       "    </tr>\n",
       "    <tr>\n",
       "      <th>75%</th>\n",
       "      <td>43.000000</td>\n",
       "      <td>0.0</td>\n",
       "      <td>0.973684</td>\n",
       "      <td>1.562436</td>\n",
       "      <td>0.0</td>\n",
       "      <td>0.0</td>\n",
       "      <td>0.0</td>\n",
       "      <td>0.039474</td>\n",
       "      <td>0.0</td>\n",
       "      <td>0.039474</td>\n",
       "      <td>0.0</td>\n",
       "      <td>1.0</td>\n",
       "    </tr>\n",
       "    <tr>\n",
       "      <th>max</th>\n",
       "      <td>51.000000</td>\n",
       "      <td>0.0</td>\n",
       "      <td>1.000000</td>\n",
       "      <td>1.736842</td>\n",
       "      <td>0.0</td>\n",
       "      <td>0.0</td>\n",
       "      <td>0.0</td>\n",
       "      <td>0.052632</td>\n",
       "      <td>0.0</td>\n",
       "      <td>0.052632</td>\n",
       "      <td>0.0</td>\n",
       "      <td>1.0</td>\n",
       "    </tr>\n",
       "  </tbody>\n",
       "</table>\n",
       "</div>"
      ]
     },
     "execution_count": 45,
     "metadata": {},
     "output_type": "execute_result"
    }
   ],
   "execution_count": 45
  },
  {
   "metadata": {},
   "cell_type": "markdown",
   "source": [
    "### Variable guards (2/11)\n",
    "Esta variable representa el número de guards de la sentencia. Como vimos en la descripción de la tabla esta varibale adopta valores en el rango 0 - 0. Con una media de 0."
   ],
   "id": "8f8a651cfdff0bcd"
  },
  {
   "metadata": {
    "ExecuteTime": {
     "end_time": "2024-05-30T07:56:39.261464Z",
     "start_time": "2024-05-30T07:56:39.153703Z"
    }
   },
   "cell_type": "code",
   "source": "sns.stripplot(X['case__guards'])",
   "id": "1ebb40d57c0b140",
   "outputs": [
    {
     "data": {
      "text/plain": [
       "<Axes: ylabel='case__guards'>"
      ]
     },
     "execution_count": 46,
     "metadata": {},
     "output_type": "execute_result"
    },
    {
     "data": {
      "text/plain": [
       "<Figure size 640x480 with 1 Axes>"
      ],
      "image/png": "[encoded data removed]"
     },
     "metadata": {},
     "output_type": "display_data"
    }
   ],
   "execution_count": 46
  },
  {
   "metadata": {},
   "cell_type": "markdown",
   "source": [
    "### IMPORTANTE\n",
    "\n",
    "Ningún Match tiene Guard. Esta variable toma siempre 0 como valor."
   ],
   "id": "921f450151cf85e1"
  },
  {
   "metadata": {},
   "cell_type": "markdown",
   "source": [
    "### Variable average_body_count (3/11)\n",
    "Esta variable representa el número medio de sentencias en el cuerpo de los case. Como vimos en la descripción de la tabla esta varibale adopta valores en el rango 1.0 - 3.0. Con una media de 1.91."
   ],
   "id": "2a00f5be59e6d4a9"
  },
  {
   "metadata": {
    "ExecuteTime": {
     "end_time": "2024-05-30T07:56:39.383636Z",
     "start_time": "2024-05-30T07:56:39.262471Z"
    }
   },
   "cell_type": "code",
   "source": "sns.stripplot(X['case__average_body_count'])",
   "id": "bcf42c4ca6fb0146",
   "outputs": [
    {
     "data": {
      "text/plain": [
       "<Axes: ylabel='case__average_body_count'>"
      ]
     },
     "execution_count": 47,
     "metadata": {},
     "output_type": "execute_result"
    },
    {
     "data": {
      "text/plain": [
       "<Figure size 640x480 with 1 Axes>"
      ],
      "image/png": "[encoded data removed]"
     },
     "metadata": {},
     "output_type": "display_data"
    }
   ],
   "execution_count": 47
  },
  {
   "metadata": {
    "ExecuteTime": {
     "end_time": "2024-05-30T07:56:39.391814Z",
     "start_time": "2024-05-30T07:56:39.384642Z"
    }
   },
   "cell_type": "code",
   "source": "print_outliers_for_df_column(X, 'case__average_body_count')",
   "id": "2be67c4ab421c8b0",
   "outputs": [
    {
     "name": "stdout",
     "output_type": "stream",
     "text": [
      "El coeficiente MC (Medcouple Coefficient) de balanceo es: -0.0998702954703819\n",
      "Rango valores atípicos extremos (Tukey): [-3.343137264251709,6.882352948188782]\n",
      "Rango valores atípicos leves (Tukey): [-1.1519607901573181,4.691176474094391]\n",
      "Rango valores atípicos extremos (Fixed BoxPlot): [-2.2279399976541168,4.044797089740076]\n",
      "-3.0IQR: 0 instancias tienen un valor para case__average_body_count inferior a -3.343137264251709 (Q1-3*IQR) para case__average_body_count. Representando un 0.0% del total de instancias.\n",
      "-1.5IQR: 0 instancias tienen un valor para case__average_body_count inferior a -1.1519607901573181 (Q1-1.5*IQR) para case__average_body_count. Representando un 0.0% del total de instancias.\n",
      "+1.5IQR: 0 instancias tienen un valor para case__average_body_count superior a 4.691176474094391 (Q3+1.5*IQR) para case__average_body_count. Representando un 0.0% del total de instancias.\n",
      "+3.0IQR: 0 instancias tienen un valor para case__average_body_count superior a 6.882352948188782 (Q3-3*IQR) para case__average_body_count. Representando un 0.0% del total de instancias.\n",
      "L: 0 instancias tienen un valor para case__average_body_count inferior a -2.2279399976541168 para case__average_body_count. Representando un 0.0% del total de instancias.\n",
      "U: 0 instancias tienen un valor para case__average_body_count superior a 4.044797089740076 para case__average_body_count. Representando un 0.0% del total de instancias.\n"
     ]
    }
   ],
   "execution_count": 48
  },
  {
   "metadata": {
    "ExecuteTime": {
     "end_time": "2024-05-30T07:56:39.424682Z",
     "start_time": "2024-05-30T07:56:39.392819Z"
    }
   },
   "cell_type": "code",
   "source": "X[X['case__average_body_count'] ==  1].describe(percentiles=[.25, .50, .75], include = ['object', 'float', 'bool', 'int'])",
   "id": "ad1049f623d1e003",
   "outputs": [
    {
     "data": {
      "text/plain": [
       "       case__number_of_cases  case__guards  case__average_match_value  \\\n",
       "count               7.000000           7.0                        7.0   \n",
       "mean                3.714286           0.0                        1.0   \n",
       "std                 0.487950           0.0                        0.0   \n",
       "min                 3.000000           0.0                        1.0   \n",
       "25%                 3.500000           0.0                        1.0   \n",
       "50%                 4.000000           0.0                        1.0   \n",
       "75%                 4.000000           0.0                        1.0   \n",
       "max                 4.000000           0.0                        1.0   \n",
       "\n",
       "       case__average_body_count  case__average_match_singleton  \\\n",
       "count                       7.0                            7.0   \n",
       "mean                        1.0                            0.0   \n",
       "std                         0.0                            0.0   \n",
       "min                         1.0                            0.0   \n",
       "25%                         1.0                            0.0   \n",
       "50%                         1.0                            0.0   \n",
       "75%                         1.0                            0.0   \n",
       "max                         1.0                            0.0   \n",
       "\n",
       "       case__average_match_sequence  case__average_match_mapping  \\\n",
       "count                           7.0                          7.0   \n",
       "mean                            0.0                          0.0   \n",
       "std                             0.0                          0.0   \n",
       "min                             0.0                          0.0   \n",
       "25%                             0.0                          0.0   \n",
       "50%                             0.0                          0.0   \n",
       "75%                             0.0                          0.0   \n",
       "max                             0.0                          0.0   \n",
       "\n",
       "       case__average_match_class  case__average_match_star  \\\n",
       "count                        7.0                       7.0   \n",
       "mean                         0.0                       0.0   \n",
       "std                          0.0                       0.0   \n",
       "min                          0.0                       0.0   \n",
       "25%                          0.0                       0.0   \n",
       "50%                          0.0                       0.0   \n",
       "75%                          0.0                       0.0   \n",
       "max                          0.0                       0.0   \n",
       "\n",
       "       case__average_match_as  case__average_match_or  \\\n",
       "count                     7.0                     7.0   \n",
       "mean                      0.0                     0.0   \n",
       "std                       0.0                     0.0   \n",
       "min                       0.0                     0.0   \n",
       "25%                       0.0                     0.0   \n",
       "50%                       0.0                     0.0   \n",
       "75%                       0.0                     0.0   \n",
       "max                       0.0                     0.0   \n",
       "\n",
       "       case__expertise_level_EXPERT  \n",
       "count                           7.0  \n",
       "mean                            1.0  \n",
       "std                             0.0  \n",
       "min                             1.0  \n",
       "25%                             1.0  \n",
       "50%                             1.0  \n",
       "75%                             1.0  \n",
       "max                             1.0  "
      ],
      "text/html": [
       "<div>\n",
       "<style scoped>\n",
       "    .dataframe tbody tr th:only-of-type {\n",
       "        vertical-align: middle;\n",
       "    }\n",
       "\n",
       "    .dataframe tbody tr th {\n",
       "        vertical-align: top;\n",
       "    }\n",
       "\n",
       "    .dataframe thead th {\n",
       "        text-align: right;\n",
       "    }\n",
       "</style>\n",
       "<table border=\"1\" class=\"dataframe\">\n",
       "  <thead>\n",
       "    <tr style=\"text-align: right;\">\n",
       "      <th></th>\n",
       "      <th>case__number_of_cases</th>\n",
       "      <th>case__guards</th>\n",
       "      <th>case__average_match_value</th>\n",
       "      <th>case__average_body_count</th>\n",
       "      <th>case__average_match_singleton</th>\n",
       "      <th>case__average_match_sequence</th>\n",
       "      <th>case__average_match_mapping</th>\n",
       "      <th>case__average_match_class</th>\n",
       "      <th>case__average_match_star</th>\n",
       "      <th>case__average_match_as</th>\n",
       "      <th>case__average_match_or</th>\n",
       "      <th>case__expertise_level_EXPERT</th>\n",
       "    </tr>\n",
       "  </thead>\n",
       "  <tbody>\n",
       "    <tr>\n",
       "      <th>count</th>\n",
       "      <td>7.000000</td>\n",
       "      <td>7.0</td>\n",
       "      <td>7.0</td>\n",
       "      <td>7.0</td>\n",
       "      <td>7.0</td>\n",
       "      <td>7.0</td>\n",
       "      <td>7.0</td>\n",
       "      <td>7.0</td>\n",
       "      <td>7.0</td>\n",
       "      <td>7.0</td>\n",
       "      <td>7.0</td>\n",
       "      <td>7.0</td>\n",
       "    </tr>\n",
       "    <tr>\n",
       "      <th>mean</th>\n",
       "      <td>3.714286</td>\n",
       "      <td>0.0</td>\n",
       "      <td>1.0</td>\n",
       "      <td>1.0</td>\n",
       "      <td>0.0</td>\n",
       "      <td>0.0</td>\n",
       "      <td>0.0</td>\n",
       "      <td>0.0</td>\n",
       "      <td>0.0</td>\n",
       "      <td>0.0</td>\n",
       "      <td>0.0</td>\n",
       "      <td>1.0</td>\n",
       "    </tr>\n",
       "    <tr>\n",
       "      <th>std</th>\n",
       "      <td>0.487950</td>\n",
       "      <td>0.0</td>\n",
       "      <td>0.0</td>\n",
       "      <td>0.0</td>\n",
       "      <td>0.0</td>\n",
       "      <td>0.0</td>\n",
       "      <td>0.0</td>\n",
       "      <td>0.0</td>\n",
       "      <td>0.0</td>\n",
       "      <td>0.0</td>\n",
       "      <td>0.0</td>\n",
       "      <td>0.0</td>\n",
       "    </tr>\n",
       "    <tr>\n",
       "      <th>min</th>\n",
       "      <td>3.000000</td>\n",
       "      <td>0.0</td>\n",
       "      <td>1.0</td>\n",
       "      <td>1.0</td>\n",
       "      <td>0.0</td>\n",
       "      <td>0.0</td>\n",
       "      <td>0.0</td>\n",
       "      <td>0.0</td>\n",
       "      <td>0.0</td>\n",
       "      <td>0.0</td>\n",
       "      <td>0.0</td>\n",
       "      <td>1.0</td>\n",
       "    </tr>\n",
       "    <tr>\n",
       "      <th>25%</th>\n",
       "      <td>3.500000</td>\n",
       "      <td>0.0</td>\n",
       "      <td>1.0</td>\n",
       "      <td>1.0</td>\n",
       "      <td>0.0</td>\n",
       "      <td>0.0</td>\n",
       "      <td>0.0</td>\n",
       "      <td>0.0</td>\n",
       "      <td>0.0</td>\n",
       "      <td>0.0</td>\n",
       "      <td>0.0</td>\n",
       "      <td>1.0</td>\n",
       "    </tr>\n",
       "    <tr>\n",
       "      <th>50%</th>\n",
       "      <td>4.000000</td>\n",
       "      <td>0.0</td>\n",
       "      <td>1.0</td>\n",
       "      <td>1.0</td>\n",
       "      <td>0.0</td>\n",
       "      <td>0.0</td>\n",
       "      <td>0.0</td>\n",
       "      <td>0.0</td>\n",
       "      <td>0.0</td>\n",
       "      <td>0.0</td>\n",
       "      <td>0.0</td>\n",
       "      <td>1.0</td>\n",
       "    </tr>\n",
       "    <tr>\n",
       "      <th>75%</th>\n",
       "      <td>4.000000</td>\n",
       "      <td>0.0</td>\n",
       "      <td>1.0</td>\n",
       "      <td>1.0</td>\n",
       "      <td>0.0</td>\n",
       "      <td>0.0</td>\n",
       "      <td>0.0</td>\n",
       "      <td>0.0</td>\n",
       "      <td>0.0</td>\n",
       "      <td>0.0</td>\n",
       "      <td>0.0</td>\n",
       "      <td>1.0</td>\n",
       "    </tr>\n",
       "    <tr>\n",
       "      <th>max</th>\n",
       "      <td>4.000000</td>\n",
       "      <td>0.0</td>\n",
       "      <td>1.0</td>\n",
       "      <td>1.0</td>\n",
       "      <td>0.0</td>\n",
       "      <td>0.0</td>\n",
       "      <td>0.0</td>\n",
       "      <td>0.0</td>\n",
       "      <td>0.0</td>\n",
       "      <td>0.0</td>\n",
       "      <td>0.0</td>\n",
       "      <td>1.0</td>\n",
       "    </tr>\n",
       "  </tbody>\n",
       "</table>\n",
       "</div>"
      ]
     },
     "execution_count": 49,
     "metadata": {},
     "output_type": "execute_result"
    }
   ],
   "execution_count": 49
  },
  {
   "metadata": {},
   "cell_type": "markdown",
   "source": [
    "### IMPORTANTE\n",
    "Nada que destacar"
   ],
   "id": "79d6ce0a5385a71b"
  },
  {
   "metadata": {},
   "cell_type": "markdown",
   "source": [
    "### Variable average_match_value (4/11)\n",
    "Esta variable es de tipo numérica y nos indica el número medio de cases del tipo Value. Como vimos en la descripción de la tabla esta varibale adopta valores en el rango 0.5 - 1. Con una media de 0.71."
   ],
   "id": "37d55a98f9df4be"
  },
  {
   "metadata": {
    "ExecuteTime": {
     "end_time": "2024-05-30T07:56:39.541818Z",
     "start_time": "2024-05-30T07:56:39.426696Z"
    }
   },
   "cell_type": "code",
   "source": "sns.stripplot(X['case__average_match_value'])",
   "id": "8d7027a78ac296ed",
   "outputs": [
    {
     "data": {
      "text/plain": [
       "<Axes: ylabel='case__average_match_value'>"
      ]
     },
     "execution_count": 50,
     "metadata": {},
     "output_type": "execute_result"
    },
    {
     "data": {
      "text/plain": [
       "<Figure size 640x480 with 1 Axes>"
      ],
      "image/png": "[encoded data removed]"
     },
     "metadata": {},
     "output_type": "display_data"
    }
   ],
   "execution_count": 50
  },
  {
   "metadata": {
    "ExecuteTime": {
     "end_time": "2024-05-30T07:56:39.551528Z",
     "start_time": "2024-05-30T07:56:39.542827Z"
    }
   },
   "cell_type": "code",
   "source": "print_outliers_for_df_column(X, 'case__average_match_value')",
   "id": "98d831dcd0eeee02",
   "outputs": [
    {
     "name": "stdout",
     "output_type": "stream",
     "text": [
      "El coeficiente MC (Medcouple Coefficient) de balanceo es: 0.21645498275756836\n",
      "Rango valores atípicos extremos (Tukey): [-1.0,2.5]\n",
      "Rango valores atípicos leves (Tukey): [-0.25,1.75]\n",
      "Rango valores atípicos extremos (Fixed BoxPlot): [0.14840471103298425,2.7827156692937995]\n",
      "-3.0IQR: 0 instancias tienen un valor para case__average_match_value inferior a -1.0 (Q1-3*IQR) para case__average_match_value. Representando un 0.0% del total de instancias.\n",
      "-1.5IQR: 0 instancias tienen un valor para case__average_match_value inferior a -0.25 (Q1-1.5*IQR) para case__average_match_value. Representando un 0.0% del total de instancias.\n",
      "+1.5IQR: 0 instancias tienen un valor para case__average_match_value superior a 1.75 (Q3+1.5*IQR) para case__average_match_value. Representando un 0.0% del total de instancias.\n",
      "+3.0IQR: 0 instancias tienen un valor para case__average_match_value superior a 2.5 (Q3-3*IQR) para case__average_match_value. Representando un 0.0% del total de instancias.\n",
      "L: 0 instancias tienen un valor para case__average_match_value inferior a 0.14840471103298425 para case__average_match_value. Representando un 0.0% del total de instancias.\n",
      "U: 0 instancias tienen un valor para case__average_match_value superior a 2.7827156692937995 para case__average_match_value. Representando un 0.0% del total de instancias.\n"
     ]
    }
   ],
   "execution_count": 51
  },
  {
   "metadata": {
    "ExecuteTime": {
     "end_time": "2024-05-30T07:56:39.583644Z",
     "start_time": "2024-05-30T07:56:39.552534Z"
    }
   },
   "cell_type": "code",
   "source": "X[X['case__average_match_value'] == 1.0].describe(percentiles=[.25, .50, .75], include = ['object', 'float', 'bool', 'int'])",
   "id": "74dd9804c97aef00",
   "outputs": [
    {
     "data": {
      "text/plain": [
       "       case__number_of_cases  case__guards  case__average_match_value  \\\n",
       "count              10.000000          10.0                       10.0   \n",
       "mean                8.500000           0.0                        1.0   \n",
       "std                14.938764           0.0                        0.0   \n",
       "min                 3.000000           0.0                        1.0   \n",
       "25%                 4.000000           0.0                        1.0   \n",
       "50%                 4.000000           0.0                        1.0   \n",
       "75%                 4.000000           0.0                        1.0   \n",
       "max                51.000000           0.0                        1.0   \n",
       "\n",
       "       case__average_body_count  case__average_match_singleton  \\\n",
       "count                 10.000000                           10.0   \n",
       "mean                   1.303921                            0.0   \n",
       "std                    0.673123                            0.0   \n",
       "min                    1.000000                            0.0   \n",
       "25%                    1.000000                            0.0   \n",
       "50%                    1.000000                            0.0   \n",
       "75%                    1.029412                            0.0   \n",
       "max                    3.000000                            0.0   \n",
       "\n",
       "       case__average_match_sequence  case__average_match_mapping  \\\n",
       "count                          10.0                         10.0   \n",
       "mean                            0.0                          0.0   \n",
       "std                             0.0                          0.0   \n",
       "min                             0.0                          0.0   \n",
       "25%                             0.0                          0.0   \n",
       "50%                             0.0                          0.0   \n",
       "75%                             0.0                          0.0   \n",
       "max                             0.0                          0.0   \n",
       "\n",
       "       case__average_match_class  case__average_match_star  \\\n",
       "count                       10.0                      10.0   \n",
       "mean                         0.0                       0.0   \n",
       "std                          0.0                       0.0   \n",
       "min                          0.0                       0.0   \n",
       "25%                          0.0                       0.0   \n",
       "50%                          0.0                       0.0   \n",
       "75%                          0.0                       0.0   \n",
       "max                          0.0                       0.0   \n",
       "\n",
       "       case__average_match_as  case__average_match_or  \\\n",
       "count                    10.0                    10.0   \n",
       "mean                      0.0                     0.0   \n",
       "std                       0.0                     0.0   \n",
       "min                       0.0                     0.0   \n",
       "25%                       0.0                     0.0   \n",
       "50%                       0.0                     0.0   \n",
       "75%                       0.0                     0.0   \n",
       "max                       0.0                     0.0   \n",
       "\n",
       "       case__expertise_level_EXPERT  \n",
       "count                          10.0  \n",
       "mean                            1.0  \n",
       "std                             0.0  \n",
       "min                             1.0  \n",
       "25%                             1.0  \n",
       "50%                             1.0  \n",
       "75%                             1.0  \n",
       "max                             1.0  "
      ],
      "text/html": [
       "<div>\n",
       "<style scoped>\n",
       "    .dataframe tbody tr th:only-of-type {\n",
       "        vertical-align: middle;\n",
       "    }\n",
       "\n",
       "    .dataframe tbody tr th {\n",
       "        vertical-align: top;\n",
       "    }\n",
       "\n",
       "    .dataframe thead th {\n",
       "        text-align: right;\n",
       "    }\n",
       "</style>\n",
       "<table border=\"1\" class=\"dataframe\">\n",
       "  <thead>\n",
       "    <tr style=\"text-align: right;\">\n",
       "      <th></th>\n",
       "      <th>case__number_of_cases</th>\n",
       "      <th>case__guards</th>\n",
       "      <th>case__average_match_value</th>\n",
       "      <th>case__average_body_count</th>\n",
       "      <th>case__average_match_singleton</th>\n",
       "      <th>case__average_match_sequence</th>\n",
       "      <th>case__average_match_mapping</th>\n",
       "      <th>case__average_match_class</th>\n",
       "      <th>case__average_match_star</th>\n",
       "      <th>case__average_match_as</th>\n",
       "      <th>case__average_match_or</th>\n",
       "      <th>case__expertise_level_EXPERT</th>\n",
       "    </tr>\n",
       "  </thead>\n",
       "  <tbody>\n",
       "    <tr>\n",
       "      <th>count</th>\n",
       "      <td>10.000000</td>\n",
       "      <td>10.0</td>\n",
       "      <td>10.0</td>\n",
       "      <td>10.000000</td>\n",
       "      <td>10.0</td>\n",
       "      <td>10.0</td>\n",
       "      <td>10.0</td>\n",
       "      <td>10.0</td>\n",
       "      <td>10.0</td>\n",
       "      <td>10.0</td>\n",
       "      <td>10.0</td>\n",
       "      <td>10.0</td>\n",
       "    </tr>\n",
       "    <tr>\n",
       "      <th>mean</th>\n",
       "      <td>8.500000</td>\n",
       "      <td>0.0</td>\n",
       "      <td>1.0</td>\n",
       "      <td>1.303921</td>\n",
       "      <td>0.0</td>\n",
       "      <td>0.0</td>\n",
       "      <td>0.0</td>\n",
       "      <td>0.0</td>\n",
       "      <td>0.0</td>\n",
       "      <td>0.0</td>\n",
       "      <td>0.0</td>\n",
       "      <td>1.0</td>\n",
       "    </tr>\n",
       "    <tr>\n",
       "      <th>std</th>\n",
       "      <td>14.938764</td>\n",
       "      <td>0.0</td>\n",
       "      <td>0.0</td>\n",
       "      <td>0.673123</td>\n",
       "      <td>0.0</td>\n",
       "      <td>0.0</td>\n",
       "      <td>0.0</td>\n",
       "      <td>0.0</td>\n",
       "      <td>0.0</td>\n",
       "      <td>0.0</td>\n",
       "      <td>0.0</td>\n",
       "      <td>0.0</td>\n",
       "    </tr>\n",
       "    <tr>\n",
       "      <th>min</th>\n",
       "      <td>3.000000</td>\n",
       "      <td>0.0</td>\n",
       "      <td>1.0</td>\n",
       "      <td>1.000000</td>\n",
       "      <td>0.0</td>\n",
       "      <td>0.0</td>\n",
       "      <td>0.0</td>\n",
       "      <td>0.0</td>\n",
       "      <td>0.0</td>\n",
       "      <td>0.0</td>\n",
       "      <td>0.0</td>\n",
       "      <td>1.0</td>\n",
       "    </tr>\n",
       "    <tr>\n",
       "      <th>25%</th>\n",
       "      <td>4.000000</td>\n",
       "      <td>0.0</td>\n",
       "      <td>1.0</td>\n",
       "      <td>1.000000</td>\n",
       "      <td>0.0</td>\n",
       "      <td>0.0</td>\n",
       "      <td>0.0</td>\n",
       "      <td>0.0</td>\n",
       "      <td>0.0</td>\n",
       "      <td>0.0</td>\n",
       "      <td>0.0</td>\n",
       "      <td>1.0</td>\n",
       "    </tr>\n",
       "    <tr>\n",
       "      <th>50%</th>\n",
       "      <td>4.000000</td>\n",
       "      <td>0.0</td>\n",
       "      <td>1.0</td>\n",
       "      <td>1.000000</td>\n",
       "      <td>0.0</td>\n",
       "      <td>0.0</td>\n",
       "      <td>0.0</td>\n",
       "      <td>0.0</td>\n",
       "      <td>0.0</td>\n",
       "      <td>0.0</td>\n",
       "      <td>0.0</td>\n",
       "      <td>1.0</td>\n",
       "    </tr>\n",
       "    <tr>\n",
       "      <th>75%</th>\n",
       "      <td>4.000000</td>\n",
       "      <td>0.0</td>\n",
       "      <td>1.0</td>\n",
       "      <td>1.029412</td>\n",
       "      <td>0.0</td>\n",
       "      <td>0.0</td>\n",
       "      <td>0.0</td>\n",
       "      <td>0.0</td>\n",
       "      <td>0.0</td>\n",
       "      <td>0.0</td>\n",
       "      <td>0.0</td>\n",
       "      <td>1.0</td>\n",
       "    </tr>\n",
       "    <tr>\n",
       "      <th>max</th>\n",
       "      <td>51.000000</td>\n",
       "      <td>0.0</td>\n",
       "      <td>1.0</td>\n",
       "      <td>3.000000</td>\n",
       "      <td>0.0</td>\n",
       "      <td>0.0</td>\n",
       "      <td>0.0</td>\n",
       "      <td>0.0</td>\n",
       "      <td>0.0</td>\n",
       "      <td>0.0</td>\n",
       "      <td>0.0</td>\n",
       "      <td>1.0</td>\n",
       "    </tr>\n",
       "  </tbody>\n",
       "</table>\n",
       "</div>"
      ]
     },
     "execution_count": 52,
     "metadata": {},
     "output_type": "execute_result"
    }
   ],
   "execution_count": 52
  },
  {
   "metadata": {},
   "cell_type": "markdown",
   "source": [
    "### IMPORTANTE\n",
    "Nada que destacar"
   ],
   "id": "d7e4d0d00443ebeb"
  },
  {
   "metadata": {},
   "cell_type": "markdown",
   "source": [
    "### Variable average_match_singleton (5/11)\n",
    "Esta variable representa el número medio de cases del tipo Singleton. Como vimos en la descripción de la tabla esta varibale adopta valores en el rango 0 - 0. Con una media de 0."
   ],
   "id": "74a364b12d66460"
  },
  {
   "metadata": {
    "ExecuteTime": {
     "end_time": "2024-05-30T07:56:39.691951Z",
     "start_time": "2024-05-30T07:56:39.584665Z"
    }
   },
   "cell_type": "code",
   "source": "sns.stripplot(X['case__average_match_singleton'])",
   "id": "3dae5f2949cc98c8",
   "outputs": [
    {
     "data": {
      "text/plain": [
       "<Axes: ylabel='case__average_match_singleton'>"
      ]
     },
     "execution_count": 53,
     "metadata": {},
     "output_type": "execute_result"
    },
    {
     "data": {
      "text/plain": [
       "<Figure size 640x480 with 1 Axes>"
      ],
      "image/png": "[encoded data removed]"
     },
     "metadata": {},
     "output_type": "display_data"
    }
   ],
   "execution_count": 53
  },
  {
   "metadata": {},
   "cell_type": "markdown",
   "source": [
    "### IMPORTANTE \n",
    "\n",
    "No hay ningún Match que incluya un MatchSingleton. Esta variable toma siempre el valor 0"
   ],
   "id": "3dce1e1bed27cf50"
  },
  {
   "metadata": {},
   "cell_type": "markdown",
   "source": [
    "### Variable average_match_sequence (6/11)\n",
    "Esta variable representa el número medio de cases del tipo Sequence. Como vimos en la descripción de la tabla esta varibale adopta valores en el rango 0 - 0. Con una media de 0."
   ],
   "id": "9032f6eaada7c93d"
  },
  {
   "metadata": {
    "ExecuteTime": {
     "end_time": "2024-05-30T07:56:39.884211Z",
     "start_time": "2024-05-30T07:56:39.779489Z"
    }
   },
   "cell_type": "code",
   "source": "sns.stripplot(X['case__average_match_sequence'])",
   "id": "e1f649ef9f04ad81",
   "outputs": [
    {
     "data": {
      "text/plain": [
       "<Axes: ylabel='case__average_match_sequence'>"
      ]
     },
     "execution_count": 54,
     "metadata": {},
     "output_type": "execute_result"
    },
    {
     "data": {
      "text/plain": [
       "<Figure size 640x480 with 1 Axes>"
      ],
      "image/png": "[encoded data removed]"
     },
     "metadata": {},
     "output_type": "display_data"
    }
   ],
   "execution_count": 54
  },
  {
   "metadata": {},
   "cell_type": "markdown",
   "source": [
    "### IMPORTANTE \n",
    "\n",
    "No hay ningún Match que incluya un MatchSequence. Esta variable toma siempre el valor 0"
   ],
   "id": "d54177876055a9cf"
  },
  {
   "metadata": {},
   "cell_type": "markdown",
   "source": [
    "### Variable average_match_mapping (7/11)\n",
    "Esta variable representa el número medio de cases del tipo Mapping. Como vimos en la descripción de la tabla esta varibale adopta valores en el rango 0 - 0. Con una media de 0."
   ],
   "id": "cb291616ab130f4"
  },
  {
   "metadata": {
    "ExecuteTime": {
     "end_time": "2024-05-30T07:56:40.028945Z",
     "start_time": "2024-05-30T07:56:39.923217Z"
    }
   },
   "cell_type": "code",
   "source": "sns.stripplot(X['case__average_match_mapping'])",
   "id": "1988bff47329ed6d",
   "outputs": [
    {
     "data": {
      "text/plain": [
       "<Axes: ylabel='case__average_match_mapping'>"
      ]
     },
     "execution_count": 55,
     "metadata": {},
     "output_type": "execute_result"
    },
    {
     "data": {
      "text/plain": [
       "<Figure size 640x480 with 1 Axes>"
      ],
      "image/png": "[encoded data removed]"
     },
     "metadata": {},
     "output_type": "display_data"
    }
   ],
   "execution_count": 55
  },
  {
   "metadata": {},
   "cell_type": "markdown",
   "source": [
    "### IMPORTANTE \n",
    "\n",
    "No hay ningún Match que incluya un MatchMapping. Esta variable toma siempre el valor 0"
   ],
   "id": "df61ab713760f765"
  },
  {
   "metadata": {},
   "cell_type": "markdown",
   "source": [
    "### Variable average_match_star (8/11)\n",
    "Esta variable representa el número medio de cases del tipo Star. Como vimos en la descripción de la tabla esta varibale adopta valores en el rango 0 - 0. Con una media de 0."
   ],
   "id": "b6563d37abf20455"
  },
  {
   "metadata": {
    "ExecuteTime": {
     "end_time": "2024-05-30T07:56:40.317624Z",
     "start_time": "2024-05-30T07:56:40.196166Z"
    }
   },
   "cell_type": "code",
   "source": "sns.stripplot(X['case__average_match_star'])",
   "id": "961c8b5f9f09d75a",
   "outputs": [
    {
     "data": {
      "text/plain": [
       "<Axes: ylabel='case__average_match_star'>"
      ]
     },
     "execution_count": 56,
     "metadata": {},
     "output_type": "execute_result"
    },
    {
     "data": {
      "text/plain": [
       "<Figure size 640x480 with 1 Axes>"
      ],
      "image/png": "[encoded data removed]"
     },
     "metadata": {},
     "output_type": "display_data"
    }
   ],
   "execution_count": 56
  },
  {
   "metadata": {},
   "cell_type": "markdown",
   "source": [
    "### IMPORTANTE \n",
    "\n",
    "No hay ningún Match que incluya un MatchStar. Esta variable toma siempre el valor 0"
   ],
   "id": "fb1feae69cdb6c79"
  },
  {
   "metadata": {},
   "cell_type": "markdown",
   "source": [
    "### Variable average_match_or (9/11)\n",
    "Esta variable representa el número medio de cases del tipo Or. Como vimos en la descripción de la tabla esta varibale adopta valores en el rango 0 - 0. Con una media de 0."
   ],
   "id": "15bd4ae1fcaedc27"
  },
  {
   "metadata": {
    "ExecuteTime": {
     "end_time": "2024-05-30T07:56:40.566987Z",
     "start_time": "2024-05-30T07:56:40.448687Z"
    }
   },
   "cell_type": "code",
   "source": "sns.stripplot(X['case__average_match_or'])",
   "id": "a4335ea19b522b9a",
   "outputs": [
    {
     "data": {
      "text/plain": [
       "<Axes: ylabel='case__average_match_or'>"
      ]
     },
     "execution_count": 57,
     "metadata": {},
     "output_type": "execute_result"
    },
    {
     "data": {
      "text/plain": [
       "<Figure size 640x480 with 1 Axes>"
      ],
      "image/png": "[encoded data removed]"
     },
     "metadata": {},
     "output_type": "display_data"
    }
   ],
   "execution_count": 57
  },
  {
   "metadata": {},
   "cell_type": "markdown",
   "source": [
    "### IMPORTANTE \n",
    "\n",
    "No hay ningún Match que incluya un MatchOr. Esta variable toma siempre el valor 0"
   ],
   "id": "4b6940314359c429"
  },
  {
   "metadata": {},
   "cell_type": "markdown",
   "source": [
    "### Variable average_match_class (10/11)\n",
    "Esta variable es de tipo numérica y nos indica el número medio de cases del tipo Match. Como vimos en la descripción de la tabla esta varibale adopta valores en el rango 0.0 - 0.052. Con una media de 0.0018."
   ],
   "id": "536d3b7331c8f4b3"
  },
  {
   "metadata": {
    "ExecuteTime": {
     "end_time": "2024-05-30T07:56:40.720955Z",
     "start_time": "2024-05-30T07:56:40.608058Z"
    }
   },
   "cell_type": "code",
   "source": "sns.stripplot(X['case__average_match_class'])",
   "id": "ad75d8a6c692faa9",
   "outputs": [
    {
     "data": {
      "text/plain": [
       "<Axes: ylabel='case__average_match_class'>"
      ]
     },
     "execution_count": 58,
     "metadata": {},
     "output_type": "execute_result"
    },
    {
     "data": {
      "text/plain": [
       "<Figure size 640x480 with 1 Axes>"
      ],
      "image/png": "[encoded data removed]"
     },
     "metadata": {},
     "output_type": "display_data"
    }
   ],
   "execution_count": 58
  },
  {
   "metadata": {
    "ExecuteTime": {
     "end_time": "2024-05-30T07:56:40.760459Z",
     "start_time": "2024-05-30T07:56:40.753965Z"
    }
   },
   "cell_type": "code",
   "source": "print_outliers_for_df_column(X, 'case__average_match_class')",
   "id": "df9e06335bf9b04d",
   "outputs": [
    {
     "name": "stdout",
     "output_type": "stream",
     "text": [
      "El coeficiente MC (Medcouple Coefficient) de balanceo es: 0.889910950873654\n",
      "Rango valores atípicos extremos (Tukey): [0.0,0.0]\n",
      "Rango valores atípicos leves (Tukey): [0.0,0.0]\n",
      "Rango valores atípicos extremos (Fixed BoxPlot): [0.0,0.0]\n",
      "-3.0IQR: 0 instancias tienen un valor para case__average_match_class inferior a 0.0 (Q1-3*IQR) para case__average_match_class. Representando un 0.0% del total de instancias.\n",
      "-1.5IQR: 0 instancias tienen un valor para case__average_match_class inferior a 0.0 (Q1-1.5*IQR) para case__average_match_class. Representando un 0.0% del total de instancias.\n",
      "+1.5IQR: 1 instancias tienen un valor para case__average_match_class superior a 0.0 (Q3+1.5*IQR) para case__average_match_class. Representando un 3.448% del total de instancias.\n",
      "+3.0IQR: 1 instancias tienen un valor para case__average_match_class superior a 0.0 (Q3-3*IQR) para case__average_match_class. Representando un 3.448% del total de instancias.\n",
      "L: 0 instancias tienen un valor para case__average_match_class inferior a 0.0 para case__average_match_class. Representando un 0.0% del total de instancias.\n",
      "U: 1 instancias tienen un valor para case__average_match_class superior a 0.0 para case__average_match_class. Representando un 3.448% del total de instancias.\n"
     ]
    }
   ],
   "execution_count": 59
  },
  {
   "metadata": {},
   "cell_type": "markdown",
   "source": "Describimos los valores de las variables de la tabla, cuando el valor de la variable es mayor que 0 (Todos los umbrales son 0)",
   "id": "78ee3aae73676556"
  },
  {
   "metadata": {
    "ExecuteTime": {
     "end_time": "2024-05-30T07:56:40.839918Z",
     "start_time": "2024-05-30T07:56:40.808952Z"
    }
   },
   "cell_type": "code",
   "source": "X[X['case__average_match_class'] > 0.0].describe(percentiles=[.25, .50, .75], include = ['object', 'float', 'bool', 'int'])",
   "id": "c30bf87d7e1a6c58",
   "outputs": [
    {
     "data": {
      "text/plain": [
       "       case__number_of_cases  case__guards  case__average_match_value  \\\n",
       "count                    1.0           1.0                   1.000000   \n",
       "mean                    19.0           0.0                   0.894737   \n",
       "std                      NaN           NaN                        NaN   \n",
       "min                     19.0           0.0                   0.894737   \n",
       "25%                     19.0           0.0                   0.894737   \n",
       "50%                     19.0           0.0                   0.894737   \n",
       "75%                     19.0           0.0                   0.894737   \n",
       "max                     19.0           0.0                   0.894737   \n",
       "\n",
       "       case__average_body_count  case__average_match_singleton  \\\n",
       "count                  1.000000                            1.0   \n",
       "mean                   1.736842                            0.0   \n",
       "std                         NaN                            NaN   \n",
       "min                    1.736842                            0.0   \n",
       "25%                    1.736842                            0.0   \n",
       "50%                    1.736842                            0.0   \n",
       "75%                    1.736842                            0.0   \n",
       "max                    1.736842                            0.0   \n",
       "\n",
       "       case__average_match_sequence  case__average_match_mapping  \\\n",
       "count                           1.0                          1.0   \n",
       "mean                            0.0                          0.0   \n",
       "std                             NaN                          NaN   \n",
       "min                             0.0                          0.0   \n",
       "25%                             0.0                          0.0   \n",
       "50%                             0.0                          0.0   \n",
       "75%                             0.0                          0.0   \n",
       "max                             0.0                          0.0   \n",
       "\n",
       "       case__average_match_class  case__average_match_star  \\\n",
       "count                   1.000000                       1.0   \n",
       "mean                    0.052632                       0.0   \n",
       "std                          NaN                       NaN   \n",
       "min                     0.052632                       0.0   \n",
       "25%                     0.052632                       0.0   \n",
       "50%                     0.052632                       0.0   \n",
       "75%                     0.052632                       0.0   \n",
       "max                     0.052632                       0.0   \n",
       "\n",
       "       case__average_match_as  case__average_match_or  \\\n",
       "count                1.000000                     1.0   \n",
       "mean                 0.052632                     0.0   \n",
       "std                       NaN                     NaN   \n",
       "min                  0.052632                     0.0   \n",
       "25%                  0.052632                     0.0   \n",
       "50%                  0.052632                     0.0   \n",
       "75%                  0.052632                     0.0   \n",
       "max                  0.052632                     0.0   \n",
       "\n",
       "       case__expertise_level_EXPERT  \n",
       "count                           1.0  \n",
       "mean                            1.0  \n",
       "std                             NaN  \n",
       "min                             1.0  \n",
       "25%                             1.0  \n",
       "50%                             1.0  \n",
       "75%                             1.0  \n",
       "max                             1.0  "
      ],
      "text/html": [
       "<div>\n",
       "<style scoped>\n",
       "    .dataframe tbody tr th:only-of-type {\n",
       "        vertical-align: middle;\n",
       "    }\n",
       "\n",
       "    .dataframe tbody tr th {\n",
       "        vertical-align: top;\n",
       "    }\n",
       "\n",
       "    .dataframe thead th {\n",
       "        text-align: right;\n",
       "    }\n",
       "</style>\n",
       "<table border=\"1\" class=\"dataframe\">\n",
       "  <thead>\n",
       "    <tr style=\"text-align: right;\">\n",
       "      <th></th>\n",
       "      <th>case__number_of_cases</th>\n",
       "      <th>case__guards</th>\n",
       "      <th>case__average_match_value</th>\n",
       "      <th>case__average_body_count</th>\n",
       "      <th>case__average_match_singleton</th>\n",
       "      <th>case__average_match_sequence</th>\n",
       "      <th>case__average_match_mapping</th>\n",
       "      <th>case__average_match_class</th>\n",
       "      <th>case__average_match_star</th>\n",
       "      <th>case__average_match_as</th>\n",
       "      <th>case__average_match_or</th>\n",
       "      <th>case__expertise_level_EXPERT</th>\n",
       "    </tr>\n",
       "  </thead>\n",
       "  <tbody>\n",
       "    <tr>\n",
       "      <th>count</th>\n",
       "      <td>1.0</td>\n",
       "      <td>1.0</td>\n",
       "      <td>1.000000</td>\n",
       "      <td>1.000000</td>\n",
       "      <td>1.0</td>\n",
       "      <td>1.0</td>\n",
       "      <td>1.0</td>\n",
       "      <td>1.000000</td>\n",
       "      <td>1.0</td>\n",
       "      <td>1.000000</td>\n",
       "      <td>1.0</td>\n",
       "      <td>1.0</td>\n",
       "    </tr>\n",
       "    <tr>\n",
       "      <th>mean</th>\n",
       "      <td>19.0</td>\n",
       "      <td>0.0</td>\n",
       "      <td>0.894737</td>\n",
       "      <td>1.736842</td>\n",
       "      <td>0.0</td>\n",
       "      <td>0.0</td>\n",
       "      <td>0.0</td>\n",
       "      <td>0.052632</td>\n",
       "      <td>0.0</td>\n",
       "      <td>0.052632</td>\n",
       "      <td>0.0</td>\n",
       "      <td>1.0</td>\n",
       "    </tr>\n",
       "    <tr>\n",
       "      <th>std</th>\n",
       "      <td>NaN</td>\n",
       "      <td>NaN</td>\n",
       "      <td>NaN</td>\n",
       "      <td>NaN</td>\n",
       "      <td>NaN</td>\n",
       "      <td>NaN</td>\n",
       "      <td>NaN</td>\n",
       "      <td>NaN</td>\n",
       "      <td>NaN</td>\n",
       "      <td>NaN</td>\n",
       "      <td>NaN</td>\n",
       "      <td>NaN</td>\n",
       "    </tr>\n",
       "    <tr>\n",
       "      <th>min</th>\n",
       "      <td>19.0</td>\n",
       "      <td>0.0</td>\n",
       "      <td>0.894737</td>\n",
       "      <td>1.736842</td>\n",
       "      <td>0.0</td>\n",
       "      <td>0.0</td>\n",
       "      <td>0.0</td>\n",
       "      <td>0.052632</td>\n",
       "      <td>0.0</td>\n",
       "      <td>0.052632</td>\n",
       "      <td>0.0</td>\n",
       "      <td>1.0</td>\n",
       "    </tr>\n",
       "    <tr>\n",
       "      <th>25%</th>\n",
       "      <td>19.0</td>\n",
       "      <td>0.0</td>\n",
       "      <td>0.894737</td>\n",
       "      <td>1.736842</td>\n",
       "      <td>0.0</td>\n",
       "      <td>0.0</td>\n",
       "      <td>0.0</td>\n",
       "      <td>0.052632</td>\n",
       "      <td>0.0</td>\n",
       "      <td>0.052632</td>\n",
       "      <td>0.0</td>\n",
       "      <td>1.0</td>\n",
       "    </tr>\n",
       "    <tr>\n",
       "      <th>50%</th>\n",
       "      <td>19.0</td>\n",
       "      <td>0.0</td>\n",
       "      <td>0.894737</td>\n",
       "      <td>1.736842</td>\n",
       "      <td>0.0</td>\n",
       "      <td>0.0</td>\n",
       "      <td>0.0</td>\n",
       "      <td>0.052632</td>\n",
       "      <td>0.0</td>\n",
       "      <td>0.052632</td>\n",
       "      <td>0.0</td>\n",
       "      <td>1.0</td>\n",
       "    </tr>\n",
       "    <tr>\n",
       "      <th>75%</th>\n",
       "      <td>19.0</td>\n",
       "      <td>0.0</td>\n",
       "      <td>0.894737</td>\n",
       "      <td>1.736842</td>\n",
       "      <td>0.0</td>\n",
       "      <td>0.0</td>\n",
       "      <td>0.0</td>\n",
       "      <td>0.052632</td>\n",
       "      <td>0.0</td>\n",
       "      <td>0.052632</td>\n",
       "      <td>0.0</td>\n",
       "      <td>1.0</td>\n",
       "    </tr>\n",
       "    <tr>\n",
       "      <th>max</th>\n",
       "      <td>19.0</td>\n",
       "      <td>0.0</td>\n",
       "      <td>0.894737</td>\n",
       "      <td>1.736842</td>\n",
       "      <td>0.0</td>\n",
       "      <td>0.0</td>\n",
       "      <td>0.0</td>\n",
       "      <td>0.052632</td>\n",
       "      <td>0.0</td>\n",
       "      <td>0.052632</td>\n",
       "      <td>0.0</td>\n",
       "      <td>1.0</td>\n",
       "    </tr>\n",
       "  </tbody>\n",
       "</table>\n",
       "</div>"
      ]
     },
     "execution_count": 60,
     "metadata": {},
     "output_type": "execute_result"
    }
   ],
   "execution_count": 60
  },
  {
   "metadata": {},
   "cell_type": "markdown",
   "source": [
    "### IMPORTANTE\n",
    "El único distinto de 0 es un outlier, hay que revisarlo."
   ],
   "id": "3b962e1284580df5"
  },
  {
   "metadata": {},
   "cell_type": "markdown",
   "source": [
    "### Variable average_match_as (11/11)\n",
    "Esta variable es de tipo numérica y nos indica el número medio de cases del tipo As. Como vimos en la descripción de la tabla esta varibale adopta valores en el rango 0.0 - 0.5. Con una media de 0.28."
   ],
   "id": "c160008a4663d4d4"
  },
  {
   "metadata": {
    "ExecuteTime": {
     "end_time": "2024-05-30T07:56:41.045726Z",
     "start_time": "2024-05-30T07:56:40.936451Z"
    }
   },
   "cell_type": "code",
   "source": "sns.stripplot(X['case__average_match_as'])",
   "id": "4404f6645fb3928a",
   "outputs": [
    {
     "data": {
      "text/plain": [
       "<Axes: ylabel='case__average_match_as'>"
      ]
     },
     "execution_count": 61,
     "metadata": {},
     "output_type": "execute_result"
    },
    {
     "data": {
      "text/plain": [
       "<Figure size 640x480 with 1 Axes>"
      ],
      "image/png": "[encoded data removed]"
     },
     "metadata": {},
     "output_type": "display_data"
    }
   ],
   "execution_count": 61
  },
  {
   "metadata": {
    "ExecuteTime": {
     "end_time": "2024-05-30T07:56:41.055047Z",
     "start_time": "2024-05-30T07:56:41.047734Z"
    }
   },
   "cell_type": "code",
   "source": "print_outliers_for_df_column(X, 'case__average_match_as')",
   "id": "cefe285021f31b31",
   "outputs": [
    {
     "name": "stdout",
     "output_type": "stream",
     "text": [
      "El coeficiente MC (Medcouple Coefficient) de balanceo es: 0.21938607120377837\n",
      "Rango valores atípicos extremos (Tukey): [-1.5,2.0]\n",
      "Rango valores atípicos leves (Tukey): [-0.75,1.25]\n",
      "Rango valores atípicos extremos (Fixed BoxPlot): [-0.3480067782508564,2.3037398652214875]\n",
      "-3.0IQR: 0 instancias tienen un valor para case__average_match_as inferior a -1.5 (Q1-3*IQR) para case__average_match_as. Representando un 0.0% del total de instancias.\n",
      "-1.5IQR: 0 instancias tienen un valor para case__average_match_as inferior a -0.75 (Q1-1.5*IQR) para case__average_match_as. Representando un 0.0% del total de instancias.\n",
      "+1.5IQR: 0 instancias tienen un valor para case__average_match_as superior a 1.25 (Q3+1.5*IQR) para case__average_match_as. Representando un 0.0% del total de instancias.\n",
      "+3.0IQR: 0 instancias tienen un valor para case__average_match_as superior a 2.0 (Q3-3*IQR) para case__average_match_as. Representando un 0.0% del total de instancias.\n",
      "L: 0 instancias tienen un valor para case__average_match_as inferior a -0.3480067782508564 para case__average_match_as. Representando un 0.0% del total de instancias.\n",
      "U: 0 instancias tienen un valor para case__average_match_as superior a 2.3037398652214875 para case__average_match_as. Representando un 0.0% del total de instancias.\n"
     ]
    }
   ],
   "execution_count": 62
  },
  {
   "metadata": {
    "ExecuteTime": {
     "end_time": "2024-05-30T07:56:41.091565Z",
     "start_time": "2024-05-30T07:56:41.056058Z"
    }
   },
   "cell_type": "code",
   "source": "X[X['case__average_match_as'] > 0.0].describe(percentiles=[.25, .50, .75], include = ['object', 'float', 'bool', 'int'])",
   "id": "41d24bd69128a741",
   "outputs": [
    {
     "data": {
      "text/plain": [
       "       case__number_of_cases  case__guards  case__average_match_value  \\\n",
       "count              19.000000          19.0                  19.000000   \n",
       "mean                3.315789           0.0                   0.580425   \n",
       "std                 3.873738           0.0                   0.120603   \n",
       "min                 2.000000           0.0                   0.500000   \n",
       "25%                 2.000000           0.0                   0.500000   \n",
       "50%                 2.000000           0.0                   0.500000   \n",
       "75%                 3.000000           0.0                   0.666667   \n",
       "max                19.000000           0.0                   0.894737   \n",
       "\n",
       "       case__average_body_count  case__average_match_singleton  \\\n",
       "count                 19.000000                           19.0   \n",
       "mean                   2.189658                            0.0   \n",
       "std                    0.504500                            0.0   \n",
       "min                    1.200000                            0.0   \n",
       "25%                    2.035088                            0.0   \n",
       "50%                    2.500000                            0.0   \n",
       "75%                    2.500000                            0.0   \n",
       "max                    2.500000                            0.0   \n",
       "\n",
       "       case__average_match_sequence  case__average_match_mapping  \\\n",
       "count                          19.0                         19.0   \n",
       "mean                            0.0                          0.0   \n",
       "std                             0.0                          0.0   \n",
       "min                             0.0                          0.0   \n",
       "25%                             0.0                          0.0   \n",
       "50%                             0.0                          0.0   \n",
       "75%                             0.0                          0.0   \n",
       "max                             0.0                          0.0   \n",
       "\n",
       "       case__average_match_class  case__average_match_star  \\\n",
       "count                  19.000000                      19.0   \n",
       "mean                    0.002770                       0.0   \n",
       "std                     0.012075                       0.0   \n",
       "min                     0.000000                       0.0   \n",
       "25%                     0.000000                       0.0   \n",
       "50%                     0.000000                       0.0   \n",
       "75%                     0.000000                       0.0   \n",
       "max                     0.052632                       0.0   \n",
       "\n",
       "       case__average_match_as  case__average_match_or  \\\n",
       "count               19.000000                    19.0   \n",
       "mean                 0.416805                     0.0   \n",
       "std                  0.128565                     0.0   \n",
       "min                  0.052632                     0.0   \n",
       "25%                  0.333333                     0.0   \n",
       "50%                  0.500000                     0.0   \n",
       "75%                  0.500000                     0.0   \n",
       "max                  0.500000                     0.0   \n",
       "\n",
       "       case__expertise_level_EXPERT  \n",
       "count                          19.0  \n",
       "mean                            1.0  \n",
       "std                             0.0  \n",
       "min                             1.0  \n",
       "25%                             1.0  \n",
       "50%                             1.0  \n",
       "75%                             1.0  \n",
       "max                             1.0  "
      ],
      "text/html": [
       "<div>\n",
       "<style scoped>\n",
       "    .dataframe tbody tr th:only-of-type {\n",
       "        vertical-align: middle;\n",
       "    }\n",
       "\n",
       "    .dataframe tbody tr th {\n",
       "        vertical-align: top;\n",
       "    }\n",
       "\n",
       "    .dataframe thead th {\n",
       "        text-align: right;\n",
       "    }\n",
       "</style>\n",
       "<table border=\"1\" class=\"dataframe\">\n",
       "  <thead>\n",
       "    <tr style=\"text-align: right;\">\n",
       "      <th></th>\n",
       "      <th>case__number_of_cases</th>\n",
       "      <th>case__guards</th>\n",
       "      <th>case__average_match_value</th>\n",
       "      <th>case__average_body_count</th>\n",
       "      <th>case__average_match_singleton</th>\n",
       "      <th>case__average_match_sequence</th>\n",
       "      <th>case__average_match_mapping</th>\n",
       "      <th>case__average_match_class</th>\n",
       "      <th>case__average_match_star</th>\n",
       "      <th>case__average_match_as</th>\n",
       "      <th>case__average_match_or</th>\n",
       "      <th>case__expertise_level_EXPERT</th>\n",
       "    </tr>\n",
       "  </thead>\n",
       "  <tbody>\n",
       "    <tr>\n",
       "      <th>count</th>\n",
       "      <td>19.000000</td>\n",
       "      <td>19.0</td>\n",
       "      <td>19.000000</td>\n",
       "      <td>19.000000</td>\n",
       "      <td>19.0</td>\n",
       "      <td>19.0</td>\n",
       "      <td>19.0</td>\n",
       "      <td>19.000000</td>\n",
       "      <td>19.0</td>\n",
       "      <td>19.000000</td>\n",
       "      <td>19.0</td>\n",
       "      <td>19.0</td>\n",
       "    </tr>\n",
       "    <tr>\n",
       "      <th>mean</th>\n",
       "      <td>3.315789</td>\n",
       "      <td>0.0</td>\n",
       "      <td>0.580425</td>\n",
       "      <td>2.189658</td>\n",
       "      <td>0.0</td>\n",
       "      <td>0.0</td>\n",
       "      <td>0.0</td>\n",
       "      <td>0.002770</td>\n",
       "      <td>0.0</td>\n",
       "      <td>0.416805</td>\n",
       "      <td>0.0</td>\n",
       "      <td>1.0</td>\n",
       "    </tr>\n",
       "    <tr>\n",
       "      <th>std</th>\n",
       "      <td>3.873738</td>\n",
       "      <td>0.0</td>\n",
       "      <td>0.120603</td>\n",
       "      <td>0.504500</td>\n",
       "      <td>0.0</td>\n",
       "      <td>0.0</td>\n",
       "      <td>0.0</td>\n",
       "      <td>0.012075</td>\n",
       "      <td>0.0</td>\n",
       "      <td>0.128565</td>\n",
       "      <td>0.0</td>\n",
       "      <td>0.0</td>\n",
       "    </tr>\n",
       "    <tr>\n",
       "      <th>min</th>\n",
       "      <td>2.000000</td>\n",
       "      <td>0.0</td>\n",
       "      <td>0.500000</td>\n",
       "      <td>1.200000</td>\n",
       "      <td>0.0</td>\n",
       "      <td>0.0</td>\n",
       "      <td>0.0</td>\n",
       "      <td>0.000000</td>\n",
       "      <td>0.0</td>\n",
       "      <td>0.052632</td>\n",
       "      <td>0.0</td>\n",
       "      <td>1.0</td>\n",
       "    </tr>\n",
       "    <tr>\n",
       "      <th>25%</th>\n",
       "      <td>2.000000</td>\n",
       "      <td>0.0</td>\n",
       "      <td>0.500000</td>\n",
       "      <td>2.035088</td>\n",
       "      <td>0.0</td>\n",
       "      <td>0.0</td>\n",
       "      <td>0.0</td>\n",
       "      <td>0.000000</td>\n",
       "      <td>0.0</td>\n",
       "      <td>0.333333</td>\n",
       "      <td>0.0</td>\n",
       "      <td>1.0</td>\n",
       "    </tr>\n",
       "    <tr>\n",
       "      <th>50%</th>\n",
       "      <td>2.000000</td>\n",
       "      <td>0.0</td>\n",
       "      <td>0.500000</td>\n",
       "      <td>2.500000</td>\n",
       "      <td>0.0</td>\n",
       "      <td>0.0</td>\n",
       "      <td>0.0</td>\n",
       "      <td>0.000000</td>\n",
       "      <td>0.0</td>\n",
       "      <td>0.500000</td>\n",
       "      <td>0.0</td>\n",
       "      <td>1.0</td>\n",
       "    </tr>\n",
       "    <tr>\n",
       "      <th>75%</th>\n",
       "      <td>3.000000</td>\n",
       "      <td>0.0</td>\n",
       "      <td>0.666667</td>\n",
       "      <td>2.500000</td>\n",
       "      <td>0.0</td>\n",
       "      <td>0.0</td>\n",
       "      <td>0.0</td>\n",
       "      <td>0.000000</td>\n",
       "      <td>0.0</td>\n",
       "      <td>0.500000</td>\n",
       "      <td>0.0</td>\n",
       "      <td>1.0</td>\n",
       "    </tr>\n",
       "    <tr>\n",
       "      <th>max</th>\n",
       "      <td>19.000000</td>\n",
       "      <td>0.0</td>\n",
       "      <td>0.894737</td>\n",
       "      <td>2.500000</td>\n",
       "      <td>0.0</td>\n",
       "      <td>0.0</td>\n",
       "      <td>0.0</td>\n",
       "      <td>0.052632</td>\n",
       "      <td>0.0</td>\n",
       "      <td>0.500000</td>\n",
       "      <td>0.0</td>\n",
       "      <td>1.0</td>\n",
       "    </tr>\n",
       "  </tbody>\n",
       "</table>\n",
       "</div>"
      ]
     },
     "execution_count": 63,
     "metadata": {},
     "output_type": "execute_result"
    }
   ],
   "execution_count": 63
  },
  {
   "metadata": {},
   "cell_type": "markdown",
   "source": [
    "### IMPORTANTE\n",
    "Nada que destacar"
   ],
   "id": "87c0845a2105c165"
  },
  {
   "metadata": {},
   "cell_type": "markdown",
   "source": [
    "## Multivariate\n",
    "\n",
    "TODO: isolation forest algorithm"
   ],
   "id": "a63c33a981202cfe"
  },
  {
   "cell_type": "code",
   "id": "51448304c36d916e",
   "metadata": {
    "collapsed": false,
    "ExecuteTime": {
     "end_time": "2024-05-30T07:56:41.261281Z",
     "start_time": "2024-05-30T07:56:41.092574Z"
    }
   },
   "source": [
    "from sklearn.ensemble import  IsolationForest\n",
    "\n",
    "CONTAMINATION_FACTOR = 0.0012\n",
    "\n",
    "isof_model = IsolationForest(contamination=CONTAMINATION_FACTOR, random_state=0)\n",
    "isof_prediction = isof_model.fit_predict(X.to_numpy())\n",
    "mask = isof_prediction == -1\n",
    "multivar_outliers = X[mask].index.tolist()\n",
    "full_table.iloc[multivar_outliers]"
   ],
   "outputs": [
    {
     "data": {
      "text/plain": [
       "    case__number_of_cases  case__guards  case__average_body_count  \\\n",
       "23                     19           0.0                  1.736842   \n",
       "\n",
       "    case__average_match_value  case__average_match_singleton  \\\n",
       "23                   0.894737                            0.0   \n",
       "\n",
       "    case__average_match_sequence  case__average_match_mapping  \\\n",
       "23                           0.0                          0.0   \n",
       "\n",
       "    case__average_match_class  case__average_match_star  \\\n",
       "23                   0.052632                       0.0   \n",
       "\n",
       "    case__average_match_as  case__average_match_or case__expertise_level  \n",
       "23                0.052632                     0.0                EXPERT  "
      ],
      "text/html": [
       "<div>\n",
       "<style scoped>\n",
       "    .dataframe tbody tr th:only-of-type {\n",
       "        vertical-align: middle;\n",
       "    }\n",
       "\n",
       "    .dataframe tbody tr th {\n",
       "        vertical-align: top;\n",
       "    }\n",
       "\n",
       "    .dataframe thead th {\n",
       "        text-align: right;\n",
       "    }\n",
       "</style>\n",
       "<table border=\"1\" class=\"dataframe\">\n",
       "  <thead>\n",
       "    <tr style=\"text-align: right;\">\n",
       "      <th></th>\n",
       "      <th>case__number_of_cases</th>\n",
       "      <th>case__guards</th>\n",
       "      <th>case__average_body_count</th>\n",
       "      <th>case__average_match_value</th>\n",
       "      <th>case__average_match_singleton</th>\n",
       "      <th>case__average_match_sequence</th>\n",
       "      <th>case__average_match_mapping</th>\n",
       "      <th>case__average_match_class</th>\n",
       "      <th>case__average_match_star</th>\n",
       "      <th>case__average_match_as</th>\n",
       "      <th>case__average_match_or</th>\n",
       "      <th>case__expertise_level</th>\n",
       "    </tr>\n",
       "  </thead>\n",
       "  <tbody>\n",
       "    <tr>\n",
       "      <th>23</th>\n",
       "      <td>19</td>\n",
       "      <td>0.0</td>\n",
       "      <td>1.736842</td>\n",
       "      <td>0.894737</td>\n",
       "      <td>0.0</td>\n",
       "      <td>0.0</td>\n",
       "      <td>0.0</td>\n",
       "      <td>0.052632</td>\n",
       "      <td>0.0</td>\n",
       "      <td>0.052632</td>\n",
       "      <td>0.0</td>\n",
       "      <td>EXPERT</td>\n",
       "    </tr>\n",
       "  </tbody>\n",
       "</table>\n",
       "</div>"
      ]
     },
     "execution_count": 64,
     "metadata": {},
     "output_type": "execute_result"
    }
   ],
   "execution_count": 64
  },
  {
   "metadata": {},
   "cell_type": "markdown",
   "source": [
    "### IMPORTANTE\n",
    "Hay que analizar el outlier detectado."
   ],
   "id": "60bbb8eb617b847b"
  }
 ],
 "metadata": {
  "kernelspec": {
   "display_name": "Python 3 (ipykernel)",
   "language": "python",
   "name": "python3"
  },
  "language_info": {
   "codemirror_mode": {
    "name": "ipython",
    "version": 3
   },
   "file_extension": ".py",
   "mimetype": "text/x-python",
   "name": "python",
   "nbconvert_exporter": "python",
   "pygments_lexer": "ipython3",
   "version": "3.12.2"
  },
  "toc-autonumbering": true,
  "toc-showcode": false,
  "toc-showmarkdowntxt": false,
  "toc-showtags": false
 },
 "nbformat": 4,
 "nbformat_minor": 5
}
