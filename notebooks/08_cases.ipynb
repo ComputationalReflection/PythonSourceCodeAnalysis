{
 "cells": [
  {
   "cell_type": "markdown",
   "id": "ea78b212-ff32-40d1-92e1-9e09d847ae78",
   "metadata": {
    "pycharm": {
     "name": "#%% md\n"
    }
   },
   "source": [
    "# Cases\n",
    "\n",
    "Esta tabla contiene la información de las sentencias de tipo Match. --> ABEL COMPLETAR <--"
   ]
  },
  {
   "metadata": {},
   "cell_type": "markdown",
   "source": [
    "## IMPORTANTE\n",
    "Todos las instancias de la tabla Cases tienen expertise_level = EXPERT, con lo que solo se hara este analisis.  "
   ],
   "id": "448a5ff8e0d1702f"
  },
  {
   "cell_type": "markdown",
   "id": "b862cb2f-c1e0-4074-92c0-004dea379079",
   "metadata": {
    "pycharm": {
     "name": "#%% md\n"
    }
   },
   "source": [
    "## 1 - Obtencion de datos"
   ]
  },
  {
   "cell_type": "code",
   "id": "63793d9c-9473-44fa-bb1d-8e4b32fa1457",
   "metadata": {
    "pycharm": {
     "name": "#%%\n"
    },
    "tags": [],
    "ExecuteTime": {
     "end_time": "2024-05-24T11:12:36.159554Z",
     "start_time": "2024-05-24T11:12:34.187228Z"
    }
   },
   "source": [
    "import matplotlib.pyplot as plt\n",
    "from notebooks_utils import *\n",
    "\n",
    "full_table = get_data('cases')\n",
    "\n",
    "# Table name, features and target.\n",
    "TABLE_NAME = 'cases'\n",
    "TABLE_FEATURES = ['case__number_of_cases', 'case__guards', 'case__average_match_value', 'case__average_body_count', 'case__average_match_singleton', 'case__average_match_sequence', 'case__average_match_mapping', 'case__average_match_class', 'case__average_match_star', 'case__average_match_as', 'case__average_match_or', 'case__expertise_level']\n",
    "TABLE_TARGET = 'case__expertise_level'\n",
    "\n",
    "# Load features and target.\n",
    "X, y = full_table[TABLE_FEATURES], full_table[[TABLE_TARGET]].iloc[:,0]\n",
    "\n",
    "# Print information about the loaded table.\n",
    "print(f'Features shape: {X.shape}')\n",
    "print(f'Target shape: {y.shape}')\n",
    "\n",
    "print(f'As we can see the downloaded data contains a total of {X.shape[0]} instances. For each instance we have {X.shape[1]} attributes.')"
   ],
   "outputs": [
    {
     "name": "stdout",
     "output_type": "stream",
     "text": [
      "2024-05-24 13:12:36.155047 Data cache files found ...\n",
      "2024-05-24 13:12:36.156048 Data cache files successfully loaded!!\n",
      "Features shape: (28, 12)\n",
      "Target shape: (28,)\n",
      "As we can see the downloaded data contains a total of 28 instances. For each instance we have 12 attributes.\n"
     ]
    }
   ],
   "execution_count": 1
  },
  {
   "cell_type": "markdown",
   "id": "3ff70454-366f-4231-831d-723eeb63576b",
   "metadata": {},
   "source": [
    "## 2 - Exploracion de datos\n",
    "\n",
    "Una vez tenemos nuestra tabla en un dataframe el siguiente paso es explorarla para ver qué tipo de información contiene."
   ]
  },
  {
   "cell_type": "code",
   "id": "9b526577-537d-44b0-951b-168278ce7a5c",
   "metadata": {
    "ExecuteTime": {
     "end_time": "2024-05-24T11:12:36.171203Z",
     "start_time": "2024-05-24T11:12:36.161566Z"
    }
   },
   "source": [
    "print(X.info())\n",
    "print('=============')\n",
    "print(y.info())"
   ],
   "outputs": [
    {
     "name": "stdout",
     "output_type": "stream",
     "text": [
      "<class 'pandas.core.frame.DataFrame'>\n",
      "RangeIndex: 28 entries, 0 to 27\n",
      "Data columns (total 12 columns):\n",
      " #   Column                         Non-Null Count  Dtype  \n",
      "---  ------                         --------------  -----  \n",
      " 0   case__number_of_cases          28 non-null     int64  \n",
      " 1   case__guards                   28 non-null     float64\n",
      " 2   case__average_match_value      28 non-null     float64\n",
      " 3   case__average_body_count       28 non-null     float64\n",
      " 4   case__average_match_singleton  28 non-null     float64\n",
      " 5   case__average_match_sequence   28 non-null     float64\n",
      " 6   case__average_match_mapping    28 non-null     float64\n",
      " 7   case__average_match_class      28 non-null     float64\n",
      " 8   case__average_match_star       28 non-null     float64\n",
      " 9   case__average_match_as         28 non-null     float64\n",
      " 10  case__average_match_or         28 non-null     float64\n",
      " 11  case__expertise_level          28 non-null     object \n",
      "dtypes: float64(10), int64(1), object(1)\n",
      "memory usage: 2.8+ KB\n",
      "None\n",
      "=============\n",
      "<class 'pandas.core.series.Series'>\n",
      "RangeIndex: 28 entries, 0 to 27\n",
      "Series name: case__expertise_level\n",
      "Non-Null Count  Dtype \n",
      "--------------  ----- \n",
      "28 non-null     object\n",
      "dtypes: object(1)\n",
      "memory usage: 356.0+ bytes\n",
      "None\n"
     ]
    }
   ],
   "execution_count": 2
  },
  {
   "cell_type": "markdown",
   "id": "cbf77cd4-9819-4da1-9405-44054d2290e1",
   "metadata": {},
   "source": "Cómo podemos ver la tabla está compuesta por 11 variables numéricas y una de tipo objeto. "
  },
  {
   "cell_type": "markdown",
   "id": "bf53eef1e9c5c37d",
   "metadata": {
    "collapsed": false
   },
   "source": [
    "### 2.1 - Balance de clases"
   ]
  },
  {
   "cell_type": "code",
   "id": "61c1409f-9146-467e-bad9-b68774fdd903",
   "metadata": {
    "ExecuteTime": {
     "end_time": "2024-05-24T11:12:36.176420Z",
     "start_time": "2024-05-24T11:12:36.172212Z"
    }
   },
   "source": [
    "instances_for_class_low = len(full_table[full_table[TABLE_TARGET] == \"BEGINNER\"])\n",
    "instances_for_class_high = len(full_table[full_table[TABLE_TARGET] == \"EXPERT\"])\n",
    "\n",
    "print(f\"The dataset contains {instances_for_class_low/len(full_table)*100:.4}% instances for BEGINNER class and {instances_for_class_high/len(full_table)*100:.4}% for EXPERT class.\")"
   ],
   "outputs": [
    {
     "name": "stdout",
     "output_type": "stream",
     "text": [
      "The dataset contains 0.0% instances for BEGINNER class and 100.0% for EXPERT class.\n"
     ]
    }
   ],
   "execution_count": 3
  },
  {
   "cell_type": "markdown",
   "id": "7f619a1e-3b8b-4929-b41c-8edef4cc2d6a",
   "metadata": {},
   "source": [
    "### 2.2 - Duplicados\n",
    "Miramos si la tabla tiene entradas duplicadas."
   ]
  },
  {
   "cell_type": "code",
   "id": "ba8d29f2-8771-4e1f-8ecb-31bb827bf988",
   "metadata": {
    "ExecuteTime": {
     "end_time": "2024-05-24T11:12:36.182169Z",
     "start_time": "2024-05-24T11:12:36.177430Z"
    }
   },
   "source": [
    "number_of_duplicated_entries = sum(full_table.duplicated(subset=TABLE_FEATURES + [TABLE_TARGET]))\n",
    "duplicated_entries_pct = number_of_duplicated_entries / len(full_table) * 100\n",
    "print(f\"The dataset contains [{duplicated_entries_pct:.4}%] of duplicated entries.\")"
   ],
   "outputs": [
    {
     "name": "stdout",
     "output_type": "stream",
     "text": [
      "The dataset contains [64.29%] of duplicated entries.\n"
     ]
    }
   ],
   "execution_count": 4
  },
  {
   "cell_type": "markdown",
   "id": "31d297c18f157194",
   "metadata": {
    "collapsed": false
   },
   "source": [
    "### 2.3 - Valores Nulos \n",
    "Miramos si alguna de las variables que contiene la tabla contiene algún valor que sea nulo."
   ]
  },
  {
   "cell_type": "code",
   "id": "afeed2ce9080cbbb",
   "metadata": {
    "collapsed": false,
    "ExecuteTime": {
     "end_time": "2024-05-24T11:12:36.190149Z",
     "start_time": "2024-05-24T11:12:36.183179Z"
    }
   },
   "source": [
    "X.isnull().sum()"
   ],
   "outputs": [
    {
     "data": {
      "text/plain": [
       "case__number_of_cases            0\n",
       "case__guards                     0\n",
       "case__average_match_value        0\n",
       "case__average_body_count         0\n",
       "case__average_match_singleton    0\n",
       "case__average_match_sequence     0\n",
       "case__average_match_mapping      0\n",
       "case__average_match_class        0\n",
       "case__average_match_star         0\n",
       "case__average_match_as           0\n",
       "case__average_match_or           0\n",
       "case__expertise_level            0\n",
       "dtype: int64"
      ]
     },
     "execution_count": 5,
     "metadata": {},
     "output_type": "execute_result"
    }
   ],
   "execution_count": 5
  },
  {
   "cell_type": "markdown",
   "id": "1a8e02c0c52edff9",
   "metadata": {
    "collapsed": false
   },
   "source": [
    "Aunque una columna no contenga valores nulos podría ser que contenga valores vacíos. Si los hubiese la siguiente función los mostraría."
   ]
  },
  {
   "cell_type": "code",
   "id": "73b9dc2f9efc111a",
   "metadata": {
    "collapsed": false,
    "ExecuteTime": {
     "end_time": "2024-05-24T11:12:36.197702Z",
     "start_time": "2024-05-24T11:12:36.191158Z"
    }
   },
   "source": [
    "print_empty_cols(X)"
   ],
   "outputs": [
    {
     "name": "stdout",
     "output_type": "stream",
     "text": [
      "case__number_of_cases\n",
      "---------------------\n",
      "0 instancias no tienen un valor para la columna case__number_of_cases\n",
      "\n",
      "\n",
      "case__guards\n",
      "------------\n",
      "0 instancias no tienen un valor para la columna case__guards\n",
      "\n",
      "\n",
      "case__average_match_value\n",
      "-------------------------\n",
      "0 instancias no tienen un valor para la columna case__average_match_value\n",
      "\n",
      "\n",
      "case__average_body_count\n",
      "------------------------\n",
      "0 instancias no tienen un valor para la columna case__average_body_count\n",
      "\n",
      "\n",
      "case__average_match_singleton\n",
      "-----------------------------\n",
      "0 instancias no tienen un valor para la columna case__average_match_singleton\n",
      "\n",
      "\n",
      "case__average_match_sequence\n",
      "----------------------------\n",
      "0 instancias no tienen un valor para la columna case__average_match_sequence\n",
      "\n",
      "\n",
      "case__average_match_mapping\n",
      "---------------------------\n",
      "0 instancias no tienen un valor para la columna case__average_match_mapping\n",
      "\n",
      "\n",
      "case__average_match_class\n",
      "-------------------------\n",
      "0 instancias no tienen un valor para la columna case__average_match_class\n",
      "\n",
      "\n",
      "case__average_match_star\n",
      "------------------------\n",
      "0 instancias no tienen un valor para la columna case__average_match_star\n",
      "\n",
      "\n",
      "case__average_match_as\n",
      "----------------------\n",
      "0 instancias no tienen un valor para la columna case__average_match_as\n",
      "\n",
      "\n",
      "case__average_match_or\n",
      "----------------------\n",
      "0 instancias no tienen un valor para la columna case__average_match_or\n",
      "\n",
      "\n",
      "case__expertise_level\n",
      "---------------------\n",
      "0 instancias no tienen un valor para la columna case__expertise_level\n",
      "\n",
      "\n"
     ]
    }
   ],
   "execution_count": 6
  },
  {
   "cell_type": "markdown",
   "id": "105774ea722bf467",
   "metadata": {
    "collapsed": false
   },
   "source": [
    "### 2.4 - Describimos los valores de las variables de la tabla."
   ]
  },
  {
   "cell_type": "code",
   "id": "d3be1e5cec1af46c",
   "metadata": {
    "collapsed": false,
    "ExecuteTime": {
     "end_time": "2024-05-24T11:12:36.225801Z",
     "start_time": "2024-05-24T11:12:36.198716Z"
    }
   },
   "source": [
    "np.transpose(X.describe(percentiles=[.25, .50, .75], include = ['object', 'float', 'bool', 'int']))"
   ],
   "outputs": [
    {
     "data": {
      "text/plain": [
       "                              count unique     top freq      mean       std  \\\n",
       "case__number_of_cases          28.0    NaN     NaN  NaN  5.178571  9.526002   \n",
       "case__guards                   28.0    NaN     NaN  NaN       0.0       0.0   \n",
       "case__average_match_value      28.0    NaN     NaN  NaN  0.715288  0.222522   \n",
       "case__average_body_count       28.0    NaN     NaN  NaN  1.915812  0.693607   \n",
       "case__average_match_singleton  28.0    NaN     NaN  NaN       0.0       0.0   \n",
       "case__average_match_sequence   28.0    NaN     NaN  NaN       0.0       0.0   \n",
       "case__average_match_mapping    28.0    NaN     NaN  NaN       0.0       0.0   \n",
       "case__average_match_class      28.0    NaN     NaN  NaN   0.00188  0.009946   \n",
       "case__average_match_star       28.0    NaN     NaN  NaN       0.0       0.0   \n",
       "case__average_match_as         28.0    NaN     NaN  NaN  0.282832  0.224309   \n",
       "case__average_match_or         28.0    NaN     NaN  NaN       0.0       0.0   \n",
       "case__expertise_level            28      1  EXPERT   28       NaN       NaN   \n",
       "\n",
       "                               min       25%       50%  75%       max  \n",
       "case__number_of_cases          2.0       2.0       3.0  4.0      51.0  \n",
       "case__guards                   0.0       0.0       0.0  0.0       0.0  \n",
       "case__average_match_value      0.5       0.5  0.666667  1.0       1.0  \n",
       "case__average_body_count       1.0  1.159804  2.333333  2.5       3.0  \n",
       "case__average_match_singleton  0.0       0.0       0.0  0.0       0.0  \n",
       "case__average_match_sequence   0.0       0.0       0.0  0.0       0.0  \n",
       "case__average_match_mapping    0.0       0.0       0.0  0.0       0.0  \n",
       "case__average_match_class      0.0       0.0       0.0  0.0  0.052632  \n",
       "case__average_match_star       0.0       0.0       0.0  0.0       0.0  \n",
       "case__average_match_as         0.0       0.0  0.333333  0.5       0.5  \n",
       "case__average_match_or         0.0       0.0       0.0  0.0       0.0  \n",
       "case__expertise_level          NaN       NaN       NaN  NaN       NaN  "
      ],
      "text/html": [
       "<div>\n",
       "<style scoped>\n",
       "    .dataframe tbody tr th:only-of-type {\n",
       "        vertical-align: middle;\n",
       "    }\n",
       "\n",
       "    .dataframe tbody tr th {\n",
       "        vertical-align: top;\n",
       "    }\n",
       "\n",
       "    .dataframe thead th {\n",
       "        text-align: right;\n",
       "    }\n",
       "</style>\n",
       "<table border=\"1\" class=\"dataframe\">\n",
       "  <thead>\n",
       "    <tr style=\"text-align: right;\">\n",
       "      <th></th>\n",
       "      <th>count</th>\n",
       "      <th>unique</th>\n",
       "      <th>top</th>\n",
       "      <th>freq</th>\n",
       "      <th>mean</th>\n",
       "      <th>std</th>\n",
       "      <th>min</th>\n",
       "      <th>25%</th>\n",
       "      <th>50%</th>\n",
       "      <th>75%</th>\n",
       "      <th>max</th>\n",
       "    </tr>\n",
       "  </thead>\n",
       "  <tbody>\n",
       "    <tr>\n",
       "      <th>case__number_of_cases</th>\n",
       "      <td>28.0</td>\n",
       "      <td>NaN</td>\n",
       "      <td>NaN</td>\n",
       "      <td>NaN</td>\n",
       "      <td>5.178571</td>\n",
       "      <td>9.526002</td>\n",
       "      <td>2.0</td>\n",
       "      <td>2.0</td>\n",
       "      <td>3.0</td>\n",
       "      <td>4.0</td>\n",
       "      <td>51.0</td>\n",
       "    </tr>\n",
       "    <tr>\n",
       "      <th>case__guards</th>\n",
       "      <td>28.0</td>\n",
       "      <td>NaN</td>\n",
       "      <td>NaN</td>\n",
       "      <td>NaN</td>\n",
       "      <td>0.0</td>\n",
       "      <td>0.0</td>\n",
       "      <td>0.0</td>\n",
       "      <td>0.0</td>\n",
       "      <td>0.0</td>\n",
       "      <td>0.0</td>\n",
       "      <td>0.0</td>\n",
       "    </tr>\n",
       "    <tr>\n",
       "      <th>case__average_match_value</th>\n",
       "      <td>28.0</td>\n",
       "      <td>NaN</td>\n",
       "      <td>NaN</td>\n",
       "      <td>NaN</td>\n",
       "      <td>0.715288</td>\n",
       "      <td>0.222522</td>\n",
       "      <td>0.5</td>\n",
       "      <td>0.5</td>\n",
       "      <td>0.666667</td>\n",
       "      <td>1.0</td>\n",
       "      <td>1.0</td>\n",
       "    </tr>\n",
       "    <tr>\n",
       "      <th>case__average_body_count</th>\n",
       "      <td>28.0</td>\n",
       "      <td>NaN</td>\n",
       "      <td>NaN</td>\n",
       "      <td>NaN</td>\n",
       "      <td>1.915812</td>\n",
       "      <td>0.693607</td>\n",
       "      <td>1.0</td>\n",
       "      <td>1.159804</td>\n",
       "      <td>2.333333</td>\n",
       "      <td>2.5</td>\n",
       "      <td>3.0</td>\n",
       "    </tr>\n",
       "    <tr>\n",
       "      <th>case__average_match_singleton</th>\n",
       "      <td>28.0</td>\n",
       "      <td>NaN</td>\n",
       "      <td>NaN</td>\n",
       "      <td>NaN</td>\n",
       "      <td>0.0</td>\n",
       "      <td>0.0</td>\n",
       "      <td>0.0</td>\n",
       "      <td>0.0</td>\n",
       "      <td>0.0</td>\n",
       "      <td>0.0</td>\n",
       "      <td>0.0</td>\n",
       "    </tr>\n",
       "    <tr>\n",
       "      <th>case__average_match_sequence</th>\n",
       "      <td>28.0</td>\n",
       "      <td>NaN</td>\n",
       "      <td>NaN</td>\n",
       "      <td>NaN</td>\n",
       "      <td>0.0</td>\n",
       "      <td>0.0</td>\n",
       "      <td>0.0</td>\n",
       "      <td>0.0</td>\n",
       "      <td>0.0</td>\n",
       "      <td>0.0</td>\n",
       "      <td>0.0</td>\n",
       "    </tr>\n",
       "    <tr>\n",
       "      <th>case__average_match_mapping</th>\n",
       "      <td>28.0</td>\n",
       "      <td>NaN</td>\n",
       "      <td>NaN</td>\n",
       "      <td>NaN</td>\n",
       "      <td>0.0</td>\n",
       "      <td>0.0</td>\n",
       "      <td>0.0</td>\n",
       "      <td>0.0</td>\n",
       "      <td>0.0</td>\n",
       "      <td>0.0</td>\n",
       "      <td>0.0</td>\n",
       "    </tr>\n",
       "    <tr>\n",
       "      <th>case__average_match_class</th>\n",
       "      <td>28.0</td>\n",
       "      <td>NaN</td>\n",
       "      <td>NaN</td>\n",
       "      <td>NaN</td>\n",
       "      <td>0.00188</td>\n",
       "      <td>0.009946</td>\n",
       "      <td>0.0</td>\n",
       "      <td>0.0</td>\n",
       "      <td>0.0</td>\n",
       "      <td>0.0</td>\n",
       "      <td>0.052632</td>\n",
       "    </tr>\n",
       "    <tr>\n",
       "      <th>case__average_match_star</th>\n",
       "      <td>28.0</td>\n",
       "      <td>NaN</td>\n",
       "      <td>NaN</td>\n",
       "      <td>NaN</td>\n",
       "      <td>0.0</td>\n",
       "      <td>0.0</td>\n",
       "      <td>0.0</td>\n",
       "      <td>0.0</td>\n",
       "      <td>0.0</td>\n",
       "      <td>0.0</td>\n",
       "      <td>0.0</td>\n",
       "    </tr>\n",
       "    <tr>\n",
       "      <th>case__average_match_as</th>\n",
       "      <td>28.0</td>\n",
       "      <td>NaN</td>\n",
       "      <td>NaN</td>\n",
       "      <td>NaN</td>\n",
       "      <td>0.282832</td>\n",
       "      <td>0.224309</td>\n",
       "      <td>0.0</td>\n",
       "      <td>0.0</td>\n",
       "      <td>0.333333</td>\n",
       "      <td>0.5</td>\n",
       "      <td>0.5</td>\n",
       "    </tr>\n",
       "    <tr>\n",
       "      <th>case__average_match_or</th>\n",
       "      <td>28.0</td>\n",
       "      <td>NaN</td>\n",
       "      <td>NaN</td>\n",
       "      <td>NaN</td>\n",
       "      <td>0.0</td>\n",
       "      <td>0.0</td>\n",
       "      <td>0.0</td>\n",
       "      <td>0.0</td>\n",
       "      <td>0.0</td>\n",
       "      <td>0.0</td>\n",
       "      <td>0.0</td>\n",
       "    </tr>\n",
       "    <tr>\n",
       "      <th>case__expertise_level</th>\n",
       "      <td>28</td>\n",
       "      <td>1</td>\n",
       "      <td>EXPERT</td>\n",
       "      <td>28</td>\n",
       "      <td>NaN</td>\n",
       "      <td>NaN</td>\n",
       "      <td>NaN</td>\n",
       "      <td>NaN</td>\n",
       "      <td>NaN</td>\n",
       "      <td>NaN</td>\n",
       "      <td>NaN</td>\n",
       "    </tr>\n",
       "  </tbody>\n",
       "</table>\n",
       "</div>"
      ]
     },
     "execution_count": 7,
     "metadata": {},
     "output_type": "execute_result"
    }
   ],
   "execution_count": 7
  },
  {
   "cell_type": "markdown",
   "id": "b9f859b03e8083f1",
   "metadata": {
    "collapsed": false
   },
   "source": "Vamos a discretizar las variables numericas, agrupando conjuntos de valores en categorias, para hacer un análisis de los datos. Para cada variable es necesaario ver la distribucion de lo valores para hacer los bins (categorias)."
  },
  {
   "cell_type": "code",
   "id": "b7cf5fae0fd0e5ef",
   "metadata": {
    "collapsed": false,
    "ExecuteTime": {
     "end_time": "2024-05-24T11:12:36.262056Z",
     "start_time": "2024-05-24T11:12:36.226812Z"
    }
   },
   "source": [
    "# DISCRETIZATION\n",
    "X_copy = X.copy()\n",
    "\n",
    "discretized_columns = {\n",
    "    \"case__number_of_cases\": [(0.0, 2.0), (2.0, 3.0), (3.0, 4.0), (4.0, inf)],  # min: 2.0 max: 51.0 \n",
    "    \"case__guards\": [(0.0, 0.0)],  # min: 0.0 max: 0.0 \n",
    "    \"case__average_match_value\": [(0.0, 0.5), (0.5, 0.67), (0.67, inf)],  # min: 0.5 max: 1.0 \n",
    "    \"case__average_body_count\": [(0.0, 1.15), (1.15, 2.33), (2.33, 2.5), (2.5, inf)],  # min: 1 max: 3.0 \n",
    "    \"case__average_match_singleton\": [(0.0, 0.0)],  # min: 0 max: 0 \n",
    "    \"case__average_match_sequence\": [(0.0, 0.0)],  # min: 0 max: 0 \n",
    "    \"case__average_match_mapping\": [(0.0, 0.0)],  # min: 0 max: 0 \n",
    "    \"case__average_match_class\": [(0.0, inf)],  # min: 0 max: 0.0526 \n",
    "    \"case__average_match_star\": [(0.0, 0.0)],  # min: 0 max: 0 \n",
    "    \"case__average_match_or\": [(0.0, 0.0)],  # min: 0 max: 0 \n",
    "    \"case__average_match_as\": [(0.0, 0.0), (0.0, 0.34), (0.34, inf)],  # min: 0 max: 0.5\n",
    "}\n",
    "\n",
    "discretize_columns(X_copy, discretized_columns)\n",
    "    \n",
    "# SINGLE FEATURE\n",
    "print(\"--- SINGLE FEATURE ---\")\n",
    "print(get_statistics(X_copy, ['case__number_of_cases'], 10))\n",
    "print(get_statistics(X_copy, ['case__guards'], 10))\n",
    "print(get_statistics(X_copy, ['case__average_body_count'], 10))\n",
    "print(get_statistics(X_copy, ['case__average_match_singleton'], 10))\n",
    "print(get_statistics(X_copy, ['case__average_match_value'], 10))\n",
    "print(get_statistics(X_copy, ['case__average_match_sequence'], 10))\n",
    "print(get_statistics(X_copy, ['case__average_match_mapping'], 10))\n",
    "print(get_statistics(X_copy, ['case__average_match_class'], 10))\n",
    "print(get_statistics(X_copy, ['case__average_match_star'], 10))\n",
    "print(get_statistics(X_copy, ['case__average_match_or'], 10))\n",
    "print(get_statistics(X_copy, ['case__average_match_as'], 10))\n",
    "\n",
    "# 2 FEATURES\n",
    "print(\"--- TWO FEATURES ---\")\n",
    "#print(get_statistics(X_copy, ['import__average_imported_modules', 'import__module_imports_pct'], 10))\n",
    "\n",
    "# 3 FEATURES\n",
    "print(\"--- THREE FEATURES ---\")\n",
    "#print(get_statistics(X_copy, ['program__has_sub_dirs_with_code', 'program__has_packages', 'program__has_code_root_package'], 10))"
   ],
   "outputs": [
    {
     "name": "stdout",
     "output_type": "stream",
     "text": [
      "--- SINGLE FEATURE ---\n",
      "case__number_of_cases  count  percentage\n",
      "            [2.0_3.0)     12   42.857143\n",
      "            [4.0_inf]     10   35.714286\n",
      "            [3.0_4.0)      6   21.428571\n",
      "\n",
      "case__guards  count  percentage\n",
      "   [0.0_0.0]     28       100.0\n",
      "\n",
      "case__average_body_count  count  percentage\n",
      "               [2.5_inf]     13   46.428571\n",
      "              [0.0_1.15)      7   25.000000\n",
      "             [1.15_2.33)      6   21.428571\n",
      "              [2.33_2.5)      2    7.142857\n",
      "\n",
      "case__average_match_singleton  count  percentage\n",
      "                    [0.0_0.0]     28       100.0\n",
      "\n",
      "case__average_match_value  count  percentage\n",
      "               [0.5_0.67)     17   60.714286\n",
      "               [0.67_inf]     11   39.285714\n",
      "\n",
      "case__average_match_sequence  count  percentage\n",
      "                   [0.0_0.0]     28       100.0\n",
      "\n",
      "case__average_match_mapping  count  percentage\n",
      "                  [0.0_0.0]     28       100.0\n",
      "\n",
      "case__average_match_class  count  percentage\n",
      "                [0.0_inf]     28       100.0\n",
      "\n",
      "case__average_match_star  count  percentage\n",
      "               [0.0_0.0]     28       100.0\n",
      "\n",
      "case__average_match_or  count  percentage\n",
      "             [0.0_0.0]     28       100.0\n",
      "\n",
      "case__average_match_as  count  percentage\n",
      "            [0.34_inf]     12   42.857143\n",
      "             [0.0_0.0]      9   32.142857\n",
      "            [0.0_0.34)      7   25.000000\n",
      "\n",
      "--- TWO FEATURES ---\n",
      "--- THREE FEATURES ---\n"
     ]
    }
   ],
   "execution_count": 8
  },
  {
   "cell_type": "code",
   "id": "1ca9a43e-6db6-44a7-aaab-65f00d1ea79e",
   "metadata": {
    "pycharm": {
     "name": "#%%\n"
    },
    "tags": [],
    "ExecuteTime": {
     "end_time": "2024-05-24T11:12:36.269562Z",
     "start_time": "2024-05-24T11:12:36.263065Z"
    }
   },
   "source": [
    "def normalize_datatypes(X:pd.DataFrame, y:pd.Series) -> (pd.DataFrame, pd.Series, [str]):\n",
    "    X = pd.get_dummies(X)\n",
    "    X = X.astype('float32')\n",
    "    y = y.apply(lambda value: 0 if value == \"BEGINNER\" else 1) # EXPERT will be 1 and BEGINNER will be 0.\n",
    "    y = y.astype('float32')\n",
    "    columns_names = X.columns.tolist()\n",
    "    return X, y, columns_names\n",
    "\n",
    "X, y, TABLE_FEATURES = normalize_datatypes(X, y)\n",
    "# Print information about the loaded table\n",
    "print(f'Features shape: {X.shape}')\n",
    "print(f'Target shape: {y.shape}')"
   ],
   "outputs": [
    {
     "name": "stdout",
     "output_type": "stream",
     "text": [
      "Features shape: (28, 12)\n",
      "Target shape: (28,)\n"
     ]
    }
   ],
   "execution_count": 9
  },
  {
   "cell_type": "markdown",
   "id": "e9fc6a7d9acd9a9e",
   "metadata": {
    "collapsed": false
   },
   "source": [
    "#### Muestra la matriz de correlación de pearson entre las variables de la tabla."
   ]
  },
  {
   "cell_type": "code",
   "id": "70af048034c80af1",
   "metadata": {
    "collapsed": false,
    "ExecuteTime": {
     "end_time": "2024-05-24T11:12:36.685748Z",
     "start_time": "2024-05-24T11:12:36.270569Z"
    }
   },
   "source": [
    "sns.heatmap(X.corr(), annot=True)"
   ],
   "outputs": [
    {
     "data": {
      "text/plain": [
       "<Axes: >"
      ]
     },
     "execution_count": 10,
     "metadata": {},
     "output_type": "execute_result"
    },
    {
     "data": {
      "text/plain": [
       "<Figure size 640x480 with 2 Axes>"
      ],
      "image/png": "[encoded data removed]"
     },
     "metadata": {},
     "output_type": "display_data"
    }
   ],
   "execution_count": 10
  },
  {
   "cell_type": "markdown",
   "id": "9a47cdd4cc2b3fae",
   "metadata": {
    "collapsed": false
   },
   "source": [
    "## 3 - Detección de valores atípicos (outliers)\n",
    "## Univariate\n",
    "## Analisis detallado de variables\n",
    "Para cada una de las 11 variable (11 numericas) se hara un analisis detallado"
   ]
  },
  {
   "metadata": {},
   "cell_type": "markdown",
   "source": [
    "### Variable number_of_cases (1/11)\n",
    "Esta variable es de tipo numérica y nos indica el número de clausulas case en la sentencia. Como vimos en la descripción de la tabla esta varibale adopta valores en el rango 2 - 51. Con una media de 5.17."
   ],
   "id": "b8ac28118b9c7e95"
  },
  {
   "metadata": {
    "ExecuteTime": {
     "end_time": "2024-05-24T11:12:36.800815Z",
     "start_time": "2024-05-24T11:12:36.686753Z"
    }
   },
   "cell_type": "code",
   "source": "sns.stripplot(X['case__number_of_cases'])",
   "id": "5eacddae8fc77a62",
   "outputs": [
    {
     "data": {
      "text/plain": [
       "<Axes: ylabel='case__number_of_cases'>"
      ]
     },
     "execution_count": 11,
     "metadata": {},
     "output_type": "execute_result"
    },
    {
     "data": {
      "text/plain": [
       "<Figure size 640x480 with 1 Axes>"
      ],
      "image/png": "[encoded data removed]"
     },
     "metadata": {},
     "output_type": "display_data"
    }
   ],
   "execution_count": 11
  },
  {
   "metadata": {},
   "cell_type": "markdown",
   "source": [
    "### IMPORTANTE\n",
    "Los valores maximos estan muy alejados del siguiente."
   ],
   "id": "18f8be50be15a73c"
  },
  {
   "metadata": {
    "ExecuteTime": {
     "end_time": "2024-05-24T11:12:36.808032Z",
     "start_time": "2024-05-24T11:12:36.801823Z"
    }
   },
   "cell_type": "code",
   "source": "print_outliers_for_df_column(X, 'case__number_of_cases')",
   "id": "cfc7351841dbaeeb",
   "outputs": [
    {
     "name": "stdout",
     "output_type": "stream",
     "text": [
      "El coeficiente MC (Medcouple Coefficient) de balanceo es: 0.7937734008778234\n",
      "Rango valores atípicos extremos (Tukey): [-4.0,10.0]\n",
      "Rango valores atípicos leves (Tukey): [-1.0,7.0]\n",
      "Rango valores atípicos extremos (Fixed BoxPlot): [1.8135504553191006,75.78717882265299]\n",
      "-3.0IQR: 0 instancias tienen un valor para case__number_of_cases inferior a -4.0 (Q1-3*IQR) para case__number_of_cases. Representando un 0.0% del total de instancias.\n",
      "-1.5IQR: 0 instancias tienen un valor para case__number_of_cases inferior a -1.0 (Q1-1.5*IQR) para case__number_of_cases. Representando un 0.0% del total de instancias.\n",
      "+1.5IQR: 2 instancias tienen un valor para case__number_of_cases superior a 7.0 (Q3+1.5*IQR) para case__number_of_cases. Representando un 7.143% del total de instancias.\n",
      "+3.0IQR: 2 instancias tienen un valor para case__number_of_cases superior a 10.0 (Q3-3*IQR) para case__number_of_cases. Representando un 7.143% del total de instancias.\n",
      "L: 0 instancias tienen un valor para case__number_of_cases inferior a 1.8135504553191006 para case__number_of_cases. Representando un 0.0% del total de instancias.\n",
      "U: 0 instancias tienen un valor para case__number_of_cases superior a 75.78717882265299 para case__number_of_cases. Representando un 0.0% del total de instancias.\n"
     ]
    }
   ],
   "execution_count": 12
  },
  {
   "metadata": {},
   "cell_type": "markdown",
   "source": "Describimos los valores de las variables de la tabla, cuando el valor de la variable es mayor que 10.0 (Con un MC de 79 usamos Tuckey Extremo)",
   "id": "843b1a6a63a56fb9"
  },
  {
   "metadata": {
    "ExecuteTime": {
     "end_time": "2024-05-24T11:12:36.839361Z",
     "start_time": "2024-05-24T11:12:36.809040Z"
    }
   },
   "cell_type": "code",
   "source": "X[X['case__number_of_cases'] > 10].describe(percentiles=[.25, .50, .75], include = ['object', 'float', 'bool', 'int'])",
   "id": "689c534bf17a722e",
   "outputs": [
    {
     "data": {
      "text/plain": [
       "       case__number_of_cases  case__guards  case__average_match_value  \\\n",
       "count               2.000000           2.0                   2.000000   \n",
       "mean               35.000000           0.0                   0.947368   \n",
       "std                22.627417           0.0                   0.074432   \n",
       "min                19.000000           0.0                   0.894737   \n",
       "25%                27.000000           0.0                   0.921053   \n",
       "50%                35.000000           0.0                   0.947368   \n",
       "75%                43.000000           0.0                   0.973684   \n",
       "max                51.000000           0.0                   1.000000   \n",
       "\n",
       "       case__average_body_count  case__average_match_singleton  \\\n",
       "count                  2.000000                            2.0   \n",
       "mean                   1.388029                            0.0   \n",
       "std                    0.493296                            0.0   \n",
       "min                    1.039216                            0.0   \n",
       "25%                    1.213622                            0.0   \n",
       "50%                    1.388029                            0.0   \n",
       "75%                    1.562436                            0.0   \n",
       "max                    1.736842                            0.0   \n",
       "\n",
       "       case__average_match_sequence  case__average_match_mapping  \\\n",
       "count                           2.0                          2.0   \n",
       "mean                            0.0                          0.0   \n",
       "std                             0.0                          0.0   \n",
       "min                             0.0                          0.0   \n",
       "25%                             0.0                          0.0   \n",
       "50%                             0.0                          0.0   \n",
       "75%                             0.0                          0.0   \n",
       "max                             0.0                          0.0   \n",
       "\n",
       "       case__average_match_class  case__average_match_star  \\\n",
       "count                   2.000000                       2.0   \n",
       "mean                    0.026316                       0.0   \n",
       "std                     0.037216                       0.0   \n",
       "min                     0.000000                       0.0   \n",
       "25%                     0.013158                       0.0   \n",
       "50%                     0.026316                       0.0   \n",
       "75%                     0.039474                       0.0   \n",
       "max                     0.052632                       0.0   \n",
       "\n",
       "       case__average_match_as  case__average_match_or  \\\n",
       "count                2.000000                     2.0   \n",
       "mean                 0.026316                     0.0   \n",
       "std                  0.037216                     0.0   \n",
       "min                  0.000000                     0.0   \n",
       "25%                  0.013158                     0.0   \n",
       "50%                  0.026316                     0.0   \n",
       "75%                  0.039474                     0.0   \n",
       "max                  0.052632                     0.0   \n",
       "\n",
       "       case__expertise_level_EXPERT  \n",
       "count                           2.0  \n",
       "mean                            1.0  \n",
       "std                             0.0  \n",
       "min                             1.0  \n",
       "25%                             1.0  \n",
       "50%                             1.0  \n",
       "75%                             1.0  \n",
       "max                             1.0  "
      ],
      "text/html": [
       "<div>\n",
       "<style scoped>\n",
       "    .dataframe tbody tr th:only-of-type {\n",
       "        vertical-align: middle;\n",
       "    }\n",
       "\n",
       "    .dataframe tbody tr th {\n",
       "        vertical-align: top;\n",
       "    }\n",
       "\n",
       "    .dataframe thead th {\n",
       "        text-align: right;\n",
       "    }\n",
       "</style>\n",
       "<table border=\"1\" class=\"dataframe\">\n",
       "  <thead>\n",
       "    <tr style=\"text-align: right;\">\n",
       "      <th></th>\n",
       "      <th>case__number_of_cases</th>\n",
       "      <th>case__guards</th>\n",
       "      <th>case__average_match_value</th>\n",
       "      <th>case__average_body_count</th>\n",
       "      <th>case__average_match_singleton</th>\n",
       "      <th>case__average_match_sequence</th>\n",
       "      <th>case__average_match_mapping</th>\n",
       "      <th>case__average_match_class</th>\n",
       "      <th>case__average_match_star</th>\n",
       "      <th>case__average_match_as</th>\n",
       "      <th>case__average_match_or</th>\n",
       "      <th>case__expertise_level_EXPERT</th>\n",
       "    </tr>\n",
       "  </thead>\n",
       "  <tbody>\n",
       "    <tr>\n",
       "      <th>count</th>\n",
       "      <td>2.000000</td>\n",
       "      <td>2.0</td>\n",
       "      <td>2.000000</td>\n",
       "      <td>2.000000</td>\n",
       "      <td>2.0</td>\n",
       "      <td>2.0</td>\n",
       "      <td>2.0</td>\n",
       "      <td>2.000000</td>\n",
       "      <td>2.0</td>\n",
       "      <td>2.000000</td>\n",
       "      <td>2.0</td>\n",
       "      <td>2.0</td>\n",
       "    </tr>\n",
       "    <tr>\n",
       "      <th>mean</th>\n",
       "      <td>35.000000</td>\n",
       "      <td>0.0</td>\n",
       "      <td>0.947368</td>\n",
       "      <td>1.388029</td>\n",
       "      <td>0.0</td>\n",
       "      <td>0.0</td>\n",
       "      <td>0.0</td>\n",
       "      <td>0.026316</td>\n",
       "      <td>0.0</td>\n",
       "      <td>0.026316</td>\n",
       "      <td>0.0</td>\n",
       "      <td>1.0</td>\n",
       "    </tr>\n",
       "    <tr>\n",
       "      <th>std</th>\n",
       "      <td>22.627417</td>\n",
       "      <td>0.0</td>\n",
       "      <td>0.074432</td>\n",
       "      <td>0.493296</td>\n",
       "      <td>0.0</td>\n",
       "      <td>0.0</td>\n",
       "      <td>0.0</td>\n",
       "      <td>0.037216</td>\n",
       "      <td>0.0</td>\n",
       "      <td>0.037216</td>\n",
       "      <td>0.0</td>\n",
       "      <td>0.0</td>\n",
       "    </tr>\n",
       "    <tr>\n",
       "      <th>min</th>\n",
       "      <td>19.000000</td>\n",
       "      <td>0.0</td>\n",
       "      <td>0.894737</td>\n",
       "      <td>1.039216</td>\n",
       "      <td>0.0</td>\n",
       "      <td>0.0</td>\n",
       "      <td>0.0</td>\n",
       "      <td>0.000000</td>\n",
       "      <td>0.0</td>\n",
       "      <td>0.000000</td>\n",
       "      <td>0.0</td>\n",
       "      <td>1.0</td>\n",
       "    </tr>\n",
       "    <tr>\n",
       "      <th>25%</th>\n",
       "      <td>27.000000</td>\n",
       "      <td>0.0</td>\n",
       "      <td>0.921053</td>\n",
       "      <td>1.213622</td>\n",
       "      <td>0.0</td>\n",
       "      <td>0.0</td>\n",
       "      <td>0.0</td>\n",
       "      <td>0.013158</td>\n",
       "      <td>0.0</td>\n",
       "      <td>0.013158</td>\n",
       "      <td>0.0</td>\n",
       "      <td>1.0</td>\n",
       "    </tr>\n",
       "    <tr>\n",
       "      <th>50%</th>\n",
       "      <td>35.000000</td>\n",
       "      <td>0.0</td>\n",
       "      <td>0.947368</td>\n",
       "      <td>1.388029</td>\n",
       "      <td>0.0</td>\n",
       "      <td>0.0</td>\n",
       "      <td>0.0</td>\n",
       "      <td>0.026316</td>\n",
       "      <td>0.0</td>\n",
       "      <td>0.026316</td>\n",
       "      <td>0.0</td>\n",
       "      <td>1.0</td>\n",
       "    </tr>\n",
       "    <tr>\n",
       "      <th>75%</th>\n",
       "      <td>43.000000</td>\n",
       "      <td>0.0</td>\n",
       "      <td>0.973684</td>\n",
       "      <td>1.562436</td>\n",
       "      <td>0.0</td>\n",
       "      <td>0.0</td>\n",
       "      <td>0.0</td>\n",
       "      <td>0.039474</td>\n",
       "      <td>0.0</td>\n",
       "      <td>0.039474</td>\n",
       "      <td>0.0</td>\n",
       "      <td>1.0</td>\n",
       "    </tr>\n",
       "    <tr>\n",
       "      <th>max</th>\n",
       "      <td>51.000000</td>\n",
       "      <td>0.0</td>\n",
       "      <td>1.000000</td>\n",
       "      <td>1.736842</td>\n",
       "      <td>0.0</td>\n",
       "      <td>0.0</td>\n",
       "      <td>0.0</td>\n",
       "      <td>0.052632</td>\n",
       "      <td>0.0</td>\n",
       "      <td>0.052632</td>\n",
       "      <td>0.0</td>\n",
       "      <td>1.0</td>\n",
       "    </tr>\n",
       "  </tbody>\n",
       "</table>\n",
       "</div>"
      ]
     },
     "execution_count": 13,
     "metadata": {},
     "output_type": "execute_result"
    }
   ],
   "execution_count": 13
  },
  {
   "metadata": {},
   "cell_type": "markdown",
   "source": [
    "### Variable guards (2/11)\n",
    "Esta variable representa el número de guards de la sentencia. Como vimos en la descripción de la tabla esta varibale adopta valores en el rango 0 - 0. Con una media de 0."
   ],
   "id": "8f8a651cfdff0bcd"
  },
  {
   "metadata": {
    "ExecuteTime": {
     "end_time": "2024-05-24T11:12:36.949313Z",
     "start_time": "2024-05-24T11:12:36.842369Z"
    }
   },
   "cell_type": "code",
   "source": "sns.stripplot(X['case__guards'])",
   "id": "1ebb40d57c0b140",
   "outputs": [
    {
     "data": {
      "text/plain": [
       "<Axes: ylabel='case__guards'>"
      ]
     },
     "execution_count": 14,
     "metadata": {},
     "output_type": "execute_result"
    },
    {
     "data": {
      "text/plain": [
       "<Figure size 640x480 with 1 Axes>"
      ],
      "image/png": "[encoded data removed]"
     },
     "metadata": {},
     "output_type": "display_data"
    }
   ],
   "execution_count": 14
  },
  {
   "metadata": {},
   "cell_type": "markdown",
   "source": [
    "### IMPORTANTE\n",
    "\n",
    "Ningún Match tiene Guard. Esta variable toma siempre 0 como valor."
   ],
   "id": "921f450151cf85e1"
  },
  {
   "metadata": {},
   "cell_type": "markdown",
   "source": [
    "### Variable average_body_count (3/11)\n",
    "Esta variable representa el número medio de sentencias en el cuerpo de los case. Como vimos en la descripción de la tabla esta varibale adopta valores en el rango 1.0 - 3.0. Con una media de 1.91."
   ],
   "id": "2a00f5be59e6d4a9"
  },
  {
   "metadata": {
    "ExecuteTime": {
     "end_time": "2024-05-24T11:12:37.078895Z",
     "start_time": "2024-05-24T11:12:36.950324Z"
    }
   },
   "cell_type": "code",
   "source": "sns.stripplot(X['case__average_body_count'])",
   "id": "bcf42c4ca6fb0146",
   "outputs": [
    {
     "data": {
      "text/plain": [
       "<Axes: ylabel='case__average_body_count'>"
      ]
     },
     "execution_count": 15,
     "metadata": {},
     "output_type": "execute_result"
    },
    {
     "data": {
      "text/plain": [
       "<Figure size 640x480 with 1 Axes>"
      ],
      "image/png": "[encoded data removed]"
     },
     "metadata": {},
     "output_type": "display_data"
    }
   ],
   "execution_count": 15
  },
  {
   "metadata": {
    "ExecuteTime": {
     "end_time": "2024-05-24T11:12:37.086868Z",
     "start_time": "2024-05-24T11:12:37.079902Z"
    }
   },
   "cell_type": "code",
   "source": "print_outliers_for_df_column(X, 'case__average_body_count')",
   "id": "2be67c4ab421c8b0",
   "outputs": [
    {
     "name": "stdout",
     "output_type": "stream",
     "text": [
      "El coeficiente MC (Medcouple Coefficient) de balanceo es: -0.08656095061563274\n",
      "Rango valores atípicos extremos (Tukey): [-2.86078417301178,6.520588129758835]\n",
      "Rango valores atípicos leves (Tukey): [-0.8504901081323624,4.510294064879417]\n",
      "Rango valores atípicos extremos (Fixed BoxPlot): [-1.6822437468867575,3.9848558326486265]\n",
      "-3.0IQR: 0 instancias tienen un valor para case__average_body_count inferior a -2.86078417301178 (Q1-3*IQR) para case__average_body_count. Representando un 0.0% del total de instancias.\n",
      "-1.5IQR: 0 instancias tienen un valor para case__average_body_count inferior a -0.8504901081323624 (Q1-1.5*IQR) para case__average_body_count. Representando un 0.0% del total de instancias.\n",
      "+1.5IQR: 0 instancias tienen un valor para case__average_body_count superior a 4.510294064879417 (Q3+1.5*IQR) para case__average_body_count. Representando un 0.0% del total de instancias.\n",
      "+3.0IQR: 0 instancias tienen un valor para case__average_body_count superior a 6.520588129758835 (Q3-3*IQR) para case__average_body_count. Representando un 0.0% del total de instancias.\n",
      "L: 0 instancias tienen un valor para case__average_body_count inferior a -1.6822437468867575 para case__average_body_count. Representando un 0.0% del total de instancias.\n",
      "U: 0 instancias tienen un valor para case__average_body_count superior a 3.9848558326486265 para case__average_body_count. Representando un 0.0% del total de instancias.\n"
     ]
    }
   ],
   "execution_count": 16
  },
  {
   "metadata": {
    "ExecuteTime": {
     "end_time": "2024-05-24T11:12:37.117497Z",
     "start_time": "2024-05-24T11:12:37.087874Z"
    }
   },
   "cell_type": "code",
   "source": "X[X['case__average_body_count'] ==  1].describe(percentiles=[.25, .50, .75], include = ['object', 'float', 'bool', 'int'])",
   "id": "ad1049f623d1e003",
   "outputs": [
    {
     "data": {
      "text/plain": [
       "       case__number_of_cases  case__guards  case__average_match_value  \\\n",
       "count               6.000000           6.0                        6.0   \n",
       "mean                3.833333           0.0                        1.0   \n",
       "std                 0.408248           0.0                        0.0   \n",
       "min                 3.000000           0.0                        1.0   \n",
       "25%                 4.000000           0.0                        1.0   \n",
       "50%                 4.000000           0.0                        1.0   \n",
       "75%                 4.000000           0.0                        1.0   \n",
       "max                 4.000000           0.0                        1.0   \n",
       "\n",
       "       case__average_body_count  case__average_match_singleton  \\\n",
       "count                       6.0                            6.0   \n",
       "mean                        1.0                            0.0   \n",
       "std                         0.0                            0.0   \n",
       "min                         1.0                            0.0   \n",
       "25%                         1.0                            0.0   \n",
       "50%                         1.0                            0.0   \n",
       "75%                         1.0                            0.0   \n",
       "max                         1.0                            0.0   \n",
       "\n",
       "       case__average_match_sequence  case__average_match_mapping  \\\n",
       "count                           6.0                          6.0   \n",
       "mean                            0.0                          0.0   \n",
       "std                             0.0                          0.0   \n",
       "min                             0.0                          0.0   \n",
       "25%                             0.0                          0.0   \n",
       "50%                             0.0                          0.0   \n",
       "75%                             0.0                          0.0   \n",
       "max                             0.0                          0.0   \n",
       "\n",
       "       case__average_match_class  case__average_match_star  \\\n",
       "count                        6.0                       6.0   \n",
       "mean                         0.0                       0.0   \n",
       "std                          0.0                       0.0   \n",
       "min                          0.0                       0.0   \n",
       "25%                          0.0                       0.0   \n",
       "50%                          0.0                       0.0   \n",
       "75%                          0.0                       0.0   \n",
       "max                          0.0                       0.0   \n",
       "\n",
       "       case__average_match_as  case__average_match_or  \\\n",
       "count                     6.0                     6.0   \n",
       "mean                      0.0                     0.0   \n",
       "std                       0.0                     0.0   \n",
       "min                       0.0                     0.0   \n",
       "25%                       0.0                     0.0   \n",
       "50%                       0.0                     0.0   \n",
       "75%                       0.0                     0.0   \n",
       "max                       0.0                     0.0   \n",
       "\n",
       "       case__expertise_level_EXPERT  \n",
       "count                           6.0  \n",
       "mean                            1.0  \n",
       "std                             0.0  \n",
       "min                             1.0  \n",
       "25%                             1.0  \n",
       "50%                             1.0  \n",
       "75%                             1.0  \n",
       "max                             1.0  "
      ],
      "text/html": [
       "<div>\n",
       "<style scoped>\n",
       "    .dataframe tbody tr th:only-of-type {\n",
       "        vertical-align: middle;\n",
       "    }\n",
       "\n",
       "    .dataframe tbody tr th {\n",
       "        vertical-align: top;\n",
       "    }\n",
       "\n",
       "    .dataframe thead th {\n",
       "        text-align: right;\n",
       "    }\n",
       "</style>\n",
       "<table border=\"1\" class=\"dataframe\">\n",
       "  <thead>\n",
       "    <tr style=\"text-align: right;\">\n",
       "      <th></th>\n",
       "      <th>case__number_of_cases</th>\n",
       "      <th>case__guards</th>\n",
       "      <th>case__average_match_value</th>\n",
       "      <th>case__average_body_count</th>\n",
       "      <th>case__average_match_singleton</th>\n",
       "      <th>case__average_match_sequence</th>\n",
       "      <th>case__average_match_mapping</th>\n",
       "      <th>case__average_match_class</th>\n",
       "      <th>case__average_match_star</th>\n",
       "      <th>case__average_match_as</th>\n",
       "      <th>case__average_match_or</th>\n",
       "      <th>case__expertise_level_EXPERT</th>\n",
       "    </tr>\n",
       "  </thead>\n",
       "  <tbody>\n",
       "    <tr>\n",
       "      <th>count</th>\n",
       "      <td>6.000000</td>\n",
       "      <td>6.0</td>\n",
       "      <td>6.0</td>\n",
       "      <td>6.0</td>\n",
       "      <td>6.0</td>\n",
       "      <td>6.0</td>\n",
       "      <td>6.0</td>\n",
       "      <td>6.0</td>\n",
       "      <td>6.0</td>\n",
       "      <td>6.0</td>\n",
       "      <td>6.0</td>\n",
       "      <td>6.0</td>\n",
       "    </tr>\n",
       "    <tr>\n",
       "      <th>mean</th>\n",
       "      <td>3.833333</td>\n",
       "      <td>0.0</td>\n",
       "      <td>1.0</td>\n",
       "      <td>1.0</td>\n",
       "      <td>0.0</td>\n",
       "      <td>0.0</td>\n",
       "      <td>0.0</td>\n",
       "      <td>0.0</td>\n",
       "      <td>0.0</td>\n",
       "      <td>0.0</td>\n",
       "      <td>0.0</td>\n",
       "      <td>1.0</td>\n",
       "    </tr>\n",
       "    <tr>\n",
       "      <th>std</th>\n",
       "      <td>0.408248</td>\n",
       "      <td>0.0</td>\n",
       "      <td>0.0</td>\n",
       "      <td>0.0</td>\n",
       "      <td>0.0</td>\n",
       "      <td>0.0</td>\n",
       "      <td>0.0</td>\n",
       "      <td>0.0</td>\n",
       "      <td>0.0</td>\n",
       "      <td>0.0</td>\n",
       "      <td>0.0</td>\n",
       "      <td>0.0</td>\n",
       "    </tr>\n",
       "    <tr>\n",
       "      <th>min</th>\n",
       "      <td>3.000000</td>\n",
       "      <td>0.0</td>\n",
       "      <td>1.0</td>\n",
       "      <td>1.0</td>\n",
       "      <td>0.0</td>\n",
       "      <td>0.0</td>\n",
       "      <td>0.0</td>\n",
       "      <td>0.0</td>\n",
       "      <td>0.0</td>\n",
       "      <td>0.0</td>\n",
       "      <td>0.0</td>\n",
       "      <td>1.0</td>\n",
       "    </tr>\n",
       "    <tr>\n",
       "      <th>25%</th>\n",
       "      <td>4.000000</td>\n",
       "      <td>0.0</td>\n",
       "      <td>1.0</td>\n",
       "      <td>1.0</td>\n",
       "      <td>0.0</td>\n",
       "      <td>0.0</td>\n",
       "      <td>0.0</td>\n",
       "      <td>0.0</td>\n",
       "      <td>0.0</td>\n",
       "      <td>0.0</td>\n",
       "      <td>0.0</td>\n",
       "      <td>1.0</td>\n",
       "    </tr>\n",
       "    <tr>\n",
       "      <th>50%</th>\n",
       "      <td>4.000000</td>\n",
       "      <td>0.0</td>\n",
       "      <td>1.0</td>\n",
       "      <td>1.0</td>\n",
       "      <td>0.0</td>\n",
       "      <td>0.0</td>\n",
       "      <td>0.0</td>\n",
       "      <td>0.0</td>\n",
       "      <td>0.0</td>\n",
       "      <td>0.0</td>\n",
       "      <td>0.0</td>\n",
       "      <td>1.0</td>\n",
       "    </tr>\n",
       "    <tr>\n",
       "      <th>75%</th>\n",
       "      <td>4.000000</td>\n",
       "      <td>0.0</td>\n",
       "      <td>1.0</td>\n",
       "      <td>1.0</td>\n",
       "      <td>0.0</td>\n",
       "      <td>0.0</td>\n",
       "      <td>0.0</td>\n",
       "      <td>0.0</td>\n",
       "      <td>0.0</td>\n",
       "      <td>0.0</td>\n",
       "      <td>0.0</td>\n",
       "      <td>1.0</td>\n",
       "    </tr>\n",
       "    <tr>\n",
       "      <th>max</th>\n",
       "      <td>4.000000</td>\n",
       "      <td>0.0</td>\n",
       "      <td>1.0</td>\n",
       "      <td>1.0</td>\n",
       "      <td>0.0</td>\n",
       "      <td>0.0</td>\n",
       "      <td>0.0</td>\n",
       "      <td>0.0</td>\n",
       "      <td>0.0</td>\n",
       "      <td>0.0</td>\n",
       "      <td>0.0</td>\n",
       "      <td>1.0</td>\n",
       "    </tr>\n",
       "  </tbody>\n",
       "</table>\n",
       "</div>"
      ]
     },
     "execution_count": 17,
     "metadata": {},
     "output_type": "execute_result"
    }
   ],
   "execution_count": 17
  },
  {
   "metadata": {},
   "cell_type": "markdown",
   "source": [
    "### IMPORTANTE\n",
    "Nada que destacar"
   ],
   "id": "79d6ce0a5385a71b"
  },
  {
   "metadata": {},
   "cell_type": "markdown",
   "source": [
    "### Variable average_match_value (4/11)\n",
    "Esta variable es de tipo numérica y nos indica el número medio de cases del tipo Value. Como vimos en la descripción de la tabla esta varibale adopta valores en el rango 0.5 - 1. Con una media de 0.71."
   ],
   "id": "37d55a98f9df4be"
  },
  {
   "metadata": {
    "ExecuteTime": {
     "end_time": "2024-05-24T11:12:37.226232Z",
     "start_time": "2024-05-24T11:12:37.118506Z"
    }
   },
   "cell_type": "code",
   "source": "sns.stripplot(X['case__average_match_value'])",
   "id": "8d7027a78ac296ed",
   "outputs": [
    {
     "data": {
      "text/plain": [
       "<Axes: ylabel='case__average_match_value'>"
      ]
     },
     "execution_count": 18,
     "metadata": {},
     "output_type": "execute_result"
    },
    {
     "data": {
      "text/plain": [
       "<Figure size 640x480 with 1 Axes>"
      ],
      "image/png": "[encoded data removed]"
     },
     "metadata": {},
     "output_type": "display_data"
    }
   ],
   "execution_count": 18
  },
  {
   "metadata": {
    "ExecuteTime": {
     "end_time": "2024-05-24T11:12:37.235618Z",
     "start_time": "2024-05-24T11:12:37.227245Z"
    }
   },
   "cell_type": "code",
   "source": "print_outliers_for_df_column(X, 'case__average_match_value')",
   "id": "98d831dcd0eeee02",
   "outputs": [
    {
     "name": "stdout",
     "output_type": "stream",
     "text": [
      "El coeficiente MC (Medcouple Coefficient) de balanceo es: 0.2360903024673462\n",
      "Rango valores atípicos extremos (Tukey): [-1.0,2.5]\n",
      "Rango valores atípicos leves (Tukey): [-0.25,1.75]\n",
      "Rango valores atípicos extremos (Fixed BoxPlot): [0.17175602835051534,2.9283778117032297]\n",
      "-3.0IQR: 0 instancias tienen un valor para case__average_match_value inferior a -1.0 (Q1-3*IQR) para case__average_match_value. Representando un 0.0% del total de instancias.\n",
      "-1.5IQR: 0 instancias tienen un valor para case__average_match_value inferior a -0.25 (Q1-1.5*IQR) para case__average_match_value. Representando un 0.0% del total de instancias.\n",
      "+1.5IQR: 0 instancias tienen un valor para case__average_match_value superior a 1.75 (Q3+1.5*IQR) para case__average_match_value. Representando un 0.0% del total de instancias.\n",
      "+3.0IQR: 0 instancias tienen un valor para case__average_match_value superior a 2.5 (Q3-3*IQR) para case__average_match_value. Representando un 0.0% del total de instancias.\n",
      "L: 0 instancias tienen un valor para case__average_match_value inferior a 0.17175602835051534 para case__average_match_value. Representando un 0.0% del total de instancias.\n",
      "U: 0 instancias tienen un valor para case__average_match_value superior a 2.9283778117032297 para case__average_match_value. Representando un 0.0% del total de instancias.\n"
     ]
    }
   ],
   "execution_count": 19
  },
  {
   "metadata": {
    "ExecuteTime": {
     "end_time": "2024-05-24T11:12:37.270003Z",
     "start_time": "2024-05-24T11:12:37.236630Z"
    }
   },
   "cell_type": "code",
   "source": "X[X['case__average_match_value'] == 1.0].describe(percentiles=[.25, .50, .75], include = ['object', 'float', 'bool', 'int'])",
   "id": "74dd9804c97aef00",
   "outputs": [
    {
     "data": {
      "text/plain": [
       "       case__number_of_cases  case__guards  case__average_match_value  \\\n",
       "count               9.000000           9.0                        9.0   \n",
       "mean                9.111111           0.0                        1.0   \n",
       "std                15.711815           0.0                        0.0   \n",
       "min                 3.000000           0.0                        1.0   \n",
       "25%                 4.000000           0.0                        1.0   \n",
       "50%                 4.000000           0.0                        1.0   \n",
       "75%                 4.000000           0.0                        1.0   \n",
       "max                51.000000           0.0                        1.0   \n",
       "\n",
       "       case__average_body_count  case__average_match_singleton  \\\n",
       "count                  9.000000                            9.0   \n",
       "mean                   1.337691                            0.0   \n",
       "std                    0.704913                            0.0   \n",
       "min                    1.000000                            0.0   \n",
       "25%                    1.000000                            0.0   \n",
       "50%                    1.000000                            0.0   \n",
       "75%                    1.039216                            0.0   \n",
       "max                    3.000000                            0.0   \n",
       "\n",
       "       case__average_match_sequence  case__average_match_mapping  \\\n",
       "count                           9.0                          9.0   \n",
       "mean                            0.0                          0.0   \n",
       "std                             0.0                          0.0   \n",
       "min                             0.0                          0.0   \n",
       "25%                             0.0                          0.0   \n",
       "50%                             0.0                          0.0   \n",
       "75%                             0.0                          0.0   \n",
       "max                             0.0                          0.0   \n",
       "\n",
       "       case__average_match_class  case__average_match_star  \\\n",
       "count                        9.0                       9.0   \n",
       "mean                         0.0                       0.0   \n",
       "std                          0.0                       0.0   \n",
       "min                          0.0                       0.0   \n",
       "25%                          0.0                       0.0   \n",
       "50%                          0.0                       0.0   \n",
       "75%                          0.0                       0.0   \n",
       "max                          0.0                       0.0   \n",
       "\n",
       "       case__average_match_as  case__average_match_or  \\\n",
       "count                     9.0                     9.0   \n",
       "mean                      0.0                     0.0   \n",
       "std                       0.0                     0.0   \n",
       "min                       0.0                     0.0   \n",
       "25%                       0.0                     0.0   \n",
       "50%                       0.0                     0.0   \n",
       "75%                       0.0                     0.0   \n",
       "max                       0.0                     0.0   \n",
       "\n",
       "       case__expertise_level_EXPERT  \n",
       "count                           9.0  \n",
       "mean                            1.0  \n",
       "std                             0.0  \n",
       "min                             1.0  \n",
       "25%                             1.0  \n",
       "50%                             1.0  \n",
       "75%                             1.0  \n",
       "max                             1.0  "
      ],
      "text/html": [
       "<div>\n",
       "<style scoped>\n",
       "    .dataframe tbody tr th:only-of-type {\n",
       "        vertical-align: middle;\n",
       "    }\n",
       "\n",
       "    .dataframe tbody tr th {\n",
       "        vertical-align: top;\n",
       "    }\n",
       "\n",
       "    .dataframe thead th {\n",
       "        text-align: right;\n",
       "    }\n",
       "</style>\n",
       "<table border=\"1\" class=\"dataframe\">\n",
       "  <thead>\n",
       "    <tr style=\"text-align: right;\">\n",
       "      <th></th>\n",
       "      <th>case__number_of_cases</th>\n",
       "      <th>case__guards</th>\n",
       "      <th>case__average_match_value</th>\n",
       "      <th>case__average_body_count</th>\n",
       "      <th>case__average_match_singleton</th>\n",
       "      <th>case__average_match_sequence</th>\n",
       "      <th>case__average_match_mapping</th>\n",
       "      <th>case__average_match_class</th>\n",
       "      <th>case__average_match_star</th>\n",
       "      <th>case__average_match_as</th>\n",
       "      <th>case__average_match_or</th>\n",
       "      <th>case__expertise_level_EXPERT</th>\n",
       "    </tr>\n",
       "  </thead>\n",
       "  <tbody>\n",
       "    <tr>\n",
       "      <th>count</th>\n",
       "      <td>9.000000</td>\n",
       "      <td>9.0</td>\n",
       "      <td>9.0</td>\n",
       "      <td>9.000000</td>\n",
       "      <td>9.0</td>\n",
       "      <td>9.0</td>\n",
       "      <td>9.0</td>\n",
       "      <td>9.0</td>\n",
       "      <td>9.0</td>\n",
       "      <td>9.0</td>\n",
       "      <td>9.0</td>\n",
       "      <td>9.0</td>\n",
       "    </tr>\n",
       "    <tr>\n",
       "      <th>mean</th>\n",
       "      <td>9.111111</td>\n",
       "      <td>0.0</td>\n",
       "      <td>1.0</td>\n",
       "      <td>1.337691</td>\n",
       "      <td>0.0</td>\n",
       "      <td>0.0</td>\n",
       "      <td>0.0</td>\n",
       "      <td>0.0</td>\n",
       "      <td>0.0</td>\n",
       "      <td>0.0</td>\n",
       "      <td>0.0</td>\n",
       "      <td>1.0</td>\n",
       "    </tr>\n",
       "    <tr>\n",
       "      <th>std</th>\n",
       "      <td>15.711815</td>\n",
       "      <td>0.0</td>\n",
       "      <td>0.0</td>\n",
       "      <td>0.704913</td>\n",
       "      <td>0.0</td>\n",
       "      <td>0.0</td>\n",
       "      <td>0.0</td>\n",
       "      <td>0.0</td>\n",
       "      <td>0.0</td>\n",
       "      <td>0.0</td>\n",
       "      <td>0.0</td>\n",
       "      <td>0.0</td>\n",
       "    </tr>\n",
       "    <tr>\n",
       "      <th>min</th>\n",
       "      <td>3.000000</td>\n",
       "      <td>0.0</td>\n",
       "      <td>1.0</td>\n",
       "      <td>1.000000</td>\n",
       "      <td>0.0</td>\n",
       "      <td>0.0</td>\n",
       "      <td>0.0</td>\n",
       "      <td>0.0</td>\n",
       "      <td>0.0</td>\n",
       "      <td>0.0</td>\n",
       "      <td>0.0</td>\n",
       "      <td>1.0</td>\n",
       "    </tr>\n",
       "    <tr>\n",
       "      <th>25%</th>\n",
       "      <td>4.000000</td>\n",
       "      <td>0.0</td>\n",
       "      <td>1.0</td>\n",
       "      <td>1.000000</td>\n",
       "      <td>0.0</td>\n",
       "      <td>0.0</td>\n",
       "      <td>0.0</td>\n",
       "      <td>0.0</td>\n",
       "      <td>0.0</td>\n",
       "      <td>0.0</td>\n",
       "      <td>0.0</td>\n",
       "      <td>1.0</td>\n",
       "    </tr>\n",
       "    <tr>\n",
       "      <th>50%</th>\n",
       "      <td>4.000000</td>\n",
       "      <td>0.0</td>\n",
       "      <td>1.0</td>\n",
       "      <td>1.000000</td>\n",
       "      <td>0.0</td>\n",
       "      <td>0.0</td>\n",
       "      <td>0.0</td>\n",
       "      <td>0.0</td>\n",
       "      <td>0.0</td>\n",
       "      <td>0.0</td>\n",
       "      <td>0.0</td>\n",
       "      <td>1.0</td>\n",
       "    </tr>\n",
       "    <tr>\n",
       "      <th>75%</th>\n",
       "      <td>4.000000</td>\n",
       "      <td>0.0</td>\n",
       "      <td>1.0</td>\n",
       "      <td>1.039216</td>\n",
       "      <td>0.0</td>\n",
       "      <td>0.0</td>\n",
       "      <td>0.0</td>\n",
       "      <td>0.0</td>\n",
       "      <td>0.0</td>\n",
       "      <td>0.0</td>\n",
       "      <td>0.0</td>\n",
       "      <td>1.0</td>\n",
       "    </tr>\n",
       "    <tr>\n",
       "      <th>max</th>\n",
       "      <td>51.000000</td>\n",
       "      <td>0.0</td>\n",
       "      <td>1.0</td>\n",
       "      <td>3.000000</td>\n",
       "      <td>0.0</td>\n",
       "      <td>0.0</td>\n",
       "      <td>0.0</td>\n",
       "      <td>0.0</td>\n",
       "      <td>0.0</td>\n",
       "      <td>0.0</td>\n",
       "      <td>0.0</td>\n",
       "      <td>1.0</td>\n",
       "    </tr>\n",
       "  </tbody>\n",
       "</table>\n",
       "</div>"
      ]
     },
     "execution_count": 20,
     "metadata": {},
     "output_type": "execute_result"
    }
   ],
   "execution_count": 20
  },
  {
   "metadata": {},
   "cell_type": "markdown",
   "source": [
    "### IMPORTANTE\n",
    "Nada que destacar"
   ],
   "id": "d7e4d0d00443ebeb"
  },
  {
   "metadata": {},
   "cell_type": "markdown",
   "source": [
    "### Variable average_match_singleton (5/11)\n",
    "Esta variable representa el número medio de cases del tipo Singleton. Como vimos en la descripción de la tabla esta varibale adopta valores en el rango 0 - 0. Con una media de 0."
   ],
   "id": "74a364b12d66460"
  },
  {
   "metadata": {
    "ExecuteTime": {
     "end_time": "2024-05-24T11:12:37.380099Z",
     "start_time": "2024-05-24T11:12:37.271010Z"
    }
   },
   "cell_type": "code",
   "source": "sns.stripplot(X['case__average_match_singleton'])",
   "id": "3dae5f2949cc98c8",
   "outputs": [
    {
     "data": {
      "text/plain": [
       "<Axes: ylabel='case__average_match_singleton'>"
      ]
     },
     "execution_count": 21,
     "metadata": {},
     "output_type": "execute_result"
    },
    {
     "data": {
      "text/plain": [
       "<Figure size 640x480 with 1 Axes>"
      ],
      "image/png": "[encoded data removed]"
     },
     "metadata": {},
     "output_type": "display_data"
    }
   ],
   "execution_count": 21
  },
  {
   "metadata": {},
   "cell_type": "markdown",
   "source": [
    "### IMPORTANTE \n",
    "\n",
    "No hay ningún Match que incluya un MatchSingleton. Esta variable toma siempre el valor 0"
   ],
   "id": "3dce1e1bed27cf50"
  },
  {
   "metadata": {},
   "cell_type": "markdown",
   "source": [
    "### Variable average_match_sequence (6/11)\n",
    "Esta variable representa el número medio de cases del tipo Sequence. Como vimos en la descripción de la tabla esta varibale adopta valores en el rango 0 - 0. Con una media de 0."
   ],
   "id": "9032f6eaada7c93d"
  },
  {
   "metadata": {
    "ExecuteTime": {
     "end_time": "2024-05-24T11:12:37.554577Z",
     "start_time": "2024-05-24T11:12:37.381108Z"
    }
   },
   "cell_type": "code",
   "source": "sns.stripplot(X['case__average_match_sequence'])",
   "id": "e1f649ef9f04ad81",
   "outputs": [
    {
     "data": {
      "text/plain": [
       "<Axes: ylabel='case__average_match_sequence'>"
      ]
     },
     "execution_count": 22,
     "metadata": {},
     "output_type": "execute_result"
    },
    {
     "data": {
      "text/plain": [
       "<Figure size 640x480 with 1 Axes>"
      ],
      "image/png": "[encoded data removed]"
     },
     "metadata": {},
     "output_type": "display_data"
    }
   ],
   "execution_count": 22
  },
  {
   "metadata": {},
   "cell_type": "markdown",
   "source": [
    "### IMPORTANTE \n",
    "\n",
    "No hay ningún Match que incluya un MatchSequence. Esta variable toma siempre el valor 0"
   ],
   "id": "d54177876055a9cf"
  },
  {
   "metadata": {},
   "cell_type": "markdown",
   "source": [
    "### Variable average_match_mapping (7/11)\n",
    "Esta variable representa el número medio de cases del tipo Mapping. Como vimos en la descripción de la tabla esta varibale adopta valores en el rango 0 - 0. Con una media de 0."
   ],
   "id": "cb291616ab130f4"
  },
  {
   "metadata": {
    "ExecuteTime": {
     "end_time": "2024-05-24T11:12:37.664083Z",
     "start_time": "2024-05-24T11:12:37.555586Z"
    }
   },
   "cell_type": "code",
   "source": "sns.stripplot(X['case__average_match_mapping'])",
   "id": "1988bff47329ed6d",
   "outputs": [
    {
     "data": {
      "text/plain": [
       "<Axes: ylabel='case__average_match_mapping'>"
      ]
     },
     "execution_count": 23,
     "metadata": {},
     "output_type": "execute_result"
    },
    {
     "data": {
      "text/plain": [
       "<Figure size 640x480 with 1 Axes>"
      ],
      "image/png": "[encoded data removed]"
     },
     "metadata": {},
     "output_type": "display_data"
    }
   ],
   "execution_count": 23
  },
  {
   "metadata": {},
   "cell_type": "markdown",
   "source": [
    "### IMPORTANTE \n",
    "\n",
    "No hay ningún Match que incluya un MatchMapping. Esta variable toma siempre el valor 0"
   ],
   "id": "df61ab713760f765"
  },
  {
   "metadata": {},
   "cell_type": "markdown",
   "source": [
    "### Variable average_match_star (8/11)\n",
    "Esta variable representa el número medio de cases del tipo Star. Como vimos en la descripción de la tabla esta varibale adopta valores en el rango 0 - 0. Con una media de 0."
   ],
   "id": "b6563d37abf20455"
  },
  {
   "metadata": {
    "ExecuteTime": {
     "end_time": "2024-05-24T11:12:37.767036Z",
     "start_time": "2024-05-24T11:12:37.665091Z"
    }
   },
   "cell_type": "code",
   "source": "sns.stripplot(X['case__average_match_star'])",
   "id": "961c8b5f9f09d75a",
   "outputs": [
    {
     "data": {
      "text/plain": [
       "<Axes: ylabel='case__average_match_star'>"
      ]
     },
     "execution_count": 24,
     "metadata": {},
     "output_type": "execute_result"
    },
    {
     "data": {
      "text/plain": [
       "<Figure size 640x480 with 1 Axes>"
      ],
      "image/png": "[encoded data removed]"
     },
     "metadata": {},
     "output_type": "display_data"
    }
   ],
   "execution_count": 24
  },
  {
   "metadata": {},
   "cell_type": "markdown",
   "source": [
    "### IMPORTANTE \n",
    "\n",
    "No hay ningún Match que incluya un MatchStar. Esta variable toma siempre el valor 0"
   ],
   "id": "fb1feae69cdb6c79"
  },
  {
   "metadata": {},
   "cell_type": "markdown",
   "source": [
    "### Variable average_match_or (9/11)\n",
    "Esta variable representa el número medio de cases del tipo Or. Como vimos en la descripción de la tabla esta varibale adopta valores en el rango 0 - 0. Con una media de 0."
   ],
   "id": "15bd4ae1fcaedc27"
  },
  {
   "metadata": {
    "ExecuteTime": {
     "end_time": "2024-05-24T11:12:37.868178Z",
     "start_time": "2024-05-24T11:12:37.768047Z"
    }
   },
   "cell_type": "code",
   "source": "sns.stripplot(X['case__average_match_or'])",
   "id": "a4335ea19b522b9a",
   "outputs": [
    {
     "data": {
      "text/plain": [
       "<Axes: ylabel='case__average_match_or'>"
      ]
     },
     "execution_count": 25,
     "metadata": {},
     "output_type": "execute_result"
    },
    {
     "data": {
      "text/plain": [
       "<Figure size 640x480 with 1 Axes>"
      ],
      "image/png": "[encoded data removed]"
     },
     "metadata": {},
     "output_type": "display_data"
    }
   ],
   "execution_count": 25
  },
  {
   "metadata": {},
   "cell_type": "markdown",
   "source": [
    "### IMPORTANTE \n",
    "\n",
    "No hay ningún Match que incluya un MatchOr. Esta variable toma siempre el valor 0"
   ],
   "id": "4b6940314359c429"
  },
  {
   "metadata": {},
   "cell_type": "markdown",
   "source": [
    "### Variable average_match_class (10/11)\n",
    "Esta variable es de tipo numérica y nos indica el número medio de cases del tipo Match. Como vimos en la descripción de la tabla esta varibale adopta valores en el rango 0.0 - 0.052. Con una media de 0.0018."
   ],
   "id": "536d3b7331c8f4b3"
  },
  {
   "metadata": {
    "ExecuteTime": {
     "end_time": "2024-05-24T11:12:37.988290Z",
     "start_time": "2024-05-24T11:12:37.869188Z"
    }
   },
   "cell_type": "code",
   "source": "sns.stripplot(X['case__average_match_class'])",
   "id": "ad75d8a6c692faa9",
   "outputs": [
    {
     "data": {
      "text/plain": [
       "<Axes: ylabel='case__average_match_class'>"
      ]
     },
     "execution_count": 26,
     "metadata": {},
     "output_type": "execute_result"
    },
    {
     "data": {
      "text/plain": [
       "<Figure size 640x480 with 1 Axes>"
      ],
      "image/png": "[encoded data removed]"
     },
     "metadata": {},
     "output_type": "display_data"
    }
   ],
   "execution_count": 26
  },
  {
   "metadata": {
    "ExecuteTime": {
     "end_time": "2024-05-24T11:12:37.996052Z",
     "start_time": "2024-05-24T11:12:37.989314Z"
    }
   },
   "cell_type": "code",
   "source": "print_outliers_for_df_column(X, 'case__average_match_class')",
   "id": "df9e06335bf9b04d",
   "outputs": [
    {
     "name": "stdout",
     "output_type": "stream",
     "text": [
      "El coeficiente MC (Medcouple Coefficient) de balanceo es: 0.8876517393053823\n",
      "Rango valores atípicos extremos (Tukey): [0.0,0.0]\n",
      "Rango valores atípicos leves (Tukey): [0.0,0.0]\n",
      "Rango valores atípicos extremos (Fixed BoxPlot): [0.0,0.0]\n",
      "-3.0IQR: 0 instancias tienen un valor para case__average_match_class inferior a 0.0 (Q1-3*IQR) para case__average_match_class. Representando un 0.0% del total de instancias.\n",
      "-1.5IQR: 0 instancias tienen un valor para case__average_match_class inferior a 0.0 (Q1-1.5*IQR) para case__average_match_class. Representando un 0.0% del total de instancias.\n",
      "+1.5IQR: 1 instancias tienen un valor para case__average_match_class superior a 0.0 (Q3+1.5*IQR) para case__average_match_class. Representando un 3.571% del total de instancias.\n",
      "+3.0IQR: 1 instancias tienen un valor para case__average_match_class superior a 0.0 (Q3-3*IQR) para case__average_match_class. Representando un 3.571% del total de instancias.\n",
      "L: 0 instancias tienen un valor para case__average_match_class inferior a 0.0 para case__average_match_class. Representando un 0.0% del total de instancias.\n",
      "U: 1 instancias tienen un valor para case__average_match_class superior a 0.0 para case__average_match_class. Representando un 3.571% del total de instancias.\n"
     ]
    }
   ],
   "execution_count": 27
  },
  {
   "metadata": {},
   "cell_type": "markdown",
   "source": "Describimos los valores de las variables de la tabla, cuando el valor de la variable es mayor que 0 (Todos los umbrales son 0)",
   "id": "78ee3aae73676556"
  },
  {
   "metadata": {
    "ExecuteTime": {
     "end_time": "2024-05-24T11:12:38.028325Z",
     "start_time": "2024-05-24T11:12:37.997063Z"
    }
   },
   "cell_type": "code",
   "source": "X[X['case__average_match_class'] > 0.0].describe(percentiles=[.25, .50, .75], include = ['object', 'float', 'bool', 'int'])",
   "id": "c30bf87d7e1a6c58",
   "outputs": [
    {
     "data": {
      "text/plain": [
       "       case__number_of_cases  case__guards  case__average_match_value  \\\n",
       "count                    1.0           1.0                   1.000000   \n",
       "mean                    19.0           0.0                   0.894737   \n",
       "std                      NaN           NaN                        NaN   \n",
       "min                     19.0           0.0                   0.894737   \n",
       "25%                     19.0           0.0                   0.894737   \n",
       "50%                     19.0           0.0                   0.894737   \n",
       "75%                     19.0           0.0                   0.894737   \n",
       "max                     19.0           0.0                   0.894737   \n",
       "\n",
       "       case__average_body_count  case__average_match_singleton  \\\n",
       "count                  1.000000                            1.0   \n",
       "mean                   1.736842                            0.0   \n",
       "std                         NaN                            NaN   \n",
       "min                    1.736842                            0.0   \n",
       "25%                    1.736842                            0.0   \n",
       "50%                    1.736842                            0.0   \n",
       "75%                    1.736842                            0.0   \n",
       "max                    1.736842                            0.0   \n",
       "\n",
       "       case__average_match_sequence  case__average_match_mapping  \\\n",
       "count                           1.0                          1.0   \n",
       "mean                            0.0                          0.0   \n",
       "std                             NaN                          NaN   \n",
       "min                             0.0                          0.0   \n",
       "25%                             0.0                          0.0   \n",
       "50%                             0.0                          0.0   \n",
       "75%                             0.0                          0.0   \n",
       "max                             0.0                          0.0   \n",
       "\n",
       "       case__average_match_class  case__average_match_star  \\\n",
       "count                   1.000000                       1.0   \n",
       "mean                    0.052632                       0.0   \n",
       "std                          NaN                       NaN   \n",
       "min                     0.052632                       0.0   \n",
       "25%                     0.052632                       0.0   \n",
       "50%                     0.052632                       0.0   \n",
       "75%                     0.052632                       0.0   \n",
       "max                     0.052632                       0.0   \n",
       "\n",
       "       case__average_match_as  case__average_match_or  \\\n",
       "count                1.000000                     1.0   \n",
       "mean                 0.052632                     0.0   \n",
       "std                       NaN                     NaN   \n",
       "min                  0.052632                     0.0   \n",
       "25%                  0.052632                     0.0   \n",
       "50%                  0.052632                     0.0   \n",
       "75%                  0.052632                     0.0   \n",
       "max                  0.052632                     0.0   \n",
       "\n",
       "       case__expertise_level_EXPERT  \n",
       "count                           1.0  \n",
       "mean                            1.0  \n",
       "std                             NaN  \n",
       "min                             1.0  \n",
       "25%                             1.0  \n",
       "50%                             1.0  \n",
       "75%                             1.0  \n",
       "max                             1.0  "
      ],
      "text/html": [
       "<div>\n",
       "<style scoped>\n",
       "    .dataframe tbody tr th:only-of-type {\n",
       "        vertical-align: middle;\n",
       "    }\n",
       "\n",
       "    .dataframe tbody tr th {\n",
       "        vertical-align: top;\n",
       "    }\n",
       "\n",
       "    .dataframe thead th {\n",
       "        text-align: right;\n",
       "    }\n",
       "</style>\n",
       "<table border=\"1\" class=\"dataframe\">\n",
       "  <thead>\n",
       "    <tr style=\"text-align: right;\">\n",
       "      <th></th>\n",
       "      <th>case__number_of_cases</th>\n",
       "      <th>case__guards</th>\n",
       "      <th>case__average_match_value</th>\n",
       "      <th>case__average_body_count</th>\n",
       "      <th>case__average_match_singleton</th>\n",
       "      <th>case__average_match_sequence</th>\n",
       "      <th>case__average_match_mapping</th>\n",
       "      <th>case__average_match_class</th>\n",
       "      <th>case__average_match_star</th>\n",
       "      <th>case__average_match_as</th>\n",
       "      <th>case__average_match_or</th>\n",
       "      <th>case__expertise_level_EXPERT</th>\n",
       "    </tr>\n",
       "  </thead>\n",
       "  <tbody>\n",
       "    <tr>\n",
       "      <th>count</th>\n",
       "      <td>1.0</td>\n",
       "      <td>1.0</td>\n",
       "      <td>1.000000</td>\n",
       "      <td>1.000000</td>\n",
       "      <td>1.0</td>\n",
       "      <td>1.0</td>\n",
       "      <td>1.0</td>\n",
       "      <td>1.000000</td>\n",
       "      <td>1.0</td>\n",
       "      <td>1.000000</td>\n",
       "      <td>1.0</td>\n",
       "      <td>1.0</td>\n",
       "    </tr>\n",
       "    <tr>\n",
       "      <th>mean</th>\n",
       "      <td>19.0</td>\n",
       "      <td>0.0</td>\n",
       "      <td>0.894737</td>\n",
       "      <td>1.736842</td>\n",
       "      <td>0.0</td>\n",
       "      <td>0.0</td>\n",
       "      <td>0.0</td>\n",
       "      <td>0.052632</td>\n",
       "      <td>0.0</td>\n",
       "      <td>0.052632</td>\n",
       "      <td>0.0</td>\n",
       "      <td>1.0</td>\n",
       "    </tr>\n",
       "    <tr>\n",
       "      <th>std</th>\n",
       "      <td>NaN</td>\n",
       "      <td>NaN</td>\n",
       "      <td>NaN</td>\n",
       "      <td>NaN</td>\n",
       "      <td>NaN</td>\n",
       "      <td>NaN</td>\n",
       "      <td>NaN</td>\n",
       "      <td>NaN</td>\n",
       "      <td>NaN</td>\n",
       "      <td>NaN</td>\n",
       "      <td>NaN</td>\n",
       "      <td>NaN</td>\n",
       "    </tr>\n",
       "    <tr>\n",
       "      <th>min</th>\n",
       "      <td>19.0</td>\n",
       "      <td>0.0</td>\n",
       "      <td>0.894737</td>\n",
       "      <td>1.736842</td>\n",
       "      <td>0.0</td>\n",
       "      <td>0.0</td>\n",
       "      <td>0.0</td>\n",
       "      <td>0.052632</td>\n",
       "      <td>0.0</td>\n",
       "      <td>0.052632</td>\n",
       "      <td>0.0</td>\n",
       "      <td>1.0</td>\n",
       "    </tr>\n",
       "    <tr>\n",
       "      <th>25%</th>\n",
       "      <td>19.0</td>\n",
       "      <td>0.0</td>\n",
       "      <td>0.894737</td>\n",
       "      <td>1.736842</td>\n",
       "      <td>0.0</td>\n",
       "      <td>0.0</td>\n",
       "      <td>0.0</td>\n",
       "      <td>0.052632</td>\n",
       "      <td>0.0</td>\n",
       "      <td>0.052632</td>\n",
       "      <td>0.0</td>\n",
       "      <td>1.0</td>\n",
       "    </tr>\n",
       "    <tr>\n",
       "      <th>50%</th>\n",
       "      <td>19.0</td>\n",
       "      <td>0.0</td>\n",
       "      <td>0.894737</td>\n",
       "      <td>1.736842</td>\n",
       "      <td>0.0</td>\n",
       "      <td>0.0</td>\n",
       "      <td>0.0</td>\n",
       "      <td>0.052632</td>\n",
       "      <td>0.0</td>\n",
       "      <td>0.052632</td>\n",
       "      <td>0.0</td>\n",
       "      <td>1.0</td>\n",
       "    </tr>\n",
       "    <tr>\n",
       "      <th>75%</th>\n",
       "      <td>19.0</td>\n",
       "      <td>0.0</td>\n",
       "      <td>0.894737</td>\n",
       "      <td>1.736842</td>\n",
       "      <td>0.0</td>\n",
       "      <td>0.0</td>\n",
       "      <td>0.0</td>\n",
       "      <td>0.052632</td>\n",
       "      <td>0.0</td>\n",
       "      <td>0.052632</td>\n",
       "      <td>0.0</td>\n",
       "      <td>1.0</td>\n",
       "    </tr>\n",
       "    <tr>\n",
       "      <th>max</th>\n",
       "      <td>19.0</td>\n",
       "      <td>0.0</td>\n",
       "      <td>0.894737</td>\n",
       "      <td>1.736842</td>\n",
       "      <td>0.0</td>\n",
       "      <td>0.0</td>\n",
       "      <td>0.0</td>\n",
       "      <td>0.052632</td>\n",
       "      <td>0.0</td>\n",
       "      <td>0.052632</td>\n",
       "      <td>0.0</td>\n",
       "      <td>1.0</td>\n",
       "    </tr>\n",
       "  </tbody>\n",
       "</table>\n",
       "</div>"
      ]
     },
     "execution_count": 28,
     "metadata": {},
     "output_type": "execute_result"
    }
   ],
   "execution_count": 28
  },
  {
   "metadata": {},
   "cell_type": "markdown",
   "source": [
    "### IMPORTANTE\n",
    "El único distinto de 0 es un outlier, hay que revisarlo."
   ],
   "id": "3b962e1284580df5"
  },
  {
   "metadata": {},
   "cell_type": "markdown",
   "source": [
    "### Variable average_match_as (11/11)\n",
    "Esta variable es de tipo numérica y nos indica el número medio de cases del tipo As. Como vimos en la descripción de la tabla esta varibale adopta valores en el rango 0.0 - 0.5. Con una media de 0.28."
   ],
   "id": "c160008a4663d4d4"
  },
  {
   "metadata": {
    "ExecuteTime": {
     "end_time": "2024-05-24T11:12:38.143184Z",
     "start_time": "2024-05-24T11:12:38.029332Z"
    }
   },
   "cell_type": "code",
   "source": "sns.stripplot(X['case__average_match_as'])",
   "id": "4404f6645fb3928a",
   "outputs": [
    {
     "data": {
      "text/plain": [
       "<Axes: ylabel='case__average_match_as'>"
      ]
     },
     "execution_count": 29,
     "metadata": {},
     "output_type": "execute_result"
    },
    {
     "data": {
      "text/plain": [
       "<Figure size 640x480 with 1 Axes>"
      ],
      "image/png": "[encoded data removed]"
     },
     "metadata": {},
     "output_type": "display_data"
    }
   ],
   "execution_count": 29
  },
  {
   "metadata": {
    "ExecuteTime": {
     "end_time": "2024-05-24T11:12:38.150957Z",
     "start_time": "2024-05-24T11:12:38.144189Z"
    }
   },
   "cell_type": "code",
   "source": "print_outliers_for_df_column(X, 'case__average_match_as')",
   "id": "cefe285021f31b31",
   "outputs": [
    {
     "name": "stdout",
     "output_type": "stream",
     "text": [
      "El coeficiente MC (Medcouple Coefficient) de balanceo es: 0.19613221773605097\n",
      "Rango valores atípicos extremos (Tukey): [-1.5,2.0]\n",
      "Rango valores atípicos leves (Tukey): [-0.75,1.25]\n",
      "Rango valores atípicos extremos (Fixed BoxPlot): [-0.3775150534014556,2.143530708049444]\n",
      "-3.0IQR: 0 instancias tienen un valor para case__average_match_as inferior a -1.5 (Q1-3*IQR) para case__average_match_as. Representando un 0.0% del total de instancias.\n",
      "-1.5IQR: 0 instancias tienen un valor para case__average_match_as inferior a -0.75 (Q1-1.5*IQR) para case__average_match_as. Representando un 0.0% del total de instancias.\n",
      "+1.5IQR: 0 instancias tienen un valor para case__average_match_as superior a 1.25 (Q3+1.5*IQR) para case__average_match_as. Representando un 0.0% del total de instancias.\n",
      "+3.0IQR: 0 instancias tienen un valor para case__average_match_as superior a 2.0 (Q3-3*IQR) para case__average_match_as. Representando un 0.0% del total de instancias.\n",
      "L: 0 instancias tienen un valor para case__average_match_as inferior a -0.3775150534014556 para case__average_match_as. Representando un 0.0% del total de instancias.\n",
      "U: 0 instancias tienen un valor para case__average_match_as superior a 2.143530708049444 para case__average_match_as. Representando un 0.0% del total de instancias.\n"
     ]
    }
   ],
   "execution_count": 30
  },
  {
   "metadata": {
    "ExecuteTime": {
     "end_time": "2024-05-24T11:12:38.182005Z",
     "start_time": "2024-05-24T11:12:38.151964Z"
    }
   },
   "cell_type": "code",
   "source": "X[X['case__average_match_as'] > 0.0].describe(percentiles=[.25, .50, .75], include = ['object', 'float', 'bool', 'int'])",
   "id": "41d24bd69128a741",
   "outputs": [
    {
     "data": {
      "text/plain": [
       "       case__number_of_cases  case__guards  case__average_match_value  \\\n",
       "count              19.000000          19.0                  19.000000   \n",
       "mean                3.315789           0.0                   0.580425   \n",
       "std                 3.873738           0.0                   0.120603   \n",
       "min                 2.000000           0.0                   0.500000   \n",
       "25%                 2.000000           0.0                   0.500000   \n",
       "50%                 2.000000           0.0                   0.500000   \n",
       "75%                 3.000000           0.0                   0.666667   \n",
       "max                19.000000           0.0                   0.894737   \n",
       "\n",
       "       case__average_body_count  case__average_match_singleton  \\\n",
       "count                 19.000000                           19.0   \n",
       "mean                   2.189658                            0.0   \n",
       "std                    0.504500                            0.0   \n",
       "min                    1.200000                            0.0   \n",
       "25%                    2.035088                            0.0   \n",
       "50%                    2.500000                            0.0   \n",
       "75%                    2.500000                            0.0   \n",
       "max                    2.500000                            0.0   \n",
       "\n",
       "       case__average_match_sequence  case__average_match_mapping  \\\n",
       "count                          19.0                         19.0   \n",
       "mean                            0.0                          0.0   \n",
       "std                             0.0                          0.0   \n",
       "min                             0.0                          0.0   \n",
       "25%                             0.0                          0.0   \n",
       "50%                             0.0                          0.0   \n",
       "75%                             0.0                          0.0   \n",
       "max                             0.0                          0.0   \n",
       "\n",
       "       case__average_match_class  case__average_match_star  \\\n",
       "count                  19.000000                      19.0   \n",
       "mean                    0.002770                       0.0   \n",
       "std                     0.012075                       0.0   \n",
       "min                     0.000000                       0.0   \n",
       "25%                     0.000000                       0.0   \n",
       "50%                     0.000000                       0.0   \n",
       "75%                     0.000000                       0.0   \n",
       "max                     0.052632                       0.0   \n",
       "\n",
       "       case__average_match_as  case__average_match_or  \\\n",
       "count               19.000000                    19.0   \n",
       "mean                 0.416805                     0.0   \n",
       "std                  0.128565                     0.0   \n",
       "min                  0.052632                     0.0   \n",
       "25%                  0.333333                     0.0   \n",
       "50%                  0.500000                     0.0   \n",
       "75%                  0.500000                     0.0   \n",
       "max                  0.500000                     0.0   \n",
       "\n",
       "       case__expertise_level_EXPERT  \n",
       "count                          19.0  \n",
       "mean                            1.0  \n",
       "std                             0.0  \n",
       "min                             1.0  \n",
       "25%                             1.0  \n",
       "50%                             1.0  \n",
       "75%                             1.0  \n",
       "max                             1.0  "
      ],
      "text/html": [
       "<div>\n",
       "<style scoped>\n",
       "    .dataframe tbody tr th:only-of-type {\n",
       "        vertical-align: middle;\n",
       "    }\n",
       "\n",
       "    .dataframe tbody tr th {\n",
       "        vertical-align: top;\n",
       "    }\n",
       "\n",
       "    .dataframe thead th {\n",
       "        text-align: right;\n",
       "    }\n",
       "</style>\n",
       "<table border=\"1\" class=\"dataframe\">\n",
       "  <thead>\n",
       "    <tr style=\"text-align: right;\">\n",
       "      <th></th>\n",
       "      <th>case__number_of_cases</th>\n",
       "      <th>case__guards</th>\n",
       "      <th>case__average_match_value</th>\n",
       "      <th>case__average_body_count</th>\n",
       "      <th>case__average_match_singleton</th>\n",
       "      <th>case__average_match_sequence</th>\n",
       "      <th>case__average_match_mapping</th>\n",
       "      <th>case__average_match_class</th>\n",
       "      <th>case__average_match_star</th>\n",
       "      <th>case__average_match_as</th>\n",
       "      <th>case__average_match_or</th>\n",
       "      <th>case__expertise_level_EXPERT</th>\n",
       "    </tr>\n",
       "  </thead>\n",
       "  <tbody>\n",
       "    <tr>\n",
       "      <th>count</th>\n",
       "      <td>19.000000</td>\n",
       "      <td>19.0</td>\n",
       "      <td>19.000000</td>\n",
       "      <td>19.000000</td>\n",
       "      <td>19.0</td>\n",
       "      <td>19.0</td>\n",
       "      <td>19.0</td>\n",
       "      <td>19.000000</td>\n",
       "      <td>19.0</td>\n",
       "      <td>19.000000</td>\n",
       "      <td>19.0</td>\n",
       "      <td>19.0</td>\n",
       "    </tr>\n",
       "    <tr>\n",
       "      <th>mean</th>\n",
       "      <td>3.315789</td>\n",
       "      <td>0.0</td>\n",
       "      <td>0.580425</td>\n",
       "      <td>2.189658</td>\n",
       "      <td>0.0</td>\n",
       "      <td>0.0</td>\n",
       "      <td>0.0</td>\n",
       "      <td>0.002770</td>\n",
       "      <td>0.0</td>\n",
       "      <td>0.416805</td>\n",
       "      <td>0.0</td>\n",
       "      <td>1.0</td>\n",
       "    </tr>\n",
       "    <tr>\n",
       "      <th>std</th>\n",
       "      <td>3.873738</td>\n",
       "      <td>0.0</td>\n",
       "      <td>0.120603</td>\n",
       "      <td>0.504500</td>\n",
       "      <td>0.0</td>\n",
       "      <td>0.0</td>\n",
       "      <td>0.0</td>\n",
       "      <td>0.012075</td>\n",
       "      <td>0.0</td>\n",
       "      <td>0.128565</td>\n",
       "      <td>0.0</td>\n",
       "      <td>0.0</td>\n",
       "    </tr>\n",
       "    <tr>\n",
       "      <th>min</th>\n",
       "      <td>2.000000</td>\n",
       "      <td>0.0</td>\n",
       "      <td>0.500000</td>\n",
       "      <td>1.200000</td>\n",
       "      <td>0.0</td>\n",
       "      <td>0.0</td>\n",
       "      <td>0.0</td>\n",
       "      <td>0.000000</td>\n",
       "      <td>0.0</td>\n",
       "      <td>0.052632</td>\n",
       "      <td>0.0</td>\n",
       "      <td>1.0</td>\n",
       "    </tr>\n",
       "    <tr>\n",
       "      <th>25%</th>\n",
       "      <td>2.000000</td>\n",
       "      <td>0.0</td>\n",
       "      <td>0.500000</td>\n",
       "      <td>2.035088</td>\n",
       "      <td>0.0</td>\n",
       "      <td>0.0</td>\n",
       "      <td>0.0</td>\n",
       "      <td>0.000000</td>\n",
       "      <td>0.0</td>\n",
       "      <td>0.333333</td>\n",
       "      <td>0.0</td>\n",
       "      <td>1.0</td>\n",
       "    </tr>\n",
       "    <tr>\n",
       "      <th>50%</th>\n",
       "      <td>2.000000</td>\n",
       "      <td>0.0</td>\n",
       "      <td>0.500000</td>\n",
       "      <td>2.500000</td>\n",
       "      <td>0.0</td>\n",
       "      <td>0.0</td>\n",
       "      <td>0.0</td>\n",
       "      <td>0.000000</td>\n",
       "      <td>0.0</td>\n",
       "      <td>0.500000</td>\n",
       "      <td>0.0</td>\n",
       "      <td>1.0</td>\n",
       "    </tr>\n",
       "    <tr>\n",
       "      <th>75%</th>\n",
       "      <td>3.000000</td>\n",
       "      <td>0.0</td>\n",
       "      <td>0.666667</td>\n",
       "      <td>2.500000</td>\n",
       "      <td>0.0</td>\n",
       "      <td>0.0</td>\n",
       "      <td>0.0</td>\n",
       "      <td>0.000000</td>\n",
       "      <td>0.0</td>\n",
       "      <td>0.500000</td>\n",
       "      <td>0.0</td>\n",
       "      <td>1.0</td>\n",
       "    </tr>\n",
       "    <tr>\n",
       "      <th>max</th>\n",
       "      <td>19.000000</td>\n",
       "      <td>0.0</td>\n",
       "      <td>0.894737</td>\n",
       "      <td>2.500000</td>\n",
       "      <td>0.0</td>\n",
       "      <td>0.0</td>\n",
       "      <td>0.0</td>\n",
       "      <td>0.052632</td>\n",
       "      <td>0.0</td>\n",
       "      <td>0.500000</td>\n",
       "      <td>0.0</td>\n",
       "      <td>1.0</td>\n",
       "    </tr>\n",
       "  </tbody>\n",
       "</table>\n",
       "</div>"
      ]
     },
     "execution_count": 31,
     "metadata": {},
     "output_type": "execute_result"
    }
   ],
   "execution_count": 31
  },
  {
   "metadata": {},
   "cell_type": "markdown",
   "source": [
    "### IMPORTANTE\n",
    "Nada que destacar"
   ],
   "id": "87c0845a2105c165"
  },
  {
   "metadata": {},
   "cell_type": "markdown",
   "source": [
    "## Multivariate\n",
    "\n",
    "TODO: isolation forest algorithm"
   ],
   "id": "a63c33a981202cfe"
  },
  {
   "cell_type": "code",
   "id": "51448304c36d916e",
   "metadata": {
    "collapsed": false,
    "ExecuteTime": {
     "end_time": "2024-05-24T11:12:38.610088Z",
     "start_time": "2024-05-24T11:12:38.183014Z"
    }
   },
   "source": [
    "from sklearn.ensemble import  IsolationForest\n",
    "\n",
    "CONTAMINATION_FACTOR = 0.0012\n",
    "\n",
    "isof_model = IsolationForest(contamination=CONTAMINATION_FACTOR, random_state=0)\n",
    "isof_prediction = isof_model.fit_predict(X.to_numpy())\n",
    "mask = isof_prediction == -1\n",
    "multivar_outliers = X[mask].index.tolist()\n",
    "full_table.iloc[multivar_outliers]"
   ],
   "outputs": [
    {
     "data": {
      "text/plain": [
       "    case__number_of_cases  case__guards  case__average_body_count  \\\n",
       "23                     19           0.0                  1.736842   \n",
       "\n",
       "    case__average_match_value  case__average_match_singleton  \\\n",
       "23                   0.894737                            0.0   \n",
       "\n",
       "    case__average_match_sequence  case__average_match_mapping  \\\n",
       "23                           0.0                          0.0   \n",
       "\n",
       "    case__average_match_class  case__average_match_star  \\\n",
       "23                   0.052632                       0.0   \n",
       "\n",
       "    case__average_match_as  case__average_match_or case__expertise_level  \n",
       "23                0.052632                     0.0                EXPERT  "
      ],
      "text/html": [
       "<div>\n",
       "<style scoped>\n",
       "    .dataframe tbody tr th:only-of-type {\n",
       "        vertical-align: middle;\n",
       "    }\n",
       "\n",
       "    .dataframe tbody tr th {\n",
       "        vertical-align: top;\n",
       "    }\n",
       "\n",
       "    .dataframe thead th {\n",
       "        text-align: right;\n",
       "    }\n",
       "</style>\n",
       "<table border=\"1\" class=\"dataframe\">\n",
       "  <thead>\n",
       "    <tr style=\"text-align: right;\">\n",
       "      <th></th>\n",
       "      <th>case__number_of_cases</th>\n",
       "      <th>case__guards</th>\n",
       "      <th>case__average_body_count</th>\n",
       "      <th>case__average_match_value</th>\n",
       "      <th>case__average_match_singleton</th>\n",
       "      <th>case__average_match_sequence</th>\n",
       "      <th>case__average_match_mapping</th>\n",
       "      <th>case__average_match_class</th>\n",
       "      <th>case__average_match_star</th>\n",
       "      <th>case__average_match_as</th>\n",
       "      <th>case__average_match_or</th>\n",
       "      <th>case__expertise_level</th>\n",
       "    </tr>\n",
       "  </thead>\n",
       "  <tbody>\n",
       "    <tr>\n",
       "      <th>23</th>\n",
       "      <td>19</td>\n",
       "      <td>0.0</td>\n",
       "      <td>1.736842</td>\n",
       "      <td>0.894737</td>\n",
       "      <td>0.0</td>\n",
       "      <td>0.0</td>\n",
       "      <td>0.0</td>\n",
       "      <td>0.052632</td>\n",
       "      <td>0.0</td>\n",
       "      <td>0.052632</td>\n",
       "      <td>0.0</td>\n",
       "      <td>EXPERT</td>\n",
       "    </tr>\n",
       "  </tbody>\n",
       "</table>\n",
       "</div>"
      ]
     },
     "execution_count": 32,
     "metadata": {},
     "output_type": "execute_result"
    }
   ],
   "execution_count": 32
  },
  {
   "metadata": {},
   "cell_type": "markdown",
   "source": [
    "### IMPORTANTE\n",
    "Hay que analizar el outlier detectado."
   ],
   "id": "60bbb8eb617b847b"
  }
 ],
 "metadata": {
  "kernelspec": {
   "display_name": "Python 3 (ipykernel)",
   "language": "python",
   "name": "python3"
  },
  "language_info": {
   "codemirror_mode": {
    "name": "ipython",
    "version": 3
   },
   "file_extension": ".py",
   "mimetype": "text/x-python",
   "name": "python",
   "nbconvert_exporter": "python",
   "pygments_lexer": "ipython3",
   "version": "3.12.2"
  },
  "toc-autonumbering": true,
  "toc-showcode": false,
  "toc-showmarkdowntxt": false,
  "toc-showtags": false
 },
 "nbformat": 4,
 "nbformat_minor": 5
}
