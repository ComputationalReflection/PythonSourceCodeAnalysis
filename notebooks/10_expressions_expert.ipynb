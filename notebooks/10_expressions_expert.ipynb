{
 "cells": [
  {
   "cell_type": "markdown",
   "id": "ea78b212-ff32-40d1-92e1-9e09d847ae78",
   "metadata": {
    "pycharm": {
     "name": "#%% md\n"
    }
   },
   "source": [
    "# Expressions EXPERT\n",
    "\n",
    "Esta tabla contiene la información a nivel de expression EXPERT. --> ABEL COMPLETAR <--"
   ]
  },
  {
   "cell_type": "markdown",
   "id": "b862cb2f-c1e0-4074-92c0-004dea379079",
   "metadata": {
    "pycharm": {
     "name": "#%% md\n"
    }
   },
   "source": [
    "## 1 - Obtencion de datos"
   ]
  },
  {
   "metadata": {},
   "cell_type": "code",
   "outputs": [
    {
     "name": "stdout",
     "output_type": "stream",
     "text": [
      "2024-05-14 18:10:06.991311 Data cache files found ...\n",
      "2024-05-14 18:10:06.991311 Data cache files successfully loaded!!\n",
      "The dataset contains 1591 (98.88%) instances for BEGINNER class and 18 (1.119%) for EXPERT class.\n"
     ]
    }
   ],
   "execution_count": 1,
   "source": [
    "import matplotlib.pyplot as plt\n",
    "from notebooks_utils import *\n",
    "\n",
    "TARGET_FEATURE = 'expression__expertise_level'\n",
    "TARGET_CLASS = 'EXPERT'\n",
    "full_table = get_data('expressions')\n",
    "\n",
    "instances_for_class_low = len(full_table[full_table[TARGET_FEATURE] == \"BEGINNER\"])\n",
    "instances_for_class_high = len(full_table[full_table[TARGET_FEATURE] == \"EXPERT\"])\n",
    "\n",
    "print(f\"The dataset contains {instances_for_class_low} ({instances_for_class_low/len(full_table)*100:.4}%) instances for BEGINNER class and {instances_for_class_high} ({instances_for_class_high/len(full_table)*100:.4}%) for EXPERT class.\")"
   ],
   "id": "43aee4e55ceadcec"
  },
  {
   "cell_type": "code",
   "id": "63793d9c-9473-44fa-bb1d-8e4b32fa1457",
   "metadata": {
    "pycharm": {
     "name": "#%%\n"
    },
    "tags": [],
    "ExecuteTime": {
     "end_time": "2024-05-14T17:09:55.456523Z",
     "start_time": "2024-05-14T17:08:36.076801Z"
    }
   },
   "source": [
    "full_table = full_table[full_table[TARGET_FEATURE] == TARGET_CLASS]\n",
    "\n",
    "# Table name, features and target.\n",
    "TABLE_NAME = 'expressions'\n",
    "TABLE_FEATURES = ['expression__category','expression__parent','expression__first_child_category','expression__second_child_category','expression__third_child_category','expression__fourth_child_category','expression__expression_role','expression__height','expression__depth','expression__expertise_level']\n",
    "TABLE_TARGET = 'expression__expertise_level'\n",
    "\n",
    "# Load features and target.\n",
    "X = full_table[TABLE_FEATURES]\n",
    "\n",
    "# Print information about the loaded table.\n",
    "print(f'Features shape: {X.shape}')\n",
    "\n",
    "print(f'As we can see the downloaded data contains a total of {X.shape[0]} instances. Each of the instances corresponds to a program. For each program we have {X.shape[1]} attributes.')"
   ],
   "outputs": [
    {
     "name": "stdout",
     "output_type": "stream",
     "text": [
      "2024-05-14 19:08:43.410896 Data cache files found ...\n",
      "2024-05-14 19:09:51.114403 Data cache files successfully loaded!!\n",
      "Features shape: (8102385, 10)\n",
      "Target shape: (8102385,)\n",
      "As we can see the downloaded data contains a total of 8102385 instances. Each of the instances corresponds to a program. For each program we have 10 attributes.\n"
     ]
    }
   ],
   "execution_count": 1
  },
  {
   "cell_type": "markdown",
   "id": "3ff70454-366f-4231-831d-723eeb63576b",
   "metadata": {},
   "source": [
    "## 2 - Exploracion de datos\n",
    "\n",
    "Una vez tenemos nuestra tabla en un dataframe el siguiente paso es explorarla para ver qué tipo de información contiene."
   ]
  },
  {
   "cell_type": "code",
   "id": "9b526577-537d-44b0-951b-168278ce7a5c",
   "metadata": {
    "ExecuteTime": {
     "end_time": "2024-05-14T17:10:20.013822Z",
     "start_time": "2024-05-14T17:10:19.142529Z"
    }
   },
   "source": "print(X.info())",
   "outputs": [
    {
     "name": "stdout",
     "output_type": "stream",
     "text": [
      "<class 'pandas.core.frame.DataFrame'>\n",
      "RangeIndex: 8102385 entries, 0 to 8102384\n",
      "Data columns (total 10 columns):\n",
      " #   Column                             Dtype \n",
      "---  ------                             ----- \n",
      " 0   expression__category               object\n",
      " 1   expression__parent                 object\n",
      " 2   expression__first_child_category   object\n",
      " 3   expression__second_child_category  object\n",
      " 4   expression__third_child_category   object\n",
      " 5   expression__fourth_child_category  object\n",
      " 6   expression__expression_role        object\n",
      " 7   expression__height                 int64 \n",
      " 8   expression__depth                  int64 \n",
      " 9   expression__expertise_level        object\n",
      "dtypes: int64(2), object(8)\n",
      "memory usage: 618.2+ MB\n",
      "None\n",
      "=============\n",
      "<class 'pandas.core.series.Series'>\n",
      "RangeIndex: 8102385 entries, 0 to 8102384\n",
      "Series name: expression__expertise_level\n",
      "Non-Null Count    Dtype \n",
      "--------------    ----- \n",
      "8102385 non-null  object\n",
      "dtypes: object(1)\n",
      "memory usage: 61.8+ MB\n",
      "None\n"
     ]
    }
   ],
   "execution_count": 2
  },
  {
   "cell_type": "markdown",
   "id": "cbf77cd4-9819-4da1-9405-44054d2290e1",
   "metadata": {},
   "source": "Cómo podemos ver la tabla está compuesta por 2 variables numéricas y 8 de tipo objeto (cetegoricas). Una de ellas es la clase con la que se ha etiquetado la instancia. Sin embargo, en algunas ocasiones esta última clase no la vamos a utilizar. Por ejemplo, si queremos obtener clusters por medio de aprendizaje no supervisado."
  },
  {
   "cell_type": "markdown",
   "id": "bf53eef1e9c5c37d",
   "metadata": {
    "collapsed": false
   },
   "source": [
    "### 2.1 - Balance de clases"
   ]
  },
  {
   "cell_type": "code",
   "id": "61c1409f-9146-467e-bad9-b68774fdd903",
   "metadata": {
    "ExecuteTime": {
     "end_time": "2024-05-14T17:10:49.035728Z",
     "start_time": "2024-05-14T17:10:33.697055Z"
    }
   },
   "source": [
    "instances_for_class_low = len(full_table[full_table[TABLE_TARGET] == \"BEGINNER\"])\n",
    "instances_for_class_high = len(full_table[full_table[TABLE_TARGET] == \"EXPERT\"])\n",
    "\n",
    "print(f\"The dataset contains {instances_for_class_low/len(full_table)*100:.4}% instances for BEGINNER class and {instances_for_class_high/len(full_table)*100:.4}% for EXPERT class.\")"
   ],
   "outputs": [
    {
     "name": "stdout",
     "output_type": "stream",
     "text": [
      "The dataset contains 42.52% instances for BEGINNER class and 57.48% for EXPERT class.\n"
     ]
    }
   ],
   "execution_count": 3
  },
  {
   "cell_type": "markdown",
   "id": "7f619a1e-3b8b-4929-b41c-8edef4cc2d6a",
   "metadata": {},
   "source": [
    "### 2.2 - Duplicados\n",
    "Miramos si la tabla tiene entradas duplicadas."
   ]
  },
  {
   "cell_type": "code",
   "id": "ba8d29f2-8771-4e1f-8ecb-31bb827bf988",
   "metadata": {
    "ExecuteTime": {
     "end_time": "2024-05-14T17:11:05.729378Z",
     "start_time": "2024-05-14T17:10:54.740600Z"
    }
   },
   "source": [
    "number_of_duplicated_entries = sum(full_table.duplicated(subset=TABLE_FEATURES + [TABLE_TARGET]))\n",
    "duplicated_entries_pct = number_of_duplicated_entries / len(full_table) * 100\n",
    "print(f\"The dataset contains [{duplicated_entries_pct:.4}%] of duplicated entries.\")"
   ],
   "outputs": [
    {
     "name": "stdout",
     "output_type": "stream",
     "text": [
      "The dataset contains [98.31%] of duplicated entries.\n"
     ]
    }
   ],
   "execution_count": 4
  },
  {
   "cell_type": "markdown",
   "id": "31d297c18f157194",
   "metadata": {
    "collapsed": false
   },
   "source": [
    "### 2.3 - Valores Nulos \n",
    "Miramos si alguna de las variables que contiene la tabla contiene algún valor que sea nulo."
   ]
  },
  {
   "cell_type": "code",
   "id": "afeed2ce9080cbbb",
   "metadata": {
    "collapsed": false,
    "ExecuteTime": {
     "end_time": "2024-05-05T17:57:18.619862Z",
     "start_time": "2024-05-05T17:57:16.892173Z"
    }
   },
   "source": [
    "X.isnull().sum()"
   ],
   "execution_count": 5,
   "outputs": []
  },
  {
   "cell_type": "markdown",
   "id": "1a8e02c0c52edff9",
   "metadata": {
    "collapsed": false
   },
   "source": [
    "Aunque una columna no contenga valores nulos podría ser que contenga valores vacíos. Si los hubiese la siguiente función los mostraría."
   ]
  },
  {
   "cell_type": "code",
   "id": "73b9dc2f9efc111a",
   "metadata": {
    "collapsed": false,
    "ExecuteTime": {
     "end_time": "2024-05-05T17:57:21.163408Z",
     "start_time": "2024-05-05T17:57:18.621878Z"
    }
   },
   "source": [
    "print_empty_cols(X)"
   ],
   "execution_count": 6,
   "outputs": []
  },
  {
   "cell_type": "markdown",
   "id": "105774ea722bf467",
   "metadata": {
    "collapsed": false
   },
   "source": [
    "### 2.4 - Describimos los valores de las variables de la tabla."
   ]
  },
  {
   "cell_type": "code",
   "id": "d3be1e5cec1af46c",
   "metadata": {
    "collapsed": false,
    "ExecuteTime": {
     "end_time": "2024-05-14T17:18:33.534135Z",
     "start_time": "2024-05-14T17:18:09.019107Z"
    }
   },
   "source": [
    "np.transpose(X.describe(percentiles=[.25, .50, .75], include = ['object', 'float', 'bool', 'int']))"
   ],
   "outputs": [
    {
     "data": {
      "text/plain": [
       "                                       count unique            top     freq  \\\n",
       "expression__category                 8102385     39       Variable  2782098   \n",
       "expression__parent                   8102385     49           Call  1929892   \n",
       "expression__first_child_category     2888731     38       Variable  1447334   \n",
       "expression__second_child_category    1357651     36       Variable   449233   \n",
       "expression__third_child_category      402990     37  StringLiteral   123449   \n",
       "expression__fourth_child_category     137818     34       Variable    37395   \n",
       "expression__expression_role          8102385     79        CallArg  1096702   \n",
       "expression__height                 8102385.0    NaN            NaN      NaN   \n",
       "expression__depth                  8102385.0    NaN            NaN      NaN   \n",
       "expression__expertise_level          8102385      2         EXPERT  4656866   \n",
       "\n",
       "                                       mean       std  min  25%  50%  75%  \\\n",
       "expression__category                    NaN       NaN  NaN  NaN  NaN  NaN   \n",
       "expression__parent                      NaN       NaN  NaN  NaN  NaN  NaN   \n",
       "expression__first_child_category        NaN       NaN  NaN  NaN  NaN  NaN   \n",
       "expression__second_child_category       NaN       NaN  NaN  NaN  NaN  NaN   \n",
       "expression__third_child_category        NaN       NaN  NaN  NaN  NaN  NaN   \n",
       "expression__fourth_child_category       NaN       NaN  NaN  NaN  NaN  NaN   \n",
       "expression__expression_role             NaN       NaN  NaN  NaN  NaN  NaN   \n",
       "expression__height                 5.169738  2.227696  1.0  4.0  5.0  6.0   \n",
       "expression__depth                  0.602559  1.086327  0.0  0.0  0.0  1.0   \n",
       "expression__expertise_level             NaN       NaN  NaN  NaN  NaN  NaN   \n",
       "\n",
       "                                    max  \n",
       "expression__category                NaN  \n",
       "expression__parent                  NaN  \n",
       "expression__first_child_category    NaN  \n",
       "expression__second_child_category   NaN  \n",
       "expression__third_child_category    NaN  \n",
       "expression__fourth_child_category   NaN  \n",
       "expression__expression_role         NaN  \n",
       "expression__height                 83.0  \n",
       "expression__depth                  81.0  \n",
       "expression__expertise_level         NaN  "
      ],
      "text/html": [
       "<div>\n",
       "<style scoped>\n",
       "    .dataframe tbody tr th:only-of-type {\n",
       "        vertical-align: middle;\n",
       "    }\n",
       "\n",
       "    .dataframe tbody tr th {\n",
       "        vertical-align: top;\n",
       "    }\n",
       "\n",
       "    .dataframe thead th {\n",
       "        text-align: right;\n",
       "    }\n",
       "</style>\n",
       "<table border=\"1\" class=\"dataframe\">\n",
       "  <thead>\n",
       "    <tr style=\"text-align: right;\">\n",
       "      <th></th>\n",
       "      <th>count</th>\n",
       "      <th>unique</th>\n",
       "      <th>top</th>\n",
       "      <th>freq</th>\n",
       "      <th>mean</th>\n",
       "      <th>std</th>\n",
       "      <th>min</th>\n",
       "      <th>25%</th>\n",
       "      <th>50%</th>\n",
       "      <th>75%</th>\n",
       "      <th>max</th>\n",
       "    </tr>\n",
       "  </thead>\n",
       "  <tbody>\n",
       "    <tr>\n",
       "      <th>expression__category</th>\n",
       "      <td>8102385</td>\n",
       "      <td>39</td>\n",
       "      <td>Variable</td>\n",
       "      <td>2782098</td>\n",
       "      <td>NaN</td>\n",
       "      <td>NaN</td>\n",
       "      <td>NaN</td>\n",
       "      <td>NaN</td>\n",
       "      <td>NaN</td>\n",
       "      <td>NaN</td>\n",
       "      <td>NaN</td>\n",
       "    </tr>\n",
       "    <tr>\n",
       "      <th>expression__parent</th>\n",
       "      <td>8102385</td>\n",
       "      <td>49</td>\n",
       "      <td>Call</td>\n",
       "      <td>1929892</td>\n",
       "      <td>NaN</td>\n",
       "      <td>NaN</td>\n",
       "      <td>NaN</td>\n",
       "      <td>NaN</td>\n",
       "      <td>NaN</td>\n",
       "      <td>NaN</td>\n",
       "      <td>NaN</td>\n",
       "    </tr>\n",
       "    <tr>\n",
       "      <th>expression__first_child_category</th>\n",
       "      <td>2888731</td>\n",
       "      <td>38</td>\n",
       "      <td>Variable</td>\n",
       "      <td>1447334</td>\n",
       "      <td>NaN</td>\n",
       "      <td>NaN</td>\n",
       "      <td>NaN</td>\n",
       "      <td>NaN</td>\n",
       "      <td>NaN</td>\n",
       "      <td>NaN</td>\n",
       "      <td>NaN</td>\n",
       "    </tr>\n",
       "    <tr>\n",
       "      <th>expression__second_child_category</th>\n",
       "      <td>1357651</td>\n",
       "      <td>36</td>\n",
       "      <td>Variable</td>\n",
       "      <td>449233</td>\n",
       "      <td>NaN</td>\n",
       "      <td>NaN</td>\n",
       "      <td>NaN</td>\n",
       "      <td>NaN</td>\n",
       "      <td>NaN</td>\n",
       "      <td>NaN</td>\n",
       "      <td>NaN</td>\n",
       "    </tr>\n",
       "    <tr>\n",
       "      <th>expression__third_child_category</th>\n",
       "      <td>402990</td>\n",
       "      <td>37</td>\n",
       "      <td>StringLiteral</td>\n",
       "      <td>123449</td>\n",
       "      <td>NaN</td>\n",
       "      <td>NaN</td>\n",
       "      <td>NaN</td>\n",
       "      <td>NaN</td>\n",
       "      <td>NaN</td>\n",
       "      <td>NaN</td>\n",
       "      <td>NaN</td>\n",
       "    </tr>\n",
       "    <tr>\n",
       "      <th>expression__fourth_child_category</th>\n",
       "      <td>137818</td>\n",
       "      <td>34</td>\n",
       "      <td>Variable</td>\n",
       "      <td>37395</td>\n",
       "      <td>NaN</td>\n",
       "      <td>NaN</td>\n",
       "      <td>NaN</td>\n",
       "      <td>NaN</td>\n",
       "      <td>NaN</td>\n",
       "      <td>NaN</td>\n",
       "      <td>NaN</td>\n",
       "    </tr>\n",
       "    <tr>\n",
       "      <th>expression__expression_role</th>\n",
       "      <td>8102385</td>\n",
       "      <td>79</td>\n",
       "      <td>CallArg</td>\n",
       "      <td>1096702</td>\n",
       "      <td>NaN</td>\n",
       "      <td>NaN</td>\n",
       "      <td>NaN</td>\n",
       "      <td>NaN</td>\n",
       "      <td>NaN</td>\n",
       "      <td>NaN</td>\n",
       "      <td>NaN</td>\n",
       "    </tr>\n",
       "    <tr>\n",
       "      <th>expression__height</th>\n",
       "      <td>8102385.0</td>\n",
       "      <td>NaN</td>\n",
       "      <td>NaN</td>\n",
       "      <td>NaN</td>\n",
       "      <td>5.169738</td>\n",
       "      <td>2.227696</td>\n",
       "      <td>1.0</td>\n",
       "      <td>4.0</td>\n",
       "      <td>5.0</td>\n",
       "      <td>6.0</td>\n",
       "      <td>83.0</td>\n",
       "    </tr>\n",
       "    <tr>\n",
       "      <th>expression__depth</th>\n",
       "      <td>8102385.0</td>\n",
       "      <td>NaN</td>\n",
       "      <td>NaN</td>\n",
       "      <td>NaN</td>\n",
       "      <td>0.602559</td>\n",
       "      <td>1.086327</td>\n",
       "      <td>0.0</td>\n",
       "      <td>0.0</td>\n",
       "      <td>0.0</td>\n",
       "      <td>1.0</td>\n",
       "      <td>81.0</td>\n",
       "    </tr>\n",
       "    <tr>\n",
       "      <th>expression__expertise_level</th>\n",
       "      <td>8102385</td>\n",
       "      <td>2</td>\n",
       "      <td>EXPERT</td>\n",
       "      <td>4656866</td>\n",
       "      <td>NaN</td>\n",
       "      <td>NaN</td>\n",
       "      <td>NaN</td>\n",
       "      <td>NaN</td>\n",
       "      <td>NaN</td>\n",
       "      <td>NaN</td>\n",
       "      <td>NaN</td>\n",
       "    </tr>\n",
       "  </tbody>\n",
       "</table>\n",
       "</div>"
      ]
     },
     "execution_count": 6,
     "metadata": {},
     "output_type": "execute_result"
    }
   ],
   "execution_count": 6
  },
  {
   "cell_type": "markdown",
   "id": "b9f859b03e8083f1",
   "metadata": {
    "collapsed": false
   },
   "source": [
    "Vamos a discretizar las variables numericas, agrupando conjuntos de valores en categorias, para hacer un análisis de los datos. Para cada variable es necesaario ver la distribucion de lo valores para hacer los bins (categorias). Revisar programa con 3k modulos y 1k paquetes."
   ]
  },
  {
   "cell_type": "code",
   "id": "b7cf5fae0fd0e5ef",
   "metadata": {
    "collapsed": false,
    "ExecuteTime": {
     "end_time": "2024-05-05T17:57:47.259962Z",
     "start_time": "2024-05-05T17:57:26.922965Z"
    }
   },
   "source": [
    "# DISCRETIZATION\n",
    "X_copy = X.copy()\n",
    "\n",
    "discretized_columns = {\n",
    "    \"expression__height\": [(1, 3), (3, 4), (4, 5), (5, 6) ,(6, 7), (7, inf)],  # min: 1 max: 83\n",
    "    \"expression__depth\": [(0, 1), (1, 2), (2, inf)],  # min: 1 max: 81\n",
    "}\n",
    "\n",
    "discretize_columns(X_copy, discretized_columns)\n",
    "    \n",
    "# SINGLE FEATURE\n",
    "print(\"--- SINGLE FEATURE ---\")\n",
    "print(get_statistics(X_copy, ['expression__category'], 10))\n",
    "print(get_statistics(X_copy, ['expression__parent'], 10))\n",
    "print(get_statistics(X_copy, ['expression__first_child_category'], 10))\n",
    "print(get_statistics(X_copy, ['expression__second_child_category'], 10))\n",
    "print(get_statistics(X_copy, ['expression__third_child_category'], 10))\n",
    "print(get_statistics(X_copy, ['expression__fourth_child_category'], 10))\n",
    "print(get_statistics(X_copy, ['expression__expression_role'], 10))\n",
    "print(get_statistics(X_copy, ['expression__height'], 10))\n",
    "print(get_statistics(X_copy, ['expression__depth'], 10))\n",
    "\n",
    "# 2 FEATURES\n",
    "print(\"--- TWO FEATURES ---\")\n",
    "print(get_statistics(X_copy, ['expression__category', 'expression__expression_role'], 10))\n",
    "print(get_statistics(X_copy, ['expression__category', 'expression__parent'], 10))\n",
    "print(get_statistics(X_copy, ['expression__parent', 'expression__expression_role'], 10))\n",
    "\n",
    "\n",
    "# 3 FEATURES\n",
    "print(\"--- THREE FEATURES ---\")\n",
    "print(get_statistics(X_copy, ['expression__category', 'expression__first_child_category', 'expression__second_child_category'], 10))\n"
   ],
   "execution_count": 8,
   "outputs": []
  },
  {
   "cell_type": "code",
   "id": "1ca9a43e-6db6-44a7-aaab-65f00d1ea79e",
   "metadata": {
    "pycharm": {
     "name": "#%%\n"
    },
    "tags": [],
    "ExecuteTime": {
     "end_time": "2024-05-05T17:57:59.365181Z",
     "start_time": "2024-05-05T17:57:47.261989Z"
    }
   },
   "source": [
    "def normalize_datatypes(X:pd.DataFrame) -> (pd.DataFrame, [str]):\n",
    "    X = pd.get_dummies(X)\n",
    "    X = X.astype('float32')        \n",
    "    columns_names = X.columns.tolist()\n",
    "    return X, columns_names\n",
    "\n",
    "X, TABLE_FEATURES = normalize_datatypes(X)\n",
    "# Print information about the loaded table\n",
    "print(f'Features shape: {X.shape}')"
   ],
   "execution_count": 9,
   "outputs": []
  },
  {
   "cell_type": "markdown",
   "id": "e9fc6a7d9acd9a9e",
   "metadata": {
    "collapsed": false
   },
   "source": [
    "#### Muestra la matriz de correlación de pearson entre las variables de la tabla."
   ]
  },
  {
   "cell_type": "code",
   "id": "70af048034c80af1",
   "metadata": {
    "collapsed": false,
    "ExecuteTime": {
     "end_time": "2024-05-05T17:57:59.374281Z",
     "start_time": "2024-05-05T17:57:59.369200Z"
    }
   },
   "source": [
    "# Con estos datos (8102385, 316) la matriz de confusion es demasiado grande.\n",
    "# sns.heatmap(X.corr(), annot=True)"
   ],
   "execution_count": 10,
   "outputs": []
  },
  {
   "cell_type": "markdown",
   "id": "9a47cdd4cc2b3fae",
   "metadata": {
    "collapsed": false
   },
   "source": [
    "## 3 - Detección de valores atípicos (outliers)\n",
    "Una vez sabemos qué datos contiene la tabla, analizaremos los valores que toma cada una de las variables de cada instancia. El objetivo es identificar posibles valores atípicos que nos dificulten la realización de futuras tareas. \n",
    "Tras su análisis, se puede concluir que un valor:\n",
    "    - **Es erróneo**. En este caso hay que tomar una decisión para cada caso, siendo los tratamientos más extendidos son listwise, pairwise, drop variables, mean/median imputation, most frequent, separate category, zero imputation, cold deck, hot deck,(stochastic) regression, k-NN and multiple imputation. Los resultados de imputación regresiva, k-NN y múltiple dan buenos resultados, aunque, como se ha indicado, es necesario el estudio en cada caso.\n",
    "    - **Es correcto, pero anómalo**. Se documenta su existencia para su posible discusión y se mantiene en el dataset. En estos casos se hace necesaria la utilización de algoritmos y estadísticos que no sean muy sensibles a dichos valores anómalos.\n",
    "\n",
    "## Univariate\n",
    "Para cada uno de los atributos se debe realizar un análisis y detección de valores atípicos, estudiando su posible causa. \n",
    "Existen diversas formas de calcular los valores anómalos. \n",
    "\n",
    "### Variables numéricas\n",
    "Para las variables numéricas, se suele identificar: \n",
    "    - a) Valor atípico leve es el que está fuera de $[Q1 - 1.5IQR, Q3 + 1.5IQR]$, donde $IQR = Q3-Q1$.\n",
    "    - b) Valor atípico extremo está fuera de $[Q1 - 3IQR, Q3 + 3IQR]$.\n",
    "\n",
    "La idea es probar con a) y si hay pocas instancias analizarlas. Si hubiese muchas, mirar b) y analizar si fuesen pocas. No hay un algoritmo o método estipulado, puesto que depende del dominio del problema y de los datos.\n",
    "\n",
    "Los límites de Tukey se basan en los cuartiles de los datos y son sensibles a la presencia de sesgo en la distribución. Cuando hay asimetría en los datos, los límites de Tukey pueden no ser tan efectivos para identificar outliers de manera equitativa en ambos extremos de la distribución. El Coeficiente de Medcouple es útil para identificar la asimetría en los datos, especialmente en presencia de valores atípicos o sesgados. Es una medida robusta porque no se ve tan afectada por valores extremos como la media y la desviación estándar. El MC puede proporcionar información adicional sobre la asimetría de la distribución, lo que te permite ajustar los límites de Tukey de manera más apropiada para tu conjunto de datos específico. Una posible variacion de los límites de Tukey teniendo en cuenta MC podria ser: \n",
    "   - Si MC es mayor que 0 (asimetría hacia la derecha):\n",
    "      - low = (q1-1.5 * math.exp(-4*mc) * iqr)\n",
    "      - high = (q3+1.5 * math.exp(3.5*mc) * iqr)\n",
    "   - Si la asimetriza es hacia la izquierda:    \n",
    "      - low = (q1-1.5 * math.exp(-3.5*mc) * iqr)\n",
    "      - high = (q3+1.5 * math.exp(4*mc) * iqr)\n",
    "\n",
    "\n",
    "### Variables categóricas\n",
    "Para las variables categóricas no existe el concepto de valor anómalo, pero sí se puede considerar en base a un análisis de frecuencia. Por ejemplo, que el uso de una categoría sea residual, pudiendo tener un 0.1% de instancias en el dataset. Para detectar estos valores, se puede fijar un valor mínimo de frecuencia en función del número posible de valores de la variable categórica (2 en el caso de una variable booleana). Por ejemplo, un umbral de $\\frac{0.2\\%}{valores}$ (0.1% en el caso de una variable booleana)"
   ]
  },
  {
   "metadata": {},
   "cell_type": "markdown",
   "source": [
    "## Analisis detallado de variables\n",
    "Para cada una de las 9 variable (7 categoricas y 2 numericas) se hara un analisis detallado "
   ],
   "id": "6422ebf36d0aa620"
  },
  {
   "cell_type": "markdown",
   "source": [
    "### Variable category (1/9)\n",
    "Esta variable es de tipo categorica y representa la categoria de la expresion."
   ],
   "metadata": {
    "collapsed": false
   },
   "id": "59c216b40cd37670"
  },
  {
   "metadata": {
    "ExecuteTime": {
     "end_time": "2024-05-14T17:11:41.164718Z",
     "start_time": "2024-05-14T17:11:16.141349Z"
    }
   },
   "cell_type": "code",
   "source": "sns.catplot(full_table['expression__category'], kind=\"count\")",
   "id": "1b756a3a68d1ff37",
   "outputs": [
    {
     "data": {
      "text/plain": [
       "<seaborn.axisgrid.FacetGrid at 0x247e03f9f40>"
      ]
     },
     "execution_count": 5,
     "metadata": {},
     "output_type": "execute_result"
    },
    {
     "data": {
      "text/plain": [
       "<Figure size 500x500 with 1 Axes>"
      ],
      "image/png": "[encoded data removed]"
     },
     "metadata": {},
     "output_type": "display_data"
    }
   ],
   "execution_count": 5
  },
  {
   "metadata": {
    "ExecuteTime": {
     "end_time": "2024-05-05T17:58:31.579245Z",
     "start_time": "2024-05-05T17:58:13.966306Z"
    }
   },
   "cell_type": "code",
   "source": "print_frequency_anal_for_cat_var(full_table, 'expression__category')",
   "id": "443cd3ed32e8556a",
   "execution_count": 12,
   "outputs": []
  },
  {
   "metadata": {},
   "cell_type": "markdown",
   "source": [
    "### Variable parent (2/9)\n",
    "Esta variable es de tipo categorica y representa la categoria del padre de la expresion."
   ],
   "id": "e857df210b8d3e17"
  },
  {
   "metadata": {},
   "cell_type": "code",
   "outputs": [
    {
     "data": {
      "text/plain": [
       "<seaborn.axisgrid.FacetGrid at 0x247e03f9f40>"
      ]
     },
     "execution_count": 5,
     "metadata": {},
     "output_type": "execute_result"
    }
   ],
   "execution_count": null,
   "source": "sns.catplot(full_table['expression__parent'], kind=\"count\")",
   "id": "8a978ff9a6a1d2"
  },
  {
   "metadata": {},
   "cell_type": "code",
   "outputs": [],
   "execution_count": 12,
   "source": "print_frequency_anal_for_cat_var(full_table, 'expression__parent')",
   "id": "a5ad1a366dd9dd75"
  },
  {
   "metadata": {},
   "cell_type": "markdown",
   "source": [
    "### Variable first_child_category (3/9)\n",
    "Esta variable es de tipo categorica y representa la categoria del primer hijo de la expresion."
   ],
   "id": "83bafead2ababd72"
  },
  {
   "metadata": {},
   "cell_type": "code",
   "outputs": [
    {
     "data": {
      "text/plain": [
       "<seaborn.axisgrid.FacetGrid at 0x247e03f9f40>"
      ]
     },
     "execution_count": 5,
     "metadata": {},
     "output_type": "execute_result"
    }
   ],
   "execution_count": null,
   "source": "sns.catplot(full_table['expression__first_child_category'], kind=\"count\")",
   "id": "cf87643fab9670fe"
  },
  {
   "metadata": {},
   "cell_type": "code",
   "outputs": [],
   "execution_count": 12,
   "source": "print_frequency_anal_for_cat_var(full_table, 'expression__first_child_category')",
   "id": "3ca36cb436689434"
  },
  {
   "metadata": {},
   "cell_type": "markdown",
   "source": [
    "### Variable second_child_category (4/9)\n",
    "Esta variable es de tipo categorica y representa la categoria del segundo hijo de la expresion."
   ],
   "id": "8829cf9f3c282d"
  },
  {
   "metadata": {},
   "cell_type": "code",
   "outputs": [
    {
     "data": {
      "text/plain": [
       "<seaborn.axisgrid.FacetGrid at 0x247e03f9f40>"
      ]
     },
     "execution_count": 5,
     "metadata": {},
     "output_type": "execute_result"
    }
   ],
   "execution_count": null,
   "source": "sns.catplot(full_table['expression__second_child_category'], kind=\"count\")",
   "id": "ffabb599891078"
  },
  {
   "metadata": {},
   "cell_type": "code",
   "outputs": [],
   "execution_count": 12,
   "source": "print_frequency_anal_for_cat_var(full_table, 'expression__second_child_category')",
   "id": "dcb87856634bb557"
  },
  {
   "metadata": {},
   "cell_type": "markdown",
   "source": [
    "### Variable third_child_category (5/9)\n",
    "Esta variable es de tipo categorica y representa la categoria del tercer hijo de la expresion."
   ],
   "id": "192bc37d2e2aa9e"
  },
  {
   "metadata": {},
   "cell_type": "code",
   "outputs": [
    {
     "data": {
      "text/plain": [
       "<seaborn.axisgrid.FacetGrid at 0x247e03f9f40>"
      ]
     },
     "execution_count": 5,
     "metadata": {},
     "output_type": "execute_result"
    }
   ],
   "execution_count": null,
   "source": "sns.catplot(full_table['expression__third_child_category'], kind=\"count\")",
   "id": "deca7b985cf7cefd"
  },
  {
   "metadata": {},
   "cell_type": "code",
   "outputs": [],
   "execution_count": 12,
   "source": "print_frequency_anal_for_cat_var(full_table, 'expression__third_child_category')",
   "id": "f515005da65dd1b1"
  },
  {
   "metadata": {},
   "cell_type": "markdown",
   "source": [
    "### Variable fourth_child_category (6/9)\n",
    "Esta variable es de tipo categorica y representa la categoria del cuarto hijo de la expresion."
   ],
   "id": "fd920458f132f4cb"
  },
  {
   "metadata": {},
   "cell_type": "code",
   "outputs": [
    {
     "data": {
      "text/plain": [
       "<seaborn.axisgrid.FacetGrid at 0x247e03f9f40>"
      ]
     },
     "execution_count": 5,
     "metadata": {},
     "output_type": "execute_result"
    }
   ],
   "execution_count": null,
   "source": "sns.catplot(full_table['expression__fourth_child_category'], kind=\"count\")",
   "id": "c8832377dbeb995"
  },
  {
   "metadata": {},
   "cell_type": "code",
   "outputs": [],
   "execution_count": 12,
   "source": "print_frequency_anal_for_cat_var(full_table, 'expression__fourth_child_category')",
   "id": "97573dc7ee95ad03"
  },
  {
   "metadata": {},
   "cell_type": "markdown",
   "source": [
    "### Variable expression_role (7/9)\n",
    "Esta variable es de tipo categorica y representa el rol de la expresion en su padre."
   ],
   "id": "80b4efa046886172"
  },
  {
   "metadata": {},
   "cell_type": "code",
   "outputs": [
    {
     "data": {
      "text/plain": [
       "<seaborn.axisgrid.FacetGrid at 0x247e03f9f40>"
      ]
     },
     "execution_count": 5,
     "metadata": {},
     "output_type": "execute_result"
    }
   ],
   "execution_count": null,
   "source": "sns.catplot(full_table['expression__expression_role'], kind=\"count\")",
   "id": "2ac26d291c0fe1bb"
  },
  {
   "metadata": {},
   "cell_type": "code",
   "outputs": [],
   "execution_count": 12,
   "source": "print_frequency_anal_for_cat_var(full_table, 'expression__expression_role')",
   "id": "f6c349a83f5701de"
  },
  {
   "metadata": {},
   "cell_type": "markdown",
   "source": [
    "### Variable height (8/9)\n",
    "Esta variable representa la distancia de la expresión al root del módulo (fichero). Como vimos en la descripción de la tabla esta varibale adopta valores en el rango 1 - 87. Con una media de 5.169."
   ],
   "id": "d5ae2395dd96d9e4"
  },
  {
   "metadata": {},
   "cell_type": "code",
   "outputs": [
    {
     "data": {
      "text/plain": [
       "<Axes: ylabel='statement__height'>"
      ]
     },
     "execution_count": 27,
     "metadata": {},
     "output_type": "execute_result"
    },
    {
     "data": {
      "text/plain": [
       "<Figure size 640x480 with 1 Axes>"
      ],
      "image/png": "[encoded data removed]"
     },
     "metadata": {},
     "output_type": "display_data"
    }
   ],
   "execution_count": 27,
   "source": "sns.stripplot(X['expression__height'])",
   "id": "113da56510072c22"
  },
  {
   "metadata": {
    "ExecuteTime": {
     "end_time": "2024-05-14T17:21:49.457238Z",
     "start_time": "2024-05-14T17:21:35.779976Z"
    }
   },
   "cell_type": "code",
   "source": "print_outliers_for_df_column(X, 'expression__height')",
   "id": "cf6b614f2a0a6e06",
   "outputs": [
    {
     "name": "stdout",
     "output_type": "stream",
     "text": [
      "El coeficiente MC (Medcouple Coefficient) de balanceo es: 0.8653156883631834\n",
      "Rango valores atípicos extremos (Tukey): [-2.0,12.0]\n",
      "Rango valores atípicos leves (Tukey): [1.0,9.0]\n",
      "Rango valores atípicos extremos (Fixed BoxPlot): [3.8548507304062483,101.57153666735599]\n",
      "-3.0IQR: 0 instancias tienen un valor para expression__height inferior a -2.0 (Q1-3*IQR) para expression__height. Representando un 0.0% del total de instancias.\n",
      "-1.5IQR: 0 instancias tienen un valor para expression__height inferior a 1.0 (Q1-1.5*IQR) para expression__height. Representando un 0.0% del total de instancias.\n",
      "+1.5IQR: 261397 instancias tienen un valor para expression__height superior a 9.0 (Q3+1.5*IQR) para expression__height. Representando un 3.226% del total de instancias.\n",
      "+3.0IQR: 56889 instancias tienen un valor para expression__height superior a 12.0 (Q3-3*IQR) para expression__height. Representando un 0.7021% del total de instancias.\n",
      "L: 1365633 instancias tienen un valor para expression__height inferior a 3.8548507304062483 para expression__height. Representando un 16.85% del total de instancias.\n",
      "U: 0 instancias tienen un valor para expression__height superior a 101.57153666735599 para expression__height. Representando un 0.0% del total de instancias.\n"
     ]
    }
   ],
   "execution_count": 8
  },
  {
   "metadata": {},
   "cell_type": "code",
   "outputs": [
    {
     "data": {
      "text/plain": [
       "       statement__category statement__parent statement__statement_role  \\\n",
       "count                 6054              6054                      6054   \n",
       "unique                  17                 8                        11   \n",
       "top         AssignmentStmt                If                    IfBody   \n",
       "freq                  2329              5599                      3572   \n",
       "mean                   NaN               NaN                       NaN   \n",
       "std                    NaN               NaN                       NaN   \n",
       "min                    NaN               NaN                       NaN   \n",
       "25%                    NaN               NaN                       NaN   \n",
       "50%                    NaN               NaN                       NaN   \n",
       "75%                    NaN               NaN                       NaN   \n",
       "max                    NaN               NaN                       NaN   \n",
       "\n",
       "        statement__height  statement__depth statement__has_or_else  \\\n",
       "count         6054.000000       6054.000000                   2249   \n",
       "unique                NaN               NaN                      2   \n",
       "top                   NaN               NaN                   True   \n",
       "freq                  NaN               NaN                   1516   \n",
       "mean            16.970763          4.782293                    NaN   \n",
       "std              7.836486          5.582493                    NaN   \n",
       "min             11.000000          0.000000                    NaN   \n",
       "25%             11.000000          2.000000                    NaN   \n",
       "50%             13.000000          3.000000                    NaN   \n",
       "75%             19.000000          5.000000                    NaN   \n",
       "max             54.000000         47.000000                    NaN   \n",
       "\n",
       "        statement__body_size statement__expertise_level  \n",
       "count            2253.000000                       6054  \n",
       "unique                   NaN                          2  \n",
       "top                      NaN                   BEGINNER  \n",
       "freq                     NaN                       3550  \n",
       "mean                1.823347                        NaN  \n",
       "std                 1.402499                        NaN  \n",
       "min                 1.000000                        NaN  \n",
       "25%                 1.000000                        NaN  \n",
       "50%                 1.000000                        NaN  \n",
       "75%                 2.000000                        NaN  \n",
       "max                11.000000                        NaN  "
      ],
      "text/html": [
       "<div>\n",
       "<style scoped>\n",
       "    .dataframe tbody tr th:only-of-type {\n",
       "        vertical-align: middle;\n",
       "    }\n",
       "\n",
       "    .dataframe tbody tr th {\n",
       "        vertical-align: top;\n",
       "    }\n",
       "\n",
       "    .dataframe thead th {\n",
       "        text-align: right;\n",
       "    }\n",
       "</style>\n",
       "<table border=\"1\" class=\"dataframe\">\n",
       "  <thead>\n",
       "    <tr style=\"text-align: right;\">\n",
       "      <th></th>\n",
       "      <th>statement__category</th>\n",
       "      <th>statement__parent</th>\n",
       "      <th>statement__statement_role</th>\n",
       "      <th>statement__height</th>\n",
       "      <th>statement__depth</th>\n",
       "      <th>statement__has_or_else</th>\n",
       "      <th>statement__body_size</th>\n",
       "      <th>statement__expertise_level</th>\n",
       "    </tr>\n",
       "  </thead>\n",
       "  <tbody>\n",
       "    <tr>\n",
       "      <th>count</th>\n",
       "      <td>6054</td>\n",
       "      <td>6054</td>\n",
       "      <td>6054</td>\n",
       "      <td>6054.000000</td>\n",
       "      <td>6054.000000</td>\n",
       "      <td>2249</td>\n",
       "      <td>2253.000000</td>\n",
       "      <td>6054</td>\n",
       "    </tr>\n",
       "    <tr>\n",
       "      <th>unique</th>\n",
       "      <td>17</td>\n",
       "      <td>8</td>\n",
       "      <td>11</td>\n",
       "      <td>NaN</td>\n",
       "      <td>NaN</td>\n",
       "      <td>2</td>\n",
       "      <td>NaN</td>\n",
       "      <td>2</td>\n",
       "    </tr>\n",
       "    <tr>\n",
       "      <th>top</th>\n",
       "      <td>AssignmentStmt</td>\n",
       "      <td>If</td>\n",
       "      <td>IfBody</td>\n",
       "      <td>NaN</td>\n",
       "      <td>NaN</td>\n",
       "      <td>True</td>\n",
       "      <td>NaN</td>\n",
       "      <td>BEGINNER</td>\n",
       "    </tr>\n",
       "    <tr>\n",
       "      <th>freq</th>\n",
       "      <td>2329</td>\n",
       "      <td>5599</td>\n",
       "      <td>3572</td>\n",
       "      <td>NaN</td>\n",
       "      <td>NaN</td>\n",
       "      <td>1516</td>\n",
       "      <td>NaN</td>\n",
       "      <td>3550</td>\n",
       "    </tr>\n",
       "    <tr>\n",
       "      <th>mean</th>\n",
       "      <td>NaN</td>\n",
       "      <td>NaN</td>\n",
       "      <td>NaN</td>\n",
       "      <td>16.970763</td>\n",
       "      <td>4.782293</td>\n",
       "      <td>NaN</td>\n",
       "      <td>1.823347</td>\n",
       "      <td>NaN</td>\n",
       "    </tr>\n",
       "    <tr>\n",
       "      <th>std</th>\n",
       "      <td>NaN</td>\n",
       "      <td>NaN</td>\n",
       "      <td>NaN</td>\n",
       "      <td>7.836486</td>\n",
       "      <td>5.582493</td>\n",
       "      <td>NaN</td>\n",
       "      <td>1.402499</td>\n",
       "      <td>NaN</td>\n",
       "    </tr>\n",
       "    <tr>\n",
       "      <th>min</th>\n",
       "      <td>NaN</td>\n",
       "      <td>NaN</td>\n",
       "      <td>NaN</td>\n",
       "      <td>11.000000</td>\n",
       "      <td>0.000000</td>\n",
       "      <td>NaN</td>\n",
       "      <td>1.000000</td>\n",
       "      <td>NaN</td>\n",
       "    </tr>\n",
       "    <tr>\n",
       "      <th>25%</th>\n",
       "      <td>NaN</td>\n",
       "      <td>NaN</td>\n",
       "      <td>NaN</td>\n",
       "      <td>11.000000</td>\n",
       "      <td>2.000000</td>\n",
       "      <td>NaN</td>\n",
       "      <td>1.000000</td>\n",
       "      <td>NaN</td>\n",
       "    </tr>\n",
       "    <tr>\n",
       "      <th>50%</th>\n",
       "      <td>NaN</td>\n",
       "      <td>NaN</td>\n",
       "      <td>NaN</td>\n",
       "      <td>13.000000</td>\n",
       "      <td>3.000000</td>\n",
       "      <td>NaN</td>\n",
       "      <td>1.000000</td>\n",
       "      <td>NaN</td>\n",
       "    </tr>\n",
       "    <tr>\n",
       "      <th>75%</th>\n",
       "      <td>NaN</td>\n",
       "      <td>NaN</td>\n",
       "      <td>NaN</td>\n",
       "      <td>19.000000</td>\n",
       "      <td>5.000000</td>\n",
       "      <td>NaN</td>\n",
       "      <td>2.000000</td>\n",
       "      <td>NaN</td>\n",
       "    </tr>\n",
       "    <tr>\n",
       "      <th>max</th>\n",
       "      <td>NaN</td>\n",
       "      <td>NaN</td>\n",
       "      <td>NaN</td>\n",
       "      <td>54.000000</td>\n",
       "      <td>47.000000</td>\n",
       "      <td>NaN</td>\n",
       "      <td>11.000000</td>\n",
       "      <td>NaN</td>\n",
       "    </tr>\n",
       "  </tbody>\n",
       "</table>\n",
       "</div>"
      ]
     },
     "execution_count": 29,
     "metadata": {},
     "output_type": "execute_result"
    }
   ],
   "execution_count": 29,
   "source": "X[X['expression__height'] > 12].describe(percentiles=[.25, .50, .75], include = ['object', 'float', 'bool', 'int'])",
   "id": "20b2401bbcd1d930"
  },
  {
   "metadata": {},
   "cell_type": "markdown",
   "source": [
    "### Variable depth (9/9)\n",
    "Esta variable representa la distancia desde la expresion hasta una hoja del ast. Como vimos en la descripción de la tabla esta varibale adopta valores en el rango 0 - 81. Con una media de 0.60."
   ],
   "id": "1d5b6e2f22c2e3c8"
  },
  {
   "metadata": {},
   "cell_type": "code",
   "outputs": [
    {
     "data": {
      "text/plain": [
       "<Axes: ylabel='statement__depth'>"
      ]
     },
     "execution_count": 30,
     "metadata": {},
     "output_type": "execute_result"
    },
    {
     "data": {
      "text/plain": [
       "<Figure size 640x480 with 1 Axes>"
      ],
      "image/png": "[encoded data removed]"
     },
     "metadata": {},
     "output_type": "display_data"
    }
   ],
   "execution_count": 30,
   "source": "sns.stripplot(X['expression__depth'])",
   "id": "7e76b366b7dd7489"
  },
  {
   "metadata": {
    "ExecuteTime": {
     "end_time": "2024-05-14T17:20:30.235625Z",
     "start_time": "2024-05-14T17:20:13.855029Z"
    }
   },
   "cell_type": "code",
   "source": "print_outliers_for_df_column(X, 'expression__depth')",
   "id": "64b013db0fda2078",
   "outputs": [
    {
     "name": "stdout",
     "output_type": "stream",
     "text": [
      "El coeficiente MC (Medcouple Coefficient) de balanceo es: 0.579330862787257\n",
      "Rango valores atípicos extremos (Tukey): [-3.0,4.0]\n",
      "Rango valores atípicos leves (Tukey): [-1.5,2.5]\n",
      "Rango valores atípicos extremos (Fixed BoxPlot): [-0.1974652002075085,16.222712549546234]\n",
      "-3.0IQR: 0 instancias tienen un valor para expression__depth inferior a -3.0 (Q1-3*IQR) para expression__depth. Representando un 0.0% del total de instancias.\n",
      "-1.5IQR: 0 instancias tienen un valor para expression__depth inferior a -1.5 (Q1-1.5*IQR) para expression__depth. Representando un 0.0% del total de instancias.\n",
      "+1.5IQR: 474914 instancias tienen un valor para expression__depth superior a 2.5 (Q3+1.5*IQR) para expression__depth. Representando un 5.861% del total de instancias.\n",
      "+3.0IQR: 68139 instancias tienen un valor para expression__depth superior a 4.0 (Q3-3*IQR) para expression__depth. Representando un 0.841% del total de instancias.\n",
      "L: 0 instancias tienen un valor para expression__depth inferior a -0.1974652002075085 para expression__depth. Representando un 0.0% del total de instancias.\n",
      "U: 513 instancias tienen un valor para expression__depth superior a 16.222712549546234 para expression__depth. Representando un 0.006331% del total de instancias.\n"
     ]
    }
   ],
   "execution_count": 7
  },
  {
   "metadata": {},
   "cell_type": "code",
   "outputs": [
    {
     "data": {
      "text/plain": [
       "       statement__category statement__parent statement__statement_role  \\\n",
       "count                 1732              1732                      1732   \n",
       "unique                   8                 9                        13   \n",
       "top                     If                If                IfElseBody   \n",
       "freq                  1366              1116                       971   \n",
       "mean                   NaN               NaN                       NaN   \n",
       "std                    NaN               NaN                       NaN   \n",
       "min                    NaN               NaN                       NaN   \n",
       "25%                    NaN               NaN                       NaN   \n",
       "50%                    NaN               NaN                       NaN   \n",
       "75%                    NaN               NaN                       NaN   \n",
       "max                    NaN               NaN                       NaN   \n",
       "\n",
       "        statement__height  statement__depth statement__has_or_else  \\\n",
       "count         1732.000000       1732.000000                   1620   \n",
       "unique                NaN               NaN                      2   \n",
       "top                   NaN               NaN                   True   \n",
       "freq                  NaN               NaN                   1198   \n",
       "mean             7.739607         19.975173                    NaN   \n",
       "std              7.376308          8.001947                    NaN   \n",
       "min              1.000000         14.000000                    NaN   \n",
       "25%              3.000000         15.000000                    NaN   \n",
       "50%              5.000000         17.000000                    NaN   \n",
       "75%             10.000000         22.000000                    NaN   \n",
       "max             44.000000         82.000000                    NaN   \n",
       "\n",
       "        statement__body_size statement__expertise_level  \n",
       "count            1625.000000                       1732  \n",
       "unique                   NaN                          2  \n",
       "top                      NaN                   BEGINNER  \n",
       "freq                     NaN                        953  \n",
       "mean                3.207385                        NaN  \n",
       "std                 7.810215                        NaN  \n",
       "min                 1.000000                        NaN  \n",
       "25%                 1.000000                        NaN  \n",
       "50%                 2.000000                        NaN  \n",
       "75%                 3.000000                        NaN  \n",
       "max               276.000000                        NaN  "
      ],
      "text/html": [
       "<div>\n",
       "<style scoped>\n",
       "    .dataframe tbody tr th:only-of-type {\n",
       "        vertical-align: middle;\n",
       "    }\n",
       "\n",
       "    .dataframe tbody tr th {\n",
       "        vertical-align: top;\n",
       "    }\n",
       "\n",
       "    .dataframe thead th {\n",
       "        text-align: right;\n",
       "    }\n",
       "</style>\n",
       "<table border=\"1\" class=\"dataframe\">\n",
       "  <thead>\n",
       "    <tr style=\"text-align: right;\">\n",
       "      <th></th>\n",
       "      <th>statement__category</th>\n",
       "      <th>statement__parent</th>\n",
       "      <th>statement__statement_role</th>\n",
       "      <th>statement__height</th>\n",
       "      <th>statement__depth</th>\n",
       "      <th>statement__has_or_else</th>\n",
       "      <th>statement__body_size</th>\n",
       "      <th>statement__expertise_level</th>\n",
       "    </tr>\n",
       "  </thead>\n",
       "  <tbody>\n",
       "    <tr>\n",
       "      <th>count</th>\n",
       "      <td>1732</td>\n",
       "      <td>1732</td>\n",
       "      <td>1732</td>\n",
       "      <td>1732.000000</td>\n",
       "      <td>1732.000000</td>\n",
       "      <td>1620</td>\n",
       "      <td>1625.000000</td>\n",
       "      <td>1732</td>\n",
       "    </tr>\n",
       "    <tr>\n",
       "      <th>unique</th>\n",
       "      <td>8</td>\n",
       "      <td>9</td>\n",
       "      <td>13</td>\n",
       "      <td>NaN</td>\n",
       "      <td>NaN</td>\n",
       "      <td>2</td>\n",
       "      <td>NaN</td>\n",
       "      <td>2</td>\n",
       "    </tr>\n",
       "    <tr>\n",
       "      <th>top</th>\n",
       "      <td>If</td>\n",
       "      <td>If</td>\n",
       "      <td>IfElseBody</td>\n",
       "      <td>NaN</td>\n",
       "      <td>NaN</td>\n",
       "      <td>True</td>\n",
       "      <td>NaN</td>\n",
       "      <td>BEGINNER</td>\n",
       "    </tr>\n",
       "    <tr>\n",
       "      <th>freq</th>\n",
       "      <td>1366</td>\n",
       "      <td>1116</td>\n",
       "      <td>971</td>\n",
       "      <td>NaN</td>\n",
       "      <td>NaN</td>\n",
       "      <td>1198</td>\n",
       "      <td>NaN</td>\n",
       "      <td>953</td>\n",
       "    </tr>\n",
       "    <tr>\n",
       "      <th>mean</th>\n",
       "      <td>NaN</td>\n",
       "      <td>NaN</td>\n",
       "      <td>NaN</td>\n",
       "      <td>7.739607</td>\n",
       "      <td>19.975173</td>\n",
       "      <td>NaN</td>\n",
       "      <td>3.207385</td>\n",
       "      <td>NaN</td>\n",
       "    </tr>\n",
       "    <tr>\n",
       "      <th>std</th>\n",
       "      <td>NaN</td>\n",
       "      <td>NaN</td>\n",
       "      <td>NaN</td>\n",
       "      <td>7.376308</td>\n",
       "      <td>8.001947</td>\n",
       "      <td>NaN</td>\n",
       "      <td>7.810215</td>\n",
       "      <td>NaN</td>\n",
       "    </tr>\n",
       "    <tr>\n",
       "      <th>min</th>\n",
       "      <td>NaN</td>\n",
       "      <td>NaN</td>\n",
       "      <td>NaN</td>\n",
       "      <td>1.000000</td>\n",
       "      <td>14.000000</td>\n",
       "      <td>NaN</td>\n",
       "      <td>1.000000</td>\n",
       "      <td>NaN</td>\n",
       "    </tr>\n",
       "    <tr>\n",
       "      <th>25%</th>\n",
       "      <td>NaN</td>\n",
       "      <td>NaN</td>\n",
       "      <td>NaN</td>\n",
       "      <td>3.000000</td>\n",
       "      <td>15.000000</td>\n",
       "      <td>NaN</td>\n",
       "      <td>1.000000</td>\n",
       "      <td>NaN</td>\n",
       "    </tr>\n",
       "    <tr>\n",
       "      <th>50%</th>\n",
       "      <td>NaN</td>\n",
       "      <td>NaN</td>\n",
       "      <td>NaN</td>\n",
       "      <td>5.000000</td>\n",
       "      <td>17.000000</td>\n",
       "      <td>NaN</td>\n",
       "      <td>2.000000</td>\n",
       "      <td>NaN</td>\n",
       "    </tr>\n",
       "    <tr>\n",
       "      <th>75%</th>\n",
       "      <td>NaN</td>\n",
       "      <td>NaN</td>\n",
       "      <td>NaN</td>\n",
       "      <td>10.000000</td>\n",
       "      <td>22.000000</td>\n",
       "      <td>NaN</td>\n",
       "      <td>3.000000</td>\n",
       "      <td>NaN</td>\n",
       "    </tr>\n",
       "    <tr>\n",
       "      <th>max</th>\n",
       "      <td>NaN</td>\n",
       "      <td>NaN</td>\n",
       "      <td>NaN</td>\n",
       "      <td>44.000000</td>\n",
       "      <td>82.000000</td>\n",
       "      <td>NaN</td>\n",
       "      <td>276.000000</td>\n",
       "      <td>NaN</td>\n",
       "    </tr>\n",
       "  </tbody>\n",
       "</table>\n",
       "</div>"
      ]
     },
     "execution_count": 32,
     "metadata": {},
     "output_type": "execute_result"
    }
   ],
   "execution_count": 32,
   "source": "X[X['expression__depth'] > 4].describe(percentiles=[.25, .50, .75], include = ['object', 'float', 'bool', 'int'])",
   "id": "a7b0c64905194521"
  },
  {
   "metadata": {},
   "cell_type": "markdown",
   "source": [
    "## Multivariate\n",
    "\n",
    "TODO: isolation forest algorithm"
   ],
   "id": "8e299cbd54a1ad0f"
  },
  {
   "metadata": {
    "ExecuteTime": {
     "end_time": "2024-05-05T18:00:05.472637Z",
     "start_time": "2024-05-05T17:58:31.581262Z"
    }
   },
   "cell_type": "code",
   "source": [
    "from sklearn.ensemble import  IsolationForest\n",
    "\n",
    "CONTAMINATION_FACTOR = 0.0012\n",
    "\n",
    "isof_model = IsolationForest(contamination=CONTAMINATION_FACTOR, random_state=0)\n",
    "isof_prediction = isof_model.fit_predict(X.to_numpy())\n",
    "mask = isof_prediction == -1\n",
    "multivar_outliers = X[mask].index.tolist()\n",
    "full_table.iloc[multivar_outliers]"
   ],
   "id": "dc31e907b659599a",
   "execution_count": 13,
   "outputs": []
  }
 ],
 "metadata": {
  "kernelspec": {
   "display_name": "Python 3 (ipykernel)",
   "language": "python",
   "name": "python3"
  },
  "language_info": {
   "codemirror_mode": {
    "name": "ipython",
    "version": 3
   },
   "file_extension": ".py",
   "mimetype": "text/x-python",
   "name": "python",
   "nbconvert_exporter": "python",
   "pygments_lexer": "ipython3",
   "version": "3.12.2"
  },
  "toc-autonumbering": true,
  "toc-showcode": false,
  "toc-showmarkdowntxt": false,
  "toc-showtags": false
 },
 "nbformat": 4,
 "nbformat_minor": 5
}
