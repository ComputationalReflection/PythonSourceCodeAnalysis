{
 "cells": [
  {
   "cell_type": "markdown",
   "id": "ea78b212-ff32-40d1-92e1-9e09d847ae78",
   "metadata": {
    "pycharm": {
     "name": "#%% md\n"
    }
   },
   "source": [
    "# Imports EXPERT\n",
    "\n",
    "Esta tabla contiene la información de los imports a nivel de fichero (módulo). --> ABEL COMPLETAR <--"
   ]
  },
  {
   "cell_type": "markdown",
   "id": "b862cb2f-c1e0-4074-92c0-004dea379079",
   "metadata": {
    "pycharm": {
     "name": "#%% md\n"
    }
   },
   "source": [
    "## 1 - Obtencion de datos"
   ]
  },
  {
   "cell_type": "code",
   "id": "63793d9c-9473-44fa-bb1d-8e4b32fa1457",
   "metadata": {
    "pycharm": {
     "name": "#%%\n"
    },
    "tags": [],
    "ExecuteTime": {
     "end_time": "2024-05-29T09:01:39.229811Z",
     "start_time": "2024-05-29T09:01:37.698955Z"
    }
   },
   "source": [
    "import matplotlib.pyplot as plt\n",
    "from notebooks_utils import *\n",
    "\n",
    "TARGET_FEATURE = 'import__expertise_level'\n",
    "TARGET_CLASS = 'EXPERT'\n",
    "full_table = get_data('imports')\n",
    "\n",
    "instances_for_class_low = len(full_table[full_table[TARGET_FEATURE] == \"BEGINNER\"])\n",
    "instances_for_class_high = len(full_table[full_table[TARGET_FEATURE] == \"EXPERT\"])\n",
    "\n",
    "print(f\"The dataset contains {instances_for_class_low} ({instances_for_class_low/len(full_table)*100:.4}%) instances for BEGINNER class and {instances_for_class_high} ({instances_for_class_high/len(full_table)*100:.4}%) for EXPERT class.\")"
   ],
   "outputs": [
    {
     "name": "stdout",
     "output_type": "stream",
     "text": [
      "2024-05-29 11:01:39.221842 Data cache files found ...\n",
      "2024-05-29 11:01:39.224841 Data cache files successfully loaded!!\n",
      "The dataset contains 7124 (39.09%) instances for BEGINNER class and 11102 (60.91%) for EXPERT class.\n"
     ]
    }
   ],
   "execution_count": 1
  },
  {
   "metadata": {
    "ExecuteTime": {
     "end_time": "2024-05-29T09:01:39.239866Z",
     "start_time": "2024-05-29T09:01:39.231350Z"
    }
   },
   "cell_type": "code",
   "source": [
    "full_table = full_table[full_table[TARGET_FEATURE] == TARGET_CLASS]\n",
    "\n",
    "# Table name, features and target.\n",
    "TABLE_NAME = 'imports'\n",
    "TABLE_FEATURES = ['import__number_imports', 'import__module_imports_pct', 'import__average_imported_modules', 'import__from_imports_pct', 'import__average_from_imported_modules', 'import__average_as_in_imported_modules', 'import__local_imports_pct']\n",
    "\n",
    "# Load features and target.\n",
    "X = full_table[TABLE_FEATURES]\n",
    "\n",
    "# Print information about the loaded table.\n",
    "print(f'Features shape: {X.shape}')\n",
    "\n",
    "print(f'As we can see the downloaded data contains a total of {X.shape[0]} instances. For each instance we have {X.shape[1]} attributes.')"
   ],
   "id": "f58e0cbd92cdd2a2",
   "outputs": [
    {
     "name": "stdout",
     "output_type": "stream",
     "text": [
      "Features shape: (11102, 7)\n",
      "As we can see the downloaded data contains a total of 11102 instances. For each instance we have 7 attributes.\n"
     ]
    }
   ],
   "execution_count": 2
  },
  {
   "cell_type": "markdown",
   "id": "3ff70454-366f-4231-831d-723eeb63576b",
   "metadata": {},
   "source": [
    "## 2 - Exploracion de datos\n",
    "\n",
    "Una vez tenemos nuestra tabla en un dataframe el siguiente paso es explorarla para ver qué tipo de información contiene."
   ]
  },
  {
   "cell_type": "code",
   "id": "9b526577-537d-44b0-951b-168278ce7a5c",
   "metadata": {
    "ExecuteTime": {
     "end_time": "2024-05-29T09:01:39.248712Z",
     "start_time": "2024-05-29T09:01:39.240871Z"
    }
   },
   "source": "print(X.info())",
   "outputs": [
    {
     "name": "stdout",
     "output_type": "stream",
     "text": [
      "<class 'pandas.core.frame.DataFrame'>\n",
      "Index: 11102 entries, 7124 to 18225\n",
      "Data columns (total 7 columns):\n",
      " #   Column                                  Non-Null Count  Dtype  \n",
      "---  ------                                  --------------  -----  \n",
      " 0   import__number_imports                  11102 non-null  int64  \n",
      " 1   import__module_imports_pct              11102 non-null  float64\n",
      " 2   import__average_imported_modules        11102 non-null  float64\n",
      " 3   import__from_imports_pct                11102 non-null  float64\n",
      " 4   import__average_from_imported_modules   11102 non-null  float64\n",
      " 5   import__average_as_in_imported_modules  11102 non-null  float64\n",
      " 6   import__local_imports_pct               11102 non-null  float64\n",
      "dtypes: float64(6), int64(1)\n",
      "memory usage: 693.9 KB\n",
      "None\n"
     ]
    }
   ],
   "execution_count": 3
  },
  {
   "cell_type": "markdown",
   "id": "cbf77cd4-9819-4da1-9405-44054d2290e1",
   "metadata": {},
   "source": "Cómo podemos ver la tabla está compuesta por 7 variables numéricas y una de tipo objeto. "
  },
  {
   "cell_type": "markdown",
   "id": "7f619a1e-3b8b-4929-b41c-8edef4cc2d6a",
   "metadata": {},
   "source": [
    "### 2.2 - Duplicados\n",
    "Miramos si la tabla tiene entradas duplicadas."
   ]
  },
  {
   "cell_type": "code",
   "id": "ba8d29f2-8771-4e1f-8ecb-31bb827bf988",
   "metadata": {
    "ExecuteTime": {
     "end_time": "2024-05-29T09:01:39.256681Z",
     "start_time": "2024-05-29T09:01:39.249717Z"
    }
   },
   "source": [
    "number_of_duplicated_entries = sum(full_table.duplicated(subset=TABLE_FEATURES))\n",
    "duplicated_entries_pct = number_of_duplicated_entries / len(full_table) * 100\n",
    "print(f\"The dataset contains [{duplicated_entries_pct:.4}%] of duplicated entries.\")"
   ],
   "outputs": [
    {
     "name": "stdout",
     "output_type": "stream",
     "text": [
      "The dataset contains [74.94%] of duplicated entries.\n"
     ]
    }
   ],
   "execution_count": 4
  },
  {
   "cell_type": "markdown",
   "id": "31d297c18f157194",
   "metadata": {
    "collapsed": false
   },
   "source": [
    "### 2.3 - Valores Nulos \n",
    "Miramos si alguna de las variables que contiene la tabla contiene algún valor que sea nulo."
   ]
  },
  {
   "cell_type": "code",
   "id": "afeed2ce9080cbbb",
   "metadata": {
    "collapsed": false,
    "ExecuteTime": {
     "end_time": "2024-05-29T09:01:39.264853Z",
     "start_time": "2024-05-29T09:01:39.257687Z"
    }
   },
   "source": [
    "X.isnull().sum()"
   ],
   "outputs": [
    {
     "data": {
      "text/plain": [
       "import__number_imports                    0\n",
       "import__module_imports_pct                0\n",
       "import__average_imported_modules          0\n",
       "import__from_imports_pct                  0\n",
       "import__average_from_imported_modules     0\n",
       "import__average_as_in_imported_modules    0\n",
       "import__local_imports_pct                 0\n",
       "dtype: int64"
      ]
     },
     "execution_count": 5,
     "metadata": {},
     "output_type": "execute_result"
    }
   ],
   "execution_count": 5
  },
  {
   "cell_type": "markdown",
   "id": "1a8e02c0c52edff9",
   "metadata": {
    "collapsed": false
   },
   "source": "Aunque una columna no contenga valores nulos podría ser que contenga valores vacíos."
  },
  {
   "cell_type": "code",
   "id": "73b9dc2f9efc111a",
   "metadata": {
    "collapsed": false,
    "ExecuteTime": {
     "end_time": "2024-05-29T09:01:39.271091Z",
     "start_time": "2024-05-29T09:01:39.265859Z"
    }
   },
   "source": [
    "print_empty_cols(X)"
   ],
   "outputs": [
    {
     "name": "stdout",
     "output_type": "stream",
     "text": [
      "import__number_imports\n",
      "----------------------\n",
      "0 instancias no tienen un valor para la columna import__number_imports\n",
      "\n",
      "\n",
      "import__module_imports_pct\n",
      "--------------------------\n",
      "0 instancias no tienen un valor para la columna import__module_imports_pct\n",
      "\n",
      "\n",
      "import__average_imported_modules\n",
      "--------------------------------\n",
      "0 instancias no tienen un valor para la columna import__average_imported_modules\n",
      "\n",
      "\n",
      "import__from_imports_pct\n",
      "------------------------\n",
      "0 instancias no tienen un valor para la columna import__from_imports_pct\n",
      "\n",
      "\n",
      "import__average_from_imported_modules\n",
      "-------------------------------------\n",
      "0 instancias no tienen un valor para la columna import__average_from_imported_modules\n",
      "\n",
      "\n",
      "import__average_as_in_imported_modules\n",
      "--------------------------------------\n",
      "0 instancias no tienen un valor para la columna import__average_as_in_imported_modules\n",
      "\n",
      "\n",
      "import__local_imports_pct\n",
      "-------------------------\n",
      "0 instancias no tienen un valor para la columna import__local_imports_pct\n",
      "\n",
      "\n"
     ]
    }
   ],
   "execution_count": 6
  },
  {
   "cell_type": "markdown",
   "id": "105774ea722bf467",
   "metadata": {
    "collapsed": false
   },
   "source": [
    "### 2.4 - Describimos los valores de las variables de la tabla."
   ]
  },
  {
   "cell_type": "code",
   "id": "d3be1e5cec1af46c",
   "metadata": {
    "collapsed": false,
    "ExecuteTime": {
     "end_time": "2024-05-29T09:01:39.294919Z",
     "start_time": "2024-05-29T09:01:39.272095Z"
    }
   },
   "source": [
    "np.transpose(X.describe(percentiles=[.25, .50, .75], include = ['object', 'float', 'bool', 'int']))"
   ],
   "outputs": [
    {
     "data": {
      "text/plain": [
       "                                          count      mean       std  min  \\\n",
       "import__number_imports                  11102.0  6.211403  6.738149  0.0   \n",
       "import__module_imports_pct              11102.0  0.288833  0.309024  0.0   \n",
       "import__average_imported_modules        11102.0  0.629493  0.499343  0.0   \n",
       "import__from_imports_pct                11102.0  0.649467  0.343146  0.0   \n",
       "import__average_from_imported_modules   11102.0  1.337413  0.961079  0.0   \n",
       "import__average_as_in_imported_modules  11102.0  0.018821  0.094881  0.0   \n",
       "import__local_imports_pct               11102.0  0.680033  0.461931  0.0   \n",
       "\n",
       "                                             25%       50%       75%    max  \n",
       "import__number_imports                  2.000000  5.000000  9.000000  194.0  \n",
       "import__module_imports_pct              0.000000  0.200000  0.500000    1.0  \n",
       "import__average_imported_modules        0.000000  1.000000  1.000000    8.5  \n",
       "import__from_imports_pct                0.428571  0.727273  1.000000    1.0  \n",
       "import__average_from_imported_modules   1.000000  1.069048  1.666667   23.0  \n",
       "import__average_as_in_imported_modules  0.000000  0.000000  0.000000    1.0  \n",
       "import__local_imports_pct               0.000000  1.000000  1.000000    1.0  "
      ],
      "text/html": [
       "<div>\n",
       "<style scoped>\n",
       "    .dataframe tbody tr th:only-of-type {\n",
       "        vertical-align: middle;\n",
       "    }\n",
       "\n",
       "    .dataframe tbody tr th {\n",
       "        vertical-align: top;\n",
       "    }\n",
       "\n",
       "    .dataframe thead th {\n",
       "        text-align: right;\n",
       "    }\n",
       "</style>\n",
       "<table border=\"1\" class=\"dataframe\">\n",
       "  <thead>\n",
       "    <tr style=\"text-align: right;\">\n",
       "      <th></th>\n",
       "      <th>count</th>\n",
       "      <th>mean</th>\n",
       "      <th>std</th>\n",
       "      <th>min</th>\n",
       "      <th>25%</th>\n",
       "      <th>50%</th>\n",
       "      <th>75%</th>\n",
       "      <th>max</th>\n",
       "    </tr>\n",
       "  </thead>\n",
       "  <tbody>\n",
       "    <tr>\n",
       "      <th>import__number_imports</th>\n",
       "      <td>11102.0</td>\n",
       "      <td>6.211403</td>\n",
       "      <td>6.738149</td>\n",
       "      <td>0.0</td>\n",
       "      <td>2.000000</td>\n",
       "      <td>5.000000</td>\n",
       "      <td>9.000000</td>\n",
       "      <td>194.0</td>\n",
       "    </tr>\n",
       "    <tr>\n",
       "      <th>import__module_imports_pct</th>\n",
       "      <td>11102.0</td>\n",
       "      <td>0.288833</td>\n",
       "      <td>0.309024</td>\n",
       "      <td>0.0</td>\n",
       "      <td>0.000000</td>\n",
       "      <td>0.200000</td>\n",
       "      <td>0.500000</td>\n",
       "      <td>1.0</td>\n",
       "    </tr>\n",
       "    <tr>\n",
       "      <th>import__average_imported_modules</th>\n",
       "      <td>11102.0</td>\n",
       "      <td>0.629493</td>\n",
       "      <td>0.499343</td>\n",
       "      <td>0.0</td>\n",
       "      <td>0.000000</td>\n",
       "      <td>1.000000</td>\n",
       "      <td>1.000000</td>\n",
       "      <td>8.5</td>\n",
       "    </tr>\n",
       "    <tr>\n",
       "      <th>import__from_imports_pct</th>\n",
       "      <td>11102.0</td>\n",
       "      <td>0.649467</td>\n",
       "      <td>0.343146</td>\n",
       "      <td>0.0</td>\n",
       "      <td>0.428571</td>\n",
       "      <td>0.727273</td>\n",
       "      <td>1.000000</td>\n",
       "      <td>1.0</td>\n",
       "    </tr>\n",
       "    <tr>\n",
       "      <th>import__average_from_imported_modules</th>\n",
       "      <td>11102.0</td>\n",
       "      <td>1.337413</td>\n",
       "      <td>0.961079</td>\n",
       "      <td>0.0</td>\n",
       "      <td>1.000000</td>\n",
       "      <td>1.069048</td>\n",
       "      <td>1.666667</td>\n",
       "      <td>23.0</td>\n",
       "    </tr>\n",
       "    <tr>\n",
       "      <th>import__average_as_in_imported_modules</th>\n",
       "      <td>11102.0</td>\n",
       "      <td>0.018821</td>\n",
       "      <td>0.094881</td>\n",
       "      <td>0.0</td>\n",
       "      <td>0.000000</td>\n",
       "      <td>0.000000</td>\n",
       "      <td>0.000000</td>\n",
       "      <td>1.0</td>\n",
       "    </tr>\n",
       "    <tr>\n",
       "      <th>import__local_imports_pct</th>\n",
       "      <td>11102.0</td>\n",
       "      <td>0.680033</td>\n",
       "      <td>0.461931</td>\n",
       "      <td>0.0</td>\n",
       "      <td>0.000000</td>\n",
       "      <td>1.000000</td>\n",
       "      <td>1.000000</td>\n",
       "      <td>1.0</td>\n",
       "    </tr>\n",
       "  </tbody>\n",
       "</table>\n",
       "</div>"
      ]
     },
     "execution_count": 7,
     "metadata": {},
     "output_type": "execute_result"
    }
   ],
   "execution_count": 7
  },
  {
   "cell_type": "markdown",
   "id": "b9f859b03e8083f1",
   "metadata": {
    "collapsed": false
   },
   "source": "Vamos a discretizar las variables numericas, agrupando conjuntos de valores en categorias, para hacer un análisis de los datos. Para cada variable es necesaario ver la distribucion de lo valores para hacer los bins (categorias)."
  },
  {
   "cell_type": "code",
   "id": "b7cf5fae0fd0e5ef",
   "metadata": {
    "collapsed": false,
    "ExecuteTime": {
     "end_time": "2024-05-29T09:01:39.396764Z",
     "start_time": "2024-05-29T09:01:39.295925Z"
    }
   },
   "source": [
    "# DISCRETIZATION\n",
    "X_copy = X.copy()\n",
    "\n",
    "discretized_columns = {\n",
    "    \"import__number_imports\": [(0, 0), (0, 3), (3, 7), (7, inf)],  # min: 0 max: 194 \n",
    "    \"import__module_imports_pct\": [(0.0, 0.0), (0.0, 0.5), (0.5, 1), (1, 1)],  # min: 0.0 max: 1.0 \n",
    "    \"import__average_imported_modules\": [(0.0, 0.0), (0.0, inf)],  # min: 0.0 max: 8.5 \n",
    "    \"import__from_imports_pct\": [(0.0, 0.0), (0.0, 0.5), (0.5, 1), (1, 1)],  # min: 0.0 max: 1.0 \n",
    "    \"import__average_from_imported_modules\": [(0.0, 0.0), (1.0, 1.0), (1.0, inf)],  # min: 0.0 max: 23.0 \n",
    "    \"import__average_as_in_imported_modules\": [(0.0, 0.0), (0.0, inf)],  # min: 0.0 max: 1.0 \n",
    "    \"import__local_imports_pct\": [(0.0, 0.0), (0.0, 1.0), (1.0, 1.0)],  # min: 0.0 max: 1.0 \n",
    "}\n",
    "\n",
    "discretize_columns(X_copy, discretized_columns)\n",
    "    \n",
    "# SINGLE FEATURE\n",
    "print(\"--- SINGLE FEATURE ---\")\n",
    "print(get_statistics(X_copy, ['import__number_imports'], 10))\n",
    "print(get_statistics(X_copy, ['import__module_imports_pct'], 10))\n",
    "print(get_statistics(X_copy, ['import__average_imported_modules'], 10))\n",
    "print(get_statistics(X_copy, ['import__from_imports_pct'], 10))\n",
    "print(get_statistics(X_copy, ['import__average_from_imported_modules'], 10))\n",
    "print(get_statistics(X_copy, ['import__average_as_in_imported_modules'], 10))\n",
    "print(get_statistics(X_copy, ['import__local_imports_pct'], 10))\n",
    "\n",
    "# 2 FEATURES\n",
    "print(\"--- TWO FEATURES ---\")\n",
    "print(get_statistics(X_copy, ['import__average_imported_modules', 'import__module_imports_pct'], 10))\n",
    "\n",
    "# 3 FEATURES\n",
    "print(\"--- THREE FEATURES ---\")\n",
    "#print(get_statistics(X_copy, ['program__has_sub_dirs_with_code', 'program__has_packages', 'program__has_code_root_package'], 10))"
   ],
   "outputs": [
    {
     "name": "stdout",
     "output_type": "stream",
     "text": [
      "--- SINGLE FEATURE ---\n",
      "import__number_imports  count  percentage\n",
      "               [7_inf]   3985   35.894433\n",
      "                 [3_7)   3576   32.210413\n",
      "                 [0_3)   2856   25.725095\n",
      "                 [0_0]    685    6.170059\n",
      "\n",
      "import__module_imports_pct  count  percentage\n",
      "                 [0.0_0.0]   4152   37.398667\n",
      "                 [0.0_0.5)   3867   34.831562\n",
      "                   [0.5_1)   2324   20.933165\n",
      "                     [1_1]    759    6.836606\n",
      "\n",
      "import__average_imported_modules  count  percentage\n",
      "                       [0.0_inf]   6950   62.601333\n",
      "                       [0.0_0.0]   4152   37.398667\n",
      "\n",
      "import__from_imports_pct  count  percentage\n",
      "                 [0.5_1)   4737   42.667988\n",
      "                   [1_1]   3467   31.228607\n",
      "               [0.0_0.5)   1454   13.096739\n",
      "               [0.0_0.0]   1444   13.006665\n",
      "\n",
      "import__average_from_imported_modules  count  percentage\n",
      "                            [1.0_inf]   5555   50.036030\n",
      "                            [1.0_1.0]   4103   36.957305\n",
      "                            [0.0_0.0]   1444   13.006665\n",
      "\n",
      "import__average_as_in_imported_modules  count  percentage\n",
      "                             [0.0_0.0]  10262   92.433796\n",
      "                             [0.0_inf]    840    7.566204\n",
      "\n",
      "import__local_imports_pct  count  percentage\n",
      "                [1.0_1.0]   7416   66.798775\n",
      "                [0.0_0.0]   3442   31.003423\n",
      "                [0.0_1.0)    244    2.197802\n",
      "\n",
      "--- TWO FEATURES ---\n",
      "import__average_imported_modules import__module_imports_pct  count  percentage\n",
      "                       [0.0_0.0]                  [0.0_0.0]   4152   37.398667\n",
      "                       [0.0_inf]                  [0.0_0.5)   3867   34.831562\n",
      "                       [0.0_inf]                    [0.5_1)   2324   20.933165\n",
      "                       [0.0_inf]                      [1_1]    759    6.836606\n",
      "\n",
      "--- THREE FEATURES ---\n"
     ]
    }
   ],
   "execution_count": 8
  },
  {
   "cell_type": "code",
   "id": "1ca9a43e-6db6-44a7-aaab-65f00d1ea79e",
   "metadata": {
    "pycharm": {
     "name": "#%%\n"
    },
    "tags": [],
    "ExecuteTime": {
     "end_time": "2024-05-29T09:01:39.402672Z",
     "start_time": "2024-05-29T09:01:39.397769Z"
    }
   },
   "source": [
    "def normalize_datatypes(X:pd.DataFrame) -> (pd.DataFrame, [str]):\n",
    "    X = pd.get_dummies(X)\n",
    "    X = X.astype('float32')        \n",
    "    columns_names = X.columns.tolist()\n",
    "    return X, columns_names\n",
    "\n",
    "X, TABLE_FEATURES = normalize_datatypes(X)\n",
    "# Print information about the loaded table\n",
    "print(f'Features shape: {X.shape}')"
   ],
   "outputs": [
    {
     "name": "stdout",
     "output_type": "stream",
     "text": [
      "Features shape: (11102, 7)\n"
     ]
    }
   ],
   "execution_count": 9
  },
  {
   "cell_type": "markdown",
   "id": "e9fc6a7d9acd9a9e",
   "metadata": {
    "collapsed": false
   },
   "source": [
    "#### Muestra la matriz de correlación de pearson entre las variables de la tabla."
   ]
  },
  {
   "cell_type": "code",
   "id": "70af048034c80af1",
   "metadata": {
    "collapsed": false,
    "ExecuteTime": {
     "end_time": "2024-05-29T09:01:39.771612Z",
     "start_time": "2024-05-29T09:01:39.404677Z"
    }
   },
   "source": [
    "sns.heatmap(X.corr(), annot=True)"
   ],
   "outputs": [
    {
     "data": {
      "text/plain": [
       "<Axes: >"
      ]
     },
     "execution_count": 10,
     "metadata": {},
     "output_type": "execute_result"
    },
    {
     "data": {
      "text/plain": [
       "<Figure size 640x480 with 2 Axes>"
      ],
      "image/png": "[encoded data removed]"
     },
     "metadata": {},
     "output_type": "display_data"
    }
   ],
   "execution_count": 10
  },
  {
   "cell_type": "markdown",
   "id": "9a47cdd4cc2b3fae",
   "metadata": {
    "collapsed": false
   },
   "source": [
    "## 3 - Detección de valores atípicos (outliers)\n",
    "## Univariate\n",
    "## Analisis detallado de variables\n",
    "Para cada una de las 7 variable (3 porcentuales y 4 numericas y una categorica)"
   ]
  },
  {
   "metadata": {},
   "cell_type": "markdown",
   "source": [
    "### Variable number_imports (1/7)\n",
    "Esta variable es de tipo numérica y nos indica el número imports definidos en el fichero. Como vimos en la descripción de la tabla esta varibale adopta valores en el rango 0 - 194. Con una media de 6.2."
   ],
   "id": "b8ac28118b9c7e95"
  },
  {
   "metadata": {
    "ExecuteTime": {
     "end_time": "2024-05-29T09:01:39.927680Z",
     "start_time": "2024-05-29T09:01:39.772618Z"
    }
   },
   "cell_type": "code",
   "source": "sns.stripplot(X['import__number_imports'])",
   "id": "5eacddae8fc77a62",
   "outputs": [
    {
     "data": {
      "text/plain": [
       "<Axes: ylabel='import__number_imports'>"
      ]
     },
     "execution_count": 11,
     "metadata": {},
     "output_type": "execute_result"
    },
    {
     "data": {
      "text/plain": [
       "<Figure size 640x480 with 1 Axes>"
      ],
      "image/png": "[encoded data removed]"
     },
     "metadata": {},
     "output_type": "display_data"
    }
   ],
   "execution_count": 11
  },
  {
   "metadata": {},
   "cell_type": "markdown",
   "source": [
    "### IMPORTANTE\n",
    "Los valores máximos están muy alejados del siguiente."
   ],
   "id": "b2434ab5c02721ad"
  },
  {
   "metadata": {
    "ExecuteTime": {
     "end_time": "2024-05-29T09:01:39.937309Z",
     "start_time": "2024-05-29T09:01:39.928687Z"
    }
   },
   "cell_type": "code",
   "source": "print_outliers_for_df_column(X, 'import__number_imports')",
   "id": "cfc7351841dbaeeb",
   "outputs": [
    {
     "name": "stdout",
     "output_type": "stream",
     "text": [
      "El coeficiente MC (Medcouple Coefficient) de balanceo es: 0.872178469856087\n",
      "Rango valores atípicos extremos (Tukey): [-19.0,30.0]\n",
      "Rango valores atípicos leves (Tukey): [-8.5,19.5]\n",
      "Rango valores atípicos extremos (Fixed BoxPlot): [1.5040347361811164,352.8099853481194]\n",
      "-3.0IQR: 0 instancias tienen un valor para import__number_imports inferior a -19.0 (Q1-3*IQR) para import__number_imports. Representando un 0.0% del total de instancias.\n",
      "-1.5IQR: 0 instancias tienen un valor para import__number_imports inferior a -8.5 (Q1-1.5*IQR) para import__number_imports. Representando un 0.0% del total de instancias.\n",
      "+1.5IQR: 374 instancias tienen un valor para import__number_imports superior a 19.5 (Q3+1.5*IQR) para import__number_imports. Representando un 3.369% del total de instancias.\n",
      "+3.0IQR: 88 instancias tienen un valor para import__number_imports superior a 30.0 (Q3-3*IQR) para import__number_imports. Representando un 0.7926% del total de instancias.\n",
      "L: 2004 instancias tienen un valor para import__number_imports inferior a 1.5040347361811164 para import__number_imports. Representando un 18.05% del total de instancias.\n",
      "U: 0 instancias tienen un valor para import__number_imports superior a 352.8099853481194 para import__number_imports. Representando un 0.0% del total de instancias.\n"
     ]
    }
   ],
   "execution_count": 12
  },
  {
   "metadata": {},
   "cell_type": "markdown",
   "source": "Describimos los valores de las variables de la tabla, cuando el valor de la variable es mayor que 30 (Con un MC de 87 usamos Tuckey Extremo)",
   "id": "843b1a6a63a56fb9"
  },
  {
   "metadata": {
    "ExecuteTime": {
     "end_time": "2024-05-29T09:01:39.959862Z",
     "start_time": "2024-05-29T09:01:39.938316Z"
    }
   },
   "cell_type": "code",
   "source": "X[X['import__number_imports'] > 30].describe(percentiles=[.25, .50, .75], include = ['object', 'float', 'bool', 'int'])",
   "id": "689c534bf17a722e",
   "outputs": [
    {
     "data": {
      "text/plain": [
       "       import__number_imports  import__module_imports_pct  \\\n",
       "count               88.000000                   88.000000   \n",
       "mean                47.545456                    0.212317   \n",
       "std                 25.673416                    0.179856   \n",
       "min                 31.000000                    0.000000   \n",
       "25%                 33.750000                    0.055890   \n",
       "50%                 40.000000                    0.179902   \n",
       "75%                 52.000000                    0.302502   \n",
       "max                194.000000                    0.741935   \n",
       "\n",
       "       import__average_imported_modules  import__from_imports_pct  \\\n",
       "count                         88.000000                 88.000000   \n",
       "mean                           0.897727                  0.787683   \n",
       "std                            0.304743                  0.179856   \n",
       "min                            0.000000                  0.258065   \n",
       "25%                            1.000000                  0.697498   \n",
       "50%                            1.000000                  0.820098   \n",
       "75%                            1.000000                  0.944110   \n",
       "max                            1.000000                  1.000000   \n",
       "\n",
       "       import__average_from_imported_modules  \\\n",
       "count                              88.000000   \n",
       "mean                                1.530460   \n",
       "std                                 0.644906   \n",
       "min                                 1.000000   \n",
       "25%                                 1.000000   \n",
       "50%                                 1.150000   \n",
       "75%                                 2.034259   \n",
       "max                                 3.300000   \n",
       "\n",
       "       import__average_as_in_imported_modules  import__local_imports_pct  \n",
       "count                               88.000000                  88.000000  \n",
       "mean                                 0.032592                   0.507943  \n",
       "std                                  0.064655                   0.499724  \n",
       "min                                  0.000000                   0.000000  \n",
       "25%                                  0.000000                   0.000000  \n",
       "50%                                  0.003846                   0.880317  \n",
       "75%                                  0.035244                   1.000000  \n",
       "max                                  0.384615                   1.000000  "
      ],
      "text/html": [
       "<div>\n",
       "<style scoped>\n",
       "    .dataframe tbody tr th:only-of-type {\n",
       "        vertical-align: middle;\n",
       "    }\n",
       "\n",
       "    .dataframe tbody tr th {\n",
       "        vertical-align: top;\n",
       "    }\n",
       "\n",
       "    .dataframe thead th {\n",
       "        text-align: right;\n",
       "    }\n",
       "</style>\n",
       "<table border=\"1\" class=\"dataframe\">\n",
       "  <thead>\n",
       "    <tr style=\"text-align: right;\">\n",
       "      <th></th>\n",
       "      <th>import__number_imports</th>\n",
       "      <th>import__module_imports_pct</th>\n",
       "      <th>import__average_imported_modules</th>\n",
       "      <th>import__from_imports_pct</th>\n",
       "      <th>import__average_from_imported_modules</th>\n",
       "      <th>import__average_as_in_imported_modules</th>\n",
       "      <th>import__local_imports_pct</th>\n",
       "    </tr>\n",
       "  </thead>\n",
       "  <tbody>\n",
       "    <tr>\n",
       "      <th>count</th>\n",
       "      <td>88.000000</td>\n",
       "      <td>88.000000</td>\n",
       "      <td>88.000000</td>\n",
       "      <td>88.000000</td>\n",
       "      <td>88.000000</td>\n",
       "      <td>88.000000</td>\n",
       "      <td>88.000000</td>\n",
       "    </tr>\n",
       "    <tr>\n",
       "      <th>mean</th>\n",
       "      <td>47.545456</td>\n",
       "      <td>0.212317</td>\n",
       "      <td>0.897727</td>\n",
       "      <td>0.787683</td>\n",
       "      <td>1.530460</td>\n",
       "      <td>0.032592</td>\n",
       "      <td>0.507943</td>\n",
       "    </tr>\n",
       "    <tr>\n",
       "      <th>std</th>\n",
       "      <td>25.673416</td>\n",
       "      <td>0.179856</td>\n",
       "      <td>0.304743</td>\n",
       "      <td>0.179856</td>\n",
       "      <td>0.644906</td>\n",
       "      <td>0.064655</td>\n",
       "      <td>0.499724</td>\n",
       "    </tr>\n",
       "    <tr>\n",
       "      <th>min</th>\n",
       "      <td>31.000000</td>\n",
       "      <td>0.000000</td>\n",
       "      <td>0.000000</td>\n",
       "      <td>0.258065</td>\n",
       "      <td>1.000000</td>\n",
       "      <td>0.000000</td>\n",
       "      <td>0.000000</td>\n",
       "    </tr>\n",
       "    <tr>\n",
       "      <th>25%</th>\n",
       "      <td>33.750000</td>\n",
       "      <td>0.055890</td>\n",
       "      <td>1.000000</td>\n",
       "      <td>0.697498</td>\n",
       "      <td>1.000000</td>\n",
       "      <td>0.000000</td>\n",
       "      <td>0.000000</td>\n",
       "    </tr>\n",
       "    <tr>\n",
       "      <th>50%</th>\n",
       "      <td>40.000000</td>\n",
       "      <td>0.179902</td>\n",
       "      <td>1.000000</td>\n",
       "      <td>0.820098</td>\n",
       "      <td>1.150000</td>\n",
       "      <td>0.003846</td>\n",
       "      <td>0.880317</td>\n",
       "    </tr>\n",
       "    <tr>\n",
       "      <th>75%</th>\n",
       "      <td>52.000000</td>\n",
       "      <td>0.302502</td>\n",
       "      <td>1.000000</td>\n",
       "      <td>0.944110</td>\n",
       "      <td>2.034259</td>\n",
       "      <td>0.035244</td>\n",
       "      <td>1.000000</td>\n",
       "    </tr>\n",
       "    <tr>\n",
       "      <th>max</th>\n",
       "      <td>194.000000</td>\n",
       "      <td>0.741935</td>\n",
       "      <td>1.000000</td>\n",
       "      <td>1.000000</td>\n",
       "      <td>3.300000</td>\n",
       "      <td>0.384615</td>\n",
       "      <td>1.000000</td>\n",
       "    </tr>\n",
       "  </tbody>\n",
       "</table>\n",
       "</div>"
      ]
     },
     "execution_count": 13,
     "metadata": {},
     "output_type": "execute_result"
    }
   ],
   "execution_count": 13
  },
  {
   "metadata": {},
   "cell_type": "markdown",
   "source": [
    "### Variable average_imported_modules (2/7)\n",
    "Esta variable representa el número medio de alias importados en cada clausula import. Como vimos en la descripción de la tabla esta varibale adopta valores en el rango 0 - 8.5. Con una media de 0.62."
   ],
   "id": "8f8a651cfdff0bcd"
  },
  {
   "metadata": {
    "ExecuteTime": {
     "end_time": "2024-05-29T09:01:40.100621Z",
     "start_time": "2024-05-29T09:01:39.960867Z"
    }
   },
   "cell_type": "code",
   "source": "sns.stripplot(X['import__average_imported_modules'])",
   "id": "1ebb40d57c0b140",
   "outputs": [
    {
     "data": {
      "text/plain": [
       "<Axes: ylabel='import__average_imported_modules'>"
      ]
     },
     "execution_count": 14,
     "metadata": {},
     "output_type": "execute_result"
    },
    {
     "data": {
      "text/plain": [
       "<Figure size 640x480 with 1 Axes>"
      ],
      "image/png": "[encoded data removed]"
     },
     "metadata": {},
     "output_type": "display_data"
    }
   ],
   "execution_count": 14
  },
  {
   "metadata": {},
   "cell_type": "markdown",
   "source": [
    "### IMPORTANTE\n",
    "Los valores máximos están muy alejados del siguiente. "
   ],
   "id": "921f450151cf85e1"
  },
  {
   "metadata": {
    "ExecuteTime": {
     "end_time": "2024-05-29T09:01:40.109628Z",
     "start_time": "2024-05-29T09:01:40.101627Z"
    }
   },
   "cell_type": "code",
   "source": "print_outliers_for_df_column(X, 'import__average_imported_modules')",
   "id": "6a0f48c2e0e6cff",
   "outputs": [
    {
     "name": "stdout",
     "output_type": "stream",
     "text": [
      "El coeficiente MC (Medcouple Coefficient) de balanceo es: 0.40414746719248157\n",
      "Rango valores atípicos extremos (Tukey): [-3.0,4.0]\n",
      "Rango valores atípicos leves (Tukey): [-1.5,2.5]\n",
      "Rango valores atípicos extremos (Fixed BoxPlot): [-0.364564777575883,8.553831944917837]\n",
      "-3.0IQR: 0 instancias tienen un valor para import__average_imported_modules inferior a -3.0 (Q1-3*IQR) para import__average_imported_modules. Representando un 0.0% del total de instancias.\n",
      "-1.5IQR: 0 instancias tienen un valor para import__average_imported_modules inferior a -1.5 (Q1-1.5*IQR) para import__average_imported_modules. Representando un 0.0% del total de instancias.\n",
      "+1.5IQR: 9 instancias tienen un valor para import__average_imported_modules superior a 2.5 (Q3+1.5*IQR) para import__average_imported_modules. Representando un 0.08107% del total de instancias.\n",
      "+3.0IQR: 4 instancias tienen un valor para import__average_imported_modules superior a 4.0 (Q3-3*IQR) para import__average_imported_modules. Representando un 0.03603% del total de instancias.\n",
      "L: 0 instancias tienen un valor para import__average_imported_modules inferior a -0.364564777575883 para import__average_imported_modules. Representando un 0.0% del total de instancias.\n",
      "U: 0 instancias tienen un valor para import__average_imported_modules superior a 8.553831944917837 para import__average_imported_modules. Representando un 0.0% del total de instancias.\n"
     ]
    }
   ],
   "execution_count": 15
  },
  {
   "metadata": {},
   "cell_type": "markdown",
   "source": "Describimos los valores de las variables de la tabla, cuando el valor de la variable es mayor que 4.0 (Con un MC de 40 usamos Tuckey Extremo)",
   "id": "50a44d7648d76a00"
  },
  {
   "metadata": {
    "ExecuteTime": {
     "end_time": "2024-05-29T09:01:40.130650Z",
     "start_time": "2024-05-29T09:01:40.110952Z"
    }
   },
   "cell_type": "code",
   "source": "X[X['import__average_imported_modules'] > 4.0].describe(percentiles=[.25, .50, .75], include = ['object', 'float', 'bool', 'int'])",
   "id": "87724eeca9c29f75",
   "outputs": [
    {
     "data": {
      "text/plain": [
       "       import__number_imports  import__module_imports_pct  \\\n",
       "count                4.000000                    4.000000   \n",
       "mean                 5.750000                    0.305556   \n",
       "std                  3.304038                    0.130289   \n",
       "min                  2.000000                    0.222222   \n",
       "25%                  3.500000                    0.243056   \n",
       "50%                  6.000000                    0.250000   \n",
       "75%                  8.250000                    0.312500   \n",
       "max                  9.000000                    0.500000   \n",
       "\n",
       "       import__average_imported_modules  import__from_imports_pct  \\\n",
       "count                          4.000000                  4.000000   \n",
       "mean                           6.125000                  0.694444   \n",
       "std                            1.652019                  0.130289   \n",
       "min                            5.000000                  0.500000   \n",
       "25%                            5.000000                  0.687500   \n",
       "50%                            5.500000                  0.750000   \n",
       "75%                            6.625000                  0.756944   \n",
       "max                            8.500000                  0.777778   \n",
       "\n",
       "       import__average_from_imported_modules  \\\n",
       "count                               4.000000   \n",
       "mean                                3.065476   \n",
       "std                                 1.491140   \n",
       "min                                 1.500000   \n",
       "25%                                 2.196429   \n",
       "50%                                 2.880952   \n",
       "75%                                 3.750000   \n",
       "max                                 5.000000   \n",
       "\n",
       "       import__average_as_in_imported_modules  import__local_imports_pct  \n",
       "count                                4.000000                   4.000000  \n",
       "mean                                 0.027778                   0.479167  \n",
       "std                                  0.055556                   0.335927  \n",
       "min                                  0.000000                   0.000000  \n",
       "25%                                  0.000000                   0.375000  \n",
       "50%                                  0.000000                   0.583333  \n",
       "75%                                  0.027778                   0.687500  \n",
       "max                                  0.111111                   0.750000  "
      ],
      "text/html": [
       "<div>\n",
       "<style scoped>\n",
       "    .dataframe tbody tr th:only-of-type {\n",
       "        vertical-align: middle;\n",
       "    }\n",
       "\n",
       "    .dataframe tbody tr th {\n",
       "        vertical-align: top;\n",
       "    }\n",
       "\n",
       "    .dataframe thead th {\n",
       "        text-align: right;\n",
       "    }\n",
       "</style>\n",
       "<table border=\"1\" class=\"dataframe\">\n",
       "  <thead>\n",
       "    <tr style=\"text-align: right;\">\n",
       "      <th></th>\n",
       "      <th>import__number_imports</th>\n",
       "      <th>import__module_imports_pct</th>\n",
       "      <th>import__average_imported_modules</th>\n",
       "      <th>import__from_imports_pct</th>\n",
       "      <th>import__average_from_imported_modules</th>\n",
       "      <th>import__average_as_in_imported_modules</th>\n",
       "      <th>import__local_imports_pct</th>\n",
       "    </tr>\n",
       "  </thead>\n",
       "  <tbody>\n",
       "    <tr>\n",
       "      <th>count</th>\n",
       "      <td>4.000000</td>\n",
       "      <td>4.000000</td>\n",
       "      <td>4.000000</td>\n",
       "      <td>4.000000</td>\n",
       "      <td>4.000000</td>\n",
       "      <td>4.000000</td>\n",
       "      <td>4.000000</td>\n",
       "    </tr>\n",
       "    <tr>\n",
       "      <th>mean</th>\n",
       "      <td>5.750000</td>\n",
       "      <td>0.305556</td>\n",
       "      <td>6.125000</td>\n",
       "      <td>0.694444</td>\n",
       "      <td>3.065476</td>\n",
       "      <td>0.027778</td>\n",
       "      <td>0.479167</td>\n",
       "    </tr>\n",
       "    <tr>\n",
       "      <th>std</th>\n",
       "      <td>3.304038</td>\n",
       "      <td>0.130289</td>\n",
       "      <td>1.652019</td>\n",
       "      <td>0.130289</td>\n",
       "      <td>1.491140</td>\n",
       "      <td>0.055556</td>\n",
       "      <td>0.335927</td>\n",
       "    </tr>\n",
       "    <tr>\n",
       "      <th>min</th>\n",
       "      <td>2.000000</td>\n",
       "      <td>0.222222</td>\n",
       "      <td>5.000000</td>\n",
       "      <td>0.500000</td>\n",
       "      <td>1.500000</td>\n",
       "      <td>0.000000</td>\n",
       "      <td>0.000000</td>\n",
       "    </tr>\n",
       "    <tr>\n",
       "      <th>25%</th>\n",
       "      <td>3.500000</td>\n",
       "      <td>0.243056</td>\n",
       "      <td>5.000000</td>\n",
       "      <td>0.687500</td>\n",
       "      <td>2.196429</td>\n",
       "      <td>0.000000</td>\n",
       "      <td>0.375000</td>\n",
       "    </tr>\n",
       "    <tr>\n",
       "      <th>50%</th>\n",
       "      <td>6.000000</td>\n",
       "      <td>0.250000</td>\n",
       "      <td>5.500000</td>\n",
       "      <td>0.750000</td>\n",
       "      <td>2.880952</td>\n",
       "      <td>0.000000</td>\n",
       "      <td>0.583333</td>\n",
       "    </tr>\n",
       "    <tr>\n",
       "      <th>75%</th>\n",
       "      <td>8.250000</td>\n",
       "      <td>0.312500</td>\n",
       "      <td>6.625000</td>\n",
       "      <td>0.756944</td>\n",
       "      <td>3.750000</td>\n",
       "      <td>0.027778</td>\n",
       "      <td>0.687500</td>\n",
       "    </tr>\n",
       "    <tr>\n",
       "      <th>max</th>\n",
       "      <td>9.000000</td>\n",
       "      <td>0.500000</td>\n",
       "      <td>8.500000</td>\n",
       "      <td>0.777778</td>\n",
       "      <td>5.000000</td>\n",
       "      <td>0.111111</td>\n",
       "      <td>0.750000</td>\n",
       "    </tr>\n",
       "  </tbody>\n",
       "</table>\n",
       "</div>"
      ]
     },
     "execution_count": 16,
     "metadata": {},
     "output_type": "execute_result"
    }
   ],
   "execution_count": 16
  },
  {
   "metadata": {},
   "cell_type": "markdown",
   "source": [
    "### IMPORTANTE\n",
    "Mirar estos 4 imports"
   ],
   "id": "698de5e1bc3d6e4f"
  },
  {
   "metadata": {},
   "cell_type": "markdown",
   "source": [
    "### Variable average_from_imported_modules (3/7)\n",
    "Esta variable representa el número medio de imports con la clausula From. Como vimos en la descripción de la tabla esta varibale adopta valores en el rango 0 - 23.0. Con una media de 1.33."
   ],
   "id": "2a00f5be59e6d4a9"
  },
  {
   "metadata": {
    "ExecuteTime": {
     "end_time": "2024-05-29T09:01:40.278110Z",
     "start_time": "2024-05-29T09:01:40.131658Z"
    }
   },
   "cell_type": "code",
   "source": "sns.stripplot(X['import__average_from_imported_modules'])",
   "id": "bcf42c4ca6fb0146",
   "outputs": [
    {
     "data": {
      "text/plain": [
       "<Axes: ylabel='import__average_from_imported_modules'>"
      ]
     },
     "execution_count": 17,
     "metadata": {},
     "output_type": "execute_result"
    },
    {
     "data": {
      "text/plain": [
       "<Figure size 640x480 with 1 Axes>"
      ],
      "image/png": "[encoded data removed]"
     },
     "metadata": {},
     "output_type": "display_data"
    }
   ],
   "execution_count": 17
  },
  {
   "metadata": {},
   "cell_type": "markdown",
   "source": [
    "### IMPORTANTE\n",
    "Los valores máximos están muy alejados del siguiente."
   ],
   "id": "1e81da1c44e59bfa"
  },
  {
   "metadata": {
    "ExecuteTime": {
     "end_time": "2024-05-29T09:01:40.286761Z",
     "start_time": "2024-05-29T09:01:40.278110Z"
    }
   },
   "cell_type": "code",
   "source": "print_outliers_for_df_column(X, 'import__average_from_imported_modules')",
   "id": "2be67c4ab421c8b0",
   "outputs": [
    {
     "name": "stdout",
     "output_type": "stream",
     "text": [
      "El coeficiente MC (Medcouple Coefficient) de balanceo es: 0.7231572730779281\n",
      "Rango valores atípicos extremos (Tukey): [-0.9999998807907104,3.6666665077209473]\n",
      "Rango valores atípicos leves (Tukey): [5.960464477539063e-08,2.666666567325592]\n",
      "Rango valores atípicos extremos (Fixed BoxPlot): [0.9204246188000956,19.707343465656493]\n",
      "-3.0IQR: 0 instancias tienen un valor para import__average_from_imported_modules inferior a -0.9999998807907104 (Q1-3*IQR) para import__average_from_imported_modules. Representando un 0.0% del total de instancias.\n",
      "-1.5IQR: 1444 instancias tienen un valor para import__average_from_imported_modules inferior a 5.960464477539063e-08 (Q1-1.5*IQR) para import__average_from_imported_modules. Representando un 13.01% del total de instancias.\n",
      "+1.5IQR: 714 instancias tienen un valor para import__average_from_imported_modules superior a 2.666666567325592 (Q3+1.5*IQR) para import__average_from_imported_modules. Representando un 6.431% del total de instancias.\n",
      "+3.0IQR: 226 instancias tienen un valor para import__average_from_imported_modules superior a 3.6666665077209473 (Q3-3*IQR) para import__average_from_imported_modules. Representando un 2.036% del total de instancias.\n",
      "L: 1444 instancias tienen un valor para import__average_from_imported_modules inferior a 0.9204246188000956 para import__average_from_imported_modules. Representando un 13.01% del total de instancias.\n",
      "U: 2 instancias tienen un valor para import__average_from_imported_modules superior a 19.707343465656493 para import__average_from_imported_modules. Representando un 0.01801% del total de instancias.\n"
     ]
    }
   ],
   "execution_count": 18
  },
  {
   "metadata": {},
   "cell_type": "markdown",
   "source": "Describimos los valores de las variables de la tabla, cuando el valor de la variable es mayor que 19.7 (Con un MC de 72 usamos U)",
   "id": "9c98aa3e712bff76"
  },
  {
   "metadata": {
    "ExecuteTime": {
     "end_time": "2024-05-29T09:01:40.311733Z",
     "start_time": "2024-05-29T09:01:40.287767Z"
    }
   },
   "cell_type": "code",
   "source": "X[X['import__average_from_imported_modules'] > 19.7].describe(percentiles=[.25, .50, .75], include = ['object', 'float', 'bool', 'int'])",
   "id": "ad1049f623d1e003",
   "outputs": [
    {
     "data": {
      "text/plain": [
       "       import__number_imports  import__module_imports_pct  \\\n",
       "count                     2.0                         2.0   \n",
       "mean                      1.0                         0.0   \n",
       "std                       0.0                         0.0   \n",
       "min                       1.0                         0.0   \n",
       "25%                       1.0                         0.0   \n",
       "50%                       1.0                         0.0   \n",
       "75%                       1.0                         0.0   \n",
       "max                       1.0                         0.0   \n",
       "\n",
       "       import__average_imported_modules  import__from_imports_pct  \\\n",
       "count                               2.0                       2.0   \n",
       "mean                                0.0                       1.0   \n",
       "std                                 0.0                       0.0   \n",
       "min                                 0.0                       1.0   \n",
       "25%                                 0.0                       1.0   \n",
       "50%                                 0.0                       1.0   \n",
       "75%                                 0.0                       1.0   \n",
       "max                                 0.0                       1.0   \n",
       "\n",
       "       import__average_from_imported_modules  \\\n",
       "count                               2.000000   \n",
       "mean                               22.500000   \n",
       "std                                 0.707107   \n",
       "min                                22.000000   \n",
       "25%                                22.250000   \n",
       "50%                                22.500000   \n",
       "75%                                22.750000   \n",
       "max                                23.000000   \n",
       "\n",
       "       import__average_as_in_imported_modules  import__local_imports_pct  \n",
       "count                                     2.0                        2.0  \n",
       "mean                                      0.0                        1.0  \n",
       "std                                       0.0                        0.0  \n",
       "min                                       0.0                        1.0  \n",
       "25%                                       0.0                        1.0  \n",
       "50%                                       0.0                        1.0  \n",
       "75%                                       0.0                        1.0  \n",
       "max                                       0.0                        1.0  "
      ],
      "text/html": [
       "<div>\n",
       "<style scoped>\n",
       "    .dataframe tbody tr th:only-of-type {\n",
       "        vertical-align: middle;\n",
       "    }\n",
       "\n",
       "    .dataframe tbody tr th {\n",
       "        vertical-align: top;\n",
       "    }\n",
       "\n",
       "    .dataframe thead th {\n",
       "        text-align: right;\n",
       "    }\n",
       "</style>\n",
       "<table border=\"1\" class=\"dataframe\">\n",
       "  <thead>\n",
       "    <tr style=\"text-align: right;\">\n",
       "      <th></th>\n",
       "      <th>import__number_imports</th>\n",
       "      <th>import__module_imports_pct</th>\n",
       "      <th>import__average_imported_modules</th>\n",
       "      <th>import__from_imports_pct</th>\n",
       "      <th>import__average_from_imported_modules</th>\n",
       "      <th>import__average_as_in_imported_modules</th>\n",
       "      <th>import__local_imports_pct</th>\n",
       "    </tr>\n",
       "  </thead>\n",
       "  <tbody>\n",
       "    <tr>\n",
       "      <th>count</th>\n",
       "      <td>2.0</td>\n",
       "      <td>2.0</td>\n",
       "      <td>2.0</td>\n",
       "      <td>2.0</td>\n",
       "      <td>2.000000</td>\n",
       "      <td>2.0</td>\n",
       "      <td>2.0</td>\n",
       "    </tr>\n",
       "    <tr>\n",
       "      <th>mean</th>\n",
       "      <td>1.0</td>\n",
       "      <td>0.0</td>\n",
       "      <td>0.0</td>\n",
       "      <td>1.0</td>\n",
       "      <td>22.500000</td>\n",
       "      <td>0.0</td>\n",
       "      <td>1.0</td>\n",
       "    </tr>\n",
       "    <tr>\n",
       "      <th>std</th>\n",
       "      <td>0.0</td>\n",
       "      <td>0.0</td>\n",
       "      <td>0.0</td>\n",
       "      <td>0.0</td>\n",
       "      <td>0.707107</td>\n",
       "      <td>0.0</td>\n",
       "      <td>0.0</td>\n",
       "    </tr>\n",
       "    <tr>\n",
       "      <th>min</th>\n",
       "      <td>1.0</td>\n",
       "      <td>0.0</td>\n",
       "      <td>0.0</td>\n",
       "      <td>1.0</td>\n",
       "      <td>22.000000</td>\n",
       "      <td>0.0</td>\n",
       "      <td>1.0</td>\n",
       "    </tr>\n",
       "    <tr>\n",
       "      <th>25%</th>\n",
       "      <td>1.0</td>\n",
       "      <td>0.0</td>\n",
       "      <td>0.0</td>\n",
       "      <td>1.0</td>\n",
       "      <td>22.250000</td>\n",
       "      <td>0.0</td>\n",
       "      <td>1.0</td>\n",
       "    </tr>\n",
       "    <tr>\n",
       "      <th>50%</th>\n",
       "      <td>1.0</td>\n",
       "      <td>0.0</td>\n",
       "      <td>0.0</td>\n",
       "      <td>1.0</td>\n",
       "      <td>22.500000</td>\n",
       "      <td>0.0</td>\n",
       "      <td>1.0</td>\n",
       "    </tr>\n",
       "    <tr>\n",
       "      <th>75%</th>\n",
       "      <td>1.0</td>\n",
       "      <td>0.0</td>\n",
       "      <td>0.0</td>\n",
       "      <td>1.0</td>\n",
       "      <td>22.750000</td>\n",
       "      <td>0.0</td>\n",
       "      <td>1.0</td>\n",
       "    </tr>\n",
       "    <tr>\n",
       "      <th>max</th>\n",
       "      <td>1.0</td>\n",
       "      <td>0.0</td>\n",
       "      <td>0.0</td>\n",
       "      <td>1.0</td>\n",
       "      <td>23.000000</td>\n",
       "      <td>0.0</td>\n",
       "      <td>1.0</td>\n",
       "    </tr>\n",
       "  </tbody>\n",
       "</table>\n",
       "</div>"
      ]
     },
     "execution_count": 19,
     "metadata": {},
     "output_type": "execute_result"
    }
   ],
   "execution_count": 19
  },
  {
   "metadata": {},
   "cell_type": "markdown",
   "source": [
    "### IMPORTANTE\n",
    "El 13% de los imports tienen average_from_imported_modules = 0.0"
   ],
   "id": "70a03d9d283e65fe"
  },
  {
   "metadata": {},
   "cell_type": "markdown",
   "source": [
    "### Variable average_as_in_imported_modules (4/7)\n",
    "Esta variable es de tipo numérica y nos indica el número medio de import con la cláusula as. Como vimos en la descripción de la tabla esta varibale adopta valores en el rango 0 - 1. Con una media de 0.09."
   ],
   "id": "37d55a98f9df4be"
  },
  {
   "metadata": {
    "ExecuteTime": {
     "end_time": "2024-05-29T09:01:40.466529Z",
     "start_time": "2024-05-29T09:01:40.312739Z"
    }
   },
   "cell_type": "code",
   "source": "sns.stripplot(X['import__average_as_in_imported_modules'])",
   "id": "8d7027a78ac296ed",
   "outputs": [
    {
     "data": {
      "text/plain": [
       "<Axes: ylabel='import__average_as_in_imported_modules'>"
      ]
     },
     "execution_count": 20,
     "metadata": {},
     "output_type": "execute_result"
    },
    {
     "data": {
      "text/plain": [
       "<Figure size 640x480 with 1 Axes>"
      ],
      "image/png": "[encoded data removed]"
     },
     "metadata": {},
     "output_type": "display_data"
    }
   ],
   "execution_count": 20
  },
  {
   "metadata": {
    "ExecuteTime": {
     "end_time": "2024-05-29T09:01:40.475660Z",
     "start_time": "2024-05-29T09:01:40.467537Z"
    }
   },
   "cell_type": "code",
   "source": "print_outliers_for_df_column(X, 'import__average_as_in_imported_modules')",
   "id": "98d831dcd0eeee02",
   "outputs": [
    {
     "name": "stdout",
     "output_type": "stream",
     "text": [
      "El coeficiente MC (Medcouple Coefficient) de balanceo es: 0.891410358546399\n",
      "Rango valores atípicos extremos (Tukey): [0.0,0.0]\n",
      "Rango valores atípicos leves (Tukey): [0.0,0.0]\n",
      "Rango valores atípicos extremos (Fixed BoxPlot): [0.0,0.0]\n",
      "-3.0IQR: 0 instancias tienen un valor para import__average_as_in_imported_modules inferior a 0.0 (Q1-3*IQR) para import__average_as_in_imported_modules. Representando un 0.0% del total de instancias.\n",
      "-1.5IQR: 0 instancias tienen un valor para import__average_as_in_imported_modules inferior a 0.0 (Q1-1.5*IQR) para import__average_as_in_imported_modules. Representando un 0.0% del total de instancias.\n",
      "+1.5IQR: 840 instancias tienen un valor para import__average_as_in_imported_modules superior a 0.0 (Q3+1.5*IQR) para import__average_as_in_imported_modules. Representando un 7.566% del total de instancias.\n",
      "+3.0IQR: 840 instancias tienen un valor para import__average_as_in_imported_modules superior a 0.0 (Q3-3*IQR) para import__average_as_in_imported_modules. Representando un 7.566% del total de instancias.\n",
      "L: 0 instancias tienen un valor para import__average_as_in_imported_modules inferior a 0.0 para import__average_as_in_imported_modules. Representando un 0.0% del total de instancias.\n",
      "U: 840 instancias tienen un valor para import__average_as_in_imported_modules superior a 0.0 para import__average_as_in_imported_modules. Representando un 7.566% del total de instancias.\n"
     ]
    }
   ],
   "execution_count": 21
  },
  {
   "metadata": {},
   "cell_type": "markdown",
   "source": "Describimos los valores de las variables de la tabla, cuando el valor de la variable es mayor que 0.0 (Con un MC de 89 usamos U)",
   "id": "7c0ecf6141e54c49"
  },
  {
   "metadata": {
    "ExecuteTime": {
     "end_time": "2024-05-29T09:01:40.497194Z",
     "start_time": "2024-05-29T09:01:40.476672Z"
    }
   },
   "cell_type": "code",
   "source": "X[X['import__average_as_in_imported_modules'] > 0.0].describe(percentiles=[.25, .50, .75], include = ['object', 'float', 'bool', 'int'])",
   "id": "74dd9804c97aef00",
   "outputs": [
    {
     "data": {
      "text/plain": [
       "       import__number_imports  import__module_imports_pct  \\\n",
       "count              840.000000                  840.000000   \n",
       "mean                11.960714                    0.220474   \n",
       "std                 13.982098                    0.206349   \n",
       "min                  1.000000                    0.000000   \n",
       "25%                  5.000000                    0.000000   \n",
       "50%                  9.000000                    0.181818   \n",
       "75%                 14.000000                    0.357143   \n",
       "max                194.000000                    0.928571   \n",
       "\n",
       "       import__average_imported_modules  import__from_imports_pct  \\\n",
       "count                        840.000000                840.000000   \n",
       "mean                           0.730357                  0.779526   \n",
       "std                            0.522641                  0.206349   \n",
       "min                            0.000000                  0.071429   \n",
       "25%                            0.000000                  0.642857   \n",
       "50%                            1.000000                  0.818182   \n",
       "75%                            1.000000                  1.000000   \n",
       "max                            8.500000                  1.000000   \n",
       "\n",
       "       import__average_from_imported_modules  \\\n",
       "count                             840.000000   \n",
       "mean                                1.352332   \n",
       "std                                 0.579893   \n",
       "min                                 1.000000   \n",
       "25%                                 1.000000   \n",
       "50%                                 1.000000   \n",
       "75%                                 1.500000   \n",
       "max                                 8.000000   \n",
       "\n",
       "       import__average_as_in_imported_modules  import__local_imports_pct  \n",
       "count                              840.000000                 840.000000  \n",
       "mean                                 0.248744                   0.499054  \n",
       "std                                  0.248702                   0.493739  \n",
       "min                                  0.007692                   0.000000  \n",
       "25%                                  0.083333                   0.000000  \n",
       "50%                                  0.142857                   0.485294  \n",
       "75%                                  0.333333                   1.000000  \n",
       "max                                  1.000000                   1.000000  "
      ],
      "text/html": [
       "<div>\n",
       "<style scoped>\n",
       "    .dataframe tbody tr th:only-of-type {\n",
       "        vertical-align: middle;\n",
       "    }\n",
       "\n",
       "    .dataframe tbody tr th {\n",
       "        vertical-align: top;\n",
       "    }\n",
       "\n",
       "    .dataframe thead th {\n",
       "        text-align: right;\n",
       "    }\n",
       "</style>\n",
       "<table border=\"1\" class=\"dataframe\">\n",
       "  <thead>\n",
       "    <tr style=\"text-align: right;\">\n",
       "      <th></th>\n",
       "      <th>import__number_imports</th>\n",
       "      <th>import__module_imports_pct</th>\n",
       "      <th>import__average_imported_modules</th>\n",
       "      <th>import__from_imports_pct</th>\n",
       "      <th>import__average_from_imported_modules</th>\n",
       "      <th>import__average_as_in_imported_modules</th>\n",
       "      <th>import__local_imports_pct</th>\n",
       "    </tr>\n",
       "  </thead>\n",
       "  <tbody>\n",
       "    <tr>\n",
       "      <th>count</th>\n",
       "      <td>840.000000</td>\n",
       "      <td>840.000000</td>\n",
       "      <td>840.000000</td>\n",
       "      <td>840.000000</td>\n",
       "      <td>840.000000</td>\n",
       "      <td>840.000000</td>\n",
       "      <td>840.000000</td>\n",
       "    </tr>\n",
       "    <tr>\n",
       "      <th>mean</th>\n",
       "      <td>11.960714</td>\n",
       "      <td>0.220474</td>\n",
       "      <td>0.730357</td>\n",
       "      <td>0.779526</td>\n",
       "      <td>1.352332</td>\n",
       "      <td>0.248744</td>\n",
       "      <td>0.499054</td>\n",
       "    </tr>\n",
       "    <tr>\n",
       "      <th>std</th>\n",
       "      <td>13.982098</td>\n",
       "      <td>0.206349</td>\n",
       "      <td>0.522641</td>\n",
       "      <td>0.206349</td>\n",
       "      <td>0.579893</td>\n",
       "      <td>0.248702</td>\n",
       "      <td>0.493739</td>\n",
       "    </tr>\n",
       "    <tr>\n",
       "      <th>min</th>\n",
       "      <td>1.000000</td>\n",
       "      <td>0.000000</td>\n",
       "      <td>0.000000</td>\n",
       "      <td>0.071429</td>\n",
       "      <td>1.000000</td>\n",
       "      <td>0.007692</td>\n",
       "      <td>0.000000</td>\n",
       "    </tr>\n",
       "    <tr>\n",
       "      <th>25%</th>\n",
       "      <td>5.000000</td>\n",
       "      <td>0.000000</td>\n",
       "      <td>0.000000</td>\n",
       "      <td>0.642857</td>\n",
       "      <td>1.000000</td>\n",
       "      <td>0.083333</td>\n",
       "      <td>0.000000</td>\n",
       "    </tr>\n",
       "    <tr>\n",
       "      <th>50%</th>\n",
       "      <td>9.000000</td>\n",
       "      <td>0.181818</td>\n",
       "      <td>1.000000</td>\n",
       "      <td>0.818182</td>\n",
       "      <td>1.000000</td>\n",
       "      <td>0.142857</td>\n",
       "      <td>0.485294</td>\n",
       "    </tr>\n",
       "    <tr>\n",
       "      <th>75%</th>\n",
       "      <td>14.000000</td>\n",
       "      <td>0.357143</td>\n",
       "      <td>1.000000</td>\n",
       "      <td>1.000000</td>\n",
       "      <td>1.500000</td>\n",
       "      <td>0.333333</td>\n",
       "      <td>1.000000</td>\n",
       "    </tr>\n",
       "    <tr>\n",
       "      <th>max</th>\n",
       "      <td>194.000000</td>\n",
       "      <td>0.928571</td>\n",
       "      <td>8.500000</td>\n",
       "      <td>1.000000</td>\n",
       "      <td>8.000000</td>\n",
       "      <td>1.000000</td>\n",
       "      <td>1.000000</td>\n",
       "    </tr>\n",
       "  </tbody>\n",
       "</table>\n",
       "</div>"
      ]
     },
     "execution_count": 22,
     "metadata": {},
     "output_type": "execute_result"
    }
   ],
   "execution_count": 22
  },
  {
   "metadata": {},
   "cell_type": "markdown",
   "source": [
    "### Variable module_imports_pct (5/7)\n",
    "Esta variable representa la proporción de import simples del fichero. Como vimos en la descripción de la tabla esta varibale adopta valores en el rango 0.0 - 1.0. Con una media de 0.28."
   ],
   "id": "fb182a156befa75a"
  },
  {
   "metadata": {
    "ExecuteTime": {
     "end_time": "2024-05-29T09:01:40.867264Z",
     "start_time": "2024-05-29T09:01:40.498202Z"
    }
   },
   "cell_type": "code",
   "source": "sns.displot(X['import__module_imports_pct'], bins=[i / 100 for i in range(0, 101)])",
   "id": "8cfc8a56a436ab6d",
   "outputs": [
    {
     "data": {
      "text/plain": [
       "<seaborn.axisgrid.FacetGrid at 0x20155b183b0>"
      ]
     },
     "execution_count": 23,
     "metadata": {},
     "output_type": "execute_result"
    },
    {
     "data": {
      "text/plain": [
       "<Figure size 500x500 with 1 Axes>"
      ],
      "image/png": "[encoded data removed]"
     },
     "metadata": {},
     "output_type": "display_data"
    }
   ],
   "execution_count": 23
  },
  {
   "metadata": {
    "ExecuteTime": {
     "end_time": "2024-05-29T09:01:40.876552Z",
     "start_time": "2024-05-29T09:01:40.868271Z"
    }
   },
   "cell_type": "code",
   "source": "print_outliers_for_df_column(X, 'import__module_imports_pct')",
   "id": "6d4e07dfc0eea73c",
   "outputs": [
    {
     "name": "stdout",
     "output_type": "stream",
     "text": [
      "El coeficiente MC (Medcouple Coefficient) de balanceo es: 0.4021436870098114\n",
      "Rango valores atípicos extremos (Tukey): [-1.5,2.0]\n",
      "Rango valores atípicos leves (Tukey): [-0.75,1.25]\n",
      "Rango valores atípicos extremos (Fixed BoxPlot): [-0.18356527053654473,4.246764530091391]\n",
      "-3.0IQR: 0 instancias tienen un valor para import__module_imports_pct inferior a -1.5 (Q1-3*IQR) para import__module_imports_pct. Representando un 0.0% del total de instancias.\n",
      "-1.5IQR: 0 instancias tienen un valor para import__module_imports_pct inferior a -0.75 (Q1-1.5*IQR) para import__module_imports_pct. Representando un 0.0% del total de instancias.\n",
      "+1.5IQR: 0 instancias tienen un valor para import__module_imports_pct superior a 1.25 (Q3+1.5*IQR) para import__module_imports_pct. Representando un 0.0% del total de instancias.\n",
      "+3.0IQR: 0 instancias tienen un valor para import__module_imports_pct superior a 2.0 (Q3-3*IQR) para import__module_imports_pct. Representando un 0.0% del total de instancias.\n",
      "L: 0 instancias tienen un valor para import__module_imports_pct inferior a -0.18356527053654473 para import__module_imports_pct. Representando un 0.0% del total de instancias.\n",
      "U: 0 instancias tienen un valor para import__module_imports_pct superior a 4.246764530091391 para import__module_imports_pct. Representando un 0.0% del total de instancias.\n"
     ]
    }
   ],
   "execution_count": 24
  },
  {
   "metadata": {
    "ExecuteTime": {
     "end_time": "2024-05-29T09:01:40.899684Z",
     "start_time": "2024-05-29T09:01:40.877557Z"
    }
   },
   "cell_type": "code",
   "source": "X[X['import__module_imports_pct'] == 0.0].describe(percentiles=[.25, .50, .75], include = ['object', 'float', 'bool', 'int'])",
   "id": "5c5b54117de99ea5",
   "outputs": [
    {
     "data": {
      "text/plain": [
       "       import__number_imports  import__module_imports_pct  \\\n",
       "count             4152.000000                      4152.0   \n",
       "mean                 2.988680                         0.0   \n",
       "std                  4.001399                         0.0   \n",
       "min                  0.000000                         0.0   \n",
       "25%                  1.000000                         0.0   \n",
       "50%                  2.000000                         0.0   \n",
       "75%                  4.000000                         0.0   \n",
       "max                 91.000000                         0.0   \n",
       "\n",
       "       import__average_imported_modules  import__from_imports_pct  \\\n",
       "count                            4152.0               4152.000000   \n",
       "mean                                0.0                  0.835019   \n",
       "std                                 0.0                  0.371208   \n",
       "min                                 0.0                  0.000000   \n",
       "25%                                 0.0                  1.000000   \n",
       "50%                                 0.0                  1.000000   \n",
       "75%                                 0.0                  1.000000   \n",
       "max                                 0.0                  1.000000   \n",
       "\n",
       "       import__average_from_imported_modules  \\\n",
       "count                            4152.000000   \n",
       "mean                                1.206069   \n",
       "std                                 1.070793   \n",
       "min                                 0.000000   \n",
       "25%                                 1.000000   \n",
       "50%                                 1.000000   \n",
       "75%                                 1.500000   \n",
       "max                                23.000000   \n",
       "\n",
       "       import__average_as_in_imported_modules  import__local_imports_pct  \n",
       "count                             4152.000000                4152.000000  \n",
       "mean                                 0.021659                   0.617869  \n",
       "std                                  0.111694                   0.484543  \n",
       "min                                  0.000000                   0.000000  \n",
       "25%                                  0.000000                   0.000000  \n",
       "50%                                  0.000000                   1.000000  \n",
       "75%                                  0.000000                   1.000000  \n",
       "max                                  1.000000                   1.000000  "
      ],
      "text/html": [
       "<div>\n",
       "<style scoped>\n",
       "    .dataframe tbody tr th:only-of-type {\n",
       "        vertical-align: middle;\n",
       "    }\n",
       "\n",
       "    .dataframe tbody tr th {\n",
       "        vertical-align: top;\n",
       "    }\n",
       "\n",
       "    .dataframe thead th {\n",
       "        text-align: right;\n",
       "    }\n",
       "</style>\n",
       "<table border=\"1\" class=\"dataframe\">\n",
       "  <thead>\n",
       "    <tr style=\"text-align: right;\">\n",
       "      <th></th>\n",
       "      <th>import__number_imports</th>\n",
       "      <th>import__module_imports_pct</th>\n",
       "      <th>import__average_imported_modules</th>\n",
       "      <th>import__from_imports_pct</th>\n",
       "      <th>import__average_from_imported_modules</th>\n",
       "      <th>import__average_as_in_imported_modules</th>\n",
       "      <th>import__local_imports_pct</th>\n",
       "    </tr>\n",
       "  </thead>\n",
       "  <tbody>\n",
       "    <tr>\n",
       "      <th>count</th>\n",
       "      <td>4152.000000</td>\n",
       "      <td>4152.0</td>\n",
       "      <td>4152.0</td>\n",
       "      <td>4152.000000</td>\n",
       "      <td>4152.000000</td>\n",
       "      <td>4152.000000</td>\n",
       "      <td>4152.000000</td>\n",
       "    </tr>\n",
       "    <tr>\n",
       "      <th>mean</th>\n",
       "      <td>2.988680</td>\n",
       "      <td>0.0</td>\n",
       "      <td>0.0</td>\n",
       "      <td>0.835019</td>\n",
       "      <td>1.206069</td>\n",
       "      <td>0.021659</td>\n",
       "      <td>0.617869</td>\n",
       "    </tr>\n",
       "    <tr>\n",
       "      <th>std</th>\n",
       "      <td>4.001399</td>\n",
       "      <td>0.0</td>\n",
       "      <td>0.0</td>\n",
       "      <td>0.371208</td>\n",
       "      <td>1.070793</td>\n",
       "      <td>0.111694</td>\n",
       "      <td>0.484543</td>\n",
       "    </tr>\n",
       "    <tr>\n",
       "      <th>min</th>\n",
       "      <td>0.000000</td>\n",
       "      <td>0.0</td>\n",
       "      <td>0.0</td>\n",
       "      <td>0.000000</td>\n",
       "      <td>0.000000</td>\n",
       "      <td>0.000000</td>\n",
       "      <td>0.000000</td>\n",
       "    </tr>\n",
       "    <tr>\n",
       "      <th>25%</th>\n",
       "      <td>1.000000</td>\n",
       "      <td>0.0</td>\n",
       "      <td>0.0</td>\n",
       "      <td>1.000000</td>\n",
       "      <td>1.000000</td>\n",
       "      <td>0.000000</td>\n",
       "      <td>0.000000</td>\n",
       "    </tr>\n",
       "    <tr>\n",
       "      <th>50%</th>\n",
       "      <td>2.000000</td>\n",
       "      <td>0.0</td>\n",
       "      <td>0.0</td>\n",
       "      <td>1.000000</td>\n",
       "      <td>1.000000</td>\n",
       "      <td>0.000000</td>\n",
       "      <td>1.000000</td>\n",
       "    </tr>\n",
       "    <tr>\n",
       "      <th>75%</th>\n",
       "      <td>4.000000</td>\n",
       "      <td>0.0</td>\n",
       "      <td>0.0</td>\n",
       "      <td>1.000000</td>\n",
       "      <td>1.500000</td>\n",
       "      <td>0.000000</td>\n",
       "      <td>1.000000</td>\n",
       "    </tr>\n",
       "    <tr>\n",
       "      <th>max</th>\n",
       "      <td>91.000000</td>\n",
       "      <td>0.0</td>\n",
       "      <td>0.0</td>\n",
       "      <td>1.000000</td>\n",
       "      <td>23.000000</td>\n",
       "      <td>1.000000</td>\n",
       "      <td>1.000000</td>\n",
       "    </tr>\n",
       "  </tbody>\n",
       "</table>\n",
       "</div>"
      ]
     },
     "execution_count": 25,
     "metadata": {},
     "output_type": "execute_result"
    }
   ],
   "execution_count": 25
  },
  {
   "metadata": {},
   "cell_type": "markdown",
   "source": [
    "### IMPORTANTE\n",
    "El 37% de los imports tienen module_imports_pct = 0.0"
   ],
   "id": "8faf83ba21f7e7b5"
  },
  {
   "metadata": {},
   "cell_type": "markdown",
   "source": [
    "### Variable from_imports_pct (6/7)\n",
    "Esta variable representa la proporción de imports que usan la clausula From en el fichero. Como vimos en la descripción de la tabla esta varibale adopta valores en el rango 0.0 - 1.0. Con una media de 0.64.\n"
   ],
   "id": "fbd6e93cca1be4bf"
  },
  {
   "metadata": {
    "ExecuteTime": {
     "end_time": "2024-05-29T09:01:41.210474Z",
     "start_time": "2024-05-29T09:01:40.900695Z"
    }
   },
   "cell_type": "code",
   "source": "sns.displot(X['import__from_imports_pct'], bins=[i / 100 for i in range(0, 101)])",
   "id": "f1b75c25c53f4ad5",
   "outputs": [
    {
     "data": {
      "text/plain": [
       "<seaborn.axisgrid.FacetGrid at 0x201585b37d0>"
      ]
     },
     "execution_count": 26,
     "metadata": {},
     "output_type": "execute_result"
    },
    {
     "data": {
      "text/plain": [
       "<Figure size 500x500 with 1 Axes>"
      ],
      "image/png": "[encoded data removed]"
     },
     "metadata": {},
     "output_type": "display_data"
    }
   ],
   "execution_count": 26
  },
  {
   "metadata": {
    "ExecuteTime": {
     "end_time": "2024-05-29T09:01:41.218397Z",
     "start_time": "2024-05-29T09:01:41.211481Z"
    }
   },
   "cell_type": "code",
   "source": "print_outliers_for_df_column(X, 'import__from_imports_pct')",
   "id": "d44c212251238f23",
   "outputs": [
    {
     "name": "stdout",
     "output_type": "stream",
     "text": [
      "El coeficiente MC (Medcouple Coefficient) de balanceo es: 0.04535283554608252\n",
      "Rango valores atípicos extremos (Tukey): [-1.2857142686843872,2.7142857015132904]\n",
      "Rango valores atípicos leves (Tukey): [-0.428571417927742,1.8571428507566452]\n",
      "Rango valores atípicos extremos (Fixed BoxPlot): [-0.3027621309665731,2.027635626125271]\n",
      "-3.0IQR: 0 instancias tienen un valor para import__from_imports_pct inferior a -1.2857142686843872 (Q1-3*IQR) para import__from_imports_pct. Representando un 0.0% del total de instancias.\n",
      "-1.5IQR: 0 instancias tienen un valor para import__from_imports_pct inferior a -0.428571417927742 (Q1-1.5*IQR) para import__from_imports_pct. Representando un 0.0% del total de instancias.\n",
      "+1.5IQR: 0 instancias tienen un valor para import__from_imports_pct superior a 1.8571428507566452 (Q3+1.5*IQR) para import__from_imports_pct. Representando un 0.0% del total de instancias.\n",
      "+3.0IQR: 0 instancias tienen un valor para import__from_imports_pct superior a 2.7142857015132904 (Q3-3*IQR) para import__from_imports_pct. Representando un 0.0% del total de instancias.\n",
      "L: 0 instancias tienen un valor para import__from_imports_pct inferior a -0.3027621309665731 para import__from_imports_pct. Representando un 0.0% del total de instancias.\n",
      "U: 0 instancias tienen un valor para import__from_imports_pct superior a 2.027635626125271 para import__from_imports_pct. Representando un 0.0% del total de instancias.\n"
     ]
    }
   ],
   "execution_count": 27
  },
  {
   "metadata": {},
   "cell_type": "markdown",
   "source": "IMPORTANTE: Estos valores siguen un distribucion en forma de U (distribucion de Laplace). Con lo que los posibles valores outliers estan en el medio, no en los extremos. No se puede aplicar el metodo de tukey. En este momento, solo vamos a mostrar los valores que hay en el medio.",
   "id": "2105fc1e9e292de7"
  },
  {
   "metadata": {
    "ExecuteTime": {
     "end_time": "2024-05-29T09:01:41.243387Z",
     "start_time": "2024-05-29T09:01:41.220917Z"
    }
   },
   "cell_type": "code",
   "source": "X[(X['import__from_imports_pct'] > 0.0) & (X['import__from_imports_pct'] < 1.0)].describe(percentiles=[.25, .50, .75], include = ['object', 'float', 'bool', 'int'])",
   "id": "b493e3454f34ef9",
   "outputs": [
    {
     "data": {
      "text/plain": [
       "       import__number_imports  import__module_imports_pct  \\\n",
       "count             6191.000000                 6191.000000   \n",
       "mean                 8.859958                    0.395351   \n",
       "std                  7.376376                    0.204791   \n",
       "min                  2.000000                    0.016949   \n",
       "25%                  5.000000                    0.230769   \n",
       "50%                  7.000000                    0.375000   \n",
       "75%                 11.000000                    0.500000   \n",
       "max                194.000000                    0.941176   \n",
       "\n",
       "       import__average_imported_modules  import__from_imports_pct  \\\n",
       "count                       6191.000000               6191.000000   \n",
       "mean                           1.004706                  0.604649   \n",
       "std                            0.141882                  0.204791   \n",
       "min                            1.000000                  0.058824   \n",
       "25%                            1.000000                  0.500000   \n",
       "50%                            1.000000                  0.625000   \n",
       "75%                            1.000000                  0.769231   \n",
       "max                            8.500000                  0.983051   \n",
       "\n",
       "       import__average_from_imported_modules  \\\n",
       "count                            6191.000000   \n",
       "mean                                1.589461   \n",
       "std                                 0.770165   \n",
       "min                                 1.000000   \n",
       "25%                                 1.000000   \n",
       "50%                                 1.363636   \n",
       "75%                                 1.928571   \n",
       "max                                11.500000   \n",
       "\n",
       "       import__average_as_in_imported_modules  import__local_imports_pct  \n",
       "count                             6191.000000                6191.000000  \n",
       "mean                                 0.019224                   0.706896  \n",
       "std                                  0.087919                   0.448393  \n",
       "min                                  0.000000                   0.000000  \n",
       "25%                                  0.000000                   0.000000  \n",
       "50%                                  0.000000                   1.000000  \n",
       "75%                                  0.000000                   1.000000  \n",
       "max                                  1.000000                   1.000000  "
      ],
      "text/html": [
       "<div>\n",
       "<style scoped>\n",
       "    .dataframe tbody tr th:only-of-type {\n",
       "        vertical-align: middle;\n",
       "    }\n",
       "\n",
       "    .dataframe tbody tr th {\n",
       "        vertical-align: top;\n",
       "    }\n",
       "\n",
       "    .dataframe thead th {\n",
       "        text-align: right;\n",
       "    }\n",
       "</style>\n",
       "<table border=\"1\" class=\"dataframe\">\n",
       "  <thead>\n",
       "    <tr style=\"text-align: right;\">\n",
       "      <th></th>\n",
       "      <th>import__number_imports</th>\n",
       "      <th>import__module_imports_pct</th>\n",
       "      <th>import__average_imported_modules</th>\n",
       "      <th>import__from_imports_pct</th>\n",
       "      <th>import__average_from_imported_modules</th>\n",
       "      <th>import__average_as_in_imported_modules</th>\n",
       "      <th>import__local_imports_pct</th>\n",
       "    </tr>\n",
       "  </thead>\n",
       "  <tbody>\n",
       "    <tr>\n",
       "      <th>count</th>\n",
       "      <td>6191.000000</td>\n",
       "      <td>6191.000000</td>\n",
       "      <td>6191.000000</td>\n",
       "      <td>6191.000000</td>\n",
       "      <td>6191.000000</td>\n",
       "      <td>6191.000000</td>\n",
       "      <td>6191.000000</td>\n",
       "    </tr>\n",
       "    <tr>\n",
       "      <th>mean</th>\n",
       "      <td>8.859958</td>\n",
       "      <td>0.395351</td>\n",
       "      <td>1.004706</td>\n",
       "      <td>0.604649</td>\n",
       "      <td>1.589461</td>\n",
       "      <td>0.019224</td>\n",
       "      <td>0.706896</td>\n",
       "    </tr>\n",
       "    <tr>\n",
       "      <th>std</th>\n",
       "      <td>7.376376</td>\n",
       "      <td>0.204791</td>\n",
       "      <td>0.141882</td>\n",
       "      <td>0.204791</td>\n",
       "      <td>0.770165</td>\n",
       "      <td>0.087919</td>\n",
       "      <td>0.448393</td>\n",
       "    </tr>\n",
       "    <tr>\n",
       "      <th>min</th>\n",
       "      <td>2.000000</td>\n",
       "      <td>0.016949</td>\n",
       "      <td>1.000000</td>\n",
       "      <td>0.058824</td>\n",
       "      <td>1.000000</td>\n",
       "      <td>0.000000</td>\n",
       "      <td>0.000000</td>\n",
       "    </tr>\n",
       "    <tr>\n",
       "      <th>25%</th>\n",
       "      <td>5.000000</td>\n",
       "      <td>0.230769</td>\n",
       "      <td>1.000000</td>\n",
       "      <td>0.500000</td>\n",
       "      <td>1.000000</td>\n",
       "      <td>0.000000</td>\n",
       "      <td>0.000000</td>\n",
       "    </tr>\n",
       "    <tr>\n",
       "      <th>50%</th>\n",
       "      <td>7.000000</td>\n",
       "      <td>0.375000</td>\n",
       "      <td>1.000000</td>\n",
       "      <td>0.625000</td>\n",
       "      <td>1.363636</td>\n",
       "      <td>0.000000</td>\n",
       "      <td>1.000000</td>\n",
       "    </tr>\n",
       "    <tr>\n",
       "      <th>75%</th>\n",
       "      <td>11.000000</td>\n",
       "      <td>0.500000</td>\n",
       "      <td>1.000000</td>\n",
       "      <td>0.769231</td>\n",
       "      <td>1.928571</td>\n",
       "      <td>0.000000</td>\n",
       "      <td>1.000000</td>\n",
       "    </tr>\n",
       "    <tr>\n",
       "      <th>max</th>\n",
       "      <td>194.000000</td>\n",
       "      <td>0.941176</td>\n",
       "      <td>8.500000</td>\n",
       "      <td>0.983051</td>\n",
       "      <td>11.500000</td>\n",
       "      <td>1.000000</td>\n",
       "      <td>1.000000</td>\n",
       "    </tr>\n",
       "  </tbody>\n",
       "</table>\n",
       "</div>"
      ]
     },
     "execution_count": 28,
     "metadata": {},
     "output_type": "execute_result"
    }
   ],
   "execution_count": 28
  },
  {
   "metadata": {},
   "cell_type": "markdown",
   "source": [
    "### IMPORTANTE\n",
    "El 13% tienen un 0% y el 31% tienen un 100%."
   ],
   "id": "b84088814a3100d6"
  },
  {
   "metadata": {},
   "cell_type": "markdown",
   "source": [
    "### Variable local_imports_pct (7/7)\n",
    "Esta variable representa la proporción de imports no escritos al comienzo del fichero. Como vimos en la descripción de la tabla esta varibale adopta valores en el rango 0.0 - 1.0. Con una media de 0.68. "
   ],
   "id": "e3d532376a1f0a16"
  },
  {
   "metadata": {
    "ExecuteTime": {
     "end_time": "2024-05-29T09:01:41.563730Z",
     "start_time": "2024-05-29T09:01:41.244394Z"
    }
   },
   "cell_type": "code",
   "source": "sns.displot(X['import__local_imports_pct'], bins=[i / 100 for i in range(0, 101)])",
   "id": "345260364ebc3bf6",
   "outputs": [
    {
     "data": {
      "text/plain": [
       "<seaborn.axisgrid.FacetGrid at 0x201555cbc20>"
      ]
     },
     "execution_count": 29,
     "metadata": {},
     "output_type": "execute_result"
    },
    {
     "data": {
      "text/plain": [
       "<Figure size 500x500 with 1 Axes>"
      ],
      "image/png": "[encoded data removed]"
     },
     "metadata": {},
     "output_type": "display_data"
    }
   ],
   "execution_count": 29
  },
  {
   "metadata": {
    "ExecuteTime": {
     "end_time": "2024-05-29T09:01:41.572602Z",
     "start_time": "2024-05-29T09:01:41.564741Z"
    }
   },
   "cell_type": "code",
   "source": "print_outliers_for_df_column(X, 'import__local_imports_pct')",
   "id": "974c59b1f655d0f3",
   "outputs": [
    {
     "name": "stdout",
     "output_type": "stream",
     "text": [
      "El coeficiente MC (Medcouple Coefficient) de balanceo es: -0.40534147914876145\n",
      "Rango valores atípicos extremos (Tukey): [-3.0,4.0]\n",
      "Rango valores atípicos leves (Tukey): [-1.5,2.5]\n",
      "Rango valores atípicos extremos (Fixed BoxPlot): [-7.5899956987153665,1.3630444251353626]\n",
      "-3.0IQR: 0 instancias tienen un valor para import__local_imports_pct inferior a -3.0 (Q1-3*IQR) para import__local_imports_pct. Representando un 0.0% del total de instancias.\n",
      "-1.5IQR: 0 instancias tienen un valor para import__local_imports_pct inferior a -1.5 (Q1-1.5*IQR) para import__local_imports_pct. Representando un 0.0% del total de instancias.\n",
      "+1.5IQR: 0 instancias tienen un valor para import__local_imports_pct superior a 2.5 (Q3+1.5*IQR) para import__local_imports_pct. Representando un 0.0% del total de instancias.\n",
      "+3.0IQR: 0 instancias tienen un valor para import__local_imports_pct superior a 4.0 (Q3-3*IQR) para import__local_imports_pct. Representando un 0.0% del total de instancias.\n",
      "L: 0 instancias tienen un valor para import__local_imports_pct inferior a -7.5899956987153665 para import__local_imports_pct. Representando un 0.0% del total de instancias.\n",
      "U: 0 instancias tienen un valor para import__local_imports_pct superior a 1.3630444251353626 para import__local_imports_pct. Representando un 0.0% del total de instancias.\n"
     ]
    }
   ],
   "execution_count": 30
  },
  {
   "metadata": {},
   "cell_type": "markdown",
   "source": "IMPORTANTE: Estos valores siguen un distribucion en forma de U (distribucion de Laplace). Con lo que los posibles valores outliers estan en el medio, no en los extremos. No se puede aplicar el metodo de tukey. En este momento, solo vamos a mostrar los valores que hay en el medio.",
   "id": "edf865eda2133801"
  },
  {
   "metadata": {
    "ExecuteTime": {
     "end_time": "2024-05-29T09:01:41.593902Z",
     "start_time": "2024-05-29T09:01:41.573607Z"
    }
   },
   "cell_type": "code",
   "source": "X[(X['import__local_imports_pct'] < 1.0) & X['import__local_imports_pct'] > 0.0].describe(percentiles=[.25, .50, .75], include = ['object', 'float', 'bool', 'int'])",
   "id": "fd3d31b12264e45",
   "outputs": [
    {
     "data": {
      "text/plain": [
       "       import__number_imports  import__module_imports_pct  \\\n",
       "count              244.000000                  244.000000   \n",
       "mean                 9.053279                    0.437073   \n",
       "std                 10.601325                    0.287473   \n",
       "min                  2.000000                    0.000000   \n",
       "25%                  4.000000                    0.200000   \n",
       "50%                  6.000000                    0.468627   \n",
       "75%                 11.250000                    0.666667   \n",
       "max                130.000000                    1.000000   \n",
       "\n",
       "       import__average_imported_modules  import__from_imports_pct  \\\n",
       "count                        244.000000                244.000000   \n",
       "mean                           0.958811                  0.562927   \n",
       "std                            0.719907                  0.287473   \n",
       "min                            0.000000                  0.000000   \n",
       "25%                            1.000000                  0.333333   \n",
       "50%                            1.000000                  0.531373   \n",
       "75%                            1.000000                  0.800000   \n",
       "max                            8.500000                  1.000000   \n",
       "\n",
       "       import__average_from_imported_modules  \\\n",
       "count                             244.000000   \n",
       "mean                                1.600415   \n",
       "std                                 1.089792   \n",
       "min                                 0.000000   \n",
       "25%                                 1.000000   \n",
       "50%                                 1.354167   \n",
       "75%                                 2.000000   \n",
       "max                                 8.000000   \n",
       "\n",
       "       import__average_as_in_imported_modules  import__local_imports_pct  \n",
       "count                              244.000000                 244.000000  \n",
       "mean                                 0.037530                   0.548056  \n",
       "std                                  0.139827                   0.235799  \n",
       "min                                  0.000000                   0.058824  \n",
       "25%                                  0.000000                   0.384615  \n",
       "50%                                  0.000000                   0.558442  \n",
       "75%                                  0.000000                   0.750000  \n",
       "max                                  1.000000                   0.984848  "
      ],
      "text/html": [
       "<div>\n",
       "<style scoped>\n",
       "    .dataframe tbody tr th:only-of-type {\n",
       "        vertical-align: middle;\n",
       "    }\n",
       "\n",
       "    .dataframe tbody tr th {\n",
       "        vertical-align: top;\n",
       "    }\n",
       "\n",
       "    .dataframe thead th {\n",
       "        text-align: right;\n",
       "    }\n",
       "</style>\n",
       "<table border=\"1\" class=\"dataframe\">\n",
       "  <thead>\n",
       "    <tr style=\"text-align: right;\">\n",
       "      <th></th>\n",
       "      <th>import__number_imports</th>\n",
       "      <th>import__module_imports_pct</th>\n",
       "      <th>import__average_imported_modules</th>\n",
       "      <th>import__from_imports_pct</th>\n",
       "      <th>import__average_from_imported_modules</th>\n",
       "      <th>import__average_as_in_imported_modules</th>\n",
       "      <th>import__local_imports_pct</th>\n",
       "    </tr>\n",
       "  </thead>\n",
       "  <tbody>\n",
       "    <tr>\n",
       "      <th>count</th>\n",
       "      <td>244.000000</td>\n",
       "      <td>244.000000</td>\n",
       "      <td>244.000000</td>\n",
       "      <td>244.000000</td>\n",
       "      <td>244.000000</td>\n",
       "      <td>244.000000</td>\n",
       "      <td>244.000000</td>\n",
       "    </tr>\n",
       "    <tr>\n",
       "      <th>mean</th>\n",
       "      <td>9.053279</td>\n",
       "      <td>0.437073</td>\n",
       "      <td>0.958811</td>\n",
       "      <td>0.562927</td>\n",
       "      <td>1.600415</td>\n",
       "      <td>0.037530</td>\n",
       "      <td>0.548056</td>\n",
       "    </tr>\n",
       "    <tr>\n",
       "      <th>std</th>\n",
       "      <td>10.601325</td>\n",
       "      <td>0.287473</td>\n",
       "      <td>0.719907</td>\n",
       "      <td>0.287473</td>\n",
       "      <td>1.089792</td>\n",
       "      <td>0.139827</td>\n",
       "      <td>0.235799</td>\n",
       "    </tr>\n",
       "    <tr>\n",
       "      <th>min</th>\n",
       "      <td>2.000000</td>\n",
       "      <td>0.000000</td>\n",
       "      <td>0.000000</td>\n",
       "      <td>0.000000</td>\n",
       "      <td>0.000000</td>\n",
       "      <td>0.000000</td>\n",
       "      <td>0.058824</td>\n",
       "    </tr>\n",
       "    <tr>\n",
       "      <th>25%</th>\n",
       "      <td>4.000000</td>\n",
       "      <td>0.200000</td>\n",
       "      <td>1.000000</td>\n",
       "      <td>0.333333</td>\n",
       "      <td>1.000000</td>\n",
       "      <td>0.000000</td>\n",
       "      <td>0.384615</td>\n",
       "    </tr>\n",
       "    <tr>\n",
       "      <th>50%</th>\n",
       "      <td>6.000000</td>\n",
       "      <td>0.468627</td>\n",
       "      <td>1.000000</td>\n",
       "      <td>0.531373</td>\n",
       "      <td>1.354167</td>\n",
       "      <td>0.000000</td>\n",
       "      <td>0.558442</td>\n",
       "    </tr>\n",
       "    <tr>\n",
       "      <th>75%</th>\n",
       "      <td>11.250000</td>\n",
       "      <td>0.666667</td>\n",
       "      <td>1.000000</td>\n",
       "      <td>0.800000</td>\n",
       "      <td>2.000000</td>\n",
       "      <td>0.000000</td>\n",
       "      <td>0.750000</td>\n",
       "    </tr>\n",
       "    <tr>\n",
       "      <th>max</th>\n",
       "      <td>130.000000</td>\n",
       "      <td>1.000000</td>\n",
       "      <td>8.500000</td>\n",
       "      <td>1.000000</td>\n",
       "      <td>8.000000</td>\n",
       "      <td>1.000000</td>\n",
       "      <td>0.984848</td>\n",
       "    </tr>\n",
       "  </tbody>\n",
       "</table>\n",
       "</div>"
      ]
     },
     "execution_count": 31,
     "metadata": {},
     "output_type": "execute_result"
    }
   ],
   "execution_count": 31
  },
  {
   "metadata": {},
   "cell_type": "markdown",
   "source": [
    "### IMPORTANTE\n",
    "El 31% tienen un 0% y el 66% tienen un 100%."
   ],
   "id": "be9f5d1d8d65c88a"
  },
  {
   "cell_type": "markdown",
   "id": "a63c33a981202cfe",
   "metadata": {
    "collapsed": false
   },
   "source": [
    "## Multivariate\n",
    "\n",
    "TODO: isolation forest algorithm"
   ]
  },
  {
   "cell_type": "code",
   "id": "51448304c36d916e",
   "metadata": {
    "collapsed": false,
    "ExecuteTime": {
     "end_time": "2024-05-29T09:01:42.221387Z",
     "start_time": "2024-05-29T09:01:41.594908Z"
    }
   },
   "source": [
    "from sklearn.ensemble import  IsolationForest\n",
    "\n",
    "CONTAMINATION_FACTOR = 0.0012\n",
    "isof_model = IsolationForest(contamination=CONTAMINATION_FACTOR, random_state=0)\n",
    "isof_prediction = isof_model.fit_predict(X.values)\n",
    "mask = isof_prediction == -1\n",
    "full_table.loc[X.index[mask]]"
   ],
   "outputs": [
    {
     "data": {
      "text/plain": [
       "       import__number_imports  import__module_imports_pct  \\\n",
       "7621                        4                    0.750000   \n",
       "7674                        4                    0.750000   \n",
       "8341                       91                    0.000000   \n",
       "8840                        7                    0.857143   \n",
       "9130                        3                    0.666667   \n",
       "9491                       49                    0.163265   \n",
       "9652                        5                    0.600000   \n",
       "9675                        3                    0.666667   \n",
       "10027                       8                    0.875000   \n",
       "10071                      14                    0.928571   \n",
       "10279                      41                    0.024390   \n",
       "10322                      21                    0.095238   \n",
       "15668                       1                    0.000000   \n",
       "\n",
       "       import__average_imported_modules  import__from_imports_pct  \\\n",
       "7621                                1.0                  0.250000   \n",
       "7674                                1.0                  0.250000   \n",
       "8341                                0.0                  1.000000   \n",
       "8840                                1.0                  0.142857   \n",
       "9130                                1.0                  0.333333   \n",
       "9491                                1.0                  0.836735   \n",
       "9652                                1.0                  0.400000   \n",
       "9675                                1.0                  0.333333   \n",
       "10027                               1.0                  0.125000   \n",
       "10071                               1.0                  0.071429   \n",
       "10279                               1.0                  0.975610   \n",
       "10322                               1.0                  0.904762   \n",
       "15668                               0.0                  1.000000   \n",
       "\n",
       "       import__average_from_imported_modules  \\\n",
       "7621                                1.000000   \n",
       "7674                                1.000000   \n",
       "8341                                1.000000   \n",
       "8840                                1.000000   \n",
       "9130                                1.000000   \n",
       "9491                                1.000000   \n",
       "9652                                1.000000   \n",
       "9675                                1.000000   \n",
       "10027                               1.000000   \n",
       "10071                               1.000000   \n",
       "10279                               1.625000   \n",
       "10322                               1.578947   \n",
       "15668                               8.000000   \n",
       "\n",
       "       import__average_as_in_imported_modules  import__local_imports_pct  \\\n",
       "7621                                 1.000000                   0.000000   \n",
       "7674                                 1.000000                   0.000000   \n",
       "8341                                 0.307692                   0.000000   \n",
       "8840                                 1.000000                   1.000000   \n",
       "9130                                 1.000000                   0.000000   \n",
       "9491                                 0.219512                   0.000000   \n",
       "9652                                 1.000000                   0.000000   \n",
       "9675                                 1.000000                   0.000000   \n",
       "10027                                1.000000                   1.000000   \n",
       "10071                                1.000000                   0.928571   \n",
       "10279                                0.384615                   1.000000   \n",
       "10322                                1.000000                   0.952381   \n",
       "15668                                0.375000                   1.000000   \n",
       "\n",
       "      import__expertise_level  \n",
       "7621                   EXPERT  \n",
       "7674                   EXPERT  \n",
       "8341                   EXPERT  \n",
       "8840                   EXPERT  \n",
       "9130                   EXPERT  \n",
       "9491                   EXPERT  \n",
       "9652                   EXPERT  \n",
       "9675                   EXPERT  \n",
       "10027                  EXPERT  \n",
       "10071                  EXPERT  \n",
       "10279                  EXPERT  \n",
       "10322                  EXPERT  \n",
       "15668                  EXPERT  "
      ],
      "text/html": [
       "<div>\n",
       "<style scoped>\n",
       "    .dataframe tbody tr th:only-of-type {\n",
       "        vertical-align: middle;\n",
       "    }\n",
       "\n",
       "    .dataframe tbody tr th {\n",
       "        vertical-align: top;\n",
       "    }\n",
       "\n",
       "    .dataframe thead th {\n",
       "        text-align: right;\n",
       "    }\n",
       "</style>\n",
       "<table border=\"1\" class=\"dataframe\">\n",
       "  <thead>\n",
       "    <tr style=\"text-align: right;\">\n",
       "      <th></th>\n",
       "      <th>import__number_imports</th>\n",
       "      <th>import__module_imports_pct</th>\n",
       "      <th>import__average_imported_modules</th>\n",
       "      <th>import__from_imports_pct</th>\n",
       "      <th>import__average_from_imported_modules</th>\n",
       "      <th>import__average_as_in_imported_modules</th>\n",
       "      <th>import__local_imports_pct</th>\n",
       "      <th>import__expertise_level</th>\n",
       "    </tr>\n",
       "  </thead>\n",
       "  <tbody>\n",
       "    <tr>\n",
       "      <th>7621</th>\n",
       "      <td>4</td>\n",
       "      <td>0.750000</td>\n",
       "      <td>1.0</td>\n",
       "      <td>0.250000</td>\n",
       "      <td>1.000000</td>\n",
       "      <td>1.000000</td>\n",
       "      <td>0.000000</td>\n",
       "      <td>EXPERT</td>\n",
       "    </tr>\n",
       "    <tr>\n",
       "      <th>7674</th>\n",
       "      <td>4</td>\n",
       "      <td>0.750000</td>\n",
       "      <td>1.0</td>\n",
       "      <td>0.250000</td>\n",
       "      <td>1.000000</td>\n",
       "      <td>1.000000</td>\n",
       "      <td>0.000000</td>\n",
       "      <td>EXPERT</td>\n",
       "    </tr>\n",
       "    <tr>\n",
       "      <th>8341</th>\n",
       "      <td>91</td>\n",
       "      <td>0.000000</td>\n",
       "      <td>0.0</td>\n",
       "      <td>1.000000</td>\n",
       "      <td>1.000000</td>\n",
       "      <td>0.307692</td>\n",
       "      <td>0.000000</td>\n",
       "      <td>EXPERT</td>\n",
       "    </tr>\n",
       "    <tr>\n",
       "      <th>8840</th>\n",
       "      <td>7</td>\n",
       "      <td>0.857143</td>\n",
       "      <td>1.0</td>\n",
       "      <td>0.142857</td>\n",
       "      <td>1.000000</td>\n",
       "      <td>1.000000</td>\n",
       "      <td>1.000000</td>\n",
       "      <td>EXPERT</td>\n",
       "    </tr>\n",
       "    <tr>\n",
       "      <th>9130</th>\n",
       "      <td>3</td>\n",
       "      <td>0.666667</td>\n",
       "      <td>1.0</td>\n",
       "      <td>0.333333</td>\n",
       "      <td>1.000000</td>\n",
       "      <td>1.000000</td>\n",
       "      <td>0.000000</td>\n",
       "      <td>EXPERT</td>\n",
       "    </tr>\n",
       "    <tr>\n",
       "      <th>9491</th>\n",
       "      <td>49</td>\n",
       "      <td>0.163265</td>\n",
       "      <td>1.0</td>\n",
       "      <td>0.836735</td>\n",
       "      <td>1.000000</td>\n",
       "      <td>0.219512</td>\n",
       "      <td>0.000000</td>\n",
       "      <td>EXPERT</td>\n",
       "    </tr>\n",
       "    <tr>\n",
       "      <th>9652</th>\n",
       "      <td>5</td>\n",
       "      <td>0.600000</td>\n",
       "      <td>1.0</td>\n",
       "      <td>0.400000</td>\n",
       "      <td>1.000000</td>\n",
       "      <td>1.000000</td>\n",
       "      <td>0.000000</td>\n",
       "      <td>EXPERT</td>\n",
       "    </tr>\n",
       "    <tr>\n",
       "      <th>9675</th>\n",
       "      <td>3</td>\n",
       "      <td>0.666667</td>\n",
       "      <td>1.0</td>\n",
       "      <td>0.333333</td>\n",
       "      <td>1.000000</td>\n",
       "      <td>1.000000</td>\n",
       "      <td>0.000000</td>\n",
       "      <td>EXPERT</td>\n",
       "    </tr>\n",
       "    <tr>\n",
       "      <th>10027</th>\n",
       "      <td>8</td>\n",
       "      <td>0.875000</td>\n",
       "      <td>1.0</td>\n",
       "      <td>0.125000</td>\n",
       "      <td>1.000000</td>\n",
       "      <td>1.000000</td>\n",
       "      <td>1.000000</td>\n",
       "      <td>EXPERT</td>\n",
       "    </tr>\n",
       "    <tr>\n",
       "      <th>10071</th>\n",
       "      <td>14</td>\n",
       "      <td>0.928571</td>\n",
       "      <td>1.0</td>\n",
       "      <td>0.071429</td>\n",
       "      <td>1.000000</td>\n",
       "      <td>1.000000</td>\n",
       "      <td>0.928571</td>\n",
       "      <td>EXPERT</td>\n",
       "    </tr>\n",
       "    <tr>\n",
       "      <th>10279</th>\n",
       "      <td>41</td>\n",
       "      <td>0.024390</td>\n",
       "      <td>1.0</td>\n",
       "      <td>0.975610</td>\n",
       "      <td>1.625000</td>\n",
       "      <td>0.384615</td>\n",
       "      <td>1.000000</td>\n",
       "      <td>EXPERT</td>\n",
       "    </tr>\n",
       "    <tr>\n",
       "      <th>10322</th>\n",
       "      <td>21</td>\n",
       "      <td>0.095238</td>\n",
       "      <td>1.0</td>\n",
       "      <td>0.904762</td>\n",
       "      <td>1.578947</td>\n",
       "      <td>1.000000</td>\n",
       "      <td>0.952381</td>\n",
       "      <td>EXPERT</td>\n",
       "    </tr>\n",
       "    <tr>\n",
       "      <th>15668</th>\n",
       "      <td>1</td>\n",
       "      <td>0.000000</td>\n",
       "      <td>0.0</td>\n",
       "      <td>1.000000</td>\n",
       "      <td>8.000000</td>\n",
       "      <td>0.375000</td>\n",
       "      <td>1.000000</td>\n",
       "      <td>EXPERT</td>\n",
       "    </tr>\n",
       "  </tbody>\n",
       "</table>\n",
       "</div>"
      ]
     },
     "execution_count": 32,
     "metadata": {},
     "output_type": "execute_result"
    }
   ],
   "execution_count": 32
  },
  {
   "metadata": {},
   "cell_type": "markdown",
   "source": [
    "### IMPORTANTE\n",
    "Revisar las 13 identificadas como outliers."
   ],
   "id": "fc481c479fdf13fd"
  }
 ],
 "metadata": {
  "kernelspec": {
   "display_name": "Python 3 (ipykernel)",
   "language": "python",
   "name": "python3"
  },
  "language_info": {
   "codemirror_mode": {
    "name": "ipython",
    "version": 3
   },
   "file_extension": ".py",
   "mimetype": "text/x-python",
   "name": "python",
   "nbconvert_exporter": "python",
   "pygments_lexer": "ipython3",
   "version": "3.12.2"
  },
  "toc-autonumbering": true,
  "toc-showcode": false,
  "toc-showmarkdowntxt": false,
  "toc-showtags": false
 },
 "nbformat": 4,
 "nbformat_minor": 5
}
