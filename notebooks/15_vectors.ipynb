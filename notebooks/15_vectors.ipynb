{
 "cells": [
  {
   "metadata": {},
   "cell_type": "markdown",
   "source": [
    "# Vectors\n",
    "\n",
    "Esta tabla contiene la información de las expresiones del tipo vector (Listas, diccionarios, etc). "
   ],
   "id": "148ae8871134f924"
  },
  {
   "metadata": {},
   "cell_type": "markdown",
   "source": "## 1 - Obtencion de datos",
   "id": "d3c24a719032807f"
  },
  {
   "metadata": {
    "ExecuteTime": {
     "end_time": "2024-07-04T17:40:39.951308Z",
     "start_time": "2024-07-04T17:40:38.455207Z"
    }
   },
   "cell_type": "code",
   "source": [
    "import matplotlib.pyplot as plt\n",
    "from notebooks_utils import *\n",
    "from domains import *\n",
    "\n",
    "full_table = get_data('vectors')\n",
    "\n",
    "# Table name, features and target.\n",
    "TABLE_NAME = 'vectors'\n",
    "TABLE_FEATURES = ['vector__category', 'vector__number_of_elements', 'vector__homogeneous', 'vector__expertise_level']\n",
    "TABLE_TARGET = 'vector__expertise_level'\n",
    "\n",
    "# Load features and target.\n",
    "X, y = full_table[TABLE_FEATURES], full_table[[TABLE_TARGET]].iloc[:,0]\n",
    "\n",
    "# Print information about the loaded table.\n",
    "print(f'Features shape: {X.shape}')\n",
    "print(f'Target shape: {y.shape}')\n",
    "\n",
    "print(f'As we can see the downloaded data contains a total of {X.shape[0]} instances. For each instance we have {X.shape[1]} attributes.')"
   ],
   "id": "9f0a949e91eb384b",
   "outputs": [
    {
     "name": "stdout",
     "output_type": "stream",
     "text": [
      "2024-07-04 19:40:39.884083 Data cache files found ...\n",
      "2024-07-04 19:40:39.938578 Data cache files successfully loaded!!\n",
      "Features shape: (351664, 4)\n",
      "Target shape: (351664,)\n",
      "As we can see the downloaded data contains a total of 351664 instances. For each instance we have 4 attributes.\n"
     ]
    }
   ],
   "execution_count": 1
  },
  {
   "metadata": {},
   "cell_type": "markdown",
   "source": [
    "## 2 - Exploracion de datos\n",
    "\n",
    "Una vez tenemos nuestra tabla en un dataframe el siguiente paso es explorarla para ver qué tipo de información contiene."
   ],
   "id": "bcda7cb784bf0a1"
  },
  {
   "metadata": {
    "ExecuteTime": {
     "end_time": "2024-07-04T17:40:40.002036Z",
     "start_time": "2024-07-04T17:40:39.952346Z"
    }
   },
   "cell_type": "code",
   "source": [
    "print(X.info())\n",
    "print('=============')\n",
    "print(y.info())"
   ],
   "id": "2eb3d09993235bcb",
   "outputs": [
    {
     "name": "stdout",
     "output_type": "stream",
     "text": [
      "<class 'pandas.core.frame.DataFrame'>\n",
      "RangeIndex: 351664 entries, 0 to 351663\n",
      "Data columns (total 4 columns):\n",
      " #   Column                      Non-Null Count   Dtype \n",
      "---  ------                      --------------   ----- \n",
      " 0   vector__category            351664 non-null  object\n",
      " 1   vector__number_of_elements  351664 non-null  int64 \n",
      " 2   vector__homogeneous         351664 non-null  bool  \n",
      " 3   vector__expertise_level     351664 non-null  object\n",
      "dtypes: bool(1), int64(1), object(2)\n",
      "memory usage: 8.4+ MB\n",
      "None\n",
      "=============\n",
      "<class 'pandas.core.series.Series'>\n",
      "RangeIndex: 351664 entries, 0 to 351663\n",
      "Series name: vector__expertise_level\n",
      "Non-Null Count   Dtype \n",
      "--------------   ----- \n",
      "351664 non-null  object\n",
      "dtypes: object(1)\n",
      "memory usage: 2.7+ MB\n",
      "None\n"
     ]
    }
   ],
   "execution_count": 2
  },
  {
   "metadata": {},
   "cell_type": "markdown",
   "source": "Cómo podemos ver la tabla está compuesta por 1 variable numérica, 1 variables boleanas y 2 de tipo objeto.",
   "id": "24f7607501c2e574"
  },
  {
   "metadata": {},
   "cell_type": "markdown",
   "source": "### 2.1 - Equilibrado de clases",
   "id": "f6d062d35a16e21d"
  },
  {
   "metadata": {
    "ExecuteTime": {
     "end_time": "2024-07-04T17:40:40.056381Z",
     "start_time": "2024-07-04T17:40:40.003043Z"
    }
   },
   "cell_type": "code",
   "source": [
    "instances_for_class_low = len(full_table[full_table[TABLE_TARGET] == \"BEGINNER\"])\n",
    "instances_for_class_high = len(full_table[full_table[TABLE_TARGET] == \"EXPERT\"])\n",
    "\n",
    "print(f\"The dataset contains {instances_for_class_low/len(full_table)*100:.4}% instances for BEGINNER class and {instances_for_class_high/len(full_table)*100:.4}% for EXPERT class.\")"
   ],
   "id": "58277bda417384ef",
   "outputs": [
    {
     "name": "stdout",
     "output_type": "stream",
     "text": [
      "The dataset contains 34.63% instances for BEGINNER class and 65.37% for EXPERT class.\n"
     ]
    }
   ],
   "execution_count": 3
  },
  {
   "metadata": {},
   "cell_type": "markdown",
   "source": [
    "### 2.2 - Valores Nulos \n",
    "Miramos si alguna de las variables que contiene la tabla contiene algún valor que sea nulo."
   ],
   "id": "63d4e4ed1d8d2c6c"
  },
  {
   "metadata": {
    "ExecuteTime": {
     "end_time": "2024-07-04T17:40:40.087723Z",
     "start_time": "2024-07-04T17:40:40.057387Z"
    }
   },
   "cell_type": "code",
   "source": "X.isnull().sum()",
   "id": "6c991380e6e0413e",
   "outputs": [
    {
     "data": {
      "text/plain": [
       "vector__category              0\n",
       "vector__number_of_elements    0\n",
       "vector__homogeneous           0\n",
       "vector__expertise_level       0\n",
       "dtype: int64"
      ]
     },
     "execution_count": 4,
     "metadata": {},
     "output_type": "execute_result"
    }
   ],
   "execution_count": 4
  },
  {
   "metadata": {
    "ExecuteTime": {
     "end_time": "2024-07-04T17:40:40.125162Z",
     "start_time": "2024-07-04T17:40:40.088766Z"
    }
   },
   "cell_type": "code",
   "source": "print_empty_cols(X)",
   "id": "18b2dfadf1719a4b",
   "outputs": [
    {
     "name": "stdout",
     "output_type": "stream",
     "text": [
      "vector__category\n",
      "----------------\n",
      "0 instancias no tienen un valor para la columna vector__category\n",
      "\n",
      "\n",
      "vector__number_of_elements\n",
      "--------------------------\n",
      "0 instancias no tienen un valor para la columna vector__number_of_elements\n",
      "\n",
      "\n",
      "vector__homogeneous\n",
      "-------------------\n",
      "0 instancias no tienen un valor para la columna vector__homogeneous\n",
      "\n",
      "\n",
      "vector__expertise_level\n",
      "-----------------------\n",
      "0 instancias no tienen un valor para la columna vector__expertise_level\n",
      "\n",
      "\n"
     ]
    }
   ],
   "execution_count": 5
  },
  {
   "metadata": {},
   "cell_type": "markdown",
   "source": "### 2.3 - Describimos los valores de las variables de la tabla.",
   "id": "5bb94c0f81c08024"
  },
  {
   "metadata": {
    "ExecuteTime": {
     "end_time": "2024-07-04T17:40:40.224991Z",
     "start_time": "2024-07-04T17:40:40.126179Z"
    }
   },
   "cell_type": "code",
   "source": "np.transpose(X.describe(percentiles=[.25, .50, .75], include = ['object', 'float', 'bool', 'int']))",
   "id": "74bba302a29fbfd5",
   "outputs": [
    {
     "data": {
      "text/plain": [
       "                               count unique           top    freq      mean  \\\n",
       "vector__category              351664      4  TupleLiteral  234902       NaN   \n",
       "vector__number_of_elements  351664.0    NaN           NaN     NaN  4.374909   \n",
       "vector__homogeneous           351664      2         False  192086       NaN   \n",
       "vector__expertise_level       351664      2        EXPERT  229900       NaN   \n",
       "\n",
       "                                  std  min  25%  50%  75%      max  \n",
       "vector__category                  NaN  NaN  NaN  NaN  NaN      NaN  \n",
       "vector__number_of_elements  67.237444  0.0  2.0  2.0  3.0  14519.0  \n",
       "vector__homogeneous               NaN  NaN  NaN  NaN  NaN      NaN  \n",
       "vector__expertise_level           NaN  NaN  NaN  NaN  NaN      NaN  "
      ],
      "text/html": [
       "<div>\n",
       "<style scoped>\n",
       "    .dataframe tbody tr th:only-of-type {\n",
       "        vertical-align: middle;\n",
       "    }\n",
       "\n",
       "    .dataframe tbody tr th {\n",
       "        vertical-align: top;\n",
       "    }\n",
       "\n",
       "    .dataframe thead th {\n",
       "        text-align: right;\n",
       "    }\n",
       "</style>\n",
       "<table border=\"1\" class=\"dataframe\">\n",
       "  <thead>\n",
       "    <tr style=\"text-align: right;\">\n",
       "      <th></th>\n",
       "      <th>count</th>\n",
       "      <th>unique</th>\n",
       "      <th>top</th>\n",
       "      <th>freq</th>\n",
       "      <th>mean</th>\n",
       "      <th>std</th>\n",
       "      <th>min</th>\n",
       "      <th>25%</th>\n",
       "      <th>50%</th>\n",
       "      <th>75%</th>\n",
       "      <th>max</th>\n",
       "    </tr>\n",
       "  </thead>\n",
       "  <tbody>\n",
       "    <tr>\n",
       "      <th>vector__category</th>\n",
       "      <td>351664</td>\n",
       "      <td>4</td>\n",
       "      <td>TupleLiteral</td>\n",
       "      <td>234902</td>\n",
       "      <td>NaN</td>\n",
       "      <td>NaN</td>\n",
       "      <td>NaN</td>\n",
       "      <td>NaN</td>\n",
       "      <td>NaN</td>\n",
       "      <td>NaN</td>\n",
       "      <td>NaN</td>\n",
       "    </tr>\n",
       "    <tr>\n",
       "      <th>vector__number_of_elements</th>\n",
       "      <td>351664.0</td>\n",
       "      <td>NaN</td>\n",
       "      <td>NaN</td>\n",
       "      <td>NaN</td>\n",
       "      <td>4.374909</td>\n",
       "      <td>67.237444</td>\n",
       "      <td>0.0</td>\n",
       "      <td>2.0</td>\n",
       "      <td>2.0</td>\n",
       "      <td>3.0</td>\n",
       "      <td>14519.0</td>\n",
       "    </tr>\n",
       "    <tr>\n",
       "      <th>vector__homogeneous</th>\n",
       "      <td>351664</td>\n",
       "      <td>2</td>\n",
       "      <td>False</td>\n",
       "      <td>192086</td>\n",
       "      <td>NaN</td>\n",
       "      <td>NaN</td>\n",
       "      <td>NaN</td>\n",
       "      <td>NaN</td>\n",
       "      <td>NaN</td>\n",
       "      <td>NaN</td>\n",
       "      <td>NaN</td>\n",
       "    </tr>\n",
       "    <tr>\n",
       "      <th>vector__expertise_level</th>\n",
       "      <td>351664</td>\n",
       "      <td>2</td>\n",
       "      <td>EXPERT</td>\n",
       "      <td>229900</td>\n",
       "      <td>NaN</td>\n",
       "      <td>NaN</td>\n",
       "      <td>NaN</td>\n",
       "      <td>NaN</td>\n",
       "      <td>NaN</td>\n",
       "      <td>NaN</td>\n",
       "      <td>NaN</td>\n",
       "    </tr>\n",
       "  </tbody>\n",
       "</table>\n",
       "</div>"
      ]
     },
     "execution_count": 6,
     "metadata": {},
     "output_type": "execute_result"
    }
   ],
   "execution_count": 6
  },
  {
   "metadata": {},
   "cell_type": "markdown",
   "source": "Vamos a discretizar las variables numericas, agrupando conjuntos de valores en categorias, para hacer un análisis de los datos. Para cada variable es necesario ver la distribucion de lo valores para hacer los bins (categorias).",
   "id": "9af3eb59b924a596"
  },
  {
   "metadata": {
    "ExecuteTime": {
     "end_time": "2024-07-04T17:40:40.587835Z",
     "start_time": "2024-07-04T17:40:40.225996Z"
    }
   },
   "cell_type": "code",
   "source": [
    "# DISCRETIZATION\n",
    "X_copy = X.copy()\n",
    "\n",
    "discretized_columns = {\n",
    "    \"vector__number_of_elements\": [(0.0, 2.0), (2.0, 2.0), (2.0, 3.0), (3.0, inf)], # min: 0 ; max: 14519\n",
    "}\n",
    "\n",
    "discretize_columns(X_copy, discretized_columns)\n",
    "    \n",
    "# SINGLE FEATURE\n",
    "print(\"--- SINGLE FEATURE ---\")\n",
    "print(get_statistics(X_copy, ['vector__number_of_elements'], 10))\n",
    "print(get_statistics(full_table, ['vector__category'], 10))\n",
    "print(get_statistics(X_copy, ['vector__homogeneous'], 10))\n",
    "\n",
    "# 2 FEATURES\n",
    "print(\"--- TWO FEATURES ---\")\n",
    "#print(get_statistics(X_copy, ['variable__is_magic', 'variable__name_convention_Discard'], 10))\n",
    "#print(get_statistics(X_copy, ['functiondef__number_of_characters', 'functiondef__name_convention_Lower'], 10))\n",
    "\n",
    "# 3 FEATURES\n",
    "print(\"--- THREE FEATURES ---\")\n",
    "#print(get_statistics(X_copy, ['module__class_defs_pct', 'module__function_defs_pct', 'module__enum_defs_pct'], 10))"
   ],
   "id": "6baf20dd3e3ca759",
   "outputs": [
    {
     "name": "stdout",
     "output_type": "stream",
     "text": [
      "--- SINGLE FEATURE ---\n",
      "vector__number_of_elements  count  percentage\n",
      "                 [2.0_2.0] 179486   51.039060\n",
      "                 [3.0_inf] 104012   29.577096\n",
      "                 [0.0_2.0)  68166   19.383844\n",
      "\n",
      " vector__category  count  percentage\n",
      "     TupleLiteral 234902   66.797284\n",
      "      ListLiteral  73026   20.765845\n",
      "DictionaryLiteral  41857   11.902555\n",
      "       SetLiteral   1879    0.534317\n",
      "\n",
      " vector__homogeneous  count  percentage\n",
      "               False 192086   54.622026\n",
      "                True 159578   45.377974\n",
      "\n",
      "--- TWO FEATURES ---\n",
      "--- THREE FEATURES ---\n"
     ]
    }
   ],
   "execution_count": 7
  },
  {
   "metadata": {
    "ExecuteTime": {
     "end_time": "2024-07-04T17:40:40.762287Z",
     "start_time": "2024-07-04T17:40:40.588840Z"
    }
   },
   "cell_type": "code",
   "source": [
    "def normalize_datatypes(X:pd.DataFrame, y:pd.Series) -> (pd.DataFrame, pd.Series, [str]):\n",
    "    X = pd.get_dummies(X)\n",
    "    X = X.astype('float32')\n",
    "    y = y.apply(lambda value: 0 if value == \"BEGINNER\" else 1) # EXPERT will be 1 and BEGINNER will be 0.\n",
    "    y = y.astype('float32')\n",
    "    columns_names = X.columns.tolist()\n",
    "    return X, y, columns_names\n",
    "\n",
    "X, y, TABLE_FEATURES = normalize_datatypes(X, y)\n",
    "# Print information about the loaded table\n",
    "print(f'Features shape: {X.shape}')\n",
    "print(f'Target shape: {y.shape}')"
   ],
   "id": "5084c89dcb377a92",
   "outputs": [
    {
     "name": "stdout",
     "output_type": "stream",
     "text": [
      "Features shape: (351664, 8)\n",
      "Target shape: (351664,)\n"
     ]
    }
   ],
   "execution_count": 8
  },
  {
   "metadata": {},
   "cell_type": "markdown",
   "source": "#### Muestra la matriz de correlación de Spearman entre las variables de la tabla.",
   "id": "ed8befe21328a079"
  },
  {
   "metadata": {
    "ExecuteTime": {
     "end_time": "2024-07-04T17:40:41.346236Z",
     "start_time": "2024-07-04T17:40:40.763291Z"
    }
   },
   "cell_type": "code",
   "source": "sns.heatmap(X.corr(method='spearman'), annot=True)",
   "id": "dea960d18d682104",
   "outputs": [
    {
     "data": {
      "text/plain": [
       "<Axes: >"
      ]
     },
     "execution_count": 9,
     "metadata": {},
     "output_type": "execute_result"
    },
    {
     "data": {
      "text/plain": [
       "<Figure size 640x480 with 2 Axes>"
      ],
      "image/png": "[encoded data removed]"
     },
     "metadata": {},
     "output_type": "display_data"
    }
   ],
   "execution_count": 9
  },
  {
   "metadata": {},
   "cell_type": "markdown",
   "source": [
    "## 3 - Detección de valores atípicos (outliers)\n",
    "## Univariate\n",
    "## Analisis detallado de variables\n",
    "Para cada una de las 3 variables (1 numerica, 1 booleanas y 1 categorica) se hara un analisis detallado"
   ],
   "id": "599c97eec7b7d283"
  },
  {
   "metadata": {},
   "cell_type": "markdown",
   "source": [
    "### Variable homogeneous (1/3)\n",
    "Esta variable es de tipo booleano y representa si todos los elementos de la lista son del mismo tipo."
   ],
   "id": "6abba739e46da213"
  },
  {
   "metadata": {
    "ExecuteTime": {
     "end_time": "2024-07-04T17:40:41.642214Z",
     "start_time": "2024-07-04T17:40:41.347244Z"
    }
   },
   "cell_type": "code",
   "source": [
    "plt.xticks([0, 1], ['False', 'True'])\n",
    "sns.histplot(X['vector__homogeneous'], discrete=True)"
   ],
   "id": "4ab35b2ef94a3379",
   "outputs": [
    {
     "data": {
      "text/plain": [
       "<Axes: xlabel='vector__homogeneous', ylabel='Count'>"
      ]
     },
     "execution_count": 10,
     "metadata": {},
     "output_type": "execute_result"
    },
    {
     "data": {
      "text/plain": [
       "<Figure size 640x480 with 1 Axes>"
      ],
      "image/png": "[encoded data removed]"
     },
     "metadata": {},
     "output_type": "display_data"
    }
   ],
   "execution_count": 10
  },
  {
   "metadata": {
    "ExecuteTime": {
     "end_time": "2024-07-04T17:40:41.670576Z",
     "start_time": "2024-07-04T17:40:41.643239Z"
    }
   },
   "cell_type": "code",
   "source": [
    "num_true_values = len(X[X['vector__homogeneous'] == True])\n",
    "num_false_values = len(X[X['vector__homogeneous'] == False])\n",
    "std = X['vector__homogeneous'].std()\n",
    "freq_true = len(X[X['vector__homogeneous'] == True]) / len(X['vector__homogeneous'])\n",
    "freq_false = len(X[X['vector__homogeneous'] == False]) / len(X['vector__homogeneous'])\n",
    "print(f'La variable homogeneous contiene {num_true_values} valores verdaderos y {num_false_values} valores falsos. Y, la desviación típica es de {std}')\n",
    "print(f'La frecuencia con la que programa puede tener la variable homogeneous a True es {freq_true}.')\n",
    "print(f'La frecuencia con la que programa puede tener la variable homogeneous a False es {freq_false}.')"
   ],
   "id": "f4a042829ae6fac5",
   "outputs": [
    {
     "name": "stdout",
     "output_type": "stream",
     "text": [
      "La variable homogeneous contiene 159578 valores verdaderos y 192086 valores falsos. Y, la desviación típica es de 0.49785980582237244\n",
      "La frecuencia con la que programa puede tener la variable homogeneous a True es 0.4537797443013786.\n",
      "La frecuencia con la que programa puede tener la variable homogeneous a False es 0.5462202556986214.\n"
     ]
    }
   ],
   "execution_count": 11
  },
  {
   "metadata": {
    "ExecuteTime": {
     "end_time": "2024-07-04T17:40:41.690672Z",
     "start_time": "2024-07-04T17:40:41.671582Z"
    }
   },
   "cell_type": "code",
   "source": [
    "possible_values = [True, False]\n",
    "print_frequency_anal_for_cat_var(X, 'vector__homogeneous', possible_values)"
   ],
   "id": "c614dd60d0ab8e5b",
   "outputs": [
    {
     "name": "stdout",
     "output_type": "stream",
     "text": [
      "La variable vector__homogeneous contiene 2 valores distintos.\n",
      "El umbral de outlier es de 0.1%\n",
      "La variable vector__homogeneous toma el valor de 0.0 en un 54.62% de los items.\n",
      "La variable vector__homogeneous toma el valor de 1.0 en un 45.38% de los items.\n"
     ]
    }
   ],
   "execution_count": 12
  },
  {
   "metadata": {
    "ExecuteTime": {
     "end_time": "2024-07-04T17:40:41.737314Z",
     "start_time": "2024-07-04T17:40:41.691677Z"
    }
   },
   "cell_type": "code",
   "source": "X[X['vector__homogeneous'] == True].describe(percentiles=[.25, .50, .75], include = ['object', 'float', 'bool', 'int'])",
   "id": "6c33bdd1420008cf",
   "outputs": [
    {
     "data": {
      "text/plain": [
       "       vector__number_of_elements  vector__homogeneous  \\\n",
       "count               159578.000000             159578.0   \n",
       "mean                     4.970516                  1.0   \n",
       "std                     75.211884                  0.0   \n",
       "min                      0.000000                  1.0   \n",
       "25%                      1.000000                  1.0   \n",
       "50%                      2.000000                  1.0   \n",
       "75%                      2.000000                  1.0   \n",
       "max                   5376.000000                  1.0   \n",
       "\n",
       "       vector__category_DictionaryLiteral  vector__category_ListLiteral  \\\n",
       "count                       159578.000000                 159578.000000   \n",
       "mean                             0.138240                      0.282044   \n",
       "std                              0.345152                      0.449996   \n",
       "min                              0.000000                      0.000000   \n",
       "25%                              0.000000                      0.000000   \n",
       "50%                              0.000000                      0.000000   \n",
       "75%                              0.000000                      1.000000   \n",
       "max                              1.000000                      1.000000   \n",
       "\n",
       "       vector__category_SetLiteral  vector__category_TupleLiteral  \\\n",
       "count                159578.000000                  159578.000000   \n",
       "mean                      0.008742                       0.570975   \n",
       "std                       0.093088                       0.494938   \n",
       "min                       0.000000                       0.000000   \n",
       "25%                       0.000000                       0.000000   \n",
       "50%                       0.000000                       1.000000   \n",
       "75%                       0.000000                       1.000000   \n",
       "max                       1.000000                       1.000000   \n",
       "\n",
       "       vector__expertise_level_BEGINNER  vector__expertise_level_EXPERT  \n",
       "count                     159578.000000                   159578.000000  \n",
       "mean                           0.190496                        0.809504  \n",
       "std                            0.392694                        0.392694  \n",
       "min                            0.000000                        0.000000  \n",
       "25%                            0.000000                        1.000000  \n",
       "50%                            0.000000                        1.000000  \n",
       "75%                            0.000000                        1.000000  \n",
       "max                            1.000000                        1.000000  "
      ],
      "text/html": [
       "<div>\n",
       "<style scoped>\n",
       "    .dataframe tbody tr th:only-of-type {\n",
       "        vertical-align: middle;\n",
       "    }\n",
       "\n",
       "    .dataframe tbody tr th {\n",
       "        vertical-align: top;\n",
       "    }\n",
       "\n",
       "    .dataframe thead th {\n",
       "        text-align: right;\n",
       "    }\n",
       "</style>\n",
       "<table border=\"1\" class=\"dataframe\">\n",
       "  <thead>\n",
       "    <tr style=\"text-align: right;\">\n",
       "      <th></th>\n",
       "      <th>vector__number_of_elements</th>\n",
       "      <th>vector__homogeneous</th>\n",
       "      <th>vector__category_DictionaryLiteral</th>\n",
       "      <th>vector__category_ListLiteral</th>\n",
       "      <th>vector__category_SetLiteral</th>\n",
       "      <th>vector__category_TupleLiteral</th>\n",
       "      <th>vector__expertise_level_BEGINNER</th>\n",
       "      <th>vector__expertise_level_EXPERT</th>\n",
       "    </tr>\n",
       "  </thead>\n",
       "  <tbody>\n",
       "    <tr>\n",
       "      <th>count</th>\n",
       "      <td>159578.000000</td>\n",
       "      <td>159578.0</td>\n",
       "      <td>159578.000000</td>\n",
       "      <td>159578.000000</td>\n",
       "      <td>159578.000000</td>\n",
       "      <td>159578.000000</td>\n",
       "      <td>159578.000000</td>\n",
       "      <td>159578.000000</td>\n",
       "    </tr>\n",
       "    <tr>\n",
       "      <th>mean</th>\n",
       "      <td>4.970516</td>\n",
       "      <td>1.0</td>\n",
       "      <td>0.138240</td>\n",
       "      <td>0.282044</td>\n",
       "      <td>0.008742</td>\n",
       "      <td>0.570975</td>\n",
       "      <td>0.190496</td>\n",
       "      <td>0.809504</td>\n",
       "    </tr>\n",
       "    <tr>\n",
       "      <th>std</th>\n",
       "      <td>75.211884</td>\n",
       "      <td>0.0</td>\n",
       "      <td>0.345152</td>\n",
       "      <td>0.449996</td>\n",
       "      <td>0.093088</td>\n",
       "      <td>0.494938</td>\n",
       "      <td>0.392694</td>\n",
       "      <td>0.392694</td>\n",
       "    </tr>\n",
       "    <tr>\n",
       "      <th>min</th>\n",
       "      <td>0.000000</td>\n",
       "      <td>1.0</td>\n",
       "      <td>0.000000</td>\n",
       "      <td>0.000000</td>\n",
       "      <td>0.000000</td>\n",
       "      <td>0.000000</td>\n",
       "      <td>0.000000</td>\n",
       "      <td>0.000000</td>\n",
       "    </tr>\n",
       "    <tr>\n",
       "      <th>25%</th>\n",
       "      <td>1.000000</td>\n",
       "      <td>1.0</td>\n",
       "      <td>0.000000</td>\n",
       "      <td>0.000000</td>\n",
       "      <td>0.000000</td>\n",
       "      <td>0.000000</td>\n",
       "      <td>0.000000</td>\n",
       "      <td>1.000000</td>\n",
       "    </tr>\n",
       "    <tr>\n",
       "      <th>50%</th>\n",
       "      <td>2.000000</td>\n",
       "      <td>1.0</td>\n",
       "      <td>0.000000</td>\n",
       "      <td>0.000000</td>\n",
       "      <td>0.000000</td>\n",
       "      <td>1.000000</td>\n",
       "      <td>0.000000</td>\n",
       "      <td>1.000000</td>\n",
       "    </tr>\n",
       "    <tr>\n",
       "      <th>75%</th>\n",
       "      <td>2.000000</td>\n",
       "      <td>1.0</td>\n",
       "      <td>0.000000</td>\n",
       "      <td>1.000000</td>\n",
       "      <td>0.000000</td>\n",
       "      <td>1.000000</td>\n",
       "      <td>0.000000</td>\n",
       "      <td>1.000000</td>\n",
       "    </tr>\n",
       "    <tr>\n",
       "      <th>max</th>\n",
       "      <td>5376.000000</td>\n",
       "      <td>1.0</td>\n",
       "      <td>1.000000</td>\n",
       "      <td>1.000000</td>\n",
       "      <td>1.000000</td>\n",
       "      <td>1.000000</td>\n",
       "      <td>1.000000</td>\n",
       "      <td>1.000000</td>\n",
       "    </tr>\n",
       "  </tbody>\n",
       "</table>\n",
       "</div>"
      ]
     },
     "execution_count": 13,
     "metadata": {},
     "output_type": "execute_result"
    }
   ],
   "execution_count": 13
  },
  {
   "metadata": {},
   "cell_type": "markdown",
   "source": [
    "### Variable number_of_elements (2/3)\n",
    "Esta variable representa el número de elementos en la lista. Como vimos en la descripción de la tabla esta varibale adopta valores en el rango 0 - 14519. Con una media de 4.37."
   ],
   "id": "119fc307a9194a96"
  },
  {
   "metadata": {
    "ExecuteTime": {
     "end_time": "2024-07-04T17:40:42.847196Z",
     "start_time": "2024-07-04T17:40:41.738830Z"
    }
   },
   "cell_type": "code",
   "source": "sns.stripplot(X['vector__number_of_elements'])",
   "id": "5efd7fbb4f34563d",
   "outputs": [
    {
     "data": {
      "text/plain": [
       "<Axes: ylabel='vector__number_of_elements'>"
      ]
     },
     "execution_count": 14,
     "metadata": {},
     "output_type": "execute_result"
    },
    {
     "data": {
      "text/plain": [
       "<Figure size 640x480 with 1 Axes>"
      ],
      "image/png": "[encoded data removed]"
     },
     "metadata": {},
     "output_type": "display_data"
    }
   ],
   "execution_count": 14
  },
  {
   "metadata": {},
   "cell_type": "markdown",
   "source": [
    "### IMPORTANT\n",
    "El valor maximo esta muy alejado de los siguientes valores."
   ],
   "id": "4a85498a8720eff1"
  },
  {
   "metadata": {
    "ExecuteTime": {
     "end_time": "2024-07-04T17:40:43.059362Z",
     "start_time": "2024-07-04T17:40:42.848201Z"
    }
   },
   "cell_type": "code",
   "source": "print_histogram(X, 'vector__number_of_elements', 'vector__expertise_level', bins=30, include_all=False)",
   "id": "29e67e97dc7c3972",
   "outputs": [
    {
     "data": {
      "text/plain": [
       "<Figure size 1200x600 with 1 Axes>"
      ],
      "image/png": "[encoded data removed]"
     },
     "metadata": {},
     "output_type": "display_data"
    }
   ],
   "execution_count": 15
  },
  {
   "metadata": {
    "ExecuteTime": {
     "end_time": "2024-07-04T17:40:43.089996Z",
     "start_time": "2024-07-04T17:40:43.060367Z"
    }
   },
   "cell_type": "code",
   "source": "print_outliers_for_df_column(X, 'vector__number_of_elements')",
   "id": "e5649a2923239004",
   "outputs": [
    {
     "name": "stdout",
     "output_type": "stream",
     "text": [
      "El coeficiente MC (Medcouple Coefficient) de balanceo es: 0.9890442535317641\n",
      "Rango valores atípicos extremos (Tukey): [-1.0,6.0]\n",
      "Rango valores atípicos leves (Tukey): [0.5,4.5]\n",
      "Rango valores atípicos extremos (Fixed BoxPlot): [1.9529333115255485,81.3857477741056]\n",
      "-3.0IQR: 0 instancias tienen un valor para vector__number_of_elements inferior a -1.0 (Q1-3*IQR) para vector__number_of_elements. Representando un 0.0% del total de instancias.\n",
      "-1.5IQR: 30170 instancias tienen un valor para vector__number_of_elements inferior a 0.5 (Q1-1.5*IQR) para vector__number_of_elements. Representando un 8.579% del total de instancias.\n",
      "+1.5IQR: 22080 instancias tienen un valor para vector__number_of_elements superior a 4.5 (Q3+1.5*IQR) para vector__number_of_elements. Representando un 6.279% del total de instancias.\n",
      "+3.0IQR: 13980 instancias tienen un valor para vector__number_of_elements superior a 6.0 (Q3-3*IQR) para vector__number_of_elements. Representando un 3.975% del total de instancias.\n",
      "L: 68166 instancias tienen un valor para vector__number_of_elements inferior a 1.9529333115255485 para vector__number_of_elements. Representando un 19.38% del total de instancias.\n",
      "U: 1522 instancias tienen un valor para vector__number_of_elements superior a 81.3857477741056 para vector__number_of_elements. Representando un 0.4328% del total de instancias.\n"
     ]
    }
   ],
   "execution_count": 16
  },
  {
   "metadata": {},
   "cell_type": "markdown",
   "source": "Describimos los valores de las variables de la tabla, cuando el valor de la variable es mayor que 81 (Con un MC de 98 usamos U)",
   "id": "85c647f139354e3d"
  },
  {
   "metadata": {
    "ExecuteTime": {
     "end_time": "2024-07-04T17:40:43.112273Z",
     "start_time": "2024-07-04T17:40:43.092004Z"
    }
   },
   "cell_type": "code",
   "source": "X[X['vector__number_of_elements'] > 81].describe(percentiles=[.25, .50, .75], include = ['object', 'float', 'bool', 'int'])",
   "id": "5c5e0e6eb4cd173",
   "outputs": [
    {
     "data": {
      "text/plain": [
       "       vector__number_of_elements  vector__homogeneous  \\\n",
       "count                 1522.000000          1522.000000   \n",
       "mean                   344.498688             0.602497   \n",
       "std                    959.391052             0.489543   \n",
       "min                     82.000000             0.000000   \n",
       "25%                     83.000000             0.000000   \n",
       "50%                    100.000000             1.000000   \n",
       "75%                    217.000000             1.000000   \n",
       "max                  14519.000000             1.000000   \n",
       "\n",
       "       vector__category_DictionaryLiteral  vector__category_ListLiteral  \\\n",
       "count                         1522.000000                   1522.000000   \n",
       "mean                             0.139290                      0.338371   \n",
       "std                              0.346363                      0.473311   \n",
       "min                              0.000000                      0.000000   \n",
       "25%                              0.000000                      0.000000   \n",
       "50%                              0.000000                      0.000000   \n",
       "75%                              0.000000                      1.000000   \n",
       "max                              1.000000                      1.000000   \n",
       "\n",
       "       vector__category_SetLiteral  vector__category_TupleLiteral  \\\n",
       "count                  1522.000000                    1522.000000   \n",
       "mean                      0.001314                       0.521025   \n",
       "std                       0.036238                       0.499722   \n",
       "min                       0.000000                       0.000000   \n",
       "25%                       0.000000                       0.000000   \n",
       "50%                       0.000000                       1.000000   \n",
       "75%                       0.000000                       1.000000   \n",
       "max                       1.000000                       1.000000   \n",
       "\n",
       "       vector__expertise_level_BEGINNER  vector__expertise_level_EXPERT  \n",
       "count                       1522.000000                     1522.000000  \n",
       "mean                           0.827858                        0.172142  \n",
       "std                            0.377628                        0.377628  \n",
       "min                            0.000000                        0.000000  \n",
       "25%                            1.000000                        0.000000  \n",
       "50%                            1.000000                        0.000000  \n",
       "75%                            1.000000                        0.000000  \n",
       "max                            1.000000                        1.000000  "
      ],
      "text/html": [
       "<div>\n",
       "<style scoped>\n",
       "    .dataframe tbody tr th:only-of-type {\n",
       "        vertical-align: middle;\n",
       "    }\n",
       "\n",
       "    .dataframe tbody tr th {\n",
       "        vertical-align: top;\n",
       "    }\n",
       "\n",
       "    .dataframe thead th {\n",
       "        text-align: right;\n",
       "    }\n",
       "</style>\n",
       "<table border=\"1\" class=\"dataframe\">\n",
       "  <thead>\n",
       "    <tr style=\"text-align: right;\">\n",
       "      <th></th>\n",
       "      <th>vector__number_of_elements</th>\n",
       "      <th>vector__homogeneous</th>\n",
       "      <th>vector__category_DictionaryLiteral</th>\n",
       "      <th>vector__category_ListLiteral</th>\n",
       "      <th>vector__category_SetLiteral</th>\n",
       "      <th>vector__category_TupleLiteral</th>\n",
       "      <th>vector__expertise_level_BEGINNER</th>\n",
       "      <th>vector__expertise_level_EXPERT</th>\n",
       "    </tr>\n",
       "  </thead>\n",
       "  <tbody>\n",
       "    <tr>\n",
       "      <th>count</th>\n",
       "      <td>1522.000000</td>\n",
       "      <td>1522.000000</td>\n",
       "      <td>1522.000000</td>\n",
       "      <td>1522.000000</td>\n",
       "      <td>1522.000000</td>\n",
       "      <td>1522.000000</td>\n",
       "      <td>1522.000000</td>\n",
       "      <td>1522.000000</td>\n",
       "    </tr>\n",
       "    <tr>\n",
       "      <th>mean</th>\n",
       "      <td>344.498688</td>\n",
       "      <td>0.602497</td>\n",
       "      <td>0.139290</td>\n",
       "      <td>0.338371</td>\n",
       "      <td>0.001314</td>\n",
       "      <td>0.521025</td>\n",
       "      <td>0.827858</td>\n",
       "      <td>0.172142</td>\n",
       "    </tr>\n",
       "    <tr>\n",
       "      <th>std</th>\n",
       "      <td>959.391052</td>\n",
       "      <td>0.489543</td>\n",
       "      <td>0.346363</td>\n",
       "      <td>0.473311</td>\n",
       "      <td>0.036238</td>\n",
       "      <td>0.499722</td>\n",
       "      <td>0.377628</td>\n",
       "      <td>0.377628</td>\n",
       "    </tr>\n",
       "    <tr>\n",
       "      <th>min</th>\n",
       "      <td>82.000000</td>\n",
       "      <td>0.000000</td>\n",
       "      <td>0.000000</td>\n",
       "      <td>0.000000</td>\n",
       "      <td>0.000000</td>\n",
       "      <td>0.000000</td>\n",
       "      <td>0.000000</td>\n",
       "      <td>0.000000</td>\n",
       "    </tr>\n",
       "    <tr>\n",
       "      <th>25%</th>\n",
       "      <td>83.000000</td>\n",
       "      <td>0.000000</td>\n",
       "      <td>0.000000</td>\n",
       "      <td>0.000000</td>\n",
       "      <td>0.000000</td>\n",
       "      <td>0.000000</td>\n",
       "      <td>1.000000</td>\n",
       "      <td>0.000000</td>\n",
       "    </tr>\n",
       "    <tr>\n",
       "      <th>50%</th>\n",
       "      <td>100.000000</td>\n",
       "      <td>1.000000</td>\n",
       "      <td>0.000000</td>\n",
       "      <td>0.000000</td>\n",
       "      <td>0.000000</td>\n",
       "      <td>1.000000</td>\n",
       "      <td>1.000000</td>\n",
       "      <td>0.000000</td>\n",
       "    </tr>\n",
       "    <tr>\n",
       "      <th>75%</th>\n",
       "      <td>217.000000</td>\n",
       "      <td>1.000000</td>\n",
       "      <td>0.000000</td>\n",
       "      <td>1.000000</td>\n",
       "      <td>0.000000</td>\n",
       "      <td>1.000000</td>\n",
       "      <td>1.000000</td>\n",
       "      <td>0.000000</td>\n",
       "    </tr>\n",
       "    <tr>\n",
       "      <th>max</th>\n",
       "      <td>14519.000000</td>\n",
       "      <td>1.000000</td>\n",
       "      <td>1.000000</td>\n",
       "      <td>1.000000</td>\n",
       "      <td>1.000000</td>\n",
       "      <td>1.000000</td>\n",
       "      <td>1.000000</td>\n",
       "      <td>1.000000</td>\n",
       "    </tr>\n",
       "  </tbody>\n",
       "</table>\n",
       "</div>"
      ]
     },
     "execution_count": 17,
     "metadata": {},
     "output_type": "execute_result"
    }
   ],
   "execution_count": 17
  },
  {
   "metadata": {},
   "cell_type": "markdown",
   "source": [
    "### Variable category (3/3)\n",
    "Esta variable es de tipo categorica y representa el tipo del vector."
   ],
   "id": "2fd1b0439566c6f7"
  },
  {
   "metadata": {
    "ExecuteTime": {
     "end_time": "2024-07-04T17:40:43.737666Z",
     "start_time": "2024-07-04T17:40:43.113277Z"
    }
   },
   "cell_type": "code",
   "source": "print_categorical_histogram(full_table, 'vector__category')",
   "id": "b504c449a7224091",
   "outputs": [
    {
     "data": {
      "text/plain": [
       "<Figure size 1200x600 with 1 Axes>"
      ],
      "image/png": "[encoded data removed]"
     },
     "metadata": {},
     "output_type": "display_data"
    }
   ],
   "execution_count": 18
  },
  {
   "metadata": {
    "ExecuteTime": {
     "end_time": "2024-07-04T17:40:43.849614Z",
     "start_time": "2024-07-04T17:40:43.738674Z"
    }
   },
   "cell_type": "code",
   "source": "print_frequency_anal_for_cat_var(full_table, 'vector__category')",
   "id": "33df6df9ad0487a2",
   "outputs": [
    {
     "name": "stdout",
     "output_type": "stream",
     "text": [
      "La variable vector__category contiene 4 valores distintos.\n",
      "El umbral de outlier es de 0.05%\n",
      "La variable vector__category toma el valor de TupleLiteral en un 66.8% de los items.\n",
      "La variable vector__category toma el valor de ListLiteral en un 20.77% de los items.\n",
      "La variable vector__category toma el valor de DictionaryLiteral en un 11.9% de los items.\n",
      "La variable vector__category toma el valor de SetLiteral en un 0.5343% de los items.\n"
     ]
    }
   ],
   "execution_count": 19
  },
  {
   "metadata": {
    "ExecuteTime": {
     "end_time": "2024-07-04T17:40:43.872072Z",
     "start_time": "2024-07-04T17:40:43.850621Z"
    }
   },
   "cell_type": "code",
   "source": "print_values_usage_for_cat_var(full_table, 'vector__category', VECTOR_CATEGORY_VALUES)",
   "id": "7a3ef06749d0b76b",
   "outputs": [
    {
     "name": "stdout",
     "output_type": "stream",
     "text": [
      "La variable vector__category puede tomar 4 valores distintos\n",
      "\t4 (100.0%) valores utilizados\n",
      "\t0 (0.0%) valores NO utilizados\n"
     ]
    }
   ],
   "execution_count": 20
  },
  {
   "metadata": {},
   "cell_type": "markdown",
   "source": [
    "## Multivariate\n",
    "\n",
    "Isolation forest algorithm"
   ],
   "id": "67c983c9af4d63dd"
  },
  {
   "metadata": {
    "ExecuteTime": {
     "end_time": "2024-07-04T17:40:47.014384Z",
     "start_time": "2024-07-04T17:40:43.873077Z"
    }
   },
   "cell_type": "code",
   "source": [
    "from sklearn.ensemble import  IsolationForest\n",
    "\n",
    "CONTAMINATION_FACTOR = 0.0012\n",
    "isof_model = IsolationForest(contamination=CONTAMINATION_FACTOR, random_state=0)\n",
    "isof_prediction = isof_model.fit_predict(X.values)\n",
    "mask = isof_prediction == -1\n",
    "full_table.loc[X.index[mask]]"
   ],
   "id": "f07fdf0a99b29a0",
   "outputs": [
    {
     "data": {
      "text/plain": [
       "         vector__category  vector__number_of_elements  vector__homogeneous  \\\n",
       "2035    DictionaryLiteral                          68                False   \n",
       "10604   DictionaryLiteral                          61                False   \n",
       "10874        TupleLiteral                        3760                 True   \n",
       "10879        TupleLiteral                        5376                 True   \n",
       "11152        TupleLiteral                        2352                 True   \n",
       "...                   ...                         ...                  ...   \n",
       "259588         SetLiteral                          76                 True   \n",
       "260887         SetLiteral                          24                 True   \n",
       "289985         SetLiteral                          16                 True   \n",
       "315723         SetLiteral                          25                 True   \n",
       "321792         SetLiteral                          22                 True   \n",
       "\n",
       "       vector__expertise_level  \n",
       "2035                  BEGINNER  \n",
       "10604                 BEGINNER  \n",
       "10874                 BEGINNER  \n",
       "10879                 BEGINNER  \n",
       "11152                 BEGINNER  \n",
       "...                        ...  \n",
       "259588                  EXPERT  \n",
       "260887                  EXPERT  \n",
       "289985                  EXPERT  \n",
       "315723                  EXPERT  \n",
       "321792                  EXPERT  \n",
       "\n",
       "[64 rows x 4 columns]"
      ],
      "text/html": [
       "<div>\n",
       "<style scoped>\n",
       "    .dataframe tbody tr th:only-of-type {\n",
       "        vertical-align: middle;\n",
       "    }\n",
       "\n",
       "    .dataframe tbody tr th {\n",
       "        vertical-align: top;\n",
       "    }\n",
       "\n",
       "    .dataframe thead th {\n",
       "        text-align: right;\n",
       "    }\n",
       "</style>\n",
       "<table border=\"1\" class=\"dataframe\">\n",
       "  <thead>\n",
       "    <tr style=\"text-align: right;\">\n",
       "      <th></th>\n",
       "      <th>vector__category</th>\n",
       "      <th>vector__number_of_elements</th>\n",
       "      <th>vector__homogeneous</th>\n",
       "      <th>vector__expertise_level</th>\n",
       "    </tr>\n",
       "  </thead>\n",
       "  <tbody>\n",
       "    <tr>\n",
       "      <th>2035</th>\n",
       "      <td>DictionaryLiteral</td>\n",
       "      <td>68</td>\n",
       "      <td>False</td>\n",
       "      <td>BEGINNER</td>\n",
       "    </tr>\n",
       "    <tr>\n",
       "      <th>10604</th>\n",
       "      <td>DictionaryLiteral</td>\n",
       "      <td>61</td>\n",
       "      <td>False</td>\n",
       "      <td>BEGINNER</td>\n",
       "    </tr>\n",
       "    <tr>\n",
       "      <th>10874</th>\n",
       "      <td>TupleLiteral</td>\n",
       "      <td>3760</td>\n",
       "      <td>True</td>\n",
       "      <td>BEGINNER</td>\n",
       "    </tr>\n",
       "    <tr>\n",
       "      <th>10879</th>\n",
       "      <td>TupleLiteral</td>\n",
       "      <td>5376</td>\n",
       "      <td>True</td>\n",
       "      <td>BEGINNER</td>\n",
       "    </tr>\n",
       "    <tr>\n",
       "      <th>11152</th>\n",
       "      <td>TupleLiteral</td>\n",
       "      <td>2352</td>\n",
       "      <td>True</td>\n",
       "      <td>BEGINNER</td>\n",
       "    </tr>\n",
       "    <tr>\n",
       "      <th>...</th>\n",
       "      <td>...</td>\n",
       "      <td>...</td>\n",
       "      <td>...</td>\n",
       "      <td>...</td>\n",
       "    </tr>\n",
       "    <tr>\n",
       "      <th>259588</th>\n",
       "      <td>SetLiteral</td>\n",
       "      <td>76</td>\n",
       "      <td>True</td>\n",
       "      <td>EXPERT</td>\n",
       "    </tr>\n",
       "    <tr>\n",
       "      <th>260887</th>\n",
       "      <td>SetLiteral</td>\n",
       "      <td>24</td>\n",
       "      <td>True</td>\n",
       "      <td>EXPERT</td>\n",
       "    </tr>\n",
       "    <tr>\n",
       "      <th>289985</th>\n",
       "      <td>SetLiteral</td>\n",
       "      <td>16</td>\n",
       "      <td>True</td>\n",
       "      <td>EXPERT</td>\n",
       "    </tr>\n",
       "    <tr>\n",
       "      <th>315723</th>\n",
       "      <td>SetLiteral</td>\n",
       "      <td>25</td>\n",
       "      <td>True</td>\n",
       "      <td>EXPERT</td>\n",
       "    </tr>\n",
       "    <tr>\n",
       "      <th>321792</th>\n",
       "      <td>SetLiteral</td>\n",
       "      <td>22</td>\n",
       "      <td>True</td>\n",
       "      <td>EXPERT</td>\n",
       "    </tr>\n",
       "  </tbody>\n",
       "</table>\n",
       "<p>64 rows × 4 columns</p>\n",
       "</div>"
      ]
     },
     "execution_count": 21,
     "metadata": {},
     "output_type": "execute_result"
    }
   ],
   "execution_count": 21
  },
  {
   "metadata": {},
   "cell_type": "markdown",
   "source": [
    "### IMPORTANTE\n",
    "Revisar los outliers detectados."
   ],
   "id": "e39c0668bd6ba72d"
  },
  {
   "metadata": {
    "ExecuteTime": {
     "end_time": "2024-07-04T17:40:47.037284Z",
     "start_time": "2024-07-04T17:40:47.015407Z"
    }
   },
   "cell_type": "code",
   "source": [
    "# Outliers\n",
    "np.transpose(X[mask].describe(percentiles=[.25, .50, .75], include = ['object', 'float', 'bool', 'int']))"
   ],
   "id": "57e32414f9c7d028",
   "outputs": [
    {
     "data": {
      "text/plain": [
       "                                    count         mean          std   min  \\\n",
       "vector__number_of_elements           64.0  2218.859375  2324.573975  14.0   \n",
       "vector__homogeneous                  64.0     0.750000     0.436436   0.0   \n",
       "vector__category_DictionaryLiteral   64.0     0.187500     0.393398   0.0   \n",
       "vector__category_ListLiteral         64.0     0.000000     0.000000   0.0   \n",
       "vector__category_SetLiteral          64.0     0.296875     0.460493   0.0   \n",
       "vector__category_TupleLiteral        64.0     0.515625     0.503707   0.0   \n",
       "vector__expertise_level_BEGINNER     64.0     0.765625     0.426956   0.0   \n",
       "vector__expertise_level_EXPERT       64.0     0.234375     0.426956   0.0   \n",
       "\n",
       "                                      25%     50%     75%     max  \n",
       "vector__number_of_elements          56.00  1666.0  4368.0  7260.0  \n",
       "vector__homogeneous                  0.75     1.0     1.0     1.0  \n",
       "vector__category_DictionaryLiteral   0.00     0.0     0.0     1.0  \n",
       "vector__category_ListLiteral         0.00     0.0     0.0     0.0  \n",
       "vector__category_SetLiteral          0.00     0.0     1.0     1.0  \n",
       "vector__category_TupleLiteral        0.00     1.0     1.0     1.0  \n",
       "vector__expertise_level_BEGINNER     1.00     1.0     1.0     1.0  \n",
       "vector__expertise_level_EXPERT       0.00     0.0     0.0     1.0  "
      ],
      "text/html": [
       "<div>\n",
       "<style scoped>\n",
       "    .dataframe tbody tr th:only-of-type {\n",
       "        vertical-align: middle;\n",
       "    }\n",
       "\n",
       "    .dataframe tbody tr th {\n",
       "        vertical-align: top;\n",
       "    }\n",
       "\n",
       "    .dataframe thead th {\n",
       "        text-align: right;\n",
       "    }\n",
       "</style>\n",
       "<table border=\"1\" class=\"dataframe\">\n",
       "  <thead>\n",
       "    <tr style=\"text-align: right;\">\n",
       "      <th></th>\n",
       "      <th>count</th>\n",
       "      <th>mean</th>\n",
       "      <th>std</th>\n",
       "      <th>min</th>\n",
       "      <th>25%</th>\n",
       "      <th>50%</th>\n",
       "      <th>75%</th>\n",
       "      <th>max</th>\n",
       "    </tr>\n",
       "  </thead>\n",
       "  <tbody>\n",
       "    <tr>\n",
       "      <th>vector__number_of_elements</th>\n",
       "      <td>64.0</td>\n",
       "      <td>2218.859375</td>\n",
       "      <td>2324.573975</td>\n",
       "      <td>14.0</td>\n",
       "      <td>56.00</td>\n",
       "      <td>1666.0</td>\n",
       "      <td>4368.0</td>\n",
       "      <td>7260.0</td>\n",
       "    </tr>\n",
       "    <tr>\n",
       "      <th>vector__homogeneous</th>\n",
       "      <td>64.0</td>\n",
       "      <td>0.750000</td>\n",
       "      <td>0.436436</td>\n",
       "      <td>0.0</td>\n",
       "      <td>0.75</td>\n",
       "      <td>1.0</td>\n",
       "      <td>1.0</td>\n",
       "      <td>1.0</td>\n",
       "    </tr>\n",
       "    <tr>\n",
       "      <th>vector__category_DictionaryLiteral</th>\n",
       "      <td>64.0</td>\n",
       "      <td>0.187500</td>\n",
       "      <td>0.393398</td>\n",
       "      <td>0.0</td>\n",
       "      <td>0.00</td>\n",
       "      <td>0.0</td>\n",
       "      <td>0.0</td>\n",
       "      <td>1.0</td>\n",
       "    </tr>\n",
       "    <tr>\n",
       "      <th>vector__category_ListLiteral</th>\n",
       "      <td>64.0</td>\n",
       "      <td>0.000000</td>\n",
       "      <td>0.000000</td>\n",
       "      <td>0.0</td>\n",
       "      <td>0.00</td>\n",
       "      <td>0.0</td>\n",
       "      <td>0.0</td>\n",
       "      <td>0.0</td>\n",
       "    </tr>\n",
       "    <tr>\n",
       "      <th>vector__category_SetLiteral</th>\n",
       "      <td>64.0</td>\n",
       "      <td>0.296875</td>\n",
       "      <td>0.460493</td>\n",
       "      <td>0.0</td>\n",
       "      <td>0.00</td>\n",
       "      <td>0.0</td>\n",
       "      <td>1.0</td>\n",
       "      <td>1.0</td>\n",
       "    </tr>\n",
       "    <tr>\n",
       "      <th>vector__category_TupleLiteral</th>\n",
       "      <td>64.0</td>\n",
       "      <td>0.515625</td>\n",
       "      <td>0.503707</td>\n",
       "      <td>0.0</td>\n",
       "      <td>0.00</td>\n",
       "      <td>1.0</td>\n",
       "      <td>1.0</td>\n",
       "      <td>1.0</td>\n",
       "    </tr>\n",
       "    <tr>\n",
       "      <th>vector__expertise_level_BEGINNER</th>\n",
       "      <td>64.0</td>\n",
       "      <td>0.765625</td>\n",
       "      <td>0.426956</td>\n",
       "      <td>0.0</td>\n",
       "      <td>1.00</td>\n",
       "      <td>1.0</td>\n",
       "      <td>1.0</td>\n",
       "      <td>1.0</td>\n",
       "    </tr>\n",
       "    <tr>\n",
       "      <th>vector__expertise_level_EXPERT</th>\n",
       "      <td>64.0</td>\n",
       "      <td>0.234375</td>\n",
       "      <td>0.426956</td>\n",
       "      <td>0.0</td>\n",
       "      <td>0.00</td>\n",
       "      <td>0.0</td>\n",
       "      <td>0.0</td>\n",
       "      <td>1.0</td>\n",
       "    </tr>\n",
       "  </tbody>\n",
       "</table>\n",
       "</div>"
      ]
     },
     "execution_count": 22,
     "metadata": {},
     "output_type": "execute_result"
    }
   ],
   "execution_count": 22
  },
  {
   "metadata": {
    "ExecuteTime": {
     "end_time": "2024-07-04T17:40:47.146870Z",
     "start_time": "2024-07-04T17:40:47.038290Z"
    }
   },
   "cell_type": "code",
   "source": [
    "# Non-Outliers\n",
    "np.transpose(X[~mask].describe(percentiles=[.25, .50, .75], include = ['object', 'float', 'bool', 'int']))"
   ],
   "id": "6a2118619cc1e3cb",
   "outputs": [
    {
     "data": {
      "text/plain": [
       "                                       count      mean        std  min  25%  \\\n",
       "vector__number_of_elements          351600.0  3.971817  51.581577  0.0  2.0   \n",
       "vector__homogeneous                 351600.0  0.453726   0.497855  0.0  0.0   \n",
       "vector__category_DictionaryLiteral  351600.0  0.119013   0.323804  0.0  0.0   \n",
       "vector__category_ListLiteral        351600.0  0.207696   0.405659  0.0  0.0   \n",
       "vector__category_SetLiteral         351600.0  0.005290   0.072541  0.0  0.0   \n",
       "vector__category_TupleLiteral       351600.0  0.668001   0.470931  0.0  0.0   \n",
       "vector__expertise_level_BEGINNER    351600.0  0.346175   0.475750  0.0  0.0   \n",
       "vector__expertise_level_EXPERT      351600.0  0.653825   0.475750  0.0  0.0   \n",
       "\n",
       "                                    50%  75%      max  \n",
       "vector__number_of_elements          2.0  3.0  14519.0  \n",
       "vector__homogeneous                 0.0  1.0      1.0  \n",
       "vector__category_DictionaryLiteral  0.0  0.0      1.0  \n",
       "vector__category_ListLiteral        0.0  0.0      1.0  \n",
       "vector__category_SetLiteral         0.0  0.0      1.0  \n",
       "vector__category_TupleLiteral       1.0  1.0      1.0  \n",
       "vector__expertise_level_BEGINNER    0.0  1.0      1.0  \n",
       "vector__expertise_level_EXPERT      1.0  1.0      1.0  "
      ],
      "text/html": [
       "<div>\n",
       "<style scoped>\n",
       "    .dataframe tbody tr th:only-of-type {\n",
       "        vertical-align: middle;\n",
       "    }\n",
       "\n",
       "    .dataframe tbody tr th {\n",
       "        vertical-align: top;\n",
       "    }\n",
       "\n",
       "    .dataframe thead th {\n",
       "        text-align: right;\n",
       "    }\n",
       "</style>\n",
       "<table border=\"1\" class=\"dataframe\">\n",
       "  <thead>\n",
       "    <tr style=\"text-align: right;\">\n",
       "      <th></th>\n",
       "      <th>count</th>\n",
       "      <th>mean</th>\n",
       "      <th>std</th>\n",
       "      <th>min</th>\n",
       "      <th>25%</th>\n",
       "      <th>50%</th>\n",
       "      <th>75%</th>\n",
       "      <th>max</th>\n",
       "    </tr>\n",
       "  </thead>\n",
       "  <tbody>\n",
       "    <tr>\n",
       "      <th>vector__number_of_elements</th>\n",
       "      <td>351600.0</td>\n",
       "      <td>3.971817</td>\n",
       "      <td>51.581577</td>\n",
       "      <td>0.0</td>\n",
       "      <td>2.0</td>\n",
       "      <td>2.0</td>\n",
       "      <td>3.0</td>\n",
       "      <td>14519.0</td>\n",
       "    </tr>\n",
       "    <tr>\n",
       "      <th>vector__homogeneous</th>\n",
       "      <td>351600.0</td>\n",
       "      <td>0.453726</td>\n",
       "      <td>0.497855</td>\n",
       "      <td>0.0</td>\n",
       "      <td>0.0</td>\n",
       "      <td>0.0</td>\n",
       "      <td>1.0</td>\n",
       "      <td>1.0</td>\n",
       "    </tr>\n",
       "    <tr>\n",
       "      <th>vector__category_DictionaryLiteral</th>\n",
       "      <td>351600.0</td>\n",
       "      <td>0.119013</td>\n",
       "      <td>0.323804</td>\n",
       "      <td>0.0</td>\n",
       "      <td>0.0</td>\n",
       "      <td>0.0</td>\n",
       "      <td>0.0</td>\n",
       "      <td>1.0</td>\n",
       "    </tr>\n",
       "    <tr>\n",
       "      <th>vector__category_ListLiteral</th>\n",
       "      <td>351600.0</td>\n",
       "      <td>0.207696</td>\n",
       "      <td>0.405659</td>\n",
       "      <td>0.0</td>\n",
       "      <td>0.0</td>\n",
       "      <td>0.0</td>\n",
       "      <td>0.0</td>\n",
       "      <td>1.0</td>\n",
       "    </tr>\n",
       "    <tr>\n",
       "      <th>vector__category_SetLiteral</th>\n",
       "      <td>351600.0</td>\n",
       "      <td>0.005290</td>\n",
       "      <td>0.072541</td>\n",
       "      <td>0.0</td>\n",
       "      <td>0.0</td>\n",
       "      <td>0.0</td>\n",
       "      <td>0.0</td>\n",
       "      <td>1.0</td>\n",
       "    </tr>\n",
       "    <tr>\n",
       "      <th>vector__category_TupleLiteral</th>\n",
       "      <td>351600.0</td>\n",
       "      <td>0.668001</td>\n",
       "      <td>0.470931</td>\n",
       "      <td>0.0</td>\n",
       "      <td>0.0</td>\n",
       "      <td>1.0</td>\n",
       "      <td>1.0</td>\n",
       "      <td>1.0</td>\n",
       "    </tr>\n",
       "    <tr>\n",
       "      <th>vector__expertise_level_BEGINNER</th>\n",
       "      <td>351600.0</td>\n",
       "      <td>0.346175</td>\n",
       "      <td>0.475750</td>\n",
       "      <td>0.0</td>\n",
       "      <td>0.0</td>\n",
       "      <td>0.0</td>\n",
       "      <td>1.0</td>\n",
       "      <td>1.0</td>\n",
       "    </tr>\n",
       "    <tr>\n",
       "      <th>vector__expertise_level_EXPERT</th>\n",
       "      <td>351600.0</td>\n",
       "      <td>0.653825</td>\n",
       "      <td>0.475750</td>\n",
       "      <td>0.0</td>\n",
       "      <td>0.0</td>\n",
       "      <td>1.0</td>\n",
       "      <td>1.0</td>\n",
       "      <td>1.0</td>\n",
       "    </tr>\n",
       "  </tbody>\n",
       "</table>\n",
       "</div>"
      ]
     },
     "execution_count": 23,
     "metadata": {},
     "output_type": "execute_result"
    }
   ],
   "execution_count": 23
  }
 ],
 "metadata": {
  "kernelspec": {
   "display_name": "Python 3",
   "language": "python",
   "name": "python3"
  },
  "language_info": {
   "codemirror_mode": {
    "name": "ipython",
    "version": 2
   },
   "file_extension": ".py",
   "mimetype": "text/x-python",
   "name": "python",
   "nbconvert_exporter": "python",
   "pygments_lexer": "ipython2",
   "version": "2.7.6"
  }
 },
 "nbformat": 4,
 "nbformat_minor": 5
}
