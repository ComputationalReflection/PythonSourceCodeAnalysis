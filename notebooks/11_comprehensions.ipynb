{
 "cells": [
  {
   "metadata": {},
   "cell_type": "markdown",
   "source": [
    "# Comprehensions\n",
    "\n",
    "Esta tabla contiene la información de las comprehensiones."
   ],
   "id": "148ae8871134f924"
  },
  {
   "metadata": {},
   "cell_type": "markdown",
   "source": "## 1 - Obtencion de datos",
   "id": "d3c24a719032807f"
  },
  {
   "metadata": {
    "ExecuteTime": {
     "end_time": "2024-07-04T17:21:05.119407Z",
     "start_time": "2024-07-04T17:21:03.117322Z"
    }
   },
   "cell_type": "code",
   "source": [
    "import matplotlib.pyplot as plt\n",
    "from notebooks_utils import *\n",
    "from domains import *\n",
    "\n",
    "full_table = get_data('comprehensions')\n",
    "\n",
    "# Table name, features and target.\n",
    "TABLE_NAME = 'comprehensions'\n",
    "TABLE_FEATURES = ['comprehension__category', 'comprehension__number_of_ifs', 'comprehension__number_of_generators', 'comprehension__is_async', 'comprehension__expertise_level']\n",
    "TABLE_TARGET = 'comprehension__expertise_level'\n",
    "\n",
    "# Load features and target.\n",
    "X, y = full_table[TABLE_FEATURES], full_table[[TABLE_TARGET]].iloc[:,0]\n",
    "\n",
    "# Print information about the loaded table.\n",
    "print(f'Features shape: {X.shape}')\n",
    "print(f'Target shape: {y.shape}')\n",
    "\n",
    "print(f'As we can see the downloaded data contains a total of {X.shape[0]} instances. For each instance we have {X.shape[1]} attributes.')"
   ],
   "id": "9f0a949e91eb384b",
   "outputs": [
    {
     "name": "stdout",
     "output_type": "stream",
     "text": [
      "2024-07-04 19:21:05.111276 Data cache files found ...\n",
      "2024-07-04 19:21:05.115275 Data cache files successfully loaded!!\n",
      "Features shape: (18259, 5)\n",
      "Target shape: (18259,)\n",
      "As we can see the downloaded data contains a total of 18259 instances. For each instance we have 5 attributes.\n"
     ]
    }
   ],
   "execution_count": 1
  },
  {
   "metadata": {},
   "cell_type": "markdown",
   "source": [
    "## 2 - Exploracion de datos\n",
    "\n",
    "Una vez tenemos nuestra tabla en un dataframe el siguiente paso es explorarla para ver qué tipo de información contiene."
   ],
   "id": "bcda7cb784bf0a1"
  },
  {
   "metadata": {
    "ExecuteTime": {
     "end_time": "2024-07-04T17:21:05.134617Z",
     "start_time": "2024-07-04T17:21:05.120419Z"
    }
   },
   "cell_type": "code",
   "source": [
    "print(X.info())\n",
    "print('=============')\n",
    "print(y.info())"
   ],
   "id": "2eb3d09993235bcb",
   "outputs": [
    {
     "name": "stdout",
     "output_type": "stream",
     "text": [
      "<class 'pandas.core.frame.DataFrame'>\n",
      "RangeIndex: 18259 entries, 0 to 18258\n",
      "Data columns (total 5 columns):\n",
      " #   Column                               Non-Null Count  Dtype \n",
      "---  ------                               --------------  ----- \n",
      " 0   comprehension__category              18259 non-null  object\n",
      " 1   comprehension__number_of_ifs         18259 non-null  int64 \n",
      " 2   comprehension__number_of_generators  18259 non-null  int64 \n",
      " 3   comprehension__is_async              18259 non-null  bool  \n",
      " 4   comprehension__expertise_level       18259 non-null  object\n",
      "dtypes: bool(1), int64(2), object(2)\n",
      "memory usage: 588.6+ KB\n",
      "None\n",
      "=============\n",
      "<class 'pandas.core.series.Series'>\n",
      "RangeIndex: 18259 entries, 0 to 18258\n",
      "Series name: comprehension__expertise_level\n",
      "Non-Null Count  Dtype \n",
      "--------------  ----- \n",
      "18259 non-null  object\n",
      "dtypes: object(1)\n",
      "memory usage: 142.8+ KB\n",
      "None\n"
     ]
    }
   ],
   "execution_count": 2
  },
  {
   "metadata": {},
   "cell_type": "markdown",
   "source": "Cómo podemos ver la tabla está compuesta por 2 variables numéricas, 1 boleanas y 2 de tipo objeto.",
   "id": "24f7607501c2e574"
  },
  {
   "metadata": {},
   "cell_type": "markdown",
   "source": "### 2.1 - Equilibrado de clases",
   "id": "f6d062d35a16e21d"
  },
  {
   "metadata": {
    "ExecuteTime": {
     "end_time": "2024-07-04T17:21:05.143658Z",
     "start_time": "2024-07-04T17:21:05.135622Z"
    }
   },
   "cell_type": "code",
   "source": [
    "instances_for_class_low = len(full_table[full_table[TABLE_TARGET] == \"BEGINNER\"])\n",
    "instances_for_class_high = len(full_table[full_table[TABLE_TARGET] == \"EXPERT\"])\n",
    "\n",
    "print(f\"The dataset contains {instances_for_class_low/len(full_table)*100:.4}% instances for BEGINNER class and {instances_for_class_high/len(full_table)*100:.4}% for EXPERT class.\")"
   ],
   "id": "58277bda417384ef",
   "outputs": [
    {
     "name": "stdout",
     "output_type": "stream",
     "text": [
      "The dataset contains 27.29% instances for BEGINNER class and 72.71% for EXPERT class.\n"
     ]
    }
   ],
   "execution_count": 3
  },
  {
   "metadata": {},
   "cell_type": "markdown",
   "source": [
    "### 2.2 - Valores Nulos \n",
    "Miramos si alguna de las variables que contiene la tabla contiene algún valor que sea nulo."
   ],
   "id": "63d4e4ed1d8d2c6c"
  },
  {
   "metadata": {
    "ExecuteTime": {
     "end_time": "2024-07-04T17:21:05.152145Z",
     "start_time": "2024-07-04T17:21:05.144665Z"
    }
   },
   "cell_type": "code",
   "source": "X.isnull().sum()",
   "id": "6c991380e6e0413e",
   "outputs": [
    {
     "data": {
      "text/plain": [
       "comprehension__category                0\n",
       "comprehension__number_of_ifs           0\n",
       "comprehension__number_of_generators    0\n",
       "comprehension__is_async                0\n",
       "comprehension__expertise_level         0\n",
       "dtype: int64"
      ]
     },
     "execution_count": 4,
     "metadata": {},
     "output_type": "execute_result"
    }
   ],
   "execution_count": 4
  },
  {
   "metadata": {
    "ExecuteTime": {
     "end_time": "2024-07-04T17:21:05.160003Z",
     "start_time": "2024-07-04T17:21:05.153149Z"
    }
   },
   "cell_type": "code",
   "source": "print_empty_cols(X)",
   "id": "18b2dfadf1719a4b",
   "outputs": [
    {
     "name": "stdout",
     "output_type": "stream",
     "text": [
      "comprehension__category\n",
      "-----------------------\n",
      "0 instancias no tienen un valor para la columna comprehension__category\n",
      "\n",
      "\n",
      "comprehension__number_of_ifs\n",
      "----------------------------\n",
      "0 instancias no tienen un valor para la columna comprehension__number_of_ifs\n",
      "\n",
      "\n",
      "comprehension__number_of_generators\n",
      "-----------------------------------\n",
      "0 instancias no tienen un valor para la columna comprehension__number_of_generators\n",
      "\n",
      "\n",
      "comprehension__is_async\n",
      "-----------------------\n",
      "0 instancias no tienen un valor para la columna comprehension__is_async\n",
      "\n",
      "\n",
      "comprehension__expertise_level\n",
      "------------------------------\n",
      "0 instancias no tienen un valor para la columna comprehension__expertise_level\n",
      "\n",
      "\n"
     ]
    }
   ],
   "execution_count": 5
  },
  {
   "metadata": {},
   "cell_type": "markdown",
   "source": "### 2.3 - Describimos los valores de las variables de la tabla.",
   "id": "5bb94c0f81c08024"
  },
  {
   "metadata": {
    "ExecuteTime": {
     "end_time": "2024-07-04T17:21:05.183999Z",
     "start_time": "2024-07-04T17:21:05.161007Z"
    }
   },
   "cell_type": "code",
   "source": "np.transpose(X.describe(percentiles=[.25, .50, .75], include = ['object', 'float', 'bool', 'int']))",
   "id": "74bba302a29fbfd5",
   "outputs": [
    {
     "data": {
      "text/plain": [
       "                                       count unique                top   freq  \\\n",
       "comprehension__category                18259      4  ListComprehension  11602   \n",
       "comprehension__number_of_ifs         18259.0    NaN                NaN    NaN   \n",
       "comprehension__number_of_generators  18259.0    NaN                NaN    NaN   \n",
       "comprehension__is_async                18259      2              False  18247   \n",
       "comprehension__expertise_level         18259      2             EXPERT  13277   \n",
       "\n",
       "                                         mean       std  min  25%  50%  75%  \\\n",
       "comprehension__category                   NaN       NaN  NaN  NaN  NaN  NaN   \n",
       "comprehension__number_of_ifs         0.151542  0.359654  0.0  0.0  0.0  0.0   \n",
       "comprehension__number_of_generators   1.01884   0.14531  1.0  1.0  1.0  1.0   \n",
       "comprehension__is_async                   NaN       NaN  NaN  NaN  NaN  NaN   \n",
       "comprehension__expertise_level            NaN       NaN  NaN  NaN  NaN  NaN   \n",
       "\n",
       "                                     max  \n",
       "comprehension__category              NaN  \n",
       "comprehension__number_of_ifs         2.0  \n",
       "comprehension__number_of_generators  4.0  \n",
       "comprehension__is_async              NaN  \n",
       "comprehension__expertise_level       NaN  "
      ],
      "text/html": [
       "<div>\n",
       "<style scoped>\n",
       "    .dataframe tbody tr th:only-of-type {\n",
       "        vertical-align: middle;\n",
       "    }\n",
       "\n",
       "    .dataframe tbody tr th {\n",
       "        vertical-align: top;\n",
       "    }\n",
       "\n",
       "    .dataframe thead th {\n",
       "        text-align: right;\n",
       "    }\n",
       "</style>\n",
       "<table border=\"1\" class=\"dataframe\">\n",
       "  <thead>\n",
       "    <tr style=\"text-align: right;\">\n",
       "      <th></th>\n",
       "      <th>count</th>\n",
       "      <th>unique</th>\n",
       "      <th>top</th>\n",
       "      <th>freq</th>\n",
       "      <th>mean</th>\n",
       "      <th>std</th>\n",
       "      <th>min</th>\n",
       "      <th>25%</th>\n",
       "      <th>50%</th>\n",
       "      <th>75%</th>\n",
       "      <th>max</th>\n",
       "    </tr>\n",
       "  </thead>\n",
       "  <tbody>\n",
       "    <tr>\n",
       "      <th>comprehension__category</th>\n",
       "      <td>18259</td>\n",
       "      <td>4</td>\n",
       "      <td>ListComprehension</td>\n",
       "      <td>11602</td>\n",
       "      <td>NaN</td>\n",
       "      <td>NaN</td>\n",
       "      <td>NaN</td>\n",
       "      <td>NaN</td>\n",
       "      <td>NaN</td>\n",
       "      <td>NaN</td>\n",
       "      <td>NaN</td>\n",
       "    </tr>\n",
       "    <tr>\n",
       "      <th>comprehension__number_of_ifs</th>\n",
       "      <td>18259.0</td>\n",
       "      <td>NaN</td>\n",
       "      <td>NaN</td>\n",
       "      <td>NaN</td>\n",
       "      <td>0.151542</td>\n",
       "      <td>0.359654</td>\n",
       "      <td>0.0</td>\n",
       "      <td>0.0</td>\n",
       "      <td>0.0</td>\n",
       "      <td>0.0</td>\n",
       "      <td>2.0</td>\n",
       "    </tr>\n",
       "    <tr>\n",
       "      <th>comprehension__number_of_generators</th>\n",
       "      <td>18259.0</td>\n",
       "      <td>NaN</td>\n",
       "      <td>NaN</td>\n",
       "      <td>NaN</td>\n",
       "      <td>1.01884</td>\n",
       "      <td>0.14531</td>\n",
       "      <td>1.0</td>\n",
       "      <td>1.0</td>\n",
       "      <td>1.0</td>\n",
       "      <td>1.0</td>\n",
       "      <td>4.0</td>\n",
       "    </tr>\n",
       "    <tr>\n",
       "      <th>comprehension__is_async</th>\n",
       "      <td>18259</td>\n",
       "      <td>2</td>\n",
       "      <td>False</td>\n",
       "      <td>18247</td>\n",
       "      <td>NaN</td>\n",
       "      <td>NaN</td>\n",
       "      <td>NaN</td>\n",
       "      <td>NaN</td>\n",
       "      <td>NaN</td>\n",
       "      <td>NaN</td>\n",
       "      <td>NaN</td>\n",
       "    </tr>\n",
       "    <tr>\n",
       "      <th>comprehension__expertise_level</th>\n",
       "      <td>18259</td>\n",
       "      <td>2</td>\n",
       "      <td>EXPERT</td>\n",
       "      <td>13277</td>\n",
       "      <td>NaN</td>\n",
       "      <td>NaN</td>\n",
       "      <td>NaN</td>\n",
       "      <td>NaN</td>\n",
       "      <td>NaN</td>\n",
       "      <td>NaN</td>\n",
       "      <td>NaN</td>\n",
       "    </tr>\n",
       "  </tbody>\n",
       "</table>\n",
       "</div>"
      ]
     },
     "execution_count": 6,
     "metadata": {},
     "output_type": "execute_result"
    }
   ],
   "execution_count": 6
  },
  {
   "metadata": {},
   "cell_type": "markdown",
   "source": "Vamos a discretizar las variables numericas, agrupando conjuntos de valores en categorias, para hacer un análisis de los datos. Para cada variable es necesaario ver la distribucion de lo valores para hacer los bins (categorias).",
   "id": "9af3eb59b924a596"
  },
  {
   "metadata": {
    "ExecuteTime": {
     "end_time": "2024-07-04T17:21:05.232739Z",
     "start_time": "2024-07-04T17:21:05.185003Z"
    }
   },
   "cell_type": "code",
   "source": [
    "# DISCRETIZATION\n",
    "X_copy = X.copy()\n",
    "\n",
    "discretized_columns = {\n",
    "    \"comprehension__number_of_ifs\": [(0.0, 0.0), (0.0, inf)],  # min: 0.0 max: 2.0\n",
    "    \"comprehension__number_of_generators\": [(0.0, 1.0), (1.0, 1.0), (1.0, inf)],  # min: 1.0 max: 4.0\n",
    "}\n",
    "\n",
    "discretize_columns(X_copy, discretized_columns)\n",
    "    \n",
    "# SINGLE FEATURE\n",
    "print(\"--- SINGLE FEATURE ---\")\n",
    "print(get_statistics(X_copy, ['comprehension__number_of_ifs'], 10))\n",
    "print(get_statistics(X_copy, ['comprehension__number_of_generators'], 10))\n",
    "print(get_statistics(full_table, ['comprehension__category'], 10))\n",
    "print(get_statistics(X_copy, ['comprehension__is_async'], 10))\n",
    "\n",
    "\n",
    "# 2 FEATURES\n",
    "print(\"--- TWO FEATURES ---\")\n",
    "#print(get_statistics(X_copy, ['module__function_defs_pct', 'module__number_of_classes'], 10))\n",
    "\n",
    "# 3 FEATURES\n",
    "print(\"--- THREE FEATURES ---\")\n",
    "#print(get_statistics(X_copy, ['module__class_defs_pct', 'module__function_defs_pct', 'module__enum_defs_pct'], 10))"
   ],
   "id": "6baf20dd3e3ca759",
   "outputs": [
    {
     "name": "stdout",
     "output_type": "stream",
     "text": [
      "--- SINGLE FEATURE ---\n",
      "comprehension__number_of_ifs  count  percentage\n",
      "                   [0.0_0.0]  15499   84.884167\n",
      "                   [0.0_inf]   2760   15.115833\n",
      "\n",
      "comprehension__number_of_generators  count  percentage\n",
      "                          [1.0_1.0]  17936   98.231009\n",
      "                          [1.0_inf]    323    1.768991\n",
      "\n",
      "comprehension__category  count  percentage\n",
      "      ListComprehension  11602   63.541267\n",
      " GeneratorComprehension   4777   26.162440\n",
      "      DictComprehension   1459    7.990580\n",
      "       SetComprehension    421    2.305712\n",
      "\n",
      " comprehension__is_async  count  percentage\n",
      "                   False  18247   99.934279\n",
      "                    True     12    0.065721\n",
      "\n",
      "--- TWO FEATURES ---\n",
      "--- THREE FEATURES ---\n"
     ]
    }
   ],
   "execution_count": 7
  },
  {
   "metadata": {
    "ExecuteTime": {
     "end_time": "2024-07-04T17:21:05.248994Z",
     "start_time": "2024-07-04T17:21:05.233745Z"
    }
   },
   "cell_type": "code",
   "source": [
    "def normalize_datatypes(X:pd.DataFrame, y:pd.Series) -> (pd.DataFrame, pd.Series, [str]):\n",
    "    X = pd.get_dummies(X)\n",
    "    X = X.astype('float32')\n",
    "    y = y.apply(lambda value: 0 if value == \"BEGINNER\" else 1) # EXPERT will be 1 and BEGINNER will be 0.\n",
    "    y = y.astype('float32')\n",
    "    columns_names = X.columns.tolist()\n",
    "    return X, y, columns_names\n",
    "\n",
    "X, y, TABLE_FEATURES = normalize_datatypes(X, y)\n",
    "# Print information about the loaded table\n",
    "print(f'Features shape: {X.shape}')\n",
    "print(f'Target shape: {y.shape}')"
   ],
   "id": "5084c89dcb377a92",
   "outputs": [
    {
     "name": "stdout",
     "output_type": "stream",
     "text": [
      "Features shape: (18259, 9)\n",
      "Target shape: (18259,)\n"
     ]
    }
   ],
   "execution_count": 8
  },
  {
   "metadata": {},
   "cell_type": "markdown",
   "source": "#### Muestra la matriz de correlación de Spearman entre las variables de la tabla.",
   "id": "ed8befe21328a079"
  },
  {
   "metadata": {
    "ExecuteTime": {
     "end_time": "2024-07-04T17:21:05.712630Z",
     "start_time": "2024-07-04T17:21:05.248994Z"
    }
   },
   "cell_type": "code",
   "source": "sns.heatmap(X.corr(method='spearman'), annot=True)",
   "id": "dea960d18d682104",
   "outputs": [
    {
     "data": {
      "text/plain": [
       "<Axes: >"
      ]
     },
     "execution_count": 9,
     "metadata": {},
     "output_type": "execute_result"
    },
    {
     "data": {
      "text/plain": [
       "<Figure size 640x480 with 2 Axes>"
      ],
      "image/png": "[encoded data removed]"
     },
     "metadata": {},
     "output_type": "display_data"
    }
   ],
   "execution_count": 9
  },
  {
   "metadata": {},
   "cell_type": "markdown",
   "source": [
    "## 3 - Detección de valores atípicos (outliers)\n",
    "## Univariate\n",
    "## Analisis detallado de variables\n",
    "Para cada una de las 4 variable (1 booleanas, 2 numericas y 1 categóricas) se hara un analisis detallado"
   ],
   "id": "599c97eec7b7d283"
  },
  {
   "metadata": {},
   "cell_type": "markdown",
   "source": [
    "### Variable is_async (1/4)\n",
    "Esta variable es de tipo booleano y representa si la comprehension es asincrona. El primer paso es hacer un análisis visual de como se distribuyen los valores de la variable."
   ],
   "id": "6abba739e46da213"
  },
  {
   "metadata": {
    "ExecuteTime": {
     "end_time": "2024-07-04T17:21:05.836629Z",
     "start_time": "2024-07-04T17:21:05.713634Z"
    }
   },
   "cell_type": "code",
   "source": [
    "plt.xticks([0, 1], ['False', 'True'])\n",
    "sns.histplot(X['comprehension__is_async'], discrete=True)"
   ],
   "id": "4ab35b2ef94a3379",
   "outputs": [
    {
     "data": {
      "text/plain": [
       "<Axes: xlabel='comprehension__is_async', ylabel='Count'>"
      ]
     },
     "execution_count": 10,
     "metadata": {},
     "output_type": "execute_result"
    },
    {
     "data": {
      "text/plain": [
       "<Figure size 640x480 with 1 Axes>"
      ],
      "image/png": "[encoded data removed]"
     },
     "metadata": {},
     "output_type": "display_data"
    }
   ],
   "execution_count": 10
  },
  {
   "metadata": {
    "ExecuteTime": {
     "end_time": "2024-07-04T17:21:05.844624Z",
     "start_time": "2024-07-04T17:21:05.837634Z"
    }
   },
   "cell_type": "code",
   "source": [
    "num_true_values = len(X[X['comprehension__is_async'] == True])\n",
    "num_false_values = len(X[X['comprehension__is_async'] == False])\n",
    "std = X['comprehension__is_async'].std()\n",
    "freq_true = len(X[X['comprehension__is_async'] == True]) / len(X['comprehension__is_async'])\n",
    "freq_false = len(X[X['comprehension__is_async'] == False]) / len(X['comprehension__is_async'])\n",
    "print(f'La variable is_async contiene {num_true_values} valores verdaderos y {num_false_values} valores falsos. Y, la desviación típica es de {std}')\n",
    "print(f'La frecuencia con la que programa puede tener la variable is_async a True es {freq_true}.')\n",
    "print(f'La frecuencia con la que programa puede tener la variable is_async a False es {freq_false}.')"
   ],
   "id": "f4a042829ae6fac5",
   "outputs": [
    {
     "name": "stdout",
     "output_type": "stream",
     "text": [
      "La variable is_async contiene 12 valores verdaderos y 18247 valores falsos. Y, la desviación típica es de 0.025628386065363884\n",
      "La frecuencia con la que programa puede tener la variable is_async a True es 0.0006572101429432061.\n",
      "La frecuencia con la que programa puede tener la variable is_async a False es 0.9993427898570568.\n"
     ]
    }
   ],
   "execution_count": 11
  },
  {
   "metadata": {
    "ExecuteTime": {
     "end_time": "2024-07-04T17:21:05.851481Z",
     "start_time": "2024-07-04T17:21:05.845631Z"
    }
   },
   "cell_type": "code",
   "source": [
    "possible_values = [True, False]\n",
    "print_frequency_anal_for_cat_var(X, 'comprehension__is_async', possible_values)"
   ],
   "id": "c614dd60d0ab8e5b",
   "outputs": [
    {
     "name": "stdout",
     "output_type": "stream",
     "text": [
      "La variable comprehension__is_async contiene 2 valores distintos.\n",
      "El umbral de outlier es de 0.1%\n",
      "La variable comprehension__is_async toma el valor de 0.0 en un 99.93% de los items.\n",
      "La variable comprehension__is_async toma el valor de 1.0 en un 0.06572% de los items. [OUTLIER]\n"
     ]
    }
   ],
   "execution_count": 12
  },
  {
   "metadata": {
    "ExecuteTime": {
     "end_time": "2024-07-04T17:21:05.876568Z",
     "start_time": "2024-07-04T17:21:05.852487Z"
    }
   },
   "cell_type": "code",
   "source": "X[X['comprehension__is_async'] == True].describe(percentiles=[.25, .50, .75], include = ['object', 'float', 'bool', 'int'])",
   "id": "6c33bdd1420008cf",
   "outputs": [
    {
     "data": {
      "text/plain": [
       "       comprehension__number_of_ifs  comprehension__number_of_generators  \\\n",
       "count                          12.0                                 12.0   \n",
       "mean                            0.0                                  1.0   \n",
       "std                             0.0                                  0.0   \n",
       "min                             0.0                                  1.0   \n",
       "25%                             0.0                                  1.0   \n",
       "50%                             0.0                                  1.0   \n",
       "75%                             0.0                                  1.0   \n",
       "max                             0.0                                  1.0   \n",
       "\n",
       "       comprehension__is_async  comprehension__category_DictComprehension  \\\n",
       "count                     12.0                                       12.0   \n",
       "mean                       1.0                                        0.0   \n",
       "std                        0.0                                        0.0   \n",
       "min                        1.0                                        0.0   \n",
       "25%                        1.0                                        0.0   \n",
       "50%                        1.0                                        0.0   \n",
       "75%                        1.0                                        0.0   \n",
       "max                        1.0                                        0.0   \n",
       "\n",
       "       comprehension__category_GeneratorComprehension  \\\n",
       "count                                            12.0   \n",
       "mean                                              0.0   \n",
       "std                                               0.0   \n",
       "min                                               0.0   \n",
       "25%                                               0.0   \n",
       "50%                                               0.0   \n",
       "75%                                               0.0   \n",
       "max                                               0.0   \n",
       "\n",
       "       comprehension__category_ListComprehension  \\\n",
       "count                                       12.0   \n",
       "mean                                         1.0   \n",
       "std                                          0.0   \n",
       "min                                          1.0   \n",
       "25%                                          1.0   \n",
       "50%                                          1.0   \n",
       "75%                                          1.0   \n",
       "max                                          1.0   \n",
       "\n",
       "       comprehension__category_SetComprehension  \\\n",
       "count                                      12.0   \n",
       "mean                                        0.0   \n",
       "std                                         0.0   \n",
       "min                                         0.0   \n",
       "25%                                         0.0   \n",
       "50%                                         0.0   \n",
       "75%                                         0.0   \n",
       "max                                         0.0   \n",
       "\n",
       "       comprehension__expertise_level_BEGINNER  \\\n",
       "count                                     12.0   \n",
       "mean                                       0.0   \n",
       "std                                        0.0   \n",
       "min                                        0.0   \n",
       "25%                                        0.0   \n",
       "50%                                        0.0   \n",
       "75%                                        0.0   \n",
       "max                                        0.0   \n",
       "\n",
       "       comprehension__expertise_level_EXPERT  \n",
       "count                                   12.0  \n",
       "mean                                     1.0  \n",
       "std                                      0.0  \n",
       "min                                      1.0  \n",
       "25%                                      1.0  \n",
       "50%                                      1.0  \n",
       "75%                                      1.0  \n",
       "max                                      1.0  "
      ],
      "text/html": [
       "<div>\n",
       "<style scoped>\n",
       "    .dataframe tbody tr th:only-of-type {\n",
       "        vertical-align: middle;\n",
       "    }\n",
       "\n",
       "    .dataframe tbody tr th {\n",
       "        vertical-align: top;\n",
       "    }\n",
       "\n",
       "    .dataframe thead th {\n",
       "        text-align: right;\n",
       "    }\n",
       "</style>\n",
       "<table border=\"1\" class=\"dataframe\">\n",
       "  <thead>\n",
       "    <tr style=\"text-align: right;\">\n",
       "      <th></th>\n",
       "      <th>comprehension__number_of_ifs</th>\n",
       "      <th>comprehension__number_of_generators</th>\n",
       "      <th>comprehension__is_async</th>\n",
       "      <th>comprehension__category_DictComprehension</th>\n",
       "      <th>comprehension__category_GeneratorComprehension</th>\n",
       "      <th>comprehension__category_ListComprehension</th>\n",
       "      <th>comprehension__category_SetComprehension</th>\n",
       "      <th>comprehension__expertise_level_BEGINNER</th>\n",
       "      <th>comprehension__expertise_level_EXPERT</th>\n",
       "    </tr>\n",
       "  </thead>\n",
       "  <tbody>\n",
       "    <tr>\n",
       "      <th>count</th>\n",
       "      <td>12.0</td>\n",
       "      <td>12.0</td>\n",
       "      <td>12.0</td>\n",
       "      <td>12.0</td>\n",
       "      <td>12.0</td>\n",
       "      <td>12.0</td>\n",
       "      <td>12.0</td>\n",
       "      <td>12.0</td>\n",
       "      <td>12.0</td>\n",
       "    </tr>\n",
       "    <tr>\n",
       "      <th>mean</th>\n",
       "      <td>0.0</td>\n",
       "      <td>1.0</td>\n",
       "      <td>1.0</td>\n",
       "      <td>0.0</td>\n",
       "      <td>0.0</td>\n",
       "      <td>1.0</td>\n",
       "      <td>0.0</td>\n",
       "      <td>0.0</td>\n",
       "      <td>1.0</td>\n",
       "    </tr>\n",
       "    <tr>\n",
       "      <th>std</th>\n",
       "      <td>0.0</td>\n",
       "      <td>0.0</td>\n",
       "      <td>0.0</td>\n",
       "      <td>0.0</td>\n",
       "      <td>0.0</td>\n",
       "      <td>0.0</td>\n",
       "      <td>0.0</td>\n",
       "      <td>0.0</td>\n",
       "      <td>0.0</td>\n",
       "    </tr>\n",
       "    <tr>\n",
       "      <th>min</th>\n",
       "      <td>0.0</td>\n",
       "      <td>1.0</td>\n",
       "      <td>1.0</td>\n",
       "      <td>0.0</td>\n",
       "      <td>0.0</td>\n",
       "      <td>1.0</td>\n",
       "      <td>0.0</td>\n",
       "      <td>0.0</td>\n",
       "      <td>1.0</td>\n",
       "    </tr>\n",
       "    <tr>\n",
       "      <th>25%</th>\n",
       "      <td>0.0</td>\n",
       "      <td>1.0</td>\n",
       "      <td>1.0</td>\n",
       "      <td>0.0</td>\n",
       "      <td>0.0</td>\n",
       "      <td>1.0</td>\n",
       "      <td>0.0</td>\n",
       "      <td>0.0</td>\n",
       "      <td>1.0</td>\n",
       "    </tr>\n",
       "    <tr>\n",
       "      <th>50%</th>\n",
       "      <td>0.0</td>\n",
       "      <td>1.0</td>\n",
       "      <td>1.0</td>\n",
       "      <td>0.0</td>\n",
       "      <td>0.0</td>\n",
       "      <td>1.0</td>\n",
       "      <td>0.0</td>\n",
       "      <td>0.0</td>\n",
       "      <td>1.0</td>\n",
       "    </tr>\n",
       "    <tr>\n",
       "      <th>75%</th>\n",
       "      <td>0.0</td>\n",
       "      <td>1.0</td>\n",
       "      <td>1.0</td>\n",
       "      <td>0.0</td>\n",
       "      <td>0.0</td>\n",
       "      <td>1.0</td>\n",
       "      <td>0.0</td>\n",
       "      <td>0.0</td>\n",
       "      <td>1.0</td>\n",
       "    </tr>\n",
       "    <tr>\n",
       "      <th>max</th>\n",
       "      <td>0.0</td>\n",
       "      <td>1.0</td>\n",
       "      <td>1.0</td>\n",
       "      <td>0.0</td>\n",
       "      <td>0.0</td>\n",
       "      <td>1.0</td>\n",
       "      <td>0.0</td>\n",
       "      <td>0.0</td>\n",
       "      <td>1.0</td>\n",
       "    </tr>\n",
       "  </tbody>\n",
       "</table>\n",
       "</div>"
      ]
     },
     "execution_count": 13,
     "metadata": {},
     "output_type": "execute_result"
    }
   ],
   "execution_count": 13
  },
  {
   "metadata": {},
   "cell_type": "markdown",
   "source": [
    "### IMPORTANTE\n",
    "El valor true en este caso es outlier.\n",
    "\n",
    "De los pocos comprehension que son asincronas, el 100% es de expertos"
   ],
   "id": "e88ac174e3245422"
  },
  {
   "metadata": {},
   "cell_type": "markdown",
   "source": [
    "### Variable number_of_ifs (2/4)\n",
    "Esta variable representa el número de clausulas if en la comprehension. Como vimos en la descripción de la tabla esta varibale adopta valores en el rango 0 - 2. Con una media de 0.155."
   ],
   "id": "119fc307a9194a96"
  },
  {
   "metadata": {
    "ExecuteTime": {
     "end_time": "2024-07-04T17:21:06.074784Z",
     "start_time": "2024-07-04T17:21:05.878573Z"
    }
   },
   "cell_type": "code",
   "source": "sns.stripplot(X['comprehension__number_of_ifs'])",
   "id": "5efd7fbb4f34563d",
   "outputs": [
    {
     "data": {
      "text/plain": [
       "<Axes: ylabel='comprehension__number_of_ifs'>"
      ]
     },
     "execution_count": 14,
     "metadata": {},
     "output_type": "execute_result"
    },
    {
     "data": {
      "text/plain": [
       "<Figure size 640x480 with 1 Axes>"
      ],
      "image/png": "[encoded data removed]"
     },
     "metadata": {},
     "output_type": "display_data"
    }
   ],
   "execution_count": 14
  },
  {
   "metadata": {
    "ExecuteTime": {
     "end_time": "2024-07-04T17:21:06.315297Z",
     "start_time": "2024-07-04T17:21:06.075805Z"
    }
   },
   "cell_type": "code",
   "source": "print_histogram(X, 'comprehension__number_of_ifs', 'comprehension__expertise_level', bins=30, include_all=False)",
   "id": "45c623b892bd7a15",
   "outputs": [
    {
     "data": {
      "text/plain": [
       "<Figure size 1200x600 with 1 Axes>"
      ],
      "image/png": "[encoded data removed]"
     },
     "metadata": {},
     "output_type": "display_data"
    }
   ],
   "execution_count": 15
  },
  {
   "metadata": {
    "ExecuteTime": {
     "end_time": "2024-07-04T17:21:06.323069Z",
     "start_time": "2024-07-04T17:21:06.315297Z"
    }
   },
   "cell_type": "code",
   "source": "print_outliers_for_df_column(X, 'comprehension__number_of_ifs')",
   "id": "e5649a2923239004",
   "outputs": [
    {
     "name": "stdout",
     "output_type": "stream",
     "text": [
      "El coeficiente MC (Medcouple Coefficient) de balanceo es: 0.7514372000524898\n",
      "Rango valores atípicos extremos (Tukey): [0.0,0.0]\n",
      "Rango valores atípicos leves (Tukey): [0.0,0.0]\n",
      "Rango valores atípicos extremos (Fixed BoxPlot): [0.0,0.0]\n",
      "-3.0IQR: 0 instancias tienen un valor para comprehension__number_of_ifs inferior a 0.0 (Q1-3*IQR) para comprehension__number_of_ifs. Representando un 0.0% del total de instancias.\n",
      "-1.5IQR: 0 instancias tienen un valor para comprehension__number_of_ifs inferior a 0.0 (Q1-1.5*IQR) para comprehension__number_of_ifs. Representando un 0.0% del total de instancias.\n",
      "+1.5IQR: 2760 instancias tienen un valor para comprehension__number_of_ifs superior a 0.0 (Q3+1.5*IQR) para comprehension__number_of_ifs. Representando un 15.12% del total de instancias.\n",
      "+3.0IQR: 2760 instancias tienen un valor para comprehension__number_of_ifs superior a 0.0 (Q3-3*IQR) para comprehension__number_of_ifs. Representando un 15.12% del total de instancias.\n",
      "L: 0 instancias tienen un valor para comprehension__number_of_ifs inferior a 0.0 para comprehension__number_of_ifs. Representando un 0.0% del total de instancias.\n",
      "U: 2760 instancias tienen un valor para comprehension__number_of_ifs superior a 0.0 para comprehension__number_of_ifs. Representando un 15.12% del total de instancias.\n"
     ]
    }
   ],
   "execution_count": 16
  },
  {
   "metadata": {},
   "cell_type": "markdown",
   "source": "Describimos los valores de las variables de la tabla, cuando el valor de la variable es mayor que 0 (Todos los umbrales son 0)",
   "id": "8c13e47a899d7214"
  },
  {
   "metadata": {
    "ExecuteTime": {
     "end_time": "2024-07-04T17:21:06.451855Z",
     "start_time": "2024-07-04T17:21:06.323069Z"
    }
   },
   "cell_type": "code",
   "source": "X[X['comprehension__number_of_ifs'] > 0].describe(percentiles=[.25, .50, .75], include = ['object', 'float', 'bool', 'int'])",
   "id": "5c5e0e6eb4cd173",
   "outputs": [
    {
     "data": {
      "text/plain": [
       "       comprehension__number_of_ifs  comprehension__number_of_generators  \\\n",
       "count                   2760.000000                          2760.000000   \n",
       "mean                       1.002536                             1.021014   \n",
       "std                        0.050306                             0.143459   \n",
       "min                        1.000000                             1.000000   \n",
       "25%                        1.000000                             1.000000   \n",
       "50%                        1.000000                             1.000000   \n",
       "75%                        1.000000                             1.000000   \n",
       "max                        2.000000                             2.000000   \n",
       "\n",
       "       comprehension__is_async  comprehension__category_DictComprehension  \\\n",
       "count                   2760.0                                2760.000000   \n",
       "mean                       0.0                                   0.090217   \n",
       "std                        0.0                                   0.286545   \n",
       "min                        0.0                                   0.000000   \n",
       "25%                        0.0                                   0.000000   \n",
       "50%                        0.0                                   0.000000   \n",
       "75%                        0.0                                   0.000000   \n",
       "max                        0.0                                   1.000000   \n",
       "\n",
       "       comprehension__category_GeneratorComprehension  \\\n",
       "count                                     2760.000000   \n",
       "mean                                         0.252536   \n",
       "std                                          0.434546   \n",
       "min                                          0.000000   \n",
       "25%                                          0.000000   \n",
       "50%                                          0.000000   \n",
       "75%                                          1.000000   \n",
       "max                                          1.000000   \n",
       "\n",
       "       comprehension__category_ListComprehension  \\\n",
       "count                                2760.000000   \n",
       "mean                                    0.621014   \n",
       "std                                     0.485222   \n",
       "min                                     0.000000   \n",
       "25%                                     0.000000   \n",
       "50%                                     1.000000   \n",
       "75%                                     1.000000   \n",
       "max                                     1.000000   \n",
       "\n",
       "       comprehension__category_SetComprehension  \\\n",
       "count                               2760.000000   \n",
       "mean                                   0.036232   \n",
       "std                                    0.186900   \n",
       "min                                    0.000000   \n",
       "25%                                    0.000000   \n",
       "50%                                    0.000000   \n",
       "75%                                    0.000000   \n",
       "max                                    1.000000   \n",
       "\n",
       "       comprehension__expertise_level_BEGINNER  \\\n",
       "count                              2760.000000   \n",
       "mean                                  0.452536   \n",
       "std                                   0.497832   \n",
       "min                                   0.000000   \n",
       "25%                                   0.000000   \n",
       "50%                                   0.000000   \n",
       "75%                                   1.000000   \n",
       "max                                   1.000000   \n",
       "\n",
       "       comprehension__expertise_level_EXPERT  \n",
       "count                            2760.000000  \n",
       "mean                                0.547464  \n",
       "std                                 0.497832  \n",
       "min                                 0.000000  \n",
       "25%                                 0.000000  \n",
       "50%                                 1.000000  \n",
       "75%                                 1.000000  \n",
       "max                                 1.000000  "
      ],
      "text/html": [
       "<div>\n",
       "<style scoped>\n",
       "    .dataframe tbody tr th:only-of-type {\n",
       "        vertical-align: middle;\n",
       "    }\n",
       "\n",
       "    .dataframe tbody tr th {\n",
       "        vertical-align: top;\n",
       "    }\n",
       "\n",
       "    .dataframe thead th {\n",
       "        text-align: right;\n",
       "    }\n",
       "</style>\n",
       "<table border=\"1\" class=\"dataframe\">\n",
       "  <thead>\n",
       "    <tr style=\"text-align: right;\">\n",
       "      <th></th>\n",
       "      <th>comprehension__number_of_ifs</th>\n",
       "      <th>comprehension__number_of_generators</th>\n",
       "      <th>comprehension__is_async</th>\n",
       "      <th>comprehension__category_DictComprehension</th>\n",
       "      <th>comprehension__category_GeneratorComprehension</th>\n",
       "      <th>comprehension__category_ListComprehension</th>\n",
       "      <th>comprehension__category_SetComprehension</th>\n",
       "      <th>comprehension__expertise_level_BEGINNER</th>\n",
       "      <th>comprehension__expertise_level_EXPERT</th>\n",
       "    </tr>\n",
       "  </thead>\n",
       "  <tbody>\n",
       "    <tr>\n",
       "      <th>count</th>\n",
       "      <td>2760.000000</td>\n",
       "      <td>2760.000000</td>\n",
       "      <td>2760.0</td>\n",
       "      <td>2760.000000</td>\n",
       "      <td>2760.000000</td>\n",
       "      <td>2760.000000</td>\n",
       "      <td>2760.000000</td>\n",
       "      <td>2760.000000</td>\n",
       "      <td>2760.000000</td>\n",
       "    </tr>\n",
       "    <tr>\n",
       "      <th>mean</th>\n",
       "      <td>1.002536</td>\n",
       "      <td>1.021014</td>\n",
       "      <td>0.0</td>\n",
       "      <td>0.090217</td>\n",
       "      <td>0.252536</td>\n",
       "      <td>0.621014</td>\n",
       "      <td>0.036232</td>\n",
       "      <td>0.452536</td>\n",
       "      <td>0.547464</td>\n",
       "    </tr>\n",
       "    <tr>\n",
       "      <th>std</th>\n",
       "      <td>0.050306</td>\n",
       "      <td>0.143459</td>\n",
       "      <td>0.0</td>\n",
       "      <td>0.286545</td>\n",
       "      <td>0.434546</td>\n",
       "      <td>0.485222</td>\n",
       "      <td>0.186900</td>\n",
       "      <td>0.497832</td>\n",
       "      <td>0.497832</td>\n",
       "    </tr>\n",
       "    <tr>\n",
       "      <th>min</th>\n",
       "      <td>1.000000</td>\n",
       "      <td>1.000000</td>\n",
       "      <td>0.0</td>\n",
       "      <td>0.000000</td>\n",
       "      <td>0.000000</td>\n",
       "      <td>0.000000</td>\n",
       "      <td>0.000000</td>\n",
       "      <td>0.000000</td>\n",
       "      <td>0.000000</td>\n",
       "    </tr>\n",
       "    <tr>\n",
       "      <th>25%</th>\n",
       "      <td>1.000000</td>\n",
       "      <td>1.000000</td>\n",
       "      <td>0.0</td>\n",
       "      <td>0.000000</td>\n",
       "      <td>0.000000</td>\n",
       "      <td>0.000000</td>\n",
       "      <td>0.000000</td>\n",
       "      <td>0.000000</td>\n",
       "      <td>0.000000</td>\n",
       "    </tr>\n",
       "    <tr>\n",
       "      <th>50%</th>\n",
       "      <td>1.000000</td>\n",
       "      <td>1.000000</td>\n",
       "      <td>0.0</td>\n",
       "      <td>0.000000</td>\n",
       "      <td>0.000000</td>\n",
       "      <td>1.000000</td>\n",
       "      <td>0.000000</td>\n",
       "      <td>0.000000</td>\n",
       "      <td>1.000000</td>\n",
       "    </tr>\n",
       "    <tr>\n",
       "      <th>75%</th>\n",
       "      <td>1.000000</td>\n",
       "      <td>1.000000</td>\n",
       "      <td>0.0</td>\n",
       "      <td>0.000000</td>\n",
       "      <td>1.000000</td>\n",
       "      <td>1.000000</td>\n",
       "      <td>0.000000</td>\n",
       "      <td>1.000000</td>\n",
       "      <td>1.000000</td>\n",
       "    </tr>\n",
       "    <tr>\n",
       "      <th>max</th>\n",
       "      <td>2.000000</td>\n",
       "      <td>2.000000</td>\n",
       "      <td>0.0</td>\n",
       "      <td>1.000000</td>\n",
       "      <td>1.000000</td>\n",
       "      <td>1.000000</td>\n",
       "      <td>1.000000</td>\n",
       "      <td>1.000000</td>\n",
       "      <td>1.000000</td>\n",
       "    </tr>\n",
       "  </tbody>\n",
       "</table>\n",
       "</div>"
      ]
     },
     "execution_count": 17,
     "metadata": {},
     "output_type": "execute_result"
    }
   ],
   "execution_count": 17
  },
  {
   "metadata": {},
   "cell_type": "markdown",
   "source": [
    "### Variable number_of_generators (3/4)\n",
    "Esta variable representa el número generators presentes en la comprehension. Como vimos en la descripción de la tabla esta varibale adopta valores en el rango 1 - 4. Con una media de 1.019."
   ],
   "id": "a92021ee6047bd1d"
  },
  {
   "metadata": {
    "ExecuteTime": {
     "end_time": "2024-07-04T17:21:06.630288Z",
     "start_time": "2024-07-04T17:21:06.452866Z"
    }
   },
   "cell_type": "code",
   "source": "sns.stripplot(X['comprehension__number_of_generators'])",
   "id": "1b8338fdb1c032b5",
   "outputs": [
    {
     "data": {
      "text/plain": [
       "<Axes: ylabel='comprehension__number_of_generators'>"
      ]
     },
     "execution_count": 18,
     "metadata": {},
     "output_type": "execute_result"
    },
    {
     "data": {
      "text/plain": [
       "<Figure size 640x480 with 1 Axes>"
      ],
      "image/png": "[encoded data removed]"
     },
     "metadata": {},
     "output_type": "display_data"
    }
   ],
   "execution_count": 18
  },
  {
   "metadata": {
    "ExecuteTime": {
     "end_time": "2024-07-04T17:21:06.919615Z",
     "start_time": "2024-07-04T17:21:06.631298Z"
    }
   },
   "cell_type": "code",
   "source": "print_histogram(X, 'comprehension__number_of_generators', 'comprehension__expertise_level', bins=30, include_all=False)",
   "id": "5602562446e19901",
   "outputs": [
    {
     "data": {
      "text/plain": [
       "<Figure size 1200x600 with 1 Axes>"
      ],
      "image/png": "[encoded data removed]"
     },
     "metadata": {},
     "output_type": "display_data"
    }
   ],
   "execution_count": 19
  },
  {
   "metadata": {
    "ExecuteTime": {
     "end_time": "2024-07-04T17:21:06.929167Z",
     "start_time": "2024-07-04T17:21:06.920623Z"
    }
   },
   "cell_type": "code",
   "source": "print_outliers_for_df_column(X, 'comprehension__number_of_generators')",
   "id": "3444c461d823515d",
   "outputs": [
    {
     "name": "stdout",
     "output_type": "stream",
     "text": [
      "El coeficiente MC (Medcouple Coefficient) de balanceo es: 1.0\n",
      "Rango valores atípicos extremos (Tukey): [1.0,1.0]\n",
      "Rango valores atípicos leves (Tukey): [1.0,1.0]\n",
      "Rango valores atípicos extremos (Fixed BoxPlot): [1.0,1.0]\n",
      "-3.0IQR: 0 instancias tienen un valor para comprehension__number_of_generators inferior a 1.0 (Q1-3*IQR) para comprehension__number_of_generators. Representando un 0.0% del total de instancias.\n",
      "-1.5IQR: 0 instancias tienen un valor para comprehension__number_of_generators inferior a 1.0 (Q1-1.5*IQR) para comprehension__number_of_generators. Representando un 0.0% del total de instancias.\n",
      "+1.5IQR: 323 instancias tienen un valor para comprehension__number_of_generators superior a 1.0 (Q3+1.5*IQR) para comprehension__number_of_generators. Representando un 1.769% del total de instancias.\n",
      "+3.0IQR: 323 instancias tienen un valor para comprehension__number_of_generators superior a 1.0 (Q3-3*IQR) para comprehension__number_of_generators. Representando un 1.769% del total de instancias.\n",
      "L: 0 instancias tienen un valor para comprehension__number_of_generators inferior a 1.0 para comprehension__number_of_generators. Representando un 0.0% del total de instancias.\n",
      "U: 323 instancias tienen un valor para comprehension__number_of_generators superior a 1.0 para comprehension__number_of_generators. Representando un 1.769% del total de instancias.\n"
     ]
    }
   ],
   "execution_count": 20
  },
  {
   "metadata": {},
   "cell_type": "markdown",
   "source": "Describimos los valores de las variables de la tabla, cuando el valor de la variable es mayor que 1 (Todos los umbrales son 1)",
   "id": "8e4de9635121c6e7"
  },
  {
   "metadata": {
    "ExecuteTime": {
     "end_time": "2024-07-04T17:21:06.957904Z",
     "start_time": "2024-07-04T17:21:06.930175Z"
    }
   },
   "cell_type": "code",
   "source": "X[X['comprehension__number_of_generators'] > 1].describe(percentiles=[.25, .50, .75], include = ['object', 'float', 'bool', 'int'])",
   "id": "44b1c024f9d465e9",
   "outputs": [
    {
     "data": {
      "text/plain": [
       "       comprehension__number_of_ifs  comprehension__number_of_generators  \\\n",
       "count                    323.000000                           323.000000   \n",
       "mean                       0.198142                             2.065016   \n",
       "std                        0.443444                             0.282154   \n",
       "min                        0.000000                             2.000000   \n",
       "25%                        0.000000                             2.000000   \n",
       "50%                        0.000000                             2.000000   \n",
       "75%                        0.000000                             2.000000   \n",
       "max                        2.000000                             4.000000   \n",
       "\n",
       "       comprehension__is_async  comprehension__category_DictComprehension  \\\n",
       "count                    323.0                                 323.000000   \n",
       "mean                       0.0                                   0.009288   \n",
       "std                        0.0                                   0.096074   \n",
       "min                        0.0                                   0.000000   \n",
       "25%                        0.0                                   0.000000   \n",
       "50%                        0.0                                   0.000000   \n",
       "75%                        0.0                                   0.000000   \n",
       "max                        0.0                                   1.000000   \n",
       "\n",
       "       comprehension__category_GeneratorComprehension  \\\n",
       "count                                      323.000000   \n",
       "mean                                         0.390093   \n",
       "std                                          0.488528   \n",
       "min                                          0.000000   \n",
       "25%                                          0.000000   \n",
       "50%                                          0.000000   \n",
       "75%                                          1.000000   \n",
       "max                                          1.000000   \n",
       "\n",
       "       comprehension__category_ListComprehension  \\\n",
       "count                                 323.000000   \n",
       "mean                                    0.544892   \n",
       "std                                     0.498753   \n",
       "min                                     0.000000   \n",
       "25%                                     0.000000   \n",
       "50%                                     1.000000   \n",
       "75%                                     1.000000   \n",
       "max                                     1.000000   \n",
       "\n",
       "       comprehension__category_SetComprehension  \\\n",
       "count                                323.000000   \n",
       "mean                                   0.055728   \n",
       "std                                    0.229751   \n",
       "min                                    0.000000   \n",
       "25%                                    0.000000   \n",
       "50%                                    0.000000   \n",
       "75%                                    0.000000   \n",
       "max                                    1.000000   \n",
       "\n",
       "       comprehension__expertise_level_BEGINNER  \\\n",
       "count                               323.000000   \n",
       "mean                                  0.489164   \n",
       "std                                   0.500658   \n",
       "min                                   0.000000   \n",
       "25%                                   0.000000   \n",
       "50%                                   0.000000   \n",
       "75%                                   1.000000   \n",
       "max                                   1.000000   \n",
       "\n",
       "       comprehension__expertise_level_EXPERT  \n",
       "count                             323.000000  \n",
       "mean                                0.510836  \n",
       "std                                 0.500658  \n",
       "min                                 0.000000  \n",
       "25%                                 0.000000  \n",
       "50%                                 1.000000  \n",
       "75%                                 1.000000  \n",
       "max                                 1.000000  "
      ],
      "text/html": [
       "<div>\n",
       "<style scoped>\n",
       "    .dataframe tbody tr th:only-of-type {\n",
       "        vertical-align: middle;\n",
       "    }\n",
       "\n",
       "    .dataframe tbody tr th {\n",
       "        vertical-align: top;\n",
       "    }\n",
       "\n",
       "    .dataframe thead th {\n",
       "        text-align: right;\n",
       "    }\n",
       "</style>\n",
       "<table border=\"1\" class=\"dataframe\">\n",
       "  <thead>\n",
       "    <tr style=\"text-align: right;\">\n",
       "      <th></th>\n",
       "      <th>comprehension__number_of_ifs</th>\n",
       "      <th>comprehension__number_of_generators</th>\n",
       "      <th>comprehension__is_async</th>\n",
       "      <th>comprehension__category_DictComprehension</th>\n",
       "      <th>comprehension__category_GeneratorComprehension</th>\n",
       "      <th>comprehension__category_ListComprehension</th>\n",
       "      <th>comprehension__category_SetComprehension</th>\n",
       "      <th>comprehension__expertise_level_BEGINNER</th>\n",
       "      <th>comprehension__expertise_level_EXPERT</th>\n",
       "    </tr>\n",
       "  </thead>\n",
       "  <tbody>\n",
       "    <tr>\n",
       "      <th>count</th>\n",
       "      <td>323.000000</td>\n",
       "      <td>323.000000</td>\n",
       "      <td>323.0</td>\n",
       "      <td>323.000000</td>\n",
       "      <td>323.000000</td>\n",
       "      <td>323.000000</td>\n",
       "      <td>323.000000</td>\n",
       "      <td>323.000000</td>\n",
       "      <td>323.000000</td>\n",
       "    </tr>\n",
       "    <tr>\n",
       "      <th>mean</th>\n",
       "      <td>0.198142</td>\n",
       "      <td>2.065016</td>\n",
       "      <td>0.0</td>\n",
       "      <td>0.009288</td>\n",
       "      <td>0.390093</td>\n",
       "      <td>0.544892</td>\n",
       "      <td>0.055728</td>\n",
       "      <td>0.489164</td>\n",
       "      <td>0.510836</td>\n",
       "    </tr>\n",
       "    <tr>\n",
       "      <th>std</th>\n",
       "      <td>0.443444</td>\n",
       "      <td>0.282154</td>\n",
       "      <td>0.0</td>\n",
       "      <td>0.096074</td>\n",
       "      <td>0.488528</td>\n",
       "      <td>0.498753</td>\n",
       "      <td>0.229751</td>\n",
       "      <td>0.500658</td>\n",
       "      <td>0.500658</td>\n",
       "    </tr>\n",
       "    <tr>\n",
       "      <th>min</th>\n",
       "      <td>0.000000</td>\n",
       "      <td>2.000000</td>\n",
       "      <td>0.0</td>\n",
       "      <td>0.000000</td>\n",
       "      <td>0.000000</td>\n",
       "      <td>0.000000</td>\n",
       "      <td>0.000000</td>\n",
       "      <td>0.000000</td>\n",
       "      <td>0.000000</td>\n",
       "    </tr>\n",
       "    <tr>\n",
       "      <th>25%</th>\n",
       "      <td>0.000000</td>\n",
       "      <td>2.000000</td>\n",
       "      <td>0.0</td>\n",
       "      <td>0.000000</td>\n",
       "      <td>0.000000</td>\n",
       "      <td>0.000000</td>\n",
       "      <td>0.000000</td>\n",
       "      <td>0.000000</td>\n",
       "      <td>0.000000</td>\n",
       "    </tr>\n",
       "    <tr>\n",
       "      <th>50%</th>\n",
       "      <td>0.000000</td>\n",
       "      <td>2.000000</td>\n",
       "      <td>0.0</td>\n",
       "      <td>0.000000</td>\n",
       "      <td>0.000000</td>\n",
       "      <td>1.000000</td>\n",
       "      <td>0.000000</td>\n",
       "      <td>0.000000</td>\n",
       "      <td>1.000000</td>\n",
       "    </tr>\n",
       "    <tr>\n",
       "      <th>75%</th>\n",
       "      <td>0.000000</td>\n",
       "      <td>2.000000</td>\n",
       "      <td>0.0</td>\n",
       "      <td>0.000000</td>\n",
       "      <td>1.000000</td>\n",
       "      <td>1.000000</td>\n",
       "      <td>0.000000</td>\n",
       "      <td>1.000000</td>\n",
       "      <td>1.000000</td>\n",
       "    </tr>\n",
       "    <tr>\n",
       "      <th>max</th>\n",
       "      <td>2.000000</td>\n",
       "      <td>4.000000</td>\n",
       "      <td>0.0</td>\n",
       "      <td>1.000000</td>\n",
       "      <td>1.000000</td>\n",
       "      <td>1.000000</td>\n",
       "      <td>1.000000</td>\n",
       "      <td>1.000000</td>\n",
       "      <td>1.000000</td>\n",
       "    </tr>\n",
       "  </tbody>\n",
       "</table>\n",
       "</div>"
      ]
     },
     "execution_count": 21,
     "metadata": {},
     "output_type": "execute_result"
    }
   ],
   "execution_count": 21
  },
  {
   "metadata": {},
   "cell_type": "markdown",
   "source": [
    "### Variable category (4/4)\n",
    "Esta variable es de tipo categórica y representa el tipo de comprehension."
   ],
   "id": "3237adcf6d852d54"
  },
  {
   "metadata": {
    "ExecuteTime": {
     "end_time": "2024-07-04T17:21:07.242505Z",
     "start_time": "2024-07-04T17:21:06.958912Z"
    }
   },
   "cell_type": "code",
   "source": "print_categorical_histogram(full_table, 'comprehension__category')",
   "id": "299706e14d9a3f2",
   "outputs": [
    {
     "data": {
      "text/plain": [
       "<Figure size 1200x600 with 1 Axes>"
      ],
      "image/png": "[encoded data removed]"
     },
     "metadata": {},
     "output_type": "display_data"
    }
   ],
   "execution_count": 22
  },
  {
   "metadata": {
    "ExecuteTime": {
     "end_time": "2024-07-04T17:21:07.254374Z",
     "start_time": "2024-07-04T17:21:07.243517Z"
    }
   },
   "cell_type": "code",
   "source": "print_frequency_anal_for_cat_var(full_table, 'comprehension__category')",
   "id": "f4253192e2301909",
   "outputs": [
    {
     "name": "stdout",
     "output_type": "stream",
     "text": [
      "La variable comprehension__category contiene 4 valores distintos.\n",
      "El umbral de outlier es de 0.05%\n",
      "La variable comprehension__category toma el valor de ListComprehension en un 63.54% de los items.\n",
      "La variable comprehension__category toma el valor de GeneratorComprehension en un 26.16% de los items.\n",
      "La variable comprehension__category toma el valor de DictComprehension en un 7.991% de los items.\n",
      "La variable comprehension__category toma el valor de SetComprehension en un 2.306% de los items.\n"
     ]
    }
   ],
   "execution_count": 23
  },
  {
   "metadata": {
    "ExecuteTime": {
     "end_time": "2024-07-04T17:21:07.259585Z",
     "start_time": "2024-07-04T17:21:07.255383Z"
    }
   },
   "cell_type": "code",
   "source": "print_values_usage_for_cat_var(full_table, 'comprehension__category', COMPREHENSION_CATEGORY_VALUES)",
   "id": "7bdca751c5277d49",
   "outputs": [
    {
     "name": "stdout",
     "output_type": "stream",
     "text": [
      "La variable comprehension__category puede tomar 4 valores distintos\n",
      "\t4 (100.0%) valores utilizados\n",
      "\t0 (0.0%) valores NO utilizados\n"
     ]
    }
   ],
   "execution_count": 24
  },
  {
   "metadata": {},
   "cell_type": "markdown",
   "source": [
    "## Multivariate\n",
    "\n",
    "Isolation forest algorithm"
   ],
   "id": "336fab1648bbb1c5"
  },
  {
   "metadata": {
    "ExecuteTime": {
     "end_time": "2024-07-04T17:21:07.940925Z",
     "start_time": "2024-07-04T17:21:07.260590Z"
    }
   },
   "cell_type": "code",
   "source": [
    "from sklearn.ensemble import  IsolationForest\n",
    "\n",
    "CONTAMINATION_FACTOR = 0.0012\n",
    "isof_model = IsolationForest(contamination=CONTAMINATION_FACTOR, random_state=0)\n",
    "isof_prediction = isof_model.fit_predict(X.values)\n",
    "mask = isof_prediction == -1\n",
    "full_table.loc[X.index[mask]]"
   ],
   "id": "e60c6e8e201d5cee",
   "outputs": [
    {
     "data": {
      "text/plain": [
       "      comprehension__category  comprehension__number_of_ifs  \\\n",
       "115          SetComprehension                             0   \n",
       "1061         SetComprehension                             0   \n",
       "1093         SetComprehension                             0   \n",
       "1869         SetComprehension                             0   \n",
       "1901         SetComprehension                             0   \n",
       "2677         SetComprehension                             0   \n",
       "2709         SetComprehension                             0   \n",
       "3486         SetComprehension                             0   \n",
       "3518         SetComprehension                             0   \n",
       "4291         SetComprehension                             0   \n",
       "4323         SetComprehension                             0   \n",
       "5928         SetComprehension                             0   \n",
       "6828   GeneratorComprehension                             1   \n",
       "6901   GeneratorComprehension                             1   \n",
       "7909         SetComprehension                             1   \n",
       "8208         SetComprehension                             0   \n",
       "8269         SetComprehension                             0   \n",
       "10095        SetComprehension                             1   \n",
       "11185        SetComprehension                             1   \n",
       "12654        SetComprehension                             0   \n",
       "14402  GeneratorComprehension                             1   \n",
       "\n",
       "       comprehension__number_of_generators  comprehension__is_async  \\\n",
       "115                                      3                    False   \n",
       "1061                                     3                    False   \n",
       "1093                                     2                    False   \n",
       "1869                                     3                    False   \n",
       "1901                                     2                    False   \n",
       "2677                                     3                    False   \n",
       "2709                                     2                    False   \n",
       "3486                                     3                    False   \n",
       "3518                                     2                    False   \n",
       "4291                                     3                    False   \n",
       "4323                                     2                    False   \n",
       "5928                                     2                    False   \n",
       "6828                                     2                    False   \n",
       "6901                                     2                    False   \n",
       "7909                                     2                    False   \n",
       "8208                                     2                    False   \n",
       "8269                                     2                    False   \n",
       "10095                                    2                    False   \n",
       "11185                                    2                    False   \n",
       "12654                                    2                    False   \n",
       "14402                                    2                    False   \n",
       "\n",
       "      comprehension__expertise_level  \n",
       "115                         BEGINNER  \n",
       "1061                        BEGINNER  \n",
       "1093                        BEGINNER  \n",
       "1869                        BEGINNER  \n",
       "1901                        BEGINNER  \n",
       "2677                        BEGINNER  \n",
       "2709                        BEGINNER  \n",
       "3486                        BEGINNER  \n",
       "3518                        BEGINNER  \n",
       "4291                        BEGINNER  \n",
       "4323                        BEGINNER  \n",
       "5928                          EXPERT  \n",
       "6828                          EXPERT  \n",
       "6901                          EXPERT  \n",
       "7909                          EXPERT  \n",
       "8208                          EXPERT  \n",
       "8269                          EXPERT  \n",
       "10095                         EXPERT  \n",
       "11185                         EXPERT  \n",
       "12654                         EXPERT  \n",
       "14402                         EXPERT  "
      ],
      "text/html": [
       "<div>\n",
       "<style scoped>\n",
       "    .dataframe tbody tr th:only-of-type {\n",
       "        vertical-align: middle;\n",
       "    }\n",
       "\n",
       "    .dataframe tbody tr th {\n",
       "        vertical-align: top;\n",
       "    }\n",
       "\n",
       "    .dataframe thead th {\n",
       "        text-align: right;\n",
       "    }\n",
       "</style>\n",
       "<table border=\"1\" class=\"dataframe\">\n",
       "  <thead>\n",
       "    <tr style=\"text-align: right;\">\n",
       "      <th></th>\n",
       "      <th>comprehension__category</th>\n",
       "      <th>comprehension__number_of_ifs</th>\n",
       "      <th>comprehension__number_of_generators</th>\n",
       "      <th>comprehension__is_async</th>\n",
       "      <th>comprehension__expertise_level</th>\n",
       "    </tr>\n",
       "  </thead>\n",
       "  <tbody>\n",
       "    <tr>\n",
       "      <th>115</th>\n",
       "      <td>SetComprehension</td>\n",
       "      <td>0</td>\n",
       "      <td>3</td>\n",
       "      <td>False</td>\n",
       "      <td>BEGINNER</td>\n",
       "    </tr>\n",
       "    <tr>\n",
       "      <th>1061</th>\n",
       "      <td>SetComprehension</td>\n",
       "      <td>0</td>\n",
       "      <td>3</td>\n",
       "      <td>False</td>\n",
       "      <td>BEGINNER</td>\n",
       "    </tr>\n",
       "    <tr>\n",
       "      <th>1093</th>\n",
       "      <td>SetComprehension</td>\n",
       "      <td>0</td>\n",
       "      <td>2</td>\n",
       "      <td>False</td>\n",
       "      <td>BEGINNER</td>\n",
       "    </tr>\n",
       "    <tr>\n",
       "      <th>1869</th>\n",
       "      <td>SetComprehension</td>\n",
       "      <td>0</td>\n",
       "      <td>3</td>\n",
       "      <td>False</td>\n",
       "      <td>BEGINNER</td>\n",
       "    </tr>\n",
       "    <tr>\n",
       "      <th>1901</th>\n",
       "      <td>SetComprehension</td>\n",
       "      <td>0</td>\n",
       "      <td>2</td>\n",
       "      <td>False</td>\n",
       "      <td>BEGINNER</td>\n",
       "    </tr>\n",
       "    <tr>\n",
       "      <th>2677</th>\n",
       "      <td>SetComprehension</td>\n",
       "      <td>0</td>\n",
       "      <td>3</td>\n",
       "      <td>False</td>\n",
       "      <td>BEGINNER</td>\n",
       "    </tr>\n",
       "    <tr>\n",
       "      <th>2709</th>\n",
       "      <td>SetComprehension</td>\n",
       "      <td>0</td>\n",
       "      <td>2</td>\n",
       "      <td>False</td>\n",
       "      <td>BEGINNER</td>\n",
       "    </tr>\n",
       "    <tr>\n",
       "      <th>3486</th>\n",
       "      <td>SetComprehension</td>\n",
       "      <td>0</td>\n",
       "      <td>3</td>\n",
       "      <td>False</td>\n",
       "      <td>BEGINNER</td>\n",
       "    </tr>\n",
       "    <tr>\n",
       "      <th>3518</th>\n",
       "      <td>SetComprehension</td>\n",
       "      <td>0</td>\n",
       "      <td>2</td>\n",
       "      <td>False</td>\n",
       "      <td>BEGINNER</td>\n",
       "    </tr>\n",
       "    <tr>\n",
       "      <th>4291</th>\n",
       "      <td>SetComprehension</td>\n",
       "      <td>0</td>\n",
       "      <td>3</td>\n",
       "      <td>False</td>\n",
       "      <td>BEGINNER</td>\n",
       "    </tr>\n",
       "    <tr>\n",
       "      <th>4323</th>\n",
       "      <td>SetComprehension</td>\n",
       "      <td>0</td>\n",
       "      <td>2</td>\n",
       "      <td>False</td>\n",
       "      <td>BEGINNER</td>\n",
       "    </tr>\n",
       "    <tr>\n",
       "      <th>5928</th>\n",
       "      <td>SetComprehension</td>\n",
       "      <td>0</td>\n",
       "      <td>2</td>\n",
       "      <td>False</td>\n",
       "      <td>EXPERT</td>\n",
       "    </tr>\n",
       "    <tr>\n",
       "      <th>6828</th>\n",
       "      <td>GeneratorComprehension</td>\n",
       "      <td>1</td>\n",
       "      <td>2</td>\n",
       "      <td>False</td>\n",
       "      <td>EXPERT</td>\n",
       "    </tr>\n",
       "    <tr>\n",
       "      <th>6901</th>\n",
       "      <td>GeneratorComprehension</td>\n",
       "      <td>1</td>\n",
       "      <td>2</td>\n",
       "      <td>False</td>\n",
       "      <td>EXPERT</td>\n",
       "    </tr>\n",
       "    <tr>\n",
       "      <th>7909</th>\n",
       "      <td>SetComprehension</td>\n",
       "      <td>1</td>\n",
       "      <td>2</td>\n",
       "      <td>False</td>\n",
       "      <td>EXPERT</td>\n",
       "    </tr>\n",
       "    <tr>\n",
       "      <th>8208</th>\n",
       "      <td>SetComprehension</td>\n",
       "      <td>0</td>\n",
       "      <td>2</td>\n",
       "      <td>False</td>\n",
       "      <td>EXPERT</td>\n",
       "    </tr>\n",
       "    <tr>\n",
       "      <th>8269</th>\n",
       "      <td>SetComprehension</td>\n",
       "      <td>0</td>\n",
       "      <td>2</td>\n",
       "      <td>False</td>\n",
       "      <td>EXPERT</td>\n",
       "    </tr>\n",
       "    <tr>\n",
       "      <th>10095</th>\n",
       "      <td>SetComprehension</td>\n",
       "      <td>1</td>\n",
       "      <td>2</td>\n",
       "      <td>False</td>\n",
       "      <td>EXPERT</td>\n",
       "    </tr>\n",
       "    <tr>\n",
       "      <th>11185</th>\n",
       "      <td>SetComprehension</td>\n",
       "      <td>1</td>\n",
       "      <td>2</td>\n",
       "      <td>False</td>\n",
       "      <td>EXPERT</td>\n",
       "    </tr>\n",
       "    <tr>\n",
       "      <th>12654</th>\n",
       "      <td>SetComprehension</td>\n",
       "      <td>0</td>\n",
       "      <td>2</td>\n",
       "      <td>False</td>\n",
       "      <td>EXPERT</td>\n",
       "    </tr>\n",
       "    <tr>\n",
       "      <th>14402</th>\n",
       "      <td>GeneratorComprehension</td>\n",
       "      <td>1</td>\n",
       "      <td>2</td>\n",
       "      <td>False</td>\n",
       "      <td>EXPERT</td>\n",
       "    </tr>\n",
       "  </tbody>\n",
       "</table>\n",
       "</div>"
      ]
     },
     "execution_count": 25,
     "metadata": {},
     "output_type": "execute_result"
    }
   ],
   "execution_count": 25
  },
  {
   "metadata": {},
   "cell_type": "markdown",
   "source": [
    "### IMPORTANTE\n",
    "Revisar los 21 outliers detectados"
   ],
   "id": "f5ace38ffaa3dc07"
  },
  {
   "metadata": {
    "ExecuteTime": {
     "end_time": "2024-07-04T17:21:07.965720Z",
     "start_time": "2024-07-04T17:21:07.941931Z"
    }
   },
   "cell_type": "code",
   "source": [
    "# Outliers\n",
    "np.transpose(X[mask].describe(percentiles=[.25, .50, .75], include = ['object', 'float', 'bool', 'int']))"
   ],
   "id": "a22226f39cdd5165",
   "outputs": [
    {
     "data": {
      "text/plain": [
       "                                                count      mean       std  \\\n",
       "comprehension__number_of_ifs                     21.0  0.285714  0.462910   \n",
       "comprehension__number_of_generators              21.0  2.285714  0.462910   \n",
       "comprehension__is_async                          21.0  0.000000  0.000000   \n",
       "comprehension__category_DictComprehension        21.0  0.000000  0.000000   \n",
       "comprehension__category_GeneratorComprehension   21.0  0.142857  0.358569   \n",
       "comprehension__category_ListComprehension        21.0  0.000000  0.000000   \n",
       "comprehension__category_SetComprehension         21.0  0.857143  0.358569   \n",
       "comprehension__expertise_level_BEGINNER          21.0  0.523810  0.511766   \n",
       "comprehension__expertise_level_EXPERT            21.0  0.476190  0.511766   \n",
       "\n",
       "                                                min  25%  50%  75%  max  \n",
       "comprehension__number_of_ifs                    0.0  0.0  0.0  1.0  1.0  \n",
       "comprehension__number_of_generators             2.0  2.0  2.0  3.0  3.0  \n",
       "comprehension__is_async                         0.0  0.0  0.0  0.0  0.0  \n",
       "comprehension__category_DictComprehension       0.0  0.0  0.0  0.0  0.0  \n",
       "comprehension__category_GeneratorComprehension  0.0  0.0  0.0  0.0  1.0  \n",
       "comprehension__category_ListComprehension       0.0  0.0  0.0  0.0  0.0  \n",
       "comprehension__category_SetComprehension        0.0  1.0  1.0  1.0  1.0  \n",
       "comprehension__expertise_level_BEGINNER         0.0  0.0  1.0  1.0  1.0  \n",
       "comprehension__expertise_level_EXPERT           0.0  0.0  0.0  1.0  1.0  "
      ],
      "text/html": [
       "<div>\n",
       "<style scoped>\n",
       "    .dataframe tbody tr th:only-of-type {\n",
       "        vertical-align: middle;\n",
       "    }\n",
       "\n",
       "    .dataframe tbody tr th {\n",
       "        vertical-align: top;\n",
       "    }\n",
       "\n",
       "    .dataframe thead th {\n",
       "        text-align: right;\n",
       "    }\n",
       "</style>\n",
       "<table border=\"1\" class=\"dataframe\">\n",
       "  <thead>\n",
       "    <tr style=\"text-align: right;\">\n",
       "      <th></th>\n",
       "      <th>count</th>\n",
       "      <th>mean</th>\n",
       "      <th>std</th>\n",
       "      <th>min</th>\n",
       "      <th>25%</th>\n",
       "      <th>50%</th>\n",
       "      <th>75%</th>\n",
       "      <th>max</th>\n",
       "    </tr>\n",
       "  </thead>\n",
       "  <tbody>\n",
       "    <tr>\n",
       "      <th>comprehension__number_of_ifs</th>\n",
       "      <td>21.0</td>\n",
       "      <td>0.285714</td>\n",
       "      <td>0.462910</td>\n",
       "      <td>0.0</td>\n",
       "      <td>0.0</td>\n",
       "      <td>0.0</td>\n",
       "      <td>1.0</td>\n",
       "      <td>1.0</td>\n",
       "    </tr>\n",
       "    <tr>\n",
       "      <th>comprehension__number_of_generators</th>\n",
       "      <td>21.0</td>\n",
       "      <td>2.285714</td>\n",
       "      <td>0.462910</td>\n",
       "      <td>2.0</td>\n",
       "      <td>2.0</td>\n",
       "      <td>2.0</td>\n",
       "      <td>3.0</td>\n",
       "      <td>3.0</td>\n",
       "    </tr>\n",
       "    <tr>\n",
       "      <th>comprehension__is_async</th>\n",
       "      <td>21.0</td>\n",
       "      <td>0.000000</td>\n",
       "      <td>0.000000</td>\n",
       "      <td>0.0</td>\n",
       "      <td>0.0</td>\n",
       "      <td>0.0</td>\n",
       "      <td>0.0</td>\n",
       "      <td>0.0</td>\n",
       "    </tr>\n",
       "    <tr>\n",
       "      <th>comprehension__category_DictComprehension</th>\n",
       "      <td>21.0</td>\n",
       "      <td>0.000000</td>\n",
       "      <td>0.000000</td>\n",
       "      <td>0.0</td>\n",
       "      <td>0.0</td>\n",
       "      <td>0.0</td>\n",
       "      <td>0.0</td>\n",
       "      <td>0.0</td>\n",
       "    </tr>\n",
       "    <tr>\n",
       "      <th>comprehension__category_GeneratorComprehension</th>\n",
       "      <td>21.0</td>\n",
       "      <td>0.142857</td>\n",
       "      <td>0.358569</td>\n",
       "      <td>0.0</td>\n",
       "      <td>0.0</td>\n",
       "      <td>0.0</td>\n",
       "      <td>0.0</td>\n",
       "      <td>1.0</td>\n",
       "    </tr>\n",
       "    <tr>\n",
       "      <th>comprehension__category_ListComprehension</th>\n",
       "      <td>21.0</td>\n",
       "      <td>0.000000</td>\n",
       "      <td>0.000000</td>\n",
       "      <td>0.0</td>\n",
       "      <td>0.0</td>\n",
       "      <td>0.0</td>\n",
       "      <td>0.0</td>\n",
       "      <td>0.0</td>\n",
       "    </tr>\n",
       "    <tr>\n",
       "      <th>comprehension__category_SetComprehension</th>\n",
       "      <td>21.0</td>\n",
       "      <td>0.857143</td>\n",
       "      <td>0.358569</td>\n",
       "      <td>0.0</td>\n",
       "      <td>1.0</td>\n",
       "      <td>1.0</td>\n",
       "      <td>1.0</td>\n",
       "      <td>1.0</td>\n",
       "    </tr>\n",
       "    <tr>\n",
       "      <th>comprehension__expertise_level_BEGINNER</th>\n",
       "      <td>21.0</td>\n",
       "      <td>0.523810</td>\n",
       "      <td>0.511766</td>\n",
       "      <td>0.0</td>\n",
       "      <td>0.0</td>\n",
       "      <td>1.0</td>\n",
       "      <td>1.0</td>\n",
       "      <td>1.0</td>\n",
       "    </tr>\n",
       "    <tr>\n",
       "      <th>comprehension__expertise_level_EXPERT</th>\n",
       "      <td>21.0</td>\n",
       "      <td>0.476190</td>\n",
       "      <td>0.511766</td>\n",
       "      <td>0.0</td>\n",
       "      <td>0.0</td>\n",
       "      <td>0.0</td>\n",
       "      <td>1.0</td>\n",
       "      <td>1.0</td>\n",
       "    </tr>\n",
       "  </tbody>\n",
       "</table>\n",
       "</div>"
      ]
     },
     "execution_count": 26,
     "metadata": {},
     "output_type": "execute_result"
    }
   ],
   "execution_count": 26
  },
  {
   "metadata": {
    "ExecuteTime": {
     "end_time": "2024-07-04T17:21:07.993249Z",
     "start_time": "2024-07-04T17:21:07.966729Z"
    }
   },
   "cell_type": "code",
   "source": [
    "# Non-Outliers\n",
    "np.transpose(X[~mask].describe(percentiles=[.25, .50, .75], include = ['object', 'float', 'bool', 'int']))"
   ],
   "id": "7578e56b8f80adf1",
   "outputs": [
    {
     "data": {
      "text/plain": [
       "                                                  count      mean       std  \\\n",
       "comprehension__number_of_ifs                    18238.0  0.151387  0.359505   \n",
       "comprehension__number_of_generators             18238.0  1.017381  0.138037   \n",
       "comprehension__is_async                         18238.0  0.000658  0.025643   \n",
       "comprehension__category_DictComprehension       18238.0  0.079998  0.271297   \n",
       "comprehension__category_GeneratorComprehension  18238.0  0.261761  0.439605   \n",
       "comprehension__category_ListComprehension       18238.0  0.636144  0.481121   \n",
       "comprehension__category_SetComprehension        18238.0  0.022097  0.147002   \n",
       "comprehension__expertise_level_BEGINNER         18238.0  0.272563  0.445290   \n",
       "comprehension__expertise_level_EXPERT           18238.0  0.727437  0.445290   \n",
       "\n",
       "                                                min  25%  50%  75%  max  \n",
       "comprehension__number_of_ifs                    0.0  0.0  0.0  0.0  2.0  \n",
       "comprehension__number_of_generators             1.0  1.0  1.0  1.0  4.0  \n",
       "comprehension__is_async                         0.0  0.0  0.0  0.0  1.0  \n",
       "comprehension__category_DictComprehension       0.0  0.0  0.0  0.0  1.0  \n",
       "comprehension__category_GeneratorComprehension  0.0  0.0  0.0  1.0  1.0  \n",
       "comprehension__category_ListComprehension       0.0  0.0  1.0  1.0  1.0  \n",
       "comprehension__category_SetComprehension        0.0  0.0  0.0  0.0  1.0  \n",
       "comprehension__expertise_level_BEGINNER         0.0  0.0  0.0  1.0  1.0  \n",
       "comprehension__expertise_level_EXPERT           0.0  0.0  1.0  1.0  1.0  "
      ],
      "text/html": [
       "<div>\n",
       "<style scoped>\n",
       "    .dataframe tbody tr th:only-of-type {\n",
       "        vertical-align: middle;\n",
       "    }\n",
       "\n",
       "    .dataframe tbody tr th {\n",
       "        vertical-align: top;\n",
       "    }\n",
       "\n",
       "    .dataframe thead th {\n",
       "        text-align: right;\n",
       "    }\n",
       "</style>\n",
       "<table border=\"1\" class=\"dataframe\">\n",
       "  <thead>\n",
       "    <tr style=\"text-align: right;\">\n",
       "      <th></th>\n",
       "      <th>count</th>\n",
       "      <th>mean</th>\n",
       "      <th>std</th>\n",
       "      <th>min</th>\n",
       "      <th>25%</th>\n",
       "      <th>50%</th>\n",
       "      <th>75%</th>\n",
       "      <th>max</th>\n",
       "    </tr>\n",
       "  </thead>\n",
       "  <tbody>\n",
       "    <tr>\n",
       "      <th>comprehension__number_of_ifs</th>\n",
       "      <td>18238.0</td>\n",
       "      <td>0.151387</td>\n",
       "      <td>0.359505</td>\n",
       "      <td>0.0</td>\n",
       "      <td>0.0</td>\n",
       "      <td>0.0</td>\n",
       "      <td>0.0</td>\n",
       "      <td>2.0</td>\n",
       "    </tr>\n",
       "    <tr>\n",
       "      <th>comprehension__number_of_generators</th>\n",
       "      <td>18238.0</td>\n",
       "      <td>1.017381</td>\n",
       "      <td>0.138037</td>\n",
       "      <td>1.0</td>\n",
       "      <td>1.0</td>\n",
       "      <td>1.0</td>\n",
       "      <td>1.0</td>\n",
       "      <td>4.0</td>\n",
       "    </tr>\n",
       "    <tr>\n",
       "      <th>comprehension__is_async</th>\n",
       "      <td>18238.0</td>\n",
       "      <td>0.000658</td>\n",
       "      <td>0.025643</td>\n",
       "      <td>0.0</td>\n",
       "      <td>0.0</td>\n",
       "      <td>0.0</td>\n",
       "      <td>0.0</td>\n",
       "      <td>1.0</td>\n",
       "    </tr>\n",
       "    <tr>\n",
       "      <th>comprehension__category_DictComprehension</th>\n",
       "      <td>18238.0</td>\n",
       "      <td>0.079998</td>\n",
       "      <td>0.271297</td>\n",
       "      <td>0.0</td>\n",
       "      <td>0.0</td>\n",
       "      <td>0.0</td>\n",
       "      <td>0.0</td>\n",
       "      <td>1.0</td>\n",
       "    </tr>\n",
       "    <tr>\n",
       "      <th>comprehension__category_GeneratorComprehension</th>\n",
       "      <td>18238.0</td>\n",
       "      <td>0.261761</td>\n",
       "      <td>0.439605</td>\n",
       "      <td>0.0</td>\n",
       "      <td>0.0</td>\n",
       "      <td>0.0</td>\n",
       "      <td>1.0</td>\n",
       "      <td>1.0</td>\n",
       "    </tr>\n",
       "    <tr>\n",
       "      <th>comprehension__category_ListComprehension</th>\n",
       "      <td>18238.0</td>\n",
       "      <td>0.636144</td>\n",
       "      <td>0.481121</td>\n",
       "      <td>0.0</td>\n",
       "      <td>0.0</td>\n",
       "      <td>1.0</td>\n",
       "      <td>1.0</td>\n",
       "      <td>1.0</td>\n",
       "    </tr>\n",
       "    <tr>\n",
       "      <th>comprehension__category_SetComprehension</th>\n",
       "      <td>18238.0</td>\n",
       "      <td>0.022097</td>\n",
       "      <td>0.147002</td>\n",
       "      <td>0.0</td>\n",
       "      <td>0.0</td>\n",
       "      <td>0.0</td>\n",
       "      <td>0.0</td>\n",
       "      <td>1.0</td>\n",
       "    </tr>\n",
       "    <tr>\n",
       "      <th>comprehension__expertise_level_BEGINNER</th>\n",
       "      <td>18238.0</td>\n",
       "      <td>0.272563</td>\n",
       "      <td>0.445290</td>\n",
       "      <td>0.0</td>\n",
       "      <td>0.0</td>\n",
       "      <td>0.0</td>\n",
       "      <td>1.0</td>\n",
       "      <td>1.0</td>\n",
       "    </tr>\n",
       "    <tr>\n",
       "      <th>comprehension__expertise_level_EXPERT</th>\n",
       "      <td>18238.0</td>\n",
       "      <td>0.727437</td>\n",
       "      <td>0.445290</td>\n",
       "      <td>0.0</td>\n",
       "      <td>0.0</td>\n",
       "      <td>1.0</td>\n",
       "      <td>1.0</td>\n",
       "      <td>1.0</td>\n",
       "    </tr>\n",
       "  </tbody>\n",
       "</table>\n",
       "</div>"
      ]
     },
     "execution_count": 27,
     "metadata": {},
     "output_type": "execute_result"
    }
   ],
   "execution_count": 27
  }
 ],
 "metadata": {
  "kernelspec": {
   "display_name": "Python 3",
   "language": "python",
   "name": "python3"
  },
  "language_info": {
   "codemirror_mode": {
    "name": "ipython",
    "version": 2
   },
   "file_extension": ".py",
   "mimetype": "text/x-python",
   "name": "python",
   "nbconvert_exporter": "python",
   "pygments_lexer": "ipython2",
   "version": "2.7.6"
  }
 },
 "nbformat": 4,
 "nbformat_minor": 5
}
