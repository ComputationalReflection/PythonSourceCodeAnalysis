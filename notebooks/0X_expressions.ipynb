{
 "cells": [
  {
   "cell_type": "markdown",
   "id": "ea78b212-ff32-40d1-92e1-9e09d847ae78",
   "metadata": {
    "pycharm": {
     "name": "#%% md\n"
    }
   },
   "source": [
    "# Expressions\n",
    "\n",
    "Esta tabla contiene la información a nivel de expression. --> ABEL COMPLETAR <--"
   ]
  },
  {
   "cell_type": "markdown",
   "id": "b862cb2f-c1e0-4074-92c0-004dea379079",
   "metadata": {
    "pycharm": {
     "name": "#%% md\n"
    }
   },
   "source": [
    "## 1 - Obtencion de datos"
   ]
  },
  {
   "cell_type": "code",
   "id": "63793d9c-9473-44fa-bb1d-8e4b32fa1457",
   "metadata": {
    "pycharm": {
     "name": "#%%\n"
    },
    "tags": [],
    "ExecuteTime": {
     "end_time": "2024-05-05T17:57:10.371940Z",
     "start_time": "2024-05-05T17:57:00.630561Z"
    }
   },
   "source": [
    "import matplotlib.pyplot as plt\n",
    "\n",
    "from notebooks_utils import *\n",
    "\n",
    "full_table = get_data('expressions')\n",
    "\n",
    "# Table name, features and target.\n",
    "TABLE_NAME = 'expressions'\n",
    "TABLE_FEATURES = ['expression__category','expression__parent','expression__first_child_category','expression__second_child_category','expression__third_child_category','expression__fourth_child_category','expression__expression_role','expression__height','expression__depth','expression__expertise_level']\n",
    "TABLE_TARGET = 'expression__expertise_level'\n",
    "\n",
    "# Load features and target.\n",
    "X, y = full_table[TABLE_FEATURES], full_table[[TABLE_TARGET]].iloc[:,0]\n",
    "\n",
    "# Print information about the loaded table.\n",
    "print(f'Features shape: {X.shape}')\n",
    "print(f'Target shape: {y.shape}')\n",
    "\n",
    "print(f'As we can see the downloaded data contains a total of {X.shape[0]} instances. Each of the instances corresponds to a program. For each program we have {X.shape[1]} attributes.')"
   ],
   "outputs": [
    {
     "name": "stdout",
     "output_type": "stream",
     "text": [
      "2024-05-05 19:57:03.939657 Data cache files found ...\n",
      "2024-05-05 19:57:09.717298 Data cache files successfully loaded!!\n",
      "Features shape: (8102385, 10)\n",
      "Target shape: (8102385,)\n",
      "As we can see the downloaded data contains a total of 8102385 instances. Each of the instances corresponds to a program. For each program we have 10 attributes.\n"
     ]
    }
   ],
   "execution_count": 1
  },
  {
   "cell_type": "markdown",
   "id": "3ff70454-366f-4231-831d-723eeb63576b",
   "metadata": {},
   "source": [
    "## 2 - Exploracion de datos\n",
    "\n",
    "Una vez tenemos nuestra tabla en un dataframe el siguiente paso es explorarla para ver qué tipo de información contiene."
   ]
  },
  {
   "cell_type": "code",
   "id": "9b526577-537d-44b0-951b-168278ce7a5c",
   "metadata": {
    "ExecuteTime": {
     "end_time": "2024-05-05T17:57:10.914795Z",
     "start_time": "2024-05-05T17:57:10.374990Z"
    }
   },
   "source": [
    "print(X.info())\n",
    "print('=============')\n",
    "print(y.info())"
   ],
   "outputs": [
    {
     "name": "stdout",
     "output_type": "stream",
     "text": [
      "<class 'pandas.core.frame.DataFrame'>\n",
      "RangeIndex: 8102385 entries, 0 to 8102384\n",
      "Data columns (total 10 columns):\n",
      " #   Column                             Dtype \n",
      "---  ------                             ----- \n",
      " 0   expression__category               object\n",
      " 1   expression__parent                 object\n",
      " 2   expression__first_child_category   object\n",
      " 3   expression__second_child_category  object\n",
      " 4   expression__third_child_category   object\n",
      " 5   expression__fourth_child_category  object\n",
      " 6   expression__expression_role        object\n",
      " 7   expression__height                 int64 \n",
      " 8   expression__depth                  int64 \n",
      " 9   expression__expertise_level        object\n",
      "dtypes: int64(2), object(8)\n",
      "memory usage: 618.2+ MB\n",
      "None\n",
      "=============\n",
      "<class 'pandas.core.series.Series'>\n",
      "RangeIndex: 8102385 entries, 0 to 8102384\n",
      "Series name: expression__expertise_level\n",
      "Non-Null Count    Dtype \n",
      "--------------    ----- \n",
      "8102385 non-null  object\n",
      "dtypes: object(1)\n",
      "memory usage: 61.8+ MB\n",
      "None\n"
     ]
    }
   ],
   "execution_count": 2
  },
  {
   "cell_type": "markdown",
   "id": "cbf77cd4-9819-4da1-9405-44054d2290e1",
   "metadata": {},
   "source": "Cómo podemos ver la tabla está compuesta por 2 variables numéricas y 8 de tipo objeto (cetegoricas). Una de ellas es la clase con la que se ha etiquetado la instancia. Sin embargo, en algunas ocasiones esta última clase no la vamos a utilizar. Por ejemplo, si queremos obtener clusters por medio de aprendizaje no supervisado."
  },
  {
   "cell_type": "markdown",
   "id": "bf53eef1e9c5c37d",
   "metadata": {
    "collapsed": false
   },
   "source": [
    "### 2.1 - Balance de clases"
   ]
  },
  {
   "cell_type": "code",
   "id": "61c1409f-9146-467e-bad9-b68774fdd903",
   "metadata": {
    "ExecuteTime": {
     "end_time": "2024-05-05T17:57:13.066966Z",
     "start_time": "2024-05-05T17:57:10.916803Z"
    }
   },
   "source": [
    "instances_for_class_low = len(full_table[full_table[TABLE_TARGET] == \"BEGINNER\"])\n",
    "instances_for_class_high = len(full_table[full_table[TABLE_TARGET] == \"EXPERT\"])\n",
    "\n",
    "print(f\"The dataset contains {instances_for_class_low/len(full_table)*100:.4}% instances for BEGINNER class and {instances_for_class_high/len(full_table)*100:.4}% for EXPERT class.\")"
   ],
   "outputs": [
    {
     "name": "stdout",
     "output_type": "stream",
     "text": [
      "The dataset contains 42.52% instances for BEGINNER class and 57.48% for EXPERT class.\n"
     ]
    }
   ],
   "execution_count": 3
  },
  {
   "cell_type": "markdown",
   "id": "7f619a1e-3b8b-4929-b41c-8edef4cc2d6a",
   "metadata": {},
   "source": [
    "### 2.2 - Duplicados\n",
    "Miramos si la tabla tiene entradas duplicadas."
   ]
  },
  {
   "cell_type": "code",
   "id": "ba8d29f2-8771-4e1f-8ecb-31bb827bf988",
   "metadata": {
    "ExecuteTime": {
     "end_time": "2024-05-05T17:57:16.889641Z",
     "start_time": "2024-05-05T17:57:13.069979Z"
    }
   },
   "source": [
    "number_of_duplicated_entries = sum(full_table.duplicated(subset=TABLE_FEATURES + [TABLE_TARGET]))\n",
    "duplicated_entries_pct = number_of_duplicated_entries / len(full_table) * 100\n",
    "print(f\"The dataset contains [{duplicated_entries_pct:.4}%] of duplicated entries.\")"
   ],
   "outputs": [
    {
     "name": "stdout",
     "output_type": "stream",
     "text": [
      "The dataset contains [98.31%] of duplicated entries.\n"
     ]
    }
   ],
   "execution_count": 4
  },
  {
   "cell_type": "markdown",
   "id": "31d297c18f157194",
   "metadata": {
    "collapsed": false
   },
   "source": [
    "### 2.3 - Valores Nulos \n",
    "Miramos si alguna de las variables que contiene la tabla contiene algún valor que sea nulo."
   ]
  },
  {
   "cell_type": "code",
   "id": "afeed2ce9080cbbb",
   "metadata": {
    "collapsed": false,
    "ExecuteTime": {
     "end_time": "2024-05-05T17:57:18.619862Z",
     "start_time": "2024-05-05T17:57:16.892173Z"
    }
   },
   "source": [
    "X.isnull().sum()"
   ],
   "outputs": [
    {
     "data": {
      "text/plain": [
       "expression__category                       0\n",
       "expression__parent                         0\n",
       "expression__first_child_category     5213654\n",
       "expression__second_child_category    6744734\n",
       "expression__third_child_category     7699395\n",
       "expression__fourth_child_category    7964567\n",
       "expression__expression_role                0\n",
       "expression__height                         0\n",
       "expression__depth                          0\n",
       "expression__expertise_level                0\n",
       "dtype: int64"
      ]
     },
     "execution_count": 5,
     "metadata": {},
     "output_type": "execute_result"
    }
   ],
   "execution_count": 5
  },
  {
   "cell_type": "markdown",
   "id": "1a8e02c0c52edff9",
   "metadata": {
    "collapsed": false
   },
   "source": [
    "Aunque una columna no contenga valores nulos podría ser que contenga valores vacíos. Si los hubiese la siguiente función los mostraría."
   ]
  },
  {
   "cell_type": "code",
   "id": "73b9dc2f9efc111a",
   "metadata": {
    "collapsed": false,
    "ExecuteTime": {
     "end_time": "2024-05-05T17:57:21.163408Z",
     "start_time": "2024-05-05T17:57:18.621878Z"
    }
   },
   "source": [
    "print_empty_cols(X)"
   ],
   "outputs": [
    {
     "name": "stdout",
     "output_type": "stream",
     "text": [
      "expression__category\n",
      "--------------------\n",
      "0 instancias no tienen un valor para la columna expression__category\n",
      "\n",
      "\n",
      "expression__parent\n",
      "------------------\n",
      "0 instancias no tienen un valor para la columna expression__parent\n",
      "\n",
      "\n",
      "expression__first_child_category\n",
      "--------------------------------\n",
      "0 instancias no tienen un valor para la columna expression__first_child_category\n",
      "\n",
      "\n",
      "expression__second_child_category\n",
      "---------------------------------\n",
      "0 instancias no tienen un valor para la columna expression__second_child_category\n",
      "\n",
      "\n",
      "expression__third_child_category\n",
      "--------------------------------\n",
      "0 instancias no tienen un valor para la columna expression__third_child_category\n",
      "\n",
      "\n",
      "expression__fourth_child_category\n",
      "---------------------------------\n",
      "0 instancias no tienen un valor para la columna expression__fourth_child_category\n",
      "\n",
      "\n",
      "expression__expression_role\n",
      "---------------------------\n",
      "0 instancias no tienen un valor para la columna expression__expression_role\n",
      "\n",
      "\n",
      "expression__height\n",
      "------------------\n",
      "0 instancias no tienen un valor para la columna expression__height\n",
      "\n",
      "\n",
      "expression__depth\n",
      "-----------------\n",
      "0 instancias no tienen un valor para la columna expression__depth\n",
      "\n",
      "\n",
      "expression__expertise_level\n",
      "---------------------------\n",
      "0 instancias no tienen un valor para la columna expression__expertise_level\n",
      "\n",
      "\n"
     ]
    }
   ],
   "execution_count": 6
  },
  {
   "cell_type": "markdown",
   "id": "105774ea722bf467",
   "metadata": {
    "collapsed": false
   },
   "source": [
    "### 2.4 - Describimos los valores de las variables de la tabla."
   ]
  },
  {
   "cell_type": "code",
   "id": "d3be1e5cec1af46c",
   "metadata": {
    "collapsed": false,
    "ExecuteTime": {
     "end_time": "2024-05-05T17:57:26.920951Z",
     "start_time": "2024-05-05T17:57:21.165433Z"
    }
   },
   "source": [
    "np.transpose(X.describe(percentiles=[.25, .50, .75], include = ['object', 'float', 'bool', 'int']))"
   ],
   "outputs": [
    {
     "data": {
      "text/plain": [
       "                                       count unique            top     freq  \\\n",
       "expression__category                 8102385     39       Variable  2782098   \n",
       "expression__parent                   8102385     49           Call  1929892   \n",
       "expression__first_child_category     2888731     38       Variable  1447334   \n",
       "expression__second_child_category    1357651     36       Variable   449233   \n",
       "expression__third_child_category      402990     37  StringLiteral   123449   \n",
       "expression__fourth_child_category     137818     34       Variable    37395   \n",
       "expression__expression_role          8102385     79        CallArg  1096702   \n",
       "expression__height                 8102385.0    NaN            NaN      NaN   \n",
       "expression__depth                  8102385.0    NaN            NaN      NaN   \n",
       "expression__expertise_level          8102385      2         EXPERT  4656866   \n",
       "\n",
       "                                       mean       std  min  25%  50%  75%  \\\n",
       "expression__category                    NaN       NaN  NaN  NaN  NaN  NaN   \n",
       "expression__parent                      NaN       NaN  NaN  NaN  NaN  NaN   \n",
       "expression__first_child_category        NaN       NaN  NaN  NaN  NaN  NaN   \n",
       "expression__second_child_category       NaN       NaN  NaN  NaN  NaN  NaN   \n",
       "expression__third_child_category        NaN       NaN  NaN  NaN  NaN  NaN   \n",
       "expression__fourth_child_category       NaN       NaN  NaN  NaN  NaN  NaN   \n",
       "expression__expression_role             NaN       NaN  NaN  NaN  NaN  NaN   \n",
       "expression__height                 5.169738  2.227696  1.0  4.0  5.0  6.0   \n",
       "expression__depth                  0.602559  1.086327  0.0  0.0  0.0  1.0   \n",
       "expression__expertise_level             NaN       NaN  NaN  NaN  NaN  NaN   \n",
       "\n",
       "                                    max  \n",
       "expression__category                NaN  \n",
       "expression__parent                  NaN  \n",
       "expression__first_child_category    NaN  \n",
       "expression__second_child_category   NaN  \n",
       "expression__third_child_category    NaN  \n",
       "expression__fourth_child_category   NaN  \n",
       "expression__expression_role         NaN  \n",
       "expression__height                 83.0  \n",
       "expression__depth                  81.0  \n",
       "expression__expertise_level         NaN  "
      ],
      "text/html": [
       "<div>\n",
       "<style scoped>\n",
       "    .dataframe tbody tr th:only-of-type {\n",
       "        vertical-align: middle;\n",
       "    }\n",
       "\n",
       "    .dataframe tbody tr th {\n",
       "        vertical-align: top;\n",
       "    }\n",
       "\n",
       "    .dataframe thead th {\n",
       "        text-align: right;\n",
       "    }\n",
       "</style>\n",
       "<table border=\"1\" class=\"dataframe\">\n",
       "  <thead>\n",
       "    <tr style=\"text-align: right;\">\n",
       "      <th></th>\n",
       "      <th>count</th>\n",
       "      <th>unique</th>\n",
       "      <th>top</th>\n",
       "      <th>freq</th>\n",
       "      <th>mean</th>\n",
       "      <th>std</th>\n",
       "      <th>min</th>\n",
       "      <th>25%</th>\n",
       "      <th>50%</th>\n",
       "      <th>75%</th>\n",
       "      <th>max</th>\n",
       "    </tr>\n",
       "  </thead>\n",
       "  <tbody>\n",
       "    <tr>\n",
       "      <th>expression__category</th>\n",
       "      <td>8102385</td>\n",
       "      <td>39</td>\n",
       "      <td>Variable</td>\n",
       "      <td>2782098</td>\n",
       "      <td>NaN</td>\n",
       "      <td>NaN</td>\n",
       "      <td>NaN</td>\n",
       "      <td>NaN</td>\n",
       "      <td>NaN</td>\n",
       "      <td>NaN</td>\n",
       "      <td>NaN</td>\n",
       "    </tr>\n",
       "    <tr>\n",
       "      <th>expression__parent</th>\n",
       "      <td>8102385</td>\n",
       "      <td>49</td>\n",
       "      <td>Call</td>\n",
       "      <td>1929892</td>\n",
       "      <td>NaN</td>\n",
       "      <td>NaN</td>\n",
       "      <td>NaN</td>\n",
       "      <td>NaN</td>\n",
       "      <td>NaN</td>\n",
       "      <td>NaN</td>\n",
       "      <td>NaN</td>\n",
       "    </tr>\n",
       "    <tr>\n",
       "      <th>expression__first_child_category</th>\n",
       "      <td>2888731</td>\n",
       "      <td>38</td>\n",
       "      <td>Variable</td>\n",
       "      <td>1447334</td>\n",
       "      <td>NaN</td>\n",
       "      <td>NaN</td>\n",
       "      <td>NaN</td>\n",
       "      <td>NaN</td>\n",
       "      <td>NaN</td>\n",
       "      <td>NaN</td>\n",
       "      <td>NaN</td>\n",
       "    </tr>\n",
       "    <tr>\n",
       "      <th>expression__second_child_category</th>\n",
       "      <td>1357651</td>\n",
       "      <td>36</td>\n",
       "      <td>Variable</td>\n",
       "      <td>449233</td>\n",
       "      <td>NaN</td>\n",
       "      <td>NaN</td>\n",
       "      <td>NaN</td>\n",
       "      <td>NaN</td>\n",
       "      <td>NaN</td>\n",
       "      <td>NaN</td>\n",
       "      <td>NaN</td>\n",
       "    </tr>\n",
       "    <tr>\n",
       "      <th>expression__third_child_category</th>\n",
       "      <td>402990</td>\n",
       "      <td>37</td>\n",
       "      <td>StringLiteral</td>\n",
       "      <td>123449</td>\n",
       "      <td>NaN</td>\n",
       "      <td>NaN</td>\n",
       "      <td>NaN</td>\n",
       "      <td>NaN</td>\n",
       "      <td>NaN</td>\n",
       "      <td>NaN</td>\n",
       "      <td>NaN</td>\n",
       "    </tr>\n",
       "    <tr>\n",
       "      <th>expression__fourth_child_category</th>\n",
       "      <td>137818</td>\n",
       "      <td>34</td>\n",
       "      <td>Variable</td>\n",
       "      <td>37395</td>\n",
       "      <td>NaN</td>\n",
       "      <td>NaN</td>\n",
       "      <td>NaN</td>\n",
       "      <td>NaN</td>\n",
       "      <td>NaN</td>\n",
       "      <td>NaN</td>\n",
       "      <td>NaN</td>\n",
       "    </tr>\n",
       "    <tr>\n",
       "      <th>expression__expression_role</th>\n",
       "      <td>8102385</td>\n",
       "      <td>79</td>\n",
       "      <td>CallArg</td>\n",
       "      <td>1096702</td>\n",
       "      <td>NaN</td>\n",
       "      <td>NaN</td>\n",
       "      <td>NaN</td>\n",
       "      <td>NaN</td>\n",
       "      <td>NaN</td>\n",
       "      <td>NaN</td>\n",
       "      <td>NaN</td>\n",
       "    </tr>\n",
       "    <tr>\n",
       "      <th>expression__height</th>\n",
       "      <td>8102385.0</td>\n",
       "      <td>NaN</td>\n",
       "      <td>NaN</td>\n",
       "      <td>NaN</td>\n",
       "      <td>5.169738</td>\n",
       "      <td>2.227696</td>\n",
       "      <td>1.0</td>\n",
       "      <td>4.0</td>\n",
       "      <td>5.0</td>\n",
       "      <td>6.0</td>\n",
       "      <td>83.0</td>\n",
       "    </tr>\n",
       "    <tr>\n",
       "      <th>expression__depth</th>\n",
       "      <td>8102385.0</td>\n",
       "      <td>NaN</td>\n",
       "      <td>NaN</td>\n",
       "      <td>NaN</td>\n",
       "      <td>0.602559</td>\n",
       "      <td>1.086327</td>\n",
       "      <td>0.0</td>\n",
       "      <td>0.0</td>\n",
       "      <td>0.0</td>\n",
       "      <td>1.0</td>\n",
       "      <td>81.0</td>\n",
       "    </tr>\n",
       "    <tr>\n",
       "      <th>expression__expertise_level</th>\n",
       "      <td>8102385</td>\n",
       "      <td>2</td>\n",
       "      <td>EXPERT</td>\n",
       "      <td>4656866</td>\n",
       "      <td>NaN</td>\n",
       "      <td>NaN</td>\n",
       "      <td>NaN</td>\n",
       "      <td>NaN</td>\n",
       "      <td>NaN</td>\n",
       "      <td>NaN</td>\n",
       "      <td>NaN</td>\n",
       "    </tr>\n",
       "  </tbody>\n",
       "</table>\n",
       "</div>"
      ]
     },
     "execution_count": 7,
     "metadata": {},
     "output_type": "execute_result"
    }
   ],
   "execution_count": 7
  },
  {
   "cell_type": "markdown",
   "id": "b9f859b03e8083f1",
   "metadata": {
    "collapsed": false
   },
   "source": [
    "Vamos a discretizar las variables numericas, agrupando conjuntos de valores en categorias, para hacer un análisis de los datos. Para cada variable es necesaario ver la distribucion de lo valores para hacer los bins (categorias). Revisar programa con 3k modulos y 1k paquetes."
   ]
  },
  {
   "cell_type": "code",
   "id": "b7cf5fae0fd0e5ef",
   "metadata": {
    "collapsed": false,
    "ExecuteTime": {
     "end_time": "2024-05-05T17:57:47.259962Z",
     "start_time": "2024-05-05T17:57:26.922965Z"
    }
   },
   "source": [
    "# DISCRETIZATION\n",
    "X_copy = X.copy()\n",
    "\n",
    "discretized_columns = {\n",
    "    \"expression__height\": [(1, 3), (3, 4), (4, 5), (5, 6) ,(6, 7), (7, inf)],  # min: 1 max: 83\n",
    "    \"expression__depth\": [(0, 1), (1, 2), (2, inf)],  # min: 1 max: 81\n",
    "}\n",
    "\n",
    "discretize_columns(X_copy, discretized_columns)\n",
    "    \n",
    "# SINGLE FEATURE\n",
    "print(\"--- SINGLE FEATURE ---\")\n",
    "print(get_statistics(X_copy, ['expression__category'], 10))\n",
    "print(get_statistics(X_copy, ['expression__parent'], 10))\n",
    "print(get_statistics(X_copy, ['expression__first_child_category'], 10))\n",
    "print(get_statistics(X_copy, ['expression__second_child_category'], 10))\n",
    "print(get_statistics(X_copy, ['expression__third_child_category'], 10))\n",
    "print(get_statistics(X_copy, ['expression__fourth_child_category'], 10))\n",
    "print(get_statistics(X_copy, ['expression__expression_role'], 10))\n",
    "print(get_statistics(X_copy, ['expression__height'], 10))\n",
    "print(get_statistics(X_copy, ['expression__depth'], 10))\n",
    "\n",
    "# 2 FEATURES\n",
    "print(\"--- TWO FEATURES ---\")\n",
    "print(get_statistics(X_copy, ['expression__category', 'expression__expression_role'], 10))\n",
    "print(get_statistics(X_copy, ['expression__category', 'expression__parent'], 10))\n",
    "print(get_statistics(X_copy, ['expression__parent', 'expression__expression_role'], 10))\n",
    "\n",
    "\n",
    "# 3 FEATURES\n",
    "print(\"--- THREE FEATURES ---\")\n",
    "print(get_statistics(X_copy, ['expression__category', 'expression__first_child_category', 'expression__second_child_category'], 10))\n"
   ],
   "outputs": [
    {
     "name": "stdout",
     "output_type": "stream",
     "text": [
      "--- SINGLE FEATURE ---\n",
      "expression__category   count  percentage\n",
      "            Variable 2782098   34.336779\n",
      "       StringLiteral 1073503   13.249222\n",
      "          IntLiteral 1041046   12.848637\n",
      "                 Dot  960865   11.859039\n",
      "                Call  833190   10.283268\n",
      "        TupleLiteral  233120    2.877178\n",
      "            Indexing  172908    2.134038\n",
      "             Compare  168239    2.076413\n",
      "        FloatLiteral  150544    1.858021\n",
      "     UnaryArithmetic  146572    1.808998\n",
      "\n",
      "expression__parent   count  percentage\n",
      "              Call 1929892   23.818814\n",
      "               Dot  960865   11.859039\n",
      "    AssignmentStmt  943987   11.650730\n",
      "      TupleLiteral  882145   10.887473\n",
      " DictionaryLiteral  847094   10.454872\n",
      "          Indexing  345816    4.268077\n",
      "           Compare  337963    4.171155\n",
      "                If  246143    3.037908\n",
      "        Arithmetic  217180    2.680445\n",
      "       ListLiteral  214802    2.651096\n",
      "\n",
      "expression__first_child_category   count  percentage\n",
      "                        Variable 1447334   17.863061\n",
      "                             Dot  666750    8.229058\n",
      "                   StringLiteral  210383    2.596556\n",
      "                      IntLiteral  144830    1.787498\n",
      "                    FloatLiteral  134865    1.664510\n",
      "                            Call  103627    1.278969\n",
      "                        Indexing   47113    0.581471\n",
      "                     NoneLiteral   28985    0.357734\n",
      "                      Arithmetic   26571    0.327940\n",
      "                         Compare   24043    0.296740\n",
      "\n",
      "expression__second_child_category  count  percentage\n",
      "                         Variable 449233    5.544454\n",
      "                    StringLiteral 353178    4.358939\n",
      "                       IntLiteral 133562    1.648428\n",
      "                             Call 101595    1.253890\n",
      "                              Dot  74396    0.918199\n",
      "                       Arithmetic  35567    0.438970\n",
      "                         Indexing  33415    0.412409\n",
      "                     TupleLiteral  31933    0.394119\n",
      "                          Compare  19688    0.242990\n",
      "                      ListLiteral  19060    0.235239\n",
      "\n",
      "expression__third_child_category  count  percentage\n",
      "                   StringLiteral 123449    1.523613\n",
      "                        Variable 122064    1.506519\n",
      "                      IntLiteral  39626    0.489066\n",
      "                             Dot  26631    0.328681\n",
      "                            Call  22771    0.281041\n",
      "                    TupleLiteral  12097    0.149302\n",
      "                     BoolLiteral   9065    0.111881\n",
      "                     ListLiteral   7902    0.097527\n",
      "                      Arithmetic   6829    0.084284\n",
      "                        Indexing   6146    0.075854\n",
      "\n",
      "expression__fourth_child_category  count  percentage\n",
      "                         Variable  37395    0.461531\n",
      "                    StringLiteral  23778    0.293469\n",
      "                       IntLiteral  20232    0.249704\n",
      "                              Dot  10458    0.129073\n",
      "                             Call   8348    0.103031\n",
      "                     TupleLiteral   7983    0.098527\n",
      "                      BoolLiteral   5518    0.068103\n",
      "                   FormattedValue   4887    0.060316\n",
      "                      ListLiteral   2936    0.036236\n",
      "                DictionaryLiteral   2716    0.033521\n",
      "\n",
      "expression__expression_role   count  percentage\n",
      "                    CallArg 1096702   13.535545\n",
      "                        Dot  960865   11.859039\n",
      "               TupleLiteral  882145   10.887473\n",
      "               CallFuncName  833190   10.283268\n",
      "                  AssignLHS  472671    5.833727\n",
      "                  AssignRHS  471316    5.817003\n",
      "     DictionaryLiteralValue  425352    5.249714\n",
      "       DictionaryLiteralKey  424590    5.240309\n",
      "                 Arithmetic  406047    5.011450\n",
      "                ListLiteral  214802    2.651096\n",
      "\n",
      "expression__height   count  percentage\n",
      "             [4_5) 2134432   26.343256\n",
      "             [5_6) 1881799   23.225248\n",
      "           [7_inf] 1594975   19.685253\n",
      "             [6_7) 1125546   13.891539\n",
      "             [3_4) 1103533   13.619854\n",
      "             [1_3)  262100    3.234850\n",
      "\n",
      "expression__depth   count  percentage\n",
      "            [0_1) 5213654   64.347152\n",
      "            [1_2) 1686657   20.816797\n",
      "          [2_inf] 1202074   14.836051\n",
      "\n",
      "--- TWO FEATURES ---\n",
      "expression__category expression__expression_role  count  percentage\n",
      "            Variable                         Dot 771691    9.524245\n",
      "                 Dot                CallFuncName 461538    5.696323\n",
      "            Variable                     CallArg 452865    5.589280\n",
      "            Variable                CallFuncName 370224    4.569321\n",
      "            Variable                   AssignLHS 356463    4.399482\n",
      "          IntLiteral                TupleLiteral 354117    4.370528\n",
      "       StringLiteral                TupleLiteral 278822    3.441234\n",
      "                Call                   AssignRHS 214309    2.645011\n",
      "       StringLiteral        DictionaryLiteralKey 213550    2.635644\n",
      "          IntLiteral      DictionaryLiteralValue 204679    2.526157\n",
      "\n",
      "expression__category expression__parent  count  percentage\n",
      "            Variable               Call 823089   10.158601\n",
      "            Variable                Dot 771691    9.524245\n",
      "                 Dot               Call 550131    6.789742\n",
      "          IntLiteral  DictionaryLiteral 402654    4.969574\n",
      "            Variable     AssignmentStmt 398704    4.920823\n",
      "          IntLiteral       TupleLiteral 354117    4.370528\n",
      "       StringLiteral       TupleLiteral 278822    3.441234\n",
      "       StringLiteral  DictionaryLiteral 246818    3.046239\n",
      "                Call     AssignmentStmt 214309    2.645011\n",
      "       StringLiteral               Call 202694    2.501658\n",
      "\n",
      "expression__parent expression__expression_role   count  percentage\n",
      "              Call                     CallArg 1096702   13.535545\n",
      "               Dot                         Dot  960865   11.859039\n",
      "      TupleLiteral                TupleLiteral  882145   10.887473\n",
      "              Call                CallFuncName  833190   10.283268\n",
      "    AssignmentStmt                   AssignLHS  472671    5.833727\n",
      "    AssignmentStmt                   AssignRHS  471316    5.817003\n",
      " DictionaryLiteral      DictionaryLiteralValue  423928    5.232138\n",
      " DictionaryLiteral        DictionaryLiteralKey  423166    5.222734\n",
      "        Arithmetic                  Arithmetic  217180    2.680445\n",
      "       ListLiteral                 ListLiteral  214802    2.651096\n",
      "\n",
      "--- THREE FEATURES ---\n",
      "expression__category expression__first_child_category expression__second_child_category  count  percentage\n",
      "                Call                         Variable                          Variable 151210    1.866241\n",
      "                Call                              Dot                          Variable 138496    1.709324\n",
      "        TupleLiteral                    StringLiteral                     StringLiteral  79639    0.982908\n",
      "                Call                              Dot                     StringLiteral  72598    0.896008\n",
      "                Call                         Variable                     StringLiteral  61504    0.759085\n",
      "        TupleLiteral                       IntLiteral                     StringLiteral  55037    0.679269\n",
      "        TupleLiteral                         Variable                          Variable  39315    0.485227\n",
      "            Indexing                         Variable                          Variable  35668    0.440216\n",
      "                Call                         Variable                              Call  34992    0.431873\n",
      "                Call                              Dot                              Call  34369    0.424184\n",
      "\n"
     ]
    }
   ],
   "execution_count": 8
  },
  {
   "cell_type": "code",
   "id": "1ca9a43e-6db6-44a7-aaab-65f00d1ea79e",
   "metadata": {
    "pycharm": {
     "name": "#%%\n"
    },
    "tags": [],
    "ExecuteTime": {
     "end_time": "2024-05-05T17:57:59.365181Z",
     "start_time": "2024-05-05T17:57:47.261989Z"
    }
   },
   "source": [
    "def normalize_datatypes(X:pd.DataFrame, y:pd.Series) -> (pd.DataFrame, pd.Series, [str]):\n",
    "    X = pd.get_dummies(X)\n",
    "    X = X.astype('float32')\n",
    "    y = y.apply(lambda value: 0 if value == \"BEGINNER\" else 1) # EXPERT will be 1 and BEGINNER will be 0.\n",
    "    y = y.astype('float32')\n",
    "    columns_names = X.columns.tolist()\n",
    "    return X, y, columns_names\n",
    "\n",
    "X, y, TABLE_FEATURES = normalize_datatypes(X, y)\n",
    "# Print information about the loaded table\n",
    "print(f'Features shape: {X.shape}')\n",
    "print(f'Target shape: {y.shape}')"
   ],
   "outputs": [
    {
     "name": "stdout",
     "output_type": "stream",
     "text": [
      "Features shape: (8102385, 316)\n",
      "Target shape: (8102385,)\n"
     ]
    }
   ],
   "execution_count": 9
  },
  {
   "cell_type": "markdown",
   "id": "e9fc6a7d9acd9a9e",
   "metadata": {
    "collapsed": false
   },
   "source": [
    "#### Muestra la matriz de correlación de pearson entre las variables de la tabla."
   ]
  },
  {
   "cell_type": "code",
   "id": "70af048034c80af1",
   "metadata": {
    "collapsed": false,
    "ExecuteTime": {
     "end_time": "2024-05-05T17:57:59.374281Z",
     "start_time": "2024-05-05T17:57:59.369200Z"
    }
   },
   "source": [
    "# Con estos datos (8102385, 316) la matriz de confusion es demasiado grande.\n",
    "# sns.heatmap(X.corr(), annot=True)"
   ],
   "outputs": [],
   "execution_count": 10
  },
  {
   "cell_type": "markdown",
   "id": "9a47cdd4cc2b3fae",
   "metadata": {
    "collapsed": false
   },
   "source": [
    "## 3 - Detección de valores atípicos (outliers)\n",
    "Una vez sabemos qué datos contiene la tabla, analizaremos los valores que toma cada una de las variables de cada instancia. El objetivo es identificar posibles valores atípicos que nos dificulten la realización de futuras tareas. \n",
    "Tras su análisis, se puede concluir que un valor:\n",
    "    - **Es erróneo**. En este caso hay que tomar una decisión para cada caso, siendo los tratamientos más extendidos son listwise, pairwise, drop variables, mean/median imputation, most frequent, separate category, zero imputation, cold deck, hot deck,(stochastic) regression, k-NN and multiple imputation. Los resultados de imputación regresiva, k-NN y múltiple dan buenos resultados, aunque, como se ha indicado, es necesario el estudio en cada caso.\n",
    "    - **Es correcto, pero anómalo**. Se documenta su existencia para su posible discusión y se mantiene en el dataset. En estos casos se hace necesaria la utilización de algoritmos y estadísticos que no sean muy sensibles a dichos valores anómalos.\n",
    "\n",
    "## Univariate\n",
    "Para cada uno de los atributos se debe realizar un análisis y detección de valores atípicos, estudiando su posible causa. \n",
    "Existen diversas formas de calcular los valores anómalos. \n",
    "\n",
    "### Variables numéricas\n",
    "Para las variables numéricas, se suele identificar: \n",
    "    - a) Valor atípico leve es el que está fuera de $[Q1 - 1.5IQR, Q3 + 1.5IQR]$, donde $IQR = Q3-Q1$.\n",
    "    - b) Valor atípico extremo está fuera de $[Q1 - 3IQR, Q3 + 3IQR]$.\n",
    "\n",
    "La idea es probar con a) y si hay pocas instancias analizarlas. Si hubiese muchas, mirar b) y analizar si fuesen pocas. No hay un algoritmo o método estipulado, puesto que depende del dominio del problema y de los datos.\n",
    "\n",
    "Los límites de Tukey se basan en los cuartiles de los datos y son sensibles a la presencia de sesgo en la distribución. Cuando hay asimetría en los datos, los límites de Tukey pueden no ser tan efectivos para identificar outliers de manera equitativa en ambos extremos de la distribución. El Coeficiente de Medcouple es útil para identificar la asimetría en los datos, especialmente en presencia de valores atípicos o sesgados. Es una medida robusta porque no se ve tan afectada por valores extremos como la media y la desviación estándar. El MC puede proporcionar información adicional sobre la asimetría de la distribución, lo que te permite ajustar los límites de Tukey de manera más apropiada para tu conjunto de datos específico. Una posible variacion de los límites de Tukey teniendo en cuenta MC podria ser: \n",
    "   - Si MC es mayor que 0 (asimetría hacia la derecha):\n",
    "      - low = (q1-1.5 * math.exp(-4*mc) * iqr)\n",
    "      - high = (q3+1.5 * math.exp(3.5*mc) * iqr)\n",
    "   - Si la asimetriza es hacia la izquierda:    \n",
    "      - low = (q1-1.5 * math.exp(-3.5*mc) * iqr)\n",
    "      - high = (q3+1.5 * math.exp(4*mc) * iqr)\n",
    "\n",
    "\n",
    "### Variables categóricas\n",
    "Para las variables categóricas no existe el concepto de valor anómalo, pero sí se puede considerar en base a un análisis de frecuencia. Por ejemplo, que el uso de una categoría sea residual, pudiendo tener un 0.1% de instancias en el dataset. Para detectar estos valores, se puede fijar un valor mínimo de frecuencia en función del número posible de valores de la variable categórica (2 en el caso de una variable booleana). Por ejemplo, un umbral de $\\frac{0.2\\%}{valores}$ (0.1% en el caso de una variable booleana)"
   ]
  },
  {
   "metadata": {},
   "cell_type": "markdown",
   "source": [
    "## Analisis detallado de variables\n",
    "Para cada una de las 10 variable (7 categoricas y 2 numericas) se hara un analisis detallado "
   ],
   "id": "6422ebf36d0aa620"
  },
  {
   "cell_type": "markdown",
   "source": [
    "### Variable expression__category (1/9)\n",
    "Esta variable es de tipo categorica y representa la categoria de la expresion."
   ],
   "metadata": {
    "collapsed": false
   },
   "id": "59c216b40cd37670"
  },
  {
   "metadata": {
    "ExecuteTime": {
     "end_time": "2024-05-05T17:58:13.964293Z",
     "start_time": "2024-05-05T17:57:59.376310Z"
    }
   },
   "cell_type": "code",
   "source": "sns.catplot(full_table['expression__category'], kind=\"count\")",
   "id": "1b756a3a68d1ff37",
   "outputs": [
    {
     "data": {
      "text/plain": [
       "<seaborn.axisgrid.FacetGrid at 0x23eb7bcb2f0>"
      ]
     },
     "execution_count": 11,
     "metadata": {},
     "output_type": "execute_result"
    },
    {
     "data": {
      "text/plain": [
       "<Figure size 500x500 with 1 Axes>"
      ],
      "image/png": "[encoded data removed]"
     },
     "metadata": {},
     "output_type": "display_data"
    }
   ],
   "execution_count": 11
  },
  {
   "metadata": {
    "ExecuteTime": {
     "end_time": "2024-05-05T17:58:31.579245Z",
     "start_time": "2024-05-05T17:58:13.966306Z"
    }
   },
   "cell_type": "code",
   "source": "print_frequency_anal_for_cat_var(full_table, 'expression__category')",
   "id": "443cd3ed32e8556a",
   "outputs": [
    {
     "name": "stdout",
     "output_type": "stream",
     "text": [
      "La variable expression__category contiene 39 valores distintos.\n",
      "El umbral de outlier es de 0.005128205128205128%\n",
      "La variable expression__category toma el valor de Variable en un 34.34% de los items.\n",
      "La variable expression__category toma el valor de StringLiteral en un 13.25% de los items.\n",
      "La variable expression__category toma el valor de IntLiteral en un 12.85% de los items.\n",
      "La variable expression__category toma el valor de Dot en un 11.86% de los items.\n",
      "La variable expression__category toma el valor de Call en un 10.28% de los items.\n",
      "La variable expression__category toma el valor de TupleLiteral en un 2.877% de los items.\n",
      "La variable expression__category toma el valor de Indexing en un 2.134% de los items.\n",
      "La variable expression__category toma el valor de Compare en un 2.076% de los items.\n",
      "La variable expression__category toma el valor de FloatLiteral en un 1.858% de los items.\n",
      "La variable expression__category toma el valor de UnaryArithmetic en un 1.809% de los items.\n",
      "La variable expression__category toma el valor de Arithmetic en un 1.34% de los items.\n",
      "La variable expression__category toma el valor de ListLiteral en un 0.8841% de los items.\n",
      "La variable expression__category toma el valor de NoneLiteral en un 0.8571% de los items.\n",
      "La variable expression__category toma el valor de BoolLiteral en un 0.7107% de los items.\n",
      "La variable expression__category toma el valor de DictionaryLiteral en un 0.5048% de los items.\n",
      "La variable expression__category toma el valor de Logical en un 0.4721% de los items.\n",
      "La variable expression__category toma el valor de FormattedValue en un 0.3735% de los items.\n",
      "La variable expression__category toma el valor de UnaryNot en un 0.3326% de los items.\n",
      "La variable expression__category toma el valor de FString en un 0.2596% de los items.\n",
      "La variable expression__category toma el valor de Slice en un 0.1783% de los items.\n",
      "La variable expression__category toma el valor de ListComprehension en un 0.1346% de los items.\n",
      "La variable expression__category toma el valor de Ternary en un 0.1022% de los items.\n",
      "La variable expression__category toma el valor de Lambda en un 0.07205% de los items.\n",
      "La variable expression__category toma el valor de ComplexLiteral en un 0.06589% de los items.\n",
      "La variable expression__category toma el valor de Yield en un 0.06435% de los items.\n",
      "La variable expression__category toma el valor de GeneratorComprehension en un 0.05765% de los items.\n",
      "La variable expression__category toma el valor de BW1Logical en un 0.05706% de los items.\n",
      "La variable expression__category toma el valor de Star en un 0.05064% de los items.\n",
      "La variable expression__category toma el valor de Await en un 0.04886% de los items.\n",
      "La variable expression__category toma el valor de Pow en un 0.02521% de los items.\n",
      "La variable expression__category toma el valor de SetLiteral en un 0.01899% de los items.\n",
      "La variable expression__category toma el valor de DictComprehension en un 0.01758% de los items.\n",
      "La variable expression__category toma el valor de EllipsisLiteral en un 0.01575% de los items.\n",
      "La variable expression__category toma el valor de Shift en un 0.008812% de los items.\n",
      "La variable expression__category toma el valor de SetComprehension en un 0.005023% de los items. [OUTLIER]\n",
      "La variable expression__category toma el valor de YieldFrom en un 0.004591% de los items. [OUTLIER]\n",
      "La variable expression__category toma el valor de UnaryBWNot en un 0.003579% de los items. [OUTLIER]\n",
      "La variable expression__category toma el valor de MatMult en un 0.001839% de los items. [OUTLIER]\n",
      "La variable expression__category toma el valor de AssignmentExp en un 0.0005924% de los items. [OUTLIER]\n"
     ]
    }
   ],
   "execution_count": 12
  },
  {
   "metadata": {},
   "cell_type": "markdown",
   "source": [
    "## Multivariate\n",
    "\n",
    "TODO: isolation forest algorithm"
   ],
   "id": "8e299cbd54a1ad0f"
  },
  {
   "metadata": {
    "ExecuteTime": {
     "end_time": "2024-05-05T18:00:05.472637Z",
     "start_time": "2024-05-05T17:58:31.581262Z"
    }
   },
   "cell_type": "code",
   "source": [
    "from sklearn.ensemble import  IsolationForest\n",
    "\n",
    "CONTAMINATION_FACTOR = 0.0012\n",
    "\n",
    "isof_model = IsolationForest(contamination=CONTAMINATION_FACTOR, random_state=0)\n",
    "isof_prediction = isof_model.fit_predict(X.to_numpy())\n",
    "mask = isof_prediction == -1\n",
    "multivar_outliers = X[mask].index.tolist()\n",
    "full_table.iloc[multivar_outliers]"
   ],
   "id": "dc31e907b659599a",
   "outputs": [
    {
     "data": {
      "text/plain": [
       "         expression__expression_id expression__category expression__parent  \\\n",
       "181                         327845    DictionaryLiteral           Indexing   \n",
       "422                         327565    DictionaryLiteral           Indexing   \n",
       "533                         327452    DictionaryLiteral           Indexing   \n",
       "6531                        320461    DictionaryLiteral               Call   \n",
       "6553                        320436          ListLiteral               Call   \n",
       "...                            ...                  ...                ...   \n",
       "8097611                    9334155          ListLiteral     AssignmentStmt   \n",
       "8097802                    9333931          ListLiteral            Compare   \n",
       "8098483                    9334979          ListLiteral     AssignmentStmt   \n",
       "8098541                    9335204          ListLiteral     AssignmentStmt   \n",
       "8101704                    9338785          ListLiteral     AssignmentStmt   \n",
       "\n",
       "        expression__first_child_category expression__second_child_category  \\\n",
       "181                        StringLiteral                        IntLiteral   \n",
       "422                        StringLiteral                        IntLiteral   \n",
       "533                        StringLiteral                        IntLiteral   \n",
       "6531                       StringLiteral                          Variable   \n",
       "6553                       StringLiteral                     StringLiteral   \n",
       "...                                  ...                               ...   \n",
       "8097611                    StringLiteral                     StringLiteral   \n",
       "8097802                    StringLiteral                     StringLiteral   \n",
       "8098483                    StringLiteral                     StringLiteral   \n",
       "8098541                    StringLiteral                     StringLiteral   \n",
       "8101704                    StringLiteral                     StringLiteral   \n",
       "\n",
       "        expression__third_child_category expression__fourth_child_category  \\\n",
       "181                        StringLiteral                        IntLiteral   \n",
       "422                        StringLiteral                        IntLiteral   \n",
       "533                        StringLiteral                        IntLiteral   \n",
       "6531                       StringLiteral                          Variable   \n",
       "6553                       StringLiteral                              None   \n",
       "...                                  ...                               ...   \n",
       "8097611                    StringLiteral                     StringLiteral   \n",
       "8097802                    StringLiteral                     StringLiteral   \n",
       "8098483                    StringLiteral                     StringLiteral   \n",
       "8098541                    StringLiteral                     StringLiteral   \n",
       "8101704                    StringLiteral                     StringLiteral   \n",
       "\n",
       "        expression__expression_role  expression__height  expression__depth  \\\n",
       "181                        Indexing                   6                  1   \n",
       "422                        Indexing                   6                  1   \n",
       "533                        Indexing                   6                  1   \n",
       "6531                        CallArg                   8                  1   \n",
       "6553                        CallArg                   9                  1   \n",
       "...                             ...                 ...                ...   \n",
       "8097611                   AssignRHS                   2                  1   \n",
       "8097802                  Relational                   6                  1   \n",
       "8098483                   AssignRHS                   2                  1   \n",
       "8098541                   AssignRHS                   2                  1   \n",
       "8101704                   AssignRHS                   2                  1   \n",
       "\n",
       "        expression__expertise_level  \n",
       "181                          EXPERT  \n",
       "422                          EXPERT  \n",
       "533                          EXPERT  \n",
       "6531                         EXPERT  \n",
       "6553                         EXPERT  \n",
       "...                             ...  \n",
       "8097611                    BEGINNER  \n",
       "8097802                    BEGINNER  \n",
       "8098483                    BEGINNER  \n",
       "8098541                    BEGINNER  \n",
       "8101704                    BEGINNER  \n",
       "\n",
       "[9721 rows x 11 columns]"
      ],
      "text/html": [
       "<div>\n",
       "<style scoped>\n",
       "    .dataframe tbody tr th:only-of-type {\n",
       "        vertical-align: middle;\n",
       "    }\n",
       "\n",
       "    .dataframe tbody tr th {\n",
       "        vertical-align: top;\n",
       "    }\n",
       "\n",
       "    .dataframe thead th {\n",
       "        text-align: right;\n",
       "    }\n",
       "</style>\n",
       "<table border=\"1\" class=\"dataframe\">\n",
       "  <thead>\n",
       "    <tr style=\"text-align: right;\">\n",
       "      <th></th>\n",
       "      <th>expression__expression_id</th>\n",
       "      <th>expression__category</th>\n",
       "      <th>expression__parent</th>\n",
       "      <th>expression__first_child_category</th>\n",
       "      <th>expression__second_child_category</th>\n",
       "      <th>expression__third_child_category</th>\n",
       "      <th>expression__fourth_child_category</th>\n",
       "      <th>expression__expression_role</th>\n",
       "      <th>expression__height</th>\n",
       "      <th>expression__depth</th>\n",
       "      <th>expression__expertise_level</th>\n",
       "    </tr>\n",
       "  </thead>\n",
       "  <tbody>\n",
       "    <tr>\n",
       "      <th>181</th>\n",
       "      <td>327845</td>\n",
       "      <td>DictionaryLiteral</td>\n",
       "      <td>Indexing</td>\n",
       "      <td>StringLiteral</td>\n",
       "      <td>IntLiteral</td>\n",
       "      <td>StringLiteral</td>\n",
       "      <td>IntLiteral</td>\n",
       "      <td>Indexing</td>\n",
       "      <td>6</td>\n",
       "      <td>1</td>\n",
       "      <td>EXPERT</td>\n",
       "    </tr>\n",
       "    <tr>\n",
       "      <th>422</th>\n",
       "      <td>327565</td>\n",
       "      <td>DictionaryLiteral</td>\n",
       "      <td>Indexing</td>\n",
       "      <td>StringLiteral</td>\n",
       "      <td>IntLiteral</td>\n",
       "      <td>StringLiteral</td>\n",
       "      <td>IntLiteral</td>\n",
       "      <td>Indexing</td>\n",
       "      <td>6</td>\n",
       "      <td>1</td>\n",
       "      <td>EXPERT</td>\n",
       "    </tr>\n",
       "    <tr>\n",
       "      <th>533</th>\n",
       "      <td>327452</td>\n",
       "      <td>DictionaryLiteral</td>\n",
       "      <td>Indexing</td>\n",
       "      <td>StringLiteral</td>\n",
       "      <td>IntLiteral</td>\n",
       "      <td>StringLiteral</td>\n",
       "      <td>IntLiteral</td>\n",
       "      <td>Indexing</td>\n",
       "      <td>6</td>\n",
       "      <td>1</td>\n",
       "      <td>EXPERT</td>\n",
       "    </tr>\n",
       "    <tr>\n",
       "      <th>6531</th>\n",
       "      <td>320461</td>\n",
       "      <td>DictionaryLiteral</td>\n",
       "      <td>Call</td>\n",
       "      <td>StringLiteral</td>\n",
       "      <td>Variable</td>\n",
       "      <td>StringLiteral</td>\n",
       "      <td>Variable</td>\n",
       "      <td>CallArg</td>\n",
       "      <td>8</td>\n",
       "      <td>1</td>\n",
       "      <td>EXPERT</td>\n",
       "    </tr>\n",
       "    <tr>\n",
       "      <th>6553</th>\n",
       "      <td>320436</td>\n",
       "      <td>ListLiteral</td>\n",
       "      <td>Call</td>\n",
       "      <td>StringLiteral</td>\n",
       "      <td>StringLiteral</td>\n",
       "      <td>StringLiteral</td>\n",
       "      <td>None</td>\n",
       "      <td>CallArg</td>\n",
       "      <td>9</td>\n",
       "      <td>1</td>\n",
       "      <td>EXPERT</td>\n",
       "    </tr>\n",
       "    <tr>\n",
       "      <th>...</th>\n",
       "      <td>...</td>\n",
       "      <td>...</td>\n",
       "      <td>...</td>\n",
       "      <td>...</td>\n",
       "      <td>...</td>\n",
       "      <td>...</td>\n",
       "      <td>...</td>\n",
       "      <td>...</td>\n",
       "      <td>...</td>\n",
       "      <td>...</td>\n",
       "      <td>...</td>\n",
       "    </tr>\n",
       "    <tr>\n",
       "      <th>8097611</th>\n",
       "      <td>9334155</td>\n",
       "      <td>ListLiteral</td>\n",
       "      <td>AssignmentStmt</td>\n",
       "      <td>StringLiteral</td>\n",
       "      <td>StringLiteral</td>\n",
       "      <td>StringLiteral</td>\n",
       "      <td>StringLiteral</td>\n",
       "      <td>AssignRHS</td>\n",
       "      <td>2</td>\n",
       "      <td>1</td>\n",
       "      <td>BEGINNER</td>\n",
       "    </tr>\n",
       "    <tr>\n",
       "      <th>8097802</th>\n",
       "      <td>9333931</td>\n",
       "      <td>ListLiteral</td>\n",
       "      <td>Compare</td>\n",
       "      <td>StringLiteral</td>\n",
       "      <td>StringLiteral</td>\n",
       "      <td>StringLiteral</td>\n",
       "      <td>StringLiteral</td>\n",
       "      <td>Relational</td>\n",
       "      <td>6</td>\n",
       "      <td>1</td>\n",
       "      <td>BEGINNER</td>\n",
       "    </tr>\n",
       "    <tr>\n",
       "      <th>8098483</th>\n",
       "      <td>9334979</td>\n",
       "      <td>ListLiteral</td>\n",
       "      <td>AssignmentStmt</td>\n",
       "      <td>StringLiteral</td>\n",
       "      <td>StringLiteral</td>\n",
       "      <td>StringLiteral</td>\n",
       "      <td>StringLiteral</td>\n",
       "      <td>AssignRHS</td>\n",
       "      <td>2</td>\n",
       "      <td>1</td>\n",
       "      <td>BEGINNER</td>\n",
       "    </tr>\n",
       "    <tr>\n",
       "      <th>8098541</th>\n",
       "      <td>9335204</td>\n",
       "      <td>ListLiteral</td>\n",
       "      <td>AssignmentStmt</td>\n",
       "      <td>StringLiteral</td>\n",
       "      <td>StringLiteral</td>\n",
       "      <td>StringLiteral</td>\n",
       "      <td>StringLiteral</td>\n",
       "      <td>AssignRHS</td>\n",
       "      <td>2</td>\n",
       "      <td>1</td>\n",
       "      <td>BEGINNER</td>\n",
       "    </tr>\n",
       "    <tr>\n",
       "      <th>8101704</th>\n",
       "      <td>9338785</td>\n",
       "      <td>ListLiteral</td>\n",
       "      <td>AssignmentStmt</td>\n",
       "      <td>StringLiteral</td>\n",
       "      <td>StringLiteral</td>\n",
       "      <td>StringLiteral</td>\n",
       "      <td>StringLiteral</td>\n",
       "      <td>AssignRHS</td>\n",
       "      <td>2</td>\n",
       "      <td>1</td>\n",
       "      <td>BEGINNER</td>\n",
       "    </tr>\n",
       "  </tbody>\n",
       "</table>\n",
       "<p>9721 rows × 11 columns</p>\n",
       "</div>"
      ]
     },
     "execution_count": 13,
     "metadata": {},
     "output_type": "execute_result"
    }
   ],
   "execution_count": 13
  }
 ],
 "metadata": {
  "kernelspec": {
   "display_name": "Python 3 (ipykernel)",
   "language": "python",
   "name": "python3"
  },
  "language_info": {
   "codemirror_mode": {
    "name": "ipython",
    "version": 3
   },
   "file_extension": ".py",
   "mimetype": "text/x-python",
   "name": "python",
   "nbconvert_exporter": "python",
   "pygments_lexer": "ipython3",
   "version": "3.12.2"
  },
  "toc-autonumbering": true,
  "toc-showcode": false,
  "toc-showmarkdowntxt": false,
  "toc-showtags": false
 },
 "nbformat": 4,
 "nbformat_minor": 5
}
