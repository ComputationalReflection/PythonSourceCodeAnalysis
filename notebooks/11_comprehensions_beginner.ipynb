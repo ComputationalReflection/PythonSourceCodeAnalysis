{
 "cells": [
  {
   "metadata": {},
   "cell_type": "markdown",
   "source": [
    "# Comprehensions BEGINNER\n",
    "\n",
    "Esta tabla contiene la información de las comprehensiones."
   ],
   "id": "148ae8871134f924"
  },
  {
   "metadata": {},
   "cell_type": "markdown",
   "source": "## 1 - Obtencion de datos",
   "id": "d3c24a719032807f"
  },
  {
   "metadata": {
    "ExecuteTime": {
     "end_time": "2024-07-04T17:21:23.035702Z",
     "start_time": "2024-07-04T17:21:21.580349Z"
    }
   },
   "cell_type": "code",
   "source": [
    "import matplotlib.pyplot as plt\n",
    "from notebooks_utils import *\n",
    "from domains import *\n",
    "\n",
    "TARGET_FEATURE = 'comprehension__expertise_level'\n",
    "TARGET_CLASS = 'BEGINNER'\n",
    "full_table = get_data('comprehensions')\n",
    "\n",
    "instances_for_class_low = len(full_table[full_table[TARGET_FEATURE] == \"BEGINNER\"])\n",
    "instances_for_class_high = len(full_table[full_table[TARGET_FEATURE] == \"EXPERT\"])\n",
    "\n",
    "print(f\"The dataset contains {instances_for_class_low} ({instances_for_class_low/len(full_table)*100:.4}%) instances for BEGINNER class and {instances_for_class_high} ({instances_for_class_high/len(full_table)*100:.4}%) for EXPERT class.\")"
   ],
   "id": "9f0a949e91eb384b",
   "outputs": [
    {
     "name": "stdout",
     "output_type": "stream",
     "text": [
      "2024-07-04 19:21:23.027709 Data cache files found ...\n",
      "2024-07-04 19:21:23.030745 Data cache files successfully loaded!!\n",
      "The dataset contains 4982 (27.29%) instances for BEGINNER class and 13277 (72.71%) for EXPERT class.\n"
     ]
    }
   ],
   "execution_count": 1
  },
  {
   "metadata": {
    "ExecuteTime": {
     "end_time": "2024-07-04T17:21:23.044499Z",
     "start_time": "2024-07-04T17:21:23.036741Z"
    }
   },
   "cell_type": "code",
   "source": [
    "full_table = full_table[full_table[TARGET_FEATURE] == TARGET_CLASS]\n",
    "\n",
    "# Table name, features and target.\n",
    "TABLE_NAME = 'comprehensions'\n",
    "TABLE_FEATURES = ['comprehension__category', 'comprehension__number_of_ifs', 'comprehension__number_of_generators', 'comprehension__is_async']\n",
    "\n",
    "# Load features and target.\n",
    "X = full_table[TABLE_FEATURES]\n",
    "\n",
    "# Print information about the loaded table.\n",
    "print(f'Features shape: {X.shape}')\n",
    "\n",
    "print(f'As we can see the downloaded data contains a total of {X.shape[0]} instances. For each instance we have {X.shape[1]} attributes.')"
   ],
   "id": "526de24a79baf2d9",
   "outputs": [
    {
     "name": "stdout",
     "output_type": "stream",
     "text": [
      "Features shape: (4982, 4)\n",
      "As we can see the downloaded data contains a total of 4982 instances. For each instance we have 4 attributes.\n"
     ]
    }
   ],
   "execution_count": 2
  },
  {
   "metadata": {},
   "cell_type": "markdown",
   "source": [
    "## 2 - Exploracion de datos\n",
    "\n",
    "Una vez tenemos nuestra tabla en un dataframe el siguiente paso es explorarla para ver qué tipo de información contiene."
   ],
   "id": "bcda7cb784bf0a1"
  },
  {
   "metadata": {
    "ExecuteTime": {
     "end_time": "2024-07-04T17:21:23.054168Z",
     "start_time": "2024-07-04T17:21:23.045528Z"
    }
   },
   "cell_type": "code",
   "source": "print(X.info())",
   "id": "2eb3d09993235bcb",
   "outputs": [
    {
     "name": "stdout",
     "output_type": "stream",
     "text": [
      "<class 'pandas.core.frame.DataFrame'>\n",
      "Index: 4982 entries, 0 to 4981\n",
      "Data columns (total 4 columns):\n",
      " #   Column                               Non-Null Count  Dtype \n",
      "---  ------                               --------------  ----- \n",
      " 0   comprehension__category              4982 non-null   object\n",
      " 1   comprehension__number_of_ifs         4982 non-null   int64 \n",
      " 2   comprehension__number_of_generators  4982 non-null   int64 \n",
      " 3   comprehension__is_async              4982 non-null   bool  \n",
      "dtypes: bool(1), int64(2), object(1)\n",
      "memory usage: 160.6+ KB\n",
      "None\n"
     ]
    }
   ],
   "execution_count": 3
  },
  {
   "metadata": {},
   "cell_type": "markdown",
   "source": "Cómo podemos ver la tabla está compuesta por 2 variables numéricas, 1 boleanas y 1 de tipo objeto.",
   "id": "24f7607501c2e574"
  },
  {
   "metadata": {},
   "cell_type": "markdown",
   "source": [
    "### 2.1 - Valores Nulos \n",
    "Miramos si alguna de las variables que contiene la tabla contiene algún valor que sea nulo."
   ],
   "id": "63d4e4ed1d8d2c6c"
  },
  {
   "metadata": {
    "ExecuteTime": {
     "end_time": "2024-07-04T17:21:23.061723Z",
     "start_time": "2024-07-04T17:21:23.055174Z"
    }
   },
   "cell_type": "code",
   "source": "X.isnull().sum()",
   "id": "6c991380e6e0413e",
   "outputs": [
    {
     "data": {
      "text/plain": [
       "comprehension__category                0\n",
       "comprehension__number_of_ifs           0\n",
       "comprehension__number_of_generators    0\n",
       "comprehension__is_async                0\n",
       "dtype: int64"
      ]
     },
     "execution_count": 4,
     "metadata": {},
     "output_type": "execute_result"
    }
   ],
   "execution_count": 4
  },
  {
   "metadata": {
    "ExecuteTime": {
     "end_time": "2024-07-04T17:21:23.067638Z",
     "start_time": "2024-07-04T17:21:23.062729Z"
    }
   },
   "cell_type": "code",
   "source": "print_empty_cols(X)",
   "id": "18b2dfadf1719a4b",
   "outputs": [
    {
     "name": "stdout",
     "output_type": "stream",
     "text": [
      "comprehension__category\n",
      "-----------------------\n",
      "0 instancias no tienen un valor para la columna comprehension__category\n",
      "\n",
      "\n",
      "comprehension__number_of_ifs\n",
      "----------------------------\n",
      "0 instancias no tienen un valor para la columna comprehension__number_of_ifs\n",
      "\n",
      "\n",
      "comprehension__number_of_generators\n",
      "-----------------------------------\n",
      "0 instancias no tienen un valor para la columna comprehension__number_of_generators\n",
      "\n",
      "\n",
      "comprehension__is_async\n",
      "-----------------------\n",
      "0 instancias no tienen un valor para la columna comprehension__is_async\n",
      "\n",
      "\n"
     ]
    }
   ],
   "execution_count": 5
  },
  {
   "metadata": {},
   "cell_type": "markdown",
   "source": "### 2.2 - Describimos los valores de las variables de la tabla.",
   "id": "5bb94c0f81c08024"
  },
  {
   "metadata": {
    "ExecuteTime": {
     "end_time": "2024-07-04T17:21:23.089860Z",
     "start_time": "2024-07-04T17:21:23.068646Z"
    }
   },
   "cell_type": "code",
   "source": "np.transpose(X.describe(percentiles=[.25, .50, .75], include = ['object', 'float', 'bool', 'int']))",
   "id": "74bba302a29fbfd5",
   "outputs": [
    {
     "data": {
      "text/plain": [
       "                                      count unique                     top  \\\n",
       "comprehension__category                4982      4  GeneratorComprehension   \n",
       "comprehension__number_of_ifs         4982.0    NaN                     NaN   \n",
       "comprehension__number_of_generators  4982.0    NaN                     NaN   \n",
       "comprehension__is_async                4982      1                   False   \n",
       "\n",
       "                                     freq      mean       std  min  25%  50%  \\\n",
       "comprehension__category              2414       NaN       NaN  NaN  NaN  NaN   \n",
       "comprehension__number_of_ifs          NaN  0.251907  0.436917  0.0  0.0  0.0   \n",
       "comprehension__number_of_generators   NaN  1.034123   0.19438  1.0  1.0  1.0   \n",
       "comprehension__is_async              4982       NaN       NaN  NaN  NaN  NaN   \n",
       "\n",
       "                                     75%  max  \n",
       "comprehension__category              NaN  NaN  \n",
       "comprehension__number_of_ifs         1.0  2.0  \n",
       "comprehension__number_of_generators  1.0  3.0  \n",
       "comprehension__is_async              NaN  NaN  "
      ],
      "text/html": [
       "<div>\n",
       "<style scoped>\n",
       "    .dataframe tbody tr th:only-of-type {\n",
       "        vertical-align: middle;\n",
       "    }\n",
       "\n",
       "    .dataframe tbody tr th {\n",
       "        vertical-align: top;\n",
       "    }\n",
       "\n",
       "    .dataframe thead th {\n",
       "        text-align: right;\n",
       "    }\n",
       "</style>\n",
       "<table border=\"1\" class=\"dataframe\">\n",
       "  <thead>\n",
       "    <tr style=\"text-align: right;\">\n",
       "      <th></th>\n",
       "      <th>count</th>\n",
       "      <th>unique</th>\n",
       "      <th>top</th>\n",
       "      <th>freq</th>\n",
       "      <th>mean</th>\n",
       "      <th>std</th>\n",
       "      <th>min</th>\n",
       "      <th>25%</th>\n",
       "      <th>50%</th>\n",
       "      <th>75%</th>\n",
       "      <th>max</th>\n",
       "    </tr>\n",
       "  </thead>\n",
       "  <tbody>\n",
       "    <tr>\n",
       "      <th>comprehension__category</th>\n",
       "      <td>4982</td>\n",
       "      <td>4</td>\n",
       "      <td>GeneratorComprehension</td>\n",
       "      <td>2414</td>\n",
       "      <td>NaN</td>\n",
       "      <td>NaN</td>\n",
       "      <td>NaN</td>\n",
       "      <td>NaN</td>\n",
       "      <td>NaN</td>\n",
       "      <td>NaN</td>\n",
       "      <td>NaN</td>\n",
       "    </tr>\n",
       "    <tr>\n",
       "      <th>comprehension__number_of_ifs</th>\n",
       "      <td>4982.0</td>\n",
       "      <td>NaN</td>\n",
       "      <td>NaN</td>\n",
       "      <td>NaN</td>\n",
       "      <td>0.251907</td>\n",
       "      <td>0.436917</td>\n",
       "      <td>0.0</td>\n",
       "      <td>0.0</td>\n",
       "      <td>0.0</td>\n",
       "      <td>1.0</td>\n",
       "      <td>2.0</td>\n",
       "    </tr>\n",
       "    <tr>\n",
       "      <th>comprehension__number_of_generators</th>\n",
       "      <td>4982.0</td>\n",
       "      <td>NaN</td>\n",
       "      <td>NaN</td>\n",
       "      <td>NaN</td>\n",
       "      <td>1.034123</td>\n",
       "      <td>0.19438</td>\n",
       "      <td>1.0</td>\n",
       "      <td>1.0</td>\n",
       "      <td>1.0</td>\n",
       "      <td>1.0</td>\n",
       "      <td>3.0</td>\n",
       "    </tr>\n",
       "    <tr>\n",
       "      <th>comprehension__is_async</th>\n",
       "      <td>4982</td>\n",
       "      <td>1</td>\n",
       "      <td>False</td>\n",
       "      <td>4982</td>\n",
       "      <td>NaN</td>\n",
       "      <td>NaN</td>\n",
       "      <td>NaN</td>\n",
       "      <td>NaN</td>\n",
       "      <td>NaN</td>\n",
       "      <td>NaN</td>\n",
       "      <td>NaN</td>\n",
       "    </tr>\n",
       "  </tbody>\n",
       "</table>\n",
       "</div>"
      ]
     },
     "execution_count": 6,
     "metadata": {},
     "output_type": "execute_result"
    }
   ],
   "execution_count": 6
  },
  {
   "metadata": {},
   "cell_type": "markdown",
   "source": "Vamos a discretizar las variables numericas, agrupando conjuntos de valores en categorias, para hacer un análisis de los datos. Para cada variable es necesaario ver la distribucion de lo valores para hacer los bins (categorias).",
   "id": "9af3eb59b924a596"
  },
  {
   "metadata": {
    "ExecuteTime": {
     "end_time": "2024-07-04T17:21:23.114326Z",
     "start_time": "2024-07-04T17:21:23.090876Z"
    }
   },
   "cell_type": "code",
   "source": [
    "# DISCRETIZATION\n",
    "X_copy = X.copy()\n",
    "\n",
    "discretized_columns = {\n",
    "    \"comprehension__number_of_ifs\": [(0.0, 0.0), (0.0, inf)],  # min: 0.0 max: 2.0\n",
    "    \"comprehension__number_of_generators\": [(0.0, 1.0), (1.0, 1.0), (1.0, inf)],  # min: 1.0 max: 4.0\n",
    "}\n",
    "\n",
    "discretize_columns(X_copy, discretized_columns)\n",
    "    \n",
    "# SINGLE FEATURE\n",
    "print(\"--- SINGLE FEATURE ---\")\n",
    "print(get_statistics(X_copy, ['comprehension__number_of_ifs'], 10))\n",
    "print(get_statistics(X_copy, ['comprehension__number_of_generators'], 10))\n",
    "print(get_statistics(full_table, ['comprehension__category'], 10))\n",
    "print(get_statistics(X_copy, ['comprehension__is_async'], 10))\n",
    "\n",
    "\n",
    "# 2 FEATURES\n",
    "print(\"--- TWO FEATURES ---\")\n",
    "#print(get_statistics(X_copy, ['module__function_defs_pct', 'module__number_of_classes'], 10))\n",
    "\n",
    "# 3 FEATURES\n",
    "print(\"--- THREE FEATURES ---\")\n",
    "#print(get_statistics(X_copy, ['module__class_defs_pct', 'module__function_defs_pct', 'module__enum_defs_pct'], 10))"
   ],
   "id": "6baf20dd3e3ca759",
   "outputs": [
    {
     "name": "stdout",
     "output_type": "stream",
     "text": [
      "--- SINGLE FEATURE ---\n",
      "comprehension__number_of_ifs  count  percentage\n",
      "                   [0.0_0.0]   3733   74.929747\n",
      "                   [0.0_inf]   1249   25.070253\n",
      "\n",
      "comprehension__number_of_generators  count  percentage\n",
      "                          [1.0_1.0]   4824   96.828583\n",
      "                          [1.0_inf]    158    3.171417\n",
      "\n",
      "comprehension__category  count  percentage\n",
      " GeneratorComprehension   2414   48.454436\n",
      "      ListComprehension   2166   43.476515\n",
      "      DictComprehension    289    5.800883\n",
      "       SetComprehension    113    2.268165\n",
      "\n",
      " comprehension__is_async  count  percentage\n",
      "                   False   4982       100.0\n",
      "\n",
      "--- TWO FEATURES ---\n",
      "--- THREE FEATURES ---\n"
     ]
    }
   ],
   "execution_count": 7
  },
  {
   "metadata": {
    "ExecuteTime": {
     "end_time": "2024-07-04T17:21:23.121345Z",
     "start_time": "2024-07-04T17:21:23.115341Z"
    }
   },
   "cell_type": "code",
   "source": [
    "def normalize_datatypes(X:pd.DataFrame) -> (pd.DataFrame, [str]):\n",
    "    X = pd.get_dummies(X)\n",
    "    X = X.astype('float32')        \n",
    "    columns_names = X.columns.tolist()\n",
    "    return X, columns_names\n",
    "\n",
    "X, TABLE_FEATURES = normalize_datatypes(X)\n",
    "# Print information about the loaded table\n",
    "print(f'Features shape: {X.shape}')"
   ],
   "id": "5084c89dcb377a92",
   "outputs": [
    {
     "name": "stdout",
     "output_type": "stream",
     "text": [
      "Features shape: (4982, 7)\n"
     ]
    }
   ],
   "execution_count": 8
  },
  {
   "metadata": {},
   "cell_type": "markdown",
   "source": "#### Muestra la matriz de correlación de Spearman entre las variables de la tabla.",
   "id": "ed8befe21328a079"
  },
  {
   "metadata": {
    "ExecuteTime": {
     "end_time": "2024-07-04T17:21:23.453488Z",
     "start_time": "2024-07-04T17:21:23.122353Z"
    }
   },
   "cell_type": "code",
   "source": "sns.heatmap(X.corr(method='spearman'), annot=True)",
   "id": "dea960d18d682104",
   "outputs": [
    {
     "data": {
      "text/plain": [
       "<Axes: >"
      ]
     },
     "execution_count": 9,
     "metadata": {},
     "output_type": "execute_result"
    },
    {
     "data": {
      "text/plain": [
       "<Figure size 640x480 with 2 Axes>"
      ],
      "image/png": "[encoded data removed]"
     },
     "metadata": {},
     "output_type": "display_data"
    }
   ],
   "execution_count": 9
  },
  {
   "metadata": {},
   "cell_type": "markdown",
   "source": [
    "## 3 - Detección de valores atípicos (outliers)\n",
    "## Univariate\n",
    "## Analisis detallado de variables\n",
    "Para cada una de las 4 variable (1 booleanas, 2 numericas y 1 categóricas) se hara un analisis detallado"
   ],
   "id": "599c97eec7b7d283"
  },
  {
   "metadata": {},
   "cell_type": "markdown",
   "source": [
    "### Variable is_async (1/4)\n",
    "Esta variable es de tipo booleano y representa si la comprehension es asincrona. El primer paso es hacer un análisis visual de como se distribuyen los valores de la variable."
   ],
   "id": "6abba739e46da213"
  },
  {
   "metadata": {
    "ExecuteTime": {
     "end_time": "2024-07-04T17:21:23.548512Z",
     "start_time": "2024-07-04T17:21:23.454493Z"
    }
   },
   "cell_type": "code",
   "source": [
    "plt.xticks([0, 1], ['False', 'True'])\n",
    "sns.histplot(X['comprehension__is_async'], discrete=True)"
   ],
   "id": "4ab35b2ef94a3379",
   "outputs": [
    {
     "data": {
      "text/plain": [
       "<Axes: xlabel='comprehension__is_async', ylabel='Count'>"
      ]
     },
     "execution_count": 10,
     "metadata": {},
     "output_type": "execute_result"
    },
    {
     "data": {
      "text/plain": [
       "<Figure size 640x480 with 1 Axes>"
      ],
      "image/png": "[encoded data removed]"
     },
     "metadata": {},
     "output_type": "display_data"
    }
   ],
   "execution_count": 10
  },
  {
   "metadata": {
    "ExecuteTime": {
     "end_time": "2024-07-04T17:21:23.555533Z",
     "start_time": "2024-07-04T17:21:23.549517Z"
    }
   },
   "cell_type": "code",
   "source": [
    "num_true_values = len(X[X['comprehension__is_async'] == True])\n",
    "num_false_values = len(X[X['comprehension__is_async'] == False])\n",
    "std = X['comprehension__is_async'].std()\n",
    "freq_true = len(X[X['comprehension__is_async'] == True]) / len(X['comprehension__is_async'])\n",
    "freq_false = len(X[X['comprehension__is_async'] == False]) / len(X['comprehension__is_async'])\n",
    "print(f'La variable is_async contiene {num_true_values} valores verdaderos y {num_false_values} valores falsos. Y, la desviación típica es de {std}')\n",
    "print(f'La frecuencia con la que programa puede tener la variable is_async a True es {freq_true}.')\n",
    "print(f'La frecuencia con la que programa puede tener la variable is_async a False es {freq_false}.')"
   ],
   "id": "f4a042829ae6fac5",
   "outputs": [
    {
     "name": "stdout",
     "output_type": "stream",
     "text": [
      "La variable is_async contiene 0 valores verdaderos y 4982 valores falsos. Y, la desviación típica es de 0.0\n",
      "La frecuencia con la que programa puede tener la variable is_async a True es 0.0.\n",
      "La frecuencia con la que programa puede tener la variable is_async a False es 1.0.\n"
     ]
    }
   ],
   "execution_count": 11
  },
  {
   "metadata": {
    "ExecuteTime": {
     "end_time": "2024-07-04T17:21:23.560315Z",
     "start_time": "2024-07-04T17:21:23.556538Z"
    }
   },
   "cell_type": "code",
   "source": [
    "possible_values = [True, False]\n",
    "print_frequency_anal_for_cat_var(X, 'comprehension__is_async', possible_values)"
   ],
   "id": "c614dd60d0ab8e5b",
   "outputs": [
    {
     "name": "stdout",
     "output_type": "stream",
     "text": [
      "La variable comprehension__is_async contiene 2 valores distintos.\n",
      "El umbral de outlier es de 0.1%\n",
      "La variable comprehension__is_async toma el valor de 0.0 en un 100.0% de los items.\n",
      "La variable comprehension__is_async toma el valor de True en un 0.0% de los items. [OUTLIER]\n"
     ]
    }
   ],
   "execution_count": 12
  },
  {
   "metadata": {
    "ExecuteTime": {
     "end_time": "2024-07-04T17:21:23.577614Z",
     "start_time": "2024-07-04T17:21:23.561321Z"
    }
   },
   "cell_type": "code",
   "source": "X[X['comprehension__is_async'] == True].describe(percentiles=[.25, .50, .75], include = ['object', 'float', 'bool', 'int'])",
   "id": "6c33bdd1420008cf",
   "outputs": [
    {
     "data": {
      "text/plain": [
       "       comprehension__number_of_ifs  comprehension__number_of_generators  \\\n",
       "count                           0.0                                  0.0   \n",
       "mean                            NaN                                  NaN   \n",
       "std                             NaN                                  NaN   \n",
       "min                             NaN                                  NaN   \n",
       "25%                             NaN                                  NaN   \n",
       "50%                             NaN                                  NaN   \n",
       "75%                             NaN                                  NaN   \n",
       "max                             NaN                                  NaN   \n",
       "\n",
       "       comprehension__is_async  comprehension__category_DictComprehension  \\\n",
       "count                      0.0                                        0.0   \n",
       "mean                       NaN                                        NaN   \n",
       "std                        NaN                                        NaN   \n",
       "min                        NaN                                        NaN   \n",
       "25%                        NaN                                        NaN   \n",
       "50%                        NaN                                        NaN   \n",
       "75%                        NaN                                        NaN   \n",
       "max                        NaN                                        NaN   \n",
       "\n",
       "       comprehension__category_GeneratorComprehension  \\\n",
       "count                                             0.0   \n",
       "mean                                              NaN   \n",
       "std                                               NaN   \n",
       "min                                               NaN   \n",
       "25%                                               NaN   \n",
       "50%                                               NaN   \n",
       "75%                                               NaN   \n",
       "max                                               NaN   \n",
       "\n",
       "       comprehension__category_ListComprehension  \\\n",
       "count                                        0.0   \n",
       "mean                                         NaN   \n",
       "std                                          NaN   \n",
       "min                                          NaN   \n",
       "25%                                          NaN   \n",
       "50%                                          NaN   \n",
       "75%                                          NaN   \n",
       "max                                          NaN   \n",
       "\n",
       "       comprehension__category_SetComprehension  \n",
       "count                                       0.0  \n",
       "mean                                        NaN  \n",
       "std                                         NaN  \n",
       "min                                         NaN  \n",
       "25%                                         NaN  \n",
       "50%                                         NaN  \n",
       "75%                                         NaN  \n",
       "max                                         NaN  "
      ],
      "text/html": [
       "<div>\n",
       "<style scoped>\n",
       "    .dataframe tbody tr th:only-of-type {\n",
       "        vertical-align: middle;\n",
       "    }\n",
       "\n",
       "    .dataframe tbody tr th {\n",
       "        vertical-align: top;\n",
       "    }\n",
       "\n",
       "    .dataframe thead th {\n",
       "        text-align: right;\n",
       "    }\n",
       "</style>\n",
       "<table border=\"1\" class=\"dataframe\">\n",
       "  <thead>\n",
       "    <tr style=\"text-align: right;\">\n",
       "      <th></th>\n",
       "      <th>comprehension__number_of_ifs</th>\n",
       "      <th>comprehension__number_of_generators</th>\n",
       "      <th>comprehension__is_async</th>\n",
       "      <th>comprehension__category_DictComprehension</th>\n",
       "      <th>comprehension__category_GeneratorComprehension</th>\n",
       "      <th>comprehension__category_ListComprehension</th>\n",
       "      <th>comprehension__category_SetComprehension</th>\n",
       "    </tr>\n",
       "  </thead>\n",
       "  <tbody>\n",
       "    <tr>\n",
       "      <th>count</th>\n",
       "      <td>0.0</td>\n",
       "      <td>0.0</td>\n",
       "      <td>0.0</td>\n",
       "      <td>0.0</td>\n",
       "      <td>0.0</td>\n",
       "      <td>0.0</td>\n",
       "      <td>0.0</td>\n",
       "    </tr>\n",
       "    <tr>\n",
       "      <th>mean</th>\n",
       "      <td>NaN</td>\n",
       "      <td>NaN</td>\n",
       "      <td>NaN</td>\n",
       "      <td>NaN</td>\n",
       "      <td>NaN</td>\n",
       "      <td>NaN</td>\n",
       "      <td>NaN</td>\n",
       "    </tr>\n",
       "    <tr>\n",
       "      <th>std</th>\n",
       "      <td>NaN</td>\n",
       "      <td>NaN</td>\n",
       "      <td>NaN</td>\n",
       "      <td>NaN</td>\n",
       "      <td>NaN</td>\n",
       "      <td>NaN</td>\n",
       "      <td>NaN</td>\n",
       "    </tr>\n",
       "    <tr>\n",
       "      <th>min</th>\n",
       "      <td>NaN</td>\n",
       "      <td>NaN</td>\n",
       "      <td>NaN</td>\n",
       "      <td>NaN</td>\n",
       "      <td>NaN</td>\n",
       "      <td>NaN</td>\n",
       "      <td>NaN</td>\n",
       "    </tr>\n",
       "    <tr>\n",
       "      <th>25%</th>\n",
       "      <td>NaN</td>\n",
       "      <td>NaN</td>\n",
       "      <td>NaN</td>\n",
       "      <td>NaN</td>\n",
       "      <td>NaN</td>\n",
       "      <td>NaN</td>\n",
       "      <td>NaN</td>\n",
       "    </tr>\n",
       "    <tr>\n",
       "      <th>50%</th>\n",
       "      <td>NaN</td>\n",
       "      <td>NaN</td>\n",
       "      <td>NaN</td>\n",
       "      <td>NaN</td>\n",
       "      <td>NaN</td>\n",
       "      <td>NaN</td>\n",
       "      <td>NaN</td>\n",
       "    </tr>\n",
       "    <tr>\n",
       "      <th>75%</th>\n",
       "      <td>NaN</td>\n",
       "      <td>NaN</td>\n",
       "      <td>NaN</td>\n",
       "      <td>NaN</td>\n",
       "      <td>NaN</td>\n",
       "      <td>NaN</td>\n",
       "      <td>NaN</td>\n",
       "    </tr>\n",
       "    <tr>\n",
       "      <th>max</th>\n",
       "      <td>NaN</td>\n",
       "      <td>NaN</td>\n",
       "      <td>NaN</td>\n",
       "      <td>NaN</td>\n",
       "      <td>NaN</td>\n",
       "      <td>NaN</td>\n",
       "      <td>NaN</td>\n",
       "    </tr>\n",
       "  </tbody>\n",
       "</table>\n",
       "</div>"
      ]
     },
     "execution_count": 13,
     "metadata": {},
     "output_type": "execute_result"
    }
   ],
   "execution_count": 13
  },
  {
   "metadata": {},
   "cell_type": "markdown",
   "source": [
    "### IMPORTANTE\n",
    "La variable nunca toma el valor verdadero"
   ],
   "id": "e88ac174e3245422"
  },
  {
   "metadata": {},
   "cell_type": "markdown",
   "source": [
    "### Variable number_of_ifs (2/4)\n",
    "Esta variable representa el número de clausulas if en la comprehension. Como vimos en la descripción de la tabla esta varibale adopta valores en el rango 0 - 2. Con una media de 0.25."
   ],
   "id": "119fc307a9194a96"
  },
  {
   "metadata": {
    "ExecuteTime": {
     "end_time": "2024-07-04T17:21:23.710375Z",
     "start_time": "2024-07-04T17:21:23.579619Z"
    }
   },
   "cell_type": "code",
   "source": "sns.stripplot(X['comprehension__number_of_ifs'])",
   "id": "5efd7fbb4f34563d",
   "outputs": [
    {
     "data": {
      "text/plain": [
       "<Axes: ylabel='comprehension__number_of_ifs'>"
      ]
     },
     "execution_count": 14,
     "metadata": {},
     "output_type": "execute_result"
    },
    {
     "data": {
      "text/plain": [
       "<Figure size 640x480 with 1 Axes>"
      ],
      "image/png": "[encoded data removed]"
     },
     "metadata": {},
     "output_type": "display_data"
    }
   ],
   "execution_count": 14
  },
  {
   "metadata": {
    "ExecuteTime": {
     "end_time": "2024-07-04T17:21:23.718538Z",
     "start_time": "2024-07-04T17:21:23.711382Z"
    }
   },
   "cell_type": "code",
   "source": "print_outliers_for_df_column(X, 'comprehension__number_of_ifs')",
   "id": "e5649a2923239004",
   "outputs": [
    {
     "name": "stdout",
     "output_type": "stream",
     "text": [
      "El coeficiente MC (Medcouple Coefficient) de balanceo es: 0.6555878818035126\n",
      "Rango valores atípicos extremos (Tukey): [-3.0,4.0]\n",
      "Rango valores atípicos leves (Tukey): [-1.5,2.5]\n",
      "Rango valores atípicos extremos (Fixed BoxPlot): [-0.15120897202550937,21.652092279637145]\n",
      "-3.0IQR: 0 instancias tienen un valor para comprehension__number_of_ifs inferior a -3.0 (Q1-3*IQR) para comprehension__number_of_ifs. Representando un 0.0% del total de instancias.\n",
      "-1.5IQR: 0 instancias tienen un valor para comprehension__number_of_ifs inferior a -1.5 (Q1-1.5*IQR) para comprehension__number_of_ifs. Representando un 0.0% del total de instancias.\n",
      "+1.5IQR: 0 instancias tienen un valor para comprehension__number_of_ifs superior a 2.5 (Q3+1.5*IQR) para comprehension__number_of_ifs. Representando un 0.0% del total de instancias.\n",
      "+3.0IQR: 0 instancias tienen un valor para comprehension__number_of_ifs superior a 4.0 (Q3-3*IQR) para comprehension__number_of_ifs. Representando un 0.0% del total de instancias.\n",
      "L: 0 instancias tienen un valor para comprehension__number_of_ifs inferior a -0.15120897202550937 para comprehension__number_of_ifs. Representando un 0.0% del total de instancias.\n",
      "U: 0 instancias tienen un valor para comprehension__number_of_ifs superior a 21.652092279637145 para comprehension__number_of_ifs. Representando un 0.0% del total de instancias.\n"
     ]
    }
   ],
   "execution_count": 15
  },
  {
   "metadata": {
    "ExecuteTime": {
     "end_time": "2024-07-04T17:21:23.738686Z",
     "start_time": "2024-07-04T17:21:23.719543Z"
    }
   },
   "cell_type": "code",
   "source": "X[X['comprehension__number_of_ifs'] > 0].describe(percentiles=[.25, .50, .75], include = ['object', 'float', 'bool', 'int'])",
   "id": "5c5e0e6eb4cd173",
   "outputs": [
    {
     "data": {
      "text/plain": [
       "       comprehension__number_of_ifs  comprehension__number_of_generators  \\\n",
       "count                   1249.000000                          1249.000000   \n",
       "mean                       1.004804                             1.032826   \n",
       "std                        0.069171                             0.178253   \n",
       "min                        1.000000                             1.000000   \n",
       "25%                        1.000000                             1.000000   \n",
       "50%                        1.000000                             1.000000   \n",
       "75%                        1.000000                             1.000000   \n",
       "max                        2.000000                             2.000000   \n",
       "\n",
       "       comprehension__is_async  comprehension__category_DictComprehension  \\\n",
       "count                   1249.0                                1249.000000   \n",
       "mean                       0.0                                   0.041633   \n",
       "std                        0.0                                   0.199830   \n",
       "min                        0.0                                   0.000000   \n",
       "25%                        0.0                                   0.000000   \n",
       "50%                        0.0                                   0.000000   \n",
       "75%                        0.0                                   0.000000   \n",
       "max                        0.0                                   1.000000   \n",
       "\n",
       "       comprehension__category_GeneratorComprehension  \\\n",
       "count                                     1249.000000   \n",
       "mean                                         0.397118   \n",
       "std                                          0.489497   \n",
       "min                                          0.000000   \n",
       "25%                                          0.000000   \n",
       "50%                                          0.000000   \n",
       "75%                                          1.000000   \n",
       "max                                          1.000000   \n",
       "\n",
       "       comprehension__category_ListComprehension  \\\n",
       "count                                1249.000000   \n",
       "mean                                    0.542834   \n",
       "std                                     0.498361   \n",
       "min                                     0.000000   \n",
       "25%                                     0.000000   \n",
       "50%                                     1.000000   \n",
       "75%                                     1.000000   \n",
       "max                                     1.000000   \n",
       "\n",
       "       comprehension__category_SetComprehension  \n",
       "count                               1249.000000  \n",
       "mean                                   0.018415  \n",
       "std                                    0.134499  \n",
       "min                                    0.000000  \n",
       "25%                                    0.000000  \n",
       "50%                                    0.000000  \n",
       "75%                                    0.000000  \n",
       "max                                    1.000000  "
      ],
      "text/html": [
       "<div>\n",
       "<style scoped>\n",
       "    .dataframe tbody tr th:only-of-type {\n",
       "        vertical-align: middle;\n",
       "    }\n",
       "\n",
       "    .dataframe tbody tr th {\n",
       "        vertical-align: top;\n",
       "    }\n",
       "\n",
       "    .dataframe thead th {\n",
       "        text-align: right;\n",
       "    }\n",
       "</style>\n",
       "<table border=\"1\" class=\"dataframe\">\n",
       "  <thead>\n",
       "    <tr style=\"text-align: right;\">\n",
       "      <th></th>\n",
       "      <th>comprehension__number_of_ifs</th>\n",
       "      <th>comprehension__number_of_generators</th>\n",
       "      <th>comprehension__is_async</th>\n",
       "      <th>comprehension__category_DictComprehension</th>\n",
       "      <th>comprehension__category_GeneratorComprehension</th>\n",
       "      <th>comprehension__category_ListComprehension</th>\n",
       "      <th>comprehension__category_SetComprehension</th>\n",
       "    </tr>\n",
       "  </thead>\n",
       "  <tbody>\n",
       "    <tr>\n",
       "      <th>count</th>\n",
       "      <td>1249.000000</td>\n",
       "      <td>1249.000000</td>\n",
       "      <td>1249.0</td>\n",
       "      <td>1249.000000</td>\n",
       "      <td>1249.000000</td>\n",
       "      <td>1249.000000</td>\n",
       "      <td>1249.000000</td>\n",
       "    </tr>\n",
       "    <tr>\n",
       "      <th>mean</th>\n",
       "      <td>1.004804</td>\n",
       "      <td>1.032826</td>\n",
       "      <td>0.0</td>\n",
       "      <td>0.041633</td>\n",
       "      <td>0.397118</td>\n",
       "      <td>0.542834</td>\n",
       "      <td>0.018415</td>\n",
       "    </tr>\n",
       "    <tr>\n",
       "      <th>std</th>\n",
       "      <td>0.069171</td>\n",
       "      <td>0.178253</td>\n",
       "      <td>0.0</td>\n",
       "      <td>0.199830</td>\n",
       "      <td>0.489497</td>\n",
       "      <td>0.498361</td>\n",
       "      <td>0.134499</td>\n",
       "    </tr>\n",
       "    <tr>\n",
       "      <th>min</th>\n",
       "      <td>1.000000</td>\n",
       "      <td>1.000000</td>\n",
       "      <td>0.0</td>\n",
       "      <td>0.000000</td>\n",
       "      <td>0.000000</td>\n",
       "      <td>0.000000</td>\n",
       "      <td>0.000000</td>\n",
       "    </tr>\n",
       "    <tr>\n",
       "      <th>25%</th>\n",
       "      <td>1.000000</td>\n",
       "      <td>1.000000</td>\n",
       "      <td>0.0</td>\n",
       "      <td>0.000000</td>\n",
       "      <td>0.000000</td>\n",
       "      <td>0.000000</td>\n",
       "      <td>0.000000</td>\n",
       "    </tr>\n",
       "    <tr>\n",
       "      <th>50%</th>\n",
       "      <td>1.000000</td>\n",
       "      <td>1.000000</td>\n",
       "      <td>0.0</td>\n",
       "      <td>0.000000</td>\n",
       "      <td>0.000000</td>\n",
       "      <td>1.000000</td>\n",
       "      <td>0.000000</td>\n",
       "    </tr>\n",
       "    <tr>\n",
       "      <th>75%</th>\n",
       "      <td>1.000000</td>\n",
       "      <td>1.000000</td>\n",
       "      <td>0.0</td>\n",
       "      <td>0.000000</td>\n",
       "      <td>1.000000</td>\n",
       "      <td>1.000000</td>\n",
       "      <td>0.000000</td>\n",
       "    </tr>\n",
       "    <tr>\n",
       "      <th>max</th>\n",
       "      <td>2.000000</td>\n",
       "      <td>2.000000</td>\n",
       "      <td>0.0</td>\n",
       "      <td>1.000000</td>\n",
       "      <td>1.000000</td>\n",
       "      <td>1.000000</td>\n",
       "      <td>1.000000</td>\n",
       "    </tr>\n",
       "  </tbody>\n",
       "</table>\n",
       "</div>"
      ]
     },
     "execution_count": 16,
     "metadata": {},
     "output_type": "execute_result"
    }
   ],
   "execution_count": 16
  },
  {
   "metadata": {},
   "cell_type": "markdown",
   "source": [
    "### Variable number_of_generators (3/4)\n",
    "Esta variable representa el número generators presentes en la comprehension. Como vimos en la descripción de la tabla esta varibale adopta valores en el rango 1 - 3. Con una media de 1.03."
   ],
   "id": "a92021ee6047bd1d"
  },
  {
   "metadata": {
    "ExecuteTime": {
     "end_time": "2024-07-04T17:21:23.869386Z",
     "start_time": "2024-07-04T17:21:23.739691Z"
    }
   },
   "cell_type": "code",
   "source": "sns.stripplot(X['comprehension__number_of_generators'])",
   "id": "1b8338fdb1c032b5",
   "outputs": [
    {
     "data": {
      "text/plain": [
       "<Axes: ylabel='comprehension__number_of_generators'>"
      ]
     },
     "execution_count": 17,
     "metadata": {},
     "output_type": "execute_result"
    },
    {
     "data": {
      "text/plain": [
       "<Figure size 640x480 with 1 Axes>"
      ],
      "image/png": "[encoded data removed]"
     },
     "metadata": {},
     "output_type": "display_data"
    }
   ],
   "execution_count": 17
  },
  {
   "metadata": {
    "ExecuteTime": {
     "end_time": "2024-07-04T17:21:23.877163Z",
     "start_time": "2024-07-04T17:21:23.870391Z"
    }
   },
   "cell_type": "code",
   "source": "print_outliers_for_df_column(X, 'comprehension__number_of_generators')",
   "id": "3444c461d823515d",
   "outputs": [
    {
     "name": "stdout",
     "output_type": "stream",
     "text": [
      "El coeficiente MC (Medcouple Coefficient) de balanceo es: 1.0\n",
      "Rango valores atípicos extremos (Tukey): [1.0,1.0]\n",
      "Rango valores atípicos leves (Tukey): [1.0,1.0]\n",
      "Rango valores atípicos extremos (Fixed BoxPlot): [1.0,1.0]\n",
      "-3.0IQR: 0 instancias tienen un valor para comprehension__number_of_generators inferior a 1.0 (Q1-3*IQR) para comprehension__number_of_generators. Representando un 0.0% del total de instancias.\n",
      "-1.5IQR: 0 instancias tienen un valor para comprehension__number_of_generators inferior a 1.0 (Q1-1.5*IQR) para comprehension__number_of_generators. Representando un 0.0% del total de instancias.\n",
      "+1.5IQR: 158 instancias tienen un valor para comprehension__number_of_generators superior a 1.0 (Q3+1.5*IQR) para comprehension__number_of_generators. Representando un 3.171% del total de instancias.\n",
      "+3.0IQR: 158 instancias tienen un valor para comprehension__number_of_generators superior a 1.0 (Q3-3*IQR) para comprehension__number_of_generators. Representando un 3.171% del total de instancias.\n",
      "L: 0 instancias tienen un valor para comprehension__number_of_generators inferior a 1.0 para comprehension__number_of_generators. Representando un 0.0% del total de instancias.\n",
      "U: 158 instancias tienen un valor para comprehension__number_of_generators superior a 1.0 para comprehension__number_of_generators. Representando un 3.171% del total de instancias.\n"
     ]
    }
   ],
   "execution_count": 18
  },
  {
   "metadata": {},
   "cell_type": "markdown",
   "source": "Describimos los valores de las variables de la tabla, cuando el valor de la variable es mayor que 1 (Todos los umbrales son 1)",
   "id": "8e4de9635121c6e7"
  },
  {
   "metadata": {
    "ExecuteTime": {
     "end_time": "2024-07-04T17:21:23.897053Z",
     "start_time": "2024-07-04T17:21:23.878169Z"
    }
   },
   "cell_type": "code",
   "source": "X[X['comprehension__number_of_generators'] > 1].describe(percentiles=[.25, .50, .75], include = ['object', 'float', 'bool', 'int'])",
   "id": "44b1c024f9d465e9",
   "outputs": [
    {
     "data": {
      "text/plain": [
       "       comprehension__number_of_ifs  comprehension__number_of_generators  \\\n",
       "count                    158.000000                           158.000000   \n",
       "mean                       0.297468                             2.075949   \n",
       "std                        0.535486                             0.265759   \n",
       "min                        0.000000                             2.000000   \n",
       "25%                        0.000000                             2.000000   \n",
       "50%                        0.000000                             2.000000   \n",
       "75%                        1.000000                             2.000000   \n",
       "max                        2.000000                             3.000000   \n",
       "\n",
       "       comprehension__is_async  comprehension__category_DictComprehension  \\\n",
       "count                    158.0                                      158.0   \n",
       "mean                       0.0                                        0.0   \n",
       "std                        0.0                                        0.0   \n",
       "min                        0.0                                        0.0   \n",
       "25%                        0.0                                        0.0   \n",
       "50%                        0.0                                        0.0   \n",
       "75%                        0.0                                        0.0   \n",
       "max                        0.0                                        0.0   \n",
       "\n",
       "       comprehension__category_GeneratorComprehension  \\\n",
       "count                                      158.000000   \n",
       "mean                                         0.626582   \n",
       "std                                          0.485250   \n",
       "min                                          0.000000   \n",
       "25%                                          0.000000   \n",
       "50%                                          1.000000   \n",
       "75%                                          1.000000   \n",
       "max                                          1.000000   \n",
       "\n",
       "       comprehension__category_ListComprehension  \\\n",
       "count                                 158.000000   \n",
       "mean                                    0.303797   \n",
       "std                                     0.461359   \n",
       "min                                     0.000000   \n",
       "25%                                     0.000000   \n",
       "50%                                     0.000000   \n",
       "75%                                     1.000000   \n",
       "max                                     1.000000   \n",
       "\n",
       "       comprehension__category_SetComprehension  \n",
       "count                                158.000000  \n",
       "mean                                   0.069620  \n",
       "std                                    0.255315  \n",
       "min                                    0.000000  \n",
       "25%                                    0.000000  \n",
       "50%                                    0.000000  \n",
       "75%                                    0.000000  \n",
       "max                                    1.000000  "
      ],
      "text/html": [
       "<div>\n",
       "<style scoped>\n",
       "    .dataframe tbody tr th:only-of-type {\n",
       "        vertical-align: middle;\n",
       "    }\n",
       "\n",
       "    .dataframe tbody tr th {\n",
       "        vertical-align: top;\n",
       "    }\n",
       "\n",
       "    .dataframe thead th {\n",
       "        text-align: right;\n",
       "    }\n",
       "</style>\n",
       "<table border=\"1\" class=\"dataframe\">\n",
       "  <thead>\n",
       "    <tr style=\"text-align: right;\">\n",
       "      <th></th>\n",
       "      <th>comprehension__number_of_ifs</th>\n",
       "      <th>comprehension__number_of_generators</th>\n",
       "      <th>comprehension__is_async</th>\n",
       "      <th>comprehension__category_DictComprehension</th>\n",
       "      <th>comprehension__category_GeneratorComprehension</th>\n",
       "      <th>comprehension__category_ListComprehension</th>\n",
       "      <th>comprehension__category_SetComprehension</th>\n",
       "    </tr>\n",
       "  </thead>\n",
       "  <tbody>\n",
       "    <tr>\n",
       "      <th>count</th>\n",
       "      <td>158.000000</td>\n",
       "      <td>158.000000</td>\n",
       "      <td>158.0</td>\n",
       "      <td>158.0</td>\n",
       "      <td>158.000000</td>\n",
       "      <td>158.000000</td>\n",
       "      <td>158.000000</td>\n",
       "    </tr>\n",
       "    <tr>\n",
       "      <th>mean</th>\n",
       "      <td>0.297468</td>\n",
       "      <td>2.075949</td>\n",
       "      <td>0.0</td>\n",
       "      <td>0.0</td>\n",
       "      <td>0.626582</td>\n",
       "      <td>0.303797</td>\n",
       "      <td>0.069620</td>\n",
       "    </tr>\n",
       "    <tr>\n",
       "      <th>std</th>\n",
       "      <td>0.535486</td>\n",
       "      <td>0.265759</td>\n",
       "      <td>0.0</td>\n",
       "      <td>0.0</td>\n",
       "      <td>0.485250</td>\n",
       "      <td>0.461359</td>\n",
       "      <td>0.255315</td>\n",
       "    </tr>\n",
       "    <tr>\n",
       "      <th>min</th>\n",
       "      <td>0.000000</td>\n",
       "      <td>2.000000</td>\n",
       "      <td>0.0</td>\n",
       "      <td>0.0</td>\n",
       "      <td>0.000000</td>\n",
       "      <td>0.000000</td>\n",
       "      <td>0.000000</td>\n",
       "    </tr>\n",
       "    <tr>\n",
       "      <th>25%</th>\n",
       "      <td>0.000000</td>\n",
       "      <td>2.000000</td>\n",
       "      <td>0.0</td>\n",
       "      <td>0.0</td>\n",
       "      <td>0.000000</td>\n",
       "      <td>0.000000</td>\n",
       "      <td>0.000000</td>\n",
       "    </tr>\n",
       "    <tr>\n",
       "      <th>50%</th>\n",
       "      <td>0.000000</td>\n",
       "      <td>2.000000</td>\n",
       "      <td>0.0</td>\n",
       "      <td>0.0</td>\n",
       "      <td>1.000000</td>\n",
       "      <td>0.000000</td>\n",
       "      <td>0.000000</td>\n",
       "    </tr>\n",
       "    <tr>\n",
       "      <th>75%</th>\n",
       "      <td>1.000000</td>\n",
       "      <td>2.000000</td>\n",
       "      <td>0.0</td>\n",
       "      <td>0.0</td>\n",
       "      <td>1.000000</td>\n",
       "      <td>1.000000</td>\n",
       "      <td>0.000000</td>\n",
       "    </tr>\n",
       "    <tr>\n",
       "      <th>max</th>\n",
       "      <td>2.000000</td>\n",
       "      <td>3.000000</td>\n",
       "      <td>0.0</td>\n",
       "      <td>0.0</td>\n",
       "      <td>1.000000</td>\n",
       "      <td>1.000000</td>\n",
       "      <td>1.000000</td>\n",
       "    </tr>\n",
       "  </tbody>\n",
       "</table>\n",
       "</div>"
      ]
     },
     "execution_count": 19,
     "metadata": {},
     "output_type": "execute_result"
    }
   ],
   "execution_count": 19
  },
  {
   "metadata": {},
   "cell_type": "markdown",
   "source": [
    "### Variable category (4/4)\n",
    "Esta variable es de tipo categórica y representa el tipo de comprehension."
   ],
   "id": "3237adcf6d852d54"
  },
  {
   "metadata": {
    "ExecuteTime": {
     "end_time": "2024-07-04T17:21:24.111563Z",
     "start_time": "2024-07-04T17:21:23.898059Z"
    }
   },
   "cell_type": "code",
   "source": "print_categorical_histogram(full_table, 'comprehension__category')",
   "id": "299706e14d9a3f2",
   "outputs": [
    {
     "data": {
      "text/plain": [
       "<Figure size 1200x600 with 1 Axes>"
      ],
      "image/png": "[encoded data removed]"
     },
     "metadata": {},
     "output_type": "display_data"
    }
   ],
   "execution_count": 20
  },
  {
   "metadata": {
    "ExecuteTime": {
     "end_time": "2024-07-04T17:21:24.119567Z",
     "start_time": "2024-07-04T17:21:24.112568Z"
    }
   },
   "cell_type": "code",
   "source": "print_frequency_anal_for_cat_var(full_table, 'comprehension__category')",
   "id": "f4253192e2301909",
   "outputs": [
    {
     "name": "stdout",
     "output_type": "stream",
     "text": [
      "La variable comprehension__category contiene 4 valores distintos.\n",
      "El umbral de outlier es de 0.05%\n",
      "La variable comprehension__category toma el valor de GeneratorComprehension en un 48.45% de los items.\n",
      "La variable comprehension__category toma el valor de ListComprehension en un 43.48% de los items.\n",
      "La variable comprehension__category toma el valor de DictComprehension en un 5.801% de los items.\n",
      "La variable comprehension__category toma el valor de SetComprehension en un 2.268% de los items.\n"
     ]
    }
   ],
   "execution_count": 21
  },
  {
   "metadata": {
    "ExecuteTime": {
     "end_time": "2024-07-04T17:21:24.124127Z",
     "start_time": "2024-07-04T17:21:24.119567Z"
    }
   },
   "cell_type": "code",
   "source": "print_values_usage_for_cat_var(full_table, 'comprehension__category', COMPREHENSION_CATEGORY_VALUES)",
   "id": "7bdca751c5277d49",
   "outputs": [
    {
     "name": "stdout",
     "output_type": "stream",
     "text": [
      "La variable comprehension__category puede tomar 4 valores distintos\n",
      "\t4 (100.0%) valores utilizados\n",
      "\t0 (0.0%) valores NO utilizados\n"
     ]
    }
   ],
   "execution_count": 22
  },
  {
   "metadata": {},
   "cell_type": "markdown",
   "source": [
    "## Multivariate\n",
    "\n",
    "Isolation forest algorithm"
   ],
   "id": "336fab1648bbb1c5"
  },
  {
   "metadata": {
    "ExecuteTime": {
     "end_time": "2024-07-04T17:21:24.617255Z",
     "start_time": "2024-07-04T17:21:24.125133Z"
    }
   },
   "cell_type": "code",
   "source": [
    "from sklearn.ensemble import  IsolationForest\n",
    "\n",
    "CONTAMINATION_FACTOR = 0.0012\n",
    "isof_model = IsolationForest(contamination=CONTAMINATION_FACTOR, random_state=0)\n",
    "isof_prediction = isof_model.fit_predict(X.values)\n",
    "mask = isof_prediction == -1\n",
    "full_table.loc[X.index[mask]]"
   ],
   "id": "e60c6e8e201d5cee",
   "outputs": [
    {
     "data": {
      "text/plain": [
       "     comprehension__category  comprehension__number_of_ifs  \\\n",
       "115         SetComprehension                             0   \n",
       "1061        SetComprehension                             0   \n",
       "1869        SetComprehension                             0   \n",
       "2677        SetComprehension                             0   \n",
       "3486        SetComprehension                             0   \n",
       "4291        SetComprehension                             0   \n",
       "\n",
       "      comprehension__number_of_generators  comprehension__is_async  \\\n",
       "115                                     3                    False   \n",
       "1061                                    3                    False   \n",
       "1869                                    3                    False   \n",
       "2677                                    3                    False   \n",
       "3486                                    3                    False   \n",
       "4291                                    3                    False   \n",
       "\n",
       "     comprehension__expertise_level  \n",
       "115                        BEGINNER  \n",
       "1061                       BEGINNER  \n",
       "1869                       BEGINNER  \n",
       "2677                       BEGINNER  \n",
       "3486                       BEGINNER  \n",
       "4291                       BEGINNER  "
      ],
      "text/html": [
       "<div>\n",
       "<style scoped>\n",
       "    .dataframe tbody tr th:only-of-type {\n",
       "        vertical-align: middle;\n",
       "    }\n",
       "\n",
       "    .dataframe tbody tr th {\n",
       "        vertical-align: top;\n",
       "    }\n",
       "\n",
       "    .dataframe thead th {\n",
       "        text-align: right;\n",
       "    }\n",
       "</style>\n",
       "<table border=\"1\" class=\"dataframe\">\n",
       "  <thead>\n",
       "    <tr style=\"text-align: right;\">\n",
       "      <th></th>\n",
       "      <th>comprehension__category</th>\n",
       "      <th>comprehension__number_of_ifs</th>\n",
       "      <th>comprehension__number_of_generators</th>\n",
       "      <th>comprehension__is_async</th>\n",
       "      <th>comprehension__expertise_level</th>\n",
       "    </tr>\n",
       "  </thead>\n",
       "  <tbody>\n",
       "    <tr>\n",
       "      <th>115</th>\n",
       "      <td>SetComprehension</td>\n",
       "      <td>0</td>\n",
       "      <td>3</td>\n",
       "      <td>False</td>\n",
       "      <td>BEGINNER</td>\n",
       "    </tr>\n",
       "    <tr>\n",
       "      <th>1061</th>\n",
       "      <td>SetComprehension</td>\n",
       "      <td>0</td>\n",
       "      <td>3</td>\n",
       "      <td>False</td>\n",
       "      <td>BEGINNER</td>\n",
       "    </tr>\n",
       "    <tr>\n",
       "      <th>1869</th>\n",
       "      <td>SetComprehension</td>\n",
       "      <td>0</td>\n",
       "      <td>3</td>\n",
       "      <td>False</td>\n",
       "      <td>BEGINNER</td>\n",
       "    </tr>\n",
       "    <tr>\n",
       "      <th>2677</th>\n",
       "      <td>SetComprehension</td>\n",
       "      <td>0</td>\n",
       "      <td>3</td>\n",
       "      <td>False</td>\n",
       "      <td>BEGINNER</td>\n",
       "    </tr>\n",
       "    <tr>\n",
       "      <th>3486</th>\n",
       "      <td>SetComprehension</td>\n",
       "      <td>0</td>\n",
       "      <td>3</td>\n",
       "      <td>False</td>\n",
       "      <td>BEGINNER</td>\n",
       "    </tr>\n",
       "    <tr>\n",
       "      <th>4291</th>\n",
       "      <td>SetComprehension</td>\n",
       "      <td>0</td>\n",
       "      <td>3</td>\n",
       "      <td>False</td>\n",
       "      <td>BEGINNER</td>\n",
       "    </tr>\n",
       "  </tbody>\n",
       "</table>\n",
       "</div>"
      ]
     },
     "execution_count": 23,
     "metadata": {},
     "output_type": "execute_result"
    }
   ],
   "execution_count": 23
  },
  {
   "metadata": {},
   "cell_type": "markdown",
   "source": [
    "### IMPORTANTE\n",
    "Revisar los 6 outliers detectados"
   ],
   "id": "f5ace38ffaa3dc07"
  },
  {
   "metadata": {
    "ExecuteTime": {
     "end_time": "2024-07-04T17:21:24.642650Z",
     "start_time": "2024-07-04T17:21:24.618262Z"
    }
   },
   "cell_type": "code",
   "source": [
    "# Outliers\n",
    "np.transpose(X[mask].describe(percentiles=[.25, .50, .75], include = ['object', 'float', 'bool', 'int']))"
   ],
   "id": "5d11aa9d6771f7d4",
   "outputs": [
    {
     "data": {
      "text/plain": [
       "                                                count  mean  std  min  25%  \\\n",
       "comprehension__number_of_ifs                      6.0   0.0  0.0  0.0  0.0   \n",
       "comprehension__number_of_generators               6.0   3.0  0.0  3.0  3.0   \n",
       "comprehension__is_async                           6.0   0.0  0.0  0.0  0.0   \n",
       "comprehension__category_DictComprehension         6.0   0.0  0.0  0.0  0.0   \n",
       "comprehension__category_GeneratorComprehension    6.0   0.0  0.0  0.0  0.0   \n",
       "comprehension__category_ListComprehension         6.0   0.0  0.0  0.0  0.0   \n",
       "comprehension__category_SetComprehension          6.0   1.0  0.0  1.0  1.0   \n",
       "\n",
       "                                                50%  75%  max  \n",
       "comprehension__number_of_ifs                    0.0  0.0  0.0  \n",
       "comprehension__number_of_generators             3.0  3.0  3.0  \n",
       "comprehension__is_async                         0.0  0.0  0.0  \n",
       "comprehension__category_DictComprehension       0.0  0.0  0.0  \n",
       "comprehension__category_GeneratorComprehension  0.0  0.0  0.0  \n",
       "comprehension__category_ListComprehension       0.0  0.0  0.0  \n",
       "comprehension__category_SetComprehension        1.0  1.0  1.0  "
      ],
      "text/html": [
       "<div>\n",
       "<style scoped>\n",
       "    .dataframe tbody tr th:only-of-type {\n",
       "        vertical-align: middle;\n",
       "    }\n",
       "\n",
       "    .dataframe tbody tr th {\n",
       "        vertical-align: top;\n",
       "    }\n",
       "\n",
       "    .dataframe thead th {\n",
       "        text-align: right;\n",
       "    }\n",
       "</style>\n",
       "<table border=\"1\" class=\"dataframe\">\n",
       "  <thead>\n",
       "    <tr style=\"text-align: right;\">\n",
       "      <th></th>\n",
       "      <th>count</th>\n",
       "      <th>mean</th>\n",
       "      <th>std</th>\n",
       "      <th>min</th>\n",
       "      <th>25%</th>\n",
       "      <th>50%</th>\n",
       "      <th>75%</th>\n",
       "      <th>max</th>\n",
       "    </tr>\n",
       "  </thead>\n",
       "  <tbody>\n",
       "    <tr>\n",
       "      <th>comprehension__number_of_ifs</th>\n",
       "      <td>6.0</td>\n",
       "      <td>0.0</td>\n",
       "      <td>0.0</td>\n",
       "      <td>0.0</td>\n",
       "      <td>0.0</td>\n",
       "      <td>0.0</td>\n",
       "      <td>0.0</td>\n",
       "      <td>0.0</td>\n",
       "    </tr>\n",
       "    <tr>\n",
       "      <th>comprehension__number_of_generators</th>\n",
       "      <td>6.0</td>\n",
       "      <td>3.0</td>\n",
       "      <td>0.0</td>\n",
       "      <td>3.0</td>\n",
       "      <td>3.0</td>\n",
       "      <td>3.0</td>\n",
       "      <td>3.0</td>\n",
       "      <td>3.0</td>\n",
       "    </tr>\n",
       "    <tr>\n",
       "      <th>comprehension__is_async</th>\n",
       "      <td>6.0</td>\n",
       "      <td>0.0</td>\n",
       "      <td>0.0</td>\n",
       "      <td>0.0</td>\n",
       "      <td>0.0</td>\n",
       "      <td>0.0</td>\n",
       "      <td>0.0</td>\n",
       "      <td>0.0</td>\n",
       "    </tr>\n",
       "    <tr>\n",
       "      <th>comprehension__category_DictComprehension</th>\n",
       "      <td>6.0</td>\n",
       "      <td>0.0</td>\n",
       "      <td>0.0</td>\n",
       "      <td>0.0</td>\n",
       "      <td>0.0</td>\n",
       "      <td>0.0</td>\n",
       "      <td>0.0</td>\n",
       "      <td>0.0</td>\n",
       "    </tr>\n",
       "    <tr>\n",
       "      <th>comprehension__category_GeneratorComprehension</th>\n",
       "      <td>6.0</td>\n",
       "      <td>0.0</td>\n",
       "      <td>0.0</td>\n",
       "      <td>0.0</td>\n",
       "      <td>0.0</td>\n",
       "      <td>0.0</td>\n",
       "      <td>0.0</td>\n",
       "      <td>0.0</td>\n",
       "    </tr>\n",
       "    <tr>\n",
       "      <th>comprehension__category_ListComprehension</th>\n",
       "      <td>6.0</td>\n",
       "      <td>0.0</td>\n",
       "      <td>0.0</td>\n",
       "      <td>0.0</td>\n",
       "      <td>0.0</td>\n",
       "      <td>0.0</td>\n",
       "      <td>0.0</td>\n",
       "      <td>0.0</td>\n",
       "    </tr>\n",
       "    <tr>\n",
       "      <th>comprehension__category_SetComprehension</th>\n",
       "      <td>6.0</td>\n",
       "      <td>1.0</td>\n",
       "      <td>0.0</td>\n",
       "      <td>1.0</td>\n",
       "      <td>1.0</td>\n",
       "      <td>1.0</td>\n",
       "      <td>1.0</td>\n",
       "      <td>1.0</td>\n",
       "    </tr>\n",
       "  </tbody>\n",
       "</table>\n",
       "</div>"
      ]
     },
     "execution_count": 24,
     "metadata": {},
     "output_type": "execute_result"
    }
   ],
   "execution_count": 24
  },
  {
   "metadata": {
    "ExecuteTime": {
     "end_time": "2024-07-04T17:21:24.666304Z",
     "start_time": "2024-07-04T17:21:24.643674Z"
    }
   },
   "cell_type": "code",
   "source": [
    "# Non-Outliers\n",
    "np.transpose(X[~mask].describe(percentiles=[.25, .50, .75], include = ['object', 'float', 'bool', 'int']))"
   ],
   "id": "a37ca1afebb5a061",
   "outputs": [
    {
     "data": {
      "text/plain": [
       "                                                 count      mean       std  \\\n",
       "comprehension__number_of_ifs                    4976.0  0.252211  0.437093   \n",
       "comprehension__number_of_generators             4976.0  1.031752  0.182106   \n",
       "comprehension__is_async                         4976.0  0.000000  0.000000   \n",
       "comprehension__category_DictComprehension       4976.0  0.058079  0.233916   \n",
       "comprehension__category_GeneratorComprehension  4976.0  0.485129  0.499829   \n",
       "comprehension__category_ListComprehension       4976.0  0.435289  0.495845   \n",
       "comprehension__category_SetComprehension        4976.0  0.021503  0.145069   \n",
       "\n",
       "                                                min  25%  50%  75%  max  \n",
       "comprehension__number_of_ifs                    0.0  0.0  0.0  1.0  2.0  \n",
       "comprehension__number_of_generators             1.0  1.0  1.0  1.0  3.0  \n",
       "comprehension__is_async                         0.0  0.0  0.0  0.0  0.0  \n",
       "comprehension__category_DictComprehension       0.0  0.0  0.0  0.0  1.0  \n",
       "comprehension__category_GeneratorComprehension  0.0  0.0  0.0  1.0  1.0  \n",
       "comprehension__category_ListComprehension       0.0  0.0  0.0  1.0  1.0  \n",
       "comprehension__category_SetComprehension        0.0  0.0  0.0  0.0  1.0  "
      ],
      "text/html": [
       "<div>\n",
       "<style scoped>\n",
       "    .dataframe tbody tr th:only-of-type {\n",
       "        vertical-align: middle;\n",
       "    }\n",
       "\n",
       "    .dataframe tbody tr th {\n",
       "        vertical-align: top;\n",
       "    }\n",
       "\n",
       "    .dataframe thead th {\n",
       "        text-align: right;\n",
       "    }\n",
       "</style>\n",
       "<table border=\"1\" class=\"dataframe\">\n",
       "  <thead>\n",
       "    <tr style=\"text-align: right;\">\n",
       "      <th></th>\n",
       "      <th>count</th>\n",
       "      <th>mean</th>\n",
       "      <th>std</th>\n",
       "      <th>min</th>\n",
       "      <th>25%</th>\n",
       "      <th>50%</th>\n",
       "      <th>75%</th>\n",
       "      <th>max</th>\n",
       "    </tr>\n",
       "  </thead>\n",
       "  <tbody>\n",
       "    <tr>\n",
       "      <th>comprehension__number_of_ifs</th>\n",
       "      <td>4976.0</td>\n",
       "      <td>0.252211</td>\n",
       "      <td>0.437093</td>\n",
       "      <td>0.0</td>\n",
       "      <td>0.0</td>\n",
       "      <td>0.0</td>\n",
       "      <td>1.0</td>\n",
       "      <td>2.0</td>\n",
       "    </tr>\n",
       "    <tr>\n",
       "      <th>comprehension__number_of_generators</th>\n",
       "      <td>4976.0</td>\n",
       "      <td>1.031752</td>\n",
       "      <td>0.182106</td>\n",
       "      <td>1.0</td>\n",
       "      <td>1.0</td>\n",
       "      <td>1.0</td>\n",
       "      <td>1.0</td>\n",
       "      <td>3.0</td>\n",
       "    </tr>\n",
       "    <tr>\n",
       "      <th>comprehension__is_async</th>\n",
       "      <td>4976.0</td>\n",
       "      <td>0.000000</td>\n",
       "      <td>0.000000</td>\n",
       "      <td>0.0</td>\n",
       "      <td>0.0</td>\n",
       "      <td>0.0</td>\n",
       "      <td>0.0</td>\n",
       "      <td>0.0</td>\n",
       "    </tr>\n",
       "    <tr>\n",
       "      <th>comprehension__category_DictComprehension</th>\n",
       "      <td>4976.0</td>\n",
       "      <td>0.058079</td>\n",
       "      <td>0.233916</td>\n",
       "      <td>0.0</td>\n",
       "      <td>0.0</td>\n",
       "      <td>0.0</td>\n",
       "      <td>0.0</td>\n",
       "      <td>1.0</td>\n",
       "    </tr>\n",
       "    <tr>\n",
       "      <th>comprehension__category_GeneratorComprehension</th>\n",
       "      <td>4976.0</td>\n",
       "      <td>0.485129</td>\n",
       "      <td>0.499829</td>\n",
       "      <td>0.0</td>\n",
       "      <td>0.0</td>\n",
       "      <td>0.0</td>\n",
       "      <td>1.0</td>\n",
       "      <td>1.0</td>\n",
       "    </tr>\n",
       "    <tr>\n",
       "      <th>comprehension__category_ListComprehension</th>\n",
       "      <td>4976.0</td>\n",
       "      <td>0.435289</td>\n",
       "      <td>0.495845</td>\n",
       "      <td>0.0</td>\n",
       "      <td>0.0</td>\n",
       "      <td>0.0</td>\n",
       "      <td>1.0</td>\n",
       "      <td>1.0</td>\n",
       "    </tr>\n",
       "    <tr>\n",
       "      <th>comprehension__category_SetComprehension</th>\n",
       "      <td>4976.0</td>\n",
       "      <td>0.021503</td>\n",
       "      <td>0.145069</td>\n",
       "      <td>0.0</td>\n",
       "      <td>0.0</td>\n",
       "      <td>0.0</td>\n",
       "      <td>0.0</td>\n",
       "      <td>1.0</td>\n",
       "    </tr>\n",
       "  </tbody>\n",
       "</table>\n",
       "</div>"
      ]
     },
     "execution_count": 25,
     "metadata": {},
     "output_type": "execute_result"
    }
   ],
   "execution_count": 25
  }
 ],
 "metadata": {
  "kernelspec": {
   "display_name": "Python 3",
   "language": "python",
   "name": "python3"
  },
  "language_info": {
   "codemirror_mode": {
    "name": "ipython",
    "version": 2
   },
   "file_extension": ".py",
   "mimetype": "text/x-python",
   "name": "python",
   "nbconvert_exporter": "python",
   "pygments_lexer": "ipython2",
   "version": "2.7.6"
  }
 },
 "nbformat": 4,
 "nbformat_minor": 5
}
