{
 "cells": [
  {
   "metadata": {},
   "cell_type": "markdown",
   "source": [
    "# CallArgs BEGINNER\n",
    "\n",
    "Esta tabla contiene la información adicional de las sentencias de tipo Call (llamadas a funciones).  --> ABEL COMPLETAR <--"
   ],
   "id": "148ae8871134f924"
  },
  {
   "metadata": {},
   "cell_type": "markdown",
   "source": "## 1 - Obtencion de datos",
   "id": "d3c24a719032807f"
  },
  {
   "metadata": {
    "ExecuteTime": {
     "end_time": "2024-07-04T17:26:13.141758Z",
     "start_time": "2024-07-04T17:26:10.916114Z"
    }
   },
   "cell_type": "code",
   "source": [
    "import matplotlib.pyplot as plt\n",
    "from notebooks_utils import *\n",
    "\n",
    "TARGET_FEATURE = 'callarg__expertise_level'\n",
    "TARGET_CLASS = 'BEGINNER'\n",
    "full_table = get_data('callargs')\n",
    "\n",
    "instances_for_class_low = len(full_table[full_table[TARGET_FEATURE] == \"BEGINNER\"])\n",
    "instances_for_class_high = len(full_table[full_table[TARGET_FEATURE] == \"EXPERT\"])\n",
    "\n",
    "print(f\"The dataset contains {instances_for_class_low} ({instances_for_class_low/len(full_table)*100:.4}%) instances for BEGINNER class and {instances_for_class_high} ({instances_for_class_high/len(full_table)*100:.4}%) for EXPERT class.\")"
   ],
   "id": "9f0a949e91eb384b",
   "outputs": [
    {
     "name": "stdout",
     "output_type": "stream",
     "text": [
      "2024-07-04 19:26:12.976471 Data cache files found ...\n",
      "2024-07-04 19:26:13.042516 Data cache files successfully loaded!!\n",
      "The dataset contains 338727 (39.37%) instances for BEGINNER class and 521668 (60.63%) for EXPERT class.\n"
     ]
    }
   ],
   "execution_count": 1
  },
  {
   "metadata": {
    "ExecuteTime": {
     "end_time": "2024-07-04T17:26:13.208376Z",
     "start_time": "2024-07-04T17:26:13.142763Z"
    }
   },
   "cell_type": "code",
   "source": [
    "full_table = full_table[full_table[TARGET_FEATURE] == TARGET_CLASS]\n",
    "\n",
    "# Table name, features and target.\n",
    "TABLE_NAME = 'callargs'\n",
    "TABLE_FEATURES = ['callarg__number_args', 'callarg__named_args_pct', 'callarg__double_star_args_pct']\n",
    "\n",
    "# Load features and target.\n",
    "X = full_table[TABLE_FEATURES]\n",
    "\n",
    "# Print information about the loaded table.\n",
    "print(f'Features shape: {X.shape}')\n",
    "\n",
    "print(f'As we can see the downloaded data contains a total of {X.shape[0]} instances. For each instance we have {X.shape[1]} attributes.')"
   ],
   "id": "80e1f614554795cb",
   "outputs": [
    {
     "name": "stdout",
     "output_type": "stream",
     "text": [
      "Features shape: (338727, 3)\n",
      "As we can see the downloaded data contains a total of 338727 instances. For each instance we have 3 attributes.\n"
     ]
    }
   ],
   "execution_count": 2
  },
  {
   "metadata": {},
   "cell_type": "markdown",
   "source": [
    "## 2 - Exploracion de datos\n",
    "\n",
    "Una vez tenemos nuestra tabla en un dataframe el siguiente paso es explorarla para ver qué tipo de información contiene."
   ],
   "id": "bcda7cb784bf0a1"
  },
  {
   "metadata": {
    "ExecuteTime": {
     "end_time": "2024-07-04T17:26:13.218935Z",
     "start_time": "2024-07-04T17:26:13.209382Z"
    }
   },
   "cell_type": "code",
   "source": "print(X.info())",
   "id": "2eb3d09993235bcb",
   "outputs": [
    {
     "name": "stdout",
     "output_type": "stream",
     "text": [
      "<class 'pandas.core.frame.DataFrame'>\n",
      "Index: 338727 entries, 0 to 338726\n",
      "Data columns (total 3 columns):\n",
      " #   Column                         Non-Null Count   Dtype  \n",
      "---  ------                         --------------   -----  \n",
      " 0   callarg__number_args           338727 non-null  int64  \n",
      " 1   callarg__named_args_pct        338727 non-null  float64\n",
      " 2   callarg__double_star_args_pct  338727 non-null  float64\n",
      "dtypes: float64(2), int64(1)\n",
      "memory usage: 10.3 MB\n",
      "None\n"
     ]
    }
   ],
   "execution_count": 3
  },
  {
   "metadata": {},
   "cell_type": "markdown",
   "source": "Cómo podemos ver la tabla está compuesta por 3 variables numéricas y 1 de tipo objeto.",
   "id": "24f7607501c2e574"
  },
  {
   "metadata": {},
   "cell_type": "markdown",
   "source": [
    "### 2.1 - Valores Nulos \n",
    "Miramos si alguna de las variables que contiene la tabla contiene algún valor que sea nulo."
   ],
   "id": "63d4e4ed1d8d2c6c"
  },
  {
   "metadata": {
    "ExecuteTime": {
     "end_time": "2024-07-04T17:26:13.227909Z",
     "start_time": "2024-07-04T17:26:13.219940Z"
    }
   },
   "cell_type": "code",
   "source": "X.isnull().sum()",
   "id": "6c991380e6e0413e",
   "outputs": [
    {
     "data": {
      "text/plain": [
       "callarg__number_args             0\n",
       "callarg__named_args_pct          0\n",
       "callarg__double_star_args_pct    0\n",
       "dtype: int64"
      ]
     },
     "execution_count": 4,
     "metadata": {},
     "output_type": "execute_result"
    }
   ],
   "execution_count": 4
  },
  {
   "metadata": {
    "ExecuteTime": {
     "end_time": "2024-07-04T17:26:13.234092Z",
     "start_time": "2024-07-04T17:26:13.228918Z"
    }
   },
   "cell_type": "code",
   "source": "print_empty_cols(X)",
   "id": "18b2dfadf1719a4b",
   "outputs": [
    {
     "name": "stdout",
     "output_type": "stream",
     "text": [
      "callarg__number_args\n",
      "--------------------\n",
      "0 instancias no tienen un valor para la columna callarg__number_args\n",
      "\n",
      "\n",
      "callarg__named_args_pct\n",
      "-----------------------\n",
      "0 instancias no tienen un valor para la columna callarg__named_args_pct\n",
      "\n",
      "\n",
      "callarg__double_star_args_pct\n",
      "-----------------------------\n",
      "0 instancias no tienen un valor para la columna callarg__double_star_args_pct\n",
      "\n",
      "\n"
     ]
    }
   ],
   "execution_count": 5
  },
  {
   "metadata": {},
   "cell_type": "markdown",
   "source": "### 2.2 - Describimos los valores de las variables de la tabla.",
   "id": "5bb94c0f81c08024"
  },
  {
   "metadata": {
    "ExecuteTime": {
     "end_time": "2024-07-04T17:26:13.275073Z",
     "start_time": "2024-07-04T17:26:13.235104Z"
    }
   },
   "cell_type": "code",
   "source": "np.transpose(X.describe(percentiles=[.25, .50, .75], include = ['object', 'float', 'bool', 'int']))",
   "id": "74bba302a29fbfd5",
   "outputs": [
    {
     "data": {
      "text/plain": [
       "                                  count      mean       std  min  25%  50%  \\\n",
       "callarg__number_args           338727.0  1.273441  1.052376  0.0  1.0  1.0   \n",
       "callarg__named_args_pct        338727.0  0.038775  0.171803  0.0  0.0  0.0   \n",
       "callarg__double_star_args_pct  338727.0  0.000011  0.002206  0.0  0.0  0.0   \n",
       "\n",
       "                               75%   max  \n",
       "callarg__number_args           2.0  49.0  \n",
       "callarg__named_args_pct        0.0   1.0  \n",
       "callarg__double_star_args_pct  0.0   0.5  "
      ],
      "text/html": [
       "<div>\n",
       "<style scoped>\n",
       "    .dataframe tbody tr th:only-of-type {\n",
       "        vertical-align: middle;\n",
       "    }\n",
       "\n",
       "    .dataframe tbody tr th {\n",
       "        vertical-align: top;\n",
       "    }\n",
       "\n",
       "    .dataframe thead th {\n",
       "        text-align: right;\n",
       "    }\n",
       "</style>\n",
       "<table border=\"1\" class=\"dataframe\">\n",
       "  <thead>\n",
       "    <tr style=\"text-align: right;\">\n",
       "      <th></th>\n",
       "      <th>count</th>\n",
       "      <th>mean</th>\n",
       "      <th>std</th>\n",
       "      <th>min</th>\n",
       "      <th>25%</th>\n",
       "      <th>50%</th>\n",
       "      <th>75%</th>\n",
       "      <th>max</th>\n",
       "    </tr>\n",
       "  </thead>\n",
       "  <tbody>\n",
       "    <tr>\n",
       "      <th>callarg__number_args</th>\n",
       "      <td>338727.0</td>\n",
       "      <td>1.273441</td>\n",
       "      <td>1.052376</td>\n",
       "      <td>0.0</td>\n",
       "      <td>1.0</td>\n",
       "      <td>1.0</td>\n",
       "      <td>2.0</td>\n",
       "      <td>49.0</td>\n",
       "    </tr>\n",
       "    <tr>\n",
       "      <th>callarg__named_args_pct</th>\n",
       "      <td>338727.0</td>\n",
       "      <td>0.038775</td>\n",
       "      <td>0.171803</td>\n",
       "      <td>0.0</td>\n",
       "      <td>0.0</td>\n",
       "      <td>0.0</td>\n",
       "      <td>0.0</td>\n",
       "      <td>1.0</td>\n",
       "    </tr>\n",
       "    <tr>\n",
       "      <th>callarg__double_star_args_pct</th>\n",
       "      <td>338727.0</td>\n",
       "      <td>0.000011</td>\n",
       "      <td>0.002206</td>\n",
       "      <td>0.0</td>\n",
       "      <td>0.0</td>\n",
       "      <td>0.0</td>\n",
       "      <td>0.0</td>\n",
       "      <td>0.5</td>\n",
       "    </tr>\n",
       "  </tbody>\n",
       "</table>\n",
       "</div>"
      ]
     },
     "execution_count": 6,
     "metadata": {},
     "output_type": "execute_result"
    }
   ],
   "execution_count": 6
  },
  {
   "metadata": {},
   "cell_type": "markdown",
   "source": "Vamos a discretizar las variables numericas, agrupando conjuntos de valores en categorias, para hacer un análisis de los datos. Para cada variable es necesaario ver la distribucion de lo valores para hacer los bins (categorias).",
   "id": "9af3eb59b924a596"
  },
  {
   "metadata": {
    "ExecuteTime": {
     "end_time": "2024-07-04T17:26:14.181170Z",
     "start_time": "2024-07-04T17:26:13.276094Z"
    }
   },
   "cell_type": "code",
   "source": [
    "# DISCRETIZATION\n",
    "X_copy = X.copy()\n",
    "\n",
    "discretized_columns = {\n",
    "    \"callarg__number_args\": [(0.0, 1.0), (1.0, 1.0), (1.0, 2.0), (2.0, inf)],  # min: 0.0 max: 96.0\n",
    "    \"callarg__named_args_pct\": [(0.0, 0.0), (0.0, inf)],  # min: 0.0 max: 1.0\n",
    "    \"callarg__double_star_args_pct\": [(0.0, 0.0), (0.0, inf)],  # min: 0.0 max: 1.0\n",
    "}\n",
    "\n",
    "discretize_columns(X_copy, discretized_columns)\n",
    "    \n",
    "# SINGLE FEATURE\n",
    "print(\"--- SINGLE FEATURE ---\")\n",
    "print(get_statistics(X_copy, ['callarg__number_args'], 10))\n",
    "print(get_statistics(X_copy, ['callarg__named_args_pct'], 10))\n",
    "print(get_statistics(X_copy, ['callarg__double_star_args_pct'], 10))\n",
    "\n",
    "\n",
    "# 2 FEATURES\n",
    "print(\"--- TWO FEATURES ---\")\n",
    "#print(get_statistics(X_copy, ['module__function_defs_pct', 'module__number_of_classes'], 10))\n",
    "\n",
    "# 3 FEATURES\n",
    "print(\"--- THREE FEATURES ---\")\n",
    "#print(get_statistics(X_copy, ['module__class_defs_pct', 'module__function_defs_pct', 'module__enum_defs_pct'], 10))"
   ],
   "id": "6baf20dd3e3ca759",
   "outputs": [
    {
     "name": "stdout",
     "output_type": "stream",
     "text": [
      "--- SINGLE FEATURE ---\n",
      "callarg__number_args  count  percentage\n",
      "           [1.0_1.0] 193004   56.979219\n",
      "           [2.0_inf]  93794   27.690146\n",
      "           [0.0_1.0)  51929   15.330635\n",
      "\n",
      "callarg__named_args_pct  count  percentage\n",
      "              [0.0_0.0] 320046   94.484939\n",
      "              [0.0_inf]  18681    5.515061\n",
      "\n",
      "callarg__double_star_args_pct  count  percentage\n",
      "                    [0.0_0.0] 338717   99.997048\n",
      "                    [0.0_inf]     10    0.002952\n",
      "\n",
      "--- TWO FEATURES ---\n",
      "--- THREE FEATURES ---\n"
     ]
    }
   ],
   "execution_count": 7
  },
  {
   "metadata": {
    "ExecuteTime": {
     "end_time": "2024-07-04T17:26:14.193604Z",
     "start_time": "2024-07-04T17:26:14.182189Z"
    }
   },
   "cell_type": "code",
   "source": [
    "def normalize_datatypes(X:pd.DataFrame) -> (pd.DataFrame, [str]):\n",
    "    X = pd.get_dummies(X)\n",
    "    X = X.astype('float32')        \n",
    "    columns_names = X.columns.tolist()\n",
    "    return X, columns_names\n",
    "\n",
    "X, TABLE_FEATURES = normalize_datatypes(X)\n",
    "# Print information about the loaded table\n",
    "print(f'Features shape: {X.shape}')"
   ],
   "id": "5084c89dcb377a92",
   "outputs": [
    {
     "name": "stdout",
     "output_type": "stream",
     "text": [
      "Features shape: (338727, 3)\n"
     ]
    }
   ],
   "execution_count": 8
  },
  {
   "metadata": {},
   "cell_type": "markdown",
   "source": "#### Muestra la matriz de correlación de Spearman entre las variables de la tabla.",
   "id": "ed8befe21328a079"
  },
  {
   "metadata": {
    "ExecuteTime": {
     "end_time": "2024-07-04T17:26:14.426314Z",
     "start_time": "2024-07-04T17:26:14.194628Z"
    }
   },
   "cell_type": "code",
   "source": "sns.heatmap(X.corr(method='spearman'), annot=True)",
   "id": "dea960d18d682104",
   "outputs": [
    {
     "data": {
      "text/plain": [
       "<Axes: >"
      ]
     },
     "execution_count": 9,
     "metadata": {},
     "output_type": "execute_result"
    },
    {
     "data": {
      "text/plain": [
       "<Figure size 640x480 with 2 Axes>"
      ],
      "image/png": "[encoded data removed]"
     },
     "metadata": {},
     "output_type": "display_data"
    }
   ],
   "execution_count": 9
  },
  {
   "metadata": {},
   "cell_type": "markdown",
   "source": [
    "## 3 - Detección de valores atípicos (outliers)\n",
    "## Univariate\n",
    "## Analisis detallado de variables\n",
    "Para cada una de las 3 variables (1 numerica y 2 porcentuales) se hara un analisis detallado"
   ],
   "id": "599c97eec7b7d283"
  },
  {
   "metadata": {},
   "cell_type": "markdown",
   "source": [
    "### Variable number_args (1/3)\n",
    "Esta variable representa el número de argumentos de la llamada. Como vimos en la descripción de la tabla esta varibale adopta valores en el rango 0 - 49. Con una media de 1.27."
   ],
   "id": "119fc307a9194a96"
  },
  {
   "metadata": {
    "ExecuteTime": {
     "end_time": "2024-07-04T17:26:15.359475Z",
     "start_time": "2024-07-04T17:26:14.427320Z"
    }
   },
   "cell_type": "code",
   "source": "sns.stripplot(X['callarg__number_args'])",
   "id": "5efd7fbb4f34563d",
   "outputs": [
    {
     "data": {
      "text/plain": [
       "<Axes: ylabel='callarg__number_args'>"
      ]
     },
     "execution_count": 10,
     "metadata": {},
     "output_type": "execute_result"
    },
    {
     "data": {
      "text/plain": [
       "<Figure size 640x480 with 1 Axes>"
      ],
      "image/png": "[encoded data removed]"
     },
     "metadata": {},
     "output_type": "display_data"
    }
   ],
   "execution_count": 10
  },
  {
   "metadata": {},
   "cell_type": "markdown",
   "source": [
    "### IMPORTANTE\n",
    "El valor máximo está muy alejado del siguiente."
   ],
   "id": "b1d61ef4e8429a11"
  },
  {
   "metadata": {
    "ExecuteTime": {
     "end_time": "2024-07-04T17:26:15.377957Z",
     "start_time": "2024-07-04T17:26:15.360479Z"
    }
   },
   "cell_type": "code",
   "source": "print_outliers_for_df_column(X, 'callarg__number_args')",
   "id": "e5649a2923239004",
   "outputs": [
    {
     "name": "stdout",
     "output_type": "stream",
     "text": [
      "El coeficiente MC (Medcouple Coefficient) de balanceo es: 0.8596251785594073\n",
      "Rango valores atípicos extremos (Tukey): [-2.0,5.0]\n",
      "Rango valores atípicos leves (Tukey): [-0.5,3.5]\n",
      "Rango valores atípicos extremos (Fixed BoxPlot): [0.9259654214229233,48.710352560552835]\n",
      "-3.0IQR: 0 instancias tienen un valor para callarg__number_args inferior a -2.0 (Q1-3*IQR) para callarg__number_args. Representando un 0.0% del total de instancias.\n",
      "-1.5IQR: 0 instancias tienen un valor para callarg__number_args inferior a -0.5 (Q1-1.5*IQR) para callarg__number_args. Representando un 0.0% del total de instancias.\n",
      "+1.5IQR: 10460 instancias tienen un valor para callarg__number_args superior a 3.5 (Q3+1.5*IQR) para callarg__number_args. Representando un 3.088% del total de instancias.\n",
      "+3.0IQR: 2795 instancias tienen un valor para callarg__number_args superior a 5.0 (Q3-3*IQR) para callarg__number_args. Representando un 0.8251% del total de instancias.\n",
      "L: 51929 instancias tienen un valor para callarg__number_args inferior a 0.9259654214229233 para callarg__number_args. Representando un 15.33% del total de instancias.\n",
      "U: 1 instancias tienen un valor para callarg__number_args superior a 48.710352560552835 para callarg__number_args. Representando un 0.0002952% del total de instancias.\n"
     ]
    }
   ],
   "execution_count": 11
  },
  {
   "metadata": {},
   "cell_type": "markdown",
   "source": "Describimos los valores de las variables de la tabla, cuando el valor de la variable es mayor que 5.0 (Con un MC de 91 usamos Tuckey Extremo)",
   "id": "317a14bd28eb55f4"
  },
  {
   "metadata": {
    "ExecuteTime": {
     "end_time": "2024-07-04T17:26:15.392244Z",
     "start_time": "2024-07-04T17:26:15.378986Z"
    }
   },
   "cell_type": "code",
   "source": "X[X['callarg__number_args'] > 5.0].describe(percentiles=[.25, .50, .75], include = ['object', 'float', 'bool', 'int'])",
   "id": "5c5e0e6eb4cd173",
   "outputs": [
    {
     "data": {
      "text/plain": [
       "       callarg__number_args  callarg__named_args_pct  \\\n",
       "count           2795.000000              2795.000000   \n",
       "mean               7.421109                 0.484620   \n",
       "std                2.089562                 0.427575   \n",
       "min                6.000000                 0.000000   \n",
       "25%                6.000000                 0.000000   \n",
       "50%                7.000000                 0.666667   \n",
       "75%                8.000000                 0.875000   \n",
       "max               49.000000                 1.000000   \n",
       "\n",
       "       callarg__double_star_args_pct  \n",
       "count                    2795.000000  \n",
       "mean                        0.000060  \n",
       "std                         0.003153  \n",
       "min                         0.000000  \n",
       "25%                         0.000000  \n",
       "50%                         0.000000  \n",
       "75%                         0.000000  \n",
       "max                         0.166667  "
      ],
      "text/html": [
       "<div>\n",
       "<style scoped>\n",
       "    .dataframe tbody tr th:only-of-type {\n",
       "        vertical-align: middle;\n",
       "    }\n",
       "\n",
       "    .dataframe tbody tr th {\n",
       "        vertical-align: top;\n",
       "    }\n",
       "\n",
       "    .dataframe thead th {\n",
       "        text-align: right;\n",
       "    }\n",
       "</style>\n",
       "<table border=\"1\" class=\"dataframe\">\n",
       "  <thead>\n",
       "    <tr style=\"text-align: right;\">\n",
       "      <th></th>\n",
       "      <th>callarg__number_args</th>\n",
       "      <th>callarg__named_args_pct</th>\n",
       "      <th>callarg__double_star_args_pct</th>\n",
       "    </tr>\n",
       "  </thead>\n",
       "  <tbody>\n",
       "    <tr>\n",
       "      <th>count</th>\n",
       "      <td>2795.000000</td>\n",
       "      <td>2795.000000</td>\n",
       "      <td>2795.000000</td>\n",
       "    </tr>\n",
       "    <tr>\n",
       "      <th>mean</th>\n",
       "      <td>7.421109</td>\n",
       "      <td>0.484620</td>\n",
       "      <td>0.000060</td>\n",
       "    </tr>\n",
       "    <tr>\n",
       "      <th>std</th>\n",
       "      <td>2.089562</td>\n",
       "      <td>0.427575</td>\n",
       "      <td>0.003153</td>\n",
       "    </tr>\n",
       "    <tr>\n",
       "      <th>min</th>\n",
       "      <td>6.000000</td>\n",
       "      <td>0.000000</td>\n",
       "      <td>0.000000</td>\n",
       "    </tr>\n",
       "    <tr>\n",
       "      <th>25%</th>\n",
       "      <td>6.000000</td>\n",
       "      <td>0.000000</td>\n",
       "      <td>0.000000</td>\n",
       "    </tr>\n",
       "    <tr>\n",
       "      <th>50%</th>\n",
       "      <td>7.000000</td>\n",
       "      <td>0.666667</td>\n",
       "      <td>0.000000</td>\n",
       "    </tr>\n",
       "    <tr>\n",
       "      <th>75%</th>\n",
       "      <td>8.000000</td>\n",
       "      <td>0.875000</td>\n",
       "      <td>0.000000</td>\n",
       "    </tr>\n",
       "    <tr>\n",
       "      <th>max</th>\n",
       "      <td>49.000000</td>\n",
       "      <td>1.000000</td>\n",
       "      <td>0.166667</td>\n",
       "    </tr>\n",
       "  </tbody>\n",
       "</table>\n",
       "</div>"
      ]
     },
     "execution_count": 12,
     "metadata": {},
     "output_type": "execute_result"
    }
   ],
   "execution_count": 12
  },
  {
   "metadata": {},
   "cell_type": "markdown",
   "source": [
    "### IMPORTANTE\n",
    "Hay que revisar los dos valores extremos"
   ],
   "id": "4cd275e58979f61d"
  },
  {
   "metadata": {},
   "cell_type": "markdown",
   "source": [
    "### Variable named_args_pct (2/3)\n",
    "Esta variable representa la proporción de los args que son pasados por nombre. Toma los valores de 0.0 - 1.0. La media es 0.038."
   ],
   "id": "5c0a373fffec0b53"
  },
  {
   "metadata": {
    "ExecuteTime": {
     "end_time": "2024-07-04T17:26:15.838145Z",
     "start_time": "2024-07-04T17:26:15.393250Z"
    }
   },
   "cell_type": "code",
   "source": "sns.displot(X['callarg__named_args_pct'], bins=[i / 100 for i in range(0, 101)])",
   "id": "9ac5d2538d99ac6a",
   "outputs": [
    {
     "data": {
      "text/plain": [
       "<seaborn.axisgrid.FacetGrid at 0x1e0ccf2e630>"
      ]
     },
     "execution_count": 13,
     "metadata": {},
     "output_type": "execute_result"
    },
    {
     "data": {
      "text/plain": [
       "<Figure size 500x500 with 1 Axes>"
      ],
      "image/png": "[encoded data removed]"
     },
     "metadata": {},
     "output_type": "display_data"
    }
   ],
   "execution_count": 13
  },
  {
   "metadata": {
    "ExecuteTime": {
     "end_time": "2024-07-04T17:26:15.857051Z",
     "start_time": "2024-07-04T17:26:15.840153Z"
    }
   },
   "cell_type": "code",
   "source": "print_outliers_for_df_column(X, 'callarg__named_args_pct')",
   "id": "4a7a46358e270bf6",
   "outputs": [
    {
     "name": "stdout",
     "output_type": "stream",
     "text": [
      "El coeficiente MC (Medcouple Coefficient) de balanceo es: 0.8677666996403699\n",
      "Rango valores atípicos extremos (Tukey): [0.0,0.0]\n",
      "Rango valores atípicos leves (Tukey): [0.0,0.0]\n",
      "Rango valores atípicos extremos (Fixed BoxPlot): [0.0,0.0]\n",
      "-3.0IQR: 0 instancias tienen un valor para callarg__named_args_pct inferior a 0.0 (Q1-3*IQR) para callarg__named_args_pct. Representando un 0.0% del total de instancias.\n",
      "-1.5IQR: 0 instancias tienen un valor para callarg__named_args_pct inferior a 0.0 (Q1-1.5*IQR) para callarg__named_args_pct. Representando un 0.0% del total de instancias.\n",
      "+1.5IQR: 18681 instancias tienen un valor para callarg__named_args_pct superior a 0.0 (Q3+1.5*IQR) para callarg__named_args_pct. Representando un 5.515% del total de instancias.\n",
      "+3.0IQR: 18681 instancias tienen un valor para callarg__named_args_pct superior a 0.0 (Q3-3*IQR) para callarg__named_args_pct. Representando un 5.515% del total de instancias.\n",
      "L: 0 instancias tienen un valor para callarg__named_args_pct inferior a 0.0 para callarg__named_args_pct. Representando un 0.0% del total de instancias.\n",
      "U: 18681 instancias tienen un valor para callarg__named_args_pct superior a 0.0 para callarg__named_args_pct. Representando un 5.515% del total de instancias.\n"
     ]
    }
   ],
   "execution_count": 14
  },
  {
   "metadata": {},
   "cell_type": "markdown",
   "source": "Describimos los valores de las variables de la tabla, cuando el valor de la variable es mayor que 0 (Todos los umbrales son 0)",
   "id": "6de0e5a1a14f02b4"
  },
  {
   "metadata": {
    "ExecuteTime": {
     "end_time": "2024-07-04T17:26:15.872302Z",
     "start_time": "2024-07-04T17:26:15.858058Z"
    }
   },
   "cell_type": "code",
   "source": "X[X['callarg__named_args_pct'] > 0].describe(percentiles=[.25, .50, .75], include = ['object', 'float', 'bool', 'int'])",
   "id": "65828604e885a75",
   "outputs": [
    {
     "data": {
      "text/plain": [
       "       callarg__number_args  callarg__named_args_pct  \\\n",
       "count          18681.000000             18681.000000   \n",
       "mean               2.985708                 0.703066   \n",
       "std                1.833445                 0.261063   \n",
       "min                1.000000                 0.020408   \n",
       "25%                2.000000                 0.500000   \n",
       "50%                2.000000                 0.666667   \n",
       "75%                4.000000                 1.000000   \n",
       "max               49.000000                 1.000000   \n",
       "\n",
       "       callarg__double_star_args_pct  \n",
       "count                   18681.000000  \n",
       "mean                        0.000202  \n",
       "std                         0.009390  \n",
       "min                         0.000000  \n",
       "25%                         0.000000  \n",
       "50%                         0.000000  \n",
       "75%                         0.000000  \n",
       "max                         0.500000  "
      ],
      "text/html": [
       "<div>\n",
       "<style scoped>\n",
       "    .dataframe tbody tr th:only-of-type {\n",
       "        vertical-align: middle;\n",
       "    }\n",
       "\n",
       "    .dataframe tbody tr th {\n",
       "        vertical-align: top;\n",
       "    }\n",
       "\n",
       "    .dataframe thead th {\n",
       "        text-align: right;\n",
       "    }\n",
       "</style>\n",
       "<table border=\"1\" class=\"dataframe\">\n",
       "  <thead>\n",
       "    <tr style=\"text-align: right;\">\n",
       "      <th></th>\n",
       "      <th>callarg__number_args</th>\n",
       "      <th>callarg__named_args_pct</th>\n",
       "      <th>callarg__double_star_args_pct</th>\n",
       "    </tr>\n",
       "  </thead>\n",
       "  <tbody>\n",
       "    <tr>\n",
       "      <th>count</th>\n",
       "      <td>18681.000000</td>\n",
       "      <td>18681.000000</td>\n",
       "      <td>18681.000000</td>\n",
       "    </tr>\n",
       "    <tr>\n",
       "      <th>mean</th>\n",
       "      <td>2.985708</td>\n",
       "      <td>0.703066</td>\n",
       "      <td>0.000202</td>\n",
       "    </tr>\n",
       "    <tr>\n",
       "      <th>std</th>\n",
       "      <td>1.833445</td>\n",
       "      <td>0.261063</td>\n",
       "      <td>0.009390</td>\n",
       "    </tr>\n",
       "    <tr>\n",
       "      <th>min</th>\n",
       "      <td>1.000000</td>\n",
       "      <td>0.020408</td>\n",
       "      <td>0.000000</td>\n",
       "    </tr>\n",
       "    <tr>\n",
       "      <th>25%</th>\n",
       "      <td>2.000000</td>\n",
       "      <td>0.500000</td>\n",
       "      <td>0.000000</td>\n",
       "    </tr>\n",
       "    <tr>\n",
       "      <th>50%</th>\n",
       "      <td>2.000000</td>\n",
       "      <td>0.666667</td>\n",
       "      <td>0.000000</td>\n",
       "    </tr>\n",
       "    <tr>\n",
       "      <th>75%</th>\n",
       "      <td>4.000000</td>\n",
       "      <td>1.000000</td>\n",
       "      <td>0.000000</td>\n",
       "    </tr>\n",
       "    <tr>\n",
       "      <th>max</th>\n",
       "      <td>49.000000</td>\n",
       "      <td>1.000000</td>\n",
       "      <td>0.500000</td>\n",
       "    </tr>\n",
       "  </tbody>\n",
       "</table>\n",
       "</div>"
      ]
     },
     "execution_count": 15,
     "metadata": {},
     "output_type": "execute_result"
    }
   ],
   "execution_count": 15
  },
  {
   "metadata": {},
   "cell_type": "markdown",
   "source": [
    "### IMPORTANTE\n",
    "Casi el 95% no tienen argumentos pasados por nombre"
   ],
   "id": "4d4eaaf2ed45b4c8"
  },
  {
   "metadata": {},
   "cell_type": "markdown",
   "source": [
    "### Variable double_star_args_pct (3/3)\n",
    "Esta variable representa la proporción de args que son double star (**). Toma los valores de 0.0 - 1.0."
   ],
   "id": "a8d2d3dbd02dcea0"
  },
  {
   "metadata": {
    "ExecuteTime": {
     "end_time": "2024-07-04T17:26:16.394383Z",
     "start_time": "2024-07-04T17:26:15.873306Z"
    }
   },
   "cell_type": "code",
   "source": "sns.displot(X['callarg__double_star_args_pct'], bins=[i / 100 for i in range(0, 101)])",
   "id": "4d1da3a369eb0be6",
   "outputs": [
    {
     "data": {
      "text/plain": [
       "<seaborn.axisgrid.FacetGrid at 0x1e0a2f77d10>"
      ]
     },
     "execution_count": 16,
     "metadata": {},
     "output_type": "execute_result"
    },
    {
     "data": {
      "text/plain": [
       "<Figure size 500x500 with 1 Axes>"
      ],
      "image/png": "[encoded data removed]"
     },
     "metadata": {},
     "output_type": "display_data"
    }
   ],
   "execution_count": 16
  },
  {
   "metadata": {
    "ExecuteTime": {
     "end_time": "2024-07-04T17:26:16.409323Z",
     "start_time": "2024-07-04T17:26:16.395390Z"
    }
   },
   "cell_type": "code",
   "source": "print_outliers_for_df_column(X, 'callarg__double_star_args_pct')",
   "id": "5ac40e081482327",
   "outputs": [
    {
     "name": "stdout",
     "output_type": "stream",
     "text": [
      "El coeficiente MC (Medcouple Coefficient) de balanceo es: 0.9974679669307385\n",
      "Rango valores atípicos extremos (Tukey): [0.0,0.0]\n",
      "Rango valores atípicos leves (Tukey): [0.0,0.0]\n",
      "Rango valores atípicos extremos (Fixed BoxPlot): [0.0,0.0]\n",
      "-3.0IQR: 0 instancias tienen un valor para callarg__double_star_args_pct inferior a 0.0 (Q1-3*IQR) para callarg__double_star_args_pct. Representando un 0.0% del total de instancias.\n",
      "-1.5IQR: 0 instancias tienen un valor para callarg__double_star_args_pct inferior a 0.0 (Q1-1.5*IQR) para callarg__double_star_args_pct. Representando un 0.0% del total de instancias.\n",
      "+1.5IQR: 10 instancias tienen un valor para callarg__double_star_args_pct superior a 0.0 (Q3+1.5*IQR) para callarg__double_star_args_pct. Representando un 0.002952% del total de instancias.\n",
      "+3.0IQR: 10 instancias tienen un valor para callarg__double_star_args_pct superior a 0.0 (Q3-3*IQR) para callarg__double_star_args_pct. Representando un 0.002952% del total de instancias.\n",
      "L: 0 instancias tienen un valor para callarg__double_star_args_pct inferior a 0.0 para callarg__double_star_args_pct. Representando un 0.0% del total de instancias.\n",
      "U: 10 instancias tienen un valor para callarg__double_star_args_pct superior a 0.0 para callarg__double_star_args_pct. Representando un 0.002952% del total de instancias.\n"
     ]
    }
   ],
   "execution_count": 17
  },
  {
   "metadata": {},
   "cell_type": "markdown",
   "source": "Describimos los valores de las variables de la tabla, cuando el valor de la variable es mayor que 0 (Todos los umbrales son 0)",
   "id": "712bed4abbf4eade"
  },
  {
   "metadata": {
    "ExecuteTime": {
     "end_time": "2024-07-04T17:26:16.422439Z",
     "start_time": "2024-07-04T17:26:16.410328Z"
    }
   },
   "cell_type": "code",
   "source": "X[X['callarg__double_star_args_pct'] > 0.0].describe(percentiles=[.25, .50, .75], include = ['object', 'float', 'bool', 'int'])",
   "id": "7eed776af9068518",
   "outputs": [
    {
     "data": {
      "text/plain": [
       "       callarg__number_args  callarg__named_args_pct  \\\n",
       "count             10.000000                10.000000   \n",
       "mean               3.300000                 0.623333   \n",
       "std                1.702939                 0.159513   \n",
       "min                2.000000                 0.500000   \n",
       "25%                2.000000                 0.500000   \n",
       "50%                2.000000                 0.500000   \n",
       "75%                5.000000                 0.800000   \n",
       "max                6.000000                 0.833333   \n",
       "\n",
       "       callarg__double_star_args_pct  \n",
       "count                      10.000000  \n",
       "mean                        0.376667  \n",
       "std                         0.159513  \n",
       "min                         0.166667  \n",
       "25%                         0.200000  \n",
       "50%                         0.500000  \n",
       "75%                         0.500000  \n",
       "max                         0.500000  "
      ],
      "text/html": [
       "<div>\n",
       "<style scoped>\n",
       "    .dataframe tbody tr th:only-of-type {\n",
       "        vertical-align: middle;\n",
       "    }\n",
       "\n",
       "    .dataframe tbody tr th {\n",
       "        vertical-align: top;\n",
       "    }\n",
       "\n",
       "    .dataframe thead th {\n",
       "        text-align: right;\n",
       "    }\n",
       "</style>\n",
       "<table border=\"1\" class=\"dataframe\">\n",
       "  <thead>\n",
       "    <tr style=\"text-align: right;\">\n",
       "      <th></th>\n",
       "      <th>callarg__number_args</th>\n",
       "      <th>callarg__named_args_pct</th>\n",
       "      <th>callarg__double_star_args_pct</th>\n",
       "    </tr>\n",
       "  </thead>\n",
       "  <tbody>\n",
       "    <tr>\n",
       "      <th>count</th>\n",
       "      <td>10.000000</td>\n",
       "      <td>10.000000</td>\n",
       "      <td>10.000000</td>\n",
       "    </tr>\n",
       "    <tr>\n",
       "      <th>mean</th>\n",
       "      <td>3.300000</td>\n",
       "      <td>0.623333</td>\n",
       "      <td>0.376667</td>\n",
       "    </tr>\n",
       "    <tr>\n",
       "      <th>std</th>\n",
       "      <td>1.702939</td>\n",
       "      <td>0.159513</td>\n",
       "      <td>0.159513</td>\n",
       "    </tr>\n",
       "    <tr>\n",
       "      <th>min</th>\n",
       "      <td>2.000000</td>\n",
       "      <td>0.500000</td>\n",
       "      <td>0.166667</td>\n",
       "    </tr>\n",
       "    <tr>\n",
       "      <th>25%</th>\n",
       "      <td>2.000000</td>\n",
       "      <td>0.500000</td>\n",
       "      <td>0.200000</td>\n",
       "    </tr>\n",
       "    <tr>\n",
       "      <th>50%</th>\n",
       "      <td>2.000000</td>\n",
       "      <td>0.500000</td>\n",
       "      <td>0.500000</td>\n",
       "    </tr>\n",
       "    <tr>\n",
       "      <th>75%</th>\n",
       "      <td>5.000000</td>\n",
       "      <td>0.800000</td>\n",
       "      <td>0.500000</td>\n",
       "    </tr>\n",
       "    <tr>\n",
       "      <th>max</th>\n",
       "      <td>6.000000</td>\n",
       "      <td>0.833333</td>\n",
       "      <td>0.500000</td>\n",
       "    </tr>\n",
       "  </tbody>\n",
       "</table>\n",
       "</div>"
      ]
     },
     "execution_count": 18,
     "metadata": {},
     "output_type": "execute_result"
    }
   ],
   "execution_count": 18
  },
  {
   "metadata": {},
   "cell_type": "markdown",
   "source": [
    "### IMPORTANTE\n",
    "El 99,99% no usan double star"
   ],
   "id": "eb68282d17d00ba3"
  },
  {
   "metadata": {},
   "cell_type": "markdown",
   "source": [
    "## Multivariate\n",
    "\n",
    "Isolation forest algorithm"
   ],
   "id": "b59a3c0f15f73897"
  },
  {
   "metadata": {
    "ExecuteTime": {
     "end_time": "2024-07-04T17:26:18.888841Z",
     "start_time": "2024-07-04T17:26:16.423454Z"
    }
   },
   "cell_type": "code",
   "source": [
    "from sklearn.ensemble import  IsolationForest\n",
    "\n",
    "CONTAMINATION_FACTOR = 0.0012\n",
    "isof_model = IsolationForest(contamination=CONTAMINATION_FACTOR, random_state=0)\n",
    "isof_prediction = isof_model.fit_predict(X.values)\n",
    "mask = isof_prediction == -1\n",
    "full_table.loc[X.index[mask]]"
   ],
   "id": "834121481cf34dd2",
   "outputs": [
    {
     "data": {
      "text/plain": [
       "        callarg__number_args  callarg__named_args_pct  \\\n",
       "1511                       9                 1.000000   \n",
       "3040                      14                 1.000000   \n",
       "3047                      10                 0.800000   \n",
       "3302                      10                 1.000000   \n",
       "3303                       8                 0.875000   \n",
       "...                      ...                      ...   \n",
       "311271                    10                 1.000000   \n",
       "325788                    12                 0.083333   \n",
       "325806                    12                 0.083333   \n",
       "325878                    12                 0.083333   \n",
       "326134                    10                 0.800000   \n",
       "\n",
       "        callarg__double_star_args_pct callarg__expertise_level  \n",
       "1511                              0.0                 BEGINNER  \n",
       "3040                              0.0                 BEGINNER  \n",
       "3047                              0.0                 BEGINNER  \n",
       "3302                              0.0                 BEGINNER  \n",
       "3303                              0.0                 BEGINNER  \n",
       "...                               ...                      ...  \n",
       "311271                            0.0                 BEGINNER  \n",
       "325788                            0.0                 BEGINNER  \n",
       "325806                            0.0                 BEGINNER  \n",
       "325878                            0.0                 BEGINNER  \n",
       "326134                            0.0                 BEGINNER  \n",
       "\n",
       "[406 rows x 4 columns]"
      ],
      "text/html": [
       "<div>\n",
       "<style scoped>\n",
       "    .dataframe tbody tr th:only-of-type {\n",
       "        vertical-align: middle;\n",
       "    }\n",
       "\n",
       "    .dataframe tbody tr th {\n",
       "        vertical-align: top;\n",
       "    }\n",
       "\n",
       "    .dataframe thead th {\n",
       "        text-align: right;\n",
       "    }\n",
       "</style>\n",
       "<table border=\"1\" class=\"dataframe\">\n",
       "  <thead>\n",
       "    <tr style=\"text-align: right;\">\n",
       "      <th></th>\n",
       "      <th>callarg__number_args</th>\n",
       "      <th>callarg__named_args_pct</th>\n",
       "      <th>callarg__double_star_args_pct</th>\n",
       "      <th>callarg__expertise_level</th>\n",
       "    </tr>\n",
       "  </thead>\n",
       "  <tbody>\n",
       "    <tr>\n",
       "      <th>1511</th>\n",
       "      <td>9</td>\n",
       "      <td>1.000000</td>\n",
       "      <td>0.0</td>\n",
       "      <td>BEGINNER</td>\n",
       "    </tr>\n",
       "    <tr>\n",
       "      <th>3040</th>\n",
       "      <td>14</td>\n",
       "      <td>1.000000</td>\n",
       "      <td>0.0</td>\n",
       "      <td>BEGINNER</td>\n",
       "    </tr>\n",
       "    <tr>\n",
       "      <th>3047</th>\n",
       "      <td>10</td>\n",
       "      <td>0.800000</td>\n",
       "      <td>0.0</td>\n",
       "      <td>BEGINNER</td>\n",
       "    </tr>\n",
       "    <tr>\n",
       "      <th>3302</th>\n",
       "      <td>10</td>\n",
       "      <td>1.000000</td>\n",
       "      <td>0.0</td>\n",
       "      <td>BEGINNER</td>\n",
       "    </tr>\n",
       "    <tr>\n",
       "      <th>3303</th>\n",
       "      <td>8</td>\n",
       "      <td>0.875000</td>\n",
       "      <td>0.0</td>\n",
       "      <td>BEGINNER</td>\n",
       "    </tr>\n",
       "    <tr>\n",
       "      <th>...</th>\n",
       "      <td>...</td>\n",
       "      <td>...</td>\n",
       "      <td>...</td>\n",
       "      <td>...</td>\n",
       "    </tr>\n",
       "    <tr>\n",
       "      <th>311271</th>\n",
       "      <td>10</td>\n",
       "      <td>1.000000</td>\n",
       "      <td>0.0</td>\n",
       "      <td>BEGINNER</td>\n",
       "    </tr>\n",
       "    <tr>\n",
       "      <th>325788</th>\n",
       "      <td>12</td>\n",
       "      <td>0.083333</td>\n",
       "      <td>0.0</td>\n",
       "      <td>BEGINNER</td>\n",
       "    </tr>\n",
       "    <tr>\n",
       "      <th>325806</th>\n",
       "      <td>12</td>\n",
       "      <td>0.083333</td>\n",
       "      <td>0.0</td>\n",
       "      <td>BEGINNER</td>\n",
       "    </tr>\n",
       "    <tr>\n",
       "      <th>325878</th>\n",
       "      <td>12</td>\n",
       "      <td>0.083333</td>\n",
       "      <td>0.0</td>\n",
       "      <td>BEGINNER</td>\n",
       "    </tr>\n",
       "    <tr>\n",
       "      <th>326134</th>\n",
       "      <td>10</td>\n",
       "      <td>0.800000</td>\n",
       "      <td>0.0</td>\n",
       "      <td>BEGINNER</td>\n",
       "    </tr>\n",
       "  </tbody>\n",
       "</table>\n",
       "<p>406 rows × 4 columns</p>\n",
       "</div>"
      ]
     },
     "execution_count": 19,
     "metadata": {},
     "output_type": "execute_result"
    }
   ],
   "execution_count": 19
  },
  {
   "metadata": {},
   "cell_type": "markdown",
   "source": [
    "### IMPORTANTE\n",
    "Revisar los outliers"
   ],
   "id": "e87f7079183f7b0"
  },
  {
   "metadata": {
    "ExecuteTime": {
     "end_time": "2024-07-04T17:26:18.904557Z",
     "start_time": "2024-07-04T17:26:18.889899Z"
    }
   },
   "cell_type": "code",
   "source": [
    "# Outliers\n",
    "np.transpose(X[mask].describe(percentiles=[.25, .50, .75], include = ['object', 'float', 'bool', 'int']))"
   ],
   "id": "c28605d2ac2f8496",
   "outputs": [
    {
     "data": {
      "text/plain": [
       "                               count       mean       std       min    25%  \\\n",
       "callarg__number_args           406.0  10.199508  2.729283  8.000000  8.000   \n",
       "callarg__named_args_pct        406.0   0.855291  0.207977  0.020408  0.875   \n",
       "callarg__double_star_args_pct  406.0   0.000000  0.000000  0.000000  0.000   \n",
       "\n",
       "                                     50%   75%   max  \n",
       "callarg__number_args           10.000000  12.0  49.0  \n",
       "callarg__named_args_pct         0.888889   1.0   1.0  \n",
       "callarg__double_star_args_pct   0.000000   0.0   0.0  "
      ],
      "text/html": [
       "<div>\n",
       "<style scoped>\n",
       "    .dataframe tbody tr th:only-of-type {\n",
       "        vertical-align: middle;\n",
       "    }\n",
       "\n",
       "    .dataframe tbody tr th {\n",
       "        vertical-align: top;\n",
       "    }\n",
       "\n",
       "    .dataframe thead th {\n",
       "        text-align: right;\n",
       "    }\n",
       "</style>\n",
       "<table border=\"1\" class=\"dataframe\">\n",
       "  <thead>\n",
       "    <tr style=\"text-align: right;\">\n",
       "      <th></th>\n",
       "      <th>count</th>\n",
       "      <th>mean</th>\n",
       "      <th>std</th>\n",
       "      <th>min</th>\n",
       "      <th>25%</th>\n",
       "      <th>50%</th>\n",
       "      <th>75%</th>\n",
       "      <th>max</th>\n",
       "    </tr>\n",
       "  </thead>\n",
       "  <tbody>\n",
       "    <tr>\n",
       "      <th>callarg__number_args</th>\n",
       "      <td>406.0</td>\n",
       "      <td>10.199508</td>\n",
       "      <td>2.729283</td>\n",
       "      <td>8.000000</td>\n",
       "      <td>8.000</td>\n",
       "      <td>10.000000</td>\n",
       "      <td>12.0</td>\n",
       "      <td>49.0</td>\n",
       "    </tr>\n",
       "    <tr>\n",
       "      <th>callarg__named_args_pct</th>\n",
       "      <td>406.0</td>\n",
       "      <td>0.855291</td>\n",
       "      <td>0.207977</td>\n",
       "      <td>0.020408</td>\n",
       "      <td>0.875</td>\n",
       "      <td>0.888889</td>\n",
       "      <td>1.0</td>\n",
       "      <td>1.0</td>\n",
       "    </tr>\n",
       "    <tr>\n",
       "      <th>callarg__double_star_args_pct</th>\n",
       "      <td>406.0</td>\n",
       "      <td>0.000000</td>\n",
       "      <td>0.000000</td>\n",
       "      <td>0.000000</td>\n",
       "      <td>0.000</td>\n",
       "      <td>0.000000</td>\n",
       "      <td>0.0</td>\n",
       "      <td>0.0</td>\n",
       "    </tr>\n",
       "  </tbody>\n",
       "</table>\n",
       "</div>"
      ]
     },
     "execution_count": 20,
     "metadata": {},
     "output_type": "execute_result"
    }
   ],
   "execution_count": 20
  },
  {
   "metadata": {
    "ExecuteTime": {
     "end_time": "2024-07-04T17:26:18.976510Z",
     "start_time": "2024-07-04T17:26:18.905591Z"
    }
   },
   "cell_type": "code",
   "source": [
    "# Non-Outliers\n",
    "np.transpose(X[~mask].describe(percentiles=[.25, .50, .75], include = ['object', 'float', 'bool', 'int']))"
   ],
   "id": "1c5877246015efa3",
   "outputs": [
    {
     "data": {
      "text/plain": [
       "                                  count      mean       std  min  25%  50%  \\\n",
       "callarg__number_args           338321.0  1.262730  1.002087  0.0  1.0  1.0   \n",
       "callarg__named_args_pct        338321.0  0.037795  0.169407  0.0  0.0  0.0   \n",
       "callarg__double_star_args_pct  338321.0  0.000011  0.002207  0.0  0.0  0.0   \n",
       "\n",
       "                               75%   max  \n",
       "callarg__number_args           2.0  24.0  \n",
       "callarg__named_args_pct        0.0   1.0  \n",
       "callarg__double_star_args_pct  0.0   0.5  "
      ],
      "text/html": [
       "<div>\n",
       "<style scoped>\n",
       "    .dataframe tbody tr th:only-of-type {\n",
       "        vertical-align: middle;\n",
       "    }\n",
       "\n",
       "    .dataframe tbody tr th {\n",
       "        vertical-align: top;\n",
       "    }\n",
       "\n",
       "    .dataframe thead th {\n",
       "        text-align: right;\n",
       "    }\n",
       "</style>\n",
       "<table border=\"1\" class=\"dataframe\">\n",
       "  <thead>\n",
       "    <tr style=\"text-align: right;\">\n",
       "      <th></th>\n",
       "      <th>count</th>\n",
       "      <th>mean</th>\n",
       "      <th>std</th>\n",
       "      <th>min</th>\n",
       "      <th>25%</th>\n",
       "      <th>50%</th>\n",
       "      <th>75%</th>\n",
       "      <th>max</th>\n",
       "    </tr>\n",
       "  </thead>\n",
       "  <tbody>\n",
       "    <tr>\n",
       "      <th>callarg__number_args</th>\n",
       "      <td>338321.0</td>\n",
       "      <td>1.262730</td>\n",
       "      <td>1.002087</td>\n",
       "      <td>0.0</td>\n",
       "      <td>1.0</td>\n",
       "      <td>1.0</td>\n",
       "      <td>2.0</td>\n",
       "      <td>24.0</td>\n",
       "    </tr>\n",
       "    <tr>\n",
       "      <th>callarg__named_args_pct</th>\n",
       "      <td>338321.0</td>\n",
       "      <td>0.037795</td>\n",
       "      <td>0.169407</td>\n",
       "      <td>0.0</td>\n",
       "      <td>0.0</td>\n",
       "      <td>0.0</td>\n",
       "      <td>0.0</td>\n",
       "      <td>1.0</td>\n",
       "    </tr>\n",
       "    <tr>\n",
       "      <th>callarg__double_star_args_pct</th>\n",
       "      <td>338321.0</td>\n",
       "      <td>0.000011</td>\n",
       "      <td>0.002207</td>\n",
       "      <td>0.0</td>\n",
       "      <td>0.0</td>\n",
       "      <td>0.0</td>\n",
       "      <td>0.0</td>\n",
       "      <td>0.5</td>\n",
       "    </tr>\n",
       "  </tbody>\n",
       "</table>\n",
       "</div>"
      ]
     },
     "execution_count": 21,
     "metadata": {},
     "output_type": "execute_result"
    }
   ],
   "execution_count": 21
  }
 ],
 "metadata": {
  "kernelspec": {
   "display_name": "Python 3",
   "language": "python",
   "name": "python3"
  },
  "language_info": {
   "codemirror_mode": {
    "name": "ipython",
    "version": 2
   },
   "file_extension": ".py",
   "mimetype": "text/x-python",
   "name": "python",
   "nbconvert_exporter": "python",
   "pygments_lexer": "ipython2",
   "version": "2.7.6"
  }
 },
 "nbformat": 4,
 "nbformat_minor": 5
}
