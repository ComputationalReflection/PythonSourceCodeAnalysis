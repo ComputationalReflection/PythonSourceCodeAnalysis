{
 "cells": [
  {
   "metadata": {},
   "cell_type": "markdown",
   "source": [
    "# Modules EXPERT\n",
    "\n",
    "Esta tabla contiene la información a nivel de fichero (módulo)."
   ],
   "id": "148ae8871134f924"
  },
  {
   "metadata": {},
   "cell_type": "markdown",
   "source": "## 1 - Obtencion de datos",
   "id": "d3c24a719032807f"
  },
  {
   "metadata": {},
   "cell_type": "code",
   "source": [
    "import matplotlib.pyplot as plt\n",
    "from notebooks_utils import *\n",
    "from domains import *\n",
    "\n",
    "TARGET_FEATURE = 'module__expertise_level'\n",
    "TARGET_CLASS = 'EXPERT'\n",
    "full_table = get_data('modules')\n",
    "\n",
    "instances_for_class_low = len(full_table[full_table[TARGET_FEATURE] == \"BEGINNER\"])\n",
    "instances_for_class_high = len(full_table[full_table[TARGET_FEATURE] == \"EXPERT\"])\n",
    "\n",
    "print(f\"The dataset contains {instances_for_class_low} ({instances_for_class_low/len(full_table)*100:.4}%) instances for BEGINNER class and {instances_for_class_high} ({instances_for_class_high/len(full_table)*100:.4}%) for EXPERT class.\")"
   ],
   "id": "9f0a949e91eb384b",
   "outputs": [],
   "execution_count": null
  },
  {
   "metadata": {},
   "cell_type": "code",
   "source": [
    "full_table = full_table[full_table[TARGET_FEATURE] == TARGET_CLASS]\n",
    "\n",
    "# Table name, features and target.\n",
    "TABLE_NAME = 'modules'\n",
    "TABLE_FEATURES = ['module__name_convention', 'module__has_doc_string', 'module__global_stmts_pct', 'module__global_expressions_pct', 'module__number_of_classes', 'module__number_of_functions', 'module__class_defs_pct', 'module__function_defs_pct', 'module__enum_defs_pct', 'module__average_stmts_function_body', 'module__average_stmts_method_body', 'module__type_annotations_pct', 'module__has_entry_point']\n",
    "\n",
    "# Load features and target.\n",
    "X = full_table[TABLE_FEATURES]\n",
    "\n",
    "# Print information about the loaded table.\n",
    "print(f' {TARGET_CLASS} CLASS Features shape: {X.shape}')\n",
    "\n",
    "print(f'As we can see the downloaded data contains a total of {X.shape[0]} instances of {TARGET_CLASS}. Each of the instances corresponds to a file. For each file we have {X.shape[1]} attributes.')"
   ],
   "id": "b28feeae1c24237a",
   "outputs": [],
   "execution_count": null
  },
  {
   "metadata": {},
   "cell_type": "markdown",
   "source": [
    "## 2 - Exploracion de datos\n",
    "\n",
    "Una vez tenemos nuestra tabla en un dataframe el siguiente paso es explorarla para ver qué tipo de información contiene."
   ],
   "id": "bcda7cb784bf0a1"
  },
  {
   "metadata": {},
   "cell_type": "code",
   "source": "print(X.info())",
   "id": "2eb3d09993235bcb",
   "outputs": [],
   "execution_count": null
  },
  {
   "metadata": {},
   "cell_type": "markdown",
   "source": "Cómo podemos ver la tabla está compuesta por diez variables numéricas, dos variables boleanas y una de tipo objeto. Las dos últimas variables son la etiqueta de la instancia y el name convention.",
   "id": "24f7607501c2e574"
  },
  {
   "metadata": {},
   "cell_type": "markdown",
   "source": [
    "### 2.1 - Valores Nulos \n",
    "Miramos si alguna de las variables que contiene la tabla contiene algún valor que sea nulo."
   ],
   "id": "63d4e4ed1d8d2c6c"
  },
  {
   "metadata": {},
   "cell_type": "code",
   "source": "X.isnull().sum()",
   "id": "6c991380e6e0413e",
   "outputs": [],
   "execution_count": null
  },
  {
   "metadata": {},
   "cell_type": "code",
   "source": "print_empty_cols(X)",
   "id": "18b2dfadf1719a4b",
   "outputs": [],
   "execution_count": null
  },
  {
   "metadata": {},
   "cell_type": "markdown",
   "source": "### 2.2 - Describimos los valores de las variables de la tabla.",
   "id": "5bb94c0f81c08024"
  },
  {
   "metadata": {},
   "cell_type": "code",
   "source": "np.transpose(X.describe(percentiles=[.25, .50, .75], include = ['object', 'float', 'bool', 'int']))",
   "id": "74bba302a29fbfd5",
   "outputs": [],
   "execution_count": null
  },
  {
   "metadata": {},
   "cell_type": "markdown",
   "source": "Vamos a discretizar las variables numericas, agrupando conjuntos de valores en categorias, para hacer un análisis de los datos. Para cada variable es necesaario ver la distribucion de lo valores para hacer los bins (categorias).",
   "id": "9af3eb59b924a596"
  },
  {
   "metadata": {},
   "cell_type": "code",
   "source": [
    "# DISCRETIZATION\n",
    "X_copy = X.copy()\n",
    "\n",
    "discretized_columns = {\n",
    "    \"module__class_defs_pct\": [(0.0, 0.0),(0.0, 1.0), (1.0, 1.0)],  # min: 0.0 max: 1.0\n",
    "    \"module__function_defs_pct\": [(0.0, 0.0),(0.0, 1.0), (1.0, 1.0)],  # min: 0.0 max: 1.0\n",
    "    \"module__enum_defs_pct\": [(0.0, 0.0), (0.0, inf)],  # min: 0.0 max: 0.0\n",
    "    \"module__number_of_classes\": [(0, 0), (1, 1), (1,inf)],  # min: 0 max: 113\n",
    "    \"module__number_of_functions\": [(0, 0), (0, inf)], # min: 0 max: 258\n",
    "    \"module__type_annotations_pct\": [(0.0, 0.0), (0.0, inf)], # min: 0.0 max: 1.0\n",
    "    \"module__average_stmts_function_body\": [(0.0, 0.0), (0.0, inf)], #min: 0.0 max: 53.0\n",
    "    \"module__average_stmts_method_body\": [(0.0, 0.0), (0.0, inf)], # min: 0.0 max: 114.0\n",
    "    \"module__global_expressions_pct\": [(0,0), (0.0, inf)], # min: 0.0 max: 1.0\n",
    "    \"module__global_stmts_pct\": [(0, 0), (0.0, inf)] # min: 0.0 max: 1.0\n",
    "}\n",
    "\n",
    "discretize_columns(X_copy, discretized_columns)\n",
    "    \n",
    "# SINGLE FEATURE\n",
    "print(\"--- SINGLE FEATURE ---\")\n",
    "print(get_statistics(X_copy, ['module__class_defs_pct'], 10))\n",
    "print(get_statistics(X_copy, ['module__function_defs_pct'], 10))\n",
    "print(get_statistics(X_copy, ['module__enum_defs_pct'], 10))\n",
    "print(get_statistics(X_copy, ['module__number_of_classes'], 10))\n",
    "print(get_statistics(X_copy, ['module__number_of_functions'], 10))\n",
    "print(get_statistics(X_copy, ['module__type_annotations_pct'], 10))\n",
    "print(get_statistics(X_copy, ['module__average_stmts_function_body'], 10))\n",
    "print(get_statistics(X_copy, ['module__average_stmts_method_body'], 10))\n",
    "print(get_statistics(X_copy, ['module__global_expressions_pct'], 10))\n",
    "print(get_statistics(X_copy, ['module__global_stmts_pct'], 10))\n",
    "print(get_statistics(X_copy, ['module__has_doc_string'], 10))\n",
    "print(get_statistics(X_copy, ['module__has_entry_point'], 10))\n",
    "print(get_statistics(X_copy, ['module__name_convention'], 10))\n",
    "\n",
    "\n",
    "# 2 FEATURES\n",
    "print(\"--- TWO FEATURES ---\")\n",
    "print(get_statistics(X_copy, ['module__function_defs_pct', 'module__number_of_classes'], 10))\n",
    "\n",
    "# 3 FEATURES\n",
    "print(\"--- THREE FEATURES ---\")\n",
    "print(get_statistics(X_copy, ['module__class_defs_pct', 'module__function_defs_pct', 'module__enum_defs_pct'], 10))"
   ],
   "id": "6baf20dd3e3ca759",
   "outputs": [],
   "execution_count": null
  },
  {
   "metadata": {},
   "cell_type": "code",
   "source": [
    "def normalize_datatypes(X:pd.DataFrame) -> (pd.DataFrame, [str]):\n",
    "    X = pd.get_dummies(X)\n",
    "    X = X.astype('float32')        \n",
    "    columns_names = X.columns.tolist()\n",
    "    return X, columns_names\n",
    "\n",
    "X, TABLE_FEATURES = normalize_datatypes(X)\n",
    "# Print information about the loaded table\n",
    "print(f'Features shape: {X.shape}')"
   ],
   "id": "5084c89dcb377a92",
   "outputs": [],
   "execution_count": null
  },
  {
   "metadata": {},
   "cell_type": "markdown",
   "source": "#### Muestra la matriz de correlación de Spearman entre las variables de la tabla.",
   "id": "ed8befe21328a079"
  },
  {
   "metadata": {},
   "cell_type": "code",
   "source": "sns.heatmap(X.corr(method='spearman'), annot=False)",
   "id": "dea960d18d682104",
   "outputs": [],
   "execution_count": null
  },
  {
   "metadata": {},
   "cell_type": "markdown",
   "source": [
    "## 3 - Detección de valores atípicos (outliers)\n",
    "## Univariate\n",
    "## Analisis detallado de variables\n",
    "Para cada una de las 13 variable (2 booleanas, 6 porcentuales, 4 numericas y una categorica) se hara un analisis detallado"
   ],
   "id": "599c97eec7b7d283"
  },
  {
   "metadata": {},
   "cell_type": "markdown",
   "source": [
    "### Variable has_doc_string (1/13)\n",
    "Esta variable es de tipo booleano y representa si el fichero contiene un comentario como primer nodo."
   ],
   "id": "6abba739e46da213"
  },
  {
   "metadata": {},
   "cell_type": "code",
   "source": [
    "plt.xticks([0, 1], ['False', 'True'])\n",
    "sns.histplot(X['module__has_doc_string'], discrete=True)"
   ],
   "id": "4ab35b2ef94a3379",
   "outputs": [],
   "execution_count": null
  },
  {
   "metadata": {},
   "cell_type": "code",
   "source": [
    "num_true_values = len(X[X['module__has_doc_string'] == True])\n",
    "num_false_values = len(X[X['module__has_doc_string'] == False])\n",
    "std = X['module__has_doc_string'].std()\n",
    "freq_true = len(X[X['module__has_doc_string'] == True]) / len(X['module__has_doc_string'])\n",
    "freq_false = len(X[X['module__has_doc_string'] == False]) / len(X['module__has_doc_string'])\n",
    "print(f'La variable has_doc_string contiene {num_true_values} valores verdaderos y {num_false_values} valores falsos. Y, la desviación típica es de {std}')\n",
    "print(f'La frecuencia con la que programa puede tener la variable has_doc_string a True es {freq_true}.')\n",
    "print(f'La frecuencia con la que programa puede tener la variable has_doc_string a False es {freq_false}.')"
   ],
   "id": "f4a042829ae6fac5",
   "outputs": [],
   "execution_count": null
  },
  {
   "metadata": {},
   "cell_type": "code",
   "source": [
    "possible_values = [True, False]\n",
    "print_frequency_anal_for_cat_var(X, 'module__has_doc_string', possible_values)"
   ],
   "id": "c614dd60d0ab8e5b",
   "outputs": [],
   "execution_count": null
  },
  {
   "metadata": {},
   "cell_type": "code",
   "source": "X[X['module__has_doc_string'] == True].describe(percentiles=[.25, .50, .75], include = ['object', 'float', 'bool', 'int'])\n",
   "id": "6c33bdd1420008cf",
   "outputs": [],
   "execution_count": null
  },
  {
   "metadata": {},
   "cell_type": "markdown",
   "source": [
    "### Variable has_entry_point (2/13)\n",
    "Esta variable es de tipo booleano y representa si el fichero contiene el idiom \"if __name__ == '__main__'\". "
   ],
   "id": "1fa4491178ba606c"
  },
  {
   "metadata": {},
   "cell_type": "code",
   "source": [
    "plt.xticks([0, 1], ['False', 'True'])\n",
    "sns.histplot(X['module__has_entry_point'], discrete=True)"
   ],
   "id": "529b7fd2ad00b058",
   "outputs": [],
   "execution_count": null
  },
  {
   "metadata": {},
   "cell_type": "code",
   "source": [
    "#ANALISIS DE DISTRIBUCIÓN DE DATOS\n",
    "num_true_values = len(X[X['module__has_entry_point'] == True])\n",
    "num_false_values = len(X[X['module__has_entry_point'] == False])\n",
    "std = X['module__has_entry_point'].std()\n",
    "freq_true = len(X[X['module__has_entry_point'] == True]) / len(X['module__has_entry_point'])\n",
    "freq_false = len(X[X['module__has_entry_point'] == False]) / len(X['module__has_entry_point'])\n",
    "print(f'La variable has_entry_point contiene {num_true_values} valores verdaderos y {num_false_values} valores falsos. Y, la desviación típica es de {std}')\n",
    "print(f'La frecuencia con la que programa puede tener la variable has_entry_point a True es {freq_true}.')\n",
    "print(f'La frecuencia con la que programa puede tener la variable has_entry_point a False es {freq_false}.')"
   ],
   "id": "d1bed1e471481adc",
   "outputs": [],
   "execution_count": null
  },
  {
   "metadata": {},
   "cell_type": "code",
   "source": [
    "#PROBABILIDAD DE VALORES\n",
    "possible_values = [True, False]\n",
    "print_frequency_anal_for_cat_var(X, 'module__has_entry_point', possible_values)"
   ],
   "id": "c54b472864a47e88",
   "outputs": [],
   "execution_count": null
  },
  {
   "metadata": {},
   "cell_type": "code",
   "source": "X[X['module__has_entry_point'] == True].describe(percentiles=[.25, .50, .75], include = ['object', 'float', 'bool', 'int'])",
   "id": "4bd840561db5f69f",
   "outputs": [],
   "execution_count": null
  },
  {
   "metadata": {},
   "cell_type": "markdown",
   "source": [
    "### Variable number_of_classes (3/13)\n",
    "Esta variable es de tipo numérica y nos indica el número de clases definidos en el fichero. Como vimos en la descripción de la tabla esta varibale adopta valores en el rango 0 - 113. Con una media de 1.09."
   ],
   "id": "55e11303a6b9f7d6"
  },
  {
   "metadata": {},
   "cell_type": "code",
   "source": "sns.stripplot(X['module__number_of_classes'])",
   "id": "78eb27ded80165af",
   "outputs": [],
   "execution_count": null
  },
  {
   "metadata": {},
   "cell_type": "markdown",
   "source": [
    "### IMPORTANTE\n",
    "Los tres valores máximos están muy alejados del siguiente."
   ],
   "id": "4b8ce7b26650bb25"
  },
  {
   "metadata": {},
   "cell_type": "code",
   "source": "print_outliers_for_df_column(X, 'module__number_of_classes')",
   "id": "f9ad19cbc195d14b",
   "outputs": [],
   "execution_count": null
  },
  {
   "metadata": {},
   "cell_type": "markdown",
   "source": "Describimos los valores de las variables de la tabla, cuando el valor de la variable es mayor que 73.08 (Con un MC de 96 usamos U)",
   "id": "de8203d1879b2947"
  },
  {
   "metadata": {},
   "cell_type": "code",
   "source": "X[X['module__number_of_classes'] > 73.08].describe(percentiles=[.25, .50, .75], include = ['object', 'float', 'bool', 'int'])",
   "id": "9d7c520e32635ea7",
   "outputs": [],
   "execution_count": null
  },
  {
   "metadata": {},
   "cell_type": "markdown",
   "source": [
    "### IMPORTANTE\n",
    "\n",
    "Hay tres modulos que tienen un número de clases muy superior al resto."
   ],
   "id": "f248f430c436591b"
  },
  {
   "metadata": {},
   "cell_type": "markdown",
   "source": [
    "### Variable number_of_functions (4/13)\n",
    "Esta variable representa el número de funciones en el fichero. Como vimos en la descripción de la tabla esta varibale adopta valores en el rango 0 - 258. Con una media de 2.23."
   ],
   "id": "119fc307a9194a96"
  },
  {
   "metadata": {},
   "cell_type": "code",
   "source": "sns.stripplot(X['module__number_of_functions'])",
   "id": "5efd7fbb4f34563d",
   "outputs": [],
   "execution_count": null
  },
  {
   "metadata": {},
   "cell_type": "markdown",
   "source": [
    "### IMPORTANTE\n",
    "Los dos valores máximos están muy alejados del siguiente."
   ],
   "id": "1532131224a13550"
  },
  {
   "metadata": {},
   "cell_type": "code",
   "source": "print_outliers_for_df_column(X, 'module__number_of_functions')",
   "id": "e5649a2923239004",
   "outputs": [],
   "execution_count": null
  },
  {
   "metadata": {},
   "cell_type": "markdown",
   "source": "Describimos los valores de las variables de la tabla, cuando el valor de la variable es mayor que 143 (Con un MC de 96 usamos U)",
   "id": "6fce6c26b9e84103"
  },
  {
   "metadata": {},
   "cell_type": "code",
   "source": "X[X['module__number_of_functions'] > 143].describe(percentiles=[.25, .50, .75], include = ['object', 'float', 'bool', 'int'])",
   "id": "5c5e0e6eb4cd173",
   "outputs": [],
   "execution_count": null
  },
  {
   "metadata": {},
   "cell_type": "markdown",
   "source": [
    "### IMPORTANTE\n",
    "\n",
    "Hay dos modulos que tienen un número de funciones muy superior al resto."
   ],
   "id": "6a7661d9d5d1fd19"
  },
  {
   "metadata": {},
   "cell_type": "markdown",
   "source": [
    "### Variable average_stmts_function_body (5/13)\n",
    "Esta variable representa el número medio de sentencias en el cuerpo de las funciones del fichero. Como vimos en la descripción de la tabla esta varibale adopta valores en el rango 0 - 53. Con una media de 2.52."
   ],
   "id": "a92021ee6047bd1d"
  },
  {
   "metadata": {},
   "cell_type": "code",
   "source": "sns.stripplot(X['module__average_stmts_function_body'])",
   "id": "1b8338fdb1c032b5",
   "outputs": [],
   "execution_count": null
  },
  {
   "metadata": {},
   "cell_type": "markdown",
   "source": [
    "### IMPORTANTE\n",
    "Los dos valores máximos están muy alejados del siguiente."
   ],
   "id": "5b08cf91157837ad"
  },
  {
   "metadata": {},
   "cell_type": "code",
   "source": "print_outliers_for_df_column(X, 'module__average_stmts_function_body')",
   "id": "3444c461d823515d",
   "outputs": [],
   "execution_count": null
  },
  {
   "metadata": {},
   "cell_type": "markdown",
   "source": "Describimos los valores de las variables de la tabla, cuando el valor de la variable es mayor que 41.9 (Con un MC de 46 usamos U)",
   "id": "1e39ac31f2ead734"
  },
  {
   "metadata": {},
   "cell_type": "code",
   "source": "X[X['module__average_stmts_function_body'] > 41.9].describe(percentiles=[.25, .50, .75], include = ['object', 'float', 'bool', 'int'])",
   "id": "44b1c024f9d465e9",
   "outputs": [],
   "execution_count": null
  },
  {
   "metadata": {},
   "cell_type": "markdown",
   "source": [
    "### IMPORTANTE\n",
    "Hay tres modulos que tienen un número de sentencias en el cuerpo de las funciones superior al resto."
   ],
   "id": "653cf5225249be7a"
  },
  {
   "metadata": {},
   "cell_type": "markdown",
   "source": [
    "### Variable average_stmts_method_body (6/13)\n",
    "Esta variable representa el número medio de sentencias en el cuerpo de los métodos del fichero. Como vimos en la descripción de la tabla esta varibale adopta valores en el rango 0 - 114. Con una media de 2.02."
   ],
   "id": "9e889648c0e5a078"
  },
  {
   "metadata": {},
   "cell_type": "code",
   "source": "sns.stripplot(X['module__average_stmts_method_body'])",
   "id": "536be140a0b685eb",
   "outputs": [],
   "execution_count": null
  },
  {
   "metadata": {},
   "cell_type": "markdown",
   "source": [
    "### IMPORTANTE\n",
    "Los dos valores máximos están muy alejados del siguiente."
   ],
   "id": "a02232cf858948ad"
  },
  {
   "metadata": {},
   "cell_type": "code",
   "source": "print_outliers_for_df_column(X, 'module__average_stmts_method_body')",
   "id": "d76842919b0b6dbe",
   "outputs": [],
   "execution_count": null
  },
  {
   "metadata": {},
   "cell_type": "markdown",
   "source": "Describimos los valores de las variables de la tabla, cuando el valor de la variable es mayor que 59.0 (Con un MC de 59 usamos U)",
   "id": "ecf19d8794c03aa5"
  },
  {
   "metadata": {},
   "cell_type": "code",
   "source": "X[X['module__average_stmts_method_body'] > 59.0].describe(percentiles=[.25, .50, .75], include = ['object', 'float', 'bool', 'int'])",
   "id": "e07c9b0d8cfd4af0",
   "outputs": [],
   "execution_count": null
  },
  {
   "metadata": {},
   "cell_type": "markdown",
   "source": [
    "### IMPORTANTE\n",
    "Hay un modulo que tiene un número de sentencias en el cuerpo de los métodos superior al resto."
   ],
   "id": "91a8fb15441559c7"
  },
  {
   "metadata": {},
   "cell_type": "markdown",
   "source": [
    "### Variable name_convention (7/13)\n",
    "Esta variable es de tipo categórica y representa la name_convention del nombre del fichero."
   ],
   "id": "3237adcf6d852d54"
  },
  {
   "metadata": {},
   "cell_type": "code",
   "source": "print_categorical_histogram(full_table, 'module__name_convention')",
   "id": "299706e14d9a3f2",
   "outputs": [],
   "execution_count": null
  },
  {
   "metadata": {},
   "cell_type": "code",
   "source": "print_frequency_anal_for_cat_var(full_table, 'module__name_convention')",
   "id": "f4253192e2301909",
   "outputs": [],
   "execution_count": null
  },
  {
   "metadata": {},
   "cell_type": "code",
   "source": "print_values_usage_for_cat_var(full_table, 'module__name_convention', NAMING_CONVENTION_VALUES)",
   "id": "acad0808e55afb50",
   "outputs": [],
   "execution_count": null
  },
  {
   "metadata": {},
   "cell_type": "markdown",
   "source": [
    "### Variable global_stmts_pct (8/13)\n",
    "Esta variable representa la proporción de los nodos en el global scope que son sentencias. Toma los valores de 0.0 - 1.0. La media es 0.16."
   ],
   "id": "ab0e91c1d1974f0a"
  },
  {
   "metadata": {},
   "cell_type": "code",
   "source": "sns.displot(X['module__global_stmts_pct'], bins=[i / 100 for i in range(0, 101)])",
   "id": "ae3f7b82f7e2e5a9",
   "outputs": [],
   "execution_count": null
  },
  {
   "metadata": {},
   "cell_type": "code",
   "source": "print_outliers_for_df_column(X, 'module__global_stmts_pct')",
   "id": "128a40279fa3c260",
   "outputs": [],
   "execution_count": null
  },
  {
   "metadata": {},
   "cell_type": "markdown",
   "source": "Describimos los valores de las variables de la tabla, cuando el valor de la variable es mayor que 0.625 (Con un MC de 53 usamos Tuckey)",
   "id": "48c2a422d83f3bff"
  },
  {
   "metadata": {},
   "cell_type": "code",
   "source": "X[X['module__global_stmts_pct'] > 0.625].describe(percentiles=[.25, .50, .75], include = ['object', 'float', 'bool', 'int'])",
   "id": "220b9358ad3ffcac",
   "outputs": [],
   "execution_count": null
  },
  {
   "metadata": {},
   "cell_type": "markdown",
   "source": [
    "### IMPORTANTE\n",
    "El 64% de los modulos no tiene sentencias en el global scope."
   ],
   "id": "9356721794b8f185"
  },
  {
   "metadata": {},
   "cell_type": "markdown",
   "source": [
    "### Variable global_expressions_pct (9/13)\n",
    "Esta variable representa la proporción de los nodos en el global scope son expresiones. Este campo toma valores del 0.0 - 1.0. Su media es 0.08."
   ],
   "id": "44ce042d4954490d"
  },
  {
   "metadata": {},
   "cell_type": "code",
   "source": "sns.displot(X['module__global_expressions_pct'], bins=[i / 100 for i in range(0, 101)])",
   "id": "fa0bbc143d5518cf",
   "outputs": [],
   "execution_count": null
  },
  {
   "metadata": {},
   "cell_type": "code",
   "source": "print_outliers_for_df_column(X, 'module__global_expressions_pct')",
   "id": "2af888e24190e6ae",
   "outputs": [],
   "execution_count": null
  },
  {
   "metadata": {},
   "cell_type": "markdown",
   "source": "Describimos los valores de las variables de la tabla, cuando el valor de la variable es mayor que 0.36 (Con un MC de 82 usamos Tuckey Extremo)",
   "id": "a9e293ca15999561"
  },
  {
   "metadata": {},
   "cell_type": "code",
   "source": "X[X['module__global_expressions_pct'] > 0.37].describe(percentiles=[.25, .50, .75], include = ['object', 'float', 'bool', 'int'])",
   "id": "573e8d69c5c1ffb0",
   "outputs": [],
   "execution_count": null
  },
  {
   "metadata": {},
   "cell_type": "markdown",
   "source": [
    "### IMPORTANTE\n",
    "\n",
    " El 60% de los modulos no tiene expresiones en el global scope.\n"
   ],
   "id": "f7828bbcdc5287d"
  },
  {
   "metadata": {},
   "cell_type": "markdown",
   "source": [
    "### Variable class_defs_pct (10/13)\n",
    "Esta variable representa la proporción de definiciones que son definiciones de clases. Esta variable toma valores de 0.0 - 1.0. Su media es 0.39. "
   ],
   "id": "75bd2275c90702f2"
  },
  {
   "metadata": {},
   "cell_type": "code",
   "source": "sns.displot(X['module__class_defs_pct'], bins=[i / 100 for i in range(0, 101)])",
   "id": "c549e5fab2340344",
   "outputs": [],
   "execution_count": null
  },
  {
   "metadata": {},
   "cell_type": "code",
   "source": "print_outliers_for_df_column(X, 'module__class_defs_pct')",
   "id": "e5c20979dd80188a",
   "outputs": [],
   "execution_count": null
  },
  {
   "metadata": {},
   "cell_type": "markdown",
   "source": [
    "### IMPORTANTE\n",
    "Estos valores siguen un distribucion en forma de U (distribucion de Laplace). Con lo que los posibles valores outliers estan en el medio, no en los extremos. No se puede aplicar el metodo de tukey. En este momento, solo vamos a mostrar los valores que hay en el medio."
   ],
   "id": "7095cfe13ad0944d"
  },
  {
   "metadata": {},
   "cell_type": "code",
   "source": "X[(X['module__class_defs_pct'] > 0.0) & (X['module__class_defs_pct'] < 1.0)].describe(percentiles=[.25, .50, .75], include = ['object', 'float', 'bool', 'int'])",
   "id": "d341748640f0d0f",
   "outputs": [],
   "execution_count": null
  },
  {
   "metadata": {},
   "cell_type": "markdown",
   "source": [
    "### IMPORTANTE\n",
    "\n",
    " El 50% de los modulos no tiene clases definidas."
   ],
   "id": "e9ce3952e813d74"
  },
  {
   "metadata": {},
   "cell_type": "markdown",
   "source": [
    "### Variable function_defs_pct (11/13)\n",
    "Esta variable representa la proporción de deficiones que son definiciones de funciones. Esta variable toma valores de 0.0 - 1.0. Su media es 0.40"
   ],
   "id": "e1812f30451e79fe"
  },
  {
   "metadata": {},
   "cell_type": "code",
   "source": "sns.displot(X['module__function_defs_pct'], bins=[i / 100 for i in range(0, 101)])",
   "id": "f33d936a0f350bd7",
   "outputs": [],
   "execution_count": null
  },
  {
   "metadata": {},
   "cell_type": "code",
   "source": "print_outliers_for_df_column(X, 'module__function_defs_pct')",
   "id": "82b55b2117c14ee8",
   "outputs": [],
   "execution_count": null
  },
  {
   "metadata": {},
   "cell_type": "markdown",
   "source": [
    "### IMPORTANTE\n",
    "Estos valores siguen un distribucion en forma de U (distribucion de Laplace). Con lo que los posibles valores outliers estan en el medio, no en los extremos. No se puede aplicar el metodo de tukey. En este momento, solo vamos a mostrar los valores que hay en el medio."
   ],
   "id": "eea5df27dd8e9d5"
  },
  {
   "metadata": {},
   "cell_type": "code",
   "source": "X[(X['module__function_defs_pct'] > 0.0) & (X['module__function_defs_pct'] < 1.0)].describe(percentiles=[.25, .50, .75], include = ['object', 'float', 'bool', 'int'])",
   "id": "cbbe2d55d54aa441",
   "outputs": [],
   "execution_count": null
  },
  {
   "metadata": {},
   "cell_type": "markdown",
   "source": [
    "### IMPORTANTE\n",
    "\n",
    " Casi el 50% de los modulos no tienen definiciones de funciones"
   ],
   "id": "28f44b0a8f13d667"
  },
  {
   "metadata": {},
   "cell_type": "markdown",
   "source": [
    "### Variable enum_defs_pct (12/13)\n",
    "Esta variable representa la proporción de las definiciones que son clases con la notación enum. Esta variable toma valores de 0.0 - 0.0. Su media es 0.05."
   ],
   "id": "cd6bb41f051bc2ad"
  },
  {
   "metadata": {},
   "cell_type": "code",
   "source": "sns.displot(X['module__enum_defs_pct'], bins=[i / 100 for i in range(0, 101)])",
   "id": "35e21212cf8a04f0",
   "outputs": [],
   "execution_count": null
  },
  {
   "metadata": {},
   "cell_type": "code",
   "source": "print_outliers_for_df_column(X, 'module__enum_defs_pct')",
   "id": "1a4f26a5df0b4e16",
   "outputs": [],
   "execution_count": null
  },
  {
   "metadata": {},
   "cell_type": "markdown",
   "source": "Describimos los valores de las variables de la tabla, cuando el valor de la variable es mayor que 0 (Todos los umbrales son 0)",
   "id": "357daaa56eb1f9d"
  },
  {
   "metadata": {},
   "cell_type": "code",
   "source": "X[X['module__enum_defs_pct'] > 0.0].describe(percentiles=[.25, .50, .75], include = ['object', 'float', 'bool', 'int'])",
   "id": "f48e9080628a79d4",
   "outputs": [],
   "execution_count": null
  },
  {
   "metadata": {},
   "cell_type": "markdown",
   "source": [
    "### IMPORTANTE\n",
    "Apenas un 2% de los modulos tienen definiciones de enums."
   ],
   "id": "770474fc5b2e48c3"
  },
  {
   "metadata": {},
   "cell_type": "markdown",
   "source": [
    "### Variable type_annotations_pct (13/13)\n",
    "Esta variable representa la proporción de los parámetros y returns de funciones y métodos que tienen una anotación de tipo. Toma valores entre 0.0 - 0.90. Su media es 0.19."
   ],
   "id": "2fbcb74ec7a4d9ec"
  },
  {
   "metadata": {},
   "cell_type": "code",
   "source": "sns.displot(X['module__type_annotations_pct'], bins=[i / 100 for i in range(0, 101)])",
   "id": "85e238d4a876cbd8",
   "outputs": [],
   "execution_count": null
  },
  {
   "metadata": {},
   "cell_type": "code",
   "source": "print_outliers_for_df_column(X, 'module__type_annotations_pct')",
   "id": "78208e09ebe94012",
   "outputs": [],
   "execution_count": null
  },
  {
   "metadata": {},
   "cell_type": "markdown",
   "source": "Describimos los valores de las variables de la tabla, cuando el valor de la variable es mayor que 0 (Todos los umbrales son 0)",
   "id": "8fc32501a2596d98"
  },
  {
   "metadata": {},
   "cell_type": "code",
   "source": "X[X['module__type_annotations_pct'] > 0.0].describe(percentiles=[.25, .50, .75], include = ['object', 'float', 'bool', 'int'])",
   "id": "445f23dcf94c6abf",
   "outputs": [],
   "execution_count": null
  },
  {
   "metadata": {},
   "cell_type": "markdown",
   "source": [
    "### IMPORTANTE\n",
    "El 40% de los modulos tienen anotaciones de tipo."
   ],
   "id": "42d913aa4bb2727f"
  },
  {
   "metadata": {},
   "cell_type": "markdown",
   "source": [
    "## Multivariate\n",
    "\n",
    "Isolation forest algorithm"
   ],
   "id": "62bacd3c687cb449"
  },
  {
   "metadata": {},
   "cell_type": "code",
   "source": [
    "from sklearn.ensemble import  IsolationForest\n",
    "\n",
    "CONTAMINATION_FACTOR = 0.0012\n",
    "isof_model = IsolationForest(contamination=CONTAMINATION_FACTOR, random_state=0)\n",
    "isof_prediction = isof_model.fit_predict(X.values)\n",
    "mask = isof_prediction == -1\n",
    "full_table.loc[X.index[mask]]"
   ],
   "id": "aa6cc593fc3853c7",
   "outputs": [],
   "execution_count": null
  },
  {
   "metadata": {},
   "cell_type": "markdown",
   "source": [
    "### IMPORTANTE\n",
    "Analizar los 14 resultados obtenidos."
   ],
   "id": "63372f0eea255191"
  },
  {
   "metadata": {},
   "cell_type": "code",
   "source": [
    "# Outliers\n",
    "np.transpose(X[mask].describe(percentiles=[.25, .50, .75], include=['object', 'float', 'bool', 'int']))"
   ],
   "id": "c23a40d3252f5c3e",
   "outputs": [],
   "execution_count": null
  },
  {
   "metadata": {},
   "cell_type": "code",
   "source": [
    "# Non-Outliers\n",
    "np.transpose(X[~mask].describe(percentiles=[.25, .50, .75], include=['object', 'float', 'bool', 'int']))"
   ],
   "id": "2bc4d0b3669d4ab3",
   "outputs": [],
   "execution_count": null
  }
 ],
 "metadata": {
  "kernelspec": {
   "display_name": "Python 3",
   "language": "python",
   "name": "python3"
  },
  "language_info": {
   "codemirror_mode": {
    "name": "ipython",
    "version": 2
   },
   "file_extension": ".py",
   "mimetype": "text/x-python",
   "name": "python",
   "nbconvert_exporter": "python",
   "pygments_lexer": "ipython2",
   "version": "2.7.6"
  }
 },
 "nbformat": 4,
 "nbformat_minor": 5
}
