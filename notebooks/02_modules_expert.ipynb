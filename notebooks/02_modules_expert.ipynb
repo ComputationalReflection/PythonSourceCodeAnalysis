{
 "cells": [
  {
   "metadata": {},
   "cell_type": "markdown",
   "source": [
    "# Modules EXPERT\n",
    "\n",
    "Esta tabla contiene la información a nivel de fichero (módulo) de la clase EXPERT.  --> ABEL COMPLETAR <--"
   ],
   "id": "148ae8871134f924"
  },
  {
   "metadata": {},
   "cell_type": "markdown",
   "source": "## 1 - Obtencion de datos",
   "id": "d3c24a719032807f"
  },
  {
   "metadata": {
    "ExecuteTime": {
     "end_time": "2024-05-09T18:13:09.917176Z",
     "start_time": "2024-05-09T18:13:09.886807Z"
    }
   },
   "cell_type": "code",
   "source": [
    "import matplotlib.pyplot as plt\n",
    "from notebooks_utils import *\n",
    "\n",
    "TARGET_FEATURE = 'module__expertise_level'\n",
    "TARGET_CLASS = 'EXPERT'\n",
    "full_table = get_data('modules')\n",
    "\n",
    "instances_for_class_low = len(full_table[full_table[TARGET_FEATURE] == \"BEGINNER\"])\n",
    "instances_for_class_high = len(full_table[full_table[TARGET_FEATURE] == \"EXPERT\"])\n",
    "\n",
    "print(f\"The dataset contains {instances_for_class_low} ({instances_for_class_low/len(full_table)*100:.4}%) instances for BEGINNER class and {instances_for_class_high} ({instances_for_class_high/len(full_table)*100:.4}%) for EXPERT class.\")"
   ],
   "id": "d4bfc0d66423574c",
   "execution_count": 72,
   "outputs": []
  },
  {
   "metadata": {
    "ExecuteTime": {
     "end_time": "2024-05-09T18:13:11.033737Z",
     "start_time": "2024-05-09T18:13:11.017058Z"
    }
   },
   "cell_type": "code",
   "source": [
    "full_table = full_table[full_table[TARGET_FEATURE] == TARGET_CLASS]\n",
    "\n",
    "# Table name, features and target.\n",
    "TABLE_NAME = 'modules'\n",
    "TABLE_FEATURES = ['module__name_convention', 'module__has_doc_string', 'module__global_stmts_pct', 'module__global_expressions_pct', 'module__number_of_classes', 'module__number_of_functions', 'module__class_defs_pct', 'module__function_defs_pct', 'module__enum_defs_pct', 'module__average_stmts_function_body', 'module__average_stmts_method_body', 'module__type_annotations_pct', 'module__has_entry_point']\n",
    "\n",
    "# Load features and target.\n",
    "X = full_table[TABLE_FEATURES]\n",
    "\n",
    "# Print information about the loaded table.\n",
    "print(f' {TARGET_CLASS} CLASS Features shape: {X.shape}')\n",
    "\n",
    "print(f'As we can see the downloaded data contains a total of {X.shape[0]} instances of {TARGET_CLASS}. Each of the instances corresponds to a file. For each file we have {X.shape[1]} attributes.')"
   ],
   "id": "9f0a949e91eb384b",
   "execution_count": 73,
   "outputs": []
  },
  {
   "metadata": {},
   "cell_type": "markdown",
   "source": [
    "## 2 - Exploracion de datos\n",
    "\n",
    "Una vez tenemos nuestra tabla en un dataframe el siguiente paso es explorarla para ver qué tipo de información contiene."
   ],
   "id": "bcda7cb784bf0a1"
  },
  {
   "metadata": {
    "ExecuteTime": {
     "end_time": "2024-05-09T18:13:11.114829Z",
     "start_time": "2024-05-09T18:13:11.096733Z"
    }
   },
   "cell_type": "code",
   "source": "print(X.info())",
   "id": "2eb3d09993235bcb",
   "execution_count": 74,
   "outputs": []
  },
  {
   "metadata": {},
   "cell_type": "markdown",
   "source": "Cómo podemos ver la tabla está compuesta por diez variables numéricas, dos variables boleanas y dos de tipo objeto. Las dos últimas variables son la etiqueta de la instancia y el name convention. Sin embargo, en algunas ocasiones estas últimas clases no las vamos a utilizar. Por ejemplo, si queremos obtener clusters por medio de aprendizaje no supervisado.",
   "id": "24f7607501c2e574"
  },
  {
   "metadata": {},
   "cell_type": "markdown",
   "source": [
    "### 2.1 - Duplicados\n",
    "Miramos si la tabla tiene entradas duplicadas."
   ],
   "id": "3b9b55798c7ecbd5"
  },
  {
   "metadata": {
    "ExecuteTime": {
     "end_time": "2024-05-09T18:13:11.321630Z",
     "start_time": "2024-05-09T18:13:11.297829Z"
    }
   },
   "cell_type": "code",
   "source": [
    "number_of_duplicated_entries = sum(full_table.duplicated(subset=TABLE_FEATURES))\n",
    "duplicated_entries_pct = number_of_duplicated_entries / len(full_table) * 100\n",
    "print(f\"The dataset contains [{duplicated_entries_pct:.4}%] of duplicated entries.\")"
   ],
   "id": "ed5e6830bbf484a6",
   "execution_count": 75,
   "outputs": []
  },
  {
   "metadata": {},
   "cell_type": "markdown",
   "source": [
    "### 2.3 - Valores Nulos \n",
    "Miramos si alguna de las variables que contiene la tabla contiene algún valor que sea nulo."
   ],
   "id": "63d4e4ed1d8d2c6c"
  },
  {
   "metadata": {
    "ExecuteTime": {
     "end_time": "2024-05-09T18:13:11.601232Z",
     "start_time": "2024-05-09T18:13:11.587639Z"
    }
   },
   "cell_type": "code",
   "source": "X.isnull().sum()",
   "id": "6c991380e6e0413e",
   "execution_count": 76,
   "outputs": []
  },
  {
   "metadata": {
    "ExecuteTime": {
     "end_time": "2024-05-09T18:13:11.880992Z",
     "start_time": "2024-05-09T18:13:11.858044Z"
    }
   },
   "cell_type": "code",
   "source": "print_empty_cols(X)",
   "id": "18b2dfadf1719a4b",
   "execution_count": 77,
   "outputs": []
  },
  {
   "metadata": {},
   "cell_type": "markdown",
   "source": "### 2.4 - Describimos los valores de las variables de la tabla.",
   "id": "5bb94c0f81c08024"
  },
  {
   "metadata": {
    "ExecuteTime": {
     "end_time": "2024-05-09T18:13:12.051848Z",
     "start_time": "2024-05-09T18:13:11.962426Z"
    }
   },
   "cell_type": "code",
   "source": "np.transpose(X.describe(percentiles=[.25, .50, .75], include = ['object', 'float', 'bool', 'int']))",
   "id": "74bba302a29fbfd5",
   "execution_count": 78,
   "outputs": []
  },
  {
   "metadata": {},
   "cell_type": "markdown",
   "source": "Vamos a discretizar las variables numericas, agrupando conjuntos de valores en categorias, para hacer un análisis de los datos. Para cada variable es necesaario ver la distribucion de lo valores para hacer los bins (categorias).",
   "id": "9af3eb59b924a596"
  },
  {
   "metadata": {
    "ExecuteTime": {
     "end_time": "2024-05-09T18:13:13.234864Z",
     "start_time": "2024-05-09T18:13:12.244775Z"
    }
   },
   "cell_type": "code",
   "source": [
    "# DISCRETIZATION\n",
    "X_copy = X.copy()\n",
    "\n",
    "discretized_columns = {\n",
    "    \"module__class_defs_pct\": [(0.0, 0.0),(0.0, 1.0), (1.0, 1.0)],  # min: 0.0 max: 1.0\n",
    "    \"module__function_defs_pct\": [(0.0, 0.0),(0.0, 1.0), (1.0, 1.0)],  # min: 0.0 max: 1.0\n",
    "    \"module__enum_defs_pct\": [(0.0, 0.0), (0.0, inf)],  # min: 0.0 max: 0.19\n",
    "    \"module__number_of_classes\": [(1, 1), (2,2), (3,3), (4,inf)],  # min: 1 max: 3294\n",
    "    \"module__number_of_functions\": [(0, 0), (0, inf)], # min: 0 max: 238\n",
    "    \"module__type_annotations_pct\": [(0, 0), (0, 1.0)], # min: 0 max: 1297\n",
    "    \"module__average_stmts_function_body\": [(0, 0), (0, 1), (1, 3), (3, inf)],\n",
    "    \"module__average_stmts_method_body\": [(0, 0), (0, 1), (1, 3), (3, inf)],\n",
    "    \"module__global_expressions_pct\": [(0,0), (0, inf)], # min: 0 max: 26\n",
    "    \"module__global_stmts_pct\": [(0, 0), (0, inf)]\n",
    "}\n",
    "\n",
    "discretize_columns(X_copy, discretized_columns)\n",
    "    \n",
    "# SINGLE FEATURE\n",
    "print(\"--- SINGLE FEATURE ---\")\n",
    "print(get_statistics(X_copy, ['module__class_defs_pct'], 10))\n",
    "print(get_statistics(X_copy, ['module__function_defs_pct'], 10))\n",
    "print(get_statistics(X_copy, ['module__enum_defs_pct'], 10))\n",
    "print(get_statistics(X_copy, ['module__number_of_classes'], 10))\n",
    "print(get_statistics(X_copy, ['module__number_of_functions'], 10))\n",
    "print(get_statistics(X_copy, ['module__type_annotations_pct'], 10))\n",
    "print(get_statistics(X_copy, ['module__average_stmts_function_body'], 10))\n",
    "print(get_statistics(X_copy, ['module__average_stmts_method_body'], 10))\n",
    "print(get_statistics(X_copy, ['module__global_expressions_pct'], 10))\n",
    "print(get_statistics(X_copy, ['module__global_stmts_pct'], 10))\n",
    "\n",
    "# 2 FEATURES\n",
    "print(\"--- TWO FEATURES ---\")\n",
    "print(get_statistics(X_copy, ['module__function_defs_pct', 'module__number_of_classes'], 10))\n",
    "print(get_statistics(X_copy, ['module__name_convention_SnakeCase', 'module__expertise_level_EXPERT'], 10))\n",
    "print(get_statistics(X_copy, ['module__name_convention_CamelUp', 'module__expertise_level_BEGINNER'], 10))\n",
    "\n",
    "# 3 FEATURES\n",
    "print(\"--- THREE FEATURES ---\")\n",
    "#print(get_statistics(X_copy, ['program__has_sub_dirs_with_code', 'program__has_packages', 'program__has_code_root_package'], 10))"
   ],
   "id": "6baf20dd3e3ca759",
   "execution_count": 79,
   "outputs": []
  },
  {
   "metadata": {},
   "cell_type": "code",
   "source": [
    "def normalize_datatypes(X:pd.DataFrame) -> (pd.DataFrame, [str]):\n",
    "    X = pd.get_dummies(X)\n",
    "    X = X.astype('float32')        \n",
    "    columns_names = X.columns.tolist()\n",
    "    return X, columns_names\n",
    "\n",
    "X, TABLE_FEATURES = normalize_datatypes(X)\n",
    "# Print information about the loaded table\n",
    "print(f'Features shape: {X.shape}')"
   ],
   "id": "5084c89dcb377a92",
   "execution_count": null,
   "outputs": []
  },
  {
   "metadata": {},
   "cell_type": "markdown",
   "source": "#### Muestra la matriz de correlación de pearson entre las variables de la tabla.",
   "id": "ed8befe21328a079"
  },
  {
   "metadata": {},
   "cell_type": "code",
   "source": "sns.heatmap(X.corr(), annot=False)",
   "id": "dea960d18d682104",
   "execution_count": null,
   "outputs": []
  },
  {
   "metadata": {},
   "cell_type": "markdown",
   "source": [
    "## 3 - Detección de valores atípicos (outliers)\n",
    "Una vez sabemos qué datos contiene la tabla, analizaremos los valores que toma cada una de las variables de cada instancia. El objetivo es identificar posibles valores atípicos que nos dificulten la realización de futuras tareas. \n",
    "Tras su análisis, se puede concluir que un valor:\n",
    "    - **Es erróneo**. En este caso hay que tomar una decisión para cada caso, siendo los tratamientos más extendidos son listwise, pairwise, drop variables, mean/median imputation, most frequent, separate category, zero imputation, cold deck, hot deck,(stochastic) regression, k-NN and multiple imputation. Los resultados de imputación regresiva, k-NN y múltiple dan buenos resultados, aunque, como se ha indicado, es necesario el estudio en cada caso.\n",
    "    - **Es correcto, pero anómalo**. Se documenta su existencia para su posible discusión y se mantiene en el dataset. En estos casos se hace necesaria la utilización de algoritmos y estadísticos que no sean muy sensibles a dichos valores anómalos.\n",
    "\n",
    "## Univariate\n",
    "Para cada uno de los atributos se debe realizar un análisis y detección de valores atípicos, estudiando su posible causa. \n",
    "Existen diversas formas de calcular los valores anómalos. \n",
    "\n",
    "### Variables numéricas\n",
    "Para las variables numéricas, se suele identificar: \n",
    "    - a) Valor atípico leve es el que está fuera de $[Q1 - 1.5IQR, Q3 + 1.5IQR]$, donde $IQR = Q3-Q1$.\n",
    "    - b) Valor atípico extremo está fuera de $[Q1 - 3IQR, Q3 + 3IQR]$.\n",
    "\n",
    "La idea es probar con a) y si hay pocas instancias analizarlas. Si hubiese muchas, mirar b) y analizar si fuesen pocas. No hay un algoritmo o método estipulado, puesto que depende del dominio del problema y de los datos.\n",
    "\n",
    "Los límites de Tukey se basan en los cuartiles de los datos y son sensibles a la presencia de sesgo en la distribución. Cuando hay asimetría en los datos, los límites de Tukey pueden no ser tan efectivos para identificar outliers de manera equitativa en ambos extremos de la distribución. El Coeficiente de Medcouple es útil para identificar la asimetría en los datos, especialmente en presencia de valores atípicos o sesgados. Es una medida robusta porque no se ve tan afectada por valores extremos como la media y la desviación estándar. El MC puede proporcionar información adicional sobre la asimetría de la distribución, lo que te permite ajustar los límites de Tukey de manera más apropiada para tu conjunto de datos específico. Una posible variacion de los límites de Tukey teniendo en cuenta MC podria ser: \n",
    "   - Si MC es mayor que 0 (asimetría hacia la derecha):\n",
    "      - low = (q1-1.5 * math.exp(-4*mc) * iqr)\n",
    "      - high = (q3+1.5 * math.exp(3.5*mc) * iqr)\n",
    "   - Si la asimetriza es hacia la izquierda:    \n",
    "      - low = (q1-1.5 * math.exp(-3.5*mc) * iqr)\n",
    "      - high = (q3+1.5 * math.exp(4*mc) * iqr)\n",
    "\n",
    "\n",
    "### Variables categóricas\n",
    "Para las variables categóricas no existe el concepto de valor anómalo, pero sí se puede considerar en base a un análisis de frecuencia. Por ejemplo, que el uso de una categoría sea residual, pudiendo tener un 0.1% de instancias en el dataset. Para detectar estos valores, se puede fijar un valor mínimo de frecuencia en función del número posible de valores de la variable categórica (2 en el caso de una variable booleana). Por ejemplo, un umbral de $\\frac{0.2\\%}{valores}$ (0.1% en el caso de una variable booleana)"
   ],
   "id": "599c97eec7b7d283"
  },
  {
   "metadata": {},
   "cell_type": "markdown",
   "source": [
    "## Analisis detallado de variables\n",
    "Para cada una de las 10 variable (3 booleanas, 4 porcentuales y 3 numericas) se hara un analisis detallado "
   ],
   "id": "132c8742057275c"
  },
  {
   "metadata": {},
   "cell_type": "markdown",
   "source": [
    "### Variable has_doc_string (1/14)\n",
    "Esta variable es de tipo booleano y representa si el fichero contiene un comentario como primer nodo. El primer paso es hacer un análisis visual de como se distribuyen los valores de la variable."
   ],
   "id": "6abba739e46da213"
  },
  {
   "metadata": {},
   "cell_type": "code",
   "source": [
    "plt.xticks([0, 1], ['False', 'True'])\n",
    "sns.histplot(X['module__has_doc_string'], discrete=True)"
   ],
   "id": "4ab35b2ef94a3379",
   "execution_count": null,
   "outputs": []
  },
  {
   "metadata": {},
   "cell_type": "markdown",
   "source": "Siempre toma el valor false. Habría que analizar si es un fallo de toma de datos o es realidad que ningún fichero tiene doc_string.",
   "id": "cd9f29c2dfc72638"
  },
  {
   "metadata": {
    "ExecuteTime": {
     "end_time": "2024-05-09T18:13:13.451291Z",
     "start_time": "2024-05-09T18:13:13.428102Z"
    }
   },
   "cell_type": "code",
   "source": [
    "num_true_values = len(X[X['module__has_doc_string'] == True])\n",
    "num_false_values = len(X[X['module__has_doc_string'] == False])\n",
    "std = X['module__has_doc_string'].std()\n",
    "freq_true = len(X[X['module__has_doc_string'] == True]) / len(X['module__has_doc_string'])\n",
    "freq_false = len(X[X['module__has_doc_string'] == False]) / len(X['module__has_doc_string'])\n",
    "print(f'La variable has_doc_string contiene {num_true_values} valores verdaderos y {num_false_values} valores falsos. Y, la desviación típica es de {std}')\n",
    "print(f'La frecuencia con la que programa puede tener la variable has_doc_string a True es {freq_true}.')\n",
    "print(f'La frecuencia con la que programa puede tener la variable has_doc_string a False es {freq_false}.')"
   ],
   "id": "f4a042829ae6fac5",
   "execution_count": 80,
   "outputs": []
  },
  {
   "metadata": {
    "ExecuteTime": {
     "end_time": "2024-05-09T18:13:13.567705Z",
     "start_time": "2024-05-09T18:13:13.554260Z"
    }
   },
   "cell_type": "code",
   "source": [
    "possible_values = [True, False]\n",
    "print_frequency_anal_for_cat_var(X, 'module__has_doc_string', possible_values)"
   ],
   "id": "c614dd60d0ab8e5b",
   "execution_count": 81,
   "outputs": []
  },
  {
   "metadata": {
    "ExecuteTime": {
     "end_time": "2024-05-09T18:13:14.638677Z",
     "start_time": "2024-05-09T18:13:14.565775Z"
    }
   },
   "cell_type": "code",
   "source": "X[X['module__has_doc_string'] == True].describe(percentiles=[.25, .50, .75], include = ['object', 'float', 'bool', 'int'])\n",
   "id": "6c33bdd1420008cf",
   "execution_count": 82,
   "outputs": []
  },
  {
   "metadata": {},
   "cell_type": "markdown",
   "source": [
    "### Variable has_entry_point (2/14)\n",
    "Esta variable es de tipo booleano y representa si el fichero contiene el idiom \"if __name__ == '__main__'\". El primer paso es hacer un análisis visual de como se distribuyen los valores de la variable."
   ],
   "id": "1fa4491178ba606c"
  },
  {
   "metadata": {
    "ExecuteTime": {
     "end_time": "2024-05-09T18:13:14.973648Z",
     "start_time": "2024-05-09T18:13:14.737670Z"
    }
   },
   "cell_type": "code",
   "source": [
    "plt.xticks([0, 1], ['False', 'True'])\n",
    "sns.histplot(X['module__has_entry_point'], discrete=True)"
   ],
   "id": "529b7fd2ad00b058",
   "execution_count": 83,
   "outputs": []
  },
  {
   "metadata": {
    "ExecuteTime": {
     "end_time": "2024-05-09T18:13:14.994379Z",
     "start_time": "2024-05-09T18:13:14.977639Z"
    }
   },
   "cell_type": "code",
   "source": [
    "#ANALISIS DE DISTRIBUCIÓN DE DATOS\n",
    "num_true_values = len(X[X['module__has_entry_point'] == True])\n",
    "num_false_values = len(X[X['module__has_entry_point'] == False])\n",
    "std = X['module__has_entry_point'].std()\n",
    "freq_true = len(X[X['module__has_entry_point'] == True]) / len(X['module__has_entry_point'])\n",
    "freq_false = len(X[X['module__has_entry_point'] == False]) / len(X['module__has_entry_point'])\n",
    "print(f'La variable has_entry_point contiene {num_true_values} valores verdaderos y {num_false_values} valores falsos. Y, la desviación típica es de {std}')\n",
    "print(f'La frecuencia con la que programa puede tener la variable has_entry_point a True es {freq_true}.')\n",
    "print(f'La frecuencia con la que programa puede tener la variable has_entry_point a False es {freq_false}.')"
   ],
   "id": "d1bed1e471481adc",
   "execution_count": 84,
   "outputs": []
  },
  {
   "metadata": {
    "ExecuteTime": {
     "end_time": "2024-05-09T18:13:15.051644Z",
     "start_time": "2024-05-09T18:13:15.039363Z"
    }
   },
   "cell_type": "code",
   "source": [
    "#PROBABILIDAD DE VALORES\n",
    "possible_values = [True, False]\n",
    "print_frequency_anal_for_cat_var(X, 'module__has_entry_point', possible_values)"
   ],
   "id": "c54b472864a47e88",
   "execution_count": 85,
   "outputs": []
  },
  {
   "metadata": {
    "ExecuteTime": {
     "end_time": "2024-05-09T18:13:15.433064Z",
     "start_time": "2024-05-09T18:13:15.367061Z"
    }
   },
   "cell_type": "code",
   "source": [
    "#VALORES DE LOS DATOS CONDICIONADOS A TRUE/FALSE\n",
    "X[X['module__has_entry_point'] == True].describe(percentiles=[.25, .50, .75], include = ['object', 'float', 'bool', 'int'])"
   ],
   "id": "4bd840561db5f69f",
   "execution_count": 86,
   "outputs": []
  },
  {
   "metadata": {},
   "cell_type": "markdown",
   "source": [
    "### Variable number_of_classes (3/14)\n",
    "Esta variable es de tipo numérica y nos indica el número de clases definidos en el fichero. Como vimos en la descripción de la tabla esta varibale adopta valores en el rango 0 - 113. Con una media de 1,047899."
   ],
   "id": "55e11303a6b9f7d6"
  },
  {
   "metadata": {
    "ExecuteTime": {
     "end_time": "2024-05-09T18:13:15.980951Z",
     "start_time": "2024-05-09T18:13:15.632072Z"
    }
   },
   "cell_type": "code",
   "source": "sns.stripplot(X['module__number_of_classes'])",
   "id": "78eb27ded80165af",
   "execution_count": 87,
   "outputs": []
  },
  {
   "metadata": {
    "ExecuteTime": {
     "end_time": "2024-05-09T18:13:16.003036Z",
     "start_time": "2024-05-09T18:13:15.983938Z"
    }
   },
   "cell_type": "code",
   "source": "print_outliers_for_df_column(X, 'module__number_of_classes')",
   "id": "f9ad19cbc195d14b",
   "execution_count": 88,
   "outputs": []
  },
  {
   "metadata": {
    "ExecuteTime": {
     "end_time": "2024-05-09T18:13:16.154213Z",
     "start_time": "2024-05-09T18:13:16.095035Z"
    }
   },
   "cell_type": "code",
   "source": "X[X['module__number_of_classes'] > 76.8].describe(percentiles=[.25, .50, .75], include = ['object', 'float', 'bool', 'int'])",
   "id": "9d7c520e32635ea7",
   "execution_count": 89,
   "outputs": []
  },
  {
   "metadata": {},
   "cell_type": "markdown",
   "source": "Hay que revisar los tres casos con un número de clases mayor que 80. Son tres clases de expertos con miles de lineas. ",
   "id": "f248f430c436591b"
  },
  {
   "metadata": {},
   "cell_type": "markdown",
   "source": [
    "### Variable number_of_functions (4/14)\n",
    "Esta variable representa el número de funciones en el fichero. Como vimos en la descripción de la tabla esta varibale adopta valores en el rango 0 - 258. Con una media de 2.523044."
   ],
   "id": "119fc307a9194a96"
  },
  {
   "metadata": {
    "ExecuteTime": {
     "end_time": "2024-05-09T18:13:16.583783Z",
     "start_time": "2024-05-09T18:13:16.304217Z"
    }
   },
   "cell_type": "code",
   "source": "sns.stripplot(X['module__number_of_functions'])",
   "id": "5efd7fbb4f34563d",
   "execution_count": 90,
   "outputs": []
  },
  {
   "metadata": {
    "ExecuteTime": {
     "end_time": "2024-05-09T18:13:16.850318Z",
     "start_time": "2024-05-09T18:13:16.831792Z"
    }
   },
   "cell_type": "code",
   "source": "print_outliers_for_df_column(X, 'module__number_of_functions')",
   "id": "e5649a2923239004",
   "execution_count": 91,
   "outputs": []
  },
  {
   "metadata": {
    "ExecuteTime": {
     "end_time": "2024-05-09T18:13:17.153842Z",
     "start_time": "2024-05-09T18:13:17.051841Z"
    }
   },
   "cell_type": "code",
   "source": "X[X['module__number_of_functions'] > 185.9].describe(percentiles=[.25, .50, .75], include = ['object', 'float', 'bool', 'int'])",
   "id": "5c5e0e6eb4cd173",
   "execution_count": 92,
   "outputs": []
  },
  {
   "metadata": {},
   "cell_type": "markdown",
   "source": "Este fichero es un modelo de expertos.",
   "id": "6a7661d9d5d1fd19"
  },
  {
   "metadata": {},
   "cell_type": "markdown",
   "source": [
    "### Variable average_stmts_function_body (5/14)\n",
    "Esta variable representa el número medio de sentencias en el cuerpo de las funciones del fichero. Como vimos en la descripción de la tabla esta varibale adopta valores en el rango 0 - 53. Con una media de 2.732112.\n",
    "\n",
    "Usando sentido común se va a condicionar este estudio a los ficheros con al menos una función.\n",
    "\n",
    "Habría que analizar porque la media es tan solo de 2.73"
   ],
   "id": "a92021ee6047bd1d"
  },
  {
   "metadata": {
    "ExecuteTime": {
     "end_time": "2024-05-09T18:13:17.914737Z",
     "start_time": "2024-05-09T18:13:17.525445Z"
    }
   },
   "cell_type": "code",
   "source": "sns.stripplot(X['module__average_stmts_function_body'])",
   "id": "1b8338fdb1c032b5",
   "execution_count": 93,
   "outputs": []
  },
  {
   "metadata": {
    "ExecuteTime": {
     "end_time": "2024-05-09T18:13:17.956589Z",
     "start_time": "2024-05-09T18:13:17.938260Z"
    }
   },
   "cell_type": "code",
   "source": "print_outliers_for_df_column(X, 'module__average_stmts_function_body')",
   "id": "3444c461d823515d",
   "execution_count": 94,
   "outputs": []
  },
  {
   "metadata": {
    "ExecuteTime": {
     "end_time": "2024-05-09T18:13:18.436313Z",
     "start_time": "2024-05-09T18:13:18.365607Z"
    }
   },
   "cell_type": "code",
   "source": "X[X['module__average_stmts_function_body'] > 17.6].describe(percentiles=[.25, .50, .75], include = ['object', 'float', 'bool', 'int'])",
   "id": "44b1c024f9d465e9",
   "execution_count": 95,
   "outputs": []
  },
  {
   "metadata": {
    "ExecuteTime": {
     "end_time": "2024-05-09T18:13:18.822068Z",
     "start_time": "2024-05-09T18:13:18.745501Z"
    }
   },
   "cell_type": "code",
   "source": "X[X['module__average_stmts_function_body'] == 0.0].describe(percentiles=[.25, .50, .75], include = ['object', 'float', 'bool', 'int'])",
   "id": "a26f499bbfa438dc",
   "execution_count": 96,
   "outputs": []
  },
  {
   "metadata": {},
   "cell_type": "markdown",
   "source": "8602 ficheros con una media de 0 sentencias por funcion es muy raro. Vamos a realizar esta medición condicionado a tener al menos una función.",
   "id": "ce932ee182cd1be4"
  },
  {
   "metadata": {
    "ExecuteTime": {
     "end_time": "2024-05-09T18:13:19.134140Z",
     "start_time": "2024-05-09T18:13:19.059461Z"
    }
   },
   "cell_type": "code",
   "source": "X[X['module__number_of_functions'] > 0].describe(percentiles=[.25, .50, .75], include = ['object', 'float', 'bool', 'int'])",
   "id": "3226855d1ecfd7a1",
   "execution_count": 97,
   "outputs": []
  },
  {
   "metadata": {},
   "cell_type": "markdown",
   "source": "Vamos a describir esta variable condicionada a tener al menos una función para ver la media real.",
   "id": "cb34e6b397031060"
  },
  {
   "metadata": {
    "ExecuteTime": {
     "end_time": "2024-05-09T18:13:19.349608Z",
     "start_time": "2024-05-09T18:13:19.331147Z"
    }
   },
   "cell_type": "code",
   "source": "X[X['module__number_of_functions'] > 0]['module__average_stmts_function_body'].describe(percentiles=[.25, .50, .75], include = ['object', 'float', 'bool', 'int'])",
   "id": "160cf9e88b98cbd7",
   "execution_count": 98,
   "outputs": []
  },
  {
   "metadata": {},
   "cell_type": "markdown",
   "source": [
    "### Variable average_stmts_method_body (6/14)\n",
    "Esta variable representa el número medio de sentencias en el cuerpo de los métodos del fichero. Como vimos en la descripción de la tabla esta varibale adopta valores en el rango 0 - 114. Con una media de 1.66441.\n",
    "\n",
    "Usando sentido común se va a condicionar este estudio a los ficheros con al menos una función."
   ],
   "id": "9e889648c0e5a078"
  },
  {
   "metadata": {
    "ExecuteTime": {
     "end_time": "2024-05-09T18:13:19.995937Z",
     "start_time": "2024-05-09T18:13:19.680623Z"
    }
   },
   "cell_type": "code",
   "source": "sns.stripplot(X['module__average_stmts_method_body'])",
   "id": "536be140a0b685eb",
   "execution_count": 99,
   "outputs": []
  },
  {
   "metadata": {
    "ExecuteTime": {
     "end_time": "2024-05-09T18:13:20.187950Z",
     "start_time": "2024-05-09T18:13:20.167952Z"
    }
   },
   "cell_type": "code",
   "source": "print_outliers_for_df_column(X, 'module__average_stmts_method_body')",
   "id": "d76842919b0b6dbe",
   "execution_count": 100,
   "outputs": []
  },
  {
   "metadata": {
    "ExecuteTime": {
     "end_time": "2024-05-09T18:13:20.870783Z",
     "start_time": "2024-05-09T18:13:20.763280Z"
    }
   },
   "cell_type": "code",
   "source": "X[X['module__average_stmts_method_body'] > 37.3].describe(percentiles=[.25, .50, .75], include = ['object', 'float', 'bool', 'int'])",
   "id": "e07c9b0d8cfd4af0",
   "execution_count": 101,
   "outputs": []
  },
  {
   "metadata": {},
   "cell_type": "markdown",
   "source": "Los tres ficheros son de expertos así que nada raro.",
   "id": "43f278c707bbaa32"
  },
  {
   "metadata": {
    "ExecuteTime": {
     "end_time": "2024-05-09T18:13:21.481192Z",
     "start_time": "2024-05-09T18:13:21.157176Z"
    }
   },
   "cell_type": "code",
   "source": "X[X['module__average_stmts_method_body'] == 0.0].describe(percentiles=[.25, .50, .75], include = ['object', 'float', 'bool', 'int'])",
   "id": "cfefd7da7b6b7096",
   "execution_count": 102,
   "outputs": []
  },
  {
   "metadata": {},
   "cell_type": "markdown",
   "source": "Vamos a describir la variable condicionada a tener al menos una clase",
   "id": "bcc34941a07ad275"
  },
  {
   "metadata": {
    "ExecuteTime": {
     "end_time": "2024-05-09T18:13:21.557667Z",
     "start_time": "2024-05-09T18:13:21.483177Z"
    }
   },
   "cell_type": "code",
   "source": "X[X['module__number_of_classes'] > 0].describe(percentiles=[.25, .50, .75], include = ['object', 'float', 'bool', 'int'])",
   "id": "cdccb831d331fb8f",
   "execution_count": 103,
   "outputs": []
  },
  {
   "metadata": {},
   "cell_type": "markdown",
   "source": [
    "### Variable name_convention (7/14)\n",
    "Esta variable es de tipo categórica y representa la name_convention del nombre del fichero."
   ],
   "id": "3237adcf6d852d54"
  },
  {
   "metadata": {
    "ExecuteTime": {
     "end_time": "2024-05-09T18:13:21.970913Z",
     "start_time": "2024-05-09T18:13:21.567667Z"
    }
   },
   "cell_type": "code",
   "source": "sns.catplot(full_table['module__name_convention'], kind=\"count\")",
   "id": "299706e14d9a3f2",
   "execution_count": 104,
   "outputs": []
  },
  {
   "metadata": {
    "ExecuteTime": {
     "end_time": "2024-05-09T18:13:21.994912Z",
     "start_time": "2024-05-09T18:13:21.972902Z"
    }
   },
   "cell_type": "code",
   "source": "print_frequency_anal_for_cat_var(full_table, 'module__name_convention')",
   "id": "f4253192e2301909",
   "execution_count": 105,
   "outputs": []
  },
  {
   "metadata": {},
   "cell_type": "markdown",
   "source": [
    "### Variable global_stmts_pct (8/14)\n",
    "Esta variable representa la proporción de los nodos en el global scope que son sentencias. Toma los valores de 0.0 - 1.0. La media es 0.227542."
   ],
   "id": "ab0e91c1d1974f0a"
  },
  {
   "metadata": {
    "ExecuteTime": {
     "end_time": "2024-05-09T18:13:22.882412Z",
     "start_time": "2024-05-09T18:13:22.183436Z"
    }
   },
   "cell_type": "code",
   "source": "sns.displot(X['module__global_stmts_pct'], bins=[i / 100 for i in range(0, 101)])",
   "id": "ae3f7b82f7e2e5a9",
   "execution_count": 106,
   "outputs": []
  },
  {
   "metadata": {},
   "cell_type": "markdown",
   "source": "Hay muchos ficheros con 0. Hay que comprobar a que se puede deber. Seguramente por ser únicamente la definición de una clase.",
   "id": "3d3e78b9145cb4bd"
  },
  {
   "metadata": {
    "ExecuteTime": {
     "end_time": "2024-05-09T18:13:22.898217Z",
     "start_time": "2024-05-09T18:13:22.884407Z"
    }
   },
   "cell_type": "code",
   "source": "print_outliers_for_df_column(X, 'module__global_stmts_pct')",
   "id": "128a40279fa3c260",
   "execution_count": 107,
   "outputs": []
  },
  {
   "metadata": {
    "ExecuteTime": {
     "end_time": "2024-05-09T18:13:23.209813Z",
     "start_time": "2024-05-09T18:13:23.088762Z"
    }
   },
   "cell_type": "code",
   "source": "X[X['module__global_stmts_pct'] == 0.0].describe(percentiles=[.25, .50, .75], include = ['object', 'float', 'bool', 'int'])",
   "id": "220b9358ad3ffcac",
   "execution_count": 108,
   "outputs": []
  },
  {
   "metadata": {},
   "cell_type": "markdown",
   "source": "Comprobar un fichero que tenga 0 de todo",
   "id": "9356721794b8f185"
  },
  {
   "metadata": {},
   "cell_type": "markdown",
   "source": [
    "### Variable global_expressions (9/14)\n",
    "Esta variable representa la proporción de los nodos en el global scope son expresiones. Este campo toma valores del 0.0 - 1.0. Su media es 0.094516. La media es MUY baja, habría que revisarlo."
   ],
   "id": "44ce042d4954490d"
  },
  {
   "metadata": {
    "ExecuteTime": {
     "end_time": "2024-05-09T18:13:23.973032Z",
     "start_time": "2024-05-09T18:13:23.246801Z"
    }
   },
   "cell_type": "code",
   "source": "sns.displot(X['module__global_expressions_pct'], bins=[i / 100 for i in range(0, 101)])",
   "id": "fa0bbc143d5518cf",
   "execution_count": 109,
   "outputs": []
  },
  {
   "metadata": {},
   "cell_type": "markdown",
   "source": "La mayoría es 0, relativamente lógico debido al uso de encapsulación.",
   "id": "43477e33e42fc3cf"
  },
  {
   "metadata": {
    "ExecuteTime": {
     "end_time": "2024-05-09T18:13:23.996021Z",
     "start_time": "2024-05-09T18:13:23.976021Z"
    }
   },
   "cell_type": "code",
   "source": "print_outliers_for_df_column(X, 'module__global_expressions_pct')",
   "id": "2af888e24190e6ae",
   "execution_count": 110,
   "outputs": []
  },
  {
   "metadata": {
    "ExecuteTime": {
     "end_time": "2024-05-09T18:13:24.079515Z",
     "start_time": "2024-05-09T18:13:23.999022Z"
    }
   },
   "cell_type": "code",
   "source": "X[X['module__global_expressions_pct'] > 0.0].describe(percentiles=[.25, .50, .75], include = ['object', 'float', 'bool', 'int'])",
   "id": "9d4996b6c87ba9d9",
   "execution_count": 111,
   "outputs": []
  },
  {
   "metadata": {
    "ExecuteTime": {
     "end_time": "2024-05-09T18:13:24.167858Z",
     "start_time": "2024-05-09T18:13:24.081504Z"
    }
   },
   "cell_type": "code",
   "source": "X[X['module__global_expressions_pct'] == 0.0].describe(percentiles=[.25, .50, .75], include = ['object', 'float', 'bool', 'int'])",
   "id": "573e8d69c5c1ffb0",
   "execution_count": 112,
   "outputs": []
  },
  {
   "metadata": {},
   "cell_type": "markdown",
   "source": [
    "### Variable class_defs_pct (10/14)\n",
    "Esta variable representa la proporción de definiciones que son definiciones de clases. Esta variable toma valores de 0.0 - 1.0. Su media es 0.31924. "
   ],
   "id": "75bd2275c90702f2"
  },
  {
   "metadata": {
    "ExecuteTime": {
     "end_time": "2024-05-09T18:13:24.981081Z",
     "start_time": "2024-05-09T18:13:24.217847Z"
    }
   },
   "cell_type": "code",
   "source": "sns.displot(X['module__class_defs_pct'], bins=[i / 100 for i in range(0, 101)])",
   "id": "c549e5fab2340344",
   "execution_count": 113,
   "outputs": []
  },
  {
   "metadata": {
    "ExecuteTime": {
     "end_time": "2024-05-09T18:13:25.002834Z",
     "start_time": "2024-05-09T18:13:24.983074Z"
    }
   },
   "cell_type": "code",
   "source": "print_outliers_for_df_column(X, 'module__class_defs_pct')",
   "id": "e5c20979dd80188a",
   "execution_count": 114,
   "outputs": []
  },
  {
   "metadata": {
    "ExecuteTime": {
     "end_time": "2024-05-09T18:13:25.227010Z",
     "start_time": "2024-05-09T18:13:25.150837Z"
    }
   },
   "cell_type": "code",
   "source": "X[X['module__class_defs_pct'] > 0.0].describe(percentiles=[.25, .50, .75], include = ['object', 'float', 'bool', 'int'])",
   "id": "d341748640f0d0f",
   "execution_count": 115,
   "outputs": []
  },
  {
   "metadata": {},
   "cell_type": "markdown",
   "source": [
    "### Variable function_defs_pct (11/14)\n",
    "Esta variable representa la proporción de deficiones que son definiciones de funciones. Esta variable toma valores de 0.0 - 1.0. Su media es 0.458978"
   ],
   "id": "e1812f30451e79fe"
  },
  {
   "metadata": {
    "ExecuteTime": {
     "end_time": "2024-05-09T18:13:26.127250Z",
     "start_time": "2024-05-09T18:13:25.425846Z"
    }
   },
   "cell_type": "code",
   "source": "sns.displot(X['module__function_defs_pct'], bins=[i / 100 for i in range(0, 101)])",
   "id": "f33d936a0f350bd7",
   "execution_count": 116,
   "outputs": []
  },
  {
   "metadata": {
    "ExecuteTime": {
     "end_time": "2024-05-09T18:13:26.402125Z",
     "start_time": "2024-05-09T18:13:26.386254Z"
    }
   },
   "cell_type": "code",
   "source": "print_outliers_for_df_column(X, 'module__function_defs_pct')",
   "id": "82b55b2117c14ee8",
   "execution_count": 117,
   "outputs": []
  },
  {
   "metadata": {
    "ExecuteTime": {
     "end_time": "2024-05-09T18:13:26.688613Z",
     "start_time": "2024-05-09T18:13:26.604129Z"
    }
   },
   "cell_type": "code",
   "source": "X[X['module__function_defs_pct'] > 0.0].describe(percentiles=[.25, .50, .75], include = ['object', 'float', 'bool', 'int'])",
   "id": "cbbe2d55d54aa441",
   "execution_count": 118,
   "outputs": []
  },
  {
   "metadata": {
    "ExecuteTime": {
     "end_time": "2024-05-09T18:13:27.223226Z",
     "start_time": "2024-05-09T18:13:27.063640Z"
    }
   },
   "cell_type": "code",
   "source": "X[X['module__function_defs_pct'] < 1.0].describe(percentiles=[.25, .50, .75], include = ['object', 'float', 'bool', 'int'])",
   "id": "e64c57a638d4b8a7",
   "execution_count": 119,
   "outputs": []
  },
  {
   "metadata": {},
   "cell_type": "markdown",
   "source": [
    "### Variable enum_defs_pct (12/14)\n",
    "Esta variable representa la proporción de las definiciones que son clases con la notación enum. Esta variable toma valores de 0.0 - 1.0. Su media es 0.003743."
   ],
   "id": "cd6bb41f051bc2ad"
  },
  {
   "metadata": {
    "ExecuteTime": {
     "end_time": "2024-05-09T18:13:28.210772Z",
     "start_time": "2024-05-09T18:13:27.410541Z"
    }
   },
   "cell_type": "code",
   "source": "sns.displot(X['module__enum_defs_pct'], bins=[i / 100 for i in range(0, 101)])",
   "id": "35e21212cf8a04f0",
   "execution_count": 120,
   "outputs": []
  },
  {
   "metadata": {
    "ExecuteTime": {
     "end_time": "2024-05-09T18:13:28.226544Z",
     "start_time": "2024-05-09T18:13:28.212764Z"
    }
   },
   "cell_type": "code",
   "source": "print_outliers_for_df_column(X, 'module__enum_defs_pct')",
   "id": "1a4f26a5df0b4e16",
   "execution_count": 121,
   "outputs": []
  },
  {
   "metadata": {
    "ExecuteTime": {
     "end_time": "2024-05-09T18:13:28.303038Z",
     "start_time": "2024-05-09T18:13:28.227537Z"
    }
   },
   "cell_type": "code",
   "source": "X[X['module__enum_defs_pct'] > 0.0].describe(percentiles=[.25, .50, .75], include = ['object', 'float', 'bool', 'int'])",
   "id": "f48e9080628a79d4",
   "execution_count": 122,
   "outputs": []
  },
  {
   "metadata": {},
   "cell_type": "markdown",
   "source": "Solo se han usado enum en 189 de las cerca de 19mil ficheros. En los ficheros donde se usan enum, su media es de 0.36.",
   "id": "770474fc5b2e48c3"
  },
  {
   "metadata": {},
   "cell_type": "markdown",
   "source": [
    "### Variable type_annotations_pct (13/14)\n",
    "Esta variable representa la proporción de los parámetros y returns de funciones y métodos que tienen una anotación de tipo. Toma valores entre 0.0 - 1.0. Su media es 0.142791. Esto nos dice que los tipos son poco usados en Python, como era de esperar."
   ],
   "id": "2fbcb74ec7a4d9ec"
  },
  {
   "metadata": {
    "ExecuteTime": {
     "end_time": "2024-05-09T18:13:29.297436Z",
     "start_time": "2024-05-09T18:13:28.424038Z"
    }
   },
   "cell_type": "code",
   "source": "sns.displot(X['module__type_annotations_pct'], bins=[i / 100 for i in range(0, 101)])",
   "id": "85e238d4a876cbd8",
   "execution_count": 123,
   "outputs": []
  },
  {
   "metadata": {
    "ExecuteTime": {
     "end_time": "2024-05-09T18:13:29.339440Z",
     "start_time": "2024-05-09T18:13:29.309437Z"
    }
   },
   "cell_type": "code",
   "source": "print_outliers_for_df_column(X, 'module__type_annotations_pct')",
   "id": "78208e09ebe94012",
   "execution_count": 124,
   "outputs": []
  },
  {
   "metadata": {
    "ExecuteTime": {
     "end_time": "2024-05-09T18:13:29.711769Z",
     "start_time": "2024-05-09T18:13:29.562494Z"
    }
   },
   "cell_type": "code",
   "source": "X[X['module__type_annotations_pct'] > 0.0].describe(percentiles=[.25, .50, .75], include = ['object', 'float', 'bool', 'int'])",
   "id": "445f23dcf94c6abf",
   "execution_count": 125,
   "outputs": []
  }
 ],
 "metadata": {
  "kernelspec": {
   "display_name": "Python 3",
   "language": "python",
   "name": "python3"
  },
  "language_info": {
   "codemirror_mode": {
    "name": "ipython",
    "version": 2
   },
   "file_extension": ".py",
   "mimetype": "text/x-python",
   "name": "python",
   "nbconvert_exporter": "python",
   "pygments_lexer": "ipython2",
   "version": "2.7.6"
  }
 },
 "nbformat": 4,
 "nbformat_minor": 5
}
