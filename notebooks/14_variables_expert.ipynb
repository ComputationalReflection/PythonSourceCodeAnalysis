{
 "cells": [
  {
   "metadata": {},
   "cell_type": "markdown",
   "source": [
    "# Vaiables EXPERT\n",
    "\n",
    "Esta tabla contiene la información de los grupos de parámetros de funciones y Lambda expresiones EXPERT.  --> ABEL COMPLETAR <--"
   ],
   "id": "148ae8871134f924"
  },
  {
   "metadata": {},
   "cell_type": "markdown",
   "source": "## 1 - Obtencion de datos",
   "id": "d3c24a719032807f"
  },
  {
   "metadata": {
    "ExecuteTime": {
     "end_time": "2024-05-27T10:57:15.027923Z",
     "start_time": "2024-05-27T10:57:06.087679Z"
    }
   },
   "cell_type": "code",
   "source": [
    "import matplotlib.pyplot as plt\n",
    "from notebooks_utils import *\n",
    "\n",
    "TARGET_FEATURE = 'variable__expertise_level'\n",
    "TARGET_CLASS = 'EXPERT'\n",
    "full_table = get_data('variables')\n",
    "\n",
    "instances_for_class_low = len(full_table[full_table[TARGET_FEATURE] == \"BEGINNER\"])\n",
    "instances_for_class_high = len(full_table[full_table[TARGET_FEATURE] == \"EXPERT\"])\n",
    "\n",
    "print(f\"The dataset contains {instances_for_class_low} ({instances_for_class_low/len(full_table)*100:.4}%) instances for BEGINNER class and {instances_for_class_high} ({instances_for_class_high/len(full_table)*100:.4}%) for EXPERT class.\")"
   ],
   "id": "820a8d287b62af82",
   "outputs": [
    {
     "name": "stdout",
     "output_type": "stream",
     "text": [
      "2024-05-27 12:57:11.323633 Data cache files found ...\n",
      "2024-05-27 12:57:13.940569 Data cache files successfully loaded!!\n",
      "The dataset contains 1145346 (41.17%) instances for BEGINNER class and 1636752 (58.83%) for EXPERT class.\n"
     ]
    }
   ],
   "execution_count": 1
  },
  {
   "metadata": {
    "ExecuteTime": {
     "end_time": "2024-05-27T10:57:15.630874Z",
     "start_time": "2024-05-27T10:57:15.027923Z"
    }
   },
   "cell_type": "code",
   "source": [
    "full_table = full_table[full_table[TARGET_FEATURE] == TARGET_CLASS]\n",
    "\n",
    "# Table name, features and target.\n",
    "TABLE_NAME = 'variables'\n",
    "TABLE_FEATURES = ['variable__name_convention', 'variable__number_of_characters', 'variable__is_private', 'variable__is_magic']\n",
    "\n",
    "# Load features and target.\n",
    "X = full_table[TABLE_FEATURES]\n",
    "\n",
    "# Print information about the loaded table.\n",
    "print(f'Features shape: {X.shape}')\n",
    "\n",
    "print(f'As we can see the downloaded data contains a total of {X.shape[0]} instances. Each of the instances corresponds to a program. For each program we have {X.shape[1]} attributes.')"
   ],
   "id": "9f0a949e91eb384b",
   "outputs": [
    {
     "name": "stdout",
     "output_type": "stream",
     "text": [
      "Features shape: (1636752, 4)\n",
      "As we can see the downloaded data contains a total of 1636752 instances. Each of the instances corresponds to a program. For each program we have 4 attributes.\n"
     ]
    }
   ],
   "execution_count": 2
  },
  {
   "metadata": {},
   "cell_type": "markdown",
   "source": [
    "## 2 - Exploracion de datos\n",
    "\n",
    "Una vez tenemos nuestra tabla en un dataframe el siguiente paso es explorarla para ver qué tipo de información contiene."
   ],
   "id": "bcda7cb784bf0a1"
  },
  {
   "metadata": {
    "ExecuteTime": {
     "end_time": "2024-05-27T10:57:15.785302Z",
     "start_time": "2024-05-27T10:57:15.630874Z"
    }
   },
   "cell_type": "code",
   "source": "print(X.info())",
   "id": "2eb3d09993235bcb",
   "outputs": [
    {
     "name": "stdout",
     "output_type": "stream",
     "text": [
      "<class 'pandas.core.frame.DataFrame'>\n",
      "Index: 1636752 entries, 212 to 2782097\n",
      "Data columns (total 4 columns):\n",
      " #   Column                          Non-Null Count    Dtype \n",
      "---  ------                          --------------    ----- \n",
      " 0   variable__name_convention       1636752 non-null  object\n",
      " 1   variable__number_of_characters  1636752 non-null  int64 \n",
      " 2   variable__is_private            1636752 non-null  bool  \n",
      " 3   variable__is_magic              1636752 non-null  bool  \n",
      "dtypes: bool(2), int64(1), object(1)\n",
      "memory usage: 40.6+ MB\n",
      "None\n"
     ]
    }
   ],
   "execution_count": 3
  },
  {
   "metadata": {},
   "cell_type": "markdown",
   "source": "Cómo podemos ver la tabla está compuesta por 1 variable numérica, 2 variables boleanas y 2 de tipo objeto. Una de las últimas variables es la etiqueta de la instancia. Sin embargo, en algunas ocasiones estas últimas clases no las vamos a utilizar. Por ejemplo, si queremos obtener clusters por medio de aprendizaje no supervisado.",
   "id": "24f7607501c2e574"
  },
  {
   "metadata": {},
   "cell_type": "markdown",
   "source": [
    "### 2.1 - Duplicados\n",
    "Miramos si la tabla tiene entradas duplicadas."
   ],
   "id": "3b9b55798c7ecbd5"
  },
  {
   "metadata": {
    "ExecuteTime": {
     "end_time": "2024-05-27T10:57:16.310788Z",
     "start_time": "2024-05-27T10:57:15.785302Z"
    }
   },
   "cell_type": "code",
   "source": [
    "number_of_duplicated_entries = sum(full_table.duplicated(subset=TABLE_FEATURES))\n",
    "duplicated_entries_pct = number_of_duplicated_entries / len(full_table) * 100\n",
    "print(f\"The dataset contains [{duplicated_entries_pct:.4}%] of duplicated entries.\")"
   ],
   "id": "ed5e6830bbf484a6",
   "outputs": [
    {
     "name": "stdout",
     "output_type": "stream",
     "text": [
      "The dataset contains [99.98%] of duplicated entries.\n"
     ]
    }
   ],
   "execution_count": 4
  },
  {
   "metadata": {},
   "cell_type": "markdown",
   "source": [
    "### 2.3 - Valores Nulos \n",
    "Miramos si alguna de las variables que contiene la tabla contiene algún valor que sea nulo."
   ],
   "id": "63d4e4ed1d8d2c6c"
  },
  {
   "metadata": {
    "ExecuteTime": {
     "end_time": "2024-05-27T10:57:16.477685Z",
     "start_time": "2024-05-27T10:57:16.310788Z"
    }
   },
   "cell_type": "code",
   "source": "X.isnull().sum()",
   "id": "6c991380e6e0413e",
   "outputs": [
    {
     "data": {
      "text/plain": [
       "variable__name_convention         0\n",
       "variable__number_of_characters    0\n",
       "variable__is_private              0\n",
       "variable__is_magic                0\n",
       "dtype: int64"
      ]
     },
     "execution_count": 5,
     "metadata": {},
     "output_type": "execute_result"
    }
   ],
   "execution_count": 5
  },
  {
   "metadata": {
    "ExecuteTime": {
     "end_time": "2024-05-27T10:57:16.663687Z",
     "start_time": "2024-05-27T10:57:16.477685Z"
    }
   },
   "cell_type": "code",
   "source": "print_empty_cols(X)",
   "id": "18b2dfadf1719a4b",
   "outputs": [
    {
     "name": "stdout",
     "output_type": "stream",
     "text": [
      "variable__name_convention\n",
      "-------------------------\n",
      "0 instancias no tienen un valor para la columna variable__name_convention\n",
      "\n",
      "\n",
      "variable__number_of_characters\n",
      "------------------------------\n",
      "0 instancias no tienen un valor para la columna variable__number_of_characters\n",
      "\n",
      "\n",
      "variable__is_private\n",
      "--------------------\n",
      "0 instancias no tienen un valor para la columna variable__is_private\n",
      "\n",
      "\n",
      "variable__is_magic\n",
      "------------------\n",
      "0 instancias no tienen un valor para la columna variable__is_magic\n",
      "\n",
      "\n"
     ]
    }
   ],
   "execution_count": 6
  },
  {
   "metadata": {},
   "cell_type": "markdown",
   "source": "### 2.4 - Describimos los valores de las variables de la tabla.",
   "id": "5bb94c0f81c08024"
  },
  {
   "metadata": {
    "ExecuteTime": {
     "end_time": "2024-05-27T10:57:17.316784Z",
     "start_time": "2024-05-27T10:57:16.663687Z"
    }
   },
   "cell_type": "code",
   "source": "np.transpose(X.describe(percentiles=[.25, .50, .75], include = ['object', 'float', 'bool', 'int']))",
   "id": "74bba302a29fbfd5",
   "outputs": [
    {
     "data": {
      "text/plain": [
       "                                    count unique    top     freq      mean  \\\n",
       "variable__name_convention         1636752      7  Lower   980122       NaN   \n",
       "variable__number_of_characters  1636752.0    NaN    NaN      NaN  7.603503   \n",
       "variable__is_private              1636752      2  False  1613348       NaN   \n",
       "variable__is_magic                1636752      2  False  1622901       NaN   \n",
       "\n",
       "                                    std  min  25%  50%   75%   max  \n",
       "variable__name_convention           NaN  NaN  NaN  NaN   NaN   NaN  \n",
       "variable__number_of_characters  5.57504  1.0  4.0  6.0  10.0  82.0  \n",
       "variable__is_private                NaN  NaN  NaN  NaN   NaN   NaN  \n",
       "variable__is_magic                  NaN  NaN  NaN  NaN   NaN   NaN  "
      ],
      "text/html": [
       "<div>\n",
       "<style scoped>\n",
       "    .dataframe tbody tr th:only-of-type {\n",
       "        vertical-align: middle;\n",
       "    }\n",
       "\n",
       "    .dataframe tbody tr th {\n",
       "        vertical-align: top;\n",
       "    }\n",
       "\n",
       "    .dataframe thead th {\n",
       "        text-align: right;\n",
       "    }\n",
       "</style>\n",
       "<table border=\"1\" class=\"dataframe\">\n",
       "  <thead>\n",
       "    <tr style=\"text-align: right;\">\n",
       "      <th></th>\n",
       "      <th>count</th>\n",
       "      <th>unique</th>\n",
       "      <th>top</th>\n",
       "      <th>freq</th>\n",
       "      <th>mean</th>\n",
       "      <th>std</th>\n",
       "      <th>min</th>\n",
       "      <th>25%</th>\n",
       "      <th>50%</th>\n",
       "      <th>75%</th>\n",
       "      <th>max</th>\n",
       "    </tr>\n",
       "  </thead>\n",
       "  <tbody>\n",
       "    <tr>\n",
       "      <th>variable__name_convention</th>\n",
       "      <td>1636752</td>\n",
       "      <td>7</td>\n",
       "      <td>Lower</td>\n",
       "      <td>980122</td>\n",
       "      <td>NaN</td>\n",
       "      <td>NaN</td>\n",
       "      <td>NaN</td>\n",
       "      <td>NaN</td>\n",
       "      <td>NaN</td>\n",
       "      <td>NaN</td>\n",
       "      <td>NaN</td>\n",
       "    </tr>\n",
       "    <tr>\n",
       "      <th>variable__number_of_characters</th>\n",
       "      <td>1636752.0</td>\n",
       "      <td>NaN</td>\n",
       "      <td>NaN</td>\n",
       "      <td>NaN</td>\n",
       "      <td>7.603503</td>\n",
       "      <td>5.57504</td>\n",
       "      <td>1.0</td>\n",
       "      <td>4.0</td>\n",
       "      <td>6.0</td>\n",
       "      <td>10.0</td>\n",
       "      <td>82.0</td>\n",
       "    </tr>\n",
       "    <tr>\n",
       "      <th>variable__is_private</th>\n",
       "      <td>1636752</td>\n",
       "      <td>2</td>\n",
       "      <td>False</td>\n",
       "      <td>1613348</td>\n",
       "      <td>NaN</td>\n",
       "      <td>NaN</td>\n",
       "      <td>NaN</td>\n",
       "      <td>NaN</td>\n",
       "      <td>NaN</td>\n",
       "      <td>NaN</td>\n",
       "      <td>NaN</td>\n",
       "    </tr>\n",
       "    <tr>\n",
       "      <th>variable__is_magic</th>\n",
       "      <td>1636752</td>\n",
       "      <td>2</td>\n",
       "      <td>False</td>\n",
       "      <td>1622901</td>\n",
       "      <td>NaN</td>\n",
       "      <td>NaN</td>\n",
       "      <td>NaN</td>\n",
       "      <td>NaN</td>\n",
       "      <td>NaN</td>\n",
       "      <td>NaN</td>\n",
       "      <td>NaN</td>\n",
       "    </tr>\n",
       "  </tbody>\n",
       "</table>\n",
       "</div>"
      ]
     },
     "execution_count": 7,
     "metadata": {},
     "output_type": "execute_result"
    }
   ],
   "execution_count": 7
  },
  {
   "metadata": {},
   "cell_type": "markdown",
   "source": "Vamos a discretizar las variables numericas, agrupando conjuntos de valores en categorias, para hacer un análisis de los datos. Para cada variable es necesario ver la distribucion de lo valores para hacer los bins (categorias).",
   "id": "9af3eb59b924a596"
  },
  {
   "metadata": {
    "ExecuteTime": {
     "end_time": "2024-05-27T10:57:23.166882Z",
     "start_time": "2024-05-27T10:57:17.316784Z"
    }
   },
   "cell_type": "code",
   "source": [
    "# DISCRETIZATION\n",
    "X_copy = X.copy()\n",
    "\n",
    "discretized_columns = {\n",
    "    \"variable__number_of_characters\": [(0.0, 4.0), (4.0, 4.0), (4.0, 10.0), (10.0, inf)], # min: 0 ; max: 82\n",
    "}\n",
    "\n",
    "discretize_columns(X_copy, discretized_columns)\n",
    "    \n",
    "# SINGLE FEATURE\n",
    "print(\"--- SINGLE FEATURE ---\")\n",
    "print(get_statistics(X_copy, ['variable__number_of_characters'], 10))\n",
    "print(get_statistics(full_table, ['variable__name_convention'], 10))\n",
    "print(get_statistics(X_copy, ['variable__is_private'], 10))\n",
    "print(get_statistics(X_copy, ['variable__is_magic'], 10))\n",
    "\n",
    "# 2 FEATURES\n",
    "print(\"--- TWO FEATURES ---\")\n",
    "#print(get_statistics(X_copy, ['variable__is_magic', 'variable__name_convention_Discard'], 10))\n",
    "#print(get_statistics(X_copy, ['functiondef__number_of_characters', 'functiondef__name_convention_Lower'], 10))\n",
    "\n",
    "# 3 FEATURES\n",
    "print(\"--- THREE FEATURES ---\")\n",
    "#print(get_statistics(X_copy, ['module__class_defs_pct', 'module__function_defs_pct', 'module__enum_defs_pct'], 10))"
   ],
   "id": "6baf20dd3e3ca759",
   "outputs": [
    {
     "name": "stdout",
     "output_type": "stream",
     "text": [
      "--- SINGLE FEATURE ---\n",
      "variable__number_of_characters  count  percentage\n",
      "                    [4.0_10.0) 538784   32.917876\n",
      "                    [10.0_inf] 473567   28.933339\n",
      "                     [0.0_4.0) 317710   19.411004\n",
      "                     [4.0_4.0] 306691   18.737781\n",
      "\n",
      "variable__name_convention  count  percentage\n",
      "                    Lower 980122   59.882132\n",
      "                SnakeCase 430269   26.287978\n",
      "                  CamelUp 136774    8.356428\n",
      "                    Upper  54917    3.355243\n",
      "                 CamelLow  22841    1.395508\n",
      "                  Discard   7375    0.450588\n",
      "         NoNameConvention   4454    0.272124\n",
      "\n",
      " variable__is_private   count  percentage\n",
      "                False 1613348   98.570095\n",
      "                 True   23404    1.429905\n",
      "\n",
      " variable__is_magic   count  percentage\n",
      "              False 1622901   99.153751\n",
      "               True   13851    0.846249\n",
      "\n",
      "--- TWO FEATURES ---\n",
      "--- THREE FEATURES ---\n"
     ]
    }
   ],
   "execution_count": 8
  },
  {
   "metadata": {
    "ExecuteTime": {
     "end_time": "2024-05-27T10:57:23.574842Z",
     "start_time": "2024-05-27T10:57:23.166882Z"
    }
   },
   "cell_type": "code",
   "source": [
    "def normalize_datatypes(X:pd.DataFrame) -> (pd.DataFrame, [str]):\n",
    "    X = pd.get_dummies(X)\n",
    "    X = X.astype('float32')        \n",
    "    columns_names = X.columns.tolist()\n",
    "    return X, columns_names\n",
    "\n",
    "X, TABLE_FEATURES = normalize_datatypes(X)\n",
    "# Print information about the loaded table\n",
    "print(f'Features shape: {X.shape}')"
   ],
   "id": "5084c89dcb377a92",
   "outputs": [
    {
     "name": "stdout",
     "output_type": "stream",
     "text": [
      "Features shape: (1636752, 10)\n"
     ]
    }
   ],
   "execution_count": 9
  },
  {
   "metadata": {},
   "cell_type": "markdown",
   "source": "#### Muestra la matriz de correlación de pearson entre las variables de la tabla.",
   "id": "ed8befe21328a079"
  },
  {
   "metadata": {
    "ExecuteTime": {
     "end_time": "2024-05-27T10:57:25.425856Z",
     "start_time": "2024-05-27T10:57:23.574842Z"
    }
   },
   "cell_type": "code",
   "source": "sns.heatmap(X.corr(), annot=False)",
   "id": "dea960d18d682104",
   "outputs": [
    {
     "data": {
      "text/plain": [
       "<Axes: >"
      ]
     },
     "execution_count": 10,
     "metadata": {},
     "output_type": "execute_result"
    },
    {
     "data": {
      "text/plain": [
       "<Figure size 640x480 with 2 Axes>"
      ],
      "image/png": "[encoded data removed]"
     },
     "metadata": {},
     "output_type": "display_data"
    }
   ],
   "execution_count": 10
  },
  {
   "metadata": {},
   "cell_type": "markdown",
   "source": [
    "## 3 - Detección de valores atípicos (outliers)\n",
    "Una vez sabemos qué datos contiene la tabla, analizaremos los valores que toma cada una de las variables de cada instancia. El objetivo es identificar posibles valores atípicos que nos dificulten la realización de futuras tareas. \n",
    "Tras su análisis, se puede concluir que un valor:\n",
    "    - **Es erróneo**. En este caso hay que tomar una decisión para cada caso, siendo los tratamientos más extendidos son listwise, pairwise, drop variables, mean/median imputation, most frequent, separate category, zero imputation, cold deck, hot deck,(stochastic) regression, k-NN and multiple imputation. Los resultados de imputación regresiva, k-NN y múltiple dan buenos resultados, aunque, como se ha indicado, es necesario el estudio en cada caso.\n",
    "    - **Es correcto, pero anómalo**. Se documenta su existencia para su posible discusión y se mantiene en el dataset. En estos casos se hace necesaria la utilización de algoritmos y estadísticos que no sean muy sensibles a dichos valores anómalos.\n",
    "\n",
    "## Univariate\n",
    "Para cada uno de los atributos se debe realizar un análisis y detección de valores atípicos, estudiando su posible causa. \n",
    "Existen diversas formas de calcular los valores anómalos. \n",
    "\n",
    "### Variables numéricas\n",
    "Para las variables numéricas, se suele identificar: \n",
    "    - a) Valor atípico leve es el que está fuera de $[Q1 - 1.5IQR, Q3 + 1.5IQR]$, donde $IQR = Q3-Q1$.\n",
    "    - b) Valor atípico extremo está fuera de $[Q1 - 3IQR, Q3 + 3IQR]$.\n",
    "\n",
    "La idea es probar con a) y si hay pocas instancias analizarlas. Si hubiese muchas, mirar b) y analizar si fuesen pocas. No hay un algoritmo o método estipulado, puesto que depende del dominio del problema y de los datos.\n",
    "\n",
    "Los límites de Tukey se basan en los cuartiles de los datos y son sensibles a la presencia de sesgo en la distribución. Cuando hay asimetría en los datos, los límites de Tukey pueden no ser tan efectivos para identificar outliers de manera equitativa en ambos extremos de la distribución. El Coeficiente de Medcouple es útil para identificar la asimetría en los datos, especialmente en presencia de valores atípicos o sesgados. Es una medida robusta porque no se ve tan afectada por valores extremos como la media y la desviación estándar. El MC puede proporcionar información adicional sobre la asimetría de la distribución, lo que te permite ajustar los límites de Tukey de manera más apropiada para tu conjunto de datos específico. Una posible variacion de los límites de Tukey teniendo en cuenta MC podria ser: \n",
    "   - Si MC es mayor que 0 (asimetría hacia la derecha):\n",
    "      - low = (q1-1.5 * math.exp(-4*mc) * iqr)\n",
    "      - high = (q3+1.5 * math.exp(3.5*mc) * iqr)\n",
    "   - Si la asimetriza es hacia la izquierda:    \n",
    "      - low = (q1-1.5 * math.exp(-3.5*mc) * iqr)\n",
    "      - high = (q3+1.5 * math.exp(4*mc) * iqr)\n",
    "\n",
    "\n",
    "### Variables categóricas\n",
    "Para las variables categóricas no existe el concepto de valor anómalo, pero sí se puede considerar en base a un análisis de frecuencia. Por ejemplo, que el uso de una categoría sea residual, pudiendo tener un 0.1% de instancias en el dataset. Para detectar estos valores, se puede fijar un valor mínimo de frecuencia en función del número posible de valores de la variable categórica (2 en el caso de una variable booleana). Por ejemplo, un umbral de $\\frac{0.2\\%}{valores}$ (0.1% en el caso de una variable booleana)"
   ],
   "id": "599c97eec7b7d283"
  },
  {
   "metadata": {},
   "cell_type": "markdown",
   "source": [
    "## Analisis detallado de variables\n",
    "Para cada una de las 10 variable (3 booleanas, 4 porcentuales y 3 numericas) se hara un analisis detallado "
   ],
   "id": "132c8742057275c"
  },
  {
   "metadata": {},
   "cell_type": "markdown",
   "source": [
    "### Variable is_private (1/4)\n",
    "Esta variable es de tipo booleano y representa si la variable es privada."
   ],
   "id": "6abba739e46da213"
  },
  {
   "metadata": {
    "ExecuteTime": {
     "end_time": "2024-05-27T10:57:27.821424Z",
     "start_time": "2024-05-27T10:57:25.425856Z"
    }
   },
   "cell_type": "code",
   "source": [
    "plt.xticks([0, 1], ['False', 'True'])\n",
    "sns.histplot(X['variable__is_private'], discrete=True)"
   ],
   "id": "4ab35b2ef94a3379",
   "outputs": [
    {
     "data": {
      "text/plain": [
       "<Axes: xlabel='variable__is_private', ylabel='Count'>"
      ]
     },
     "execution_count": 11,
     "metadata": {},
     "output_type": "execute_result"
    },
    {
     "data": {
      "text/plain": [
       "<Figure size 640x480 with 1 Axes>"
      ],
      "image/png": "[encoded data removed]"
     },
     "metadata": {},
     "output_type": "display_data"
    }
   ],
   "execution_count": 11
  },
  {
   "metadata": {
    "ExecuteTime": {
     "end_time": "2024-05-27T10:57:28.096109Z",
     "start_time": "2024-05-27T10:57:27.821424Z"
    }
   },
   "cell_type": "code",
   "source": [
    "num_true_values = len(X[X['variable__is_private'] == True])\n",
    "num_false_values = len(X[X['variable__is_private'] == False])\n",
    "std = X['variable__is_private'].std()\n",
    "freq_true = len(X[X['variable__is_private'] == True]) / len(X['variable__is_private'])\n",
    "freq_false = len(X[X['variable__is_private'] == False]) / len(X['variable__is_private'])\n",
    "print(f'La variable is_private contiene {num_true_values} valores verdaderos y {num_false_values} valores falsos. Y, la desviación típica es de {std}')\n",
    "print(f'La frecuencia con la que programa puede tener la variable is_private a True es {freq_true}.')\n",
    "print(f'La frecuencia con la que programa puede tener la variable is_private a False es {freq_false}.')"
   ],
   "id": "f4a042829ae6fac5",
   "outputs": [
    {
     "name": "stdout",
     "output_type": "stream",
     "text": [
      "La variable is_private contiene 23404 valores verdaderos y 1613348 valores falsos. Y, la desviación típica es de 0.11872066557407379\n",
      "La frecuencia con la que programa puede tener la variable is_private a True es 0.014299050803053853.\n",
      "La frecuencia con la que programa puede tener la variable is_private a False es 0.9857009491969462.\n"
     ]
    }
   ],
   "execution_count": 12
  },
  {
   "metadata": {
    "ExecuteTime": {
     "end_time": "2024-05-27T10:57:28.240638Z",
     "start_time": "2024-05-27T10:57:28.096109Z"
    }
   },
   "cell_type": "code",
   "source": [
    "possible_values = [True, False]\n",
    "print_frequency_anal_for_cat_var(X, 'variable__is_private', possible_values)"
   ],
   "id": "c614dd60d0ab8e5b",
   "outputs": [
    {
     "name": "stdout",
     "output_type": "stream",
     "text": [
      "La variable variable__is_private contiene 2 valores distintos.\n",
      "El umbral de outlier es de 0.1%\n",
      "La variable variable__is_private toma el valor de 0.0 en un 98.57% de los items.\n",
      "La variable variable__is_private toma el valor de 1.0 en un 1.43% de los items.\n"
     ]
    }
   ],
   "execution_count": 13
  },
  {
   "metadata": {
    "ExecuteTime": {
     "end_time": "2024-05-27T10:57:28.308847Z",
     "start_time": "2024-05-27T10:57:28.240638Z"
    }
   },
   "cell_type": "code",
   "source": "X[X['variable__is_private'] == True].describe(percentiles=[.25, .50, .75], include = ['object', 'float', 'bool', 'int'])\n",
   "id": "6c33bdd1420008cf",
   "outputs": [
    {
     "data": {
      "text/plain": [
       "       variable__number_of_characters  variable__is_private  \\\n",
       "count                    23404.000000               23404.0   \n",
       "mean                        13.877243                   1.0   \n",
       "std                          7.694783                   0.0   \n",
       "min                          2.000000                   1.0   \n",
       "25%                          7.000000                   1.0   \n",
       "50%                         13.000000                   1.0   \n",
       "75%                         18.000000                   1.0   \n",
       "max                         53.000000                   1.0   \n",
       "\n",
       "       variable__is_magic  variable__name_convention_CamelLow  \\\n",
       "count             23404.0                             23404.0   \n",
       "mean                  0.0                                 0.0   \n",
       "std                   0.0                                 0.0   \n",
       "min                   0.0                                 0.0   \n",
       "25%                   0.0                                 0.0   \n",
       "50%                   0.0                                 0.0   \n",
       "75%                   0.0                                 0.0   \n",
       "max                   0.0                                 0.0   \n",
       "\n",
       "       variable__name_convention_CamelUp  variable__name_convention_Discard  \\\n",
       "count                            23404.0                            23404.0   \n",
       "mean                                 0.0                                0.0   \n",
       "std                                  0.0                                0.0   \n",
       "min                                  0.0                                0.0   \n",
       "25%                                  0.0                                0.0   \n",
       "50%                                  0.0                                0.0   \n",
       "75%                                  0.0                                0.0   \n",
       "max                                  0.0                                0.0   \n",
       "\n",
       "       variable__name_convention_Lower  \\\n",
       "count                          23404.0   \n",
       "mean                               0.0   \n",
       "std                                0.0   \n",
       "min                                0.0   \n",
       "25%                                0.0   \n",
       "50%                                0.0   \n",
       "75%                                0.0   \n",
       "max                                0.0   \n",
       "\n",
       "       variable__name_convention_NoNameConvention  \\\n",
       "count                                23404.000000   \n",
       "mean                                     0.094770   \n",
       "std                                      0.292903   \n",
       "min                                      0.000000   \n",
       "25%                                      0.000000   \n",
       "50%                                      0.000000   \n",
       "75%                                      0.000000   \n",
       "max                                      1.000000   \n",
       "\n",
       "       variable__name_convention_SnakeCase  variable__name_convention_Upper  \n",
       "count                         23404.000000                     23404.000000  \n",
       "mean                              0.768031                         0.137199  \n",
       "std                               0.422098                         0.344064  \n",
       "min                               0.000000                         0.000000  \n",
       "25%                               1.000000                         0.000000  \n",
       "50%                               1.000000                         0.000000  \n",
       "75%                               1.000000                         0.000000  \n",
       "max                               1.000000                         1.000000  "
      ],
      "text/html": [
       "<div>\n",
       "<style scoped>\n",
       "    .dataframe tbody tr th:only-of-type {\n",
       "        vertical-align: middle;\n",
       "    }\n",
       "\n",
       "    .dataframe tbody tr th {\n",
       "        vertical-align: top;\n",
       "    }\n",
       "\n",
       "    .dataframe thead th {\n",
       "        text-align: right;\n",
       "    }\n",
       "</style>\n",
       "<table border=\"1\" class=\"dataframe\">\n",
       "  <thead>\n",
       "    <tr style=\"text-align: right;\">\n",
       "      <th></th>\n",
       "      <th>variable__number_of_characters</th>\n",
       "      <th>variable__is_private</th>\n",
       "      <th>variable__is_magic</th>\n",
       "      <th>variable__name_convention_CamelLow</th>\n",
       "      <th>variable__name_convention_CamelUp</th>\n",
       "      <th>variable__name_convention_Discard</th>\n",
       "      <th>variable__name_convention_Lower</th>\n",
       "      <th>variable__name_convention_NoNameConvention</th>\n",
       "      <th>variable__name_convention_SnakeCase</th>\n",
       "      <th>variable__name_convention_Upper</th>\n",
       "    </tr>\n",
       "  </thead>\n",
       "  <tbody>\n",
       "    <tr>\n",
       "      <th>count</th>\n",
       "      <td>23404.000000</td>\n",
       "      <td>23404.0</td>\n",
       "      <td>23404.0</td>\n",
       "      <td>23404.0</td>\n",
       "      <td>23404.0</td>\n",
       "      <td>23404.0</td>\n",
       "      <td>23404.0</td>\n",
       "      <td>23404.000000</td>\n",
       "      <td>23404.000000</td>\n",
       "      <td>23404.000000</td>\n",
       "    </tr>\n",
       "    <tr>\n",
       "      <th>mean</th>\n",
       "      <td>13.877243</td>\n",
       "      <td>1.0</td>\n",
       "      <td>0.0</td>\n",
       "      <td>0.0</td>\n",
       "      <td>0.0</td>\n",
       "      <td>0.0</td>\n",
       "      <td>0.0</td>\n",
       "      <td>0.094770</td>\n",
       "      <td>0.768031</td>\n",
       "      <td>0.137199</td>\n",
       "    </tr>\n",
       "    <tr>\n",
       "      <th>std</th>\n",
       "      <td>7.694783</td>\n",
       "      <td>0.0</td>\n",
       "      <td>0.0</td>\n",
       "      <td>0.0</td>\n",
       "      <td>0.0</td>\n",
       "      <td>0.0</td>\n",
       "      <td>0.0</td>\n",
       "      <td>0.292903</td>\n",
       "      <td>0.422098</td>\n",
       "      <td>0.344064</td>\n",
       "    </tr>\n",
       "    <tr>\n",
       "      <th>min</th>\n",
       "      <td>2.000000</td>\n",
       "      <td>1.0</td>\n",
       "      <td>0.0</td>\n",
       "      <td>0.0</td>\n",
       "      <td>0.0</td>\n",
       "      <td>0.0</td>\n",
       "      <td>0.0</td>\n",
       "      <td>0.000000</td>\n",
       "      <td>0.000000</td>\n",
       "      <td>0.000000</td>\n",
       "    </tr>\n",
       "    <tr>\n",
       "      <th>25%</th>\n",
       "      <td>7.000000</td>\n",
       "      <td>1.0</td>\n",
       "      <td>0.0</td>\n",
       "      <td>0.0</td>\n",
       "      <td>0.0</td>\n",
       "      <td>0.0</td>\n",
       "      <td>0.0</td>\n",
       "      <td>0.000000</td>\n",
       "      <td>1.000000</td>\n",
       "      <td>0.000000</td>\n",
       "    </tr>\n",
       "    <tr>\n",
       "      <th>50%</th>\n",
       "      <td>13.000000</td>\n",
       "      <td>1.0</td>\n",
       "      <td>0.0</td>\n",
       "      <td>0.0</td>\n",
       "      <td>0.0</td>\n",
       "      <td>0.0</td>\n",
       "      <td>0.0</td>\n",
       "      <td>0.000000</td>\n",
       "      <td>1.000000</td>\n",
       "      <td>0.000000</td>\n",
       "    </tr>\n",
       "    <tr>\n",
       "      <th>75%</th>\n",
       "      <td>18.000000</td>\n",
       "      <td>1.0</td>\n",
       "      <td>0.0</td>\n",
       "      <td>0.0</td>\n",
       "      <td>0.0</td>\n",
       "      <td>0.0</td>\n",
       "      <td>0.0</td>\n",
       "      <td>0.000000</td>\n",
       "      <td>1.000000</td>\n",
       "      <td>0.000000</td>\n",
       "    </tr>\n",
       "    <tr>\n",
       "      <th>max</th>\n",
       "      <td>53.000000</td>\n",
       "      <td>1.0</td>\n",
       "      <td>0.0</td>\n",
       "      <td>0.0</td>\n",
       "      <td>0.0</td>\n",
       "      <td>0.0</td>\n",
       "      <td>0.0</td>\n",
       "      <td>1.000000</td>\n",
       "      <td>1.000000</td>\n",
       "      <td>1.000000</td>\n",
       "    </tr>\n",
       "  </tbody>\n",
       "</table>\n",
       "</div>"
      ]
     },
     "execution_count": 14,
     "metadata": {},
     "output_type": "execute_result"
    }
   ],
   "execution_count": 14
  },
  {
   "metadata": {},
   "cell_type": "markdown",
   "source": [
    "### Variable is_magic (2/4)\n",
    "Esta variable es de tipo booleano y representa si la variable es magic."
   ],
   "id": "1fa4491178ba606c"
  },
  {
   "metadata": {
    "ExecuteTime": {
     "end_time": "2024-05-27T10:57:31.149894Z",
     "start_time": "2024-05-27T10:57:28.308847Z"
    }
   },
   "cell_type": "code",
   "source": [
    "plt.xticks([0, 1], ['False', 'True'])\n",
    "sns.histplot(X['variable__is_magic'], discrete=True)"
   ],
   "id": "529b7fd2ad00b058",
   "outputs": [
    {
     "data": {
      "text/plain": [
       "<Axes: xlabel='variable__is_magic', ylabel='Count'>"
      ]
     },
     "execution_count": 15,
     "metadata": {},
     "output_type": "execute_result"
    },
    {
     "data": {
      "text/plain": [
       "<Figure size 640x480 with 1 Axes>"
      ],
      "image/png": "[encoded data removed]"
     },
     "metadata": {},
     "output_type": "display_data"
    }
   ],
   "execution_count": 15
  },
  {
   "metadata": {
    "ExecuteTime": {
     "end_time": "2024-05-27T10:57:31.400130Z",
     "start_time": "2024-05-27T10:57:31.149894Z"
    }
   },
   "cell_type": "code",
   "source": [
    "#ANALISIS DE DISTRIBUCIÓN DE DATOS\n",
    "num_true_values = len(X[X['variable__is_magic'] == True])\n",
    "num_false_values = len(X[X['variable__is_magic'] == False])\n",
    "std = X['variable__is_magic'].std()\n",
    "freq_true = len(X[X['variable__is_magic'] == True]) / len(X['variable__is_magic'])\n",
    "freq_false = len(X[X['variable__is_magic'] == False]) / len(X['variable__is_magic'])\n",
    "print(f'La variable is_magic contiene {num_true_values} valores verdaderos y {num_false_values} valores falsos. Y, la desviación típica es de {std}')\n",
    "print(f'La frecuencia con la que programa puede tener la variable is_magic a True es {freq_true}.')\n",
    "print(f'La frecuencia con la que programa puede tener la variable is_magic a False es {freq_false}.')"
   ],
   "id": "d1bed1e471481adc",
   "outputs": [
    {
     "name": "stdout",
     "output_type": "stream",
     "text": [
      "La variable is_magic contiene 13851 valores verdaderos y 1622901 valores falsos. Y, la desviación típica es de 0.09160176664590836\n",
      "La frecuencia con la que programa puede tener la variable is_magic a True es 0.008462491568667702.\n",
      "La frecuencia con la que programa puede tener la variable is_magic a False es 0.9915375084313323.\n"
     ]
    }
   ],
   "execution_count": 16
  },
  {
   "metadata": {
    "ExecuteTime": {
     "end_time": "2024-05-27T10:57:31.541196Z",
     "start_time": "2024-05-27T10:57:31.400130Z"
    }
   },
   "cell_type": "code",
   "source": [
    "#PROBABILIDAD DE VALORES\n",
    "possible_values = [True, False]\n",
    "print_frequency_anal_for_cat_var(X, 'variable__is_magic', possible_values)"
   ],
   "id": "c54b472864a47e88",
   "outputs": [
    {
     "name": "stdout",
     "output_type": "stream",
     "text": [
      "La variable variable__is_magic contiene 2 valores distintos.\n",
      "El umbral de outlier es de 0.1%\n",
      "La variable variable__is_magic toma el valor de 0.0 en un 99.15% de los items.\n",
      "La variable variable__is_magic toma el valor de 1.0 en un 0.8462% de los items.\n"
     ]
    }
   ],
   "execution_count": 17
  },
  {
   "metadata": {
    "ExecuteTime": {
     "end_time": "2024-05-27T10:57:31.614649Z",
     "start_time": "2024-05-27T10:57:31.541196Z"
    }
   },
   "cell_type": "code",
   "source": [
    "#VALORES DE LOS DATOS CONDICIONADOS A TRUE/FALSE\n",
    "X[X['variable__is_magic'] == True].describe(percentiles=[.25, .50, .75], include = ['object', 'float', 'bool', 'int'])"
   ],
   "id": "4bd840561db5f69f",
   "outputs": [
    {
     "data": {
      "text/plain": [
       "       variable__number_of_characters  variable__is_private  \\\n",
       "count                    13851.000000               13851.0   \n",
       "mean                         4.285972                   0.0   \n",
       "std                          3.571773                   0.0   \n",
       "min                          1.000000                   0.0   \n",
       "25%                          1.000000                   0.0   \n",
       "50%                          1.000000                   0.0   \n",
       "75%                          8.000000                   0.0   \n",
       "max                         25.000000                   0.0   \n",
       "\n",
       "       variable__is_magic  variable__name_convention_CamelLow  \\\n",
       "count             13851.0                             13851.0   \n",
       "mean                  1.0                                 0.0   \n",
       "std                   0.0                                 0.0   \n",
       "min                   1.0                                 0.0   \n",
       "25%                   1.0                                 0.0   \n",
       "50%                   1.0                                 0.0   \n",
       "75%                   1.0                                 0.0   \n",
       "max                   1.0                                 0.0   \n",
       "\n",
       "       variable__name_convention_CamelUp  variable__name_convention_Discard  \\\n",
       "count                            13851.0                       13851.000000   \n",
       "mean                                 0.0                           0.532453   \n",
       "std                                  0.0                           0.498964   \n",
       "min                                  0.0                           0.000000   \n",
       "25%                                  0.0                           0.000000   \n",
       "50%                                  0.0                           1.000000   \n",
       "75%                                  0.0                           1.000000   \n",
       "max                                  0.0                           1.000000   \n",
       "\n",
       "       variable__name_convention_Lower  \\\n",
       "count                          13851.0   \n",
       "mean                               0.0   \n",
       "std                                0.0   \n",
       "min                                0.0   \n",
       "25%                                0.0   \n",
       "50%                                0.0   \n",
       "75%                                0.0   \n",
       "max                                0.0   \n",
       "\n",
       "       variable__name_convention_NoNameConvention  \\\n",
       "count                                13851.000000   \n",
       "mean                                     0.000072   \n",
       "std                                      0.008497   \n",
       "min                                      0.000000   \n",
       "25%                                      0.000000   \n",
       "50%                                      0.000000   \n",
       "75%                                      0.000000   \n",
       "max                                      1.000000   \n",
       "\n",
       "       variable__name_convention_SnakeCase  variable__name_convention_Upper  \n",
       "count                         13851.000000                     13851.000000  \n",
       "mean                              0.467186                         0.000289  \n",
       "std                               0.498940                         0.016992  \n",
       "min                               0.000000                         0.000000  \n",
       "25%                               0.000000                         0.000000  \n",
       "50%                               0.000000                         0.000000  \n",
       "75%                               1.000000                         0.000000  \n",
       "max                               1.000000                         1.000000  "
      ],
      "text/html": [
       "<div>\n",
       "<style scoped>\n",
       "    .dataframe tbody tr th:only-of-type {\n",
       "        vertical-align: middle;\n",
       "    }\n",
       "\n",
       "    .dataframe tbody tr th {\n",
       "        vertical-align: top;\n",
       "    }\n",
       "\n",
       "    .dataframe thead th {\n",
       "        text-align: right;\n",
       "    }\n",
       "</style>\n",
       "<table border=\"1\" class=\"dataframe\">\n",
       "  <thead>\n",
       "    <tr style=\"text-align: right;\">\n",
       "      <th></th>\n",
       "      <th>variable__number_of_characters</th>\n",
       "      <th>variable__is_private</th>\n",
       "      <th>variable__is_magic</th>\n",
       "      <th>variable__name_convention_CamelLow</th>\n",
       "      <th>variable__name_convention_CamelUp</th>\n",
       "      <th>variable__name_convention_Discard</th>\n",
       "      <th>variable__name_convention_Lower</th>\n",
       "      <th>variable__name_convention_NoNameConvention</th>\n",
       "      <th>variable__name_convention_SnakeCase</th>\n",
       "      <th>variable__name_convention_Upper</th>\n",
       "    </tr>\n",
       "  </thead>\n",
       "  <tbody>\n",
       "    <tr>\n",
       "      <th>count</th>\n",
       "      <td>13851.000000</td>\n",
       "      <td>13851.0</td>\n",
       "      <td>13851.0</td>\n",
       "      <td>13851.0</td>\n",
       "      <td>13851.0</td>\n",
       "      <td>13851.000000</td>\n",
       "      <td>13851.0</td>\n",
       "      <td>13851.000000</td>\n",
       "      <td>13851.000000</td>\n",
       "      <td>13851.000000</td>\n",
       "    </tr>\n",
       "    <tr>\n",
       "      <th>mean</th>\n",
       "      <td>4.285972</td>\n",
       "      <td>0.0</td>\n",
       "      <td>1.0</td>\n",
       "      <td>0.0</td>\n",
       "      <td>0.0</td>\n",
       "      <td>0.532453</td>\n",
       "      <td>0.0</td>\n",
       "      <td>0.000072</td>\n",
       "      <td>0.467186</td>\n",
       "      <td>0.000289</td>\n",
       "    </tr>\n",
       "    <tr>\n",
       "      <th>std</th>\n",
       "      <td>3.571773</td>\n",
       "      <td>0.0</td>\n",
       "      <td>0.0</td>\n",
       "      <td>0.0</td>\n",
       "      <td>0.0</td>\n",
       "      <td>0.498964</td>\n",
       "      <td>0.0</td>\n",
       "      <td>0.008497</td>\n",
       "      <td>0.498940</td>\n",
       "      <td>0.016992</td>\n",
       "    </tr>\n",
       "    <tr>\n",
       "      <th>min</th>\n",
       "      <td>1.000000</td>\n",
       "      <td>0.0</td>\n",
       "      <td>1.0</td>\n",
       "      <td>0.0</td>\n",
       "      <td>0.0</td>\n",
       "      <td>0.000000</td>\n",
       "      <td>0.0</td>\n",
       "      <td>0.000000</td>\n",
       "      <td>0.000000</td>\n",
       "      <td>0.000000</td>\n",
       "    </tr>\n",
       "    <tr>\n",
       "      <th>25%</th>\n",
       "      <td>1.000000</td>\n",
       "      <td>0.0</td>\n",
       "      <td>1.0</td>\n",
       "      <td>0.0</td>\n",
       "      <td>0.0</td>\n",
       "      <td>0.000000</td>\n",
       "      <td>0.0</td>\n",
       "      <td>0.000000</td>\n",
       "      <td>0.000000</td>\n",
       "      <td>0.000000</td>\n",
       "    </tr>\n",
       "    <tr>\n",
       "      <th>50%</th>\n",
       "      <td>1.000000</td>\n",
       "      <td>0.0</td>\n",
       "      <td>1.0</td>\n",
       "      <td>0.0</td>\n",
       "      <td>0.0</td>\n",
       "      <td>1.000000</td>\n",
       "      <td>0.0</td>\n",
       "      <td>0.000000</td>\n",
       "      <td>0.000000</td>\n",
       "      <td>0.000000</td>\n",
       "    </tr>\n",
       "    <tr>\n",
       "      <th>75%</th>\n",
       "      <td>8.000000</td>\n",
       "      <td>0.0</td>\n",
       "      <td>1.0</td>\n",
       "      <td>0.0</td>\n",
       "      <td>0.0</td>\n",
       "      <td>1.000000</td>\n",
       "      <td>0.0</td>\n",
       "      <td>0.000000</td>\n",
       "      <td>1.000000</td>\n",
       "      <td>0.000000</td>\n",
       "    </tr>\n",
       "    <tr>\n",
       "      <th>max</th>\n",
       "      <td>25.000000</td>\n",
       "      <td>0.0</td>\n",
       "      <td>1.0</td>\n",
       "      <td>0.0</td>\n",
       "      <td>0.0</td>\n",
       "      <td>1.000000</td>\n",
       "      <td>0.0</td>\n",
       "      <td>1.000000</td>\n",
       "      <td>1.000000</td>\n",
       "      <td>1.000000</td>\n",
       "    </tr>\n",
       "  </tbody>\n",
       "</table>\n",
       "</div>"
      ]
     },
     "execution_count": 18,
     "metadata": {},
     "output_type": "execute_result"
    }
   ],
   "execution_count": 18
  },
  {
   "metadata": {},
   "cell_type": "markdown",
   "source": [
    "### Variable number_of_characters (3/4)\n",
    "Esta variable representa el número de caracteres del nombre de la variable. Como vimos en la descripción de la tabla esta varibale adopta valores en el rango 1 - 82. Con una media de 7.12."
   ],
   "id": "119fc307a9194a96"
  },
  {
   "metadata": {
    "ExecuteTime": {
     "end_time": "2024-05-27T10:57:40.098987Z",
     "start_time": "2024-05-27T10:57:31.614649Z"
    }
   },
   "cell_type": "code",
   "source": "sns.stripplot(X['variable__number_of_characters'])",
   "id": "5efd7fbb4f34563d",
   "outputs": [
    {
     "data": {
      "text/plain": [
       "<Axes: ylabel='variable__number_of_characters'>"
      ]
     },
     "execution_count": 19,
     "metadata": {},
     "output_type": "execute_result"
    },
    {
     "data": {
      "text/plain": [
       "<Figure size 640x480 with 1 Axes>"
      ],
      "image/png": "[encoded data removed]"
     },
     "metadata": {},
     "output_type": "display_data"
    }
   ],
   "execution_count": 19
  },
  {
   "metadata": {
    "ExecuteTime": {
     "end_time": "2024-05-27T10:57:40.220300Z",
     "start_time": "2024-05-27T10:57:40.098987Z"
    }
   },
   "cell_type": "code",
   "source": "print_outliers_for_df_column(X, 'variable__number_of_characters')",
   "id": "e5649a2923239004",
   "outputs": [
    {
     "name": "stdout",
     "output_type": "stream",
     "text": [
      "El coeficiente MC (Medcouple Coefficient) de balanceo es: 0.7279355334646909\n",
      "Rango valores atípicos extremos (Tukey): [-14.0,28.0]\n",
      "Rango valores atípicos leves (Tukey): [-5.0,19.0]\n",
      "Rango valores atípicos extremos (Fixed BoxPlot): [3.2956992341151876,175.49925796220023]\n",
      "-3.0IQR: 0 instancias tienen un valor para variable__number_of_characters inferior a -14.0 (Q1-3*IQR) para variable__number_of_characters. Representando un 0.0% del total de instancias.\n",
      "-1.5IQR: 0 instancias tienen un valor para variable__number_of_characters inferior a -5.0 (Q1-1.5*IQR) para variable__number_of_characters. Representando un 0.0% del total de instancias.\n",
      "+1.5IQR: 66109 instancias tienen un valor para variable__number_of_characters superior a 19.0 (Q3+1.5*IQR) para variable__number_of_characters. Representando un 4.039% del total de instancias.\n",
      "+3.0IQR: 10731 instancias tienen un valor para variable__number_of_characters superior a 28.0 (Q3-3*IQR) para variable__number_of_characters. Representando un 0.6556% del total de instancias.\n",
      "L: 317710 instancias tienen un valor para variable__number_of_characters inferior a 3.2956992341151876 para variable__number_of_characters. Representando un 19.41% del total de instancias.\n",
      "U: 0 instancias tienen un valor para variable__number_of_characters superior a 175.49925796220023 para variable__number_of_characters. Representando un 0.0% del total de instancias.\n"
     ]
    }
   ],
   "execution_count": 20
  },
  {
   "metadata": {
    "ExecuteTime": {
     "end_time": "2024-05-27T10:57:40.271407Z",
     "start_time": "2024-05-27T10:57:40.220300Z"
    }
   },
   "cell_type": "code",
   "source": "X[X['variable__number_of_characters'] > 28].describe(percentiles=[.25, .50, .75], include = ['object', 'float', 'bool', 'int'])",
   "id": "5c5e0e6eb4cd173",
   "outputs": [
    {
     "data": {
      "text/plain": [
       "       variable__number_of_characters  variable__is_private  \\\n",
       "count                    10731.000000          10731.000000   \n",
       "mean                        33.647842              0.104650   \n",
       "std                          5.094523              0.306116   \n",
       "min                         29.000000              0.000000   \n",
       "25%                         30.000000              0.000000   \n",
       "50%                         32.000000              0.000000   \n",
       "75%                         36.000000              0.000000   \n",
       "max                         82.000000              1.000000   \n",
       "\n",
       "       variable__is_magic  variable__name_convention_CamelLow  \\\n",
       "count             10731.0                        10731.000000   \n",
       "mean                  0.0                            0.004287   \n",
       "std                   0.0                            0.065335   \n",
       "min                   0.0                            0.000000   \n",
       "25%                   0.0                            0.000000   \n",
       "50%                   0.0                            0.000000   \n",
       "75%                   0.0                            0.000000   \n",
       "max                   0.0                            1.000000   \n",
       "\n",
       "       variable__name_convention_CamelUp  variable__name_convention_Discard  \\\n",
       "count                       10731.000000                            10731.0   \n",
       "mean                            0.147889                                0.0   \n",
       "std                             0.355007                                0.0   \n",
       "min                             0.000000                                0.0   \n",
       "25%                             0.000000                                0.0   \n",
       "50%                             0.000000                                0.0   \n",
       "75%                             0.000000                                0.0   \n",
       "max                             1.000000                                0.0   \n",
       "\n",
       "       variable__name_convention_Lower  \\\n",
       "count                          10731.0   \n",
       "mean                               0.0   \n",
       "std                                0.0   \n",
       "min                                0.0   \n",
       "25%                                0.0   \n",
       "50%                                0.0   \n",
       "75%                                0.0   \n",
       "max                                0.0   \n",
       "\n",
       "       variable__name_convention_NoNameConvention  \\\n",
       "count                                10731.000000   \n",
       "mean                                     0.020222   \n",
       "std                                      0.140765   \n",
       "min                                      0.000000   \n",
       "25%                                      0.000000   \n",
       "50%                                      0.000000   \n",
       "75%                                      0.000000   \n",
       "max                                      1.000000   \n",
       "\n",
       "       variable__name_convention_SnakeCase  variable__name_convention_Upper  \n",
       "count                         10731.000000                     10731.000000  \n",
       "mean                              0.482714                         0.344889  \n",
       "std                               0.499724                         0.475354  \n",
       "min                               0.000000                         0.000000  \n",
       "25%                               0.000000                         0.000000  \n",
       "50%                               0.000000                         0.000000  \n",
       "75%                               1.000000                         1.000000  \n",
       "max                               1.000000                         1.000000  "
      ],
      "text/html": [
       "<div>\n",
       "<style scoped>\n",
       "    .dataframe tbody tr th:only-of-type {\n",
       "        vertical-align: middle;\n",
       "    }\n",
       "\n",
       "    .dataframe tbody tr th {\n",
       "        vertical-align: top;\n",
       "    }\n",
       "\n",
       "    .dataframe thead th {\n",
       "        text-align: right;\n",
       "    }\n",
       "</style>\n",
       "<table border=\"1\" class=\"dataframe\">\n",
       "  <thead>\n",
       "    <tr style=\"text-align: right;\">\n",
       "      <th></th>\n",
       "      <th>variable__number_of_characters</th>\n",
       "      <th>variable__is_private</th>\n",
       "      <th>variable__is_magic</th>\n",
       "      <th>variable__name_convention_CamelLow</th>\n",
       "      <th>variable__name_convention_CamelUp</th>\n",
       "      <th>variable__name_convention_Discard</th>\n",
       "      <th>variable__name_convention_Lower</th>\n",
       "      <th>variable__name_convention_NoNameConvention</th>\n",
       "      <th>variable__name_convention_SnakeCase</th>\n",
       "      <th>variable__name_convention_Upper</th>\n",
       "    </tr>\n",
       "  </thead>\n",
       "  <tbody>\n",
       "    <tr>\n",
       "      <th>count</th>\n",
       "      <td>10731.000000</td>\n",
       "      <td>10731.000000</td>\n",
       "      <td>10731.0</td>\n",
       "      <td>10731.000000</td>\n",
       "      <td>10731.000000</td>\n",
       "      <td>10731.0</td>\n",
       "      <td>10731.0</td>\n",
       "      <td>10731.000000</td>\n",
       "      <td>10731.000000</td>\n",
       "      <td>10731.000000</td>\n",
       "    </tr>\n",
       "    <tr>\n",
       "      <th>mean</th>\n",
       "      <td>33.647842</td>\n",
       "      <td>0.104650</td>\n",
       "      <td>0.0</td>\n",
       "      <td>0.004287</td>\n",
       "      <td>0.147889</td>\n",
       "      <td>0.0</td>\n",
       "      <td>0.0</td>\n",
       "      <td>0.020222</td>\n",
       "      <td>0.482714</td>\n",
       "      <td>0.344889</td>\n",
       "    </tr>\n",
       "    <tr>\n",
       "      <th>std</th>\n",
       "      <td>5.094523</td>\n",
       "      <td>0.306116</td>\n",
       "      <td>0.0</td>\n",
       "      <td>0.065335</td>\n",
       "      <td>0.355007</td>\n",
       "      <td>0.0</td>\n",
       "      <td>0.0</td>\n",
       "      <td>0.140765</td>\n",
       "      <td>0.499724</td>\n",
       "      <td>0.475354</td>\n",
       "    </tr>\n",
       "    <tr>\n",
       "      <th>min</th>\n",
       "      <td>29.000000</td>\n",
       "      <td>0.000000</td>\n",
       "      <td>0.0</td>\n",
       "      <td>0.000000</td>\n",
       "      <td>0.000000</td>\n",
       "      <td>0.0</td>\n",
       "      <td>0.0</td>\n",
       "      <td>0.000000</td>\n",
       "      <td>0.000000</td>\n",
       "      <td>0.000000</td>\n",
       "    </tr>\n",
       "    <tr>\n",
       "      <th>25%</th>\n",
       "      <td>30.000000</td>\n",
       "      <td>0.000000</td>\n",
       "      <td>0.0</td>\n",
       "      <td>0.000000</td>\n",
       "      <td>0.000000</td>\n",
       "      <td>0.0</td>\n",
       "      <td>0.0</td>\n",
       "      <td>0.000000</td>\n",
       "      <td>0.000000</td>\n",
       "      <td>0.000000</td>\n",
       "    </tr>\n",
       "    <tr>\n",
       "      <th>50%</th>\n",
       "      <td>32.000000</td>\n",
       "      <td>0.000000</td>\n",
       "      <td>0.0</td>\n",
       "      <td>0.000000</td>\n",
       "      <td>0.000000</td>\n",
       "      <td>0.0</td>\n",
       "      <td>0.0</td>\n",
       "      <td>0.000000</td>\n",
       "      <td>0.000000</td>\n",
       "      <td>0.000000</td>\n",
       "    </tr>\n",
       "    <tr>\n",
       "      <th>75%</th>\n",
       "      <td>36.000000</td>\n",
       "      <td>0.000000</td>\n",
       "      <td>0.0</td>\n",
       "      <td>0.000000</td>\n",
       "      <td>0.000000</td>\n",
       "      <td>0.0</td>\n",
       "      <td>0.0</td>\n",
       "      <td>0.000000</td>\n",
       "      <td>1.000000</td>\n",
       "      <td>1.000000</td>\n",
       "    </tr>\n",
       "    <tr>\n",
       "      <th>max</th>\n",
       "      <td>82.000000</td>\n",
       "      <td>1.000000</td>\n",
       "      <td>0.0</td>\n",
       "      <td>1.000000</td>\n",
       "      <td>1.000000</td>\n",
       "      <td>0.0</td>\n",
       "      <td>0.0</td>\n",
       "      <td>1.000000</td>\n",
       "      <td>1.000000</td>\n",
       "      <td>1.000000</td>\n",
       "    </tr>\n",
       "  </tbody>\n",
       "</table>\n",
       "</div>"
      ]
     },
     "execution_count": 21,
     "metadata": {},
     "output_type": "execute_result"
    }
   ],
   "execution_count": 21
  },
  {
   "metadata": {},
   "cell_type": "markdown",
   "source": [
    "### Variable name_convention (10/10)\n",
    "Esta variable es de tipo categorica y representa el name convention del nombre de la variable."
   ],
   "id": "2fd1b0439566c6f7"
  },
  {
   "metadata": {
    "ExecuteTime": {
     "end_time": "2024-05-27T10:57:46.077437Z",
     "start_time": "2024-05-27T10:57:40.271407Z"
    }
   },
   "cell_type": "code",
   "source": "sns.catplot(full_table['variable__name_convention'], kind=\"count\")",
   "id": "b504c449a7224091",
   "outputs": [
    {
     "data": {
      "text/plain": [
       "<seaborn.axisgrid.FacetGrid at 0x1933b94ab10>"
      ]
     },
     "execution_count": 22,
     "metadata": {},
     "output_type": "execute_result"
    },
    {
     "data": {
      "text/plain": [
       "<Figure size 500x500 with 1 Axes>"
      ],
      "image/png": "[encoded data removed]"
     },
     "metadata": {},
     "output_type": "display_data"
    }
   ],
   "execution_count": 22
  },
  {
   "metadata": {
    "ExecuteTime": {
     "end_time": "2024-05-27T10:57:47.136121Z",
     "start_time": "2024-05-27T10:57:46.077437Z"
    }
   },
   "cell_type": "code",
   "source": "print_frequency_anal_for_cat_var(full_table, 'variable__name_convention')",
   "id": "33df6df9ad0487a2",
   "outputs": [
    {
     "name": "stdout",
     "output_type": "stream",
     "text": [
      "La variable variable__name_convention contiene 7 valores distintos.\n",
      "El umbral de outlier es de 0.028571428571428574%\n",
      "La variable variable__name_convention toma el valor de Lower en un 59.88% de los items.\n",
      "La variable variable__name_convention toma el valor de SnakeCase en un 26.29% de los items.\n",
      "La variable variable__name_convention toma el valor de CamelUp en un 8.356% de los items.\n",
      "La variable variable__name_convention toma el valor de Upper en un 3.355% de los items.\n",
      "La variable variable__name_convention toma el valor de CamelLow en un 1.396% de los items.\n",
      "La variable variable__name_convention toma el valor de Discard en un 0.4506% de los items.\n",
      "La variable variable__name_convention toma el valor de NoNameConvention en un 0.2721% de los items.\n"
     ]
    }
   ],
   "execution_count": 23
  }
 ],
 "metadata": {
  "kernelspec": {
   "display_name": "Python 3",
   "language": "python",
   "name": "python3"
  },
  "language_info": {
   "codemirror_mode": {
    "name": "ipython",
    "version": 2
   },
   "file_extension": ".py",
   "mimetype": "text/x-python",
   "name": "python",
   "nbconvert_exporter": "python",
   "pygments_lexer": "ipython2",
   "version": "2.7.6"
  }
 },
 "nbformat": 4,
 "nbformat_minor": 5
}
