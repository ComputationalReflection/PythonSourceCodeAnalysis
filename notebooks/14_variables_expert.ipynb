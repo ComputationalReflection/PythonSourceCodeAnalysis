{
 "cells": [
  {
   "metadata": {},
   "cell_type": "markdown",
   "source": [
    "# Variables EXPERT\n",
    "\n",
    "Esta tabla contiene la información de los expresiones Variables."
   ],
   "id": "148ae8871134f924"
  },
  {
   "metadata": {},
   "cell_type": "markdown",
   "source": "## 1 - Obtencion de datos",
   "id": "d3c24a719032807f"
  },
  {
   "metadata": {
    "ExecuteTime": {
     "end_time": "2024-07-04T17:34:25.378302Z",
     "start_time": "2024-07-04T17:34:23.047897Z"
    }
   },
   "cell_type": "code",
   "source": [
    "import matplotlib.pyplot as plt\n",
    "from notebooks_utils import *\n",
    "from domains import *\n",
    "\n",
    "TARGET_FEATURE = 'variable__expertise_level'\n",
    "TARGET_CLASS = 'EXPERT'\n",
    "full_table = get_data('variables')\n",
    "\n",
    "instances_for_class_low = len(full_table[full_table[TARGET_FEATURE] == \"BEGINNER\"])\n",
    "instances_for_class_high = len(full_table[full_table[TARGET_FEATURE] == \"EXPERT\"])\n",
    "\n",
    "print(f\"The dataset contains {instances_for_class_low} ({instances_for_class_low/len(full_table)*100:.4}%) instances for BEGINNER class and {instances_for_class_high} ({instances_for_class_high/len(full_table)*100:.4}%) for EXPERT class.\")"
   ],
   "id": "9f0a949e91eb384b",
   "outputs": [
    {
     "name": "stdout",
     "output_type": "stream",
     "text": [
      "2024-07-04 19:34:24.516588 Data cache files found ...\n",
      "2024-07-04 19:34:25.009996 Data cache files successfully loaded!!\n",
      "The dataset contains 1167967 (40.81%) instances for BEGINNER class and 1694338 (59.19%) for EXPERT class.\n"
     ]
    }
   ],
   "execution_count": 1
  },
  {
   "metadata": {
    "ExecuteTime": {
     "end_time": "2024-07-04T17:34:25.625505Z",
     "start_time": "2024-07-04T17:34:25.379334Z"
    }
   },
   "cell_type": "code",
   "source": [
    "full_table = full_table[full_table[TARGET_FEATURE] == TARGET_CLASS]\n",
    "\n",
    "# Table name, features and target.\n",
    "TABLE_NAME = 'variables'\n",
    "TABLE_FEATURES = ['variable__name_convention', 'variable__number_of_characters', 'variable__is_private', 'variable__is_magic']\n",
    "\n",
    "# Load features and target.\n",
    "X = full_table[TABLE_FEATURES]\n",
    "\n",
    "# Print information about the loaded table.\n",
    "print(f'Features shape: {X.shape}')\n",
    "\n",
    "print(f'As we can see the downloaded data contains a total of {X.shape[0]} instances. Each of the instances corresponds to a program. For each program we have {X.shape[1]} attributes.')"
   ],
   "id": "a278edc0f6d111f5",
   "outputs": [
    {
     "name": "stdout",
     "output_type": "stream",
     "text": [
      "Features shape: (1694338, 4)\n",
      "As we can see the downloaded data contains a total of 1694338 instances. Each of the instances corresponds to a program. For each program we have 4 attributes.\n"
     ]
    }
   ],
   "execution_count": 2
  },
  {
   "metadata": {},
   "cell_type": "markdown",
   "source": [
    "## 2 - Exploracion de datos\n",
    "\n",
    "Una vez tenemos nuestra tabla en un dataframe el siguiente paso es explorarla para ver qué tipo de información contiene."
   ],
   "id": "bcda7cb784bf0a1"
  },
  {
   "metadata": {
    "ExecuteTime": {
     "end_time": "2024-07-04T17:34:25.633866Z",
     "start_time": "2024-07-04T17:34:25.626514Z"
    }
   },
   "cell_type": "code",
   "source": "print(X.info())",
   "id": "2eb3d09993235bcb",
   "outputs": [
    {
     "name": "stdout",
     "output_type": "stream",
     "text": [
      "<class 'pandas.core.frame.DataFrame'>\n",
      "Index: 1694338 entries, 212 to 2862304\n",
      "Data columns (total 4 columns):\n",
      " #   Column                          Dtype \n",
      "---  ------                          ----- \n",
      " 0   variable__name_convention       object\n",
      " 1   variable__number_of_characters  int64 \n",
      " 2   variable__is_private            bool  \n",
      " 3   variable__is_magic              bool  \n",
      "dtypes: bool(2), int64(1), object(1)\n",
      "memory usage: 42.0+ MB\n",
      "None\n"
     ]
    }
   ],
   "execution_count": 3
  },
  {
   "metadata": {},
   "cell_type": "markdown",
   "source": "Cómo podemos ver la tabla está compuesta por 1 variable numérica, 2 variables boleanas y 2 de tipo objeto.",
   "id": "24f7607501c2e574"
  },
  {
   "metadata": {},
   "cell_type": "markdown",
   "source": [
    "### 2.1 - Valores Nulos \n",
    "Miramos si alguna de las variables que contiene la tabla contiene algún valor que sea nulo."
   ],
   "id": "63d4e4ed1d8d2c6c"
  },
  {
   "metadata": {
    "ExecuteTime": {
     "end_time": "2024-07-04T17:34:25.699655Z",
     "start_time": "2024-07-04T17:34:25.634808Z"
    }
   },
   "cell_type": "code",
   "source": "X.isnull().sum()",
   "id": "6c991380e6e0413e",
   "outputs": [
    {
     "data": {
      "text/plain": [
       "variable__name_convention         0\n",
       "variable__number_of_characters    0\n",
       "variable__is_private              0\n",
       "variable__is_magic                0\n",
       "dtype: int64"
      ]
     },
     "execution_count": 4,
     "metadata": {},
     "output_type": "execute_result"
    }
   ],
   "execution_count": 4
  },
  {
   "metadata": {
    "ExecuteTime": {
     "end_time": "2024-07-04T17:34:25.779162Z",
     "start_time": "2024-07-04T17:34:25.701660Z"
    }
   },
   "cell_type": "code",
   "source": "print_empty_cols(X)",
   "id": "18b2dfadf1719a4b",
   "outputs": [
    {
     "name": "stdout",
     "output_type": "stream",
     "text": [
      "variable__name_convention\n",
      "-------------------------\n",
      "0 instancias no tienen un valor para la columna variable__name_convention\n",
      "\n",
      "\n",
      "variable__number_of_characters\n",
      "------------------------------\n",
      "0 instancias no tienen un valor para la columna variable__number_of_characters\n",
      "\n",
      "\n",
      "variable__is_private\n",
      "--------------------\n",
      "0 instancias no tienen un valor para la columna variable__is_private\n",
      "\n",
      "\n",
      "variable__is_magic\n",
      "------------------\n",
      "0 instancias no tienen un valor para la columna variable__is_magic\n",
      "\n",
      "\n"
     ]
    }
   ],
   "execution_count": 5
  },
  {
   "metadata": {},
   "cell_type": "markdown",
   "source": "### 2.2 - Describimos los valores de las variables de la tabla.",
   "id": "5bb94c0f81c08024"
  },
  {
   "metadata": {
    "ExecuteTime": {
     "end_time": "2024-07-04T17:34:26.041459Z",
     "start_time": "2024-07-04T17:34:25.780166Z"
    }
   },
   "cell_type": "code",
   "source": "np.transpose(X.describe(percentiles=[.25, .50, .75], include = ['object', 'float', 'bool', 'int']))",
   "id": "74bba302a29fbfd5",
   "outputs": [
    {
     "data": {
      "text/plain": [
       "                                    count unique    top     freq     mean  \\\n",
       "variable__name_convention         1694338      7  Lower  1016285      NaN   \n",
       "variable__number_of_characters  1694338.0    NaN    NaN      NaN  7.59298   \n",
       "variable__is_private              1694338      2  False  1670488      NaN   \n",
       "variable__is_magic                1694338      2  False  1680001      NaN   \n",
       "\n",
       "                                     std  min  25%  50%   75%   max  \n",
       "variable__name_convention            NaN  NaN  NaN  NaN   NaN   NaN  \n",
       "variable__number_of_characters  5.570619  1.0  4.0  6.0  10.0  82.0  \n",
       "variable__is_private                 NaN  NaN  NaN  NaN   NaN   NaN  \n",
       "variable__is_magic                   NaN  NaN  NaN  NaN   NaN   NaN  "
      ],
      "text/html": [
       "<div>\n",
       "<style scoped>\n",
       "    .dataframe tbody tr th:only-of-type {\n",
       "        vertical-align: middle;\n",
       "    }\n",
       "\n",
       "    .dataframe tbody tr th {\n",
       "        vertical-align: top;\n",
       "    }\n",
       "\n",
       "    .dataframe thead th {\n",
       "        text-align: right;\n",
       "    }\n",
       "</style>\n",
       "<table border=\"1\" class=\"dataframe\">\n",
       "  <thead>\n",
       "    <tr style=\"text-align: right;\">\n",
       "      <th></th>\n",
       "      <th>count</th>\n",
       "      <th>unique</th>\n",
       "      <th>top</th>\n",
       "      <th>freq</th>\n",
       "      <th>mean</th>\n",
       "      <th>std</th>\n",
       "      <th>min</th>\n",
       "      <th>25%</th>\n",
       "      <th>50%</th>\n",
       "      <th>75%</th>\n",
       "      <th>max</th>\n",
       "    </tr>\n",
       "  </thead>\n",
       "  <tbody>\n",
       "    <tr>\n",
       "      <th>variable__name_convention</th>\n",
       "      <td>1694338</td>\n",
       "      <td>7</td>\n",
       "      <td>Lower</td>\n",
       "      <td>1016285</td>\n",
       "      <td>NaN</td>\n",
       "      <td>NaN</td>\n",
       "      <td>NaN</td>\n",
       "      <td>NaN</td>\n",
       "      <td>NaN</td>\n",
       "      <td>NaN</td>\n",
       "      <td>NaN</td>\n",
       "    </tr>\n",
       "    <tr>\n",
       "      <th>variable__number_of_characters</th>\n",
       "      <td>1694338.0</td>\n",
       "      <td>NaN</td>\n",
       "      <td>NaN</td>\n",
       "      <td>NaN</td>\n",
       "      <td>7.59298</td>\n",
       "      <td>5.570619</td>\n",
       "      <td>1.0</td>\n",
       "      <td>4.0</td>\n",
       "      <td>6.0</td>\n",
       "      <td>10.0</td>\n",
       "      <td>82.0</td>\n",
       "    </tr>\n",
       "    <tr>\n",
       "      <th>variable__is_private</th>\n",
       "      <td>1694338</td>\n",
       "      <td>2</td>\n",
       "      <td>False</td>\n",
       "      <td>1670488</td>\n",
       "      <td>NaN</td>\n",
       "      <td>NaN</td>\n",
       "      <td>NaN</td>\n",
       "      <td>NaN</td>\n",
       "      <td>NaN</td>\n",
       "      <td>NaN</td>\n",
       "      <td>NaN</td>\n",
       "    </tr>\n",
       "    <tr>\n",
       "      <th>variable__is_magic</th>\n",
       "      <td>1694338</td>\n",
       "      <td>2</td>\n",
       "      <td>False</td>\n",
       "      <td>1680001</td>\n",
       "      <td>NaN</td>\n",
       "      <td>NaN</td>\n",
       "      <td>NaN</td>\n",
       "      <td>NaN</td>\n",
       "      <td>NaN</td>\n",
       "      <td>NaN</td>\n",
       "      <td>NaN</td>\n",
       "    </tr>\n",
       "  </tbody>\n",
       "</table>\n",
       "</div>"
      ]
     },
     "execution_count": 6,
     "metadata": {},
     "output_type": "execute_result"
    }
   ],
   "execution_count": 6
  },
  {
   "metadata": {},
   "cell_type": "markdown",
   "source": "Vamos a discretizar las variables numericas, agrupando conjuntos de valores en categorias, para hacer un análisis de los datos. Para cada variable es necesario ver la distribucion de lo valores para hacer los bins (categorias).",
   "id": "9af3eb59b924a596"
  },
  {
   "metadata": {
    "ExecuteTime": {
     "end_time": "2024-07-04T17:34:28.247724Z",
     "start_time": "2024-07-04T17:34:26.042464Z"
    }
   },
   "cell_type": "code",
   "source": [
    "# DISCRETIZATION\n",
    "X_copy = X.copy()\n",
    "\n",
    "discretized_columns = {\n",
    "    \"variable__number_of_characters\": [(0.0, 4.0), (4.0, 4.0), (4.0, 10.0), (10.0, inf)], # min: 0 ; max: 82\n",
    "}\n",
    "\n",
    "discretize_columns(X_copy, discretized_columns)\n",
    "    \n",
    "# SINGLE FEATURE\n",
    "print(\"--- SINGLE FEATURE ---\")\n",
    "print(get_statistics(X_copy, ['variable__number_of_characters'], 10))\n",
    "print(get_statistics(full_table, ['variable__name_convention'], 10))\n",
    "print(get_statistics(X_copy, ['variable__is_private'], 10))\n",
    "print(get_statistics(X_copy, ['variable__is_magic'], 10))\n",
    "\n",
    "# 2 FEATURES\n",
    "print(\"--- TWO FEATURES ---\")\n",
    "#print(get_statistics(full_table, ['variable__is_magic', 'variable__name_convention_Discard'], 10))\n",
    "#print(get_statistics(X_copy, ['functiondef__number_of_characters', 'functiondef__name_convention_Lower'], 10))\n",
    "\n",
    "# 3 FEATURES\n",
    "print(\"--- THREE FEATURES ---\")\n",
    "#print(get_statistics(X_copy, ['module__class_defs_pct', 'module__function_defs_pct', 'module__enum_defs_pct'], 10))"
   ],
   "id": "6baf20dd3e3ca759",
   "outputs": [
    {
     "name": "stdout",
     "output_type": "stream",
     "text": [
      "--- SINGLE FEATURE ---\n",
      "variable__number_of_characters  count  percentage\n",
      "                    [4.0_10.0) 557563   32.907425\n",
      "                    [10.0_inf] 489285   28.877650\n",
      "                     [0.0_4.0) 331238   19.549700\n",
      "                     [4.0_4.0] 316252   18.665225\n",
      "\n",
      "variable__name_convention   count  percentage\n",
      "                    Lower 1016285   59.981243\n",
      "                SnakeCase  447252   26.396858\n",
      "                  CamelUp  139806    8.251364\n",
      "                    Upper   55591    3.280986\n",
      "                 CamelLow   23048    1.360295\n",
      "                  Discard    7841    0.462777\n",
      "         NoNameConvention    4515    0.266476\n",
      "\n",
      " variable__is_private   count  percentage\n",
      "                False 1670488   98.592371\n",
      "                 True   23850    1.407629\n",
      "\n",
      " variable__is_magic   count  percentage\n",
      "              False 1680001   99.153829\n",
      "               True   14337    0.846171\n",
      "\n",
      "--- TWO FEATURES ---\n",
      "--- THREE FEATURES ---\n"
     ]
    }
   ],
   "execution_count": 7
  },
  {
   "metadata": {
    "ExecuteTime": {
     "end_time": "2024-07-04T17:34:28.409401Z",
     "start_time": "2024-07-04T17:34:28.248758Z"
    }
   },
   "cell_type": "code",
   "source": [
    "def normalize_datatypes(X:pd.DataFrame) -> (pd.DataFrame, [str]):\n",
    "    X = pd.get_dummies(X)\n",
    "    X = X.astype('float32')        \n",
    "    columns_names = X.columns.tolist()\n",
    "    return X, columns_names\n",
    "\n",
    "X, TABLE_FEATURES = normalize_datatypes(X)\n",
    "# Print information about the loaded table\n",
    "print(f'Features shape: {X.shape}')"
   ],
   "id": "5084c89dcb377a92",
   "outputs": [
    {
     "name": "stdout",
     "output_type": "stream",
     "text": [
      "Features shape: (1694338, 10)\n"
     ]
    }
   ],
   "execution_count": 8
  },
  {
   "metadata": {},
   "cell_type": "markdown",
   "source": "#### Muestra la matriz de correlación de Spearman entre las variables de la tabla.",
   "id": "ed8befe21328a079"
  },
  {
   "metadata": {
    "ExecuteTime": {
     "end_time": "2024-07-04T17:34:29.884016Z",
     "start_time": "2024-07-04T17:34:28.410443Z"
    }
   },
   "cell_type": "code",
   "source": "sns.heatmap(X.corr(method='spearman'), annot=True)",
   "id": "dea960d18d682104",
   "outputs": [
    {
     "data": {
      "text/plain": [
       "<Axes: >"
      ]
     },
     "execution_count": 9,
     "metadata": {},
     "output_type": "execute_result"
    },
    {
     "data": {
      "text/plain": [
       "<Figure size 640x480 with 2 Axes>"
      ],
      "image/png": "[encoded data removed]"
     },
     "metadata": {},
     "output_type": "display_data"
    }
   ],
   "execution_count": 9
  },
  {
   "metadata": {},
   "cell_type": "markdown",
   "source": [
    "## 3 - Detección de valores atípicos (outliers)\n",
    "## Univariate\n",
    "## Analisis detallado de variables\n",
    "Para cada una de las 4 variables (1 numerica, 2 booleanas y 1 categorica) se hara un analisis detallado"
   ],
   "id": "599c97eec7b7d283"
  },
  {
   "metadata": {},
   "cell_type": "markdown",
   "source": [
    "### Variable is_private (1/4)\n",
    "Esta variable es de tipo booleano y representa si la variable es privada."
   ],
   "id": "6abba739e46da213"
  },
  {
   "metadata": {
    "ExecuteTime": {
     "end_time": "2024-07-04T17:34:30.943816Z",
     "start_time": "2024-07-04T17:34:29.888026Z"
    }
   },
   "cell_type": "code",
   "source": [
    "plt.xticks([0, 1], ['False', 'True'])\n",
    "sns.histplot(X['variable__is_private'], discrete=True)"
   ],
   "id": "4ab35b2ef94a3379",
   "outputs": [
    {
     "data": {
      "text/plain": [
       "<Axes: xlabel='variable__is_private', ylabel='Count'>"
      ]
     },
     "execution_count": 10,
     "metadata": {},
     "output_type": "execute_result"
    },
    {
     "data": {
      "text/plain": [
       "<Figure size 640x480 with 1 Axes>"
      ],
      "image/png": "[encoded data removed]"
     },
     "metadata": {},
     "output_type": "display_data"
    }
   ],
   "execution_count": 10
  },
  {
   "metadata": {
    "ExecuteTime": {
     "end_time": "2024-07-04T17:34:31.067516Z",
     "start_time": "2024-07-04T17:34:30.944854Z"
    }
   },
   "cell_type": "code",
   "source": [
    "num_true_values = len(X[X['variable__is_private'] == True])\n",
    "num_false_values = len(X[X['variable__is_private'] == False])\n",
    "std = X['variable__is_private'].std()\n",
    "freq_true = len(X[X['variable__is_private'] == True]) / len(X['variable__is_private'])\n",
    "freq_false = len(X[X['variable__is_private'] == False]) / len(X['variable__is_private'])\n",
    "print(f'La variable is_private contiene {num_true_values} valores verdaderos y {num_false_values} valores falsos. Y, la desviación típica es de {std}')\n",
    "print(f'La frecuencia con la que programa puede tener la variable is_private a True es {freq_true}.')\n",
    "print(f'La frecuencia con la que programa puede tener la variable is_private a False es {freq_false}.')"
   ],
   "id": "f4a042829ae6fac5",
   "outputs": [
    {
     "name": "stdout",
     "output_type": "stream",
     "text": [
      "La variable is_private contiene 23850 valores verdaderos y 1670488 valores falsos. Y, la desviación típica es de 0.1178056001663208\n",
      "La frecuencia con la que programa puede tener la variable is_private a True es 0.014076294104246025.\n",
      "La frecuencia con la que programa puede tener la variable is_private a False es 0.985923705895754.\n"
     ]
    }
   ],
   "execution_count": 11
  },
  {
   "metadata": {
    "ExecuteTime": {
     "end_time": "2024-07-04T17:34:31.136691Z",
     "start_time": "2024-07-04T17:34:31.068580Z"
    }
   },
   "cell_type": "code",
   "source": [
    "possible_values = [True, False]\n",
    "print_frequency_anal_for_cat_var(X, 'variable__is_private', possible_values)"
   ],
   "id": "c614dd60d0ab8e5b",
   "outputs": [
    {
     "name": "stdout",
     "output_type": "stream",
     "text": [
      "La variable variable__is_private contiene 2 valores distintos.\n",
      "El umbral de outlier es de 0.1%\n",
      "La variable variable__is_private toma el valor de 0.0 en un 98.59% de los items.\n",
      "La variable variable__is_private toma el valor de 1.0 en un 1.408% de los items.\n"
     ]
    }
   ],
   "execution_count": 12
  },
  {
   "metadata": {
    "ExecuteTime": {
     "end_time": "2024-07-04T17:34:31.167850Z",
     "start_time": "2024-07-04T17:34:31.137698Z"
    }
   },
   "cell_type": "code",
   "source": "X[X['variable__is_private'] == True].describe(percentiles=[.25, .50, .75], include = ['object', 'float', 'bool', 'int'])",
   "id": "6c33bdd1420008cf",
   "outputs": [
    {
     "data": {
      "text/plain": [
       "       variable__number_of_characters  variable__is_private  \\\n",
       "count                    23850.000000               23850.0   \n",
       "mean                        13.913082                   1.0   \n",
       "std                          7.705943                   0.0   \n",
       "min                          2.000000                   1.0   \n",
       "25%                          7.000000                   1.0   \n",
       "50%                         13.000000                   1.0   \n",
       "75%                         18.000000                   1.0   \n",
       "max                         53.000000                   1.0   \n",
       "\n",
       "       variable__is_magic  variable__name_convention_CamelLow  \\\n",
       "count             23850.0                             23850.0   \n",
       "mean                  0.0                                 0.0   \n",
       "std                   0.0                                 0.0   \n",
       "min                   0.0                                 0.0   \n",
       "25%                   0.0                                 0.0   \n",
       "50%                   0.0                                 0.0   \n",
       "75%                   0.0                                 0.0   \n",
       "max                   0.0                                 0.0   \n",
       "\n",
       "       variable__name_convention_CamelUp  variable__name_convention_Discard  \\\n",
       "count                            23850.0                            23850.0   \n",
       "mean                                 0.0                                0.0   \n",
       "std                                  0.0                                0.0   \n",
       "min                                  0.0                                0.0   \n",
       "25%                                  0.0                                0.0   \n",
       "50%                                  0.0                                0.0   \n",
       "75%                                  0.0                                0.0   \n",
       "max                                  0.0                                0.0   \n",
       "\n",
       "       variable__name_convention_Lower  \\\n",
       "count                          23850.0   \n",
       "mean                               0.0   \n",
       "std                                0.0   \n",
       "min                                0.0   \n",
       "25%                                0.0   \n",
       "50%                                0.0   \n",
       "75%                                0.0   \n",
       "max                                0.0   \n",
       "\n",
       "       variable__name_convention_NoNameConvention  \\\n",
       "count                                23850.000000   \n",
       "mean                                     0.094130   \n",
       "std                                      0.292016   \n",
       "min                                      0.000000   \n",
       "25%                                      0.000000   \n",
       "50%                                      0.000000   \n",
       "75%                                      0.000000   \n",
       "max                                      1.000000   \n",
       "\n",
       "       variable__name_convention_SnakeCase  variable__name_convention_Upper  \n",
       "count                         23850.000000                     23850.000000  \n",
       "mean                              0.769182                         0.136688  \n",
       "std                               0.421365                         0.343524  \n",
       "min                               0.000000                         0.000000  \n",
       "25%                               1.000000                         0.000000  \n",
       "50%                               1.000000                         0.000000  \n",
       "75%                               1.000000                         0.000000  \n",
       "max                               1.000000                         1.000000  "
      ],
      "text/html": [
       "<div>\n",
       "<style scoped>\n",
       "    .dataframe tbody tr th:only-of-type {\n",
       "        vertical-align: middle;\n",
       "    }\n",
       "\n",
       "    .dataframe tbody tr th {\n",
       "        vertical-align: top;\n",
       "    }\n",
       "\n",
       "    .dataframe thead th {\n",
       "        text-align: right;\n",
       "    }\n",
       "</style>\n",
       "<table border=\"1\" class=\"dataframe\">\n",
       "  <thead>\n",
       "    <tr style=\"text-align: right;\">\n",
       "      <th></th>\n",
       "      <th>variable__number_of_characters</th>\n",
       "      <th>variable__is_private</th>\n",
       "      <th>variable__is_magic</th>\n",
       "      <th>variable__name_convention_CamelLow</th>\n",
       "      <th>variable__name_convention_CamelUp</th>\n",
       "      <th>variable__name_convention_Discard</th>\n",
       "      <th>variable__name_convention_Lower</th>\n",
       "      <th>variable__name_convention_NoNameConvention</th>\n",
       "      <th>variable__name_convention_SnakeCase</th>\n",
       "      <th>variable__name_convention_Upper</th>\n",
       "    </tr>\n",
       "  </thead>\n",
       "  <tbody>\n",
       "    <tr>\n",
       "      <th>count</th>\n",
       "      <td>23850.000000</td>\n",
       "      <td>23850.0</td>\n",
       "      <td>23850.0</td>\n",
       "      <td>23850.0</td>\n",
       "      <td>23850.0</td>\n",
       "      <td>23850.0</td>\n",
       "      <td>23850.0</td>\n",
       "      <td>23850.000000</td>\n",
       "      <td>23850.000000</td>\n",
       "      <td>23850.000000</td>\n",
       "    </tr>\n",
       "    <tr>\n",
       "      <th>mean</th>\n",
       "      <td>13.913082</td>\n",
       "      <td>1.0</td>\n",
       "      <td>0.0</td>\n",
       "      <td>0.0</td>\n",
       "      <td>0.0</td>\n",
       "      <td>0.0</td>\n",
       "      <td>0.0</td>\n",
       "      <td>0.094130</td>\n",
       "      <td>0.769182</td>\n",
       "      <td>0.136688</td>\n",
       "    </tr>\n",
       "    <tr>\n",
       "      <th>std</th>\n",
       "      <td>7.705943</td>\n",
       "      <td>0.0</td>\n",
       "      <td>0.0</td>\n",
       "      <td>0.0</td>\n",
       "      <td>0.0</td>\n",
       "      <td>0.0</td>\n",
       "      <td>0.0</td>\n",
       "      <td>0.292016</td>\n",
       "      <td>0.421365</td>\n",
       "      <td>0.343524</td>\n",
       "    </tr>\n",
       "    <tr>\n",
       "      <th>min</th>\n",
       "      <td>2.000000</td>\n",
       "      <td>1.0</td>\n",
       "      <td>0.0</td>\n",
       "      <td>0.0</td>\n",
       "      <td>0.0</td>\n",
       "      <td>0.0</td>\n",
       "      <td>0.0</td>\n",
       "      <td>0.000000</td>\n",
       "      <td>0.000000</td>\n",
       "      <td>0.000000</td>\n",
       "    </tr>\n",
       "    <tr>\n",
       "      <th>25%</th>\n",
       "      <td>7.000000</td>\n",
       "      <td>1.0</td>\n",
       "      <td>0.0</td>\n",
       "      <td>0.0</td>\n",
       "      <td>0.0</td>\n",
       "      <td>0.0</td>\n",
       "      <td>0.0</td>\n",
       "      <td>0.000000</td>\n",
       "      <td>1.000000</td>\n",
       "      <td>0.000000</td>\n",
       "    </tr>\n",
       "    <tr>\n",
       "      <th>50%</th>\n",
       "      <td>13.000000</td>\n",
       "      <td>1.0</td>\n",
       "      <td>0.0</td>\n",
       "      <td>0.0</td>\n",
       "      <td>0.0</td>\n",
       "      <td>0.0</td>\n",
       "      <td>0.0</td>\n",
       "      <td>0.000000</td>\n",
       "      <td>1.000000</td>\n",
       "      <td>0.000000</td>\n",
       "    </tr>\n",
       "    <tr>\n",
       "      <th>75%</th>\n",
       "      <td>18.000000</td>\n",
       "      <td>1.0</td>\n",
       "      <td>0.0</td>\n",
       "      <td>0.0</td>\n",
       "      <td>0.0</td>\n",
       "      <td>0.0</td>\n",
       "      <td>0.0</td>\n",
       "      <td>0.000000</td>\n",
       "      <td>1.000000</td>\n",
       "      <td>0.000000</td>\n",
       "    </tr>\n",
       "    <tr>\n",
       "      <th>max</th>\n",
       "      <td>53.000000</td>\n",
       "      <td>1.0</td>\n",
       "      <td>0.0</td>\n",
       "      <td>0.0</td>\n",
       "      <td>0.0</td>\n",
       "      <td>0.0</td>\n",
       "      <td>0.0</td>\n",
       "      <td>1.000000</td>\n",
       "      <td>1.000000</td>\n",
       "      <td>1.000000</td>\n",
       "    </tr>\n",
       "  </tbody>\n",
       "</table>\n",
       "</div>"
      ]
     },
     "execution_count": 13,
     "metadata": {},
     "output_type": "execute_result"
    }
   ],
   "execution_count": 13
  },
  {
   "metadata": {},
   "cell_type": "markdown",
   "source": [
    "### Variable is_magic (2/4)\n",
    "Esta variable es de tipo booleano y representa si la variable es magic."
   ],
   "id": "1fa4491178ba606c"
  },
  {
   "metadata": {
    "ExecuteTime": {
     "end_time": "2024-07-04T17:34:32.265752Z",
     "start_time": "2024-07-04T17:34:31.169881Z"
    }
   },
   "cell_type": "code",
   "source": [
    "plt.xticks([0, 1], ['False', 'True'])\n",
    "sns.histplot(X['variable__is_magic'], discrete=True)"
   ],
   "id": "529b7fd2ad00b058",
   "outputs": [
    {
     "data": {
      "text/plain": [
       "<Axes: xlabel='variable__is_magic', ylabel='Count'>"
      ]
     },
     "execution_count": 14,
     "metadata": {},
     "output_type": "execute_result"
    },
    {
     "data": {
      "text/plain": [
       "<Figure size 640x480 with 1 Axes>"
      ],
      "image/png": "[encoded data removed]"
     },
     "metadata": {},
     "output_type": "display_data"
    }
   ],
   "execution_count": 14
  },
  {
   "metadata": {
    "ExecuteTime": {
     "end_time": "2024-07-04T17:34:32.390019Z",
     "start_time": "2024-07-04T17:34:32.266757Z"
    }
   },
   "cell_type": "code",
   "source": [
    "#ANALISIS DE DISTRIBUCIÓN DE DATOS\n",
    "num_true_values = len(X[X['variable__is_magic'] == True])\n",
    "num_false_values = len(X[X['variable__is_magic'] == False])\n",
    "std = X['variable__is_magic'].std()\n",
    "freq_true = len(X[X['variable__is_magic'] == True]) / len(X['variable__is_magic'])\n",
    "freq_false = len(X[X['variable__is_magic'] == False]) / len(X['variable__is_magic'])\n",
    "print(f'La variable is_magic contiene {num_true_values} valores verdaderos y {num_false_values} valores falsos. Y, la desviación típica es de {std}')\n",
    "print(f'La frecuencia con la que programa puede tener la variable is_magic a True es {freq_true}.')\n",
    "print(f'La frecuencia con la que programa puede tener la variable is_magic a False es {freq_false}.')"
   ],
   "id": "d1bed1e471481adc",
   "outputs": [
    {
     "name": "stdout",
     "output_type": "stream",
     "text": [
      "La variable is_magic contiene 14337 valores verdaderos y 1680001 valores falsos. Y, la desviación típica es de 0.09159757941961288\n",
      "La frecuencia con la que programa puede tener la variable is_magic a True es 0.00846171188983544.\n",
      "La frecuencia con la que programa puede tener la variable is_magic a False es 0.9915382881101645.\n"
     ]
    }
   ],
   "execution_count": 15
  },
  {
   "metadata": {
    "ExecuteTime": {
     "end_time": "2024-07-04T17:34:32.458011Z",
     "start_time": "2024-07-04T17:34:32.391023Z"
    }
   },
   "cell_type": "code",
   "source": [
    "#PROBABILIDAD DE VALORES\n",
    "possible_values = [True, False]\n",
    "print_frequency_anal_for_cat_var(X, 'variable__is_magic', possible_values)"
   ],
   "id": "c54b472864a47e88",
   "outputs": [
    {
     "name": "stdout",
     "output_type": "stream",
     "text": [
      "La variable variable__is_magic contiene 2 valores distintos.\n",
      "El umbral de outlier es de 0.1%\n",
      "La variable variable__is_magic toma el valor de 0.0 en un 99.15% de los items.\n",
      "La variable variable__is_magic toma el valor de 1.0 en un 0.8462% de los items.\n"
     ]
    }
   ],
   "execution_count": 16
  },
  {
   "metadata": {
    "ExecuteTime": {
     "end_time": "2024-07-04T17:34:32.486305Z",
     "start_time": "2024-07-04T17:34:32.459018Z"
    }
   },
   "cell_type": "code",
   "source": "X[X['variable__is_magic'] == True].describe(percentiles=[.25, .50, .75], include = ['object', 'float', 'bool', 'int'])",
   "id": "4bd840561db5f69f",
   "outputs": [
    {
     "data": {
      "text/plain": [
       "       variable__number_of_characters  variable__is_private  \\\n",
       "count                    14337.000000               14337.0   \n",
       "mean                         4.185953                   0.0   \n",
       "std                          3.564010                   0.0   \n",
       "min                          1.000000                   0.0   \n",
       "25%                          1.000000                   0.0   \n",
       "50%                          1.000000                   0.0   \n",
       "75%                          8.000000                   0.0   \n",
       "max                         25.000000                   0.0   \n",
       "\n",
       "       variable__is_magic  variable__name_convention_CamelLow  \\\n",
       "count             14337.0                             14337.0   \n",
       "mean                  1.0                                 0.0   \n",
       "std                   0.0                                 0.0   \n",
       "min                   1.0                                 0.0   \n",
       "25%                   1.0                                 0.0   \n",
       "50%                   1.0                                 0.0   \n",
       "75%                   1.0                                 0.0   \n",
       "max                   1.0                                 0.0   \n",
       "\n",
       "       variable__name_convention_CamelUp  variable__name_convention_Discard  \\\n",
       "count                            14337.0                       14337.000000   \n",
       "mean                                 0.0                           0.546907   \n",
       "std                                  0.0                           0.497812   \n",
       "min                                  0.0                           0.000000   \n",
       "25%                                  0.0                           0.000000   \n",
       "50%                                  0.0                           1.000000   \n",
       "75%                                  0.0                           1.000000   \n",
       "max                                  0.0                           1.000000   \n",
       "\n",
       "       variable__name_convention_Lower  \\\n",
       "count                          14337.0   \n",
       "mean                               0.0   \n",
       "std                                0.0   \n",
       "min                                0.0   \n",
       "25%                                0.0   \n",
       "50%                                0.0   \n",
       "75%                                0.0   \n",
       "max                                0.0   \n",
       "\n",
       "       variable__name_convention_NoNameConvention  \\\n",
       "count                                14337.000000   \n",
       "mean                                     0.000070   \n",
       "std                                      0.008352   \n",
       "min                                      0.000000   \n",
       "25%                                      0.000000   \n",
       "50%                                      0.000000   \n",
       "75%                                      0.000000   \n",
       "max                                      1.000000   \n",
       "\n",
       "       variable__name_convention_SnakeCase  variable__name_convention_Upper  \n",
       "count                         14337.000000                     14337.000000  \n",
       "mean                              0.452745                         0.000279  \n",
       "std                               0.497779                         0.016701  \n",
       "min                               0.000000                         0.000000  \n",
       "25%                               0.000000                         0.000000  \n",
       "50%                               0.000000                         0.000000  \n",
       "75%                               1.000000                         0.000000  \n",
       "max                               1.000000                         1.000000  "
      ],
      "text/html": [
       "<div>\n",
       "<style scoped>\n",
       "    .dataframe tbody tr th:only-of-type {\n",
       "        vertical-align: middle;\n",
       "    }\n",
       "\n",
       "    .dataframe tbody tr th {\n",
       "        vertical-align: top;\n",
       "    }\n",
       "\n",
       "    .dataframe thead th {\n",
       "        text-align: right;\n",
       "    }\n",
       "</style>\n",
       "<table border=\"1\" class=\"dataframe\">\n",
       "  <thead>\n",
       "    <tr style=\"text-align: right;\">\n",
       "      <th></th>\n",
       "      <th>variable__number_of_characters</th>\n",
       "      <th>variable__is_private</th>\n",
       "      <th>variable__is_magic</th>\n",
       "      <th>variable__name_convention_CamelLow</th>\n",
       "      <th>variable__name_convention_CamelUp</th>\n",
       "      <th>variable__name_convention_Discard</th>\n",
       "      <th>variable__name_convention_Lower</th>\n",
       "      <th>variable__name_convention_NoNameConvention</th>\n",
       "      <th>variable__name_convention_SnakeCase</th>\n",
       "      <th>variable__name_convention_Upper</th>\n",
       "    </tr>\n",
       "  </thead>\n",
       "  <tbody>\n",
       "    <tr>\n",
       "      <th>count</th>\n",
       "      <td>14337.000000</td>\n",
       "      <td>14337.0</td>\n",
       "      <td>14337.0</td>\n",
       "      <td>14337.0</td>\n",
       "      <td>14337.0</td>\n",
       "      <td>14337.000000</td>\n",
       "      <td>14337.0</td>\n",
       "      <td>14337.000000</td>\n",
       "      <td>14337.000000</td>\n",
       "      <td>14337.000000</td>\n",
       "    </tr>\n",
       "    <tr>\n",
       "      <th>mean</th>\n",
       "      <td>4.185953</td>\n",
       "      <td>0.0</td>\n",
       "      <td>1.0</td>\n",
       "      <td>0.0</td>\n",
       "      <td>0.0</td>\n",
       "      <td>0.546907</td>\n",
       "      <td>0.0</td>\n",
       "      <td>0.000070</td>\n",
       "      <td>0.452745</td>\n",
       "      <td>0.000279</td>\n",
       "    </tr>\n",
       "    <tr>\n",
       "      <th>std</th>\n",
       "      <td>3.564010</td>\n",
       "      <td>0.0</td>\n",
       "      <td>0.0</td>\n",
       "      <td>0.0</td>\n",
       "      <td>0.0</td>\n",
       "      <td>0.497812</td>\n",
       "      <td>0.0</td>\n",
       "      <td>0.008352</td>\n",
       "      <td>0.497779</td>\n",
       "      <td>0.016701</td>\n",
       "    </tr>\n",
       "    <tr>\n",
       "      <th>min</th>\n",
       "      <td>1.000000</td>\n",
       "      <td>0.0</td>\n",
       "      <td>1.0</td>\n",
       "      <td>0.0</td>\n",
       "      <td>0.0</td>\n",
       "      <td>0.000000</td>\n",
       "      <td>0.0</td>\n",
       "      <td>0.000000</td>\n",
       "      <td>0.000000</td>\n",
       "      <td>0.000000</td>\n",
       "    </tr>\n",
       "    <tr>\n",
       "      <th>25%</th>\n",
       "      <td>1.000000</td>\n",
       "      <td>0.0</td>\n",
       "      <td>1.0</td>\n",
       "      <td>0.0</td>\n",
       "      <td>0.0</td>\n",
       "      <td>0.000000</td>\n",
       "      <td>0.0</td>\n",
       "      <td>0.000000</td>\n",
       "      <td>0.000000</td>\n",
       "      <td>0.000000</td>\n",
       "    </tr>\n",
       "    <tr>\n",
       "      <th>50%</th>\n",
       "      <td>1.000000</td>\n",
       "      <td>0.0</td>\n",
       "      <td>1.0</td>\n",
       "      <td>0.0</td>\n",
       "      <td>0.0</td>\n",
       "      <td>1.000000</td>\n",
       "      <td>0.0</td>\n",
       "      <td>0.000000</td>\n",
       "      <td>0.000000</td>\n",
       "      <td>0.000000</td>\n",
       "    </tr>\n",
       "    <tr>\n",
       "      <th>75%</th>\n",
       "      <td>8.000000</td>\n",
       "      <td>0.0</td>\n",
       "      <td>1.0</td>\n",
       "      <td>0.0</td>\n",
       "      <td>0.0</td>\n",
       "      <td>1.000000</td>\n",
       "      <td>0.0</td>\n",
       "      <td>0.000000</td>\n",
       "      <td>1.000000</td>\n",
       "      <td>0.000000</td>\n",
       "    </tr>\n",
       "    <tr>\n",
       "      <th>max</th>\n",
       "      <td>25.000000</td>\n",
       "      <td>0.0</td>\n",
       "      <td>1.0</td>\n",
       "      <td>0.0</td>\n",
       "      <td>0.0</td>\n",
       "      <td>1.000000</td>\n",
       "      <td>0.0</td>\n",
       "      <td>1.000000</td>\n",
       "      <td>1.000000</td>\n",
       "      <td>1.000000</td>\n",
       "    </tr>\n",
       "  </tbody>\n",
       "</table>\n",
       "</div>"
      ]
     },
     "execution_count": 17,
     "metadata": {},
     "output_type": "execute_result"
    }
   ],
   "execution_count": 17
  },
  {
   "metadata": {},
   "cell_type": "markdown",
   "source": [
    "### Variable number_of_characters (3/4)\n",
    "Esta variable representa el número de caracteres del nombre de la variable. Como vimos en la descripción de la tabla esta varibale adopta valores en el rango 1 - 82. Con una media de 7.59."
   ],
   "id": "119fc307a9194a96"
  },
  {
   "metadata": {
    "ExecuteTime": {
     "end_time": "2024-07-04T17:34:36.809610Z",
     "start_time": "2024-07-04T17:34:32.487310Z"
    }
   },
   "cell_type": "code",
   "source": "sns.stripplot(X['variable__number_of_characters'])",
   "id": "5efd7fbb4f34563d",
   "outputs": [
    {
     "data": {
      "text/plain": [
       "<Axes: ylabel='variable__number_of_characters'>"
      ]
     },
     "execution_count": 18,
     "metadata": {},
     "output_type": "execute_result"
    },
    {
     "data": {
      "text/plain": [
       "<Figure size 640x480 with 1 Axes>"
      ],
      "image/png": "[encoded data removed]"
     },
     "metadata": {},
     "output_type": "display_data"
    }
   ],
   "execution_count": 18
  },
  {
   "metadata": {
    "ExecuteTime": {
     "end_time": "2024-07-04T17:34:36.889999Z",
     "start_time": "2024-07-04T17:34:36.810639Z"
    }
   },
   "cell_type": "code",
   "source": "print_outliers_for_df_column(X, 'variable__number_of_characters')",
   "id": "e5649a2923239004",
   "outputs": [
    {
     "name": "stdout",
     "output_type": "stream",
     "text": [
      "El coeficiente MC (Medcouple Coefficient) de balanceo es: 0.7293159071310067\n",
      "Rango valores atípicos extremos (Tukey): [-14.0,28.0]\n",
      "Rango valores atípicos leves (Tukey): [-5.0,19.0]\n",
      "Rango valores atípicos extremos (Fixed BoxPlot): [3.299093721412323,176.41558866167196]\n",
      "-3.0IQR: 0 instancias tienen un valor para variable__number_of_characters inferior a -14.0 (Q1-3*IQR) para variable__number_of_characters. Representando un 0.0% del total de instancias.\n",
      "-1.5IQR: 0 instancias tienen un valor para variable__number_of_characters inferior a -5.0 (Q1-1.5*IQR) para variable__number_of_characters. Representando un 0.0% del total de instancias.\n",
      "+1.5IQR: 68224 instancias tienen un valor para variable__number_of_characters superior a 19.0 (Q3+1.5*IQR) para variable__number_of_characters. Representando un 4.027% del total de instancias.\n",
      "+3.0IQR: 11019 instancias tienen un valor para variable__number_of_characters superior a 28.0 (Q3-3*IQR) para variable__number_of_characters. Representando un 0.6503% del total de instancias.\n",
      "L: 331238 instancias tienen un valor para variable__number_of_characters inferior a 3.299093721412323 para variable__number_of_characters. Representando un 19.55% del total de instancias.\n",
      "U: 0 instancias tienen un valor para variable__number_of_characters superior a 176.41558866167196 para variable__number_of_characters. Representando un 0.0% del total de instancias.\n"
     ]
    }
   ],
   "execution_count": 19
  },
  {
   "metadata": {},
   "cell_type": "markdown",
   "source": "Describimos los valores de las variables de la tabla, cuando el valor de la variable es mayor que 28.0 (Con un MC de 72 usamos Tuckey Extremo)",
   "id": "5d347109e6bb8320"
  },
  {
   "metadata": {
    "ExecuteTime": {
     "end_time": "2024-07-04T17:34:36.916856Z",
     "start_time": "2024-07-04T17:34:36.891007Z"
    }
   },
   "cell_type": "code",
   "source": "X[X['variable__number_of_characters'] > 28].describe(percentiles=[.25, .50, .75], include = ['object', 'float', 'bool', 'int'])",
   "id": "5c5e0e6eb4cd173",
   "outputs": [
    {
     "data": {
      "text/plain": [
       "       variable__number_of_characters  variable__is_private  \\\n",
       "count                    11019.000000          11019.000000   \n",
       "mean                        33.620926              0.105363   \n",
       "std                          5.063722              0.307035   \n",
       "min                         29.000000              0.000000   \n",
       "25%                         30.000000              0.000000   \n",
       "50%                         32.000000              0.000000   \n",
       "75%                         35.000000              0.000000   \n",
       "max                         82.000000              1.000000   \n",
       "\n",
       "       variable__is_magic  variable__name_convention_CamelLow  \\\n",
       "count             11019.0                        11019.000000   \n",
       "mean                  0.0                            0.004175   \n",
       "std                   0.0                            0.064479   \n",
       "min                   0.0                            0.000000   \n",
       "25%                   0.0                            0.000000   \n",
       "50%                   0.0                            0.000000   \n",
       "75%                   0.0                            0.000000   \n",
       "max                   0.0                            1.000000   \n",
       "\n",
       "       variable__name_convention_CamelUp  variable__name_convention_Discard  \\\n",
       "count                       11019.000000                            11019.0   \n",
       "mean                            0.153734                                0.0   \n",
       "std                             0.360710                                0.0   \n",
       "min                             0.000000                                0.0   \n",
       "25%                             0.000000                                0.0   \n",
       "50%                             0.000000                                0.0   \n",
       "75%                             0.000000                                0.0   \n",
       "max                             1.000000                                0.0   \n",
       "\n",
       "       variable__name_convention_Lower  \\\n",
       "count                          11019.0   \n",
       "mean                               0.0   \n",
       "std                                0.0   \n",
       "min                                0.0   \n",
       "25%                                0.0   \n",
       "50%                                0.0   \n",
       "75%                                0.0   \n",
       "max                                0.0   \n",
       "\n",
       "       variable__name_convention_NoNameConvention  \\\n",
       "count                                11019.000000   \n",
       "mean                                     0.019784   \n",
       "std                                      0.139264   \n",
       "min                                      0.000000   \n",
       "25%                                      0.000000   \n",
       "50%                                      0.000000   \n",
       "75%                                      0.000000   \n",
       "max                                      1.000000   \n",
       "\n",
       "       variable__name_convention_SnakeCase  variable__name_convention_Upper  \n",
       "count                         11019.000000                     11019.000000  \n",
       "mean                              0.484254                         0.338052  \n",
       "std                               0.499775                         0.473068  \n",
       "min                               0.000000                         0.000000  \n",
       "25%                               0.000000                         0.000000  \n",
       "50%                               0.000000                         0.000000  \n",
       "75%                               1.000000                         1.000000  \n",
       "max                               1.000000                         1.000000  "
      ],
      "text/html": [
       "<div>\n",
       "<style scoped>\n",
       "    .dataframe tbody tr th:only-of-type {\n",
       "        vertical-align: middle;\n",
       "    }\n",
       "\n",
       "    .dataframe tbody tr th {\n",
       "        vertical-align: top;\n",
       "    }\n",
       "\n",
       "    .dataframe thead th {\n",
       "        text-align: right;\n",
       "    }\n",
       "</style>\n",
       "<table border=\"1\" class=\"dataframe\">\n",
       "  <thead>\n",
       "    <tr style=\"text-align: right;\">\n",
       "      <th></th>\n",
       "      <th>variable__number_of_characters</th>\n",
       "      <th>variable__is_private</th>\n",
       "      <th>variable__is_magic</th>\n",
       "      <th>variable__name_convention_CamelLow</th>\n",
       "      <th>variable__name_convention_CamelUp</th>\n",
       "      <th>variable__name_convention_Discard</th>\n",
       "      <th>variable__name_convention_Lower</th>\n",
       "      <th>variable__name_convention_NoNameConvention</th>\n",
       "      <th>variable__name_convention_SnakeCase</th>\n",
       "      <th>variable__name_convention_Upper</th>\n",
       "    </tr>\n",
       "  </thead>\n",
       "  <tbody>\n",
       "    <tr>\n",
       "      <th>count</th>\n",
       "      <td>11019.000000</td>\n",
       "      <td>11019.000000</td>\n",
       "      <td>11019.0</td>\n",
       "      <td>11019.000000</td>\n",
       "      <td>11019.000000</td>\n",
       "      <td>11019.0</td>\n",
       "      <td>11019.0</td>\n",
       "      <td>11019.000000</td>\n",
       "      <td>11019.000000</td>\n",
       "      <td>11019.000000</td>\n",
       "    </tr>\n",
       "    <tr>\n",
       "      <th>mean</th>\n",
       "      <td>33.620926</td>\n",
       "      <td>0.105363</td>\n",
       "      <td>0.0</td>\n",
       "      <td>0.004175</td>\n",
       "      <td>0.153734</td>\n",
       "      <td>0.0</td>\n",
       "      <td>0.0</td>\n",
       "      <td>0.019784</td>\n",
       "      <td>0.484254</td>\n",
       "      <td>0.338052</td>\n",
       "    </tr>\n",
       "    <tr>\n",
       "      <th>std</th>\n",
       "      <td>5.063722</td>\n",
       "      <td>0.307035</td>\n",
       "      <td>0.0</td>\n",
       "      <td>0.064479</td>\n",
       "      <td>0.360710</td>\n",
       "      <td>0.0</td>\n",
       "      <td>0.0</td>\n",
       "      <td>0.139264</td>\n",
       "      <td>0.499775</td>\n",
       "      <td>0.473068</td>\n",
       "    </tr>\n",
       "    <tr>\n",
       "      <th>min</th>\n",
       "      <td>29.000000</td>\n",
       "      <td>0.000000</td>\n",
       "      <td>0.0</td>\n",
       "      <td>0.000000</td>\n",
       "      <td>0.000000</td>\n",
       "      <td>0.0</td>\n",
       "      <td>0.0</td>\n",
       "      <td>0.000000</td>\n",
       "      <td>0.000000</td>\n",
       "      <td>0.000000</td>\n",
       "    </tr>\n",
       "    <tr>\n",
       "      <th>25%</th>\n",
       "      <td>30.000000</td>\n",
       "      <td>0.000000</td>\n",
       "      <td>0.0</td>\n",
       "      <td>0.000000</td>\n",
       "      <td>0.000000</td>\n",
       "      <td>0.0</td>\n",
       "      <td>0.0</td>\n",
       "      <td>0.000000</td>\n",
       "      <td>0.000000</td>\n",
       "      <td>0.000000</td>\n",
       "    </tr>\n",
       "    <tr>\n",
       "      <th>50%</th>\n",
       "      <td>32.000000</td>\n",
       "      <td>0.000000</td>\n",
       "      <td>0.0</td>\n",
       "      <td>0.000000</td>\n",
       "      <td>0.000000</td>\n",
       "      <td>0.0</td>\n",
       "      <td>0.0</td>\n",
       "      <td>0.000000</td>\n",
       "      <td>0.000000</td>\n",
       "      <td>0.000000</td>\n",
       "    </tr>\n",
       "    <tr>\n",
       "      <th>75%</th>\n",
       "      <td>35.000000</td>\n",
       "      <td>0.000000</td>\n",
       "      <td>0.0</td>\n",
       "      <td>0.000000</td>\n",
       "      <td>0.000000</td>\n",
       "      <td>0.0</td>\n",
       "      <td>0.0</td>\n",
       "      <td>0.000000</td>\n",
       "      <td>1.000000</td>\n",
       "      <td>1.000000</td>\n",
       "    </tr>\n",
       "    <tr>\n",
       "      <th>max</th>\n",
       "      <td>82.000000</td>\n",
       "      <td>1.000000</td>\n",
       "      <td>0.0</td>\n",
       "      <td>1.000000</td>\n",
       "      <td>1.000000</td>\n",
       "      <td>0.0</td>\n",
       "      <td>0.0</td>\n",
       "      <td>1.000000</td>\n",
       "      <td>1.000000</td>\n",
       "      <td>1.000000</td>\n",
       "    </tr>\n",
       "  </tbody>\n",
       "</table>\n",
       "</div>"
      ]
     },
     "execution_count": 20,
     "metadata": {},
     "output_type": "execute_result"
    }
   ],
   "execution_count": 20
  },
  {
   "metadata": {},
   "cell_type": "markdown",
   "source": [
    "### Variable name_convention (4/4)\n",
    "Esta variable es de tipo categorica y representa el name convention del nombre de la variable."
   ],
   "id": "2fd1b0439566c6f7"
  },
  {
   "metadata": {
    "ExecuteTime": {
     "end_time": "2024-07-04T17:34:38.991422Z",
     "start_time": "2024-07-04T17:34:36.917864Z"
    }
   },
   "cell_type": "code",
   "source": "print_categorical_histogram(full_table, 'variable__name_convention')",
   "id": "b504c449a7224091",
   "outputs": [
    {
     "data": {
      "text/plain": [
       "<Figure size 1200x600 with 1 Axes>"
      ],
      "image/png": "[encoded data removed]"
     },
     "metadata": {},
     "output_type": "display_data"
    }
   ],
   "execution_count": 21
  },
  {
   "metadata": {
    "ExecuteTime": {
     "end_time": "2024-07-04T17:34:39.686354Z",
     "start_time": "2024-07-04T17:34:38.992426Z"
    }
   },
   "cell_type": "code",
   "source": "print_frequency_anal_for_cat_var(full_table, 'variable__name_convention')",
   "id": "33df6df9ad0487a2",
   "outputs": [
    {
     "name": "stdout",
     "output_type": "stream",
     "text": [
      "La variable variable__name_convention contiene 7 valores distintos.\n",
      "El umbral de outlier es de 0.028571428571428574%\n",
      "La variable variable__name_convention toma el valor de Lower en un 59.98% de los items.\n",
      "La variable variable__name_convention toma el valor de SnakeCase en un 26.4% de los items.\n",
      "La variable variable__name_convention toma el valor de CamelUp en un 8.251% de los items.\n",
      "La variable variable__name_convention toma el valor de Upper en un 3.281% de los items.\n",
      "La variable variable__name_convention toma el valor de CamelLow en un 1.36% de los items.\n",
      "La variable variable__name_convention toma el valor de Discard en un 0.4628% de los items.\n",
      "La variable variable__name_convention toma el valor de NoNameConvention en un 0.2665% de los items.\n"
     ]
    }
   ],
   "execution_count": 22
  },
  {
   "metadata": {
    "ExecuteTime": {
     "end_time": "2024-07-04T17:34:39.759799Z",
     "start_time": "2024-07-04T17:34:39.687363Z"
    }
   },
   "cell_type": "code",
   "source": "print_values_usage_for_cat_var(full_table, 'variable__name_convention', NAMING_CONVENTION_VALUES)",
   "id": "fdd42dbc5576a2ec",
   "outputs": [
    {
     "name": "stdout",
     "output_type": "stream",
     "text": [
      "La variable variable__name_convention puede tomar 7 valores distintos\n",
      "\t7 (100.0%) valores utilizados\n",
      "\t0 (0.0%) valores NO utilizados\n"
     ]
    }
   ],
   "execution_count": 23
  },
  {
   "metadata": {},
   "cell_type": "markdown",
   "source": [
    "## Multivariate\n",
    "\n",
    "Isolation forest algorithm"
   ],
   "id": "ec9edff18a0d4b68"
  },
  {
   "metadata": {
    "ExecuteTime": {
     "end_time": "2024-07-04T17:34:54.350010Z",
     "start_time": "2024-07-04T17:34:39.760806Z"
    }
   },
   "cell_type": "code",
   "source": [
    "from sklearn.ensemble import  IsolationForest\n",
    "\n",
    "CONTAMINATION_FACTOR = 0.0012\n",
    "isof_model = IsolationForest(contamination=CONTAMINATION_FACTOR, random_state=0)\n",
    "isof_prediction = isof_model.fit_predict(X.values)\n",
    "mask = isof_prediction == -1\n",
    "full_table.loc[X.index[mask]]"
   ],
   "id": "bec064dd756c8cb1",
   "outputs": [
    {
     "data": {
      "text/plain": [
       "        variable__name_convention  variable__number_of_characters  \\\n",
       "1169762                 SnakeCase                              32   \n",
       "1234889          NoNameConvention                              22   \n",
       "1270526                     Upper                              24   \n",
       "1270527                     Upper                              26   \n",
       "1270530                     Upper                              39   \n",
       "...                           ...                             ...   \n",
       "2852622          NoNameConvention                              30   \n",
       "2852624          NoNameConvention                              29   \n",
       "2852626          NoNameConvention                              30   \n",
       "2852628          NoNameConvention                              26   \n",
       "2859932                 SnakeCase                              35   \n",
       "\n",
       "         variable__is_private  variable__is_magic variable__expertise_level  \n",
       "1169762                  True               False                    EXPERT  \n",
       "1234889                  True               False                    EXPERT  \n",
       "1270526                  True               False                    EXPERT  \n",
       "1270527                  True               False                    EXPERT  \n",
       "1270530                  True               False                    EXPERT  \n",
       "...                       ...                 ...                       ...  \n",
       "2852622                  True               False                    EXPERT  \n",
       "2852624                  True               False                    EXPERT  \n",
       "2852626                  True               False                    EXPERT  \n",
       "2852628                  True               False                    EXPERT  \n",
       "2859932                  True               False                    EXPERT  \n",
       "\n",
       "[2015 rows x 5 columns]"
      ],
      "text/html": [
       "<div>\n",
       "<style scoped>\n",
       "    .dataframe tbody tr th:only-of-type {\n",
       "        vertical-align: middle;\n",
       "    }\n",
       "\n",
       "    .dataframe tbody tr th {\n",
       "        vertical-align: top;\n",
       "    }\n",
       "\n",
       "    .dataframe thead th {\n",
       "        text-align: right;\n",
       "    }\n",
       "</style>\n",
       "<table border=\"1\" class=\"dataframe\">\n",
       "  <thead>\n",
       "    <tr style=\"text-align: right;\">\n",
       "      <th></th>\n",
       "      <th>variable__name_convention</th>\n",
       "      <th>variable__number_of_characters</th>\n",
       "      <th>variable__is_private</th>\n",
       "      <th>variable__is_magic</th>\n",
       "      <th>variable__expertise_level</th>\n",
       "    </tr>\n",
       "  </thead>\n",
       "  <tbody>\n",
       "    <tr>\n",
       "      <th>1169762</th>\n",
       "      <td>SnakeCase</td>\n",
       "      <td>32</td>\n",
       "      <td>True</td>\n",
       "      <td>False</td>\n",
       "      <td>EXPERT</td>\n",
       "    </tr>\n",
       "    <tr>\n",
       "      <th>1234889</th>\n",
       "      <td>NoNameConvention</td>\n",
       "      <td>22</td>\n",
       "      <td>True</td>\n",
       "      <td>False</td>\n",
       "      <td>EXPERT</td>\n",
       "    </tr>\n",
       "    <tr>\n",
       "      <th>1270526</th>\n",
       "      <td>Upper</td>\n",
       "      <td>24</td>\n",
       "      <td>True</td>\n",
       "      <td>False</td>\n",
       "      <td>EXPERT</td>\n",
       "    </tr>\n",
       "    <tr>\n",
       "      <th>1270527</th>\n",
       "      <td>Upper</td>\n",
       "      <td>26</td>\n",
       "      <td>True</td>\n",
       "      <td>False</td>\n",
       "      <td>EXPERT</td>\n",
       "    </tr>\n",
       "    <tr>\n",
       "      <th>1270530</th>\n",
       "      <td>Upper</td>\n",
       "      <td>39</td>\n",
       "      <td>True</td>\n",
       "      <td>False</td>\n",
       "      <td>EXPERT</td>\n",
       "    </tr>\n",
       "    <tr>\n",
       "      <th>...</th>\n",
       "      <td>...</td>\n",
       "      <td>...</td>\n",
       "      <td>...</td>\n",
       "      <td>...</td>\n",
       "      <td>...</td>\n",
       "    </tr>\n",
       "    <tr>\n",
       "      <th>2852622</th>\n",
       "      <td>NoNameConvention</td>\n",
       "      <td>30</td>\n",
       "      <td>True</td>\n",
       "      <td>False</td>\n",
       "      <td>EXPERT</td>\n",
       "    </tr>\n",
       "    <tr>\n",
       "      <th>2852624</th>\n",
       "      <td>NoNameConvention</td>\n",
       "      <td>29</td>\n",
       "      <td>True</td>\n",
       "      <td>False</td>\n",
       "      <td>EXPERT</td>\n",
       "    </tr>\n",
       "    <tr>\n",
       "      <th>2852626</th>\n",
       "      <td>NoNameConvention</td>\n",
       "      <td>30</td>\n",
       "      <td>True</td>\n",
       "      <td>False</td>\n",
       "      <td>EXPERT</td>\n",
       "    </tr>\n",
       "    <tr>\n",
       "      <th>2852628</th>\n",
       "      <td>NoNameConvention</td>\n",
       "      <td>26</td>\n",
       "      <td>True</td>\n",
       "      <td>False</td>\n",
       "      <td>EXPERT</td>\n",
       "    </tr>\n",
       "    <tr>\n",
       "      <th>2859932</th>\n",
       "      <td>SnakeCase</td>\n",
       "      <td>35</td>\n",
       "      <td>True</td>\n",
       "      <td>False</td>\n",
       "      <td>EXPERT</td>\n",
       "    </tr>\n",
       "  </tbody>\n",
       "</table>\n",
       "<p>2015 rows × 5 columns</p>\n",
       "</div>"
      ]
     },
     "execution_count": 24,
     "metadata": {},
     "output_type": "execute_result"
    }
   ],
   "execution_count": 24
  },
  {
   "metadata": {},
   "cell_type": "markdown",
   "source": [
    "### IMPORTANTE\n",
    "Revisar los outliers detectados."
   ],
   "id": "966c71e99ef97362"
  },
  {
   "metadata": {
    "ExecuteTime": {
     "end_time": "2024-07-04T17:34:54.376233Z",
     "start_time": "2024-07-04T17:34:54.351032Z"
    }
   },
   "cell_type": "code",
   "source": [
    "# Outliers\n",
    "np.transpose(X[mask].describe(percentiles=[.25, .50, .75], include = ['object', 'float', 'bool', 'int']))"
   ],
   "id": "260a021644c19cce",
   "outputs": [
    {
     "data": {
      "text/plain": [
       "                                             count       mean       std   min  \\\n",
       "variable__number_of_characters              2015.0  27.889330  6.712359  18.0   \n",
       "variable__is_private                        2015.0   1.000000  0.000000   1.0   \n",
       "variable__is_magic                          2015.0   0.000000  0.000000   0.0   \n",
       "variable__name_convention_CamelLow          2015.0   0.000000  0.000000   0.0   \n",
       "variable__name_convention_CamelUp           2015.0   0.000000  0.000000   0.0   \n",
       "variable__name_convention_Discard           2015.0   0.000000  0.000000   0.0   \n",
       "variable__name_convention_Lower             2015.0   0.000000  0.000000   0.0   \n",
       "variable__name_convention_NoNameConvention  2015.0   0.427792  0.494881   0.0   \n",
       "variable__name_convention_SnakeCase         2015.0   0.391067  0.488110   0.0   \n",
       "variable__name_convention_Upper             2015.0   0.181141  0.385231   0.0   \n",
       "\n",
       "                                             25%   50%   75%   max  \n",
       "variable__number_of_characters              23.0  28.0  33.0  53.0  \n",
       "variable__is_private                         1.0   1.0   1.0   1.0  \n",
       "variable__is_magic                           0.0   0.0   0.0   0.0  \n",
       "variable__name_convention_CamelLow           0.0   0.0   0.0   0.0  \n",
       "variable__name_convention_CamelUp            0.0   0.0   0.0   0.0  \n",
       "variable__name_convention_Discard            0.0   0.0   0.0   0.0  \n",
       "variable__name_convention_Lower              0.0   0.0   0.0   0.0  \n",
       "variable__name_convention_NoNameConvention   0.0   0.0   1.0   1.0  \n",
       "variable__name_convention_SnakeCase          0.0   0.0   1.0   1.0  \n",
       "variable__name_convention_Upper              0.0   0.0   0.0   1.0  "
      ],
      "text/html": [
       "<div>\n",
       "<style scoped>\n",
       "    .dataframe tbody tr th:only-of-type {\n",
       "        vertical-align: middle;\n",
       "    }\n",
       "\n",
       "    .dataframe tbody tr th {\n",
       "        vertical-align: top;\n",
       "    }\n",
       "\n",
       "    .dataframe thead th {\n",
       "        text-align: right;\n",
       "    }\n",
       "</style>\n",
       "<table border=\"1\" class=\"dataframe\">\n",
       "  <thead>\n",
       "    <tr style=\"text-align: right;\">\n",
       "      <th></th>\n",
       "      <th>count</th>\n",
       "      <th>mean</th>\n",
       "      <th>std</th>\n",
       "      <th>min</th>\n",
       "      <th>25%</th>\n",
       "      <th>50%</th>\n",
       "      <th>75%</th>\n",
       "      <th>max</th>\n",
       "    </tr>\n",
       "  </thead>\n",
       "  <tbody>\n",
       "    <tr>\n",
       "      <th>variable__number_of_characters</th>\n",
       "      <td>2015.0</td>\n",
       "      <td>27.889330</td>\n",
       "      <td>6.712359</td>\n",
       "      <td>18.0</td>\n",
       "      <td>23.0</td>\n",
       "      <td>28.0</td>\n",
       "      <td>33.0</td>\n",
       "      <td>53.0</td>\n",
       "    </tr>\n",
       "    <tr>\n",
       "      <th>variable__is_private</th>\n",
       "      <td>2015.0</td>\n",
       "      <td>1.000000</td>\n",
       "      <td>0.000000</td>\n",
       "      <td>1.0</td>\n",
       "      <td>1.0</td>\n",
       "      <td>1.0</td>\n",
       "      <td>1.0</td>\n",
       "      <td>1.0</td>\n",
       "    </tr>\n",
       "    <tr>\n",
       "      <th>variable__is_magic</th>\n",
       "      <td>2015.0</td>\n",
       "      <td>0.000000</td>\n",
       "      <td>0.000000</td>\n",
       "      <td>0.0</td>\n",
       "      <td>0.0</td>\n",
       "      <td>0.0</td>\n",
       "      <td>0.0</td>\n",
       "      <td>0.0</td>\n",
       "    </tr>\n",
       "    <tr>\n",
       "      <th>variable__name_convention_CamelLow</th>\n",
       "      <td>2015.0</td>\n",
       "      <td>0.000000</td>\n",
       "      <td>0.000000</td>\n",
       "      <td>0.0</td>\n",
       "      <td>0.0</td>\n",
       "      <td>0.0</td>\n",
       "      <td>0.0</td>\n",
       "      <td>0.0</td>\n",
       "    </tr>\n",
       "    <tr>\n",
       "      <th>variable__name_convention_CamelUp</th>\n",
       "      <td>2015.0</td>\n",
       "      <td>0.000000</td>\n",
       "      <td>0.000000</td>\n",
       "      <td>0.0</td>\n",
       "      <td>0.0</td>\n",
       "      <td>0.0</td>\n",
       "      <td>0.0</td>\n",
       "      <td>0.0</td>\n",
       "    </tr>\n",
       "    <tr>\n",
       "      <th>variable__name_convention_Discard</th>\n",
       "      <td>2015.0</td>\n",
       "      <td>0.000000</td>\n",
       "      <td>0.000000</td>\n",
       "      <td>0.0</td>\n",
       "      <td>0.0</td>\n",
       "      <td>0.0</td>\n",
       "      <td>0.0</td>\n",
       "      <td>0.0</td>\n",
       "    </tr>\n",
       "    <tr>\n",
       "      <th>variable__name_convention_Lower</th>\n",
       "      <td>2015.0</td>\n",
       "      <td>0.000000</td>\n",
       "      <td>0.000000</td>\n",
       "      <td>0.0</td>\n",
       "      <td>0.0</td>\n",
       "      <td>0.0</td>\n",
       "      <td>0.0</td>\n",
       "      <td>0.0</td>\n",
       "    </tr>\n",
       "    <tr>\n",
       "      <th>variable__name_convention_NoNameConvention</th>\n",
       "      <td>2015.0</td>\n",
       "      <td>0.427792</td>\n",
       "      <td>0.494881</td>\n",
       "      <td>0.0</td>\n",
       "      <td>0.0</td>\n",
       "      <td>0.0</td>\n",
       "      <td>1.0</td>\n",
       "      <td>1.0</td>\n",
       "    </tr>\n",
       "    <tr>\n",
       "      <th>variable__name_convention_SnakeCase</th>\n",
       "      <td>2015.0</td>\n",
       "      <td>0.391067</td>\n",
       "      <td>0.488110</td>\n",
       "      <td>0.0</td>\n",
       "      <td>0.0</td>\n",
       "      <td>0.0</td>\n",
       "      <td>1.0</td>\n",
       "      <td>1.0</td>\n",
       "    </tr>\n",
       "    <tr>\n",
       "      <th>variable__name_convention_Upper</th>\n",
       "      <td>2015.0</td>\n",
       "      <td>0.181141</td>\n",
       "      <td>0.385231</td>\n",
       "      <td>0.0</td>\n",
       "      <td>0.0</td>\n",
       "      <td>0.0</td>\n",
       "      <td>0.0</td>\n",
       "      <td>1.0</td>\n",
       "    </tr>\n",
       "  </tbody>\n",
       "</table>\n",
       "</div>"
      ]
     },
     "execution_count": 25,
     "metadata": {},
     "output_type": "execute_result"
    }
   ],
   "execution_count": 25
  },
  {
   "metadata": {
    "ExecuteTime": {
     "end_time": "2024-07-04T17:34:54.837425Z",
     "start_time": "2024-07-04T17:34:54.377244Z"
    }
   },
   "cell_type": "code",
   "source": [
    "# Non-Outliers\n",
    "np.transpose(X[~mask].describe(percentiles=[.25, .50, .75], include = ['object', 'float', 'bool', 'int']))"
   ],
   "id": "b9665aa4408d145a",
   "outputs": [
    {
     "data": {
      "text/plain": [
       "                                                count      mean       std  \\\n",
       "variable__number_of_characters              1692323.0  7.568813  5.524857   \n",
       "variable__is_private                        1692323.0  0.012902  0.112854   \n",
       "variable__is_magic                          1692323.0  0.008472  0.091652   \n",
       "variable__name_convention_CamelLow          1692323.0  0.013619  0.115904   \n",
       "variable__name_convention_CamelUp           1692323.0  0.082612  0.275295   \n",
       "variable__name_convention_Discard           1692323.0  0.004633  0.067910   \n",
       "variable__name_convention_Lower             1692323.0  0.600527  0.489790   \n",
       "variable__name_convention_NoNameConvention  1692323.0  0.002159  0.046410   \n",
       "variable__name_convention_SnakeCase         1692323.0  0.263817  0.440702   \n",
       "variable__name_convention_Upper             1692323.0  0.032633  0.177675   \n",
       "\n",
       "                                            min  25%  50%   75%   max  \n",
       "variable__number_of_characters              1.0  4.0  6.0  10.0  82.0  \n",
       "variable__is_private                        0.0  0.0  0.0   0.0   1.0  \n",
       "variable__is_magic                          0.0  0.0  0.0   0.0   1.0  \n",
       "variable__name_convention_CamelLow          0.0  0.0  0.0   0.0   1.0  \n",
       "variable__name_convention_CamelUp           0.0  0.0  0.0   0.0   1.0  \n",
       "variable__name_convention_Discard           0.0  0.0  0.0   0.0   1.0  \n",
       "variable__name_convention_Lower             0.0  0.0  1.0   1.0   1.0  \n",
       "variable__name_convention_NoNameConvention  0.0  0.0  0.0   0.0   1.0  \n",
       "variable__name_convention_SnakeCase         0.0  0.0  0.0   1.0   1.0  \n",
       "variable__name_convention_Upper             0.0  0.0  0.0   0.0   1.0  "
      ],
      "text/html": [
       "<div>\n",
       "<style scoped>\n",
       "    .dataframe tbody tr th:only-of-type {\n",
       "        vertical-align: middle;\n",
       "    }\n",
       "\n",
       "    .dataframe tbody tr th {\n",
       "        vertical-align: top;\n",
       "    }\n",
       "\n",
       "    .dataframe thead th {\n",
       "        text-align: right;\n",
       "    }\n",
       "</style>\n",
       "<table border=\"1\" class=\"dataframe\">\n",
       "  <thead>\n",
       "    <tr style=\"text-align: right;\">\n",
       "      <th></th>\n",
       "      <th>count</th>\n",
       "      <th>mean</th>\n",
       "      <th>std</th>\n",
       "      <th>min</th>\n",
       "      <th>25%</th>\n",
       "      <th>50%</th>\n",
       "      <th>75%</th>\n",
       "      <th>max</th>\n",
       "    </tr>\n",
       "  </thead>\n",
       "  <tbody>\n",
       "    <tr>\n",
       "      <th>variable__number_of_characters</th>\n",
       "      <td>1692323.0</td>\n",
       "      <td>7.568813</td>\n",
       "      <td>5.524857</td>\n",
       "      <td>1.0</td>\n",
       "      <td>4.0</td>\n",
       "      <td>6.0</td>\n",
       "      <td>10.0</td>\n",
       "      <td>82.0</td>\n",
       "    </tr>\n",
       "    <tr>\n",
       "      <th>variable__is_private</th>\n",
       "      <td>1692323.0</td>\n",
       "      <td>0.012902</td>\n",
       "      <td>0.112854</td>\n",
       "      <td>0.0</td>\n",
       "      <td>0.0</td>\n",
       "      <td>0.0</td>\n",
       "      <td>0.0</td>\n",
       "      <td>1.0</td>\n",
       "    </tr>\n",
       "    <tr>\n",
       "      <th>variable__is_magic</th>\n",
       "      <td>1692323.0</td>\n",
       "      <td>0.008472</td>\n",
       "      <td>0.091652</td>\n",
       "      <td>0.0</td>\n",
       "      <td>0.0</td>\n",
       "      <td>0.0</td>\n",
       "      <td>0.0</td>\n",
       "      <td>1.0</td>\n",
       "    </tr>\n",
       "    <tr>\n",
       "      <th>variable__name_convention_CamelLow</th>\n",
       "      <td>1692323.0</td>\n",
       "      <td>0.013619</td>\n",
       "      <td>0.115904</td>\n",
       "      <td>0.0</td>\n",
       "      <td>0.0</td>\n",
       "      <td>0.0</td>\n",
       "      <td>0.0</td>\n",
       "      <td>1.0</td>\n",
       "    </tr>\n",
       "    <tr>\n",
       "      <th>variable__name_convention_CamelUp</th>\n",
       "      <td>1692323.0</td>\n",
       "      <td>0.082612</td>\n",
       "      <td>0.275295</td>\n",
       "      <td>0.0</td>\n",
       "      <td>0.0</td>\n",
       "      <td>0.0</td>\n",
       "      <td>0.0</td>\n",
       "      <td>1.0</td>\n",
       "    </tr>\n",
       "    <tr>\n",
       "      <th>variable__name_convention_Discard</th>\n",
       "      <td>1692323.0</td>\n",
       "      <td>0.004633</td>\n",
       "      <td>0.067910</td>\n",
       "      <td>0.0</td>\n",
       "      <td>0.0</td>\n",
       "      <td>0.0</td>\n",
       "      <td>0.0</td>\n",
       "      <td>1.0</td>\n",
       "    </tr>\n",
       "    <tr>\n",
       "      <th>variable__name_convention_Lower</th>\n",
       "      <td>1692323.0</td>\n",
       "      <td>0.600527</td>\n",
       "      <td>0.489790</td>\n",
       "      <td>0.0</td>\n",
       "      <td>0.0</td>\n",
       "      <td>1.0</td>\n",
       "      <td>1.0</td>\n",
       "      <td>1.0</td>\n",
       "    </tr>\n",
       "    <tr>\n",
       "      <th>variable__name_convention_NoNameConvention</th>\n",
       "      <td>1692323.0</td>\n",
       "      <td>0.002159</td>\n",
       "      <td>0.046410</td>\n",
       "      <td>0.0</td>\n",
       "      <td>0.0</td>\n",
       "      <td>0.0</td>\n",
       "      <td>0.0</td>\n",
       "      <td>1.0</td>\n",
       "    </tr>\n",
       "    <tr>\n",
       "      <th>variable__name_convention_SnakeCase</th>\n",
       "      <td>1692323.0</td>\n",
       "      <td>0.263817</td>\n",
       "      <td>0.440702</td>\n",
       "      <td>0.0</td>\n",
       "      <td>0.0</td>\n",
       "      <td>0.0</td>\n",
       "      <td>1.0</td>\n",
       "      <td>1.0</td>\n",
       "    </tr>\n",
       "    <tr>\n",
       "      <th>variable__name_convention_Upper</th>\n",
       "      <td>1692323.0</td>\n",
       "      <td>0.032633</td>\n",
       "      <td>0.177675</td>\n",
       "      <td>0.0</td>\n",
       "      <td>0.0</td>\n",
       "      <td>0.0</td>\n",
       "      <td>0.0</td>\n",
       "      <td>1.0</td>\n",
       "    </tr>\n",
       "  </tbody>\n",
       "</table>\n",
       "</div>"
      ]
     },
     "execution_count": 26,
     "metadata": {},
     "output_type": "execute_result"
    }
   ],
   "execution_count": 26
  }
 ],
 "metadata": {
  "kernelspec": {
   "display_name": "Python 3",
   "language": "python",
   "name": "python3"
  },
  "language_info": {
   "codemirror_mode": {
    "name": "ipython",
    "version": 2
   },
   "file_extension": ".py",
   "mimetype": "text/x-python",
   "name": "python",
   "nbconvert_exporter": "python",
   "pygments_lexer": "ipython2",
   "version": "2.7.6"
  }
 },
 "nbformat": 4,
 "nbformat_minor": 5
}
