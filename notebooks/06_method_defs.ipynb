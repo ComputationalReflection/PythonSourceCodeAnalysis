{
 "cells": [
  {
   "metadata": {},
   "cell_type": "markdown",
   "source": [
    "# Method defs\n",
    "\n",
    "Esta tabla contiene la información de las funciones definidas dentro de una clase (métodos). Cada entrada en esta tabla tiene una entrada en la tabla functiondef con el resto de información.  --> ABEL COMPLETAR <--"
   ],
   "id": "148ae8871134f924"
  },
  {
   "metadata": {},
   "cell_type": "markdown",
   "source": "## 1 - Obtencion de datos",
   "id": "d3c24a719032807f"
  },
  {
   "metadata": {
    "ExecuteTime": {
     "end_time": "2024-05-13T16:19:59.507994Z",
     "start_time": "2024-05-13T16:19:56.161363Z"
    }
   },
   "cell_type": "code",
   "source": [
    "import matplotlib.pyplot as plt\n",
    "from notebooks_utils import *\n",
    "\n",
    "full_table = get_data('methoddefs')\n",
    "\n",
    "# Table name, features and target.\n",
    "TABLE_NAME = 'methoddefs'\n",
    "TABLE_FEATURES = ['methoddef__is_class_method', 'methoddef__is_static_method', 'methoddef__is_constructor_method', 'methoddef__is_abstract_method', 'methoddef__is_property', 'methoddef__is_wrapper', 'methoddef__is_cached', 'methoddef__expertise_level', 'functiondef__name_convention', 'functiondef__number_of_characters', 'functiondef__is_magic', 'functiondef__is_private', 'functiondef__body_count', 'functiondef__expressions_pct', 'functiondef__is_async', 'functiondef__number_of_decorators', 'functiondef__has_return_type_annotation', 'functiondef__has_doc_string', 'functiondef__height', 'functiondef__type_annotations_pct']\n",
    "TABLE_TARGET = 'methoddef__expertise_level'\n",
    "\n",
    "# Load features and target.\n",
    "X, y = full_table[TABLE_FEATURES], full_table[[TABLE_TARGET]].iloc[:,0]\n",
    "\n",
    "# Print information about the loaded table.\n",
    "print(f'Features shape: {X.shape}')\n",
    "print(f'Target shape: {y.shape}')\n",
    "\n",
    "print(f'As we can see the downloaded data contains a total of {X.shape[0]} instances. Each of the instances corresponds to a program. For each program we have {X.shape[1]} attributes.')"
   ],
   "id": "9f0a949e91eb384b",
   "execution_count": 4,
   "outputs": []
  },
  {
   "metadata": {},
   "cell_type": "markdown",
   "source": [
    "## 2 - Exploracion de datos\n",
    "\n",
    "Una vez tenemos nuestra tabla en un dataframe el siguiente paso es explorarla para ver qué tipo de información contiene."
   ],
   "id": "bcda7cb784bf0a1"
  },
  {
   "metadata": {
    "ExecuteTime": {
     "end_time": "2024-05-13T16:20:07.057151Z",
     "start_time": "2024-05-13T16:20:06.989511Z"
    }
   },
   "cell_type": "code",
   "source": [
    "print(X.info())\n",
    "print('=============')\n",
    "print(y.info())"
   ],
   "id": "2eb3d09993235bcb",
   "execution_count": 5,
   "outputs": []
  },
  {
   "metadata": {},
   "cell_type": "markdown",
   "source": "Cómo podemos ver la tabla está compuesta por 12 variables boleanas, 6 numéricas y 2 de tipo objeto. Las última variable es la etiqueta de la instancia. Sin embargo, en algunas ocasiones estas últimas clases no las vamos a utilizar. Por ejemplo, si queremos obtener clusters por medio de aprendizaje no supervisado.",
   "id": "24f7607501c2e574"
  },
  {
   "metadata": {},
   "cell_type": "markdown",
   "source": "### 2.1 - Balance de clases",
   "id": "f6d062d35a16e21d"
  },
  {
   "metadata": {
    "ExecuteTime": {
     "end_time": "2024-05-13T16:20:29.245648Z",
     "start_time": "2024-05-13T16:20:29.197493Z"
    }
   },
   "cell_type": "code",
   "source": [
    "instances_for_class_low = len(full_table[full_table[TABLE_TARGET] == \"BEGINNER\"])\n",
    "instances_for_class_high = len(full_table[full_table[TABLE_TARGET] == \"EXPERT\"])\n",
    "\n",
    "print(f\"The dataset contains {instances_for_class_low/len(full_table)*100:.4}% instances for BEGINNER class and {instances_for_class_high/len(full_table)*100:.4}% for EXPERT class.\")"
   ],
   "id": "58277bda417384ef",
   "execution_count": 6,
   "outputs": []
  },
  {
   "metadata": {},
   "cell_type": "markdown",
   "source": [
    "### 2.2 - Duplicados\n",
    "Miramos si la tabla tiene entradas duplicadas."
   ],
   "id": "3b9b55798c7ecbd5"
  },
  {
   "metadata": {
    "ExecuteTime": {
     "end_time": "2024-05-13T16:20:32.885649Z",
     "start_time": "2024-05-13T16:20:32.785196Z"
    }
   },
   "cell_type": "code",
   "source": [
    "number_of_duplicated_entries = sum(full_table.duplicated(subset=TABLE_FEATURES + [TABLE_TARGET]))\n",
    "duplicated_entries_pct = number_of_duplicated_entries / len(full_table) * 100\n",
    "print(f\"The dataset contains [{duplicated_entries_pct:.4}%] of duplicated entries.\")"
   ],
   "id": "ed5e6830bbf484a6",
   "execution_count": 7,
   "outputs": []
  },
  {
   "metadata": {},
   "cell_type": "markdown",
   "source": [
    "### 2.3 - Valores Nulos \n",
    "Miramos si alguna de las variables que contiene la tabla contiene algún valor que sea nulo."
   ],
   "id": "63d4e4ed1d8d2c6c"
  },
  {
   "metadata": {
    "ExecuteTime": {
     "end_time": "2024-05-13T16:20:36.132385Z",
     "start_time": "2024-05-13T16:20:36.095529Z"
    }
   },
   "cell_type": "code",
   "source": "X.isnull().sum()",
   "id": "6c991380e6e0413e",
   "execution_count": 8,
   "outputs": []
  },
  {
   "metadata": {
    "ExecuteTime": {
     "end_time": "2024-05-13T16:20:36.986551Z",
     "start_time": "2024-05-13T16:20:36.948643Z"
    }
   },
   "cell_type": "code",
   "source": "print_empty_cols(X)",
   "id": "18b2dfadf1719a4b",
   "execution_count": 9,
   "outputs": []
  },
  {
   "metadata": {},
   "cell_type": "markdown",
   "source": "### 2.4 - Describimos los valores de las variables de la tabla.",
   "id": "5bb94c0f81c08024"
  },
  {
   "metadata": {
    "ExecuteTime": {
     "end_time": "2024-05-13T16:20:40.532287Z",
     "start_time": "2024-05-13T16:20:40.344736Z"
    }
   },
   "cell_type": "code",
   "source": "np.transpose(X.describe(percentiles=[.25, .50, .75], include = ['object', 'float', 'bool', 'int']))",
   "id": "74bba302a29fbfd5",
   "execution_count": 10,
   "outputs": []
  },
  {
   "metadata": {},
   "cell_type": "markdown",
   "source": "Vamos a discretizar las variables numericas, agrupando conjuntos de valores en categorias, para hacer un análisis de los datos. Para cada variable es necesario ver la distribucion de lo valores para hacer los bins (categorias).",
   "id": "9af3eb59b924a596"
  },
  {
   "metadata": {
    "ExecuteTime": {
     "end_time": "2024-05-13T16:26:05.419762Z",
     "start_time": "2024-05-13T16:26:03.950554Z"
    }
   },
   "cell_type": "code",
   "source": [
    "# DISCRETIZATION\n",
    "X_copy = X.copy()\n",
    "\n",
    "discretized_columns = {\n",
    "    \"functiondef__expressions_pct\": [(0.0, 0.0), (0.0, 0.4), (0.4, inf)], # min: 0 ; max: 1\n",
    "    \"functiondef__number_of_decorators\": [(0.0, 0.0), (0.0, inf)], # min: 0 ; max: 7\n",
    "    \"functiondef__type_annotations_pct\": [(0.0, 0.0), (0.0, 0.5), (0.5, inf)], # min: 0 ; max: 1\n",
    "    \"functiondef__number_of_characters\": [(1.0, 8.0), (8.0, 10), (10, 16), (16, inf)], # min: 1 ; max: 74\n",
    "    \"functiondef__body_count\": [(0.0, 1.0), (1.0, 2.0), (2.0, 2.0), (2.0, inf)], # min: 1 ; max: 364\n",
    "    \"functiondef__height\": [(0.0, 2.0), (2.0, inf)], # min: 2 ; max: 7\n",
    "}\n",
    "\n",
    "discretize_columns(X_copy, discretized_columns)\n",
    "    \n",
    "# SINGLE FEATURE\n",
    "print(\"--- SINGLE FEATURE ---\")\n",
    "print(get_statistics(X_copy, ['methoddef__is_class_method'], 10))\n",
    "print(get_statistics(X_copy, ['methoddef__is_static_method'], 10))\n",
    "print(get_statistics(X_copy, ['methoddef__is_constructor_method'], 10))\n",
    "print(get_statistics(X_copy, ['methoddef__is_abstract_method'], 10))\n",
    "print(get_statistics(X_copy, ['methoddef__is_property'], 10))\n",
    "print(get_statistics(X_copy, ['methoddef__is_wrapper'], 10))\n",
    "print(get_statistics(X_copy, ['methoddef__is_cached'], 10))\n",
    "print(get_statistics(X_copy, ['functiondef__expressions_pct'], 10))\n",
    "print(get_statistics(X_copy, ['functiondef__number_of_decorators'], 10))\n",
    "print(get_statistics(X_copy, ['functiondef__type_annotations_pct'], 10))\n",
    "print(get_statistics(X_copy, ['functiondef__number_of_characters'], 10))\n",
    "print(get_statistics(X_copy, ['functiondef__body_count'], 10))\n",
    "print(get_statistics(X_copy, ['functiondef__height'], 10))\n",
    "print(get_statistics(full_table, ['functiondef__name_convention'], 10))\n",
    "print(get_statistics(X_copy, ['functiondef__is_private'], 10))\n",
    "print(get_statistics(X_copy, ['functiondef__is_magic'], 10))\n",
    "print(get_statistics(X_copy, ['functiondef__is_async'], 10))\n",
    "print(get_statistics(X_copy, ['functiondef__has_return_type_annotation'], 10))\n",
    "print(get_statistics(X_copy, ['functiondef__has_doc_string'], 10))\n",
    "\n",
    "# 2 FEATURES\n",
    "print(\"--- TWO FEATURES ---\")\n",
    "print(get_statistics(X_copy, ['functiondef__number_of_characters', 'functiondef__name_convention_SnakeCase'], 10))\n",
    "print(get_statistics(X_copy, ['functiondef__number_of_characters', 'functiondef__name_convention_Lower'], 10))\n",
    "\n",
    "# 3 FEATURES\n",
    "print(\"--- THREE FEATURES ---\")\n",
    "#print(get_statistics(X_copy, ['module__class_defs_pct', 'module__function_defs_pct', 'module__enum_defs_pct'], 10))"
   ],
   "id": "6baf20dd3e3ca759",
   "execution_count": 16,
   "outputs": []
  },
  {
   "metadata": {
    "ExecuteTime": {
     "end_time": "2024-05-13T16:24:25.921911Z",
     "start_time": "2024-05-13T16:24:25.828964Z"
    }
   },
   "cell_type": "code",
   "source": [
    "def normalize_datatypes(X:pd.DataFrame, y:pd.Series) -> (pd.DataFrame, pd.Series, [str]):\n",
    "    X = pd.get_dummies(X)\n",
    "    X = X.astype('float32')\n",
    "    y = y.apply(lambda value: 0 if value == \"BEGINNER\" else 1) # EXPERT will be 1 and BEGINNER will be 0.\n",
    "    y = y.astype('float32')\n",
    "    columns_names = X.columns.tolist()\n",
    "    return X, y, columns_names\n",
    "\n",
    "X, y, TABLE_FEATURES = normalize_datatypes(X, y)\n",
    "# Print information about the loaded table\n",
    "print(f'Features shape: {X.shape}')\n",
    "print(f'Target shape: {y.shape}')"
   ],
   "id": "5084c89dcb377a92",
   "execution_count": 14,
   "outputs": []
  },
  {
   "metadata": {},
   "cell_type": "markdown",
   "source": "#### Muestra la matriz de correlación de pearson entre las variables de la tabla.",
   "id": "ed8befe21328a079"
  },
  {
   "metadata": {
    "ExecuteTime": {
     "end_time": "2024-05-13T16:26:43.263435Z",
     "start_time": "2024-05-13T16:26:42.291508Z"
    }
   },
   "cell_type": "code",
   "source": "sns.heatmap(X.corr(), annot=False)",
   "id": "dea960d18d682104",
   "execution_count": 17,
   "outputs": []
  },
  {
   "metadata": {},
   "cell_type": "markdown",
   "source": [
    "## 3 - Detección de valores atípicos (outliers)\n",
    "Una vez sabemos qué datos contiene la tabla, analizaremos los valores que toma cada una de las variables de cada instancia. El objetivo es identificar posibles valores atípicos que nos dificulten la realización de futuras tareas. \n",
    "Tras su análisis, se puede concluir que un valor:\n",
    "    - **Es erróneo**. En este caso hay que tomar una decisión para cada caso, siendo los tratamientos más extendidos son listwise, pairwise, drop variables, mean/median imputation, most frequent, separate category, zero imputation, cold deck, hot deck,(stochastic) regression, k-NN and multiple imputation. Los resultados de imputación regresiva, k-NN y múltiple dan buenos resultados, aunque, como se ha indicado, es necesario el estudio en cada caso.\n",
    "    - **Es correcto, pero anómalo**. Se documenta su existencia para su posible discusión y se mantiene en el dataset. En estos casos se hace necesaria la utilización de algoritmos y estadísticos que no sean muy sensibles a dichos valores anómalos.\n",
    "\n",
    "## Univariate\n",
    "Para cada uno de los atributos se debe realizar un análisis y detección de valores atípicos, estudiando su posible causa. \n",
    "Existen diversas formas de calcular los valores anómalos. \n",
    "\n",
    "### Variables numéricas\n",
    "Para las variables numéricas, se suele identificar: \n",
    "    - a) Valor atípico leve es el que está fuera de $[Q1 - 1.5IQR, Q3 + 1.5IQR]$, donde $IQR = Q3-Q1$.\n",
    "    - b) Valor atípico extremo está fuera de $[Q1 - 3IQR, Q3 + 3IQR]$.\n",
    "\n",
    "La idea es probar con a) y si hay pocas instancias analizarlas. Si hubiese muchas, mirar b) y analizar si fuesen pocas. No hay un algoritmo o método estipulado, puesto que depende del dominio del problema y de los datos.\n",
    "\n",
    "Los límites de Tukey se basan en los cuartiles de los datos y son sensibles a la presencia de sesgo en la distribución. Cuando hay asimetría en los datos, los límites de Tukey pueden no ser tan efectivos para identificar outliers de manera equitativa en ambos extremos de la distribución. El Coeficiente de Medcouple es útil para identificar la asimetría en los datos, especialmente en presencia de valores atípicos o sesgados. Es una medida robusta porque no se ve tan afectada por valores extremos como la media y la desviación estándar. El MC puede proporcionar información adicional sobre la asimetría de la distribución, lo que te permite ajustar los límites de Tukey de manera más apropiada para tu conjunto de datos específico. Una posible variacion de los límites de Tukey teniendo en cuenta MC podria ser: \n",
    "   - Si MC es mayor que 0 (asimetría hacia la derecha):\n",
    "      - low = (q1-1.5 * math.exp(-4*mc) * iqr)\n",
    "      - high = (q3+1.5 * math.exp(3.5*mc) * iqr)\n",
    "   - Si la asimetriza es hacia la izquierda:    \n",
    "      - low = (q1-1.5 * math.exp(-3.5*mc) * iqr)\n",
    "      - high = (q3+1.5 * math.exp(4*mc) * iqr)\n",
    "\n",
    "\n",
    "### Variables categóricas\n",
    "Para las variables categóricas no existe el concepto de valor anómalo, pero sí se puede considerar en base a un análisis de frecuencia. Por ejemplo, que el uso de una categoría sea residual, pudiendo tener un 0.1% de instancias en el dataset. Para detectar estos valores, se puede fijar un valor mínimo de frecuencia en función del número posible de valores de la variable categórica (2 en el caso de una variable booleana). Por ejemplo, un umbral de $\\frac{0.2\\%}{valores}$ (0.1% en el caso de una variable booleana)"
   ],
   "id": "599c97eec7b7d283"
  },
  {
   "metadata": {},
   "cell_type": "markdown",
   "source": [
    "## Analisis detallado de variables\n",
    "Para cada una de las 10 variable (3 booleanas, 4 porcentuales y 3 numericas) se hara un analisis detallado "
   ],
   "id": "132c8742057275c"
  },
  {
   "metadata": {},
   "cell_type": "markdown",
   "source": [
    "### Variable is_class_method (1/18)\n",
    "Esta variable es de tipo booleano y representa si el método es de clase."
   ],
   "id": "6abba739e46da213"
  },
  {
   "metadata": {
    "ExecuteTime": {
     "end_time": "2024-05-13T13:54:25.560429Z",
     "start_time": "2024-05-13T13:54:24.373871Z"
    }
   },
   "cell_type": "code",
   "source": [
    "plt.xticks([0, 1], ['False', 'True'])\n",
    "sns.histplot(X['methoddef__is_class_method'], discrete=True)"
   ],
   "id": "4ab35b2ef94a3379",
   "execution_count": 12,
   "outputs": []
  },
  {
   "metadata": {
    "ExecuteTime": {
     "end_time": "2024-05-13T13:54:43.216220Z",
     "start_time": "2024-05-13T13:54:43.185718Z"
    }
   },
   "cell_type": "code",
   "source": [
    "num_true_values = len(X[X['methoddef__is_class_method'] == True])\n",
    "num_false_values = len(X[X['methoddef__is_class_method'] == False])\n",
    "std = X['methoddef__is_class_method'].std()\n",
    "freq_true = len(X[X['methoddef__is_class_method'] == True]) / len(X['methoddef__is_class_method'])\n",
    "freq_false = len(X[X['methoddef__is_class_method'] == False]) / len(X['methoddef__is_class_method'])\n",
    "print(f'La variable is_class_method contiene {num_true_values} valores verdaderos y {num_false_values} valores falsos. Y, la desviación típica es de {std}')\n",
    "print(f'La frecuencia con la que programa puede tener la variable is_class_method a True es {freq_true}.')\n",
    "print(f'La frecuencia con la que programa puede tener la variable is_class_method a False es {freq_false}.')"
   ],
   "id": "f4a042829ae6fac5",
   "execution_count": 13,
   "outputs": []
  },
  {
   "metadata": {
    "ExecuteTime": {
     "end_time": "2024-05-13T13:54:56.434005Z",
     "start_time": "2024-05-13T13:54:56.416725Z"
    }
   },
   "cell_type": "code",
   "source": [
    "possible_values = [True, False]\n",
    "print_frequency_anal_for_cat_var(X, 'methoddef__is_class_method', possible_values)"
   ],
   "id": "c614dd60d0ab8e5b",
   "execution_count": 14,
   "outputs": []
  },
  {
   "metadata": {
    "ExecuteTime": {
     "end_time": "2024-05-13T13:55:00.941821Z",
     "start_time": "2024-05-13T13:55:00.850807Z"
    }
   },
   "cell_type": "code",
   "source": "X[X['methoddef__is_class_method'] == True].describe(percentiles=[.25, .50, .75], include = ['object', 'float', 'bool', 'int'])\n",
   "id": "6c33bdd1420008cf",
   "execution_count": 15,
   "outputs": []
  },
  {
   "metadata": {},
   "cell_type": "markdown",
   "source": [
    "### Variable is_static_method (2/18)\n",
    "Esta variable es de tipo booleano y representa si el método es estático."
   ],
   "id": "1fa4491178ba606c"
  },
  {
   "metadata": {
    "ExecuteTime": {
     "end_time": "2024-05-12T17:40:56.892528Z",
     "start_time": "2024-05-12T17:40:56.582317Z"
    }
   },
   "cell_type": "code",
   "source": [
    "plt.xticks([0, 1], ['False', 'True'])\n",
    "sns.histplot(X['methoddef__is_static_method'], discrete=True)"
   ],
   "id": "529b7fd2ad00b058",
   "execution_count": 30,
   "outputs": []
  },
  {
   "metadata": {
    "ExecuteTime": {
     "end_time": "2024-05-13T13:56:07.249667Z",
     "start_time": "2024-05-13T13:56:07.222519Z"
    }
   },
   "cell_type": "code",
   "source": [
    "#ANALISIS DE DISTRIBUCIÓN DE DATOS\n",
    "num_true_values = len(X[X['methoddef__is_static_method'] == True])\n",
    "num_false_values = len(X[X['methoddef__is_static_method'] == False])\n",
    "std = X['methoddef__is_static_method'].std()\n",
    "freq_true = len(X[X['methoddef__is_static_method'] == True]) / len(X['methoddef__is_static_method'])\n",
    "freq_false = len(X[X['methoddef__is_static_method'] == False]) / len(X['methoddef__is_static_method'])\n",
    "print(f'La variable is_static_method contiene {num_true_values} valores verdaderos y {num_false_values} valores falsos. Y, la desviación típica es de {std}')\n",
    "print(f'La frecuencia con la que programa puede tener la variable is_static_method a True es {freq_true}.')\n",
    "print(f'La frecuencia con la que programa puede tener la variable is_static_method a False es {freq_false}.')"
   ],
   "id": "d1bed1e471481adc",
   "execution_count": 16,
   "outputs": []
  },
  {
   "metadata": {
    "ExecuteTime": {
     "end_time": "2024-05-13T13:56:12.639796Z",
     "start_time": "2024-05-13T13:56:12.628683Z"
    }
   },
   "cell_type": "code",
   "source": [
    "#PROBABILIDAD DE VALORES\n",
    "possible_values = [True, False]\n",
    "print_frequency_anal_for_cat_var(X, 'methoddef__is_static_method', possible_values)"
   ],
   "id": "c54b472864a47e88",
   "execution_count": 17,
   "outputs": []
  },
  {
   "metadata": {
    "ExecuteTime": {
     "end_time": "2024-05-13T13:56:16.150980Z",
     "start_time": "2024-05-13T13:56:16.096429Z"
    }
   },
   "cell_type": "code",
   "source": [
    "#VALORES DE LOS DATOS CONDICIONADOS A TRUE/FALSE\n",
    "X[X['methoddef__is_static_method'] == True].describe(percentiles=[.25, .50, .75], include = ['object', 'float', 'bool', 'int'])"
   ],
   "id": "4bd840561db5f69f",
   "execution_count": 18,
   "outputs": []
  },
  {
   "metadata": {},
   "cell_type": "markdown",
   "source": [
    "### Variable is_constructor_method (3/18)\n",
    "Esta variable es booleana y representa si el método es un constructor (__ init __)."
   ],
   "id": "55e11303a6b9f7d6"
  },
  {
   "metadata": {
    "ExecuteTime": {
     "end_time": "2024-05-12T17:42:10.499473Z",
     "start_time": "2024-05-12T17:42:10.217623Z"
    }
   },
   "cell_type": "code",
   "source": [
    "plt.xticks([0, 1], ['False', 'True'])\n",
    "sns.histplot(X['methoddef__is_constructor_method'], discrete=True)"
   ],
   "id": "3d54f29de8308c46",
   "execution_count": 34,
   "outputs": []
  },
  {
   "metadata": {
    "ExecuteTime": {
     "end_time": "2024-05-12T17:42:36.364325Z",
     "start_time": "2024-05-12T17:42:36.333319Z"
    }
   },
   "cell_type": "code",
   "source": [
    "#ANALISIS DE DISTRIBUCIÓN DE DATOS\n",
    "num_true_values = len(X[X['methoddef__is_constructor_method'] == True])\n",
    "num_false_values = len(X[X['methoddef__is_constructor_method'] == False])\n",
    "std = X['methoddef__is_constructor_method'].std()\n",
    "freq_true = len(X[X['methoddef__is_constructor_method'] == True]) / len(X['methoddef__is_constructor_method'])\n",
    "freq_false = len(X[X['methoddef__is_constructor_method'] == False]) / len(X['methoddef__is_constructor_method'])\n",
    "print(f'La variable is_constructor_method contiene {num_true_values} valores verdaderos y {num_false_values} valores falsos. Y, la desviación típica es de {std}')\n",
    "print(f'La frecuencia con la que programa puede tener la variable is_constructor_method a True es {freq_true}.')\n",
    "print(f'La frecuencia con la que programa puede tener la variable is_constructor_method a False es {freq_false}.')"
   ],
   "id": "2eb1b1c16de8cdd6",
   "execution_count": 35,
   "outputs": []
  },
  {
   "metadata": {
    "ExecuteTime": {
     "end_time": "2024-05-13T13:57:52.267335Z",
     "start_time": "2024-05-13T13:57:52.254558Z"
    }
   },
   "cell_type": "code",
   "source": [
    "#PROBABILIDAD DE VALORES\n",
    "possible_values = [True, False]\n",
    "print_frequency_anal_for_cat_var(X, 'methoddef__is_constructor_method', possible_values)"
   ],
   "id": "77d67e1a9229488c",
   "execution_count": 20,
   "outputs": []
  },
  {
   "metadata": {
    "ExecuteTime": {
     "end_time": "2024-05-13T13:57:49.148660Z",
     "start_time": "2024-05-13T13:57:49.105498Z"
    }
   },
   "cell_type": "code",
   "source": [
    "#VALORES DE LOS DATOS CONDICIONADOS A TRUE/FALSE\n",
    "X[X['methoddef__is_constructor_method'] == True].describe(percentiles=[.25, .50, .75], include = ['object', 'float', 'bool', 'int'])"
   ],
   "id": "4f8aa89df7929f1",
   "execution_count": 19,
   "outputs": []
  },
  {
   "metadata": {},
   "cell_type": "markdown",
   "source": [
    "### Variable is_abstract_method (4/18)\n",
    "Esta variable es booleana y representa si el método es abstracto."
   ],
   "id": "18a8e13e56bc2bb5"
  },
  {
   "metadata": {
    "ExecuteTime": {
     "end_time": "2024-05-13T13:58:50.993466Z",
     "start_time": "2024-05-13T13:58:50.748389Z"
    }
   },
   "cell_type": "code",
   "source": [
    "plt.xticks([0, 1], ['False', 'True'])\n",
    "sns.histplot(X['methoddef__is_abstract_method'], discrete=True)"
   ],
   "id": "5324fb5df46dfbbb",
   "execution_count": 22,
   "outputs": []
  },
  {
   "metadata": {
    "ExecuteTime": {
     "end_time": "2024-05-13T13:58:43.636291Z",
     "start_time": "2024-05-13T13:58:43.617849Z"
    }
   },
   "cell_type": "code",
   "source": [
    "#ANALISIS DE DISTRIBUCIÓN DE DATOS\n",
    "num_true_values = len(X[X['methoddef__is_abstract_method'] == True])\n",
    "num_false_values = len(X[X['methoddef__is_abstract_method'] == False])\n",
    "std = X['methoddef__is_abstract_method'].std()\n",
    "freq_true = len(X[X['methoddef__is_abstract_method'] == True]) / len(X['methoddef__is_abstract_method'])\n",
    "freq_false = len(X[X['methoddef__is_abstract_method'] == False]) / len(X['methoddef__is_abstract_method'])\n",
    "print(f'La variable is_abstract_method contiene {num_true_values} valores verdaderos y {num_false_values} valores falsos. Y, la desviación típica es de {std}')\n",
    "print(f'La frecuencia con la que programa puede tener la variable is_abstract_method a True es {freq_true}.')\n",
    "print(f'La frecuencia con la que programa puede tener la variable is_abstract_method a False es {freq_false}.')"
   ],
   "id": "3a3d461ef8ecb975",
   "execution_count": 21,
   "outputs": []
  },
  {
   "metadata": {
    "ExecuteTime": {
     "end_time": "2024-05-13T13:59:10.440094Z",
     "start_time": "2024-05-13T13:59:10.429358Z"
    }
   },
   "cell_type": "code",
   "source": [
    "#PROBABILIDAD DE VALORES\n",
    "possible_values = [True, False]\n",
    "print_frequency_anal_for_cat_var(X, 'methoddef__is_abstract_method', possible_values)"
   ],
   "id": "fe8e2a0b79c6c2e5",
   "execution_count": 24,
   "outputs": []
  },
  {
   "metadata": {
    "ExecuteTime": {
     "end_time": "2024-05-13T13:59:15.127741Z",
     "start_time": "2024-05-13T13:59:15.097113Z"
    }
   },
   "cell_type": "code",
   "source": [
    "#VALORES DE LOS DATOS CONDICIONADOS A TRUE/FALSE\n",
    "X[X['methoddef__is_abstract_method'] == True].describe(percentiles=[.25, .50, .75], include = ['object', 'float', 'bool', 'int'])"
   ],
   "id": "4322793c7ab4814a",
   "execution_count": 25,
   "outputs": []
  },
  {
   "metadata": {},
   "cell_type": "markdown",
   "source": [
    "### Variable is_property (5/18)\n",
    "Esta variable es booleana y representa si el método es property."
   ],
   "id": "cfe40a4ef0be487d"
  },
  {
   "metadata": {
    "ExecuteTime": {
     "end_time": "2024-05-13T13:59:43.790Z",
     "start_time": "2024-05-13T13:59:43.559776Z"
    }
   },
   "cell_type": "code",
   "source": [
    "plt.xticks([0, 1], ['False', 'True'])\n",
    "sns.histplot(X['methoddef__is_property'], discrete=True)"
   ],
   "id": "5875416c9bb82405",
   "execution_count": 26,
   "outputs": []
  },
  {
   "metadata": {
    "ExecuteTime": {
     "end_time": "2024-05-13T14:00:00.051410Z",
     "start_time": "2024-05-13T14:00:00.031581Z"
    }
   },
   "cell_type": "code",
   "source": [
    "#ANALISIS DE DISTRIBUCIÓN DE DATOS\n",
    "num_true_values = len(X[X['methoddef__is_property'] == True])\n",
    "num_false_values = len(X[X['methoddef__is_property'] == False])\n",
    "std = X['methoddef__is_property'].std()\n",
    "freq_true = len(X[X['methoddef__is_property'] == True]) / len(X['methoddef__is_property'])\n",
    "freq_false = len(X[X['methoddef__is_property'] == False]) / len(X['methoddef__is_property'])\n",
    "print(f'La variable is_property contiene {num_true_values} valores verdaderos y {num_false_values} valores falsos. Y, la desviación típica es de {std}')\n",
    "print(f'La frecuencia con la que programa puede tener la variable is_property a True es {freq_true}.')\n",
    "print(f'La frecuencia con la que programa puede tener la variable is_property a False es {freq_false}.')"
   ],
   "id": "48f9d12a797e8432",
   "execution_count": 27,
   "outputs": []
  },
  {
   "metadata": {
    "ExecuteTime": {
     "end_time": "2024-05-13T14:00:05.741116Z",
     "start_time": "2024-05-13T14:00:05.729328Z"
    }
   },
   "cell_type": "code",
   "source": [
    "#PROBABILIDAD DE VALORES\n",
    "possible_values = [True, False]\n",
    "print_frequency_anal_for_cat_var(X, 'methoddef__is_property', possible_values)"
   ],
   "id": "c2fd515eea1c6602",
   "execution_count": 28,
   "outputs": []
  },
  {
   "metadata": {
    "ExecuteTime": {
     "end_time": "2024-05-13T14:00:09.763871Z",
     "start_time": "2024-05-13T14:00:09.729122Z"
    }
   },
   "cell_type": "code",
   "source": [
    "#VALORES DE LOS DATOS CONDICIONADOS A TRUE/FALSE\n",
    "X[X['methoddef__is_property'] == True].describe(percentiles=[.25, .50, .75], include = ['object', 'float', 'bool', 'int'])"
   ],
   "id": "b5ebd8faec1bd813",
   "execution_count": 29,
   "outputs": []
  },
  {
   "metadata": {},
   "cell_type": "markdown",
   "source": [
    "### Variable is_wrapper (6/18)\n",
    "Esta variable es booleana y representa si el método es wrapper."
   ],
   "id": "6defcb3c847f9d12"
  },
  {
   "metadata": {
    "ExecuteTime": {
     "end_time": "2024-05-13T14:01:35.305204Z",
     "start_time": "2024-05-13T14:01:35.006138Z"
    }
   },
   "cell_type": "code",
   "source": [
    "plt.xticks([0, 1], ['False', 'True'])\n",
    "sns.histplot(X['methoddef__is_wrapper'], discrete=True)"
   ],
   "id": "8592750b545b1fbf",
   "execution_count": 31,
   "outputs": []
  },
  {
   "metadata": {
    "ExecuteTime": {
     "end_time": "2024-05-13T14:01:32.003474Z",
     "start_time": "2024-05-13T14:01:31.983137Z"
    }
   },
   "cell_type": "code",
   "source": [
    "#ANALISIS DE DISTRIBUCIÓN DE DATOS\n",
    "num_true_values = len(X[X['methoddef__is_wrapper'] == True])\n",
    "num_false_values = len(X[X['methoddef__is_wrapper'] == False])\n",
    "std = X['methoddef__is_wrapper'].std()\n",
    "freq_true = len(X[X['methoddef__is_wrapper'] == True]) / len(X['methoddef__is_wrapper'])\n",
    "freq_false = len(X[X['methoddef__is_wrapper'] == False]) / len(X['methoddef__is_wrapper'])\n",
    "print(f'La variable is_wrapper contiene {num_true_values} valores verdaderos y {num_false_values} valores falsos. Y, la desviación típica es de {std}')\n",
    "print(f'La frecuencia con la que programa puede tener la variable is_wrapper a True es {freq_true}.')\n",
    "print(f'La frecuencia con la que programa puede tener la variable is_wrapper a False es {freq_false}.')"
   ],
   "id": "4a4f044db076cb5f",
   "execution_count": 30,
   "outputs": []
  },
  {
   "metadata": {
    "ExecuteTime": {
     "end_time": "2024-05-13T14:01:44.980725Z",
     "start_time": "2024-05-13T14:01:44.967175Z"
    }
   },
   "cell_type": "code",
   "source": [
    "#PROBABILIDAD DE VALORES\n",
    "possible_values = [True, False]\n",
    "print_frequency_anal_for_cat_var(X, 'methoddef__is_wrapper', possible_values)"
   ],
   "id": "a076e73a521fa73f",
   "execution_count": 33,
   "outputs": []
  },
  {
   "metadata": {
    "ExecuteTime": {
     "end_time": "2024-05-13T14:01:40.311718Z",
     "start_time": "2024-05-13T14:01:40.275899Z"
    }
   },
   "cell_type": "code",
   "source": [
    "#VALORES DE LOS DATOS CONDICIONADOS A TRUE/FALSE\n",
    "X[X['methoddef__is_wrapper'] == True].describe(percentiles=[.25, .50, .75], include = ['object', 'float', 'bool', 'int'])"
   ],
   "id": "aa6278678020f785",
   "execution_count": 32,
   "outputs": []
  },
  {
   "metadata": {},
   "cell_type": "markdown",
   "source": [
    "### Variable is_cached (7/18)\n",
    "Esta variable es booleana y representa si el método es cached."
   ],
   "id": "d33b192e2a5f0240"
  },
  {
   "metadata": {
    "ExecuteTime": {
     "end_time": "2024-05-13T14:02:28.719429Z",
     "start_time": "2024-05-13T14:02:28.474474Z"
    }
   },
   "cell_type": "code",
   "source": [
    "plt.xticks([0, 1], ['False', 'True'])\n",
    "sns.histplot(X['methoddef__is_cached'], discrete=True)"
   ],
   "id": "bbf5fe6a0d94a17a",
   "execution_count": 35,
   "outputs": []
  },
  {
   "metadata": {
    "ExecuteTime": {
     "end_time": "2024-05-13T14:02:26.435030Z",
     "start_time": "2024-05-13T14:02:26.413501Z"
    }
   },
   "cell_type": "code",
   "source": [
    "#ANALISIS DE DISTRIBUCIÓN DE DATOS\n",
    "num_true_values = len(X[X['methoddef__is_cached'] == True])\n",
    "num_false_values = len(X[X['methoddef__is_cached'] == False])\n",
    "std = X['methoddef__is_cached'].std()\n",
    "freq_true = len(X[X['methoddef__is_cached'] == True]) / len(X['methoddef__is_cached'])\n",
    "freq_false = len(X[X['methoddef__is_cached'] == False]) / len(X['methoddef__is_cached'])\n",
    "print(f'La variable is_cached contiene {num_true_values} valores verdaderos y {num_false_values} valores falsos. Y, la desviación típica es de {std}')\n",
    "print(f'La frecuencia con la que programa puede tener la variable is_cached a True es {freq_true}.')\n",
    "print(f'La frecuencia con la que programa puede tener la variable is_cached a False es {freq_false}.')"
   ],
   "id": "af126375f622ce6c",
   "execution_count": 34,
   "outputs": []
  },
  {
   "metadata": {
    "ExecuteTime": {
     "end_time": "2024-05-13T14:02:34.570329Z",
     "start_time": "2024-05-13T14:02:34.559494Z"
    }
   },
   "cell_type": "code",
   "source": [
    "#PROBABILIDAD DE VALORES\n",
    "possible_values = [True, False]\n",
    "print_frequency_anal_for_cat_var(X, 'methoddef__is_cached', possible_values)"
   ],
   "id": "21e353b959beda0c",
   "execution_count": 36,
   "outputs": []
  },
  {
   "metadata": {
    "ExecuteTime": {
     "end_time": "2024-05-13T14:02:37.398963Z",
     "start_time": "2024-05-13T14:02:37.355085Z"
    }
   },
   "cell_type": "code",
   "source": [
    "#VALORES DE LOS DATOS CONDICIONADOS A TRUE/FALSE\n",
    "X[X['methoddef__is_cached'] == True].describe(percentiles=[.25, .50, .75], include = ['object', 'float', 'bool', 'int'])"
   ],
   "id": "1412f91d62130779",
   "execution_count": 37,
   "outputs": []
  },
  {
   "metadata": {},
   "cell_type": "markdown",
   "source": [
    "### Variable is_private (8/18)\n",
    "Esta variable es de tipo booleano y representa si la función es privada."
   ],
   "id": "8614054d28ed96f4"
  },
  {
   "metadata": {},
   "cell_type": "code",
   "execution_count": 14,
   "source": [
    "plt.xticks([0, 1], ['False', 'True'])\n",
    "sns.histplot(X['functiondef__is_private'], discrete=True)"
   ],
   "id": "3be5ffe260d1480a",
   "outputs": []
  },
  {
   "metadata": {},
   "cell_type": "code",
   "execution_count": 15,
   "source": [
    "num_true_values = len(X[X['functiondef__is_private'] == True])\n",
    "num_false_values = len(X[X['functiondef__is_private'] == False])\n",
    "std = X['functiondef__is_private'].std()\n",
    "freq_true = len(X[X['functiondef__is_private'] == True]) / len(X['functiondef__is_private'])\n",
    "freq_false = len(X[X['functiondef__is_private'] == False]) / len(X['functiondef__is_private'])\n",
    "print(f'La variable is_private contiene {num_true_values} valores verdaderos y {num_false_values} valores falsos. Y, la desviación típica es de {std}')\n",
    "print(f'La frecuencia con la que programa puede tener la variable is_private a True es {freq_true}.')\n",
    "print(f'La frecuencia con la que programa puede tener la variable is_private a False es {freq_false}.')"
   ],
   "id": "d06b057f7bb53f69",
   "outputs": []
  },
  {
   "metadata": {},
   "cell_type": "code",
   "execution_count": 16,
   "source": [
    "possible_values = [True, False]\n",
    "print_frequency_anal_for_cat_var(X, 'functiondef__is_private', possible_values)"
   ],
   "id": "e6a45a16f309f434",
   "outputs": []
  },
  {
   "metadata": {},
   "cell_type": "code",
   "execution_count": 17,
   "source": "X[X['functiondef__is_private'] == True].describe(percentiles=[.25, .50, .75], include = ['object', 'float', 'bool', 'int'])\n",
   "id": "9bcbed8871fc48b3",
   "outputs": []
  },
  {
   "metadata": {},
   "cell_type": "markdown",
   "source": [
    "### Variable is_magic (9/18)\n",
    "Esta variable es de tipo booleano y representa si la función es de la forma __\\w__."
   ],
   "id": "8983684450b54a0a"
  },
  {
   "metadata": {},
   "cell_type": "code",
   "execution_count": 30,
   "source": [
    "plt.xticks([0, 1], ['False', 'True'])\n",
    "sns.histplot(X['functiondef__is_magic'], discrete=True)"
   ],
   "id": "4da92f57db86ec7f",
   "outputs": []
  },
  {
   "metadata": {},
   "cell_type": "code",
   "execution_count": 31,
   "source": [
    "#ANALISIS DE DISTRIBUCIÓN DE DATOS\n",
    "num_true_values = len(X[X['functiondef__is_magic'] == True])\n",
    "num_false_values = len(X[X['functiondef__is_magic'] == False])\n",
    "std = X['functiondef__is_magic'].std()\n",
    "freq_true = len(X[X['functiondef__is_magic'] == True]) / len(X['functiondef__is_magic'])\n",
    "freq_false = len(X[X['functiondef__is_magic'] == False]) / len(X['functiondef__is_magic'])\n",
    "print(f'La variable is_magic contiene {num_true_values} valores verdaderos y {num_false_values} valores falsos. Y, la desviación típica es de {std}')\n",
    "print(f'La frecuencia con la que programa puede tener la variable is_magic a True es {freq_true}.')\n",
    "print(f'La frecuencia con la que programa puede tener la variable is_magic a False es {freq_false}.')"
   ],
   "id": "5387e3d7fb14d837",
   "outputs": []
  },
  {
   "metadata": {},
   "cell_type": "code",
   "execution_count": 32,
   "source": [
    "#PROBABILIDAD DE VALORES\n",
    "possible_values = [True, False]\n",
    "print_frequency_anal_for_cat_var(X, 'functiondef__is_magic', possible_values)"
   ],
   "id": "d77ceecbd69c1fc9",
   "outputs": []
  },
  {
   "metadata": {},
   "cell_type": "code",
   "execution_count": 33,
   "source": [
    "#VALORES DE LOS DATOS CONDICIONADOS A TRUE/FALSE\n",
    "X[X['functiondef__is_magic'] == True].describe(percentiles=[.25, .50, .75], include = ['object', 'float', 'bool', 'int'])"
   ],
   "id": "6530ae63cd2f0801",
   "outputs": []
  },
  {
   "metadata": {},
   "cell_type": "markdown",
   "source": [
    "### Variable is_async (10/18)\n",
    "Esta variable es booleana y representa si la función es asincrona."
   ],
   "id": "63d796520c050d4e"
  },
  {
   "metadata": {},
   "cell_type": "code",
   "execution_count": 34,
   "source": [
    "plt.xticks([0, 1], ['False', 'True'])\n",
    "sns.histplot(X['functiondef__is_async'], discrete=True)"
   ],
   "id": "55881721a768d3cf",
   "outputs": []
  },
  {
   "metadata": {},
   "cell_type": "code",
   "execution_count": 35,
   "source": [
    "#ANALISIS DE DISTRIBUCIÓN DE DATOS\n",
    "num_true_values = len(X[X['functiondef__is_async'] == True])\n",
    "num_false_values = len(X[X['functiondef__is_async'] == False])\n",
    "std = X['functiondef__is_async'].std()\n",
    "freq_true = len(X[X['functiondef__is_async'] == True]) / len(X['functiondef__is_async'])\n",
    "freq_false = len(X[X['functiondef__is_async'] == False]) / len(X['functiondef__is_async'])\n",
    "print(f'La variable is_async contiene {num_true_values} valores verdaderos y {num_false_values} valores falsos. Y, la desviación típica es de {std}')\n",
    "print(f'La frecuencia con la que programa puede tener la variable is_async a True es {freq_true}.')\n",
    "print(f'La frecuencia con la que programa puede tener la variable is_async a False es {freq_false}.')"
   ],
   "id": "e3a7fe5d9e04114f",
   "outputs": []
  },
  {
   "metadata": {},
   "cell_type": "code",
   "execution_count": 36,
   "source": [
    "#PROBABILIDAD DE VALORES\n",
    "possible_values = [True, False]\n",
    "print_frequency_anal_for_cat_var(X, 'functiondef__is_async', possible_values)"
   ],
   "id": "276c3c366f4e4186",
   "outputs": []
  },
  {
   "metadata": {},
   "cell_type": "code",
   "execution_count": 37,
   "source": [
    "#VALORES DE LOS DATOS CONDICIONADOS A TRUE/FALSE\n",
    "X[X['functiondef__is_async'] == True].describe(percentiles=[.25, .50, .75], include = ['object', 'float', 'bool', 'int'])"
   ],
   "id": "4688910fc570f5e8",
   "outputs": []
  },
  {
   "metadata": {},
   "cell_type": "markdown",
   "source": [
    "### Variable has_return_type_annotation (11/18)\n",
    "Esta variable es booleana y representa si la function tiene una anotacion del tipo de retorno."
   ],
   "id": "5e4a21e963845753"
  },
  {
   "metadata": {},
   "cell_type": "code",
   "execution_count": 38,
   "source": [
    "plt.xticks([0, 1], ['False', 'True'])\n",
    "sns.histplot(X['functiondef__has_return_type_annotation'], discrete=True)"
   ],
   "id": "403c5938a1212743",
   "outputs": []
  },
  {
   "metadata": {},
   "cell_type": "code",
   "execution_count": 39,
   "source": [
    "#ANALISIS DE DISTRIBUCIÓN DE DATOS\n",
    "num_true_values = len(X[X['functiondef__has_return_type_annotation'] == True])\n",
    "num_false_values = len(X[X['functiondef__has_return_type_annotation'] == False])\n",
    "std = X['functiondef__has_return_type_annotation'].std()\n",
    "freq_true = len(X[X['functiondef__has_return_type_annotation'] == True]) / len(X['functiondef__has_return_type_annotation'])\n",
    "freq_false = len(X[X['functiondef__has_return_type_annotation'] == False]) / len(X['functiondef__has_return_type_annotation'])\n",
    "print(f'La variable has_return_type_annotation contiene {num_true_values} valores verdaderos y {num_false_values} valores falsos. Y, la desviación típica es de {std}')\n",
    "print(f'La frecuencia con la que programa puede tener la variable has_return_type_annotation a True es {freq_true}.')\n",
    "print(f'La frecuencia con la que programa puede tener la variable has_return_type_annotation a False es {freq_false}.')"
   ],
   "id": "418056e545e69813",
   "outputs": []
  },
  {
   "metadata": {},
   "cell_type": "code",
   "execution_count": 40,
   "source": [
    "#PROBABILIDAD DE VALORES\n",
    "possible_values = [True, False]\n",
    "print_frequency_anal_for_cat_var(X, 'functiondef__has_return_type_annotation', possible_values)"
   ],
   "id": "994bb1ac2add4c29",
   "outputs": []
  },
  {
   "metadata": {},
   "cell_type": "code",
   "execution_count": 41,
   "source": [
    "#VALORES DE LOS DATOS CONDICIONADOS A TRUE/FALSE\n",
    "X[X['functiondef__has_return_type_annotation'] == True].describe(percentiles=[.25, .50, .75], include = ['object', 'float', 'bool', 'int'])"
   ],
   "id": "af296afab5ad720",
   "outputs": []
  },
  {
   "metadata": {},
   "cell_type": "markdown",
   "source": [
    "### Variable has_doc_string (12/18)\n",
    "Esta variable es booleana y representa si la function comienza por un String plano a modo de comentario."
   ],
   "id": "99b05ea5dbfa101b"
  },
  {
   "metadata": {},
   "cell_type": "code",
   "execution_count": 42,
   "source": [
    "plt.xticks([0, 1], ['False', 'True'])\n",
    "sns.histplot(X['functiondef__has_doc_string'], discrete=True)"
   ],
   "id": "2fe75675e7af9a1",
   "outputs": []
  },
  {
   "metadata": {},
   "cell_type": "code",
   "execution_count": 43,
   "source": [
    "#ANALISIS DE DISTRIBUCIÓN DE DATOS\n",
    "num_true_values = len(X[X['functiondef__has_doc_string'] == True])\n",
    "num_false_values = len(X[X['functiondef__has_doc_string'] == False])\n",
    "std = X['functiondef__has_doc_string'].std()\n",
    "freq_true = len(X[X['functiondef__has_doc_string'] == True]) / len(X['functiondef__has_doc_string'])\n",
    "freq_false = len(X[X['functiondef__has_doc_string'] == False]) / len(X['functiondef__has_doc_string'])\n",
    "print(f'La variable has_doc_string contiene {num_true_values} valores verdaderos y {num_false_values} valores falsos. Y, la desviación típica es de {std}')\n",
    "print(f'La frecuencia con la que programa puede tener la variable has_doc_string a True es {freq_true}.')\n",
    "print(f'La frecuencia con la que programa puede tener la variable has_doc_string a False es {freq_false}.')"
   ],
   "id": "ecc71c1a95bd69ee",
   "outputs": []
  },
  {
   "metadata": {},
   "cell_type": "code",
   "execution_count": 44,
   "source": [
    "#PROBABILIDAD DE VALORES\n",
    "possible_values = [True, False]\n",
    "print_frequency_anal_for_cat_var(X, 'functiondef__has_doc_string', possible_values)"
   ],
   "id": "5cd1da5a00498c5e",
   "outputs": []
  },
  {
   "metadata": {},
   "cell_type": "code",
   "execution_count": 45,
   "source": [
    "#VALORES DE LOS DATOS CONDICIONADOS A TRUE/FALSE\n",
    "X[X['functiondef__has_doc_string'] == True].describe(percentiles=[.25, .50, .75], include = ['object', 'float', 'bool', 'int'])"
   ],
   "id": "6bb0aa670a4c1b95",
   "outputs": []
  },
  {
   "metadata": {},
   "cell_type": "markdown",
   "source": [
    "### Variable number_of_characters (13/18)\n",
    "Esta variable representa el número de caracteres que tiene el nombre de la funcion. Como vimos en la descripción de la tabla esta varibale adopta valores en el rango 1 - 87. Con una media de 13.70."
   ],
   "id": "bc7a13c89bd5739b"
  },
  {
   "metadata": {},
   "cell_type": "code",
   "execution_count": 46,
   "source": "sns.stripplot(X['functiondef__number_of_characters'])",
   "id": "eb4f57e693a9bcee",
   "outputs": []
  },
  {
   "metadata": {},
   "cell_type": "code",
   "execution_count": 47,
   "source": "print_outliers_for_df_column(X, 'functiondef__number_of_characters')",
   "id": "2a8c634ee2991656",
   "outputs": []
  },
  {
   "metadata": {},
   "cell_type": "code",
   "execution_count": 48,
   "source": "X[X['functiondef__number_of_characters'] > 48].describe(percentiles=[.25, .50, .75], include = ['object', 'float', 'bool', 'int'])",
   "id": "38c376211caabb81",
   "outputs": []
  },
  {
   "metadata": {},
   "cell_type": "markdown",
   "source": "El 97% de estas funciones con nombres muy largos son de expertos y en SnakeCase.",
   "id": "592d8621bd275e27"
  },
  {
   "metadata": {},
   "cell_type": "markdown",
   "source": [
    "### Variable body_count (14/18)\n",
    "Esta variable representa el número de sentencias en el root de la función. Como vimos en la descripción de la tabla esta varibale adopta valores en el rango 1 - 364. Con una media de 4.09."
   ],
   "id": "abc84bacf4769ff9"
  },
  {
   "metadata": {},
   "cell_type": "code",
   "execution_count": 49,
   "source": "sns.stripplot(X['functiondef__body_count'])",
   "id": "c6c12d4bcb620e3a",
   "outputs": []
  },
  {
   "metadata": {},
   "cell_type": "code",
   "execution_count": 50,
   "source": "print_outliers_for_df_column(X, 'functiondef__body_count')",
   "id": "9f627c754b3e35b4",
   "outputs": []
  },
  {
   "metadata": {},
   "cell_type": "code",
   "execution_count": 51,
   "source": "X[X['functiondef__body_count'] > 72].describe(percentiles=[.25, .50, .75], include = ['object', 'float', 'bool', 'int'])",
   "id": "4411f05642992f4",
   "outputs": []
  },
  {
   "metadata": {},
   "cell_type": "markdown",
   "source": "Un 79% de expertos. Mal uso de la encapsulación?",
   "id": "17959739fc7bd6f4"
  },
  {
   "metadata": {},
   "cell_type": "markdown",
   "source": [
    "### Variable number_of_decorators (15/18)\n",
    "Esta variable representa el número de decoradores de la funcion. Como vimos en la descripción de la tabla esta varibale adopta valores en el rango 0 - 46. Con una media de 0.19."
   ],
   "id": "9a9bb365bf3b4205"
  },
  {
   "metadata": {},
   "cell_type": "code",
   "execution_count": 52,
   "source": "sns.stripplot(X['functiondef__number_of_decorators'])",
   "id": "f83f4f443f8969ef",
   "outputs": []
  },
  {
   "metadata": {},
   "cell_type": "code",
   "execution_count": 53,
   "source": "print_outliers_for_df_column(X, 'functiondef__number_of_decorators')",
   "id": "af6838f0f95e751c",
   "outputs": []
  },
  {
   "metadata": {},
   "cell_type": "code",
   "execution_count": 54,
   "source": "X[X['functiondef__number_of_decorators'] > 0].describe(percentiles=[.25, .50, .75], include = ['object', 'float', 'bool', 'int'])",
   "id": "2c39e9585233d271",
   "outputs": []
  },
  {
   "metadata": {},
   "cell_type": "markdown",
   "source": [
    "### Variable height (16/18)\n",
    "Esta variable representa la distancia desde la función hasta el root del módulo (fichero). Como vimos en la descripción de la tabla esta varibale adopta valores en el rango 1 - 10. Con una media de 1.77."
   ],
   "id": "aa57b25973dae3c2"
  },
  {
   "metadata": {},
   "cell_type": "code",
   "execution_count": 55,
   "source": "sns.stripplot(X['functiondef__height'])",
   "id": "97a8dbb5a8f758b",
   "outputs": []
  },
  {
   "metadata": {},
   "cell_type": "markdown",
   "source": "Hay que comprobar la clase con 45 base classes. Es una clase de experto de algún tipo de interfaz gráfica.",
   "id": "5c532579347bb0f0"
  },
  {
   "metadata": {},
   "cell_type": "code",
   "execution_count": 56,
   "source": "print_outliers_for_df_column(X, 'functiondef__height')",
   "id": "137eaceca8201011",
   "outputs": []
  },
  {
   "metadata": {},
   "cell_type": "code",
   "execution_count": 58,
   "source": "X[X['functiondef__height'] > 8].describe(percentiles=[.25, .50, .75], include = ['object', 'float', 'bool', 'int'])",
   "id": "96fc0c10e72a2ca0",
   "outputs": []
  },
  {
   "metadata": {},
   "cell_type": "code",
   "execution_count": 59,
   "source": "X[X['functiondef__height'] == 2].describe(percentiles=[.25, .50, .75], include = ['object', 'float', 'bool', 'int'])",
   "id": "f782737d111f21d0",
   "outputs": []
  },
  {
   "metadata": {},
   "cell_type": "markdown",
   "source": "Hay muchisimas funciones con height == 2. Se debe a que un gran porcentaje de funciones son métodos de clases con height 1.",
   "id": "258f2b16849d2b3c"
  },
  {
   "metadata": {},
   "cell_type": "markdown",
   "source": [
    "### Variable expressions_pct (17/18)\n",
    "Esta variable representa la proporción de las sentencias en el root de la funcsion que son expresiones. Toma los valores de 0.0 - 1.0. La media es 0.22."
   ],
   "id": "70412366ce4ad548"
  },
  {
   "metadata": {},
   "cell_type": "code",
   "execution_count": 60,
   "source": "sns.displot(X['functiondef__expressions_pct'], bins=[i / 100 for i in range(0, 101)])",
   "id": "5697a151deb428f5",
   "outputs": []
  },
  {
   "metadata": {},
   "cell_type": "code",
   "execution_count": 61,
   "source": "print_outliers_for_df_column(X, 'functiondef__expressions_pct')",
   "id": "974a25c098a5aaaf",
   "outputs": []
  },
  {
   "metadata": {},
   "cell_type": "code",
   "execution_count": 62,
   "source": "X[X['functiondef__expressions_pct'] == 1].describe(percentiles=[.25, .50, .75], include = ['object', 'float', 'bool', 'int'])",
   "id": "7c6c4a31dfb628da",
   "outputs": []
  },
  {
   "metadata": {},
   "cell_type": "markdown",
   "source": [
    "### Variable type_annotations_pct (18/18)\n",
    "Esta variable representa la proporción de los parámetros que tienen anotación de tipo en la función (incluyendo el return). Este campo toma valores del 0.0 - 1.0. Su media es 0.23."
   ],
   "id": "8e6a2da3f25988d7"
  },
  {
   "metadata": {},
   "cell_type": "code",
   "execution_count": 63,
   "source": "sns.displot(X['functiondef__type_annotations_pct'], bins=[i / 100 for i in range(0, 101)])",
   "id": "dcd101a6068e3463",
   "outputs": []
  },
  {
   "metadata": {},
   "cell_type": "code",
   "execution_count": 64,
   "source": "print_outliers_for_df_column(X, 'functiondef__type_annotations_pct')",
   "id": "6390887da0387dd5",
   "outputs": []
  },
  {
   "metadata": {},
   "cell_type": "code",
   "execution_count": 65,
   "source": "X[X['functiondef__type_annotations_pct'] == 1].describe(percentiles=[.25, .50, .75], include = ['object', 'float', 'bool', 'int'])",
   "id": "a6a55a48f4ed3922",
   "outputs": []
  }
 ],
 "metadata": {
  "kernelspec": {
   "display_name": "Python 3",
   "language": "python",
   "name": "python3"
  },
  "language_info": {
   "codemirror_mode": {
    "name": "ipython",
    "version": 2
   },
   "file_extension": ".py",
   "mimetype": "text/x-python",
   "name": "python",
   "nbconvert_exporter": "python",
   "pygments_lexer": "ipython2",
   "version": "2.7.6"
  }
 },
 "nbformat": 4,
 "nbformat_minor": 5
}
