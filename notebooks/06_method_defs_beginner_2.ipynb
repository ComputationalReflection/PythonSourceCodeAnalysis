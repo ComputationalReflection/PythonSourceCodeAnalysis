{
 "cells": [
  {
   "metadata": {},
   "cell_type": "markdown",
   "source": [
    "# Method defs BEGINNER\n",
    "\n",
    "Esta tabla contiene la información de las funciones definidas dentro de una clase (métodos). Cada entrada en esta tabla tiene una entrada en la tabla functiondef con el resto de información.  --> ABEL COMPLETAR <--"
   ],
   "id": "148ae8871134f924"
  },
  {
   "metadata": {},
   "cell_type": "markdown",
   "source": "## 1 - Obtencion de datos",
   "id": "d3c24a719032807f"
  },
  {
   "metadata": {
    "ExecuteTime": {
     "end_time": "2024-05-23T09:05:00.952820Z",
     "start_time": "2024-05-23T09:04:58.465251Z"
    }
   },
   "cell_type": "code",
   "source": [
    "import matplotlib.pyplot as plt\n",
    "from notebooks_utils import *\n",
    "\n",
    "TARGET_FEATURE = 'methoddef__expertise_level'\n",
    "TARGET_CLASS = 'BEGINNER'\n",
    "full_table = get_data('methoddefs')\n",
    "\n",
    "instances_for_class_low = len(full_table[full_table[TARGET_FEATURE] == \"BEGINNER\"])\n",
    "instances_for_class_high = len(full_table[full_table[TARGET_FEATURE] == \"EXPERT\"])\n",
    "\n",
    "print(f\"The dataset contains {instances_for_class_low} ({instances_for_class_low/len(full_table)*100:.4}%) instances for BEGINNER class and {instances_for_class_high} ({instances_for_class_high/len(full_table)*100:.4}%) for EXPERT class.\")"
   ],
   "id": "9f0a949e91eb384b",
   "outputs": [
    {
     "name": "stdout",
     "output_type": "stream",
     "text": [
      "2024-05-23 11:04:59.994692 Loading data ...\n",
      "2024-05-23 11:05:00.907981 Data successfully load!!\n",
      "2024-05-23 11:05:00.907981 Creating data cache files ...\n",
      "2024-05-23 11:05:00.935532 Data cache files successfully created!!\n",
      "The dataset contains 35666 (38.63%) instances for BEGINNER class and 56658 (61.37%) for EXPERT class.\n"
     ]
    }
   ],
   "execution_count": 1
  },
  {
   "metadata": {
    "ExecuteTime": {
     "end_time": "2024-05-23T09:05:02.243501Z",
     "start_time": "2024-05-23T09:05:02.222670Z"
    }
   },
   "cell_type": "code",
   "source": [
    "full_table = full_table[full_table[TARGET_FEATURE] == TARGET_CLASS]\n",
    "\n",
    "# Table name, features and target.\n",
    "TABLE_NAME = 'methoddefs'\n",
    "TABLE_FEATURES = ['methoddef__is_class_method', 'methoddef__is_static_method', 'methoddef__is_constructor_method', 'methoddef__is_abstract_method', 'methoddef__is_property', 'methoddef__is_wrapper', 'methoddef__is_cached', 'methoddef__expertise_level', 'functiondef__name_convention', 'functiondef__number_of_characters', 'functiondef__is_magic', 'functiondef__is_private', 'functiondef__body_count', 'functiondef__expressions_pct', 'functiondef__is_async', 'functiondef__number_of_decorators', 'functiondef__has_return_type_annotation', 'functiondef__has_doc_string', 'functiondef__height', 'functiondef__type_annotations_pct']\n",
    "\n",
    "# Load features and target.\n",
    "X = full_table[TABLE_FEATURES]\n",
    "\n",
    "# Print information about the loaded table.\n",
    "print(f'Features shape: {X.shape}')\n",
    "\n",
    "print(f'As we can see the downloaded data contains a total of {X.shape[0]} instances. For each instance we have {X.shape[1]} attributes.')"
   ],
   "id": "37ba8ce2dc3e1dec",
   "outputs": [
    {
     "name": "stdout",
     "output_type": "stream",
     "text": [
      "Features shape: (35666, 20)\n",
      "As we can see the downloaded data contains a total of 35666 instances. For each instance we have 20 attributes.\n"
     ]
    }
   ],
   "execution_count": 2
  },
  {
   "metadata": {},
   "cell_type": "markdown",
   "source": [
    "## 2 - Exploracion de datos\n",
    "\n",
    "Una vez tenemos nuestra tabla en un dataframe el siguiente paso es explorarla para ver qué tipo de información contiene."
   ],
   "id": "bcda7cb784bf0a1"
  },
  {
   "metadata": {
    "ExecuteTime": {
     "end_time": "2024-05-23T09:05:07.079562Z",
     "start_time": "2024-05-23T09:05:07.067362Z"
    }
   },
   "cell_type": "code",
   "source": "print(X.info())",
   "id": "2eb3d09993235bcb",
   "outputs": [
    {
     "name": "stdout",
     "output_type": "stream",
     "text": [
      "<class 'pandas.core.frame.DataFrame'>\n",
      "Index: 35666 entries, 0 to 92323\n",
      "Data columns (total 20 columns):\n",
      " #   Column                                   Non-Null Count  Dtype  \n",
      "---  ------                                   --------------  -----  \n",
      " 0   methoddef__is_class_method               35666 non-null  bool   \n",
      " 1   methoddef__is_static_method              35666 non-null  bool   \n",
      " 2   methoddef__is_constructor_method         35666 non-null  bool   \n",
      " 3   methoddef__is_abstract_method            35666 non-null  bool   \n",
      " 4   methoddef__is_property                   35666 non-null  bool   \n",
      " 5   methoddef__is_wrapper                    35666 non-null  bool   \n",
      " 6   methoddef__is_cached                     35666 non-null  bool   \n",
      " 7   methoddef__expertise_level               35666 non-null  object \n",
      " 8   functiondef__name_convention             35666 non-null  object \n",
      " 9   functiondef__number_of_characters        35666 non-null  int64  \n",
      " 10  functiondef__is_magic                    35666 non-null  bool   \n",
      " 11  functiondef__is_private                  35666 non-null  bool   \n",
      " 12  functiondef__body_count                  35666 non-null  int64  \n",
      " 13  functiondef__expressions_pct             35666 non-null  float64\n",
      " 14  functiondef__is_async                    35666 non-null  bool   \n",
      " 15  functiondef__number_of_decorators        35666 non-null  int64  \n",
      " 16  functiondef__has_return_type_annotation  35666 non-null  bool   \n",
      " 17  functiondef__has_doc_string              35666 non-null  bool   \n",
      " 18  functiondef__height                      35666 non-null  int64  \n",
      " 19  functiondef__type_annotations_pct        35666 non-null  float64\n",
      "dtypes: bool(12), float64(2), int64(4), object(2)\n",
      "memory usage: 2.9+ MB\n",
      "None\n"
     ]
    }
   ],
   "execution_count": 3
  },
  {
   "metadata": {},
   "cell_type": "markdown",
   "source": "Cómo podemos ver la tabla está compuesta por 12 variables boleanas, 6 numéricas y 2 de tipo objeto.",
   "id": "24f7607501c2e574"
  },
  {
   "metadata": {},
   "cell_type": "markdown",
   "source": [
    "### 2.2 - Duplicados\n",
    "Miramos si la tabla tiene entradas duplicadas."
   ],
   "id": "3b9b55798c7ecbd5"
  },
  {
   "metadata": {
    "ExecuteTime": {
     "end_time": "2024-05-23T09:06:24.775506Z",
     "start_time": "2024-05-23T09:06:24.753147Z"
    }
   },
   "cell_type": "code",
   "source": [
    "number_of_duplicated_entries = sum(full_table.duplicated(subset=TABLE_FEATURES))\n",
    "duplicated_entries_pct = number_of_duplicated_entries / len(full_table) * 100\n",
    "print(f\"The dataset contains [{duplicated_entries_pct:.4}%] of duplicated entries.\")"
   ],
   "id": "ed5e6830bbf484a6",
   "outputs": [
    {
     "name": "stdout",
     "output_type": "stream",
     "text": [
      "The dataset contains [92.28%] of duplicated entries.\n"
     ]
    }
   ],
   "execution_count": 4
  },
  {
   "metadata": {},
   "cell_type": "markdown",
   "source": [
    "### 2.3 - Valores Nulos \n",
    "Miramos si alguna de las variables que contiene la tabla contiene algún valor que sea nulo."
   ],
   "id": "63d4e4ed1d8d2c6c"
  },
  {
   "metadata": {
    "ExecuteTime": {
     "end_time": "2024-05-23T09:06:36.811702Z",
     "start_time": "2024-05-23T09:06:36.799419Z"
    }
   },
   "cell_type": "code",
   "source": "X.isnull().sum()",
   "id": "6c991380e6e0413e",
   "outputs": [
    {
     "data": {
      "text/plain": [
       "methoddef__is_class_method                 0\n",
       "methoddef__is_static_method                0\n",
       "methoddef__is_constructor_method           0\n",
       "methoddef__is_abstract_method              0\n",
       "methoddef__is_property                     0\n",
       "methoddef__is_wrapper                      0\n",
       "methoddef__is_cached                       0\n",
       "methoddef__expertise_level                 0\n",
       "functiondef__name_convention               0\n",
       "functiondef__number_of_characters          0\n",
       "functiondef__is_magic                      0\n",
       "functiondef__is_private                    0\n",
       "functiondef__body_count                    0\n",
       "functiondef__expressions_pct               0\n",
       "functiondef__is_async                      0\n",
       "functiondef__number_of_decorators          0\n",
       "functiondef__has_return_type_annotation    0\n",
       "functiondef__has_doc_string                0\n",
       "functiondef__height                        0\n",
       "functiondef__type_annotations_pct          0\n",
       "dtype: int64"
      ]
     },
     "execution_count": 5,
     "metadata": {},
     "output_type": "execute_result"
    }
   ],
   "execution_count": 5
  },
  {
   "metadata": {
    "ExecuteTime": {
     "end_time": "2024-05-23T09:06:38.153810Z",
     "start_time": "2024-05-23T09:06:38.137817Z"
    }
   },
   "cell_type": "code",
   "source": "print_empty_cols(X)",
   "id": "18b2dfadf1719a4b",
   "outputs": [
    {
     "name": "stdout",
     "output_type": "stream",
     "text": [
      "methoddef__is_class_method\n",
      "--------------------------\n",
      "0 instancias no tienen un valor para la columna methoddef__is_class_method\n",
      "\n",
      "\n",
      "methoddef__is_static_method\n",
      "---------------------------\n",
      "0 instancias no tienen un valor para la columna methoddef__is_static_method\n",
      "\n",
      "\n",
      "methoddef__is_constructor_method\n",
      "--------------------------------\n",
      "0 instancias no tienen un valor para la columna methoddef__is_constructor_method\n",
      "\n",
      "\n",
      "methoddef__is_abstract_method\n",
      "-----------------------------\n",
      "0 instancias no tienen un valor para la columna methoddef__is_abstract_method\n",
      "\n",
      "\n",
      "methoddef__is_property\n",
      "----------------------\n",
      "0 instancias no tienen un valor para la columna methoddef__is_property\n",
      "\n",
      "\n",
      "methoddef__is_wrapper\n",
      "---------------------\n",
      "0 instancias no tienen un valor para la columna methoddef__is_wrapper\n",
      "\n",
      "\n",
      "methoddef__is_cached\n",
      "--------------------\n",
      "0 instancias no tienen un valor para la columna methoddef__is_cached\n",
      "\n",
      "\n",
      "methoddef__expertise_level\n",
      "--------------------------\n",
      "0 instancias no tienen un valor para la columna methoddef__expertise_level\n",
      "\n",
      "\n",
      "functiondef__name_convention\n",
      "----------------------------\n",
      "0 instancias no tienen un valor para la columna functiondef__name_convention\n",
      "\n",
      "\n",
      "functiondef__number_of_characters\n",
      "---------------------------------\n",
      "0 instancias no tienen un valor para la columna functiondef__number_of_characters\n",
      "\n",
      "\n",
      "functiondef__is_magic\n",
      "---------------------\n",
      "0 instancias no tienen un valor para la columna functiondef__is_magic\n",
      "\n",
      "\n",
      "functiondef__is_private\n",
      "-----------------------\n",
      "0 instancias no tienen un valor para la columna functiondef__is_private\n",
      "\n",
      "\n",
      "functiondef__body_count\n",
      "-----------------------\n",
      "0 instancias no tienen un valor para la columna functiondef__body_count\n",
      "\n",
      "\n",
      "functiondef__expressions_pct\n",
      "----------------------------\n",
      "0 instancias no tienen un valor para la columna functiondef__expressions_pct\n",
      "\n",
      "\n",
      "functiondef__is_async\n",
      "---------------------\n",
      "0 instancias no tienen un valor para la columna functiondef__is_async\n",
      "\n",
      "\n",
      "functiondef__number_of_decorators\n",
      "---------------------------------\n",
      "0 instancias no tienen un valor para la columna functiondef__number_of_decorators\n",
      "\n",
      "\n",
      "functiondef__has_return_type_annotation\n",
      "---------------------------------------\n",
      "0 instancias no tienen un valor para la columna functiondef__has_return_type_annotation\n",
      "\n",
      "\n",
      "functiondef__has_doc_string\n",
      "---------------------------\n",
      "0 instancias no tienen un valor para la columna functiondef__has_doc_string\n",
      "\n",
      "\n",
      "functiondef__height\n",
      "-------------------\n",
      "0 instancias no tienen un valor para la columna functiondef__height\n",
      "\n",
      "\n",
      "functiondef__type_annotations_pct\n",
      "---------------------------------\n",
      "0 instancias no tienen un valor para la columna functiondef__type_annotations_pct\n",
      "\n",
      "\n"
     ]
    }
   ],
   "execution_count": 6
  },
  {
   "metadata": {},
   "cell_type": "markdown",
   "source": "### 2.4 - Describimos los valores de las variables de la tabla.",
   "id": "5bb94c0f81c08024"
  },
  {
   "metadata": {
    "ExecuteTime": {
     "end_time": "2024-05-23T09:06:53.331133Z",
     "start_time": "2024-05-23T09:06:53.282044Z"
    }
   },
   "cell_type": "code",
   "source": "np.transpose(X.describe(percentiles=[.25, .50, .75], include = ['object', 'float', 'bool', 'int']))",
   "id": "74bba302a29fbfd5",
   "outputs": [
    {
     "data": {
      "text/plain": [
       "                                           count unique        top   freq  \\\n",
       "methoddef__is_class_method                 35666      2      False  34761   \n",
       "methoddef__is_static_method                35666      2      False  34978   \n",
       "methoddef__is_constructor_method           35666      2      False  31569   \n",
       "methoddef__is_abstract_method              35666      2      False  35615   \n",
       "methoddef__is_property                     35666      2      False  32814   \n",
       "methoddef__is_wrapper                      35666      1      False  35666   \n",
       "methoddef__is_cached                       35666      1      False  35666   \n",
       "methoddef__expertise_level                 35666      1   BEGINNER  35666   \n",
       "functiondef__name_convention               35666      6  SnakeCase  23681   \n",
       "functiondef__number_of_characters        35666.0    NaN        NaN    NaN   \n",
       "functiondef__is_magic                      35666      2      False  26135   \n",
       "functiondef__is_private                    35666      2      False  31019   \n",
       "functiondef__body_count                  35666.0    NaN        NaN    NaN   \n",
       "functiondef__expressions_pct             35666.0    NaN        NaN    NaN   \n",
       "functiondef__is_async                      35666      2      False  35654   \n",
       "functiondef__number_of_decorators        35666.0    NaN        NaN    NaN   \n",
       "functiondef__has_return_type_annotation    35666      2      False  28488   \n",
       "functiondef__has_doc_string                35666      2      False  24706   \n",
       "functiondef__height                      35666.0    NaN        NaN    NaN   \n",
       "functiondef__type_annotations_pct        35666.0    NaN        NaN    NaN   \n",
       "\n",
       "                                              mean       std  min  25%  50%  \\\n",
       "methoddef__is_class_method                     NaN       NaN  NaN  NaN  NaN   \n",
       "methoddef__is_static_method                    NaN       NaN  NaN  NaN  NaN   \n",
       "methoddef__is_constructor_method               NaN       NaN  NaN  NaN  NaN   \n",
       "methoddef__is_abstract_method                  NaN       NaN  NaN  NaN  NaN   \n",
       "methoddef__is_property                         NaN       NaN  NaN  NaN  NaN   \n",
       "methoddef__is_wrapper                          NaN       NaN  NaN  NaN  NaN   \n",
       "methoddef__is_cached                           NaN       NaN  NaN  NaN  NaN   \n",
       "methoddef__expertise_level                     NaN       NaN  NaN  NaN  NaN   \n",
       "functiondef__name_convention                   NaN       NaN  NaN  NaN  NaN   \n",
       "functiondef__number_of_characters        11.101245  5.606623  1.0  8.0  9.0   \n",
       "functiondef__is_magic                          NaN       NaN  NaN  NaN  NaN   \n",
       "functiondef__is_private                        NaN       NaN  NaN  NaN  NaN   \n",
       "functiondef__body_count                   3.369399  4.001886  1.0  1.0  2.0   \n",
       "functiondef__expressions_pct                0.2029  0.274156  0.0  0.0  0.0   \n",
       "functiondef__is_async                          NaN       NaN  NaN  NaN  NaN   \n",
       "functiondef__number_of_decorators         0.145377  0.357461  0.0  0.0  0.0   \n",
       "functiondef__has_return_type_annotation        NaN       NaN  NaN  NaN  NaN   \n",
       "functiondef__has_doc_string                    NaN       NaN  NaN  NaN  NaN   \n",
       "functiondef__height                       2.096535   0.34612  2.0  2.0  2.0   \n",
       "functiondef__type_annotations_pct         0.127021  0.258157  0.0  0.0  0.0   \n",
       "\n",
       "                                              75%    max  \n",
       "methoddef__is_class_method                    NaN    NaN  \n",
       "methoddef__is_static_method                   NaN    NaN  \n",
       "methoddef__is_constructor_method              NaN    NaN  \n",
       "methoddef__is_abstract_method                 NaN    NaN  \n",
       "methoddef__is_property                        NaN    NaN  \n",
       "methoddef__is_wrapper                         NaN    NaN  \n",
       "methoddef__is_cached                          NaN    NaN  \n",
       "methoddef__expertise_level                    NaN    NaN  \n",
       "functiondef__name_convention                  NaN    NaN  \n",
       "functiondef__number_of_characters            14.0   45.0  \n",
       "functiondef__is_magic                         NaN    NaN  \n",
       "functiondef__is_private                       NaN    NaN  \n",
       "functiondef__body_count                       4.0  150.0  \n",
       "functiondef__expressions_pct             0.333333    1.0  \n",
       "functiondef__is_async                         NaN    NaN  \n",
       "functiondef__number_of_decorators             0.0    2.0  \n",
       "functiondef__has_return_type_annotation       NaN    NaN  \n",
       "functiondef__has_doc_string                   NaN    NaN  \n",
       "functiondef__height                           2.0    4.0  \n",
       "functiondef__type_annotations_pct             0.0    1.0  "
      ],
      "text/html": [
       "<div>\n",
       "<style scoped>\n",
       "    .dataframe tbody tr th:only-of-type {\n",
       "        vertical-align: middle;\n",
       "    }\n",
       "\n",
       "    .dataframe tbody tr th {\n",
       "        vertical-align: top;\n",
       "    }\n",
       "\n",
       "    .dataframe thead th {\n",
       "        text-align: right;\n",
       "    }\n",
       "</style>\n",
       "<table border=\"1\" class=\"dataframe\">\n",
       "  <thead>\n",
       "    <tr style=\"text-align: right;\">\n",
       "      <th></th>\n",
       "      <th>count</th>\n",
       "      <th>unique</th>\n",
       "      <th>top</th>\n",
       "      <th>freq</th>\n",
       "      <th>mean</th>\n",
       "      <th>std</th>\n",
       "      <th>min</th>\n",
       "      <th>25%</th>\n",
       "      <th>50%</th>\n",
       "      <th>75%</th>\n",
       "      <th>max</th>\n",
       "    </tr>\n",
       "  </thead>\n",
       "  <tbody>\n",
       "    <tr>\n",
       "      <th>methoddef__is_class_method</th>\n",
       "      <td>35666</td>\n",
       "      <td>2</td>\n",
       "      <td>False</td>\n",
       "      <td>34761</td>\n",
       "      <td>NaN</td>\n",
       "      <td>NaN</td>\n",
       "      <td>NaN</td>\n",
       "      <td>NaN</td>\n",
       "      <td>NaN</td>\n",
       "      <td>NaN</td>\n",
       "      <td>NaN</td>\n",
       "    </tr>\n",
       "    <tr>\n",
       "      <th>methoddef__is_static_method</th>\n",
       "      <td>35666</td>\n",
       "      <td>2</td>\n",
       "      <td>False</td>\n",
       "      <td>34978</td>\n",
       "      <td>NaN</td>\n",
       "      <td>NaN</td>\n",
       "      <td>NaN</td>\n",
       "      <td>NaN</td>\n",
       "      <td>NaN</td>\n",
       "      <td>NaN</td>\n",
       "      <td>NaN</td>\n",
       "    </tr>\n",
       "    <tr>\n",
       "      <th>methoddef__is_constructor_method</th>\n",
       "      <td>35666</td>\n",
       "      <td>2</td>\n",
       "      <td>False</td>\n",
       "      <td>31569</td>\n",
       "      <td>NaN</td>\n",
       "      <td>NaN</td>\n",
       "      <td>NaN</td>\n",
       "      <td>NaN</td>\n",
       "      <td>NaN</td>\n",
       "      <td>NaN</td>\n",
       "      <td>NaN</td>\n",
       "    </tr>\n",
       "    <tr>\n",
       "      <th>methoddef__is_abstract_method</th>\n",
       "      <td>35666</td>\n",
       "      <td>2</td>\n",
       "      <td>False</td>\n",
       "      <td>35615</td>\n",
       "      <td>NaN</td>\n",
       "      <td>NaN</td>\n",
       "      <td>NaN</td>\n",
       "      <td>NaN</td>\n",
       "      <td>NaN</td>\n",
       "      <td>NaN</td>\n",
       "      <td>NaN</td>\n",
       "    </tr>\n",
       "    <tr>\n",
       "      <th>methoddef__is_property</th>\n",
       "      <td>35666</td>\n",
       "      <td>2</td>\n",
       "      <td>False</td>\n",
       "      <td>32814</td>\n",
       "      <td>NaN</td>\n",
       "      <td>NaN</td>\n",
       "      <td>NaN</td>\n",
       "      <td>NaN</td>\n",
       "      <td>NaN</td>\n",
       "      <td>NaN</td>\n",
       "      <td>NaN</td>\n",
       "    </tr>\n",
       "    <tr>\n",
       "      <th>methoddef__is_wrapper</th>\n",
       "      <td>35666</td>\n",
       "      <td>1</td>\n",
       "      <td>False</td>\n",
       "      <td>35666</td>\n",
       "      <td>NaN</td>\n",
       "      <td>NaN</td>\n",
       "      <td>NaN</td>\n",
       "      <td>NaN</td>\n",
       "      <td>NaN</td>\n",
       "      <td>NaN</td>\n",
       "      <td>NaN</td>\n",
       "    </tr>\n",
       "    <tr>\n",
       "      <th>methoddef__is_cached</th>\n",
       "      <td>35666</td>\n",
       "      <td>1</td>\n",
       "      <td>False</td>\n",
       "      <td>35666</td>\n",
       "      <td>NaN</td>\n",
       "      <td>NaN</td>\n",
       "      <td>NaN</td>\n",
       "      <td>NaN</td>\n",
       "      <td>NaN</td>\n",
       "      <td>NaN</td>\n",
       "      <td>NaN</td>\n",
       "    </tr>\n",
       "    <tr>\n",
       "      <th>methoddef__expertise_level</th>\n",
       "      <td>35666</td>\n",
       "      <td>1</td>\n",
       "      <td>BEGINNER</td>\n",
       "      <td>35666</td>\n",
       "      <td>NaN</td>\n",
       "      <td>NaN</td>\n",
       "      <td>NaN</td>\n",
       "      <td>NaN</td>\n",
       "      <td>NaN</td>\n",
       "      <td>NaN</td>\n",
       "      <td>NaN</td>\n",
       "    </tr>\n",
       "    <tr>\n",
       "      <th>functiondef__name_convention</th>\n",
       "      <td>35666</td>\n",
       "      <td>6</td>\n",
       "      <td>SnakeCase</td>\n",
       "      <td>23681</td>\n",
       "      <td>NaN</td>\n",
       "      <td>NaN</td>\n",
       "      <td>NaN</td>\n",
       "      <td>NaN</td>\n",
       "      <td>NaN</td>\n",
       "      <td>NaN</td>\n",
       "      <td>NaN</td>\n",
       "    </tr>\n",
       "    <tr>\n",
       "      <th>functiondef__number_of_characters</th>\n",
       "      <td>35666.0</td>\n",
       "      <td>NaN</td>\n",
       "      <td>NaN</td>\n",
       "      <td>NaN</td>\n",
       "      <td>11.101245</td>\n",
       "      <td>5.606623</td>\n",
       "      <td>1.0</td>\n",
       "      <td>8.0</td>\n",
       "      <td>9.0</td>\n",
       "      <td>14.0</td>\n",
       "      <td>45.0</td>\n",
       "    </tr>\n",
       "    <tr>\n",
       "      <th>functiondef__is_magic</th>\n",
       "      <td>35666</td>\n",
       "      <td>2</td>\n",
       "      <td>False</td>\n",
       "      <td>26135</td>\n",
       "      <td>NaN</td>\n",
       "      <td>NaN</td>\n",
       "      <td>NaN</td>\n",
       "      <td>NaN</td>\n",
       "      <td>NaN</td>\n",
       "      <td>NaN</td>\n",
       "      <td>NaN</td>\n",
       "    </tr>\n",
       "    <tr>\n",
       "      <th>functiondef__is_private</th>\n",
       "      <td>35666</td>\n",
       "      <td>2</td>\n",
       "      <td>False</td>\n",
       "      <td>31019</td>\n",
       "      <td>NaN</td>\n",
       "      <td>NaN</td>\n",
       "      <td>NaN</td>\n",
       "      <td>NaN</td>\n",
       "      <td>NaN</td>\n",
       "      <td>NaN</td>\n",
       "      <td>NaN</td>\n",
       "    </tr>\n",
       "    <tr>\n",
       "      <th>functiondef__body_count</th>\n",
       "      <td>35666.0</td>\n",
       "      <td>NaN</td>\n",
       "      <td>NaN</td>\n",
       "      <td>NaN</td>\n",
       "      <td>3.369399</td>\n",
       "      <td>4.001886</td>\n",
       "      <td>1.0</td>\n",
       "      <td>1.0</td>\n",
       "      <td>2.0</td>\n",
       "      <td>4.0</td>\n",
       "      <td>150.0</td>\n",
       "    </tr>\n",
       "    <tr>\n",
       "      <th>functiondef__expressions_pct</th>\n",
       "      <td>35666.0</td>\n",
       "      <td>NaN</td>\n",
       "      <td>NaN</td>\n",
       "      <td>NaN</td>\n",
       "      <td>0.2029</td>\n",
       "      <td>0.274156</td>\n",
       "      <td>0.0</td>\n",
       "      <td>0.0</td>\n",
       "      <td>0.0</td>\n",
       "      <td>0.333333</td>\n",
       "      <td>1.0</td>\n",
       "    </tr>\n",
       "    <tr>\n",
       "      <th>functiondef__is_async</th>\n",
       "      <td>35666</td>\n",
       "      <td>2</td>\n",
       "      <td>False</td>\n",
       "      <td>35654</td>\n",
       "      <td>NaN</td>\n",
       "      <td>NaN</td>\n",
       "      <td>NaN</td>\n",
       "      <td>NaN</td>\n",
       "      <td>NaN</td>\n",
       "      <td>NaN</td>\n",
       "      <td>NaN</td>\n",
       "    </tr>\n",
       "    <tr>\n",
       "      <th>functiondef__number_of_decorators</th>\n",
       "      <td>35666.0</td>\n",
       "      <td>NaN</td>\n",
       "      <td>NaN</td>\n",
       "      <td>NaN</td>\n",
       "      <td>0.145377</td>\n",
       "      <td>0.357461</td>\n",
       "      <td>0.0</td>\n",
       "      <td>0.0</td>\n",
       "      <td>0.0</td>\n",
       "      <td>0.0</td>\n",
       "      <td>2.0</td>\n",
       "    </tr>\n",
       "    <tr>\n",
       "      <th>functiondef__has_return_type_annotation</th>\n",
       "      <td>35666</td>\n",
       "      <td>2</td>\n",
       "      <td>False</td>\n",
       "      <td>28488</td>\n",
       "      <td>NaN</td>\n",
       "      <td>NaN</td>\n",
       "      <td>NaN</td>\n",
       "      <td>NaN</td>\n",
       "      <td>NaN</td>\n",
       "      <td>NaN</td>\n",
       "      <td>NaN</td>\n",
       "    </tr>\n",
       "    <tr>\n",
       "      <th>functiondef__has_doc_string</th>\n",
       "      <td>35666</td>\n",
       "      <td>2</td>\n",
       "      <td>False</td>\n",
       "      <td>24706</td>\n",
       "      <td>NaN</td>\n",
       "      <td>NaN</td>\n",
       "      <td>NaN</td>\n",
       "      <td>NaN</td>\n",
       "      <td>NaN</td>\n",
       "      <td>NaN</td>\n",
       "      <td>NaN</td>\n",
       "    </tr>\n",
       "    <tr>\n",
       "      <th>functiondef__height</th>\n",
       "      <td>35666.0</td>\n",
       "      <td>NaN</td>\n",
       "      <td>NaN</td>\n",
       "      <td>NaN</td>\n",
       "      <td>2.096535</td>\n",
       "      <td>0.34612</td>\n",
       "      <td>2.0</td>\n",
       "      <td>2.0</td>\n",
       "      <td>2.0</td>\n",
       "      <td>2.0</td>\n",
       "      <td>4.0</td>\n",
       "    </tr>\n",
       "    <tr>\n",
       "      <th>functiondef__type_annotations_pct</th>\n",
       "      <td>35666.0</td>\n",
       "      <td>NaN</td>\n",
       "      <td>NaN</td>\n",
       "      <td>NaN</td>\n",
       "      <td>0.127021</td>\n",
       "      <td>0.258157</td>\n",
       "      <td>0.0</td>\n",
       "      <td>0.0</td>\n",
       "      <td>0.0</td>\n",
       "      <td>0.0</td>\n",
       "      <td>1.0</td>\n",
       "    </tr>\n",
       "  </tbody>\n",
       "</table>\n",
       "</div>"
      ]
     },
     "execution_count": 7,
     "metadata": {},
     "output_type": "execute_result"
    }
   ],
   "execution_count": 7
  },
  {
   "metadata": {},
   "cell_type": "markdown",
   "source": "Vamos a discretizar las variables numericas, agrupando conjuntos de valores en categorias, para hacer un análisis de los datos. Para cada variable es necesario ver la distribucion de lo valores para hacer los bins (categorias).",
   "id": "9af3eb59b924a596"
  },
  {
   "metadata": {
    "ExecuteTime": {
     "end_time": "2024-05-23T09:06:57.849030Z",
     "start_time": "2024-05-23T09:06:57.606993Z"
    }
   },
   "cell_type": "code",
   "source": [
    "# DISCRETIZATION\n",
    "X_copy = X.copy()\n",
    "\n",
    "discretized_columns = {\n",
    "    \"functiondef__expressions_pct\": [(0.0, 0.0), (0.0, 0.5), (0.5, inf)], # min: 0 ; max: 1\n",
    "    \"functiondef__number_of_decorators\": [(0.0, 0.0), (0.0, inf)], # min: 0 ; max: 7\n",
    "    \"functiondef__type_annotations_pct\": [(0.0, 0.0), (0.0, 0.5), (0.5, inf)], # min: 0 ; max: 1\n",
    "    \"functiondef__number_of_characters\": [(1.0, 8.0), (8.0, 10), (10, 16), (16, inf)], # min: 1 ; max: 74\n",
    "    \"functiondef__body_count\": [(0.0, 1.0), (1.0, 2.0), (2.0, 2.0), (2.0, inf)], # min: 1 ; max: 364\n",
    "    \"functiondef__height\": [(0.0, 2.0), (2.0, inf)], # min: 2 ; max: 7\n",
    "}\n",
    "\n",
    "discretize_columns(X_copy, discretized_columns)\n",
    "    \n",
    "# SINGLE FEATURE\n",
    "print(\"--- SINGLE FEATURE ---\")\n",
    "print(get_statistics(X_copy, ['methoddef__is_class_method'], 10))\n",
    "print(get_statistics(X_copy, ['methoddef__is_static_method'], 10))\n",
    "print(get_statistics(X_copy, ['methoddef__is_constructor_method'], 10))\n",
    "print(get_statistics(X_copy, ['methoddef__is_abstract_method'], 10))\n",
    "print(get_statistics(X_copy, ['methoddef__is_property'], 10))\n",
    "print(get_statistics(X_copy, ['methoddef__is_wrapper'], 10))\n",
    "print(get_statistics(X_copy, ['methoddef__is_cached'], 10))\n",
    "print(get_statistics(X_copy, ['functiondef__expressions_pct'], 10))\n",
    "print(get_statistics(X_copy, ['functiondef__number_of_decorators'], 10))\n",
    "print(get_statistics(X_copy, ['functiondef__type_annotations_pct'], 10))\n",
    "print(get_statistics(X_copy, ['functiondef__number_of_characters'], 10))\n",
    "print(get_statistics(X_copy, ['functiondef__body_count'], 10))\n",
    "print(get_statistics(X_copy, ['functiondef__height'], 10))\n",
    "print(get_statistics(full_table, ['functiondef__name_convention'], 10))\n",
    "print(get_statistics(X_copy, ['functiondef__is_private'], 10))\n",
    "print(get_statistics(X_copy, ['functiondef__is_magic'], 10))\n",
    "print(get_statistics(X_copy, ['functiondef__is_async'], 10))\n",
    "print(get_statistics(X_copy, ['functiondef__has_return_type_annotation'], 10))\n",
    "print(get_statistics(X_copy, ['functiondef__has_doc_string'], 10))\n",
    "\n",
    "# 2 FEATURES\n",
    "print(\"--- TWO FEATURES ---\")\n",
    "#print(get_statistics(X_copy, ['functiondef__number_of_characters', 'functiondef__name_convention_SnakeCase'], 10))\n",
    "#print(get_statistics(X_copy, ['functiondef__number_of_characters', 'functiondef__name_convention_Lower'], 10))\n",
    "\n",
    "# 3 FEATURES\n",
    "print(\"--- THREE FEATURES ---\")\n",
    "#print(get_statistics(X_copy, ['module__class_defs_pct', 'module__function_defs_pct', 'module__enum_defs_pct'], 10))"
   ],
   "id": "6baf20dd3e3ca759",
   "outputs": [
    {
     "name": "stdout",
     "output_type": "stream",
     "text": [
      "--- SINGLE FEATURE ---\n",
      " methoddef__is_class_method  count  percentage\n",
      "                      False  34761   97.462569\n",
      "                       True    905    2.537431\n",
      "\n",
      " methoddef__is_static_method  count  percentage\n",
      "                       False  34978   98.070992\n",
      "                        True    688    1.929008\n",
      "\n",
      " methoddef__is_constructor_method  count  percentage\n",
      "                            False  31569   88.512869\n",
      "                             True   4097   11.487131\n",
      "\n",
      " methoddef__is_abstract_method  count  percentage\n",
      "                         False  35615   99.857007\n",
      "                          True     51    0.142993\n",
      "\n",
      " methoddef__is_property  count  percentage\n",
      "                  False  32814   92.003589\n",
      "                   True   2852    7.996411\n",
      "\n",
      " methoddef__is_wrapper  count  percentage\n",
      "                 False  35666       100.0\n",
      "\n",
      " methoddef__is_cached  count  percentage\n",
      "                False  35666       100.0\n",
      "\n",
      "functiondef__expressions_pct  count  percentage\n",
      "                   [0.0_0.0]  18546   51.999103\n",
      "                   [0.0_0.5)   9547   26.767790\n",
      "                   [0.5_inf]   7573   21.233107\n",
      "\n",
      "functiondef__number_of_decorators  count  percentage\n",
      "                        [0.0_0.0]  30544   85.638984\n",
      "                        [0.0_inf]   5122   14.361016\n",
      "\n",
      "functiondef__type_annotations_pct  count  percentage\n",
      "                        [0.0_0.0]  28437   79.731397\n",
      "                        [0.5_inf]   7229   20.268603\n",
      "\n",
      "functiondef__number_of_characters  count  percentage\n",
      "                          [10_16)  10434   29.254752\n",
      "                         [8.0_10)   9555   26.790220\n",
      "                        [1.0_8.0)   8598   24.106993\n",
      "                         [16_inf]   7079   19.848035\n",
      "\n",
      "functiondef__body_count  count  percentage\n",
      "              [2.0_inf]  16471   46.181237\n",
      "              [1.0_2.0)  11301   31.685639\n",
      "              [2.0_2.0]   7894   22.133124\n",
      "\n",
      "functiondef__height  count  percentage\n",
      "          [2.0_inf]  35666       100.0\n",
      "\n",
      "functiondef__name_convention  count  percentage\n",
      "                   SnakeCase  23681   66.396568\n",
      "                       Lower   7045   19.752706\n",
      "                    CamelLow   4378   12.274996\n",
      "            NoNameConvention    289    0.810296\n",
      "                     CamelUp    213    0.597207\n",
      "                       Upper     60    0.168227\n",
      "\n",
      " functiondef__is_private  count  percentage\n",
      "                   False  31019   86.970785\n",
      "                    True   4647   13.029215\n",
      "\n",
      " functiondef__is_magic  count  percentage\n",
      "                 False  26135   73.277071\n",
      "                  True   9531   26.722929\n",
      "\n",
      " functiondef__is_async  count  percentage\n",
      "                 False  35654   99.966355\n",
      "                  True     12    0.033645\n",
      "\n",
      " functiondef__has_return_type_annotation  count  percentage\n",
      "                                   False  28488    79.87439\n",
      "                                    True   7178    20.12561\n",
      "\n",
      " functiondef__has_doc_string  count  percentage\n",
      "                       False  24706   69.270454\n",
      "                        True  10960   30.729546\n",
      "\n",
      "--- TWO FEATURES ---\n",
      "--- THREE FEATURES ---\n"
     ]
    }
   ],
   "execution_count": 8
  },
  {
   "metadata": {
    "ExecuteTime": {
     "end_time": "2024-05-23T09:07:19.941370Z",
     "start_time": "2024-05-23T09:07:19.924370Z"
    }
   },
   "cell_type": "code",
   "source": [
    "def normalize_datatypes(X:pd.DataFrame) -> (pd.DataFrame, [str]):\n",
    "    X = pd.get_dummies(X)\n",
    "    X = X.astype('float32')        \n",
    "    columns_names = X.columns.tolist()\n",
    "    return X, columns_names\n",
    "\n",
    "X, TABLE_FEATURES = normalize_datatypes(X)\n",
    "# Print information about the loaded table\n",
    "print(f'Features shape: {X.shape}')"
   ],
   "id": "5084c89dcb377a92",
   "outputs": [
    {
     "name": "stdout",
     "output_type": "stream",
     "text": [
      "Features shape: (35666, 25)\n"
     ]
    }
   ],
   "execution_count": 9
  },
  {
   "metadata": {},
   "cell_type": "markdown",
   "source": "#### Muestra la matriz de correlación de pearson entre las variables de la tabla.",
   "id": "ed8befe21328a079"
  },
  {
   "metadata": {
    "ExecuteTime": {
     "end_time": "2024-05-23T09:07:29.642988Z",
     "start_time": "2024-05-23T09:07:29.058818Z"
    }
   },
   "cell_type": "code",
   "source": "sns.heatmap(X.corr(), annot=False)",
   "id": "dea960d18d682104",
   "outputs": [
    {
     "data": {
      "text/plain": [
       "<Axes: >"
      ]
     },
     "execution_count": 10,
     "metadata": {},
     "output_type": "execute_result"
    },
    {
     "data": {
      "text/plain": [
       "<Figure size 640x480 with 2 Axes>"
      ],
      "image/png": "[encoded data removed]"
     },
     "metadata": {},
     "output_type": "display_data"
    }
   ],
   "execution_count": 10
  },
  {
   "metadata": {},
   "cell_type": "markdown",
   "source": [
    "## 3 - Detección de valores atípicos (outliers)\n",
    "## Univariate\n",
    "## Analisis detallado de variables\n",
    "Para cada una de las 19 variable (12 booleanas, 4 numericas, 2 porcentuales y 1 categorica) se hara un analisis detallado"
   ],
   "id": "599c97eec7b7d283"
  },
  {
   "metadata": {},
   "cell_type": "markdown",
   "source": [
    "### Variable is_class_method (1/19)\n",
    "Esta variable es de tipo booleano y representa si el método es de clase."
   ],
   "id": "6abba739e46da213"
  },
  {
   "metadata": {},
   "cell_type": "code",
   "source": [
    "plt.xticks([0, 1], ['False', 'True'])\n",
    "sns.histplot(X['methoddef__is_class_method'], discrete=True)"
   ],
   "id": "4ab35b2ef94a3379",
   "outputs": [],
   "execution_count": null
  },
  {
   "metadata": {},
   "cell_type": "code",
   "source": [
    "num_true_values = len(X[X['methoddef__is_class_method'] == True])\n",
    "num_false_values = len(X[X['methoddef__is_class_method'] == False])\n",
    "std = X['methoddef__is_class_method'].std()\n",
    "freq_true = len(X[X['methoddef__is_class_method'] == True]) / len(X['methoddef__is_class_method'])\n",
    "freq_false = len(X[X['methoddef__is_class_method'] == False]) / len(X['methoddef__is_class_method'])\n",
    "print(f'La variable is_class_method contiene {num_true_values} valores verdaderos y {num_false_values} valores falsos. Y, la desviación típica es de {std}')\n",
    "print(f'La frecuencia con la que programa puede tener la variable is_class_method a True es {freq_true}.')\n",
    "print(f'La frecuencia con la que programa puede tener la variable is_class_method a False es {freq_false}.')"
   ],
   "id": "f4a042829ae6fac5",
   "outputs": [],
   "execution_count": null
  },
  {
   "metadata": {},
   "cell_type": "code",
   "source": [
    "possible_values = [True, False]\n",
    "print_frequency_anal_for_cat_var(X, 'methoddef__is_class_method', possible_values)"
   ],
   "id": "c614dd60d0ab8e5b",
   "outputs": [],
   "execution_count": null
  },
  {
   "metadata": {},
   "cell_type": "code",
   "source": "X[X['methoddef__is_class_method'] == True].describe(percentiles=[.25, .50, .75], include = ['object', 'float', 'bool', 'int'])",
   "id": "6c33bdd1420008cf",
   "outputs": [],
   "execution_count": null
  },
  {
   "metadata": {},
   "cell_type": "markdown",
   "source": [
    "### Variable is_static_method (2/19)\n",
    "Esta variable es de tipo booleano y representa si el método es estático."
   ],
   "id": "1fa4491178ba606c"
  },
  {
   "metadata": {},
   "cell_type": "code",
   "source": [
    "plt.xticks([0, 1], ['False', 'True'])\n",
    "sns.histplot(X['methoddef__is_static_method'], discrete=True)"
   ],
   "id": "529b7fd2ad00b058",
   "outputs": [],
   "execution_count": null
  },
  {
   "metadata": {},
   "cell_type": "code",
   "source": [
    "#ANALISIS DE DISTRIBUCIÓN DE DATOS\n",
    "num_true_values = len(X[X['methoddef__is_static_method'] == True])\n",
    "num_false_values = len(X[X['methoddef__is_static_method'] == False])\n",
    "std = X['methoddef__is_static_method'].std()\n",
    "freq_true = len(X[X['methoddef__is_static_method'] == True]) / len(X['methoddef__is_static_method'])\n",
    "freq_false = len(X[X['methoddef__is_static_method'] == False]) / len(X['methoddef__is_static_method'])\n",
    "print(f'La variable is_static_method contiene {num_true_values} valores verdaderos y {num_false_values} valores falsos. Y, la desviación típica es de {std}')\n",
    "print(f'La frecuencia con la que programa puede tener la variable is_static_method a True es {freq_true}.')\n",
    "print(f'La frecuencia con la que programa puede tener la variable is_static_method a False es {freq_false}.')"
   ],
   "id": "d1bed1e471481adc",
   "outputs": [],
   "execution_count": null
  },
  {
   "metadata": {},
   "cell_type": "code",
   "source": [
    "#PROBABILIDAD DE VALORES\n",
    "possible_values = [True, False]\n",
    "print_frequency_anal_for_cat_var(X, 'methoddef__is_static_method', possible_values)"
   ],
   "id": "c54b472864a47e88",
   "outputs": [],
   "execution_count": null
  },
  {
   "metadata": {},
   "cell_type": "code",
   "source": "X[X['methoddef__is_static_method'] == True].describe(percentiles=[.25, .50, .75], include = ['object', 'float', 'bool', 'int'])",
   "id": "4bd840561db5f69f",
   "outputs": [],
   "execution_count": null
  },
  {
   "metadata": {},
   "cell_type": "markdown",
   "source": [
    "### Variable is_constructor_method (3/19)\n",
    "Esta variable es booleana y representa si el método es un constructor (__ init __)."
   ],
   "id": "55e11303a6b9f7d6"
  },
  {
   "metadata": {},
   "cell_type": "code",
   "source": [
    "plt.xticks([0, 1], ['False', 'True'])\n",
    "sns.histplot(X['methoddef__is_constructor_method'], discrete=True)"
   ],
   "id": "3d54f29de8308c46",
   "outputs": [],
   "execution_count": null
  },
  {
   "metadata": {},
   "cell_type": "code",
   "source": [
    "#ANALISIS DE DISTRIBUCIÓN DE DATOS\n",
    "num_true_values = len(X[X['methoddef__is_constructor_method'] == True])\n",
    "num_false_values = len(X[X['methoddef__is_constructor_method'] == False])\n",
    "std = X['methoddef__is_constructor_method'].std()\n",
    "freq_true = len(X[X['methoddef__is_constructor_method'] == True]) / len(X['methoddef__is_constructor_method'])\n",
    "freq_false = len(X[X['methoddef__is_constructor_method'] == False]) / len(X['methoddef__is_constructor_method'])\n",
    "print(f'La variable is_constructor_method contiene {num_true_values} valores verdaderos y {num_false_values} valores falsos. Y, la desviación típica es de {std}')\n",
    "print(f'La frecuencia con la que programa puede tener la variable is_constructor_method a True es {freq_true}.')\n",
    "print(f'La frecuencia con la que programa puede tener la variable is_constructor_method a False es {freq_false}.')"
   ],
   "id": "2eb1b1c16de8cdd6",
   "outputs": [],
   "execution_count": null
  },
  {
   "metadata": {},
   "cell_type": "code",
   "source": [
    "#PROBABILIDAD DE VALORES\n",
    "possible_values = [True, False]\n",
    "print_frequency_anal_for_cat_var(X, 'methoddef__is_constructor_method', possible_values)"
   ],
   "id": "77d67e1a9229488c",
   "outputs": [],
   "execution_count": null
  },
  {
   "metadata": {},
   "cell_type": "code",
   "source": "X[X['methoddef__is_constructor_method'] == True].describe(percentiles=[.25, .50, .75], include = ['object', 'float', 'bool', 'int'])",
   "id": "4f8aa89df7929f1",
   "outputs": [],
   "execution_count": null
  },
  {
   "metadata": {},
   "cell_type": "markdown",
   "source": [
    "### Variable is_abstract_method (4/19)\n",
    "Esta variable es booleana y representa si el método es abstracto."
   ],
   "id": "18a8e13e56bc2bb5"
  },
  {
   "metadata": {},
   "cell_type": "code",
   "source": [
    "plt.xticks([0, 1], ['False', 'True'])\n",
    "sns.histplot(X['methoddef__is_abstract_method'], discrete=True)"
   ],
   "id": "5324fb5df46dfbbb",
   "outputs": [],
   "execution_count": null
  },
  {
   "metadata": {},
   "cell_type": "code",
   "source": [
    "#ANALISIS DE DISTRIBUCIÓN DE DATOS\n",
    "num_true_values = len(X[X['methoddef__is_abstract_method'] == True])\n",
    "num_false_values = len(X[X['methoddef__is_abstract_method'] == False])\n",
    "std = X['methoddef__is_abstract_method'].std()\n",
    "freq_true = len(X[X['methoddef__is_abstract_method'] == True]) / len(X['methoddef__is_abstract_method'])\n",
    "freq_false = len(X[X['methoddef__is_abstract_method'] == False]) / len(X['methoddef__is_abstract_method'])\n",
    "print(f'La variable is_abstract_method contiene {num_true_values} valores verdaderos y {num_false_values} valores falsos. Y, la desviación típica es de {std}')\n",
    "print(f'La frecuencia con la que programa puede tener la variable is_abstract_method a True es {freq_true}.')\n",
    "print(f'La frecuencia con la que programa puede tener la variable is_abstract_method a False es {freq_false}.')"
   ],
   "id": "3a3d461ef8ecb975",
   "outputs": [],
   "execution_count": null
  },
  {
   "metadata": {},
   "cell_type": "code",
   "source": [
    "#PROBABILIDAD DE VALORES\n",
    "possible_values = [True, False]\n",
    "print_frequency_anal_for_cat_var(X, 'methoddef__is_abstract_method', possible_values)"
   ],
   "id": "fe8e2a0b79c6c2e5",
   "outputs": [],
   "execution_count": null
  },
  {
   "metadata": {},
   "cell_type": "code",
   "source": "X[X['methoddef__is_abstract_method'] == True].describe(percentiles=[.25, .50, .75], include = ['object', 'float', 'bool', 'int'])",
   "id": "4322793c7ab4814a",
   "outputs": [],
   "execution_count": null
  },
  {
   "metadata": {},
   "cell_type": "markdown",
   "source": [
    "### Variable is_property (5/19)\n",
    "Esta variable es booleana y representa si el método es property."
   ],
   "id": "cfe40a4ef0be487d"
  },
  {
   "metadata": {},
   "cell_type": "code",
   "source": [
    "plt.xticks([0, 1], ['False', 'True'])\n",
    "sns.histplot(X['methoddef__is_property'], discrete=True)"
   ],
   "id": "5875416c9bb82405",
   "outputs": [],
   "execution_count": null
  },
  {
   "metadata": {},
   "cell_type": "code",
   "source": [
    "#ANALISIS DE DISTRIBUCIÓN DE DATOS\n",
    "num_true_values = len(X[X['methoddef__is_property'] == True])\n",
    "num_false_values = len(X[X['methoddef__is_property'] == False])\n",
    "std = X['methoddef__is_property'].std()\n",
    "freq_true = len(X[X['methoddef__is_property'] == True]) / len(X['methoddef__is_property'])\n",
    "freq_false = len(X[X['methoddef__is_property'] == False]) / len(X['methoddef__is_property'])\n",
    "print(f'La variable is_property contiene {num_true_values} valores verdaderos y {num_false_values} valores falsos. Y, la desviación típica es de {std}')\n",
    "print(f'La frecuencia con la que programa puede tener la variable is_property a True es {freq_true}.')\n",
    "print(f'La frecuencia con la que programa puede tener la variable is_property a False es {freq_false}.')"
   ],
   "id": "48f9d12a797e8432",
   "outputs": [],
   "execution_count": null
  },
  {
   "metadata": {},
   "cell_type": "code",
   "source": [
    "#PROBABILIDAD DE VALORES\n",
    "possible_values = [True, False]\n",
    "print_frequency_anal_for_cat_var(X, 'methoddef__is_property', possible_values)"
   ],
   "id": "c2fd515eea1c6602",
   "outputs": [],
   "execution_count": null
  },
  {
   "metadata": {},
   "cell_type": "code",
   "source": "X[X['methoddef__is_property'] == True].describe(percentiles=[.25, .50, .75], include = ['object', 'float', 'bool', 'int'])",
   "id": "b5ebd8faec1bd813",
   "outputs": [],
   "execution_count": null
  },
  {
   "metadata": {},
   "cell_type": "markdown",
   "source": [
    "### Variable is_wrapper (6/19)\n",
    "Esta variable es booleana y representa si el método es wrapper."
   ],
   "id": "6defcb3c847f9d12"
  },
  {
   "metadata": {},
   "cell_type": "code",
   "source": [
    "plt.xticks([0, 1], ['False', 'True'])\n",
    "sns.histplot(X['methoddef__is_wrapper'], discrete=True)"
   ],
   "id": "8592750b545b1fbf",
   "outputs": [],
   "execution_count": null
  },
  {
   "metadata": {},
   "cell_type": "code",
   "source": [
    "#ANALISIS DE DISTRIBUCIÓN DE DATOS\n",
    "num_true_values = len(X[X['methoddef__is_wrapper'] == True])\n",
    "num_false_values = len(X[X['methoddef__is_wrapper'] == False])\n",
    "std = X['methoddef__is_wrapper'].std()\n",
    "freq_true = len(X[X['methoddef__is_wrapper'] == True]) / len(X['methoddef__is_wrapper'])\n",
    "freq_false = len(X[X['methoddef__is_wrapper'] == False]) / len(X['methoddef__is_wrapper'])\n",
    "print(f'La variable is_wrapper contiene {num_true_values} valores verdaderos y {num_false_values} valores falsos. Y, la desviación típica es de {std}')\n",
    "print(f'La frecuencia con la que programa puede tener la variable is_wrapper a True es {freq_true}.')\n",
    "print(f'La frecuencia con la que programa puede tener la variable is_wrapper a False es {freq_false}.')"
   ],
   "id": "4a4f044db076cb5f",
   "outputs": [],
   "execution_count": null
  },
  {
   "metadata": {},
   "cell_type": "code",
   "source": [
    "#PROBABILIDAD DE VALORES\n",
    "possible_values = [True, False]\n",
    "print_frequency_anal_for_cat_var(X, 'methoddef__is_wrapper', possible_values)"
   ],
   "id": "a076e73a521fa73f",
   "outputs": [],
   "execution_count": null
  },
  {
   "metadata": {},
   "cell_type": "code",
   "source": "X[X['methoddef__is_wrapper'] == True].describe(percentiles=[.25, .50, .75], include = ['object', 'float', 'bool', 'int'])",
   "id": "aa6278678020f785",
   "outputs": [],
   "execution_count": null
  },
  {
   "metadata": {},
   "cell_type": "markdown",
   "source": [
    "### IMPORTANTE\n",
    "No hay ninguna función que sea wrapper."
   ],
   "id": "9a26e92751f6a391"
  },
  {
   "metadata": {},
   "cell_type": "markdown",
   "source": [
    "### Variable is_cached (7/19)\n",
    "Esta variable es booleana y representa si el método es cached."
   ],
   "id": "d33b192e2a5f0240"
  },
  {
   "metadata": {},
   "cell_type": "code",
   "source": [
    "plt.xticks([0, 1], ['False', 'True'])\n",
    "sns.histplot(X['methoddef__is_cached'], discrete=True)"
   ],
   "id": "bbf5fe6a0d94a17a",
   "outputs": [],
   "execution_count": null
  },
  {
   "metadata": {},
   "cell_type": "code",
   "source": [
    "#ANALISIS DE DISTRIBUCIÓN DE DATOS\n",
    "num_true_values = len(X[X['methoddef__is_cached'] == True])\n",
    "num_false_values = len(X[X['methoddef__is_cached'] == False])\n",
    "std = X['methoddef__is_cached'].std()\n",
    "freq_true = len(X[X['methoddef__is_cached'] == True]) / len(X['methoddef__is_cached'])\n",
    "freq_false = len(X[X['methoddef__is_cached'] == False]) / len(X['methoddef__is_cached'])\n",
    "print(f'La variable is_cached contiene {num_true_values} valores verdaderos y {num_false_values} valores falsos. Y, la desviación típica es de {std}')\n",
    "print(f'La frecuencia con la que programa puede tener la variable is_cached a True es {freq_true}.')\n",
    "print(f'La frecuencia con la que programa puede tener la variable is_cached a False es {freq_false}.')"
   ],
   "id": "af126375f622ce6c",
   "outputs": [],
   "execution_count": null
  },
  {
   "metadata": {},
   "cell_type": "code",
   "source": [
    "#PROBABILIDAD DE VALORES\n",
    "possible_values = [True, False]\n",
    "print_frequency_anal_for_cat_var(X, 'methoddef__is_cached', possible_values)"
   ],
   "id": "21e353b959beda0c",
   "outputs": [],
   "execution_count": null
  },
  {
   "metadata": {},
   "cell_type": "code",
   "source": "X[X['methoddef__is_cached'] == True].describe(percentiles=[.25, .50, .75], include = ['object', 'float', 'bool', 'int'])",
   "id": "1412f91d62130779",
   "outputs": [],
   "execution_count": null
  },
  {
   "metadata": {},
   "cell_type": "markdown",
   "source": [
    "### IMPORTANTE\n",
    "No hay ninguna función que sea cached."
   ],
   "id": "b9364acdd59bb623"
  },
  {
   "metadata": {},
   "cell_type": "markdown",
   "source": [
    "### Variable is_private (8/19)\n",
    "Esta variable es de tipo booleano y representa si la función es privada."
   ],
   "id": "8614054d28ed96f4"
  },
  {
   "metadata": {},
   "cell_type": "code",
   "source": [
    "plt.xticks([0, 1], ['False', 'True'])\n",
    "sns.histplot(X['functiondef__is_private'], discrete=True)"
   ],
   "id": "3be5ffe260d1480a",
   "outputs": [],
   "execution_count": null
  },
  {
   "metadata": {},
   "cell_type": "code",
   "source": [
    "num_true_values = len(X[X['functiondef__is_private'] == True])\n",
    "num_false_values = len(X[X['functiondef__is_private'] == False])\n",
    "std = X['functiondef__is_private'].std()\n",
    "freq_true = len(X[X['functiondef__is_private'] == True]) / len(X['functiondef__is_private'])\n",
    "freq_false = len(X[X['functiondef__is_private'] == False]) / len(X['functiondef__is_private'])\n",
    "print(f'La variable is_private contiene {num_true_values} valores verdaderos y {num_false_values} valores falsos. Y, la desviación típica es de {std}')\n",
    "print(f'La frecuencia con la que programa puede tener la variable is_private a True es {freq_true}.')\n",
    "print(f'La frecuencia con la que programa puede tener la variable is_private a False es {freq_false}.')"
   ],
   "id": "d06b057f7bb53f69",
   "outputs": [],
   "execution_count": null
  },
  {
   "metadata": {},
   "cell_type": "code",
   "source": [
    "possible_values = [True, False]\n",
    "print_frequency_anal_for_cat_var(X, 'functiondef__is_private', possible_values)"
   ],
   "id": "e6a45a16f309f434",
   "outputs": [],
   "execution_count": null
  },
  {
   "metadata": {},
   "cell_type": "code",
   "source": "X[X['functiondef__is_private'] == True].describe(percentiles=[.25, .50, .75], include = ['object', 'float', 'bool', 'int'])",
   "id": "9bcbed8871fc48b3",
   "outputs": [],
   "execution_count": null
  },
  {
   "metadata": {},
   "cell_type": "markdown",
   "source": [
    "### Variable is_magic (9/19)\n",
    "Esta variable es de tipo booleano y representa si la función es de la forma __\\w__."
   ],
   "id": "8983684450b54a0a"
  },
  {
   "metadata": {},
   "cell_type": "code",
   "source": [
    "plt.xticks([0, 1], ['False', 'True'])\n",
    "sns.histplot(X['functiondef__is_magic'], discrete=True)"
   ],
   "id": "4da92f57db86ec7f",
   "outputs": [],
   "execution_count": null
  },
  {
   "metadata": {},
   "cell_type": "code",
   "source": [
    "#ANALISIS DE DISTRIBUCIÓN DE DATOS\n",
    "num_true_values = len(X[X['functiondef__is_magic'] == True])\n",
    "num_false_values = len(X[X['functiondef__is_magic'] == False])\n",
    "std = X['functiondef__is_magic'].std()\n",
    "freq_true = len(X[X['functiondef__is_magic'] == True]) / len(X['functiondef__is_magic'])\n",
    "freq_false = len(X[X['functiondef__is_magic'] == False]) / len(X['functiondef__is_magic'])\n",
    "print(f'La variable is_magic contiene {num_true_values} valores verdaderos y {num_false_values} valores falsos. Y, la desviación típica es de {std}')\n",
    "print(f'La frecuencia con la que programa puede tener la variable is_magic a True es {freq_true}.')\n",
    "print(f'La frecuencia con la que programa puede tener la variable is_magic a False es {freq_false}.')"
   ],
   "id": "5387e3d7fb14d837",
   "outputs": [],
   "execution_count": null
  },
  {
   "metadata": {},
   "cell_type": "code",
   "source": [
    "#PROBABILIDAD DE VALORES\n",
    "possible_values = [True, False]\n",
    "print_frequency_anal_for_cat_var(X, 'functiondef__is_magic', possible_values)"
   ],
   "id": "d77ceecbd69c1fc9",
   "outputs": [],
   "execution_count": null
  },
  {
   "metadata": {},
   "cell_type": "code",
   "source": "X[X['functiondef__is_magic'] == True].describe(percentiles=[.25, .50, .75], include = ['object', 'float', 'bool', 'int'])",
   "id": "6530ae63cd2f0801",
   "outputs": [],
   "execution_count": null
  },
  {
   "metadata": {},
   "cell_type": "markdown",
   "source": [
    "### Variable is_async (10/19)\n",
    "Esta variable es booleana y representa si la función es asincrona."
   ],
   "id": "63d796520c050d4e"
  },
  {
   "metadata": {},
   "cell_type": "code",
   "source": [
    "plt.xticks([0, 1], ['False', 'True'])\n",
    "sns.histplot(X['functiondef__is_async'], discrete=True)"
   ],
   "id": "55881721a768d3cf",
   "outputs": [],
   "execution_count": null
  },
  {
   "metadata": {},
   "cell_type": "code",
   "source": [
    "#ANALISIS DE DISTRIBUCIÓN DE DATOS\n",
    "num_true_values = len(X[X['functiondef__is_async'] == True])\n",
    "num_false_values = len(X[X['functiondef__is_async'] == False])\n",
    "std = X['functiondef__is_async'].std()\n",
    "freq_true = len(X[X['functiondef__is_async'] == True]) / len(X['functiondef__is_async'])\n",
    "freq_false = len(X[X['functiondef__is_async'] == False]) / len(X['functiondef__is_async'])\n",
    "print(f'La variable is_async contiene {num_true_values} valores verdaderos y {num_false_values} valores falsos. Y, la desviación típica es de {std}')\n",
    "print(f'La frecuencia con la que programa puede tener la variable is_async a True es {freq_true}.')\n",
    "print(f'La frecuencia con la que programa puede tener la variable is_async a False es {freq_false}.')"
   ],
   "id": "e3a7fe5d9e04114f",
   "outputs": [],
   "execution_count": null
  },
  {
   "metadata": {},
   "cell_type": "code",
   "source": [
    "#PROBABILIDAD DE VALORES\n",
    "possible_values = [True, False]\n",
    "print_frequency_anal_for_cat_var(X, 'functiondef__is_async', possible_values)"
   ],
   "id": "276c3c366f4e4186",
   "outputs": [],
   "execution_count": null
  },
  {
   "metadata": {},
   "cell_type": "code",
   "source": "X[X['functiondef__is_async'] == True].describe(percentiles=[.25, .50, .75], include = ['object', 'float', 'bool', 'int'])",
   "id": "4688910fc570f5e8",
   "outputs": [],
   "execution_count": null
  },
  {
   "metadata": {},
   "cell_type": "markdown",
   "source": [
    "### Variable has_return_type_annotation (11/19)\n",
    "Esta variable es booleana y representa si la function tiene una anotacion del tipo de retorno."
   ],
   "id": "5e4a21e963845753"
  },
  {
   "metadata": {},
   "cell_type": "code",
   "source": [
    "plt.xticks([0, 1], ['False', 'True'])\n",
    "sns.histplot(X['functiondef__has_return_type_annotation'], discrete=True)"
   ],
   "id": "403c5938a1212743",
   "outputs": [],
   "execution_count": null
  },
  {
   "metadata": {},
   "cell_type": "code",
   "source": [
    "#ANALISIS DE DISTRIBUCIÓN DE DATOS\n",
    "num_true_values = len(X[X['functiondef__has_return_type_annotation'] == True])\n",
    "num_false_values = len(X[X['functiondef__has_return_type_annotation'] == False])\n",
    "std = X['functiondef__has_return_type_annotation'].std()\n",
    "freq_true = len(X[X['functiondef__has_return_type_annotation'] == True]) / len(X['functiondef__has_return_type_annotation'])\n",
    "freq_false = len(X[X['functiondef__has_return_type_annotation'] == False]) / len(X['functiondef__has_return_type_annotation'])\n",
    "print(f'La variable has_return_type_annotation contiene {num_true_values} valores verdaderos y {num_false_values} valores falsos. Y, la desviación típica es de {std}')\n",
    "print(f'La frecuencia con la que programa puede tener la variable has_return_type_annotation a True es {freq_true}.')\n",
    "print(f'La frecuencia con la que programa puede tener la variable has_return_type_annotation a False es {freq_false}.')"
   ],
   "id": "418056e545e69813",
   "outputs": [],
   "execution_count": null
  },
  {
   "metadata": {},
   "cell_type": "code",
   "source": [
    "#PROBABILIDAD DE VALORES\n",
    "possible_values = [True, False]\n",
    "print_frequency_anal_for_cat_var(X, 'functiondef__has_return_type_annotation', possible_values)"
   ],
   "id": "994bb1ac2add4c29",
   "outputs": [],
   "execution_count": null
  },
  {
   "metadata": {},
   "cell_type": "code",
   "source": "X[X['functiondef__has_return_type_annotation'] == True].describe(percentiles=[.25, .50, .75], include = ['object', 'float', 'bool', 'int'])",
   "id": "af296afab5ad720",
   "outputs": [],
   "execution_count": null
  },
  {
   "metadata": {},
   "cell_type": "markdown",
   "source": [
    "### Variable has_doc_string (12/19)\n",
    "Esta variable es booleana y representa si la function comienza por un String plano a modo de comentario."
   ],
   "id": "99b05ea5dbfa101b"
  },
  {
   "metadata": {},
   "cell_type": "code",
   "source": [
    "plt.xticks([0, 1], ['False', 'True'])\n",
    "sns.histplot(X['functiondef__has_doc_string'], discrete=True)"
   ],
   "id": "2fe75675e7af9a1",
   "outputs": [],
   "execution_count": null
  },
  {
   "metadata": {},
   "cell_type": "code",
   "source": [
    "#ANALISIS DE DISTRIBUCIÓN DE DATOS\n",
    "num_true_values = len(X[X['functiondef__has_doc_string'] == True])\n",
    "num_false_values = len(X[X['functiondef__has_doc_string'] == False])\n",
    "std = X['functiondef__has_doc_string'].std()\n",
    "freq_true = len(X[X['functiondef__has_doc_string'] == True]) / len(X['functiondef__has_doc_string'])\n",
    "freq_false = len(X[X['functiondef__has_doc_string'] == False]) / len(X['functiondef__has_doc_string'])\n",
    "print(f'La variable has_doc_string contiene {num_true_values} valores verdaderos y {num_false_values} valores falsos. Y, la desviación típica es de {std}')\n",
    "print(f'La frecuencia con la que programa puede tener la variable has_doc_string a True es {freq_true}.')\n",
    "print(f'La frecuencia con la que programa puede tener la variable has_doc_string a False es {freq_false}.')"
   ],
   "id": "ecc71c1a95bd69ee",
   "outputs": [],
   "execution_count": null
  },
  {
   "metadata": {},
   "cell_type": "code",
   "source": [
    "#PROBABILIDAD DE VALORES\n",
    "possible_values = [True, False]\n",
    "print_frequency_anal_for_cat_var(X, 'functiondef__has_doc_string', possible_values)"
   ],
   "id": "5cd1da5a00498c5e",
   "outputs": [],
   "execution_count": null
  },
  {
   "metadata": {},
   "cell_type": "code",
   "source": "X[X['functiondef__has_doc_string'] == True].describe(percentiles=[.25, .50, .75], include = ['object', 'float', 'bool', 'int'])",
   "id": "6bb0aa670a4c1b95",
   "outputs": [],
   "execution_count": null
  },
  {
   "metadata": {},
   "cell_type": "markdown",
   "source": [
    "### Variable number_of_characters (13/19)\n",
    "Esta variable representa el número de caracteres que tiene el nombre de la funcion. Como vimos en la descripción de la tabla esta varibale adopta valores en el rango 1 - 74. Con una media de 12.40."
   ],
   "id": "bc7a13c89bd5739b"
  },
  {
   "metadata": {},
   "cell_type": "code",
   "source": "sns.stripplot(X['functiondef__number_of_characters'])",
   "id": "eb4f57e693a9bcee",
   "outputs": [],
   "execution_count": null
  },
  {
   "metadata": {},
   "cell_type": "code",
   "source": "print_outliers_for_df_column(X, 'functiondef__number_of_characters')",
   "id": "2a8c634ee2991656",
   "outputs": [],
   "execution_count": null
  },
  {
   "metadata": {},
   "cell_type": "markdown",
   "source": "Describimos los valores de las variables de la tabla, cuando el valor de la variable es mayor que 40.0 (Con un MC de 65 usamos Tuckey Extremo)",
   "id": "306de98cf825b14f"
  },
  {
   "metadata": {},
   "cell_type": "code",
   "source": "X[X['functiondef__number_of_characters'] > 40].describe(percentiles=[.25, .50, .75], include = ['object', 'float', 'bool', 'int'])",
   "id": "38c376211caabb81",
   "outputs": [],
   "execution_count": null
  },
  {
   "metadata": {},
   "cell_type": "markdown",
   "source": [
    "### Variable body_count (14/19)\n",
    "Esta variable representa el número de sentencias en el root de la función. Como vimos en la descripción de la tabla esta varibale adopta valores en el rango 1 - 364. Con una media de 3,74."
   ],
   "id": "abc84bacf4769ff9"
  },
  {
   "metadata": {},
   "cell_type": "code",
   "source": "sns.stripplot(X['functiondef__body_count'])",
   "id": "c6c12d4bcb620e3a",
   "outputs": [],
   "execution_count": null
  },
  {
   "metadata": {},
   "cell_type": "markdown",
   "source": [
    "### IMPORTANTE\n",
    "El valor máximo está muy alejado del siguiente."
   ],
   "id": "17aef26a6df8992e"
  },
  {
   "metadata": {},
   "cell_type": "code",
   "source": "print_outliers_for_df_column(X, 'functiondef__body_count')",
   "id": "9f627c754b3e35b4",
   "outputs": [],
   "execution_count": null
  },
  {
   "metadata": {},
   "cell_type": "markdown",
   "source": "Describimos los valores de las variables de la tabla, cuando el valor de la variable es mayor que 76.1 (Con un MC de 0.61 usamos U)",
   "id": "44c0673a7032f00"
  },
  {
   "metadata": {},
   "cell_type": "code",
   "source": "X[X['functiondef__body_count'] > 76.1].describe(percentiles=[.25, .50, .75], include = ['object', 'float', 'bool', 'int'])",
   "id": "4411f05642992f4",
   "outputs": [],
   "execution_count": null
  },
  {
   "metadata": {},
   "cell_type": "markdown",
   "source": [
    "### Variable number_of_decorators (15/19)\n",
    "Esta variable representa el número de decoradores de la funcion. Como vimos en la descripción de la tabla esta varibale adopta valores en el rango 0 - 7. Con una media de 0.19."
   ],
   "id": "9a9bb365bf3b4205"
  },
  {
   "metadata": {},
   "cell_type": "code",
   "source": "sns.stripplot(X['functiondef__number_of_decorators'])",
   "id": "f83f4f443f8969ef",
   "outputs": [],
   "execution_count": null
  },
  {
   "metadata": {},
   "cell_type": "code",
   "source": "print_outliers_for_df_column(X, 'functiondef__number_of_decorators')",
   "id": "af6838f0f95e751c",
   "outputs": [],
   "execution_count": null
  },
  {
   "metadata": {},
   "cell_type": "markdown",
   "source": "Describimos los valores de las variables de la tabla, cuando el valor de la variable es mayor que 0 (Todos los umbrales son 0)",
   "id": "eb66f56fa246c4ef"
  },
  {
   "metadata": {},
   "cell_type": "code",
   "source": "X[X['functiondef__number_of_decorators'] > 0].describe(percentiles=[.25, .50, .75], include = ['object', 'float', 'bool', 'int'])",
   "id": "2c39e9585233d271",
   "outputs": [],
   "execution_count": null
  },
  {
   "metadata": {},
   "cell_type": "markdown",
   "source": [
    "### Variable height (16/19)\n",
    "Esta variable representa la distancia desde la función hasta el root del módulo (fichero). Como vimos en la descripción de la tabla esta varibale adopta valores en el rango 1 - 7. Con una media de 2.08."
   ],
   "id": "aa57b25973dae3c2"
  },
  {
   "metadata": {},
   "cell_type": "code",
   "source": "sns.stripplot(X['functiondef__height'])",
   "id": "97a8dbb5a8f758b",
   "outputs": [],
   "execution_count": null
  },
  {
   "metadata": {},
   "cell_type": "code",
   "source": "print_outliers_for_df_column(X, 'functiondef__height')",
   "id": "137eaceca8201011",
   "outputs": [],
   "execution_count": null
  },
  {
   "metadata": {},
   "cell_type": "markdown",
   "source": "Describimos los valores de las variables de la tabla, cuando el valor de la variable es mayor que 2 (Todos los umbrales son 2)",
   "id": "f9f4729b96f96828"
  },
  {
   "metadata": {},
   "cell_type": "code",
   "source": "X[X['functiondef__height'] > 2].describe(percentiles=[.25, .50, .75], include = ['object', 'float', 'bool', 'int'])",
   "id": "96fc0c10e72a2ca0",
   "outputs": [],
   "execution_count": null
  },
  {
   "metadata": {},
   "cell_type": "markdown",
   "source": [
    "### Variable expressions_pct (17/19)\n",
    "Esta variable representa la proporción de las sentencias en el root de la funcsion que son expresiones. Toma los valores de 0.0 - 1.0. La media es 0.22."
   ],
   "id": "70412366ce4ad548"
  },
  {
   "metadata": {},
   "cell_type": "code",
   "source": "sns.displot(X['functiondef__expressions_pct'], bins=[i / 100 for i in range(0, 101)])",
   "id": "5697a151deb428f5",
   "outputs": [],
   "execution_count": null
  },
  {
   "metadata": {},
   "cell_type": "code",
   "source": "print_outliers_for_df_column(X, 'functiondef__expressions_pct')",
   "id": "974a25c098a5aaaf",
   "outputs": [],
   "execution_count": null
  },
  {
   "metadata": {},
   "cell_type": "code",
   "source": "X[X['functiondef__expressions_pct'] > 0].describe(percentiles=[.25, .50, .75], include = ['object', 'float', 'bool', 'int'])",
   "id": "7c6c4a31dfb628da",
   "outputs": [],
   "execution_count": null
  },
  {
   "metadata": {},
   "cell_type": "markdown",
   "source": [
    "### Importante\n",
    "El 49% de las funciones no tienen expresiones."
   ],
   "id": "4ccd252980919a7b"
  },
  {
   "metadata": {},
   "cell_type": "markdown",
   "source": [
    "### Variable type_annotations_pct (18/19)\n",
    "Esta variable representa la proporción de los parámetros que tienen anotación de tipo en la función (incluyendo el return). Este campo toma valores del 0.0 - 1.0. Su media es 0.22."
   ],
   "id": "8e6a2da3f25988d7"
  },
  {
   "metadata": {},
   "cell_type": "code",
   "source": "sns.displot(X['functiondef__type_annotations_pct'], bins=[i / 100 for i in range(0, 101)])",
   "id": "dcd101a6068e3463",
   "outputs": [],
   "execution_count": null
  },
  {
   "metadata": {},
   "cell_type": "code",
   "source": "print_outliers_for_df_column(X, 'functiondef__type_annotations_pct')",
   "id": "6390887da0387dd5",
   "outputs": [],
   "execution_count": null
  },
  {
   "metadata": {},
   "cell_type": "code",
   "source": "X[X['functiondef__type_annotations_pct'] > 0].describe(percentiles=[.25, .50, .75], include = ['object', 'float', 'bool', 'int'])",
   "id": "a6a55a48f4ed3922",
   "outputs": [],
   "execution_count": null
  },
  {
   "metadata": {},
   "cell_type": "markdown",
   "source": [
    "### Importante\n",
    "El 65% de las funciones no tienen anotaciones de tipo."
   ],
   "id": "fe98c198a26ed53"
  },
  {
   "metadata": {},
   "cell_type": "markdown",
   "source": [
    "### Variable name_convention (19/19)\n",
    "Esta variable es de tipo categórica y representa la name_convention del nombre del método."
   ],
   "id": "b4d5a90037709b47"
  },
  {
   "metadata": {},
   "cell_type": "code",
   "source": "sns.catplot(full_table['functiondef__name_convention'], kind=\"count\")",
   "id": "82fffeb6122b49fe",
   "outputs": [],
   "execution_count": null
  },
  {
   "metadata": {},
   "cell_type": "code",
   "source": "print_frequency_anal_for_cat_var(full_table, 'functiondef__name_convention')",
   "id": "6e15fccab9f0a6b7",
   "outputs": [],
   "execution_count": null
  },
  {
   "metadata": {},
   "cell_type": "markdown",
   "source": [
    "### IMPORTANTE\n",
    "Dicard es outlier"
   ],
   "id": "8d0621512aa62769"
  },
  {
   "metadata": {},
   "cell_type": "markdown",
   "source": [
    "## Multivariate\n",
    "\n",
    "TODO: isolation forest algorithm"
   ],
   "id": "f4e2b930f395e77a"
  },
  {
   "metadata": {},
   "cell_type": "code",
   "source": [
    "from sklearn.ensemble import  IsolationForest\n",
    "\n",
    "CONTAMINATION_FACTOR = 0.0012\n",
    "isof_model = IsolationForest(contamination=CONTAMINATION_FACTOR, random_state=0)\n",
    "isof_prediction = isof_model.fit_predict(X.values)\n",
    "mask = isof_prediction == -1\n",
    "full_table.loc[X.index[mask]]"
   ],
   "id": "263c6195b094ad3f",
   "outputs": [],
   "execution_count": null
  },
  {
   "metadata": {},
   "cell_type": "markdown",
   "source": [
    "### IMPORTANTE\n",
    "Hay que analizar los 111 los outliers de la tabla."
   ],
   "id": "65b149b4fec600af"
  }
 ],
 "metadata": {
  "kernelspec": {
   "display_name": "Python 3",
   "language": "python",
   "name": "python3"
  },
  "language_info": {
   "codemirror_mode": {
    "name": "ipython",
    "version": 2
   },
   "file_extension": ".py",
   "mimetype": "text/x-python",
   "name": "python",
   "nbconvert_exporter": "python",
   "pygments_lexer": "ipython2",
   "version": "2.7.6"
  }
 },
 "nbformat": 4,
 "nbformat_minor": 5
}
