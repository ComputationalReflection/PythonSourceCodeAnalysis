{
 "cells": [
  {
   "cell_type": "markdown",
   "id": "ea78b212-ff32-40d1-92e1-9e09d847ae78",
   "metadata": {
    "pycharm": {
     "name": "#%% md\n"
    }
   },
   "source": [
    "# Handlers BEGINNER\n",
    "\n",
    "Esta tabla contiene la información adicional de las sentencias Try/TryStar. --> ABEL COMPLETAR <--"
   ]
  },
  {
   "cell_type": "markdown",
   "id": "b862cb2f-c1e0-4074-92c0-004dea379079",
   "metadata": {
    "pycharm": {
     "name": "#%% md\n"
    }
   },
   "source": [
    "## 1 - Obtencion de datos"
   ]
  },
  {
   "cell_type": "code",
   "id": "63793d9c-9473-44fa-bb1d-8e4b32fa1457",
   "metadata": {
    "pycharm": {
     "name": "#%%\n"
    },
    "tags": [],
    "ExecuteTime": {
     "end_time": "2024-05-28T11:12:39.243688Z",
     "start_time": "2024-05-28T11:12:37.584378Z"
    }
   },
   "source": [
    "import matplotlib.pyplot as plt\n",
    "from notebooks_utils import *\n",
    "\n",
    "TARGET_FEATURE = 'handler__expertise_level'\n",
    "TARGET_CLASS = 'BEGINNER'\n",
    "full_table = get_data('handlers')\n",
    "\n",
    "instances_for_class_low = len(full_table[full_table[TARGET_FEATURE] == \"BEGINNER\"])\n",
    "instances_for_class_high = len(full_table[full_table[TARGET_FEATURE] == \"EXPERT\"])\n",
    "\n",
    "print(f\"The dataset contains {instances_for_class_low} ({instances_for_class_low/len(full_table)*100:.4}%) instances for BEGINNER class and {instances_for_class_high} ({instances_for_class_high/len(full_table)*100:.4}%) for EXPERT class.\")"
   ],
   "outputs": [
    {
     "name": "stdout",
     "output_type": "stream",
     "text": [
      "2024-05-28 13:12:39.236987 Data cache files found ...\n",
      "2024-05-28 13:12:39.238986 Data cache files successfully loaded!!\n",
      "The dataset contains 8953 (56.82%) instances for BEGINNER class and 6803 (43.18%) for EXPERT class.\n"
     ]
    }
   ],
   "execution_count": 1
  },
  {
   "metadata": {
    "ExecuteTime": {
     "end_time": "2024-05-28T11:12:39.253605Z",
     "start_time": "2024-05-28T11:12:39.244696Z"
    }
   },
   "cell_type": "code",
   "source": [
    "full_table = full_table[full_table[TARGET_FEATURE] == TARGET_CLASS]\n",
    "\n",
    "# Table name, features and target.\n",
    "TABLE_NAME = 'handlers'\n",
    "TABLE_FEATURES = ['handler__number_of_handlers', 'handler__has_star', 'handler__has_finally', 'handler__has_catch_all', 'handler__average_body_count', 'handler__expertise_level']\n",
    "\n",
    "# Load features and target.\n",
    "X = full_table[TABLE_FEATURES]\n",
    "\n",
    "# Print information about the loaded table.\n",
    "print(f'Features shape: {X.shape}')\n",
    "\n",
    "print(f'As we can see the downloaded data contains a total of {X.shape[0]} instances. For each instance we have {X.shape[1]} attributes.')"
   ],
   "id": "4137be82c9b662fe",
   "outputs": [
    {
     "name": "stdout",
     "output_type": "stream",
     "text": [
      "Features shape: (8953, 6)\n",
      "As we can see the downloaded data contains a total of 8953 instances. For each instance we have 6 attributes.\n"
     ]
    }
   ],
   "execution_count": 2
  },
  {
   "cell_type": "markdown",
   "id": "3ff70454-366f-4231-831d-723eeb63576b",
   "metadata": {},
   "source": [
    "## 2 - Exploracion de datos\n",
    "\n",
    "Una vez tenemos nuestra tabla en un dataframe el siguiente paso es explorarla para ver qué tipo de información contiene."
   ]
  },
  {
   "cell_type": "code",
   "id": "9b526577-537d-44b0-951b-168278ce7a5c",
   "metadata": {
    "ExecuteTime": {
     "end_time": "2024-05-28T11:12:39.263273Z",
     "start_time": "2024-05-28T11:12:39.254610Z"
    }
   },
   "source": "print(X.info())",
   "outputs": [
    {
     "name": "stdout",
     "output_type": "stream",
     "text": [
      "<class 'pandas.core.frame.DataFrame'>\n",
      "Index: 8953 entries, 0 to 8952\n",
      "Data columns (total 6 columns):\n",
      " #   Column                       Non-Null Count  Dtype  \n",
      "---  ------                       --------------  -----  \n",
      " 0   handler__number_of_handlers  8953 non-null   int64  \n",
      " 1   handler__has_star            8953 non-null   bool   \n",
      " 2   handler__has_finally         8953 non-null   bool   \n",
      " 3   handler__has_catch_all       8953 non-null   bool   \n",
      " 4   handler__average_body_count  8953 non-null   float64\n",
      " 5   handler__expertise_level     8953 non-null   object \n",
      "dtypes: bool(3), float64(1), int64(1), object(1)\n",
      "memory usage: 306.0+ KB\n",
      "None\n"
     ]
    }
   ],
   "execution_count": 3
  },
  {
   "cell_type": "markdown",
   "id": "cbf77cd4-9819-4da1-9405-44054d2290e1",
   "metadata": {},
   "source": "Cómo podemos ver la tabla está compuesta por 2 variables numéricas, 3 de tipo boleano  y una de tipo objeto."
  },
  {
   "cell_type": "markdown",
   "id": "7f619a1e-3b8b-4929-b41c-8edef4cc2d6a",
   "metadata": {},
   "source": [
    "### 2.2 - Duplicados\n",
    "Miramos si la tabla tiene entradas duplicadas."
   ]
  },
  {
   "cell_type": "code",
   "id": "ba8d29f2-8771-4e1f-8ecb-31bb827bf988",
   "metadata": {
    "ExecuteTime": {
     "end_time": "2024-05-28T11:12:39.270650Z",
     "start_time": "2024-05-28T11:12:39.264279Z"
    }
   },
   "source": [
    "number_of_duplicated_entries = sum(full_table.duplicated(subset=TABLE_FEATURES))\n",
    "duplicated_entries_pct = number_of_duplicated_entries / len(full_table) * 100\n",
    "print(f\"The dataset contains [{duplicated_entries_pct:.4}%] of duplicated entries.\")"
   ],
   "outputs": [
    {
     "name": "stdout",
     "output_type": "stream",
     "text": [
      "The dataset contains [99.59%] of duplicated entries.\n"
     ]
    }
   ],
   "execution_count": 4
  },
  {
   "cell_type": "markdown",
   "id": "31d297c18f157194",
   "metadata": {
    "collapsed": false
   },
   "source": [
    "### 2.3 - Valores Nulos \n",
    "Miramos si alguna de las variables que contiene la tabla contiene algún valor que sea nulo."
   ]
  },
  {
   "cell_type": "code",
   "id": "afeed2ce9080cbbb",
   "metadata": {
    "collapsed": false,
    "ExecuteTime": {
     "end_time": "2024-05-28T11:12:39.291699Z",
     "start_time": "2024-05-28T11:12:39.272656Z"
    }
   },
   "source": [
    "X.isnull().sum()"
   ],
   "outputs": [
    {
     "data": {
      "text/plain": [
       "handler__number_of_handlers    0\n",
       "handler__has_star              0\n",
       "handler__has_finally           0\n",
       "handler__has_catch_all         0\n",
       "handler__average_body_count    0\n",
       "handler__expertise_level       0\n",
       "dtype: int64"
      ]
     },
     "execution_count": 5,
     "metadata": {},
     "output_type": "execute_result"
    }
   ],
   "execution_count": 5
  },
  {
   "cell_type": "markdown",
   "id": "1a8e02c0c52edff9",
   "metadata": {
    "collapsed": false
   },
   "source": [
    "Aunque una columna no contenga valores nulos podría ser que contenga valores vacíos. Si los hubiese la siguiente función los mostraría."
   ]
  },
  {
   "cell_type": "code",
   "id": "73b9dc2f9efc111a",
   "metadata": {
    "collapsed": false,
    "ExecuteTime": {
     "end_time": "2024-05-28T11:12:39.299253Z",
     "start_time": "2024-05-28T11:12:39.292711Z"
    }
   },
   "source": [
    "print_empty_cols(X)"
   ],
   "outputs": [
    {
     "name": "stdout",
     "output_type": "stream",
     "text": [
      "handler__number_of_handlers\n",
      "---------------------------\n",
      "0 instancias no tienen un valor para la columna handler__number_of_handlers\n",
      "\n",
      "\n",
      "handler__has_star\n",
      "-----------------\n",
      "0 instancias no tienen un valor para la columna handler__has_star\n",
      "\n",
      "\n",
      "handler__has_finally\n",
      "--------------------\n",
      "0 instancias no tienen un valor para la columna handler__has_finally\n",
      "\n",
      "\n",
      "handler__has_catch_all\n",
      "----------------------\n",
      "0 instancias no tienen un valor para la columna handler__has_catch_all\n",
      "\n",
      "\n",
      "handler__average_body_count\n",
      "---------------------------\n",
      "0 instancias no tienen un valor para la columna handler__average_body_count\n",
      "\n",
      "\n",
      "handler__expertise_level\n",
      "------------------------\n",
      "0 instancias no tienen un valor para la columna handler__expertise_level\n",
      "\n",
      "\n"
     ]
    }
   ],
   "execution_count": 6
  },
  {
   "cell_type": "markdown",
   "id": "105774ea722bf467",
   "metadata": {
    "collapsed": false
   },
   "source": [
    "### 2.4 - Describimos los valores de las variables de la tabla."
   ]
  },
  {
   "cell_type": "code",
   "id": "d3be1e5cec1af46c",
   "metadata": {
    "collapsed": false,
    "ExecuteTime": {
     "end_time": "2024-05-28T11:12:39.320565Z",
     "start_time": "2024-05-28T11:12:39.300264Z"
    }
   },
   "source": [
    "np.transpose(X.describe(percentiles=[.25, .50, .75], include = ['object', 'float', 'bool', 'int']))"
   ],
   "outputs": [
    {
     "data": {
      "text/plain": [
       "                              count unique       top  freq      mean  \\\n",
       "handler__number_of_handlers  8953.0    NaN       NaN   NaN  0.982911   \n",
       "handler__has_star              8953      1     False  8953       NaN   \n",
       "handler__has_finally           8953      2     False  8153       NaN   \n",
       "handler__has_catch_all         8953      2     False  8575       NaN   \n",
       "handler__average_body_count  8953.0    NaN       NaN   NaN  1.206938   \n",
       "handler__expertise_level       8953      1  BEGINNER  8953       NaN   \n",
       "\n",
       "                                  std  min  25%  50%  75%  max  \n",
       "handler__number_of_handlers  0.498925  0.0  1.0  1.0  1.0  7.0  \n",
       "handler__has_star                 NaN  NaN  NaN  NaN  NaN  NaN  \n",
       "handler__has_finally              NaN  NaN  NaN  NaN  NaN  NaN  \n",
       "handler__has_catch_all            NaN  NaN  NaN  NaN  NaN  NaN  \n",
       "handler__average_body_count   0.75844  0.0  1.0  1.0  1.0  8.0  \n",
       "handler__expertise_level          NaN  NaN  NaN  NaN  NaN  NaN  "
      ],
      "text/html": [
       "<div>\n",
       "<style scoped>\n",
       "    .dataframe tbody tr th:only-of-type {\n",
       "        vertical-align: middle;\n",
       "    }\n",
       "\n",
       "    .dataframe tbody tr th {\n",
       "        vertical-align: top;\n",
       "    }\n",
       "\n",
       "    .dataframe thead th {\n",
       "        text-align: right;\n",
       "    }\n",
       "</style>\n",
       "<table border=\"1\" class=\"dataframe\">\n",
       "  <thead>\n",
       "    <tr style=\"text-align: right;\">\n",
       "      <th></th>\n",
       "      <th>count</th>\n",
       "      <th>unique</th>\n",
       "      <th>top</th>\n",
       "      <th>freq</th>\n",
       "      <th>mean</th>\n",
       "      <th>std</th>\n",
       "      <th>min</th>\n",
       "      <th>25%</th>\n",
       "      <th>50%</th>\n",
       "      <th>75%</th>\n",
       "      <th>max</th>\n",
       "    </tr>\n",
       "  </thead>\n",
       "  <tbody>\n",
       "    <tr>\n",
       "      <th>handler__number_of_handlers</th>\n",
       "      <td>8953.0</td>\n",
       "      <td>NaN</td>\n",
       "      <td>NaN</td>\n",
       "      <td>NaN</td>\n",
       "      <td>0.982911</td>\n",
       "      <td>0.498925</td>\n",
       "      <td>0.0</td>\n",
       "      <td>1.0</td>\n",
       "      <td>1.0</td>\n",
       "      <td>1.0</td>\n",
       "      <td>7.0</td>\n",
       "    </tr>\n",
       "    <tr>\n",
       "      <th>handler__has_star</th>\n",
       "      <td>8953</td>\n",
       "      <td>1</td>\n",
       "      <td>False</td>\n",
       "      <td>8953</td>\n",
       "      <td>NaN</td>\n",
       "      <td>NaN</td>\n",
       "      <td>NaN</td>\n",
       "      <td>NaN</td>\n",
       "      <td>NaN</td>\n",
       "      <td>NaN</td>\n",
       "      <td>NaN</td>\n",
       "    </tr>\n",
       "    <tr>\n",
       "      <th>handler__has_finally</th>\n",
       "      <td>8953</td>\n",
       "      <td>2</td>\n",
       "      <td>False</td>\n",
       "      <td>8153</td>\n",
       "      <td>NaN</td>\n",
       "      <td>NaN</td>\n",
       "      <td>NaN</td>\n",
       "      <td>NaN</td>\n",
       "      <td>NaN</td>\n",
       "      <td>NaN</td>\n",
       "      <td>NaN</td>\n",
       "    </tr>\n",
       "    <tr>\n",
       "      <th>handler__has_catch_all</th>\n",
       "      <td>8953</td>\n",
       "      <td>2</td>\n",
       "      <td>False</td>\n",
       "      <td>8575</td>\n",
       "      <td>NaN</td>\n",
       "      <td>NaN</td>\n",
       "      <td>NaN</td>\n",
       "      <td>NaN</td>\n",
       "      <td>NaN</td>\n",
       "      <td>NaN</td>\n",
       "      <td>NaN</td>\n",
       "    </tr>\n",
       "    <tr>\n",
       "      <th>handler__average_body_count</th>\n",
       "      <td>8953.0</td>\n",
       "      <td>NaN</td>\n",
       "      <td>NaN</td>\n",
       "      <td>NaN</td>\n",
       "      <td>1.206938</td>\n",
       "      <td>0.75844</td>\n",
       "      <td>0.0</td>\n",
       "      <td>1.0</td>\n",
       "      <td>1.0</td>\n",
       "      <td>1.0</td>\n",
       "      <td>8.0</td>\n",
       "    </tr>\n",
       "    <tr>\n",
       "      <th>handler__expertise_level</th>\n",
       "      <td>8953</td>\n",
       "      <td>1</td>\n",
       "      <td>BEGINNER</td>\n",
       "      <td>8953</td>\n",
       "      <td>NaN</td>\n",
       "      <td>NaN</td>\n",
       "      <td>NaN</td>\n",
       "      <td>NaN</td>\n",
       "      <td>NaN</td>\n",
       "      <td>NaN</td>\n",
       "      <td>NaN</td>\n",
       "    </tr>\n",
       "  </tbody>\n",
       "</table>\n",
       "</div>"
      ]
     },
     "execution_count": 7,
     "metadata": {},
     "output_type": "execute_result"
    }
   ],
   "execution_count": 7
  },
  {
   "cell_type": "markdown",
   "id": "b9f859b03e8083f1",
   "metadata": {
    "collapsed": false
   },
   "source": "Vamos a discretizar las variables numericas, agrupando conjuntos de valores en categorias, para hacer un análisis de los datos. Para cada variable es necesaario ver la distribucion de lo valores para hacer los bins (categorias)."
  },
  {
   "cell_type": "code",
   "id": "b7cf5fae0fd0e5ef",
   "metadata": {
    "collapsed": false,
    "ExecuteTime": {
     "end_time": "2024-05-28T11:12:39.356174Z",
     "start_time": "2024-05-28T11:12:39.321574Z"
    }
   },
   "source": [
    "# DISCRETIZATION\n",
    "X_copy = X.copy()\n",
    "\n",
    "discretized_columns = {\n",
    "    \"handler__number_of_handlers\": [(0.0, 0.0), (1.0, 1.0), (1.0, inf)],  # min: 0.0 max: 9.0 \n",
    "    \"handler__average_body_count\": [(0.0, 1.0), (1.0, 2.0), (2.0, inf)],  # min: 0.0 max: 11.0 \n",
    "}\n",
    "\n",
    "discretize_columns(X_copy, discretized_columns)\n",
    "    \n",
    "# SINGLE FEATURE\n",
    "print(\"--- SINGLE FEATURE ---\")\n",
    "print(get_statistics(X_copy, ['handler__number_of_handlers'], 10))\n",
    "print(get_statistics(X_copy, ['handler__average_body_count'], 10))\n",
    "print(get_statistics(X_copy, ['handler__has_star'], 10))\n",
    "print(get_statistics(X_copy, ['handler__has_finally'], 10))\n",
    "print(get_statistics(X_copy, ['handler__has_catch_all'], 10))\n",
    "\n",
    "# 2 FEATURES\n",
    "print(\"--- TWO FEATURES ---\")\n",
    "#print(get_statistics(X_copy, ['import__average_imported_modules', 'import__module_imports_pct'], 10))\n",
    "\n",
    "# 3 FEATURES\n",
    "print(\"--- THREE FEATURES ---\")\n",
    "#print(get_statistics(X_copy, ['program__has_sub_dirs_with_code', 'program__has_packages', 'program__has_code_root_package'], 10))"
   ],
   "outputs": [
    {
     "name": "stdout",
     "output_type": "stream",
     "text": [
      "--- SINGLE FEATURE ---\n",
      "handler__number_of_handlers  count  percentage\n",
      "                  [1.0_1.0]   7839   87.557243\n",
      "                  [0.0_0.0]    750    8.377080\n",
      "                  [1.0_inf]    364    4.065676\n",
      "\n",
      "handler__average_body_count  count  percentage\n",
      "                  [1.0_2.0)   6376   71.216352\n",
      "                  [2.0_inf]   1827   20.406568\n",
      "                  [0.0_1.0)    750    8.377080\n",
      "\n",
      " handler__has_star  count  percentage\n",
      "             False   8953       100.0\n",
      "\n",
      " handler__has_finally  count  percentage\n",
      "                False   8153   91.064448\n",
      "                 True    800    8.935552\n",
      "\n",
      " handler__has_catch_all  count  percentage\n",
      "                  False   8575   95.777952\n",
      "                   True    378    4.222048\n",
      "\n",
      "--- TWO FEATURES ---\n",
      "--- THREE FEATURES ---\n"
     ]
    }
   ],
   "execution_count": 8
  },
  {
   "cell_type": "code",
   "id": "1ca9a43e-6db6-44a7-aaab-65f00d1ea79e",
   "metadata": {
    "pycharm": {
     "name": "#%%\n"
    },
    "tags": [],
    "ExecuteTime": {
     "end_time": "2024-05-28T11:12:39.363467Z",
     "start_time": "2024-05-28T11:12:39.357184Z"
    }
   },
   "source": [
    "def normalize_datatypes(X:pd.DataFrame) -> (pd.DataFrame, [str]):\n",
    "    X = pd.get_dummies(X)\n",
    "    X = X.astype('float32')        \n",
    "    columns_names = X.columns.tolist()\n",
    "    return X, columns_names\n",
    "\n",
    "X, TABLE_FEATURES = normalize_datatypes(X)\n",
    "# Print information about the loaded table\n",
    "print(f'Features shape: {X.shape}')"
   ],
   "outputs": [
    {
     "name": "stdout",
     "output_type": "stream",
     "text": [
      "Features shape: (8953, 6)\n"
     ]
    }
   ],
   "execution_count": 9
  },
  {
   "cell_type": "markdown",
   "id": "e9fc6a7d9acd9a9e",
   "metadata": {
    "collapsed": false
   },
   "source": [
    "#### Muestra la matriz de correlación de pearson entre las variables de la tabla."
   ]
  },
  {
   "cell_type": "code",
   "id": "70af048034c80af1",
   "metadata": {
    "collapsed": false,
    "ExecuteTime": {
     "end_time": "2024-05-28T11:12:39.673313Z",
     "start_time": "2024-05-28T11:12:39.364473Z"
    }
   },
   "source": [
    "sns.heatmap(X.corr(), annot=True)"
   ],
   "outputs": [
    {
     "data": {
      "text/plain": [
       "<Axes: >"
      ]
     },
     "execution_count": 10,
     "metadata": {},
     "output_type": "execute_result"
    },
    {
     "data": {
      "text/plain": [
       "<Figure size 640x480 with 2 Axes>"
      ],
      "image/png": "[encoded data removed]"
     },
     "metadata": {},
     "output_type": "display_data"
    }
   ],
   "execution_count": 10
  },
  {
   "cell_type": "markdown",
   "id": "9a47cdd4cc2b3fae",
   "metadata": {
    "collapsed": false
   },
   "source": [
    "## 3 - Detección de valores atípicos (outliers)\n",
    "## Univariate\n",
    "## Analisis detallado de variables\n",
    "Para cada una de las 5 variable (2 numericas y 3 booleanas) se hara un analisis detallado"
   ]
  },
  {
   "metadata": {},
   "cell_type": "markdown",
   "source": [
    "### Variable number_of_handlers (1/5)\n",
    "Esta variable es de tipo numérica y nos indica el número de clausulas except en la sentencia Try. Como vimos en la descripción de la tabla esta varibale adopta valores en el rango 0 - 7. Con una media de 0.98."
   ],
   "id": "b8ac28118b9c7e95"
  },
  {
   "metadata": {
    "ExecuteTime": {
     "end_time": "2024-05-28T11:12:39.820491Z",
     "start_time": "2024-05-28T11:12:39.674323Z"
    }
   },
   "cell_type": "code",
   "source": "sns.stripplot(X['handler__number_of_handlers'])",
   "id": "5eacddae8fc77a62",
   "outputs": [
    {
     "data": {
      "text/plain": [
       "<Axes: ylabel='handler__number_of_handlers'>"
      ]
     },
     "execution_count": 11,
     "metadata": {},
     "output_type": "execute_result"
    },
    {
     "data": {
      "text/plain": [
       "<Figure size 640x480 with 1 Axes>"
      ],
      "image/png": "[encoded data removed]"
     },
     "metadata": {},
     "output_type": "display_data"
    }
   ],
   "execution_count": 11
  },
  {
   "metadata": {
    "ExecuteTime": {
     "end_time": "2024-05-28T11:12:39.829007Z",
     "start_time": "2024-05-28T11:12:39.821501Z"
    }
   },
   "cell_type": "code",
   "source": "print_outliers_for_df_column(X, 'handler__number_of_handlers')",
   "id": "cfc7351841dbaeeb",
   "outputs": [
    {
     "name": "stdout",
     "output_type": "stream",
     "text": [
      "El coeficiente MC (Medcouple Coefficient) de balanceo es: 0.35714285714285715\n",
      "Rango valores atípicos extremos (Tukey): [1.0,1.0]\n",
      "Rango valores atípicos leves (Tukey): [1.0,1.0]\n",
      "Rango valores atípicos extremos (Fixed BoxPlot): [1.0,1.0]\n",
      "-3.0IQR: 750 instancias tienen un valor para handler__number_of_handlers inferior a 1.0 (Q1-3*IQR) para handler__number_of_handlers. Representando un 8.377% del total de instancias.\n",
      "-1.5IQR: 750 instancias tienen un valor para handler__number_of_handlers inferior a 1.0 (Q1-1.5*IQR) para handler__number_of_handlers. Representando un 8.377% del total de instancias.\n",
      "+1.5IQR: 364 instancias tienen un valor para handler__number_of_handlers superior a 1.0 (Q3+1.5*IQR) para handler__number_of_handlers. Representando un 4.066% del total de instancias.\n",
      "+3.0IQR: 364 instancias tienen un valor para handler__number_of_handlers superior a 1.0 (Q3-3*IQR) para handler__number_of_handlers. Representando un 4.066% del total de instancias.\n",
      "L: 750 instancias tienen un valor para handler__number_of_handlers inferior a 1.0 para handler__number_of_handlers. Representando un 8.377% del total de instancias.\n",
      "U: 364 instancias tienen un valor para handler__number_of_handlers superior a 1.0 para handler__number_of_handlers. Representando un 4.066% del total de instancias.\n"
     ]
    }
   ],
   "execution_count": 12
  },
  {
   "metadata": {},
   "cell_type": "markdown",
   "source": "Describimos los valores de las variables de la tabla, cuando el valor de la variable es mayor que 1 o menor que 1 (Todos los umbrales son 1)",
   "id": "a56e8c4657003378"
  },
  {
   "metadata": {
    "ExecuteTime": {
     "end_time": "2024-05-28T11:12:39.848481Z",
     "start_time": "2024-05-28T11:12:39.830016Z"
    }
   },
   "cell_type": "code",
   "source": "X[(X['handler__number_of_handlers'] > 1) | (X['handler__number_of_handlers'] < 1)].describe(percentiles=[.25, .50, .75], include = ['object', 'float', 'bool', 'int'])",
   "id": "689c534bf17a722e",
   "outputs": [
    {
     "data": {
      "text/plain": [
       "       handler__number_of_handlers  handler__has_star  handler__has_finally  \\\n",
       "count                  1114.000000             1114.0           1114.000000   \n",
       "mean                      0.862657                0.0              0.685817   \n",
       "std                       1.409118                0.0              0.464398   \n",
       "min                       0.000000                0.0              0.000000   \n",
       "25%                       0.000000                0.0              0.000000   \n",
       "50%                       0.000000                0.0              1.000000   \n",
       "75%                       2.000000                0.0              1.000000   \n",
       "max                       7.000000                0.0              1.000000   \n",
       "\n",
       "       handler__has_catch_all  handler__average_body_count  \\\n",
       "count             1114.000000                  1114.000000   \n",
       "mean                 0.005386                     0.497051   \n",
       "std                  0.073224                     0.837179   \n",
       "min                  0.000000                     0.000000   \n",
       "25%                  0.000000                     0.000000   \n",
       "50%                  0.000000                     0.000000   \n",
       "75%                  0.000000                     1.000000   \n",
       "max                  1.000000                     4.000000   \n",
       "\n",
       "       handler__expertise_level_BEGINNER  \n",
       "count                             1114.0  \n",
       "mean                                 1.0  \n",
       "std                                  0.0  \n",
       "min                                  1.0  \n",
       "25%                                  1.0  \n",
       "50%                                  1.0  \n",
       "75%                                  1.0  \n",
       "max                                  1.0  "
      ],
      "text/html": [
       "<div>\n",
       "<style scoped>\n",
       "    .dataframe tbody tr th:only-of-type {\n",
       "        vertical-align: middle;\n",
       "    }\n",
       "\n",
       "    .dataframe tbody tr th {\n",
       "        vertical-align: top;\n",
       "    }\n",
       "\n",
       "    .dataframe thead th {\n",
       "        text-align: right;\n",
       "    }\n",
       "</style>\n",
       "<table border=\"1\" class=\"dataframe\">\n",
       "  <thead>\n",
       "    <tr style=\"text-align: right;\">\n",
       "      <th></th>\n",
       "      <th>handler__number_of_handlers</th>\n",
       "      <th>handler__has_star</th>\n",
       "      <th>handler__has_finally</th>\n",
       "      <th>handler__has_catch_all</th>\n",
       "      <th>handler__average_body_count</th>\n",
       "      <th>handler__expertise_level_BEGINNER</th>\n",
       "    </tr>\n",
       "  </thead>\n",
       "  <tbody>\n",
       "    <tr>\n",
       "      <th>count</th>\n",
       "      <td>1114.000000</td>\n",
       "      <td>1114.0</td>\n",
       "      <td>1114.000000</td>\n",
       "      <td>1114.000000</td>\n",
       "      <td>1114.000000</td>\n",
       "      <td>1114.0</td>\n",
       "    </tr>\n",
       "    <tr>\n",
       "      <th>mean</th>\n",
       "      <td>0.862657</td>\n",
       "      <td>0.0</td>\n",
       "      <td>0.685817</td>\n",
       "      <td>0.005386</td>\n",
       "      <td>0.497051</td>\n",
       "      <td>1.0</td>\n",
       "    </tr>\n",
       "    <tr>\n",
       "      <th>std</th>\n",
       "      <td>1.409118</td>\n",
       "      <td>0.0</td>\n",
       "      <td>0.464398</td>\n",
       "      <td>0.073224</td>\n",
       "      <td>0.837179</td>\n",
       "      <td>0.0</td>\n",
       "    </tr>\n",
       "    <tr>\n",
       "      <th>min</th>\n",
       "      <td>0.000000</td>\n",
       "      <td>0.0</td>\n",
       "      <td>0.000000</td>\n",
       "      <td>0.000000</td>\n",
       "      <td>0.000000</td>\n",
       "      <td>1.0</td>\n",
       "    </tr>\n",
       "    <tr>\n",
       "      <th>25%</th>\n",
       "      <td>0.000000</td>\n",
       "      <td>0.0</td>\n",
       "      <td>0.000000</td>\n",
       "      <td>0.000000</td>\n",
       "      <td>0.000000</td>\n",
       "      <td>1.0</td>\n",
       "    </tr>\n",
       "    <tr>\n",
       "      <th>50%</th>\n",
       "      <td>0.000000</td>\n",
       "      <td>0.0</td>\n",
       "      <td>1.000000</td>\n",
       "      <td>0.000000</td>\n",
       "      <td>0.000000</td>\n",
       "      <td>1.0</td>\n",
       "    </tr>\n",
       "    <tr>\n",
       "      <th>75%</th>\n",
       "      <td>2.000000</td>\n",
       "      <td>0.0</td>\n",
       "      <td>1.000000</td>\n",
       "      <td>0.000000</td>\n",
       "      <td>1.000000</td>\n",
       "      <td>1.0</td>\n",
       "    </tr>\n",
       "    <tr>\n",
       "      <th>max</th>\n",
       "      <td>7.000000</td>\n",
       "      <td>0.0</td>\n",
       "      <td>1.000000</td>\n",
       "      <td>1.000000</td>\n",
       "      <td>4.000000</td>\n",
       "      <td>1.0</td>\n",
       "    </tr>\n",
       "  </tbody>\n",
       "</table>\n",
       "</div>"
      ]
     },
     "execution_count": 13,
     "metadata": {},
     "output_type": "execute_result"
    }
   ],
   "execution_count": 13
  },
  {
   "metadata": {},
   "cell_type": "markdown",
   "source": [
    "### Variable average_body_count (2/5)\n",
    "Esta variable representa el número medio de sentencias en los cuerpos del try y los except. Como vimos en la descripción de la tabla esta varibale adopta valores en el rango 0 - 8. Con una media de 1.20."
   ],
   "id": "8f8a651cfdff0bcd"
  },
  {
   "metadata": {
    "ExecuteTime": {
     "end_time": "2024-05-28T11:12:39.992120Z",
     "start_time": "2024-05-28T11:12:39.850490Z"
    }
   },
   "cell_type": "code",
   "source": "sns.stripplot(X['handler__average_body_count'])",
   "id": "1ebb40d57c0b140",
   "outputs": [
    {
     "data": {
      "text/plain": [
       "<Axes: ylabel='handler__average_body_count'>"
      ]
     },
     "execution_count": 14,
     "metadata": {},
     "output_type": "execute_result"
    },
    {
     "data": {
      "text/plain": [
       "<Figure size 640x480 with 1 Axes>"
      ],
      "image/png": "[encoded data removed]"
     },
     "metadata": {},
     "output_type": "display_data"
    }
   ],
   "execution_count": 14
  },
  {
   "metadata": {
    "ExecuteTime": {
     "end_time": "2024-05-28T11:12:40.001626Z",
     "start_time": "2024-05-28T11:12:39.993125Z"
    }
   },
   "cell_type": "code",
   "source": "print_outliers_for_df_column(X, 'handler__average_body_count')",
   "id": "81b8080ab603f324",
   "outputs": [
    {
     "name": "stdout",
     "output_type": "stream",
     "text": [
      "El coeficiente MC (Medcouple Coefficient) de balanceo es: 0.8416424933018691\n",
      "Rango valores atípicos extremos (Tukey): [1.0,1.0]\n",
      "Rango valores atípicos leves (Tukey): [1.0,1.0]\n",
      "Rango valores atípicos extremos (Fixed BoxPlot): [1.0,1.0]\n",
      "-3.0IQR: 750 instancias tienen un valor para handler__average_body_count inferior a 1.0 (Q1-3*IQR) para handler__average_body_count. Representando un 8.377% del total de instancias.\n",
      "-1.5IQR: 750 instancias tienen un valor para handler__average_body_count inferior a 1.0 (Q1-1.5*IQR) para handler__average_body_count. Representando un 8.377% del total de instancias.\n",
      "+1.5IQR: 1983 instancias tienen un valor para handler__average_body_count superior a 1.0 (Q3+1.5*IQR) para handler__average_body_count. Representando un 22.15% del total de instancias.\n",
      "+3.0IQR: 1983 instancias tienen un valor para handler__average_body_count superior a 1.0 (Q3-3*IQR) para handler__average_body_count. Representando un 22.15% del total de instancias.\n",
      "L: 750 instancias tienen un valor para handler__average_body_count inferior a 1.0 para handler__average_body_count. Representando un 8.377% del total de instancias.\n",
      "U: 1983 instancias tienen un valor para handler__average_body_count superior a 1.0 para handler__average_body_count. Representando un 22.15% del total de instancias.\n"
     ]
    }
   ],
   "execution_count": 15
  },
  {
   "metadata": {
    "ExecuteTime": {
     "end_time": "2024-05-28T11:12:40.026409Z",
     "start_time": "2024-05-28T11:12:40.002631Z"
    }
   },
   "cell_type": "code",
   "source": "X[(X['handler__average_body_count'] > 1) | (X['handler__average_body_count'] < 1)].describe(percentiles=[.25, .50, .75], include = ['object', 'float', 'bool', 'int'])",
   "id": "84725ca807e4ee17",
   "outputs": [
    {
     "data": {
      "text/plain": [
       "       handler__number_of_handlers  handler__has_star  handler__has_finally  \\\n",
       "count                  2733.000000             2733.0           2733.000000   \n",
       "mean                      0.866081                0.0              0.283571   \n",
       "std                       0.806495                0.0              0.450814   \n",
       "min                       0.000000                0.0              0.000000   \n",
       "25%                       0.000000                0.0              0.000000   \n",
       "50%                       1.000000                0.0              0.000000   \n",
       "75%                       1.000000                0.0              1.000000   \n",
       "max                       7.000000                0.0              1.000000   \n",
       "\n",
       "       handler__has_catch_all  handler__average_body_count  \\\n",
       "count             2733.000000                  2733.000000   \n",
       "mean                 0.070618                     1.677905   \n",
       "std                  0.256233                     1.251192   \n",
       "min                  0.000000                     0.000000   \n",
       "25%                  0.000000                     0.000000   \n",
       "50%                  0.000000                     2.000000   \n",
       "75%                  0.000000                     2.000000   \n",
       "max                  1.000000                     8.000000   \n",
       "\n",
       "       handler__expertise_level_BEGINNER  \n",
       "count                             2733.0  \n",
       "mean                                 1.0  \n",
       "std                                  0.0  \n",
       "min                                  1.0  \n",
       "25%                                  1.0  \n",
       "50%                                  1.0  \n",
       "75%                                  1.0  \n",
       "max                                  1.0  "
      ],
      "text/html": [
       "<div>\n",
       "<style scoped>\n",
       "    .dataframe tbody tr th:only-of-type {\n",
       "        vertical-align: middle;\n",
       "    }\n",
       "\n",
       "    .dataframe tbody tr th {\n",
       "        vertical-align: top;\n",
       "    }\n",
       "\n",
       "    .dataframe thead th {\n",
       "        text-align: right;\n",
       "    }\n",
       "</style>\n",
       "<table border=\"1\" class=\"dataframe\">\n",
       "  <thead>\n",
       "    <tr style=\"text-align: right;\">\n",
       "      <th></th>\n",
       "      <th>handler__number_of_handlers</th>\n",
       "      <th>handler__has_star</th>\n",
       "      <th>handler__has_finally</th>\n",
       "      <th>handler__has_catch_all</th>\n",
       "      <th>handler__average_body_count</th>\n",
       "      <th>handler__expertise_level_BEGINNER</th>\n",
       "    </tr>\n",
       "  </thead>\n",
       "  <tbody>\n",
       "    <tr>\n",
       "      <th>count</th>\n",
       "      <td>2733.000000</td>\n",
       "      <td>2733.0</td>\n",
       "      <td>2733.000000</td>\n",
       "      <td>2733.000000</td>\n",
       "      <td>2733.000000</td>\n",
       "      <td>2733.0</td>\n",
       "    </tr>\n",
       "    <tr>\n",
       "      <th>mean</th>\n",
       "      <td>0.866081</td>\n",
       "      <td>0.0</td>\n",
       "      <td>0.283571</td>\n",
       "      <td>0.070618</td>\n",
       "      <td>1.677905</td>\n",
       "      <td>1.0</td>\n",
       "    </tr>\n",
       "    <tr>\n",
       "      <th>std</th>\n",
       "      <td>0.806495</td>\n",
       "      <td>0.0</td>\n",
       "      <td>0.450814</td>\n",
       "      <td>0.256233</td>\n",
       "      <td>1.251192</td>\n",
       "      <td>0.0</td>\n",
       "    </tr>\n",
       "    <tr>\n",
       "      <th>min</th>\n",
       "      <td>0.000000</td>\n",
       "      <td>0.0</td>\n",
       "      <td>0.000000</td>\n",
       "      <td>0.000000</td>\n",
       "      <td>0.000000</td>\n",
       "      <td>1.0</td>\n",
       "    </tr>\n",
       "    <tr>\n",
       "      <th>25%</th>\n",
       "      <td>0.000000</td>\n",
       "      <td>0.0</td>\n",
       "      <td>0.000000</td>\n",
       "      <td>0.000000</td>\n",
       "      <td>0.000000</td>\n",
       "      <td>1.0</td>\n",
       "    </tr>\n",
       "    <tr>\n",
       "      <th>50%</th>\n",
       "      <td>1.000000</td>\n",
       "      <td>0.0</td>\n",
       "      <td>0.000000</td>\n",
       "      <td>0.000000</td>\n",
       "      <td>2.000000</td>\n",
       "      <td>1.0</td>\n",
       "    </tr>\n",
       "    <tr>\n",
       "      <th>75%</th>\n",
       "      <td>1.000000</td>\n",
       "      <td>0.0</td>\n",
       "      <td>1.000000</td>\n",
       "      <td>0.000000</td>\n",
       "      <td>2.000000</td>\n",
       "      <td>1.0</td>\n",
       "    </tr>\n",
       "    <tr>\n",
       "      <th>max</th>\n",
       "      <td>7.000000</td>\n",
       "      <td>0.0</td>\n",
       "      <td>1.000000</td>\n",
       "      <td>1.000000</td>\n",
       "      <td>8.000000</td>\n",
       "      <td>1.0</td>\n",
       "    </tr>\n",
       "  </tbody>\n",
       "</table>\n",
       "</div>"
      ]
     },
     "execution_count": 16,
     "metadata": {},
     "output_type": "execute_result"
    }
   ],
   "execution_count": 16
  },
  {
   "metadata": {},
   "cell_type": "markdown",
   "source": [
    "### Variable has_star (3/5)\n",
    "Esta variable es de tipo booleano y representa es una sentencia del tipo TryStar."
   ],
   "id": "a1c26b66e0d46b6"
  },
  {
   "metadata": {
    "ExecuteTime": {
     "end_time": "2024-05-28T11:12:40.144688Z",
     "start_time": "2024-05-28T11:12:40.027414Z"
    }
   },
   "cell_type": "code",
   "source": [
    "plt.xticks([0, 1], ['False', 'True'])\n",
    "sns.histplot(X['handler__has_star'], discrete=True)"
   ],
   "id": "a23c822bbcf6bb1c",
   "outputs": [
    {
     "data": {
      "text/plain": [
       "<Axes: xlabel='handler__has_star', ylabel='Count'>"
      ]
     },
     "execution_count": 17,
     "metadata": {},
     "output_type": "execute_result"
    },
    {
     "data": {
      "text/plain": [
       "<Figure size 640x480 with 1 Axes>"
      ],
      "image/png": "[encoded data removed]"
     },
     "metadata": {},
     "output_type": "display_data"
    }
   ],
   "execution_count": 17
  },
  {
   "metadata": {
    "ExecuteTime": {
     "end_time": "2024-05-28T11:12:40.152754Z",
     "start_time": "2024-05-28T11:12:40.145694Z"
    }
   },
   "cell_type": "code",
   "source": [
    "num_true_values = len(X[X['handler__has_star'] == True])\n",
    "num_false_values = len(X[X['handler__has_star'] == False])\n",
    "std = X['handler__has_star'].std()\n",
    "freq_true = len(X[X['handler__has_star'] == True]) / len(X['handler__has_star'])\n",
    "freq_false = len(X[X['handler__has_star'] == False]) / len(X['handler__has_star'])\n",
    "print(f'La variable has_star contiene {num_true_values} valores verdaderos y {num_false_values} valores falsos. Y, la desviación típica es de {std}')\n",
    "print(f'La frecuencia con la que programa puede tener la variable has_star a True es {freq_true}.')\n",
    "print(f'La frecuencia con la que programa puede tener la variable has_star a False es {freq_false}.')"
   ],
   "id": "bfc2bac6fe9901ca",
   "outputs": [
    {
     "name": "stdout",
     "output_type": "stream",
     "text": [
      "La variable has_star contiene 0 valores verdaderos y 8953 valores falsos. Y, la desviación típica es de 0.0\n",
      "La frecuencia con la que programa puede tener la variable has_star a True es 0.0.\n",
      "La frecuencia con la que programa puede tener la variable has_star a False es 1.0.\n"
     ]
    }
   ],
   "execution_count": 18
  },
  {
   "metadata": {
    "ExecuteTime": {
     "end_time": "2024-05-28T11:12:40.158317Z",
     "start_time": "2024-05-28T11:12:40.153760Z"
    }
   },
   "cell_type": "code",
   "source": [
    "possible_values = [True, False]\n",
    "print_frequency_anal_for_cat_var(X, 'handler__has_star', possible_values)"
   ],
   "id": "2527df6e9ff06a59",
   "outputs": [
    {
     "name": "stdout",
     "output_type": "stream",
     "text": [
      "La variable handler__has_star contiene 2 valores distintos.\n",
      "El umbral de outlier es de 0.1%\n",
      "La variable handler__has_star toma el valor de 0.0 en un 100.0% de los items.\n",
      "La variable handler__has_star toma el valor de True en un 0.0% de los items. [OUTLIER]\n"
     ]
    }
   ],
   "execution_count": 19
  },
  {
   "metadata": {},
   "cell_type": "markdown",
   "source": [
    "### IMPORTANTE \n",
    "\n",
    "No hay ningun try del tipo TryStar por lo que ninguna entrada toma el valor True para has_star"
   ],
   "id": "33678ea33dc7185c"
  },
  {
   "metadata": {},
   "cell_type": "markdown",
   "source": [
    "### Variable has_catch_all (4/5)\n",
    "Esta variable es de tipo booleano y representa si el try tiene un except all."
   ],
   "id": "91ce9cd901f2813d"
  },
  {
   "metadata": {
    "ExecuteTime": {
     "end_time": "2024-05-28T11:12:40.281813Z",
     "start_time": "2024-05-28T11:12:40.159327Z"
    }
   },
   "cell_type": "code",
   "source": [
    "plt.xticks([0, 1], ['False', 'True'])\n",
    "sns.histplot(X['handler__has_catch_all'], discrete=True)"
   ],
   "id": "8c8c101e58378ff",
   "outputs": [
    {
     "data": {
      "text/plain": [
       "<Axes: xlabel='handler__has_catch_all', ylabel='Count'>"
      ]
     },
     "execution_count": 20,
     "metadata": {},
     "output_type": "execute_result"
    },
    {
     "data": {
      "text/plain": [
       "<Figure size 640x480 with 1 Axes>"
      ],
      "image/png": "[encoded data removed]"
     },
     "metadata": {},
     "output_type": "display_data"
    }
   ],
   "execution_count": 20
  },
  {
   "metadata": {
    "ExecuteTime": {
     "end_time": "2024-05-28T11:12:40.291360Z",
     "start_time": "2024-05-28T11:12:40.282822Z"
    }
   },
   "cell_type": "code",
   "source": [
    "num_true_values = len(X[X['handler__has_catch_all'] == True])\n",
    "num_false_values = len(X[X['handler__has_catch_all'] == False])\n",
    "std = X['handler__has_catch_all'].std()\n",
    "freq_true = len(X[X['handler__has_catch_all'] == True]) / len(X['handler__has_catch_all'])\n",
    "freq_false = len(X[X['handler__has_catch_all'] == False]) / len(X['handler__has_catch_all'])\n",
    "print(f'La variable has_catch_all contiene {num_true_values} valores verdaderos y {num_false_values} valores falsos. Y, la desviación típica es de {std}')\n",
    "print(f'La frecuencia con la que programa puede tener la variable has_catch_all a True es {freq_true}.')\n",
    "print(f'La frecuencia con la que programa puede tener la variable has_catch_all a False es {freq_false}.')"
   ],
   "id": "7b06a772315cd6ea",
   "outputs": [
    {
     "name": "stdout",
     "output_type": "stream",
     "text": [
      "La variable has_catch_all contiene 378 valores verdaderos y 8575 valores falsos. Y, la desviación típica es de 0.20110304653644562\n",
      "La frecuencia con la que programa puede tener la variable has_catch_all a True es 0.04222048475371384.\n",
      "La frecuencia con la que programa puede tener la variable has_catch_all a False es 0.9577795152462861.\n"
     ]
    }
   ],
   "execution_count": 21
  },
  {
   "metadata": {
    "ExecuteTime": {
     "end_time": "2024-05-28T11:12:40.297750Z",
     "start_time": "2024-05-28T11:12:40.292369Z"
    }
   },
   "cell_type": "code",
   "source": [
    "possible_values = [True, False]\n",
    "print_frequency_anal_for_cat_var(X, 'handler__has_catch_all', possible_values)"
   ],
   "id": "38f31a82f166c72b",
   "outputs": [
    {
     "name": "stdout",
     "output_type": "stream",
     "text": [
      "La variable handler__has_catch_all contiene 2 valores distintos.\n",
      "El umbral de outlier es de 0.1%\n",
      "La variable handler__has_catch_all toma el valor de 0.0 en un 95.78% de los items.\n",
      "La variable handler__has_catch_all toma el valor de 1.0 en un 4.222% de los items.\n"
     ]
    }
   ],
   "execution_count": 22
  },
  {
   "metadata": {
    "ExecuteTime": {
     "end_time": "2024-05-28T11:12:40.317486Z",
     "start_time": "2024-05-28T11:12:40.298757Z"
    }
   },
   "cell_type": "code",
   "source": "X[X['handler__has_catch_all'] == True].describe(percentiles=[.25, .50, .75], include = ['object', 'float', 'bool', 'int'])\n",
   "id": "413639dc640ff521",
   "outputs": [
    {
     "data": {
      "text/plain": [
       "       handler__number_of_handlers  handler__has_star  handler__has_finally  \\\n",
       "count                   378.000000              378.0                 378.0   \n",
       "mean                      1.015873                0.0                   0.0   \n",
       "std                       0.125150                0.0                   0.0   \n",
       "min                       1.000000                0.0                   0.0   \n",
       "25%                       1.000000                0.0                   0.0   \n",
       "50%                       1.000000                0.0                   0.0   \n",
       "75%                       1.000000                0.0                   0.0   \n",
       "max                       2.000000                0.0                   0.0   \n",
       "\n",
       "       handler__has_catch_all  handler__average_body_count  \\\n",
       "count                   378.0                   378.000000   \n",
       "mean                      1.0                     1.708995   \n",
       "std                       0.0                     0.975141   \n",
       "min                       1.0                     1.000000   \n",
       "25%                       1.0                     1.000000   \n",
       "50%                       1.0                     2.000000   \n",
       "75%                       1.0                     2.000000   \n",
       "max                       1.0                     7.000000   \n",
       "\n",
       "       handler__expertise_level_BEGINNER  \n",
       "count                              378.0  \n",
       "mean                                 1.0  \n",
       "std                                  0.0  \n",
       "min                                  1.0  \n",
       "25%                                  1.0  \n",
       "50%                                  1.0  \n",
       "75%                                  1.0  \n",
       "max                                  1.0  "
      ],
      "text/html": [
       "<div>\n",
       "<style scoped>\n",
       "    .dataframe tbody tr th:only-of-type {\n",
       "        vertical-align: middle;\n",
       "    }\n",
       "\n",
       "    .dataframe tbody tr th {\n",
       "        vertical-align: top;\n",
       "    }\n",
       "\n",
       "    .dataframe thead th {\n",
       "        text-align: right;\n",
       "    }\n",
       "</style>\n",
       "<table border=\"1\" class=\"dataframe\">\n",
       "  <thead>\n",
       "    <tr style=\"text-align: right;\">\n",
       "      <th></th>\n",
       "      <th>handler__number_of_handlers</th>\n",
       "      <th>handler__has_star</th>\n",
       "      <th>handler__has_finally</th>\n",
       "      <th>handler__has_catch_all</th>\n",
       "      <th>handler__average_body_count</th>\n",
       "      <th>handler__expertise_level_BEGINNER</th>\n",
       "    </tr>\n",
       "  </thead>\n",
       "  <tbody>\n",
       "    <tr>\n",
       "      <th>count</th>\n",
       "      <td>378.000000</td>\n",
       "      <td>378.0</td>\n",
       "      <td>378.0</td>\n",
       "      <td>378.0</td>\n",
       "      <td>378.000000</td>\n",
       "      <td>378.0</td>\n",
       "    </tr>\n",
       "    <tr>\n",
       "      <th>mean</th>\n",
       "      <td>1.015873</td>\n",
       "      <td>0.0</td>\n",
       "      <td>0.0</td>\n",
       "      <td>1.0</td>\n",
       "      <td>1.708995</td>\n",
       "      <td>1.0</td>\n",
       "    </tr>\n",
       "    <tr>\n",
       "      <th>std</th>\n",
       "      <td>0.125150</td>\n",
       "      <td>0.0</td>\n",
       "      <td>0.0</td>\n",
       "      <td>0.0</td>\n",
       "      <td>0.975141</td>\n",
       "      <td>0.0</td>\n",
       "    </tr>\n",
       "    <tr>\n",
       "      <th>min</th>\n",
       "      <td>1.000000</td>\n",
       "      <td>0.0</td>\n",
       "      <td>0.0</td>\n",
       "      <td>1.0</td>\n",
       "      <td>1.000000</td>\n",
       "      <td>1.0</td>\n",
       "    </tr>\n",
       "    <tr>\n",
       "      <th>25%</th>\n",
       "      <td>1.000000</td>\n",
       "      <td>0.0</td>\n",
       "      <td>0.0</td>\n",
       "      <td>1.0</td>\n",
       "      <td>1.000000</td>\n",
       "      <td>1.0</td>\n",
       "    </tr>\n",
       "    <tr>\n",
       "      <th>50%</th>\n",
       "      <td>1.000000</td>\n",
       "      <td>0.0</td>\n",
       "      <td>0.0</td>\n",
       "      <td>1.0</td>\n",
       "      <td>2.000000</td>\n",
       "      <td>1.0</td>\n",
       "    </tr>\n",
       "    <tr>\n",
       "      <th>75%</th>\n",
       "      <td>1.000000</td>\n",
       "      <td>0.0</td>\n",
       "      <td>0.0</td>\n",
       "      <td>1.0</td>\n",
       "      <td>2.000000</td>\n",
       "      <td>1.0</td>\n",
       "    </tr>\n",
       "    <tr>\n",
       "      <th>max</th>\n",
       "      <td>2.000000</td>\n",
       "      <td>0.0</td>\n",
       "      <td>0.0</td>\n",
       "      <td>1.0</td>\n",
       "      <td>7.000000</td>\n",
       "      <td>1.0</td>\n",
       "    </tr>\n",
       "  </tbody>\n",
       "</table>\n",
       "</div>"
      ]
     },
     "execution_count": 23,
     "metadata": {},
     "output_type": "execute_result"
    }
   ],
   "execution_count": 23
  },
  {
   "metadata": {},
   "cell_type": "markdown",
   "source": [
    "### Variable has_finally (5/5)\n",
    "Esta variable es de tipo booleano y representa si el Try tiene la clausula finally."
   ],
   "id": "392e016c9f207728"
  },
  {
   "metadata": {
    "ExecuteTime": {
     "end_time": "2024-05-28T11:12:40.457487Z",
     "start_time": "2024-05-28T11:12:40.318492Z"
    }
   },
   "cell_type": "code",
   "source": [
    "plt.xticks([0, 1], ['False', 'True'])\n",
    "sns.histplot(X['handler__has_finally'], discrete=True)"
   ],
   "id": "3c9ec0d48b60161e",
   "outputs": [
    {
     "data": {
      "text/plain": [
       "<Axes: xlabel='handler__has_finally', ylabel='Count'>"
      ]
     },
     "execution_count": 24,
     "metadata": {},
     "output_type": "execute_result"
    },
    {
     "data": {
      "text/plain": [
       "<Figure size 640x480 with 1 Axes>"
      ],
      "image/png": "[encoded data removed]"
     },
     "metadata": {},
     "output_type": "display_data"
    }
   ],
   "execution_count": 24
  },
  {
   "metadata": {
    "ExecuteTime": {
     "end_time": "2024-05-28T11:12:40.468204Z",
     "start_time": "2024-05-28T11:12:40.458494Z"
    }
   },
   "cell_type": "code",
   "source": [
    "num_true_values = len(X[X['handler__has_finally'] == True])\n",
    "num_false_values = len(X[X['handler__has_finally'] == False])\n",
    "std = X['handler__has_finally'].std()\n",
    "freq_true = len(X[X['handler__has_finally'] == True]) / len(X['handler__has_finally'])\n",
    "freq_false = len(X[X['handler__has_finally'] == False]) / len(X['handler__has_finally'])\n",
    "print(f'La variable has_finally contiene {num_true_values} valores verdaderos y {num_false_values} valores falsos. Y, la desviación típica es de {std}')\n",
    "print(f'La frecuencia con la que programa puede tener la variable has_finally a True es {freq_true}.')\n",
    "print(f'La frecuencia con la que programa puede tener la variable has_finally a False es {freq_false}.')"
   ],
   "id": "6c6ada4b974c692f",
   "outputs": [
    {
     "name": "stdout",
     "output_type": "stream",
     "text": [
      "La variable has_finally contiene 800 valores verdaderos y 8153 valores falsos. Y, la desviación típica es de 0.28527215123176575\n",
      "La frecuencia con la que programa puede tener la variable has_finally a True es 0.08935552328828325.\n",
      "La frecuencia con la que programa puede tener la variable has_finally a False es 0.9106444767117168.\n"
     ]
    }
   ],
   "execution_count": 25
  },
  {
   "metadata": {
    "ExecuteTime": {
     "end_time": "2024-05-28T11:12:40.475635Z",
     "start_time": "2024-05-28T11:12:40.469213Z"
    }
   },
   "cell_type": "code",
   "source": [
    "possible_values = [True, False]\n",
    "print_frequency_anal_for_cat_var(X, 'handler__has_finally', possible_values)"
   ],
   "id": "2a58b68a976ca0c6",
   "outputs": [
    {
     "name": "stdout",
     "output_type": "stream",
     "text": [
      "La variable handler__has_finally contiene 2 valores distintos.\n",
      "El umbral de outlier es de 0.1%\n",
      "La variable handler__has_finally toma el valor de 0.0 en un 91.06% de los items.\n",
      "La variable handler__has_finally toma el valor de 1.0 en un 8.936% de los items.\n"
     ]
    }
   ],
   "execution_count": 26
  },
  {
   "metadata": {
    "ExecuteTime": {
     "end_time": "2024-05-28T11:12:40.498631Z",
     "start_time": "2024-05-28T11:12:40.476641Z"
    }
   },
   "cell_type": "code",
   "source": "X[X['handler__has_finally'] == True].describe(percentiles=[.25, .50, .75], include = ['object', 'float', 'bool', 'int'])",
   "id": "2db058c396fb4fdd",
   "outputs": [
    {
     "data": {
      "text/plain": [
       "       handler__number_of_handlers  handler__has_star  handler__has_finally  \\\n",
       "count                   800.000000              800.0                 800.0   \n",
       "mean                      0.092500                0.0                   1.0   \n",
       "std                       0.429155                0.0                   0.0   \n",
       "min                       0.000000                0.0                   1.0   \n",
       "25%                       0.000000                0.0                   1.0   \n",
       "50%                       0.000000                0.0                   1.0   \n",
       "75%                       0.000000                0.0                   1.0   \n",
       "max                       6.000000                0.0                   1.0   \n",
       "\n",
       "       handler__has_catch_all  handler__average_body_count  \\\n",
       "count                   800.0                   800.000000   \n",
       "mean                      0.0                     0.119792   \n",
       "std                       0.0                     0.543726   \n",
       "min                       0.0                     0.000000   \n",
       "25%                       0.0                     0.000000   \n",
       "50%                       0.0                     0.000000   \n",
       "75%                       0.0                     0.000000   \n",
       "max                       0.0                     4.000000   \n",
       "\n",
       "       handler__expertise_level_BEGINNER  \n",
       "count                              800.0  \n",
       "mean                                 1.0  \n",
       "std                                  0.0  \n",
       "min                                  1.0  \n",
       "25%                                  1.0  \n",
       "50%                                  1.0  \n",
       "75%                                  1.0  \n",
       "max                                  1.0  "
      ],
      "text/html": [
       "<div>\n",
       "<style scoped>\n",
       "    .dataframe tbody tr th:only-of-type {\n",
       "        vertical-align: middle;\n",
       "    }\n",
       "\n",
       "    .dataframe tbody tr th {\n",
       "        vertical-align: top;\n",
       "    }\n",
       "\n",
       "    .dataframe thead th {\n",
       "        text-align: right;\n",
       "    }\n",
       "</style>\n",
       "<table border=\"1\" class=\"dataframe\">\n",
       "  <thead>\n",
       "    <tr style=\"text-align: right;\">\n",
       "      <th></th>\n",
       "      <th>handler__number_of_handlers</th>\n",
       "      <th>handler__has_star</th>\n",
       "      <th>handler__has_finally</th>\n",
       "      <th>handler__has_catch_all</th>\n",
       "      <th>handler__average_body_count</th>\n",
       "      <th>handler__expertise_level_BEGINNER</th>\n",
       "    </tr>\n",
       "  </thead>\n",
       "  <tbody>\n",
       "    <tr>\n",
       "      <th>count</th>\n",
       "      <td>800.000000</td>\n",
       "      <td>800.0</td>\n",
       "      <td>800.0</td>\n",
       "      <td>800.0</td>\n",
       "      <td>800.000000</td>\n",
       "      <td>800.0</td>\n",
       "    </tr>\n",
       "    <tr>\n",
       "      <th>mean</th>\n",
       "      <td>0.092500</td>\n",
       "      <td>0.0</td>\n",
       "      <td>1.0</td>\n",
       "      <td>0.0</td>\n",
       "      <td>0.119792</td>\n",
       "      <td>1.0</td>\n",
       "    </tr>\n",
       "    <tr>\n",
       "      <th>std</th>\n",
       "      <td>0.429155</td>\n",
       "      <td>0.0</td>\n",
       "      <td>0.0</td>\n",
       "      <td>0.0</td>\n",
       "      <td>0.543726</td>\n",
       "      <td>0.0</td>\n",
       "    </tr>\n",
       "    <tr>\n",
       "      <th>min</th>\n",
       "      <td>0.000000</td>\n",
       "      <td>0.0</td>\n",
       "      <td>1.0</td>\n",
       "      <td>0.0</td>\n",
       "      <td>0.000000</td>\n",
       "      <td>1.0</td>\n",
       "    </tr>\n",
       "    <tr>\n",
       "      <th>25%</th>\n",
       "      <td>0.000000</td>\n",
       "      <td>0.0</td>\n",
       "      <td>1.0</td>\n",
       "      <td>0.0</td>\n",
       "      <td>0.000000</td>\n",
       "      <td>1.0</td>\n",
       "    </tr>\n",
       "    <tr>\n",
       "      <th>50%</th>\n",
       "      <td>0.000000</td>\n",
       "      <td>0.0</td>\n",
       "      <td>1.0</td>\n",
       "      <td>0.0</td>\n",
       "      <td>0.000000</td>\n",
       "      <td>1.0</td>\n",
       "    </tr>\n",
       "    <tr>\n",
       "      <th>75%</th>\n",
       "      <td>0.000000</td>\n",
       "      <td>0.0</td>\n",
       "      <td>1.0</td>\n",
       "      <td>0.0</td>\n",
       "      <td>0.000000</td>\n",
       "      <td>1.0</td>\n",
       "    </tr>\n",
       "    <tr>\n",
       "      <th>max</th>\n",
       "      <td>6.000000</td>\n",
       "      <td>0.0</td>\n",
       "      <td>1.0</td>\n",
       "      <td>0.0</td>\n",
       "      <td>4.000000</td>\n",
       "      <td>1.0</td>\n",
       "    </tr>\n",
       "  </tbody>\n",
       "</table>\n",
       "</div>"
      ]
     },
     "execution_count": 27,
     "metadata": {},
     "output_type": "execute_result"
    }
   ],
   "execution_count": 27
  },
  {
   "metadata": {},
   "cell_type": "markdown",
   "source": [
    "## Multivariate\n",
    "\n",
    "TODO: isolation forest algorithm"
   ],
   "id": "f94c26eda2e9e89"
  },
  {
   "metadata": {
    "ExecuteTime": {
     "end_time": "2024-05-28T11:12:41.066527Z",
     "start_time": "2024-05-28T11:12:40.499637Z"
    }
   },
   "cell_type": "code",
   "source": [
    "from sklearn.ensemble import  IsolationForest\n",
    "\n",
    "CONTAMINATION_FACTOR = 0.0012\n",
    "isof_model = IsolationForest(contamination=CONTAMINATION_FACTOR, random_state=0)\n",
    "isof_prediction = isof_model.fit_predict(X.values)\n",
    "mask = isof_prediction == -1\n",
    "full_table.loc[X.index[mask]]"
   ],
   "id": "9ccdd843a30139df",
   "outputs": [
    {
     "data": {
      "text/plain": [
       "      handler__number_of_handlers  handler__has_finally  \\\n",
       "93                              6                  True   \n",
       "1401                            1                 False   \n",
       "1442                            1                 False   \n",
       "1486                            1                 False   \n",
       "1527                            1                 False   \n",
       "1569                            1                 False   \n",
       "1610                            1                 False   \n",
       "\n",
       "      handler__has_catch_all  handler__average_body_count  handler__has_star  \\\n",
       "93                     False                     2.833333              False   \n",
       "1401                    True                     7.000000              False   \n",
       "1442                    True                     7.000000              False   \n",
       "1486                    True                     7.000000              False   \n",
       "1527                    True                     7.000000              False   \n",
       "1569                    True                     7.000000              False   \n",
       "1610                    True                     7.000000              False   \n",
       "\n",
       "     handler__expertise_level  \n",
       "93                   BEGINNER  \n",
       "1401                 BEGINNER  \n",
       "1442                 BEGINNER  \n",
       "1486                 BEGINNER  \n",
       "1527                 BEGINNER  \n",
       "1569                 BEGINNER  \n",
       "1610                 BEGINNER  "
      ],
      "text/html": [
       "<div>\n",
       "<style scoped>\n",
       "    .dataframe tbody tr th:only-of-type {\n",
       "        vertical-align: middle;\n",
       "    }\n",
       "\n",
       "    .dataframe tbody tr th {\n",
       "        vertical-align: top;\n",
       "    }\n",
       "\n",
       "    .dataframe thead th {\n",
       "        text-align: right;\n",
       "    }\n",
       "</style>\n",
       "<table border=\"1\" class=\"dataframe\">\n",
       "  <thead>\n",
       "    <tr style=\"text-align: right;\">\n",
       "      <th></th>\n",
       "      <th>handler__number_of_handlers</th>\n",
       "      <th>handler__has_finally</th>\n",
       "      <th>handler__has_catch_all</th>\n",
       "      <th>handler__average_body_count</th>\n",
       "      <th>handler__has_star</th>\n",
       "      <th>handler__expertise_level</th>\n",
       "    </tr>\n",
       "  </thead>\n",
       "  <tbody>\n",
       "    <tr>\n",
       "      <th>93</th>\n",
       "      <td>6</td>\n",
       "      <td>True</td>\n",
       "      <td>False</td>\n",
       "      <td>2.833333</td>\n",
       "      <td>False</td>\n",
       "      <td>BEGINNER</td>\n",
       "    </tr>\n",
       "    <tr>\n",
       "      <th>1401</th>\n",
       "      <td>1</td>\n",
       "      <td>False</td>\n",
       "      <td>True</td>\n",
       "      <td>7.000000</td>\n",
       "      <td>False</td>\n",
       "      <td>BEGINNER</td>\n",
       "    </tr>\n",
       "    <tr>\n",
       "      <th>1442</th>\n",
       "      <td>1</td>\n",
       "      <td>False</td>\n",
       "      <td>True</td>\n",
       "      <td>7.000000</td>\n",
       "      <td>False</td>\n",
       "      <td>BEGINNER</td>\n",
       "    </tr>\n",
       "    <tr>\n",
       "      <th>1486</th>\n",
       "      <td>1</td>\n",
       "      <td>False</td>\n",
       "      <td>True</td>\n",
       "      <td>7.000000</td>\n",
       "      <td>False</td>\n",
       "      <td>BEGINNER</td>\n",
       "    </tr>\n",
       "    <tr>\n",
       "      <th>1527</th>\n",
       "      <td>1</td>\n",
       "      <td>False</td>\n",
       "      <td>True</td>\n",
       "      <td>7.000000</td>\n",
       "      <td>False</td>\n",
       "      <td>BEGINNER</td>\n",
       "    </tr>\n",
       "    <tr>\n",
       "      <th>1569</th>\n",
       "      <td>1</td>\n",
       "      <td>False</td>\n",
       "      <td>True</td>\n",
       "      <td>7.000000</td>\n",
       "      <td>False</td>\n",
       "      <td>BEGINNER</td>\n",
       "    </tr>\n",
       "    <tr>\n",
       "      <th>1610</th>\n",
       "      <td>1</td>\n",
       "      <td>False</td>\n",
       "      <td>True</td>\n",
       "      <td>7.000000</td>\n",
       "      <td>False</td>\n",
       "      <td>BEGINNER</td>\n",
       "    </tr>\n",
       "  </tbody>\n",
       "</table>\n",
       "</div>"
      ]
     },
     "execution_count": 28,
     "metadata": {},
     "output_type": "execute_result"
    }
   ],
   "execution_count": 28
  },
  {
   "metadata": {},
   "cell_type": "markdown",
   "source": [
    "### IMPORTANTE\n",
    "Hay que analizar los 7 outliers detectados"
   ],
   "id": "2734e2a4593d156e"
  }
 ],
 "metadata": {
  "kernelspec": {
   "display_name": "Python 3 (ipykernel)",
   "language": "python",
   "name": "python3"
  },
  "language_info": {
   "codemirror_mode": {
    "name": "ipython",
    "version": 3
   },
   "file_extension": ".py",
   "mimetype": "text/x-python",
   "name": "python",
   "nbconvert_exporter": "python",
   "pygments_lexer": "ipython3",
   "version": "3.12.2"
  },
  "toc-autonumbering": true,
  "toc-showcode": false,
  "toc-showmarkdowntxt": false,
  "toc-showtags": false
 },
 "nbformat": 4,
 "nbformat_minor": 5
}
