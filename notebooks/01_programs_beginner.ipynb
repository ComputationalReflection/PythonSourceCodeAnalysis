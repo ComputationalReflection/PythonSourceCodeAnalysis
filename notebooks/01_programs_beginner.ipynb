{
 "cells": [
  {
   "cell_type": "markdown",
   "id": "ea78b212-ff32-40d1-92e1-9e09d847ae78",
   "metadata": {
    "pycharm": {
     "name": "#%% md\n"
    }
   },
   "source": [
    "# Programs BEGINNER\n",
    "\n",
    "Esta tabla contiene la información a nivel de programa de la clase BEGINNER. Es decir, contiene el porcentaje de clases definidas en el programa, el porcentaje de interfaces y el porcentaje de enumerados. También podemos encontrar otros dos campos que nos indican si el código está en el paquete por defecto o si hay código otros paquetes.  --> ABEL COMPLETAR <--"
   ]
  },
  {
   "cell_type": "markdown",
   "id": "b862cb2f-c1e0-4074-92c0-004dea379079",
   "metadata": {
    "pycharm": {
     "name": "#%% md\n"
    }
   },
   "source": [
    "## 1 - Obtencion de datos"
   ]
  },
  {
   "cell_type": "code",
   "id": "63793d9c-9473-44fa-bb1d-8e4b32fa1457",
   "metadata": {
    "pycharm": {
     "name": "#%%\n"
    },
    "tags": [],
    "ExecuteTime": {
     "end_time": "2024-05-13T20:45:03.842149Z",
     "start_time": "2024-05-13T20:45:00.397591Z"
    }
   },
   "source": [
    "import matplotlib.pyplot as plt\n",
    "from notebooks_utils import *\n",
    "\n",
    "TARGET_FEATURE = 'program__expertise_level'\n",
    "TARGET_CLASS = 'BEGINNER'\n",
    "full_table = get_data('programs')\n",
    "\n",
    "instances_for_class_low = len(full_table[full_table[TARGET_FEATURE] == \"BEGINNER\"])\n",
    "instances_for_class_high = len(full_table[full_table[TARGET_FEATURE] == \"EXPERT\"])\n",
    "\n",
    "print(f\"The dataset contains {instances_for_class_low} ({instances_for_class_low/len(full_table)*100:.4}%) instances for BEGINNER class and {instances_for_class_high} ({instances_for_class_high/len(full_table)*100:.4}%) for EXPERT class.\")"
   ],
   "outputs": [
    {
     "name": "stdout",
     "output_type": "stream",
     "text": [
      "2024-05-13 22:45:03.837716 Data cache files found ...\n",
      "2024-05-13 22:45:03.838717 Data cache files successfully loaded!!\n",
      "The dataset contains 1591 (98.88%) instances for BEGINNER class and 18 (1.119%) for EXPERT class.\n"
     ]
    }
   ],
   "execution_count": 1
  },
  {
   "metadata": {
    "ExecuteTime": {
     "end_time": "2024-05-13T20:45:03.856760Z",
     "start_time": "2024-05-13T20:45:03.845209Z"
    }
   },
   "cell_type": "code",
   "source": [
    "full_table = full_table[full_table[TARGET_FEATURE] == TARGET_CLASS]\n",
    "\n",
    "# Table name and features.\n",
    "TABLE_NAME = 'programs'\n",
    "TABLE_FEATURES = ['program__has_sub_dirs_with_code','program__has_packages','program__number_of_modules','program__number_of_sub_dirs_with_code','program__number_of_packages','program__class_defs_pct','program__function_defs_pct','program__enum_defs_pct','program__has_code_root_package','program__average_defs_per_module']\n",
    "\n",
    "# Load features.\n",
    "X = full_table[TABLE_FEATURES]\n",
    "\n",
    "# Print information about the loaded table.\n",
    "print(f' {TARGET_CLASS} CLASS Features shape: {X.shape}')\n",
    "\n",
    "print(f'As we can see the downloaded data contains a total of {X.shape[0]} instances of {TARGET_CLASS}. Each of the instances corresponds to a program. For each program we have {X.shape[1]} attributes.')"
   ],
   "id": "68445c8be4d3db17",
   "outputs": [
    {
     "name": "stdout",
     "output_type": "stream",
     "text": [
      " BEGINNER CLASS Features shape: (1591, 10)\n",
      "As we can see the downloaded data contains a total of 1591 instances of BEGINNER. Each of the instances corresponds to a program. For each program we have 10 attributes.\n"
     ]
    }
   ],
   "execution_count": 2
  },
  {
   "cell_type": "markdown",
   "id": "3ff70454-366f-4231-831d-723eeb63576b",
   "metadata": {},
   "source": "## 2 - Exploracion de datos"
  },
  {
   "cell_type": "code",
   "id": "9b526577-537d-44b0-951b-168278ce7a5c",
   "metadata": {
    "ExecuteTime": {
     "end_time": "2024-05-13T20:45:03.874409Z",
     "start_time": "2024-05-13T20:45:03.859769Z"
    }
   },
   "source": "print(X.info())",
   "outputs": [
    {
     "name": "stdout",
     "output_type": "stream",
     "text": [
      "<class 'pandas.core.frame.DataFrame'>\n",
      "Index: 1591 entries, 0 to 1595\n",
      "Data columns (total 10 columns):\n",
      " #   Column                                 Non-Null Count  Dtype  \n",
      "---  ------                                 --------------  -----  \n",
      " 0   program__has_sub_dirs_with_code        1591 non-null   bool   \n",
      " 1   program__has_packages                  1591 non-null   bool   \n",
      " 2   program__number_of_modules             1591 non-null   int64  \n",
      " 3   program__number_of_sub_dirs_with_code  1591 non-null   int64  \n",
      " 4   program__number_of_packages            1591 non-null   int64  \n",
      " 5   program__class_defs_pct                1591 non-null   float64\n",
      " 6   program__function_defs_pct             1591 non-null   float64\n",
      " 7   program__enum_defs_pct                 1591 non-null   float64\n",
      " 8   program__has_code_root_package         1591 non-null   bool   \n",
      " 9   program__average_defs_per_module       1591 non-null   float64\n",
      "dtypes: bool(3), float64(4), int64(3)\n",
      "memory usage: 104.1 KB\n",
      "None\n"
     ]
    }
   ],
   "execution_count": 3
  },
  {
   "cell_type": "markdown",
   "id": "cbf77cd4-9819-4da1-9405-44054d2290e1",
   "metadata": {},
   "source": "Cómo podemos ver la tabla está compuesta por 7 variables numéricas, 3 variables boleanas."
  },
  {
   "cell_type": "markdown",
   "id": "7f619a1e-3b8b-4929-b41c-8edef4cc2d6a",
   "metadata": {},
   "source": [
    "### 2.1 - Duplicados\n",
    "Miramos si la tabla tiene entradas duplicadas."
   ]
  },
  {
   "cell_type": "code",
   "id": "ba8d29f2-8771-4e1f-8ecb-31bb827bf988",
   "metadata": {
    "ExecuteTime": {
     "end_time": "2024-05-13T20:45:03.888422Z",
     "start_time": "2024-05-13T20:45:03.877420Z"
    }
   },
   "source": [
    "number_of_duplicated_entries = sum(full_table.duplicated(subset=TABLE_FEATURES))\n",
    "duplicated_entries_pct = number_of_duplicated_entries / len(full_table) * 100\n",
    "print(f\"The dataset contains [{duplicated_entries_pct:.4}%] of duplicated entries.\")"
   ],
   "outputs": [
    {
     "name": "stdout",
     "output_type": "stream",
     "text": [
      "The dataset contains [90.38%] of duplicated entries.\n"
     ]
    }
   ],
   "execution_count": 4
  },
  {
   "cell_type": "markdown",
   "id": "31d297c18f157194",
   "metadata": {
    "collapsed": false
   },
   "source": [
    "### 2.2 - Valores Nulos \n",
    "Miramos si alguna de las variables que contiene la tabla contiene algún valor que sea nulo."
   ]
  },
  {
   "cell_type": "code",
   "id": "afeed2ce9080cbbb",
   "metadata": {
    "collapsed": false,
    "ExecuteTime": {
     "end_time": "2024-05-13T20:45:03.903796Z",
     "start_time": "2024-05-13T20:45:03.890430Z"
    }
   },
   "source": [
    "X.isnull().sum()"
   ],
   "outputs": [
    {
     "data": {
      "text/plain": [
       "program__has_sub_dirs_with_code          0\n",
       "program__has_packages                    0\n",
       "program__number_of_modules               0\n",
       "program__number_of_sub_dirs_with_code    0\n",
       "program__number_of_packages              0\n",
       "program__class_defs_pct                  0\n",
       "program__function_defs_pct               0\n",
       "program__enum_defs_pct                   0\n",
       "program__has_code_root_package           0\n",
       "program__average_defs_per_module         0\n",
       "dtype: int64"
      ]
     },
     "execution_count": 5,
     "metadata": {},
     "output_type": "execute_result"
    }
   ],
   "execution_count": 5
  },
  {
   "cell_type": "markdown",
   "id": "1a8e02c0c52edff9",
   "metadata": {
    "collapsed": false
   },
   "source": "Aunque una columna no contenga valores nulos podría ser que contenga valores vacíos."
  },
  {
   "cell_type": "code",
   "id": "73b9dc2f9efc111a",
   "metadata": {
    "collapsed": false,
    "ExecuteTime": {
     "end_time": "2024-05-13T20:45:03.918319Z",
     "start_time": "2024-05-13T20:45:03.906806Z"
    }
   },
   "source": [
    "print_empty_cols(X)"
   ],
   "outputs": [
    {
     "name": "stdout",
     "output_type": "stream",
     "text": [
      "program__has_sub_dirs_with_code\n",
      "-------------------------------\n",
      "0 instancias no tienen un valor para la columna program__has_sub_dirs_with_code\n",
      "\n",
      "\n",
      "program__has_packages\n",
      "---------------------\n",
      "0 instancias no tienen un valor para la columna program__has_packages\n",
      "\n",
      "\n",
      "program__number_of_modules\n",
      "--------------------------\n",
      "0 instancias no tienen un valor para la columna program__number_of_modules\n",
      "\n",
      "\n",
      "program__number_of_sub_dirs_with_code\n",
      "-------------------------------------\n",
      "0 instancias no tienen un valor para la columna program__number_of_sub_dirs_with_code\n",
      "\n",
      "\n",
      "program__number_of_packages\n",
      "---------------------------\n",
      "0 instancias no tienen un valor para la columna program__number_of_packages\n",
      "\n",
      "\n",
      "program__class_defs_pct\n",
      "-----------------------\n",
      "0 instancias no tienen un valor para la columna program__class_defs_pct\n",
      "\n",
      "\n",
      "program__function_defs_pct\n",
      "--------------------------\n",
      "0 instancias no tienen un valor para la columna program__function_defs_pct\n",
      "\n",
      "\n",
      "program__enum_defs_pct\n",
      "----------------------\n",
      "0 instancias no tienen un valor para la columna program__enum_defs_pct\n",
      "\n",
      "\n",
      "program__has_code_root_package\n",
      "------------------------------\n",
      "0 instancias no tienen un valor para la columna program__has_code_root_package\n",
      "\n",
      "\n",
      "program__average_defs_per_module\n",
      "--------------------------------\n",
      "0 instancias no tienen un valor para la columna program__average_defs_per_module\n",
      "\n",
      "\n"
     ]
    }
   ],
   "execution_count": 6
  },
  {
   "cell_type": "markdown",
   "id": "105774ea722bf467",
   "metadata": {
    "collapsed": false
   },
   "source": "### 2.3 - Describimos los valores de las variables de la tabla."
  },
  {
   "cell_type": "code",
   "id": "d3be1e5cec1af46c",
   "metadata": {
    "collapsed": false,
    "ExecuteTime": {
     "end_time": "2024-05-13T20:45:03.960677Z",
     "start_time": "2024-05-13T20:45:03.920325Z"
    }
   },
   "source": [
    "np.transpose(X.describe(percentiles=[.25, .50, .75], include = ['object', 'float', 'bool', 'int']))"
   ],
   "outputs": [
    {
     "data": {
      "text/plain": [
       "                                        count unique    top  freq      mean  \\\n",
       "program__has_sub_dirs_with_code          1591      2  False  1557       NaN   \n",
       "program__has_packages                    1591      2  False  1585       NaN   \n",
       "program__number_of_modules             1591.0    NaN    NaN   NaN  4.477687   \n",
       "program__number_of_sub_dirs_with_code  1591.0    NaN    NaN   NaN  0.033312   \n",
       "program__number_of_packages            1591.0    NaN    NaN   NaN  0.271527   \n",
       "program__class_defs_pct                1591.0    NaN    NaN   NaN  0.007471   \n",
       "program__function_defs_pct             1591.0    NaN    NaN   NaN  0.650606   \n",
       "program__enum_defs_pct                 1591.0    NaN    NaN   NaN       0.0   \n",
       "program__has_code_root_package           1591      1   True  1591       NaN   \n",
       "program__average_defs_per_module       1591.0    NaN    NaN   NaN  1.781975   \n",
       "\n",
       "                                             std  min  25%       50%  75%  \\\n",
       "program__has_sub_dirs_with_code              NaN  NaN  NaN       NaN  NaN   \n",
       "program__has_packages                        NaN  NaN  NaN       NaN  NaN   \n",
       "program__number_of_modules             32.864396  1.0  1.0       3.0  3.0   \n",
       "program__number_of_sub_dirs_with_code   0.298038  0.0  0.0       0.0  0.0   \n",
       "program__number_of_packages             4.416714  0.0  0.0       0.0  0.0   \n",
       "program__class_defs_pct                 0.068747  0.0  0.0       0.0  0.0   \n",
       "program__function_defs_pct              0.474096  0.0  0.0       1.0  1.0   \n",
       "program__enum_defs_pct                       0.0  0.0  0.0       0.0  0.0   \n",
       "program__has_code_root_package               NaN  NaN  NaN       NaN  NaN   \n",
       "program__average_defs_per_module         2.94985  0.0  0.0  0.666667  2.0   \n",
       "\n",
       "                                         max  \n",
       "program__has_sub_dirs_with_code          NaN  \n",
       "program__has_packages                    NaN  \n",
       "program__number_of_modules             544.0  \n",
       "program__number_of_sub_dirs_with_code    8.0  \n",
       "program__number_of_packages             73.0  \n",
       "program__class_defs_pct                  1.0  \n",
       "program__function_defs_pct               1.0  \n",
       "program__enum_defs_pct                   0.0  \n",
       "program__has_code_root_package           NaN  \n",
       "program__average_defs_per_module        26.0  "
      ],
      "text/html": [
       "<div>\n",
       "<style scoped>\n",
       "    .dataframe tbody tr th:only-of-type {\n",
       "        vertical-align: middle;\n",
       "    }\n",
       "\n",
       "    .dataframe tbody tr th {\n",
       "        vertical-align: top;\n",
       "    }\n",
       "\n",
       "    .dataframe thead th {\n",
       "        text-align: right;\n",
       "    }\n",
       "</style>\n",
       "<table border=\"1\" class=\"dataframe\">\n",
       "  <thead>\n",
       "    <tr style=\"text-align: right;\">\n",
       "      <th></th>\n",
       "      <th>count</th>\n",
       "      <th>unique</th>\n",
       "      <th>top</th>\n",
       "      <th>freq</th>\n",
       "      <th>mean</th>\n",
       "      <th>std</th>\n",
       "      <th>min</th>\n",
       "      <th>25%</th>\n",
       "      <th>50%</th>\n",
       "      <th>75%</th>\n",
       "      <th>max</th>\n",
       "    </tr>\n",
       "  </thead>\n",
       "  <tbody>\n",
       "    <tr>\n",
       "      <th>program__has_sub_dirs_with_code</th>\n",
       "      <td>1591</td>\n",
       "      <td>2</td>\n",
       "      <td>False</td>\n",
       "      <td>1557</td>\n",
       "      <td>NaN</td>\n",
       "      <td>NaN</td>\n",
       "      <td>NaN</td>\n",
       "      <td>NaN</td>\n",
       "      <td>NaN</td>\n",
       "      <td>NaN</td>\n",
       "      <td>NaN</td>\n",
       "    </tr>\n",
       "    <tr>\n",
       "      <th>program__has_packages</th>\n",
       "      <td>1591</td>\n",
       "      <td>2</td>\n",
       "      <td>False</td>\n",
       "      <td>1585</td>\n",
       "      <td>NaN</td>\n",
       "      <td>NaN</td>\n",
       "      <td>NaN</td>\n",
       "      <td>NaN</td>\n",
       "      <td>NaN</td>\n",
       "      <td>NaN</td>\n",
       "      <td>NaN</td>\n",
       "    </tr>\n",
       "    <tr>\n",
       "      <th>program__number_of_modules</th>\n",
       "      <td>1591.0</td>\n",
       "      <td>NaN</td>\n",
       "      <td>NaN</td>\n",
       "      <td>NaN</td>\n",
       "      <td>4.477687</td>\n",
       "      <td>32.864396</td>\n",
       "      <td>1.0</td>\n",
       "      <td>1.0</td>\n",
       "      <td>3.0</td>\n",
       "      <td>3.0</td>\n",
       "      <td>544.0</td>\n",
       "    </tr>\n",
       "    <tr>\n",
       "      <th>program__number_of_sub_dirs_with_code</th>\n",
       "      <td>1591.0</td>\n",
       "      <td>NaN</td>\n",
       "      <td>NaN</td>\n",
       "      <td>NaN</td>\n",
       "      <td>0.033312</td>\n",
       "      <td>0.298038</td>\n",
       "      <td>0.0</td>\n",
       "      <td>0.0</td>\n",
       "      <td>0.0</td>\n",
       "      <td>0.0</td>\n",
       "      <td>8.0</td>\n",
       "    </tr>\n",
       "    <tr>\n",
       "      <th>program__number_of_packages</th>\n",
       "      <td>1591.0</td>\n",
       "      <td>NaN</td>\n",
       "      <td>NaN</td>\n",
       "      <td>NaN</td>\n",
       "      <td>0.271527</td>\n",
       "      <td>4.416714</td>\n",
       "      <td>0.0</td>\n",
       "      <td>0.0</td>\n",
       "      <td>0.0</td>\n",
       "      <td>0.0</td>\n",
       "      <td>73.0</td>\n",
       "    </tr>\n",
       "    <tr>\n",
       "      <th>program__class_defs_pct</th>\n",
       "      <td>1591.0</td>\n",
       "      <td>NaN</td>\n",
       "      <td>NaN</td>\n",
       "      <td>NaN</td>\n",
       "      <td>0.007471</td>\n",
       "      <td>0.068747</td>\n",
       "      <td>0.0</td>\n",
       "      <td>0.0</td>\n",
       "      <td>0.0</td>\n",
       "      <td>0.0</td>\n",
       "      <td>1.0</td>\n",
       "    </tr>\n",
       "    <tr>\n",
       "      <th>program__function_defs_pct</th>\n",
       "      <td>1591.0</td>\n",
       "      <td>NaN</td>\n",
       "      <td>NaN</td>\n",
       "      <td>NaN</td>\n",
       "      <td>0.650606</td>\n",
       "      <td>0.474096</td>\n",
       "      <td>0.0</td>\n",
       "      <td>0.0</td>\n",
       "      <td>1.0</td>\n",
       "      <td>1.0</td>\n",
       "      <td>1.0</td>\n",
       "    </tr>\n",
       "    <tr>\n",
       "      <th>program__enum_defs_pct</th>\n",
       "      <td>1591.0</td>\n",
       "      <td>NaN</td>\n",
       "      <td>NaN</td>\n",
       "      <td>NaN</td>\n",
       "      <td>0.0</td>\n",
       "      <td>0.0</td>\n",
       "      <td>0.0</td>\n",
       "      <td>0.0</td>\n",
       "      <td>0.0</td>\n",
       "      <td>0.0</td>\n",
       "      <td>0.0</td>\n",
       "    </tr>\n",
       "    <tr>\n",
       "      <th>program__has_code_root_package</th>\n",
       "      <td>1591</td>\n",
       "      <td>1</td>\n",
       "      <td>True</td>\n",
       "      <td>1591</td>\n",
       "      <td>NaN</td>\n",
       "      <td>NaN</td>\n",
       "      <td>NaN</td>\n",
       "      <td>NaN</td>\n",
       "      <td>NaN</td>\n",
       "      <td>NaN</td>\n",
       "      <td>NaN</td>\n",
       "    </tr>\n",
       "    <tr>\n",
       "      <th>program__average_defs_per_module</th>\n",
       "      <td>1591.0</td>\n",
       "      <td>NaN</td>\n",
       "      <td>NaN</td>\n",
       "      <td>NaN</td>\n",
       "      <td>1.781975</td>\n",
       "      <td>2.94985</td>\n",
       "      <td>0.0</td>\n",
       "      <td>0.0</td>\n",
       "      <td>0.666667</td>\n",
       "      <td>2.0</td>\n",
       "      <td>26.0</td>\n",
       "    </tr>\n",
       "  </tbody>\n",
       "</table>\n",
       "</div>"
      ]
     },
     "execution_count": 7,
     "metadata": {},
     "output_type": "execute_result"
    }
   ],
   "execution_count": 7
  },
  {
   "cell_type": "markdown",
   "id": "b9f859b03e8083f1",
   "metadata": {
    "collapsed": false
   },
   "source": "Vamos a discretizar las variables numericas, agrupando conjuntos de valores en categorias, para hacer un análisis de los datos. Para cada variable es necesaario ver la distribucion de lo valores para hacer los bins (categorias)."
  },
  {
   "cell_type": "code",
   "id": "b7cf5fae0fd0e5ef",
   "metadata": {
    "collapsed": false,
    "ExecuteTime": {
     "end_time": "2024-05-13T20:45:04.109648Z",
     "start_time": "2024-05-13T20:45:03.962687Z"
    }
   },
   "source": [
    "# DISCRETIZATION\n",
    "X_copy = X.copy()\n",
    "\n",
    "discretized_columns = {\n",
    "    \"program__class_defs_pct\": [(0.0, 0.0), (0.0, inf)],  # min: 0.0 max: 1.0\n",
    "    \"program__function_defs_pct\": [(0.0, 0.0),(0.0, 1.0), (1.0, 1.0)],  # min: 0.0 max: 1.0\n",
    "    \"program__enum_defs_pct\": [(0.0, 0.0), (0.0, inf)],  # min: 0.0 max: 0.19\n",
    "    \"program__number_of_modules\": [(1, 1), (2,2), (3,3), (4,inf)],  # min: 1 max: 3294\n",
    "    \"program__number_of_sub_dirs_with_code\": [(0, 0), (0, inf)], # min: 0 max: 238\n",
    "    \"program__number_of_packages\": [(0, 0), (0, inf)], # min: 0 max: 1297\n",
    "    \"program__average_defs_per_module\": [(0, 0), (0, 1), (1, 3), (3, inf)], # min: 0 max: 26    \n",
    "}\n",
    "\n",
    "discretize_columns(X_copy, discretized_columns)\n",
    "    \n",
    "# SINGLE FEATURE\n",
    "print(\"--- SINGLE FEATURE ---\")\n",
    "print(get_statistics(X_copy, ['program__has_sub_dirs_with_code'], 10))\n",
    "print(get_statistics(X_copy, ['program__has_packages'], 10))\n",
    "print(get_statistics(X_copy, ['program__has_code_root_package'], 10))\n",
    "print(get_statistics(X_copy, ['program__class_defs_pct'], 10))\n",
    "print(get_statistics(X_copy, ['program__function_defs_pct'], 10))\n",
    "print(get_statistics(X_copy, ['program__enum_defs_pct'], 10))\n",
    "print(get_statistics(X_copy, ['program__number_of_sub_dirs_with_code'], 10))\n",
    "print(get_statistics(X_copy, ['program__number_of_modules'], 10))\n",
    "print(get_statistics(X_copy, ['program__number_of_packages'], 10))\n",
    "print(get_statistics(X_copy, ['program__average_defs_per_module'], 10))\n",
    "\n",
    "# 2 FEATURES\n",
    "print(\"--- TWO FEATURES ---\")\n",
    "print(get_statistics(X_copy, ['program__has_sub_dirs_with_code', 'program__has_packages'], 10))\n",
    "print(get_statistics(X_copy, ['program__has_sub_dirs_with_code', 'program__has_code_root_package'], 10))\n",
    "print(get_statistics(X_copy, ['program__has_packages', 'program__has_code_root_package'], 10))\n",
    "print(get_statistics(X_copy, ['program__class_defs_pct', 'program__function_defs_pct'], 10))\n",
    "print(get_statistics(X_copy, ['program__class_defs_pct', 'program__enum_defs_pct'], 10))\n",
    "print(get_statistics(X_copy, ['program__function_defs_pct', 'program__enum_defs_pct'], 10))\n",
    "print(get_statistics(X_copy, ['program__number_of_sub_dirs_with_code', 'program__number_of_modules'], 10))\n",
    "print(get_statistics(X_copy, ['program__number_of_sub_dirs_with_code', 'program__number_of_packages'], 10))\n",
    "print(get_statistics(X_copy, ['program__number_of_modules', 'program__number_of_packages'], 10))\n",
    "\n",
    "# 3 FEATURES\n",
    "print(\"--- THREE FEATURES ---\")\n",
    "print(get_statistics(X_copy, ['program__has_sub_dirs_with_code', 'program__has_packages', 'program__has_code_root_package'], 10))\n",
    "print(get_statistics(X_copy, ['program__class_defs_pct', 'program__function_defs_pct', 'program__enum_defs_pct'], 10))\n",
    "print(get_statistics(X_copy, ['program__number_of_sub_dirs_with_code', 'program__number_of_modules', 'program__number_of_packages'], 10))"
   ],
   "outputs": [
    {
     "name": "stdout",
     "output_type": "stream",
     "text": [
      "--- SINGLE FEATURE ---\n",
      " program__has_sub_dirs_with_code  count  percentage\n",
      "                           False   1557   97.862979\n",
      "                            True     34    2.137021\n",
      "\n",
      " program__has_packages  count  percentage\n",
      "                 False   1585   99.622879\n",
      "                  True      6    0.377121\n",
      "\n",
      " program__has_code_root_package  count  percentage\n",
      "                           True   1591       100.0\n",
      "\n",
      "program__class_defs_pct  count  percentage\n",
      "              [0.0_0.0]   1560    98.05154\n",
      "              [0.0_inf]     31     1.94846\n",
      "\n",
      "program__function_defs_pct  count  percentage\n",
      "                 [1.0_1.0]   1016   63.859208\n",
      "                 [0.0_0.0]    547   34.380893\n",
      "                 [0.0_1.0)     28    1.759899\n",
      "\n",
      "program__enum_defs_pct  count  percentage\n",
      "             [0.0_0.0]   1591       100.0\n",
      "\n",
      "program__number_of_sub_dirs_with_code  count  percentage\n",
      "                                [0_0]   1557   97.862979\n",
      "                              [0_inf]     34    2.137021\n",
      "\n",
      "program__number_of_modules  count  percentage\n",
      "                     [3_3]    609   38.277813\n",
      "                     [1_1]    573   36.015085\n",
      "                   [4_inf]    208   13.073539\n",
      "                     [2_2]    201   12.633564\n",
      "\n",
      "program__number_of_packages  count  percentage\n",
      "                      [0_0]   1585   99.622879\n",
      "                    [0_inf]      6    0.377121\n",
      "\n",
      "program__average_defs_per_module  count  percentage\n",
      "                           [0_0]    544   34.192332\n",
      "                           [1_3)    458   28.786926\n",
      "                         [3_inf]    314   19.736015\n",
      "                           [0_1)    275   17.284727\n",
      "\n",
      "--- TWO FEATURES ---\n",
      " program__has_sub_dirs_with_code  program__has_packages  count  percentage\n",
      "                           False                  False   1557   97.862979\n",
      "                            True                  False     28    1.759899\n",
      "                            True                   True      6    0.377121\n",
      "\n",
      " program__has_sub_dirs_with_code  program__has_code_root_package  count  percentage\n",
      "                           False                            True   1557   97.862979\n",
      "                            True                            True     34    2.137021\n",
      "\n",
      " program__has_packages  program__has_code_root_package  count  percentage\n",
      "                 False                            True   1585   99.622879\n",
      "                  True                            True      6    0.377121\n",
      "\n",
      "program__class_defs_pct program__function_defs_pct  count  percentage\n",
      "              [0.0_0.0]                  [1.0_1.0]   1016   63.859208\n",
      "              [0.0_0.0]                  [0.0_0.0]    544   34.192332\n",
      "              [0.0_inf]                  [0.0_1.0)     28    1.759899\n",
      "              [0.0_inf]                  [0.0_0.0]      3    0.188561\n",
      "\n",
      "program__class_defs_pct program__enum_defs_pct  count  percentage\n",
      "              [0.0_0.0]              [0.0_0.0]   1560    98.05154\n",
      "              [0.0_inf]              [0.0_0.0]     31     1.94846\n",
      "\n",
      "program__function_defs_pct program__enum_defs_pct  count  percentage\n",
      "                 [1.0_1.0]              [0.0_0.0]   1016   63.859208\n",
      "                 [0.0_0.0]              [0.0_0.0]    547   34.380893\n",
      "                 [0.0_1.0)              [0.0_0.0]     28    1.759899\n",
      "\n",
      "program__number_of_sub_dirs_with_code program__number_of_modules  count  percentage\n",
      "                                [0_0]                      [3_3]    600   37.712131\n",
      "                                [0_0]                      [1_1]    573   36.015085\n",
      "                                [0_0]                      [2_2]    195   12.256442\n",
      "                                [0_0]                    [4_inf]    189   11.879321\n",
      "                              [0_inf]                    [4_inf]     19    1.194217\n",
      "                              [0_inf]                      [3_3]      9    0.565682\n",
      "                              [0_inf]                      [2_2]      6    0.377121\n",
      "\n",
      "program__number_of_sub_dirs_with_code program__number_of_packages  count  percentage\n",
      "                                [0_0]                       [0_0]   1557   97.862979\n",
      "                              [0_inf]                       [0_0]     28    1.759899\n",
      "                              [0_inf]                     [0_inf]      6    0.377121\n",
      "\n",
      "program__number_of_modules program__number_of_packages  count  percentage\n",
      "                     [3_3]                       [0_0]    609   38.277813\n",
      "                     [1_1]                       [0_0]    573   36.015085\n",
      "                   [4_inf]                       [0_0]    202   12.696417\n",
      "                     [2_2]                       [0_0]    201   12.633564\n",
      "                   [4_inf]                     [0_inf]      6    0.377121\n",
      "\n",
      "--- THREE FEATURES ---\n",
      " program__has_sub_dirs_with_code  program__has_packages  program__has_code_root_package  count  percentage\n",
      "                           False                  False                            True   1557   97.862979\n",
      "                            True                  False                            True     28    1.759899\n",
      "                            True                   True                            True      6    0.377121\n",
      "\n",
      "program__class_defs_pct program__function_defs_pct program__enum_defs_pct  count  percentage\n",
      "              [0.0_0.0]                  [1.0_1.0]              [0.0_0.0]   1016   63.859208\n",
      "              [0.0_0.0]                  [0.0_0.0]              [0.0_0.0]    544   34.192332\n",
      "              [0.0_inf]                  [0.0_1.0)              [0.0_0.0]     28    1.759899\n",
      "              [0.0_inf]                  [0.0_0.0]              [0.0_0.0]      3    0.188561\n",
      "\n",
      "program__number_of_sub_dirs_with_code program__number_of_modules program__number_of_packages  count  percentage\n",
      "                                [0_0]                      [3_3]                       [0_0]    600   37.712131\n",
      "                                [0_0]                      [1_1]                       [0_0]    573   36.015085\n",
      "                                [0_0]                      [2_2]                       [0_0]    195   12.256442\n",
      "                                [0_0]                    [4_inf]                       [0_0]    189   11.879321\n",
      "                              [0_inf]                    [4_inf]                       [0_0]     13    0.817096\n",
      "                              [0_inf]                      [3_3]                       [0_0]      9    0.565682\n",
      "                              [0_inf]                      [2_2]                       [0_0]      6    0.377121\n",
      "                              [0_inf]                    [4_inf]                     [0_inf]      6    0.377121\n",
      "\n"
     ]
    }
   ],
   "execution_count": 8
  },
  {
   "cell_type": "code",
   "id": "1ca9a43e-6db6-44a7-aaab-65f00d1ea79e",
   "metadata": {
    "pycharm": {
     "name": "#%%\n"
    },
    "tags": [],
    "ExecuteTime": {
     "end_time": "2024-05-13T20:45:04.120875Z",
     "start_time": "2024-05-13T20:45:04.111723Z"
    }
   },
   "source": [
    "def normalize_datatypes(X:pd.DataFrame) -> (pd.DataFrame, [str]):\n",
    "    X = pd.get_dummies(X)\n",
    "    X = X.astype('float32')        \n",
    "    columns_names = X.columns.tolist()\n",
    "    return X, columns_names\n",
    "\n",
    "X, TABLE_FEATURES = normalize_datatypes(X)\n",
    "# Print information about the loaded table\n",
    "print(f'Features shape: {X.shape}')"
   ],
   "outputs": [
    {
     "name": "stdout",
     "output_type": "stream",
     "text": [
      "Features shape: (1591, 10)\n"
     ]
    }
   ],
   "execution_count": 9
  },
  {
   "cell_type": "markdown",
   "id": "e9fc6a7d9acd9a9e",
   "metadata": {
    "collapsed": false
   },
   "source": [
    "#### Muestra la matriz de correlación de pearson entre las variables de la tabla."
   ]
  },
  {
   "cell_type": "code",
   "id": "70af048034c80af1",
   "metadata": {
    "collapsed": false,
    "ExecuteTime": {
     "end_time": "2024-05-13T20:45:04.902984Z",
     "start_time": "2024-05-13T20:45:04.125887Z"
    }
   },
   "source": [
    "sns.heatmap(X.corr(), annot=True)"
   ],
   "outputs": [
    {
     "data": {
      "text/plain": [
       "<Axes: >"
      ]
     },
     "execution_count": 10,
     "metadata": {},
     "output_type": "execute_result"
    },
    {
     "data": {
      "text/plain": [
       "<Figure size 640x480 with 2 Axes>"
      ],
      "image/png": "[encoded data removed]"
     },
     "metadata": {},
     "output_type": "display_data"
    }
   ],
   "execution_count": 10
  },
  {
   "cell_type": "markdown",
   "id": "9a47cdd4cc2b3fae",
   "metadata": {
    "collapsed": false
   },
   "source": [
    "## 3 - Detección de valores atípicos (outliers)\n",
    "## Univariate\n",
    "## Analisis detallado de variables\n",
    "Para cada una de las 10 variable (3 booleanas, 4 porcentuales y 3 numericas) se hara un analisis detallado"
   ]
  },
  {
   "cell_type": "markdown",
   "source": [
    "### Variable has_sub_dirs_with_code (1/10)\n",
    "Esta variable es de tipo booleano y representa si el programa contiene algún subdirectorio con código."
   ],
   "metadata": {
    "collapsed": false
   },
   "id": "59c216b40cd37670"
  },
  {
   "cell_type": "code",
   "id": "1b756a3a68d1ff37",
   "metadata": {
    "collapsed": false,
    "ExecuteTime": {
     "end_time": "2024-05-13T20:45:05.118504Z",
     "start_time": "2024-05-13T20:45:04.904994Z"
    }
   },
   "source": [
    "plt.xticks([0, 1], ['False', 'True'])\n",
    "sns.histplot(X['program__has_sub_dirs_with_code'], discrete=True)"
   ],
   "outputs": [
    {
     "data": {
      "text/plain": [
       "<Axes: xlabel='program__has_sub_dirs_with_code', ylabel='Count'>"
      ]
     },
     "execution_count": 11,
     "metadata": {},
     "output_type": "execute_result"
    },
    {
     "data": {
      "text/plain": [
       "<Figure size 640x480 with 1 Axes>"
      ],
      "image/png": "[encoded data removed]"
     },
     "metadata": {},
     "output_type": "display_data"
    }
   ],
   "execution_count": 11
  },
  {
   "cell_type": "code",
   "id": "199172bf4c3e2333",
   "metadata": {
    "collapsed": false,
    "ExecuteTime": {
     "end_time": "2024-05-13T20:45:05.134531Z",
     "start_time": "2024-05-13T20:45:05.121513Z"
    }
   },
   "source": [
    "num_true_values = len(X[X['program__has_sub_dirs_with_code'] == True])\n",
    "num_false_values = len(X[X['program__has_sub_dirs_with_code'] == False])\n",
    "std = X['program__has_sub_dirs_with_code'].std()\n",
    "freq_true = len(X[X['program__has_sub_dirs_with_code'] == True]) / len(X['program__has_sub_dirs_with_code'])\n",
    "freq_false = len(X[X['program__has_sub_dirs_with_code'] == False]) / len(X['program__has_sub_dirs_with_code'])\n",
    "print(f'La variable has_sub_dirs_with_code contiene {num_true_values} valores verdaderos y {num_false_values} valores falsos. Y, la desviación típica es de {std}')\n",
    "print(f'La frecuencia con la que programa puede tener la variable has_sub_dirs_with_code a True es {freq_true}.')\n",
    "print(f'La frecuencia con la que programa puede tener la variable has_sub_dirs_with_code a False es {freq_false}.')"
   ],
   "outputs": [
    {
     "name": "stdout",
     "output_type": "stream",
     "text": [
      "La variable has_sub_dirs_with_code contiene 34 valores verdaderos y 1557 valores falsos. Y, la desviación típica es de 0.14466054737567902\n",
      "La frecuencia con la que programa puede tener la variable has_sub_dirs_with_code a True es 0.021370207416719043.\n",
      "La frecuencia con la que programa puede tener la variable has_sub_dirs_with_code a False es 0.978629792583281.\n"
     ]
    }
   ],
   "execution_count": 12
  },
  {
   "cell_type": "code",
   "id": "3fe7f5c8b29b89ec",
   "metadata": {
    "collapsed": false,
    "ExecuteTime": {
     "end_time": "2024-05-13T20:45:05.143821Z",
     "start_time": "2024-05-13T20:45:05.137059Z"
    }
   },
   "source": [
    "possible_values = [True, False]\n",
    "print_frequency_anal_for_cat_var(X, 'program__has_sub_dirs_with_code', possible_values)"
   ],
   "outputs": [
    {
     "name": "stdout",
     "output_type": "stream",
     "text": [
      "La variable program__has_sub_dirs_with_code contiene 2 valores distintos.\n",
      "El umbral de outlier es de 0.1%\n",
      "La variable program__has_sub_dirs_with_code toma el valor de 0.0 en un 97.86% de los items.\n",
      "La variable program__has_sub_dirs_with_code toma el valor de 1.0 en un 2.137% de los items.\n"
     ]
    }
   ],
   "execution_count": 13
  },
  {
   "cell_type": "markdown",
   "id": "47601e9fcd859220",
   "metadata": {
    "collapsed": false
   },
   "source": "Describimos los valores de las variables de la tabla, cuando la variable tiene el valor a True. "
  },
  {
   "cell_type": "code",
   "id": "79c6ac73f901d5dc",
   "metadata": {
    "collapsed": false,
    "ExecuteTime": {
     "end_time": "2024-05-13T20:45:05.193345Z",
     "start_time": "2024-05-13T20:45:05.145832Z"
    }
   },
   "source": [
    "X[X['program__has_sub_dirs_with_code'] == True].describe(percentiles=[.25, .50, .75], include = ['object', 'float', 'bool', 'int'])"
   ],
   "outputs": [
    {
     "data": {
      "text/plain": [
       "       program__has_sub_dirs_with_code  program__has_packages  \\\n",
       "count                             34.0              34.000000   \n",
       "mean                               1.0               0.176471   \n",
       "std                                0.0               0.386953   \n",
       "min                                1.0               0.000000   \n",
       "25%                                1.0               0.000000   \n",
       "50%                                1.0               0.000000   \n",
       "75%                                1.0               0.000000   \n",
       "max                                1.0               1.000000   \n",
       "\n",
       "       program__number_of_modules  program__number_of_sub_dirs_with_code  \\\n",
       "count                   34.000000                              34.000000   \n",
       "mean                    98.764709                               1.558824   \n",
       "std                    206.309280                               1.352689   \n",
       "min                      2.000000                               1.000000   \n",
       "25%                      3.000000                               1.000000   \n",
       "50%                      4.000000                               1.000000   \n",
       "75%                      7.000000                               1.000000   \n",
       "max                    544.000000                               8.000000   \n",
       "\n",
       "       program__number_of_packages  program__class_defs_pct  \\\n",
       "count                    34.000000                34.000000   \n",
       "mean                     12.705882                 0.068778   \n",
       "std                      27.876926                 0.143449   \n",
       "min                       0.000000                 0.000000   \n",
       "25%                       0.000000                 0.000000   \n",
       "50%                       0.000000                 0.000000   \n",
       "75%                       0.000000                 0.000000   \n",
       "max                      73.000000                 0.395604   \n",
       "\n",
       "       program__function_defs_pct  program__enum_defs_pct  \\\n",
       "count                   34.000000                    34.0   \n",
       "mean                     0.901810                     0.0   \n",
       "std                      0.214059                     0.0   \n",
       "min                      0.000000                     0.0   \n",
       "25%                      1.000000                     0.0   \n",
       "50%                      1.000000                     0.0   \n",
       "75%                      1.000000                     0.0   \n",
       "max                      1.000000                     0.0   \n",
       "\n",
       "       program__has_code_root_package  program__average_defs_per_module  \n",
       "count                            34.0                         34.000000  \n",
       "mean                              1.0                          4.254829  \n",
       "std                               0.0                          4.380107  \n",
       "min                               1.0                          0.000000  \n",
       "25%                               1.0                          0.750000  \n",
       "50%                               1.0                          1.510000  \n",
       "75%                               1.0                          6.589154  \n",
       "max                               1.0                         17.000000  "
      ],
      "text/html": [
       "<div>\n",
       "<style scoped>\n",
       "    .dataframe tbody tr th:only-of-type {\n",
       "        vertical-align: middle;\n",
       "    }\n",
       "\n",
       "    .dataframe tbody tr th {\n",
       "        vertical-align: top;\n",
       "    }\n",
       "\n",
       "    .dataframe thead th {\n",
       "        text-align: right;\n",
       "    }\n",
       "</style>\n",
       "<table border=\"1\" class=\"dataframe\">\n",
       "  <thead>\n",
       "    <tr style=\"text-align: right;\">\n",
       "      <th></th>\n",
       "      <th>program__has_sub_dirs_with_code</th>\n",
       "      <th>program__has_packages</th>\n",
       "      <th>program__number_of_modules</th>\n",
       "      <th>program__number_of_sub_dirs_with_code</th>\n",
       "      <th>program__number_of_packages</th>\n",
       "      <th>program__class_defs_pct</th>\n",
       "      <th>program__function_defs_pct</th>\n",
       "      <th>program__enum_defs_pct</th>\n",
       "      <th>program__has_code_root_package</th>\n",
       "      <th>program__average_defs_per_module</th>\n",
       "    </tr>\n",
       "  </thead>\n",
       "  <tbody>\n",
       "    <tr>\n",
       "      <th>count</th>\n",
       "      <td>34.0</td>\n",
       "      <td>34.000000</td>\n",
       "      <td>34.000000</td>\n",
       "      <td>34.000000</td>\n",
       "      <td>34.000000</td>\n",
       "      <td>34.000000</td>\n",
       "      <td>34.000000</td>\n",
       "      <td>34.0</td>\n",
       "      <td>34.0</td>\n",
       "      <td>34.000000</td>\n",
       "    </tr>\n",
       "    <tr>\n",
       "      <th>mean</th>\n",
       "      <td>1.0</td>\n",
       "      <td>0.176471</td>\n",
       "      <td>98.764709</td>\n",
       "      <td>1.558824</td>\n",
       "      <td>12.705882</td>\n",
       "      <td>0.068778</td>\n",
       "      <td>0.901810</td>\n",
       "      <td>0.0</td>\n",
       "      <td>1.0</td>\n",
       "      <td>4.254829</td>\n",
       "    </tr>\n",
       "    <tr>\n",
       "      <th>std</th>\n",
       "      <td>0.0</td>\n",
       "      <td>0.386953</td>\n",
       "      <td>206.309280</td>\n",
       "      <td>1.352689</td>\n",
       "      <td>27.876926</td>\n",
       "      <td>0.143449</td>\n",
       "      <td>0.214059</td>\n",
       "      <td>0.0</td>\n",
       "      <td>0.0</td>\n",
       "      <td>4.380107</td>\n",
       "    </tr>\n",
       "    <tr>\n",
       "      <th>min</th>\n",
       "      <td>1.0</td>\n",
       "      <td>0.000000</td>\n",
       "      <td>2.000000</td>\n",
       "      <td>1.000000</td>\n",
       "      <td>0.000000</td>\n",
       "      <td>0.000000</td>\n",
       "      <td>0.000000</td>\n",
       "      <td>0.0</td>\n",
       "      <td>1.0</td>\n",
       "      <td>0.000000</td>\n",
       "    </tr>\n",
       "    <tr>\n",
       "      <th>25%</th>\n",
       "      <td>1.0</td>\n",
       "      <td>0.000000</td>\n",
       "      <td>3.000000</td>\n",
       "      <td>1.000000</td>\n",
       "      <td>0.000000</td>\n",
       "      <td>0.000000</td>\n",
       "      <td>1.000000</td>\n",
       "      <td>0.0</td>\n",
       "      <td>1.0</td>\n",
       "      <td>0.750000</td>\n",
       "    </tr>\n",
       "    <tr>\n",
       "      <th>50%</th>\n",
       "      <td>1.0</td>\n",
       "      <td>0.000000</td>\n",
       "      <td>4.000000</td>\n",
       "      <td>1.000000</td>\n",
       "      <td>0.000000</td>\n",
       "      <td>0.000000</td>\n",
       "      <td>1.000000</td>\n",
       "      <td>0.0</td>\n",
       "      <td>1.0</td>\n",
       "      <td>1.510000</td>\n",
       "    </tr>\n",
       "    <tr>\n",
       "      <th>75%</th>\n",
       "      <td>1.0</td>\n",
       "      <td>0.000000</td>\n",
       "      <td>7.000000</td>\n",
       "      <td>1.000000</td>\n",
       "      <td>0.000000</td>\n",
       "      <td>0.000000</td>\n",
       "      <td>1.000000</td>\n",
       "      <td>0.0</td>\n",
       "      <td>1.0</td>\n",
       "      <td>6.589154</td>\n",
       "    </tr>\n",
       "    <tr>\n",
       "      <th>max</th>\n",
       "      <td>1.0</td>\n",
       "      <td>1.000000</td>\n",
       "      <td>544.000000</td>\n",
       "      <td>8.000000</td>\n",
       "      <td>73.000000</td>\n",
       "      <td>0.395604</td>\n",
       "      <td>1.000000</td>\n",
       "      <td>0.0</td>\n",
       "      <td>1.0</td>\n",
       "      <td>17.000000</td>\n",
       "    </tr>\n",
       "  </tbody>\n",
       "</table>\n",
       "</div>"
      ]
     },
     "execution_count": 14,
     "metadata": {},
     "output_type": "execute_result"
    }
   ],
   "execution_count": 14
  },
  {
   "cell_type": "markdown",
   "id": "9fda3aab7303f0d4",
   "metadata": {
    "collapsed": false
   },
   "source": [
    "### Variable has_packages (2/10)\n",
    "Esta variable es de tipo booleano y representa si el programa contiene algún paquete."
   ]
  },
  {
   "cell_type": "code",
   "id": "921614f9",
   "metadata": {
    "ExecuteTime": {
     "end_time": "2024-05-13T20:45:05.440795Z",
     "start_time": "2024-05-13T20:45:05.195354Z"
    }
   },
   "source": [
    "plt.xticks([0, 1], ['False', 'True'])\n",
    "sns.histplot(X['program__has_packages'], discrete=True)"
   ],
   "outputs": [
    {
     "data": {
      "text/plain": [
       "<Axes: xlabel='program__has_packages', ylabel='Count'>"
      ]
     },
     "execution_count": 15,
     "metadata": {},
     "output_type": "execute_result"
    },
    {
     "data": {
      "text/plain": [
       "<Figure size 640x480 with 1 Axes>"
      ],
      "image/png": "[encoded data removed]"
     },
     "metadata": {},
     "output_type": "display_data"
    }
   ],
   "execution_count": 15
  },
  {
   "cell_type": "code",
   "id": "3d974464",
   "metadata": {
    "ExecuteTime": {
     "end_time": "2024-05-13T20:45:05.456185Z",
     "start_time": "2024-05-13T20:45:05.442810Z"
    }
   },
   "source": [
    "#ANALISIS DE DISTRIBUCIÓN DE DATOS\n",
    "num_true_values = len(X[X['program__has_packages'] == True])\n",
    "num_false_values = len(X[X['program__has_packages'] == False])\n",
    "std = X['program__has_packages'].std()\n",
    "freq_true = len(X[X['program__has_packages'] == True]) / len(X['program__has_packages'])\n",
    "freq_false = len(X[X['program__has_packages'] == False]) / len(X['program__has_packages'])\n",
    "print(f'La variable program__has_packages contiene {num_true_values} valores verdaderos y {num_false_values} valores falsos. Y, la desviación típica es de {std}')\n",
    "print(f'La frecuencia con la que programa puede tener la variable program__has_packages a True es {freq_true}.')\n",
    "print(f'La frecuencia con la que programa puede tener la variable program__has_packages a False es {freq_false}.')"
   ],
   "outputs": [
    {
     "name": "stdout",
     "output_type": "stream",
     "text": [
      "La variable program__has_packages contiene 6 valores verdaderos y 1585 valores falsos. Y, la desviación típica es de 0.06131357327103615\n",
      "La frecuencia con la que programa puede tener la variable program__has_packages a True es 0.003771213073538655.\n",
      "La frecuencia con la que programa puede tener la variable program__has_packages a False es 0.9962287869264613.\n"
     ]
    }
   ],
   "execution_count": 16
  },
  {
   "cell_type": "code",
   "id": "d9b3f5b6",
   "metadata": {
    "ExecuteTime": {
     "end_time": "2024-05-13T20:45:05.467073Z",
     "start_time": "2024-05-13T20:45:05.459217Z"
    }
   },
   "source": [
    "#PROBABILIDAD DE VALORES\n",
    "possible_values = [True, False]\n",
    "print_frequency_anal_for_cat_var(X, 'program__has_packages', possible_values)"
   ],
   "outputs": [
    {
     "name": "stdout",
     "output_type": "stream",
     "text": [
      "La variable program__has_packages contiene 2 valores distintos.\n",
      "El umbral de outlier es de 0.1%\n",
      "La variable program__has_packages toma el valor de 0.0 en un 99.62% de los items.\n",
      "La variable program__has_packages toma el valor de 1.0 en un 0.3771% de los items.\n"
     ]
    }
   ],
   "execution_count": 17
  },
  {
   "metadata": {},
   "cell_type": "markdown",
   "source": "Describimos los valores de las variables de la tabla, cuando la variable tiene el valor a True.",
   "id": "8da52e1c0961f995"
  },
  {
   "cell_type": "code",
   "id": "045fd34e",
   "metadata": {
    "ExecuteTime": {
     "end_time": "2024-05-13T20:45:05.523521Z",
     "start_time": "2024-05-13T20:45:05.469088Z"
    }
   },
   "source": [
    "#VALORES DE LOS DATOS CONDICIONADOS A TRUE/FALSE\n",
    "X[X['program__has_packages'] == True].describe(percentiles=[.25, .50, .75], include = ['object', 'float', 'bool', 'int'])"
   ],
   "outputs": [
    {
     "data": {
      "text/plain": [
       "       program__has_sub_dirs_with_code  program__has_packages  \\\n",
       "count                              6.0                    6.0   \n",
       "mean                               1.0                    1.0   \n",
       "std                                0.0                    0.0   \n",
       "min                                1.0                    1.0   \n",
       "25%                                1.0                    1.0   \n",
       "50%                                1.0                    1.0   \n",
       "75%                                1.0                    1.0   \n",
       "max                                1.0                    1.0   \n",
       "\n",
       "       program__number_of_modules  program__number_of_sub_dirs_with_code  \\\n",
       "count                    6.000000                               6.000000   \n",
       "mean                   537.666687                               2.666667   \n",
       "std                     10.745542                               0.816497   \n",
       "min                    516.000000                               1.000000   \n",
       "25%                    540.250000                               3.000000   \n",
       "50%                    541.000000                               3.000000   \n",
       "75%                    543.250000                               3.000000   \n",
       "max                    544.000000                               3.000000   \n",
       "\n",
       "       program__number_of_packages  program__class_defs_pct  \\\n",
       "count                      6.00000                 6.000000   \n",
       "mean                      72.00000                 0.371222   \n",
       "std                        2.44949                 0.011958   \n",
       "min                       67.00000                 0.365667   \n",
       "25%                       73.00000                 0.365930   \n",
       "50%                       73.00000                 0.366779   \n",
       "75%                       73.00000                 0.366837   \n",
       "max                       73.00000                 0.395604   \n",
       "\n",
       "       program__function_defs_pct  program__enum_defs_pct  \\\n",
       "count                    6.000000                     6.0   \n",
       "mean                     0.628778                     0.0   \n",
       "std                      0.011958                     0.0   \n",
       "min                      0.604396                     0.0   \n",
       "25%                      0.633163                     0.0   \n",
       "50%                      0.633221                     0.0   \n",
       "75%                      0.634070                     0.0   \n",
       "max                      0.634333                     0.0   \n",
       "\n",
       "       program__has_code_root_package  program__average_defs_per_module  \n",
       "count                             6.0                          6.000000  \n",
       "mean                              1.0                          5.720855  \n",
       "std                               0.0                          0.124689  \n",
       "min                               1.0                          5.467054  \n",
       "25%                               1.0                          5.761029  \n",
       "50%                               1.0                          5.767761  \n",
       "75%                               1.0                          5.775878  \n",
       "max                               1.0                          5.785185  "
      ],
      "text/html": [
       "<div>\n",
       "<style scoped>\n",
       "    .dataframe tbody tr th:only-of-type {\n",
       "        vertical-align: middle;\n",
       "    }\n",
       "\n",
       "    .dataframe tbody tr th {\n",
       "        vertical-align: top;\n",
       "    }\n",
       "\n",
       "    .dataframe thead th {\n",
       "        text-align: right;\n",
       "    }\n",
       "</style>\n",
       "<table border=\"1\" class=\"dataframe\">\n",
       "  <thead>\n",
       "    <tr style=\"text-align: right;\">\n",
       "      <th></th>\n",
       "      <th>program__has_sub_dirs_with_code</th>\n",
       "      <th>program__has_packages</th>\n",
       "      <th>program__number_of_modules</th>\n",
       "      <th>program__number_of_sub_dirs_with_code</th>\n",
       "      <th>program__number_of_packages</th>\n",
       "      <th>program__class_defs_pct</th>\n",
       "      <th>program__function_defs_pct</th>\n",
       "      <th>program__enum_defs_pct</th>\n",
       "      <th>program__has_code_root_package</th>\n",
       "      <th>program__average_defs_per_module</th>\n",
       "    </tr>\n",
       "  </thead>\n",
       "  <tbody>\n",
       "    <tr>\n",
       "      <th>count</th>\n",
       "      <td>6.0</td>\n",
       "      <td>6.0</td>\n",
       "      <td>6.000000</td>\n",
       "      <td>6.000000</td>\n",
       "      <td>6.00000</td>\n",
       "      <td>6.000000</td>\n",
       "      <td>6.000000</td>\n",
       "      <td>6.0</td>\n",
       "      <td>6.0</td>\n",
       "      <td>6.000000</td>\n",
       "    </tr>\n",
       "    <tr>\n",
       "      <th>mean</th>\n",
       "      <td>1.0</td>\n",
       "      <td>1.0</td>\n",
       "      <td>537.666687</td>\n",
       "      <td>2.666667</td>\n",
       "      <td>72.00000</td>\n",
       "      <td>0.371222</td>\n",
       "      <td>0.628778</td>\n",
       "      <td>0.0</td>\n",
       "      <td>1.0</td>\n",
       "      <td>5.720855</td>\n",
       "    </tr>\n",
       "    <tr>\n",
       "      <th>std</th>\n",
       "      <td>0.0</td>\n",
       "      <td>0.0</td>\n",
       "      <td>10.745542</td>\n",
       "      <td>0.816497</td>\n",
       "      <td>2.44949</td>\n",
       "      <td>0.011958</td>\n",
       "      <td>0.011958</td>\n",
       "      <td>0.0</td>\n",
       "      <td>0.0</td>\n",
       "      <td>0.124689</td>\n",
       "    </tr>\n",
       "    <tr>\n",
       "      <th>min</th>\n",
       "      <td>1.0</td>\n",
       "      <td>1.0</td>\n",
       "      <td>516.000000</td>\n",
       "      <td>1.000000</td>\n",
       "      <td>67.00000</td>\n",
       "      <td>0.365667</td>\n",
       "      <td>0.604396</td>\n",
       "      <td>0.0</td>\n",
       "      <td>1.0</td>\n",
       "      <td>5.467054</td>\n",
       "    </tr>\n",
       "    <tr>\n",
       "      <th>25%</th>\n",
       "      <td>1.0</td>\n",
       "      <td>1.0</td>\n",
       "      <td>540.250000</td>\n",
       "      <td>3.000000</td>\n",
       "      <td>73.00000</td>\n",
       "      <td>0.365930</td>\n",
       "      <td>0.633163</td>\n",
       "      <td>0.0</td>\n",
       "      <td>1.0</td>\n",
       "      <td>5.761029</td>\n",
       "    </tr>\n",
       "    <tr>\n",
       "      <th>50%</th>\n",
       "      <td>1.0</td>\n",
       "      <td>1.0</td>\n",
       "      <td>541.000000</td>\n",
       "      <td>3.000000</td>\n",
       "      <td>73.00000</td>\n",
       "      <td>0.366779</td>\n",
       "      <td>0.633221</td>\n",
       "      <td>0.0</td>\n",
       "      <td>1.0</td>\n",
       "      <td>5.767761</td>\n",
       "    </tr>\n",
       "    <tr>\n",
       "      <th>75%</th>\n",
       "      <td>1.0</td>\n",
       "      <td>1.0</td>\n",
       "      <td>543.250000</td>\n",
       "      <td>3.000000</td>\n",
       "      <td>73.00000</td>\n",
       "      <td>0.366837</td>\n",
       "      <td>0.634070</td>\n",
       "      <td>0.0</td>\n",
       "      <td>1.0</td>\n",
       "      <td>5.775878</td>\n",
       "    </tr>\n",
       "    <tr>\n",
       "      <th>max</th>\n",
       "      <td>1.0</td>\n",
       "      <td>1.0</td>\n",
       "      <td>544.000000</td>\n",
       "      <td>3.000000</td>\n",
       "      <td>73.00000</td>\n",
       "      <td>0.395604</td>\n",
       "      <td>0.634333</td>\n",
       "      <td>0.0</td>\n",
       "      <td>1.0</td>\n",
       "      <td>5.785185</td>\n",
       "    </tr>\n",
       "  </tbody>\n",
       "</table>\n",
       "</div>"
      ]
     },
     "execution_count": 18,
     "metadata": {},
     "output_type": "execute_result"
    }
   ],
   "execution_count": 18
  },
  {
   "metadata": {},
   "cell_type": "markdown",
   "source": [
    "### Variable has_code_root_packages (3/10)\n",
    "Esta variable es de tipo booleano y representa si el programa contiene código en el directorio root."
   ],
   "id": "cc2230d89c1d901"
  },
  {
   "metadata": {
    "ExecuteTime": {
     "end_time": "2024-05-13T20:45:05.762690Z",
     "start_time": "2024-05-13T20:45:05.526545Z"
    }
   },
   "cell_type": "code",
   "source": [
    "plt.xticks([0, 1], ['False', 'True'])\n",
    "sns.histplot(X['program__has_code_root_package'], discrete=True)"
   ],
   "id": "fc2c509d5dd80feb",
   "outputs": [
    {
     "data": {
      "text/plain": [
       "<Axes: xlabel='program__has_code_root_package', ylabel='Count'>"
      ]
     },
     "execution_count": 19,
     "metadata": {},
     "output_type": "execute_result"
    },
    {
     "data": {
      "text/plain": [
       "<Figure size 640x480 with 1 Axes>"
      ],
      "image/png": "[encoded data removed]"
     },
     "metadata": {},
     "output_type": "display_data"
    }
   ],
   "execution_count": 19
  },
  {
   "metadata": {
    "ExecuteTime": {
     "end_time": "2024-05-13T20:45:05.778614Z",
     "start_time": "2024-05-13T20:45:05.764702Z"
    }
   },
   "cell_type": "code",
   "source": [
    "#ANALISIS DE DISTRIBUCIÓN DE DATOS\n",
    "num_true_values = len(X[X['program__has_code_root_package'] == True])\n",
    "num_false_values = len(X[X['program__has_code_root_package'] == False])\n",
    "std = X['program__has_code_root_package'].std()\n",
    "freq_true = len(X[X['program__has_code_root_package'] == True]) / len(X['program__has_code_root_package'])\n",
    "freq_false = len(X[X['program__has_code_root_package'] == False]) / len(X['program__has_code_root_package'])\n",
    "print(f'La variable program__has_code_root_package contiene {num_true_values} valores verdaderos y {num_false_values} valores falsos. Y, la desviación típica es de {std}')\n",
    "print(f'La frecuencia con la que programa puede tener la variable program__has_code_root_package a True es {freq_true}.')\n",
    "print(f'La frecuencia con la que programa puede tener la variable program__has_code_root_package a False es {freq_false}.')"
   ],
   "id": "e4ac7fd947513444",
   "outputs": [
    {
     "name": "stdout",
     "output_type": "stream",
     "text": [
      "La variable program__has_code_root_package contiene 1591 valores verdaderos y 0 valores falsos. Y, la desviación típica es de 0.0\n",
      "La frecuencia con la que programa puede tener la variable program__has_code_root_package a True es 1.0.\n",
      "La frecuencia con la que programa puede tener la variable program__has_code_root_package a False es 0.0.\n"
     ]
    }
   ],
   "execution_count": 20
  },
  {
   "metadata": {
    "ExecuteTime": {
     "end_time": "2024-05-13T20:45:05.791857Z",
     "start_time": "2024-05-13T20:45:05.780646Z"
    }
   },
   "cell_type": "code",
   "source": [
    "#PROBABILIDAD DE VALORES\n",
    "possible_values = [True, False]\n",
    "print_frequency_anal_for_cat_var(X, 'program__has_code_root_package', possible_values)"
   ],
   "id": "6eda444c15afc88f",
   "outputs": [
    {
     "name": "stdout",
     "output_type": "stream",
     "text": [
      "La variable program__has_code_root_package contiene 2 valores distintos.\n",
      "El umbral de outlier es de 0.1%\n",
      "La variable program__has_code_root_package toma el valor de 1.0 en un 100.0% de los items.\n",
      "La variable program__has_code_root_package toma el valor de False en un 0.0% de los items. [OUTLIER]\n"
     ]
    }
   ],
   "execution_count": 21
  },
  {
   "metadata": {},
   "cell_type": "markdown",
   "source": [
    "### IMPORTANTE\n",
    "\n",
    "No hay ningun programa que tenga la variable program__has_code_root_package a False."
   ],
   "id": "867fe9ad0fe8f5e2"
  },
  {
   "metadata": {},
   "cell_type": "markdown",
   "source": "Describimos los valores de las variables de la tabla, cuando la variable tiene el valor a False.",
   "id": "aba9740a85a8f305"
  },
  {
   "metadata": {
    "ExecuteTime": {
     "end_time": "2024-05-13T20:45:05.838043Z",
     "start_time": "2024-05-13T20:45:05.794861Z"
    }
   },
   "cell_type": "code",
   "source": "X[X['program__has_code_root_package'] == False].describe(percentiles=[.25, .50, .75], include = ['object', 'float', 'bool', 'int'])",
   "id": "a5fc73b1d742f01a",
   "outputs": [
    {
     "data": {
      "text/plain": [
       "       program__has_sub_dirs_with_code  program__has_packages  \\\n",
       "count                              0.0                    0.0   \n",
       "mean                               NaN                    NaN   \n",
       "std                                NaN                    NaN   \n",
       "min                                NaN                    NaN   \n",
       "25%                                NaN                    NaN   \n",
       "50%                                NaN                    NaN   \n",
       "75%                                NaN                    NaN   \n",
       "max                                NaN                    NaN   \n",
       "\n",
       "       program__number_of_modules  program__number_of_sub_dirs_with_code  \\\n",
       "count                         0.0                                    0.0   \n",
       "mean                          NaN                                    NaN   \n",
       "std                           NaN                                    NaN   \n",
       "min                           NaN                                    NaN   \n",
       "25%                           NaN                                    NaN   \n",
       "50%                           NaN                                    NaN   \n",
       "75%                           NaN                                    NaN   \n",
       "max                           NaN                                    NaN   \n",
       "\n",
       "       program__number_of_packages  program__class_defs_pct  \\\n",
       "count                          0.0                      0.0   \n",
       "mean                           NaN                      NaN   \n",
       "std                            NaN                      NaN   \n",
       "min                            NaN                      NaN   \n",
       "25%                            NaN                      NaN   \n",
       "50%                            NaN                      NaN   \n",
       "75%                            NaN                      NaN   \n",
       "max                            NaN                      NaN   \n",
       "\n",
       "       program__function_defs_pct  program__enum_defs_pct  \\\n",
       "count                         0.0                     0.0   \n",
       "mean                          NaN                     NaN   \n",
       "std                           NaN                     NaN   \n",
       "min                           NaN                     NaN   \n",
       "25%                           NaN                     NaN   \n",
       "50%                           NaN                     NaN   \n",
       "75%                           NaN                     NaN   \n",
       "max                           NaN                     NaN   \n",
       "\n",
       "       program__has_code_root_package  program__average_defs_per_module  \n",
       "count                             0.0                               0.0  \n",
       "mean                              NaN                               NaN  \n",
       "std                               NaN                               NaN  \n",
       "min                               NaN                               NaN  \n",
       "25%                               NaN                               NaN  \n",
       "50%                               NaN                               NaN  \n",
       "75%                               NaN                               NaN  \n",
       "max                               NaN                               NaN  "
      ],
      "text/html": [
       "<div>\n",
       "<style scoped>\n",
       "    .dataframe tbody tr th:only-of-type {\n",
       "        vertical-align: middle;\n",
       "    }\n",
       "\n",
       "    .dataframe tbody tr th {\n",
       "        vertical-align: top;\n",
       "    }\n",
       "\n",
       "    .dataframe thead th {\n",
       "        text-align: right;\n",
       "    }\n",
       "</style>\n",
       "<table border=\"1\" class=\"dataframe\">\n",
       "  <thead>\n",
       "    <tr style=\"text-align: right;\">\n",
       "      <th></th>\n",
       "      <th>program__has_sub_dirs_with_code</th>\n",
       "      <th>program__has_packages</th>\n",
       "      <th>program__number_of_modules</th>\n",
       "      <th>program__number_of_sub_dirs_with_code</th>\n",
       "      <th>program__number_of_packages</th>\n",
       "      <th>program__class_defs_pct</th>\n",
       "      <th>program__function_defs_pct</th>\n",
       "      <th>program__enum_defs_pct</th>\n",
       "      <th>program__has_code_root_package</th>\n",
       "      <th>program__average_defs_per_module</th>\n",
       "    </tr>\n",
       "  </thead>\n",
       "  <tbody>\n",
       "    <tr>\n",
       "      <th>count</th>\n",
       "      <td>0.0</td>\n",
       "      <td>0.0</td>\n",
       "      <td>0.0</td>\n",
       "      <td>0.0</td>\n",
       "      <td>0.0</td>\n",
       "      <td>0.0</td>\n",
       "      <td>0.0</td>\n",
       "      <td>0.0</td>\n",
       "      <td>0.0</td>\n",
       "      <td>0.0</td>\n",
       "    </tr>\n",
       "    <tr>\n",
       "      <th>mean</th>\n",
       "      <td>NaN</td>\n",
       "      <td>NaN</td>\n",
       "      <td>NaN</td>\n",
       "      <td>NaN</td>\n",
       "      <td>NaN</td>\n",
       "      <td>NaN</td>\n",
       "      <td>NaN</td>\n",
       "      <td>NaN</td>\n",
       "      <td>NaN</td>\n",
       "      <td>NaN</td>\n",
       "    </tr>\n",
       "    <tr>\n",
       "      <th>std</th>\n",
       "      <td>NaN</td>\n",
       "      <td>NaN</td>\n",
       "      <td>NaN</td>\n",
       "      <td>NaN</td>\n",
       "      <td>NaN</td>\n",
       "      <td>NaN</td>\n",
       "      <td>NaN</td>\n",
       "      <td>NaN</td>\n",
       "      <td>NaN</td>\n",
       "      <td>NaN</td>\n",
       "    </tr>\n",
       "    <tr>\n",
       "      <th>min</th>\n",
       "      <td>NaN</td>\n",
       "      <td>NaN</td>\n",
       "      <td>NaN</td>\n",
       "      <td>NaN</td>\n",
       "      <td>NaN</td>\n",
       "      <td>NaN</td>\n",
       "      <td>NaN</td>\n",
       "      <td>NaN</td>\n",
       "      <td>NaN</td>\n",
       "      <td>NaN</td>\n",
       "    </tr>\n",
       "    <tr>\n",
       "      <th>25%</th>\n",
       "      <td>NaN</td>\n",
       "      <td>NaN</td>\n",
       "      <td>NaN</td>\n",
       "      <td>NaN</td>\n",
       "      <td>NaN</td>\n",
       "      <td>NaN</td>\n",
       "      <td>NaN</td>\n",
       "      <td>NaN</td>\n",
       "      <td>NaN</td>\n",
       "      <td>NaN</td>\n",
       "    </tr>\n",
       "    <tr>\n",
       "      <th>50%</th>\n",
       "      <td>NaN</td>\n",
       "      <td>NaN</td>\n",
       "      <td>NaN</td>\n",
       "      <td>NaN</td>\n",
       "      <td>NaN</td>\n",
       "      <td>NaN</td>\n",
       "      <td>NaN</td>\n",
       "      <td>NaN</td>\n",
       "      <td>NaN</td>\n",
       "      <td>NaN</td>\n",
       "    </tr>\n",
       "    <tr>\n",
       "      <th>75%</th>\n",
       "      <td>NaN</td>\n",
       "      <td>NaN</td>\n",
       "      <td>NaN</td>\n",
       "      <td>NaN</td>\n",
       "      <td>NaN</td>\n",
       "      <td>NaN</td>\n",
       "      <td>NaN</td>\n",
       "      <td>NaN</td>\n",
       "      <td>NaN</td>\n",
       "      <td>NaN</td>\n",
       "    </tr>\n",
       "    <tr>\n",
       "      <th>max</th>\n",
       "      <td>NaN</td>\n",
       "      <td>NaN</td>\n",
       "      <td>NaN</td>\n",
       "      <td>NaN</td>\n",
       "      <td>NaN</td>\n",
       "      <td>NaN</td>\n",
       "      <td>NaN</td>\n",
       "      <td>NaN</td>\n",
       "      <td>NaN</td>\n",
       "      <td>NaN</td>\n",
       "    </tr>\n",
       "  </tbody>\n",
       "</table>\n",
       "</div>"
      ]
     },
     "execution_count": 22,
     "metadata": {},
     "output_type": "execute_result"
    }
   ],
   "execution_count": 22
  },
  {
   "metadata": {},
   "cell_type": "markdown",
   "source": [
    "### Variable number_of_modules (4/10)\n",
    "Esta variable es de tipo numérica y nos indica el número de modulos definidos en el programa. Como vimos en la descripción de la tabla esta varibale adopta valores en el rango 1 - 544. Con una media de 4,47."
   ],
   "id": "b8ac28118b9c7e95"
  },
  {
   "metadata": {
    "ExecuteTime": {
     "end_time": "2024-05-13T20:45:06.047554Z",
     "start_time": "2024-05-13T20:45:05.840076Z"
    }
   },
   "cell_type": "code",
   "source": "sns.stripplot(X['program__number_of_modules'])",
   "id": "5eacddae8fc77a62",
   "outputs": [
    {
     "data": {
      "text/plain": [
       "<Axes: ylabel='program__number_of_modules'>"
      ]
     },
     "execution_count": 23,
     "metadata": {},
     "output_type": "execute_result"
    },
    {
     "data": {
      "text/plain": [
       "<Figure size 640x480 with 1 Axes>"
      ],
      "image/png": "[encoded data removed]"
     },
     "metadata": {},
     "output_type": "display_data"
    }
   ],
   "execution_count": 23
  },
  {
   "metadata": {},
   "cell_type": "markdown",
   "source": [
    "### IMPORTANTE\n",
    "Los valores máximos están muy alejados de los otros."
   ],
   "id": "d841e8a0b2465c9b"
  },
  {
   "metadata": {
    "ExecuteTime": {
     "end_time": "2024-05-13T20:45:06.064297Z",
     "start_time": "2024-05-13T20:45:06.049569Z"
    }
   },
   "cell_type": "code",
   "source": "print_outliers_for_df_column(X, 'program__number_of_modules')",
   "id": "cfc7351841dbaeeb",
   "outputs": [
    {
     "name": "stdout",
     "output_type": "stream",
     "text": [
      "El coeficiente MC (Medcouple Coefficient) de balanceo es: 0.9702161493370098\n",
      "Rango valores atípicos extremos (Tukey): [-5.0,9.0]\n",
      "Rango valores atípicos leves (Tukey): [-2.0,6.0]\n",
      "Rango valores atípicos extremos (Fixed BoxPlot): [0.8994544312663348,148.39830187120887]\n",
      "-3.0IQR: 0 instancias tienen un valor para program__number_of_modules inferior a -5.0 (Q1-3*IQR) para program__number_of_modules. Representando un 0.0% del total de instancias.\n",
      "-1.5IQR: 0 instancias tienen un valor para program__number_of_modules inferior a -2.0 (Q1-1.5*IQR) para program__number_of_modules. Representando un 0.0% del total de instancias.\n",
      "+1.5IQR: 46 instancias tienen un valor para program__number_of_modules superior a 6.0 (Q3+1.5*IQR) para program__number_of_modules. Representando un 2.891% del total de instancias.\n",
      "+3.0IQR: 15 instancias tienen un valor para program__number_of_modules superior a 9.0 (Q3-3*IQR) para program__number_of_modules. Representando un 0.9428% del total de instancias.\n",
      "L: 0 instancias tienen un valor para program__number_of_modules inferior a 0.8994544312663348 para program__number_of_modules. Representando un 0.0% del total de instancias.\n",
      "U: 6 instancias tienen un valor para program__number_of_modules superior a 148.39830187120887 para program__number_of_modules. Representando un 0.3771% del total de instancias.\n"
     ]
    }
   ],
   "execution_count": 24
  },
  {
   "metadata": {},
   "cell_type": "markdown",
   "source": "Describimos los valores de las variables de la tabla, cuando el valor de la variable es mayor que 148 (Con un MC de 97 usamos U)",
   "id": "843b1a6a63a56fb9"
  },
  {
   "metadata": {
    "ExecuteTime": {
     "end_time": "2024-05-13T20:45:06.116790Z",
     "start_time": "2024-05-13T20:45:06.066314Z"
    }
   },
   "cell_type": "code",
   "source": "X[X['program__number_of_modules'] > 148.39].describe(percentiles=[.25, .50, .75], include = ['object', 'float', 'bool', 'int'])",
   "id": "689c534bf17a722e",
   "outputs": [
    {
     "data": {
      "text/plain": [
       "       program__has_sub_dirs_with_code  program__has_packages  \\\n",
       "count                              6.0                    6.0   \n",
       "mean                               1.0                    1.0   \n",
       "std                                0.0                    0.0   \n",
       "min                                1.0                    1.0   \n",
       "25%                                1.0                    1.0   \n",
       "50%                                1.0                    1.0   \n",
       "75%                                1.0                    1.0   \n",
       "max                                1.0                    1.0   \n",
       "\n",
       "       program__number_of_modules  program__number_of_sub_dirs_with_code  \\\n",
       "count                    6.000000                               6.000000   \n",
       "mean                   537.666687                               2.666667   \n",
       "std                     10.745542                               0.816497   \n",
       "min                    516.000000                               1.000000   \n",
       "25%                    540.250000                               3.000000   \n",
       "50%                    541.000000                               3.000000   \n",
       "75%                    543.250000                               3.000000   \n",
       "max                    544.000000                               3.000000   \n",
       "\n",
       "       program__number_of_packages  program__class_defs_pct  \\\n",
       "count                      6.00000                 6.000000   \n",
       "mean                      72.00000                 0.371222   \n",
       "std                        2.44949                 0.011958   \n",
       "min                       67.00000                 0.365667   \n",
       "25%                       73.00000                 0.365930   \n",
       "50%                       73.00000                 0.366779   \n",
       "75%                       73.00000                 0.366837   \n",
       "max                       73.00000                 0.395604   \n",
       "\n",
       "       program__function_defs_pct  program__enum_defs_pct  \\\n",
       "count                    6.000000                     6.0   \n",
       "mean                     0.628778                     0.0   \n",
       "std                      0.011958                     0.0   \n",
       "min                      0.604396                     0.0   \n",
       "25%                      0.633163                     0.0   \n",
       "50%                      0.633221                     0.0   \n",
       "75%                      0.634070                     0.0   \n",
       "max                      0.634333                     0.0   \n",
       "\n",
       "       program__has_code_root_package  program__average_defs_per_module  \n",
       "count                             6.0                          6.000000  \n",
       "mean                              1.0                          5.720855  \n",
       "std                               0.0                          0.124689  \n",
       "min                               1.0                          5.467054  \n",
       "25%                               1.0                          5.761029  \n",
       "50%                               1.0                          5.767761  \n",
       "75%                               1.0                          5.775878  \n",
       "max                               1.0                          5.785185  "
      ],
      "text/html": [
       "<div>\n",
       "<style scoped>\n",
       "    .dataframe tbody tr th:only-of-type {\n",
       "        vertical-align: middle;\n",
       "    }\n",
       "\n",
       "    .dataframe tbody tr th {\n",
       "        vertical-align: top;\n",
       "    }\n",
       "\n",
       "    .dataframe thead th {\n",
       "        text-align: right;\n",
       "    }\n",
       "</style>\n",
       "<table border=\"1\" class=\"dataframe\">\n",
       "  <thead>\n",
       "    <tr style=\"text-align: right;\">\n",
       "      <th></th>\n",
       "      <th>program__has_sub_dirs_with_code</th>\n",
       "      <th>program__has_packages</th>\n",
       "      <th>program__number_of_modules</th>\n",
       "      <th>program__number_of_sub_dirs_with_code</th>\n",
       "      <th>program__number_of_packages</th>\n",
       "      <th>program__class_defs_pct</th>\n",
       "      <th>program__function_defs_pct</th>\n",
       "      <th>program__enum_defs_pct</th>\n",
       "      <th>program__has_code_root_package</th>\n",
       "      <th>program__average_defs_per_module</th>\n",
       "    </tr>\n",
       "  </thead>\n",
       "  <tbody>\n",
       "    <tr>\n",
       "      <th>count</th>\n",
       "      <td>6.0</td>\n",
       "      <td>6.0</td>\n",
       "      <td>6.000000</td>\n",
       "      <td>6.000000</td>\n",
       "      <td>6.00000</td>\n",
       "      <td>6.000000</td>\n",
       "      <td>6.000000</td>\n",
       "      <td>6.0</td>\n",
       "      <td>6.0</td>\n",
       "      <td>6.000000</td>\n",
       "    </tr>\n",
       "    <tr>\n",
       "      <th>mean</th>\n",
       "      <td>1.0</td>\n",
       "      <td>1.0</td>\n",
       "      <td>537.666687</td>\n",
       "      <td>2.666667</td>\n",
       "      <td>72.00000</td>\n",
       "      <td>0.371222</td>\n",
       "      <td>0.628778</td>\n",
       "      <td>0.0</td>\n",
       "      <td>1.0</td>\n",
       "      <td>5.720855</td>\n",
       "    </tr>\n",
       "    <tr>\n",
       "      <th>std</th>\n",
       "      <td>0.0</td>\n",
       "      <td>0.0</td>\n",
       "      <td>10.745542</td>\n",
       "      <td>0.816497</td>\n",
       "      <td>2.44949</td>\n",
       "      <td>0.011958</td>\n",
       "      <td>0.011958</td>\n",
       "      <td>0.0</td>\n",
       "      <td>0.0</td>\n",
       "      <td>0.124689</td>\n",
       "    </tr>\n",
       "    <tr>\n",
       "      <th>min</th>\n",
       "      <td>1.0</td>\n",
       "      <td>1.0</td>\n",
       "      <td>516.000000</td>\n",
       "      <td>1.000000</td>\n",
       "      <td>67.00000</td>\n",
       "      <td>0.365667</td>\n",
       "      <td>0.604396</td>\n",
       "      <td>0.0</td>\n",
       "      <td>1.0</td>\n",
       "      <td>5.467054</td>\n",
       "    </tr>\n",
       "    <tr>\n",
       "      <th>25%</th>\n",
       "      <td>1.0</td>\n",
       "      <td>1.0</td>\n",
       "      <td>540.250000</td>\n",
       "      <td>3.000000</td>\n",
       "      <td>73.00000</td>\n",
       "      <td>0.365930</td>\n",
       "      <td>0.633163</td>\n",
       "      <td>0.0</td>\n",
       "      <td>1.0</td>\n",
       "      <td>5.761029</td>\n",
       "    </tr>\n",
       "    <tr>\n",
       "      <th>50%</th>\n",
       "      <td>1.0</td>\n",
       "      <td>1.0</td>\n",
       "      <td>541.000000</td>\n",
       "      <td>3.000000</td>\n",
       "      <td>73.00000</td>\n",
       "      <td>0.366779</td>\n",
       "      <td>0.633221</td>\n",
       "      <td>0.0</td>\n",
       "      <td>1.0</td>\n",
       "      <td>5.767761</td>\n",
       "    </tr>\n",
       "    <tr>\n",
       "      <th>75%</th>\n",
       "      <td>1.0</td>\n",
       "      <td>1.0</td>\n",
       "      <td>543.250000</td>\n",
       "      <td>3.000000</td>\n",
       "      <td>73.00000</td>\n",
       "      <td>0.366837</td>\n",
       "      <td>0.634070</td>\n",
       "      <td>0.0</td>\n",
       "      <td>1.0</td>\n",
       "      <td>5.775878</td>\n",
       "    </tr>\n",
       "    <tr>\n",
       "      <th>max</th>\n",
       "      <td>1.0</td>\n",
       "      <td>1.0</td>\n",
       "      <td>544.000000</td>\n",
       "      <td>3.000000</td>\n",
       "      <td>73.00000</td>\n",
       "      <td>0.395604</td>\n",
       "      <td>0.634333</td>\n",
       "      <td>0.0</td>\n",
       "      <td>1.0</td>\n",
       "      <td>5.785185</td>\n",
       "    </tr>\n",
       "  </tbody>\n",
       "</table>\n",
       "</div>"
      ]
     },
     "execution_count": 25,
     "metadata": {},
     "output_type": "execute_result"
    }
   ],
   "execution_count": 25
  },
  {
   "metadata": {},
   "cell_type": "markdown",
   "source": [
    "### IMPORTANTE\n",
    "Los casos extremos de alumnos puede deberse a la entrega de librerias python."
   ],
   "id": "397c98739d991b02"
  },
  {
   "metadata": {},
   "cell_type": "markdown",
   "source": [
    "### Variable number_of_sub_dirs_with_code (5/10)\n",
    "Esta variable representa el número de subdirectorios con ficheros python pero sin un __init__.py en ellos. Como vimos en la descripción de la tabla esta varibale adopta valores en el rango 0 - 8. Con una media de 0.039."
   ],
   "id": "8f8a651cfdff0bcd"
  },
  {
   "metadata": {
    "ExecuteTime": {
     "end_time": "2024-05-13T20:45:06.440878Z",
     "start_time": "2024-05-13T20:45:06.118805Z"
    }
   },
   "cell_type": "code",
   "source": "sns.stripplot(X['program__number_of_sub_dirs_with_code'])",
   "id": "1ebb40d57c0b140",
   "outputs": [
    {
     "data": {
      "text/plain": [
       "<Axes: ylabel='program__number_of_sub_dirs_with_code'>"
      ]
     },
     "execution_count": 26,
     "metadata": {},
     "output_type": "execute_result"
    },
    {
     "data": {
      "text/plain": [
       "<Figure size 640x480 with 1 Axes>"
      ],
      "image/png": "[encoded data removed]"
     },
     "metadata": {},
     "output_type": "display_data"
    }
   ],
   "execution_count": 26
  },
  {
   "metadata": {},
   "cell_type": "markdown",
   "source": "El valor máximo está muy alejado del siguiente. ",
   "id": "921f450151cf85e1"
  },
  {
   "metadata": {
    "ExecuteTime": {
     "end_time": "2024-05-13T20:45:06.455662Z",
     "start_time": "2024-05-13T20:45:06.442885Z"
    }
   },
   "cell_type": "code",
   "source": "print_outliers_for_df_column(X, 'program__number_of_sub_dirs_with_code')",
   "id": "6a0f48c2e0e6cff",
   "outputs": [
    {
     "name": "stdout",
     "output_type": "stream",
     "text": [
      "El coeficiente MC (Medcouple Coefficient) de balanceo es: 0.9420318649473359\n",
      "Rango valores atípicos extremos (Tukey): [0.0,0.0]\n",
      "Rango valores atípicos leves (Tukey): [0.0,0.0]\n",
      "Rango valores atípicos extremos (Fixed BoxPlot): [0.0,0.0]\n",
      "-3.0IQR: 0 instancias tienen un valor para program__number_of_sub_dirs_with_code inferior a 0.0 (Q1-3*IQR) para program__number_of_sub_dirs_with_code. Representando un 0.0% del total de instancias.\n",
      "-1.5IQR: 0 instancias tienen un valor para program__number_of_sub_dirs_with_code inferior a 0.0 (Q1-1.5*IQR) para program__number_of_sub_dirs_with_code. Representando un 0.0% del total de instancias.\n",
      "+1.5IQR: 34 instancias tienen un valor para program__number_of_sub_dirs_with_code superior a 0.0 (Q3+1.5*IQR) para program__number_of_sub_dirs_with_code. Representando un 2.137% del total de instancias.\n",
      "+3.0IQR: 34 instancias tienen un valor para program__number_of_sub_dirs_with_code superior a 0.0 (Q3-3*IQR) para program__number_of_sub_dirs_with_code. Representando un 2.137% del total de instancias.\n",
      "L: 0 instancias tienen un valor para program__number_of_sub_dirs_with_code inferior a 0.0 para program__number_of_sub_dirs_with_code. Representando un 0.0% del total de instancias.\n",
      "U: 34 instancias tienen un valor para program__number_of_sub_dirs_with_code superior a 0.0 para program__number_of_sub_dirs_with_code. Representando un 2.137% del total de instancias.\n"
     ]
    }
   ],
   "execution_count": 27
  },
  {
   "metadata": {},
   "cell_type": "markdown",
   "source": "Describimos los valores de las variables de la tabla, cuando el valor de la variable es mayor que 0 (Todos los umbrales son 0)",
   "id": "962e0e1a198b468f"
  },
  {
   "metadata": {
    "ExecuteTime": {
     "end_time": "2024-05-13T20:45:06.510001Z",
     "start_time": "2024-05-13T20:45:06.461675Z"
    }
   },
   "cell_type": "code",
   "source": "X[X['program__number_of_sub_dirs_with_code'] > 0].describe(percentiles=[.25, .50, .75], include = ['object', 'float', 'bool', 'int'])",
   "id": "87724eeca9c29f75",
   "outputs": [
    {
     "data": {
      "text/plain": [
       "       program__has_sub_dirs_with_code  program__has_packages  \\\n",
       "count                             34.0              34.000000   \n",
       "mean                               1.0               0.176471   \n",
       "std                                0.0               0.386953   \n",
       "min                                1.0               0.000000   \n",
       "25%                                1.0               0.000000   \n",
       "50%                                1.0               0.000000   \n",
       "75%                                1.0               0.000000   \n",
       "max                                1.0               1.000000   \n",
       "\n",
       "       program__number_of_modules  program__number_of_sub_dirs_with_code  \\\n",
       "count                   34.000000                              34.000000   \n",
       "mean                    98.764709                               1.558824   \n",
       "std                    206.309280                               1.352689   \n",
       "min                      2.000000                               1.000000   \n",
       "25%                      3.000000                               1.000000   \n",
       "50%                      4.000000                               1.000000   \n",
       "75%                      7.000000                               1.000000   \n",
       "max                    544.000000                               8.000000   \n",
       "\n",
       "       program__number_of_packages  program__class_defs_pct  \\\n",
       "count                    34.000000                34.000000   \n",
       "mean                     12.705882                 0.068778   \n",
       "std                      27.876926                 0.143449   \n",
       "min                       0.000000                 0.000000   \n",
       "25%                       0.000000                 0.000000   \n",
       "50%                       0.000000                 0.000000   \n",
       "75%                       0.000000                 0.000000   \n",
       "max                      73.000000                 0.395604   \n",
       "\n",
       "       program__function_defs_pct  program__enum_defs_pct  \\\n",
       "count                   34.000000                    34.0   \n",
       "mean                     0.901810                     0.0   \n",
       "std                      0.214059                     0.0   \n",
       "min                      0.000000                     0.0   \n",
       "25%                      1.000000                     0.0   \n",
       "50%                      1.000000                     0.0   \n",
       "75%                      1.000000                     0.0   \n",
       "max                      1.000000                     0.0   \n",
       "\n",
       "       program__has_code_root_package  program__average_defs_per_module  \n",
       "count                            34.0                         34.000000  \n",
       "mean                              1.0                          4.254829  \n",
       "std                               0.0                          4.380107  \n",
       "min                               1.0                          0.000000  \n",
       "25%                               1.0                          0.750000  \n",
       "50%                               1.0                          1.510000  \n",
       "75%                               1.0                          6.589154  \n",
       "max                               1.0                         17.000000  "
      ],
      "text/html": [
       "<div>\n",
       "<style scoped>\n",
       "    .dataframe tbody tr th:only-of-type {\n",
       "        vertical-align: middle;\n",
       "    }\n",
       "\n",
       "    .dataframe tbody tr th {\n",
       "        vertical-align: top;\n",
       "    }\n",
       "\n",
       "    .dataframe thead th {\n",
       "        text-align: right;\n",
       "    }\n",
       "</style>\n",
       "<table border=\"1\" class=\"dataframe\">\n",
       "  <thead>\n",
       "    <tr style=\"text-align: right;\">\n",
       "      <th></th>\n",
       "      <th>program__has_sub_dirs_with_code</th>\n",
       "      <th>program__has_packages</th>\n",
       "      <th>program__number_of_modules</th>\n",
       "      <th>program__number_of_sub_dirs_with_code</th>\n",
       "      <th>program__number_of_packages</th>\n",
       "      <th>program__class_defs_pct</th>\n",
       "      <th>program__function_defs_pct</th>\n",
       "      <th>program__enum_defs_pct</th>\n",
       "      <th>program__has_code_root_package</th>\n",
       "      <th>program__average_defs_per_module</th>\n",
       "    </tr>\n",
       "  </thead>\n",
       "  <tbody>\n",
       "    <tr>\n",
       "      <th>count</th>\n",
       "      <td>34.0</td>\n",
       "      <td>34.000000</td>\n",
       "      <td>34.000000</td>\n",
       "      <td>34.000000</td>\n",
       "      <td>34.000000</td>\n",
       "      <td>34.000000</td>\n",
       "      <td>34.000000</td>\n",
       "      <td>34.0</td>\n",
       "      <td>34.0</td>\n",
       "      <td>34.000000</td>\n",
       "    </tr>\n",
       "    <tr>\n",
       "      <th>mean</th>\n",
       "      <td>1.0</td>\n",
       "      <td>0.176471</td>\n",
       "      <td>98.764709</td>\n",
       "      <td>1.558824</td>\n",
       "      <td>12.705882</td>\n",
       "      <td>0.068778</td>\n",
       "      <td>0.901810</td>\n",
       "      <td>0.0</td>\n",
       "      <td>1.0</td>\n",
       "      <td>4.254829</td>\n",
       "    </tr>\n",
       "    <tr>\n",
       "      <th>std</th>\n",
       "      <td>0.0</td>\n",
       "      <td>0.386953</td>\n",
       "      <td>206.309280</td>\n",
       "      <td>1.352689</td>\n",
       "      <td>27.876926</td>\n",
       "      <td>0.143449</td>\n",
       "      <td>0.214059</td>\n",
       "      <td>0.0</td>\n",
       "      <td>0.0</td>\n",
       "      <td>4.380107</td>\n",
       "    </tr>\n",
       "    <tr>\n",
       "      <th>min</th>\n",
       "      <td>1.0</td>\n",
       "      <td>0.000000</td>\n",
       "      <td>2.000000</td>\n",
       "      <td>1.000000</td>\n",
       "      <td>0.000000</td>\n",
       "      <td>0.000000</td>\n",
       "      <td>0.000000</td>\n",
       "      <td>0.0</td>\n",
       "      <td>1.0</td>\n",
       "      <td>0.000000</td>\n",
       "    </tr>\n",
       "    <tr>\n",
       "      <th>25%</th>\n",
       "      <td>1.0</td>\n",
       "      <td>0.000000</td>\n",
       "      <td>3.000000</td>\n",
       "      <td>1.000000</td>\n",
       "      <td>0.000000</td>\n",
       "      <td>0.000000</td>\n",
       "      <td>1.000000</td>\n",
       "      <td>0.0</td>\n",
       "      <td>1.0</td>\n",
       "      <td>0.750000</td>\n",
       "    </tr>\n",
       "    <tr>\n",
       "      <th>50%</th>\n",
       "      <td>1.0</td>\n",
       "      <td>0.000000</td>\n",
       "      <td>4.000000</td>\n",
       "      <td>1.000000</td>\n",
       "      <td>0.000000</td>\n",
       "      <td>0.000000</td>\n",
       "      <td>1.000000</td>\n",
       "      <td>0.0</td>\n",
       "      <td>1.0</td>\n",
       "      <td>1.510000</td>\n",
       "    </tr>\n",
       "    <tr>\n",
       "      <th>75%</th>\n",
       "      <td>1.0</td>\n",
       "      <td>0.000000</td>\n",
       "      <td>7.000000</td>\n",
       "      <td>1.000000</td>\n",
       "      <td>0.000000</td>\n",
       "      <td>0.000000</td>\n",
       "      <td>1.000000</td>\n",
       "      <td>0.0</td>\n",
       "      <td>1.0</td>\n",
       "      <td>6.589154</td>\n",
       "    </tr>\n",
       "    <tr>\n",
       "      <th>max</th>\n",
       "      <td>1.0</td>\n",
       "      <td>1.000000</td>\n",
       "      <td>544.000000</td>\n",
       "      <td>8.000000</td>\n",
       "      <td>73.000000</td>\n",
       "      <td>0.395604</td>\n",
       "      <td>1.000000</td>\n",
       "      <td>0.0</td>\n",
       "      <td>1.0</td>\n",
       "      <td>17.000000</td>\n",
       "    </tr>\n",
       "  </tbody>\n",
       "</table>\n",
       "</div>"
      ]
     },
     "execution_count": 28,
     "metadata": {},
     "output_type": "execute_result"
    }
   ],
   "execution_count": 28
  },
  {
   "metadata": {},
   "cell_type": "markdown",
   "source": [
    "### Variable number_of_packages (6/10)\n",
    "Esta variable representa el número de subdirectorios con ficheros python pero sin un __init__.py en ellos. Como vimos en la descripción de la tabla esta varibale adopta valores en el rango 0 - 73. Con una media de 0.27."
   ],
   "id": "2a00f5be59e6d4a9"
  },
  {
   "metadata": {
    "ExecuteTime": {
     "end_time": "2024-05-13T20:45:06.772258Z",
     "start_time": "2024-05-13T20:45:06.512043Z"
    }
   },
   "cell_type": "code",
   "source": "sns.stripplot(X['program__number_of_packages'])",
   "id": "bcf42c4ca6fb0146",
   "outputs": [
    {
     "data": {
      "text/plain": [
       "<Axes: ylabel='program__number_of_packages'>"
      ]
     },
     "execution_count": 29,
     "metadata": {},
     "output_type": "execute_result"
    },
    {
     "data": {
      "text/plain": [
       "<Figure size 640x480 with 1 Axes>"
      ],
      "image/png": "[encoded data removed]"
     },
     "metadata": {},
     "output_type": "display_data"
    }
   ],
   "execution_count": 29
  },
  {
   "metadata": {},
   "cell_type": "markdown",
   "source": [
    "### IMPORTANTE\n",
    "Los valores máximos están muy alejados de los otros."
   ],
   "id": "5882d602da6ee1bd"
  },
  {
   "metadata": {
    "ExecuteTime": {
     "end_time": "2024-05-13T20:45:06.789868Z",
     "start_time": "2024-05-13T20:45:06.775287Z"
    }
   },
   "cell_type": "code",
   "source": "print_outliers_for_df_column(X, 'program__number_of_packages')",
   "id": "2be67c4ab421c8b0",
   "outputs": [
    {
     "name": "stdout",
     "output_type": "stream",
     "text": [
      "El coeficiente MC (Medcouple Coefficient) de balanceo es: 0.9674016024735426\n",
      "Rango valores atípicos extremos (Tukey): [0.0,0.0]\n",
      "Rango valores atípicos leves (Tukey): [0.0,0.0]\n",
      "Rango valores atípicos extremos (Fixed BoxPlot): [0.0,0.0]\n",
      "-3.0IQR: 0 instancias tienen un valor para program__number_of_packages inferior a 0.0 (Q1-3*IQR) para program__number_of_packages. Representando un 0.0% del total de instancias.\n",
      "-1.5IQR: 0 instancias tienen un valor para program__number_of_packages inferior a 0.0 (Q1-1.5*IQR) para program__number_of_packages. Representando un 0.0% del total de instancias.\n",
      "+1.5IQR: 6 instancias tienen un valor para program__number_of_packages superior a 0.0 (Q3+1.5*IQR) para program__number_of_packages. Representando un 0.3771% del total de instancias.\n",
      "+3.0IQR: 6 instancias tienen un valor para program__number_of_packages superior a 0.0 (Q3-3*IQR) para program__number_of_packages. Representando un 0.3771% del total de instancias.\n",
      "L: 0 instancias tienen un valor para program__number_of_packages inferior a 0.0 para program__number_of_packages. Representando un 0.0% del total de instancias.\n",
      "U: 6 instancias tienen un valor para program__number_of_packages superior a 0.0 para program__number_of_packages. Representando un 0.3771% del total de instancias.\n"
     ]
    }
   ],
   "execution_count": 30
  },
  {
   "metadata": {},
   "cell_type": "markdown",
   "source": "Describimos los valores de las variables de la tabla, cuando el valor de la variable es mayor que 0 (Todos los umbrales son 0)",
   "id": "f9956131b9d6f0e9"
  },
  {
   "metadata": {
    "ExecuteTime": {
     "end_time": "2024-05-13T20:45:06.853007Z",
     "start_time": "2024-05-13T20:45:06.791885Z"
    }
   },
   "cell_type": "code",
   "source": "X[X['program__number_of_packages'] > 0].describe(percentiles=[.25, .50, .75], include = ['object', 'float', 'bool', 'int'])",
   "id": "ad1049f623d1e003",
   "outputs": [
    {
     "data": {
      "text/plain": [
       "       program__has_sub_dirs_with_code  program__has_packages  \\\n",
       "count                              6.0                    6.0   \n",
       "mean                               1.0                    1.0   \n",
       "std                                0.0                    0.0   \n",
       "min                                1.0                    1.0   \n",
       "25%                                1.0                    1.0   \n",
       "50%                                1.0                    1.0   \n",
       "75%                                1.0                    1.0   \n",
       "max                                1.0                    1.0   \n",
       "\n",
       "       program__number_of_modules  program__number_of_sub_dirs_with_code  \\\n",
       "count                    6.000000                               6.000000   \n",
       "mean                   537.666687                               2.666667   \n",
       "std                     10.745542                               0.816497   \n",
       "min                    516.000000                               1.000000   \n",
       "25%                    540.250000                               3.000000   \n",
       "50%                    541.000000                               3.000000   \n",
       "75%                    543.250000                               3.000000   \n",
       "max                    544.000000                               3.000000   \n",
       "\n",
       "       program__number_of_packages  program__class_defs_pct  \\\n",
       "count                      6.00000                 6.000000   \n",
       "mean                      72.00000                 0.371222   \n",
       "std                        2.44949                 0.011958   \n",
       "min                       67.00000                 0.365667   \n",
       "25%                       73.00000                 0.365930   \n",
       "50%                       73.00000                 0.366779   \n",
       "75%                       73.00000                 0.366837   \n",
       "max                       73.00000                 0.395604   \n",
       "\n",
       "       program__function_defs_pct  program__enum_defs_pct  \\\n",
       "count                    6.000000                     6.0   \n",
       "mean                     0.628778                     0.0   \n",
       "std                      0.011958                     0.0   \n",
       "min                      0.604396                     0.0   \n",
       "25%                      0.633163                     0.0   \n",
       "50%                      0.633221                     0.0   \n",
       "75%                      0.634070                     0.0   \n",
       "max                      0.634333                     0.0   \n",
       "\n",
       "       program__has_code_root_package  program__average_defs_per_module  \n",
       "count                             6.0                          6.000000  \n",
       "mean                              1.0                          5.720855  \n",
       "std                               0.0                          0.124689  \n",
       "min                               1.0                          5.467054  \n",
       "25%                               1.0                          5.761029  \n",
       "50%                               1.0                          5.767761  \n",
       "75%                               1.0                          5.775878  \n",
       "max                               1.0                          5.785185  "
      ],
      "text/html": [
       "<div>\n",
       "<style scoped>\n",
       "    .dataframe tbody tr th:only-of-type {\n",
       "        vertical-align: middle;\n",
       "    }\n",
       "\n",
       "    .dataframe tbody tr th {\n",
       "        vertical-align: top;\n",
       "    }\n",
       "\n",
       "    .dataframe thead th {\n",
       "        text-align: right;\n",
       "    }\n",
       "</style>\n",
       "<table border=\"1\" class=\"dataframe\">\n",
       "  <thead>\n",
       "    <tr style=\"text-align: right;\">\n",
       "      <th></th>\n",
       "      <th>program__has_sub_dirs_with_code</th>\n",
       "      <th>program__has_packages</th>\n",
       "      <th>program__number_of_modules</th>\n",
       "      <th>program__number_of_sub_dirs_with_code</th>\n",
       "      <th>program__number_of_packages</th>\n",
       "      <th>program__class_defs_pct</th>\n",
       "      <th>program__function_defs_pct</th>\n",
       "      <th>program__enum_defs_pct</th>\n",
       "      <th>program__has_code_root_package</th>\n",
       "      <th>program__average_defs_per_module</th>\n",
       "    </tr>\n",
       "  </thead>\n",
       "  <tbody>\n",
       "    <tr>\n",
       "      <th>count</th>\n",
       "      <td>6.0</td>\n",
       "      <td>6.0</td>\n",
       "      <td>6.000000</td>\n",
       "      <td>6.000000</td>\n",
       "      <td>6.00000</td>\n",
       "      <td>6.000000</td>\n",
       "      <td>6.000000</td>\n",
       "      <td>6.0</td>\n",
       "      <td>6.0</td>\n",
       "      <td>6.000000</td>\n",
       "    </tr>\n",
       "    <tr>\n",
       "      <th>mean</th>\n",
       "      <td>1.0</td>\n",
       "      <td>1.0</td>\n",
       "      <td>537.666687</td>\n",
       "      <td>2.666667</td>\n",
       "      <td>72.00000</td>\n",
       "      <td>0.371222</td>\n",
       "      <td>0.628778</td>\n",
       "      <td>0.0</td>\n",
       "      <td>1.0</td>\n",
       "      <td>5.720855</td>\n",
       "    </tr>\n",
       "    <tr>\n",
       "      <th>std</th>\n",
       "      <td>0.0</td>\n",
       "      <td>0.0</td>\n",
       "      <td>10.745542</td>\n",
       "      <td>0.816497</td>\n",
       "      <td>2.44949</td>\n",
       "      <td>0.011958</td>\n",
       "      <td>0.011958</td>\n",
       "      <td>0.0</td>\n",
       "      <td>0.0</td>\n",
       "      <td>0.124689</td>\n",
       "    </tr>\n",
       "    <tr>\n",
       "      <th>min</th>\n",
       "      <td>1.0</td>\n",
       "      <td>1.0</td>\n",
       "      <td>516.000000</td>\n",
       "      <td>1.000000</td>\n",
       "      <td>67.00000</td>\n",
       "      <td>0.365667</td>\n",
       "      <td>0.604396</td>\n",
       "      <td>0.0</td>\n",
       "      <td>1.0</td>\n",
       "      <td>5.467054</td>\n",
       "    </tr>\n",
       "    <tr>\n",
       "      <th>25%</th>\n",
       "      <td>1.0</td>\n",
       "      <td>1.0</td>\n",
       "      <td>540.250000</td>\n",
       "      <td>3.000000</td>\n",
       "      <td>73.00000</td>\n",
       "      <td>0.365930</td>\n",
       "      <td>0.633163</td>\n",
       "      <td>0.0</td>\n",
       "      <td>1.0</td>\n",
       "      <td>5.761029</td>\n",
       "    </tr>\n",
       "    <tr>\n",
       "      <th>50%</th>\n",
       "      <td>1.0</td>\n",
       "      <td>1.0</td>\n",
       "      <td>541.000000</td>\n",
       "      <td>3.000000</td>\n",
       "      <td>73.00000</td>\n",
       "      <td>0.366779</td>\n",
       "      <td>0.633221</td>\n",
       "      <td>0.0</td>\n",
       "      <td>1.0</td>\n",
       "      <td>5.767761</td>\n",
       "    </tr>\n",
       "    <tr>\n",
       "      <th>75%</th>\n",
       "      <td>1.0</td>\n",
       "      <td>1.0</td>\n",
       "      <td>543.250000</td>\n",
       "      <td>3.000000</td>\n",
       "      <td>73.00000</td>\n",
       "      <td>0.366837</td>\n",
       "      <td>0.634070</td>\n",
       "      <td>0.0</td>\n",
       "      <td>1.0</td>\n",
       "      <td>5.775878</td>\n",
       "    </tr>\n",
       "    <tr>\n",
       "      <th>max</th>\n",
       "      <td>1.0</td>\n",
       "      <td>1.0</td>\n",
       "      <td>544.000000</td>\n",
       "      <td>3.000000</td>\n",
       "      <td>73.00000</td>\n",
       "      <td>0.395604</td>\n",
       "      <td>0.634333</td>\n",
       "      <td>0.0</td>\n",
       "      <td>1.0</td>\n",
       "      <td>5.785185</td>\n",
       "    </tr>\n",
       "  </tbody>\n",
       "</table>\n",
       "</div>"
      ]
     },
     "execution_count": 31,
     "metadata": {},
     "output_type": "execute_result"
    }
   ],
   "execution_count": 31
  },
  {
   "metadata": {},
   "cell_type": "markdown",
   "source": [
    "### Variable average_defs_per_module (7/10)\n",
    "Esta variable es de tipo numérica y nos indica el número medio de definiciones en un módulo. Como vimos en la descripción de la tabla esta varibale adopta valores en el rango 0 - 26. Con una media de 1.7."
   ],
   "id": "37d55a98f9df4be"
  },
  {
   "metadata": {
    "ExecuteTime": {
     "end_time": "2024-05-13T20:45:07.099826Z",
     "start_time": "2024-05-13T20:45:06.856017Z"
    }
   },
   "cell_type": "code",
   "source": [
    "sns.stripplot(X['program__average_defs_per_module'])"
   ],
   "id": "8d7027a78ac296ed",
   "outputs": [
    {
     "data": {
      "text/plain": [
       "<Axes: ylabel='program__average_defs_per_module'>"
      ]
     },
     "execution_count": 32,
     "metadata": {},
     "output_type": "execute_result"
    },
    {
     "data": {
      "text/plain": [
       "<Figure size 640x480 with 1 Axes>"
      ],
      "image/png": "[encoded data removed]"
     },
     "metadata": {},
     "output_type": "display_data"
    }
   ],
   "execution_count": 32
  },
  {
   "metadata": {
    "ExecuteTime": {
     "end_time": "2024-05-13T20:45:07.117965Z",
     "start_time": "2024-05-13T20:45:07.102835Z"
    }
   },
   "cell_type": "code",
   "source": [
    "print_outliers_for_df_column(X, 'program__average_defs_per_module')"
   ],
   "id": "98d831dcd0eeee02",
   "outputs": [
    {
     "name": "stdout",
     "output_type": "stream",
     "text": [
      "El coeficiente MC (Medcouple Coefficient) de balanceo es: 0.8339270213600984\n",
      "Rango valores atípicos extremos (Tukey): [-6.0,8.0]\n",
      "Rango valores atípicos leves (Tukey): [-3.0,5.0]\n",
      "Rango valores atípicos extremos (Fixed BoxPlot): [-0.16200431859807957,86.29481647655987]\n",
      "-3.0IQR: 0 instancias tienen un valor para program__average_defs_per_module inferior a -6.0 (Q1-3*IQR) para program__average_defs_per_module. Representando un 0.0% del total de instancias.\n",
      "-1.5IQR: 0 instancias tienen un valor para program__average_defs_per_module inferior a -3.0 (Q1-1.5*IQR) para program__average_defs_per_module. Representando un 0.0% del total de instancias.\n",
      "+1.5IQR: 132 instancias tienen un valor para program__average_defs_per_module superior a 5.0 (Q3+1.5*IQR) para program__average_defs_per_module. Representando un 8.297% del total de instancias.\n",
      "+3.0IQR: 62 instancias tienen un valor para program__average_defs_per_module superior a 8.0 (Q3-3*IQR) para program__average_defs_per_module. Representando un 3.897% del total de instancias.\n",
      "L: 0 instancias tienen un valor para program__average_defs_per_module inferior a -0.16200431859807957 para program__average_defs_per_module. Representando un 0.0% del total de instancias.\n",
      "U: 0 instancias tienen un valor para program__average_defs_per_module superior a 86.29481647655987 para program__average_defs_per_module. Representando un 0.0% del total de instancias.\n"
     ]
    }
   ],
   "execution_count": 33
  },
  {
   "metadata": {},
   "cell_type": "markdown",
   "source": "Describimos los valores de las variables de la tabla, cuando el valor de la variable es mayor que 8 (Con un MC de 83 usamos Tuckey Extremo)",
   "id": "c3f3342461ae4bd3"
  },
  {
   "metadata": {
    "ExecuteTime": {
     "end_time": "2024-05-13T20:45:07.170611Z",
     "start_time": "2024-05-13T20:45:07.119972Z"
    }
   },
   "cell_type": "code",
   "source": "X[X['program__average_defs_per_module'] > 8].describe(percentiles=[.25, .50, .75], include = ['object', 'float', 'bool', 'int'])",
   "id": "74dd9804c97aef00",
   "outputs": [
    {
     "data": {
      "text/plain": [
       "       program__has_sub_dirs_with_code  program__has_packages  \\\n",
       "count                        62.000000                   62.0   \n",
       "mean                          0.080645                    0.0   \n",
       "std                           0.274512                    0.0   \n",
       "min                           0.000000                    0.0   \n",
       "25%                           0.000000                    0.0   \n",
       "50%                           0.000000                    0.0   \n",
       "75%                           0.000000                    0.0   \n",
       "max                           1.000000                    0.0   \n",
       "\n",
       "       program__number_of_modules  program__number_of_sub_dirs_with_code  \\\n",
       "count                   62.000000                              62.000000   \n",
       "mean                     3.741935                               0.080645   \n",
       "std                      2.353480                               0.274512   \n",
       "min                      1.000000                               0.000000   \n",
       "25%                      1.250000                               0.000000   \n",
       "50%                      3.000000                               0.000000   \n",
       "75%                      6.000000                               0.000000   \n",
       "max                     10.000000                               1.000000   \n",
       "\n",
       "       program__number_of_packages  program__class_defs_pct  \\\n",
       "count                         62.0                62.000000   \n",
       "mean                           0.0                 0.015428   \n",
       "std                            0.0                 0.085191   \n",
       "min                            0.0                 0.000000   \n",
       "25%                            0.0                 0.000000   \n",
       "50%                            0.0                 0.000000   \n",
       "75%                            0.0                 0.000000   \n",
       "max                            0.0                 0.478261   \n",
       "\n",
       "       program__function_defs_pct  program__enum_defs_pct  \\\n",
       "count                   62.000000                    62.0   \n",
       "mean                     0.984572                     0.0   \n",
       "std                      0.085191                     0.0   \n",
       "min                      0.521739                     0.0   \n",
       "25%                      1.000000                     0.0   \n",
       "50%                      1.000000                     0.0   \n",
       "75%                      1.000000                     0.0   \n",
       "max                      1.000000                     0.0   \n",
       "\n",
       "       program__has_code_root_package  program__average_defs_per_module  \n",
       "count                            62.0                         62.000000  \n",
       "mean                              1.0                         13.127841  \n",
       "std                               0.0                          4.076472  \n",
       "min                               1.0                          8.666667  \n",
       "25%                               1.0                         10.500000  \n",
       "50%                               1.0                         11.285714  \n",
       "75%                               1.0                         16.000000  \n",
       "max                               1.0                         26.000000  "
      ],
      "text/html": [
       "<div>\n",
       "<style scoped>\n",
       "    .dataframe tbody tr th:only-of-type {\n",
       "        vertical-align: middle;\n",
       "    }\n",
       "\n",
       "    .dataframe tbody tr th {\n",
       "        vertical-align: top;\n",
       "    }\n",
       "\n",
       "    .dataframe thead th {\n",
       "        text-align: right;\n",
       "    }\n",
       "</style>\n",
       "<table border=\"1\" class=\"dataframe\">\n",
       "  <thead>\n",
       "    <tr style=\"text-align: right;\">\n",
       "      <th></th>\n",
       "      <th>program__has_sub_dirs_with_code</th>\n",
       "      <th>program__has_packages</th>\n",
       "      <th>program__number_of_modules</th>\n",
       "      <th>program__number_of_sub_dirs_with_code</th>\n",
       "      <th>program__number_of_packages</th>\n",
       "      <th>program__class_defs_pct</th>\n",
       "      <th>program__function_defs_pct</th>\n",
       "      <th>program__enum_defs_pct</th>\n",
       "      <th>program__has_code_root_package</th>\n",
       "      <th>program__average_defs_per_module</th>\n",
       "    </tr>\n",
       "  </thead>\n",
       "  <tbody>\n",
       "    <tr>\n",
       "      <th>count</th>\n",
       "      <td>62.000000</td>\n",
       "      <td>62.0</td>\n",
       "      <td>62.000000</td>\n",
       "      <td>62.000000</td>\n",
       "      <td>62.0</td>\n",
       "      <td>62.000000</td>\n",
       "      <td>62.000000</td>\n",
       "      <td>62.0</td>\n",
       "      <td>62.0</td>\n",
       "      <td>62.000000</td>\n",
       "    </tr>\n",
       "    <tr>\n",
       "      <th>mean</th>\n",
       "      <td>0.080645</td>\n",
       "      <td>0.0</td>\n",
       "      <td>3.741935</td>\n",
       "      <td>0.080645</td>\n",
       "      <td>0.0</td>\n",
       "      <td>0.015428</td>\n",
       "      <td>0.984572</td>\n",
       "      <td>0.0</td>\n",
       "      <td>1.0</td>\n",
       "      <td>13.127841</td>\n",
       "    </tr>\n",
       "    <tr>\n",
       "      <th>std</th>\n",
       "      <td>0.274512</td>\n",
       "      <td>0.0</td>\n",
       "      <td>2.353480</td>\n",
       "      <td>0.274512</td>\n",
       "      <td>0.0</td>\n",
       "      <td>0.085191</td>\n",
       "      <td>0.085191</td>\n",
       "      <td>0.0</td>\n",
       "      <td>0.0</td>\n",
       "      <td>4.076472</td>\n",
       "    </tr>\n",
       "    <tr>\n",
       "      <th>min</th>\n",
       "      <td>0.000000</td>\n",
       "      <td>0.0</td>\n",
       "      <td>1.000000</td>\n",
       "      <td>0.000000</td>\n",
       "      <td>0.0</td>\n",
       "      <td>0.000000</td>\n",
       "      <td>0.521739</td>\n",
       "      <td>0.0</td>\n",
       "      <td>1.0</td>\n",
       "      <td>8.666667</td>\n",
       "    </tr>\n",
       "    <tr>\n",
       "      <th>25%</th>\n",
       "      <td>0.000000</td>\n",
       "      <td>0.0</td>\n",
       "      <td>1.250000</td>\n",
       "      <td>0.000000</td>\n",
       "      <td>0.0</td>\n",
       "      <td>0.000000</td>\n",
       "      <td>1.000000</td>\n",
       "      <td>0.0</td>\n",
       "      <td>1.0</td>\n",
       "      <td>10.500000</td>\n",
       "    </tr>\n",
       "    <tr>\n",
       "      <th>50%</th>\n",
       "      <td>0.000000</td>\n",
       "      <td>0.0</td>\n",
       "      <td>3.000000</td>\n",
       "      <td>0.000000</td>\n",
       "      <td>0.0</td>\n",
       "      <td>0.000000</td>\n",
       "      <td>1.000000</td>\n",
       "      <td>0.0</td>\n",
       "      <td>1.0</td>\n",
       "      <td>11.285714</td>\n",
       "    </tr>\n",
       "    <tr>\n",
       "      <th>75%</th>\n",
       "      <td>0.000000</td>\n",
       "      <td>0.0</td>\n",
       "      <td>6.000000</td>\n",
       "      <td>0.000000</td>\n",
       "      <td>0.0</td>\n",
       "      <td>0.000000</td>\n",
       "      <td>1.000000</td>\n",
       "      <td>0.0</td>\n",
       "      <td>1.0</td>\n",
       "      <td>16.000000</td>\n",
       "    </tr>\n",
       "    <tr>\n",
       "      <th>max</th>\n",
       "      <td>1.000000</td>\n",
       "      <td>0.0</td>\n",
       "      <td>10.000000</td>\n",
       "      <td>1.000000</td>\n",
       "      <td>0.0</td>\n",
       "      <td>0.478261</td>\n",
       "      <td>1.000000</td>\n",
       "      <td>0.0</td>\n",
       "      <td>1.0</td>\n",
       "      <td>26.000000</td>\n",
       "    </tr>\n",
       "  </tbody>\n",
       "</table>\n",
       "</div>"
      ]
     },
     "execution_count": 34,
     "metadata": {},
     "output_type": "execute_result"
    }
   ],
   "execution_count": 34
  },
  {
   "metadata": {},
   "cell_type": "markdown",
   "source": [
    "### Variable class_defs_pct (8/10)\n",
    "Esta variable representa el porcentage de las definiciones de un programa que son clases. Como vimos en la descripción de la tabla esta varibale adopta valores en el rango 0.0 - 1.0. Con una media de 0.007."
   ],
   "id": "fb182a156befa75a"
  },
  {
   "metadata": {
    "ExecuteTime": {
     "end_time": "2024-05-13T20:45:07.753762Z",
     "start_time": "2024-05-13T20:45:07.173622Z"
    }
   },
   "cell_type": "code",
   "source": "sns.displot(X['program__class_defs_pct'], bins=[i / 100 for i in range(0, 101)])",
   "id": "8cfc8a56a436ab6d",
   "outputs": [
    {
     "data": {
      "text/plain": [
       "<seaborn.axisgrid.FacetGrid at 0x1d390586e10>"
      ]
     },
     "execution_count": 35,
     "metadata": {},
     "output_type": "execute_result"
    },
    {
     "data": {
      "text/plain": [
       "<Figure size 500x500 with 1 Axes>"
      ],
      "image/png": "[encoded data removed]"
     },
     "metadata": {},
     "output_type": "display_data"
    }
   ],
   "execution_count": 35
  },
  {
   "metadata": {
    "ExecuteTime": {
     "end_time": "2024-05-13T20:45:07.770223Z",
     "start_time": "2024-05-13T20:45:07.755769Z"
    }
   },
   "cell_type": "code",
   "source": "print_outliers_for_df_column(X, 'program__class_defs_pct')",
   "id": "6d4e07dfc0eea73c",
   "outputs": [
    {
     "name": "stdout",
     "output_type": "stream",
     "text": [
      "El coeficiente MC (Medcouple Coefficient) de balanceo es: 0.9419303923682896\n",
      "Rango valores atípicos extremos (Tukey): [0.0,0.0]\n",
      "Rango valores atípicos leves (Tukey): [0.0,0.0]\n",
      "Rango valores atípicos extremos (Fixed BoxPlot): [0.0,0.0]\n",
      "-3.0IQR: 0 instancias tienen un valor para program__class_defs_pct inferior a 0.0 (Q1-3*IQR) para program__class_defs_pct. Representando un 0.0% del total de instancias.\n",
      "-1.5IQR: 0 instancias tienen un valor para program__class_defs_pct inferior a 0.0 (Q1-1.5*IQR) para program__class_defs_pct. Representando un 0.0% del total de instancias.\n",
      "+1.5IQR: 31 instancias tienen un valor para program__class_defs_pct superior a 0.0 (Q3+1.5*IQR) para program__class_defs_pct. Representando un 1.948% del total de instancias.\n",
      "+3.0IQR: 31 instancias tienen un valor para program__class_defs_pct superior a 0.0 (Q3-3*IQR) para program__class_defs_pct. Representando un 1.948% del total de instancias.\n",
      "L: 0 instancias tienen un valor para program__class_defs_pct inferior a 0.0 para program__class_defs_pct. Representando un 0.0% del total de instancias.\n",
      "U: 31 instancias tienen un valor para program__class_defs_pct superior a 0.0 para program__class_defs_pct. Representando un 1.948% del total de instancias.\n"
     ]
    }
   ],
   "execution_count": 36
  },
  {
   "metadata": {},
   "cell_type": "markdown",
   "source": "Describimos los valores de las variables de la tabla, cuando el valor de la variable es mayor que 0 (Todos los umbrales son 0)",
   "id": "156d417e337d7834"
  },
  {
   "metadata": {
    "ExecuteTime": {
     "end_time": "2024-05-13T20:45:07.831243Z",
     "start_time": "2024-05-13T20:45:07.772234Z"
    }
   },
   "cell_type": "code",
   "source": "X[X['program__class_defs_pct'] > 0.0].describe(percentiles=[.25, .50, .75], include = ['object', 'float', 'bool', 'int'])",
   "id": "5c5b54117de99ea5",
   "outputs": [
    {
     "data": {
      "text/plain": [
       "       program__has_sub_dirs_with_code  program__has_packages  \\\n",
       "count                        31.000000              31.000000   \n",
       "mean                          0.225806               0.193548   \n",
       "std                           0.425024               0.401610   \n",
       "min                           0.000000               0.000000   \n",
       "25%                           0.000000               0.000000   \n",
       "50%                           0.000000               0.000000   \n",
       "75%                           0.000000               0.000000   \n",
       "max                           1.000000               1.000000   \n",
       "\n",
       "       program__number_of_modules  program__number_of_sub_dirs_with_code  \\\n",
       "count                   31.000000                              31.000000   \n",
       "mean                   106.838707                               0.548387   \n",
       "std                    214.599014                               1.120676   \n",
       "min                      1.000000                               0.000000   \n",
       "25%                      3.000000                               0.000000   \n",
       "50%                      4.000000                               0.000000   \n",
       "75%                      5.500000                               0.000000   \n",
       "max                    544.000000                               3.000000   \n",
       "\n",
       "       program__number_of_packages  program__class_defs_pct  \\\n",
       "count                    31.000000                31.000000   \n",
       "mean                     13.935484                 0.383414   \n",
       "std                      28.933182                 0.318655   \n",
       "min                       0.000000                 0.045455   \n",
       "25%                       0.000000                 0.125000   \n",
       "50%                       0.000000                 0.333333   \n",
       "75%                       0.000000                 0.478261   \n",
       "max                      73.000000                 1.000000   \n",
       "\n",
       "       program__function_defs_pct  program__enum_defs_pct  \\\n",
       "count                   31.000000                    31.0   \n",
       "mean                     0.616587                     0.0   \n",
       "std                      0.318655                     0.0   \n",
       "min                      0.000000                     0.0   \n",
       "25%                      0.521739                     0.0   \n",
       "50%                      0.666667                     0.0   \n",
       "75%                      0.875000                     0.0   \n",
       "max                      0.954545                     0.0   \n",
       "\n",
       "       program__has_code_root_package  program__average_defs_per_module  \n",
       "count                            31.0                         31.000000  \n",
       "mean                              1.0                          5.620165  \n",
       "std                               0.0                          5.056313  \n",
       "min                               1.0                          0.750000  \n",
       "25%                               1.0                          2.750000  \n",
       "50%                               1.0                          5.333333  \n",
       "75%                               1.0                          6.000000  \n",
       "max                               1.0                         23.000000  "
      ],
      "text/html": [
       "<div>\n",
       "<style scoped>\n",
       "    .dataframe tbody tr th:only-of-type {\n",
       "        vertical-align: middle;\n",
       "    }\n",
       "\n",
       "    .dataframe tbody tr th {\n",
       "        vertical-align: top;\n",
       "    }\n",
       "\n",
       "    .dataframe thead th {\n",
       "        text-align: right;\n",
       "    }\n",
       "</style>\n",
       "<table border=\"1\" class=\"dataframe\">\n",
       "  <thead>\n",
       "    <tr style=\"text-align: right;\">\n",
       "      <th></th>\n",
       "      <th>program__has_sub_dirs_with_code</th>\n",
       "      <th>program__has_packages</th>\n",
       "      <th>program__number_of_modules</th>\n",
       "      <th>program__number_of_sub_dirs_with_code</th>\n",
       "      <th>program__number_of_packages</th>\n",
       "      <th>program__class_defs_pct</th>\n",
       "      <th>program__function_defs_pct</th>\n",
       "      <th>program__enum_defs_pct</th>\n",
       "      <th>program__has_code_root_package</th>\n",
       "      <th>program__average_defs_per_module</th>\n",
       "    </tr>\n",
       "  </thead>\n",
       "  <tbody>\n",
       "    <tr>\n",
       "      <th>count</th>\n",
       "      <td>31.000000</td>\n",
       "      <td>31.000000</td>\n",
       "      <td>31.000000</td>\n",
       "      <td>31.000000</td>\n",
       "      <td>31.000000</td>\n",
       "      <td>31.000000</td>\n",
       "      <td>31.000000</td>\n",
       "      <td>31.0</td>\n",
       "      <td>31.0</td>\n",
       "      <td>31.000000</td>\n",
       "    </tr>\n",
       "    <tr>\n",
       "      <th>mean</th>\n",
       "      <td>0.225806</td>\n",
       "      <td>0.193548</td>\n",
       "      <td>106.838707</td>\n",
       "      <td>0.548387</td>\n",
       "      <td>13.935484</td>\n",
       "      <td>0.383414</td>\n",
       "      <td>0.616587</td>\n",
       "      <td>0.0</td>\n",
       "      <td>1.0</td>\n",
       "      <td>5.620165</td>\n",
       "    </tr>\n",
       "    <tr>\n",
       "      <th>std</th>\n",
       "      <td>0.425024</td>\n",
       "      <td>0.401610</td>\n",
       "      <td>214.599014</td>\n",
       "      <td>1.120676</td>\n",
       "      <td>28.933182</td>\n",
       "      <td>0.318655</td>\n",
       "      <td>0.318655</td>\n",
       "      <td>0.0</td>\n",
       "      <td>0.0</td>\n",
       "      <td>5.056313</td>\n",
       "    </tr>\n",
       "    <tr>\n",
       "      <th>min</th>\n",
       "      <td>0.000000</td>\n",
       "      <td>0.000000</td>\n",
       "      <td>1.000000</td>\n",
       "      <td>0.000000</td>\n",
       "      <td>0.000000</td>\n",
       "      <td>0.045455</td>\n",
       "      <td>0.000000</td>\n",
       "      <td>0.0</td>\n",
       "      <td>1.0</td>\n",
       "      <td>0.750000</td>\n",
       "    </tr>\n",
       "    <tr>\n",
       "      <th>25%</th>\n",
       "      <td>0.000000</td>\n",
       "      <td>0.000000</td>\n",
       "      <td>3.000000</td>\n",
       "      <td>0.000000</td>\n",
       "      <td>0.000000</td>\n",
       "      <td>0.125000</td>\n",
       "      <td>0.521739</td>\n",
       "      <td>0.0</td>\n",
       "      <td>1.0</td>\n",
       "      <td>2.750000</td>\n",
       "    </tr>\n",
       "    <tr>\n",
       "      <th>50%</th>\n",
       "      <td>0.000000</td>\n",
       "      <td>0.000000</td>\n",
       "      <td>4.000000</td>\n",
       "      <td>0.000000</td>\n",
       "      <td>0.000000</td>\n",
       "      <td>0.333333</td>\n",
       "      <td>0.666667</td>\n",
       "      <td>0.0</td>\n",
       "      <td>1.0</td>\n",
       "      <td>5.333333</td>\n",
       "    </tr>\n",
       "    <tr>\n",
       "      <th>75%</th>\n",
       "      <td>0.000000</td>\n",
       "      <td>0.000000</td>\n",
       "      <td>5.500000</td>\n",
       "      <td>0.000000</td>\n",
       "      <td>0.000000</td>\n",
       "      <td>0.478261</td>\n",
       "      <td>0.875000</td>\n",
       "      <td>0.0</td>\n",
       "      <td>1.0</td>\n",
       "      <td>6.000000</td>\n",
       "    </tr>\n",
       "    <tr>\n",
       "      <th>max</th>\n",
       "      <td>1.000000</td>\n",
       "      <td>1.000000</td>\n",
       "      <td>544.000000</td>\n",
       "      <td>3.000000</td>\n",
       "      <td>73.000000</td>\n",
       "      <td>1.000000</td>\n",
       "      <td>0.954545</td>\n",
       "      <td>0.0</td>\n",
       "      <td>1.0</td>\n",
       "      <td>23.000000</td>\n",
       "    </tr>\n",
       "  </tbody>\n",
       "</table>\n",
       "</div>"
      ]
     },
     "execution_count": 37,
     "metadata": {},
     "output_type": "execute_result"
    }
   ],
   "execution_count": 37
  },
  {
   "metadata": {},
   "cell_type": "markdown",
   "source": [
    "### Variable function_defs_pct (9/10)\n",
    "Esta variable representa el porcentage de las definiciones de un programa que son clases. Como vimos en la descripción de la tabla esta varibale adopta valores en el rango 0.0 - 1.0. Con una media de 0,65.\n"
   ],
   "id": "fbd6e93cca1be4bf"
  },
  {
   "metadata": {
    "ExecuteTime": {
     "end_time": "2024-05-13T20:45:08.409744Z",
     "start_time": "2024-05-13T20:45:07.834253Z"
    }
   },
   "cell_type": "code",
   "source": "sns.displot(X['program__function_defs_pct'], bins=[i / 100 for i in range(0, 101)])",
   "id": "f1b75c25c53f4ad5",
   "outputs": [
    {
     "data": {
      "text/plain": [
       "<seaborn.axisgrid.FacetGrid at 0x1d39052e5d0>"
      ]
     },
     "execution_count": 38,
     "metadata": {},
     "output_type": "execute_result"
    },
    {
     "data": {
      "text/plain": [
       "<Figure size 500x500 with 1 Axes>"
      ],
      "image/png": "[encoded data removed]"
     },
     "metadata": {},
     "output_type": "display_data"
    }
   ],
   "execution_count": 38
  },
  {
   "metadata": {
    "ExecuteTime": {
     "end_time": "2024-05-13T20:45:08.426730Z",
     "start_time": "2024-05-13T20:45:08.412769Z"
    }
   },
   "cell_type": "code",
   "source": "print_outliers_for_df_column(X, 'program__function_defs_pct')",
   "id": "d44c212251238f23",
   "outputs": [
    {
     "name": "stdout",
     "output_type": "stream",
     "text": [
      "El coeficiente MC (Medcouple Coefficient) de balanceo es: -0.3356309510033608\n",
      "Rango valores atípicos extremos (Tukey): [-3.0,4.0]\n",
      "Rango valores atípicos leves (Tukey): [-1.5,2.5]\n",
      "Rango valores atípicos extremos (Fixed BoxPlot): [-5.743041293693607,1.4633635997749934]\n",
      "-3.0IQR: 0 instancias tienen un valor para program__function_defs_pct inferior a -3.0 (Q1-3*IQR) para program__function_defs_pct. Representando un 0.0% del total de instancias.\n",
      "-1.5IQR: 0 instancias tienen un valor para program__function_defs_pct inferior a -1.5 (Q1-1.5*IQR) para program__function_defs_pct. Representando un 0.0% del total de instancias.\n",
      "+1.5IQR: 0 instancias tienen un valor para program__function_defs_pct superior a 2.5 (Q3+1.5*IQR) para program__function_defs_pct. Representando un 0.0% del total de instancias.\n",
      "+3.0IQR: 0 instancias tienen un valor para program__function_defs_pct superior a 4.0 (Q3-3*IQR) para program__function_defs_pct. Representando un 0.0% del total de instancias.\n",
      "L: 0 instancias tienen un valor para program__function_defs_pct inferior a -5.743041293693607 para program__function_defs_pct. Representando un 0.0% del total de instancias.\n",
      "U: 0 instancias tienen un valor para program__function_defs_pct superior a 1.4633635997749934 para program__function_defs_pct. Representando un 0.0% del total de instancias.\n"
     ]
    }
   ],
   "execution_count": 39
  },
  {
   "metadata": {},
   "cell_type": "markdown",
   "source": "IMPORTANTE: Estos valores siguen un distribucion en forma de U (distribucion de Laplace). Con lo que los posibles valores outliers estan en el medio, no en los extremos. No se puede aplicar el metodo de tukey. En este momento, solo vamos a mostrar los valores que hay en el medio.",
   "id": "2105fc1e9e292de7"
  },
  {
   "metadata": {
    "ExecuteTime": {
     "end_time": "2024-05-13T20:45:08.480013Z",
     "start_time": "2024-05-13T20:45:08.428748Z"
    }
   },
   "cell_type": "code",
   "source": "X[(X['program__function_defs_pct'] > 0.0) & (X['program__function_defs_pct'] < 1.0)].describe(percentiles=[.25, .50, .75], include = ['object', 'float', 'bool', 'int'])",
   "id": "b493e3454f34ef9",
   "outputs": [
    {
     "data": {
      "text/plain": [
       "       program__has_sub_dirs_with_code  program__has_packages  \\\n",
       "count                        28.000000              28.000000   \n",
       "mean                          0.250000               0.214286   \n",
       "std                           0.440959               0.417855   \n",
       "min                           0.000000               0.000000   \n",
       "25%                           0.000000               0.000000   \n",
       "50%                           0.000000               0.000000   \n",
       "75%                           0.250000               0.000000   \n",
       "max                           1.000000               1.000000   \n",
       "\n",
       "       program__number_of_modules  program__number_of_sub_dirs_with_code  \\\n",
       "count                   28.000000                              28.000000   \n",
       "mean                   117.857140                               0.607143   \n",
       "std                    223.313049                               1.165532   \n",
       "min                      1.000000                               0.000000   \n",
       "25%                      3.000000                               0.000000   \n",
       "50%                      4.000000                               0.000000   \n",
       "75%                      6.000000                               0.250000   \n",
       "max                    544.000000                               3.000000   \n",
       "\n",
       "       program__number_of_packages  program__class_defs_pct  \\\n",
       "count                    28.000000                28.000000   \n",
       "mean                     15.428572                 0.317351   \n",
       "std                      30.104052                 0.257012   \n",
       "min                       0.000000                 0.045455   \n",
       "25%                       0.000000                 0.121528   \n",
       "50%                       0.000000                 0.260417   \n",
       "75%                       0.000000                 0.374029   \n",
       "max                      73.000000                 0.947368   \n",
       "\n",
       "       program__function_defs_pct  program__enum_defs_pct  \\\n",
       "count                   28.000000                    28.0   \n",
       "mean                     0.682649                     0.0   \n",
       "std                      0.257012                     0.0   \n",
       "min                      0.052632                     0.0   \n",
       "25%                      0.625971                     0.0   \n",
       "50%                      0.739583                     0.0   \n",
       "75%                      0.878472                     0.0   \n",
       "max                      0.954545                     0.0   \n",
       "\n",
       "       program__has_code_root_package  program__average_defs_per_module  \n",
       "count                            28.0                         28.000000  \n",
       "mean                              1.0                          6.141969  \n",
       "std                               0.0                          5.048687  \n",
       "min                               1.0                          2.250000  \n",
       "25%                               1.0                          3.191667  \n",
       "50%                               1.0                          5.614042  \n",
       "75%                               1.0                          6.125000  \n",
       "max                               1.0                         23.000000  "
      ],
      "text/html": [
       "<div>\n",
       "<style scoped>\n",
       "    .dataframe tbody tr th:only-of-type {\n",
       "        vertical-align: middle;\n",
       "    }\n",
       "\n",
       "    .dataframe tbody tr th {\n",
       "        vertical-align: top;\n",
       "    }\n",
       "\n",
       "    .dataframe thead th {\n",
       "        text-align: right;\n",
       "    }\n",
       "</style>\n",
       "<table border=\"1\" class=\"dataframe\">\n",
       "  <thead>\n",
       "    <tr style=\"text-align: right;\">\n",
       "      <th></th>\n",
       "      <th>program__has_sub_dirs_with_code</th>\n",
       "      <th>program__has_packages</th>\n",
       "      <th>program__number_of_modules</th>\n",
       "      <th>program__number_of_sub_dirs_with_code</th>\n",
       "      <th>program__number_of_packages</th>\n",
       "      <th>program__class_defs_pct</th>\n",
       "      <th>program__function_defs_pct</th>\n",
       "      <th>program__enum_defs_pct</th>\n",
       "      <th>program__has_code_root_package</th>\n",
       "      <th>program__average_defs_per_module</th>\n",
       "    </tr>\n",
       "  </thead>\n",
       "  <tbody>\n",
       "    <tr>\n",
       "      <th>count</th>\n",
       "      <td>28.000000</td>\n",
       "      <td>28.000000</td>\n",
       "      <td>28.000000</td>\n",
       "      <td>28.000000</td>\n",
       "      <td>28.000000</td>\n",
       "      <td>28.000000</td>\n",
       "      <td>28.000000</td>\n",
       "      <td>28.0</td>\n",
       "      <td>28.0</td>\n",
       "      <td>28.000000</td>\n",
       "    </tr>\n",
       "    <tr>\n",
       "      <th>mean</th>\n",
       "      <td>0.250000</td>\n",
       "      <td>0.214286</td>\n",
       "      <td>117.857140</td>\n",
       "      <td>0.607143</td>\n",
       "      <td>15.428572</td>\n",
       "      <td>0.317351</td>\n",
       "      <td>0.682649</td>\n",
       "      <td>0.0</td>\n",
       "      <td>1.0</td>\n",
       "      <td>6.141969</td>\n",
       "    </tr>\n",
       "    <tr>\n",
       "      <th>std</th>\n",
       "      <td>0.440959</td>\n",
       "      <td>0.417855</td>\n",
       "      <td>223.313049</td>\n",
       "      <td>1.165532</td>\n",
       "      <td>30.104052</td>\n",
       "      <td>0.257012</td>\n",
       "      <td>0.257012</td>\n",
       "      <td>0.0</td>\n",
       "      <td>0.0</td>\n",
       "      <td>5.048687</td>\n",
       "    </tr>\n",
       "    <tr>\n",
       "      <th>min</th>\n",
       "      <td>0.000000</td>\n",
       "      <td>0.000000</td>\n",
       "      <td>1.000000</td>\n",
       "      <td>0.000000</td>\n",
       "      <td>0.000000</td>\n",
       "      <td>0.045455</td>\n",
       "      <td>0.052632</td>\n",
       "      <td>0.0</td>\n",
       "      <td>1.0</td>\n",
       "      <td>2.250000</td>\n",
       "    </tr>\n",
       "    <tr>\n",
       "      <th>25%</th>\n",
       "      <td>0.000000</td>\n",
       "      <td>0.000000</td>\n",
       "      <td>3.000000</td>\n",
       "      <td>0.000000</td>\n",
       "      <td>0.000000</td>\n",
       "      <td>0.121528</td>\n",
       "      <td>0.625971</td>\n",
       "      <td>0.0</td>\n",
       "      <td>1.0</td>\n",
       "      <td>3.191667</td>\n",
       "    </tr>\n",
       "    <tr>\n",
       "      <th>50%</th>\n",
       "      <td>0.000000</td>\n",
       "      <td>0.000000</td>\n",
       "      <td>4.000000</td>\n",
       "      <td>0.000000</td>\n",
       "      <td>0.000000</td>\n",
       "      <td>0.260417</td>\n",
       "      <td>0.739583</td>\n",
       "      <td>0.0</td>\n",
       "      <td>1.0</td>\n",
       "      <td>5.614042</td>\n",
       "    </tr>\n",
       "    <tr>\n",
       "      <th>75%</th>\n",
       "      <td>0.250000</td>\n",
       "      <td>0.000000</td>\n",
       "      <td>6.000000</td>\n",
       "      <td>0.250000</td>\n",
       "      <td>0.000000</td>\n",
       "      <td>0.374029</td>\n",
       "      <td>0.878472</td>\n",
       "      <td>0.0</td>\n",
       "      <td>1.0</td>\n",
       "      <td>6.125000</td>\n",
       "    </tr>\n",
       "    <tr>\n",
       "      <th>max</th>\n",
       "      <td>1.000000</td>\n",
       "      <td>1.000000</td>\n",
       "      <td>544.000000</td>\n",
       "      <td>3.000000</td>\n",
       "      <td>73.000000</td>\n",
       "      <td>0.947368</td>\n",
       "      <td>0.954545</td>\n",
       "      <td>0.0</td>\n",
       "      <td>1.0</td>\n",
       "      <td>23.000000</td>\n",
       "    </tr>\n",
       "  </tbody>\n",
       "</table>\n",
       "</div>"
      ]
     },
     "execution_count": 40,
     "metadata": {},
     "output_type": "execute_result"
    }
   ],
   "execution_count": 40
  },
  {
   "metadata": {},
   "cell_type": "markdown",
   "source": [
    "### Variable enum_defs_pct (10/10)\n",
    "Esta variable representa el porcentage de las definiciones de un programa que son clases. Como vimos en la descripción de la tabla esta varibale adopta valores en el rango 0.0 - 1.0. Con un maximo de 0."
   ],
   "id": "e3d532376a1f0a16"
  },
  {
   "metadata": {
    "ExecuteTime": {
     "end_time": "2024-05-13T20:45:09.049766Z",
     "start_time": "2024-05-13T20:45:08.482028Z"
    }
   },
   "cell_type": "code",
   "source": "sns.displot(X['program__enum_defs_pct'], bins=[i / 100 for i in range(0, 101)])",
   "id": "345260364ebc3bf6",
   "outputs": [
    {
     "data": {
      "text/plain": [
       "<seaborn.axisgrid.FacetGrid at 0x1d3900a1eb0>"
      ]
     },
     "execution_count": 41,
     "metadata": {},
     "output_type": "execute_result"
    },
    {
     "data": {
      "text/plain": [
       "<Figure size 500x500 with 1 Axes>"
      ],
      "image/png": "[encoded data removed]"
     },
     "metadata": {},
     "output_type": "display_data"
    }
   ],
   "execution_count": 41
  },
  {
   "metadata": {
    "ExecuteTime": {
     "end_time": "2024-05-13T20:45:09.065252Z",
     "start_time": "2024-05-13T20:45:09.052775Z"
    }
   },
   "cell_type": "code",
   "source": "print_outliers_for_df_column(X, 'program__enum_defs_pct')",
   "id": "974c59b1f655d0f3",
   "outputs": [
    {
     "name": "stdout",
     "output_type": "stream",
     "text": [
      "El coeficiente MC (Medcouple Coefficient) de balanceo es: 0.5\n",
      "Rango valores atípicos extremos (Tukey): [0.0,0.0]\n",
      "Rango valores atípicos leves (Tukey): [0.0,0.0]\n",
      "Rango valores atípicos extremos (Fixed BoxPlot): [0.0,0.0]\n",
      "-3.0IQR: 0 instancias tienen un valor para program__enum_defs_pct inferior a 0.0 (Q1-3*IQR) para program__enum_defs_pct. Representando un 0.0% del total de instancias.\n",
      "-1.5IQR: 0 instancias tienen un valor para program__enum_defs_pct inferior a 0.0 (Q1-1.5*IQR) para program__enum_defs_pct. Representando un 0.0% del total de instancias.\n",
      "+1.5IQR: 0 instancias tienen un valor para program__enum_defs_pct superior a 0.0 (Q3+1.5*IQR) para program__enum_defs_pct. Representando un 0.0% del total de instancias.\n",
      "+3.0IQR: 0 instancias tienen un valor para program__enum_defs_pct superior a 0.0 (Q3-3*IQR) para program__enum_defs_pct. Representando un 0.0% del total de instancias.\n",
      "L: 0 instancias tienen un valor para program__enum_defs_pct inferior a 0.0 para program__enum_defs_pct. Representando un 0.0% del total de instancias.\n",
      "U: 0 instancias tienen un valor para program__enum_defs_pct superior a 0.0 para program__enum_defs_pct. Representando un 0.0% del total de instancias.\n"
     ]
    }
   ],
   "execution_count": 42
  },
  {
   "metadata": {},
   "cell_type": "markdown",
   "source": [
    "### IMPORTANTE\n",
    "Todos los programas tienen el valor de la variable program__enum_defs_pct a 0."
   ],
   "id": "e391ac06b050e744"
  },
  {
   "metadata": {
    "ExecuteTime": {
     "end_time": "2024-05-13T20:45:09.114515Z",
     "start_time": "2024-05-13T20:45:09.067263Z"
    }
   },
   "cell_type": "code",
   "source": "X[X['program__enum_defs_pct'] > 0].describe(percentiles=[.25, .50, .75], include = ['object', 'float', 'bool', 'int'])",
   "id": "fd3d31b12264e45",
   "outputs": [
    {
     "data": {
      "text/plain": [
       "       program__has_sub_dirs_with_code  program__has_packages  \\\n",
       "count                              0.0                    0.0   \n",
       "mean                               NaN                    NaN   \n",
       "std                                NaN                    NaN   \n",
       "min                                NaN                    NaN   \n",
       "25%                                NaN                    NaN   \n",
       "50%                                NaN                    NaN   \n",
       "75%                                NaN                    NaN   \n",
       "max                                NaN                    NaN   \n",
       "\n",
       "       program__number_of_modules  program__number_of_sub_dirs_with_code  \\\n",
       "count                         0.0                                    0.0   \n",
       "mean                          NaN                                    NaN   \n",
       "std                           NaN                                    NaN   \n",
       "min                           NaN                                    NaN   \n",
       "25%                           NaN                                    NaN   \n",
       "50%                           NaN                                    NaN   \n",
       "75%                           NaN                                    NaN   \n",
       "max                           NaN                                    NaN   \n",
       "\n",
       "       program__number_of_packages  program__class_defs_pct  \\\n",
       "count                          0.0                      0.0   \n",
       "mean                           NaN                      NaN   \n",
       "std                            NaN                      NaN   \n",
       "min                            NaN                      NaN   \n",
       "25%                            NaN                      NaN   \n",
       "50%                            NaN                      NaN   \n",
       "75%                            NaN                      NaN   \n",
       "max                            NaN                      NaN   \n",
       "\n",
       "       program__function_defs_pct  program__enum_defs_pct  \\\n",
       "count                         0.0                     0.0   \n",
       "mean                          NaN                     NaN   \n",
       "std                           NaN                     NaN   \n",
       "min                           NaN                     NaN   \n",
       "25%                           NaN                     NaN   \n",
       "50%                           NaN                     NaN   \n",
       "75%                           NaN                     NaN   \n",
       "max                           NaN                     NaN   \n",
       "\n",
       "       program__has_code_root_package  program__average_defs_per_module  \n",
       "count                             0.0                               0.0  \n",
       "mean                              NaN                               NaN  \n",
       "std                               NaN                               NaN  \n",
       "min                               NaN                               NaN  \n",
       "25%                               NaN                               NaN  \n",
       "50%                               NaN                               NaN  \n",
       "75%                               NaN                               NaN  \n",
       "max                               NaN                               NaN  "
      ],
      "text/html": [
       "<div>\n",
       "<style scoped>\n",
       "    .dataframe tbody tr th:only-of-type {\n",
       "        vertical-align: middle;\n",
       "    }\n",
       "\n",
       "    .dataframe tbody tr th {\n",
       "        vertical-align: top;\n",
       "    }\n",
       "\n",
       "    .dataframe thead th {\n",
       "        text-align: right;\n",
       "    }\n",
       "</style>\n",
       "<table border=\"1\" class=\"dataframe\">\n",
       "  <thead>\n",
       "    <tr style=\"text-align: right;\">\n",
       "      <th></th>\n",
       "      <th>program__has_sub_dirs_with_code</th>\n",
       "      <th>program__has_packages</th>\n",
       "      <th>program__number_of_modules</th>\n",
       "      <th>program__number_of_sub_dirs_with_code</th>\n",
       "      <th>program__number_of_packages</th>\n",
       "      <th>program__class_defs_pct</th>\n",
       "      <th>program__function_defs_pct</th>\n",
       "      <th>program__enum_defs_pct</th>\n",
       "      <th>program__has_code_root_package</th>\n",
       "      <th>program__average_defs_per_module</th>\n",
       "    </tr>\n",
       "  </thead>\n",
       "  <tbody>\n",
       "    <tr>\n",
       "      <th>count</th>\n",
       "      <td>0.0</td>\n",
       "      <td>0.0</td>\n",
       "      <td>0.0</td>\n",
       "      <td>0.0</td>\n",
       "      <td>0.0</td>\n",
       "      <td>0.0</td>\n",
       "      <td>0.0</td>\n",
       "      <td>0.0</td>\n",
       "      <td>0.0</td>\n",
       "      <td>0.0</td>\n",
       "    </tr>\n",
       "    <tr>\n",
       "      <th>mean</th>\n",
       "      <td>NaN</td>\n",
       "      <td>NaN</td>\n",
       "      <td>NaN</td>\n",
       "      <td>NaN</td>\n",
       "      <td>NaN</td>\n",
       "      <td>NaN</td>\n",
       "      <td>NaN</td>\n",
       "      <td>NaN</td>\n",
       "      <td>NaN</td>\n",
       "      <td>NaN</td>\n",
       "    </tr>\n",
       "    <tr>\n",
       "      <th>std</th>\n",
       "      <td>NaN</td>\n",
       "      <td>NaN</td>\n",
       "      <td>NaN</td>\n",
       "      <td>NaN</td>\n",
       "      <td>NaN</td>\n",
       "      <td>NaN</td>\n",
       "      <td>NaN</td>\n",
       "      <td>NaN</td>\n",
       "      <td>NaN</td>\n",
       "      <td>NaN</td>\n",
       "    </tr>\n",
       "    <tr>\n",
       "      <th>min</th>\n",
       "      <td>NaN</td>\n",
       "      <td>NaN</td>\n",
       "      <td>NaN</td>\n",
       "      <td>NaN</td>\n",
       "      <td>NaN</td>\n",
       "      <td>NaN</td>\n",
       "      <td>NaN</td>\n",
       "      <td>NaN</td>\n",
       "      <td>NaN</td>\n",
       "      <td>NaN</td>\n",
       "    </tr>\n",
       "    <tr>\n",
       "      <th>25%</th>\n",
       "      <td>NaN</td>\n",
       "      <td>NaN</td>\n",
       "      <td>NaN</td>\n",
       "      <td>NaN</td>\n",
       "      <td>NaN</td>\n",
       "      <td>NaN</td>\n",
       "      <td>NaN</td>\n",
       "      <td>NaN</td>\n",
       "      <td>NaN</td>\n",
       "      <td>NaN</td>\n",
       "    </tr>\n",
       "    <tr>\n",
       "      <th>50%</th>\n",
       "      <td>NaN</td>\n",
       "      <td>NaN</td>\n",
       "      <td>NaN</td>\n",
       "      <td>NaN</td>\n",
       "      <td>NaN</td>\n",
       "      <td>NaN</td>\n",
       "      <td>NaN</td>\n",
       "      <td>NaN</td>\n",
       "      <td>NaN</td>\n",
       "      <td>NaN</td>\n",
       "    </tr>\n",
       "    <tr>\n",
       "      <th>75%</th>\n",
       "      <td>NaN</td>\n",
       "      <td>NaN</td>\n",
       "      <td>NaN</td>\n",
       "      <td>NaN</td>\n",
       "      <td>NaN</td>\n",
       "      <td>NaN</td>\n",
       "      <td>NaN</td>\n",
       "      <td>NaN</td>\n",
       "      <td>NaN</td>\n",
       "      <td>NaN</td>\n",
       "    </tr>\n",
       "    <tr>\n",
       "      <th>max</th>\n",
       "      <td>NaN</td>\n",
       "      <td>NaN</td>\n",
       "      <td>NaN</td>\n",
       "      <td>NaN</td>\n",
       "      <td>NaN</td>\n",
       "      <td>NaN</td>\n",
       "      <td>NaN</td>\n",
       "      <td>NaN</td>\n",
       "      <td>NaN</td>\n",
       "      <td>NaN</td>\n",
       "    </tr>\n",
       "  </tbody>\n",
       "</table>\n",
       "</div>"
      ]
     },
     "execution_count": 43,
     "metadata": {},
     "output_type": "execute_result"
    }
   ],
   "execution_count": 43
  },
  {
   "cell_type": "markdown",
   "id": "a63c33a981202cfe",
   "metadata": {
    "collapsed": false
   },
   "source": [
    "## Multivariate\n",
    "\n",
    "TODO: isolation forest algorithm"
   ]
  },
  {
   "cell_type": "code",
   "id": "51448304c36d916e",
   "metadata": {
    "collapsed": false,
    "ExecuteTime": {
     "end_time": "2024-05-13T20:45:09.950601Z",
     "start_time": "2024-05-13T20:45:09.116528Z"
    }
   },
   "source": [
    "from sklearn.ensemble import  IsolationForest\n",
    "\n",
    "CONTAMINATION_FACTOR = 0.0012\n",
    "\n",
    "isof_model = IsolationForest(contamination=CONTAMINATION_FACTOR, random_state=0)\n",
    "isof_prediction = isof_model.fit_predict(X.to_numpy())\n",
    "mask = isof_prediction == -1\n",
    "multivar_outliers = X[mask].index.tolist()\n",
    "full_table.iloc[multivar_outliers]"
   ],
   "outputs": [
    {
     "data": {
      "text/plain": [
       "Empty DataFrame\n",
       "Columns: [program__program_id, program__has_sub_dirs_with_code, program__has_packages, program__number_of_modules, program__number_of_sub_dirs_with_code, program__number_of_packages, program__class_defs_pct, program__function_defs_pct, program__enum_defs_pct, program__has_code_root_package, program__average_defs_per_module, program__expertise_level]\n",
       "Index: []"
      ],
      "text/html": [
       "<div>\n",
       "<style scoped>\n",
       "    .dataframe tbody tr th:only-of-type {\n",
       "        vertical-align: middle;\n",
       "    }\n",
       "\n",
       "    .dataframe tbody tr th {\n",
       "        vertical-align: top;\n",
       "    }\n",
       "\n",
       "    .dataframe thead th {\n",
       "        text-align: right;\n",
       "    }\n",
       "</style>\n",
       "<table border=\"1\" class=\"dataframe\">\n",
       "  <thead>\n",
       "    <tr style=\"text-align: right;\">\n",
       "      <th></th>\n",
       "      <th>program__program_id</th>\n",
       "      <th>program__has_sub_dirs_with_code</th>\n",
       "      <th>program__has_packages</th>\n",
       "      <th>program__number_of_modules</th>\n",
       "      <th>program__number_of_sub_dirs_with_code</th>\n",
       "      <th>program__number_of_packages</th>\n",
       "      <th>program__class_defs_pct</th>\n",
       "      <th>program__function_defs_pct</th>\n",
       "      <th>program__enum_defs_pct</th>\n",
       "      <th>program__has_code_root_package</th>\n",
       "      <th>program__average_defs_per_module</th>\n",
       "      <th>program__expertise_level</th>\n",
       "    </tr>\n",
       "  </thead>\n",
       "  <tbody>\n",
       "  </tbody>\n",
       "</table>\n",
       "</div>"
      ]
     },
     "execution_count": 44,
     "metadata": {},
     "output_type": "execute_result"
    }
   ],
   "execution_count": 44
  }
 ],
 "metadata": {
  "kernelspec": {
   "display_name": "Python 3 (ipykernel)",
   "language": "python",
   "name": "python3"
  },
  "language_info": {
   "codemirror_mode": {
    "name": "ipython",
    "version": 3
   },
   "file_extension": ".py",
   "mimetype": "text/x-python",
   "name": "python",
   "nbconvert_exporter": "python",
   "pygments_lexer": "ipython3",
   "version": "3.12.2"
  },
  "toc-autonumbering": true,
  "toc-showcode": false,
  "toc-showmarkdowntxt": false,
  "toc-showtags": false
 },
 "nbformat": 4,
 "nbformat_minor": 5
}
