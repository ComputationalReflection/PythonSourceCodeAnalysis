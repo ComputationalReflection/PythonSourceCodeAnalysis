{
 "cells": [
  {
   "cell_type": "markdown",
   "id": "ea78b212-ff32-40d1-92e1-9e09d847ae78",
   "metadata": {
    "pycharm": {
     "name": "#%% md\n"
    }
   },
   "source": [
    "# Imports BEGINNER\n",
    "\n",
    "Esta tabla contiene la información de los imports a nivel de fichero (módulo). --> ABEL COMPLETAR <--"
   ]
  },
  {
   "cell_type": "markdown",
   "id": "b862cb2f-c1e0-4074-92c0-004dea379079",
   "metadata": {
    "pycharm": {
     "name": "#%% md\n"
    }
   },
   "source": [
    "## 1 - Obtencion de datos"
   ]
  },
  {
   "cell_type": "code",
   "id": "63793d9c-9473-44fa-bb1d-8e4b32fa1457",
   "metadata": {
    "pycharm": {
     "name": "#%%\n"
    },
    "tags": [],
    "ExecuteTime": {
     "end_time": "2024-05-29T09:01:12.845601Z",
     "start_time": "2024-05-29T09:01:11.286058Z"
    }
   },
   "source": [
    "import matplotlib.pyplot as plt\n",
    "from notebooks_utils import *\n",
    "\n",
    "TARGET_FEATURE = 'import__expertise_level'\n",
    "TARGET_CLASS = 'BEGINNER'\n",
    "full_table = get_data('imports')\n",
    "\n",
    "instances_for_class_low = len(full_table[full_table[TARGET_FEATURE] == \"BEGINNER\"])\n",
    "instances_for_class_high = len(full_table[full_table[TARGET_FEATURE] == \"EXPERT\"])\n",
    "\n",
    "print(f\"The dataset contains {instances_for_class_low} ({instances_for_class_low/len(full_table)*100:.4}%) instances for BEGINNER class and {instances_for_class_high} ({instances_for_class_high/len(full_table)*100:.4}%) for EXPERT class.\")"
   ],
   "outputs": [
    {
     "name": "stdout",
     "output_type": "stream",
     "text": [
      "2024-05-29 11:01:12.838329 Data cache files found ...\n",
      "2024-05-29 11:01:12.840839 Data cache files successfully loaded!!\n",
      "The dataset contains 7124 (39.09%) instances for BEGINNER class and 11102 (60.91%) for EXPERT class.\n"
     ]
    }
   ],
   "execution_count": 1
  },
  {
   "metadata": {
    "ExecuteTime": {
     "end_time": "2024-05-29T09:01:12.854358Z",
     "start_time": "2024-05-29T09:01:12.846605Z"
    }
   },
   "cell_type": "code",
   "source": [
    "full_table = full_table[full_table[TARGET_FEATURE] == TARGET_CLASS]\n",
    "\n",
    "# Table name, features and target.\n",
    "TABLE_NAME = 'imports'\n",
    "TABLE_FEATURES = ['import__number_imports', 'import__module_imports_pct', 'import__average_imported_modules', 'import__from_imports_pct', 'import__average_from_imported_modules', 'import__average_as_in_imported_modules', 'import__local_imports_pct']\n",
    "\n",
    "# Load features and target.\n",
    "X = full_table[TABLE_FEATURES]\n",
    "\n",
    "# Print information about the loaded table.\n",
    "print(f'Features shape: {X.shape}')\n",
    "\n",
    "print(f'As we can see the downloaded data contains a total of {X.shape[0]} instances. For each instance we have {X.shape[1]} attributes.')"
   ],
   "id": "f58e0cbd92cdd2a2",
   "outputs": [
    {
     "name": "stdout",
     "output_type": "stream",
     "text": [
      "Features shape: (7124, 7)\n",
      "As we can see the downloaded data contains a total of 7124 instances. For each instance we have 7 attributes.\n"
     ]
    }
   ],
   "execution_count": 2
  },
  {
   "cell_type": "markdown",
   "id": "3ff70454-366f-4231-831d-723eeb63576b",
   "metadata": {},
   "source": [
    "## 2 - Exploracion de datos\n",
    "\n",
    "Una vez tenemos nuestra tabla en un dataframe el siguiente paso es explorarla para ver qué tipo de información contiene."
   ]
  },
  {
   "cell_type": "code",
   "id": "9b526577-537d-44b0-951b-168278ce7a5c",
   "metadata": {
    "ExecuteTime": {
     "end_time": "2024-05-29T09:01:12.862715Z",
     "start_time": "2024-05-29T09:01:12.855364Z"
    }
   },
   "source": "print(X.info())",
   "outputs": [
    {
     "name": "stdout",
     "output_type": "stream",
     "text": [
      "<class 'pandas.core.frame.DataFrame'>\n",
      "Index: 7124 entries, 0 to 7123\n",
      "Data columns (total 7 columns):\n",
      " #   Column                                  Non-Null Count  Dtype  \n",
      "---  ------                                  --------------  -----  \n",
      " 0   import__number_imports                  7124 non-null   int64  \n",
      " 1   import__module_imports_pct              7124 non-null   float64\n",
      " 2   import__average_imported_modules        7124 non-null   float64\n",
      " 3   import__from_imports_pct                7124 non-null   float64\n",
      " 4   import__average_from_imported_modules   7124 non-null   float64\n",
      " 5   import__average_as_in_imported_modules  7124 non-null   float64\n",
      " 6   import__local_imports_pct               7124 non-null   float64\n",
      "dtypes: float64(6), int64(1)\n",
      "memory usage: 445.2 KB\n",
      "None\n"
     ]
    }
   ],
   "execution_count": 3
  },
  {
   "cell_type": "markdown",
   "id": "cbf77cd4-9819-4da1-9405-44054d2290e1",
   "metadata": {},
   "source": "Cómo podemos ver la tabla está compuesta por 7 variables numéricas y una de tipo objeto. "
  },
  {
   "cell_type": "markdown",
   "id": "7f619a1e-3b8b-4929-b41c-8edef4cc2d6a",
   "metadata": {},
   "source": [
    "### 2.2 - Duplicados\n",
    "Miramos si la tabla tiene entradas duplicadas."
   ]
  },
  {
   "cell_type": "code",
   "id": "ba8d29f2-8771-4e1f-8ecb-31bb827bf988",
   "metadata": {
    "ExecuteTime": {
     "end_time": "2024-05-29T09:01:12.870226Z",
     "start_time": "2024-05-29T09:01:12.864721Z"
    }
   },
   "source": [
    "number_of_duplicated_entries = sum(full_table.duplicated(subset=TABLE_FEATURES))\n",
    "duplicated_entries_pct = number_of_duplicated_entries / len(full_table) * 100\n",
    "print(f\"The dataset contains [{duplicated_entries_pct:.4}%] of duplicated entries.\")"
   ],
   "outputs": [
    {
     "name": "stdout",
     "output_type": "stream",
     "text": [
      "The dataset contains [93.49%] of duplicated entries.\n"
     ]
    }
   ],
   "execution_count": 4
  },
  {
   "cell_type": "markdown",
   "id": "31d297c18f157194",
   "metadata": {
    "collapsed": false
   },
   "source": [
    "### 2.3 - Valores Nulos \n",
    "Miramos si alguna de las variables que contiene la tabla contiene algún valor que sea nulo."
   ]
  },
  {
   "cell_type": "code",
   "id": "afeed2ce9080cbbb",
   "metadata": {
    "collapsed": false,
    "ExecuteTime": {
     "end_time": "2024-05-29T09:01:12.877509Z",
     "start_time": "2024-05-29T09:01:12.871231Z"
    }
   },
   "source": [
    "X.isnull().sum()"
   ],
   "outputs": [
    {
     "data": {
      "text/plain": [
       "import__number_imports                    0\n",
       "import__module_imports_pct                0\n",
       "import__average_imported_modules          0\n",
       "import__from_imports_pct                  0\n",
       "import__average_from_imported_modules     0\n",
       "import__average_as_in_imported_modules    0\n",
       "import__local_imports_pct                 0\n",
       "dtype: int64"
      ]
     },
     "execution_count": 5,
     "metadata": {},
     "output_type": "execute_result"
    }
   ],
   "execution_count": 5
  },
  {
   "cell_type": "markdown",
   "id": "1a8e02c0c52edff9",
   "metadata": {
    "collapsed": false
   },
   "source": "Aunque una columna no contenga valores nulos podría ser que contenga valores vacíos."
  },
  {
   "cell_type": "code",
   "id": "73b9dc2f9efc111a",
   "metadata": {
    "collapsed": false,
    "ExecuteTime": {
     "end_time": "2024-05-29T09:01:12.883866Z",
     "start_time": "2024-05-29T09:01:12.878519Z"
    }
   },
   "source": [
    "print_empty_cols(X)"
   ],
   "outputs": [
    {
     "name": "stdout",
     "output_type": "stream",
     "text": [
      "import__number_imports\n",
      "----------------------\n",
      "0 instancias no tienen un valor para la columna import__number_imports\n",
      "\n",
      "\n",
      "import__module_imports_pct\n",
      "--------------------------\n",
      "0 instancias no tienen un valor para la columna import__module_imports_pct\n",
      "\n",
      "\n",
      "import__average_imported_modules\n",
      "--------------------------------\n",
      "0 instancias no tienen un valor para la columna import__average_imported_modules\n",
      "\n",
      "\n",
      "import__from_imports_pct\n",
      "------------------------\n",
      "0 instancias no tienen un valor para la columna import__from_imports_pct\n",
      "\n",
      "\n",
      "import__average_from_imported_modules\n",
      "-------------------------------------\n",
      "0 instancias no tienen un valor para la columna import__average_from_imported_modules\n",
      "\n",
      "\n",
      "import__average_as_in_imported_modules\n",
      "--------------------------------------\n",
      "0 instancias no tienen un valor para la columna import__average_as_in_imported_modules\n",
      "\n",
      "\n",
      "import__local_imports_pct\n",
      "-------------------------\n",
      "0 instancias no tienen un valor para la columna import__local_imports_pct\n",
      "\n",
      "\n"
     ]
    }
   ],
   "execution_count": 6
  },
  {
   "cell_type": "markdown",
   "id": "105774ea722bf467",
   "metadata": {
    "collapsed": false
   },
   "source": [
    "### 2.4 - Describimos los valores de las variables de la tabla."
   ]
  },
  {
   "cell_type": "code",
   "id": "d3be1e5cec1af46c",
   "metadata": {
    "collapsed": false,
    "ExecuteTime": {
     "end_time": "2024-05-29T09:01:12.907374Z",
     "start_time": "2024-05-29T09:01:12.884871Z"
    }
   },
   "source": [
    "np.transpose(X.describe(percentiles=[.25, .50, .75], include = ['object', 'float', 'bool', 'int']))"
   ],
   "outputs": [
    {
     "data": {
      "text/plain": [
       "                                         count      mean       std  min  25%  \\\n",
       "import__number_imports                  7124.0  3.406654  5.278046  0.0  0.0   \n",
       "import__module_imports_pct              7124.0  0.304292  0.386904  0.0  0.0   \n",
       "import__average_imported_modules        7124.0  0.504431  0.579781  0.0  0.0   \n",
       "import__from_imports_pct                7124.0  0.326393  0.397314  0.0  0.0   \n",
       "import__average_from_imported_modules   7124.0  0.796060  1.163002  0.0  0.0   \n",
       "import__average_as_in_imported_modules  7124.0  0.009739  0.061771  0.0  0.0   \n",
       "import__local_imports_pct               7124.0  0.466580  0.495150  0.0  0.0   \n",
       "\n",
       "                                        50%       75%   max  \n",
       "import__number_imports                  1.0  5.000000  46.0  \n",
       "import__module_imports_pct              0.0  0.571429   1.0  \n",
       "import__average_imported_modules        0.0  1.000000   6.0  \n",
       "import__from_imports_pct                0.0  0.687500   1.0  \n",
       "import__average_from_imported_modules   0.0  1.142857   8.0  \n",
       "import__average_as_in_imported_modules  0.0  0.000000   1.0  \n",
       "import__local_imports_pct               0.0  1.000000   1.0  "
      ],
      "text/html": [
       "<div>\n",
       "<style scoped>\n",
       "    .dataframe tbody tr th:only-of-type {\n",
       "        vertical-align: middle;\n",
       "    }\n",
       "\n",
       "    .dataframe tbody tr th {\n",
       "        vertical-align: top;\n",
       "    }\n",
       "\n",
       "    .dataframe thead th {\n",
       "        text-align: right;\n",
       "    }\n",
       "</style>\n",
       "<table border=\"1\" class=\"dataframe\">\n",
       "  <thead>\n",
       "    <tr style=\"text-align: right;\">\n",
       "      <th></th>\n",
       "      <th>count</th>\n",
       "      <th>mean</th>\n",
       "      <th>std</th>\n",
       "      <th>min</th>\n",
       "      <th>25%</th>\n",
       "      <th>50%</th>\n",
       "      <th>75%</th>\n",
       "      <th>max</th>\n",
       "    </tr>\n",
       "  </thead>\n",
       "  <tbody>\n",
       "    <tr>\n",
       "      <th>import__number_imports</th>\n",
       "      <td>7124.0</td>\n",
       "      <td>3.406654</td>\n",
       "      <td>5.278046</td>\n",
       "      <td>0.0</td>\n",
       "      <td>0.0</td>\n",
       "      <td>1.0</td>\n",
       "      <td>5.000000</td>\n",
       "      <td>46.0</td>\n",
       "    </tr>\n",
       "    <tr>\n",
       "      <th>import__module_imports_pct</th>\n",
       "      <td>7124.0</td>\n",
       "      <td>0.304292</td>\n",
       "      <td>0.386904</td>\n",
       "      <td>0.0</td>\n",
       "      <td>0.0</td>\n",
       "      <td>0.0</td>\n",
       "      <td>0.571429</td>\n",
       "      <td>1.0</td>\n",
       "    </tr>\n",
       "    <tr>\n",
       "      <th>import__average_imported_modules</th>\n",
       "      <td>7124.0</td>\n",
       "      <td>0.504431</td>\n",
       "      <td>0.579781</td>\n",
       "      <td>0.0</td>\n",
       "      <td>0.0</td>\n",
       "      <td>0.0</td>\n",
       "      <td>1.000000</td>\n",
       "      <td>6.0</td>\n",
       "    </tr>\n",
       "    <tr>\n",
       "      <th>import__from_imports_pct</th>\n",
       "      <td>7124.0</td>\n",
       "      <td>0.326393</td>\n",
       "      <td>0.397314</td>\n",
       "      <td>0.0</td>\n",
       "      <td>0.0</td>\n",
       "      <td>0.0</td>\n",
       "      <td>0.687500</td>\n",
       "      <td>1.0</td>\n",
       "    </tr>\n",
       "    <tr>\n",
       "      <th>import__average_from_imported_modules</th>\n",
       "      <td>7124.0</td>\n",
       "      <td>0.796060</td>\n",
       "      <td>1.163002</td>\n",
       "      <td>0.0</td>\n",
       "      <td>0.0</td>\n",
       "      <td>0.0</td>\n",
       "      <td>1.142857</td>\n",
       "      <td>8.0</td>\n",
       "    </tr>\n",
       "    <tr>\n",
       "      <th>import__average_as_in_imported_modules</th>\n",
       "      <td>7124.0</td>\n",
       "      <td>0.009739</td>\n",
       "      <td>0.061771</td>\n",
       "      <td>0.0</td>\n",
       "      <td>0.0</td>\n",
       "      <td>0.0</td>\n",
       "      <td>0.000000</td>\n",
       "      <td>1.0</td>\n",
       "    </tr>\n",
       "    <tr>\n",
       "      <th>import__local_imports_pct</th>\n",
       "      <td>7124.0</td>\n",
       "      <td>0.466580</td>\n",
       "      <td>0.495150</td>\n",
       "      <td>0.0</td>\n",
       "      <td>0.0</td>\n",
       "      <td>0.0</td>\n",
       "      <td>1.000000</td>\n",
       "      <td>1.0</td>\n",
       "    </tr>\n",
       "  </tbody>\n",
       "</table>\n",
       "</div>"
      ]
     },
     "execution_count": 7,
     "metadata": {},
     "output_type": "execute_result"
    }
   ],
   "execution_count": 7
  },
  {
   "cell_type": "markdown",
   "id": "b9f859b03e8083f1",
   "metadata": {
    "collapsed": false
   },
   "source": "Vamos a discretizar las variables numericas, agrupando conjuntos de valores en categorias, para hacer un análisis de los datos. Para cada variable es necesaario ver la distribucion de lo valores para hacer los bins (categorias)."
  },
  {
   "cell_type": "code",
   "id": "b7cf5fae0fd0e5ef",
   "metadata": {
    "collapsed": false,
    "ExecuteTime": {
     "end_time": "2024-05-29T09:01:12.980543Z",
     "start_time": "2024-05-29T09:01:12.908379Z"
    }
   },
   "source": [
    "# DISCRETIZATION\n",
    "X_copy = X.copy()\n",
    "\n",
    "discretized_columns = {\n",
    "    \"import__number_imports\": [(0, 0), (1, 1), (1, 7), (7, inf)],  # min: 0 max: 46 \n",
    "    \"import__module_imports_pct\": [(0.0, 0.0), (0.0, 0.5), (0.5, 1), (1, 1)],  # min: 0.0 max: 1.0 \n",
    "    \"import__average_imported_modules\": [(0.0, 0.0), (0.0, inf)],  # min: 0.0 max: 6 \n",
    "    \"import__from_imports_pct\": [(0.0, 0.0), (0.0, 0.5), (0.5, 1), (1, 1)],  # min: 0.0 max: 1.0 \n",
    "    \"import__average_from_imported_modules\": [(0.0, 0.0), (0.0, inf)],  # min: 0.0 max: 8 \n",
    "    \"import__average_as_in_imported_modules\": [(0.0, 0.0), (0.0, inf)],  # min: 0.0 max: 1.0 \n",
    "    \"import__local_imports_pct\": [(0.0, 0.0), (0.0, 1.0), (1.0, 1.0)],  # min: 0.0 max: 1.0 \n",
    "}\n",
    "\n",
    "discretize_columns(X_copy, discretized_columns)\n",
    "    \n",
    "# SINGLE FEATURE\n",
    "print(\"--- SINGLE FEATURE ---\")\n",
    "print(get_statistics(X_copy, ['import__number_imports'], 10))\n",
    "print(get_statistics(X_copy, ['import__module_imports_pct'], 10))\n",
    "print(get_statistics(X_copy, ['import__average_imported_modules'], 10))\n",
    "print(get_statistics(X_copy, ['import__from_imports_pct'], 10))\n",
    "print(get_statistics(X_copy, ['import__average_from_imported_modules'], 10))\n",
    "print(get_statistics(X_copy, ['import__average_as_in_imported_modules'], 10))\n",
    "print(get_statistics(X_copy, ['import__local_imports_pct'], 10))\n",
    "\n",
    "# 2 FEATURES\n",
    "print(\"--- TWO FEATURES ---\")\n",
    "print(get_statistics(X_copy, ['import__average_imported_modules', 'import__module_imports_pct'], 10))\n",
    "\n",
    "# 3 FEATURES\n",
    "print(\"--- THREE FEATURES ---\")\n",
    "#print(get_statistics(X_copy, ['program__has_sub_dirs_with_code', 'program__has_packages', 'program__has_code_root_package'], 10))"
   ],
   "outputs": [
    {
     "name": "stdout",
     "output_type": "stream",
     "text": [
      "--- SINGLE FEATURE ---\n",
      "import__number_imports  count  percentage\n",
      "                 [0_0]   2631   36.931499\n",
      "                 [1_7)   2125   29.828748\n",
      "               [7_inf]   1269   17.813026\n",
      "                 [1_1]   1099   15.426727\n",
      "\n",
      "import__module_imports_pct  count  percentage\n",
      "                 [0.0_0.0]   3729   52.344189\n",
      "                     [1_1]   1205   16.914655\n",
      "                 [0.0_0.5)   1168   16.395284\n",
      "                   [0.5_1)   1022   14.345873\n",
      "\n",
      "import__average_imported_modules  count  percentage\n",
      "                       [0.0_0.0]   3729   52.344189\n",
      "                       [0.0_inf]   3395   47.655811\n",
      "\n",
      "import__from_imports_pct  count  percentage\n",
      "               [0.0_0.0]   3836   53.846154\n",
      "                 [0.5_1)   1511   21.209994\n",
      "                   [1_1]   1098   15.412690\n",
      "               [0.0_0.5)    679    9.531162\n",
      "\n",
      "import__average_from_imported_modules  count  percentage\n",
      "                            [0.0_0.0]   3836   53.846154\n",
      "                            [0.0_inf]   3288   46.153846\n",
      "\n",
      "import__average_as_in_imported_modules  count  percentage\n",
      "                             [0.0_0.0]   6759   94.876474\n",
      "                             [0.0_inf]    365    5.123526\n",
      "\n",
      "import__local_imports_pct  count  percentage\n",
      "                [0.0_0.0]   3733   52.400337\n",
      "                [1.0_1.0]   3259   45.746771\n",
      "                [0.0_1.0)    132    1.852892\n",
      "\n",
      "--- TWO FEATURES ---\n",
      "import__average_imported_modules import__module_imports_pct  count  percentage\n",
      "                       [0.0_0.0]                  [0.0_0.0]   3729   52.344189\n",
      "                       [0.0_inf]                      [1_1]   1205   16.914655\n",
      "                       [0.0_inf]                  [0.0_0.5)   1168   16.395284\n",
      "                       [0.0_inf]                    [0.5_1)   1022   14.345873\n",
      "\n",
      "--- THREE FEATURES ---\n"
     ]
    }
   ],
   "execution_count": 8
  },
  {
   "cell_type": "code",
   "id": "1ca9a43e-6db6-44a7-aaab-65f00d1ea79e",
   "metadata": {
    "pycharm": {
     "name": "#%%\n"
    },
    "tags": [],
    "ExecuteTime": {
     "end_time": "2024-05-29T09:01:12.987057Z",
     "start_time": "2024-05-29T09:01:12.981550Z"
    }
   },
   "source": [
    "def normalize_datatypes(X:pd.DataFrame) -> (pd.DataFrame, [str]):\n",
    "    X = pd.get_dummies(X)\n",
    "    X = X.astype('float32')        \n",
    "    columns_names = X.columns.tolist()\n",
    "    return X, columns_names\n",
    "\n",
    "X, TABLE_FEATURES = normalize_datatypes(X)\n",
    "# Print information about the loaded table\n",
    "print(f'Features shape: {X.shape}')"
   ],
   "outputs": [
    {
     "name": "stdout",
     "output_type": "stream",
     "text": [
      "Features shape: (7124, 7)\n"
     ]
    }
   ],
   "execution_count": 9
  },
  {
   "cell_type": "markdown",
   "id": "e9fc6a7d9acd9a9e",
   "metadata": {
    "collapsed": false
   },
   "source": [
    "#### Muestra la matriz de correlación de pearson entre las variables de la tabla."
   ]
  },
  {
   "cell_type": "code",
   "id": "70af048034c80af1",
   "metadata": {
    "collapsed": false,
    "ExecuteTime": {
     "end_time": "2024-05-29T09:01:13.346434Z",
     "start_time": "2024-05-29T09:01:12.988575Z"
    }
   },
   "source": [
    "sns.heatmap(X.corr(), annot=True)"
   ],
   "outputs": [
    {
     "data": {
      "text/plain": [
       "<Axes: >"
      ]
     },
     "execution_count": 10,
     "metadata": {},
     "output_type": "execute_result"
    },
    {
     "data": {
      "text/plain": [
       "<Figure size 640x480 with 2 Axes>"
      ],
      "image/png": "[encoded data removed]"
     },
     "metadata": {},
     "output_type": "display_data"
    }
   ],
   "execution_count": 10
  },
  {
   "cell_type": "markdown",
   "id": "9a47cdd4cc2b3fae",
   "metadata": {
    "collapsed": false
   },
   "source": [
    "## 3 - Detección de valores atípicos (outliers)\n",
    "## Univariate\n",
    "## Analisis detallado de variables\n",
    "Para cada una de las 7 variable (3 porcentuales y 4 numericas y una categorica)"
   ]
  },
  {
   "metadata": {},
   "cell_type": "markdown",
   "source": [
    "### Variable number_imports (1/7)\n",
    "Esta variable es de tipo numérica y nos indica el número imports definidos en el fichero. Como vimos en la descripción de la tabla esta varibale adopta valores en el rango 0 - 46. Con una media de 3.4."
   ],
   "id": "b8ac28118b9c7e95"
  },
  {
   "metadata": {
    "ExecuteTime": {
     "end_time": "2024-05-29T09:01:13.470929Z",
     "start_time": "2024-05-29T09:01:13.347439Z"
    }
   },
   "cell_type": "code",
   "source": "sns.stripplot(X['import__number_imports'])",
   "id": "5eacddae8fc77a62",
   "outputs": [
    {
     "data": {
      "text/plain": [
       "<Axes: ylabel='import__number_imports'>"
      ]
     },
     "execution_count": 11,
     "metadata": {},
     "output_type": "execute_result"
    },
    {
     "data": {
      "text/plain": [
       "<Figure size 640x480 with 1 Axes>"
      ],
      "image/png": "[encoded data removed]"
     },
     "metadata": {},
     "output_type": "display_data"
    }
   ],
   "execution_count": 11
  },
  {
   "metadata": {
    "ExecuteTime": {
     "end_time": "2024-05-29T09:01:13.478883Z",
     "start_time": "2024-05-29T09:01:13.471935Z"
    }
   },
   "cell_type": "code",
   "source": "print_outliers_for_df_column(X, 'import__number_imports')",
   "id": "cfc7351841dbaeeb",
   "outputs": [
    {
     "name": "stdout",
     "output_type": "stream",
     "text": [
      "El coeficiente MC (Medcouple Coefficient) de balanceo es: 0.48291189659885914\n",
      "Rango valores atípicos extremos (Tukey): [-15.0,20.0]\n",
      "Rango valores atípicos leves (Tukey): [-7.5,12.5]\n",
      "Rango valores atípicos extremos (Fixed BoxPlot): [-1.383631248080799,56.75652995744688]\n",
      "-3.0IQR: 0 instancias tienen un valor para import__number_imports inferior a -15.0 (Q1-3*IQR) para import__number_imports. Representando un 0.0% del total de instancias.\n",
      "-1.5IQR: 0 instancias tienen un valor para import__number_imports inferior a -7.5 (Q1-1.5*IQR) para import__number_imports. Representando un 0.0% del total de instancias.\n",
      "+1.5IQR: 402 instancias tienen un valor para import__number_imports superior a 12.5 (Q3+1.5*IQR) para import__number_imports. Representando un 5.643% del total de instancias.\n",
      "+3.0IQR: 137 instancias tienen un valor para import__number_imports superior a 20.0 (Q3-3*IQR) para import__number_imports. Representando un 1.923% del total de instancias.\n",
      "L: 0 instancias tienen un valor para import__number_imports inferior a -1.383631248080799 para import__number_imports. Representando un 0.0% del total de instancias.\n",
      "U: 0 instancias tienen un valor para import__number_imports superior a 56.75652995744688 para import__number_imports. Representando un 0.0% del total de instancias.\n"
     ]
    }
   ],
   "execution_count": 12
  },
  {
   "metadata": {},
   "cell_type": "markdown",
   "source": "Describimos los valores de las variables de la tabla, cuando el valor de la variable es mayor que 20 (Con un MC de 48 usamos Tuckey Extremo)",
   "id": "843b1a6a63a56fb9"
  },
  {
   "metadata": {
    "ExecuteTime": {
     "end_time": "2024-05-29T09:01:13.499431Z",
     "start_time": "2024-05-29T09:01:13.479906Z"
    }
   },
   "cell_type": "code",
   "source": "X[X['import__number_imports'] > 20].describe(percentiles=[.25, .50, .75], include = ['object', 'float', 'bool', 'int'])",
   "id": "689c534bf17a722e",
   "outputs": [
    {
     "data": {
      "text/plain": [
       "       import__number_imports  import__module_imports_pct  \\\n",
       "count              137.000000                  137.000000   \n",
       "mean                28.058393                    0.363049   \n",
       "std                  5.971459                    0.219961   \n",
       "min                 21.000000                    0.080000   \n",
       "25%                 24.000000                    0.160000   \n",
       "50%                 26.000000                    0.392857   \n",
       "75%                 31.000000                    0.513514   \n",
       "max                 46.000000                    0.806452   \n",
       "\n",
       "       import__average_imported_modules  import__from_imports_pct  \\\n",
       "count                             137.0                137.000000   \n",
       "mean                                1.0                  0.636951   \n",
       "std                                 0.0                  0.219961   \n",
       "min                                 1.0                  0.193548   \n",
       "25%                                 1.0                  0.486486   \n",
       "50%                                 1.0                  0.607143   \n",
       "75%                                 1.0                  0.840000   \n",
       "max                                 1.0                  0.920000   \n",
       "\n",
       "       import__average_from_imported_modules  \\\n",
       "count                             137.000000   \n",
       "mean                                1.848644   \n",
       "std                                 0.613224   \n",
       "min                                 1.025000   \n",
       "25%                                 1.409091   \n",
       "50%                                 1.695652   \n",
       "75%                                 2.416667   \n",
       "max                                 3.250000   \n",
       "\n",
       "       import__average_as_in_imported_modules  import__local_imports_pct  \n",
       "count                              137.000000                 137.000000  \n",
       "mean                                 0.032259                   0.331237  \n",
       "std                                  0.044877                   0.457430  \n",
       "min                                  0.000000                   0.000000  \n",
       "25%                                  0.000000                   0.000000  \n",
       "50%                                  0.000000                   0.000000  \n",
       "75%                                  0.073171                   1.000000  \n",
       "max                                  0.142857                   1.000000  "
      ],
      "text/html": [
       "<div>\n",
       "<style scoped>\n",
       "    .dataframe tbody tr th:only-of-type {\n",
       "        vertical-align: middle;\n",
       "    }\n",
       "\n",
       "    .dataframe tbody tr th {\n",
       "        vertical-align: top;\n",
       "    }\n",
       "\n",
       "    .dataframe thead th {\n",
       "        text-align: right;\n",
       "    }\n",
       "</style>\n",
       "<table border=\"1\" class=\"dataframe\">\n",
       "  <thead>\n",
       "    <tr style=\"text-align: right;\">\n",
       "      <th></th>\n",
       "      <th>import__number_imports</th>\n",
       "      <th>import__module_imports_pct</th>\n",
       "      <th>import__average_imported_modules</th>\n",
       "      <th>import__from_imports_pct</th>\n",
       "      <th>import__average_from_imported_modules</th>\n",
       "      <th>import__average_as_in_imported_modules</th>\n",
       "      <th>import__local_imports_pct</th>\n",
       "    </tr>\n",
       "  </thead>\n",
       "  <tbody>\n",
       "    <tr>\n",
       "      <th>count</th>\n",
       "      <td>137.000000</td>\n",
       "      <td>137.000000</td>\n",
       "      <td>137.0</td>\n",
       "      <td>137.000000</td>\n",
       "      <td>137.000000</td>\n",
       "      <td>137.000000</td>\n",
       "      <td>137.000000</td>\n",
       "    </tr>\n",
       "    <tr>\n",
       "      <th>mean</th>\n",
       "      <td>28.058393</td>\n",
       "      <td>0.363049</td>\n",
       "      <td>1.0</td>\n",
       "      <td>0.636951</td>\n",
       "      <td>1.848644</td>\n",
       "      <td>0.032259</td>\n",
       "      <td>0.331237</td>\n",
       "    </tr>\n",
       "    <tr>\n",
       "      <th>std</th>\n",
       "      <td>5.971459</td>\n",
       "      <td>0.219961</td>\n",
       "      <td>0.0</td>\n",
       "      <td>0.219961</td>\n",
       "      <td>0.613224</td>\n",
       "      <td>0.044877</td>\n",
       "      <td>0.457430</td>\n",
       "    </tr>\n",
       "    <tr>\n",
       "      <th>min</th>\n",
       "      <td>21.000000</td>\n",
       "      <td>0.080000</td>\n",
       "      <td>1.0</td>\n",
       "      <td>0.193548</td>\n",
       "      <td>1.025000</td>\n",
       "      <td>0.000000</td>\n",
       "      <td>0.000000</td>\n",
       "    </tr>\n",
       "    <tr>\n",
       "      <th>25%</th>\n",
       "      <td>24.000000</td>\n",
       "      <td>0.160000</td>\n",
       "      <td>1.0</td>\n",
       "      <td>0.486486</td>\n",
       "      <td>1.409091</td>\n",
       "      <td>0.000000</td>\n",
       "      <td>0.000000</td>\n",
       "    </tr>\n",
       "    <tr>\n",
       "      <th>50%</th>\n",
       "      <td>26.000000</td>\n",
       "      <td>0.392857</td>\n",
       "      <td>1.0</td>\n",
       "      <td>0.607143</td>\n",
       "      <td>1.695652</td>\n",
       "      <td>0.000000</td>\n",
       "      <td>0.000000</td>\n",
       "    </tr>\n",
       "    <tr>\n",
       "      <th>75%</th>\n",
       "      <td>31.000000</td>\n",
       "      <td>0.513514</td>\n",
       "      <td>1.0</td>\n",
       "      <td>0.840000</td>\n",
       "      <td>2.416667</td>\n",
       "      <td>0.073171</td>\n",
       "      <td>1.000000</td>\n",
       "    </tr>\n",
       "    <tr>\n",
       "      <th>max</th>\n",
       "      <td>46.000000</td>\n",
       "      <td>0.806452</td>\n",
       "      <td>1.0</td>\n",
       "      <td>0.920000</td>\n",
       "      <td>3.250000</td>\n",
       "      <td>0.142857</td>\n",
       "      <td>1.000000</td>\n",
       "    </tr>\n",
       "  </tbody>\n",
       "</table>\n",
       "</div>"
      ]
     },
     "execution_count": 13,
     "metadata": {},
     "output_type": "execute_result"
    }
   ],
   "execution_count": 13
  },
  {
   "metadata": {},
   "cell_type": "markdown",
   "source": [
    "### Variable average_imported_modules (2/7)\n",
    "Esta variable representa el número medio de alias importados en cada clausula import. Como vimos en la descripción de la tabla esta varibale adopta valores en el rango 0 - 6. Con una media de 0.50."
   ],
   "id": "8f8a651cfdff0bcd"
  },
  {
   "metadata": {
    "ExecuteTime": {
     "end_time": "2024-05-29T09:01:13.641788Z",
     "start_time": "2024-05-29T09:01:13.499942Z"
    }
   },
   "cell_type": "code",
   "source": "sns.stripplot(X['import__average_imported_modules'])",
   "id": "1ebb40d57c0b140",
   "outputs": [
    {
     "data": {
      "text/plain": [
       "<Axes: ylabel='import__average_imported_modules'>"
      ]
     },
     "execution_count": 14,
     "metadata": {},
     "output_type": "execute_result"
    },
    {
     "data": {
      "text/plain": [
       "<Figure size 640x480 with 1 Axes>"
      ],
      "image/png": "[encoded data removed]"
     },
     "metadata": {},
     "output_type": "display_data"
    }
   ],
   "execution_count": 14
  },
  {
   "metadata": {},
   "cell_type": "markdown",
   "source": [
    "### IMPORTANTE\n",
    "Los valores máximos están muy alejados del siguiente. "
   ],
   "id": "921f450151cf85e1"
  },
  {
   "metadata": {
    "ExecuteTime": {
     "end_time": "2024-05-29T09:01:13.651453Z",
     "start_time": "2024-05-29T09:01:13.642796Z"
    }
   },
   "cell_type": "code",
   "source": "print_outliers_for_df_column(X, 'import__average_imported_modules')",
   "id": "6a0f48c2e0e6cff",
   "outputs": [
    {
     "name": "stdout",
     "output_type": "stream",
     "text": [
      "El coeficiente MC (Medcouple Coefficient) de balanceo es: 0.8192979991436005\n",
      "Rango valores atípicos extremos (Tukey): [-3.0,4.0]\n",
      "Rango valores atípicos leves (Tukey): [-1.5,2.5]\n",
      "Rango valores atípicos extremos (Fixed BoxPlot): [-0.08525761094175155,40.75187877179185]\n",
      "-3.0IQR: 0 instancias tienen un valor para import__average_imported_modules inferior a -3.0 (Q1-3*IQR) para import__average_imported_modules. Representando un 0.0% del total de instancias.\n",
      "-1.5IQR: 0 instancias tienen un valor para import__average_imported_modules inferior a -1.5 (Q1-1.5*IQR) para import__average_imported_modules. Representando un 0.0% del total de instancias.\n",
      "+1.5IQR: 51 instancias tienen un valor para import__average_imported_modules superior a 2.5 (Q3+1.5*IQR) para import__average_imported_modules. Representando un 0.7159% del total de instancias.\n",
      "+3.0IQR: 6 instancias tienen un valor para import__average_imported_modules superior a 4.0 (Q3-3*IQR) para import__average_imported_modules. Representando un 0.08422% del total de instancias.\n",
      "L: 0 instancias tienen un valor para import__average_imported_modules inferior a -0.08525761094175155 para import__average_imported_modules. Representando un 0.0% del total de instancias.\n",
      "U: 0 instancias tienen un valor para import__average_imported_modules superior a 40.75187877179185 para import__average_imported_modules. Representando un 0.0% del total de instancias.\n"
     ]
    }
   ],
   "execution_count": 15
  },
  {
   "metadata": {},
   "cell_type": "markdown",
   "source": "Describimos los valores de las variables de la tabla, cuando el valor de la variable es mayor que 4.0 (Con un MC de 81 usamos Tuckey Extremo)",
   "id": "50a44d7648d76a00"
  },
  {
   "metadata": {
    "ExecuteTime": {
     "end_time": "2024-05-29T09:01:13.671933Z",
     "start_time": "2024-05-29T09:01:13.652461Z"
    }
   },
   "cell_type": "code",
   "source": "X[X['import__average_imported_modules'] > 4.0].describe(percentiles=[.25, .50, .75], include = ['object', 'float', 'bool', 'int'])",
   "id": "87724eeca9c29f75",
   "outputs": [
    {
     "data": {
      "text/plain": [
       "       import__number_imports  import__module_imports_pct  \\\n",
       "count                6.000000                    6.000000   \n",
       "mean                 1.833333                    0.750000   \n",
       "std                  0.408248                    0.273861   \n",
       "min                  1.000000                    0.500000   \n",
       "25%                  2.000000                    0.500000   \n",
       "50%                  2.000000                    0.750000   \n",
       "75%                  2.000000                    1.000000   \n",
       "max                  2.000000                    1.000000   \n",
       "\n",
       "       import__average_imported_modules  import__from_imports_pct  \\\n",
       "count                          6.000000                  6.000000   \n",
       "mean                           5.500000                  0.250000   \n",
       "std                            0.774597                  0.273861   \n",
       "min                            4.500000                  0.000000   \n",
       "25%                            4.875000                  0.000000   \n",
       "50%                            6.000000                  0.250000   \n",
       "75%                            6.000000                  0.500000   \n",
       "max                            6.000000                  0.500000   \n",
       "\n",
       "       import__average_from_imported_modules  \\\n",
       "count                               6.000000   \n",
       "mean                                0.500000   \n",
       "std                                 0.547723   \n",
       "min                                 0.000000   \n",
       "25%                                 0.000000   \n",
       "50%                                 0.500000   \n",
       "75%                                 1.000000   \n",
       "max                                 1.000000   \n",
       "\n",
       "       import__average_as_in_imported_modules  import__local_imports_pct  \n",
       "count                                     6.0                   6.000000  \n",
       "mean                                      0.0                   0.500000  \n",
       "std                                       0.0                   0.547723  \n",
       "min                                       0.0                   0.000000  \n",
       "25%                                       0.0                   0.000000  \n",
       "50%                                       0.0                   0.500000  \n",
       "75%                                       0.0                   1.000000  \n",
       "max                                       0.0                   1.000000  "
      ],
      "text/html": [
       "<div>\n",
       "<style scoped>\n",
       "    .dataframe tbody tr th:only-of-type {\n",
       "        vertical-align: middle;\n",
       "    }\n",
       "\n",
       "    .dataframe tbody tr th {\n",
       "        vertical-align: top;\n",
       "    }\n",
       "\n",
       "    .dataframe thead th {\n",
       "        text-align: right;\n",
       "    }\n",
       "</style>\n",
       "<table border=\"1\" class=\"dataframe\">\n",
       "  <thead>\n",
       "    <tr style=\"text-align: right;\">\n",
       "      <th></th>\n",
       "      <th>import__number_imports</th>\n",
       "      <th>import__module_imports_pct</th>\n",
       "      <th>import__average_imported_modules</th>\n",
       "      <th>import__from_imports_pct</th>\n",
       "      <th>import__average_from_imported_modules</th>\n",
       "      <th>import__average_as_in_imported_modules</th>\n",
       "      <th>import__local_imports_pct</th>\n",
       "    </tr>\n",
       "  </thead>\n",
       "  <tbody>\n",
       "    <tr>\n",
       "      <th>count</th>\n",
       "      <td>6.000000</td>\n",
       "      <td>6.000000</td>\n",
       "      <td>6.000000</td>\n",
       "      <td>6.000000</td>\n",
       "      <td>6.000000</td>\n",
       "      <td>6.0</td>\n",
       "      <td>6.000000</td>\n",
       "    </tr>\n",
       "    <tr>\n",
       "      <th>mean</th>\n",
       "      <td>1.833333</td>\n",
       "      <td>0.750000</td>\n",
       "      <td>5.500000</td>\n",
       "      <td>0.250000</td>\n",
       "      <td>0.500000</td>\n",
       "      <td>0.0</td>\n",
       "      <td>0.500000</td>\n",
       "    </tr>\n",
       "    <tr>\n",
       "      <th>std</th>\n",
       "      <td>0.408248</td>\n",
       "      <td>0.273861</td>\n",
       "      <td>0.774597</td>\n",
       "      <td>0.273861</td>\n",
       "      <td>0.547723</td>\n",
       "      <td>0.0</td>\n",
       "      <td>0.547723</td>\n",
       "    </tr>\n",
       "    <tr>\n",
       "      <th>min</th>\n",
       "      <td>1.000000</td>\n",
       "      <td>0.500000</td>\n",
       "      <td>4.500000</td>\n",
       "      <td>0.000000</td>\n",
       "      <td>0.000000</td>\n",
       "      <td>0.0</td>\n",
       "      <td>0.000000</td>\n",
       "    </tr>\n",
       "    <tr>\n",
       "      <th>25%</th>\n",
       "      <td>2.000000</td>\n",
       "      <td>0.500000</td>\n",
       "      <td>4.875000</td>\n",
       "      <td>0.000000</td>\n",
       "      <td>0.000000</td>\n",
       "      <td>0.0</td>\n",
       "      <td>0.000000</td>\n",
       "    </tr>\n",
       "    <tr>\n",
       "      <th>50%</th>\n",
       "      <td>2.000000</td>\n",
       "      <td>0.750000</td>\n",
       "      <td>6.000000</td>\n",
       "      <td>0.250000</td>\n",
       "      <td>0.500000</td>\n",
       "      <td>0.0</td>\n",
       "      <td>0.500000</td>\n",
       "    </tr>\n",
       "    <tr>\n",
       "      <th>75%</th>\n",
       "      <td>2.000000</td>\n",
       "      <td>1.000000</td>\n",
       "      <td>6.000000</td>\n",
       "      <td>0.500000</td>\n",
       "      <td>1.000000</td>\n",
       "      <td>0.0</td>\n",
       "      <td>1.000000</td>\n",
       "    </tr>\n",
       "    <tr>\n",
       "      <th>max</th>\n",
       "      <td>2.000000</td>\n",
       "      <td>1.000000</td>\n",
       "      <td>6.000000</td>\n",
       "      <td>0.500000</td>\n",
       "      <td>1.000000</td>\n",
       "      <td>0.0</td>\n",
       "      <td>1.000000</td>\n",
       "    </tr>\n",
       "  </tbody>\n",
       "</table>\n",
       "</div>"
      ]
     },
     "execution_count": 16,
     "metadata": {},
     "output_type": "execute_result"
    }
   ],
   "execution_count": 16
  },
  {
   "metadata": {},
   "cell_type": "markdown",
   "source": [
    "### IMPORTANTE\n",
    "Mirar estos 6 imports"
   ],
   "id": "698de5e1bc3d6e4f"
  },
  {
   "metadata": {},
   "cell_type": "markdown",
   "source": [
    "### Variable average_from_imported_modules (3/7)\n",
    "Esta variable representa el número medio de imports con la clausula From. Como vimos en la descripción de la tabla esta varibale adopta valores en el rango 0 - 8.0. Con una media de 0.79."
   ],
   "id": "2a00f5be59e6d4a9"
  },
  {
   "metadata": {
    "ExecuteTime": {
     "end_time": "2024-05-29T09:01:13.823497Z",
     "start_time": "2024-05-29T09:01:13.672939Z"
    }
   },
   "cell_type": "code",
   "source": "sns.stripplot(X['import__average_from_imported_modules'])",
   "id": "bcf42c4ca6fb0146",
   "outputs": [
    {
     "data": {
      "text/plain": [
       "<Axes: ylabel='import__average_from_imported_modules'>"
      ]
     },
     "execution_count": 17,
     "metadata": {},
     "output_type": "execute_result"
    },
    {
     "data": {
      "text/plain": [
       "<Figure size 640x480 with 1 Axes>"
      ],
      "image/png": "[encoded data removed]"
     },
     "metadata": {},
     "output_type": "display_data"
    }
   ],
   "execution_count": 17
  },
  {
   "metadata": {
    "ExecuteTime": {
     "end_time": "2024-05-29T09:01:13.832852Z",
     "start_time": "2024-05-29T09:01:13.824504Z"
    }
   },
   "cell_type": "code",
   "source": "print_outliers_for_df_column(X, 'import__average_from_imported_modules')",
   "id": "2be67c4ab421c8b0",
   "outputs": [
    {
     "name": "stdout",
     "output_type": "stream",
     "text": [
      "El coeficiente MC (Medcouple Coefficient) de balanceo es: 0.4062675811024981\n",
      "Rango valores atípicos extremos (Tukey): [-3.428571581840515,4.5714287757873535]\n",
      "Rango valores atípicos leves (Tukey): [-1.7142857909202576,2.857142984867096]\n",
      "Rango valores atípicos extremos (Fixed BoxPlot): [-0.4135652455625802,9.849331045831809]\n",
      "-3.0IQR: 0 instancias tienen un valor para import__average_from_imported_modules inferior a -3.428571581840515 (Q1-3*IQR) para import__average_from_imported_modules. Representando un 0.0% del total de instancias.\n",
      "-1.5IQR: 0 instancias tienen un valor para import__average_from_imported_modules inferior a -1.7142857909202576 (Q1-1.5*IQR) para import__average_from_imported_modules. Representando un 0.0% del total de instancias.\n",
      "+1.5IQR: 395 instancias tienen un valor para import__average_from_imported_modules superior a 2.857142984867096 (Q3+1.5*IQR) para import__average_from_imported_modules. Representando un 5.545% del total de instancias.\n",
      "+3.0IQR: 145 instancias tienen un valor para import__average_from_imported_modules superior a 4.5714287757873535 (Q3-3*IQR) para import__average_from_imported_modules. Representando un 2.035% del total de instancias.\n",
      "L: 0 instancias tienen un valor para import__average_from_imported_modules inferior a -0.4135652455625802 para import__average_from_imported_modules. Representando un 0.0% del total de instancias.\n",
      "U: 0 instancias tienen un valor para import__average_from_imported_modules superior a 9.849331045831809 para import__average_from_imported_modules. Representando un 0.0% del total de instancias.\n"
     ]
    }
   ],
   "execution_count": 18
  },
  {
   "metadata": {},
   "cell_type": "markdown",
   "source": "Describimos los valores de las variables de la tabla, cuando el valor de la variable es mayor que 4.57 (Con un MC de 40 usamos Tuckey Extremo)",
   "id": "9c98aa3e712bff76"
  },
  {
   "metadata": {
    "ExecuteTime": {
     "end_time": "2024-05-29T09:01:13.854547Z",
     "start_time": "2024-05-29T09:01:13.833858Z"
    }
   },
   "cell_type": "code",
   "source": "X[X['import__average_from_imported_modules'] > 4.57].describe(percentiles=[.25, .50, .75], include = ['object', 'float', 'bool', 'int'])",
   "id": "ad1049f623d1e003",
   "outputs": [
    {
     "data": {
      "text/plain": [
       "       import__number_imports  import__module_imports_pct  \\\n",
       "count              145.000000                  145.000000   \n",
       "mean                 6.034483                    0.523826   \n",
       "std                  3.895178                    0.318544   \n",
       "min                  1.000000                    0.000000   \n",
       "25%                  3.000000                    0.333333   \n",
       "50%                  6.000000                    0.625000   \n",
       "75%                  8.000000                    0.800000   \n",
       "max                 20.000000                    0.888889   \n",
       "\n",
       "       import__average_imported_modules  import__from_imports_pct  \\\n",
       "count                        145.000000                145.000000   \n",
       "mean                           0.793103                  0.476174   \n",
       "std                            0.406485                  0.318544   \n",
       "min                            0.000000                  0.111111   \n",
       "25%                            1.000000                  0.200000   \n",
       "50%                            1.000000                  0.375000   \n",
       "75%                            1.000000                  0.666667   \n",
       "max                            1.000000                  1.000000   \n",
       "\n",
       "       import__average_from_imported_modules  \\\n",
       "count                             145.000000   \n",
       "mean                                5.821264   \n",
       "std                                 0.941323   \n",
       "min                                 4.666667   \n",
       "25%                                 5.000000   \n",
       "50%                                 5.500000   \n",
       "75%                                 6.000000   \n",
       "max                                 8.000000   \n",
       "\n",
       "       import__average_as_in_imported_modules  import__local_imports_pct  \n",
       "count                              145.000000                 145.000000  \n",
       "mean                                 0.007471                   0.727586  \n",
       "std                                  0.018375                   0.437914  \n",
       "min                                  0.000000                   0.000000  \n",
       "25%                                  0.000000                   0.000000  \n",
       "50%                                  0.000000                   1.000000  \n",
       "75%                                  0.000000                   1.000000  \n",
       "max                                  0.055556                   1.000000  "
      ],
      "text/html": [
       "<div>\n",
       "<style scoped>\n",
       "    .dataframe tbody tr th:only-of-type {\n",
       "        vertical-align: middle;\n",
       "    }\n",
       "\n",
       "    .dataframe tbody tr th {\n",
       "        vertical-align: top;\n",
       "    }\n",
       "\n",
       "    .dataframe thead th {\n",
       "        text-align: right;\n",
       "    }\n",
       "</style>\n",
       "<table border=\"1\" class=\"dataframe\">\n",
       "  <thead>\n",
       "    <tr style=\"text-align: right;\">\n",
       "      <th></th>\n",
       "      <th>import__number_imports</th>\n",
       "      <th>import__module_imports_pct</th>\n",
       "      <th>import__average_imported_modules</th>\n",
       "      <th>import__from_imports_pct</th>\n",
       "      <th>import__average_from_imported_modules</th>\n",
       "      <th>import__average_as_in_imported_modules</th>\n",
       "      <th>import__local_imports_pct</th>\n",
       "    </tr>\n",
       "  </thead>\n",
       "  <tbody>\n",
       "    <tr>\n",
       "      <th>count</th>\n",
       "      <td>145.000000</td>\n",
       "      <td>145.000000</td>\n",
       "      <td>145.000000</td>\n",
       "      <td>145.000000</td>\n",
       "      <td>145.000000</td>\n",
       "      <td>145.000000</td>\n",
       "      <td>145.000000</td>\n",
       "    </tr>\n",
       "    <tr>\n",
       "      <th>mean</th>\n",
       "      <td>6.034483</td>\n",
       "      <td>0.523826</td>\n",
       "      <td>0.793103</td>\n",
       "      <td>0.476174</td>\n",
       "      <td>5.821264</td>\n",
       "      <td>0.007471</td>\n",
       "      <td>0.727586</td>\n",
       "    </tr>\n",
       "    <tr>\n",
       "      <th>std</th>\n",
       "      <td>3.895178</td>\n",
       "      <td>0.318544</td>\n",
       "      <td>0.406485</td>\n",
       "      <td>0.318544</td>\n",
       "      <td>0.941323</td>\n",
       "      <td>0.018375</td>\n",
       "      <td>0.437914</td>\n",
       "    </tr>\n",
       "    <tr>\n",
       "      <th>min</th>\n",
       "      <td>1.000000</td>\n",
       "      <td>0.000000</td>\n",
       "      <td>0.000000</td>\n",
       "      <td>0.111111</td>\n",
       "      <td>4.666667</td>\n",
       "      <td>0.000000</td>\n",
       "      <td>0.000000</td>\n",
       "    </tr>\n",
       "    <tr>\n",
       "      <th>25%</th>\n",
       "      <td>3.000000</td>\n",
       "      <td>0.333333</td>\n",
       "      <td>1.000000</td>\n",
       "      <td>0.200000</td>\n",
       "      <td>5.000000</td>\n",
       "      <td>0.000000</td>\n",
       "      <td>0.000000</td>\n",
       "    </tr>\n",
       "    <tr>\n",
       "      <th>50%</th>\n",
       "      <td>6.000000</td>\n",
       "      <td>0.625000</td>\n",
       "      <td>1.000000</td>\n",
       "      <td>0.375000</td>\n",
       "      <td>5.500000</td>\n",
       "      <td>0.000000</td>\n",
       "      <td>1.000000</td>\n",
       "    </tr>\n",
       "    <tr>\n",
       "      <th>75%</th>\n",
       "      <td>8.000000</td>\n",
       "      <td>0.800000</td>\n",
       "      <td>1.000000</td>\n",
       "      <td>0.666667</td>\n",
       "      <td>6.000000</td>\n",
       "      <td>0.000000</td>\n",
       "      <td>1.000000</td>\n",
       "    </tr>\n",
       "    <tr>\n",
       "      <th>max</th>\n",
       "      <td>20.000000</td>\n",
       "      <td>0.888889</td>\n",
       "      <td>1.000000</td>\n",
       "      <td>1.000000</td>\n",
       "      <td>8.000000</td>\n",
       "      <td>0.055556</td>\n",
       "      <td>1.000000</td>\n",
       "    </tr>\n",
       "  </tbody>\n",
       "</table>\n",
       "</div>"
      ]
     },
     "execution_count": 19,
     "metadata": {},
     "output_type": "execute_result"
    }
   ],
   "execution_count": 19
  },
  {
   "metadata": {},
   "cell_type": "markdown",
   "source": [
    "### Variable average_as_in_imported_modules (4/7)\n",
    "Esta variable es de tipo numérica y nos indica el número medio de import con la cláusula as. Como vimos en la descripción de la tabla esta varibale adopta valores en el rango 0 - 1. Con una media de 0.009."
   ],
   "id": "37d55a98f9df4be"
  },
  {
   "metadata": {
    "ExecuteTime": {
     "end_time": "2024-05-29T09:01:13.992496Z",
     "start_time": "2024-05-29T09:01:13.855553Z"
    }
   },
   "cell_type": "code",
   "source": "sns.stripplot(X['import__average_as_in_imported_modules'])",
   "id": "8d7027a78ac296ed",
   "outputs": [
    {
     "data": {
      "text/plain": [
       "<Axes: ylabel='import__average_as_in_imported_modules'>"
      ]
     },
     "execution_count": 20,
     "metadata": {},
     "output_type": "execute_result"
    },
    {
     "data": {
      "text/plain": [
       "<Figure size 640x480 with 1 Axes>"
      ],
      "image/png": "[encoded data removed]"
     },
     "metadata": {},
     "output_type": "display_data"
    }
   ],
   "execution_count": 20
  },
  {
   "metadata": {
    "ExecuteTime": {
     "end_time": "2024-05-29T09:01:14.000537Z",
     "start_time": "2024-05-29T09:01:13.993503Z"
    }
   },
   "cell_type": "code",
   "source": "print_outliers_for_df_column(X, 'import__average_as_in_imported_modules')",
   "id": "98d831dcd0eeee02",
   "outputs": [
    {
     "name": "stdout",
     "output_type": "stream",
     "text": [
      "El coeficiente MC (Medcouple Coefficient) de balanceo es: 0.916296460340238\n",
      "Rango valores atípicos extremos (Tukey): [0.0,0.0]\n",
      "Rango valores atípicos leves (Tukey): [0.0,0.0]\n",
      "Rango valores atípicos extremos (Fixed BoxPlot): [0.0,0.0]\n",
      "-3.0IQR: 0 instancias tienen un valor para import__average_as_in_imported_modules inferior a 0.0 (Q1-3*IQR) para import__average_as_in_imported_modules. Representando un 0.0% del total de instancias.\n",
      "-1.5IQR: 0 instancias tienen un valor para import__average_as_in_imported_modules inferior a 0.0 (Q1-1.5*IQR) para import__average_as_in_imported_modules. Representando un 0.0% del total de instancias.\n",
      "+1.5IQR: 365 instancias tienen un valor para import__average_as_in_imported_modules superior a 0.0 (Q3+1.5*IQR) para import__average_as_in_imported_modules. Representando un 5.124% del total de instancias.\n",
      "+3.0IQR: 365 instancias tienen un valor para import__average_as_in_imported_modules superior a 0.0 (Q3-3*IQR) para import__average_as_in_imported_modules. Representando un 5.124% del total de instancias.\n",
      "L: 0 instancias tienen un valor para import__average_as_in_imported_modules inferior a 0.0 para import__average_as_in_imported_modules. Representando un 0.0% del total de instancias.\n",
      "U: 365 instancias tienen un valor para import__average_as_in_imported_modules superior a 0.0 para import__average_as_in_imported_modules. Representando un 5.124% del total de instancias.\n"
     ]
    }
   ],
   "execution_count": 21
  },
  {
   "metadata": {},
   "cell_type": "markdown",
   "source": "Describimos los valores de las variables de la tabla, cuando el valor de la variable es mayor que 0.0 (Con un MC de 91 usamos U)",
   "id": "7c0ecf6141e54c49"
  },
  {
   "metadata": {
    "ExecuteTime": {
     "end_time": "2024-05-29T09:01:14.023436Z",
     "start_time": "2024-05-29T09:01:14.001544Z"
    }
   },
   "cell_type": "code",
   "source": "X[X['import__average_as_in_imported_modules'] > 0.0].describe(percentiles=[.25, .50, .75], include = ['object', 'float', 'bool', 'int'])",
   "id": "74dd9804c97aef00",
   "outputs": [
    {
     "data": {
      "text/plain": [
       "       import__number_imports  import__module_imports_pct  \\\n",
       "count              365.000000                  365.000000   \n",
       "mean                13.032877                    0.329395   \n",
       "std                  9.407679                    0.244316   \n",
       "min                  1.000000                    0.000000   \n",
       "25%                  6.000000                    0.130435   \n",
       "50%                 11.000000                    0.333333   \n",
       "75%                 18.000000                    0.500000   \n",
       "max                 46.000000                    0.833333   \n",
       "\n",
       "       import__average_imported_modules  import__from_imports_pct  \\\n",
       "count                        365.000000                365.000000   \n",
       "mean                           0.819178                  0.670605   \n",
       "std                            0.444953                  0.244316   \n",
       "min                            0.000000                  0.166667   \n",
       "25%                            1.000000                  0.500000   \n",
       "50%                            1.000000                  0.666667   \n",
       "75%                            1.000000                  0.869565   \n",
       "max                            3.000000                  1.000000   \n",
       "\n",
       "       import__average_from_imported_modules  \\\n",
       "count                             365.000000   \n",
       "mean                                1.978410   \n",
       "std                                 1.322905   \n",
       "min                                 1.000000   \n",
       "25%                                 1.025000   \n",
       "50%                                 1.500000   \n",
       "75%                                 2.222222   \n",
       "max                                 6.000000   \n",
       "\n",
       "       import__average_as_in_imported_modules  import__local_imports_pct  \n",
       "count                              365.000000                 365.000000  \n",
       "mean                                 0.190089                   0.615007  \n",
       "std                                  0.200723                   0.455688  \n",
       "min                                  0.017241                   0.000000  \n",
       "25%                                  0.055556                   0.000000  \n",
       "50%                                  0.111111                   1.000000  \n",
       "75%                                  0.200000                   1.000000  \n",
       "max                                  1.000000                   1.000000  "
      ],
      "text/html": [
       "<div>\n",
       "<style scoped>\n",
       "    .dataframe tbody tr th:only-of-type {\n",
       "        vertical-align: middle;\n",
       "    }\n",
       "\n",
       "    .dataframe tbody tr th {\n",
       "        vertical-align: top;\n",
       "    }\n",
       "\n",
       "    .dataframe thead th {\n",
       "        text-align: right;\n",
       "    }\n",
       "</style>\n",
       "<table border=\"1\" class=\"dataframe\">\n",
       "  <thead>\n",
       "    <tr style=\"text-align: right;\">\n",
       "      <th></th>\n",
       "      <th>import__number_imports</th>\n",
       "      <th>import__module_imports_pct</th>\n",
       "      <th>import__average_imported_modules</th>\n",
       "      <th>import__from_imports_pct</th>\n",
       "      <th>import__average_from_imported_modules</th>\n",
       "      <th>import__average_as_in_imported_modules</th>\n",
       "      <th>import__local_imports_pct</th>\n",
       "    </tr>\n",
       "  </thead>\n",
       "  <tbody>\n",
       "    <tr>\n",
       "      <th>count</th>\n",
       "      <td>365.000000</td>\n",
       "      <td>365.000000</td>\n",
       "      <td>365.000000</td>\n",
       "      <td>365.000000</td>\n",
       "      <td>365.000000</td>\n",
       "      <td>365.000000</td>\n",
       "      <td>365.000000</td>\n",
       "    </tr>\n",
       "    <tr>\n",
       "      <th>mean</th>\n",
       "      <td>13.032877</td>\n",
       "      <td>0.329395</td>\n",
       "      <td>0.819178</td>\n",
       "      <td>0.670605</td>\n",
       "      <td>1.978410</td>\n",
       "      <td>0.190089</td>\n",
       "      <td>0.615007</td>\n",
       "    </tr>\n",
       "    <tr>\n",
       "      <th>std</th>\n",
       "      <td>9.407679</td>\n",
       "      <td>0.244316</td>\n",
       "      <td>0.444953</td>\n",
       "      <td>0.244316</td>\n",
       "      <td>1.322905</td>\n",
       "      <td>0.200723</td>\n",
       "      <td>0.455688</td>\n",
       "    </tr>\n",
       "    <tr>\n",
       "      <th>min</th>\n",
       "      <td>1.000000</td>\n",
       "      <td>0.000000</td>\n",
       "      <td>0.000000</td>\n",
       "      <td>0.166667</td>\n",
       "      <td>1.000000</td>\n",
       "      <td>0.017241</td>\n",
       "      <td>0.000000</td>\n",
       "    </tr>\n",
       "    <tr>\n",
       "      <th>25%</th>\n",
       "      <td>6.000000</td>\n",
       "      <td>0.130435</td>\n",
       "      <td>1.000000</td>\n",
       "      <td>0.500000</td>\n",
       "      <td>1.025000</td>\n",
       "      <td>0.055556</td>\n",
       "      <td>0.000000</td>\n",
       "    </tr>\n",
       "    <tr>\n",
       "      <th>50%</th>\n",
       "      <td>11.000000</td>\n",
       "      <td>0.333333</td>\n",
       "      <td>1.000000</td>\n",
       "      <td>0.666667</td>\n",
       "      <td>1.500000</td>\n",
       "      <td>0.111111</td>\n",
       "      <td>1.000000</td>\n",
       "    </tr>\n",
       "    <tr>\n",
       "      <th>75%</th>\n",
       "      <td>18.000000</td>\n",
       "      <td>0.500000</td>\n",
       "      <td>1.000000</td>\n",
       "      <td>0.869565</td>\n",
       "      <td>2.222222</td>\n",
       "      <td>0.200000</td>\n",
       "      <td>1.000000</td>\n",
       "    </tr>\n",
       "    <tr>\n",
       "      <th>max</th>\n",
       "      <td>46.000000</td>\n",
       "      <td>0.833333</td>\n",
       "      <td>3.000000</td>\n",
       "      <td>1.000000</td>\n",
       "      <td>6.000000</td>\n",
       "      <td>1.000000</td>\n",
       "      <td>1.000000</td>\n",
       "    </tr>\n",
       "  </tbody>\n",
       "</table>\n",
       "</div>"
      ]
     },
     "execution_count": 22,
     "metadata": {},
     "output_type": "execute_result"
    }
   ],
   "execution_count": 22
  },
  {
   "metadata": {},
   "cell_type": "markdown",
   "source": [
    "### Variable module_imports_pct (5/7)\n",
    "Esta variable representa la proporción de import simples del fichero. Como vimos en la descripción de la tabla esta varibale adopta valores en el rango 0.0 - 1.0. Con una media de 0.30."
   ],
   "id": "fb182a156befa75a"
  },
  {
   "metadata": {
    "ExecuteTime": {
     "end_time": "2024-05-29T09:01:14.400636Z",
     "start_time": "2024-05-29T09:01:14.024442Z"
    }
   },
   "cell_type": "code",
   "source": "sns.displot(X['import__module_imports_pct'], bins=[i / 100 for i in range(0, 101)])",
   "id": "8cfc8a56a436ab6d",
   "outputs": [
    {
     "data": {
      "text/plain": [
       "<seaborn.axisgrid.FacetGrid at 0x13f65827110>"
      ]
     },
     "execution_count": 23,
     "metadata": {},
     "output_type": "execute_result"
    },
    {
     "data": {
      "text/plain": [
       "<Figure size 500x500 with 1 Axes>"
      ],
      "image/png": "[encoded data removed]"
     },
     "metadata": {},
     "output_type": "display_data"
    }
   ],
   "execution_count": 23
  },
  {
   "metadata": {
    "ExecuteTime": {
     "end_time": "2024-05-29T09:01:14.409020Z",
     "start_time": "2024-05-29T09:01:14.401676Z"
    }
   },
   "cell_type": "code",
   "source": "print_outliers_for_df_column(X, 'import__module_imports_pct')",
   "id": "6d4e07dfc0eea73c",
   "outputs": [
    {
     "name": "stdout",
     "output_type": "stream",
     "text": [
      "El coeficiente MC (Medcouple Coefficient) de balanceo es: 0.3088034391403198\n",
      "Rango valores atípicos extremos (Tukey): [-1.7142857909202576,2.2857143878936768]\n",
      "Rango valores atípicos leves (Tukey): [-0.8571428954601288,1.428571492433548]\n",
      "Rango valores atípicos extremos (Fixed BoxPlot): [-0.29084561881706866,3.51924036466457]\n",
      "-3.0IQR: 0 instancias tienen un valor para import__module_imports_pct inferior a -1.7142857909202576 (Q1-3*IQR) para import__module_imports_pct. Representando un 0.0% del total de instancias.\n",
      "-1.5IQR: 0 instancias tienen un valor para import__module_imports_pct inferior a -0.8571428954601288 (Q1-1.5*IQR) para import__module_imports_pct. Representando un 0.0% del total de instancias.\n",
      "+1.5IQR: 0 instancias tienen un valor para import__module_imports_pct superior a 1.428571492433548 (Q3+1.5*IQR) para import__module_imports_pct. Representando un 0.0% del total de instancias.\n",
      "+3.0IQR: 0 instancias tienen un valor para import__module_imports_pct superior a 2.2857143878936768 (Q3-3*IQR) para import__module_imports_pct. Representando un 0.0% del total de instancias.\n",
      "L: 0 instancias tienen un valor para import__module_imports_pct inferior a -0.29084561881706866 para import__module_imports_pct. Representando un 0.0% del total de instancias.\n",
      "U: 0 instancias tienen un valor para import__module_imports_pct superior a 3.51924036466457 para import__module_imports_pct. Representando un 0.0% del total de instancias.\n"
     ]
    }
   ],
   "execution_count": 24
  },
  {
   "metadata": {
    "ExecuteTime": {
     "end_time": "2024-05-29T09:01:14.431018Z",
     "start_time": "2024-05-29T09:01:14.410025Z"
    }
   },
   "cell_type": "code",
   "source": "X[X['import__module_imports_pct'] == 1.0].describe(percentiles=[.25, .50, .75], include = ['object', 'float', 'bool', 'int'])",
   "id": "5c5b54117de99ea5",
   "outputs": [
    {
     "data": {
      "text/plain": [
       "       import__number_imports  import__module_imports_pct  \\\n",
       "count             1205.000000                      1205.0   \n",
       "mean                 1.894606                         1.0   \n",
       "std                  1.338671                         0.0   \n",
       "min                  1.000000                         1.0   \n",
       "25%                  1.000000                         1.0   \n",
       "50%                  1.000000                         1.0   \n",
       "75%                  2.000000                         1.0   \n",
       "max                 11.000000                         1.0   \n",
       "\n",
       "       import__average_imported_modules  import__from_imports_pct  \\\n",
       "count                       1205.000000                    1205.0   \n",
       "mean                           1.061189                       0.0   \n",
       "std                            0.343305                       0.0   \n",
       "min                            1.000000                       0.0   \n",
       "25%                            1.000000                       0.0   \n",
       "50%                            1.000000                       0.0   \n",
       "75%                            1.000000                       0.0   \n",
       "max                            6.000000                       0.0   \n",
       "\n",
       "       import__average_from_imported_modules  \\\n",
       "count                                 1205.0   \n",
       "mean                                     0.0   \n",
       "std                                      0.0   \n",
       "min                                      0.0   \n",
       "25%                                      0.0   \n",
       "50%                                      0.0   \n",
       "75%                                      0.0   \n",
       "max                                      0.0   \n",
       "\n",
       "       import__average_as_in_imported_modules  import__local_imports_pct  \n",
       "count                                  1205.0                1205.000000  \n",
       "mean                                      0.0                   0.868524  \n",
       "std                                       0.0                   0.337760  \n",
       "min                                       0.0                   0.000000  \n",
       "25%                                       0.0                   1.000000  \n",
       "50%                                       0.0                   1.000000  \n",
       "75%                                       0.0                   1.000000  \n",
       "max                                       0.0                   1.000000  "
      ],
      "text/html": [
       "<div>\n",
       "<style scoped>\n",
       "    .dataframe tbody tr th:only-of-type {\n",
       "        vertical-align: middle;\n",
       "    }\n",
       "\n",
       "    .dataframe tbody tr th {\n",
       "        vertical-align: top;\n",
       "    }\n",
       "\n",
       "    .dataframe thead th {\n",
       "        text-align: right;\n",
       "    }\n",
       "</style>\n",
       "<table border=\"1\" class=\"dataframe\">\n",
       "  <thead>\n",
       "    <tr style=\"text-align: right;\">\n",
       "      <th></th>\n",
       "      <th>import__number_imports</th>\n",
       "      <th>import__module_imports_pct</th>\n",
       "      <th>import__average_imported_modules</th>\n",
       "      <th>import__from_imports_pct</th>\n",
       "      <th>import__average_from_imported_modules</th>\n",
       "      <th>import__average_as_in_imported_modules</th>\n",
       "      <th>import__local_imports_pct</th>\n",
       "    </tr>\n",
       "  </thead>\n",
       "  <tbody>\n",
       "    <tr>\n",
       "      <th>count</th>\n",
       "      <td>1205.000000</td>\n",
       "      <td>1205.0</td>\n",
       "      <td>1205.000000</td>\n",
       "      <td>1205.0</td>\n",
       "      <td>1205.0</td>\n",
       "      <td>1205.0</td>\n",
       "      <td>1205.000000</td>\n",
       "    </tr>\n",
       "    <tr>\n",
       "      <th>mean</th>\n",
       "      <td>1.894606</td>\n",
       "      <td>1.0</td>\n",
       "      <td>1.061189</td>\n",
       "      <td>0.0</td>\n",
       "      <td>0.0</td>\n",
       "      <td>0.0</td>\n",
       "      <td>0.868524</td>\n",
       "    </tr>\n",
       "    <tr>\n",
       "      <th>std</th>\n",
       "      <td>1.338671</td>\n",
       "      <td>0.0</td>\n",
       "      <td>0.343305</td>\n",
       "      <td>0.0</td>\n",
       "      <td>0.0</td>\n",
       "      <td>0.0</td>\n",
       "      <td>0.337760</td>\n",
       "    </tr>\n",
       "    <tr>\n",
       "      <th>min</th>\n",
       "      <td>1.000000</td>\n",
       "      <td>1.0</td>\n",
       "      <td>1.000000</td>\n",
       "      <td>0.0</td>\n",
       "      <td>0.0</td>\n",
       "      <td>0.0</td>\n",
       "      <td>0.000000</td>\n",
       "    </tr>\n",
       "    <tr>\n",
       "      <th>25%</th>\n",
       "      <td>1.000000</td>\n",
       "      <td>1.0</td>\n",
       "      <td>1.000000</td>\n",
       "      <td>0.0</td>\n",
       "      <td>0.0</td>\n",
       "      <td>0.0</td>\n",
       "      <td>1.000000</td>\n",
       "    </tr>\n",
       "    <tr>\n",
       "      <th>50%</th>\n",
       "      <td>1.000000</td>\n",
       "      <td>1.0</td>\n",
       "      <td>1.000000</td>\n",
       "      <td>0.0</td>\n",
       "      <td>0.0</td>\n",
       "      <td>0.0</td>\n",
       "      <td>1.000000</td>\n",
       "    </tr>\n",
       "    <tr>\n",
       "      <th>75%</th>\n",
       "      <td>2.000000</td>\n",
       "      <td>1.0</td>\n",
       "      <td>1.000000</td>\n",
       "      <td>0.0</td>\n",
       "      <td>0.0</td>\n",
       "      <td>0.0</td>\n",
       "      <td>1.000000</td>\n",
       "    </tr>\n",
       "    <tr>\n",
       "      <th>max</th>\n",
       "      <td>11.000000</td>\n",
       "      <td>1.0</td>\n",
       "      <td>6.000000</td>\n",
       "      <td>0.0</td>\n",
       "      <td>0.0</td>\n",
       "      <td>0.0</td>\n",
       "      <td>1.000000</td>\n",
       "    </tr>\n",
       "  </tbody>\n",
       "</table>\n",
       "</div>"
      ]
     },
     "execution_count": 25,
     "metadata": {},
     "output_type": "execute_result"
    }
   ],
   "execution_count": 25
  },
  {
   "metadata": {},
   "cell_type": "markdown",
   "source": [
    "### IMPORTANTE\n",
    "El 52% de los imports tienen module_imports_pct = 0.0"
   ],
   "id": "8faf83ba21f7e7b5"
  },
  {
   "metadata": {},
   "cell_type": "markdown",
   "source": [
    "### Variable from_imports_pct (6/7)\n",
    "Esta variable representa la proporción de imports que usan la clausula From en el fichero. Como vimos en la descripción de la tabla esta varibale adopta valores en el rango 0.0 - 1.0. Con una media de 0.32.\n"
   ],
   "id": "fbd6e93cca1be4bf"
  },
  {
   "metadata": {
    "ExecuteTime": {
     "end_time": "2024-05-29T09:01:14.725510Z",
     "start_time": "2024-05-29T09:01:14.432026Z"
    }
   },
   "cell_type": "code",
   "source": "sns.displot(X['import__from_imports_pct'], bins=[i / 100 for i in range(0, 101)])",
   "id": "f1b75c25c53f4ad5",
   "outputs": [
    {
     "data": {
      "text/plain": [
       "<seaborn.axisgrid.FacetGrid at 0x13f6260ba70>"
      ]
     },
     "execution_count": 26,
     "metadata": {},
     "output_type": "execute_result"
    },
    {
     "data": {
      "text/plain": [
       "<Figure size 500x500 with 1 Axes>"
      ],
      "image/png": "[encoded data removed]"
     },
     "metadata": {},
     "output_type": "display_data"
    }
   ],
   "execution_count": 26
  },
  {
   "metadata": {
    "ExecuteTime": {
     "end_time": "2024-05-29T09:01:14.734078Z",
     "start_time": "2024-05-29T09:01:14.726516Z"
    }
   },
   "cell_type": "code",
   "source": "print_outliers_for_df_column(X, 'import__from_imports_pct')",
   "id": "d44c212251238f23",
   "outputs": [
    {
     "name": "stdout",
     "output_type": "stream",
     "text": [
      "El coeficiente MC (Medcouple Coefficient) de balanceo es: 0.27629342675209045\n",
      "Rango valores atípicos extremos (Tukey): [-2.0625,2.75]\n",
      "Rango valores atípicos leves (Tukey): [-1.03125,1.71875]\n",
      "Rango valores atípicos extremos (Fixed BoxPlot): [-0.39209334796946776,3.801616130273311]\n",
      "-3.0IQR: 0 instancias tienen un valor para import__from_imports_pct inferior a -2.0625 (Q1-3*IQR) para import__from_imports_pct. Representando un 0.0% del total de instancias.\n",
      "-1.5IQR: 0 instancias tienen un valor para import__from_imports_pct inferior a -1.03125 (Q1-1.5*IQR) para import__from_imports_pct. Representando un 0.0% del total de instancias.\n",
      "+1.5IQR: 0 instancias tienen un valor para import__from_imports_pct superior a 1.71875 (Q3+1.5*IQR) para import__from_imports_pct. Representando un 0.0% del total de instancias.\n",
      "+3.0IQR: 0 instancias tienen un valor para import__from_imports_pct superior a 2.75 (Q3-3*IQR) para import__from_imports_pct. Representando un 0.0% del total de instancias.\n",
      "L: 0 instancias tienen un valor para import__from_imports_pct inferior a -0.39209334796946776 para import__from_imports_pct. Representando un 0.0% del total de instancias.\n",
      "U: 0 instancias tienen un valor para import__from_imports_pct superior a 3.801616130273311 para import__from_imports_pct. Representando un 0.0% del total de instancias.\n"
     ]
    }
   ],
   "execution_count": 27
  },
  {
   "metadata": {},
   "cell_type": "markdown",
   "source": "IMPORTANTE: Estos valores siguen un distribucion en forma de U (distribucion de Laplace). Con lo que los posibles valores outliers estan en el medio, no en los extremos. No se puede aplicar el metodo de tukey. En este momento, solo vamos a mostrar los valores que hay en el medio.",
   "id": "2105fc1e9e292de7"
  },
  {
   "metadata": {
    "ExecuteTime": {
     "end_time": "2024-05-29T09:01:14.758748Z",
     "start_time": "2024-05-29T09:01:14.737018Z"
    }
   },
   "cell_type": "code",
   "source": "X[(X['import__from_imports_pct'] > 0.0) & (X['import__from_imports_pct'] < 1.0)].describe(percentiles=[.25, .50, .75], include = ['object', 'float', 'bool', 'int'])",
   "id": "b493e3454f34ef9",
   "outputs": [
    {
     "data": {
      "text/plain": [
       "       import__number_imports  import__module_imports_pct  \\\n",
       "count             2190.000000                 2190.000000   \n",
       "mean                 8.760274                    0.439624   \n",
       "std                  6.594817                    0.211214   \n",
       "min                  2.000000                    0.066667   \n",
       "25%                  4.000000                    0.250000   \n",
       "50%                  7.000000                    0.428571   \n",
       "75%                 11.000000                    0.571429   \n",
       "max                 46.000000                    0.909091   \n",
       "\n",
       "       import__average_imported_modules  import__from_imports_pct  \\\n",
       "count                       2190.000000               2190.000000   \n",
       "mean                           1.057001                  0.560376   \n",
       "std                            0.345573                  0.211214   \n",
       "min                            1.000000                  0.090909   \n",
       "25%                            1.000000                  0.428571   \n",
       "50%                            1.000000                  0.571429   \n",
       "75%                            1.000000                  0.750000   \n",
       "max                            6.000000                  0.933333   \n",
       "\n",
       "       import__average_from_imported_modules  \\\n",
       "count                            2190.000000   \n",
       "mean                                1.820670   \n",
       "std                                 1.168431   \n",
       "min                                 1.000000   \n",
       "25%                                 1.000000   \n",
       "50%                                 1.400000   \n",
       "75%                                 2.050000   \n",
       "max                                 7.000000   \n",
       "\n",
       "       import__average_as_in_imported_modules  import__local_imports_pct  \n",
       "count                             2190.000000                2190.000000  \n",
       "mean                                 0.019806                   0.595021  \n",
       "std                                  0.074640                   0.479497  \n",
       "min                                  0.000000                   0.000000  \n",
       "25%                                  0.000000                   0.000000  \n",
       "50%                                  0.000000                   1.000000  \n",
       "75%                                  0.000000                   1.000000  \n",
       "max                                  1.000000                   1.000000  "
      ],
      "text/html": [
       "<div>\n",
       "<style scoped>\n",
       "    .dataframe tbody tr th:only-of-type {\n",
       "        vertical-align: middle;\n",
       "    }\n",
       "\n",
       "    .dataframe tbody tr th {\n",
       "        vertical-align: top;\n",
       "    }\n",
       "\n",
       "    .dataframe thead th {\n",
       "        text-align: right;\n",
       "    }\n",
       "</style>\n",
       "<table border=\"1\" class=\"dataframe\">\n",
       "  <thead>\n",
       "    <tr style=\"text-align: right;\">\n",
       "      <th></th>\n",
       "      <th>import__number_imports</th>\n",
       "      <th>import__module_imports_pct</th>\n",
       "      <th>import__average_imported_modules</th>\n",
       "      <th>import__from_imports_pct</th>\n",
       "      <th>import__average_from_imported_modules</th>\n",
       "      <th>import__average_as_in_imported_modules</th>\n",
       "      <th>import__local_imports_pct</th>\n",
       "    </tr>\n",
       "  </thead>\n",
       "  <tbody>\n",
       "    <tr>\n",
       "      <th>count</th>\n",
       "      <td>2190.000000</td>\n",
       "      <td>2190.000000</td>\n",
       "      <td>2190.000000</td>\n",
       "      <td>2190.000000</td>\n",
       "      <td>2190.000000</td>\n",
       "      <td>2190.000000</td>\n",
       "      <td>2190.000000</td>\n",
       "    </tr>\n",
       "    <tr>\n",
       "      <th>mean</th>\n",
       "      <td>8.760274</td>\n",
       "      <td>0.439624</td>\n",
       "      <td>1.057001</td>\n",
       "      <td>0.560376</td>\n",
       "      <td>1.820670</td>\n",
       "      <td>0.019806</td>\n",
       "      <td>0.595021</td>\n",
       "    </tr>\n",
       "    <tr>\n",
       "      <th>std</th>\n",
       "      <td>6.594817</td>\n",
       "      <td>0.211214</td>\n",
       "      <td>0.345573</td>\n",
       "      <td>0.211214</td>\n",
       "      <td>1.168431</td>\n",
       "      <td>0.074640</td>\n",
       "      <td>0.479497</td>\n",
       "    </tr>\n",
       "    <tr>\n",
       "      <th>min</th>\n",
       "      <td>2.000000</td>\n",
       "      <td>0.066667</td>\n",
       "      <td>1.000000</td>\n",
       "      <td>0.090909</td>\n",
       "      <td>1.000000</td>\n",
       "      <td>0.000000</td>\n",
       "      <td>0.000000</td>\n",
       "    </tr>\n",
       "    <tr>\n",
       "      <th>25%</th>\n",
       "      <td>4.000000</td>\n",
       "      <td>0.250000</td>\n",
       "      <td>1.000000</td>\n",
       "      <td>0.428571</td>\n",
       "      <td>1.000000</td>\n",
       "      <td>0.000000</td>\n",
       "      <td>0.000000</td>\n",
       "    </tr>\n",
       "    <tr>\n",
       "      <th>50%</th>\n",
       "      <td>7.000000</td>\n",
       "      <td>0.428571</td>\n",
       "      <td>1.000000</td>\n",
       "      <td>0.571429</td>\n",
       "      <td>1.400000</td>\n",
       "      <td>0.000000</td>\n",
       "      <td>1.000000</td>\n",
       "    </tr>\n",
       "    <tr>\n",
       "      <th>75%</th>\n",
       "      <td>11.000000</td>\n",
       "      <td>0.571429</td>\n",
       "      <td>1.000000</td>\n",
       "      <td>0.750000</td>\n",
       "      <td>2.050000</td>\n",
       "      <td>0.000000</td>\n",
       "      <td>1.000000</td>\n",
       "    </tr>\n",
       "    <tr>\n",
       "      <th>max</th>\n",
       "      <td>46.000000</td>\n",
       "      <td>0.909091</td>\n",
       "      <td>6.000000</td>\n",
       "      <td>0.933333</td>\n",
       "      <td>7.000000</td>\n",
       "      <td>1.000000</td>\n",
       "      <td>1.000000</td>\n",
       "    </tr>\n",
       "  </tbody>\n",
       "</table>\n",
       "</div>"
      ]
     },
     "execution_count": 28,
     "metadata": {},
     "output_type": "execute_result"
    }
   ],
   "execution_count": 28
  },
  {
   "metadata": {},
   "cell_type": "markdown",
   "source": [
    "### IMPORTANTE\n",
    "El 52% tienen un 0% y el 15% tienen un 100%."
   ],
   "id": "b84088814a3100d6"
  },
  {
   "metadata": {},
   "cell_type": "markdown",
   "source": [
    "### Variable local_imports_pct (7/7)\n",
    "Esta variable representa la proporción de imports no escritos al comienzo del fichero. Como vimos en la descripción de la tabla esta varibale adopta valores en el rango 0.0 - 1.0. Con una media de 0.46. "
   ],
   "id": "e3d532376a1f0a16"
  },
  {
   "metadata": {
    "ExecuteTime": {
     "end_time": "2024-05-29T09:01:15.089265Z",
     "start_time": "2024-05-29T09:01:14.759754Z"
    }
   },
   "cell_type": "code",
   "source": "sns.displot(X['import__local_imports_pct'], bins=[i / 100 for i in range(0, 101)])",
   "id": "345260364ebc3bf6",
   "outputs": [
    {
     "data": {
      "text/plain": [
       "<seaborn.axisgrid.FacetGrid at 0x13f6540e990>"
      ]
     },
     "execution_count": 29,
     "metadata": {},
     "output_type": "execute_result"
    },
    {
     "data": {
      "text/plain": [
       "<Figure size 500x500 with 1 Axes>"
      ],
      "image/png": "[encoded data removed]"
     },
     "metadata": {},
     "output_type": "display_data"
    }
   ],
   "execution_count": 29
  },
  {
   "metadata": {
    "ExecuteTime": {
     "end_time": "2024-05-29T09:01:15.097635Z",
     "start_time": "2024-05-29T09:01:15.089821Z"
    }
   },
   "cell_type": "code",
   "source": "print_outliers_for_df_column(X, 'import__local_imports_pct')",
   "id": "974c59b1f655d0f3",
   "outputs": [
    {
     "name": "stdout",
     "output_type": "stream",
     "text": [
      "El coeficiente MC (Medcouple Coefficient) de balanceo es: 0.03826946020126343\n",
      "Rango valores atípicos extremos (Tukey): [-3.0,4.0]\n",
      "Rango valores atípicos leves (Tukey): [-1.5,2.5]\n",
      "Rango valores atípicos extremos (Fixed BoxPlot): [-1.3119597312469706,2.748123538461704]\n",
      "-3.0IQR: 0 instancias tienen un valor para import__local_imports_pct inferior a -3.0 (Q1-3*IQR) para import__local_imports_pct. Representando un 0.0% del total de instancias.\n",
      "-1.5IQR: 0 instancias tienen un valor para import__local_imports_pct inferior a -1.5 (Q1-1.5*IQR) para import__local_imports_pct. Representando un 0.0% del total de instancias.\n",
      "+1.5IQR: 0 instancias tienen un valor para import__local_imports_pct superior a 2.5 (Q3+1.5*IQR) para import__local_imports_pct. Representando un 0.0% del total de instancias.\n",
      "+3.0IQR: 0 instancias tienen un valor para import__local_imports_pct superior a 4.0 (Q3-3*IQR) para import__local_imports_pct. Representando un 0.0% del total de instancias.\n",
      "L: 0 instancias tienen un valor para import__local_imports_pct inferior a -1.3119597312469706 para import__local_imports_pct. Representando un 0.0% del total de instancias.\n",
      "U: 0 instancias tienen un valor para import__local_imports_pct superior a 2.748123538461704 para import__local_imports_pct. Representando un 0.0% del total de instancias.\n"
     ]
    }
   ],
   "execution_count": 30
  },
  {
   "metadata": {},
   "cell_type": "markdown",
   "source": "IMPORTANTE: Estos valores siguen un distribucion en forma de U (distribucion de Laplace). Con lo que los posibles valores outliers estan en el medio, no en los extremos. No se puede aplicar el metodo de tukey. En este momento, solo vamos a mostrar los valores que hay en el medio.",
   "id": "edf865eda2133801"
  },
  {
   "metadata": {
    "ExecuteTime": {
     "end_time": "2024-05-29T09:01:15.119178Z",
     "start_time": "2024-05-29T09:01:15.098654Z"
    }
   },
   "cell_type": "code",
   "source": "X[(X['import__local_imports_pct'] < 1.0) & X['import__local_imports_pct'] > 0.0].describe(percentiles=[.25, .50, .75], include = ['object', 'float', 'bool', 'int'])",
   "id": "fd3d31b12264e45",
   "outputs": [
    {
     "data": {
      "text/plain": [
       "       import__number_imports  import__module_imports_pct  \\\n",
       "count              132.000000                  132.000000   \n",
       "mean                11.651515                    0.461776   \n",
       "std                  7.788212                    0.265143   \n",
       "min                  3.000000                    0.000000   \n",
       "25%                  7.000000                    0.285714   \n",
       "50%                  9.000000                    0.447619   \n",
       "75%                 14.000000                    0.705882   \n",
       "max                 34.000000                    1.000000   \n",
       "\n",
       "       import__average_imported_modules  import__from_imports_pct  \\\n",
       "count                        132.000000                132.000000   \n",
       "mean                           0.909091                  0.538224   \n",
       "std                            0.288575                  0.265143   \n",
       "min                            0.000000                  0.000000   \n",
       "25%                            1.000000                  0.294118   \n",
       "50%                            1.000000                  0.552381   \n",
       "75%                            1.000000                  0.714286   \n",
       "max                            1.000000                  1.000000   \n",
       "\n",
       "       import__average_from_imported_modules  \\\n",
       "count                             132.000000   \n",
       "mean                                1.987753   \n",
       "std                                 1.192392   \n",
       "min                                 0.000000   \n",
       "25%                                 1.166667   \n",
       "50%                                 1.500000   \n",
       "75%                                 2.250000   \n",
       "max                                 6.000000   \n",
       "\n",
       "       import__average_as_in_imported_modules  import__local_imports_pct  \n",
       "count                              132.000000                 132.000000  \n",
       "mean                                 0.045545                   0.491805  \n",
       "std                                  0.065466                   0.219653  \n",
       "min                                  0.000000                   0.142857  \n",
       "25%                                  0.000000                   0.285714  \n",
       "50%                                  0.000000                   0.500000  \n",
       "75%                                  0.100000                   0.666667  \n",
       "max                                  0.222222                   0.875000  "
      ],
      "text/html": [
       "<div>\n",
       "<style scoped>\n",
       "    .dataframe tbody tr th:only-of-type {\n",
       "        vertical-align: middle;\n",
       "    }\n",
       "\n",
       "    .dataframe tbody tr th {\n",
       "        vertical-align: top;\n",
       "    }\n",
       "\n",
       "    .dataframe thead th {\n",
       "        text-align: right;\n",
       "    }\n",
       "</style>\n",
       "<table border=\"1\" class=\"dataframe\">\n",
       "  <thead>\n",
       "    <tr style=\"text-align: right;\">\n",
       "      <th></th>\n",
       "      <th>import__number_imports</th>\n",
       "      <th>import__module_imports_pct</th>\n",
       "      <th>import__average_imported_modules</th>\n",
       "      <th>import__from_imports_pct</th>\n",
       "      <th>import__average_from_imported_modules</th>\n",
       "      <th>import__average_as_in_imported_modules</th>\n",
       "      <th>import__local_imports_pct</th>\n",
       "    </tr>\n",
       "  </thead>\n",
       "  <tbody>\n",
       "    <tr>\n",
       "      <th>count</th>\n",
       "      <td>132.000000</td>\n",
       "      <td>132.000000</td>\n",
       "      <td>132.000000</td>\n",
       "      <td>132.000000</td>\n",
       "      <td>132.000000</td>\n",
       "      <td>132.000000</td>\n",
       "      <td>132.000000</td>\n",
       "    </tr>\n",
       "    <tr>\n",
       "      <th>mean</th>\n",
       "      <td>11.651515</td>\n",
       "      <td>0.461776</td>\n",
       "      <td>0.909091</td>\n",
       "      <td>0.538224</td>\n",
       "      <td>1.987753</td>\n",
       "      <td>0.045545</td>\n",
       "      <td>0.491805</td>\n",
       "    </tr>\n",
       "    <tr>\n",
       "      <th>std</th>\n",
       "      <td>7.788212</td>\n",
       "      <td>0.265143</td>\n",
       "      <td>0.288575</td>\n",
       "      <td>0.265143</td>\n",
       "      <td>1.192392</td>\n",
       "      <td>0.065466</td>\n",
       "      <td>0.219653</td>\n",
       "    </tr>\n",
       "    <tr>\n",
       "      <th>min</th>\n",
       "      <td>3.000000</td>\n",
       "      <td>0.000000</td>\n",
       "      <td>0.000000</td>\n",
       "      <td>0.000000</td>\n",
       "      <td>0.000000</td>\n",
       "      <td>0.000000</td>\n",
       "      <td>0.142857</td>\n",
       "    </tr>\n",
       "    <tr>\n",
       "      <th>25%</th>\n",
       "      <td>7.000000</td>\n",
       "      <td>0.285714</td>\n",
       "      <td>1.000000</td>\n",
       "      <td>0.294118</td>\n",
       "      <td>1.166667</td>\n",
       "      <td>0.000000</td>\n",
       "      <td>0.285714</td>\n",
       "    </tr>\n",
       "    <tr>\n",
       "      <th>50%</th>\n",
       "      <td>9.000000</td>\n",
       "      <td>0.447619</td>\n",
       "      <td>1.000000</td>\n",
       "      <td>0.552381</td>\n",
       "      <td>1.500000</td>\n",
       "      <td>0.000000</td>\n",
       "      <td>0.500000</td>\n",
       "    </tr>\n",
       "    <tr>\n",
       "      <th>75%</th>\n",
       "      <td>14.000000</td>\n",
       "      <td>0.705882</td>\n",
       "      <td>1.000000</td>\n",
       "      <td>0.714286</td>\n",
       "      <td>2.250000</td>\n",
       "      <td>0.100000</td>\n",
       "      <td>0.666667</td>\n",
       "    </tr>\n",
       "    <tr>\n",
       "      <th>max</th>\n",
       "      <td>34.000000</td>\n",
       "      <td>1.000000</td>\n",
       "      <td>1.000000</td>\n",
       "      <td>1.000000</td>\n",
       "      <td>6.000000</td>\n",
       "      <td>0.222222</td>\n",
       "      <td>0.875000</td>\n",
       "    </tr>\n",
       "  </tbody>\n",
       "</table>\n",
       "</div>"
      ]
     },
     "execution_count": 31,
     "metadata": {},
     "output_type": "execute_result"
    }
   ],
   "execution_count": 31
  },
  {
   "metadata": {},
   "cell_type": "markdown",
   "source": [
    "### IMPORTANTE\n",
    "El 52% tienen un 0% y el 46% tienen un 100%."
   ],
   "id": "be9f5d1d8d65c88a"
  },
  {
   "cell_type": "markdown",
   "id": "a63c33a981202cfe",
   "metadata": {
    "collapsed": false
   },
   "source": [
    "## Multivariate\n",
    "\n",
    "TODO: isolation forest algorithm"
   ]
  },
  {
   "cell_type": "code",
   "id": "51448304c36d916e",
   "metadata": {
    "collapsed": false,
    "ExecuteTime": {
     "end_time": "2024-05-29T09:01:15.611135Z",
     "start_time": "2024-05-29T09:01:15.119691Z"
    }
   },
   "source": [
    "from sklearn.ensemble import  IsolationForest\n",
    "\n",
    "CONTAMINATION_FACTOR = 0.0012\n",
    "isof_model = IsolationForest(contamination=CONTAMINATION_FACTOR, random_state=0)\n",
    "isof_prediction = isof_model.fit_predict(X.values)\n",
    "mask = isof_prediction == -1\n",
    "full_table.loc[X.index[mask]]"
   ],
   "outputs": [
    {
     "data": {
      "text/plain": [
       "      import__number_imports  import__module_imports_pct  \\\n",
       "442                       31                    0.806452   \n",
       "2044                       4                    0.250000   \n",
       "2085                       4                    0.250000   \n",
       "2156                       4                    0.250000   \n",
       "4282                      31                    0.806452   \n",
       "4834                      31                    0.806452   \n",
       "5539                      31                    0.806452   \n",
       "6201                      31                    0.806452   \n",
       "6827                      31                    0.806452   \n",
       "\n",
       "      import__average_imported_modules  import__from_imports_pct  \\\n",
       "442                                1.0                  0.193548   \n",
       "2044                               3.0                  0.750000   \n",
       "2085                               3.0                  0.750000   \n",
       "2156                               3.0                  0.750000   \n",
       "4282                               1.0                  0.193548   \n",
       "4834                               1.0                  0.193548   \n",
       "5539                               1.0                  0.193548   \n",
       "6201                               1.0                  0.193548   \n",
       "6827                               1.0                  0.193548   \n",
       "\n",
       "      import__average_from_imported_modules  \\\n",
       "442                                1.166667   \n",
       "2044                               1.000000   \n",
       "2085                               1.000000   \n",
       "2156                               1.000000   \n",
       "4282                               1.166667   \n",
       "4834                               1.166667   \n",
       "5539                               1.166667   \n",
       "6201                               1.166667   \n",
       "6827                               1.166667   \n",
       "\n",
       "      import__average_as_in_imported_modules  import__local_imports_pct  \\\n",
       "442                                 0.142857                    0.16129   \n",
       "2044                                0.666667                    0.00000   \n",
       "2085                                0.666667                    0.00000   \n",
       "2156                                0.666667                    0.00000   \n",
       "4282                                0.142857                    0.16129   \n",
       "4834                                0.142857                    0.16129   \n",
       "5539                                0.142857                    0.16129   \n",
       "6201                                0.142857                    0.16129   \n",
       "6827                                0.142857                    0.16129   \n",
       "\n",
       "     import__expertise_level  \n",
       "442                 BEGINNER  \n",
       "2044                BEGINNER  \n",
       "2085                BEGINNER  \n",
       "2156                BEGINNER  \n",
       "4282                BEGINNER  \n",
       "4834                BEGINNER  \n",
       "5539                BEGINNER  \n",
       "6201                BEGINNER  \n",
       "6827                BEGINNER  "
      ],
      "text/html": [
       "<div>\n",
       "<style scoped>\n",
       "    .dataframe tbody tr th:only-of-type {\n",
       "        vertical-align: middle;\n",
       "    }\n",
       "\n",
       "    .dataframe tbody tr th {\n",
       "        vertical-align: top;\n",
       "    }\n",
       "\n",
       "    .dataframe thead th {\n",
       "        text-align: right;\n",
       "    }\n",
       "</style>\n",
       "<table border=\"1\" class=\"dataframe\">\n",
       "  <thead>\n",
       "    <tr style=\"text-align: right;\">\n",
       "      <th></th>\n",
       "      <th>import__number_imports</th>\n",
       "      <th>import__module_imports_pct</th>\n",
       "      <th>import__average_imported_modules</th>\n",
       "      <th>import__from_imports_pct</th>\n",
       "      <th>import__average_from_imported_modules</th>\n",
       "      <th>import__average_as_in_imported_modules</th>\n",
       "      <th>import__local_imports_pct</th>\n",
       "      <th>import__expertise_level</th>\n",
       "    </tr>\n",
       "  </thead>\n",
       "  <tbody>\n",
       "    <tr>\n",
       "      <th>442</th>\n",
       "      <td>31</td>\n",
       "      <td>0.806452</td>\n",
       "      <td>1.0</td>\n",
       "      <td>0.193548</td>\n",
       "      <td>1.166667</td>\n",
       "      <td>0.142857</td>\n",
       "      <td>0.16129</td>\n",
       "      <td>BEGINNER</td>\n",
       "    </tr>\n",
       "    <tr>\n",
       "      <th>2044</th>\n",
       "      <td>4</td>\n",
       "      <td>0.250000</td>\n",
       "      <td>3.0</td>\n",
       "      <td>0.750000</td>\n",
       "      <td>1.000000</td>\n",
       "      <td>0.666667</td>\n",
       "      <td>0.00000</td>\n",
       "      <td>BEGINNER</td>\n",
       "    </tr>\n",
       "    <tr>\n",
       "      <th>2085</th>\n",
       "      <td>4</td>\n",
       "      <td>0.250000</td>\n",
       "      <td>3.0</td>\n",
       "      <td>0.750000</td>\n",
       "      <td>1.000000</td>\n",
       "      <td>0.666667</td>\n",
       "      <td>0.00000</td>\n",
       "      <td>BEGINNER</td>\n",
       "    </tr>\n",
       "    <tr>\n",
       "      <th>2156</th>\n",
       "      <td>4</td>\n",
       "      <td>0.250000</td>\n",
       "      <td>3.0</td>\n",
       "      <td>0.750000</td>\n",
       "      <td>1.000000</td>\n",
       "      <td>0.666667</td>\n",
       "      <td>0.00000</td>\n",
       "      <td>BEGINNER</td>\n",
       "    </tr>\n",
       "    <tr>\n",
       "      <th>4282</th>\n",
       "      <td>31</td>\n",
       "      <td>0.806452</td>\n",
       "      <td>1.0</td>\n",
       "      <td>0.193548</td>\n",
       "      <td>1.166667</td>\n",
       "      <td>0.142857</td>\n",
       "      <td>0.16129</td>\n",
       "      <td>BEGINNER</td>\n",
       "    </tr>\n",
       "    <tr>\n",
       "      <th>4834</th>\n",
       "      <td>31</td>\n",
       "      <td>0.806452</td>\n",
       "      <td>1.0</td>\n",
       "      <td>0.193548</td>\n",
       "      <td>1.166667</td>\n",
       "      <td>0.142857</td>\n",
       "      <td>0.16129</td>\n",
       "      <td>BEGINNER</td>\n",
       "    </tr>\n",
       "    <tr>\n",
       "      <th>5539</th>\n",
       "      <td>31</td>\n",
       "      <td>0.806452</td>\n",
       "      <td>1.0</td>\n",
       "      <td>0.193548</td>\n",
       "      <td>1.166667</td>\n",
       "      <td>0.142857</td>\n",
       "      <td>0.16129</td>\n",
       "      <td>BEGINNER</td>\n",
       "    </tr>\n",
       "    <tr>\n",
       "      <th>6201</th>\n",
       "      <td>31</td>\n",
       "      <td>0.806452</td>\n",
       "      <td>1.0</td>\n",
       "      <td>0.193548</td>\n",
       "      <td>1.166667</td>\n",
       "      <td>0.142857</td>\n",
       "      <td>0.16129</td>\n",
       "      <td>BEGINNER</td>\n",
       "    </tr>\n",
       "    <tr>\n",
       "      <th>6827</th>\n",
       "      <td>31</td>\n",
       "      <td>0.806452</td>\n",
       "      <td>1.0</td>\n",
       "      <td>0.193548</td>\n",
       "      <td>1.166667</td>\n",
       "      <td>0.142857</td>\n",
       "      <td>0.16129</td>\n",
       "      <td>BEGINNER</td>\n",
       "    </tr>\n",
       "  </tbody>\n",
       "</table>\n",
       "</div>"
      ]
     },
     "execution_count": 32,
     "metadata": {},
     "output_type": "execute_result"
    }
   ],
   "execution_count": 32
  },
  {
   "metadata": {},
   "cell_type": "markdown",
   "source": [
    "### IMPORTANTE\n",
    "Revisar las 9 identificadas como outliers."
   ],
   "id": "fc481c479fdf13fd"
  }
 ],
 "metadata": {
  "kernelspec": {
   "display_name": "Python 3 (ipykernel)",
   "language": "python",
   "name": "python3"
  },
  "language_info": {
   "codemirror_mode": {
    "name": "ipython",
    "version": 3
   },
   "file_extension": ".py",
   "mimetype": "text/x-python",
   "name": "python",
   "nbconvert_exporter": "python",
   "pygments_lexer": "ipython3",
   "version": "3.12.2"
  },
  "toc-autonumbering": true,
  "toc-showcode": false,
  "toc-showmarkdowntxt": false,
  "toc-showtags": false
 },
 "nbformat": 4,
 "nbformat_minor": 5
}
