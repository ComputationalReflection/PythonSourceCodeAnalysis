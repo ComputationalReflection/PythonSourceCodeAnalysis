{
 "cells": [
  {
   "metadata": {},
   "cell_type": "markdown",
   "source": [
    "# Function defs EXPERT\n",
    "\n",
    "Esta tabla contiene la información de las definiciones de funciones EXPERT.  --> ABEL COMPLETAR <--"
   ],
   "id": "148ae8871134f924"
  },
  {
   "metadata": {},
   "cell_type": "markdown",
   "source": "## 1 - Obtencion de datos",
   "id": "d3c24a719032807f"
  },
  {
   "metadata": {
    "ExecuteTime": {
     "end_time": "2024-05-13T08:13:36.147263Z",
     "start_time": "2024-05-13T08:13:36.007551Z"
    }
   },
   "cell_type": "code",
   "source": [
    "import matplotlib.pyplot as plt\n",
    "from notebooks_utils import *\n",
    "\n",
    "TARGET_FEATURE = 'functiondef__expertise_level'\n",
    "TARGET_CLASS = 'EXPERT'\n",
    "full_table = get_data('functiondefs')\n",
    "\n",
    "instances_for_class_low = len(full_table[full_table[TARGET_FEATURE] == \"BEGINNER\"])\n",
    "instances_for_class_high = len(full_table[full_table[TARGET_FEATURE] == \"EXPERT\"])\n",
    "\n",
    "print(f\"The dataset contains {instances_for_class_low} ({instances_for_class_low/len(full_table)*100:.4}%) instances for BEGINNER class and {instances_for_class_high} ({instances_for_class_high/len(full_table)*100:.4}%) for EXPERT class.\")"
   ],
   "id": "c13e138ef869ff9b",
   "execution_count": 2,
   "outputs": []
  },
  {
   "metadata": {
    "ExecuteTime": {
     "end_time": "2024-05-12T17:39:00.701525Z",
     "start_time": "2024-05-12T17:39:00.639488Z"
    }
   },
   "cell_type": "code",
   "source": [
    "full_table = full_table[full_table[TARGET_FEATURE] == TARGET_CLASS]\n",
    "\n",
    "# Table name, features and target.\n",
    "TABLE_NAME = 'functiondefs'\n",
    "TABLE_FEATURES = ['functiondef__name_convention', 'functiondef__number_of_characters', 'functiondef__is_magic', 'functiondef__is_private', 'functiondef__body_count', 'functiondef__expressions_pct', 'functiondef__is_async', 'functiondef__number_of_decorators', 'functiondef__has_return_type_annotation', 'functiondef__has_doc_string', 'functiondef__height', 'functiondef__type_annotations_pct']\n",
    "\n",
    "# Load features and target.\n",
    "X = full_table[TABLE_FEATURES]\n",
    "\n",
    "# Print information about the loaded table.\n",
    "print(f'Features shape: {X.shape}')\n",
    "\n",
    "print(f'As we can see the downloaded data contains a total of {X.shape[0]} instances. Each of the instances corresponds to a program. For each program we have {X.shape[1]} attributes.')"
   ],
   "id": "9f0a949e91eb384b",
   "execution_count": 21,
   "outputs": []
  },
  {
   "metadata": {},
   "cell_type": "markdown",
   "source": [
    "## 2 - Exploracion de datos\n",
    "\n",
    "Una vez tenemos nuestra tabla en un dataframe el siguiente paso es explorarla para ver qué tipo de información contiene."
   ],
   "id": "bcda7cb784bf0a1"
  },
  {
   "metadata": {
    "ExecuteTime": {
     "end_time": "2024-05-12T17:21:11.066607Z",
     "start_time": "2024-05-12T17:21:11.006335Z"
    }
   },
   "cell_type": "code",
   "source": "print(X.info())",
   "id": "2eb3d09993235bcb",
   "execution_count": 2,
   "outputs": []
  },
  {
   "metadata": {},
   "cell_type": "markdown",
   "source": "Cómo podemos ver la tabla está compuesta por 6 variables numéricas, 5 variables boleanas y dos de tipo objeto. Las dos últimas variables son la etiqueta de la instancia y el name convention. Sin embargo, en algunas ocasiones estas últimas clases no las vamos a utilizar. Por ejemplo, si queremos obtener clusters por medio de aprendizaje no supervisado.",
   "id": "24f7607501c2e574"
  },
  {
   "metadata": {},
   "cell_type": "markdown",
   "source": [
    "### 2.1 - Duplicados\n",
    "Miramos si la tabla tiene entradas duplicadas."
   ],
   "id": "3b9b55798c7ecbd5"
  },
  {
   "metadata": {
    "ExecuteTime": {
     "end_time": "2024-05-12T17:39:22.183750Z",
     "start_time": "2024-05-12T17:39:22.092702Z"
    }
   },
   "cell_type": "code",
   "source": [
    "number_of_duplicated_entries = sum(full_table.duplicated(subset=TABLE_FEATURES))\n",
    "duplicated_entries_pct = number_of_duplicated_entries / len(full_table) * 100\n",
    "print(f\"The dataset contains [{duplicated_entries_pct:.4}%] of duplicated entries.\")"
   ],
   "id": "ed5e6830bbf484a6",
   "execution_count": 23,
   "outputs": []
  },
  {
   "metadata": {},
   "cell_type": "markdown",
   "source": [
    "### 2.3 - Valores Nulos \n",
    "Miramos si alguna de las variables que contiene la tabla contiene algún valor que sea nulo."
   ],
   "id": "63d4e4ed1d8d2c6c"
  },
  {
   "metadata": {
    "ExecuteTime": {
     "end_time": "2024-05-12T17:39:27.755101Z",
     "start_time": "2024-05-12T17:39:27.731720Z"
    }
   },
   "cell_type": "code",
   "source": "X.isnull().sum()",
   "id": "6c991380e6e0413e",
   "execution_count": 24,
   "outputs": []
  },
  {
   "metadata": {
    "ExecuteTime": {
     "end_time": "2024-05-12T17:39:30.829648Z",
     "start_time": "2024-05-12T17:39:30.797152Z"
    }
   },
   "cell_type": "code",
   "source": "print_empty_cols(X)",
   "id": "18b2dfadf1719a4b",
   "execution_count": 25,
   "outputs": []
  },
  {
   "metadata": {},
   "cell_type": "markdown",
   "source": "### 2.4 - Describimos los valores de las variables de la tabla.",
   "id": "5bb94c0f81c08024"
  },
  {
   "metadata": {
    "ExecuteTime": {
     "end_time": "2024-05-12T17:39:34.163582Z",
     "start_time": "2024-05-12T17:39:34.033659Z"
    }
   },
   "cell_type": "code",
   "source": "np.transpose(X.describe(percentiles=[.25, .50, .75], include = ['object', 'float', 'bool', 'int']))",
   "id": "74bba302a29fbfd5",
   "execution_count": 26,
   "outputs": []
  },
  {
   "metadata": {},
   "cell_type": "markdown",
   "source": "Vamos a discretizar las variables numericas, agrupando conjuntos de valores en categorias, para hacer un análisis de los datos. Para cada variable es necesario ver la distribucion de lo valores para hacer los bins (categorias).",
   "id": "9af3eb59b924a596"
  },
  {
   "metadata": {
    "ExecuteTime": {
     "end_time": "2024-05-12T17:40:29.010528Z",
     "start_time": "2024-05-12T17:40:26.903442Z"
    }
   },
   "cell_type": "code",
   "source": [
    "# DISCRETIZATION\n",
    "X_copy = X.copy()\n",
    "\n",
    "discretized_columns = {\n",
    "    \"functiondef__expressions_pct\": [(0.0, 0.0), (0.0, 0.125), (0.125, 0.33), (0.33, inf)], # min: 0 ; max: 1\n",
    "    \"functiondef__number_of_decorators\": [(0.0, 0.0), (0.0, inf)], # min: 0 ; max: 46\n",
    "    \"functiondef__type_annotations_pct\": [(0.0, 0.0), (0.0, 0.5), (0.5, inf)], # min: 0 ; max: 1\n",
    "    \"functiondef__number_of_characters\": [(1.0, 8.0), (8.0, 12), (12, 18), (18, inf)], # min: 1 ; max: 87\n",
    "    \"functiondef__body_count\": [(1.0, 1.0), (1.0, 3.0), (3.0, 5.0), (5.0, inf)], # min: 1 ; max: 364\n",
    "    \"functiondef__height\": [(1.0, 1.0), (1.0, 1.9), (2.0, 2.0), (2.0, inf)], # min: 1 ; max: 10\n",
    "}\n",
    "\n",
    "discretize_columns(X_copy, discretized_columns)\n",
    "    \n",
    "# SINGLE FEATURE\n",
    "print(\"--- SINGLE FEATURE ---\")\n",
    "print(get_statistics(X_copy, ['functiondef__expressions_pct'], 10))\n",
    "print(get_statistics(X_copy, ['functiondef__number_of_decorators'], 10))\n",
    "print(get_statistics(X_copy, ['functiondef__type_annotations_pct'], 10))\n",
    "print(get_statistics(X_copy, ['functiondef__number_of_characters'], 10))\n",
    "print(get_statistics(X_copy, ['functiondef__body_count'], 10))\n",
    "print(get_statistics(X_copy, ['functiondef__height'], 10))\n",
    "#print(get_statistics(X_copy, ['functiondef__name_convention'], 10))\n",
    "print(get_statistics(X_copy, ['functiondef__is_private'], 10))\n",
    "print(get_statistics(X_copy, ['functiondef__is_magic'], 10))\n",
    "print(get_statistics(X_copy, ['functiondef__is_async'], 10))\n",
    "print(get_statistics(X_copy, ['functiondef__has_return_type_annotation'], 10))\n",
    "print(get_statistics(X_copy, ['functiondef__has_doc_string'], 10))\n",
    "\n",
    "# 2 FEATURES\n",
    "print(\"--- TWO FEATURES ---\")\n",
    "print(get_statistics(X_copy, ['functiondef__number_of_characters', 'functiondef__name_convention_SnakeCase'], 10))\n",
    "print(get_statistics(X_copy, ['functiondef__number_of_characters', 'functiondef__name_convention_Lower'], 10))\n",
    "\n",
    "# 3 FEATURES\n",
    "print(\"--- THREE FEATURES ---\")\n",
    "#print(get_statistics(X_copy, ['module__class_defs_pct', 'module__function_defs_pct', 'module__enum_defs_pct'], 10))"
   ],
   "id": "6baf20dd3e3ca759",
   "execution_count": 27,
   "outputs": []
  },
  {
   "metadata": {},
   "cell_type": "markdown",
   "source": "Hay que corregir el doc_string. SnakeCase tiende a tener nombres muy largos. Lower tiende a tener nombres muy cortos.",
   "id": "a6248023c8b8c101"
  },
  {
   "metadata": {
    "ExecuteTime": {
     "end_time": "2024-05-12T17:40:35.858393Z",
     "start_time": "2024-05-12T17:40:35.732706Z"
    }
   },
   "cell_type": "code",
   "source": [
    "def normalize_datatypes(X:pd.DataFrame) -> (pd.DataFrame, [str]):\n",
    "    X = pd.get_dummies(X)\n",
    "    X = X.astype('float32')        \n",
    "    columns_names = X.columns.tolist()\n",
    "    return X, columns_names\n",
    "\n",
    "X, TABLE_FEATURES = normalize_datatypes(X)\n",
    "# Print information about the loaded table\n",
    "print(f'Features shape: {X.shape}')"
   ],
   "id": "5084c89dcb377a92",
   "execution_count": 28,
   "outputs": []
  },
  {
   "metadata": {},
   "cell_type": "markdown",
   "source": "#### Muestra la matriz de correlación de pearson entre las variables de la tabla.",
   "id": "ed8befe21328a079"
  },
  {
   "metadata": {
    "ExecuteTime": {
     "end_time": "2024-05-12T17:40:40.656137Z",
     "start_time": "2024-05-12T17:40:39.586555Z"
    }
   },
   "cell_type": "code",
   "source": "sns.heatmap(X.corr(), annot=False)",
   "id": "dea960d18d682104",
   "execution_count": 29,
   "outputs": []
  },
  {
   "metadata": {},
   "cell_type": "markdown",
   "source": "La relación entre private y magic methods pct es debido a que hasta ahora siempre que un metodo era magic se marcaba como privado tambien",
   "id": "8a38e480df2a603a"
  },
  {
   "metadata": {},
   "cell_type": "markdown",
   "source": [
    "## 3 - Detección de valores atípicos (outliers)\n",
    "Una vez sabemos qué datos contiene la tabla, analizaremos los valores que toma cada una de las variables de cada instancia. El objetivo es identificar posibles valores atípicos que nos dificulten la realización de futuras tareas. \n",
    "Tras su análisis, se puede concluir que un valor:\n",
    "    - **Es erróneo**. En este caso hay que tomar una decisión para cada caso, siendo los tratamientos más extendidos son listwise, pairwise, drop variables, mean/median imputation, most frequent, separate category, zero imputation, cold deck, hot deck,(stochastic) regression, k-NN and multiple imputation. Los resultados de imputación regresiva, k-NN y múltiple dan buenos resultados, aunque, como se ha indicado, es necesario el estudio en cada caso.\n",
    "    - **Es correcto, pero anómalo**. Se documenta su existencia para su posible discusión y se mantiene en el dataset. En estos casos se hace necesaria la utilización de algoritmos y estadísticos que no sean muy sensibles a dichos valores anómalos.\n",
    "\n",
    "## Univariate\n",
    "Para cada uno de los atributos se debe realizar un análisis y detección de valores atípicos, estudiando su posible causa. \n",
    "Existen diversas formas de calcular los valores anómalos. \n",
    "\n",
    "### Variables numéricas\n",
    "Para las variables numéricas, se suele identificar: \n",
    "    - a) Valor atípico leve es el que está fuera de $[Q1 - 1.5IQR, Q3 + 1.5IQR]$, donde $IQR = Q3-Q1$.\n",
    "    - b) Valor atípico extremo está fuera de $[Q1 - 3IQR, Q3 + 3IQR]$.\n",
    "\n",
    "La idea es probar con a) y si hay pocas instancias analizarlas. Si hubiese muchas, mirar b) y analizar si fuesen pocas. No hay un algoritmo o método estipulado, puesto que depende del dominio del problema y de los datos.\n",
    "\n",
    "Los límites de Tukey se basan en los cuartiles de los datos y son sensibles a la presencia de sesgo en la distribución. Cuando hay asimetría en los datos, los límites de Tukey pueden no ser tan efectivos para identificar outliers de manera equitativa en ambos extremos de la distribución. El Coeficiente de Medcouple es útil para identificar la asimetría en los datos, especialmente en presencia de valores atípicos o sesgados. Es una medida robusta porque no se ve tan afectada por valores extremos como la media y la desviación estándar. El MC puede proporcionar información adicional sobre la asimetría de la distribución, lo que te permite ajustar los límites de Tukey de manera más apropiada para tu conjunto de datos específico. Una posible variacion de los límites de Tukey teniendo en cuenta MC podria ser: \n",
    "   - Si MC es mayor que 0 (asimetría hacia la derecha):\n",
    "      - low = (q1-1.5 * math.exp(-4*mc) * iqr)\n",
    "      - high = (q3+1.5 * math.exp(3.5*mc) * iqr)\n",
    "   - Si la asimetriza es hacia la izquierda:    \n",
    "      - low = (q1-1.5 * math.exp(-3.5*mc) * iqr)\n",
    "      - high = (q3+1.5 * math.exp(4*mc) * iqr)\n",
    "\n",
    "\n",
    "### Variables categóricas\n",
    "Para las variables categóricas no existe el concepto de valor anómalo, pero sí se puede considerar en base a un análisis de frecuencia. Por ejemplo, que el uso de una categoría sea residual, pudiendo tener un 0.1% de instancias en el dataset. Para detectar estos valores, se puede fijar un valor mínimo de frecuencia en función del número posible de valores de la variable categórica (2 en el caso de una variable booleana). Por ejemplo, un umbral de $\\frac{0.2\\%}{valores}$ (0.1% en el caso de una variable booleana)"
   ],
   "id": "599c97eec7b7d283"
  },
  {
   "metadata": {},
   "cell_type": "markdown",
   "source": [
    "## Analisis detallado de variables\n",
    "Para cada una de las 10 variable (3 booleanas, 4 porcentuales y 3 numericas) se hara un analisis detallado "
   ],
   "id": "132c8742057275c"
  },
  {
   "metadata": {},
   "cell_type": "markdown",
   "source": [
    "### Variable is_private (1/11)\n",
    "Esta variable es de tipo booleano y representa si la función es privada."
   ],
   "id": "6abba739e46da213"
  },
  {
   "metadata": {
    "ExecuteTime": {
     "end_time": "2024-05-12T17:36:08.512128Z",
     "start_time": "2024-05-12T17:36:08.239942Z"
    }
   },
   "cell_type": "code",
   "source": [
    "plt.xticks([0, 1], ['False', 'True'])\n",
    "sns.histplot(X['functiondef__is_private'], discrete=True)"
   ],
   "id": "4ab35b2ef94a3379",
   "execution_count": 14,
   "outputs": []
  },
  {
   "metadata": {
    "ExecuteTime": {
     "end_time": "2024-05-12T17:36:34.014660Z",
     "start_time": "2024-05-12T17:36:33.974067Z"
    }
   },
   "cell_type": "code",
   "source": [
    "num_true_values = len(X[X['functiondef__is_private'] == True])\n",
    "num_false_values = len(X[X['functiondef__is_private'] == False])\n",
    "std = X['functiondef__is_private'].std()\n",
    "freq_true = len(X[X['functiondef__is_private'] == True]) / len(X['functiondef__is_private'])\n",
    "freq_false = len(X[X['functiondef__is_private'] == False]) / len(X['functiondef__is_private'])\n",
    "print(f'La variable is_private contiene {num_true_values} valores verdaderos y {num_false_values} valores falsos. Y, la desviación típica es de {std}')\n",
    "print(f'La frecuencia con la que programa puede tener la variable is_private a True es {freq_true}.')\n",
    "print(f'La frecuencia con la que programa puede tener la variable is_private a False es {freq_false}.')"
   ],
   "id": "f4a042829ae6fac5",
   "execution_count": 15,
   "outputs": []
  },
  {
   "metadata": {
    "ExecuteTime": {
     "end_time": "2024-05-12T17:36:44.384176Z",
     "start_time": "2024-05-12T17:36:44.365604Z"
    }
   },
   "cell_type": "code",
   "source": [
    "possible_values = [True, False]\n",
    "print_frequency_anal_for_cat_var(X, 'functiondef__is_private', possible_values)"
   ],
   "id": "c614dd60d0ab8e5b",
   "execution_count": 16,
   "outputs": []
  },
  {
   "metadata": {
    "ExecuteTime": {
     "end_time": "2024-05-12T17:36:50.684588Z",
     "start_time": "2024-05-12T17:36:50.585487Z"
    }
   },
   "cell_type": "code",
   "source": "X[X['functiondef__is_private'] == True].describe(percentiles=[.25, .50, .75], include = ['object', 'float', 'bool', 'int'])\n",
   "id": "6c33bdd1420008cf",
   "execution_count": 17,
   "outputs": []
  },
  {
   "metadata": {},
   "cell_type": "markdown",
   "source": [
    "### Variable is_magic (2/11)\n",
    "Esta variable es de tipo booleano y representa si la función es de la forma __\\w__."
   ],
   "id": "1fa4491178ba606c"
  },
  {
   "metadata": {
    "ExecuteTime": {
     "end_time": "2024-05-12T17:40:56.892528Z",
     "start_time": "2024-05-12T17:40:56.582317Z"
    }
   },
   "cell_type": "code",
   "source": [
    "plt.xticks([0, 1], ['False', 'True'])\n",
    "sns.histplot(X['functiondef__is_magic'], discrete=True)"
   ],
   "id": "529b7fd2ad00b058",
   "execution_count": 30,
   "outputs": []
  },
  {
   "metadata": {
    "ExecuteTime": {
     "end_time": "2024-05-12T17:41:22.973777Z",
     "start_time": "2024-05-12T17:41:22.941339Z"
    }
   },
   "cell_type": "code",
   "source": [
    "#ANALISIS DE DISTRIBUCIÓN DE DATOS\n",
    "num_true_values = len(X[X['functiondef__is_magic'] == True])\n",
    "num_false_values = len(X[X['functiondef__is_magic'] == False])\n",
    "std = X['functiondef__is_magic'].std()\n",
    "freq_true = len(X[X['functiondef__is_magic'] == True]) / len(X['functiondef__is_magic'])\n",
    "freq_false = len(X[X['functiondef__is_magic'] == False]) / len(X['functiondef__is_magic'])\n",
    "print(f'La variable is_magic contiene {num_true_values} valores verdaderos y {num_false_values} valores falsos. Y, la desviación típica es de {std}')\n",
    "print(f'La frecuencia con la que programa puede tener la variable is_magic a True es {freq_true}.')\n",
    "print(f'La frecuencia con la que programa puede tener la variable is_magic a False es {freq_false}.')"
   ],
   "id": "d1bed1e471481adc",
   "execution_count": 31,
   "outputs": []
  },
  {
   "metadata": {
    "ExecuteTime": {
     "end_time": "2024-05-12T17:41:34.608490Z",
     "start_time": "2024-05-12T17:41:34.584702Z"
    }
   },
   "cell_type": "code",
   "source": [
    "#PROBABILIDAD DE VALORES\n",
    "possible_values = [True, False]\n",
    "print_frequency_anal_for_cat_var(X, 'functiondef__is_magic', possible_values)"
   ],
   "id": "c54b472864a47e88",
   "execution_count": 32,
   "outputs": []
  },
  {
   "metadata": {
    "ExecuteTime": {
     "end_time": "2024-05-12T17:41:39.438937Z",
     "start_time": "2024-05-12T17:41:39.338161Z"
    }
   },
   "cell_type": "code",
   "source": [
    "#VALORES DE LOS DATOS CONDICIONADOS A TRUE/FALSE\n",
    "X[X['functiondef__is_magic'] == True].describe(percentiles=[.25, .50, .75], include = ['object', 'float', 'bool', 'int'])"
   ],
   "id": "4bd840561db5f69f",
   "execution_count": 33,
   "outputs": []
  },
  {
   "metadata": {},
   "cell_type": "markdown",
   "source": [
    "### Variable is_async (3/11)\n",
    "Esta variable es booleana y representa si la función es asincrona."
   ],
   "id": "55e11303a6b9f7d6"
  },
  {
   "metadata": {
    "ExecuteTime": {
     "end_time": "2024-05-12T17:42:10.499473Z",
     "start_time": "2024-05-12T17:42:10.217623Z"
    }
   },
   "cell_type": "code",
   "source": [
    "plt.xticks([0, 1], ['False', 'True'])\n",
    "sns.histplot(X['functiondef__is_async'], discrete=True)"
   ],
   "id": "3d54f29de8308c46",
   "execution_count": 34,
   "outputs": []
  },
  {
   "metadata": {
    "ExecuteTime": {
     "end_time": "2024-05-12T17:42:36.364325Z",
     "start_time": "2024-05-12T17:42:36.333319Z"
    }
   },
   "cell_type": "code",
   "source": [
    "#ANALISIS DE DISTRIBUCIÓN DE DATOS\n",
    "num_true_values = len(X[X['functiondef__is_async'] == True])\n",
    "num_false_values = len(X[X['functiondef__is_async'] == False])\n",
    "std = X['functiondef__is_async'].std()\n",
    "freq_true = len(X[X['functiondef__is_async'] == True]) / len(X['functiondef__is_async'])\n",
    "freq_false = len(X[X['functiondef__is_async'] == False]) / len(X['functiondef__is_async'])\n",
    "print(f'La variable is_async contiene {num_true_values} valores verdaderos y {num_false_values} valores falsos. Y, la desviación típica es de {std}')\n",
    "print(f'La frecuencia con la que programa puede tener la variable is_async a True es {freq_true}.')\n",
    "print(f'La frecuencia con la que programa puede tener la variable is_async a False es {freq_false}.')"
   ],
   "id": "2eb1b1c16de8cdd6",
   "execution_count": 35,
   "outputs": []
  },
  {
   "metadata": {
    "ExecuteTime": {
     "end_time": "2024-05-12T17:42:45.319288Z",
     "start_time": "2024-05-12T17:42:45.300285Z"
    }
   },
   "cell_type": "code",
   "source": [
    "#PROBABILIDAD DE VALORES\n",
    "possible_values = [True, False]\n",
    "print_frequency_anal_for_cat_var(X, 'functiondef__is_async', possible_values)"
   ],
   "id": "77d67e1a9229488c",
   "execution_count": 36,
   "outputs": []
  },
  {
   "metadata": {
    "ExecuteTime": {
     "end_time": "2024-05-12T17:42:49.932277Z",
     "start_time": "2024-05-12T17:42:49.870297Z"
    }
   },
   "cell_type": "code",
   "source": [
    "#VALORES DE LOS DATOS CONDICIONADOS A TRUE/FALSE\n",
    "X[X['functiondef__is_async'] == True].describe(percentiles=[.25, .50, .75], include = ['object', 'float', 'bool', 'int'])"
   ],
   "id": "4f8aa89df7929f1",
   "execution_count": 37,
   "outputs": []
  },
  {
   "metadata": {},
   "cell_type": "markdown",
   "source": [
    "### Variable has_return_type_annotation (4/11)\n",
    "Esta variable es booleana y representa si la function tiene una anotacion del tipo de retorno."
   ],
   "id": "18a8e13e56bc2bb5"
  },
  {
   "metadata": {
    "ExecuteTime": {
     "end_time": "2024-05-12T17:43:41.084794Z",
     "start_time": "2024-05-12T17:43:40.817773Z"
    }
   },
   "cell_type": "code",
   "source": [
    "plt.xticks([0, 1], ['False', 'True'])\n",
    "sns.histplot(X['functiondef__has_return_type_annotation'], discrete=True)"
   ],
   "id": "5324fb5df46dfbbb",
   "execution_count": 38,
   "outputs": []
  },
  {
   "metadata": {
    "ExecuteTime": {
     "end_time": "2024-05-12T17:44:00.355401Z",
     "start_time": "2024-05-12T17:44:00.313383Z"
    }
   },
   "cell_type": "code",
   "source": [
    "#ANALISIS DE DISTRIBUCIÓN DE DATOS\n",
    "num_true_values = len(X[X['functiondef__has_return_type_annotation'] == True])\n",
    "num_false_values = len(X[X['functiondef__has_return_type_annotation'] == False])\n",
    "std = X['functiondef__has_return_type_annotation'].std()\n",
    "freq_true = len(X[X['functiondef__has_return_type_annotation'] == True]) / len(X['functiondef__has_return_type_annotation'])\n",
    "freq_false = len(X[X['functiondef__has_return_type_annotation'] == False]) / len(X['functiondef__has_return_type_annotation'])\n",
    "print(f'La variable has_return_type_annotation contiene {num_true_values} valores verdaderos y {num_false_values} valores falsos. Y, la desviación típica es de {std}')\n",
    "print(f'La frecuencia con la que programa puede tener la variable has_return_type_annotation a True es {freq_true}.')\n",
    "print(f'La frecuencia con la que programa puede tener la variable has_return_type_annotation a False es {freq_false}.')"
   ],
   "id": "3a3d461ef8ecb975",
   "execution_count": 39,
   "outputs": []
  },
  {
   "metadata": {
    "ExecuteTime": {
     "end_time": "2024-05-12T17:44:05.711234Z",
     "start_time": "2024-05-12T17:44:05.693756Z"
    }
   },
   "cell_type": "code",
   "source": [
    "#PROBABILIDAD DE VALORES\n",
    "possible_values = [True, False]\n",
    "print_frequency_anal_for_cat_var(X, 'functiondef__has_return_type_annotation', possible_values)"
   ],
   "id": "fe8e2a0b79c6c2e5",
   "execution_count": 40,
   "outputs": []
  },
  {
   "metadata": {
    "ExecuteTime": {
     "end_time": "2024-05-12T17:44:23.918830Z",
     "start_time": "2024-05-12T17:44:23.813833Z"
    }
   },
   "cell_type": "code",
   "source": [
    "#VALORES DE LOS DATOS CONDICIONADOS A TRUE/FALSE\n",
    "X[X['functiondef__has_return_type_annotation'] == True].describe(percentiles=[.25, .50, .75], include = ['object', 'float', 'bool', 'int'])"
   ],
   "id": "4322793c7ab4814a",
   "execution_count": 41,
   "outputs": []
  },
  {
   "metadata": {},
   "cell_type": "markdown",
   "source": [
    "### Variable has_doc_string (5/11)\n",
    "Esta variable es booleana y representa si la function comienza por un String plano a modo de comentario."
   ],
   "id": "cfe40a4ef0be487d"
  },
  {
   "metadata": {
    "ExecuteTime": {
     "end_time": "2024-05-12T17:45:35.241390Z",
     "start_time": "2024-05-12T17:45:34.965723Z"
    }
   },
   "cell_type": "code",
   "source": [
    "plt.xticks([0, 1], ['False', 'True'])\n",
    "sns.histplot(X['functiondef__has_doc_string'], discrete=True)"
   ],
   "id": "5875416c9bb82405",
   "execution_count": 42,
   "outputs": []
  },
  {
   "metadata": {
    "ExecuteTime": {
     "end_time": "2024-05-12T17:45:53.263218Z",
     "start_time": "2024-05-12T17:45:53.215472Z"
    }
   },
   "cell_type": "code",
   "source": [
    "#ANALISIS DE DISTRIBUCIÓN DE DATOS\n",
    "num_true_values = len(X[X['functiondef__has_doc_string'] == True])\n",
    "num_false_values = len(X[X['functiondef__has_doc_string'] == False])\n",
    "std = X['functiondef__has_doc_string'].std()\n",
    "freq_true = len(X[X['functiondef__has_doc_string'] == True]) / len(X['functiondef__has_doc_string'])\n",
    "freq_false = len(X[X['functiondef__has_doc_string'] == False]) / len(X['functiondef__has_doc_string'])\n",
    "print(f'La variable has_doc_string contiene {num_true_values} valores verdaderos y {num_false_values} valores falsos. Y, la desviación típica es de {std}')\n",
    "print(f'La frecuencia con la que programa puede tener la variable has_doc_string a True es {freq_true}.')\n",
    "print(f'La frecuencia con la que programa puede tener la variable has_doc_string a False es {freq_false}.')"
   ],
   "id": "48f9d12a797e8432",
   "execution_count": 43,
   "outputs": []
  },
  {
   "metadata": {
    "ExecuteTime": {
     "end_time": "2024-05-12T17:45:59.375528Z",
     "start_time": "2024-05-12T17:45:59.348005Z"
    }
   },
   "cell_type": "code",
   "source": [
    "#PROBABILIDAD DE VALORES\n",
    "possible_values = [True, False]\n",
    "print_frequency_anal_for_cat_var(X, 'functiondef__has_doc_string', possible_values)"
   ],
   "id": "c2fd515eea1c6602",
   "execution_count": 44,
   "outputs": []
  },
  {
   "metadata": {
    "ExecuteTime": {
     "end_time": "2024-05-12T17:46:02.434840Z",
     "start_time": "2024-05-12T17:46:02.369275Z"
    }
   },
   "cell_type": "code",
   "source": [
    "#VALORES DE LOS DATOS CONDICIONADOS A TRUE/FALSE\n",
    "X[X['functiondef__has_doc_string'] == True].describe(percentiles=[.25, .50, .75], include = ['object', 'float', 'bool', 'int'])"
   ],
   "id": "b5ebd8faec1bd813",
   "execution_count": 45,
   "outputs": []
  },
  {
   "metadata": {},
   "cell_type": "markdown",
   "source": [
    "### Variable number_of_characters (6/11)\n",
    "Esta variable representa el número de caracteres que tiene el nombre de la funcion. Como vimos en la descripción de la tabla esta varibale adopta valores en el rango 1 - 87. Con una media de 13.70."
   ],
   "id": "119fc307a9194a96"
  },
  {
   "metadata": {
    "ExecuteTime": {
     "end_time": "2024-05-12T17:46:51.084333Z",
     "start_time": "2024-05-12T17:46:50.020527Z"
    }
   },
   "cell_type": "code",
   "source": "sns.stripplot(X['functiondef__number_of_characters'])",
   "id": "5efd7fbb4f34563d",
   "execution_count": 46,
   "outputs": []
  },
  {
   "metadata": {
    "ExecuteTime": {
     "end_time": "2024-05-12T17:46:56.407618Z",
     "start_time": "2024-05-12T17:46:56.376181Z"
    }
   },
   "cell_type": "code",
   "source": "print_outliers_for_df_column(X, 'functiondef__number_of_characters')",
   "id": "e5649a2923239004",
   "execution_count": 47,
   "outputs": []
  },
  {
   "metadata": {
    "ExecuteTime": {
     "end_time": "2024-05-12T17:47:07.432733Z",
     "start_time": "2024-05-12T17:47:07.366541Z"
    }
   },
   "cell_type": "code",
   "source": "X[X['functiondef__number_of_characters'] > 48].describe(percentiles=[.25, .50, .75], include = ['object', 'float', 'bool', 'int'])",
   "id": "5c5e0e6eb4cd173",
   "execution_count": 48,
   "outputs": []
  },
  {
   "metadata": {},
   "cell_type": "markdown",
   "source": "El 97% de estas funciones con nombres muy largos son de expertos y en SnakeCase.",
   "id": "141d49bd3ff1468b"
  },
  {
   "metadata": {},
   "cell_type": "markdown",
   "source": [
    "### Variable body_count (7/11)\n",
    "Esta variable representa el número de sentencias en el root de la función. Como vimos en la descripción de la tabla esta varibale adopta valores en el rango 1 - 364. Con una media de 4.09."
   ],
   "id": "a92021ee6047bd1d"
  },
  {
   "metadata": {
    "ExecuteTime": {
     "end_time": "2024-05-12T17:49:00.829386Z",
     "start_time": "2024-05-12T17:49:00.053750Z"
    }
   },
   "cell_type": "code",
   "source": "sns.stripplot(X['functiondef__body_count'])",
   "id": "1b8338fdb1c032b5",
   "execution_count": 49,
   "outputs": []
  },
  {
   "metadata": {
    "ExecuteTime": {
     "end_time": "2024-05-12T17:49:09.699355Z",
     "start_time": "2024-05-12T17:49:09.675729Z"
    }
   },
   "cell_type": "code",
   "source": "print_outliers_for_df_column(X, 'functiondef__body_count')",
   "id": "3444c461d823515d",
   "execution_count": 50,
   "outputs": []
  },
  {
   "metadata": {
    "ExecuteTime": {
     "end_time": "2024-05-12T17:49:18.177590Z",
     "start_time": "2024-05-12T17:49:18.117237Z"
    }
   },
   "cell_type": "code",
   "source": "X[X['functiondef__body_count'] > 72].describe(percentiles=[.25, .50, .75], include = ['object', 'float', 'bool', 'int'])",
   "id": "44b1c024f9d465e9",
   "execution_count": 51,
   "outputs": []
  },
  {
   "metadata": {},
   "cell_type": "markdown",
   "source": "Un 79% de expertos. Mal uso de la encapsulación?",
   "id": "490f89621d2171a0"
  },
  {
   "metadata": {},
   "cell_type": "markdown",
   "source": [
    "### Variable number_of_decorators (8/11)\n",
    "Esta variable representa el número de decoradores de la funcion. Como vimos en la descripción de la tabla esta varibale adopta valores en el rango 0 - 46. Con una media de 0.19."
   ],
   "id": "9e889648c0e5a078"
  },
  {
   "metadata": {
    "ExecuteTime": {
     "end_time": "2024-05-12T17:50:32.592982Z",
     "start_time": "2024-05-12T17:50:31.774909Z"
    }
   },
   "cell_type": "code",
   "source": "sns.stripplot(X['functiondef__number_of_decorators'])",
   "id": "536be140a0b685eb",
   "execution_count": 52,
   "outputs": []
  },
  {
   "metadata": {
    "ExecuteTime": {
     "end_time": "2024-05-12T17:50:39.463733Z",
     "start_time": "2024-05-12T17:50:39.438952Z"
    }
   },
   "cell_type": "code",
   "source": "print_outliers_for_df_column(X, 'functiondef__number_of_decorators')",
   "id": "d76842919b0b6dbe",
   "execution_count": 53,
   "outputs": []
  },
  {
   "metadata": {
    "ExecuteTime": {
     "end_time": "2024-05-12T17:50:53.018680Z",
     "start_time": "2024-05-12T17:50:52.947369Z"
    }
   },
   "cell_type": "code",
   "source": "X[X['functiondef__number_of_decorators'] > 0].describe(percentiles=[.25, .50, .75], include = ['object', 'float', 'bool', 'int'])",
   "id": "e07c9b0d8cfd4af0",
   "execution_count": 54,
   "outputs": []
  },
  {
   "metadata": {},
   "cell_type": "markdown",
   "source": [
    "### Variable height (9/11)\n",
    "Esta variable representa la distancia desde la función hasta el root del módulo (fichero). Como vimos en la descripción de la tabla esta varibale adopta valores en el rango 1 - 10. Con una media de 1.77."
   ],
   "id": "3237adcf6d852d54"
  },
  {
   "metadata": {
    "ExecuteTime": {
     "end_time": "2024-05-12T17:52:43.321779Z",
     "start_time": "2024-05-12T17:52:42.500868Z"
    }
   },
   "cell_type": "code",
   "source": "sns.stripplot(X['functiondef__height'])",
   "id": "49c1f29ab859070d",
   "execution_count": 55,
   "outputs": []
  },
  {
   "metadata": {},
   "cell_type": "markdown",
   "source": "Hay que comprobar la clase con 45 base classes. Es una clase de experto de algún tipo de interfaz gráfica.",
   "id": "42e316c6043f233c"
  },
  {
   "metadata": {
    "ExecuteTime": {
     "end_time": "2024-05-12T17:52:48.663405Z",
     "start_time": "2024-05-12T17:52:48.639251Z"
    }
   },
   "cell_type": "code",
   "source": "print_outliers_for_df_column(X, 'functiondef__height')",
   "id": "c94aafc56eda3a37",
   "execution_count": 56,
   "outputs": []
  },
  {
   "metadata": {
    "ExecuteTime": {
     "end_time": "2024-05-12T17:52:58.830391Z",
     "start_time": "2024-05-12T17:52:58.764397Z"
    }
   },
   "cell_type": "code",
   "source": "X[X['functiondef__height'] > 8].describe(percentiles=[.25, .50, .75], include = ['object', 'float', 'bool', 'int'])",
   "id": "c55bd18d1542ab0b",
   "execution_count": 58,
   "outputs": []
  },
  {
   "metadata": {
    "ExecuteTime": {
     "end_time": "2024-05-12T17:53:12.528029Z",
     "start_time": "2024-05-12T17:53:12.321777Z"
    }
   },
   "cell_type": "code",
   "source": "X[X['functiondef__height'] == 2].describe(percentiles=[.25, .50, .75], include = ['object', 'float', 'bool', 'int'])",
   "id": "741be9bdcf3aa12c",
   "execution_count": 59,
   "outputs": []
  },
  {
   "metadata": {},
   "cell_type": "markdown",
   "source": "Hay muchisimas funciones con height == 2. Se debe a que un gran porcentaje de funciones son métodos de clases con height 1.",
   "id": "187e80922a99d90e"
  },
  {
   "metadata": {},
   "cell_type": "markdown",
   "source": [
    "### Variable expressions_pct (10/11)\n",
    "Esta variable representa la proporción de las sentencias en el root de la funcsion que son expresiones. Toma los valores de 0.0 - 1.0. La media es 0.22."
   ],
   "id": "ab0e91c1d1974f0a"
  },
  {
   "metadata": {
    "ExecuteTime": {
     "end_time": "2024-05-12T17:55:38.952703Z",
     "start_time": "2024-05-12T17:55:38.379590Z"
    }
   },
   "cell_type": "code",
   "source": "sns.displot(X['functiondef__expressions_pct'], bins=[i / 100 for i in range(0, 101)])",
   "id": "ae3f7b82f7e2e5a9",
   "execution_count": 60,
   "outputs": []
  },
  {
   "metadata": {
    "ExecuteTime": {
     "end_time": "2024-05-12T17:55:42.493443Z",
     "start_time": "2024-05-12T17:55:42.473918Z"
    }
   },
   "cell_type": "code",
   "source": "print_outliers_for_df_column(X, 'functiondef__expressions_pct')",
   "id": "128a40279fa3c260",
   "execution_count": 61,
   "outputs": []
  },
  {
   "metadata": {
    "ExecuteTime": {
     "end_time": "2024-05-12T17:55:55.555868Z",
     "start_time": "2024-05-12T17:55:55.468632Z"
    }
   },
   "cell_type": "code",
   "source": "X[X['functiondef__expressions_pct'] == 1].describe(percentiles=[.25, .50, .75], include = ['object', 'float', 'bool', 'int'])",
   "id": "220b9358ad3ffcac",
   "execution_count": 62,
   "outputs": []
  },
  {
   "metadata": {},
   "cell_type": "markdown",
   "source": [
    "### Variable type_annotations_pct (11/11)\n",
    "Esta variable representa la proporción de los parámetros que tienen anotación de tipo en la función (incluyendo el return). Este campo toma valores del 0.0 - 1.0. Su media es 0.23."
   ],
   "id": "44ce042d4954490d"
  },
  {
   "metadata": {
    "ExecuteTime": {
     "end_time": "2024-05-12T17:57:00.759761Z",
     "start_time": "2024-05-12T17:57:00.180113Z"
    }
   },
   "cell_type": "code",
   "source": "sns.displot(X['functiondef__type_annotations_pct'], bins=[i / 100 for i in range(0, 101)])",
   "id": "fa0bbc143d5518cf",
   "execution_count": 63,
   "outputs": []
  },
  {
   "metadata": {
    "ExecuteTime": {
     "end_time": "2024-05-12T17:57:10.203501Z",
     "start_time": "2024-05-12T17:57:10.188973Z"
    }
   },
   "cell_type": "code",
   "source": "print_outliers_for_df_column(X, 'functiondef__type_annotations_pct')",
   "id": "2af888e24190e6ae",
   "execution_count": 64,
   "outputs": []
  },
  {
   "metadata": {
    "ExecuteTime": {
     "end_time": "2024-05-12T17:57:19.057934Z",
     "start_time": "2024-05-12T17:57:18.984893Z"
    }
   },
   "cell_type": "code",
   "source": "X[X['functiondef__type_annotations_pct'] == 1].describe(percentiles=[.25, .50, .75], include = ['object', 'float', 'bool', 'int'])",
   "id": "9d4996b6c87ba9d9",
   "execution_count": 65,
   "outputs": []
  }
 ],
 "metadata": {
  "kernelspec": {
   "display_name": "Python 3",
   "language": "python",
   "name": "python3"
  },
  "language_info": {
   "codemirror_mode": {
    "name": "ipython",
    "version": 2
   },
   "file_extension": ".py",
   "mimetype": "text/x-python",
   "name": "python",
   "nbconvert_exporter": "python",
   "pygments_lexer": "ipython2",
   "version": "2.7.6"
  }
 },
 "nbformat": 4,
 "nbformat_minor": 5
}
