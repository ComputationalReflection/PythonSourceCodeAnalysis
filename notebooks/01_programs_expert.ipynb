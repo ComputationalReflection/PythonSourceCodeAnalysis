{
 "cells": [
  {
   "cell_type": "markdown",
   "id": "ea78b212-ff32-40d1-92e1-9e09d847ae78",
   "metadata": {
    "pycharm": {
     "name": "#%% md\n"
    }
   },
   "source": [
    "# Programs EXPERT\n",
    "\n",
    "Esta tabla contiene la información a nivel de programa de la clase EXPERT. Es decir, contiene el porcentaje de clases definidas en el programa, el porcentaje de interfaces y el porcentaje de enumerados. También podemos encontrar otros dos campos que nos indican si el código está en el paquete por defecto o si hay código otros paquetes.  --> ABEL COMPLETAR <--"
   ]
  },
  {
   "cell_type": "markdown",
   "id": "b862cb2f-c1e0-4074-92c0-004dea379079",
   "metadata": {
    "pycharm": {
     "name": "#%% md\n"
    }
   },
   "source": [
    "## 1 - Obtencion de datos"
   ]
  },
  {
   "cell_type": "code",
   "id": "63793d9c-9473-44fa-bb1d-8e4b32fa1457",
   "metadata": {
    "pycharm": {
     "name": "#%%\n"
    },
    "tags": [],
    "ExecuteTime": {
     "end_time": "2024-05-14T11:28:10.097674Z",
     "start_time": "2024-05-14T11:28:08.496655Z"
    }
   },
   "source": [
    "import matplotlib.pyplot as plt\n",
    "from notebooks_utils import *\n",
    "\n",
    "TARGET_FEATURE = 'program__expertise_level'\n",
    "TARGET_CLASS = 'EXPERT'\n",
    "full_table = get_data('programs')\n",
    "\n",
    "instances_for_class_low = len(full_table[full_table[TARGET_FEATURE] == \"BEGINNER\"])\n",
    "instances_for_class_high = len(full_table[full_table[TARGET_FEATURE] == \"EXPERT\"])\n",
    "\n",
    "print(f\"The dataset contains {instances_for_class_low} ({instances_for_class_low/len(full_table)*100:.4}%) instances for BEGINNER class and {instances_for_class_high} ({instances_for_class_high/len(full_table)*100:.4}%) for EXPERT class.\")"
   ],
   "outputs": [
    {
     "name": "stdout",
     "output_type": "stream",
     "text": [
      "2024-05-14 13:28:10.093791 Data cache files found ...\n",
      "2024-05-14 13:28:10.094827 Data cache files successfully loaded!!\n",
      "The dataset contains 1591 (98.88%) instances for BEGINNER class and 18 (1.119%) for EXPERT class.\n"
     ]
    }
   ],
   "execution_count": 1
  },
  {
   "metadata": {
    "ExecuteTime": {
     "end_time": "2024-05-14T11:28:10.105682Z",
     "start_time": "2024-05-14T11:28:10.098704Z"
    }
   },
   "cell_type": "code",
   "source": [
    "full_table = full_table[full_table[TARGET_FEATURE] == TARGET_CLASS]\n",
    "\n",
    "# Table name and features.\n",
    "TABLE_NAME = 'programs'\n",
    "TABLE_FEATURES = ['program__has_sub_dirs_with_code','program__has_packages','program__number_of_modules','program__number_of_sub_dirs_with_code','program__number_of_packages','program__class_defs_pct','program__function_defs_pct','program__enum_defs_pct','program__has_code_root_package','program__average_defs_per_module']\n",
    "\n",
    "# Load features.\n",
    "X = full_table[TABLE_FEATURES]\n",
    "\n",
    "# Print information about the loaded table.\n",
    "print(f' {TARGET_CLASS} CLASS Features shape: {X.shape}')\n",
    "\n",
    "print(f'As we can see the downloaded data contains a total of {X.shape[0]} instances of {TARGET_CLASS}. Each of the instances corresponds to a program. For each program we have {X.shape[1]} attributes.')"
   ],
   "id": "68445c8be4d3db17",
   "outputs": [
    {
     "name": "stdout",
     "output_type": "stream",
     "text": [
      " EXPERT CLASS Features shape: (18, 10)\n",
      "As we can see the downloaded data contains a total of 18 instances of EXPERT. Each of the instances corresponds to a program. For each program we have 10 attributes.\n"
     ]
    }
   ],
   "execution_count": 2
  },
  {
   "cell_type": "markdown",
   "id": "3ff70454-366f-4231-831d-723eeb63576b",
   "metadata": {},
   "source": [
    "## 2 - Exploracion de datos\n",
    "\n",
    "Una vez tenemos nuestra tabla en un dataframe el siguiente paso es explorarla para ver qué tipo de información contiene."
   ]
  },
  {
   "cell_type": "code",
   "id": "9b526577-537d-44b0-951b-168278ce7a5c",
   "metadata": {
    "ExecuteTime": {
     "end_time": "2024-05-14T11:28:10.115358Z",
     "start_time": "2024-05-14T11:28:10.106883Z"
    }
   },
   "source": "print(X.info())",
   "outputs": [
    {
     "name": "stdout",
     "output_type": "stream",
     "text": [
      "<class 'pandas.core.frame.DataFrame'>\n",
      "Index: 18 entries, 496 to 1608\n",
      "Data columns (total 10 columns):\n",
      " #   Column                                 Non-Null Count  Dtype  \n",
      "---  ------                                 --------------  -----  \n",
      " 0   program__has_sub_dirs_with_code        18 non-null     bool   \n",
      " 1   program__has_packages                  18 non-null     bool   \n",
      " 2   program__number_of_modules             18 non-null     int64  \n",
      " 3   program__number_of_sub_dirs_with_code  18 non-null     int64  \n",
      " 4   program__number_of_packages            18 non-null     int64  \n",
      " 5   program__class_defs_pct                18 non-null     float64\n",
      " 6   program__function_defs_pct             18 non-null     float64\n",
      " 7   program__enum_defs_pct                 18 non-null     float64\n",
      " 8   program__has_code_root_package         18 non-null     bool   \n",
      " 9   program__average_defs_per_module       18 non-null     float64\n",
      "dtypes: bool(3), float64(4), int64(3)\n",
      "memory usage: 1.2 KB\n",
      "None\n"
     ]
    }
   ],
   "execution_count": 3
  },
  {
   "cell_type": "markdown",
   "id": "cbf77cd4-9819-4da1-9405-44054d2290e1",
   "metadata": {},
   "source": "Cómo podemos ver la tabla está compuesta por 7 variables numéricas, 3 variables boleanas."
  },
  {
   "cell_type": "markdown",
   "id": "7f619a1e-3b8b-4929-b41c-8edef4cc2d6a",
   "metadata": {},
   "source": [
    "### 2.1 - Duplicados\n",
    "Miramos si la tabla tiene entradas duplicadas."
   ]
  },
  {
   "cell_type": "code",
   "id": "ba8d29f2-8771-4e1f-8ecb-31bb827bf988",
   "metadata": {
    "ExecuteTime": {
     "end_time": "2024-05-14T11:28:10.121914Z",
     "start_time": "2024-05-14T11:28:10.116874Z"
    }
   },
   "source": [
    "number_of_duplicated_entries = sum(full_table.duplicated(subset=TABLE_FEATURES))\n",
    "duplicated_entries_pct = number_of_duplicated_entries / len(full_table) * 100\n",
    "print(f\"The dataset contains [{duplicated_entries_pct:.4}%] of duplicated entries.\")"
   ],
   "outputs": [
    {
     "name": "stdout",
     "output_type": "stream",
     "text": [
      "The dataset contains [0.0%] of duplicated entries.\n"
     ]
    }
   ],
   "execution_count": 4
  },
  {
   "cell_type": "markdown",
   "id": "31d297c18f157194",
   "metadata": {
    "collapsed": false
   },
   "source": [
    "### 2.2 - Valores Nulos \n",
    "Miramos si alguna de las variables que contiene la tabla contiene algún valor que sea nulo."
   ]
  },
  {
   "cell_type": "code",
   "id": "afeed2ce9080cbbb",
   "metadata": {
    "collapsed": false,
    "ExecuteTime": {
     "end_time": "2024-05-14T11:28:10.129638Z",
     "start_time": "2024-05-14T11:28:10.122924Z"
    }
   },
   "source": [
    "X.isnull().sum()"
   ],
   "outputs": [
    {
     "data": {
      "text/plain": [
       "program__has_sub_dirs_with_code          0\n",
       "program__has_packages                    0\n",
       "program__number_of_modules               0\n",
       "program__number_of_sub_dirs_with_code    0\n",
       "program__number_of_packages              0\n",
       "program__class_defs_pct                  0\n",
       "program__function_defs_pct               0\n",
       "program__enum_defs_pct                   0\n",
       "program__has_code_root_package           0\n",
       "program__average_defs_per_module         0\n",
       "dtype: int64"
      ]
     },
     "execution_count": 5,
     "metadata": {},
     "output_type": "execute_result"
    }
   ],
   "execution_count": 5
  },
  {
   "cell_type": "markdown",
   "id": "1a8e02c0c52edff9",
   "metadata": {
    "collapsed": false
   },
   "source": "Aunque una columna no contenga valores nulos podría ser que contenga valores vacíos."
  },
  {
   "cell_type": "code",
   "id": "73b9dc2f9efc111a",
   "metadata": {
    "collapsed": false,
    "ExecuteTime": {
     "end_time": "2024-05-14T11:28:10.137428Z",
     "start_time": "2024-05-14T11:28:10.130648Z"
    }
   },
   "source": [
    "print_empty_cols(X)"
   ],
   "outputs": [
    {
     "name": "stdout",
     "output_type": "stream",
     "text": [
      "program__has_sub_dirs_with_code\n",
      "-------------------------------\n",
      "0 instancias no tienen un valor para la columna program__has_sub_dirs_with_code\n",
      "\n",
      "\n",
      "program__has_packages\n",
      "---------------------\n",
      "0 instancias no tienen un valor para la columna program__has_packages\n",
      "\n",
      "\n",
      "program__number_of_modules\n",
      "--------------------------\n",
      "0 instancias no tienen un valor para la columna program__number_of_modules\n",
      "\n",
      "\n",
      "program__number_of_sub_dirs_with_code\n",
      "-------------------------------------\n",
      "0 instancias no tienen un valor para la columna program__number_of_sub_dirs_with_code\n",
      "\n",
      "\n",
      "program__number_of_packages\n",
      "---------------------------\n",
      "0 instancias no tienen un valor para la columna program__number_of_packages\n",
      "\n",
      "\n",
      "program__class_defs_pct\n",
      "-----------------------\n",
      "0 instancias no tienen un valor para la columna program__class_defs_pct\n",
      "\n",
      "\n",
      "program__function_defs_pct\n",
      "--------------------------\n",
      "0 instancias no tienen un valor para la columna program__function_defs_pct\n",
      "\n",
      "\n",
      "program__enum_defs_pct\n",
      "----------------------\n",
      "0 instancias no tienen un valor para la columna program__enum_defs_pct\n",
      "\n",
      "\n",
      "program__has_code_root_package\n",
      "------------------------------\n",
      "0 instancias no tienen un valor para la columna program__has_code_root_package\n",
      "\n",
      "\n",
      "program__average_defs_per_module\n",
      "--------------------------------\n",
      "0 instancias no tienen un valor para la columna program__average_defs_per_module\n",
      "\n",
      "\n"
     ]
    }
   ],
   "execution_count": 6
  },
  {
   "cell_type": "markdown",
   "id": "105774ea722bf467",
   "metadata": {
    "collapsed": false
   },
   "source": "### 2.3 - Describimos los valores de las variables de la tabla."
  },
  {
   "cell_type": "code",
   "id": "d3be1e5cec1af46c",
   "metadata": {
    "collapsed": false,
    "ExecuteTime": {
     "end_time": "2024-05-14T11:28:10.163409Z",
     "start_time": "2024-05-14T11:28:10.138439Z"
    }
   },
   "source": [
    "np.transpose(X.describe(percentiles=[.25, .50, .75], include = ['object', 'float', 'bool', 'int']))"
   ],
   "outputs": [
    {
     "data": {
      "text/plain": [
       "                                      count unique   top freq        mean  \\\n",
       "program__has_sub_dirs_with_code          18      2  True   17         NaN   \n",
       "program__has_packages                    18      2  True   17         NaN   \n",
       "program__number_of_modules             18.0    NaN   NaN  NaN  616.777778   \n",
       "program__number_of_sub_dirs_with_code  18.0    NaN   NaN  NaN   32.333333   \n",
       "program__number_of_packages            18.0    NaN   NaN  NaN  123.222222   \n",
       "program__class_defs_pct                18.0    NaN   NaN  NaN    0.355942   \n",
       "program__function_defs_pct             18.0    NaN   NaN  NaN    0.639417   \n",
       "program__enum_defs_pct                 18.0    NaN   NaN  NaN    0.004641   \n",
       "program__has_code_root_package           18      2  True   13         NaN   \n",
       "program__average_defs_per_module       18.0    NaN   NaN  NaN    3.757913   \n",
       "\n",
       "                                              std       min       25%  \\\n",
       "program__has_sub_dirs_with_code               NaN       NaN       NaN   \n",
       "program__has_packages                         NaN       NaN       NaN   \n",
       "program__number_of_modules             996.249883      15.0    119.25   \n",
       "program__number_of_sub_dirs_with_code   58.226737       0.0      3.25   \n",
       "program__number_of_packages            306.259128       0.0       7.5   \n",
       "program__class_defs_pct                  0.135173  0.162427  0.255583   \n",
       "program__function_defs_pct               0.134519  0.375461  0.578603   \n",
       "program__enum_defs_pct                   0.005923       0.0       0.0   \n",
       "program__has_code_root_package                NaN       NaN       NaN   \n",
       "program__average_defs_per_module         2.341887  0.733333  2.063336   \n",
       "\n",
       "                                            50%       75%       max  \n",
       "program__has_sub_dirs_with_code             NaN       NaN       NaN  \n",
       "program__has_packages                       NaN       NaN       NaN  \n",
       "program__number_of_modules                304.5     565.5    3294.0  \n",
       "program__number_of_sub_dirs_with_code       7.5     39.25     238.0  \n",
       "program__number_of_packages                19.0      73.5    1297.0  \n",
       "program__class_defs_pct                0.356587  0.419024  0.624539  \n",
       "program__function_defs_pct             0.638059  0.740156  0.836595  \n",
       "program__enum_defs_pct                 0.002072  0.007015  0.019078  \n",
       "program__has_code_root_package              NaN       NaN       NaN  \n",
       "program__average_defs_per_module       3.243456  4.729403  9.957198  "
      ],
      "text/html": [
       "<div>\n",
       "<style scoped>\n",
       "    .dataframe tbody tr th:only-of-type {\n",
       "        vertical-align: middle;\n",
       "    }\n",
       "\n",
       "    .dataframe tbody tr th {\n",
       "        vertical-align: top;\n",
       "    }\n",
       "\n",
       "    .dataframe thead th {\n",
       "        text-align: right;\n",
       "    }\n",
       "</style>\n",
       "<table border=\"1\" class=\"dataframe\">\n",
       "  <thead>\n",
       "    <tr style=\"text-align: right;\">\n",
       "      <th></th>\n",
       "      <th>count</th>\n",
       "      <th>unique</th>\n",
       "      <th>top</th>\n",
       "      <th>freq</th>\n",
       "      <th>mean</th>\n",
       "      <th>std</th>\n",
       "      <th>min</th>\n",
       "      <th>25%</th>\n",
       "      <th>50%</th>\n",
       "      <th>75%</th>\n",
       "      <th>max</th>\n",
       "    </tr>\n",
       "  </thead>\n",
       "  <tbody>\n",
       "    <tr>\n",
       "      <th>program__has_sub_dirs_with_code</th>\n",
       "      <td>18</td>\n",
       "      <td>2</td>\n",
       "      <td>True</td>\n",
       "      <td>17</td>\n",
       "      <td>NaN</td>\n",
       "      <td>NaN</td>\n",
       "      <td>NaN</td>\n",
       "      <td>NaN</td>\n",
       "      <td>NaN</td>\n",
       "      <td>NaN</td>\n",
       "      <td>NaN</td>\n",
       "    </tr>\n",
       "    <tr>\n",
       "      <th>program__has_packages</th>\n",
       "      <td>18</td>\n",
       "      <td>2</td>\n",
       "      <td>True</td>\n",
       "      <td>17</td>\n",
       "      <td>NaN</td>\n",
       "      <td>NaN</td>\n",
       "      <td>NaN</td>\n",
       "      <td>NaN</td>\n",
       "      <td>NaN</td>\n",
       "      <td>NaN</td>\n",
       "      <td>NaN</td>\n",
       "    </tr>\n",
       "    <tr>\n",
       "      <th>program__number_of_modules</th>\n",
       "      <td>18.0</td>\n",
       "      <td>NaN</td>\n",
       "      <td>NaN</td>\n",
       "      <td>NaN</td>\n",
       "      <td>616.777778</td>\n",
       "      <td>996.249883</td>\n",
       "      <td>15.0</td>\n",
       "      <td>119.25</td>\n",
       "      <td>304.5</td>\n",
       "      <td>565.5</td>\n",
       "      <td>3294.0</td>\n",
       "    </tr>\n",
       "    <tr>\n",
       "      <th>program__number_of_sub_dirs_with_code</th>\n",
       "      <td>18.0</td>\n",
       "      <td>NaN</td>\n",
       "      <td>NaN</td>\n",
       "      <td>NaN</td>\n",
       "      <td>32.333333</td>\n",
       "      <td>58.226737</td>\n",
       "      <td>0.0</td>\n",
       "      <td>3.25</td>\n",
       "      <td>7.5</td>\n",
       "      <td>39.25</td>\n",
       "      <td>238.0</td>\n",
       "    </tr>\n",
       "    <tr>\n",
       "      <th>program__number_of_packages</th>\n",
       "      <td>18.0</td>\n",
       "      <td>NaN</td>\n",
       "      <td>NaN</td>\n",
       "      <td>NaN</td>\n",
       "      <td>123.222222</td>\n",
       "      <td>306.259128</td>\n",
       "      <td>0.0</td>\n",
       "      <td>7.5</td>\n",
       "      <td>19.0</td>\n",
       "      <td>73.5</td>\n",
       "      <td>1297.0</td>\n",
       "    </tr>\n",
       "    <tr>\n",
       "      <th>program__class_defs_pct</th>\n",
       "      <td>18.0</td>\n",
       "      <td>NaN</td>\n",
       "      <td>NaN</td>\n",
       "      <td>NaN</td>\n",
       "      <td>0.355942</td>\n",
       "      <td>0.135173</td>\n",
       "      <td>0.162427</td>\n",
       "      <td>0.255583</td>\n",
       "      <td>0.356587</td>\n",
       "      <td>0.419024</td>\n",
       "      <td>0.624539</td>\n",
       "    </tr>\n",
       "    <tr>\n",
       "      <th>program__function_defs_pct</th>\n",
       "      <td>18.0</td>\n",
       "      <td>NaN</td>\n",
       "      <td>NaN</td>\n",
       "      <td>NaN</td>\n",
       "      <td>0.639417</td>\n",
       "      <td>0.134519</td>\n",
       "      <td>0.375461</td>\n",
       "      <td>0.578603</td>\n",
       "      <td>0.638059</td>\n",
       "      <td>0.740156</td>\n",
       "      <td>0.836595</td>\n",
       "    </tr>\n",
       "    <tr>\n",
       "      <th>program__enum_defs_pct</th>\n",
       "      <td>18.0</td>\n",
       "      <td>NaN</td>\n",
       "      <td>NaN</td>\n",
       "      <td>NaN</td>\n",
       "      <td>0.004641</td>\n",
       "      <td>0.005923</td>\n",
       "      <td>0.0</td>\n",
       "      <td>0.0</td>\n",
       "      <td>0.002072</td>\n",
       "      <td>0.007015</td>\n",
       "      <td>0.019078</td>\n",
       "    </tr>\n",
       "    <tr>\n",
       "      <th>program__has_code_root_package</th>\n",
       "      <td>18</td>\n",
       "      <td>2</td>\n",
       "      <td>True</td>\n",
       "      <td>13</td>\n",
       "      <td>NaN</td>\n",
       "      <td>NaN</td>\n",
       "      <td>NaN</td>\n",
       "      <td>NaN</td>\n",
       "      <td>NaN</td>\n",
       "      <td>NaN</td>\n",
       "      <td>NaN</td>\n",
       "    </tr>\n",
       "    <tr>\n",
       "      <th>program__average_defs_per_module</th>\n",
       "      <td>18.0</td>\n",
       "      <td>NaN</td>\n",
       "      <td>NaN</td>\n",
       "      <td>NaN</td>\n",
       "      <td>3.757913</td>\n",
       "      <td>2.341887</td>\n",
       "      <td>0.733333</td>\n",
       "      <td>2.063336</td>\n",
       "      <td>3.243456</td>\n",
       "      <td>4.729403</td>\n",
       "      <td>9.957198</td>\n",
       "    </tr>\n",
       "  </tbody>\n",
       "</table>\n",
       "</div>"
      ]
     },
     "execution_count": 7,
     "metadata": {},
     "output_type": "execute_result"
    }
   ],
   "execution_count": 7
  },
  {
   "cell_type": "markdown",
   "id": "b9f859b03e8083f1",
   "metadata": {
    "collapsed": false
   },
   "source": "Vamos a discretizar las variables numericas, agrupando conjuntos de valores en categorias, para hacer un análisis de los datos. Para cada variable es necesaario ver la distribucion de lo valores para hacer los bins (categorias)."
  },
  {
   "metadata": {},
   "cell_type": "markdown",
   "source": [
    "### IMPORTANTE\n",
    "Revisar programa con 3k modulos y 1k paquetes."
   ],
   "id": "fad88b24e9d93284"
  },
  {
   "cell_type": "code",
   "id": "b7cf5fae0fd0e5ef",
   "metadata": {
    "collapsed": false,
    "ExecuteTime": {
     "end_time": "2024-05-14T11:28:10.234948Z",
     "start_time": "2024-05-14T11:28:10.164418Z"
    }
   },
   "source": [
    "# DISCRETIZATION\n",
    "X_copy = X.copy()\n",
    "\n",
    "discretized_columns = {\n",
    "    \"program__class_defs_pct\": [(0.0, 0.0), (0.0, inf)],  # min: 0.0 max: 1.0\n",
    "    \"program__function_defs_pct\": [(0.0, 0.0),(0.0, 1.0), (1.0, 1.0)],  # min: 0.0 max: 1.0\n",
    "    \"program__enum_defs_pct\": [(0.0, 0.0), (0.0, inf)],  # min: 0.0 max: 0.19\n",
    "    \"program__number_of_modules\": [(1, 1), (2,2), (3,3), (4,inf)],  # min: 1 max: 3294\n",
    "    \"program__number_of_sub_dirs_with_code\": [(0, 0), (0, inf)], # min: 0 max: 238\n",
    "    \"program__number_of_packages\": [(0, 0), (0, inf)], # min: 0 max: 1297\n",
    "    \"program__average_defs_per_module\": [(0, 0), (0, 1), (1, 3), (3, inf)], # min: 0 max: 26    \n",
    "}\n",
    "\n",
    "discretize_columns(X_copy, discretized_columns)\n",
    "    \n",
    "# SINGLE FEATURE\n",
    "print(\"--- SINGLE FEATURE ---\")\n",
    "print(get_statistics(X_copy, ['program__has_sub_dirs_with_code'], 10))\n",
    "print(get_statistics(X_copy, ['program__has_packages'], 10))\n",
    "print(get_statistics(X_copy, ['program__has_code_root_package'], 10))\n",
    "print(get_statistics(X_copy, ['program__class_defs_pct'], 10))\n",
    "print(get_statistics(X_copy, ['program__function_defs_pct'], 10))\n",
    "print(get_statistics(X_copy, ['program__enum_defs_pct'], 10))\n",
    "print(get_statistics(X_copy, ['program__number_of_sub_dirs_with_code'], 10))\n",
    "print(get_statistics(X_copy, ['program__number_of_modules'], 10))\n",
    "print(get_statistics(X_copy, ['program__number_of_packages'], 10))\n",
    "print(get_statistics(X_copy, ['program__average_defs_per_module'], 10))\n",
    "\n",
    "# 2 FEATURES\n",
    "print(\"--- TWO FEATURES ---\")\n",
    "print(get_statistics(X_copy, ['program__has_sub_dirs_with_code', 'program__has_packages'], 10))\n",
    "print(get_statistics(X_copy, ['program__has_sub_dirs_with_code', 'program__has_code_root_package'], 10))\n",
    "print(get_statistics(X_copy, ['program__has_packages', 'program__has_code_root_package'], 10))\n",
    "print(get_statistics(X_copy, ['program__class_defs_pct', 'program__function_defs_pct'], 10))\n",
    "print(get_statistics(X_copy, ['program__class_defs_pct', 'program__enum_defs_pct'], 10))\n",
    "print(get_statistics(X_copy, ['program__function_defs_pct', 'program__enum_defs_pct'], 10))\n",
    "print(get_statistics(X_copy, ['program__number_of_sub_dirs_with_code', 'program__number_of_modules'], 10))\n",
    "print(get_statistics(X_copy, ['program__number_of_sub_dirs_with_code', 'program__number_of_packages'], 10))\n",
    "print(get_statistics(X_copy, ['program__number_of_modules', 'program__number_of_packages'], 10))\n",
    "\n",
    "# 3 FEATURES\n",
    "print(\"--- THREE FEATURES ---\")\n",
    "print(get_statistics(X_copy, ['program__has_sub_dirs_with_code', 'program__has_packages', 'program__has_code_root_package'], 10))\n",
    "print(get_statistics(X_copy, ['program__class_defs_pct', 'program__function_defs_pct', 'program__enum_defs_pct'], 10))\n",
    "print(get_statistics(X_copy, ['program__number_of_sub_dirs_with_code', 'program__number_of_modules', 'program__number_of_packages'], 10))"
   ],
   "outputs": [
    {
     "name": "stdout",
     "output_type": "stream",
     "text": [
      "--- SINGLE FEATURE ---\n",
      " program__has_sub_dirs_with_code  count  percentage\n",
      "                            True     17   94.444444\n",
      "                           False      1    5.555556\n",
      "\n",
      " program__has_packages  count  percentage\n",
      "                  True     17   94.444444\n",
      "                 False      1    5.555556\n",
      "\n",
      " program__has_code_root_package  count  percentage\n",
      "                           True     13   72.222222\n",
      "                          False      5   27.777778\n",
      "\n",
      "program__class_defs_pct  count  percentage\n",
      "              [0.0_inf]     18       100.0\n",
      "\n",
      "program__function_defs_pct  count  percentage\n",
      "                 [0.0_1.0)     18       100.0\n",
      "\n",
      "program__enum_defs_pct  count  percentage\n",
      "             [0.0_inf]     12   66.666667\n",
      "             [0.0_0.0]      6   33.333333\n",
      "\n",
      "program__number_of_sub_dirs_with_code  count  percentage\n",
      "                              [0_inf]     17   94.444444\n",
      "                                [0_0]      1    5.555556\n",
      "\n",
      "program__number_of_modules  count  percentage\n",
      "                   [4_inf]     18       100.0\n",
      "\n",
      "program__number_of_packages  count  percentage\n",
      "                    [0_inf]     17   94.444444\n",
      "                      [0_0]      1    5.555556\n",
      "\n",
      "program__average_defs_per_module  count  percentage\n",
      "                         [3_inf]     11   61.111111\n",
      "                           [1_3)      5   27.777778\n",
      "                           [0_1)      2   11.111111\n",
      "\n",
      "--- TWO FEATURES ---\n",
      " program__has_sub_dirs_with_code  program__has_packages  count  percentage\n",
      "                            True                   True     16   88.888889\n",
      "                           False                   True      1    5.555556\n",
      "                            True                  False      1    5.555556\n",
      "\n",
      " program__has_sub_dirs_with_code  program__has_code_root_package  count  percentage\n",
      "                            True                            True     12   66.666667\n",
      "                            True                           False      5   27.777778\n",
      "                           False                            True      1    5.555556\n",
      "\n",
      " program__has_packages  program__has_code_root_package  count  percentage\n",
      "                  True                            True     12   66.666667\n",
      "                  True                           False      5   27.777778\n",
      "                 False                            True      1    5.555556\n",
      "\n",
      "program__class_defs_pct program__function_defs_pct  count  percentage\n",
      "              [0.0_inf]                  [0.0_1.0)     18       100.0\n",
      "\n",
      "program__class_defs_pct program__enum_defs_pct  count  percentage\n",
      "              [0.0_inf]              [0.0_inf]     12   66.666667\n",
      "              [0.0_inf]              [0.0_0.0]      6   33.333333\n",
      "\n",
      "program__function_defs_pct program__enum_defs_pct  count  percentage\n",
      "                 [0.0_1.0)              [0.0_inf]     12   66.666667\n",
      "                 [0.0_1.0)              [0.0_0.0]      6   33.333333\n",
      "\n",
      "program__number_of_sub_dirs_with_code program__number_of_modules  count  percentage\n",
      "                              [0_inf]                    [4_inf]     17   94.444444\n",
      "                                [0_0]                    [4_inf]      1    5.555556\n",
      "\n",
      "program__number_of_sub_dirs_with_code program__number_of_packages  count  percentage\n",
      "                              [0_inf]                     [0_inf]     16   88.888889\n",
      "                                [0_0]                     [0_inf]      1    5.555556\n",
      "                              [0_inf]                       [0_0]      1    5.555556\n",
      "\n",
      "program__number_of_modules program__number_of_packages  count  percentage\n",
      "                   [4_inf]                     [0_inf]     17   94.444444\n",
      "                   [4_inf]                       [0_0]      1    5.555556\n",
      "\n",
      "--- THREE FEATURES ---\n",
      " program__has_sub_dirs_with_code  program__has_packages  program__has_code_root_package  count  percentage\n",
      "                            True                   True                            True     11   61.111111\n",
      "                            True                   True                           False      5   27.777778\n",
      "                           False                   True                            True      1    5.555556\n",
      "                            True                  False                            True      1    5.555556\n",
      "\n",
      "program__class_defs_pct program__function_defs_pct program__enum_defs_pct  count  percentage\n",
      "              [0.0_inf]                  [0.0_1.0)              [0.0_inf]     12   66.666667\n",
      "              [0.0_inf]                  [0.0_1.0)              [0.0_0.0]      6   33.333333\n",
      "\n",
      "program__number_of_sub_dirs_with_code program__number_of_modules program__number_of_packages  count  percentage\n",
      "                              [0_inf]                    [4_inf]                     [0_inf]     16   88.888889\n",
      "                                [0_0]                    [4_inf]                     [0_inf]      1    5.555556\n",
      "                              [0_inf]                    [4_inf]                       [0_0]      1    5.555556\n",
      "\n"
     ]
    }
   ],
   "execution_count": 8
  },
  {
   "cell_type": "code",
   "id": "1ca9a43e-6db6-44a7-aaab-65f00d1ea79e",
   "metadata": {
    "pycharm": {
     "name": "#%%\n"
    },
    "tags": [],
    "ExecuteTime": {
     "end_time": "2024-05-14T11:28:10.241876Z",
     "start_time": "2024-05-14T11:28:10.236495Z"
    }
   },
   "source": [
    "def normalize_datatypes(X:pd.DataFrame) -> (pd.DataFrame, [str]):\n",
    "    X = pd.get_dummies(X)\n",
    "    X = X.astype('float32')        \n",
    "    columns_names = X.columns.tolist()\n",
    "    return X, columns_names\n",
    "\n",
    "X, TABLE_FEATURES = normalize_datatypes(X)\n",
    "# Print information about the loaded table\n",
    "print(f'Features shape: {X.shape}')"
   ],
   "outputs": [
    {
     "name": "stdout",
     "output_type": "stream",
     "text": [
      "Features shape: (18, 10)\n"
     ]
    }
   ],
   "execution_count": 9
  },
  {
   "cell_type": "markdown",
   "id": "e9fc6a7d9acd9a9e",
   "metadata": {
    "collapsed": false
   },
   "source": [
    "#### Muestra la matriz de correlación de pearson entre las variables de la tabla."
   ]
  },
  {
   "cell_type": "code",
   "id": "70af048034c80af1",
   "metadata": {
    "collapsed": false,
    "ExecuteTime": {
     "end_time": "2024-05-14T11:28:10.758337Z",
     "start_time": "2024-05-14T11:28:10.243884Z"
    }
   },
   "source": [
    "sns.heatmap(X.corr(), annot=True)"
   ],
   "outputs": [
    {
     "data": {
      "text/plain": [
       "<Axes: >"
      ]
     },
     "execution_count": 10,
     "metadata": {},
     "output_type": "execute_result"
    },
    {
     "data": {
      "text/plain": [
       "<Figure size 640x480 with 2 Axes>"
      ],
      "image/png": "[encoded data removed]"
     },
     "metadata": {},
     "output_type": "display_data"
    }
   ],
   "execution_count": 10
  },
  {
   "cell_type": "markdown",
   "id": "9a47cdd4cc2b3fae",
   "metadata": {
    "collapsed": false
   },
   "source": [
    "## 3 - Detección de valores atípicos (outliers)\n",
    "## Univariate\n",
    "## Analisis detallado de variables\n",
    "Para cada una de las 10 variable (3 booleanas, 4 porcentuales y 3 numericas) se hara un analisis detallado"
   ]
  },
  {
   "cell_type": "markdown",
   "source": [
    "### Variable has_sub_dirs_with_code (1/10)\n",
    "Esta variable es de tipo booleano y representa si el programa contiene algún subdirectorio con código."
   ],
   "metadata": {
    "collapsed": false
   },
   "id": "59c216b40cd37670"
  },
  {
   "cell_type": "code",
   "id": "1b756a3a68d1ff37",
   "metadata": {
    "collapsed": false,
    "ExecuteTime": {
     "end_time": "2024-05-14T11:28:10.886756Z",
     "start_time": "2024-05-14T11:28:10.759348Z"
    }
   },
   "source": [
    "plt.xticks([0, 1], ['False', 'True'])\n",
    "sns.histplot(X['program__has_sub_dirs_with_code'], discrete=True)"
   ],
   "outputs": [
    {
     "data": {
      "text/plain": [
       "<Axes: xlabel='program__has_sub_dirs_with_code', ylabel='Count'>"
      ]
     },
     "execution_count": 11,
     "metadata": {},
     "output_type": "execute_result"
    },
    {
     "data": {
      "text/plain": [
       "<Figure size 640x480 with 1 Axes>"
      ],
      "image/png": "[encoded data removed]"
     },
     "metadata": {},
     "output_type": "display_data"
    }
   ],
   "execution_count": 11
  },
  {
   "cell_type": "code",
   "id": "199172bf4c3e2333",
   "metadata": {
    "collapsed": false,
    "ExecuteTime": {
     "end_time": "2024-05-14T11:28:10.894345Z",
     "start_time": "2024-05-14T11:28:10.887767Z"
    }
   },
   "source": [
    "num_true_values = len(X[X['program__has_sub_dirs_with_code'] == True])\n",
    "num_false_values = len(X[X['program__has_sub_dirs_with_code'] == False])\n",
    "std = X['program__has_sub_dirs_with_code'].std()\n",
    "freq_true = len(X[X['program__has_sub_dirs_with_code'] == True]) / len(X['program__has_sub_dirs_with_code'])\n",
    "freq_false = len(X[X['program__has_sub_dirs_with_code'] == False]) / len(X['program__has_sub_dirs_with_code'])\n",
    "print(f'La variable has_sub_dirs_with_code contiene {num_true_values} valores verdaderos y {num_false_values} valores falsos. Y, la desviación típica es de {std}')\n",
    "print(f'La frecuencia con la que programa puede tener la variable has_sub_dirs_with_code a True es {freq_true}.')\n",
    "print(f'La frecuencia con la que programa puede tener la variable has_sub_dirs_with_code a False es {freq_false}.')"
   ],
   "outputs": [
    {
     "name": "stdout",
     "output_type": "stream",
     "text": [
      "La variable has_sub_dirs_with_code contiene 17 valores verdaderos y 1 valores falsos. Y, la desviación típica es de 0.2357022613286972\n",
      "La frecuencia con la que programa puede tener la variable has_sub_dirs_with_code a True es 0.9444444444444444.\n",
      "La frecuencia con la que programa puede tener la variable has_sub_dirs_with_code a False es 0.05555555555555555.\n"
     ]
    }
   ],
   "execution_count": 12
  },
  {
   "cell_type": "code",
   "id": "3fe7f5c8b29b89ec",
   "metadata": {
    "collapsed": false,
    "ExecuteTime": {
     "end_time": "2024-05-14T11:28:10.900028Z",
     "start_time": "2024-05-14T11:28:10.894345Z"
    }
   },
   "source": [
    "possible_values = [True, False]\n",
    "print_frequency_anal_for_cat_var(X, 'program__has_sub_dirs_with_code', possible_values)"
   ],
   "outputs": [
    {
     "name": "stdout",
     "output_type": "stream",
     "text": [
      "La variable program__has_sub_dirs_with_code contiene 2 valores distintos.\n",
      "El umbral de outlier es de 0.1%\n",
      "La variable program__has_sub_dirs_with_code toma el valor de 1.0 en un 94.44% de los items.\n",
      "La variable program__has_sub_dirs_with_code toma el valor de 0.0 en un 5.556% de los items.\n"
     ]
    }
   ],
   "execution_count": 13
  },
  {
   "cell_type": "markdown",
   "id": "47601e9fcd859220",
   "metadata": {
    "collapsed": false
   },
   "source": "Describimos los valores de las variables de la tabla, cuando la variable tiene el valor a False."
  },
  {
   "cell_type": "code",
   "id": "79c6ac73f901d5dc",
   "metadata": {
    "collapsed": false,
    "ExecuteTime": {
     "end_time": "2024-05-14T11:28:10.930033Z",
     "start_time": "2024-05-14T11:28:10.901037Z"
    }
   },
   "source": "X[X['program__has_sub_dirs_with_code'] == False].describe(percentiles=[.25, .50, .75], include = ['object', 'float', 'bool', 'int'])",
   "outputs": [
    {
     "data": {
      "text/plain": [
       "       program__has_sub_dirs_with_code  program__has_packages  \\\n",
       "count                              1.0                    1.0   \n",
       "mean                               0.0                    1.0   \n",
       "std                                NaN                    NaN   \n",
       "min                                0.0                    1.0   \n",
       "25%                                0.0                    1.0   \n",
       "50%                                0.0                    1.0   \n",
       "75%                                0.0                    1.0   \n",
       "max                                0.0                    1.0   \n",
       "\n",
       "       program__number_of_modules  program__number_of_sub_dirs_with_code  \\\n",
       "count                         1.0                                    1.0   \n",
       "mean                         49.0                                    0.0   \n",
       "std                           NaN                                    NaN   \n",
       "min                          49.0                                    0.0   \n",
       "25%                          49.0                                    0.0   \n",
       "50%                          49.0                                    0.0   \n",
       "75%                          49.0                                    0.0   \n",
       "max                          49.0                                    0.0   \n",
       "\n",
       "       program__number_of_packages  program__class_defs_pct  \\\n",
       "count                          1.0                 1.000000   \n",
       "mean                          10.0                 0.368421   \n",
       "std                            NaN                      NaN   \n",
       "min                           10.0                 0.368421   \n",
       "25%                           10.0                 0.368421   \n",
       "50%                           10.0                 0.368421   \n",
       "75%                           10.0                 0.368421   \n",
       "max                           10.0                 0.368421   \n",
       "\n",
       "       program__function_defs_pct  program__enum_defs_pct  \\\n",
       "count                    1.000000                     1.0   \n",
       "mean                     0.631579                     0.0   \n",
       "std                           NaN                     NaN   \n",
       "min                      0.631579                     0.0   \n",
       "25%                      0.631579                     0.0   \n",
       "50%                      0.631579                     0.0   \n",
       "75%                      0.631579                     0.0   \n",
       "max                      0.631579                     0.0   \n",
       "\n",
       "       program__has_code_root_package  program__average_defs_per_module  \n",
       "count                             1.0                          1.000000  \n",
       "mean                              1.0                          1.938776  \n",
       "std                               NaN                               NaN  \n",
       "min                               1.0                          1.938776  \n",
       "25%                               1.0                          1.938776  \n",
       "50%                               1.0                          1.938776  \n",
       "75%                               1.0                          1.938776  \n",
       "max                               1.0                          1.938776  "
      ],
      "text/html": [
       "<div>\n",
       "<style scoped>\n",
       "    .dataframe tbody tr th:only-of-type {\n",
       "        vertical-align: middle;\n",
       "    }\n",
       "\n",
       "    .dataframe tbody tr th {\n",
       "        vertical-align: top;\n",
       "    }\n",
       "\n",
       "    .dataframe thead th {\n",
       "        text-align: right;\n",
       "    }\n",
       "</style>\n",
       "<table border=\"1\" class=\"dataframe\">\n",
       "  <thead>\n",
       "    <tr style=\"text-align: right;\">\n",
       "      <th></th>\n",
       "      <th>program__has_sub_dirs_with_code</th>\n",
       "      <th>program__has_packages</th>\n",
       "      <th>program__number_of_modules</th>\n",
       "      <th>program__number_of_sub_dirs_with_code</th>\n",
       "      <th>program__number_of_packages</th>\n",
       "      <th>program__class_defs_pct</th>\n",
       "      <th>program__function_defs_pct</th>\n",
       "      <th>program__enum_defs_pct</th>\n",
       "      <th>program__has_code_root_package</th>\n",
       "      <th>program__average_defs_per_module</th>\n",
       "    </tr>\n",
       "  </thead>\n",
       "  <tbody>\n",
       "    <tr>\n",
       "      <th>count</th>\n",
       "      <td>1.0</td>\n",
       "      <td>1.0</td>\n",
       "      <td>1.0</td>\n",
       "      <td>1.0</td>\n",
       "      <td>1.0</td>\n",
       "      <td>1.000000</td>\n",
       "      <td>1.000000</td>\n",
       "      <td>1.0</td>\n",
       "      <td>1.0</td>\n",
       "      <td>1.000000</td>\n",
       "    </tr>\n",
       "    <tr>\n",
       "      <th>mean</th>\n",
       "      <td>0.0</td>\n",
       "      <td>1.0</td>\n",
       "      <td>49.0</td>\n",
       "      <td>0.0</td>\n",
       "      <td>10.0</td>\n",
       "      <td>0.368421</td>\n",
       "      <td>0.631579</td>\n",
       "      <td>0.0</td>\n",
       "      <td>1.0</td>\n",
       "      <td>1.938776</td>\n",
       "    </tr>\n",
       "    <tr>\n",
       "      <th>std</th>\n",
       "      <td>NaN</td>\n",
       "      <td>NaN</td>\n",
       "      <td>NaN</td>\n",
       "      <td>NaN</td>\n",
       "      <td>NaN</td>\n",
       "      <td>NaN</td>\n",
       "      <td>NaN</td>\n",
       "      <td>NaN</td>\n",
       "      <td>NaN</td>\n",
       "      <td>NaN</td>\n",
       "    </tr>\n",
       "    <tr>\n",
       "      <th>min</th>\n",
       "      <td>0.0</td>\n",
       "      <td>1.0</td>\n",
       "      <td>49.0</td>\n",
       "      <td>0.0</td>\n",
       "      <td>10.0</td>\n",
       "      <td>0.368421</td>\n",
       "      <td>0.631579</td>\n",
       "      <td>0.0</td>\n",
       "      <td>1.0</td>\n",
       "      <td>1.938776</td>\n",
       "    </tr>\n",
       "    <tr>\n",
       "      <th>25%</th>\n",
       "      <td>0.0</td>\n",
       "      <td>1.0</td>\n",
       "      <td>49.0</td>\n",
       "      <td>0.0</td>\n",
       "      <td>10.0</td>\n",
       "      <td>0.368421</td>\n",
       "      <td>0.631579</td>\n",
       "      <td>0.0</td>\n",
       "      <td>1.0</td>\n",
       "      <td>1.938776</td>\n",
       "    </tr>\n",
       "    <tr>\n",
       "      <th>50%</th>\n",
       "      <td>0.0</td>\n",
       "      <td>1.0</td>\n",
       "      <td>49.0</td>\n",
       "      <td>0.0</td>\n",
       "      <td>10.0</td>\n",
       "      <td>0.368421</td>\n",
       "      <td>0.631579</td>\n",
       "      <td>0.0</td>\n",
       "      <td>1.0</td>\n",
       "      <td>1.938776</td>\n",
       "    </tr>\n",
       "    <tr>\n",
       "      <th>75%</th>\n",
       "      <td>0.0</td>\n",
       "      <td>1.0</td>\n",
       "      <td>49.0</td>\n",
       "      <td>0.0</td>\n",
       "      <td>10.0</td>\n",
       "      <td>0.368421</td>\n",
       "      <td>0.631579</td>\n",
       "      <td>0.0</td>\n",
       "      <td>1.0</td>\n",
       "      <td>1.938776</td>\n",
       "    </tr>\n",
       "    <tr>\n",
       "      <th>max</th>\n",
       "      <td>0.0</td>\n",
       "      <td>1.0</td>\n",
       "      <td>49.0</td>\n",
       "      <td>0.0</td>\n",
       "      <td>10.0</td>\n",
       "      <td>0.368421</td>\n",
       "      <td>0.631579</td>\n",
       "      <td>0.0</td>\n",
       "      <td>1.0</td>\n",
       "      <td>1.938776</td>\n",
       "    </tr>\n",
       "  </tbody>\n",
       "</table>\n",
       "</div>"
      ]
     },
     "execution_count": 14,
     "metadata": {},
     "output_type": "execute_result"
    }
   ],
   "execution_count": 14
  },
  {
   "metadata": {},
   "cell_type": "markdown",
   "source": [
    "### IMPORTANTE\n",
    "\n",
    "Hay 1 programa que no tiene subdirectorios con código."
   ],
   "id": "62b6073e29b2f6af"
  },
  {
   "cell_type": "markdown",
   "id": "9fda3aab7303f0d4",
   "metadata": {
    "collapsed": false
   },
   "source": [
    "### Variable has_packages (2/10)\n",
    "Esta variable es de tipo booleano y representa si el programa contiene algún paquete. "
   ]
  },
  {
   "cell_type": "code",
   "id": "921614f9",
   "metadata": {
    "ExecuteTime": {
     "end_time": "2024-05-14T11:28:11.048396Z",
     "start_time": "2024-05-14T11:28:10.931043Z"
    }
   },
   "source": [
    "plt.xticks([0, 1], ['False', 'True'])\n",
    "sns.histplot(X['program__has_packages'], discrete=True)"
   ],
   "outputs": [
    {
     "data": {
      "text/plain": [
       "<Axes: xlabel='program__has_packages', ylabel='Count'>"
      ]
     },
     "execution_count": 15,
     "metadata": {},
     "output_type": "execute_result"
    },
    {
     "data": {
      "text/plain": [
       "<Figure size 640x480 with 1 Axes>"
      ],
      "image/png": "[encoded data removed]"
     },
     "metadata": {},
     "output_type": "display_data"
    }
   ],
   "execution_count": 15
  },
  {
   "cell_type": "code",
   "id": "3d974464",
   "metadata": {
    "ExecuteTime": {
     "end_time": "2024-05-14T11:28:11.056424Z",
     "start_time": "2024-05-14T11:28:11.049436Z"
    }
   },
   "source": [
    "#ANALISIS DE DISTRIBUCIÓN DE DATOS\n",
    "num_true_values = len(X[X['program__has_packages'] == True])\n",
    "num_false_values = len(X[X['program__has_packages'] == False])\n",
    "std = X['program__has_packages'].std()\n",
    "freq_true = len(X[X['program__has_packages'] == True]) / len(X['program__has_packages'])\n",
    "freq_false = len(X[X['program__has_packages'] == False]) / len(X['program__has_packages'])\n",
    "print(f'La variable program__has_packages contiene {num_true_values} valores verdaderos y {num_false_values} valores falsos. Y, la desviación típica es de {std}')\n",
    "print(f'La frecuencia con la que programa puede tener la variable program__has_packages a True es {freq_true}.')\n",
    "print(f'La frecuencia con la que programa puede tener la variable program__has_packages a False es {freq_false}.')"
   ],
   "outputs": [
    {
     "name": "stdout",
     "output_type": "stream",
     "text": [
      "La variable program__has_packages contiene 17 valores verdaderos y 1 valores falsos. Y, la desviación típica es de 0.2357022613286972\n",
      "La frecuencia con la que programa puede tener la variable program__has_packages a True es 0.9444444444444444.\n",
      "La frecuencia con la que programa puede tener la variable program__has_packages a False es 0.05555555555555555.\n"
     ]
    }
   ],
   "execution_count": 16
  },
  {
   "cell_type": "code",
   "id": "d9b3f5b6",
   "metadata": {
    "ExecuteTime": {
     "end_time": "2024-05-14T11:28:11.061487Z",
     "start_time": "2024-05-14T11:28:11.057433Z"
    }
   },
   "source": [
    "#PROBABILIDAD DE VALORES\n",
    "possible_values = [True, False]\n",
    "print_frequency_anal_for_cat_var(X, 'program__has_packages', possible_values)"
   ],
   "outputs": [
    {
     "name": "stdout",
     "output_type": "stream",
     "text": [
      "La variable program__has_packages contiene 2 valores distintos.\n",
      "El umbral de outlier es de 0.1%\n",
      "La variable program__has_packages toma el valor de 1.0 en un 94.44% de los items.\n",
      "La variable program__has_packages toma el valor de 0.0 en un 5.556% de los items.\n"
     ]
    }
   ],
   "execution_count": 17
  },
  {
   "cell_type": "code",
   "id": "045fd34e",
   "metadata": {
    "ExecuteTime": {
     "end_time": "2024-05-14T11:28:11.090768Z",
     "start_time": "2024-05-14T11:28:11.062498Z"
    }
   },
   "source": "X[X['program__has_packages'] == False].describe(percentiles=[.25, .50, .75], include = ['object', 'float', 'bool', 'int'])",
   "outputs": [
    {
     "data": {
      "text/plain": [
       "       program__has_sub_dirs_with_code  program__has_packages  \\\n",
       "count                              1.0                    1.0   \n",
       "mean                               1.0                    0.0   \n",
       "std                                NaN                    NaN   \n",
       "min                                1.0                    0.0   \n",
       "25%                                1.0                    0.0   \n",
       "50%                                1.0                    0.0   \n",
       "75%                                1.0                    0.0   \n",
       "max                                1.0                    0.0   \n",
       "\n",
       "       program__number_of_modules  program__number_of_sub_dirs_with_code  \\\n",
       "count                         1.0                                    1.0   \n",
       "mean                         15.0                                    4.0   \n",
       "std                           NaN                                    NaN   \n",
       "min                          15.0                                    4.0   \n",
       "25%                          15.0                                    4.0   \n",
       "50%                          15.0                                    4.0   \n",
       "75%                          15.0                                    4.0   \n",
       "max                          15.0                                    4.0   \n",
       "\n",
       "       program__number_of_packages  program__class_defs_pct  \\\n",
       "count                          1.0                 1.000000   \n",
       "mean                           0.0                 0.545455   \n",
       "std                            NaN                      NaN   \n",
       "min                            0.0                 0.545455   \n",
       "25%                            0.0                 0.545455   \n",
       "50%                            0.0                 0.545455   \n",
       "75%                            0.0                 0.545455   \n",
       "max                            0.0                 0.545455   \n",
       "\n",
       "       program__function_defs_pct  program__enum_defs_pct  \\\n",
       "count                    1.000000                     1.0   \n",
       "mean                     0.454545                     0.0   \n",
       "std                           NaN                     NaN   \n",
       "min                      0.454545                     0.0   \n",
       "25%                      0.454545                     0.0   \n",
       "50%                      0.454545                     0.0   \n",
       "75%                      0.454545                     0.0   \n",
       "max                      0.454545                     0.0   \n",
       "\n",
       "       program__has_code_root_package  program__average_defs_per_module  \n",
       "count                             1.0                          1.000000  \n",
       "mean                              1.0                          0.733333  \n",
       "std                               NaN                               NaN  \n",
       "min                               1.0                          0.733333  \n",
       "25%                               1.0                          0.733333  \n",
       "50%                               1.0                          0.733333  \n",
       "75%                               1.0                          0.733333  \n",
       "max                               1.0                          0.733333  "
      ],
      "text/html": [
       "<div>\n",
       "<style scoped>\n",
       "    .dataframe tbody tr th:only-of-type {\n",
       "        vertical-align: middle;\n",
       "    }\n",
       "\n",
       "    .dataframe tbody tr th {\n",
       "        vertical-align: top;\n",
       "    }\n",
       "\n",
       "    .dataframe thead th {\n",
       "        text-align: right;\n",
       "    }\n",
       "</style>\n",
       "<table border=\"1\" class=\"dataframe\">\n",
       "  <thead>\n",
       "    <tr style=\"text-align: right;\">\n",
       "      <th></th>\n",
       "      <th>program__has_sub_dirs_with_code</th>\n",
       "      <th>program__has_packages</th>\n",
       "      <th>program__number_of_modules</th>\n",
       "      <th>program__number_of_sub_dirs_with_code</th>\n",
       "      <th>program__number_of_packages</th>\n",
       "      <th>program__class_defs_pct</th>\n",
       "      <th>program__function_defs_pct</th>\n",
       "      <th>program__enum_defs_pct</th>\n",
       "      <th>program__has_code_root_package</th>\n",
       "      <th>program__average_defs_per_module</th>\n",
       "    </tr>\n",
       "  </thead>\n",
       "  <tbody>\n",
       "    <tr>\n",
       "      <th>count</th>\n",
       "      <td>1.0</td>\n",
       "      <td>1.0</td>\n",
       "      <td>1.0</td>\n",
       "      <td>1.0</td>\n",
       "      <td>1.0</td>\n",
       "      <td>1.000000</td>\n",
       "      <td>1.000000</td>\n",
       "      <td>1.0</td>\n",
       "      <td>1.0</td>\n",
       "      <td>1.000000</td>\n",
       "    </tr>\n",
       "    <tr>\n",
       "      <th>mean</th>\n",
       "      <td>1.0</td>\n",
       "      <td>0.0</td>\n",
       "      <td>15.0</td>\n",
       "      <td>4.0</td>\n",
       "      <td>0.0</td>\n",
       "      <td>0.545455</td>\n",
       "      <td>0.454545</td>\n",
       "      <td>0.0</td>\n",
       "      <td>1.0</td>\n",
       "      <td>0.733333</td>\n",
       "    </tr>\n",
       "    <tr>\n",
       "      <th>std</th>\n",
       "      <td>NaN</td>\n",
       "      <td>NaN</td>\n",
       "      <td>NaN</td>\n",
       "      <td>NaN</td>\n",
       "      <td>NaN</td>\n",
       "      <td>NaN</td>\n",
       "      <td>NaN</td>\n",
       "      <td>NaN</td>\n",
       "      <td>NaN</td>\n",
       "      <td>NaN</td>\n",
       "    </tr>\n",
       "    <tr>\n",
       "      <th>min</th>\n",
       "      <td>1.0</td>\n",
       "      <td>0.0</td>\n",
       "      <td>15.0</td>\n",
       "      <td>4.0</td>\n",
       "      <td>0.0</td>\n",
       "      <td>0.545455</td>\n",
       "      <td>0.454545</td>\n",
       "      <td>0.0</td>\n",
       "      <td>1.0</td>\n",
       "      <td>0.733333</td>\n",
       "    </tr>\n",
       "    <tr>\n",
       "      <th>25%</th>\n",
       "      <td>1.0</td>\n",
       "      <td>0.0</td>\n",
       "      <td>15.0</td>\n",
       "      <td>4.0</td>\n",
       "      <td>0.0</td>\n",
       "      <td>0.545455</td>\n",
       "      <td>0.454545</td>\n",
       "      <td>0.0</td>\n",
       "      <td>1.0</td>\n",
       "      <td>0.733333</td>\n",
       "    </tr>\n",
       "    <tr>\n",
       "      <th>50%</th>\n",
       "      <td>1.0</td>\n",
       "      <td>0.0</td>\n",
       "      <td>15.0</td>\n",
       "      <td>4.0</td>\n",
       "      <td>0.0</td>\n",
       "      <td>0.545455</td>\n",
       "      <td>0.454545</td>\n",
       "      <td>0.0</td>\n",
       "      <td>1.0</td>\n",
       "      <td>0.733333</td>\n",
       "    </tr>\n",
       "    <tr>\n",
       "      <th>75%</th>\n",
       "      <td>1.0</td>\n",
       "      <td>0.0</td>\n",
       "      <td>15.0</td>\n",
       "      <td>4.0</td>\n",
       "      <td>0.0</td>\n",
       "      <td>0.545455</td>\n",
       "      <td>0.454545</td>\n",
       "      <td>0.0</td>\n",
       "      <td>1.0</td>\n",
       "      <td>0.733333</td>\n",
       "    </tr>\n",
       "    <tr>\n",
       "      <th>max</th>\n",
       "      <td>1.0</td>\n",
       "      <td>0.0</td>\n",
       "      <td>15.0</td>\n",
       "      <td>4.0</td>\n",
       "      <td>0.0</td>\n",
       "      <td>0.545455</td>\n",
       "      <td>0.454545</td>\n",
       "      <td>0.0</td>\n",
       "      <td>1.0</td>\n",
       "      <td>0.733333</td>\n",
       "    </tr>\n",
       "  </tbody>\n",
       "</table>\n",
       "</div>"
      ]
     },
     "execution_count": 18,
     "metadata": {},
     "output_type": "execute_result"
    }
   ],
   "execution_count": 18
  },
  {
   "metadata": {},
   "cell_type": "markdown",
   "source": [
    "### IMPORTANTE\n",
    "\n",
    "Hay 1 programa que no tiene paquetes. "
   ],
   "id": "39c5f61e6940e950"
  },
  {
   "metadata": {},
   "cell_type": "markdown",
   "source": [
    "### Variable has_code_root_packages (3/10)\n",
    "Esta variable es de tipo booleano y representa si el programa contiene código en el directorio root."
   ],
   "id": "cc2230d89c1d901"
  },
  {
   "metadata": {
    "ExecuteTime": {
     "end_time": "2024-05-14T11:28:11.207341Z",
     "start_time": "2024-05-14T11:28:11.091777Z"
    }
   },
   "cell_type": "code",
   "source": [
    "plt.xticks([0, 1], ['False', 'True'])\n",
    "sns.histplot(X['program__has_code_root_package'], discrete=True)"
   ],
   "id": "fc2c509d5dd80feb",
   "outputs": [
    {
     "data": {
      "text/plain": [
       "<Axes: xlabel='program__has_code_root_package', ylabel='Count'>"
      ]
     },
     "execution_count": 19,
     "metadata": {},
     "output_type": "execute_result"
    },
    {
     "data": {
      "text/plain": [
       "<Figure size 640x480 with 1 Axes>"
      ],
      "image/png": "[encoded data removed]"
     },
     "metadata": {},
     "output_type": "display_data"
    }
   ],
   "execution_count": 19
  },
  {
   "metadata": {
    "ExecuteTime": {
     "end_time": "2024-05-14T11:28:11.215758Z",
     "start_time": "2024-05-14T11:28:11.208253Z"
    }
   },
   "cell_type": "code",
   "source": [
    "#ANALISIS DE DISTRIBUCIÓN DE DATOS\n",
    "num_true_values = len(X[X['program__has_code_root_package'] == True])\n",
    "num_false_values = len(X[X['program__has_code_root_package'] == False])\n",
    "std = X['program__has_code_root_package'].std()\n",
    "freq_true = len(X[X['program__has_code_root_package'] == True]) / len(X['program__has_code_root_package'])\n",
    "freq_false = len(X[X['program__has_code_root_package'] == False]) / len(X['program__has_code_root_package'])\n",
    "print(f'La variable program__has_code_root_package contiene {num_true_values} valores verdaderos y {num_false_values} valores falsos. Y, la desviación típica es de {std}')\n",
    "print(f'La frecuencia con la que programa puede tener la variable program__has_code_root_package a True es {freq_true}.')\n",
    "print(f'La frecuencia con la que programa puede tener la variable program__has_code_root_package a False es {freq_false}.')"
   ],
   "id": "e4ac7fd947513444",
   "outputs": [
    {
     "name": "stdout",
     "output_type": "stream",
     "text": [
      "La variable program__has_code_root_package contiene 13 valores verdaderos y 5 valores falsos. Y, la desviación típica es de 0.4608885943889618\n",
      "La frecuencia con la que programa puede tener la variable program__has_code_root_package a True es 0.7222222222222222.\n",
      "La frecuencia con la que programa puede tener la variable program__has_code_root_package a False es 0.2777777777777778.\n"
     ]
    }
   ],
   "execution_count": 20
  },
  {
   "metadata": {
    "ExecuteTime": {
     "end_time": "2024-05-14T11:28:11.221495Z",
     "start_time": "2024-05-14T11:28:11.216770Z"
    }
   },
   "cell_type": "code",
   "source": [
    "#PROBABILIDAD DE VALORES\n",
    "possible_values = [True, False]\n",
    "print_frequency_anal_for_cat_var(X, 'program__has_code_root_package', possible_values)"
   ],
   "id": "6eda444c15afc88f",
   "outputs": [
    {
     "name": "stdout",
     "output_type": "stream",
     "text": [
      "La variable program__has_code_root_package contiene 2 valores distintos.\n",
      "El umbral de outlier es de 0.1%\n",
      "La variable program__has_code_root_package toma el valor de 1.0 en un 72.22% de los items.\n",
      "La variable program__has_code_root_package toma el valor de 0.0 en un 27.78% de los items.\n"
     ]
    }
   ],
   "execution_count": 21
  },
  {
   "metadata": {
    "ExecuteTime": {
     "end_time": "2024-05-14T11:28:11.251339Z",
     "start_time": "2024-05-14T11:28:11.222505Z"
    }
   },
   "cell_type": "code",
   "source": "X[X['program__has_code_root_package'] == False].describe(percentiles=[.25, .50, .75], include = ['object', 'float', 'bool', 'int'])",
   "id": "a5fc73b1d742f01a",
   "outputs": [
    {
     "data": {
      "text/plain": [
       "       program__has_sub_dirs_with_code  program__has_packages  \\\n",
       "count                              5.0                    5.0   \n",
       "mean                               1.0                    1.0   \n",
       "std                                0.0                    0.0   \n",
       "min                                1.0                    1.0   \n",
       "25%                                1.0                    1.0   \n",
       "50%                                1.0                    1.0   \n",
       "75%                                1.0                    1.0   \n",
       "max                                1.0                    1.0   \n",
       "\n",
       "       program__number_of_modules  program__number_of_sub_dirs_with_code  \\\n",
       "count                    5.000000                               5.000000   \n",
       "mean                  1550.000000                              68.199997   \n",
       "std                   1596.469238                              98.082619   \n",
       "min                    118.000000                               8.000000   \n",
       "25%                    396.000000                               9.000000   \n",
       "50%                    664.000000                              18.000000   \n",
       "75%                   3278.000000                              68.000000   \n",
       "max                   3294.000000                             238.000000   \n",
       "\n",
       "       program__number_of_packages  program__class_defs_pct  \\\n",
       "count                     5.000000                 5.000000   \n",
       "mean                    354.799988                 0.372176   \n",
       "std                     548.381897                 0.147461   \n",
       "min                       5.000000                 0.248424   \n",
       "25%                      38.000000                 0.302200   \n",
       "50%                      52.000000                 0.316770   \n",
       "75%                     382.000000                 0.368945   \n",
       "max                    1297.000000                 0.624539   \n",
       "\n",
       "       program__function_defs_pct  program__enum_defs_pct  \\\n",
       "count                    5.000000                5.000000   \n",
       "mean                     0.620500                0.007324   \n",
       "std                      0.145035                0.007107   \n",
       "min                      0.375461                0.000000   \n",
       "25%                      0.611977                0.004658   \n",
       "50%                      0.678571                0.005551   \n",
       "75%                      0.690465                0.007335   \n",
       "max                      0.746025                0.019078   \n",
       "\n",
       "       program__has_code_root_package  program__average_defs_per_module  \n",
       "count                             5.0                          5.000000  \n",
       "mean                              0.0                          3.922878  \n",
       "std                               0.0                          1.456639  \n",
       "min                               0.0                          1.829994  \n",
       "25%                               0.0                          3.079819  \n",
       "50%                               0.0                          4.451495  \n",
       "75%                               0.0                          4.795455  \n",
       "max                               0.0                          5.457627  "
      ],
      "text/html": [
       "<div>\n",
       "<style scoped>\n",
       "    .dataframe tbody tr th:only-of-type {\n",
       "        vertical-align: middle;\n",
       "    }\n",
       "\n",
       "    .dataframe tbody tr th {\n",
       "        vertical-align: top;\n",
       "    }\n",
       "\n",
       "    .dataframe thead th {\n",
       "        text-align: right;\n",
       "    }\n",
       "</style>\n",
       "<table border=\"1\" class=\"dataframe\">\n",
       "  <thead>\n",
       "    <tr style=\"text-align: right;\">\n",
       "      <th></th>\n",
       "      <th>program__has_sub_dirs_with_code</th>\n",
       "      <th>program__has_packages</th>\n",
       "      <th>program__number_of_modules</th>\n",
       "      <th>program__number_of_sub_dirs_with_code</th>\n",
       "      <th>program__number_of_packages</th>\n",
       "      <th>program__class_defs_pct</th>\n",
       "      <th>program__function_defs_pct</th>\n",
       "      <th>program__enum_defs_pct</th>\n",
       "      <th>program__has_code_root_package</th>\n",
       "      <th>program__average_defs_per_module</th>\n",
       "    </tr>\n",
       "  </thead>\n",
       "  <tbody>\n",
       "    <tr>\n",
       "      <th>count</th>\n",
       "      <td>5.0</td>\n",
       "      <td>5.0</td>\n",
       "      <td>5.000000</td>\n",
       "      <td>5.000000</td>\n",
       "      <td>5.000000</td>\n",
       "      <td>5.000000</td>\n",
       "      <td>5.000000</td>\n",
       "      <td>5.000000</td>\n",
       "      <td>5.0</td>\n",
       "      <td>5.000000</td>\n",
       "    </tr>\n",
       "    <tr>\n",
       "      <th>mean</th>\n",
       "      <td>1.0</td>\n",
       "      <td>1.0</td>\n",
       "      <td>1550.000000</td>\n",
       "      <td>68.199997</td>\n",
       "      <td>354.799988</td>\n",
       "      <td>0.372176</td>\n",
       "      <td>0.620500</td>\n",
       "      <td>0.007324</td>\n",
       "      <td>0.0</td>\n",
       "      <td>3.922878</td>\n",
       "    </tr>\n",
       "    <tr>\n",
       "      <th>std</th>\n",
       "      <td>0.0</td>\n",
       "      <td>0.0</td>\n",
       "      <td>1596.469238</td>\n",
       "      <td>98.082619</td>\n",
       "      <td>548.381897</td>\n",
       "      <td>0.147461</td>\n",
       "      <td>0.145035</td>\n",
       "      <td>0.007107</td>\n",
       "      <td>0.0</td>\n",
       "      <td>1.456639</td>\n",
       "    </tr>\n",
       "    <tr>\n",
       "      <th>min</th>\n",
       "      <td>1.0</td>\n",
       "      <td>1.0</td>\n",
       "      <td>118.000000</td>\n",
       "      <td>8.000000</td>\n",
       "      <td>5.000000</td>\n",
       "      <td>0.248424</td>\n",
       "      <td>0.375461</td>\n",
       "      <td>0.000000</td>\n",
       "      <td>0.0</td>\n",
       "      <td>1.829994</td>\n",
       "    </tr>\n",
       "    <tr>\n",
       "      <th>25%</th>\n",
       "      <td>1.0</td>\n",
       "      <td>1.0</td>\n",
       "      <td>396.000000</td>\n",
       "      <td>9.000000</td>\n",
       "      <td>38.000000</td>\n",
       "      <td>0.302200</td>\n",
       "      <td>0.611977</td>\n",
       "      <td>0.004658</td>\n",
       "      <td>0.0</td>\n",
       "      <td>3.079819</td>\n",
       "    </tr>\n",
       "    <tr>\n",
       "      <th>50%</th>\n",
       "      <td>1.0</td>\n",
       "      <td>1.0</td>\n",
       "      <td>664.000000</td>\n",
       "      <td>18.000000</td>\n",
       "      <td>52.000000</td>\n",
       "      <td>0.316770</td>\n",
       "      <td>0.678571</td>\n",
       "      <td>0.005551</td>\n",
       "      <td>0.0</td>\n",
       "      <td>4.451495</td>\n",
       "    </tr>\n",
       "    <tr>\n",
       "      <th>75%</th>\n",
       "      <td>1.0</td>\n",
       "      <td>1.0</td>\n",
       "      <td>3278.000000</td>\n",
       "      <td>68.000000</td>\n",
       "      <td>382.000000</td>\n",
       "      <td>0.368945</td>\n",
       "      <td>0.690465</td>\n",
       "      <td>0.007335</td>\n",
       "      <td>0.0</td>\n",
       "      <td>4.795455</td>\n",
       "    </tr>\n",
       "    <tr>\n",
       "      <th>max</th>\n",
       "      <td>1.0</td>\n",
       "      <td>1.0</td>\n",
       "      <td>3294.000000</td>\n",
       "      <td>238.000000</td>\n",
       "      <td>1297.000000</td>\n",
       "      <td>0.624539</td>\n",
       "      <td>0.746025</td>\n",
       "      <td>0.019078</td>\n",
       "      <td>0.0</td>\n",
       "      <td>5.457627</td>\n",
       "    </tr>\n",
       "  </tbody>\n",
       "</table>\n",
       "</div>"
      ]
     },
     "execution_count": 22,
     "metadata": {},
     "output_type": "execute_result"
    }
   ],
   "execution_count": 22
  },
  {
   "metadata": {},
   "cell_type": "markdown",
   "source": [
    "### Variable number_of_modules (4/10)\n",
    "Esta variable es de tipo numérica y nos indica el número de modulos definidos en el programa. Como vimos en la descripción de la tabla esta varibale adopta valores en el rango 15 - 3294. Con una media de 616,7."
   ],
   "id": "b8ac28118b9c7e95"
  },
  {
   "metadata": {
    "ExecuteTime": {
     "end_time": "2024-05-14T11:28:11.445772Z",
     "start_time": "2024-05-14T11:28:11.252352Z"
    }
   },
   "cell_type": "code",
   "source": "sns.stripplot(X['program__number_of_modules'])",
   "id": "5eacddae8fc77a62",
   "outputs": [
    {
     "data": {
      "text/plain": [
       "<Axes: ylabel='program__number_of_modules'>"
      ]
     },
     "execution_count": 23,
     "metadata": {},
     "output_type": "execute_result"
    },
    {
     "data": {
      "text/plain": [
       "<Figure size 640x480 with 1 Axes>"
      ],
      "image/png": "[encoded data removed]"
     },
     "metadata": {},
     "output_type": "display_data"
    }
   ],
   "execution_count": 23
  },
  {
   "metadata": {},
   "cell_type": "markdown",
   "source": [
    "### IMPORTANTE\n",
    "Los dos valores máximos están muy alejados de los otros."
   ],
   "id": "f789e36433cc16d9"
  },
  {
   "metadata": {
    "ExecuteTime": {
     "end_time": "2024-05-14T11:28:11.455285Z",
     "start_time": "2024-05-14T11:28:11.446778Z"
    }
   },
   "cell_type": "code",
   "source": "print_outliers_for_df_column(X, 'program__number_of_modules')",
   "id": "cfc7351841dbaeeb",
   "outputs": [
    {
     "name": "stdout",
     "output_type": "stream",
     "text": [
      "El coeficiente MC (Medcouple Coefficient) de balanceo es: 0.14570301283778547\n",
      "Rango valores atípicos extremos (Tukey): [-1219.5,1904.25]\n",
      "Rango valores atípicos leves (Tukey): [-550.125,1234.875]\n",
      "Rango valores atípicos extremos (Fixed BoxPlot): [-282.72258761026694,1764.3960961955888]\n",
      "-3.0IQR: 0 instancias tienen un valor para program__number_of_modules inferior a -1219.5 (Q1-3*IQR) para program__number_of_modules. Representando un 0.0% del total de instancias.\n",
      "-1.5IQR: 0 instancias tienen un valor para program__number_of_modules inferior a -550.125 (Q1-1.5*IQR) para program__number_of_modules. Representando un 0.0% del total de instancias.\n",
      "+1.5IQR: 2 instancias tienen un valor para program__number_of_modules superior a 1234.875 (Q3+1.5*IQR) para program__number_of_modules. Representando un 11.11% del total de instancias.\n",
      "+3.0IQR: 2 instancias tienen un valor para program__number_of_modules superior a 1904.25 (Q3-3*IQR) para program__number_of_modules. Representando un 11.11% del total de instancias.\n",
      "L: 0 instancias tienen un valor para program__number_of_modules inferior a -282.72258761026694 para program__number_of_modules. Representando un 0.0% del total de instancias.\n",
      "U: 2 instancias tienen un valor para program__number_of_modules superior a 1764.3960961955888 para program__number_of_modules. Representando un 11.11% del total de instancias.\n"
     ]
    }
   ],
   "execution_count": 24
  },
  {
   "metadata": {},
   "cell_type": "markdown",
   "source": "Describimos los valores de las variables de la tabla, cuando el valor de la variable es mayor que 148 (Con un MC de 97 usamos U)",
   "id": "843b1a6a63a56fb9"
  },
  {
   "metadata": {
    "ExecuteTime": {
     "end_time": "2024-05-14T11:28:11.484533Z",
     "start_time": "2024-05-14T11:28:11.455880Z"
    }
   },
   "cell_type": "code",
   "source": "X[X['program__number_of_modules'] > 1904].describe(percentiles=[.25, .50, .75], include = ['object', 'float', 'bool', 'int'])",
   "id": "689c534bf17a722e",
   "outputs": [
    {
     "data": {
      "text/plain": [
       "       program__has_sub_dirs_with_code  program__has_packages  \\\n",
       "count                              2.0                    2.0   \n",
       "mean                               1.0                    1.0   \n",
       "std                                0.0                    0.0   \n",
       "min                                1.0                    1.0   \n",
       "25%                                1.0                    1.0   \n",
       "50%                                1.0                    1.0   \n",
       "75%                                1.0                    1.0   \n",
       "max                                1.0                    1.0   \n",
       "\n",
       "       program__number_of_modules  program__number_of_sub_dirs_with_code  \\\n",
       "count                    2.000000                               2.000000   \n",
       "mean                  3286.000000                             153.000000   \n",
       "std                     11.313708                             120.208153   \n",
       "min                   3278.000000                              68.000000   \n",
       "25%                   3282.000000                             110.500000   \n",
       "50%                   3286.000000                             153.000000   \n",
       "75%                   3290.000000                             195.500000   \n",
       "max                   3294.000000                             238.000000   \n",
       "\n",
       "       program__number_of_packages  program__class_defs_pct  \\\n",
       "count                     2.000000                 2.000000   \n",
       "mean                    839.500000                 0.308684   \n",
       "std                     647.002686                 0.085221   \n",
       "min                     382.000000                 0.248424   \n",
       "25%                     610.750000                 0.278554   \n",
       "50%                     839.500000                 0.308684   \n",
       "75%                    1068.250000                 0.338815   \n",
       "max                    1297.000000                 0.368945   \n",
       "\n",
       "       program__function_defs_pct  program__enum_defs_pct  \\\n",
       "count                    2.000000                2.000000   \n",
       "mean                     0.679001                0.012314   \n",
       "std                      0.094786                0.009565   \n",
       "min                      0.611977                0.005551   \n",
       "25%                      0.645489                0.008933   \n",
       "50%                      0.679001                0.012314   \n",
       "75%                      0.712513                0.015696   \n",
       "max                      0.746025                0.019078   \n",
       "\n",
       "       program__has_code_root_package  program__average_defs_per_module  \n",
       "count                             2.0                          2.000000  \n",
       "mean                              0.0                          3.140744  \n",
       "std                               0.0                          1.853681  \n",
       "min                               0.0                          1.829994  \n",
       "25%                               0.0                          2.485369  \n",
       "50%                               0.0                          3.140744  \n",
       "75%                               0.0                          3.796120  \n",
       "max                               0.0                          4.451495  "
      ],
      "text/html": [
       "<div>\n",
       "<style scoped>\n",
       "    .dataframe tbody tr th:only-of-type {\n",
       "        vertical-align: middle;\n",
       "    }\n",
       "\n",
       "    .dataframe tbody tr th {\n",
       "        vertical-align: top;\n",
       "    }\n",
       "\n",
       "    .dataframe thead th {\n",
       "        text-align: right;\n",
       "    }\n",
       "</style>\n",
       "<table border=\"1\" class=\"dataframe\">\n",
       "  <thead>\n",
       "    <tr style=\"text-align: right;\">\n",
       "      <th></th>\n",
       "      <th>program__has_sub_dirs_with_code</th>\n",
       "      <th>program__has_packages</th>\n",
       "      <th>program__number_of_modules</th>\n",
       "      <th>program__number_of_sub_dirs_with_code</th>\n",
       "      <th>program__number_of_packages</th>\n",
       "      <th>program__class_defs_pct</th>\n",
       "      <th>program__function_defs_pct</th>\n",
       "      <th>program__enum_defs_pct</th>\n",
       "      <th>program__has_code_root_package</th>\n",
       "      <th>program__average_defs_per_module</th>\n",
       "    </tr>\n",
       "  </thead>\n",
       "  <tbody>\n",
       "    <tr>\n",
       "      <th>count</th>\n",
       "      <td>2.0</td>\n",
       "      <td>2.0</td>\n",
       "      <td>2.000000</td>\n",
       "      <td>2.000000</td>\n",
       "      <td>2.000000</td>\n",
       "      <td>2.000000</td>\n",
       "      <td>2.000000</td>\n",
       "      <td>2.000000</td>\n",
       "      <td>2.0</td>\n",
       "      <td>2.000000</td>\n",
       "    </tr>\n",
       "    <tr>\n",
       "      <th>mean</th>\n",
       "      <td>1.0</td>\n",
       "      <td>1.0</td>\n",
       "      <td>3286.000000</td>\n",
       "      <td>153.000000</td>\n",
       "      <td>839.500000</td>\n",
       "      <td>0.308684</td>\n",
       "      <td>0.679001</td>\n",
       "      <td>0.012314</td>\n",
       "      <td>0.0</td>\n",
       "      <td>3.140744</td>\n",
       "    </tr>\n",
       "    <tr>\n",
       "      <th>std</th>\n",
       "      <td>0.0</td>\n",
       "      <td>0.0</td>\n",
       "      <td>11.313708</td>\n",
       "      <td>120.208153</td>\n",
       "      <td>647.002686</td>\n",
       "      <td>0.085221</td>\n",
       "      <td>0.094786</td>\n",
       "      <td>0.009565</td>\n",
       "      <td>0.0</td>\n",
       "      <td>1.853681</td>\n",
       "    </tr>\n",
       "    <tr>\n",
       "      <th>min</th>\n",
       "      <td>1.0</td>\n",
       "      <td>1.0</td>\n",
       "      <td>3278.000000</td>\n",
       "      <td>68.000000</td>\n",
       "      <td>382.000000</td>\n",
       "      <td>0.248424</td>\n",
       "      <td>0.611977</td>\n",
       "      <td>0.005551</td>\n",
       "      <td>0.0</td>\n",
       "      <td>1.829994</td>\n",
       "    </tr>\n",
       "    <tr>\n",
       "      <th>25%</th>\n",
       "      <td>1.0</td>\n",
       "      <td>1.0</td>\n",
       "      <td>3282.000000</td>\n",
       "      <td>110.500000</td>\n",
       "      <td>610.750000</td>\n",
       "      <td>0.278554</td>\n",
       "      <td>0.645489</td>\n",
       "      <td>0.008933</td>\n",
       "      <td>0.0</td>\n",
       "      <td>2.485369</td>\n",
       "    </tr>\n",
       "    <tr>\n",
       "      <th>50%</th>\n",
       "      <td>1.0</td>\n",
       "      <td>1.0</td>\n",
       "      <td>3286.000000</td>\n",
       "      <td>153.000000</td>\n",
       "      <td>839.500000</td>\n",
       "      <td>0.308684</td>\n",
       "      <td>0.679001</td>\n",
       "      <td>0.012314</td>\n",
       "      <td>0.0</td>\n",
       "      <td>3.140744</td>\n",
       "    </tr>\n",
       "    <tr>\n",
       "      <th>75%</th>\n",
       "      <td>1.0</td>\n",
       "      <td>1.0</td>\n",
       "      <td>3290.000000</td>\n",
       "      <td>195.500000</td>\n",
       "      <td>1068.250000</td>\n",
       "      <td>0.338815</td>\n",
       "      <td>0.712513</td>\n",
       "      <td>0.015696</td>\n",
       "      <td>0.0</td>\n",
       "      <td>3.796120</td>\n",
       "    </tr>\n",
       "    <tr>\n",
       "      <th>max</th>\n",
       "      <td>1.0</td>\n",
       "      <td>1.0</td>\n",
       "      <td>3294.000000</td>\n",
       "      <td>238.000000</td>\n",
       "      <td>1297.000000</td>\n",
       "      <td>0.368945</td>\n",
       "      <td>0.746025</td>\n",
       "      <td>0.019078</td>\n",
       "      <td>0.0</td>\n",
       "      <td>4.451495</td>\n",
       "    </tr>\n",
       "  </tbody>\n",
       "</table>\n",
       "</div>"
      ]
     },
     "execution_count": 25,
     "metadata": {},
     "output_type": "execute_result"
    }
   ],
   "execution_count": 25
  },
  {
   "metadata": {},
   "cell_type": "markdown",
   "source": [
    "### IMPORTANTE\n",
    "\n",
    "Hay 2 programas que tienen un número de módulos muy elevado. Estos programas son llama_index y ray."
   ],
   "id": "397c98739d991b02"
  },
  {
   "metadata": {},
   "cell_type": "markdown",
   "source": [
    "### Variable number_of_sub_dirs_with_code (5/10)\n",
    "Esta variable representa el número de subdirectorios con ficheros python pero sin un __init__.py en ellos. Como vimos en la descripción de la tabla esta varibale adopta valores en el rango 0 - 238. Con una media de 32,33."
   ],
   "id": "8f8a651cfdff0bcd"
  },
  {
   "metadata": {
    "ExecuteTime": {
     "end_time": "2024-05-14T11:28:11.589583Z",
     "start_time": "2024-05-14T11:28:11.486061Z"
    }
   },
   "cell_type": "code",
   "source": "sns.stripplot(X['program__number_of_sub_dirs_with_code'])",
   "id": "1ebb40d57c0b140",
   "outputs": [
    {
     "data": {
      "text/plain": [
       "<Axes: ylabel='program__number_of_sub_dirs_with_code'>"
      ]
     },
     "execution_count": 26,
     "metadata": {},
     "output_type": "execute_result"
    },
    {
     "data": {
      "text/plain": [
       "<Figure size 640x480 with 1 Axes>"
      ],
      "image/png": "[encoded data removed]"
     },
     "metadata": {},
     "output_type": "display_data"
    }
   ],
   "execution_count": 26
  },
  {
   "metadata": {},
   "cell_type": "markdown",
   "source": "El valor máximo está muy alejado del siguiente. ",
   "id": "921f450151cf85e1"
  },
  {
   "metadata": {
    "ExecuteTime": {
     "end_time": "2024-05-14T11:28:11.596912Z",
     "start_time": "2024-05-14T11:28:11.590591Z"
    }
   },
   "cell_type": "code",
   "source": "print_outliers_for_df_column(X, 'program__number_of_sub_dirs_with_code')",
   "id": "6a0f48c2e0e6cff",
   "outputs": [
    {
     "name": "stdout",
     "output_type": "stream",
     "text": [
      "El coeficiente MC (Medcouple Coefficient) de balanceo es: 0.16912823588113263\n",
      "Rango valores atípicos extremos (Tukey): [-104.75,147.25]\n",
      "Rango valores atípicos leves (Tukey): [-50.75,93.25]\n",
      "Rango valores atípicos extremos (Fixed BoxPlot): [-26.625394673124937,145.46836157917954]\n",
      "-3.0IQR: 0 instancias tienen un valor para program__number_of_sub_dirs_with_code inferior a -104.75 (Q1-3*IQR) para program__number_of_sub_dirs_with_code. Representando un 0.0% del total de instancias.\n",
      "-1.5IQR: 0 instancias tienen un valor para program__number_of_sub_dirs_with_code inferior a -50.75 (Q1-1.5*IQR) para program__number_of_sub_dirs_with_code. Representando un 0.0% del total de instancias.\n",
      "+1.5IQR: 2 instancias tienen un valor para program__number_of_sub_dirs_with_code superior a 93.25 (Q3+1.5*IQR) para program__number_of_sub_dirs_with_code. Representando un 11.11% del total de instancias.\n",
      "+3.0IQR: 1 instancias tienen un valor para program__number_of_sub_dirs_with_code superior a 147.25 (Q3-3*IQR) para program__number_of_sub_dirs_with_code. Representando un 5.556% del total de instancias.\n",
      "L: 0 instancias tienen un valor para program__number_of_sub_dirs_with_code inferior a -26.625394673124937 para program__number_of_sub_dirs_with_code. Representando un 0.0% del total de instancias.\n",
      "U: 1 instancias tienen un valor para program__number_of_sub_dirs_with_code superior a 145.46836157917954 para program__number_of_sub_dirs_with_code. Representando un 5.556% del total de instancias.\n"
     ]
    }
   ],
   "execution_count": 27
  },
  {
   "metadata": {},
   "cell_type": "markdown",
   "source": "Describimos los valores de las variables de la tabla, cuando el valor de la variable es mayor que 145 (Con un MC de 16 usamos U)",
   "id": "962e0e1a198b468f"
  },
  {
   "metadata": {
    "ExecuteTime": {
     "end_time": "2024-05-14T11:28:11.626752Z",
     "start_time": "2024-05-14T11:28:11.599921Z"
    }
   },
   "cell_type": "code",
   "source": "X[X['program__number_of_sub_dirs_with_code'] > 145].describe(percentiles=[.25, .50, .75], include = ['object', 'float', 'bool', 'int'])",
   "id": "87724eeca9c29f75",
   "outputs": [
    {
     "data": {
      "text/plain": [
       "       program__has_sub_dirs_with_code  program__has_packages  \\\n",
       "count                              1.0                    1.0   \n",
       "mean                               1.0                    1.0   \n",
       "std                                NaN                    NaN   \n",
       "min                                1.0                    1.0   \n",
       "25%                                1.0                    1.0   \n",
       "50%                                1.0                    1.0   \n",
       "75%                                1.0                    1.0   \n",
       "max                                1.0                    1.0   \n",
       "\n",
       "       program__number_of_modules  program__number_of_sub_dirs_with_code  \\\n",
       "count                         1.0                                    1.0   \n",
       "mean                       3278.0                                  238.0   \n",
       "std                           NaN                                    NaN   \n",
       "min                        3278.0                                  238.0   \n",
       "25%                        3278.0                                  238.0   \n",
       "50%                        3278.0                                  238.0   \n",
       "75%                        3278.0                                  238.0   \n",
       "max                        3278.0                                  238.0   \n",
       "\n",
       "       program__number_of_packages  program__class_defs_pct  \\\n",
       "count                          1.0                 1.000000   \n",
       "mean                         382.0                 0.248424   \n",
       "std                            NaN                      NaN   \n",
       "min                          382.0                 0.248424   \n",
       "25%                          382.0                 0.248424   \n",
       "50%                          382.0                 0.248424   \n",
       "75%                          382.0                 0.248424   \n",
       "max                          382.0                 0.248424   \n",
       "\n",
       "       program__function_defs_pct  program__enum_defs_pct  \\\n",
       "count                    1.000000                1.000000   \n",
       "mean                     0.746025                0.005551   \n",
       "std                           NaN                     NaN   \n",
       "min                      0.746025                0.005551   \n",
       "25%                      0.746025                0.005551   \n",
       "50%                      0.746025                0.005551   \n",
       "75%                      0.746025                0.005551   \n",
       "max                      0.746025                0.005551   \n",
       "\n",
       "       program__has_code_root_package  program__average_defs_per_module  \n",
       "count                             1.0                          1.000000  \n",
       "mean                              0.0                          4.451495  \n",
       "std                               NaN                               NaN  \n",
       "min                               0.0                          4.451495  \n",
       "25%                               0.0                          4.451495  \n",
       "50%                               0.0                          4.451495  \n",
       "75%                               0.0                          4.451495  \n",
       "max                               0.0                          4.451495  "
      ],
      "text/html": [
       "<div>\n",
       "<style scoped>\n",
       "    .dataframe tbody tr th:only-of-type {\n",
       "        vertical-align: middle;\n",
       "    }\n",
       "\n",
       "    .dataframe tbody tr th {\n",
       "        vertical-align: top;\n",
       "    }\n",
       "\n",
       "    .dataframe thead th {\n",
       "        text-align: right;\n",
       "    }\n",
       "</style>\n",
       "<table border=\"1\" class=\"dataframe\">\n",
       "  <thead>\n",
       "    <tr style=\"text-align: right;\">\n",
       "      <th></th>\n",
       "      <th>program__has_sub_dirs_with_code</th>\n",
       "      <th>program__has_packages</th>\n",
       "      <th>program__number_of_modules</th>\n",
       "      <th>program__number_of_sub_dirs_with_code</th>\n",
       "      <th>program__number_of_packages</th>\n",
       "      <th>program__class_defs_pct</th>\n",
       "      <th>program__function_defs_pct</th>\n",
       "      <th>program__enum_defs_pct</th>\n",
       "      <th>program__has_code_root_package</th>\n",
       "      <th>program__average_defs_per_module</th>\n",
       "    </tr>\n",
       "  </thead>\n",
       "  <tbody>\n",
       "    <tr>\n",
       "      <th>count</th>\n",
       "      <td>1.0</td>\n",
       "      <td>1.0</td>\n",
       "      <td>1.0</td>\n",
       "      <td>1.0</td>\n",
       "      <td>1.0</td>\n",
       "      <td>1.000000</td>\n",
       "      <td>1.000000</td>\n",
       "      <td>1.000000</td>\n",
       "      <td>1.0</td>\n",
       "      <td>1.000000</td>\n",
       "    </tr>\n",
       "    <tr>\n",
       "      <th>mean</th>\n",
       "      <td>1.0</td>\n",
       "      <td>1.0</td>\n",
       "      <td>3278.0</td>\n",
       "      <td>238.0</td>\n",
       "      <td>382.0</td>\n",
       "      <td>0.248424</td>\n",
       "      <td>0.746025</td>\n",
       "      <td>0.005551</td>\n",
       "      <td>0.0</td>\n",
       "      <td>4.451495</td>\n",
       "    </tr>\n",
       "    <tr>\n",
       "      <th>std</th>\n",
       "      <td>NaN</td>\n",
       "      <td>NaN</td>\n",
       "      <td>NaN</td>\n",
       "      <td>NaN</td>\n",
       "      <td>NaN</td>\n",
       "      <td>NaN</td>\n",
       "      <td>NaN</td>\n",
       "      <td>NaN</td>\n",
       "      <td>NaN</td>\n",
       "      <td>NaN</td>\n",
       "    </tr>\n",
       "    <tr>\n",
       "      <th>min</th>\n",
       "      <td>1.0</td>\n",
       "      <td>1.0</td>\n",
       "      <td>3278.0</td>\n",
       "      <td>238.0</td>\n",
       "      <td>382.0</td>\n",
       "      <td>0.248424</td>\n",
       "      <td>0.746025</td>\n",
       "      <td>0.005551</td>\n",
       "      <td>0.0</td>\n",
       "      <td>4.451495</td>\n",
       "    </tr>\n",
       "    <tr>\n",
       "      <th>25%</th>\n",
       "      <td>1.0</td>\n",
       "      <td>1.0</td>\n",
       "      <td>3278.0</td>\n",
       "      <td>238.0</td>\n",
       "      <td>382.0</td>\n",
       "      <td>0.248424</td>\n",
       "      <td>0.746025</td>\n",
       "      <td>0.005551</td>\n",
       "      <td>0.0</td>\n",
       "      <td>4.451495</td>\n",
       "    </tr>\n",
       "    <tr>\n",
       "      <th>50%</th>\n",
       "      <td>1.0</td>\n",
       "      <td>1.0</td>\n",
       "      <td>3278.0</td>\n",
       "      <td>238.0</td>\n",
       "      <td>382.0</td>\n",
       "      <td>0.248424</td>\n",
       "      <td>0.746025</td>\n",
       "      <td>0.005551</td>\n",
       "      <td>0.0</td>\n",
       "      <td>4.451495</td>\n",
       "    </tr>\n",
       "    <tr>\n",
       "      <th>75%</th>\n",
       "      <td>1.0</td>\n",
       "      <td>1.0</td>\n",
       "      <td>3278.0</td>\n",
       "      <td>238.0</td>\n",
       "      <td>382.0</td>\n",
       "      <td>0.248424</td>\n",
       "      <td>0.746025</td>\n",
       "      <td>0.005551</td>\n",
       "      <td>0.0</td>\n",
       "      <td>4.451495</td>\n",
       "    </tr>\n",
       "    <tr>\n",
       "      <th>max</th>\n",
       "      <td>1.0</td>\n",
       "      <td>1.0</td>\n",
       "      <td>3278.0</td>\n",
       "      <td>238.0</td>\n",
       "      <td>382.0</td>\n",
       "      <td>0.248424</td>\n",
       "      <td>0.746025</td>\n",
       "      <td>0.005551</td>\n",
       "      <td>0.0</td>\n",
       "      <td>4.451495</td>\n",
       "    </tr>\n",
       "  </tbody>\n",
       "</table>\n",
       "</div>"
      ]
     },
     "execution_count": 28,
     "metadata": {},
     "output_type": "execute_result"
    }
   ],
   "execution_count": 28
  },
  {
   "metadata": {},
   "cell_type": "markdown",
   "source": [
    "### IMPORTANTE\n",
    "\n",
    "Hay 1 programa que tiene un número de subdirectorios con código muy elevado."
   ],
   "id": "c25294ed6a21e788"
  },
  {
   "metadata": {},
   "cell_type": "markdown",
   "source": [
    "### Variable number_of_packages (6/10)\n",
    "Esta variable representa el número de subdirectorios con ficheros python pero sin un __init__.py en ellos. Como vimos en la descripción de la tabla esta varibale adopta valores en el rango 0 - 1297. Con una media de 123,22."
   ],
   "id": "2a00f5be59e6d4a9"
  },
  {
   "metadata": {
    "ExecuteTime": {
     "end_time": "2024-05-14T11:28:11.745185Z",
     "start_time": "2024-05-14T11:28:11.627763Z"
    }
   },
   "cell_type": "code",
   "source": "sns.stripplot(X['program__number_of_packages'])",
   "id": "bcf42c4ca6fb0146",
   "outputs": [
    {
     "data": {
      "text/plain": [
       "<Axes: ylabel='program__number_of_packages'>"
      ]
     },
     "execution_count": 29,
     "metadata": {},
     "output_type": "execute_result"
    },
    {
     "data": {
      "text/plain": [
       "<Figure size 640x480 with 1 Axes>"
      ],
      "image/png": "[encoded data removed]"
     },
     "metadata": {},
     "output_type": "display_data"
    }
   ],
   "execution_count": 29
  },
  {
   "metadata": {},
   "cell_type": "markdown",
   "source": [
    "### IMPORTANTE\n",
    "\n",
    "Hay 2 programas que tienen un número de módulos muy elevado. Estos programas son llama_index y ray."
   ],
   "id": "d0ea931774223a5e"
  },
  {
   "metadata": {
    "ExecuteTime": {
     "end_time": "2024-05-14T11:28:11.753326Z",
     "start_time": "2024-05-14T11:28:11.745698Z"
    }
   },
   "cell_type": "code",
   "source": "print_outliers_for_df_column(X, 'program__number_of_packages')",
   "id": "2be67c4ab421c8b0",
   "outputs": [
    {
     "name": "stdout",
     "output_type": "stream",
     "text": [
      "El coeficiente MC (Medcouple Coefficient) de balanceo es: 0.5875235348763919\n",
      "Rango valores atípicos extremos (Tukey): [-190.5,271.5]\n",
      "Rango valores atípicos leves (Tukey): [-91.5,172.5]\n",
      "Rango valores atípicos extremos (Fixed BoxPlot): [-5.1643059088011345,1111.6691308765949]\n",
      "-3.0IQR: 0 instancias tienen un valor para program__number_of_packages inferior a -190.5 (Q1-3*IQR) para program__number_of_packages. Representando un 0.0% del total de instancias.\n",
      "-1.5IQR: 0 instancias tienen un valor para program__number_of_packages inferior a -91.5 (Q1-1.5*IQR) para program__number_of_packages. Representando un 0.0% del total de instancias.\n",
      "+1.5IQR: 2 instancias tienen un valor para program__number_of_packages superior a 172.5 (Q3+1.5*IQR) para program__number_of_packages. Representando un 11.11% del total de instancias.\n",
      "+3.0IQR: 2 instancias tienen un valor para program__number_of_packages superior a 271.5 (Q3-3*IQR) para program__number_of_packages. Representando un 11.11% del total de instancias.\n",
      "L: 0 instancias tienen un valor para program__number_of_packages inferior a -5.1643059088011345 para program__number_of_packages. Representando un 0.0% del total de instancias.\n",
      "U: 1 instancias tienen un valor para program__number_of_packages superior a 1111.6691308765949 para program__number_of_packages. Representando un 5.556% del total de instancias.\n"
     ]
    }
   ],
   "execution_count": 30
  },
  {
   "metadata": {},
   "cell_type": "markdown",
   "source": "Describimos los valores de las variables de la tabla, cuando el valor de la variable es mayor que 172 (Con un MC de 58 usamos Tuckey)",
   "id": "8ab1963e1c253a34"
  },
  {
   "metadata": {
    "ExecuteTime": {
     "end_time": "2024-05-14T11:28:11.779644Z",
     "start_time": "2024-05-14T11:28:11.754257Z"
    }
   },
   "cell_type": "code",
   "source": "X[X['program__number_of_packages'] > 172].describe(percentiles=[.25, .50, .75], include = ['object', 'float', 'bool', 'int'])",
   "id": "ad1049f623d1e003",
   "outputs": [
    {
     "data": {
      "text/plain": [
       "       program__has_sub_dirs_with_code  program__has_packages  \\\n",
       "count                              2.0                    2.0   \n",
       "mean                               1.0                    1.0   \n",
       "std                                0.0                    0.0   \n",
       "min                                1.0                    1.0   \n",
       "25%                                1.0                    1.0   \n",
       "50%                                1.0                    1.0   \n",
       "75%                                1.0                    1.0   \n",
       "max                                1.0                    1.0   \n",
       "\n",
       "       program__number_of_modules  program__number_of_sub_dirs_with_code  \\\n",
       "count                    2.000000                               2.000000   \n",
       "mean                  3286.000000                             153.000000   \n",
       "std                     11.313708                             120.208153   \n",
       "min                   3278.000000                              68.000000   \n",
       "25%                   3282.000000                             110.500000   \n",
       "50%                   3286.000000                             153.000000   \n",
       "75%                   3290.000000                             195.500000   \n",
       "max                   3294.000000                             238.000000   \n",
       "\n",
       "       program__number_of_packages  program__class_defs_pct  \\\n",
       "count                     2.000000                 2.000000   \n",
       "mean                    839.500000                 0.308684   \n",
       "std                     647.002686                 0.085221   \n",
       "min                     382.000000                 0.248424   \n",
       "25%                     610.750000                 0.278554   \n",
       "50%                     839.500000                 0.308684   \n",
       "75%                    1068.250000                 0.338815   \n",
       "max                    1297.000000                 0.368945   \n",
       "\n",
       "       program__function_defs_pct  program__enum_defs_pct  \\\n",
       "count                    2.000000                2.000000   \n",
       "mean                     0.679001                0.012314   \n",
       "std                      0.094786                0.009565   \n",
       "min                      0.611977                0.005551   \n",
       "25%                      0.645489                0.008933   \n",
       "50%                      0.679001                0.012314   \n",
       "75%                      0.712513                0.015696   \n",
       "max                      0.746025                0.019078   \n",
       "\n",
       "       program__has_code_root_package  program__average_defs_per_module  \n",
       "count                             2.0                          2.000000  \n",
       "mean                              0.0                          3.140744  \n",
       "std                               0.0                          1.853681  \n",
       "min                               0.0                          1.829994  \n",
       "25%                               0.0                          2.485369  \n",
       "50%                               0.0                          3.140744  \n",
       "75%                               0.0                          3.796120  \n",
       "max                               0.0                          4.451495  "
      ],
      "text/html": [
       "<div>\n",
       "<style scoped>\n",
       "    .dataframe tbody tr th:only-of-type {\n",
       "        vertical-align: middle;\n",
       "    }\n",
       "\n",
       "    .dataframe tbody tr th {\n",
       "        vertical-align: top;\n",
       "    }\n",
       "\n",
       "    .dataframe thead th {\n",
       "        text-align: right;\n",
       "    }\n",
       "</style>\n",
       "<table border=\"1\" class=\"dataframe\">\n",
       "  <thead>\n",
       "    <tr style=\"text-align: right;\">\n",
       "      <th></th>\n",
       "      <th>program__has_sub_dirs_with_code</th>\n",
       "      <th>program__has_packages</th>\n",
       "      <th>program__number_of_modules</th>\n",
       "      <th>program__number_of_sub_dirs_with_code</th>\n",
       "      <th>program__number_of_packages</th>\n",
       "      <th>program__class_defs_pct</th>\n",
       "      <th>program__function_defs_pct</th>\n",
       "      <th>program__enum_defs_pct</th>\n",
       "      <th>program__has_code_root_package</th>\n",
       "      <th>program__average_defs_per_module</th>\n",
       "    </tr>\n",
       "  </thead>\n",
       "  <tbody>\n",
       "    <tr>\n",
       "      <th>count</th>\n",
       "      <td>2.0</td>\n",
       "      <td>2.0</td>\n",
       "      <td>2.000000</td>\n",
       "      <td>2.000000</td>\n",
       "      <td>2.000000</td>\n",
       "      <td>2.000000</td>\n",
       "      <td>2.000000</td>\n",
       "      <td>2.000000</td>\n",
       "      <td>2.0</td>\n",
       "      <td>2.000000</td>\n",
       "    </tr>\n",
       "    <tr>\n",
       "      <th>mean</th>\n",
       "      <td>1.0</td>\n",
       "      <td>1.0</td>\n",
       "      <td>3286.000000</td>\n",
       "      <td>153.000000</td>\n",
       "      <td>839.500000</td>\n",
       "      <td>0.308684</td>\n",
       "      <td>0.679001</td>\n",
       "      <td>0.012314</td>\n",
       "      <td>0.0</td>\n",
       "      <td>3.140744</td>\n",
       "    </tr>\n",
       "    <tr>\n",
       "      <th>std</th>\n",
       "      <td>0.0</td>\n",
       "      <td>0.0</td>\n",
       "      <td>11.313708</td>\n",
       "      <td>120.208153</td>\n",
       "      <td>647.002686</td>\n",
       "      <td>0.085221</td>\n",
       "      <td>0.094786</td>\n",
       "      <td>0.009565</td>\n",
       "      <td>0.0</td>\n",
       "      <td>1.853681</td>\n",
       "    </tr>\n",
       "    <tr>\n",
       "      <th>min</th>\n",
       "      <td>1.0</td>\n",
       "      <td>1.0</td>\n",
       "      <td>3278.000000</td>\n",
       "      <td>68.000000</td>\n",
       "      <td>382.000000</td>\n",
       "      <td>0.248424</td>\n",
       "      <td>0.611977</td>\n",
       "      <td>0.005551</td>\n",
       "      <td>0.0</td>\n",
       "      <td>1.829994</td>\n",
       "    </tr>\n",
       "    <tr>\n",
       "      <th>25%</th>\n",
       "      <td>1.0</td>\n",
       "      <td>1.0</td>\n",
       "      <td>3282.000000</td>\n",
       "      <td>110.500000</td>\n",
       "      <td>610.750000</td>\n",
       "      <td>0.278554</td>\n",
       "      <td>0.645489</td>\n",
       "      <td>0.008933</td>\n",
       "      <td>0.0</td>\n",
       "      <td>2.485369</td>\n",
       "    </tr>\n",
       "    <tr>\n",
       "      <th>50%</th>\n",
       "      <td>1.0</td>\n",
       "      <td>1.0</td>\n",
       "      <td>3286.000000</td>\n",
       "      <td>153.000000</td>\n",
       "      <td>839.500000</td>\n",
       "      <td>0.308684</td>\n",
       "      <td>0.679001</td>\n",
       "      <td>0.012314</td>\n",
       "      <td>0.0</td>\n",
       "      <td>3.140744</td>\n",
       "    </tr>\n",
       "    <tr>\n",
       "      <th>75%</th>\n",
       "      <td>1.0</td>\n",
       "      <td>1.0</td>\n",
       "      <td>3290.000000</td>\n",
       "      <td>195.500000</td>\n",
       "      <td>1068.250000</td>\n",
       "      <td>0.338815</td>\n",
       "      <td>0.712513</td>\n",
       "      <td>0.015696</td>\n",
       "      <td>0.0</td>\n",
       "      <td>3.796120</td>\n",
       "    </tr>\n",
       "    <tr>\n",
       "      <th>max</th>\n",
       "      <td>1.0</td>\n",
       "      <td>1.0</td>\n",
       "      <td>3294.000000</td>\n",
       "      <td>238.000000</td>\n",
       "      <td>1297.000000</td>\n",
       "      <td>0.368945</td>\n",
       "      <td>0.746025</td>\n",
       "      <td>0.019078</td>\n",
       "      <td>0.0</td>\n",
       "      <td>4.451495</td>\n",
       "    </tr>\n",
       "  </tbody>\n",
       "</table>\n",
       "</div>"
      ]
     },
     "execution_count": 31,
     "metadata": {},
     "output_type": "execute_result"
    }
   ],
   "execution_count": 31
  },
  {
   "metadata": {},
   "cell_type": "markdown",
   "source": [
    "### IMPORTANTE\n",
    "Los casos especiales con number_of_packages > 172 son los ya mencionados proyectos llama_index y ray."
   ],
   "id": "9ac5cb48b91950ce"
  },
  {
   "metadata": {},
   "cell_type": "markdown",
   "source": [
    "### Variable average_defs_per_module (7/10)\n",
    "Esta variable es de tipo numérica y nos indica el número medio de definiciones en un módulo. Como vimos en la descripción de la tabla esta varibale adopta valores en el rango 0.73 - 0.95. Con una media de 3.75."
   ],
   "id": "37d55a98f9df4be"
  },
  {
   "metadata": {
    "ExecuteTime": {
     "end_time": "2024-05-14T11:28:11.896372Z",
     "start_time": "2024-05-14T11:28:11.780649Z"
    }
   },
   "cell_type": "code",
   "source": [
    "sns.stripplot(X['program__average_defs_per_module'])"
   ],
   "id": "8d7027a78ac296ed",
   "outputs": [
    {
     "data": {
      "text/plain": [
       "<Axes: ylabel='program__average_defs_per_module'>"
      ]
     },
     "execution_count": 32,
     "metadata": {},
     "output_type": "execute_result"
    },
    {
     "data": {
      "text/plain": [
       "<Figure size 640x480 with 1 Axes>"
      ],
      "image/png": "[encoded data removed]"
     },
     "metadata": {},
     "output_type": "display_data"
    }
   ],
   "execution_count": 32
  },
  {
   "metadata": {
    "ExecuteTime": {
     "end_time": "2024-05-14T11:28:11.904614Z",
     "start_time": "2024-05-14T11:28:11.897394Z"
    }
   },
   "cell_type": "code",
   "source": [
    "print_outliers_for_df_column(X, 'program__average_defs_per_module')"
   ],
   "id": "98d831dcd0eeee02",
   "outputs": [
    {
     "name": "stdout",
     "output_type": "stream",
     "text": [
      "El coeficiente MC (Medcouple Coefficient) de balanceo es: 0.5178948981072857\n",
      "Rango valores atípicos extremos (Tukey): [-5.934865593910217,12.727605104446411]\n",
      "Rango valores atípicos leves (Tukey): [-1.935764729976654,8.728504240512848]\n",
      "Rango valores atípicos extremos (Fixed BoxPlot): [1.4105871262256036,36.471670619295]\n",
      "-3.0IQR: 0 instancias tienen un valor para program__average_defs_per_module inferior a -5.934865593910217 (Q1-3*IQR) para program__average_defs_per_module. Representando un 0.0% del total de instancias.\n",
      "-1.5IQR: 0 instancias tienen un valor para program__average_defs_per_module inferior a -1.935764729976654 (Q1-1.5*IQR) para program__average_defs_per_module. Representando un 0.0% del total de instancias.\n",
      "+1.5IQR: 1 instancias tienen un valor para program__average_defs_per_module superior a 8.728504240512848 (Q3+1.5*IQR) para program__average_defs_per_module. Representando un 5.556% del total de instancias.\n",
      "+3.0IQR: 0 instancias tienen un valor para program__average_defs_per_module superior a 12.727605104446411 (Q3-3*IQR) para program__average_defs_per_module. Representando un 0.0% del total de instancias.\n",
      "L: 2 instancias tienen un valor para program__average_defs_per_module inferior a 1.4105871262256036 para program__average_defs_per_module. Representando un 11.11% del total de instancias.\n",
      "U: 0 instancias tienen un valor para program__average_defs_per_module superior a 36.471670619295 para program__average_defs_per_module. Representando un 0.0% del total de instancias.\n"
     ]
    }
   ],
   "execution_count": 33
  },
  {
   "metadata": {},
   "cell_type": "markdown",
   "source": "Describimos los valores de las variables de la tabla, cuando el valor de la variable es menor que 1.41 (Con un MC de 51 usamos Tuckey)",
   "id": "2c11d847843e2a9a"
  },
  {
   "metadata": {
    "ExecuteTime": {
     "end_time": "2024-05-14T11:28:11.931038Z",
     "start_time": "2024-05-14T11:28:11.905623Z"
    }
   },
   "cell_type": "code",
   "source": "X[X['program__average_defs_per_module'] < 1.41].describe(percentiles=[.25, .50, .75], include = ['object', 'float', 'bool', 'int'])",
   "id": "74dd9804c97aef00",
   "outputs": [
    {
     "data": {
      "text/plain": [
       "       program__has_sub_dirs_with_code  program__has_packages  \\\n",
       "count                              2.0               2.000000   \n",
       "mean                               1.0               0.500000   \n",
       "std                                0.0               0.707107   \n",
       "min                                1.0               0.000000   \n",
       "25%                                1.0               0.250000   \n",
       "50%                                1.0               0.500000   \n",
       "75%                                1.0               0.750000   \n",
       "max                                1.0               1.000000   \n",
       "\n",
       "       program__number_of_modules  program__number_of_sub_dirs_with_code  \\\n",
       "count                    2.000000                               2.000000   \n",
       "mean                    35.500000                               3.000000   \n",
       "std                     28.991379                               1.414214   \n",
       "min                     15.000000                               2.000000   \n",
       "25%                     25.250000                               2.500000   \n",
       "50%                     35.500000                               3.000000   \n",
       "75%                     45.750000                               3.500000   \n",
       "max                     56.000000                               4.000000   \n",
       "\n",
       "       program__number_of_packages  program__class_defs_pct  \\\n",
       "count                     2.000000                 2.000000   \n",
       "mean                      2.500000                 0.375000   \n",
       "std                       3.535534                 0.241059   \n",
       "min                       0.000000                 0.204545   \n",
       "25%                       1.250000                 0.289773   \n",
       "50%                       2.500000                 0.375000   \n",
       "75%                       3.750000                 0.460227   \n",
       "max                       5.000000                 0.545455   \n",
       "\n",
       "       program__function_defs_pct  program__enum_defs_pct  \\\n",
       "count                    2.000000                     2.0   \n",
       "mean                     0.625000                     0.0   \n",
       "std                      0.241059                     0.0   \n",
       "min                      0.454545                     0.0   \n",
       "25%                      0.539773                     0.0   \n",
       "50%                      0.625000                     0.0   \n",
       "75%                      0.710227                     0.0   \n",
       "max                      0.795455                     0.0   \n",
       "\n",
       "       program__has_code_root_package  program__average_defs_per_module  \n",
       "count                             2.0                          2.000000  \n",
       "mean                              1.0                          0.759524  \n",
       "std                               0.0                          0.037039  \n",
       "min                               1.0                          0.733333  \n",
       "25%                               1.0                          0.746429  \n",
       "50%                               1.0                          0.759524  \n",
       "75%                               1.0                          0.772619  \n",
       "max                               1.0                          0.785714  "
      ],
      "text/html": [
       "<div>\n",
       "<style scoped>\n",
       "    .dataframe tbody tr th:only-of-type {\n",
       "        vertical-align: middle;\n",
       "    }\n",
       "\n",
       "    .dataframe tbody tr th {\n",
       "        vertical-align: top;\n",
       "    }\n",
       "\n",
       "    .dataframe thead th {\n",
       "        text-align: right;\n",
       "    }\n",
       "</style>\n",
       "<table border=\"1\" class=\"dataframe\">\n",
       "  <thead>\n",
       "    <tr style=\"text-align: right;\">\n",
       "      <th></th>\n",
       "      <th>program__has_sub_dirs_with_code</th>\n",
       "      <th>program__has_packages</th>\n",
       "      <th>program__number_of_modules</th>\n",
       "      <th>program__number_of_sub_dirs_with_code</th>\n",
       "      <th>program__number_of_packages</th>\n",
       "      <th>program__class_defs_pct</th>\n",
       "      <th>program__function_defs_pct</th>\n",
       "      <th>program__enum_defs_pct</th>\n",
       "      <th>program__has_code_root_package</th>\n",
       "      <th>program__average_defs_per_module</th>\n",
       "    </tr>\n",
       "  </thead>\n",
       "  <tbody>\n",
       "    <tr>\n",
       "      <th>count</th>\n",
       "      <td>2.0</td>\n",
       "      <td>2.000000</td>\n",
       "      <td>2.000000</td>\n",
       "      <td>2.000000</td>\n",
       "      <td>2.000000</td>\n",
       "      <td>2.000000</td>\n",
       "      <td>2.000000</td>\n",
       "      <td>2.0</td>\n",
       "      <td>2.0</td>\n",
       "      <td>2.000000</td>\n",
       "    </tr>\n",
       "    <tr>\n",
       "      <th>mean</th>\n",
       "      <td>1.0</td>\n",
       "      <td>0.500000</td>\n",
       "      <td>35.500000</td>\n",
       "      <td>3.000000</td>\n",
       "      <td>2.500000</td>\n",
       "      <td>0.375000</td>\n",
       "      <td>0.625000</td>\n",
       "      <td>0.0</td>\n",
       "      <td>1.0</td>\n",
       "      <td>0.759524</td>\n",
       "    </tr>\n",
       "    <tr>\n",
       "      <th>std</th>\n",
       "      <td>0.0</td>\n",
       "      <td>0.707107</td>\n",
       "      <td>28.991379</td>\n",
       "      <td>1.414214</td>\n",
       "      <td>3.535534</td>\n",
       "      <td>0.241059</td>\n",
       "      <td>0.241059</td>\n",
       "      <td>0.0</td>\n",
       "      <td>0.0</td>\n",
       "      <td>0.037039</td>\n",
       "    </tr>\n",
       "    <tr>\n",
       "      <th>min</th>\n",
       "      <td>1.0</td>\n",
       "      <td>0.000000</td>\n",
       "      <td>15.000000</td>\n",
       "      <td>2.000000</td>\n",
       "      <td>0.000000</td>\n",
       "      <td>0.204545</td>\n",
       "      <td>0.454545</td>\n",
       "      <td>0.0</td>\n",
       "      <td>1.0</td>\n",
       "      <td>0.733333</td>\n",
       "    </tr>\n",
       "    <tr>\n",
       "      <th>25%</th>\n",
       "      <td>1.0</td>\n",
       "      <td>0.250000</td>\n",
       "      <td>25.250000</td>\n",
       "      <td>2.500000</td>\n",
       "      <td>1.250000</td>\n",
       "      <td>0.289773</td>\n",
       "      <td>0.539773</td>\n",
       "      <td>0.0</td>\n",
       "      <td>1.0</td>\n",
       "      <td>0.746429</td>\n",
       "    </tr>\n",
       "    <tr>\n",
       "      <th>50%</th>\n",
       "      <td>1.0</td>\n",
       "      <td>0.500000</td>\n",
       "      <td>35.500000</td>\n",
       "      <td>3.000000</td>\n",
       "      <td>2.500000</td>\n",
       "      <td>0.375000</td>\n",
       "      <td>0.625000</td>\n",
       "      <td>0.0</td>\n",
       "      <td>1.0</td>\n",
       "      <td>0.759524</td>\n",
       "    </tr>\n",
       "    <tr>\n",
       "      <th>75%</th>\n",
       "      <td>1.0</td>\n",
       "      <td>0.750000</td>\n",
       "      <td>45.750000</td>\n",
       "      <td>3.500000</td>\n",
       "      <td>3.750000</td>\n",
       "      <td>0.460227</td>\n",
       "      <td>0.710227</td>\n",
       "      <td>0.0</td>\n",
       "      <td>1.0</td>\n",
       "      <td>0.772619</td>\n",
       "    </tr>\n",
       "    <tr>\n",
       "      <th>max</th>\n",
       "      <td>1.0</td>\n",
       "      <td>1.000000</td>\n",
       "      <td>56.000000</td>\n",
       "      <td>4.000000</td>\n",
       "      <td>5.000000</td>\n",
       "      <td>0.545455</td>\n",
       "      <td>0.795455</td>\n",
       "      <td>0.0</td>\n",
       "      <td>1.0</td>\n",
       "      <td>0.785714</td>\n",
       "    </tr>\n",
       "  </tbody>\n",
       "</table>\n",
       "</div>"
      ]
     },
     "execution_count": 34,
     "metadata": {},
     "output_type": "execute_result"
    }
   ],
   "execution_count": 34
  },
  {
   "metadata": {},
   "cell_type": "markdown",
   "source": [
    "### IMPORTANTE\n",
    "\n",
    "Hay 2 programas que tienen una media de definiciones por módulo muy baja."
   ],
   "id": "d99154057c01f958"
  },
  {
   "metadata": {},
   "cell_type": "markdown",
   "source": [
    "### Variable class_defs_pct (8/10)\n",
    "Esta variable representa el porcentage de las definiciones de un programa que son clases. Como vimos en la descripción de la tabla esta varibale adopta valores en el rango 0.35 - 1.0. Con una media de 0.62."
   ],
   "id": "fb182a156befa75a"
  },
  {
   "metadata": {
    "ExecuteTime": {
     "end_time": "2024-05-14T11:28:12.248801Z",
     "start_time": "2024-05-14T11:28:11.932048Z"
    }
   },
   "cell_type": "code",
   "source": "sns.displot(X['program__class_defs_pct'], bins=[i / 100 for i in range(0, 101)])",
   "id": "8cfc8a56a436ab6d",
   "outputs": [
    {
     "data": {
      "text/plain": [
       "<seaborn.axisgrid.FacetGrid at 0x23a57de3350>"
      ]
     },
     "execution_count": 35,
     "metadata": {},
     "output_type": "execute_result"
    },
    {
     "data": {
      "text/plain": [
       "<Figure size 500x500 with 1 Axes>"
      ],
      "image/png": "[encoded data removed]"
     },
     "metadata": {},
     "output_type": "display_data"
    }
   ],
   "execution_count": 35
  },
  {
   "metadata": {
    "ExecuteTime": {
     "end_time": "2024-05-14T11:28:12.259017Z",
     "start_time": "2024-05-14T11:28:12.249808Z"
    }
   },
   "cell_type": "code",
   "source": "print_outliers_for_df_column(X, 'program__class_defs_pct')",
   "id": "6d4e07dfc0eea73c",
   "outputs": [
    {
     "name": "stdout",
     "output_type": "stream",
     "text": [
      "El coeficiente MC (Medcouple Coefficient) de balanceo es: 0.12874703098348061\n",
      "Rango valores atípicos extremos (Tukey): [-0.2347385585308075,0.9093455113470554]\n",
      "Rango valores atípicos leves (Tukey): [0.010422313585877419,0.6641846392303705]\n",
      "Rango valores atípicos extremos (Fixed BoxPlot): [0.09935775894360674,0.8293295689746799]\n",
      "-3.0IQR: 0 instancias tienen un valor para program__class_defs_pct inferior a -0.2347385585308075 (Q1-3*IQR) para program__class_defs_pct. Representando un 0.0% del total de instancias.\n",
      "-1.5IQR: 0 instancias tienen un valor para program__class_defs_pct inferior a 0.010422313585877419 (Q1-1.5*IQR) para program__class_defs_pct. Representando un 0.0% del total de instancias.\n",
      "+1.5IQR: 0 instancias tienen un valor para program__class_defs_pct superior a 0.6641846392303705 (Q3+1.5*IQR) para program__class_defs_pct. Representando un 0.0% del total de instancias.\n",
      "+3.0IQR: 0 instancias tienen un valor para program__class_defs_pct superior a 0.9093455113470554 (Q3-3*IQR) para program__class_defs_pct. Representando un 0.0% del total de instancias.\n",
      "L: 0 instancias tienen un valor para program__class_defs_pct inferior a 0.09935775894360674 para program__class_defs_pct. Representando un 0.0% del total de instancias.\n",
      "U: 0 instancias tienen un valor para program__class_defs_pct superior a 0.8293295689746799 para program__class_defs_pct. Representando un 0.0% del total de instancias.\n"
     ]
    }
   ],
   "execution_count": 36
  },
  {
   "metadata": {},
   "cell_type": "markdown",
   "source": "No hace falta analizar los valores que estan en los extremos, ya que no hay valores que se salgan de la distribución.",
   "id": "15c387775fc887d6"
  },
  {
   "metadata": {
    "ExecuteTime": {
     "end_time": "2024-05-14T11:28:12.289705Z",
     "start_time": "2024-05-14T11:28:12.261031Z"
    }
   },
   "cell_type": "code",
   "source": "X[X['program__class_defs_pct'] > 0].describe(percentiles=[.25, .50, .75], include = ['object', 'float', 'bool', 'int'])",
   "id": "5c5b54117de99ea5",
   "outputs": [
    {
     "data": {
      "text/plain": [
       "       program__has_sub_dirs_with_code  program__has_packages  \\\n",
       "count                        18.000000              18.000000   \n",
       "mean                          0.944444               0.944444   \n",
       "std                           0.235702               0.235702   \n",
       "min                           0.000000               0.000000   \n",
       "25%                           1.000000               1.000000   \n",
       "50%                           1.000000               1.000000   \n",
       "75%                           1.000000               1.000000   \n",
       "max                           1.000000               1.000000   \n",
       "\n",
       "       program__number_of_modules  program__number_of_sub_dirs_with_code  \\\n",
       "count                   18.000000                              18.000000   \n",
       "mean                   616.777771                              32.333332   \n",
       "std                    996.249878                              58.226742   \n",
       "min                     15.000000                               0.000000   \n",
       "25%                    119.250000                               3.250000   \n",
       "50%                    304.500000                               7.500000   \n",
       "75%                    565.500000                              39.250000   \n",
       "max                   3294.000000                             238.000000   \n",
       "\n",
       "       program__number_of_packages  program__class_defs_pct  \\\n",
       "count                    18.000000                18.000000   \n",
       "mean                    123.222221                 0.355942   \n",
       "std                     306.259125                 0.135173   \n",
       "min                       0.000000                 0.162427   \n",
       "25%                       7.500000                 0.255583   \n",
       "50%                      19.000000                 0.356587   \n",
       "75%                      73.500000                 0.419024   \n",
       "max                    1297.000000                 0.624539   \n",
       "\n",
       "       program__function_defs_pct  program__enum_defs_pct  \\\n",
       "count                   18.000000               18.000000   \n",
       "mean                     0.639417                0.004641   \n",
       "std                      0.134519                0.005923   \n",
       "min                      0.375461                0.000000   \n",
       "25%                      0.578603                0.000000   \n",
       "50%                      0.638059                0.002072   \n",
       "75%                      0.740156                0.007015   \n",
       "max                      0.836595                0.019078   \n",
       "\n",
       "       program__has_code_root_package  program__average_defs_per_module  \n",
       "count                       18.000000                         18.000000  \n",
       "mean                         0.722222                          3.757913  \n",
       "std                          0.460889                          2.341887  \n",
       "min                          0.000000                          0.733333  \n",
       "25%                          0.250000                          2.063336  \n",
       "50%                          1.000000                          3.243456  \n",
       "75%                          1.000000                          4.729403  \n",
       "max                          1.000000                          9.957198  "
      ],
      "text/html": [
       "<div>\n",
       "<style scoped>\n",
       "    .dataframe tbody tr th:only-of-type {\n",
       "        vertical-align: middle;\n",
       "    }\n",
       "\n",
       "    .dataframe tbody tr th {\n",
       "        vertical-align: top;\n",
       "    }\n",
       "\n",
       "    .dataframe thead th {\n",
       "        text-align: right;\n",
       "    }\n",
       "</style>\n",
       "<table border=\"1\" class=\"dataframe\">\n",
       "  <thead>\n",
       "    <tr style=\"text-align: right;\">\n",
       "      <th></th>\n",
       "      <th>program__has_sub_dirs_with_code</th>\n",
       "      <th>program__has_packages</th>\n",
       "      <th>program__number_of_modules</th>\n",
       "      <th>program__number_of_sub_dirs_with_code</th>\n",
       "      <th>program__number_of_packages</th>\n",
       "      <th>program__class_defs_pct</th>\n",
       "      <th>program__function_defs_pct</th>\n",
       "      <th>program__enum_defs_pct</th>\n",
       "      <th>program__has_code_root_package</th>\n",
       "      <th>program__average_defs_per_module</th>\n",
       "    </tr>\n",
       "  </thead>\n",
       "  <tbody>\n",
       "    <tr>\n",
       "      <th>count</th>\n",
       "      <td>18.000000</td>\n",
       "      <td>18.000000</td>\n",
       "      <td>18.000000</td>\n",
       "      <td>18.000000</td>\n",
       "      <td>18.000000</td>\n",
       "      <td>18.000000</td>\n",
       "      <td>18.000000</td>\n",
       "      <td>18.000000</td>\n",
       "      <td>18.000000</td>\n",
       "      <td>18.000000</td>\n",
       "    </tr>\n",
       "    <tr>\n",
       "      <th>mean</th>\n",
       "      <td>0.944444</td>\n",
       "      <td>0.944444</td>\n",
       "      <td>616.777771</td>\n",
       "      <td>32.333332</td>\n",
       "      <td>123.222221</td>\n",
       "      <td>0.355942</td>\n",
       "      <td>0.639417</td>\n",
       "      <td>0.004641</td>\n",
       "      <td>0.722222</td>\n",
       "      <td>3.757913</td>\n",
       "    </tr>\n",
       "    <tr>\n",
       "      <th>std</th>\n",
       "      <td>0.235702</td>\n",
       "      <td>0.235702</td>\n",
       "      <td>996.249878</td>\n",
       "      <td>58.226742</td>\n",
       "      <td>306.259125</td>\n",
       "      <td>0.135173</td>\n",
       "      <td>0.134519</td>\n",
       "      <td>0.005923</td>\n",
       "      <td>0.460889</td>\n",
       "      <td>2.341887</td>\n",
       "    </tr>\n",
       "    <tr>\n",
       "      <th>min</th>\n",
       "      <td>0.000000</td>\n",
       "      <td>0.000000</td>\n",
       "      <td>15.000000</td>\n",
       "      <td>0.000000</td>\n",
       "      <td>0.000000</td>\n",
       "      <td>0.162427</td>\n",
       "      <td>0.375461</td>\n",
       "      <td>0.000000</td>\n",
       "      <td>0.000000</td>\n",
       "      <td>0.733333</td>\n",
       "    </tr>\n",
       "    <tr>\n",
       "      <th>25%</th>\n",
       "      <td>1.000000</td>\n",
       "      <td>1.000000</td>\n",
       "      <td>119.250000</td>\n",
       "      <td>3.250000</td>\n",
       "      <td>7.500000</td>\n",
       "      <td>0.255583</td>\n",
       "      <td>0.578603</td>\n",
       "      <td>0.000000</td>\n",
       "      <td>0.250000</td>\n",
       "      <td>2.063336</td>\n",
       "    </tr>\n",
       "    <tr>\n",
       "      <th>50%</th>\n",
       "      <td>1.000000</td>\n",
       "      <td>1.000000</td>\n",
       "      <td>304.500000</td>\n",
       "      <td>7.500000</td>\n",
       "      <td>19.000000</td>\n",
       "      <td>0.356587</td>\n",
       "      <td>0.638059</td>\n",
       "      <td>0.002072</td>\n",
       "      <td>1.000000</td>\n",
       "      <td>3.243456</td>\n",
       "    </tr>\n",
       "    <tr>\n",
       "      <th>75%</th>\n",
       "      <td>1.000000</td>\n",
       "      <td>1.000000</td>\n",
       "      <td>565.500000</td>\n",
       "      <td>39.250000</td>\n",
       "      <td>73.500000</td>\n",
       "      <td>0.419024</td>\n",
       "      <td>0.740156</td>\n",
       "      <td>0.007015</td>\n",
       "      <td>1.000000</td>\n",
       "      <td>4.729403</td>\n",
       "    </tr>\n",
       "    <tr>\n",
       "      <th>max</th>\n",
       "      <td>1.000000</td>\n",
       "      <td>1.000000</td>\n",
       "      <td>3294.000000</td>\n",
       "      <td>238.000000</td>\n",
       "      <td>1297.000000</td>\n",
       "      <td>0.624539</td>\n",
       "      <td>0.836595</td>\n",
       "      <td>0.019078</td>\n",
       "      <td>1.000000</td>\n",
       "      <td>9.957198</td>\n",
       "    </tr>\n",
       "  </tbody>\n",
       "</table>\n",
       "</div>"
      ]
     },
     "execution_count": 37,
     "metadata": {},
     "output_type": "execute_result"
    }
   ],
   "execution_count": 37
  },
  {
   "metadata": {},
   "cell_type": "markdown",
   "source": [
    "### Variable function_defs_pct (9/10)\n",
    "Esta variable representa el porcentage de las definiciones de un programa que son clases. Como vimos en la descripción de la tabla esta varibale adopta valores en el rango 0.37 - 0.83. Con una media de 0,63.\n"
   ],
   "id": "fbd6e93cca1be4bf"
  },
  {
   "metadata": {
    "ExecuteTime": {
     "end_time": "2024-05-14T11:28:12.590867Z",
     "start_time": "2024-05-14T11:28:12.290748Z"
    }
   },
   "cell_type": "code",
   "source": "sns.displot(X['program__function_defs_pct'], bins=[i / 100 for i in range(0, 101)])",
   "id": "f1b75c25c53f4ad5",
   "outputs": [
    {
     "data": {
      "text/plain": [
       "<seaborn.axisgrid.FacetGrid at 0x23a54ecaa80>"
      ]
     },
     "execution_count": 38,
     "metadata": {},
     "output_type": "execute_result"
    },
    {
     "data": {
      "text/plain": [
       "<Figure size 500x500 with 1 Axes>"
      ],
      "image/png": "[encoded data removed]"
     },
     "metadata": {},
     "output_type": "display_data"
    }
   ],
   "execution_count": 38
  },
  {
   "metadata": {
    "ExecuteTime": {
     "end_time": "2024-05-14T11:28:12.598210Z",
     "start_time": "2024-05-14T11:28:12.591877Z"
    }
   },
   "cell_type": "code",
   "source": "print_outliers_for_df_column(X, 'program__function_defs_pct')",
   "id": "d44c212251238f23",
   "outputs": [
    {
     "name": "stdout",
     "output_type": "stream",
     "text": [
      "El coeficiente MC (Medcouple Coefficient) de balanceo es: 0.12776604728950702\n",
      "Rango valores atípicos extremos (Tukey): [0.0939435362815857,1.2248151302337646]\n",
      "Rango valores atípicos leves (Tukey): [0.3362731635570526,0.9824855029582977]\n",
      "Rango valores atípicos extremos (Fixed BoxPlot): [0.423650428481245,1.144134951740257]\n",
      "-3.0IQR: 0 instancias tienen un valor para program__function_defs_pct inferior a 0.0939435362815857 (Q1-3*IQR) para program__function_defs_pct. Representando un 0.0% del total de instancias.\n",
      "-1.5IQR: 0 instancias tienen un valor para program__function_defs_pct inferior a 0.3362731635570526 (Q1-1.5*IQR) para program__function_defs_pct. Representando un 0.0% del total de instancias.\n",
      "+1.5IQR: 0 instancias tienen un valor para program__function_defs_pct superior a 0.9824855029582977 (Q3+1.5*IQR) para program__function_defs_pct. Representando un 0.0% del total de instancias.\n",
      "+3.0IQR: 0 instancias tienen un valor para program__function_defs_pct superior a 1.2248151302337646 (Q3-3*IQR) para program__function_defs_pct. Representando un 0.0% del total de instancias.\n",
      "L: 2 instancias tienen un valor para program__function_defs_pct inferior a 0.423650428481245 para program__function_defs_pct. Representando un 11.11% del total de instancias.\n",
      "U: 0 instancias tienen un valor para program__function_defs_pct superior a 1.144134951740257 para program__function_defs_pct. Representando un 0.0% del total de instancias.\n"
     ]
    }
   ],
   "execution_count": 39
  },
  {
   "metadata": {},
   "cell_type": "markdown",
   "source": "Describimos los valores de las variables de la tabla, cuando el valor de la variable es menor que 0.43 (Con un MC de 12 usamos L)",
   "id": "5b44b3fe5e71d3c5"
  },
  {
   "metadata": {
    "ExecuteTime": {
     "end_time": "2024-05-14T11:28:12.624086Z",
     "start_time": "2024-05-14T11:28:12.599217Z"
    }
   },
   "cell_type": "code",
   "source": "X[X['program__function_defs_pct'] < 0.43].describe(percentiles=[.25, .50, .75], include = ['object', 'float', 'bool', 'int'])",
   "id": "b493e3454f34ef9",
   "outputs": [
    {
     "data": {
      "text/plain": [
       "       program__has_sub_dirs_with_code  program__has_packages  \\\n",
       "count                              2.0                    2.0   \n",
       "mean                               1.0                    1.0   \n",
       "std                                0.0                    0.0   \n",
       "min                                1.0                    1.0   \n",
       "25%                                1.0                    1.0   \n",
       "50%                                1.0                    1.0   \n",
       "75%                                1.0                    1.0   \n",
       "max                                1.0                    1.0   \n",
       "\n",
       "       program__number_of_modules  program__number_of_sub_dirs_with_code  \\\n",
       "count                    2.000000                               2.000000   \n",
       "mean                   265.500000                              14.000000   \n",
       "std                    184.554871                               7.071068   \n",
       "min                    135.000000                               9.000000   \n",
       "25%                    200.250000                              11.500000   \n",
       "50%                    265.500000                              14.000000   \n",
       "75%                    330.750000                              16.500000   \n",
       "max                    396.000000                              19.000000   \n",
       "\n",
       "       program__number_of_packages  program__class_defs_pct  \\\n",
       "count                     2.000000                 2.000000   \n",
       "mean                     22.500000                 0.604903   \n",
       "std                      21.920311                 0.027769   \n",
       "min                       7.000000                 0.585267   \n",
       "25%                      14.750000                 0.595085   \n",
       "50%                      22.500000                 0.604903   \n",
       "75%                      30.250000                 0.614721   \n",
       "max                      38.000000                 0.624539   \n",
       "\n",
       "       program__function_defs_pct  program__enum_defs_pct  \\\n",
       "count                    2.000000                2.000000   \n",
       "mean                     0.392069                0.003027   \n",
       "std                      0.023488                0.004281   \n",
       "min                      0.375461                0.000000   \n",
       "25%                      0.383765                0.001514   \n",
       "50%                      0.392069                0.003027   \n",
       "75%                      0.400374                0.004541   \n",
       "max                      0.408678                0.006054   \n",
       "\n",
       "       program__has_code_root_package  program__average_defs_per_module  \n",
       "count                        2.000000                          2.000000  \n",
       "mean                         0.500000                          6.068098  \n",
       "std                          0.707107                          1.799789  \n",
       "min                          0.000000                          4.795455  \n",
       "25%                          0.250000                          5.431776  \n",
       "50%                          0.500000                          6.068098  \n",
       "75%                          0.750000                          6.704419  \n",
       "max                          1.000000                          7.340741  "
      ],
      "text/html": [
       "<div>\n",
       "<style scoped>\n",
       "    .dataframe tbody tr th:only-of-type {\n",
       "        vertical-align: middle;\n",
       "    }\n",
       "\n",
       "    .dataframe tbody tr th {\n",
       "        vertical-align: top;\n",
       "    }\n",
       "\n",
       "    .dataframe thead th {\n",
       "        text-align: right;\n",
       "    }\n",
       "</style>\n",
       "<table border=\"1\" class=\"dataframe\">\n",
       "  <thead>\n",
       "    <tr style=\"text-align: right;\">\n",
       "      <th></th>\n",
       "      <th>program__has_sub_dirs_with_code</th>\n",
       "      <th>program__has_packages</th>\n",
       "      <th>program__number_of_modules</th>\n",
       "      <th>program__number_of_sub_dirs_with_code</th>\n",
       "      <th>program__number_of_packages</th>\n",
       "      <th>program__class_defs_pct</th>\n",
       "      <th>program__function_defs_pct</th>\n",
       "      <th>program__enum_defs_pct</th>\n",
       "      <th>program__has_code_root_package</th>\n",
       "      <th>program__average_defs_per_module</th>\n",
       "    </tr>\n",
       "  </thead>\n",
       "  <tbody>\n",
       "    <tr>\n",
       "      <th>count</th>\n",
       "      <td>2.0</td>\n",
       "      <td>2.0</td>\n",
       "      <td>2.000000</td>\n",
       "      <td>2.000000</td>\n",
       "      <td>2.000000</td>\n",
       "      <td>2.000000</td>\n",
       "      <td>2.000000</td>\n",
       "      <td>2.000000</td>\n",
       "      <td>2.000000</td>\n",
       "      <td>2.000000</td>\n",
       "    </tr>\n",
       "    <tr>\n",
       "      <th>mean</th>\n",
       "      <td>1.0</td>\n",
       "      <td>1.0</td>\n",
       "      <td>265.500000</td>\n",
       "      <td>14.000000</td>\n",
       "      <td>22.500000</td>\n",
       "      <td>0.604903</td>\n",
       "      <td>0.392069</td>\n",
       "      <td>0.003027</td>\n",
       "      <td>0.500000</td>\n",
       "      <td>6.068098</td>\n",
       "    </tr>\n",
       "    <tr>\n",
       "      <th>std</th>\n",
       "      <td>0.0</td>\n",
       "      <td>0.0</td>\n",
       "      <td>184.554871</td>\n",
       "      <td>7.071068</td>\n",
       "      <td>21.920311</td>\n",
       "      <td>0.027769</td>\n",
       "      <td>0.023488</td>\n",
       "      <td>0.004281</td>\n",
       "      <td>0.707107</td>\n",
       "      <td>1.799789</td>\n",
       "    </tr>\n",
       "    <tr>\n",
       "      <th>min</th>\n",
       "      <td>1.0</td>\n",
       "      <td>1.0</td>\n",
       "      <td>135.000000</td>\n",
       "      <td>9.000000</td>\n",
       "      <td>7.000000</td>\n",
       "      <td>0.585267</td>\n",
       "      <td>0.375461</td>\n",
       "      <td>0.000000</td>\n",
       "      <td>0.000000</td>\n",
       "      <td>4.795455</td>\n",
       "    </tr>\n",
       "    <tr>\n",
       "      <th>25%</th>\n",
       "      <td>1.0</td>\n",
       "      <td>1.0</td>\n",
       "      <td>200.250000</td>\n",
       "      <td>11.500000</td>\n",
       "      <td>14.750000</td>\n",
       "      <td>0.595085</td>\n",
       "      <td>0.383765</td>\n",
       "      <td>0.001514</td>\n",
       "      <td>0.250000</td>\n",
       "      <td>5.431776</td>\n",
       "    </tr>\n",
       "    <tr>\n",
       "      <th>50%</th>\n",
       "      <td>1.0</td>\n",
       "      <td>1.0</td>\n",
       "      <td>265.500000</td>\n",
       "      <td>14.000000</td>\n",
       "      <td>22.500000</td>\n",
       "      <td>0.604903</td>\n",
       "      <td>0.392069</td>\n",
       "      <td>0.003027</td>\n",
       "      <td>0.500000</td>\n",
       "      <td>6.068098</td>\n",
       "    </tr>\n",
       "    <tr>\n",
       "      <th>75%</th>\n",
       "      <td>1.0</td>\n",
       "      <td>1.0</td>\n",
       "      <td>330.750000</td>\n",
       "      <td>16.500000</td>\n",
       "      <td>30.250000</td>\n",
       "      <td>0.614721</td>\n",
       "      <td>0.400374</td>\n",
       "      <td>0.004541</td>\n",
       "      <td>0.750000</td>\n",
       "      <td>6.704419</td>\n",
       "    </tr>\n",
       "    <tr>\n",
       "      <th>max</th>\n",
       "      <td>1.0</td>\n",
       "      <td>1.0</td>\n",
       "      <td>396.000000</td>\n",
       "      <td>19.000000</td>\n",
       "      <td>38.000000</td>\n",
       "      <td>0.624539</td>\n",
       "      <td>0.408678</td>\n",
       "      <td>0.006054</td>\n",
       "      <td>1.000000</td>\n",
       "      <td>7.340741</td>\n",
       "    </tr>\n",
       "  </tbody>\n",
       "</table>\n",
       "</div>"
      ]
     },
     "execution_count": 40,
     "metadata": {},
     "output_type": "execute_result"
    }
   ],
   "execution_count": 40
  },
  {
   "metadata": {},
   "cell_type": "markdown",
   "source": [
    "### IMPORTANTE\n",
    "\n",
    "Hay 2 programas que tienen un porcentaje de definiciones de funciones muy bajo."
   ],
   "id": "66db312152950d33"
  },
  {
   "metadata": {},
   "cell_type": "markdown",
   "source": [
    "### Variable enum_defs_pct (10/10)\n",
    "Esta variable representa el porcentage de las definiciones de un programa que son clases. Como vimos en la descripción de la tabla esta varibale adopta valores en el rango 0.0 - 0.01. Con un maximo de 0.0046"
   ],
   "id": "e3d532376a1f0a16"
  },
  {
   "metadata": {
    "ExecuteTime": {
     "end_time": "2024-05-14T11:28:12.954616Z",
     "start_time": "2024-05-14T11:28:12.624086Z"
    }
   },
   "cell_type": "code",
   "source": "sns.displot(X['program__enum_defs_pct'], bins=[i / 100 for i in range(0, 101)])",
   "id": "345260364ebc3bf6",
   "outputs": [
    {
     "data": {
      "text/plain": [
       "<seaborn.axisgrid.FacetGrid at 0x23a590c78c0>"
      ]
     },
     "execution_count": 41,
     "metadata": {},
     "output_type": "execute_result"
    },
    {
     "data": {
      "text/plain": [
       "<Figure size 500x500 with 1 Axes>"
      ],
      "image/png": "[encoded data removed]"
     },
     "metadata": {},
     "output_type": "display_data"
    }
   ],
   "execution_count": 41
  },
  {
   "metadata": {
    "ExecuteTime": {
     "end_time": "2024-05-14T11:28:12.965657Z",
     "start_time": "2024-05-14T11:28:12.956142Z"
    }
   },
   "cell_type": "code",
   "source": "print_outliers_for_df_column(X, 'program__enum_defs_pct')",
   "id": "974c59b1f655d0f3",
   "outputs": [
    {
     "name": "stdout",
     "output_type": "stream",
     "text": [
      "El coeficiente MC (Medcouple Coefficient) de balanceo es: 0.4462777584840175\n",
      "Rango valores atípicos extremos (Tukey): [-0.021044535445980728,0.02805938059464097]\n",
      "Rango valores atípicos leves (Tukey): [-0.010522267722990364,0.017537112871650606]\n",
      "Rango valores atípicos extremos (Fixed BoxPlot): [-0.0022067516495215818,0.06973010400915272]\n",
      "-3.0IQR: 0 instancias tienen un valor para program__enum_defs_pct inferior a -0.021044535445980728 (Q1-3*IQR) para program__enum_defs_pct. Representando un 0.0% del total de instancias.\n",
      "-1.5IQR: 0 instancias tienen un valor para program__enum_defs_pct inferior a -0.010522267722990364 (Q1-1.5*IQR) para program__enum_defs_pct. Representando un 0.0% del total de instancias.\n",
      "+1.5IQR: 1 instancias tienen un valor para program__enum_defs_pct superior a 0.017537112871650606 (Q3+1.5*IQR) para program__enum_defs_pct. Representando un 5.556% del total de instancias.\n",
      "+3.0IQR: 0 instancias tienen un valor para program__enum_defs_pct superior a 0.02805938059464097 (Q3-3*IQR) para program__enum_defs_pct. Representando un 0.0% del total de instancias.\n",
      "L: 0 instancias tienen un valor para program__enum_defs_pct inferior a -0.0022067516495215818 para program__enum_defs_pct. Representando un 0.0% del total de instancias.\n",
      "U: 0 instancias tienen un valor para program__enum_defs_pct superior a 0.06973010400915272 para program__enum_defs_pct. Representando un 0.0% del total de instancias.\n"
     ]
    }
   ],
   "execution_count": 42
  },
  {
   "metadata": {},
   "cell_type": "markdown",
   "source": "Describimos los valores de las variables de la tabla, cuando el valor de la variable es mayor que 0.017 (Con un MC de 44 usamos Tuckey)",
   "id": "2afb50e748f44e8d"
  },
  {
   "metadata": {
    "ExecuteTime": {
     "end_time": "2024-05-14T11:28:13.017082Z",
     "start_time": "2024-05-14T11:28:12.966664Z"
    }
   },
   "cell_type": "code",
   "source": "X[X['program__enum_defs_pct'] > 0.018].describe(percentiles=[.25, .50, .75], include = ['object', 'float', 'bool', 'int'])",
   "id": "fd3d31b12264e45",
   "outputs": [
    {
     "data": {
      "text/plain": [
       "       program__has_sub_dirs_with_code  program__has_packages  \\\n",
       "count                              1.0                    1.0   \n",
       "mean                               1.0                    1.0   \n",
       "std                                NaN                    NaN   \n",
       "min                                1.0                    1.0   \n",
       "25%                                1.0                    1.0   \n",
       "50%                                1.0                    1.0   \n",
       "75%                                1.0                    1.0   \n",
       "max                                1.0                    1.0   \n",
       "\n",
       "       program__number_of_modules  program__number_of_sub_dirs_with_code  \\\n",
       "count                         1.0                                    1.0   \n",
       "mean                       3294.0                                   68.0   \n",
       "std                           NaN                                    NaN   \n",
       "min                        3294.0                                   68.0   \n",
       "25%                        3294.0                                   68.0   \n",
       "50%                        3294.0                                   68.0   \n",
       "75%                        3294.0                                   68.0   \n",
       "max                        3294.0                                   68.0   \n",
       "\n",
       "       program__number_of_packages  program__class_defs_pct  \\\n",
       "count                          1.0                 1.000000   \n",
       "mean                        1297.0                 0.368945   \n",
       "std                            NaN                      NaN   \n",
       "min                         1297.0                 0.368945   \n",
       "25%                         1297.0                 0.368945   \n",
       "50%                         1297.0                 0.368945   \n",
       "75%                         1297.0                 0.368945   \n",
       "max                         1297.0                 0.368945   \n",
       "\n",
       "       program__function_defs_pct  program__enum_defs_pct  \\\n",
       "count                    1.000000                1.000000   \n",
       "mean                     0.611977                0.019078   \n",
       "std                           NaN                     NaN   \n",
       "min                      0.611977                0.019078   \n",
       "25%                      0.611977                0.019078   \n",
       "50%                      0.611977                0.019078   \n",
       "75%                      0.611977                0.019078   \n",
       "max                      0.611977                0.019078   \n",
       "\n",
       "       program__has_code_root_package  program__average_defs_per_module  \n",
       "count                             1.0                          1.000000  \n",
       "mean                              0.0                          1.829994  \n",
       "std                               NaN                               NaN  \n",
       "min                               0.0                          1.829994  \n",
       "25%                               0.0                          1.829994  \n",
       "50%                               0.0                          1.829994  \n",
       "75%                               0.0                          1.829994  \n",
       "max                               0.0                          1.829994  "
      ],
      "text/html": [
       "<div>\n",
       "<style scoped>\n",
       "    .dataframe tbody tr th:only-of-type {\n",
       "        vertical-align: middle;\n",
       "    }\n",
       "\n",
       "    .dataframe tbody tr th {\n",
       "        vertical-align: top;\n",
       "    }\n",
       "\n",
       "    .dataframe thead th {\n",
       "        text-align: right;\n",
       "    }\n",
       "</style>\n",
       "<table border=\"1\" class=\"dataframe\">\n",
       "  <thead>\n",
       "    <tr style=\"text-align: right;\">\n",
       "      <th></th>\n",
       "      <th>program__has_sub_dirs_with_code</th>\n",
       "      <th>program__has_packages</th>\n",
       "      <th>program__number_of_modules</th>\n",
       "      <th>program__number_of_sub_dirs_with_code</th>\n",
       "      <th>program__number_of_packages</th>\n",
       "      <th>program__class_defs_pct</th>\n",
       "      <th>program__function_defs_pct</th>\n",
       "      <th>program__enum_defs_pct</th>\n",
       "      <th>program__has_code_root_package</th>\n",
       "      <th>program__average_defs_per_module</th>\n",
       "    </tr>\n",
       "  </thead>\n",
       "  <tbody>\n",
       "    <tr>\n",
       "      <th>count</th>\n",
       "      <td>1.0</td>\n",
       "      <td>1.0</td>\n",
       "      <td>1.0</td>\n",
       "      <td>1.0</td>\n",
       "      <td>1.0</td>\n",
       "      <td>1.000000</td>\n",
       "      <td>1.000000</td>\n",
       "      <td>1.000000</td>\n",
       "      <td>1.0</td>\n",
       "      <td>1.000000</td>\n",
       "    </tr>\n",
       "    <tr>\n",
       "      <th>mean</th>\n",
       "      <td>1.0</td>\n",
       "      <td>1.0</td>\n",
       "      <td>3294.0</td>\n",
       "      <td>68.0</td>\n",
       "      <td>1297.0</td>\n",
       "      <td>0.368945</td>\n",
       "      <td>0.611977</td>\n",
       "      <td>0.019078</td>\n",
       "      <td>0.0</td>\n",
       "      <td>1.829994</td>\n",
       "    </tr>\n",
       "    <tr>\n",
       "      <th>std</th>\n",
       "      <td>NaN</td>\n",
       "      <td>NaN</td>\n",
       "      <td>NaN</td>\n",
       "      <td>NaN</td>\n",
       "      <td>NaN</td>\n",
       "      <td>NaN</td>\n",
       "      <td>NaN</td>\n",
       "      <td>NaN</td>\n",
       "      <td>NaN</td>\n",
       "      <td>NaN</td>\n",
       "    </tr>\n",
       "    <tr>\n",
       "      <th>min</th>\n",
       "      <td>1.0</td>\n",
       "      <td>1.0</td>\n",
       "      <td>3294.0</td>\n",
       "      <td>68.0</td>\n",
       "      <td>1297.0</td>\n",
       "      <td>0.368945</td>\n",
       "      <td>0.611977</td>\n",
       "      <td>0.019078</td>\n",
       "      <td>0.0</td>\n",
       "      <td>1.829994</td>\n",
       "    </tr>\n",
       "    <tr>\n",
       "      <th>25%</th>\n",
       "      <td>1.0</td>\n",
       "      <td>1.0</td>\n",
       "      <td>3294.0</td>\n",
       "      <td>68.0</td>\n",
       "      <td>1297.0</td>\n",
       "      <td>0.368945</td>\n",
       "      <td>0.611977</td>\n",
       "      <td>0.019078</td>\n",
       "      <td>0.0</td>\n",
       "      <td>1.829994</td>\n",
       "    </tr>\n",
       "    <tr>\n",
       "      <th>50%</th>\n",
       "      <td>1.0</td>\n",
       "      <td>1.0</td>\n",
       "      <td>3294.0</td>\n",
       "      <td>68.0</td>\n",
       "      <td>1297.0</td>\n",
       "      <td>0.368945</td>\n",
       "      <td>0.611977</td>\n",
       "      <td>0.019078</td>\n",
       "      <td>0.0</td>\n",
       "      <td>1.829994</td>\n",
       "    </tr>\n",
       "    <tr>\n",
       "      <th>75%</th>\n",
       "      <td>1.0</td>\n",
       "      <td>1.0</td>\n",
       "      <td>3294.0</td>\n",
       "      <td>68.0</td>\n",
       "      <td>1297.0</td>\n",
       "      <td>0.368945</td>\n",
       "      <td>0.611977</td>\n",
       "      <td>0.019078</td>\n",
       "      <td>0.0</td>\n",
       "      <td>1.829994</td>\n",
       "    </tr>\n",
       "    <tr>\n",
       "      <th>max</th>\n",
       "      <td>1.0</td>\n",
       "      <td>1.0</td>\n",
       "      <td>3294.0</td>\n",
       "      <td>68.0</td>\n",
       "      <td>1297.0</td>\n",
       "      <td>0.368945</td>\n",
       "      <td>0.611977</td>\n",
       "      <td>0.019078</td>\n",
       "      <td>0.0</td>\n",
       "      <td>1.829994</td>\n",
       "    </tr>\n",
       "  </tbody>\n",
       "</table>\n",
       "</div>"
      ]
     },
     "execution_count": 43,
     "metadata": {},
     "output_type": "execute_result"
    }
   ],
   "execution_count": 43
  },
  {
   "metadata": {},
   "cell_type": "markdown",
   "source": [
    "### IMPORTANTE\n",
    "\n",
    "Hay 1 programa que tiene un porcentaje de definiciones de enumerados muy elevado, comparado con el resto."
   ],
   "id": "b228159dc52b79dc"
  },
  {
   "cell_type": "markdown",
   "id": "a63c33a981202cfe",
   "metadata": {
    "collapsed": false
   },
   "source": [
    "## Multivariate\n",
    "\n",
    "TODO: isolation forest algorithm"
   ]
  },
  {
   "cell_type": "code",
   "id": "51448304c36d916e",
   "metadata": {
    "collapsed": false,
    "ExecuteTime": {
     "end_time": "2024-05-14T11:28:14.801161Z",
     "start_time": "2024-05-14T11:28:13.018089Z"
    }
   },
   "source": [
    "from sklearn.ensemble import  IsolationForest\n",
    "\n",
    "CONTAMINATION_FACTOR = 0.0012\n",
    "\n",
    "isof_model = IsolationForest(contamination=CONTAMINATION_FACTOR, random_state=0)\n",
    "isof_prediction = isof_model.fit_predict(X.to_numpy())\n",
    "mask = isof_prediction == -1\n",
    "multivar_outliers = X[mask].index.tolist()\n",
    "full_table.iloc[multivar_outliers]"
   ],
   "outputs": [
    {
     "ename": "IndexError",
     "evalue": "positional indexers are out-of-bounds",
     "output_type": "error",
     "traceback": [
      "\u001B[1;31m---------------------------------------------------------------------------\u001B[0m",
      "\u001B[1;31mIndexError\u001B[0m                                Traceback (most recent call last)",
      "File \u001B[1;32mC:\\Program Files\\Python312\\Lib\\site-packages\\pandas\\core\\indexing.py:1714\u001B[0m, in \u001B[0;36m_iLocIndexer._get_list_axis\u001B[1;34m(self, key, axis)\u001B[0m\n\u001B[0;32m   1713\u001B[0m \u001B[38;5;28;01mtry\u001B[39;00m:\n\u001B[1;32m-> 1714\u001B[0m     \u001B[38;5;28;01mreturn\u001B[39;00m \u001B[38;5;28;43mself\u001B[39;49m\u001B[38;5;241;43m.\u001B[39;49m\u001B[43mobj\u001B[49m\u001B[38;5;241;43m.\u001B[39;49m\u001B[43m_take_with_is_copy\u001B[49m\u001B[43m(\u001B[49m\u001B[43mkey\u001B[49m\u001B[43m,\u001B[49m\u001B[43m \u001B[49m\u001B[43maxis\u001B[49m\u001B[38;5;241;43m=\u001B[39;49m\u001B[43maxis\u001B[49m\u001B[43m)\u001B[49m\n\u001B[0;32m   1715\u001B[0m \u001B[38;5;28;01mexcept\u001B[39;00m \u001B[38;5;167;01mIndexError\u001B[39;00m \u001B[38;5;28;01mas\u001B[39;00m err:\n\u001B[0;32m   1716\u001B[0m     \u001B[38;5;66;03m# re-raise with different error message, e.g. test_getitem_ndarray_3d\u001B[39;00m\n",
      "File \u001B[1;32mC:\\Program Files\\Python312\\Lib\\site-packages\\pandas\\core\\generic.py:4153\u001B[0m, in \u001B[0;36mNDFrame._take_with_is_copy\u001B[1;34m(self, indices, axis)\u001B[0m\n\u001B[0;32m   4144\u001B[0m \u001B[38;5;250m\u001B[39m\u001B[38;5;124;03m\"\"\"\u001B[39;00m\n\u001B[0;32m   4145\u001B[0m \u001B[38;5;124;03mInternal version of the `take` method that sets the `_is_copy`\u001B[39;00m\n\u001B[0;32m   4146\u001B[0m \u001B[38;5;124;03mattribute to keep track of the parent dataframe (using in indexing\u001B[39;00m\n\u001B[1;32m   (...)\u001B[0m\n\u001B[0;32m   4151\u001B[0m \u001B[38;5;124;03mSee the docstring of `take` for full explanation of the parameters.\u001B[39;00m\n\u001B[0;32m   4152\u001B[0m \u001B[38;5;124;03m\"\"\"\u001B[39;00m\n\u001B[1;32m-> 4153\u001B[0m result \u001B[38;5;241m=\u001B[39m \u001B[38;5;28;43mself\u001B[39;49m\u001B[38;5;241;43m.\u001B[39;49m\u001B[43mtake\u001B[49m\u001B[43m(\u001B[49m\u001B[43mindices\u001B[49m\u001B[38;5;241;43m=\u001B[39;49m\u001B[43mindices\u001B[49m\u001B[43m,\u001B[49m\u001B[43m \u001B[49m\u001B[43maxis\u001B[49m\u001B[38;5;241;43m=\u001B[39;49m\u001B[43maxis\u001B[49m\u001B[43m)\u001B[49m\n\u001B[0;32m   4154\u001B[0m \u001B[38;5;66;03m# Maybe set copy if we didn't actually change the index.\u001B[39;00m\n",
      "File \u001B[1;32mC:\\Program Files\\Python312\\Lib\\site-packages\\pandas\\core\\generic.py:4133\u001B[0m, in \u001B[0;36mNDFrame.take\u001B[1;34m(self, indices, axis, **kwargs)\u001B[0m\n\u001B[0;32m   4129\u001B[0m     indices \u001B[38;5;241m=\u001B[39m np\u001B[38;5;241m.\u001B[39marange(\n\u001B[0;32m   4130\u001B[0m         indices\u001B[38;5;241m.\u001B[39mstart, indices\u001B[38;5;241m.\u001B[39mstop, indices\u001B[38;5;241m.\u001B[39mstep, dtype\u001B[38;5;241m=\u001B[39mnp\u001B[38;5;241m.\u001B[39mintp\n\u001B[0;32m   4131\u001B[0m     )\n\u001B[1;32m-> 4133\u001B[0m new_data \u001B[38;5;241m=\u001B[39m \u001B[38;5;28;43mself\u001B[39;49m\u001B[38;5;241;43m.\u001B[39;49m\u001B[43m_mgr\u001B[49m\u001B[38;5;241;43m.\u001B[39;49m\u001B[43mtake\u001B[49m\u001B[43m(\u001B[49m\n\u001B[0;32m   4134\u001B[0m \u001B[43m    \u001B[49m\u001B[43mindices\u001B[49m\u001B[43m,\u001B[49m\n\u001B[0;32m   4135\u001B[0m \u001B[43m    \u001B[49m\u001B[43maxis\u001B[49m\u001B[38;5;241;43m=\u001B[39;49m\u001B[38;5;28;43mself\u001B[39;49m\u001B[38;5;241;43m.\u001B[39;49m\u001B[43m_get_block_manager_axis\u001B[49m\u001B[43m(\u001B[49m\u001B[43maxis\u001B[49m\u001B[43m)\u001B[49m\u001B[43m,\u001B[49m\n\u001B[0;32m   4136\u001B[0m \u001B[43m    \u001B[49m\u001B[43mverify\u001B[49m\u001B[38;5;241;43m=\u001B[39;49m\u001B[38;5;28;43;01mTrue\u001B[39;49;00m\u001B[43m,\u001B[49m\n\u001B[0;32m   4137\u001B[0m \u001B[43m\u001B[49m\u001B[43m)\u001B[49m\n\u001B[0;32m   4138\u001B[0m \u001B[38;5;28;01mreturn\u001B[39;00m \u001B[38;5;28mself\u001B[39m\u001B[38;5;241m.\u001B[39m_constructor_from_mgr(new_data, axes\u001B[38;5;241m=\u001B[39mnew_data\u001B[38;5;241m.\u001B[39maxes)\u001B[38;5;241m.\u001B[39m__finalize__(\n\u001B[0;32m   4139\u001B[0m     \u001B[38;5;28mself\u001B[39m, method\u001B[38;5;241m=\u001B[39m\u001B[38;5;124m\"\u001B[39m\u001B[38;5;124mtake\u001B[39m\u001B[38;5;124m\"\u001B[39m\n\u001B[0;32m   4140\u001B[0m )\n",
      "File \u001B[1;32mC:\\Program Files\\Python312\\Lib\\site-packages\\pandas\\core\\internals\\managers.py:891\u001B[0m, in \u001B[0;36mBaseBlockManager.take\u001B[1;34m(self, indexer, axis, verify)\u001B[0m\n\u001B[0;32m    890\u001B[0m n \u001B[38;5;241m=\u001B[39m \u001B[38;5;28mself\u001B[39m\u001B[38;5;241m.\u001B[39mshape[axis]\n\u001B[1;32m--> 891\u001B[0m indexer \u001B[38;5;241m=\u001B[39m \u001B[43mmaybe_convert_indices\u001B[49m\u001B[43m(\u001B[49m\u001B[43mindexer\u001B[49m\u001B[43m,\u001B[49m\u001B[43m \u001B[49m\u001B[43mn\u001B[49m\u001B[43m,\u001B[49m\u001B[43m \u001B[49m\u001B[43mverify\u001B[49m\u001B[38;5;241;43m=\u001B[39;49m\u001B[43mverify\u001B[49m\u001B[43m)\u001B[49m\n\u001B[0;32m    893\u001B[0m new_labels \u001B[38;5;241m=\u001B[39m \u001B[38;5;28mself\u001B[39m\u001B[38;5;241m.\u001B[39maxes[axis]\u001B[38;5;241m.\u001B[39mtake(indexer)\n",
      "File \u001B[1;32mC:\\Program Files\\Python312\\Lib\\site-packages\\pandas\\core\\indexers\\utils.py:282\u001B[0m, in \u001B[0;36mmaybe_convert_indices\u001B[1;34m(indices, n, verify)\u001B[0m\n\u001B[0;32m    281\u001B[0m     \u001B[38;5;28;01mif\u001B[39;00m mask\u001B[38;5;241m.\u001B[39many():\n\u001B[1;32m--> 282\u001B[0m         \u001B[38;5;28;01mraise\u001B[39;00m \u001B[38;5;167;01mIndexError\u001B[39;00m(\u001B[38;5;124m\"\u001B[39m\u001B[38;5;124mindices are out-of-bounds\u001B[39m\u001B[38;5;124m\"\u001B[39m)\n\u001B[0;32m    283\u001B[0m \u001B[38;5;28;01mreturn\u001B[39;00m indices\n",
      "\u001B[1;31mIndexError\u001B[0m: indices are out-of-bounds",
      "\nThe above exception was the direct cause of the following exception:\n",
      "\u001B[1;31mIndexError\u001B[0m                                Traceback (most recent call last)",
      "Cell \u001B[1;32mIn[44], line 9\u001B[0m\n\u001B[0;32m      7\u001B[0m mask \u001B[38;5;241m=\u001B[39m isof_prediction \u001B[38;5;241m==\u001B[39m \u001B[38;5;241m-\u001B[39m\u001B[38;5;241m1\u001B[39m\n\u001B[0;32m      8\u001B[0m multivar_outliers \u001B[38;5;241m=\u001B[39m X[mask]\u001B[38;5;241m.\u001B[39mindex\u001B[38;5;241m.\u001B[39mtolist()\n\u001B[1;32m----> 9\u001B[0m \u001B[43mfull_table\u001B[49m\u001B[38;5;241;43m.\u001B[39;49m\u001B[43miloc\u001B[49m\u001B[43m[\u001B[49m\u001B[43mmultivar_outliers\u001B[49m\u001B[43m]\u001B[49m\n",
      "File \u001B[1;32mC:\\Program Files\\Python312\\Lib\\site-packages\\pandas\\core\\indexing.py:1191\u001B[0m, in \u001B[0;36m_LocationIndexer.__getitem__\u001B[1;34m(self, key)\u001B[0m\n\u001B[0;32m   1189\u001B[0m maybe_callable \u001B[38;5;241m=\u001B[39m com\u001B[38;5;241m.\u001B[39mapply_if_callable(key, \u001B[38;5;28mself\u001B[39m\u001B[38;5;241m.\u001B[39mobj)\n\u001B[0;32m   1190\u001B[0m maybe_callable \u001B[38;5;241m=\u001B[39m \u001B[38;5;28mself\u001B[39m\u001B[38;5;241m.\u001B[39m_check_deprecated_callable_usage(key, maybe_callable)\n\u001B[1;32m-> 1191\u001B[0m \u001B[38;5;28;01mreturn\u001B[39;00m \u001B[38;5;28;43mself\u001B[39;49m\u001B[38;5;241;43m.\u001B[39;49m\u001B[43m_getitem_axis\u001B[49m\u001B[43m(\u001B[49m\u001B[43mmaybe_callable\u001B[49m\u001B[43m,\u001B[49m\u001B[43m \u001B[49m\u001B[43maxis\u001B[49m\u001B[38;5;241;43m=\u001B[39;49m\u001B[43maxis\u001B[49m\u001B[43m)\u001B[49m\n",
      "File \u001B[1;32mC:\\Program Files\\Python312\\Lib\\site-packages\\pandas\\core\\indexing.py:1743\u001B[0m, in \u001B[0;36m_iLocIndexer._getitem_axis\u001B[1;34m(self, key, axis)\u001B[0m\n\u001B[0;32m   1741\u001B[0m \u001B[38;5;66;03m# a list of integers\u001B[39;00m\n\u001B[0;32m   1742\u001B[0m \u001B[38;5;28;01melif\u001B[39;00m is_list_like_indexer(key):\n\u001B[1;32m-> 1743\u001B[0m     \u001B[38;5;28;01mreturn\u001B[39;00m \u001B[38;5;28;43mself\u001B[39;49m\u001B[38;5;241;43m.\u001B[39;49m\u001B[43m_get_list_axis\u001B[49m\u001B[43m(\u001B[49m\u001B[43mkey\u001B[49m\u001B[43m,\u001B[49m\u001B[43m \u001B[49m\u001B[43maxis\u001B[49m\u001B[38;5;241;43m=\u001B[39;49m\u001B[43maxis\u001B[49m\u001B[43m)\u001B[49m\n\u001B[0;32m   1745\u001B[0m \u001B[38;5;66;03m# a single integer\u001B[39;00m\n\u001B[0;32m   1746\u001B[0m \u001B[38;5;28;01melse\u001B[39;00m:\n\u001B[0;32m   1747\u001B[0m     key \u001B[38;5;241m=\u001B[39m item_from_zerodim(key)\n",
      "File \u001B[1;32mC:\\Program Files\\Python312\\Lib\\site-packages\\pandas\\core\\indexing.py:1717\u001B[0m, in \u001B[0;36m_iLocIndexer._get_list_axis\u001B[1;34m(self, key, axis)\u001B[0m\n\u001B[0;32m   1714\u001B[0m     \u001B[38;5;28;01mreturn\u001B[39;00m \u001B[38;5;28mself\u001B[39m\u001B[38;5;241m.\u001B[39mobj\u001B[38;5;241m.\u001B[39m_take_with_is_copy(key, axis\u001B[38;5;241m=\u001B[39maxis)\n\u001B[0;32m   1715\u001B[0m \u001B[38;5;28;01mexcept\u001B[39;00m \u001B[38;5;167;01mIndexError\u001B[39;00m \u001B[38;5;28;01mas\u001B[39;00m err:\n\u001B[0;32m   1716\u001B[0m     \u001B[38;5;66;03m# re-raise with different error message, e.g. test_getitem_ndarray_3d\u001B[39;00m\n\u001B[1;32m-> 1717\u001B[0m     \u001B[38;5;28;01mraise\u001B[39;00m \u001B[38;5;167;01mIndexError\u001B[39;00m(\u001B[38;5;124m\"\u001B[39m\u001B[38;5;124mpositional indexers are out-of-bounds\u001B[39m\u001B[38;5;124m\"\u001B[39m) \u001B[38;5;28;01mfrom\u001B[39;00m \u001B[38;5;21;01merr\u001B[39;00m\n",
      "\u001B[1;31mIndexError\u001B[0m: positional indexers are out-of-bounds"
     ]
    }
   ],
   "execution_count": 44
  },
  {
   "metadata": {},
   "cell_type": "markdown",
   "source": [
    "Ambos outliers son los dos programas más grandes devueltos por la API de GitHub. ray y llama_index."
   ],
   "id": "fc481c479fdf13fd"
  }
 ],
 "metadata": {
  "kernelspec": {
   "display_name": "Python 3 (ipykernel)",
   "language": "python",
   "name": "python3"
  },
  "language_info": {
   "codemirror_mode": {
    "name": "ipython",
    "version": 3
   },
   "file_extension": ".py",
   "mimetype": "text/x-python",
   "name": "python",
   "nbconvert_exporter": "python",
   "pygments_lexer": "ipython3",
   "version": "3.12.2"
  },
  "toc-autonumbering": true,
  "toc-showcode": false,
  "toc-showmarkdowntxt": false,
  "toc-showtags": false
 },
 "nbformat": 4,
 "nbformat_minor": 5
}
